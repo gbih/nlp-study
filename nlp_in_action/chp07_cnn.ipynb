{
 "cells": [
  {
   "cell_type": "markdown",
   "metadata": {
    "id": "ao8e59KhzlJy"
   },
   "source": [
    "<a id='top'></a><a name='top'></a>\n",
    "# Chapter 7: Getting words in order with convolutional neural networks (CNNs)"
   ]
  },
  {
   "cell_type": "markdown",
   "metadata": {
    "id": "Rj6k4cfozlJ0"
   },
   "source": [
    "* [Introduction](#introduction)\n",
    "* [7.0 Imports and Setup](#7.0)\n",
    "* [7.1 Learning meaning](#7.1)\n",
    "* [7.2 Toolkit](#7.2)\n",
    "* [7.3 Convolutional neural nets](#7.3)\n",
    "    - [7.3.1 Building blocks](#7.3.1)\n",
    "    - [7.3.2 Step size (stride)](#7.3.2)\n",
    "    - [7.3.3 Filter composition](#7.3.3)\n",
    "    - [7.3.4 Padding](#7.3.4)\n",
    "    - [7.3.5 Learning](#7.3.5)\n",
    "* [7.4 Narrow windows indeed](#7.4)\n",
    "    - [7.4.1 Implementation in Keras: prepping the data](#7.4.1)\n",
    "    - [7.4.2 Convolutional neural network architecture](#7.4.2)\n",
    "    - [7.4.3 Pooling](#7.4.3)\n",
    "    - [7.4.4 Dropout](#7.4.4)\n",
    "    - [7.4.5 The cherry on the sundae](#7.4.5)\n",
    "    - [7.4.6 Let's get to learning (training)](#7.4.6)\n",
    "    - [7.4.7 Using the model in a pipeline](#7.4.7)\n",
    "    - [7.4.8 Where do you go from here?](#7.4.8)"
   ]
  },
  {
   "cell_type": "markdown",
   "metadata": {
    "id": "AiM83iGdzlJ2"
   },
   "source": [
    "---\n",
    "<a name='introduction'></a><a id='introduction'></a>\n",
    "# Introduction\n",
    "<a href=\"#top\">[back to top]</a>\n",
    "\n",
    "### Datasets\n",
    "\n",
    "* aclImdb_v1.tar.gz: [script](#aclImdb_v1.tar.gz), [source](https://www.dropbox.com/s/yviic64qv84x73j/aclImdb_v1.tar.gz?dl=1)\n",
    "* GoogleNews-vectors-negative300.bin.gz: [script](#GoogleNews-vectors-negative300.bin.gz), [source](https://www.dropbox.com/s/965dir4dje0hfi4/GoogleNews-vectors-negative300.bin.gz)\n",
    "\n",
    "### Explore\n",
    "\n",
    "* Using neural networks for NLP\n",
    "* Finding meaning in word patterns\n",
    "* Building a CNN\n",
    "* Vectorizing natural language text in a way that suits neural networks\n",
    "* Training a CNN\n",
    "* Classifying the sentiment of novel text\n",
    "\n",
    "### Key points\n",
    "\n",
    "* A convolution is a window sliding over something larger (keeping the focus on a subset on the greater whole).\n",
    "* Neural networks can treat text just as they treat images and \"see\" them.\n",
    "* Handicapping the learning process with dropout actually helps.\n",
    "* Sentiment exists not only in the words but in the patterns that are used.\n",
    "* Neural networks have many knobs you can turn."
   ]
  },
  {
   "cell_type": "markdown",
   "metadata": {
    "id": "YC4Wv0T8zlJ3"
   },
   "source": [
    "---\n",
    "<a name='7.0'></a><a id='7.0'></a>\n",
    "# 7.0 Imports and Setup\n",
    "<a href=\"#top\">[back to top]</a>"
   ]
  },
  {
   "cell_type": "code",
   "execution_count": 1,
   "metadata": {},
   "outputs": [],
   "source": [
    "import os\n",
    "if not os.path.exists('setup'):\n",
    "    os.mkdir('setup')"
   ]
  },
  {
   "cell_type": "code",
   "execution_count": 2,
   "metadata": {},
   "outputs": [],
   "source": [
    "req_file = \"setup/requirements_07.txt\""
   ]
  },
  {
   "cell_type": "code",
   "execution_count": 3,
   "metadata": {},
   "outputs": [
    {
     "name": "stdout",
     "output_type": "stream",
     "text": [
      "Overwriting setup/requirements_07.txt\n"
     ]
    }
   ],
   "source": [
    "%%writefile {req_file}\n",
    "isort\n",
    "scikit-learn-intelex\n",
    "watermark"
   ]
  },
  {
   "cell_type": "code",
   "execution_count": 4,
   "metadata": {},
   "outputs": [
    {
     "name": "stdout",
     "output_type": "stream",
     "text": [
      "Running locally.\n"
     ]
    }
   ],
   "source": [
    "import sys\n",
    "IS_COLAB = 'google.colab' in sys.modules\n",
    "\n",
    "if IS_COLAB:\n",
    "    print(\"Installing packages\")\n",
    "    !pip install --upgrade --quiet -r {req_file}\n",
    "else:\n",
    "    print(\"Running locally.\")"
   ]
  },
  {
   "cell_type": "code",
   "execution_count": 5,
   "metadata": {},
   "outputs": [
    {
     "name": "stderr",
     "output_type": "stream",
     "text": [
      "Intel(R) Extension for Scikit-learn* enabled (https://github.com/intel/scikit-learn-intelex)\n"
     ]
    }
   ],
   "source": [
    "#if IS_COLAB:\n",
    "from sklearnex import patch_sklearn\n",
    "patch_sklearn()"
   ]
  },
  {
   "cell_type": "code",
   "execution_count": 6,
   "metadata": {},
   "outputs": [
    {
     "name": "stdout",
     "output_type": "stream",
     "text": [
      "Overwriting setup/chp07_imports.py\n"
     ]
    }
   ],
   "source": [
    "%%writefile setup/chp07_imports.py\n",
    "import glob\n",
    "import locale\n",
    "import os\n",
    "import pprint\n",
    "import random\n",
    "import shlex\n",
    "import subprocess\n",
    "import warnings\n",
    "from pathlib import Path\n",
    "from random import shuffle\n",
    "\n",
    "import numpy as np\n",
    "import seaborn as sns\n",
    "import tensorflow as tf\n",
    "from gensim.models import KeyedVectors\n",
    "from nltk.tokenize import TreebankWordTokenizer\n",
    "from tensorflow.keras.layers import GRU\n",
    "from tensorflow.keras.layers import LSTM\n",
    "from tensorflow.keras.layers import Activation\n",
    "from tensorflow.keras.layers import Conv1D\n",
    "from tensorflow.keras.layers import Dense\n",
    "from tensorflow.keras.layers import Dropout\n",
    "from tensorflow.keras.layers import Flatten\n",
    "from tensorflow.keras.layers import GlobalMaxPooling1D\n",
    "from tensorflow.keras.models import Sequential\n",
    "from tensorflow.keras.models import model_from_json\n",
    "from tqdm.auto import tqdm\n",
    "from watermark import watermark"
   ]
  },
  {
   "cell_type": "code",
   "execution_count": 7,
   "metadata": {},
   "outputs": [
    {
     "name": "stdout",
     "output_type": "stream",
     "text": [
      "Fixing /Users/gb/Desktop/examples/setup/chp07_imports.py\n",
      "import glob\n",
      "import locale\n",
      "import os\n",
      "import pprint\n",
      "import random\n",
      "import shlex\n",
      "import subprocess\n",
      "import warnings\n",
      "from pathlib import Path\n",
      "from random import shuffle\n",
      "\n",
      "import numpy as np\n",
      "import seaborn as sns\n",
      "import tensorflow as tf\n",
      "from gensim.models import KeyedVectors\n",
      "from nltk.tokenize import TreebankWordTokenizer\n",
      "from tensorflow.keras.layers import GRU\n",
      "from tensorflow.keras.layers import LSTM\n",
      "from tensorflow.keras.layers import Activation\n",
      "from tensorflow.keras.layers import Conv1D\n",
      "from tensorflow.keras.layers import Dense\n",
      "from tensorflow.keras.layers import Dropout\n",
      "from tensorflow.keras.layers import Flatten\n",
      "from tensorflow.keras.layers import GlobalMaxPooling1D\n",
      "from tensorflow.keras.models import Sequential\n",
      "from tensorflow.keras.models import model_from_json\n",
      "from tqdm.auto import tqdm\n",
      "from watermark import watermark\n"
     ]
    }
   ],
   "source": [
    "!isort setup/chp07_imports.py --sl\n",
    "!cat setup/chp07_imports.py"
   ]
  },
  {
   "cell_type": "code",
   "execution_count": 8,
   "metadata": {},
   "outputs": [],
   "source": [
    "import glob\n",
    "import locale\n",
    "import os\n",
    "import pprint\n",
    "import random\n",
    "import shlex\n",
    "import subprocess\n",
    "import warnings\n",
    "from pathlib import Path\n",
    "from random import shuffle\n",
    "\n",
    "import numpy as np\n",
    "import seaborn as sns\n",
    "import tensorflow as tf\n",
    "from gensim.models import KeyedVectors\n",
    "from nltk.tokenize import TreebankWordTokenizer\n",
    "from tensorflow.keras.layers import GRU\n",
    "from tensorflow.keras.layers import LSTM\n",
    "from tensorflow.keras.layers import Activation\n",
    "from tensorflow.keras.layers import Conv1D\n",
    "from tensorflow.keras.layers import Dense\n",
    "from tensorflow.keras.layers import Dropout\n",
    "from tensorflow.keras.layers import Flatten\n",
    "from tensorflow.keras.layers import GlobalMaxPooling1D\n",
    "from tensorflow.keras.models import Sequential\n",
    "from tensorflow.keras.models import model_from_json\n",
    "from tqdm.auto import tqdm\n",
    "from watermark import watermark"
   ]
  },
  {
   "cell_type": "code",
   "execution_count": 9,
   "metadata": {},
   "outputs": [
    {
     "name": "stdout",
     "output_type": "stream",
     "text": [
      "Python implementation: CPython\n",
      "Python version       : 3.8.12\n",
      "IPython version      : 7.34.0\n",
      "\n",
      "Compiler    : Clang 13.0.0 (clang-1300.0.29.3)\n",
      "OS          : Darwin\n",
      "Release     : 21.6.0\n",
      "Machine     : x86_64\n",
      "Processor   : i386\n",
      "CPU cores   : 4\n",
      "Architecture: 64bit\n",
      "\n",
      "tensorflow: 2.9.3\n",
      "numpy     : 1.23.5\n",
      "sys       : 3.8.12 (default, Dec 13 2021, 20:17:08) \n",
      "[Clang 13.0.0 (clang-1300.0.29.3)]\n",
      "seaborn   : 0.12.1\n",
      "\n"
     ]
    }
   ],
   "source": [
    "def HR():\n",
    "    print(\"-\"*40)\n",
    "    \n",
    "def getpreferredencoding(do_setlocale = True):\n",
    "    return \"UTF-8\"\n",
    "\n",
    "locale.getpreferredencoding = getpreferredencoding\n",
    "warnings.filterwarnings('ignore')\n",
    "sns.set_style(\"darkgrid\")\n",
    "tqdm.pandas(desc=\"progress-bar\")\n",
    "pp = pprint.PrettyPrinter(indent=4)\n",
    "random.seed(23)\n",
    "\n",
    "print(watermark(iversions=True,globals_=globals(),python=True,machine=True))"
   ]
  },
  {
   "cell_type": "markdown",
   "metadata": {
    "id": "Ks1f3xCfzlJ7"
   },
   "source": [
    "---\n",
    "<a name='7.1'></a><a id='7.1'></a>\n",
    "# 7.1 Learning meaning\n",
    "<a href=\"#top\">[back to top]</a>\n",
    "\n",
    "Problem: How is semantic meaning learned from words?\n",
    "\n",
    "Idea: There are at least two important ways. One is via *word order*. The second is via *word proximity*. There relationships can be explored for patters in two ways, specially and temporally.\n",
    "\n",
    "Importance: In spatial relationships, we examine a statement as if written on page, where we look for relationships in the position of words. In a temporal relationship, we explore a statement as if spoken, where the words and letters become *time series* data. Spatial data is usually viewed through a fixed-width window. Time series data can extend for an unknown amount of time."
   ]
  },
  {
   "cell_type": "markdown",
   "metadata": {
    "id": "gb-ack9ZzlJ7"
   },
   "source": [
    "---\n",
    "<a name='7.2'></a><a id='7.2'></a>\n",
    "# 7.2 Toolkit\n",
    "<a href=\"#top\">[back to top]</a>\n",
    "\n",
    "Problem: How can we create neural nets at a high-level?\n",
    "\n",
    "Idea: There are several popular frameworks in Python, including Keras and PyTorch."
   ]
  },
  {
   "cell_type": "markdown",
   "metadata": {
    "id": "U6sT7rGQzlJ8"
   },
   "source": [
    "---\n",
    "<a name='7.3'></a><a id='7.3'></a>\n",
    "# 7.3 Convolutional neural nets\n",
    "<a href=\"#top\">[back to top]</a>\n",
    "\n",
    "Problem: What is the basic concept of *convolutional neural nets*?\n",
    "\n",
    "Idea: Slide (or convolve) a small window over the data sample. Convolutions appear in many places in mathematics, and they're usually related to time series data. "
   ]
  },
  {
   "cell_type": "markdown",
   "metadata": {
    "id": "t4LaRTg8zlJ9"
   },
   "source": [
    "<a name='7.3.1'></a><a id='7.3.1'></a>\n",
    "## 7.3.1 Building blocks\n",
    "<a href=\"#top\">[back to top]</a>\n",
    "\n",
    "Problem: What is the basic mechanism of CNNs?\n",
    "\n",
    "Idea: A CNN does not assign a weight to each element (eg an image pixel), as in a traditional feedforward net. Instead, it defines a set of filters (also called *kernels*) that move across the image. This is the *convolution*.\n",
    "\n",
    "Importance: This sliding/snapshot mechanism enables highly parallelizable neural networks. Each snapshot for a given data sample can be calculated independently of all the others for that given data sample. There is no need to wait for the first snapshot to happen before taking the second. "
   ]
  },
  {
   "cell_type": "markdown",
   "metadata": {
    "id": "c7aWVg7ozlJ-"
   },
   "source": [
    "<a name='7.3.2'></a><a id='7.3.2'></a>\n",
    "## 7.3.2 Step size (stride)\n",
    "<a href=\"#top\">[back to top]</a>\n",
    "\n",
    "Problem: What is the distance traveled during the sliding phase?\n",
    "\n",
    "Idea: This is called the *stride*, and usually set to 1. \n",
    "\n",
    "Importance: A stride value of 1 creates overlap in the various inputs to the filter from one position to the next. A larger stride that has no overlap between filter applications will lose the blurring effect of one pixel or token relating to its neighbors. "
   ]
  },
  {
   "cell_type": "markdown",
   "metadata": {
    "id": "N7ky-r_ZzlJ-"
   },
   "source": [
    "<a name='7.3.3'></a><a id='7.3.3'></a>\n",
    "## 7.3.3 Filter composition\n",
    "<a href=\"#top\">[back to top]</a>\n",
    "\n",
    "Problem: What is filter composition?\n",
    "\n",
    "Idea: A filtering neuron (as a set of weights) and an activation function are used to output a set of *feature maps*, which are new filtered images. For *n* filter, *n* new filtered images are returned. This is called a feature map because it is a mapping of where a certain kind of feature is found in the image. CNNs sesarch for  features such as lines, edges, objects, etc\n",
    "\n",
    "Importance: We capture the features in space of input patterns in via this mechanism."
   ]
  },
  {
   "cell_type": "markdown",
   "metadata": {
    "id": "DYs9EcEvzlJ_"
   },
   "source": [
    "<a name='7.3.4'></a><a id='7.3.4'></a>\n",
    "## 7.3.4 Padding\n",
    "<a href=\"#top\">[back to top]</a>\n",
    "\n",
    "Problem: What is padding?\n",
    "\n",
    "Idea: Padding referes to the amount of pixels added to an image when it is being processed by the kernel of a CNN. In Keras, `padding='valid'` results in no padding, hence no additional pixels are added. `padding='same'` results in the layer's outputs having the same spatial dimensions as its inputs, assuming a stride value of 1."
   ]
  },
  {
   "cell_type": "markdown",
   "metadata": {
    "id": "FTeLRnibzlKA"
   },
   "source": [
    "<a name='7.3.5'></a><a id='7.3.5'></a>\n",
    "## 7.3.5 Learning\n",
    "<a href=\"#top\">[back to top]</a>\n",
    "\n",
    "Problem: How does learning in CNN differ from a regular feedforward network?\n",
    "\n",
    "Idea: They are basically the same. Both calculate how much each particular weight contributes to the overall error of the system. Both then calculate how best to correct that error to a weight that will cause less error in future training examples. "
   ]
  },
  {
   "cell_type": "markdown",
   "metadata": {
    "id": "Taqm5K_kzlKA"
   },
   "source": [
    "---\n",
    "<a name='7.4'></a><a id='7.4'></a>\n",
    "# 7.4 Narrow windows indeed\n",
    "<a href=\"#top\">[back to top]</a>\n",
    "\n",
    "Problem: How does CNN differ when used on images vs words?\n",
    "\n",
    "Idea: When used on CNN, it uses a 2D filter to convolve over a 2D picture input. When used on natural language processing, the input is word vectors (*word embeddings*), in a 1D dimension. Hence instead of a 2D filter, we use a 1D filter to focus on relationships of tokens in one spatial dimension. This is horizontal in the case of the English language. The CNN filter shape for words vectors will also be one-dimensional. "
   ]
  },
  {
   "cell_type": "markdown",
   "metadata": {
    "id": "qBpghrALzlKA"
   },
   "source": [
    "<a name='7.4.1'></a><a id='7.4.1'></a>\n",
    "## 7.4.1 Implementation in Keras: prepping the data\n",
    "<a href=\"#top\">[back to top]</a>\n",
    "\n",
    "Problem: How to preprocess NLP data for a CNN?\n",
    "\n",
    "Idea: Use Keras to tokenize and vectorizer the dataset, then create a train/test split\n",
    "\n",
    "Importance: This is often the most time-consuming and complex step of a machine-learning pipeline.\n",
    "\n",
    "**1. Download the dataset**"
   ]
  },
  {
   "cell_type": "markdown",
   "metadata": {},
   "source": [
    "<a id='aclImdb_v1.tar.gz'></a><a name='aclImdb_v1.tar.gz'></a>\n",
    "### Dataset: aclImdb_v1.tar.gz\n",
    "<a href=\"#top\">[back to top]</a>"
   ]
  },
  {
   "cell_type": "code",
   "execution_count": 10,
   "metadata": {
    "colab": {
     "base_uri": "https://localhost:8080/"
    },
    "id": "aunnKpb7zlKB",
    "outputId": "6dc24dd7-d930-48d8-d0fb-bf17a52f76bf"
   },
   "outputs": [
    {
     "name": "stdout",
     "output_type": "stream",
     "text": [
      "\n",
      "data_imdb_file:\taclImdb_v1.tar.gz\n",
      "data_imdb_url:\thttps://www.dropbox.com/s/yviic64qv84x73j/aclImdb_v1.tar.gz?dl=1\n",
      "data_imdb_dir:\tdata/data_imdb\n",
      "data_imdb_src:\tdata/data_imdb/aclImdb_v1.tar.gz\n",
      "data_imdb_path:\tdata/data_imdb/aclImdb\n",
      "\n"
     ]
    }
   ],
   "source": [
    "data_imdb_file = \"aclImdb_v1.tar.gz\"\n",
    "data_imdb_url = f\"https://www.dropbox.com/s/yviic64qv84x73j/{data_imdb_file}?dl=1\"\n",
    "data_imdb_dir = Path(\"data/data_imdb\")\n",
    "data_imdb_src = data_imdb_dir / data_imdb_file\n",
    "data_imdb_path = data_imdb_dir / \"aclImdb\"\n",
    "\n",
    "print(f\"\"\"\n",
    "data_imdb_file:\\t{data_imdb_file}\n",
    "data_imdb_url:\\t{data_imdb_url}\n",
    "data_imdb_dir:\\t{data_imdb_dir}\n",
    "data_imdb_src:\\t{data_imdb_src}\n",
    "data_imdb_path:\\t{data_imdb_path}\n",
    "\"\"\")"
   ]
  },
  {
   "cell_type": "code",
   "execution_count": 11,
   "metadata": {
    "colab": {
     "base_uri": "https://localhost:8080/"
    },
    "id": "sLOFJXxVzlKC",
    "outputId": "b654a1e9-a546-402c-ca57-a2563aac35ec"
   },
   "outputs": [
    {
     "name": "stdout",
     "output_type": "stream",
     "text": [
      "data/data_imdb/aclImdb_v1.tar.gz exists.\n"
     ]
    }
   ],
   "source": [
    "if not os.path.exists(data_imdb_dir):\n",
    "    os.mkdir(data_imdb_dir)\n",
    "    \n",
    "if not data_imdb_src.is_file():\n",
    "    print(f\"Downloading {data_imdb_url} to {data_imdb_src}\")\n",
    "    subprocess.run(shlex.split(f\"wget -q -O {data_imdb_src} {data_imdb_url}\"))\n",
    "    print(\"Done.\")\n",
    "else:\n",
    "    print(f\"{data_imdb_src} exists.\")"
   ]
  },
  {
   "cell_type": "code",
   "execution_count": 12,
   "metadata": {
    "colab": {
     "base_uri": "https://localhost:8080/"
    },
    "id": "Q6l2IEN0zlKC",
    "outputId": "2a8e42bb-cf27-4fe5-d1e9-29623ba4c9f0"
   },
   "outputs": [
    {
     "name": "stdout",
     "output_type": "stream",
     "text": [
      "data/data_imdb/aclImdb exists\n"
     ]
    }
   ],
   "source": [
    "if not data_imdb_path.is_dir():\n",
    "    os.makedirs(data_imdb_path, exist_ok=True)\n",
    "    print(\"Extracting file\")\n",
    "    subprocess.run(shlex.split(f\"tar -xf {data_imdb_src} -C {data_imdb_path}\"))\n",
    "    print(\"Done.\")\n",
    "else:\n",
    "    print(f\"{data_imdb_path} exists\")"
   ]
  },
  {
   "cell_type": "code",
   "execution_count": 13,
   "metadata": {
    "colab": {
     "base_uri": "https://localhost:8080/"
    },
    "id": "c0rToLYC0VX-",
    "outputId": "f653c1c2-3f68-4228-daa6-34d850e8658b"
   },
   "outputs": [
    {
     "name": "stdout",
     "output_type": "stream",
     "text": [
      " 50M\tdata/data_imdb/aclImdb/aclImdb/test/neg\n",
      " 50M\tdata/data_imdb/aclImdb/aclImdb/test/pos\n",
      "121M\tdata/data_imdb/aclImdb/aclImdb/test\n",
      " 50M\tdata/data_imdb/aclImdb/aclImdb/train/neg\n",
      "201M\tdata/data_imdb/aclImdb/aclImdb/train/unsup\n",
      " 50M\tdata/data_imdb/aclImdb/aclImdb/train/pos\n",
      "365M\tdata/data_imdb/aclImdb/aclImdb/train\n",
      "487M\tdata/data_imdb/aclImdb/aclImdb\n",
      "487M\tdata/data_imdb/aclImdb\n"
     ]
    }
   ],
   "source": [
    "!du -h {data_imdb_path}"
   ]
  },
  {
   "cell_type": "markdown",
   "metadata": {},
   "source": [
    "<a id='GoogleNews-vectors-negative300.bin.gz'></a><a name='GoogleNews-vectors-negative300.bin.gz'></a>\n",
    "### Dataset: GoogleNews-vectors-negative300.bin.gz\n",
    "<a href=\"#top\">[back to top]</a>"
   ]
  },
  {
   "cell_type": "code",
   "execution_count": 14,
   "metadata": {},
   "outputs": [
    {
     "name": "stdout",
     "output_type": "stream",
     "text": [
      "File ‘data/data_word2vec/GoogleNews-vectors-negative300.bin.gz’ already there; not retrieving.\n",
      "total 3216888\n",
      "-rw-r--r--  1 gb  staff  1647046227 Mar 25 12:29 GoogleNews-vectors-negative300.bin.gz\n"
     ]
    }
   ],
   "source": [
    "data_gn_dir = 'data/data_word2vec'\n",
    "if not os.path.exists(data_gn_dir):\n",
    "    os.mkdir(data_gn_dir)\n",
    "\n",
    "data_gn_file = 'GoogleNews-vectors-negative300.bin.gz'\n",
    "data_gn_path = f\"{data_gn_dir}/{data_gn_file}\"\n",
    "!wget -P {data_gn_dir} -O {data_gn_path} -nc \"https://www.dropbox.com/s/965dir4dje0hfi4/GoogleNews-vectors-negative300.bin.gz/GoogleNews-vectors-negative300.bin.gz?dl=1\"\n",
    "!ls -l {data_gn_dir}"
   ]
  },
  {
   "cell_type": "code",
   "execution_count": 15,
   "metadata": {},
   "outputs": [
    {
     "name": "stdout",
     "output_type": "stream",
     "text": [
      "1.5G\tdata/data_word2vec/GoogleNews-vectors-negative300.bin.gz\n"
     ]
    }
   ],
   "source": [
    "!du -h {data_gn_path}"
   ]
  },
  {
   "cell_type": "markdown",
   "metadata": {
    "id": "MH_LDjm2-trF"
   },
   "source": [
    "---\n",
    "Working with word vectors can be memory intensive. If your available memory is limited or if you don’t want to wait minutes for the word vector model to load, you can reduce the number of words loaded into memory by passing in the limit keyword argument. In the following example, you’ll load the 200k most common words from the Google News corpus.\n",
    "\n",
    "However, a word vector model with a limited vocabulary will lead to a lower performance of your NLP pipeline if your documents contain words that you haven’t loaded word vectors for. Therefore, you probably only want to limit the size of your word vector model during the development phase. For the rest of the examples in this chapter, you should use the complete Word2vec model if you want to get the same results we show here."
   ]
  },
  {
   "cell_type": "code",
   "execution_count": 16,
   "metadata": {
    "id": "GVLCdU4K1HdO"
   },
   "outputs": [],
   "source": [
    "# Constants for IMDB training data and Word2vec data\n",
    "TRAINING_DATA_N = 2_000 # ok: 1000, 2000 / 10_000 results in a crash\n",
    "\n",
    "# Possible values:\n",
    "# None\n",
    "# 200_000 most common words from the Google News corpus\n",
    "WORD_2_VEC_N = 200_000"
   ]
  },
  {
   "cell_type": "markdown",
   "metadata": {
    "id": "JhHfm-jUzlKC"
   },
   "source": [
    "**2. Read and shuffle dataset**"
   ]
  },
  {
   "cell_type": "code",
   "execution_count": 17,
   "metadata": {
    "id": "gfBlESKNzlKC"
   },
   "outputs": [],
   "source": [
    "def pre_process_data(filepath):\n",
    "    \"\"\"\n",
    "    This is dependent on your training data source but we will try to generalize it as best as possible.\n",
    "    \"\"\"\n",
    "    positive_path = os.path.join(filepath, 'pos')\n",
    "    negative_path = os.path.join(filepath, 'neg')    \n",
    "    pos_label = 1\n",
    "    neg_label = 0\n",
    "    \n",
    "    dataset = []\n",
    "    \n",
    "    for i, filename in enumerate(glob.glob(os.path.join(positive_path, '*.txt'))):\n",
    "        if i < TRAINING_DATA_N:\n",
    "            with open(filename, 'r') as f:\n",
    "                dataset.append((pos_label, f.read()))\n",
    "        else:\n",
    "            break\n",
    "                \n",
    "    for i, filename in enumerate(glob.glob(os.path.join(negative_path, '*.txt'))):\n",
    "        if i < TRAINING_DATA_N:\n",
    "            with open(filename, 'r') as f:\n",
    "                dataset.append((neg_label, f.read()))\n",
    "        else:\n",
    "            break\n",
    "            \n",
    "    shuffle(dataset)\n",
    "    \n",
    "    return dataset"
   ]
  },
  {
   "cell_type": "code",
   "execution_count": 18,
   "metadata": {
    "colab": {
     "base_uri": "https://localhost:8080/"
    },
    "id": "KQWY207X1xb3",
    "outputId": "cdbd6f17-8816-44d8-9256-c10f76222d72"
   },
   "outputs": [
    {
     "name": "stdout",
     "output_type": "stream",
     "text": [
      "CPU times: user 4.26 s, sys: 352 ms, total: 4.61 s\n",
      "Wall time: 4.84 s\n"
     ]
    }
   ],
   "source": [
    "%%time\n",
    "# Load GoogleNews Word2Vec vocabulary\n",
    "word_vectors = KeyedVectors.load_word2vec_format(\n",
    "    data_gn_path, \n",
    "    binary=True, \n",
    "    limit=WORD_2_VEC_N\n",
    ")"
   ]
  },
  {
   "cell_type": "code",
   "execution_count": 19,
   "metadata": {
    "id": "lLillxbj1xer"
   },
   "outputs": [],
   "source": [
    "# Listing 8.3 Data tokenizer + vectorizer\n",
    "# Tokenize and vectorize the IMDB dataset using the Google Word2vec model\n",
    "def tokenize_and_vectorize(dataset):\n",
    "    tokenizer = TreebankWordTokenizer()\n",
    "    vectorized_data = []\n",
    "    expected = []\n",
    "    for sample in dataset:\n",
    "        tokens = tokenizer.tokenize(sample[1])\n",
    "        sample_vecs = []\n",
    "        for token in tokens:\n",
    "            try:\n",
    "                sample_vecs.append(word_vectors[token])\n",
    "\n",
    "            except KeyError:\n",
    "                pass  # No matching token in the Google w2v vocab\n",
    "            \n",
    "        vectorized_data.append(sample_vecs)\n",
    "\n",
    "    return vectorized_data"
   ]
  },
  {
   "cell_type": "code",
   "execution_count": 20,
   "metadata": {
    "colab": {
     "base_uri": "https://localhost:8080/"
    },
    "id": "oeNxEi6G1xhX",
    "outputId": "233c752d-bdc8-4e8c-8a9f-04bdcb54ed89"
   },
   "outputs": [
    {
     "data": {
      "text/plain": [
       "array([ 0.05126953, -0.02233887, -0.17285156,  0.16113281, -0.08447266],\n",
       "      dtype=float32)"
      ]
     },
     "execution_count": 20,
     "metadata": {},
     "output_type": "execute_result"
    }
   ],
   "source": [
    "word_vectors[\"dog\"][:5]"
   ]
  },
  {
   "cell_type": "code",
   "execution_count": 21,
   "metadata": {
    "id": "TEv5tySd1xj5"
   },
   "outputs": [],
   "source": [
    "# Target unzipper\n",
    "def collect_expected(dataset):\n",
    "    \"\"\"Peel off the target values from the dataset \"\"\"\n",
    "    expected = []\n",
    "    for sample in dataset:\n",
    "        expected.append(sample[0])\n",
    "    return expected"
   ]
  },
  {
   "cell_type": "code",
   "execution_count": 22,
   "metadata": {
    "colab": {
     "base_uri": "https://localhost:8080/"
    },
    "id": "1MVz1AzD1xmX",
    "outputId": "18eb9ce8-1bac-4b81-c3cf-b7375b1a2663"
   },
   "outputs": [
    {
     "name": "stdout",
     "output_type": "stream",
     "text": [
      " 50M\tdata/data_imdb/aclImdb/aclImdb/train/neg\n",
      "201M\tdata/data_imdb/aclImdb/aclImdb/train/unsup\n",
      " 50M\tdata/data_imdb/aclImdb/aclImdb/train/pos\n",
      "365M\tdata/data_imdb/aclImdb/aclImdb/train\n"
     ]
    }
   ],
   "source": [
    "!du -h {data_imdb_path}/aclImdb/train"
   ]
  },
  {
   "cell_type": "markdown",
   "metadata": {
    "id": "btNj8IPqzlKG"
   },
   "source": [
    "**3. Vectorize and tokenize datasets**"
   ]
  },
  {
   "cell_type": "code",
   "execution_count": 23,
   "metadata": {
    "colab": {
     "base_uri": "https://localhost:8080/"
    },
    "id": "4PwyfzvD2PXZ",
    "outputId": "0495819d-e3c9-44e0-d8a3-eb19bb15c6fe"
   },
   "outputs": [
    {
     "name": "stdout",
     "output_type": "stream",
     "text": [
      "Preprocess training dataset\n",
      "Create vectorized data\n",
      "Preprocess target dataset\n",
      "CPU times: user 6.02 s, sys: 741 ms, total: 6.76 s\n",
      "Wall time: 8.37 s\n"
     ]
    }
   ],
   "source": [
    "%%time\n",
    "# Load and prepare the data\n",
    "print(\"Preprocess training dataset\")\n",
    "dataset = pre_process_data(f\"{data_imdb_path}/aclImdb/train\")\n",
    "\n",
    "print(\"Create vectorized data\")\n",
    "vectorized_data = tokenize_and_vectorize(dataset)\n",
    "\n",
    "print(\"Preprocess target dataset\")\n",
    "expected = collect_expected(dataset)"
   ]
  },
  {
   "cell_type": "code",
   "execution_count": 24,
   "metadata": {
    "colab": {
     "base_uri": "https://localhost:8080/"
    },
    "id": "ytA1YhA_2PaK",
    "outputId": "3c8093cc-002c-4f36-806b-4ef760aa25de"
   },
   "outputs": [
    {
     "name": "stdout",
     "output_type": "stream",
     "text": [
      "4000\n",
      "4000\n",
      "4000\n"
     ]
    }
   ],
   "source": [
    "print(len(dataset))\n",
    "print(len(vectorized_data))\n",
    "print(len(expected))"
   ]
  },
  {
   "cell_type": "markdown",
   "metadata": {
    "id": "ZTuzdrHMzlKJ"
   },
   "source": [
    "**4. Create train / test split**"
   ]
  },
  {
   "cell_type": "code",
   "execution_count": 25,
   "metadata": {
    "colab": {
     "base_uri": "https://localhost:8080/"
    },
    "id": "4fGSsqDazlKJ",
    "outputId": "79a5549e-2e1b-4f34-b7fa-346dafb6e567"
   },
   "outputs": [
    {
     "name": "stdout",
     "output_type": "stream",
     "text": [
      "Done\n",
      "CPU times: user 999 µs, sys: 884 µs, total: 1.88 ms\n",
      "Wall time: 3.27 ms\n"
     ]
    }
   ],
   "source": [
    "%%time\n",
    "split_point = int(len(vectorized_data)*.8)\n",
    "\n",
    "x_train = vectorized_data[:split_point]\n",
    "y_train = expected[:split_point]\n",
    "x_test = vectorized_data[split_point:]\n",
    "y_test = expected[split_point:]\n",
    "print(\"Done\")"
   ]
  },
  {
   "cell_type": "code",
   "execution_count": 26,
   "metadata": {
    "colab": {
     "base_uri": "https://localhost:8080/"
    },
    "id": "rODqM5MTzlKJ",
    "outputId": "0c9de125-8ee8-4aa2-e066-afc86f6d691c"
   },
   "outputs": [
    {
     "name": "stdout",
     "output_type": "stream",
     "text": [
      "<class 'list'>\n",
      "----------------------------------------\n",
      "3200\n",
      "3200\n",
      "800\n",
      "800\n"
     ]
    }
   ],
   "source": [
    "print(type(x_train))\n",
    "HR()\n",
    "print(len(x_train))\n",
    "print(len(y_train))\n",
    "print(len(x_test))\n",
    "print(len(y_test))"
   ]
  },
  {
   "cell_type": "code",
   "execution_count": 27,
   "metadata": {
    "id": "ctIWVmAJzlKJ"
   },
   "outputs": [],
   "source": [
    "# Initialize your network parameters\n",
    "maxlen = 400\n",
    "batch_size = 32         # How many samples to show the net before backpropogating the error and updating the weights\n",
    "embedding_dims = 300    # Length of the token vectors we will create for passing into the Convnet\n",
    "filters = 250           # Number of filters we will train\n",
    "kernel_size = 3         # The width of the filters, actual filters will each be a matrix of weights of size: embedding_dims x kernel_size or 50 x 3 in our case\n",
    "hidden_dims = 250       # Number of neurons in the plain feed forward net at the end of the chain\n",
    "epochs = 5 # 10              # Number of times we will pass the entire training dataset through the network"
   ]
  },
  {
   "cell_type": "markdown",
   "metadata": {
    "id": "F7pn4zPCzlKK"
   },
   "source": [
    "**5. Handle padding for CNN model**\n",
    "\n",
    "Each input to a CNN must be equal in dimension. Here we truncate any sample longer than 400 tokens, and pad shorter samples out to 400 tokens with Null or 0. We can also use \"PAD\" tokens."
   ]
  },
  {
   "cell_type": "code",
   "execution_count": 28,
   "metadata": {
    "id": "Y_bvNXP3zlKK"
   },
   "outputs": [],
   "source": [
    "# Must manually pad/truncate\n",
    "\n",
    "def pad_trunc(data, maxlen):\n",
    "    \"\"\" For a given dataset pad with zero vectors or truncate to maxlen \"\"\"\n",
    "    new_data = []\n",
    "\n",
    "    # Create a vector of 0's the length of our word vectors\n",
    "    zero_vector = []\n",
    "    for _ in range(len(data[0][0])):\n",
    "        zero_vector.append(0.0)\n",
    "\n",
    "    for sample in data:\n",
    " \n",
    "        if len(sample) > maxlen:\n",
    "            temp = sample[:maxlen]\n",
    "        elif len(sample) < maxlen:\n",
    "            temp = sample\n",
    "            additional_elems = maxlen - len(sample)\n",
    "            for _ in range(additional_elems):\n",
    "                temp.append(zero_vector)\n",
    "        else:\n",
    "            temp = sample\n",
    "        new_data.append(temp)\n",
    "    return new_data"
   ]
  },
  {
   "cell_type": "markdown",
   "metadata": {
    "id": "bL-a11gdzlKK"
   },
   "source": [
    "**6. Convert to numpy arrays**\n",
    "\n",
    "We want our dataset to have this shape:\n",
    "\n",
    "    x_train: (20000, 400, 300)\n",
    "    y_train: (20000,)\n",
    "    \n",
    "    x_test: (5000, 400, 300)\n",
    "    y_test: (5000,)"
   ]
  },
  {
   "cell_type": "code",
   "execution_count": 29,
   "metadata": {
    "colab": {
     "base_uri": "https://localhost:8080/"
    },
    "id": "y5DZdONSzlKL",
    "outputId": "30931f6b-28fd-4490-9f60-3051196c66a3"
   },
   "outputs": [
    {
     "name": "stdout",
     "output_type": "stream",
     "text": [
      "Creating train/test split. This may require more time to complete.\n",
      "Done\n",
      "CPU times: user 102 ms, sys: 13.1 ms, total: 115 ms\n",
      "Wall time: 138 ms\n"
     ]
    }
   ],
   "source": [
    "%%time\n",
    "# This may require a lot of memory and crash Colab.\n",
    "print(\"Creating train/test split. This may require more time to complete.\")\n",
    "x_train = pad_trunc(x_train, maxlen)\n",
    "x_test = pad_trunc(x_test, maxlen)\n",
    "print(\"Done\")"
   ]
  },
  {
   "cell_type": "markdown",
   "metadata": {
    "id": "VBVR0OeK34sC"
   },
   "source": [
    "**Note**\n",
    "\n",
    "Creating a huge Python list and then casting it to a Numpy array requires too much memory, and this crashes on Colab.\n",
    "\n",
    "One response to create a list small enough so it doesn't exceed available memory.\n",
    "\n",
    "Another is to create a numpy array without \"casting\" a list (or other iterable), by using one of the several methods defined by numpy itself that returns array:\n",
    "\n",
    "    np.empty, np.zeros, np.ones, np.full \n",
    "    \n",
    "These create arrays of given size with fixed values. However, the array size/shape must be known beforehand."
   ]
  },
  {
   "cell_type": "code",
   "execution_count": 30,
   "metadata": {
    "colab": {
     "base_uri": "https://localhost:8080/"
    },
    "id": "53EOqhLHzlKL",
    "outputId": "c6ce4a53-65b8-4cb9-ee71-49b19ef3b3a9"
   },
   "outputs": [
    {
     "name": "stdout",
     "output_type": "stream",
     "text": [
      "Reshaping train/test split.\n",
      "Done\n",
      "CPU times: user 22.6 s, sys: 2.64 s, total: 25.2 s\n",
      "Wall time: 33.1 s\n"
     ]
    }
   ],
   "source": [
    "%%time\n",
    "print(\"Reshaping train/test split.\")\n",
    "x_train = np.reshape(x_train, (len(x_train), maxlen, embedding_dims))\n",
    "y_train = np.array(y_train)\n",
    "x_test = np.reshape(x_test, (len(x_test), maxlen, embedding_dims))\n",
    "y_test = np.array(y_test)\n",
    "print(\"Done\")"
   ]
  },
  {
   "cell_type": "code",
   "execution_count": 31,
   "metadata": {
    "colab": {
     "base_uri": "https://localhost:8080/"
    },
    "id": "mt5gddkSzlKM",
    "outputId": "7d91bcc8-5d6c-4853-dd97-698bcdd55380"
   },
   "outputs": [
    {
     "name": "stdout",
     "output_type": "stream",
     "text": [
      "<class 'numpy.ndarray'>\n",
      "----------------------------------------\n",
      "x_train: (3200, 400, 300)\n",
      "y_train: (3200,)\n",
      "x_test: (800, 400, 300)\n",
      "y_test: (800,)\n"
     ]
    }
   ],
   "source": [
    "print(type(x_train))\n",
    "HR()\n",
    "print(f\"x_train: {x_train.shape}\")\n",
    "print(f\"y_train: {y_train.shape}\")\n",
    "print(f\"x_test: {x_test.shape}\")\n",
    "print(f\"y_test: {y_test.shape}\")"
   ]
  },
  {
   "cell_type": "markdown",
   "metadata": {
    "id": "CV15PmM-zlKM"
   },
   "source": [
    "<a name='7.4.2'></a><a id='7.4.2'></a>\n",
    "## 7.4.2 Convolutional neural network architecture\n",
    "<a href=\"#top\">[back to top]</a>\n",
    "\n",
    "Problem: What are the steps to create a CNN architecture?\n",
    "\n",
    "Idea: \n",
    "Use the Keras API for a Conv1D layer, which will learn filters:\n",
    "* Use the Keras API to add a convolutional layer via `keras.layers.Conv1D`. \n",
    "* Use an output of smaller dimension than the input via `padding='valid'`. \n",
    "* Each shift (stride) in the convolution will be one token via `strides=1`. \n",
    "* The kernel (window width) is set to 3 tokens via `kernel_size`. \n",
    "* Use the 'relu' activation function via `activation='relu'` \n"
   ]
  },
  {
   "cell_type": "code",
   "execution_count": 32,
   "metadata": {
    "colab": {
     "base_uri": "https://localhost:8080/"
    },
    "id": "GAeY3FCEzlKM",
    "outputId": "7b095c26-c5c6-4fb0-b3e4-67487a1e07e7"
   },
   "outputs": [
    {
     "name": "stdout",
     "output_type": "stream",
     "text": [
      "Build model...\n",
      "CPU times: user 92.6 ms, sys: 56.5 ms, total: 149 ms\n",
      "Wall time: 252 ms\n"
     ]
    },
    {
     "name": "stderr",
     "output_type": "stream",
     "text": [
      "2023-03-29 22:29:03.163499: I tensorflow/core/platform/cpu_feature_guard.cc:193] This TensorFlow binary is optimized with oneAPI Deep Neural Network Library (oneDNN) to use the following CPU instructions in performance-critical operations:  AVX2 FMA\n",
      "To enable them in other operations, rebuild TensorFlow with the appropriate compiler flags.\n"
     ]
    }
   ],
   "source": [
    "%%time\n",
    "print('Build model...')\n",
    "model = Sequential()\n",
    "\n",
    "# Add a Convolution1D, which will learn filters\n",
    "# word group filters of size filter_length\n",
    "model.add(\n",
    "    Conv1D(\n",
    "        filters,\n",
    "        kernel_size=kernel_size,\n",
    "        padding='valid',\n",
    "        activation='relu',\n",
    "        strides=1,\n",
    "        input_shape=(maxlen, embedding_dims)\n",
    "    )\n",
    ")"
   ]
  },
  {
   "cell_type": "markdown",
   "metadata": {
    "id": "Dqtp0OC0zlKN"
   },
   "source": [
    "<a name='7.4.3'></a><a id='7.4.3'></a>\n",
    "## 7.4.3 Pooling\n",
    "<a href=\"#top\">[back to top]</a>\n",
    "\n",
    "Problem: How can we do dimensionality reduction in CNN?\n",
    "\n",
    "Idea: Use a pooling layer. We evenly divide the output of each filter into a subsection. Then for each of those subsections, select of compute a representative value. Then set the original output aside, and use the collections of representative values as the input to the next layers.\n",
    "\n",
    "Importance: We get dimensionality reduction and location invariance."
   ]
  },
  {
   "cell_type": "code",
   "execution_count": 33,
   "metadata": {
    "id": "S83EtnZuzlKN"
   },
   "outputs": [],
   "source": [
    "# Use max pooling\n",
    "model.add(GlobalMaxPooling1D())"
   ]
  },
  {
   "cell_type": "markdown",
   "metadata": {
    "id": "fUbbln1nzlKO"
   },
   "source": [
    "<a name='7.4.4'></a><a id='7.4.4'></a>\n",
    "## 7.4.4 Dropout\n",
    "<a href=\"#top\">[back to top]</a>\n",
    "\n",
    "Problem: How can we help prevent overfitting?\n",
    "\n",
    "Idea: Use the Dropout layer. On each training pass, a certain percentage of the input is randomly \"turned off\", so the model is less likely to learn the specifics of the training set (overfitting), and instead learns more nuanced representations of the patterns in the data. \n",
    "\n",
    "Importance: Using a Dropout layer helps the model be able to generalize and make accurate predictions when making inferences on new data."
   ]
  },
  {
   "cell_type": "code",
   "execution_count": 34,
   "metadata": {
    "id": "GKlujic0zlKO"
   },
   "outputs": [],
   "source": [
    "# Add a vanilla hidden layer\n",
    "model.add(Dense(hidden_dims))\n",
    "\n",
    "# Add a Dropout layer\n",
    "model.add(Dropout(0.2))\n",
    "\n",
    "model.add(Activation('relu'))"
   ]
  },
  {
   "cell_type": "markdown",
   "metadata": {
    "id": "5VeeZfEHzlKP"
   },
   "source": [
    "<a name='7.4.5'></a><a id='7.4.5'></a>\n",
    "## 7.4.5 The cherry on the sunday\n",
    "<a href=\"#top\">[back to top]</a>\n",
    "\n",
    "Problem: What to use for the last model layer?\n",
    "\n",
    "Idea: The last layer, or output layer, is the actual classifier. We need a neuron that fires based on the `sigmoid` activation function, which gives a value between 0 and 1. We project onto a single unit output layer and funnel the signal into a sigmoid activation fucntion.\n"
   ]
  },
  {
   "cell_type": "code",
   "execution_count": 35,
   "metadata": {
    "colab": {
     "base_uri": "https://localhost:8080/"
    },
    "id": "iMFK6fPuzlKP",
    "outputId": "8600a991-5902-402c-8b6e-5e0f6d886abb"
   },
   "outputs": [
    {
     "name": "stdout",
     "output_type": "stream",
     "text": [
      "Model: \"sequential\"\n",
      "_________________________________________________________________\n",
      " Layer (type)                Output Shape              Param #   \n",
      "=================================================================\n",
      " conv1d (Conv1D)             (None, 398, 250)          225250    \n",
      "                                                                 \n",
      " global_max_pooling1d (Globa  (None, 250)              0         \n",
      " lMaxPooling1D)                                                  \n",
      "                                                                 \n",
      " dense (Dense)               (None, 250)               62750     \n",
      "                                                                 \n",
      " dropout (Dropout)           (None, 250)               0         \n",
      "                                                                 \n",
      " activation (Activation)     (None, 250)               0         \n",
      "                                                                 \n",
      " dense_1 (Dense)             (None, 1)                 251       \n",
      "                                                                 \n",
      " activation_1 (Activation)   (None, 1)                 0         \n",
      "                                                                 \n",
      "=================================================================\n",
      "Total params: 288,251\n",
      "Trainable params: 288,251\n",
      "Non-trainable params: 0\n",
      "_________________________________________________________________\n"
     ]
    }
   ],
   "source": [
    "# Project onto a single unit output layer, and squash it with a sigmoid\n",
    "model.add(Dense(1))\n",
    "\n",
    "# Use sigmoid used for binary classification\n",
    "model.add(Activation('sigmoid'))\n",
    "\n",
    "model.compile(\n",
    "    loss='binary_crossentropy',\n",
    "    optimizer='adam',\n",
    "    metrics=['accuracy']\n",
    ")\n",
    "\n",
    "model.summary()"
   ]
  },
  {
   "cell_type": "markdown",
   "metadata": {
    "id": "79HgVvTRzlKP"
   },
   "source": [
    "<a name='7.4.6'></a><a id='7.4.6'></a>\n",
    "## 7.4.6 Let's get to learning (training)\n",
    "<a href=\"#top\">[back to top]</a>\n",
    "\n",
    "Problem: We need to actually train the model. We also want to save the model and be able to load it later.\n",
    "\n",
    "Idea: Use the `tf.kerad.Model` API:\n",
    " * Use `tf.keras.Model.fit()` to train the model for a fixed number of epochs (iterations on a dataset).\n",
    " * Use `tf.keras.models.save_model()` and `tf.keras.models.load_model()` to save and load a model in `tf` format.\n",
    " * Use `tf.keras.models.model_to_json()` and `tf.keras.models.model_from_json()` to save and load in JSON format."
   ]
  },
  {
   "cell_type": "code",
   "execution_count": 36,
   "metadata": {
    "colab": {
     "base_uri": "https://localhost:8080/"
    },
    "id": "RmikkFYhzlKP",
    "outputId": "abe17138-2d14-4afa-a750-e6a27f3a118c"
   },
   "outputs": [
    {
     "name": "stdout",
     "output_type": "stream",
     "text": [
      "Start model training\n",
      "Epoch 1/5\n",
      "100/100 [==============================] - 27s 247ms/step - loss: 0.5920 - accuracy: 0.6709 - val_loss: 0.4061 - val_accuracy: 0.8213\n",
      "Epoch 2/5\n",
      "100/100 [==============================] - 30s 303ms/step - loss: 0.2938 - accuracy: 0.8816 - val_loss: 0.3886 - val_accuracy: 0.8250\n",
      "Epoch 3/5\n",
      "100/100 [==============================] - 23s 232ms/step - loss: 0.1087 - accuracy: 0.9731 - val_loss: 0.4037 - val_accuracy: 0.8313\n",
      "Epoch 4/5\n",
      "100/100 [==============================] - 19s 189ms/step - loss: 0.0281 - accuracy: 0.9975 - val_loss: 0.3992 - val_accuracy: 0.8425\n",
      "Epoch 5/5\n",
      "100/100 [==============================] - 28s 280ms/step - loss: 0.0072 - accuracy: 1.0000 - val_loss: 0.4352 - val_accuracy: 0.8487\n",
      "Done\n"
     ]
    }
   ],
   "source": [
    "print(\"Start model training\")\n",
    "\n",
    "hist = model.fit(\n",
    "    x_train, y_train,\n",
    "    batch_size=batch_size,\n",
    "    epochs=epochs,\n",
    "    validation_data=(x_test, y_test)\n",
    ")\n",
    "\n",
    "print(\"Done\")"
   ]
  },
  {
   "cell_type": "code",
   "execution_count": 37,
   "metadata": {
    "colab": {
     "base_uri": "https://localhost:8080/"
    },
    "id": "859DCoF64b2C",
    "outputId": "bc2ec5f9-dbcb-46f7-c9e5-2a9da8c0de33"
   },
   "outputs": [
    {
     "name": "stdout",
     "output_type": "stream",
     "text": [
      "dict_keys(['loss', 'accuracy', 'val_loss', 'val_accuracy'])\n"
     ]
    }
   ],
   "source": [
    "print(hist.history.keys())"
   ]
  },
  {
   "cell_type": "code",
   "execution_count": 38,
   "metadata": {
    "colab": {
     "base_uri": "https://localhost:8080/"
    },
    "id": "8J2eOAZd6TWT",
    "outputId": "2f31c5c3-3ec4-4833-8389-d7c19739741f"
   },
   "outputs": [
    {
     "name": "stdout",
     "output_type": "stream",
     "text": [
      "[0.5919910073280334, 0.29382237792015076, 0.10868116468191147, 0.0281315166503191, 0.007226124871522188]\n",
      "----------------------------------------\n",
      "[0.4061225950717926, 0.38862156867980957, 0.4036911129951477, 0.3992493450641632, 0.4351734519004822]\n",
      "----------------------------------------\n",
      "[0.6709374785423279, 0.8815624713897705, 0.9731249809265137, 0.9975000023841858, 1.0]\n",
      "----------------------------------------\n",
      "[0.8212500214576721, 0.824999988079071, 0.831250011920929, 0.8424999713897705, 0.8487499952316284]\n"
     ]
    }
   ],
   "source": [
    "print(hist.history['loss'])\n",
    "HR()\n",
    "print(hist.history['val_loss'])\n",
    "HR()\n",
    "print(hist.history['accuracy'])\n",
    "HR()\n",
    "print(hist.history['val_accuracy'])"
   ]
  },
  {
   "cell_type": "code",
   "execution_count": 39,
   "metadata": {
    "colab": {
     "base_uri": "https://localhost:8080/",
     "height": 265
    },
    "id": "NGjAT9zM5Wqc",
    "outputId": "e66a4adf-b7d7-41d1-8601-3643c794a64a"
   },
   "outputs": [
    {
     "data": {
      "image/png": "[encoded data removed]",
      "text/plain": [
       "<Figure size 640x480 with 1 Axes>"
      ]
     },
     "metadata": {},
     "output_type": "display_data"
    }
   ],
   "source": [
    "import pandas as pd\n",
    "import matplotlib.pyplot as plt\n",
    "\n",
    "df = pd.DataFrame(hist.history)\n",
    "df.plot(legend=True, grid=True)\n",
    "plt.show()"
   ]
  },
  {
   "cell_type": "code",
   "execution_count": 40,
   "metadata": {
    "colab": {
     "base_uri": "https://localhost:8080/"
    },
    "id": "_ZECY5QlzlKQ",
    "outputId": "bb4fa590-e0a6-4eb7-bb78-2b2caa3e6d54"
   },
   "outputs": [
    {
     "name": "stdout",
     "output_type": "stream",
     "text": [
      "Model saved in json-format.\n",
      "----------------------------------------\n"
     ]
    },
    {
     "name": "stderr",
     "output_type": "stream",
     "text": [
      "WARNING:absl:Found untraced functions such as _jit_compiled_convolution_op while saving (showing 1 of 1). These functions will not be directly callable after loading.\n"
     ]
    },
    {
     "name": "stdout",
     "output_type": "stream",
     "text": [
      "INFO:tensorflow:Assets written to: models/model_chp07/model_cnn/assets\n"
     ]
    },
    {
     "name": "stderr",
     "output_type": "stream",
     "text": [
      "INFO:tensorflow:Assets written to: models/model_chp07/model_cnn/assets\n"
     ]
    },
    {
     "name": "stdout",
     "output_type": "stream",
     "text": [
      "Model saved in tf-format.\n"
     ]
    }
   ],
   "source": [
    "# https://www.tensorflow.org/guide/keras/save_and_serialize#to_json_and_tfkerasmodelsmodel_from_json\n",
    "# Saving the architecture / configuration only, usually as a JSON file\n",
    "\n",
    "model_dir = \"models/model_chp07\"\n",
    "if not os.path.exists(model_dir):\n",
    "    os.mkdir(model_dir)\n",
    "\n",
    "model_structure = model.to_json()\n",
    "\n",
    "with open(f\"{model_dir}/cnn_model.json\", \"w\") as json_file:\n",
    "    json_file.write(model_structure)\n",
    "\n",
    "model.save_weights(f\"{model_dir}/cnn_weights.h5\")\n",
    "print('Model saved in json-format.')\n",
    "\n",
    "HR()\n",
    "\n",
    "model.save(\n",
    "    f'{model_dir}/model_cnn', \n",
    "    overwrite=True,\n",
    "    save_format='tf'\n",
    ")\n",
    "print('Model saved in tf-format.')"
   ]
  },
  {
   "cell_type": "markdown",
   "metadata": {
    "id": "tWvR6b2LzlKQ"
   },
   "source": [
    "<a name='7.4.7'></a><a id='7.4.7'></a>\n",
    "## 7.4.7 Using the model in a pipeline\n",
    "<a href=\"#top\">[back to top]</a>\n",
    "\n",
    "Problem: How to use a trained model?\n",
    "\n",
    "Idea: Pass a new, unseen sample. We reinstatiate our model, if necessary."
   ]
  },
  {
   "cell_type": "code",
   "execution_count": 41,
   "metadata": {
    "colab": {
     "base_uri": "https://localhost:8080/"
    },
    "id": "pU_EjbiXzlKQ",
    "outputId": "b4ae5453-9627-4c1e-ff8a-9a68a64065e7"
   },
   "outputs": [
    {
     "name": "stdout",
     "output_type": "stream",
     "text": [
      "Reinstatiating json-format model.\n",
      "Done\n"
     ]
    }
   ],
   "source": [
    "from keras.models import model_from_json\n",
    "\n",
    "print(\"Reinstatiating json-format model.\")\n",
    "# Load json-format model.\n",
    "with open(f\"{model_dir}/cnn_model.json\", \"r\") as json_file:\n",
    "    json_string = json_file.read()\n",
    "model = model_from_json(json_string)\n",
    "\n",
    "model.load_weights(f'{model_dir}/cnn_weights.h5')\n",
    "print(\"Done\")"
   ]
  },
  {
   "cell_type": "code",
   "execution_count": 42,
   "metadata": {
    "colab": {
     "base_uri": "https://localhost:8080/"
    },
    "id": "LVxJKRI0zlKR",
    "outputId": "8d434e6c-35bf-41d0-dead-3ee504569a45"
   },
   "outputs": [
    {
     "name": "stdout",
     "output_type": "stream",
     "text": [
      "Reinstatiating tf-format model.\n",
      "Done\n"
     ]
    }
   ],
   "source": [
    "# Load tf-format model.\n",
    "print(\"Reinstatiating tf-format model.\")\n",
    "model2 = tf.keras.models.load_model(f'{model_dir}/model_cnn')\n",
    "model2\n",
    "print(\"Done\")"
   ]
  },
  {
   "cell_type": "code",
   "execution_count": 43,
   "metadata": {
    "id": "2GnC23EyzlKR"
   },
   "outputs": [],
   "source": [
    "sample_1 = \"\"\"I'm hate that the dismal weather that had me down for so long, \n",
    "when will it break! Ugh, when does happiness return?  \n",
    "The sun is blinding and the puffy clouds are too thin.  \n",
    "I can't wait for the weekend.\"\"\""
   ]
  },
  {
   "cell_type": "code",
   "execution_count": 44,
   "metadata": {
    "colab": {
     "base_uri": "https://localhost:8080/"
    },
    "id": "nFHDobnZzlKR",
    "outputId": "ae8ccffd-e94b-4adc-c919-ee70f2a5fcd2"
   },
   "outputs": [
    {
     "name": "stdout",
     "output_type": "stream",
     "text": [
      "[ 0.07910156 -0.0050354   0.11181641  0.21289062  0.13085938]\n",
      "----------------------------------------\n",
      "(1, 400, 300)\n"
     ]
    }
   ],
   "source": [
    "# We pass a dummy value in the first element of the tuple just because our helper expects it from the way processed the initial data.  That value won't ever see the network, so it can be whatever.\n",
    "vec_list = tokenize_and_vectorize([(1, sample_1)])\n",
    "print(vec_list[0][0][:5])\n",
    "HR()\n",
    "\n",
    "# Tokenize returns a list of the data (length 1 here)\n",
    "test_vec_list = pad_trunc(vec_list, maxlen)\n",
    "test_vec = np.reshape(test_vec_list, (len(test_vec_list), maxlen, embedding_dims))\n",
    "print(test_vec.shape)"
   ]
  },
  {
   "cell_type": "code",
   "execution_count": 45,
   "metadata": {
    "id": "Gmz3JsNL83ck"
   },
   "outputs": [],
   "source": [
    "# 0 = negative review, 1 = positive review\n",
    "sentiment_imdb = []\n",
    "sentiment_imdb.append('Negative Sentiment')\n",
    "sentiment_imdb.append('Positive Sentiment')"
   ]
  },
  {
   "cell_type": "code",
   "execution_count": 46,
   "metadata": {
    "colab": {
     "base_uri": "https://localhost:8080/",
     "height": 111
    },
    "id": "0jr1Q_G5zlKS",
    "outputId": "b3c8902c-da7d-4337-fb2a-6f7a4f6a0ffe"
   },
   "outputs": [
    {
     "name": "stdout",
     "output_type": "stream",
     "text": [
      "1/1 [==============================] - 0s 138ms/step\n",
      "[[0.00088994]]\n",
      "----------------------------------------\n",
      "0\n"
     ]
    },
    {
     "data": {
      "text/plain": [
       "'Negative Sentiment'"
      ]
     },
     "execution_count": 46,
     "metadata": {},
     "output_type": "execute_result"
    }
   ],
   "source": [
    "# Model 1, saved as json format\n",
    "y_pred = model.predict(test_vec)\n",
    "print(y_pred)\n",
    "HR()\n",
    "\n",
    "# If model is binary classification, eg sigmoid last-layer activation\n",
    "res01 = (np.argmax(y_pred > 0.5))\n",
    "print(res01)\n",
    "sentiment_imdb[res01]"
   ]
  },
  {
   "cell_type": "code",
   "execution_count": 47,
   "metadata": {
    "colab": {
     "base_uri": "https://localhost:8080/",
     "height": 111
    },
    "id": "f2H7dAS0zlKS",
    "outputId": "112947bf-005e-4abb-c01e-124abe78c822"
   },
   "outputs": [
    {
     "name": "stdout",
     "output_type": "stream",
     "text": [
      "1/1 [==============================] - 0s 66ms/step\n",
      "[[0.00088994]]\n",
      "----------------------------------------\n",
      "0\n"
     ]
    },
    {
     "data": {
      "text/plain": [
       "'Negative Sentiment'"
      ]
     },
     "execution_count": 47,
     "metadata": {},
     "output_type": "execute_result"
    }
   ],
   "source": [
    "# Model 2, saved in tf format\n",
    "y_pred2 = model2.predict(test_vec)\n",
    "print(y_pred)\n",
    "HR()\n",
    "\n",
    "res02 = (np.argmax(y_pred2 > 0.5))\n",
    "print(res02)\n",
    "sentiment_imdb[res02]"
   ]
  },
  {
   "cell_type": "markdown",
   "metadata": {
    "id": "o4oFXWx5zlKS"
   },
   "source": [
    "<a name='7.4.8'></a><a id='7.4.8'></a>\n",
    "## 7.4.8 Where do you go from here?\n",
    "<a href=\"#top\">[back to top]</a>\n",
    "\n",
    "Problem: What is the potential of CNN for NLP classification tasks?\n",
    "\n",
    "Idea: We may be able to create richer models by stacking convolutional layers and pssing the output of the earlier filters as the \"image\" sample into the next set, and so on. We can also run the model with multiple size filters and concatenate the output of each size filter into a longer thought vector, before passing it into the feedforward network at the end, to provide more accurate results. Also, in general CNNs can perform without relying on rich word embeddings. Lastly, CNNs are very efficient."
   ]
  }
 ],
 "metadata": {
  "colab": {
   "provenance": []
  },
  "kernelspec": {
   "display_name": "Python 3 (ipykernel)",
   "language": "python",
   "name": "python3"
  },
  "language_info": {
   "codemirror_mode": {
    "name": "ipython",
    "version": 3
   },
   "file_extension": ".py",
   "mimetype": "text/x-python",
   "name": "python",
   "nbconvert_exporter": "python",
   "pygments_lexer": "ipython3",
   "version": "3.8.12"
  }
 },
 "nbformat": 4,
 "nbformat_minor": 4
}
