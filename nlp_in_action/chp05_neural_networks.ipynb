{
 "cells": [
  {
   "cell_type": "markdown",
   "id": "1d8131f0-e20f-40b3-a0bf-267602a40558",
   "metadata": {},
   "source": [
    "<a id='top'></a><a name='top'></a>\n",
    "# Chapter 5: Baby steps with neural networks (perceptrons and backpropagation)"
   ]
  },
  {
   "cell_type": "markdown",
   "id": "6cf36cec-54ed-4e0f-825d-a587c0f7f7b2",
   "metadata": {},
   "source": [
    "* [Introduction](#introduction)\n",
    "* [5.0 Imports and Setup](#5.0)\n",
    "* [5.1 Neural Networks](#5.1)\n",
    "     - [5.1.1 Perceptron](#5.1.1)\n",
    "     - [5.1.2 A numerical perceptron](#5.1.2)\n",
    "     - [5.1.3 Detour through bias](#5.1.3)\n",
    "     - [5.1.4 Let's go skiing - the error surface](#5.1.4)\n",
    "     - [5.1.5 Off the chair lift, onto the slope](#5.1.5)\n",
    "     - [5.1.6 Let's shake things up a bit](#5.1.6)\n",
    "     - [5.1.7 Keras: Neural networks in Python](#5.1.7)\n",
    "     - [5.1.8 Onward and deepward](#5.1.8)\n",
    "     - [5.1.9 Normalization: input with style](#5.1.9)"
   ]
  },
  {
   "cell_type": "markdown",
   "id": "f9011db4-2b94-4639-a499-92ca087dcae0",
   "metadata": {},
   "source": [
    "---\n",
    "<a name='introduction'></a><a id='introduction'></a>\n",
    "# Introduction\n",
    "<a href=\"#top\">[back to top]</a>\n",
    "\n",
    "### Dataset\n",
    "\n",
    "* No datasets\n",
    "\n",
    "### Explore\n",
    "\n",
    "* Learning the history of neural networks\n",
    "* Stacking perceptrons\n",
    "* Understanding backpropagation\n",
    "* Seeing the knobs to turn on neural networks\n",
    "* Implementing a basic neural network in Keras\n",
    "\n",
    "\n",
    "### Key points\n",
    "\n",
    "* Minimizing a cost function is a path toward learning\n",
    "* A backpropagation algorithm is the means by which a network learns.\n",
    "* The amount a weight contributes to a model's error is directly related to the amount it needs to be updated.\n",
    "* Neural networks are, at their heart, optimization engines.\n",
    "* Watch out for pitfalls (local minima) during training by monitoring the gradual reduction in error.\n",
    "* Keras helps make all of this neural network math accessible."
   ]
  },
  {
   "cell_type": "markdown",
   "id": "19ce5e0e-fa62-4b16-83a3-0b2ed3c17b26",
   "metadata": {},
   "source": [
    "---\n",
    "<a name='5.0'></a><a id='5.0'></a>\n",
    "# 5.0 Imports and Setup\n",
    "<a href=\"#top\">[back to top]</a>"
   ]
  },
  {
   "cell_type": "code",
   "execution_count": 1,
   "id": "4e55a946-02e7-4e5f-958f-47230442a770",
   "metadata": {},
   "outputs": [],
   "source": [
    "import os\n",
    "if not os.path.exists('setup'):\n",
    "    os.mkdir('setup')"
   ]
  },
  {
   "cell_type": "code",
   "execution_count": 2,
   "id": "e6fb68f0-7bc5-4769-a6cf-70226ad2dadc",
   "metadata": {},
   "outputs": [],
   "source": [
    "req_file = \"setup/requirements_05.txt\""
   ]
  },
  {
   "cell_type": "code",
   "execution_count": 3,
   "id": "d5e83e73-ad05-4f03-a6be-72c5498acb8b",
   "metadata": {},
   "outputs": [
    {
     "name": "stdout",
     "output_type": "stream",
     "text": [
      "Overwriting setup/requirements_05.txt\n"
     ]
    }
   ],
   "source": [
    "%%writefile {req_file}\n",
    "isort\n",
    "scikit-learn-intelex\n",
    "watermark"
   ]
  },
  {
   "cell_type": "code",
   "execution_count": 4,
   "id": "be80d623-1c05-4320-993b-fab96425ad74",
   "metadata": {},
   "outputs": [
    {
     "name": "stdout",
     "output_type": "stream",
     "text": [
      "Running locally.\n"
     ]
    }
   ],
   "source": [
    "import sys\n",
    "IS_COLAB = 'google.colab' in sys.modules\n",
    "\n",
    "if IS_COLAB:\n",
    "    print(\"Installing packages\")\n",
    "    !pip install --upgrade --quiet -r {req_file}\n",
    "else:\n",
    "    print(\"Running locally.\")"
   ]
  },
  {
   "cell_type": "code",
   "execution_count": 5,
   "id": "a13e56f8-f097-49a2-a5dd-69d52e391ccb",
   "metadata": {},
   "outputs": [
    {
     "name": "stderr",
     "output_type": "stream",
     "text": [
      "Intel(R) Extension for Scikit-learn* enabled (https://github.com/intel/scikit-learn-intelex)\n"
     ]
    }
   ],
   "source": [
    "#if IS_COLAB:\n",
    "from sklearnex import patch_sklearn\n",
    "patch_sklearn()"
   ]
  },
  {
   "cell_type": "code",
   "execution_count": 6,
   "id": "e17cd5fc-c645-4eb2-9737-1d6d41d3fc49",
   "metadata": {},
   "outputs": [
    {
     "name": "stdout",
     "output_type": "stream",
     "text": [
      "Overwriting setup/chp05_imports.py\n"
     ]
    }
   ],
   "source": [
    "%%writefile setup/chp05_imports.py\n",
    "import locale\n",
    "import pprint\n",
    "import random\n",
    "import warnings\n",
    "from pathlib import Path\n",
    "import numpy as np\n",
    "import pandas as pd\n",
    "import seaborn as sns\n",
    "from tqdm.auto import tqdm\n",
    "from watermark import watermark"
   ]
  },
  {
   "cell_type": "code",
   "execution_count": 7,
   "id": "20e27724-c4dc-4917-87ef-c01c37d2b88b",
   "metadata": {},
   "outputs": [
    {
     "name": "stdout",
     "output_type": "stream",
     "text": [
      "Fixing /Users/gb/Desktop/examples/setup/chp05_imports.py\n",
      "import locale\n",
      "import pprint\n",
      "import random\n",
      "import warnings\n",
      "from pathlib import Path\n",
      "\n",
      "import numpy as np\n",
      "import pandas as pd\n",
      "import seaborn as sns\n",
      "from tqdm.auto import tqdm\n",
      "from watermark import watermark\n"
     ]
    }
   ],
   "source": [
    "!isort setup/chp05_imports.py --sl\n",
    "!cat setup/chp05_imports.py"
   ]
  },
  {
   "cell_type": "code",
   "execution_count": 8,
   "id": "47f96f33-9388-4fd2-9294-1027d820ed5e",
   "metadata": {},
   "outputs": [],
   "source": [
    "import locale\n",
    "import pprint\n",
    "import random\n",
    "import warnings\n",
    "from pathlib import Path\n",
    "\n",
    "import numpy as np\n",
    "import pandas as pd\n",
    "import seaborn as sns\n",
    "from tqdm.auto import tqdm\n",
    "from watermark import watermark"
   ]
  },
  {
   "cell_type": "code",
   "execution_count": 9,
   "id": "ad214eb1-96fb-492a-83d6-5edd85d95b47",
   "metadata": {},
   "outputs": [
    {
     "name": "stdout",
     "output_type": "stream",
     "text": [
      "Python implementation: CPython\n",
      "Python version       : 3.8.12\n",
      "IPython version      : 7.34.0\n",
      "\n",
      "Compiler    : Clang 13.0.0 (clang-1300.0.29.3)\n",
      "OS          : Darwin\n",
      "Release     : 21.6.0\n",
      "Machine     : x86_64\n",
      "Processor   : i386\n",
      "CPU cores   : 4\n",
      "Architecture: 64bit\n",
      "\n",
      "sys    : 3.8.12 (default, Dec 13 2021, 20:17:08) \n",
      "[Clang 13.0.0 (clang-1300.0.29.3)]\n",
      "pandas : 1.5.3\n",
      "seaborn: 0.12.1\n",
      "numpy  : 1.23.5\n",
      "\n"
     ]
    }
   ],
   "source": [
    "def HR():\n",
    "    print(\"-\"*40)\n",
    "    \n",
    "def getpreferredencoding(do_setlocale = True):\n",
    "    return \"UTF-8\"\n",
    "\n",
    "locale.getpreferredencoding = getpreferredencoding\n",
    "warnings.filterwarnings('ignore')\n",
    "sns.set_style(\"darkgrid\")\n",
    "tqdm.pandas(desc=\"progress-bar\")\n",
    "pp = pprint.PrettyPrinter(indent=4)\n",
    "random.seed(23)\n",
    "\n",
    "print(watermark(iversions=True,globals_=globals(),python=True,machine=True))"
   ]
  },
  {
   "cell_type": "markdown",
   "id": "ec600d5c-eb15-4525-ab52-9d0683aaba6e",
   "metadata": {},
   "source": [
    "---\n",
    "<a name='5.1'></a><a id='5.1'></a>\n",
    "# 5.1 Neural Networks\n",
    "<a href=\"#top\">[back to top]</a>\n",
    "\n",
    "Problem: What is the key concept of neural networks?\n",
    "\n",
    "Idea: The way the cell weighs incoming signals when deciding to fire. The neuron dynamically changes those weights in the decision making process over the course of its life."
   ]
  },
  {
   "cell_type": "markdown",
   "id": "c2e825cc-0915-4d9e-a05f-56cda3507877",
   "metadata": {},
   "source": [
    "<a name='5.1.1'></a><a id='5.1.1'></a>\n",
    "## 5.1.1 Perceptron\n",
    "<a href=\"#top\">[back to top]</a>\n",
    "\n",
    "Problem: How can we use a threshold mechanism to detect features for learning binary classifiers?\n",
    "\n",
    "Idea: The *perceptron* is an algorithm for supervised learning of binary classifiers. It is a function which can decide whether or not an input, represented by a vector of numbers, belongs to a specific class. "
   ]
  },
  {
   "cell_type": "markdown",
   "id": "56873e0f-7ae4-4a17-a7fc-43eeba778dc1",
   "metadata": {},
   "source": [
    "<a name='5.1.2'></a><a id='5.1.2'></a>\n",
    "## 5.1.2 A numerical percepton\n",
    "<a href=\"#top\">[back to top]</a>\n",
    "\n",
    "Problem: What is the basic mechanism underlying perceptrons?\n",
    "\n",
    "Idea: Take an example from a dataset, show it to an algorithm, and have the algorithm say yes or no. "
   ]
  },
  {
   "cell_type": "markdown",
   "id": "9e151ff6-1535-4504-89b6-10c59e5668bc",
   "metadata": {},
   "source": [
    "<a name='5.1.3'></a><a id='5.1.3'></a>\n",
    "## 5.1.3 Detour through bias\n",
    "<a href=\"#top\">[back to top]</a>\n",
    "\n",
    "Problem: What is a *bias*?\n",
    "\n",
    "Idea: The bias is an \"always on\" input to the neuron. We use a bias weight to handle any all-zeros input. \n",
    "\n",
    "Importance: Without a bias, if the input is 0, the neuron would automatically output 0 for any weights we started with or tried to learn. So the bias is a technique allowing the neuron to be resilient to all-zeros input."
   ]
  },
  {
   "cell_type": "markdown",
   "id": "ac214587-2b18-4778-beef-833a33318afa",
   "metadata": {},
   "source": [
    "**A Pythonic Neuron**\n",
    "\n",
    "We can calcuate the output of a neuron using the Numpy dot function, to multiple two vectors together."
   ]
  },
  {
   "cell_type": "code",
   "execution_count": 10,
   "id": "f6f35960-b553-45cb-be4f-95373c3730a8",
   "metadata": {},
   "outputs": [
    {
     "name": "stdout",
     "output_type": "stream",
     "text": [
      "0.674000\n"
     ]
    }
   ],
   "source": [
    "import numpy as np\n",
    "\n",
    "example_input = [1, .2, .1, .05, .2]\n",
    "example_weights = [.2, .12, .4, .6, .90]\n",
    "\n",
    "input_vector = np.array(example_input)\n",
    "weights = np.array(example_weights)\n",
    "bias_weight = .2\n",
    "\n",
    "activation_level = np.dot(input_vector, weights) + (bias_weight * 1)\n",
    "\n",
    "print(f\"{activation_level:6f}\")"
   ]
  },
  {
   "cell_type": "markdown",
   "id": "fbea8730-0e7b-4736-8ece-7d4944c1c66f",
   "metadata": {},
   "source": [
    "Use a simple threshold activation function and choose a threshold of 0.5"
   ]
  },
  {
   "cell_type": "code",
   "execution_count": 11,
   "id": "15a6ce6a-37b2-4f48-bb0c-ebe523ca8147",
   "metadata": {},
   "outputs": [
    {
     "name": "stdout",
     "output_type": "stream",
     "text": [
      "1\n"
     ]
    }
   ],
   "source": [
    "threshold = 0.5\n",
    "if activation_level >= threshold:\n",
    "    perception_output = 1\n",
    "else:\n",
    "    perception_output = 0\n",
    "\n",
    "print(perception_output)"
   ]
  },
  {
   "cell_type": "markdown",
   "id": "32660d14-e3d4-4088-b411-ade800641d3f",
   "metadata": {},
   "source": [
    "**Class is in session**\n",
    "\n",
    "Explore how a perceptron learns by altering weights up and down as a function of how wrong the system's guess was for a given input."
   ]
  },
  {
   "cell_type": "code",
   "execution_count": 12,
   "id": "89b91bf0-ccd1-44e3-ae02-582dc01e0137",
   "metadata": {},
   "outputs": [
    {
     "name": "stdout",
     "output_type": "stream",
     "text": [
      "Original weights:\n",
      "[0.2, 0.12, 0.4, 0.6, 0.9]\n",
      "----------------------------------------\n",
      "New weights:\n",
      "[-0.8  -0.08  0.3   0.55  0.7 ]\n"
     ]
    }
   ],
   "source": [
    "expected_output = 0\n",
    "new_weights = []\n",
    "\n",
    "for i, x in enumerate(example_input):\n",
    "    new_weights.append(weights[i] + (expected_output - perception_output) * x)\n",
    "\n",
    "weights = np.array(new_weights)\n",
    "\n",
    "print(f\"Original weights:\\n{example_weights}\")\n",
    "HR()\n",
    "print(f\"New weights:\\n{weights}\")"
   ]
  },
  {
   "cell_type": "markdown",
   "id": "c770b52c-751d-4367-880f-2cc0399498db",
   "metadata": {},
   "source": [
    "**Logic is a fun thing to learn**\n",
    "\n",
    "Explore how a computer can learn a concept, by being shown labeled examples."
   ]
  },
  {
   "cell_type": "code",
   "execution_count": 13,
   "id": "3f1e11ee-b7e1-4b00-9f0b-5bd6660a8dac",
   "metadata": {},
   "outputs": [
    {
     "name": "stdout",
     "output_type": "stream",
     "text": [
      "[0.00035074 0.00034944]\n",
      "----------------------------------------\n",
      "0.0006101316795131817\n",
      "----------------------------------------\n",
      "Note that weights are not updated.\n",
      "\n",
      "Predicted:\t0.000000\n",
      "Expected:\t0.000000\n",
      "\n",
      "Predicted:\t0.000000\n",
      "Expected:\t1.000000\n",
      "\n",
      "Predicted:\t0.000000\n",
      "Expected:\t1.000000\n",
      "\n",
      "Predicted:\t0.000000\n",
      "Expected:\t1.000000\n",
      "\n"
     ]
    }
   ],
   "source": [
    "sample_data = [\n",
    "    [0, 0],  # False, False\n",
    "    [0, 1],  # False, True\n",
    "    [1, 0],  # True, False\n",
    "    [1, 1]  # True, True\n",
    "]\n",
    "\n",
    "expected_results = [\n",
    "    0,  # (False OR False) gives False\n",
    "    1,  # (False OR True ) gives True\n",
    "    1,  # (True  OR False) gives True\n",
    "    1  # (True  OR True ) gives True\n",
    "]\n",
    "\n",
    "activation_threshold = 0.5\n",
    "\n",
    "from random import random\n",
    "import numpy as np\n",
    "\n",
    "# Initialize weights randomly\n",
    "# Small random float 0 < w < .001\n",
    "weights = np.random.random(2)/1000\n",
    "print(weights)\n",
    "HR()\n",
    "\n",
    "# Create a bias term\n",
    "bias_weight = np.random.random() / 1000\n",
    "print(bias_weight)\n",
    "HR()\n",
    "\n",
    "print(\"Note that weights are not updated.\")\n",
    "print()\n",
    "\n",
    "# Perceptron random guessing\n",
    "for idx, sample in enumerate(sample_data):\n",
    "    input_vector = np.array(sample)\n",
    "    activation_level = np.dot(input_vector, weights) + (bias_weight * 1)\n",
    "    if activation_level > activation_threshold:\n",
    "        perceptron_output = 1\n",
    "    else:\n",
    "        perceptron_output = 0\n",
    "\n",
    "    print(f\"Predicted:\\t{perceptron_output:.6f}\")\n",
    "    print(f\"Expected:\\t{expected_results[idx]:.6f}\")\n",
    "    print()"
   ]
  },
  {
   "cell_type": "code",
   "execution_count": 14,
   "id": "558af00a-a02b-4363-b282-0f4ea839ec05",
   "metadata": {},
   "outputs": [
    {
     "name": "stdout",
     "output_type": "stream",
     "text": [
      "3 correct answers out of 4, for iteration 0\n",
      "2 correct answers out of 4, for iteration 1\n",
      "2 correct answers out of 4, for iteration 2\n",
      "2 correct answers out of 4, for iteration 3\n",
      "2 correct answers out of 4, for iteration 4\n"
     ]
    }
   ],
   "source": [
    "for iteration_num in range(5):\n",
    "    correct_answers = 0\n",
    "    for idx, sample in enumerate(sample_data):\n",
    "        input_vector = np.array(sample)\n",
    "        weights = np.array(weights)\n",
    "        activation_level = np.dot(input_vector, weights) + (bias_weight * 1)\n",
    "        if activation_level > activation_threshold:\n",
    "            perceptron_output = 1\n",
    "        else:\n",
    "            perceptron_output = 0\n",
    "            \n",
    "        if perceptron_output == expected_results[idx]:\n",
    "            correct_answers += 1\n",
    "        \n",
    "        new_weights = []\n",
    "        for i, x in enumerate(sample):\n",
    "            new_weights.append(weights[i] + (expected_results[idx] - perceptron_output) * 1)\n",
    "        bias_weight = bias_weight + ((expected_results[idx] - perceptron_output) * 1)\n",
    "        weights = np.array(new_weights)\n",
    "    \n",
    "    print(f\"{correct_answers} correct answers out of 4, for iteration {iteration_num}\")"
   ]
  },
  {
   "cell_type": "markdown",
   "id": "c41493c8-ff16-4aa0-9e06-48efb291d286",
   "metadata": {},
   "source": [
    "<a name='5.1.4'></a><a id='5.1.4'></a>\n",
    "## 5.1.4 Let's go skiing - the error surface\n",
    "<a href=\"#top\">[back to top]</a>\n",
    "\n",
    "Problem: What is the goal in training neural networks?\n",
    "\n",
    "Idea: Minimize a cost function by finding the best parameters (weights). We want to minimize the cost fo all the various errors taken together."
   ]
  },
  {
   "cell_type": "markdown",
   "id": "d3f10fa2-b2a3-4702-9353-eba37698237a",
   "metadata": {},
   "source": [
    "<a name='5.1.5'></a><a id='5.1.5'></a>\n",
    "## 5.1.5 Off the chair lift, onto the slope\n",
    "<a href=\"#top\">[back to top]</a>\n",
    "\n",
    "Problem: What is *gradient descent*?\n",
    "\n",
    "Idea: It is an optimization algorithm for finding a local minimum of a differentiable function."
   ]
  },
  {
   "cell_type": "markdown",
   "id": "631b22ce-d56e-4545-99c8-7bfc17001cfc",
   "metadata": {},
   "source": [
    "<a name='5.1.6'></a><a id='5.1.6'></a>\n",
    "## 5.1.6 Let's shake things up a bit\n",
    "<a href=\"#top\">[back to top]</a>\n",
    "\n",
    "Problem: How can we avoid ending up in a local minima where better options may exist for the weight values?\n",
    "\n",
    "Idea: There are two options. Ths first is *stochastic* gradient descent, in which we update weights after each training example. The other is *mini-batch* training."
   ]
  },
  {
   "cell_type": "markdown",
   "id": "a4a251c1-0367-4663-9dc3-9dd5850c8e08",
   "metadata": {},
   "source": [
    "<a name='5.1.7'></a><a id='5.1.7'></a>\n",
    "## 5.1.7 Keras: Neural Networks in Python\n",
    "<a href=\"#top\">[back to top]</a>\n",
    "\n",
    "Problem: How can use conveniently write a neural network?\n",
    "\n",
    "Idea: Keras is a high-level wrapper for machine-learning libraries, such as TensorFlow, PyTorch, etc. "
   ]
  },
  {
   "cell_type": "code",
   "execution_count": 15,
   "id": "cf296c53-ce61-464f-95b7-46c7627b7c8b",
   "metadata": {},
   "outputs": [
    {
     "name": "stdout",
     "output_type": "stream",
     "text": [
      "Model: \"sequential\"\n",
      "_________________________________________________________________\n",
      " Layer (type)                Output Shape              Param #   \n",
      "=================================================================\n",
      " dense (Dense)               (None, 10)                30        \n",
      "                                                                 \n",
      " activation (Activation)     (None, 10)                0         \n",
      "                                                                 \n",
      " dense_1 (Dense)             (None, 1)                 11        \n",
      "                                                                 \n",
      " activation_1 (Activation)   (None, 1)                 0         \n",
      "                                                                 \n",
      "=================================================================\n",
      "Total params: 41\n",
      "Trainable params: 41\n",
      "Non-trainable params: 0\n",
      "_________________________________________________________________\n"
     ]
    },
    {
     "name": "stderr",
     "output_type": "stream",
     "text": [
      "2023-03-29 22:06:13.745997: I tensorflow/core/platform/cpu_feature_guard.cc:193] This TensorFlow binary is optimized with oneAPI Deep Neural Network Library (oneDNN) to use the following CPU instructions in performance-critical operations:  AVX2 FMA\n",
      "To enable them in other operations, rebuild TensorFlow with the appropriate compiler flags.\n"
     ]
    }
   ],
   "source": [
    "import numpy as np\n",
    "import tensorflow as tf\n",
    "from tensorflow.keras.models import Sequential\n",
    "from tensorflow.keras.layers import Dense\n",
    "from tensorflow.keras.layers import Activation\n",
    "\n",
    "# Get stochastic gradient descent, though there are others\n",
    "from keras.optimizers import SGD\n",
    "\n",
    "# Examples for an exclusive OR\n",
    "x_train = np.array([\n",
    "    [0, 0],\n",
    "    [0, 1],\n",
    "    [1, 0],\n",
    "    [1, 1]\n",
    "])\n",
    "\n",
    "y_train = np.array([\n",
    "    [0],\n",
    "    [1],\n",
    "    [1],\n",
    "    [0]\n",
    "])\n",
    "\n",
    "model = Sequential()\n",
    "num_neurons = 10\n",
    "model.add(Dense(num_neurons, input_dim=2))\n",
    "model.add(Activation('tanh'))\n",
    "\n",
    "# The output layer one neuron to output 0 or 1 \n",
    "model.add(Dense(1))\n",
    "model.add(Activation('sigmoid'))\n",
    "\n",
    "model.summary()"
   ]
  },
  {
   "cell_type": "code",
   "execution_count": 16,
   "id": "57164003-484e-412d-9d3d-2dea0cab43db",
   "metadata": {},
   "outputs": [],
   "source": [
    "sgd = SGD(learning_rate=0.1)\n",
    "\n",
    "model.compile(\n",
    "    loss='binary_crossentropy',\n",
    "    optimizer=sgd,\n",
    "    metrics=['accuracy']\n",
    ")"
   ]
  },
  {
   "cell_type": "code",
   "execution_count": 17,
   "id": "f950951a-58da-420f-9416-cb2f8bad7bba",
   "metadata": {},
   "outputs": [
    {
     "name": "stdout",
     "output_type": "stream",
     "text": [
      "1/1 [==============================] - 0s 296ms/step\n",
      "[[0.5       ]\n",
      " [0.83692104]\n",
      " [0.70572394]\n",
      " [0.8984636 ]]\n"
     ]
    }
   ],
   "source": [
    "# Test the untrained model\n",
    "print(model.predict(x_train))"
   ]
  },
  {
   "cell_type": "code",
   "execution_count": 18,
   "id": "20a444f4-4624-48b9-a944-f326d5d447cd",
   "metadata": {},
   "outputs": [
    {
     "name": "stdout",
     "output_type": "stream",
     "text": [
      "dict_keys(['loss', 'accuracy'])\n"
     ]
    }
   ],
   "source": [
    "# Fit the model to the XOR training set\n",
    "hist = model.fit(\n",
    "    x_train,\n",
    "    y_train,\n",
    "    epochs=100,\n",
    "    verbose=0\n",
    ")\n",
    "\n",
    "print(hist.history.keys())"
   ]
  },
  {
   "cell_type": "code",
   "execution_count": 19,
   "id": "d4153564-7f5e-4d72-8af2-a8fa47af389d",
   "metadata": {},
   "outputs": [
    {
     "name": "stdout",
     "output_type": "stream",
     "text": [
      "[[0.38571903]\n",
      " [0.5343221 ]\n",
      " [0.5229586 ]\n",
      " [0.5713266 ]]\n"
     ]
    }
   ],
   "source": [
    "# Do inference with a trained model\n",
    "# Since the model output is sigmoid, it is a binary classification.\n",
    "print(model.predict(x_train, verbose=0))"
   ]
  },
  {
   "cell_type": "code",
   "execution_count": 20,
   "id": "203fe8af-6863-4fe3-a6c8-f1f557f224c5",
   "metadata": {},
   "outputs": [
    {
     "name": "stdout",
     "output_type": "stream",
     "text": [
      "[[0]\n",
      " [1]\n",
      " [1]\n",
      " [1]]\n"
     ]
    }
   ],
   "source": [
    "# Show the equivalent of predict_classes\n",
    "predictions = (model.predict(x_train, verbose=0) > 0.5).astype(\"int32\")\n",
    "print(predictions)"
   ]
  },
  {
   "cell_type": "code",
   "execution_count": 21,
   "id": "6cee9143-db25-458a-aa54-22de9f56cf50",
   "metadata": {},
   "outputs": [
    {
     "data": {
      "image/png": "[encoded data removed]",
      "text/plain": [
       "<Figure size 640x480 with 1 Axes>"
      ]
     },
     "metadata": {},
     "output_type": "display_data"
    }
   ],
   "source": [
    "pd.DataFrame(hist.history).plot();"
   ]
  },
  {
   "cell_type": "code",
   "execution_count": 22,
   "id": "73a96684-d232-484c-a97b-e18b94a449a4",
   "metadata": {},
   "outputs": [
    {
     "name": "stdout",
     "output_type": "stream",
     "text": [
      "model_dir:\tmodels/model_nn\n",
      "model_path:\tmodels/model_nn/basic_model\n"
     ]
    }
   ],
   "source": [
    "model_dir = Path(\"models/model_nn\")\n",
    "model_path = model_dir / \"basic_model\"\n",
    "    \n",
    "print(f\"model_dir:\\t{model_dir}\")\n",
    "print(f\"model_path:\\t{model_path}\")\n",
    "\n",
    "if not os.path.exists(model_dir):\n",
    "    os.mkdir(model_dir)"
   ]
  },
  {
   "cell_type": "code",
   "execution_count": 23,
   "id": "25ebc84c-61b4-4ef0-8138-9e1df0169ab2",
   "metadata": {},
   "outputs": [
    {
     "name": "stdout",
     "output_type": "stream",
     "text": [
      "Model saved.\n"
     ]
    }
   ],
   "source": [
    "# Save model in older 'HDF5' format\n",
    "\n",
    "# Returns a JSON string containing the network configuration.\n",
    "model_structure = model.to_json()\n",
    "with open(f\"{model_dir}/basic_model.json\", \"w\") as json_file:\n",
    "    json_file.write(model_structure)\n",
    "\n",
    "model.save_weights(f\"{model_dir}/basic_weights.h5\")\n",
    "print('Model saved.')"
   ]
  },
  {
   "cell_type": "code",
   "execution_count": 24,
   "id": "1995a3ae-7e0f-4423-9ff4-7a060775db24",
   "metadata": {},
   "outputs": [
    {
     "name": "stdout",
     "output_type": "stream",
     "text": [
      "INFO:tensorflow:Assets written to: models/model_nn/model_tf/assets\n"
     ]
    }
   ],
   "source": [
    "# Save model in 'tf' format\n",
    "model.save(f\"{model_dir}/model_tf\")"
   ]
  },
  {
   "cell_type": "code",
   "execution_count": 25,
   "id": "e00788a3-e8e4-46a5-aa9f-d866ca291ba5",
   "metadata": {},
   "outputs": [
    {
     "name": "stdout",
     "output_type": "stream",
     "text": [
      "total 152\n",
      "drwxr-xr-x  2 gb  staff     64 Mar 25 15:30 \u001b[34massets\u001b[m\u001b[m\n",
      "-rw-r--r--  1 gb  staff   7646 Mar 29 22:06 keras_metadata.pb\n",
      "-rw-r--r--  1 gb  staff  69078 Mar 29 22:06 saved_model.pb\n",
      "drwxr-xr-x  4 gb  staff    128 Mar 29 22:06 \u001b[34mvariables\u001b[m\u001b[m\n"
     ]
    }
   ],
   "source": [
    "!ls -l {model_dir}/model_tf"
   ]
  },
  {
   "cell_type": "markdown",
   "id": "ef61460e-5863-4eed-964e-071927f110dc",
   "metadata": {},
   "source": [
    "<a name='5.1.8'></a><a id='5.1.8'></a>\n",
    "## 5.1.8 Onward and deepward\n",
    "<a href=\"#top\">[back to top]</a>\n",
    "\n",
    "Problem: What are recent innovations in neural networks?\n",
    "\n",
    "Idea: Different activation functions, dynamically ychanging the learning rate, dropout, regularization of weights"
   ]
  },
  {
   "cell_type": "markdown",
   "id": "fb689a9a-f15b-4a82-b56e-a27dcfd9ea9b",
   "metadata": {},
   "source": [
    "<a name='5.1.9'></a><a id='5.1.9'></a>\n",
    "## 5.1.9 Normalization: Input with style\n",
    "<a href=\"#top\">[back to top]</a>\n",
    "\n",
    "Problem: How can we keep the weights from growing too huge or too small?\n",
    "\n",
    "Idea: Normalize the input data. Normalization also ensures that each neuron works within a similar range of input values as the other elments within a sample vector. The goal is to get the data in some range like [-1, 1] or [0, 1] for each element in each sample without losing information. "
   ]
  },
  {
   "cell_type": "code",
   "execution_count": null,
   "id": "5f9afcbe-d5c9-4ce2-aa9e-7780b74956a4",
   "metadata": {},
   "outputs": [],
   "source": []
  }
 ],
 "metadata": {
  "kernelspec": {
   "display_name": "Python 3 (ipykernel)",
   "language": "python",
   "name": "python3"
  },
  "language_info": {
   "codemirror_mode": {
    "name": "ipython",
    "version": 3
   },
   "file_extension": ".py",
   "mimetype": "text/x-python",
   "name": "python",
   "nbconvert_exporter": "python",
   "pygments_lexer": "ipython3",
   "version": "3.8.12"
  }
 },
 "nbformat": 4,
 "nbformat_minor": 5
}
