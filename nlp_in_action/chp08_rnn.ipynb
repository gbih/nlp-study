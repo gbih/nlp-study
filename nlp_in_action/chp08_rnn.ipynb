{
 "cells": [
  {
   "cell_type": "markdown",
   "metadata": {
    "id": "oIKuI0XXCGPu"
   },
   "source": [
    "<a id='top'></a><a name='top'></a>\n",
    "# Chapter 8: Loopy (recurrent) neural networks (RNNs)"
   ]
  },
  {
   "cell_type": "markdown",
   "metadata": {
    "id": "OqIqIr4eCGPw"
   },
   "source": [
    "* [Introduction](#introduction)\n",
    "* [8.0 Imports and Setup](#8.0)\n",
    "* [8.1 Remembering with recurrent networks](#8.1)\n",
    "    - [8.1.1 Backpropagation through time](#8.1.1)\n",
    "    - [8.1.2 When do we update what?](#8.1.2)\n",
    "    - [8.1.3 Recap](#8.1.3)\n",
    "    - [8.1.4 There's always a catch](#8.1.4)\n",
    "    - [8.1.5 Recurrent neural net with Keras](#8.1.5)\n",
    "* [8.2 Putting things together](#8.2)\n",
    "* [8.3 Let's get to learning our past selves](#8.3)\n",
    "* [8.4 Hyperparameters](#8.4)\n",
    "* [8.5 Predicting](#8.5)\n",
    "    - [8.5.1 Statefulness](#8.5.1)\n",
    "    - [8.5.2 Two-way street](#8.5.2)\n",
    "    - [8.5.3 What is this thing?](#8.5.3)"
   ]
  },
  {
   "cell_type": "markdown",
   "metadata": {
    "id": "e3642vk_CGPy"
   },
   "source": [
    "---\n",
    "<a name='introduction'></a><a id='introduction'></a>\n",
    "# Introduction\n",
    "<a href=\"#top\">[back to top]</a>\n",
    "\n",
    "### Datasets\n",
    "\n",
    "* aclImdb_v1.tar.gz: [script](#aclImdb_v1.tar.gz), [source](https://www.dropbox.com/s/yviic64qv84x73j/aclImdb_v1.tar.gz?dl=1)\n",
    "* GoogleNews-vectors-negative300.bin.gz: [script](#GoogleNews-vectors-negative300.bin.gz), [source](https://www.dropbox.com/s/965dir4dje0hfi4/GoogleNews-vectors-negative300.bin.gz)\n",
    "\n",
    "\n",
    "### Explore\n",
    "\n",
    "* Creating memory in a neural net\n",
    "* Building a recurrent neural net\n",
    "* Data handling for RNNs\n",
    "* Backpropagating through time (BPTT)\n",
    "\n",
    "\n",
    "### Key points\n",
    "\n",
    "* In natural language sequences (words or characters), what came before is important to your model's understanding of the sequence.\n",
    "* Splitting a natural language statement along the dimension of time (tokens) can help your machine deepen its understanding of natural language.\n",
    "* You can backpropagate errors in time (tokens), as well as in the layers of a deep learning network.\n",
    "* Because RNNs are particularly deep neural nets, RNN gradients are particularly temperamental, and they may disappear or explode.\n",
    "* Efficiently modeling natural language character sequences wasn't possible until recurrent neural nets were applied to the task.\n",
    "* Weights in an RNN are adjusted in aggregate across time for a given sample.\n",
    "* You can use different methods to examine the output of recurrent neural nets.\n",
    "* You can model the natural language sequence in a document by passing the sequence of tokens through an RNN backward and forward simultaneously."
   ]
  },
  {
   "cell_type": "markdown",
   "metadata": {
    "id": "9MXkQr4JCGPz"
   },
   "source": [
    "---\n",
    "<a name='8.0'></a><a id='8.0'></a>\n",
    "# 8.0 Imports and Setup\n",
    "<a href=\"#top\">[back to top]</a>"
   ]
  },
  {
   "cell_type": "code",
   "execution_count": 1,
   "metadata": {},
   "outputs": [],
   "source": [
    "import os\n",
    "if not os.path.exists('setup'):\n",
    "    os.mkdir('setup')"
   ]
  },
  {
   "cell_type": "code",
   "execution_count": 2,
   "metadata": {},
   "outputs": [],
   "source": [
    "req_file = \"setup/requirements_08.txt\""
   ]
  },
  {
   "cell_type": "code",
   "execution_count": 3,
   "metadata": {},
   "outputs": [
    {
     "name": "stdout",
     "output_type": "stream",
     "text": [
      "Overwriting setup/requirements_08.txt\n"
     ]
    }
   ],
   "source": [
    "%%writefile {req_file}\n",
    "isort\n",
    "scikit-learn-intelex\n",
    "scrapy\n",
    "watermark"
   ]
  },
  {
   "cell_type": "code",
   "execution_count": 4,
   "metadata": {},
   "outputs": [
    {
     "name": "stdout",
     "output_type": "stream",
     "text": [
      "Running locally.\n"
     ]
    }
   ],
   "source": [
    "import sys\n",
    "IS_COLAB = 'google.colab' in sys.modules\n",
    "\n",
    "if IS_COLAB:\n",
    "    print(\"Installing packages\")\n",
    "    !pip install --upgrade --quiet -r {req_file}\n",
    "else:\n",
    "    print(\"Running locally.\")"
   ]
  },
  {
   "cell_type": "code",
   "execution_count": 5,
   "metadata": {},
   "outputs": [],
   "source": [
    "if IS_COLAB:\n",
    "    from sklearnex import patch_sklearn\n",
    "    patch_sklearn()"
   ]
  },
  {
   "cell_type": "code",
   "execution_count": 10,
   "metadata": {},
   "outputs": [
    {
     "name": "stdout",
     "output_type": "stream",
     "text": [
      "Overwriting setup/chp08_imports.py\n"
     ]
    }
   ],
   "source": [
    "%%writefile setup/chp08_imports.py\n",
    "import glob\n",
    "import locale\n",
    "import os\n",
    "import pprint\n",
    "import random\n",
    "import shlex\n",
    "import subprocess\n",
    "import warnings\n",
    "from pathlib import Path\n",
    "from random import shuffle\n",
    "\n",
    "import matplotlib.pyplot as plt\n",
    "import numpy as np\n",
    "import pandas as pd\n",
    "import seaborn as sns\n",
    "from gensim.models import KeyedVectors\n",
    "from nltk.tokenize import TreebankWordTokenizer\n",
    "from tensorflow.keras.layers import Bidirectional\n",
    "from tensorflow.keras.layers import Dense\n",
    "from tensorflow.keras.layers import Dropout\n",
    "from tensorflow.keras.layers import Flatten\n",
    "from tensorflow.keras.layers import SimpleRNN\n",
    "from tensorflow.keras.models import Sequential\n",
    "from tensorflow.keras.models import model_from_json\n",
    "from tqdm.auto import tqdm\n",
    "from watermark import watermark"
   ]
  },
  {
   "cell_type": "code",
   "execution_count": 7,
   "metadata": {},
   "outputs": [
    {
     "name": "stdout",
     "output_type": "stream",
     "text": [
      "Fixing /Users/gb/Desktop/examples/setup/chp08_imports.py\n",
      "import glob\n",
      "import locale\n",
      "import os\n",
      "import pprint\n",
      "import random\n",
      "import shlex\n",
      "import subprocess\n",
      "import warnings\n",
      "from pathlib import Path\n",
      "from random import shuffle\n",
      "\n",
      "import matplotlib.pyplot as plt\n",
      "import numpy as np\n",
      "import pandas as pd\n",
      "import seaborn as sns\n",
      "from gensim.models import KeyedVectors\n",
      "from nltk.tokenize import TreebankWordTokenizer\n",
      "from tensorflow.keras.layers import Bidirectional\n",
      "from tensorflow.keras.layers import Dense\n",
      "from tensorflow.keras.layers import Dropout\n",
      "from tensorflow.keras.layers import Flatten\n",
      "from tensorflow.keras.layers import SimpleRNN\n",
      "from tensorflow.keras.models import Sequential\n",
      "from tensorflow.keras.models import model_from_json\n",
      "from tqdm.auto import tqdm\n",
      "from watermark import watermark\n"
     ]
    }
   ],
   "source": [
    "!isort setup/chp08_imports.py --sl\n",
    "!cat setup/chp08_imports.py"
   ]
  },
  {
   "cell_type": "code",
   "execution_count": 9,
   "metadata": {},
   "outputs": [],
   "source": [
    "import glob\n",
    "import locale\n",
    "import os\n",
    "import pprint\n",
    "import random\n",
    "import shlex\n",
    "import subprocess\n",
    "import warnings\n",
    "from pathlib import Path\n",
    "from random import shuffle\n",
    "\n",
    "import matplotlib.pyplot as plt\n",
    "import numpy as np\n",
    "import pandas as pd\n",
    "import seaborn as sns\n",
    "from gensim.models import KeyedVectors\n",
    "from nltk.tokenize import TreebankWordTokenizer\n",
    "from tensorflow.keras.layers import Bidirectional\n",
    "from tensorflow.keras.layers import Dense\n",
    "from tensorflow.keras.layers import Dropout\n",
    "from tensorflow.keras.layers import Flatten\n",
    "from tensorflow.keras.layers import SimpleRNN\n",
    "from tensorflow.keras.models import Sequential\n",
    "from tensorflow.keras.models import model_from_json\n",
    "from tqdm.auto import tqdm\n",
    "from watermark import watermark"
   ]
  },
  {
   "cell_type": "code",
   "execution_count": 9,
   "metadata": {},
   "outputs": [
    {
     "name": "stdout",
     "output_type": "stream",
     "text": [
      "Python implementation: CPython\n",
      "Python version       : 3.8.12\n",
      "IPython version      : 7.34.0\n",
      "\n",
      "Compiler    : Clang 13.0.0 (clang-1300.0.29.3)\n",
      "OS          : Darwin\n",
      "Release     : 21.6.0\n",
      "Machine     : x86_64\n",
      "Processor   : i386\n",
      "CPU cores   : 4\n",
      "Architecture: 64bit\n",
      "\n",
      "seaborn   : 0.12.1\n",
      "pandas    : 1.5.3\n",
      "sys       : 3.8.12 (default, Dec 13 2021, 20:17:08) \n",
      "[Clang 13.0.0 (clang-1300.0.29.3)]\n",
      "matplotlib: 3.6.2\n",
      "numpy     : 1.23.5\n",
      "\n"
     ]
    }
   ],
   "source": [
    "def HR():\n",
    "    print(\"-\"*40)\n",
    "    \n",
    "def getpreferredencoding(do_setlocale = True):\n",
    "    return \"UTF-8\"\n",
    "\n",
    "locale.getpreferredencoding = getpreferredencoding\n",
    "warnings.filterwarnings('ignore')\n",
    "sns.set_style(\"darkgrid\")\n",
    "tqdm.pandas(desc=\"progress-bar\")\n",
    "pp = pprint.PrettyPrinter(indent=4)\n",
    "random.seed(42)\n",
    "np.random.seed(42)\n",
    "\n",
    "print(watermark(iversions=True,globals_=globals(),python=True,machine=True))"
   ]
  },
  {
   "cell_type": "markdown",
   "metadata": {
    "id": "161rnTuKCGP4"
   },
   "source": [
    "---\n",
    "<a name='8.1'></a><a id='8.1'></a>\n",
    "# 8.1 Remembering with recurrent networks\n",
    "<a href=\"#top\">[back to top]</a>\n",
    "\n",
    "Problem: What is the basic characteristic of sequence in NLP? \n",
    "\n",
    "Idea: Words in a document are rarely completely independent of each other. Their occurrence influences or is influenced by occurrences of other words in a document. What came before is important to a model's understanding of the sequence, and to model relationships. \n",
    "\n",
    "Importance: We can a model a sequential relatinship via RNNs, which enables affecting state across time."
   ]
  },
  {
   "cell_type": "markdown",
   "metadata": {
    "id": "MxfR0FiqCGP4"
   },
   "source": [
    "<a name='8.1.1'></a><a id='8.1.1'></a>\n",
    "## 8.1.1 Backpropagation through time\n",
    "<a href=\"#top\">[back to top]</a>\n",
    "\n",
    "Problem: What is mechanism for backpropagation through time?\n",
    "\n",
    "Idea: These are the basic steps\n",
    "\n",
    "* Break each data sample into tokens.\n",
    "* Pass each token into feedforward net.\n",
    "* Pass the output of each time step to the input of the same layer alongside the input from the next time step.\n",
    "* Collect the output of the last time step and compare it to the label.\n",
    "* Backpropagate the error through the whole graph, all the way back to the first input at time step 0."
   ]
  },
  {
   "cell_type": "markdown",
   "metadata": {
    "id": "d0COF5_4CGP5"
   },
   "source": [
    "<a name='8.1.2'></a><a id='8.1.2'></a>\n",
    "## 8.1.2 When do we update what?\n",
    "<a href=\"#top\">[back to top]</a>\n",
    "\n",
    "Problem: When do we update the weights in a RNN?\n",
    "\n",
    "Idea: Weight corrections are calculated at each time step, but no immediately updated. \n",
    "\n",
    "Importance: In a feedforward, non-RNN network, all weight updates are calculated once all the gradients have been calculated for that input. In a RNN, the same holds, but we have to hold the updates until we go all the way back in time, to time step 0 for that particular input sample. The gradient calculations need to be based on the values that the weights had when they contributed that much to the error. "
   ]
  },
  {
   "cell_type": "markdown",
   "metadata": {
    "id": "oyJqXGRcCGP6"
   },
   "source": [
    "<a name='8.1.3'></a><a id='8.1.3'></a>\n",
    "## 8.1.3 Recap\n",
    "<a href=\"#top\">[back to top]</a>\n",
    "\n",
    "Problem: What is the basic requirement for a RNN?\n",
    "\n",
    "Idea: Essentially, a RNN is a feedforward network needs to have some concept of time, and a way to manage/maintain state of occurrences in that timeline."
   ]
  },
  {
   "cell_type": "markdown",
   "metadata": {
    "id": "Xve7Wgc4CGP6"
   },
   "source": [
    "<a name='8.1.4'></a><a id='8.1.4'></a>\n",
    "## 8.1.4 There's always a catch\n",
    "<a href=\"#top\">[back to top]</a>\n",
    "\n",
    "Problem: What is the biggest problem of a RNN?\n",
    "\n",
    "Idea: The *vanishing gradient problem* and *exploding gradient problem*. In the first, the error signal dissipates with every computation of the gradient, whereas in the latter it grows. Essentially, the gradient may vanish or explode on the way to the last weight set.\n",
    "\n",
    "Importance: This problem also applies to regular feed forward networks. However this problem is worsened in RNNs, since these tend to be much deeper, with sequences of tokens that can be hundreds long. "
   ]
  },
  {
   "cell_type": "markdown",
   "metadata": {
    "id": "YVKTmDMRCGP7"
   },
   "source": [
    "<a name='8.1.5'></a><a id='8.1.5'></a>\n",
    "## 8.1.5 Recurrent neural net with Keras\n",
    "<a href=\"#top\">[back to top]</a>\n",
    "\n",
    "Problem: How to create a basic RNN with Keras?\n",
    "\n",
    "Idea: These are the basic steps:\n",
    "\n",
    "1. Preprocess dataset\n",
    "2. Tokenize and vectorize dataset\n",
    "3. Split into training and test datasets\n",
    "4. Create a basic Sequential model with recurrent SimpleRNN layer\n",
    "5. Add a Dropout layer\n",
    "6. Compile and train the model"
   ]
  },
  {
   "cell_type": "markdown",
   "metadata": {},
   "source": [
    "<a id='aclImdb_v1.tar.gz'></a><a name='aclImdb_v1.tar.gz'></a>\n",
    "### Dataset: aclImdb_v1.tar.gz\n",
    "<a href=\"#top\">[back to top]</a>"
   ]
  },
  {
   "cell_type": "code",
   "execution_count": 10,
   "metadata": {
    "colab": {
     "base_uri": "https://localhost:8080/"
    },
    "id": "uXZt1KQDFH_c",
    "outputId": "ee962540-d003-4db5-8ce7-1c7eed9793d2"
   },
   "outputs": [
    {
     "name": "stdout",
     "output_type": "stream",
     "text": [
      "\n",
      "data_imdb_file:\taclImdb_v1.tar.gz\n",
      "data_imdb_url:\thttps://www.dropbox.com/s/yviic64qv84x73j/aclImdb_v1.tar.gz?dl=1\n",
      "data_imdb_dir:\tdata/data_imdb\n",
      "data_imdb_src:\tdata/data_imdb/aclImdb_v1.tar.gz\n",
      "data_imdb_path:\tdata/data_imdb/aclImdb\n",
      "\n"
     ]
    }
   ],
   "source": [
    "data_imdb_file = \"aclImdb_v1.tar.gz\"\n",
    "data_imdb_url = f\"https://www.dropbox.com/s/yviic64qv84x73j/{data_imdb_file}?dl=1\"\n",
    "data_imdb_dir = Path(\"data/data_imdb\")\n",
    "data_imdb_src = data_imdb_dir / data_imdb_file\n",
    "data_imdb_path = data_imdb_dir / \"aclImdb\"\n",
    "\n",
    "print(f\"\"\"\n",
    "data_imdb_file:\\t{data_imdb_file}\n",
    "data_imdb_url:\\t{data_imdb_url}\n",
    "data_imdb_dir:\\t{data_imdb_dir}\n",
    "data_imdb_src:\\t{data_imdb_src}\n",
    "data_imdb_path:\\t{data_imdb_path}\n",
    "\"\"\")"
   ]
  },
  {
   "cell_type": "code",
   "execution_count": 11,
   "metadata": {
    "colab": {
     "base_uri": "https://localhost:8080/"
    },
    "id": "ccNzw5I7FSLC",
    "outputId": "be03ca14-50dd-4d05-fedd-05a1af2b5161"
   },
   "outputs": [
    {
     "name": "stdout",
     "output_type": "stream",
     "text": [
      "data/data_imdb/aclImdb_v1.tar.gz exists.\n"
     ]
    }
   ],
   "source": [
    "if not os.path.exists(data_imdb_dir):\n",
    "    os.mkdir(data_imdb_dir)\n",
    "    \n",
    "if not data_imdb_src.is_file():\n",
    "    print(f\"Downloading {data_imdb_url} to {data_imdb_src}\")\n",
    "    subprocess.run(shlex.split(f\"wget -q -O {data_imdb_src} {data_imdb_url}\"))\n",
    "    print(\"Done.\")\n",
    "else:\n",
    "    print(f\"{data_imdb_src} exists.\")"
   ]
  },
  {
   "cell_type": "code",
   "execution_count": 12,
   "metadata": {
    "colab": {
     "base_uri": "https://localhost:8080/"
    },
    "id": "QyrMSOReFSPz",
    "outputId": "7ec7838f-0c26-4350-bc44-b22a0edeee07"
   },
   "outputs": [
    {
     "name": "stdout",
     "output_type": "stream",
     "text": [
      " 50M\tdata/data_imdb/aclImdb/aclImdb/test/neg\n",
      " 50M\tdata/data_imdb/aclImdb/aclImdb/test/pos\n",
      "121M\tdata/data_imdb/aclImdb/aclImdb/test\n",
      " 50M\tdata/data_imdb/aclImdb/aclImdb/train/neg\n",
      "201M\tdata/data_imdb/aclImdb/aclImdb/train/unsup\n",
      " 50M\tdata/data_imdb/aclImdb/aclImdb/train/pos\n",
      "365M\tdata/data_imdb/aclImdb/aclImdb/train\n",
      "487M\tdata/data_imdb/aclImdb/aclImdb\n",
      "487M\tdata/data_imdb/aclImdb\n"
     ]
    }
   ],
   "source": [
    "!du -h {data_imdb_path}"
   ]
  },
  {
   "cell_type": "markdown",
   "metadata": {},
   "source": [
    "<a id='GoogleNews-vectors-negative300.bin.gz'></a><a name='GoogleNews-vectors-negative300.bin.gz'></a>\n",
    "### Dataset: GoogleNews-vectors-negative300.bin.gz\n",
    "<a href=\"#top\">[back to top]</a>"
   ]
  },
  {
   "cell_type": "code",
   "execution_count": 13,
   "metadata": {
    "colab": {
     "base_uri": "https://localhost:8080/"
    },
    "id": "fRCaVcTEFlBc",
    "outputId": "07449176-9ad3-45c8-fcd7-5711cb3cbd80"
   },
   "outputs": [
    {
     "name": "stdout",
     "output_type": "stream",
     "text": [
      "File ‘data/data_word2vec/GoogleNews-vectors-negative300.bin.gz’ already there; not retrieving.\n",
      "total 3216888\n",
      "-rw-r--r--  1 gb  staff  1647046227 Mar 25 12:29 GoogleNews-vectors-negative300.bin.gz\n"
     ]
    }
   ],
   "source": [
    "data_gn_dir = 'data/data_word2vec'\n",
    "if not os.path.exists(data_gn_dir):\n",
    "    os.mkdir(data_gn_dir)\n",
    "\n",
    "data_gn_file = 'GoogleNews-vectors-negative300.bin.gz'\n",
    "data_gn_path = f\"{data_gn_dir}/{data_gn_file}\"\n",
    "!wget -P {data_gn_dir} -O {data_gn_path} -nc \"https://www.dropbox.com/s/965dir4dje0hfi4/GoogleNews-vectors-negative300.bin.gz/GoogleNews-vectors-negative300.bin.gz?dl=1\"\n",
    "!ls -l {data_gn_dir}"
   ]
  },
  {
   "cell_type": "code",
   "execution_count": 14,
   "metadata": {
    "colab": {
     "base_uri": "https://localhost:8080/"
    },
    "id": "u6ltHTYbFlEF",
    "outputId": "0ca0a2de-a12f-4fe8-dcbe-da367c242223"
   },
   "outputs": [
    {
     "name": "stdout",
     "output_type": "stream",
     "text": [
      "1.5G\tdata/data_word2vec/GoogleNews-vectors-negative300.bin.gz\n"
     ]
    }
   ],
   "source": [
    "!du -h {data_gn_path}"
   ]
  },
  {
   "cell_type": "code",
   "execution_count": 15,
   "metadata": {
    "id": "vRIlFZ0Qa5rr"
   },
   "outputs": [],
   "source": [
    "# Constants for IMDB training data and Word2vec data\n",
    "TRAINING_DATA_N = 2_000 # ok: 1000, 2000 / 10_000 results in a crash\n",
    "\n",
    "# Possible values:\n",
    "# None\n",
    "# 200_000 most common words from the Google News corpus\n",
    "WORD_2_VEC_N = 200_000"
   ]
  },
  {
   "cell_type": "code",
   "execution_count": 16,
   "metadata": {
    "id": "XjxEFpW3CGP8"
   },
   "outputs": [],
   "source": [
    "def pre_process_data(filepath):\n",
    "    \"\"\"\n",
    "    This is dependent on your training data source but we will try to generalize it as best as possible.\n",
    "    \"\"\"\n",
    "    positive_path = os.path.join(filepath, 'pos')\n",
    "    negative_path = os.path.join(filepath, 'neg')    \n",
    "    pos_label = 1\n",
    "    neg_label = 0\n",
    "    \n",
    "    dataset = []\n",
    "    \n",
    "    for i, filename in enumerate(glob.glob(os.path.join(positive_path, '*.txt'))):\n",
    "        if i < TRAINING_DATA_N:\n",
    "            with open(filename, 'r') as f:\n",
    "                dataset.append((pos_label, f.read()))\n",
    "        else:\n",
    "            break\n",
    "                \n",
    "    for i, filename in enumerate(glob.glob(os.path.join(negative_path, '*.txt'))):\n",
    "        if i < TRAINING_DATA_N:\n",
    "            with open(filename, 'r') as f:\n",
    "                dataset.append((neg_label, f.read()))\n",
    "        else:\n",
    "            break\n",
    "            \n",
    "    shuffle(dataset)\n",
    "    \n",
    "    return dataset"
   ]
  },
  {
   "cell_type": "code",
   "execution_count": 17,
   "metadata": {
    "colab": {
     "base_uri": "https://localhost:8080/"
    },
    "id": "DxHcdTm1CGP9",
    "outputId": "042d9e96-8376-4ddf-d0f9-12aae2abaea6"
   },
   "outputs": [
    {
     "name": "stdout",
     "output_type": "stream",
     "text": [
      "CPU times: user 5.47 s, sys: 500 ms, total: 5.97 s\n",
      "Wall time: 6.92 s\n"
     ]
    }
   ],
   "source": [
    "%%time\n",
    "# Load GoogleNews Word2Vec vocabulary\n",
    "word_vectors = KeyedVectors.load_word2vec_format(\n",
    "    data_gn_path, \n",
    "    binary=True, \n",
    "    limit=WORD_2_VEC_N # 200_000\n",
    ")"
   ]
  },
  {
   "cell_type": "code",
   "execution_count": 18,
   "metadata": {
    "id": "u94VcUg3CGP-"
   },
   "outputs": [],
   "source": [
    "# Listing 8.3 Data tokenizer + vectorizer\n",
    "# Tokenize and vectorize the IMDB dataset using the Google Word2vec model\n",
    "def tokenize_and_vectorize(dataset):\n",
    "    tokenizer = TreebankWordTokenizer()\n",
    "    vectorized_data = []\n",
    "    expected = []\n",
    "    for sample in dataset:\n",
    "        tokens = tokenizer.tokenize(sample[1])\n",
    "        sample_vecs = []\n",
    "        for token in tokens:\n",
    "            try:\n",
    "                sample_vecs.append(word_vectors[token])\n",
    "\n",
    "            except KeyError:\n",
    "                pass  # No matching token in the Google w2v vocab\n",
    "            \n",
    "        vectorized_data.append(sample_vecs)\n",
    "\n",
    "    return vectorized_data"
   ]
  },
  {
   "cell_type": "code",
   "execution_count": 19,
   "metadata": {
    "colab": {
     "base_uri": "https://localhost:8080/"
    },
    "id": "LMKKQb25CGP-",
    "outputId": "54516ff3-177a-4993-9849-d359811ddc28"
   },
   "outputs": [
    {
     "data": {
      "text/plain": [
       "array([ 0.05126953, -0.02233887, -0.17285156,  0.16113281, -0.08447266],\n",
       "      dtype=float32)"
      ]
     },
     "execution_count": 19,
     "metadata": {},
     "output_type": "execute_result"
    }
   ],
   "source": [
    "word_vectors[\"dog\"][:5]"
   ]
  },
  {
   "cell_type": "code",
   "execution_count": 20,
   "metadata": {
    "id": "s7Ky-MFCCGP_"
   },
   "outputs": [],
   "source": [
    "# Listing 8.4 Target unzipper\n",
    "def collect_expected(dataset):\n",
    "    \"\"\"Peel off the target values from the dataset \"\"\"\n",
    "    expected = []\n",
    "    for sample in dataset:\n",
    "        expected.append(sample[0])\n",
    "    return expected"
   ]
  },
  {
   "cell_type": "code",
   "execution_count": 21,
   "metadata": {
    "colab": {
     "base_uri": "https://localhost:8080/"
    },
    "id": "iPHX0sYA6PuR",
    "outputId": "986075b8-6834-4376-d988-268a7ede65a2"
   },
   "outputs": [
    {
     "name": "stdout",
     "output_type": "stream",
     "text": [
      " 50M\tdata/data_imdb/aclImdb/aclImdb/train/neg\n",
      "201M\tdata/data_imdb/aclImdb/aclImdb/train/unsup\n",
      " 50M\tdata/data_imdb/aclImdb/aclImdb/train/pos\n",
      "365M\tdata/data_imdb/aclImdb/aclImdb/train\n"
     ]
    }
   ],
   "source": [
    "!du -h {data_imdb_path}/aclImdb/train"
   ]
  },
  {
   "cell_type": "code",
   "execution_count": 22,
   "metadata": {
    "colab": {
     "base_uri": "https://localhost:8080/"
    },
    "id": "HJN2UviOCGQA",
    "outputId": "8d786e67-ce33-494c-b68f-0f57d9d945ea"
   },
   "outputs": [
    {
     "name": "stdout",
     "output_type": "stream",
     "text": [
      "Preprocess training dataset\n",
      "Create vectorized data\n",
      "Preprocess target dataset\n",
      "CPU times: user 7.33 s, sys: 1.02 s, total: 8.35 s\n",
      "Wall time: 11.4 s\n"
     ]
    }
   ],
   "source": [
    "%%time\n",
    "# Listing 8.5 Load and prepare the data\n",
    "print(\"Preprocess training dataset\")\n",
    "dataset = pre_process_data(f\"{data_imdb_path}/aclImdb/train\")\n",
    "\n",
    "print(\"Create vectorized data\")\n",
    "vectorized_data = tokenize_and_vectorize(dataset)\n",
    "\n",
    "print(\"Preprocess target dataset\")\n",
    "expected = collect_expected(dataset)"
   ]
  },
  {
   "cell_type": "code",
   "execution_count": 23,
   "metadata": {
    "colab": {
     "base_uri": "https://localhost:8080/"
    },
    "id": "aQXdbsLhCGQA",
    "outputId": "23b7f878-46de-4271-b81e-8ae26a124c9d"
   },
   "outputs": [
    {
     "name": "stdout",
     "output_type": "stream",
     "text": [
      "4000\n",
      "4000\n",
      "4000\n"
     ]
    }
   ],
   "source": [
    "print(len(dataset))\n",
    "print(len(vectorized_data))\n",
    "print(len(expected))"
   ]
  },
  {
   "cell_type": "code",
   "execution_count": 24,
   "metadata": {
    "colab": {
     "base_uri": "https://localhost:8080/"
    },
    "id": "TFNQDoEqCGQA",
    "outputId": "2e1c43ed-8392-47a3-d66e-9efc58fabcdb"
   },
   "outputs": [
    {
     "name": "stdout",
     "output_type": "stream",
     "text": [
      "CPU times: user 86 µs, sys: 33 µs, total: 119 µs\n",
      "Wall time: 125 µs\n"
     ]
    }
   ],
   "source": [
    "%%time\n",
    "split_point = int(len(vectorized_data)*.8)\n",
    "\n",
    "x_train = vectorized_data[:split_point]\n",
    "y_train = expected[:split_point]\n",
    "x_test = vectorized_data[split_point:]\n",
    "y_test = expected[split_point:]"
   ]
  },
  {
   "cell_type": "code",
   "execution_count": 25,
   "metadata": {
    "id": "ibijPe90CGQB"
   },
   "outputs": [],
   "source": [
    "# Listing 8.6 Initialize your network parameters\n",
    "maxlen = 400\n",
    "batch_size = 32         # How many samples to show the net before backpropogating the error and updating the weights\n",
    "embedding_dims = 300    # Length of the token vectors we will create for passing into the Convnet\n",
    "epochs = 2"
   ]
  },
  {
   "cell_type": "code",
   "execution_count": 26,
   "metadata": {
    "id": "BeTAkzegCGQB"
   },
   "outputs": [],
   "source": [
    "def pad_trunc(data, maxlen):\n",
    "    \"\"\" For a given dataset pad with zero vectors or truncate to maxlen \"\"\"\n",
    "    new_data = []\n",
    "\n",
    "    # Create a vector of 0's the length of our word vectors\n",
    "    zero_vector = []\n",
    "    for _ in range(len(data[0][0])):\n",
    "        zero_vector.append(0.0)\n",
    "\n",
    "    for sample in data:\n",
    " \n",
    "        if len(sample) > maxlen:\n",
    "            temp = sample[:maxlen]\n",
    "        elif len(sample) < maxlen:\n",
    "            temp = sample\n",
    "            additional_elems = maxlen - len(sample)\n",
    "            for _ in range(additional_elems):\n",
    "                temp.append(zero_vector)\n",
    "        else:\n",
    "            temp = sample\n",
    "        new_data.append(temp)\n",
    "    return new_data"
   ]
  },
  {
   "cell_type": "code",
   "execution_count": 27,
   "metadata": {
    "colab": {
     "base_uri": "https://localhost:8080/"
    },
    "id": "P2ItcNWVCGQC",
    "outputId": "29367887-2626-42cb-8d96-cb1c9ff09d3a"
   },
   "outputs": [
    {
     "name": "stdout",
     "output_type": "stream",
     "text": [
      "Prepare training and test splits\n",
      "Done with padding\n",
      "CPU times: user 92.6 ms, sys: 11.3 ms, total: 104 ms\n",
      "Wall time: 130 ms\n"
     ]
    }
   ],
   "source": [
    "%%time\n",
    "# Listing 8.7 Load your test and training data\n",
    "# This may require a lot of memory and crash Colab.\n",
    "print(\"Prepare training and test splits\")\n",
    "x_train = pad_trunc(x_train, maxlen)\n",
    "x_test = pad_trunc(x_test, maxlen)\n",
    "print(\"Done with padding\")"
   ]
  },
  {
   "cell_type": "code",
   "execution_count": 28,
   "metadata": {
    "colab": {
     "base_uri": "https://localhost:8080/"
    },
    "id": "wCKp0RHUADQI",
    "outputId": "30caada7-7156-41a8-c67c-a2ab72ef5f1f"
   },
   "outputs": [
    {
     "name": "stdout",
     "output_type": "stream",
     "text": [
      "3200\n",
      "800\n"
     ]
    }
   ],
   "source": [
    "print(len(x_train))\n",
    "print(len(x_test))"
   ]
  },
  {
   "cell_type": "markdown",
   "metadata": {
    "id": "zMDicgSaCvrB"
   },
   "source": [
    "**Note**\n",
    "\n",
    "Creating a huge Python list and then casting it to a Numpy array requires too much memory, and this crashes on Colab.\n",
    "\n",
    "One response to create a list small enough so it doesn't exceed available memory.\n",
    "\n",
    "Another is to create a numpy array without \"casting\" a list (or other iterable), by using one of the several methods defined by numpy itself that returns array:\n",
    "\n",
    "    np.empty, np.zeros, np.ones, np.full \n",
    "    \n",
    "These create arrays of given size with fixed values. However, the array size/shape must be known beforehand."
   ]
  },
  {
   "cell_type": "code",
   "execution_count": 29,
   "metadata": {
    "colab": {
     "base_uri": "https://localhost:8080/"
    },
    "id": "l0ioCaKt9lJ2",
    "outputId": "66bfde93-fa31-49f3-ed1e-3580d451f335"
   },
   "outputs": [
    {
     "name": "stdout",
     "output_type": "stream",
     "text": [
      "Reshaping training and test splits\n",
      "Done\n",
      "CPU times: user 20.9 s, sys: 2.46 s, total: 23.4 s\n",
      "Wall time: 28 s\n"
     ]
    }
   ],
   "source": [
    "%%time\n",
    "print(\"Reshaping training and test splits\")\n",
    "x_train = np.reshape(x_train, (len(x_train), maxlen, embedding_dims))\n",
    "y_train = np.array(y_train)\n",
    "x_test = np.reshape(x_test, (len(x_test), maxlen, embedding_dims))\n",
    "y_test = np.array(y_test)\n",
    "print(\"Done\")"
   ]
  },
  {
   "cell_type": "code",
   "execution_count": 30,
   "metadata": {
    "colab": {
     "base_uri": "https://localhost:8080/"
    },
    "id": "pulGA8lC3_Hc",
    "outputId": "e6f0953b-3f79-43b7-c8ca-ff1e6694f795"
   },
   "outputs": [
    {
     "name": "stdout",
     "output_type": "stream",
     "text": [
      "<class 'numpy.ndarray'>\n",
      "----------------------------------------\n",
      "x_train: (3200, 400, 300)\n",
      "y_train: (3200,)\n",
      "x_test: (800, 400, 300)\n",
      "y_test: (800,)\n"
     ]
    }
   ],
   "source": [
    "print(type(x_train))\n",
    "HR()\n",
    "print(f\"x_train: {x_train.shape}\")\n",
    "print(f\"y_train: {y_train.shape}\")\n",
    "print(f\"x_test: {x_test.shape}\")\n",
    "print(f\"y_test: {y_test.shape}\")"
   ]
  },
  {
   "cell_type": "code",
   "execution_count": 31,
   "metadata": {
    "colab": {
     "base_uri": "https://localhost:8080/"
    },
    "id": "UON1FH7NCGQC",
    "outputId": "ae09d217-ddf2-45bd-d1fc-ee512efe35b0"
   },
   "outputs": [
    {
     "name": "stdout",
     "output_type": "stream",
     "text": [
      "Build model\n"
     ]
    },
    {
     "name": "stderr",
     "output_type": "stream",
     "text": [
      "2023-03-30 21:25:11.801882: I tensorflow/core/platform/cpu_feature_guard.cc:193] This TensorFlow binary is optimized with oneAPI Deep Neural Network Library (oneDNN) to use the following CPU instructions in performance-critical operations:  AVX2 FMA\n",
      "To enable them in other operations, rebuild TensorFlow with the appropriate compiler flags.\n"
     ]
    },
    {
     "name": "stdout",
     "output_type": "stream",
     "text": [
      "CPU times: user 183 ms, sys: 82.6 ms, total: 266 ms\n",
      "Wall time: 498 ms\n"
     ]
    },
    {
     "data": {
      "text/plain": [
       "<keras.engine.sequential.Sequential at 0x1122e86d0>"
      ]
     },
     "execution_count": 31,
     "metadata": {},
     "output_type": "execute_result"
    }
   ],
   "source": [
    "%%time\n",
    "# Listing 8.8 Initialize an empty Keras network\n",
    "num_neurons = 50\n",
    "\n",
    "print('Build model')\n",
    "model = Sequential()\n",
    "\n",
    "# Listing 8.9 Add a recurrent layer\n",
    "model.add(SimpleRNN(num_neurons, return_sequences=True, input_shape=(maxlen, embedding_dims)))\n",
    "\n",
    "# Listing 8.10 Add a dropout layer\n",
    "model.add(Dropout(.2))\n",
    "model.add(Flatten())\n",
    "model.add(Dense(1, activation='sigmoid'))\n",
    "\n",
    "model"
   ]
  },
  {
   "cell_type": "markdown",
   "metadata": {
    "id": "2eQg1-uUCGQD"
   },
   "source": [
    "---\n",
    "<a name='8.2'></a><a id='8.2'></a>\n",
    "# 8.2 Putting things together\n",
    "<a href=\"#top\">[back to top]</a>\n",
    "\n",
    "Problem: What are the key points of this particular model?\n",
    "\n",
    "Idea: This recurrent neural network is small, but we are learning 37,551 parameters. This is a lot of weights to update based on 20,000 training samples. "
   ]
  },
  {
   "cell_type": "code",
   "execution_count": 32,
   "metadata": {
    "colab": {
     "base_uri": "https://localhost:8080/"
    },
    "id": "MlH1mSGhCGQD",
    "outputId": "be60e751-b99e-456b-d72f-b4a1d0ace893"
   },
   "outputs": [
    {
     "name": "stdout",
     "output_type": "stream",
     "text": [
      "Model: \"sequential\"\n",
      "_________________________________________________________________\n",
      " Layer (type)                Output Shape              Param #   \n",
      "=================================================================\n",
      " simple_rnn (SimpleRNN)      (None, 400, 50)           17550     \n",
      "                                                                 \n",
      " dropout (Dropout)           (None, 400, 50)           0         \n",
      "                                                                 \n",
      " flatten (Flatten)           (None, 20000)             0         \n",
      "                                                                 \n",
      " dense (Dense)               (None, 1)                 20001     \n",
      "                                                                 \n",
      "=================================================================\n",
      "Total params: 37,551\n",
      "Trainable params: 37,551\n",
      "Non-trainable params: 0\n",
      "_________________________________________________________________\n",
      "None\n"
     ]
    }
   ],
   "source": [
    "# Listing 8.11 Compile your recurrent network\n",
    "model.compile(\n",
    "    'rmsprop',\n",
    "    'binary_crossentropy',  \n",
    "    metrics=['accuracy']\n",
    ")\n",
    "\n",
    "print(model.summary())"
   ]
  },
  {
   "cell_type": "markdown",
   "metadata": {
    "id": "YlM6j5fKCGQD"
   },
   "source": [
    "---\n",
    "<a name='8.3'></a><a id='8.3'></a>\n",
    "# 8.3 Let's get to learning our past selves\n",
    "<a href=\"#top\">[back to top]</a>\n",
    "\n",
    "Problem: What is the next step?\n",
    "\n",
    "Idea: Use the .fit() method on this model."
   ]
  },
  {
   "cell_type": "code",
   "execution_count": 33,
   "metadata": {
    "colab": {
     "base_uri": "https://localhost:8080/"
    },
    "id": "xPOJ7qA7CGQE",
    "outputId": "29886f85-412c-4486-c70b-14eb23135e0e"
   },
   "outputs": [
    {
     "name": "stdout",
     "output_type": "stream",
     "text": [
      "Fitting model\n",
      "----------------------------------------\n",
      "Epoch 1/2\n",
      "100/100 [==============================] - 17s 153ms/step - loss: 0.7064 - accuracy: 0.5756 - val_loss: 0.7070 - val_accuracy: 0.6187\n",
      "Epoch 2/2\n",
      "100/100 [==============================] - 13s 128ms/step - loss: 0.4658 - accuracy: 0.7788 - val_loss: 0.5932 - val_accuracy: 0.6938\n",
      "----------------------------------------\n",
      "Done\n",
      "CPU times: user 45.9 s, sys: 21.1 s, total: 1min 7s\n",
      "Wall time: 35.8 s\n"
     ]
    }
   ],
   "source": [
    "%%time\n",
    "# Listing 8.12 Train and save your model\n",
    "print(\"Fitting model\")\n",
    "HR()\n",
    "hist = model.fit(\n",
    "    x_train, \n",
    "    y_train,\n",
    "    batch_size=batch_size,\n",
    "    epochs=epochs,\n",
    "    validation_data=(x_test, y_test),\n",
    "    verbose=1\n",
    ")\n",
    "\n",
    "HR()\n",
    "print(\"Done\")"
   ]
  },
  {
   "cell_type": "code",
   "execution_count": 34,
   "metadata": {
    "colab": {
     "base_uri": "https://localhost:8080/"
    },
    "id": "Fp3aw1RDN6TE",
    "outputId": "c1edcda2-fac7-464c-b207-1e082ccce165"
   },
   "outputs": [
    {
     "name": "stdout",
     "output_type": "stream",
     "text": [
      "dict_keys(['loss', 'accuracy', 'val_loss', 'val_accuracy'])\n"
     ]
    }
   ],
   "source": [
    "print(hist.history.keys())"
   ]
  },
  {
   "cell_type": "code",
   "execution_count": 35,
   "metadata": {
    "colab": {
     "base_uri": "https://localhost:8080/"
    },
    "id": "oJuwi6lhN-Wf",
    "outputId": "7fc758b9-399f-4bd5-d3af-712f2d86df6b"
   },
   "outputs": [
    {
     "name": "stdout",
     "output_type": "stream",
     "text": [
      "[0.7064127326011658, 0.4658125340938568]\n",
      "----------------------------------------\n",
      "[0.7070186138153076, 0.5932104587554932]\n",
      "----------------------------------------\n",
      "[0.5756250023841858, 0.7787500023841858]\n",
      "----------------------------------------\n",
      "[0.6187499761581421, 0.6937500238418579]\n"
     ]
    }
   ],
   "source": [
    "print(hist.history['loss'])\n",
    "HR()\n",
    "print(hist.history['val_loss'])\n",
    "HR()\n",
    "print(hist.history['accuracy'])\n",
    "HR()\n",
    "print(hist.history['val_accuracy'])"
   ]
  },
  {
   "cell_type": "code",
   "execution_count": 36,
   "metadata": {
    "colab": {
     "base_uri": "https://localhost:8080/",
     "height": 265
    },
    "id": "p2Piim3fOAL8",
    "outputId": "67c525e5-145c-44ff-897b-a914171b32e6"
   },
   "outputs": [
    {
     "data": {
      "image/png": "[encoded data removed]",
      "text/plain": [
       "<Figure size 640x480 with 1 Axes>"
      ]
     },
     "metadata": {},
     "output_type": "display_data"
    }
   ],
   "source": [
    "df = pd.DataFrame(hist.history)\n",
    "df.plot(legend=True, grid=True)\n",
    "plt.show()"
   ]
  },
  {
   "cell_type": "code",
   "execution_count": 37,
   "metadata": {},
   "outputs": [],
   "source": [
    "data_root = 'models/model_simplernn'\n",
    "\n",
    "if not os.path.exists(data_root):\n",
    "    os.makedirs(data_root)"
   ]
  },
  {
   "cell_type": "code",
   "execution_count": 38,
   "metadata": {
    "colab": {
     "base_uri": "https://localhost:8080/"
    },
    "id": "UvEfwitUCGQE",
    "outputId": "bc879c06-11fb-4045-87cd-152aff11afeb"
   },
   "outputs": [
    {
     "name": "stdout",
     "output_type": "stream",
     "text": [
      "Saving model\n",
      "----------------------------------------\n",
      "Model saved.\n"
     ]
    }
   ],
   "source": [
    "print(\"Saving model\")\n",
    "HR()\n",
    "\n",
    "model_structure = model.to_json()\n",
    "\n",
    "with open(f\"{data_root}/simplernn_model1.json\", \"w\") as json_file:\n",
    "    json_file.write(model_structure)\n",
    "\n",
    "model.save_weights(f\"{data_root}/simplernn_weights1.h5\")\n",
    "\n",
    "print('Model saved.')"
   ]
  },
  {
   "cell_type": "code",
   "execution_count": 39,
   "metadata": {
    "colab": {
     "base_uri": "https://localhost:8080/"
    },
    "id": "-fYVfNUSCGQF",
    "outputId": "e85cd5c9-8519-418c-8c21-c82e29eadc4d"
   },
   "outputs": [
    {
     "name": "stdout",
     "output_type": "stream",
     "text": [
      "556K\tmodels/model_simplernn\n"
     ]
    }
   ],
   "source": [
    "!du -h {data_root}"
   ]
  },
  {
   "cell_type": "markdown",
   "metadata": {
    "id": "ujU8L75ECGQF"
   },
   "source": [
    "---\n",
    "<a name='8.4'></a><a id='8.4'></a>\n",
    "# 8.4 Hyperparameters\n",
    "<a href=\"#top\">[back to top]</a>\n",
    "\n",
    "Problem:\n",
    "\n",
    "Idea:"
   ]
  },
  {
   "cell_type": "code",
   "execution_count": 40,
   "metadata": {
    "id": "ch9n7Y9WCGQF"
   },
   "outputs": [],
   "source": [
    "# Listing 8.13 Model parameters\n",
    "maxlen = 400\n",
    "embedding_dims = 300\n",
    "batch_size = 2\n",
    "epochs = 1 # 2\n",
    "num_neurons = 50"
   ]
  },
  {
   "cell_type": "code",
   "execution_count": 41,
   "metadata": {
    "colab": {
     "base_uri": "https://localhost:8080/"
    },
    "id": "HFIM1kcKCGQG",
    "outputId": "322ddd78-b272-444d-dcb9-f61609c108f1"
   },
   "outputs": [
    {
     "name": "stdout",
     "output_type": "stream",
     "text": [
      "Model: \"sequential_1\"\n",
      "_________________________________________________________________\n",
      " Layer (type)                Output Shape              Param #   \n",
      "=================================================================\n",
      " simple_rnn_1 (SimpleRNN)    (None, 400, 100)          40100     \n",
      "                                                                 \n",
      " dropout_1 (Dropout)         (None, 400, 100)          0         \n",
      "                                                                 \n",
      " flatten_1 (Flatten)         (None, 40000)             0         \n",
      "                                                                 \n",
      " dense_1 (Dense)             (None, 1)                 40001     \n",
      "                                                                 \n",
      "=================================================================\n",
      "Total params: 80,101\n",
      "Trainable params: 80,101\n",
      "Non-trainable params: 0\n",
      "_________________________________________________________________\n"
     ]
    }
   ],
   "source": [
    "# Listing 8.14 Building a larger network\n",
    "\n",
    "# Increase num_neurons from 50 to 100\n",
    "num_neurons = 100\n",
    "\n",
    "model = Sequential()\n",
    "model.add(SimpleRNN(num_neurons, return_sequences=True, input_shape=(maxlen, embedding_dims)))\n",
    "model.add(Dropout(.2))\n",
    "model.add(Flatten())\n",
    "model.add(Dense(1, activation='sigmoid'))\n",
    "\n",
    "model.compile(\n",
    "    'rmsprop',\n",
    "    'binary_crossentropy',\n",
    "    metrics=['accuracy'],\n",
    ")\n",
    "\n",
    "model.summary()"
   ]
  },
  {
   "cell_type": "code",
   "execution_count": 42,
   "metadata": {
    "colab": {
     "base_uri": "https://localhost:8080/"
    },
    "id": "IGXVauNhCGQH",
    "outputId": "16fbd05b-4e0b-4424-f18b-43bb18e3a359"
   },
   "outputs": [
    {
     "name": "stdout",
     "output_type": "stream",
     "text": [
      "1600/1600 [==============================] - 146s 90ms/step - loss: 2.8076 - accuracy: 0.5344 - val_loss: 1.7773 - val_accuracy: 0.6075\n"
     ]
    }
   ],
   "source": [
    "# Listing 8.15 Training your larger network\n",
    "hist = model.fit(\n",
    "    x_train,\n",
    "    y_train,\n",
    "    batch_size=batch_size,\n",
    "    epochs=epochs,\n",
    "    validation_data=(x_test, y_test)\n",
    ")"
   ]
  },
  {
   "cell_type": "code",
   "execution_count": 43,
   "metadata": {
    "colab": {
     "base_uri": "https://localhost:8080/",
     "height": 265
    },
    "id": "8MG-9r0lOINS",
    "outputId": "af18cfec-3b06-45f9-c634-9b45c141000a"
   },
   "outputs": [
    {
     "data": {
      "image/png": "[encoded data removed]",
      "text/plain": [
       "<Figure size 640x480 with 1 Axes>"
      ]
     },
     "metadata": {},
     "output_type": "display_data"
    }
   ],
   "source": [
    "df = pd.DataFrame(hist.history)\n",
    "df.plot(legend=True, grid=True)\n",
    "plt.show()"
   ]
  },
  {
   "cell_type": "code",
   "execution_count": 44,
   "metadata": {
    "colab": {
     "base_uri": "https://localhost:8080/"
    },
    "id": "p1mUCjxFCGQH",
    "outputId": "42e24458-11af-4985-e3f0-ca1a620c333c"
   },
   "outputs": [
    {
     "name": "stdout",
     "output_type": "stream",
     "text": [
      "Saving model2\n",
      "----------------------------------------\n",
      "Model saved.\n"
     ]
    }
   ],
   "source": [
    "print(\"Saving model2\")\n",
    "HR()\n",
    "\n",
    "model_structure = model.to_json()\n",
    "\n",
    "with open(f\"{data_root}/simplernn_model2.json\", \"w\") as json_file:\n",
    "    json_file.write(model_structure)\n",
    "\n",
    "model.save_weights(f\"{data_root}/simplernn_weights2.h5\")\n",
    "\n",
    "print('Model saved.')"
   ]
  },
  {
   "cell_type": "markdown",
   "metadata": {
    "id": "TjH0x-8RCGQH"
   },
   "source": [
    "---\n",
    "<a name='8.5'></a><a id='8.5'></a>\n",
    "# 8.5 Predicting\n",
    "<a href=\"#top\">[back to top]</a>\n",
    "\n",
    "Problem:\n",
    "\n",
    "Idea:"
   ]
  },
  {
   "cell_type": "code",
   "execution_count": 45,
   "metadata": {
    "id": "2Y6ZSrPUCGQH"
   },
   "outputs": [],
   "source": [
    "# Listing 8.16 Crummy weather sentiment\n",
    "sample_1 = \"\"\"I'm hate that the dismal weather that had me down for so long, \n",
    "when will it break! Ugh, when does happiness return?  \n",
    "The sun is blinding and the puffy clouds are too thin.  \n",
    "I can't wait for the weekend.\"\"\""
   ]
  },
  {
   "cell_type": "code",
   "execution_count": 46,
   "metadata": {
    "id": "rsuChF2wCGQJ"
   },
   "outputs": [],
   "source": [
    "with open(f\"{data_root}/simplernn_model1.json\", \"r\") as json_file:\n",
    "    json_string = json_file.read()\n",
    "    \n",
    "model = model_from_json(json_string)\n",
    "model.load_weights(f\"{data_root}/simplernn_weights1.h5\")"
   ]
  },
  {
   "cell_type": "code",
   "execution_count": 47,
   "metadata": {
    "id": "SO3nRPQICGQJ"
   },
   "outputs": [],
   "source": [
    "# We pass a dummy value in the first element of the tuple just because our helper expects it from the way processed the initial data.  That value won't ever see the network, so it can be whatever.\n",
    "vec_list = tokenize_and_vectorize([(1, sample_1)])\n",
    "\n",
    "# Tokenize returns a list of the data (length 1 here)\n",
    "test_vec_list = pad_trunc(vec_list, maxlen)\n",
    "\n",
    "test_vec = np.reshape(test_vec_list, (len(test_vec_list), maxlen, embedding_dims))"
   ]
  },
  {
   "cell_type": "code",
   "execution_count": 48,
   "metadata": {
    "colab": {
     "base_uri": "https://localhost:8080/"
    },
    "id": "UCV__zOpCGQJ",
    "outputId": "84896b9c-b3f3-4b40-83d2-642fb9ca992d"
   },
   "outputs": [
    {
     "name": "stdout",
     "output_type": "stream",
     "text": [
      "1/1 [==============================] - 0s 475ms/step\n",
      "[[0.60227954]]\n"
     ]
    }
   ],
   "source": [
    "y_pred = model.predict(test_vec)\n",
    "print(y_pred)"
   ]
  },
  {
   "cell_type": "code",
   "execution_count": 49,
   "metadata": {
    "id": "3VzpOynpjStW"
   },
   "outputs": [],
   "source": [
    "# 0 = negative review, 1 = positive review\n",
    "sentiment_imdb = []\n",
    "sentiment_imdb.append('Negative Sentiment')\n",
    "sentiment_imdb.append('Positive Sentiment')"
   ]
  },
  {
   "cell_type": "code",
   "execution_count": 50,
   "metadata": {
    "colab": {
     "base_uri": "https://localhost:8080/",
     "height": 55
    },
    "id": "Vc0dYalVCGQJ",
    "outputId": "93495f78-9ad4-4e66-ccc6-98c80de2d741"
   },
   "outputs": [
    {
     "name": "stdout",
     "output_type": "stream",
     "text": [
      "0\n"
     ]
    },
    {
     "data": {
      "text/plain": [
       "'Negative Sentiment'"
      ]
     },
     "execution_count": 50,
     "metadata": {},
     "output_type": "execute_result"
    }
   ],
   "source": [
    "# If model is binary classification, eg  sigmoid last-layer activation\n",
    "res01 = (np.argmax(y_pred > 0.5))\n",
    "print(res01)\n",
    "sentiment_imdb[res01]"
   ]
  },
  {
   "cell_type": "code",
   "execution_count": 51,
   "metadata": {
    "colab": {
     "base_uri": "https://localhost:8080/",
     "height": 55
    },
    "id": "exMj-9gvCGQJ",
    "outputId": "e322ff1c-7420-4c9e-e202-61e4e99c3ff1"
   },
   "outputs": [
    {
     "name": "stdout",
     "output_type": "stream",
     "text": [
      "0\n"
     ]
    },
    {
     "data": {
      "text/plain": [
       "'Negative Sentiment'"
      ]
     },
     "execution_count": 51,
     "metadata": {},
     "output_type": "execute_result"
    }
   ],
   "source": [
    "# If model is  multi-class classification, eg softmax last-layer activation\n",
    "res02 = (np.argmax(y_pred, axis=-1))[0] # This returns a list, so we have to extract to int\n",
    "print(res02)\n",
    "sentiment_imdb[res02]"
   ]
  },
  {
   "cell_type": "markdown",
   "metadata": {
    "id": "gWIGT85cCGQK"
   },
   "source": [
    "<a name='8.5.1'></a><a id='8.5.1'></a>\n",
    "## 8.5.1 Statefulness\n",
    "<a href=\"#top\">[back to top]</a>\n",
    "\n",
    "Problem: How to retain information from one input sample to the next, not just one-time step (token) to the next within a single sample? In other words, how to retain information beyond a given training step?\n",
    "\n",
    "Idea: Keras provides the argument `stateful`. The default is `False`, but when set to `True` when using the `SimpleRNN` layer, the last sample's output passes into itself at the next time step, along with the first token input.\n",
    "\n",
    "Importance: Keeping state this way can be useful when modeling a large document that has been split into paragraphs or sentences for processing. It can also be useful to model the meaning of an entire corpus of related documents. "
   ]
  },
  {
   "cell_type": "markdown",
   "metadata": {
    "id": "tyNRoe9uCGQK"
   },
   "source": [
    "<a name='8.5.2'></a><a id='8.5.2'></a>\n",
    "## 8.5.2 Two-way street\n",
    "<a href=\"#top\">[back to top]</a>\n",
    "\n",
    "Problem: How to exploit sequences in both directions?\n",
    "\n",
    "Idea: Use bidirectional RNNs. Keras has the layer wrapper `Bidirectional` that automatically flips around inputs and outpus to assemble a bi-directinoal RNN. "
   ]
  },
  {
   "cell_type": "code",
   "execution_count": 52,
   "metadata": {
    "colab": {
     "base_uri": "https://localhost:8080/"
    },
    "id": "oSWuoey3CGQK",
    "outputId": "2d582601-eba9-49f0-bfbc-cd3613175bf2"
   },
   "outputs": [
    {
     "name": "stdout",
     "output_type": "stream",
     "text": [
      "Model: \"sequential_2\"\n",
      "_________________________________________________________________\n",
      " Layer (type)                Output Shape              Param #   \n",
      "=================================================================\n",
      " bidirectional (Bidirectiona  (None, 100, 20)          6220      \n",
      " l)                                                              \n",
      "                                                                 \n",
      " dense_2 (Dense)             (None, 100, 1)            21        \n",
      "                                                                 \n",
      "=================================================================\n",
      "Total params: 6,241\n",
      "Trainable params: 6,241\n",
      "Non-trainable params: 0\n",
      "_________________________________________________________________\n"
     ]
    }
   ],
   "source": [
    "# Listing 8.17 Build a Bidirectional recurrent network\n",
    "num_neurons = 10\n",
    "maxlen = 100\n",
    "embedding_dims = 300\n",
    "\n",
    "model = Sequential()\n",
    "\n",
    "model.add(\n",
    "    Bidirectional(\n",
    "        SimpleRNN(\n",
    "            num_neurons,\n",
    "            return_sequences=True\n",
    "        ), \n",
    "        input_shape=(maxlen, embedding_dims)\n",
    "    )\n",
    ")\n",
    "\n",
    "model.add(Dense(1, activation='sigmoid'))\n",
    "model.compile(\n",
    "    'rmsprop',\n",
    "    'binary_crossentropy',\n",
    "    metrics=['accuracy'],\n",
    ")\n",
    "\n",
    "model.summary()"
   ]
  },
  {
   "cell_type": "code",
   "execution_count": 53,
   "metadata": {
    "id": "avmAGNrIqydV"
   },
   "outputs": [],
   "source": [
    "# Listing 8.15 Training your larger network\n",
    "\n",
    "# # This will likely crash on Colab, since it requires more memory than available\n",
    "# model.fit(\n",
    "#     x_train,\n",
    "#     y_train,\n",
    "#     batch_size=batch_size,\n",
    "#     epochs=epochs,\n",
    "#     validation_data=(x_test, y_test),\n",
    "#     verbose=1\n",
    "# )"
   ]
  },
  {
   "cell_type": "markdown",
   "metadata": {
    "id": "-CaKOHPKCGQL"
   },
   "source": [
    "<a name='8.5.3'></a><a id='8.5.3'></a>\n",
    "## 8.5.3 What is this thing?\n",
    "<a href=\"#top\">[back to top]</a>\n",
    "\n",
    "Problem: What is significance of the vector in-between the last Dense layer and the previous Recurrent layer?\n",
    "\n",
    "Idea: This is analogous to the *thought vector* seen in a CNN model. It is an encoding of the sequence of tokens. \n",
    "\n",
    "Importance: This vector only encodes the thought of sentences in relation to the label the network is trained on. But in terms of NLP, it is a useful step toward encoding higher order concepts into a vector computationally."
   ]
  },
  {
   "cell_type": "code",
   "execution_count": null,
   "metadata": {
    "id": "4gsaYZSTzZNW"
   },
   "outputs": [],
   "source": []
  }
 ],
 "metadata": {
  "colab": {
   "provenance": []
  },
  "gpuClass": "standard",
  "kernelspec": {
   "display_name": "Python 3 (ipykernel)",
   "language": "python",
   "name": "python3"
  },
  "language_info": {
   "codemirror_mode": {
    "name": "ipython",
    "version": 3
   },
   "file_extension": ".py",
   "mimetype": "text/x-python",
   "name": "python",
   "nbconvert_exporter": "python",
   "pygments_lexer": "ipython3",
   "version": "3.8.12"
  }
 },
 "nbformat": 4,
 "nbformat_minor": 4
}
