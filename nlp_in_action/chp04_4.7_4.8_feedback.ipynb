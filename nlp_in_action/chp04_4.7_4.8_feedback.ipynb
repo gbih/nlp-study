{
 "cells": [
  {
   "cell_type": "markdown",
   "id": "3d850a95-29a1-4948-9c7d-02b209f3a02b",
   "metadata": {
    "id": "3d850a95-29a1-4948-9c7d-02b209f3a02b"
   },
   "source": [
    "<a id='top'></a><a name='top'></a>\n",
    "# Chapter 4: Finding meaning in word counts (semantic analysis)\n",
    "\n",
    "## 4.7 Steering with Feedback\n",
    "## 4.8 Topic vector power\n"
   ]
  },
  {
   "cell_type": "markdown",
   "id": "d4fb858e-93ff-41c5-8e26-37c70bb0007c",
   "metadata": {
    "id": "d4fb858e-93ff-41c5-8e26-37c70bb0007c"
   },
   "source": [
    "* [Introduction](#introduction)\n",
    "* [4.0 Imports and Setup](#4.0)\n",
    "* [4.7 Steering with feedback](#4.7)\n",
    "    - [4.7.1 Linear discriminant analysis](#4.7.1)\n",
    "* [4.8 Topic vector power](#4.8)\n",
    "    - [4.8.1 Semantic search](#4.8.1)\n",
    "    - [4.8.2 Improvements](#4.8.2)"
   ]
  },
  {
   "cell_type": "markdown",
   "id": "7ee9bf07-3035-4166-bbb7-d7ba2d2a67cf",
   "metadata": {
    "id": "7ee9bf07-3035-4166-bbb7-d7ba2d2a67cf"
   },
   "source": [
    "---\n",
    "<a name='introduction'></a><a id='introduction'></a>\n",
    "# Introduction\n",
    "<a href=\"#top\">[back to top]</a>\n",
    "\n",
    "### Datasets\n",
    "\n",
    "* sms-spam.csv: [script](#sms-spam.csv), [source](https://github.com/totalgood/nlpia/raw/master/src/nlpia/data/sms-spam.csv)\n",
    "\n",
    "\n",
    "### Explore\n",
    "\n",
    "* Analyzing semantics (meaning) to create topic vectors\n",
    "* Semantic search using the similarity between topic vectors\n",
    "* Scalable semantic analysis and semantic search for large copora\n",
    "* Using semantic components (topics) as features in your NLP pipeline\n",
    "* Navigating high-dimensional vector spaces\n",
    "\n",
    "\n",
    "### Key points\n",
    "\n",
    "* You can use SVD for semantic analysis to decompose and transform TF-IDF\n",
    "* Use LDiA when you need to compute explainable topic vectors\n",
    "* No matter how you create your topic vectors, they can be used for semantic search to find documents based on their meaning\n",
    "* Topic vectors can be used to predict whether a social post is spam or is likely to be \"liked\"\n",
    "* We can sidestep the curse of dimensionality to approximate nearest neighbors in a semantic vector space\n"
   ]
  },
  {
   "cell_type": "markdown",
   "id": "e28d418f-975f-497b-9a83-169fb911a0ad",
   "metadata": {
    "id": "e28d418f-975f-497b-9a83-169fb911a0ad"
   },
   "source": [
    "---\n",
    "<a name='4.0'></a><a id='4.0'></a>\n",
    "# 4.0 Imports and Setup\n",
    "<a href=\"#top\">[back to top]</a>"
   ]
  },
  {
   "cell_type": "code",
   "execution_count": 1,
   "id": "b6227bd6-d034-4ad3-86d6-a07c5e78716b",
   "metadata": {
    "id": "b6227bd6-d034-4ad3-86d6-a07c5e78716b"
   },
   "outputs": [],
   "source": [
    "import os\n",
    "if not os.path.exists('setup'):\n",
    "    os.mkdir('setup')"
   ]
  },
  {
   "cell_type": "code",
   "execution_count": 2,
   "id": "91127bef-d081-46d6-99cb-7203814d9a3b",
   "metadata": {
    "id": "91127bef-d081-46d6-99cb-7203814d9a3b",
    "tags": []
   },
   "outputs": [],
   "source": [
    "req_file = \"setup/requirements_04.txt\""
   ]
  },
  {
   "cell_type": "code",
   "execution_count": 3,
   "id": "1d86fec3-3bb5-4df9-8514-aac0e766bf30",
   "metadata": {
    "colab": {
     "base_uri": "https://localhost:8080/"
    },
    "id": "1d86fec3-3bb5-4df9-8514-aac0e766bf30",
    "outputId": "67a31a74-e64e-4e53-8f89-61243c65c125"
   },
   "outputs": [
    {
     "name": "stdout",
     "output_type": "stream",
     "text": [
      "Overwriting setup/requirements_04.txt\n"
     ]
    }
   ],
   "source": [
    "%%writefile {req_file}\n",
    "isort\n",
    "plyfile\n",
    "scikit-learn-intelex\n",
    "scrapy\n",
    "watermark"
   ]
  },
  {
   "cell_type": "code",
   "execution_count": 4,
   "id": "4a0d752e-c897-4120-ae57-375257381a29",
   "metadata": {
    "colab": {
     "base_uri": "https://localhost:8080/"
    },
    "id": "4a0d752e-c897-4120-ae57-375257381a29",
    "outputId": "9fc4b4e2-c080-48ac-dab7-314552d14466"
   },
   "outputs": [
    {
     "name": "stdout",
     "output_type": "stream",
     "text": [
      "Running locally.\n"
     ]
    }
   ],
   "source": [
    "import sys\n",
    "IS_COLAB = 'google.colab' in sys.modules\n",
    "\n",
    "if IS_COLAB:\n",
    "    print(\"Installing packages\")\n",
    "    !pip install --upgrade --quiet -r {req_file}\n",
    "else:\n",
    "    print(\"Running locally.\")"
   ]
  },
  {
   "cell_type": "code",
   "execution_count": 5,
   "id": "a25f7609-7c51-4a72-86ca-6eccfffbf487",
   "metadata": {},
   "outputs": [],
   "source": [
    "if IS_COLAB:\n",
    "    # On this script, this seems to crash local computer\n",
    "    from sklearnex import patch_sklearn\n",
    "    patch_sklearn()"
   ]
  },
  {
   "cell_type": "code",
   "execution_count": 9,
   "id": "827eff72-dcd3-4cc6-9d26-20d959dd8f0e",
   "metadata": {
    "colab": {
     "base_uri": "https://localhost:8080/"
    },
    "id": "827eff72-dcd3-4cc6-9d26-20d959dd8f0e",
    "outputId": "a1b0bb53-7e3c-4597-a224-ea3fc6f5819d"
   },
   "outputs": [
    {
     "name": "stdout",
     "output_type": "stream",
     "text": [
      "Overwriting setup/chp04_4.7_imports.py\n"
     ]
    }
   ],
   "source": [
    "%%writefile setup/chp04_4.7_imports.py\n",
    "import locale\n",
    "import os\n",
    "import random\n",
    "import warnings\n",
    "\n",
    "import numpy as np\n",
    "import pandas as pd\n",
    "import seaborn as sns\n",
    "from nltk.tokenize import casual_tokenize\n",
    "from sklearn.decomposition import PCA\n",
    "from sklearn.discriminant_analysis import LinearDiscriminantAnalysis as LDA\n",
    "from sklearn.feature_extraction.text import TfidfVectorizer\n",
    "from sklearn.model_selection import cross_val_score\n",
    "from sklearn.model_selection import train_test_split\n",
    "from watermark import watermark"
   ]
  },
  {
   "cell_type": "code",
   "execution_count": 7,
   "id": "00f41d56-423e-41b9-984f-00c5bb19ae10",
   "metadata": {
    "colab": {
     "base_uri": "https://localhost:8080/"
    },
    "id": "00f41d56-423e-41b9-984f-00c5bb19ae10",
    "outputId": "1c4c865f-9a6f-4876-fe57-21206c52ad0e"
   },
   "outputs": [
    {
     "name": "stdout",
     "output_type": "stream",
     "text": [
      "Fixing /Users/gb/Desktop/examples/setup/chp04_4.7_imports.py\n",
      "import locale\n",
      "import os\n",
      "import random\n",
      "import warnings\n",
      "\n",
      "import numpy as np\n",
      "import pandas as pd\n",
      "import seaborn as sns\n",
      "from nltk.tokenize import casual_tokenize\n",
      "from sklearn.decomposition import PCA\n",
      "from sklearn.discriminant_analysis import LinearDiscriminantAnalysis as LDA\n",
      "from sklearn.feature_extraction.text import TfidfVectorizer\n",
      "from sklearn.model_selection import cross_val_score\n",
      "from sklearn.model_selection import train_test_split\n",
      "from watermark import watermark\n"
     ]
    }
   ],
   "source": [
    "!isort setup/chp04_4.7_imports.py --sl\n",
    "!cat setup/chp04_4.7_imports.py"
   ]
  },
  {
   "cell_type": "code",
   "execution_count": 8,
   "id": "b8371a67-5f08-49e8-9c43-4d4e7613654c",
   "metadata": {
    "colab": {
     "base_uri": "https://localhost:8080/"
    },
    "id": "b8371a67-5f08-49e8-9c43-4d4e7613654c",
    "outputId": "a5b5891a-6e2e-47f6-8b50-a6f6b35f9686"
   },
   "outputs": [],
   "source": [
    "import locale\n",
    "import os\n",
    "import random\n",
    "import warnings\n",
    "\n",
    "import numpy as np\n",
    "import pandas as pd\n",
    "import seaborn as sns\n",
    "from nltk.tokenize import casual_tokenize\n",
    "from sklearn.decomposition import PCA\n",
    "from sklearn.discriminant_analysis import LinearDiscriminantAnalysis as LDA\n",
    "from sklearn.feature_extraction.text import TfidfVectorizer\n",
    "from sklearn.model_selection import cross_val_score\n",
    "from sklearn.model_selection import train_test_split\n",
    "from watermark import watermark"
   ]
  },
  {
   "cell_type": "code",
   "execution_count": 9,
   "id": "8704e77a-43ea-48ea-9ba3-ce84b66c36f4",
   "metadata": {
    "colab": {
     "base_uri": "https://localhost:8080/"
    },
    "id": "8704e77a-43ea-48ea-9ba3-ce84b66c36f4",
    "outputId": "ea102bf0-3c88-4d5c-e475-2b54c0b9e3a9"
   },
   "outputs": [
    {
     "name": "stdout",
     "output_type": "stream",
     "text": [
      "Python implementation: CPython\n",
      "Python version       : 3.8.12\n",
      "IPython version      : 7.34.0\n",
      "\n",
      "Compiler    : Clang 13.0.0 (clang-1300.0.29.3)\n",
      "OS          : Darwin\n",
      "Release     : 21.6.0\n",
      "Machine     : x86_64\n",
      "Processor   : i386\n",
      "CPU cores   : 4\n",
      "Architecture: 64bit\n",
      "\n",
      "sys    : 3.8.12 (default, Dec 13 2021, 20:17:08) \n",
      "[Clang 13.0.0 (clang-1300.0.29.3)]\n",
      "numpy  : 1.23.5\n",
      "seaborn: 0.12.1\n",
      "pandas : 1.5.3\n",
      "\n"
     ]
    }
   ],
   "source": [
    "def HR():\n",
    "    print(\"-\"*40)\n",
    "    \n",
    "def getpreferredencoding(do_setlocale = True):\n",
    "    return \"UTF-8\"\n",
    "\n",
    "locale.getpreferredencoding = getpreferredencoding\n",
    "warnings.filterwarnings('ignore')\n",
    "sns.set_style(\"darkgrid\")\n",
    "random.seed(42)\n",
    "np.random.seed(42)\n",
    "\n",
    "print(watermark(iversions=True,globals_=globals(),python=True,machine=True))"
   ]
  },
  {
   "cell_type": "markdown",
   "id": "c54039cc-5c98-4d4b-bc42-685ac471ee3a",
   "metadata": {
    "id": "c54039cc-5c98-4d4b-bc42-685ac471ee3a"
   },
   "source": [
    "---\n",
    "\n",
    "<a name='4.7'></a><a id='4.7'></a>\n",
    "# 4.7 Steering with feedback\n",
    "<a href=\"#top\">[back to top]</a>\n",
    "\n",
    "Problem: How to improve distance metrics for distance-based applications?\n",
    "\n",
    "Idea: Perform \"distance metric learning\", which aims to learn a set of latent factors based on which distances between data points can be effectively learned. By adjusting the distance scores reported to clustering and embedding algorithms, we can \"steer\" the vectors so that they minimize some cost function. In this way, we can force the vectors to focus on some aspect of the information content we are interested in."
   ]
  },
  {
   "cell_type": "markdown",
   "id": "35e1241d-6cbf-4ee4-a904-4277e4ce4fb1",
   "metadata": {
    "id": "35e1241d-6cbf-4ee4-a904-4277e4ce4fb1"
   },
   "source": [
    "<a name='4.7.1'></a><a id='4.7.1'></a>\n",
    "## 4.7.1 Linear discriminant analysis\n",
    "<a href=\"#top\">[back to top]</a>\n",
    "\n",
    "Problem: Test the effectiveness of linear discriminant analysis model  on labeled data on a supervised classification problem.\n",
    "\n",
    "Idea: LDA is a variant of LSA, a dimensionality reduction technique that is commonly used in supervised classification problems. Rather than maximizing the variance between all vectors in the new space, LDA maximizes the distance between the centroids of the vectors within each class. To do this, we have tell the LDA algorithm what \"topics\" we want to model by giving it examples (labeled vectors)."
   ]
  },
  {
   "cell_type": "markdown",
   "id": "6193558f-6134-407a-bbd5-8eb7a4b82c18",
   "metadata": {},
   "source": [
    "<a id='sms-spam.csv'></a><a name='sms-spam.csv'></a>\n",
    "### Dataset: sms-spam.csv\n",
    "<a href=\"#top\">[back to top]</a>"
   ]
  },
  {
   "cell_type": "code",
   "execution_count": 10,
   "id": "98de76aa-00d0-42c0-8291-62aa50eefc08",
   "metadata": {},
   "outputs": [
    {
     "name": "stdout",
     "output_type": "stream",
     "text": [
      "File ‘data/data_sms_spam/sms-spam.csv’ already there; not retrieving.\n",
      "\n",
      "-rw-r--r--  1 gb  staff  493232 Mar 25 11:17 data/data_sms_spam/sms-spam.csv\n"
     ]
    },
    {
     "data": {
      "text/html": [
       "<div>\n",
       "<style scoped>\n",
       "    .dataframe tbody tr th:only-of-type {\n",
       "        vertical-align: middle;\n",
       "    }\n",
       "\n",
       "    .dataframe tbody tr th {\n",
       "        vertical-align: top;\n",
       "    }\n",
       "\n",
       "    .dataframe thead th {\n",
       "        text-align: right;\n",
       "    }\n",
       "</style>\n",
       "<table border=\"1\" class=\"dataframe\">\n",
       "  <thead>\n",
       "    <tr style=\"text-align: right;\">\n",
       "      <th></th>\n",
       "      <th>spam</th>\n",
       "      <th>text</th>\n",
       "    </tr>\n",
       "  </thead>\n",
       "  <tbody>\n",
       "    <tr>\n",
       "      <th>sms0</th>\n",
       "      <td>0</td>\n",
       "      <td>Go until jurong point, crazy.. Available only ...</td>\n",
       "    </tr>\n",
       "    <tr>\n",
       "      <th>sms1</th>\n",
       "      <td>0</td>\n",
       "      <td>Ok lar... Joking wif u oni...</td>\n",
       "    </tr>\n",
       "    <tr>\n",
       "      <th>sms2!</th>\n",
       "      <td>1</td>\n",
       "      <td>Free entry in 2 a wkly comp to win FA Cup fina...</td>\n",
       "    </tr>\n",
       "    <tr>\n",
       "      <th>sms3</th>\n",
       "      <td>0</td>\n",
       "      <td>U dun say so early hor... U c already then say...</td>\n",
       "    </tr>\n",
       "    <tr>\n",
       "      <th>sms4</th>\n",
       "      <td>0</td>\n",
       "      <td>Nah I don't think he goes to usf, he lives aro...</td>\n",
       "    </tr>\n",
       "    <tr>\n",
       "      <th>sms5!</th>\n",
       "      <td>1</td>\n",
       "      <td>FreeMsg Hey there darling it's been 3 week's n...</td>\n",
       "    </tr>\n",
       "  </tbody>\n",
       "</table>\n",
       "</div>"
      ],
      "text/plain": [
       "       spam                                               text\n",
       "sms0      0  Go until jurong point, crazy.. Available only ...\n",
       "sms1      0                      Ok lar... Joking wif u oni...\n",
       "sms2!     1  Free entry in 2 a wkly comp to win FA Cup fina...\n",
       "sms3      0  U dun say so early hor... U c already then say...\n",
       "sms4      0  Nah I don't think he goes to usf, he lives aro...\n",
       "sms5!     1  FreeMsg Hey there darling it's been 3 week's n..."
      ]
     },
     "execution_count": 10,
     "metadata": {},
     "output_type": "execute_result"
    }
   ],
   "source": [
    "data_dir = 'data/data_sms_spam'\n",
    "if not os.path.exists(data_dir):\n",
    "    os.makedirs(data_dir)\n",
    "    \n",
    "data_sms_spam = f\"{data_dir}/sms-spam.csv\"\n",
    "!wget -P {data_dir} -nc https://github.com/totalgood/nlpia/raw/master/src/nlpia/data/sms-spam.csv\n",
    "!ls -l {data_sms_spam}\n",
    "\n",
    "sms = pd.read_csv(data_sms_spam, index_col=0)\n",
    "\n",
    "index = ['sms{}{}'.format(i, '!'*j) for (i,j) in zip(range(len(sms)), sms.spam)]  # <1>\n",
    "sms = pd.DataFrame(sms.values, columns=sms.columns, index=index)\n",
    "sms.spam = sms.spam.astype(int)\n",
    "sms.head(6)"
   ]
  },
  {
   "cell_type": "code",
   "execution_count": 11,
   "id": "b5c02c3e-1d07-44e2-91dc-a51f59a239a7",
   "metadata": {},
   "outputs": [
    {
     "name": "stdout",
     "output_type": "stream",
     "text": [
      "(4837, 9232)\n",
      "638\n"
     ]
    }
   ],
   "source": [
    "# Calculate the TF-IDF vectors for each of these messages.\n",
    "tfidf = TfidfVectorizer(tokenizer=casual_tokenize)\n",
    "\n",
    "tfidf_docs = tfidf.fit_transform(raw_documents=sms.text).toarray()\n",
    "tfidf_docs = pd.DataFrame(tfidf_docs, index=index)\n",
    "tfidf_docs = tfidf_docs - tfidf_docs.mean()\n",
    "\n",
    "print(tfidf_docs.shape)\n",
    "print(sms.spam.sum())"
   ]
  },
  {
   "cell_type": "code",
   "execution_count": 12,
   "id": "580364ef-8cdb-492b-bf7d-5f82e65fc6a3",
   "metadata": {
    "colab": {
     "base_uri": "https://localhost:8080/"
    },
    "id": "580364ef-8cdb-492b-bf7d-5f82e65fc6a3",
    "outputId": "8a792842-5824-46c7-8fd5-3c2c3742cfbf"
   },
   "outputs": [
    {
     "name": "stdout",
     "output_type": "stream",
     "text": [
      "CPU times: user 3min 24s, sys: 6.4 s, total: 3min 30s\n",
      "Wall time: 2min 11s\n"
     ]
    },
    {
     "data": {
      "text/html": [
       "<style>#sk-container-id-1 {color: black;background-color: white;}#sk-container-id-1 pre{padding: 0;}#sk-container-id-1 div.sk-toggleable {background-color: white;}#sk-container-id-1 label.sk-toggleable__label {cursor: pointer;display: block;width: 100%;margin-bottom: 0;padding: 0.3em;box-sizing: border-box;text-align: center;}#sk-container-id-1 label.sk-toggleable__label-arrow:before {content: \"▸\";float: left;margin-right: 0.25em;color: #696969;}#sk-container-id-1 label.sk-toggleable__label-arrow:hover:before {color: black;}#sk-container-id-1 div.sk-estimator:hover label.sk-toggleable__label-arrow:before {color: black;}#sk-container-id-1 div.sk-toggleable__content {max-height: 0;max-width: 0;overflow: hidden;text-align: left;background-color: #f0f8ff;}#sk-container-id-1 div.sk-toggleable__content pre {margin: 0.2em;color: black;border-radius: 0.25em;background-color: #f0f8ff;}#sk-container-id-1 input.sk-toggleable__control:checked~div.sk-toggleable__content {max-height: 200px;max-width: 100%;overflow: auto;}#sk-container-id-1 input.sk-toggleable__control:checked~label.sk-toggleable__label-arrow:before {content: \"▾\";}#sk-container-id-1 div.sk-estimator input.sk-toggleable__control:checked~label.sk-toggleable__label {background-color: #d4ebff;}#sk-container-id-1 div.sk-label input.sk-toggleable__control:checked~label.sk-toggleable__label {background-color: #d4ebff;}#sk-container-id-1 input.sk-hidden--visually {border: 0;clip: rect(1px 1px 1px 1px);clip: rect(1px, 1px, 1px, 1px);height: 1px;margin: -1px;overflow: hidden;padding: 0;position: absolute;width: 1px;}#sk-container-id-1 div.sk-estimator {font-family: monospace;background-color: #f0f8ff;border: 1px dotted black;border-radius: 0.25em;box-sizing: border-box;margin-bottom: 0.5em;}#sk-container-id-1 div.sk-estimator:hover {background-color: #d4ebff;}#sk-container-id-1 div.sk-parallel-item::after {content: \"\";width: 100%;border-bottom: 1px solid gray;flex-grow: 1;}#sk-container-id-1 div.sk-label:hover label.sk-toggleable__label {background-color: #d4ebff;}#sk-container-id-1 div.sk-serial::before {content: \"\";position: absolute;border-left: 1px solid gray;box-sizing: border-box;top: 0;bottom: 0;left: 50%;z-index: 0;}#sk-container-id-1 div.sk-serial {display: flex;flex-direction: column;align-items: center;background-color: white;padding-right: 0.2em;padding-left: 0.2em;position: relative;}#sk-container-id-1 div.sk-item {position: relative;z-index: 1;}#sk-container-id-1 div.sk-parallel {display: flex;align-items: stretch;justify-content: center;background-color: white;position: relative;}#sk-container-id-1 div.sk-item::before, #sk-container-id-1 div.sk-parallel-item::before {content: \"\";position: absolute;border-left: 1px solid gray;box-sizing: border-box;top: 0;bottom: 0;left: 50%;z-index: -1;}#sk-container-id-1 div.sk-parallel-item {display: flex;flex-direction: column;z-index: 1;position: relative;background-color: white;}#sk-container-id-1 div.sk-parallel-item:first-child::after {align-self: flex-end;width: 50%;}#sk-container-id-1 div.sk-parallel-item:last-child::after {align-self: flex-start;width: 50%;}#sk-container-id-1 div.sk-parallel-item:only-child::after {width: 0;}#sk-container-id-1 div.sk-dashed-wrapped {border: 1px dashed gray;margin: 0 0.4em 0.5em 0.4em;box-sizing: border-box;padding-bottom: 0.4em;background-color: white;}#sk-container-id-1 div.sk-label label {font-family: monospace;font-weight: bold;display: inline-block;line-height: 1.2em;}#sk-container-id-1 div.sk-label-container {text-align: center;}#sk-container-id-1 div.sk-container {/* jupyter's `normalize.less` sets `[hidden] { display: none; }` but bootstrap.min.css set `[hidden] { display: none !important; }` so we also need the `!important` here to be able to override the default hidden behavior on the sphinx rendered scikit-learn.org. See: https://github.com/scikit-learn/scikit-learn/issues/21755 */display: inline-block !important;position: relative;}#sk-container-id-1 div.sk-text-repr-fallback {display: none;}</style><div id=\"sk-container-id-1\" class=\"sk-top-container\"><div class=\"sk-text-repr-fallback\"><pre>LinearDiscriminantAnalysis(n_components=1)</pre><b>In a Jupyter environment, please rerun this cell to show the HTML representation or trust the notebook. <br />On GitHub, the HTML representation is unable to render, please try loading this page with nbviewer.org.</b></div><div class=\"sk-container\" hidden><div class=\"sk-item\"><div class=\"sk-estimator sk-toggleable\"><input class=\"sk-toggleable__control sk-hidden--visually\" id=\"sk-estimator-id-1\" type=\"checkbox\" checked><label for=\"sk-estimator-id-1\" class=\"sk-toggleable__label sk-toggleable__label-arrow\">LinearDiscriminantAnalysis</label><div class=\"sk-toggleable__content\"><pre>LinearDiscriminantAnalysis(n_components=1)</pre></div></div></div></div></div>"
      ],
      "text/plain": [
       "LinearDiscriminantAnalysis(n_components=1)"
      ]
     },
     "execution_count": 12,
     "metadata": {},
     "output_type": "execute_result"
    }
   ],
   "source": [
    "%%time\n",
    "# Requires a long time to run.\n",
    "\n",
    "lda = LDA(n_components=1)\n",
    "lda = lda.fit(tfidf_docs, sms.spam)\n",
    "lda"
   ]
  },
  {
   "cell_type": "code",
   "execution_count": 13,
   "id": "8a9cf8dd-819e-448e-80d9-e1c542b27427",
   "metadata": {
    "colab": {
     "base_uri": "https://localhost:8080/"
    },
    "id": "8a9cf8dd-819e-448e-80d9-e1c542b27427",
    "outputId": "053ff868-0ca5-48f0-9675-61d150950c04"
   },
   "outputs": [
    {
     "name": "stdout",
     "output_type": "stream",
     "text": [
      "CPU times: user 209 ms, sys: 34.9 ms, total: 244 ms\n",
      "Wall time: 224 ms\n"
     ]
    },
    {
     "data": {
      "text/plain": [
       "sms0        0\n",
       "sms1        0\n",
       "sms2!       1\n",
       "sms3        0\n",
       "sms4        0\n",
       "           ..\n",
       "sms4832!    1\n",
       "sms4833     0\n",
       "sms4834     0\n",
       "sms4835     0\n",
       "sms4836     0\n",
       "Name: lda_spaminess, Length: 4837, dtype: int64"
      ]
     },
     "execution_count": 13,
     "metadata": {},
     "output_type": "execute_result"
    }
   ],
   "source": [
    "%%time\n",
    "sms['lda_spaminess'] = lda.predict(tfidf_docs)\n",
    "sms['lda_spaminess']"
   ]
  },
  {
   "cell_type": "code",
   "execution_count": 14,
   "id": "36cd83c9-f02e-4a17-a8ac-d0326d8104ef",
   "metadata": {
    "colab": {
     "base_uri": "https://localhost:8080/"
    },
    "id": "36cd83c9-f02e-4a17-a8ac-d0326d8104ef",
    "outputId": "e5c1be34-7be8-4958-eb7d-9401e444d29c"
   },
   "outputs": [
    {
     "data": {
      "text/plain": [
       "0.0"
      ]
     },
     "execution_count": 14,
     "metadata": {},
     "output_type": "execute_result"
    }
   ],
   "source": [
    "((sms.spam - sms.lda_spaminess) ** 2.).sum() ** .5"
   ]
  },
  {
   "cell_type": "code",
   "execution_count": 15,
   "id": "1eff8c77-8ae7-4789-b22a-548914225b4b",
   "metadata": {
    "colab": {
     "base_uri": "https://localhost:8080/"
    },
    "id": "1eff8c77-8ae7-4789-b22a-548914225b4b",
    "outputId": "d7819112-9de7-4415-b5d5-cd5e3318b6c4"
   },
   "outputs": [
    {
     "data": {
      "text/plain": [
       "4837"
      ]
     },
     "execution_count": 15,
     "metadata": {},
     "output_type": "execute_result"
    }
   ],
   "source": [
    "(sms.spam == sms.lda_spaminess).sum()"
   ]
  },
  {
   "cell_type": "code",
   "execution_count": 16,
   "id": "c286ea79-ad9c-4274-bef5-5cffe5c772b1",
   "metadata": {
    "colab": {
     "base_uri": "https://localhost:8080/"
    },
    "id": "c286ea79-ad9c-4274-bef5-5cffe5c772b1",
    "outputId": "3790c3c1-780b-4e30-bf45-9e474949ca8a"
   },
   "outputs": [
    {
     "data": {
      "text/plain": [
       "4837"
      ]
     },
     "execution_count": 16,
     "metadata": {},
     "output_type": "execute_result"
    }
   ],
   "source": [
    "len(sms)"
   ]
  },
  {
   "cell_type": "markdown",
   "id": "77bd6541-42e5-4b51-861f-a716a21d5bc5",
   "metadata": {
    "id": "77bd6541-42e5-4b51-861f-a716a21d5bc5"
   },
   "source": [
    "We are probably overfitting here.\n",
    "\n",
    "Try some cross-validation."
   ]
  },
  {
   "cell_type": "code",
   "execution_count": 17,
   "id": "094aaadc-752e-412f-bd62-9bcdda996834",
   "metadata": {
    "colab": {
     "base_uri": "https://localhost:8080/",
     "height": 74
    },
    "id": "094aaadc-752e-412f-bd62-9bcdda996834",
    "outputId": "e85f769b-5881-458f-80ba-65b10cfb9b11"
   },
   "outputs": [
    {
     "name": "stdout",
     "output_type": "stream",
     "text": [
      "CPU times: user 1min 27s, sys: 3.79 s, total: 1min 31s\n",
      "Wall time: 54.6 s\n"
     ]
    },
    {
     "data": {
      "text/plain": [
       "'Accuracy: 0.66 (+/-0.12)'"
      ]
     },
     "execution_count": 17,
     "metadata": {},
     "output_type": "execute_result"
    }
   ],
   "source": [
    "%%time\n",
    "# Requires a long time to run.\n",
    "\n",
    "lda = LDA(n_components=1)\n",
    "scores = cross_val_score(lda, tfidf_docs, sms.spam, cv=2)\n",
    "\n",
    "\"Accuracy: {:.2f} (+/-{:.2f})\".format(scores.mean(), scores.std() * 2)"
   ]
  },
  {
   "cell_type": "code",
   "execution_count": 18,
   "id": "cb7a1afe-170a-4493-8810-51d907f3d47d",
   "metadata": {
    "colab": {
     "base_uri": "https://localhost:8080/",
     "height": 337
    },
    "id": "cb7a1afe-170a-4493-8810-51d907f3d47d",
    "outputId": "9e73d22a-1521-4de5-89ac-4bf182b2e691"
   },
   "outputs": [
    {
     "name": "stdout",
     "output_type": "stream",
     "text": [
      "-0.06573907666856706\n",
      "0.9997932602853008\n"
     ]
    },
    {
     "data": {
      "text/html": [
       "<div>\n",
       "<style scoped>\n",
       "    .dataframe tbody tr th:only-of-type {\n",
       "        vertical-align: middle;\n",
       "    }\n",
       "\n",
       "    .dataframe tbody tr th {\n",
       "        vertical-align: top;\n",
       "    }\n",
       "\n",
       "    .dataframe thead th {\n",
       "        text-align: right;\n",
       "    }\n",
       "</style>\n",
       "<table border=\"1\" class=\"dataframe\">\n",
       "  <thead>\n",
       "    <tr style=\"text-align: right;\">\n",
       "      <th></th>\n",
       "      <th>0</th>\n",
       "      <th>1</th>\n",
       "      <th>2</th>\n",
       "      <th>3</th>\n",
       "      <th>4</th>\n",
       "      <th>5</th>\n",
       "      <th>6</th>\n",
       "      <th>7</th>\n",
       "      <th>8</th>\n",
       "      <th>9</th>\n",
       "      <th>...</th>\n",
       "      <th>9222</th>\n",
       "      <th>9223</th>\n",
       "      <th>9224</th>\n",
       "      <th>9225</th>\n",
       "      <th>9226</th>\n",
       "      <th>9227</th>\n",
       "      <th>9228</th>\n",
       "      <th>9229</th>\n",
       "      <th>9230</th>\n",
       "      <th>9231</th>\n",
       "    </tr>\n",
       "  </thead>\n",
       "  <tbody>\n",
       "    <tr>\n",
       "      <th>sms207</th>\n",
       "      <td>0.114506</td>\n",
       "      <td>-0.005840</td>\n",
       "      <td>-0.000228</td>\n",
       "      <td>-0.000053</td>\n",
       "      <td>-0.000156</td>\n",
       "      <td>-0.000943</td>\n",
       "      <td>-0.000463</td>\n",
       "      <td>-0.006695</td>\n",
       "      <td>0.524417</td>\n",
       "      <td>-0.002745</td>\n",
       "      <td>...</td>\n",
       "      <td>-0.000264</td>\n",
       "      <td>-0.000426</td>\n",
       "      <td>-7.667659e-07</td>\n",
       "      <td>-0.001598</td>\n",
       "      <td>-0.000148</td>\n",
       "      <td>-0.000099</td>\n",
       "      <td>-0.00066</td>\n",
       "      <td>-0.000055</td>\n",
       "      <td>-0.000055</td>\n",
       "      <td>-0.000055</td>\n",
       "    </tr>\n",
       "    <tr>\n",
       "      <th>sms68!</th>\n",
       "      <td>0.089771</td>\n",
       "      <td>0.407319</td>\n",
       "      <td>-0.000228</td>\n",
       "      <td>-0.000053</td>\n",
       "      <td>-0.000156</td>\n",
       "      <td>-0.000943</td>\n",
       "      <td>-0.000463</td>\n",
       "      <td>-0.006695</td>\n",
       "      <td>-0.004035</td>\n",
       "      <td>-0.002745</td>\n",
       "      <td>...</td>\n",
       "      <td>-0.000264</td>\n",
       "      <td>-0.000426</td>\n",
       "      <td>-7.667659e-07</td>\n",
       "      <td>-0.001598</td>\n",
       "      <td>-0.000148</td>\n",
       "      <td>-0.000099</td>\n",
       "      <td>-0.00066</td>\n",
       "      <td>-0.000055</td>\n",
       "      <td>-0.000055</td>\n",
       "      <td>-0.000055</td>\n",
       "    </tr>\n",
       "    <tr>\n",
       "      <th>sms1440</th>\n",
       "      <td>-0.025643</td>\n",
       "      <td>-0.005840</td>\n",
       "      <td>-0.000228</td>\n",
       "      <td>-0.000053</td>\n",
       "      <td>-0.000156</td>\n",
       "      <td>-0.000943</td>\n",
       "      <td>-0.000463</td>\n",
       "      <td>-0.006695</td>\n",
       "      <td>-0.004035</td>\n",
       "      <td>-0.002745</td>\n",
       "      <td>...</td>\n",
       "      <td>-0.000264</td>\n",
       "      <td>-0.000426</td>\n",
       "      <td>-7.667659e-07</td>\n",
       "      <td>-0.001598</td>\n",
       "      <td>-0.000148</td>\n",
       "      <td>-0.000099</td>\n",
       "      <td>-0.00066</td>\n",
       "      <td>-0.000055</td>\n",
       "      <td>-0.000055</td>\n",
       "      <td>-0.000055</td>\n",
       "    </tr>\n",
       "    <tr>\n",
       "      <th>sms2636</th>\n",
       "      <td>-0.025643</td>\n",
       "      <td>-0.005840</td>\n",
       "      <td>-0.000228</td>\n",
       "      <td>-0.000053</td>\n",
       "      <td>-0.000156</td>\n",
       "      <td>-0.000943</td>\n",
       "      <td>-0.000463</td>\n",
       "      <td>-0.006695</td>\n",
       "      <td>-0.004035</td>\n",
       "      <td>-0.002745</td>\n",
       "      <td>...</td>\n",
       "      <td>-0.000264</td>\n",
       "      <td>-0.000426</td>\n",
       "      <td>-7.667659e-07</td>\n",
       "      <td>-0.001598</td>\n",
       "      <td>-0.000148</td>\n",
       "      <td>-0.000099</td>\n",
       "      <td>-0.00066</td>\n",
       "      <td>-0.000055</td>\n",
       "      <td>-0.000055</td>\n",
       "      <td>-0.000055</td>\n",
       "    </tr>\n",
       "    <tr>\n",
       "      <th>sms3541</th>\n",
       "      <td>-0.025643</td>\n",
       "      <td>-0.005840</td>\n",
       "      <td>-0.000228</td>\n",
       "      <td>-0.000053</td>\n",
       "      <td>-0.000156</td>\n",
       "      <td>-0.000943</td>\n",
       "      <td>-0.000463</td>\n",
       "      <td>-0.006695</td>\n",
       "      <td>-0.004035</td>\n",
       "      <td>-0.002745</td>\n",
       "      <td>...</td>\n",
       "      <td>-0.000264</td>\n",
       "      <td>-0.000426</td>\n",
       "      <td>-7.667659e-07</td>\n",
       "      <td>-0.001598</td>\n",
       "      <td>-0.000148</td>\n",
       "      <td>-0.000099</td>\n",
       "      <td>-0.00066</td>\n",
       "      <td>-0.000055</td>\n",
       "      <td>-0.000055</td>\n",
       "      <td>-0.000055</td>\n",
       "    </tr>\n",
       "  </tbody>\n",
       "</table>\n",
       "<p>5 rows × 9232 columns</p>\n",
       "</div>"
      ],
      "text/plain": [
       "             0         1         2         3         4         5         6     \\\n",
       "sms207   0.114506 -0.005840 -0.000228 -0.000053 -0.000156 -0.000943 -0.000463   \n",
       "sms68!   0.089771  0.407319 -0.000228 -0.000053 -0.000156 -0.000943 -0.000463   \n",
       "sms1440 -0.025643 -0.005840 -0.000228 -0.000053 -0.000156 -0.000943 -0.000463   \n",
       "sms2636 -0.025643 -0.005840 -0.000228 -0.000053 -0.000156 -0.000943 -0.000463   \n",
       "sms3541 -0.025643 -0.005840 -0.000228 -0.000053 -0.000156 -0.000943 -0.000463   \n",
       "\n",
       "             7         8         9     ...      9222      9223          9224  \\\n",
       "sms207  -0.006695  0.524417 -0.002745  ... -0.000264 -0.000426 -7.667659e-07   \n",
       "sms68!  -0.006695 -0.004035 -0.002745  ... -0.000264 -0.000426 -7.667659e-07   \n",
       "sms1440 -0.006695 -0.004035 -0.002745  ... -0.000264 -0.000426 -7.667659e-07   \n",
       "sms2636 -0.006695 -0.004035 -0.002745  ... -0.000264 -0.000426 -7.667659e-07   \n",
       "sms3541 -0.006695 -0.004035 -0.002745  ... -0.000264 -0.000426 -7.667659e-07   \n",
       "\n",
       "             9225      9226      9227     9228      9229      9230      9231  \n",
       "sms207  -0.001598 -0.000148 -0.000099 -0.00066 -0.000055 -0.000055 -0.000055  \n",
       "sms68!  -0.001598 -0.000148 -0.000099 -0.00066 -0.000055 -0.000055 -0.000055  \n",
       "sms1440 -0.001598 -0.000148 -0.000099 -0.00066 -0.000055 -0.000055 -0.000055  \n",
       "sms2636 -0.001598 -0.000148 -0.000099 -0.00066 -0.000055 -0.000055 -0.000055  \n",
       "sms3541 -0.001598 -0.000148 -0.000099 -0.00066 -0.000055 -0.000055 -0.000055  \n",
       "\n",
       "[5 rows x 9232 columns]"
      ]
     },
     "execution_count": 18,
     "metadata": {},
     "output_type": "execute_result"
    }
   ],
   "source": [
    "X_train, X_test, y_train, y_test = train_test_split(\n",
    "    tfidf_docs, \n",
    "    sms.spam, \n",
    "    test_size=0.33, \n",
    "    random_state=271828\n",
    ")\n",
    "\n",
    "print(np.nanmin(X_train))\n",
    "print(np.nanmax(X_train))\n",
    "test4 = pd.DataFrame(X_train)\n",
    "test4.head()"
   ]
  },
  {
   "cell_type": "code",
   "execution_count": 19,
   "id": "8H0VuiHMf4AV",
   "metadata": {
    "colab": {
     "base_uri": "https://localhost:8080/"
    },
    "id": "8H0VuiHMf4AV",
    "outputId": "54e5c0a6-6152-47b8-efc2-c7f46f6d36b3"
   },
   "outputs": [
    {
     "name": "stdout",
     "output_type": "stream",
     "text": [
      "<class 'pandas.core.frame.DataFrame'>\n",
      "Index: 3240 entries, sms207 to sms2178\n",
      "Columns: 9232 entries, 0 to 9231\n",
      "dtypes: float64(9232)\n",
      "memory usage: 228.2+ MB\n"
     ]
    }
   ],
   "source": [
    "test4.info()"
   ]
  },
  {
   "cell_type": "code",
   "execution_count": 20,
   "id": "7MQ2Xm43H4HZ",
   "metadata": {
    "colab": {
     "base_uri": "https://localhost:8080/"
    },
    "id": "7MQ2Xm43H4HZ",
    "outputId": "41c4e129-5511-4056-c31e-de6926c9e2c3"
   },
   "outputs": [
    {
     "name": "stdout",
     "output_type": "stream",
     "text": [
      "CPU times: user 1min 16s, sys: 2.41 s, total: 1min 19s\n",
      "Wall time: 44.4 s\n"
     ]
    },
    {
     "data": {
      "text/plain": [
       "0.764"
      ]
     },
     "execution_count": 20,
     "metadata": {},
     "output_type": "execute_result"
    }
   ],
   "source": [
    "%%time\n",
    "# This requires time to run.\n",
    "lda = LDA(n_components=1)\n",
    "lda.fit(X_train, y_train) \n",
    "\n",
    "lda.score(X_test, y_test).round(3)"
   ]
  },
  {
   "cell_type": "markdown",
   "id": "8d09b7ae-9b5a-4b1a-8b03-1d28de0eecf0",
   "metadata": {
    "id": "8d09b7ae-9b5a-4b1a-8b03-1d28de0eecf0"
   },
   "source": [
    "The above reveals rather poor test set accuracy.\n",
    "\n",
    "----\n",
    "\n",
    "Next, try LSA combined with LDA to create a more accurate model that also generalizes well, so it can handle new SMS messages better."
   ]
  },
  {
   "cell_type": "code",
   "execution_count": 29,
   "id": "52dbd6a9-eb94-48da-9eb4-408056f38f6f",
   "metadata": {},
   "outputs": [
    {
     "name": "stdout",
     "output_type": "stream",
     "text": [
      "CPU times: user 6.84 s, sys: 722 ms, total: 7.56 s\n",
      "Wall time: 3.25 s\n"
     ]
    },
    {
     "data": {
      "text/plain": [
       "['topic0',\n",
       " 'topic1',\n",
       " 'topic2',\n",
       " 'topic3',\n",
       " 'topic4',\n",
       " 'topic5',\n",
       " 'topic6',\n",
       " 'topic7',\n",
       " 'topic8',\n",
       " 'topic9',\n",
       " 'topic10',\n",
       " 'topic11',\n",
       " 'topic12',\n",
       " 'topic13',\n",
       " 'topic14',\n",
       " 'topic15']"
      ]
     },
     "execution_count": 29,
     "metadata": {},
     "output_type": "execute_result"
    }
   ],
   "source": [
    "%%time\n",
    "# Specify 16-D vectors\n",
    "pca = PCA(n_components=16)\n",
    "\n",
    "pca = pca.fit(tfidf_docs)\n",
    "pca_topic_vectors = pca.transform(tfidf_docs)\n",
    "\n",
    "# Create DataFrame for more convenience\n",
    "columns = ['topic{}'.format(i) for i in range(pca.n_components)]\n",
    "columns"
   ]
  },
  {
   "cell_type": "code",
   "execution_count": 30,
   "id": "c0911890-3dde-4433-b6c5-b36f35b85630",
   "metadata": {},
   "outputs": [
    {
     "data": {
      "text/html": [
       "<div>\n",
       "<style scoped>\n",
       "    .dataframe tbody tr th:only-of-type {\n",
       "        vertical-align: middle;\n",
       "    }\n",
       "\n",
       "    .dataframe tbody tr th {\n",
       "        vertical-align: top;\n",
       "    }\n",
       "\n",
       "    .dataframe thead th {\n",
       "        text-align: right;\n",
       "    }\n",
       "</style>\n",
       "<table border=\"1\" class=\"dataframe\">\n",
       "  <thead>\n",
       "    <tr style=\"text-align: right;\">\n",
       "      <th></th>\n",
       "      <th>topic0</th>\n",
       "      <th>topic1</th>\n",
       "      <th>topic2</th>\n",
       "      <th>topic3</th>\n",
       "      <th>topic4</th>\n",
       "      <th>topic5</th>\n",
       "      <th>topic6</th>\n",
       "      <th>topic7</th>\n",
       "      <th>topic8</th>\n",
       "      <th>topic9</th>\n",
       "      <th>topic10</th>\n",
       "      <th>topic11</th>\n",
       "      <th>topic12</th>\n",
       "      <th>topic13</th>\n",
       "      <th>topic14</th>\n",
       "      <th>topic15</th>\n",
       "    </tr>\n",
       "  </thead>\n",
       "  <tbody>\n",
       "    <tr>\n",
       "      <th>sms0</th>\n",
       "      <td>0.201</td>\n",
       "      <td>0.003</td>\n",
       "      <td>0.037</td>\n",
       "      <td>0.011</td>\n",
       "      <td>-0.019</td>\n",
       "      <td>-0.053</td>\n",
       "      <td>0.039</td>\n",
       "      <td>-0.065</td>\n",
       "      <td>0.012</td>\n",
       "      <td>-0.082</td>\n",
       "      <td>0.008</td>\n",
       "      <td>0.011</td>\n",
       "      <td>0.007</td>\n",
       "      <td>-0.035</td>\n",
       "      <td>-0.010</td>\n",
       "      <td>0.035</td>\n",
       "    </tr>\n",
       "    <tr>\n",
       "      <th>sms1</th>\n",
       "      <td>0.404</td>\n",
       "      <td>-0.094</td>\n",
       "      <td>-0.078</td>\n",
       "      <td>0.051</td>\n",
       "      <td>0.100</td>\n",
       "      <td>0.047</td>\n",
       "      <td>0.023</td>\n",
       "      <td>0.065</td>\n",
       "      <td>0.024</td>\n",
       "      <td>-0.024</td>\n",
       "      <td>-0.005</td>\n",
       "      <td>-0.038</td>\n",
       "      <td>0.042</td>\n",
       "      <td>-0.016</td>\n",
       "      <td>0.049</td>\n",
       "      <td>-0.041</td>\n",
       "    </tr>\n",
       "    <tr>\n",
       "      <th>sms2!</th>\n",
       "      <td>-0.030</td>\n",
       "      <td>-0.048</td>\n",
       "      <td>0.090</td>\n",
       "      <td>-0.067</td>\n",
       "      <td>0.091</td>\n",
       "      <td>-0.043</td>\n",
       "      <td>-0.000</td>\n",
       "      <td>-0.002</td>\n",
       "      <td>-0.057</td>\n",
       "      <td>0.051</td>\n",
       "      <td>0.124</td>\n",
       "      <td>-0.024</td>\n",
       "      <td>0.027</td>\n",
       "      <td>-0.016</td>\n",
       "      <td>-0.043</td>\n",
       "      <td>0.061</td>\n",
       "    </tr>\n",
       "    <tr>\n",
       "      <th>sms3</th>\n",
       "      <td>0.329</td>\n",
       "      <td>-0.033</td>\n",
       "      <td>-0.035</td>\n",
       "      <td>-0.016</td>\n",
       "      <td>0.052</td>\n",
       "      <td>0.056</td>\n",
       "      <td>-0.165</td>\n",
       "      <td>-0.075</td>\n",
       "      <td>0.063</td>\n",
       "      <td>-0.108</td>\n",
       "      <td>0.020</td>\n",
       "      <td>-0.027</td>\n",
       "      <td>0.073</td>\n",
       "      <td>-0.039</td>\n",
       "      <td>0.028</td>\n",
       "      <td>-0.072</td>\n",
       "    </tr>\n",
       "    <tr>\n",
       "      <th>sms4</th>\n",
       "      <td>0.002</td>\n",
       "      <td>0.031</td>\n",
       "      <td>0.038</td>\n",
       "      <td>0.034</td>\n",
       "      <td>-0.075</td>\n",
       "      <td>-0.093</td>\n",
       "      <td>-0.044</td>\n",
       "      <td>0.062</td>\n",
       "      <td>-0.045</td>\n",
       "      <td>0.029</td>\n",
       "      <td>0.028</td>\n",
       "      <td>0.010</td>\n",
       "      <td>0.025</td>\n",
       "      <td>0.031</td>\n",
       "      <td>-0.079</td>\n",
       "      <td>-0.015</td>\n",
       "    </tr>\n",
       "  </tbody>\n",
       "</table>\n",
       "</div>"
      ],
      "text/plain": [
       "       topic0  topic1  topic2  topic3  topic4  topic5  topic6  topic7  topic8  \\\n",
       "sms0    0.201   0.003   0.037   0.011  -0.019  -0.053   0.039  -0.065   0.012   \n",
       "sms1    0.404  -0.094  -0.078   0.051   0.100   0.047   0.023   0.065   0.024   \n",
       "sms2!  -0.030  -0.048   0.090  -0.067   0.091  -0.043  -0.000  -0.002  -0.057   \n",
       "sms3    0.329  -0.033  -0.035  -0.016   0.052   0.056  -0.165  -0.075   0.063   \n",
       "sms4    0.002   0.031   0.038   0.034  -0.075  -0.093  -0.044   0.062  -0.045   \n",
       "\n",
       "       topic9  topic10  topic11  topic12  topic13  topic14  topic15  \n",
       "sms0   -0.082    0.008    0.011    0.007   -0.035   -0.010    0.035  \n",
       "sms1   -0.024   -0.005   -0.038    0.042   -0.016    0.049   -0.041  \n",
       "sms2!   0.051    0.124   -0.024    0.027   -0.016   -0.043    0.061  \n",
       "sms3   -0.108    0.020   -0.027    0.073   -0.039    0.028   -0.072  \n",
       "sms4    0.029    0.028    0.010    0.025    0.031   -0.079   -0.015  "
      ]
     },
     "execution_count": 30,
     "metadata": {},
     "output_type": "execute_result"
    }
   ],
   "source": [
    "pca_topic_vectors = pd.DataFrame(\n",
    "    pca_topic_vectors, \n",
    "    columns=columns, \n",
    "    index=index\n",
    ")\n",
    "\n",
    "pca_topic_vectors.round(3).head()"
   ]
  },
  {
   "cell_type": "code",
   "execution_count": 31,
   "id": "J1ktn5N7gk7q",
   "metadata": {
    "colab": {
     "base_uri": "https://localhost:8080/"
    },
    "id": "J1ktn5N7gk7q",
    "outputId": "44fb4310-fac7-4888-b174-4dd95e8b40d5"
   },
   "outputs": [
    {
     "name": "stdout",
     "output_type": "stream",
     "text": [
      "<class 'pandas.core.frame.DataFrame'>\n",
      "<class 'numpy.ndarray'>\n"
     ]
    }
   ],
   "source": [
    "print(type(pca_topic_vectors))\n",
    "print(type(pca_topic_vectors.values))"
   ]
  },
  {
   "cell_type": "code",
   "execution_count": 32,
   "id": "990b394a-e473-4304-90dd-acc0b13c2515",
   "metadata": {
    "colab": {
     "base_uri": "https://localhost:8080/",
     "height": 337
    },
    "id": "990b394a-e473-4304-90dd-acc0b13c2515",
    "outputId": "4eca68c5-fe7e-44e9-acd7-288fa8211330"
   },
   "outputs": [
    {
     "name": "stdout",
     "output_type": "stream",
     "text": [
      "-0.454355120437229\n",
      "0.6905163499445719\n"
     ]
    },
    {
     "data": {
      "text/html": [
       "<div>\n",
       "<style scoped>\n",
       "    .dataframe tbody tr th:only-of-type {\n",
       "        vertical-align: middle;\n",
       "    }\n",
       "\n",
       "    .dataframe tbody tr th {\n",
       "        vertical-align: top;\n",
       "    }\n",
       "\n",
       "    .dataframe thead th {\n",
       "        text-align: right;\n",
       "    }\n",
       "</style>\n",
       "<table border=\"1\" class=\"dataframe\">\n",
       "  <thead>\n",
       "    <tr style=\"text-align: right;\">\n",
       "      <th></th>\n",
       "      <th>0</th>\n",
       "      <th>1</th>\n",
       "      <th>2</th>\n",
       "      <th>3</th>\n",
       "      <th>4</th>\n",
       "      <th>5</th>\n",
       "      <th>6</th>\n",
       "      <th>7</th>\n",
       "      <th>8</th>\n",
       "      <th>9</th>\n",
       "      <th>10</th>\n",
       "      <th>11</th>\n",
       "      <th>12</th>\n",
       "      <th>13</th>\n",
       "      <th>14</th>\n",
       "      <th>15</th>\n",
       "    </tr>\n",
       "  </thead>\n",
       "  <tbody>\n",
       "    <tr>\n",
       "      <th>0</th>\n",
       "      <td>-0.024001</td>\n",
       "      <td>0.152769</td>\n",
       "      <td>-0.018366</td>\n",
       "      <td>-0.014253</td>\n",
       "      <td>0.100766</td>\n",
       "      <td>0.010496</td>\n",
       "      <td>0.004555</td>\n",
       "      <td>0.001028</td>\n",
       "      <td>0.017042</td>\n",
       "      <td>0.044738</td>\n",
       "      <td>-0.075004</td>\n",
       "      <td>-0.041092</td>\n",
       "      <td>-0.067349</td>\n",
       "      <td>-0.017618</td>\n",
       "      <td>-0.035576</td>\n",
       "      <td>0.021848</td>\n",
       "    </tr>\n",
       "    <tr>\n",
       "      <th>1</th>\n",
       "      <td>0.015476</td>\n",
       "      <td>0.007608</td>\n",
       "      <td>0.047180</td>\n",
       "      <td>-0.063238</td>\n",
       "      <td>-0.028474</td>\n",
       "      <td>-0.021096</td>\n",
       "      <td>0.013783</td>\n",
       "      <td>-0.000787</td>\n",
       "      <td>-0.104146</td>\n",
       "      <td>-0.005670</td>\n",
       "      <td>-0.039918</td>\n",
       "      <td>0.014758</td>\n",
       "      <td>-0.025962</td>\n",
       "      <td>-0.084905</td>\n",
       "      <td>0.046081</td>\n",
       "      <td>-0.066619</td>\n",
       "    </tr>\n",
       "    <tr>\n",
       "      <th>2</th>\n",
       "      <td>-0.009608</td>\n",
       "      <td>0.112268</td>\n",
       "      <td>0.042762</td>\n",
       "      <td>-0.002024</td>\n",
       "      <td>0.017786</td>\n",
       "      <td>-0.027263</td>\n",
       "      <td>-0.049576</td>\n",
       "      <td>0.061489</td>\n",
       "      <td>-0.143477</td>\n",
       "      <td>0.044998</td>\n",
       "      <td>0.146418</td>\n",
       "      <td>0.009608</td>\n",
       "      <td>0.000156</td>\n",
       "      <td>0.032144</td>\n",
       "      <td>0.077956</td>\n",
       "      <td>0.077623</td>\n",
       "    </tr>\n",
       "    <tr>\n",
       "      <th>3</th>\n",
       "      <td>0.090047</td>\n",
       "      <td>-0.044906</td>\n",
       "      <td>-0.022838</td>\n",
       "      <td>-0.050271</td>\n",
       "      <td>-0.156378</td>\n",
       "      <td>-0.004107</td>\n",
       "      <td>0.005525</td>\n",
       "      <td>-0.044773</td>\n",
       "      <td>0.101857</td>\n",
       "      <td>0.093420</td>\n",
       "      <td>0.036763</td>\n",
       "      <td>0.129166</td>\n",
       "      <td>-0.045691</td>\n",
       "      <td>-0.096757</td>\n",
       "      <td>-0.086781</td>\n",
       "      <td>0.112243</td>\n",
       "    </tr>\n",
       "    <tr>\n",
       "      <th>4</th>\n",
       "      <td>-0.133593</td>\n",
       "      <td>-0.123237</td>\n",
       "      <td>0.091927</td>\n",
       "      <td>0.261289</td>\n",
       "      <td>-0.039362</td>\n",
       "      <td>0.045520</td>\n",
       "      <td>-0.062030</td>\n",
       "      <td>-0.110969</td>\n",
       "      <td>0.207442</td>\n",
       "      <td>0.194476</td>\n",
       "      <td>0.047076</td>\n",
       "      <td>0.207852</td>\n",
       "      <td>-0.100322</td>\n",
       "      <td>0.156661</td>\n",
       "      <td>0.103972</td>\n",
       "      <td>-0.100201</td>\n",
       "    </tr>\n",
       "  </tbody>\n",
       "</table>\n",
       "</div>"
      ],
      "text/plain": [
       "         0         1         2         3         4         5         6   \\\n",
       "0 -0.024001  0.152769 -0.018366 -0.014253  0.100766  0.010496  0.004555   \n",
       "1  0.015476  0.007608  0.047180 -0.063238 -0.028474 -0.021096  0.013783   \n",
       "2 -0.009608  0.112268  0.042762 -0.002024  0.017786 -0.027263 -0.049576   \n",
       "3  0.090047 -0.044906 -0.022838 -0.050271 -0.156378 -0.004107  0.005525   \n",
       "4 -0.133593 -0.123237  0.091927  0.261289 -0.039362  0.045520 -0.062030   \n",
       "\n",
       "         7         8         9         10        11        12        13  \\\n",
       "0  0.001028  0.017042  0.044738 -0.075004 -0.041092 -0.067349 -0.017618   \n",
       "1 -0.000787 -0.104146 -0.005670 -0.039918  0.014758 -0.025962 -0.084905   \n",
       "2  0.061489 -0.143477  0.044998  0.146418  0.009608  0.000156  0.032144   \n",
       "3 -0.044773  0.101857  0.093420  0.036763  0.129166 -0.045691 -0.096757   \n",
       "4 -0.110969  0.207442  0.194476  0.047076  0.207852 -0.100322  0.156661   \n",
       "\n",
       "         14        15  \n",
       "0 -0.035576  0.021848  \n",
       "1  0.046081 -0.066619  \n",
       "2  0.077956  0.077623  \n",
       "3 -0.086781  0.112243  \n",
       "4  0.103972 -0.100201  "
      ]
     },
     "execution_count": 32,
     "metadata": {},
     "output_type": "execute_result"
    }
   ],
   "source": [
    "X_train, X_test, y_train, y_test = train_test_split(\n",
    "    pca_topic_vectors.values, \n",
    "    sms.spam, \n",
    "    test_size=0.3, \n",
    "    random_state=271828\n",
    ")\n",
    "\n",
    "print(np.nanmin(X_train))\n",
    "print(np.nanmax(X_train))\n",
    "test5 = pd.DataFrame(X_train)\n",
    "test5.head()\n",
    "\n",
    "# -2.527663924870674e+303\n",
    "# 5.2270877941723415e+299"
   ]
  },
  {
   "cell_type": "code",
   "execution_count": 33,
   "id": "xxPpuOsFggYy",
   "metadata": {
    "colab": {
     "base_uri": "https://localhost:8080/"
    },
    "id": "xxPpuOsFggYy",
    "outputId": "7e347443-a1f8-47fa-9aa2-b95dfa4b3f97"
   },
   "outputs": [
    {
     "name": "stdout",
     "output_type": "stream",
     "text": [
      "<class 'pandas.core.frame.DataFrame'>\n",
      "RangeIndex: 3385 entries, 0 to 3384\n",
      "Data columns (total 16 columns):\n",
      " #   Column  Non-Null Count  Dtype  \n",
      "---  ------  --------------  -----  \n",
      " 0   0       3385 non-null   float64\n",
      " 1   1       3385 non-null   float64\n",
      " 2   2       3385 non-null   float64\n",
      " 3   3       3385 non-null   float64\n",
      " 4   4       3385 non-null   float64\n",
      " 5   5       3385 non-null   float64\n",
      " 6   6       3385 non-null   float64\n",
      " 7   7       3385 non-null   float64\n",
      " 8   8       3385 non-null   float64\n",
      " 9   9       3385 non-null   float64\n",
      " 10  10      3385 non-null   float64\n",
      " 11  11      3385 non-null   float64\n",
      " 12  12      3385 non-null   float64\n",
      " 13  13      3385 non-null   float64\n",
      " 14  14      3385 non-null   float64\n",
      " 15  15      3385 non-null   float64\n",
      "dtypes: float64(16)\n",
      "memory usage: 423.2 KB\n"
     ]
    }
   ],
   "source": [
    "test5.info()"
   ]
  },
  {
   "cell_type": "code",
   "execution_count": 34,
   "id": "RMCa-EfM55EF",
   "metadata": {
    "colab": {
     "base_uri": "https://localhost:8080/"
    },
    "id": "RMCa-EfM55EF",
    "outputId": "bfefd62d-7826-45d6-88c8-88c7f6bd94fa"
   },
   "outputs": [
    {
     "data": {
      "text/plain": [
       "False"
      ]
     },
     "execution_count": 34,
     "metadata": {},
     "output_type": "execute_result"
    }
   ],
   "source": [
    "pd.DataFrame(X_train).isnull().any().any()"
   ]
  },
  {
   "cell_type": "code",
   "execution_count": 35,
   "id": "FXfnBsUCuV9R",
   "metadata": {
    "colab": {
     "base_uri": "https://localhost:8080/"
    },
    "id": "FXfnBsUCuV9R",
    "outputId": "71cb5b2a-d6ba-4433-cc02-a7e160efc06e"
   },
   "outputs": [
    {
     "data": {
      "text/plain": [
       "0     False\n",
       "1     False\n",
       "2     False\n",
       "3     False\n",
       "4     False\n",
       "5     False\n",
       "6     False\n",
       "7     False\n",
       "8     False\n",
       "9     False\n",
       "10    False\n",
       "11    False\n",
       "12    False\n",
       "13    False\n",
       "14    False\n",
       "15    False\n",
       "dtype: bool"
      ]
     },
     "execution_count": 35,
     "metadata": {},
     "output_type": "execute_result"
    }
   ],
   "source": [
    "pd.DataFrame(X_train).isnull().any()"
   ]
  },
  {
   "cell_type": "code",
   "execution_count": 36,
   "id": "3d763556-a707-4aec-b57d-b3a4075c94c4",
   "metadata": {},
   "outputs": [
    {
     "data": {
      "text/plain": [
       "False"
      ]
     },
     "execution_count": 36,
     "metadata": {},
     "output_type": "execute_result"
    }
   ],
   "source": [
    "np.any(np.isnan(X_train))"
   ]
  },
  {
   "cell_type": "code",
   "execution_count": 37,
   "id": "07bcec96-4712-43c2-b6b3-fdc985da618d",
   "metadata": {},
   "outputs": [
    {
     "data": {
      "text/plain": [
       "True"
      ]
     },
     "execution_count": 37,
     "metadata": {},
     "output_type": "execute_result"
    }
   ],
   "source": [
    "np.all(np.isfinite(X_train))"
   ]
  },
  {
   "cell_type": "code",
   "execution_count": 38,
   "id": "89ajBYAcF-iG",
   "metadata": {
    "id": "89ajBYAcF-iG"
   },
   "outputs": [
    {
     "data": {
      "text/html": [
       "<style>#sk-container-id-2 {color: black;background-color: white;}#sk-container-id-2 pre{padding: 0;}#sk-container-id-2 div.sk-toggleable {background-color: white;}#sk-container-id-2 label.sk-toggleable__label {cursor: pointer;display: block;width: 100%;margin-bottom: 0;padding: 0.3em;box-sizing: border-box;text-align: center;}#sk-container-id-2 label.sk-toggleable__label-arrow:before {content: \"▸\";float: left;margin-right: 0.25em;color: #696969;}#sk-container-id-2 label.sk-toggleable__label-arrow:hover:before {color: black;}#sk-container-id-2 div.sk-estimator:hover label.sk-toggleable__label-arrow:before {color: black;}#sk-container-id-2 div.sk-toggleable__content {max-height: 0;max-width: 0;overflow: hidden;text-align: left;background-color: #f0f8ff;}#sk-container-id-2 div.sk-toggleable__content pre {margin: 0.2em;color: black;border-radius: 0.25em;background-color: #f0f8ff;}#sk-container-id-2 input.sk-toggleable__control:checked~div.sk-toggleable__content {max-height: 200px;max-width: 100%;overflow: auto;}#sk-container-id-2 input.sk-toggleable__control:checked~label.sk-toggleable__label-arrow:before {content: \"▾\";}#sk-container-id-2 div.sk-estimator input.sk-toggleable__control:checked~label.sk-toggleable__label {background-color: #d4ebff;}#sk-container-id-2 div.sk-label input.sk-toggleable__control:checked~label.sk-toggleable__label {background-color: #d4ebff;}#sk-container-id-2 input.sk-hidden--visually {border: 0;clip: rect(1px 1px 1px 1px);clip: rect(1px, 1px, 1px, 1px);height: 1px;margin: -1px;overflow: hidden;padding: 0;position: absolute;width: 1px;}#sk-container-id-2 div.sk-estimator {font-family: monospace;background-color: #f0f8ff;border: 1px dotted black;border-radius: 0.25em;box-sizing: border-box;margin-bottom: 0.5em;}#sk-container-id-2 div.sk-estimator:hover {background-color: #d4ebff;}#sk-container-id-2 div.sk-parallel-item::after {content: \"\";width: 100%;border-bottom: 1px solid gray;flex-grow: 1;}#sk-container-id-2 div.sk-label:hover label.sk-toggleable__label {background-color: #d4ebff;}#sk-container-id-2 div.sk-serial::before {content: \"\";position: absolute;border-left: 1px solid gray;box-sizing: border-box;top: 0;bottom: 0;left: 50%;z-index: 0;}#sk-container-id-2 div.sk-serial {display: flex;flex-direction: column;align-items: center;background-color: white;padding-right: 0.2em;padding-left: 0.2em;position: relative;}#sk-container-id-2 div.sk-item {position: relative;z-index: 1;}#sk-container-id-2 div.sk-parallel {display: flex;align-items: stretch;justify-content: center;background-color: white;position: relative;}#sk-container-id-2 div.sk-item::before, #sk-container-id-2 div.sk-parallel-item::before {content: \"\";position: absolute;border-left: 1px solid gray;box-sizing: border-box;top: 0;bottom: 0;left: 50%;z-index: -1;}#sk-container-id-2 div.sk-parallel-item {display: flex;flex-direction: column;z-index: 1;position: relative;background-color: white;}#sk-container-id-2 div.sk-parallel-item:first-child::after {align-self: flex-end;width: 50%;}#sk-container-id-2 div.sk-parallel-item:last-child::after {align-self: flex-start;width: 50%;}#sk-container-id-2 div.sk-parallel-item:only-child::after {width: 0;}#sk-container-id-2 div.sk-dashed-wrapped {border: 1px dashed gray;margin: 0 0.4em 0.5em 0.4em;box-sizing: border-box;padding-bottom: 0.4em;background-color: white;}#sk-container-id-2 div.sk-label label {font-family: monospace;font-weight: bold;display: inline-block;line-height: 1.2em;}#sk-container-id-2 div.sk-label-container {text-align: center;}#sk-container-id-2 div.sk-container {/* jupyter's `normalize.less` sets `[hidden] { display: none; }` but bootstrap.min.css set `[hidden] { display: none !important; }` so we also need the `!important` here to be able to override the default hidden behavior on the sphinx rendered scikit-learn.org. See: https://github.com/scikit-learn/scikit-learn/issues/21755 */display: inline-block !important;position: relative;}#sk-container-id-2 div.sk-text-repr-fallback {display: none;}</style><div id=\"sk-container-id-2\" class=\"sk-top-container\"><div class=\"sk-text-repr-fallback\"><pre>LinearDiscriminantAnalysis(n_components=1)</pre><b>In a Jupyter environment, please rerun this cell to show the HTML representation or trust the notebook. <br />On GitHub, the HTML representation is unable to render, please try loading this page with nbviewer.org.</b></div><div class=\"sk-container\" hidden><div class=\"sk-item\"><div class=\"sk-estimator sk-toggleable\"><input class=\"sk-toggleable__control sk-hidden--visually\" id=\"sk-estimator-id-2\" type=\"checkbox\" checked><label for=\"sk-estimator-id-2\" class=\"sk-toggleable__label sk-toggleable__label-arrow\">LinearDiscriminantAnalysis</label><div class=\"sk-toggleable__content\"><pre>LinearDiscriminantAnalysis(n_components=1)</pre></div></div></div></div></div>"
      ],
      "text/plain": [
       "LinearDiscriminantAnalysis(n_components=1)"
      ]
     },
     "execution_count": 38,
     "metadata": {},
     "output_type": "execute_result"
    }
   ],
   "source": [
    "lda = LDA(n_components=1)\n",
    "lda"
   ]
  },
  {
   "cell_type": "code",
   "execution_count": 39,
   "id": "5WJeLLWN5wGB",
   "metadata": {
    "colab": {
     "base_uri": "https://localhost:8080/",
     "height": 112
    },
    "id": "5WJeLLWN5wGB",
    "outputId": "ff7c18a5-ac2f-43aa-92b3-a058aa4b96a4"
   },
   "outputs": [
    {
     "name": "stdout",
     "output_type": "stream",
     "text": [
      "CPU times: user 15.8 ms, sys: 3.22 ms, total: 19.1 ms\n",
      "Wall time: 17.1 ms\n"
     ]
    },
    {
     "data": {
      "text/html": [
       "<style>#sk-container-id-3 {color: black;background-color: white;}#sk-container-id-3 pre{padding: 0;}#sk-container-id-3 div.sk-toggleable {background-color: white;}#sk-container-id-3 label.sk-toggleable__label {cursor: pointer;display: block;width: 100%;margin-bottom: 0;padding: 0.3em;box-sizing: border-box;text-align: center;}#sk-container-id-3 label.sk-toggleable__label-arrow:before {content: \"▸\";float: left;margin-right: 0.25em;color: #696969;}#sk-container-id-3 label.sk-toggleable__label-arrow:hover:before {color: black;}#sk-container-id-3 div.sk-estimator:hover label.sk-toggleable__label-arrow:before {color: black;}#sk-container-id-3 div.sk-toggleable__content {max-height: 0;max-width: 0;overflow: hidden;text-align: left;background-color: #f0f8ff;}#sk-container-id-3 div.sk-toggleable__content pre {margin: 0.2em;color: black;border-radius: 0.25em;background-color: #f0f8ff;}#sk-container-id-3 input.sk-toggleable__control:checked~div.sk-toggleable__content {max-height: 200px;max-width: 100%;overflow: auto;}#sk-container-id-3 input.sk-toggleable__control:checked~label.sk-toggleable__label-arrow:before {content: \"▾\";}#sk-container-id-3 div.sk-estimator input.sk-toggleable__control:checked~label.sk-toggleable__label {background-color: #d4ebff;}#sk-container-id-3 div.sk-label input.sk-toggleable__control:checked~label.sk-toggleable__label {background-color: #d4ebff;}#sk-container-id-3 input.sk-hidden--visually {border: 0;clip: rect(1px 1px 1px 1px);clip: rect(1px, 1px, 1px, 1px);height: 1px;margin: -1px;overflow: hidden;padding: 0;position: absolute;width: 1px;}#sk-container-id-3 div.sk-estimator {font-family: monospace;background-color: #f0f8ff;border: 1px dotted black;border-radius: 0.25em;box-sizing: border-box;margin-bottom: 0.5em;}#sk-container-id-3 div.sk-estimator:hover {background-color: #d4ebff;}#sk-container-id-3 div.sk-parallel-item::after {content: \"\";width: 100%;border-bottom: 1px solid gray;flex-grow: 1;}#sk-container-id-3 div.sk-label:hover label.sk-toggleable__label {background-color: #d4ebff;}#sk-container-id-3 div.sk-serial::before {content: \"\";position: absolute;border-left: 1px solid gray;box-sizing: border-box;top: 0;bottom: 0;left: 50%;z-index: 0;}#sk-container-id-3 div.sk-serial {display: flex;flex-direction: column;align-items: center;background-color: white;padding-right: 0.2em;padding-left: 0.2em;position: relative;}#sk-container-id-3 div.sk-item {position: relative;z-index: 1;}#sk-container-id-3 div.sk-parallel {display: flex;align-items: stretch;justify-content: center;background-color: white;position: relative;}#sk-container-id-3 div.sk-item::before, #sk-container-id-3 div.sk-parallel-item::before {content: \"\";position: absolute;border-left: 1px solid gray;box-sizing: border-box;top: 0;bottom: 0;left: 50%;z-index: -1;}#sk-container-id-3 div.sk-parallel-item {display: flex;flex-direction: column;z-index: 1;position: relative;background-color: white;}#sk-container-id-3 div.sk-parallel-item:first-child::after {align-self: flex-end;width: 50%;}#sk-container-id-3 div.sk-parallel-item:last-child::after {align-self: flex-start;width: 50%;}#sk-container-id-3 div.sk-parallel-item:only-child::after {width: 0;}#sk-container-id-3 div.sk-dashed-wrapped {border: 1px dashed gray;margin: 0 0.4em 0.5em 0.4em;box-sizing: border-box;padding-bottom: 0.4em;background-color: white;}#sk-container-id-3 div.sk-label label {font-family: monospace;font-weight: bold;display: inline-block;line-height: 1.2em;}#sk-container-id-3 div.sk-label-container {text-align: center;}#sk-container-id-3 div.sk-container {/* jupyter's `normalize.less` sets `[hidden] { display: none; }` but bootstrap.min.css set `[hidden] { display: none !important; }` so we also need the `!important` here to be able to override the default hidden behavior on the sphinx rendered scikit-learn.org. See: https://github.com/scikit-learn/scikit-learn/issues/21755 */display: inline-block !important;position: relative;}#sk-container-id-3 div.sk-text-repr-fallback {display: none;}</style><div id=\"sk-container-id-3\" class=\"sk-top-container\"><div class=\"sk-text-repr-fallback\"><pre>LinearDiscriminantAnalysis(n_components=1)</pre><b>In a Jupyter environment, please rerun this cell to show the HTML representation or trust the notebook. <br />On GitHub, the HTML representation is unable to render, please try loading this page with nbviewer.org.</b></div><div class=\"sk-container\" hidden><div class=\"sk-item\"><div class=\"sk-estimator sk-toggleable\"><input class=\"sk-toggleable__control sk-hidden--visually\" id=\"sk-estimator-id-3\" type=\"checkbox\" checked><label for=\"sk-estimator-id-3\" class=\"sk-toggleable__label sk-toggleable__label-arrow\">LinearDiscriminantAnalysis</label><div class=\"sk-toggleable__content\"><pre>LinearDiscriminantAnalysis(n_components=1)</pre></div></div></div></div></div>"
      ],
      "text/plain": [
       "LinearDiscriminantAnalysis(n_components=1)"
      ]
     },
     "execution_count": 39,
     "metadata": {},
     "output_type": "execute_result"
    }
   ],
   "source": [
    "%%time\n",
    "\n",
    "lda.fit(\n",
    "    X_train, \n",
    "    y_train\n",
    ") "
   ]
  },
  {
   "cell_type": "code",
   "execution_count": 40,
   "id": "3GY1tkCT51D_",
   "metadata": {
    "colab": {
     "base_uri": "https://localhost:8080/"
    },
    "id": "3GY1tkCT51D_",
    "outputId": "849ef4a3-81b8-4981-a129-c51a9d102f5e"
   },
   "outputs": [
    {
     "name": "stdout",
     "output_type": "stream",
     "text": [
      "Test score accuracy: 0.963\n",
      "----------------------------------------\n",
      "Test set accuracy: 0.956 (+/-0.022902)\n"
     ]
    }
   ],
   "source": [
    "print(f\"Test score accuracy: {lda.score(X_test, y_test).round(3)}\")\n",
    "HR()\n",
    "\n",
    "lda = LDA(n_components=1)\n",
    "scores = cross_val_score(lda, pca_topic_vectors, sms.spam, cv=10)\n",
    "\n",
    "print(f\"Test set accuracy: {scores.mean():.3f} (+/-{(scores.std() * 2):3f})\")"
   ]
  },
  {
   "cell_type": "markdown",
   "id": "2274dcba-72bd-40bd-bdd7-88c1e64136d1",
   "metadata": {
    "id": "2274dcba-72bd-40bd-bdd7-88c1e64136d1"
   },
   "source": [
    "Note: With LSA, you can characterize an SMS message with only 16 dimensions and still have plenty of information to classify them as spam or not. This low-dimensional model is also much less likely to overfit. It should generalize well and be able to classify as-yet-unseen SMS messages or chats.\n",
    "\n",
    "We get better accuracy with a simple LDA model, compared to semantic analysis. However, the advantage of the new model is you can create vectors that represent the semantics of a statement in more than just a single dimension. "
   ]
  },
  {
   "cell_type": "markdown",
   "id": "797b4db8-3484-4637-a27b-c8aa3cfbba71",
   "metadata": {
    "id": "797b4db8-3484-4637-a27b-c8aa3cfbba71"
   },
   "source": [
    "---\n",
    "<a name='4.8'></a><a id='4.8'></a>\n",
    "# 4.8 Topic vector power\n",
    "<a href=\"#top\">[back to top]</a>\n",
    "\n",
    "Problem: What can be done with topic vectors?\n",
    "\n",
    "Idea: Compare the meaning of words, documents, statements, and corpora. You can find \"clusters\" of similar documents and statements. We can find documents that are relevant to the query, not just a good match for solely the word statistics. This is called \"semantic search.\""
   ]
  },
  {
   "cell_type": "markdown",
   "id": "0801a97c-8d4f-42fc-9f77-3ce5ec3d60e1",
   "metadata": {
    "id": "0801a97c-8d4f-42fc-9f77-3ce5ec3d60e1"
   },
   "source": [
    "<a name='4.8.1'></a><a id='4.8.1'></a>\n",
    "## 4.8.1 Semantic search\n",
    "<a href=\"#top\">[back to top]</a>\n",
    "\n",
    "Problem: What is semantic search?\n",
    "\n",
    "Idea: It is full text search that takes into account the meaning of words in a query and documents to be searched. We can use LSA and LDiA to compute topic vectors that capture the semantics of words and documents in a vector. There are efficient and accurate  *appropriate nearest neighbors* algorithms using LSH to efficiently implement semantic search. "
   ]
  },
  {
   "cell_type": "markdown",
   "id": "8bb0e300-c603-43ca-a4a6-6b5935207c6f",
   "metadata": {
    "id": "8bb0e300-c603-43ca-a4a6-6b5935207c6f"
   },
   "source": [
    "<a name='4.8.2'></a><a id='4.8.2'></a>\n",
    "## 4.8.2 Improvements\n",
    "<a href=\"#top\">[back to top]</a>\n",
    "\n",
    "Problem: What is the next step for topic vectors?\n",
    "\n",
    "Idea: Ensure the vectors associated with words are more precise and useful. To do that, neural nets are useful. This improves the pipeline's ability to extract meaning from short texts or even solitary words. "
   ]
  },
  {
   "cell_type": "code",
   "execution_count": null,
   "id": "e29e2788-b9e6-447e-8b84-ecc62e80ebdc",
   "metadata": {
    "id": "e29e2788-b9e6-447e-8b84-ecc62e80ebdc"
   },
   "outputs": [],
   "source": []
  }
 ],
 "metadata": {
  "colab": {
   "provenance": []
  },
  "gpuClass": "standard",
  "kernelspec": {
   "display_name": "Python 3 (ipykernel)",
   "language": "python",
   "name": "python3"
  },
  "language_info": {
   "codemirror_mode": {
    "name": "ipython",
    "version": 3
   },
   "file_extension": ".py",
   "mimetype": "text/x-python",
   "name": "python",
   "nbconvert_exporter": "python",
   "pygments_lexer": "ipython3",
   "version": "3.8.12"
  }
 },
 "nbformat": 4,
 "nbformat_minor": 5
}
