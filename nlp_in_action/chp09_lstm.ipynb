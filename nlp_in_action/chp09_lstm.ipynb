{
 "cells": [
  {
   "cell_type": "markdown",
   "metadata": {},
   "source": [
    "<a id='top'></a><a name='top'></a>\n",
    "# Chapter 9: Improving retention with long short-term memory networks"
   ]
  },
  {
   "cell_type": "markdown",
   "metadata": {},
   "source": [
    "* [Introduction](#introduction)\n",
    "* [9.0 Imports and Setup](#9.0)\n",
    "* [9.1 Remembering with recurrent networks](#9.1)\n",
    "    - [9.1.1 Backpropagation through time](#9.1.1)\n",
    "    - [9.1.2 Where does the rubber hit the road?](#9.1.2)\n",
    "    - [9.1.3 Dirty data](#9.1.3)\n",
    "    - [9.1.4 Back to the dirty data](#9.1.4)\n",
    "    - [9.1.5 Words are hard. Letters are easier](#9.1.5)\n",
    "    - [9.1.6 My turn to chat](#9.1.6)\n",
    "    - [9.1.7 My turn to speak more clearly](#9.1.7)\n",
    "    - [9.1.8 Learned how to say, but not yet what](#9.1.8)\n",
    "    - [9.1.9 Other kinds of memory](#9.1.9)\n",
    "    - [9.1.10 Going deeper](#9.1.10)"
   ]
  },
  {
   "cell_type": "markdown",
   "metadata": {},
   "source": [
    "---\n",
    "<a name='introduction'></a><a id='introduction'></a>\n",
    "# Introduction\n",
    "<a href=\"#top\">[back to top]</a>\n",
    "\n",
    "### Datasets\n",
    "\n",
    "* aclImdb_v1.tar.gz: [script](#aclImdb_v1.tar.gz), [source](https://www.dropbox.com/s/yviic64qv84x73j/aclImdb_v1.tar.gz?dl=1)\n",
    "* GoogleNews-vectors-negative300.bin.gz: [script](#GoogleNews-vectors-negative300.bin.gz), [source](https://www.dropbox.com/s/965dir4dje0hfi4/GoogleNews-vectors-negative300.bin.gz)\n",
    "\n",
    "\n",
    "### Explore\n",
    "\n",
    "* Adding deeper memory to recurrent neural nets\n",
    "* Gating information inside neural nets\n",
    "* Classifying and generating text\n",
    "* Modeling language patterns\n",
    "\n",
    "\n",
    "### Key points\n",
    "\n",
    "* Remembering information with memory units enables more accurate and general models of the sequence.\n",
    "* It's important to forget information that it no longer relevant.\n",
    "* Only some new information needs to be retained for the upcoming input, and LSTMs can be trained to find it.\n",
    "* If you can predict what comes next, you can generate novel text from probabilities.\n",
    "* Character-based models can more efficiently and successfully learn from small, focussed corpora than word-based models.\n",
    "* LSTM thought vectors capture much more than just the sum of the words in a statement."
   ]
  },
  {
   "cell_type": "markdown",
   "metadata": {},
   "source": [
    "---\n",
    "<a name='9.0'></a><a id='9.0'></a>\n",
    "# 9.0 Imports and Setup\n",
    "<a href=\"#top\">[back to top]</a>"
   ]
  },
  {
   "cell_type": "code",
   "execution_count": 1,
   "metadata": {},
   "outputs": [],
   "source": [
    "import os\n",
    "if not os.path.exists('setup'):\n",
    "    os.mkdir('setup')"
   ]
  },
  {
   "cell_type": "code",
   "execution_count": 2,
   "metadata": {},
   "outputs": [],
   "source": [
    "req_file = \"setup/requirements_09.txt\""
   ]
  },
  {
   "cell_type": "code",
   "execution_count": 3,
   "metadata": {},
   "outputs": [
    {
     "name": "stdout",
     "output_type": "stream",
     "text": [
      "Overwriting setup/requirements_09.txt\n"
     ]
    }
   ],
   "source": [
    "%%writefile {req_file}\n",
    "isort\n",
    "scikit-learn-intelex\n",
    "scrapy\n",
    "watermark"
   ]
  },
  {
   "cell_type": "code",
   "execution_count": 4,
   "metadata": {},
   "outputs": [
    {
     "name": "stdout",
     "output_type": "stream",
     "text": [
      "Running locally.\n"
     ]
    }
   ],
   "source": [
    "import sys\n",
    "IS_COLAB = 'google.colab' in sys.modules\n",
    "\n",
    "if IS_COLAB:\n",
    "    print(\"Installing packages\")\n",
    "    !pip install --upgrade --quiet -r {req_file}\n",
    "else:\n",
    "    print(\"Running locally.\")"
   ]
  },
  {
   "cell_type": "code",
   "execution_count": 5,
   "metadata": {},
   "outputs": [],
   "source": [
    "if IS_COLAB:\n",
    "    from sklearnex import patch_sklearn\n",
    "    patch_sklearn()"
   ]
  },
  {
   "cell_type": "code",
   "execution_count": 6,
   "metadata": {},
   "outputs": [
    {
     "name": "stdout",
     "output_type": "stream",
     "text": [
      "Overwriting setup/chp09_imports.py\n"
     ]
    }
   ],
   "source": [
    "%%writefile setup/chp09_imports.py\n",
    "import glob\n",
    "import locale\n",
    "import os\n",
    "import pprint\n",
    "import random\n",
    "import shlex\n",
    "import subprocess\n",
    "import sys\n",
    "import warnings\n",
    "from pathlib import Path\n",
    "from random import shuffle\n",
    "\n",
    "import nltk\n",
    "import numpy as np\n",
    "import seaborn as sns\n",
    "from gensim.models import KeyedVectors\n",
    "from keras.models import model_from_json\n",
    "from nltk.corpus import gutenberg\n",
    "from nltk.tokenize import TreebankWordTokenizer\n",
    "from tensorflow.keras.layers import GRU\n",
    "from tensorflow.keras.layers import LSTM\n",
    "from tensorflow.keras.layers import Activation\n",
    "from tensorflow.keras.layers import Dense\n",
    "from tensorflow.keras.layers import Dropout\n",
    "from tensorflow.keras.layers import Flatten\n",
    "from tensorflow.keras.models import Sequential\n",
    "from tensorflow.keras.models import model_from_json\n",
    "from tensorflow.keras.optimizers import RMSprop\n",
    "from tqdm.auto import tqdm\n",
    "from watermark import watermark"
   ]
  },
  {
   "cell_type": "code",
   "execution_count": 7,
   "metadata": {},
   "outputs": [
    {
     "name": "stdout",
     "output_type": "stream",
     "text": [
      "Fixing /Users/gb/Desktop/examples/setup/chp09_imports.py\n",
      "import glob\n",
      "import locale\n",
      "import os\n",
      "import pprint\n",
      "import random\n",
      "import shlex\n",
      "import subprocess\n",
      "import sys\n",
      "import warnings\n",
      "from pathlib import Path\n",
      "from random import shuffle\n",
      "\n",
      "import nltk\n",
      "import numpy as np\n",
      "import seaborn as sns\n",
      "from gensim.models import KeyedVectors\n",
      "from keras.models import model_from_json\n",
      "from nltk.corpus import gutenberg\n",
      "from nltk.tokenize import TreebankWordTokenizer\n",
      "from tensorflow.keras.layers import GRU\n",
      "from tensorflow.keras.layers import LSTM\n",
      "from tensorflow.keras.layers import Activation\n",
      "from tensorflow.keras.layers import Dense\n",
      "from tensorflow.keras.layers import Dropout\n",
      "from tensorflow.keras.layers import Flatten\n",
      "from tensorflow.keras.models import Sequential\n",
      "from tensorflow.keras.models import model_from_json\n",
      "from tensorflow.keras.optimizers import RMSprop\n",
      "from tqdm.auto import tqdm\n",
      "from watermark import watermark\n"
     ]
    }
   ],
   "source": [
    "!isort setup/chp09_imports.py --sl\n",
    "!cat setup/chp09_imports.py"
   ]
  },
  {
   "cell_type": "code",
   "execution_count": 8,
   "metadata": {},
   "outputs": [],
   "source": [
    "import glob\n",
    "import locale\n",
    "import os\n",
    "import pprint\n",
    "import random\n",
    "import shlex\n",
    "import subprocess\n",
    "import sys\n",
    "import warnings\n",
    "from pathlib import Path\n",
    "from random import shuffle\n",
    "\n",
    "import nltk\n",
    "import numpy as np\n",
    "import seaborn as sns\n",
    "from gensim.models import KeyedVectors\n",
    "from keras.models import model_from_json\n",
    "from nltk.corpus import gutenberg\n",
    "from nltk.tokenize import TreebankWordTokenizer\n",
    "from tensorflow.keras.layers import GRU\n",
    "from tensorflow.keras.layers import LSTM\n",
    "from tensorflow.keras.layers import Activation\n",
    "from tensorflow.keras.layers import Dense\n",
    "from tensorflow.keras.layers import Dropout\n",
    "from tensorflow.keras.layers import Flatten\n",
    "from tensorflow.keras.models import Sequential\n",
    "from tensorflow.keras.models import model_from_json\n",
    "from tensorflow.keras.optimizers import RMSprop\n",
    "from tqdm.auto import tqdm\n",
    "from watermark import watermark"
   ]
  },
  {
   "cell_type": "code",
   "execution_count": 9,
   "metadata": {},
   "outputs": [
    {
     "name": "stdout",
     "output_type": "stream",
     "text": [
      "Python implementation: CPython\n",
      "Python version       : 3.8.12\n",
      "IPython version      : 7.34.0\n",
      "\n",
      "Compiler    : Clang 13.0.0 (clang-1300.0.29.3)\n",
      "OS          : Darwin\n",
      "Release     : 21.6.0\n",
      "Machine     : x86_64\n",
      "Processor   : i386\n",
      "CPU cores   : 4\n",
      "Architecture: 64bit\n",
      "\n",
      "numpy  : 1.23.5\n",
      "seaborn: 0.12.1\n",
      "sys    : 3.8.12 (default, Dec 13 2021, 20:17:08) \n",
      "[Clang 13.0.0 (clang-1300.0.29.3)]\n",
      "nltk   : 3.8\n",
      "\n"
     ]
    }
   ],
   "source": [
    "def HR():\n",
    "    print(\"-\"*40)\n",
    "    \n",
    "def getpreferredencoding(do_setlocale = True):\n",
    "    return \"UTF-8\"\n",
    "\n",
    "locale.getpreferredencoding = getpreferredencoding\n",
    "warnings.filterwarnings('ignore')\n",
    "sns.set_style(\"darkgrid\")\n",
    "tqdm.pandas(desc=\"progress-bar\")\n",
    "pp = pprint.PrettyPrinter(indent=4)\n",
    "random.seed(42)\n",
    "np.random.seed(42)\n",
    "\n",
    "print(watermark(iversions=True,globals_=globals(),python=True,machine=True))"
   ]
  },
  {
   "cell_type": "markdown",
   "metadata": {},
   "source": [
    "---\n",
    "<a name='9.1'></a><a id='9.1'></a>\n",
    "# 9.1 LSTM\n",
    "<a href=\"#top\">[back to top]</a>\n",
    "\n",
    "Problem: How to introduce state for each layer in a recurrent network?\n",
    "\n",
    "Idea: LSTMs enable this concept/mechanism, where it updates the memory state's attributes with each training example.\n",
    "\n",
    "Importance: In LSTMs, the rules that govern the information stored in state (memory) are trained neural nets themselves, which can be trained to learn what to remember. "
   ]
  },
  {
   "cell_type": "markdown",
   "metadata": {},
   "source": [
    "<a id='aclImdb_v1.tar.gz'></a><a name='aclImdb_v1.tar.gz'></a>\n",
    "### Dataset: aclImdb_v1.tar.gz\n",
    "<a href=\"#top\">[back to top]</a>"
   ]
  },
  {
   "cell_type": "code",
   "execution_count": 10,
   "metadata": {},
   "outputs": [
    {
     "name": "stdout",
     "output_type": "stream",
     "text": [
      "\n",
      "data_imdb_file:\taclImdb_v1.tar.gz\n",
      "data_imdb_url:\thttps://www.dropbox.com/s/yviic64qv84x73j/aclImdb_v1.tar.gz?dl=1\n",
      "data_imdb_dir:\tdata/data_imdb\n",
      "data_imdb_src:\tdata/data_imdb/aclImdb_v1.tar.gz\n",
      "data_imdb_path:\tdata/data_imdb/aclImdb\n",
      "\n"
     ]
    }
   ],
   "source": [
    "data_imdb_file = \"aclImdb_v1.tar.gz\"\n",
    "data_imdb_url = f\"https://www.dropbox.com/s/yviic64qv84x73j/{data_imdb_file}?dl=1\"\n",
    "data_imdb_dir = Path(\"data/data_imdb\")\n",
    "data_imdb_src = data_imdb_dir / data_imdb_file\n",
    "data_imdb_path = data_imdb_dir / \"aclImdb\"\n",
    "\n",
    "print(f\"\"\"\n",
    "data_imdb_file:\\t{data_imdb_file}\n",
    "data_imdb_url:\\t{data_imdb_url}\n",
    "data_imdb_dir:\\t{data_imdb_dir}\n",
    "data_imdb_src:\\t{data_imdb_src}\n",
    "data_imdb_path:\\t{data_imdb_path}\n",
    "\"\"\")"
   ]
  },
  {
   "cell_type": "code",
   "execution_count": 11,
   "metadata": {},
   "outputs": [
    {
     "name": "stdout",
     "output_type": "stream",
     "text": [
      "data/data_imdb/aclImdb_v1.tar.gz exists.\n"
     ]
    }
   ],
   "source": [
    "if not os.path.exists(data_imdb_dir):\n",
    "    os.makedirs(data_imdb_dir)\n",
    "    \n",
    "if not data_imdb_src.is_file():\n",
    "    print(f\"Downloading {data_imdb_url} to {data_imdb_src}\")\n",
    "    subprocess.run(shlex.split(f\"wget -q -O {data_imdb_src} {data_imdb_url}\"))\n",
    "    print(\"Done.\")\n",
    "else:\n",
    "    print(f\"{data_imdb_src} exists.\")"
   ]
  },
  {
   "cell_type": "code",
   "execution_count": 12,
   "metadata": {},
   "outputs": [
    {
     "name": "stdout",
     "output_type": "stream",
     "text": [
      " 50M\tdata/data_imdb/aclImdb/aclImdb/test/neg\n",
      " 50M\tdata/data_imdb/aclImdb/aclImdb/test/pos\n",
      "121M\tdata/data_imdb/aclImdb/aclImdb/test\n",
      " 50M\tdata/data_imdb/aclImdb/aclImdb/train/neg\n",
      "201M\tdata/data_imdb/aclImdb/aclImdb/train/unsup\n",
      " 50M\tdata/data_imdb/aclImdb/aclImdb/train/pos\n",
      "365M\tdata/data_imdb/aclImdb/aclImdb/train\n",
      "487M\tdata/data_imdb/aclImdb/aclImdb\n",
      "487M\tdata/data_imdb/aclImdb\n"
     ]
    }
   ],
   "source": [
    "!du -h {data_imdb_path}"
   ]
  },
  {
   "cell_type": "markdown",
   "metadata": {},
   "source": [
    "<a id='GoogleNews-vectors-negative300.bin.gz'></a><a name='GoogleNews-vectors-negative300.bin.gz'></a>\n",
    "### Dataset: GoogleNews-vectors-negative300.bin.gz\n",
    "<a href=\"#top\">[back to top]</a>"
   ]
  },
  {
   "cell_type": "code",
   "execution_count": 13,
   "metadata": {},
   "outputs": [
    {
     "name": "stdout",
     "output_type": "stream",
     "text": [
      "File ‘data/data_word2vec/GoogleNews-vectors-negative300.bin.gz’ already there; not retrieving.\n",
      "total 3216888\n",
      "-rw-r--r--  1 gb  staff  1647046227 Mar 25 12:29 GoogleNews-vectors-negative300.bin.gz\n"
     ]
    }
   ],
   "source": [
    "data_gn_dir = 'data/data_word2vec'\n",
    "if not os.path.exists(data_gn_dir):\n",
    "    os.makedirs(data_gn_dir)\n",
    "\n",
    "data_gn_file = 'GoogleNews-vectors-negative300.bin.gz'\n",
    "data_gn_path = f\"{data_gn_dir}/{data_gn_file}\"\n",
    "!wget -P {data_gn_dir} -O {data_gn_path} -nc \"https://www.dropbox.com/s/965dir4dje0hfi4/GoogleNews-vectors-negative300.bin.gz/GoogleNews-vectors-negative300.bin.gz?dl=1\"\n",
    "!ls -l {data_gn_dir}"
   ]
  },
  {
   "cell_type": "code",
   "execution_count": 14,
   "metadata": {},
   "outputs": [
    {
     "name": "stdout",
     "output_type": "stream",
     "text": [
      "1.5G\tdata/data_word2vec/GoogleNews-vectors-negative300.bin.gz\n"
     ]
    }
   ],
   "source": [
    "!du -h {data_gn_path}"
   ]
  },
  {
   "cell_type": "code",
   "execution_count": 15,
   "metadata": {},
   "outputs": [],
   "source": [
    "# Constants for IMDB training data and Word2vec data\n",
    "TRAINING_DATA_N = 2_000 # ok: 1000, 2000 / 10_000 results in a crash\n",
    "\n",
    "# None\n",
    "# 200_000 most common words from the Google News corpus\n",
    "WORD_2_VEC_N = 200_000"
   ]
  },
  {
   "cell_type": "code",
   "execution_count": 16,
   "metadata": {},
   "outputs": [],
   "source": [
    "def pre_process_data(filepath):\n",
    "    \"\"\"\n",
    "    This is dependent on your training data source but we will try to generalize it as best as possible.\n",
    "    \"\"\"\n",
    "    positive_path = os.path.join(filepath, 'pos')\n",
    "    negative_path = os.path.join(filepath, 'neg')    \n",
    "    pos_label = 1\n",
    "    neg_label = 0\n",
    "    \n",
    "    dataset = []\n",
    "    \n",
    "    for i, filename in enumerate(glob.glob(os.path.join(positive_path, '*.txt'))):\n",
    "        if i < TRAINING_DATA_N:\n",
    "            with open(filename, 'r') as f:\n",
    "                dataset.append((pos_label, f.read()))\n",
    "        else:\n",
    "            break\n",
    "                \n",
    "    for i, filename in enumerate(glob.glob(os.path.join(negative_path, '*.txt'))):\n",
    "        if i < TRAINING_DATA_N:\n",
    "            with open(filename, 'r') as f:\n",
    "                dataset.append((neg_label, f.read()))\n",
    "        else:\n",
    "            break\n",
    "            \n",
    "    shuffle(dataset)\n",
    "    \n",
    "    return dataset"
   ]
  },
  {
   "cell_type": "code",
   "execution_count": 17,
   "metadata": {},
   "outputs": [
    {
     "name": "stdout",
     "output_type": "stream",
     "text": [
      "CPU times: user 4.47 s, sys: 360 ms, total: 4.83 s\n",
      "Wall time: 5.24 s\n"
     ]
    }
   ],
   "source": [
    "%%time\n",
    "# Load GoogleNews Word2Vec vocabulary\n",
    "word_vectors = KeyedVectors.load_word2vec_format(\n",
    "    data_gn_path, \n",
    "    binary=True, \n",
    "    limit=WORD_2_VEC_N # 200_000\n",
    ")"
   ]
  },
  {
   "cell_type": "code",
   "execution_count": 18,
   "metadata": {},
   "outputs": [],
   "source": [
    "# Listing 8.3 Data tokenizer + vectorizer\n",
    "# Tokenize and vectorize the IMDB dataset using the Google Word2vec model\n",
    "def tokenize_and_vectorize(dataset):\n",
    "    tokenizer = TreebankWordTokenizer()\n",
    "    vectorized_data = []\n",
    "    expected = []\n",
    "    for sample in dataset:\n",
    "        tokens = tokenizer.tokenize(sample[1])\n",
    "        sample_vecs = []\n",
    "        for token in tokens:\n",
    "            try:\n",
    "                sample_vecs.append(word_vectors[token])\n",
    "\n",
    "            except KeyError:\n",
    "                pass  # No matching token in the Google w2v vocab\n",
    "            \n",
    "        vectorized_data.append(sample_vecs)\n",
    "\n",
    "    return vectorized_data"
   ]
  },
  {
   "cell_type": "code",
   "execution_count": 19,
   "metadata": {},
   "outputs": [
    {
     "data": {
      "text/plain": [
       "array([ 0.05126953, -0.02233887, -0.17285156,  0.16113281, -0.08447266],\n",
       "      dtype=float32)"
      ]
     },
     "execution_count": 19,
     "metadata": {},
     "output_type": "execute_result"
    }
   ],
   "source": [
    "word_vectors[\"dog\"][:5]"
   ]
  },
  {
   "cell_type": "code",
   "execution_count": 20,
   "metadata": {},
   "outputs": [],
   "source": [
    "# Listing 8.4 Target unzipper\n",
    "def collect_expected(dataset):\n",
    "    \"\"\"Peel off the target values from the dataset \"\"\"\n",
    "    expected = []\n",
    "    for sample in dataset:\n",
    "        expected.append(sample[0])\n",
    "    return expected"
   ]
  },
  {
   "cell_type": "code",
   "execution_count": 21,
   "metadata": {},
   "outputs": [
    {
     "name": "stdout",
     "output_type": "stream",
     "text": [
      " 50M\tdata/data_imdb/aclImdb/aclImdb/train/neg\n",
      "201M\tdata/data_imdb/aclImdb/aclImdb/train/unsup\n",
      " 50M\tdata/data_imdb/aclImdb/aclImdb/train/pos\n",
      "365M\tdata/data_imdb/aclImdb/aclImdb/train\n"
     ]
    }
   ],
   "source": [
    "!du -h {data_imdb_path}/aclImdb/train"
   ]
  },
  {
   "cell_type": "code",
   "execution_count": 22,
   "metadata": {},
   "outputs": [
    {
     "name": "stdout",
     "output_type": "stream",
     "text": [
      "Preprocess training dataset\n",
      "Create vectorized data\n",
      "Preprocess target dataset\n",
      "CPU times: user 6.21 s, sys: 488 ms, total: 6.7 s\n",
      "Wall time: 8.19 s\n"
     ]
    }
   ],
   "source": [
    "%%time\n",
    "# Listing 8.5 Load and prepare the data\n",
    "print(\"Preprocess training dataset\")\n",
    "dataset = pre_process_data(f\"{data_imdb_path}/aclImdb/train\")\n",
    "\n",
    "print(\"Create vectorized data\")\n",
    "vectorized_data = tokenize_and_vectorize(dataset)\n",
    "\n",
    "print(\"Preprocess target dataset\")\n",
    "expected = collect_expected(dataset)"
   ]
  },
  {
   "cell_type": "code",
   "execution_count": 23,
   "metadata": {},
   "outputs": [
    {
     "name": "stdout",
     "output_type": "stream",
     "text": [
      "4000\n",
      "4000\n",
      "4000\n"
     ]
    }
   ],
   "source": [
    "print(len(dataset))\n",
    "print(len(vectorized_data))\n",
    "print(len(expected))"
   ]
  },
  {
   "cell_type": "code",
   "execution_count": 24,
   "metadata": {},
   "outputs": [
    {
     "name": "stdout",
     "output_type": "stream",
     "text": [
      "CPU times: user 111 µs, sys: 45 µs, total: 156 µs\n",
      "Wall time: 201 µs\n"
     ]
    }
   ],
   "source": [
    "%%time\n",
    "split_point = int(len(vectorized_data)*.8)\n",
    "\n",
    "x_train = vectorized_data[:split_point]\n",
    "y_train = expected[:split_point]\n",
    "x_test = vectorized_data[split_point:]\n",
    "y_test = expected[split_point:]"
   ]
  },
  {
   "cell_type": "code",
   "execution_count": 25,
   "metadata": {},
   "outputs": [],
   "source": [
    "def pad_trunc(data, maxlen):\n",
    "    \"\"\" For a given dataset pad with zero vectors or truncate to maxlen \"\"\"\n",
    "    new_data = []\n",
    "\n",
    "    # Create a vector of 0's the length of our word vectors\n",
    "    zero_vector = []\n",
    "    for _ in range(len(data[0][0])):\n",
    "        zero_vector.append(0.0)\n",
    "\n",
    "    for sample in data:\n",
    " \n",
    "        if len(sample) > maxlen:\n",
    "            temp = sample[:maxlen]\n",
    "        elif len(sample) < maxlen:\n",
    "            temp = sample\n",
    "            additional_elems = maxlen - len(sample)\n",
    "            for _ in range(additional_elems):\n",
    "                temp.append(zero_vector)\n",
    "        else:\n",
    "            temp = sample\n",
    "        new_data.append(temp)\n",
    "    return new_data"
   ]
  },
  {
   "cell_type": "code",
   "execution_count": 26,
   "metadata": {},
   "outputs": [],
   "source": [
    "maxlen = 400\n",
    "batch_size = 32         # How many samples to show the net before backpropagating the error and updating the weights\n",
    "embedding_dims = 300    # Length of the token vectors we will create for passing into the Convnet\n",
    "epochs = 5"
   ]
  },
  {
   "cell_type": "code",
   "execution_count": 27,
   "metadata": {},
   "outputs": [
    {
     "name": "stdout",
     "output_type": "stream",
     "text": [
      "Prepare training and test splits\n",
      "Done with padding\n",
      "CPU times: user 106 ms, sys: 13.2 ms, total: 119 ms\n",
      "Wall time: 153 ms\n"
     ]
    }
   ],
   "source": [
    "%%time\n",
    "# Load your test and training data\n",
    "# This may require a lot of memory and crash Colab.\n",
    "print(\"Prepare training and test splits\")\n",
    "x_train = pad_trunc(x_train, maxlen)\n",
    "x_test = pad_trunc(x_test, maxlen)\n",
    "print(\"Done with padding\")"
   ]
  },
  {
   "cell_type": "code",
   "execution_count": 28,
   "metadata": {},
   "outputs": [
    {
     "name": "stdout",
     "output_type": "stream",
     "text": [
      "3200\n",
      "800\n"
     ]
    }
   ],
   "source": [
    "print(len(x_train))\n",
    "print(len(x_test))"
   ]
  },
  {
   "cell_type": "code",
   "execution_count": 29,
   "metadata": {},
   "outputs": [
    {
     "name": "stdout",
     "output_type": "stream",
     "text": [
      "Reshaping training and test splits\n",
      "Done\n",
      "CPU times: user 22.9 s, sys: 3.09 s, total: 26 s\n",
      "Wall time: 32.5 s\n"
     ]
    }
   ],
   "source": [
    "%%time\n",
    "print(\"Reshaping training and test splits\")\n",
    "x_train = np.reshape(x_train, (len(x_train), maxlen, embedding_dims))\n",
    "y_train = np.array(y_train)\n",
    "x_test = np.reshape(x_test, (len(x_test), maxlen, embedding_dims))\n",
    "y_test = np.array(y_test)\n",
    "print(\"Done\")"
   ]
  },
  {
   "cell_type": "code",
   "execution_count": 30,
   "metadata": {},
   "outputs": [
    {
     "name": "stdout",
     "output_type": "stream",
     "text": [
      "<class 'numpy.ndarray'>\n",
      "----------------------------------------\n",
      "x_train: (3200, 400, 300)\n",
      "y_train: (3200,)\n",
      "x_test: (800, 400, 300)\n",
      "y_test: (800,)\n"
     ]
    }
   ],
   "source": [
    "print(type(x_train))\n",
    "HR()\n",
    "print(f\"x_train: {x_train.shape}\")\n",
    "print(f\"y_train: {y_train.shape}\")\n",
    "print(f\"x_test: {x_test.shape}\")\n",
    "print(f\"y_test: {y_test.shape}\")"
   ]
  },
  {
   "cell_type": "markdown",
   "metadata": {},
   "source": [
    "---\n",
    "From here onwards, code specific to this chapter."
   ]
  },
  {
   "cell_type": "code",
   "execution_count": 31,
   "metadata": {},
   "outputs": [
    {
     "name": "stdout",
     "output_type": "stream",
     "text": [
      "Build model...\n"
     ]
    },
    {
     "name": "stderr",
     "output_type": "stream",
     "text": [
      "2023-03-30 21:31:23.032605: I tensorflow/core/platform/cpu_feature_guard.cc:193] This TensorFlow binary is optimized with oneAPI Deep Neural Network Library (oneDNN) to use the following CPU instructions in performance-critical operations:  AVX2 FMA\n",
      "To enable them in other operations, rebuild TensorFlow with the appropriate compiler flags.\n"
     ]
    },
    {
     "name": "stdout",
     "output_type": "stream",
     "text": [
      "Model: \"sequential\"\n",
      "_________________________________________________________________\n",
      " Layer (type)                Output Shape              Param #   \n",
      "=================================================================\n",
      " lstm (LSTM)                 (None, 400, 50)           70200     \n",
      "                                                                 \n",
      " dropout (Dropout)           (None, 400, 50)           0         \n",
      "                                                                 \n",
      " flatten (Flatten)           (None, 20000)             0         \n",
      "                                                                 \n",
      " dense (Dense)               (None, 1)                 20001     \n",
      "                                                                 \n",
      "=================================================================\n",
      "Total params: 90,201\n",
      "Trainable params: 90,201\n",
      "Non-trainable params: 0\n",
      "_________________________________________________________________\n",
      "None\n"
     ]
    }
   ],
   "source": [
    "# Listing 9.1 LSTM layer in Keras\n",
    "num_neurons = 50\n",
    "\n",
    "print('Build model...')\n",
    "model = Sequential()\n",
    "\n",
    "model.add(LSTM(num_neurons, return_sequences=True, input_shape=(maxlen, embedding_dims)))\n",
    "model.add(Dropout(.2))\n",
    "\n",
    "model.add(Flatten())\n",
    "model.add(Dense(1, activation='sigmoid'))\n",
    "\n",
    "model.compile('rmsprop', 'binary_crossentropy',  metrics=['accuracy'])\n",
    "print(model.summary())"
   ]
  },
  {
   "cell_type": "markdown",
   "metadata": {},
   "source": [
    "<a name='9.1.1'></a><a id='9.1.1'></a>\n",
    "## 9.1.1 Backpropagation through time\n",
    "<a href=\"#top\">[back to top]</a>\n",
    "\n",
    "Problem: How does a LSTM model learn?\n",
    "\n",
    "Idea: As with any other neural net, LSTM uses backpropagation. \n",
    "\n",
    "Importance: A LSTM avoids the problem of vanishing and exploring gradients via the memory state itself. The neurons in each of the gates are updated via derivatives of the functions they fed, namely those that update the memory state on the forward pass. "
   ]
  },
  {
   "cell_type": "code",
   "execution_count": 32,
   "metadata": {},
   "outputs": [
    {
     "name": "stdout",
     "output_type": "stream",
     "text": [
      "Build model...\n",
      "Model: \"sequential_1\"\n",
      "_________________________________________________________________\n",
      " Layer (type)                Output Shape              Param #   \n",
      "=================================================================\n",
      " lstm_1 (LSTM)               (None, 400, 50)           70200     \n",
      "                                                                 \n",
      " dropout_1 (Dropout)         (None, 400, 50)           0         \n",
      "                                                                 \n",
      " flatten_1 (Flatten)         (None, 20000)             0         \n",
      "                                                                 \n",
      " dense_1 (Dense)             (None, 1)                 20001     \n",
      "                                                                 \n",
      "=================================================================\n",
      "Total params: 90,201\n",
      "Trainable params: 90,201\n",
      "Non-trainable params: 0\n",
      "_________________________________________________________________\n",
      "None\n"
     ]
    }
   ],
   "source": [
    "# Listing 9.3 Build a Keras LSTM network\n",
    "num_neurons = 50\n",
    "\n",
    "print('Build model...')\n",
    "model = Sequential()\n",
    "\n",
    "model.add(LSTM(num_neurons, return_sequences=True, input_shape=(maxlen, embedding_dims)))\n",
    "model.add(Dropout(.2))\n",
    "\n",
    "model.add(Flatten())\n",
    "model.add(Dense(1, activation='sigmoid'))\n",
    "\n",
    "model.compile('rmsprop', 'binary_crossentropy',  metrics=['accuracy'])\n",
    "print(model.summary())"
   ]
  },
  {
   "cell_type": "code",
   "execution_count": 33,
   "metadata": {},
   "outputs": [
    {
     "name": "stdout",
     "output_type": "stream",
     "text": [
      "Fit model\n",
      "----------------------------------------\n",
      "Epoch 1/5\n",
      "100/100 [==============================] - 32s 292ms/step - loss: 0.5949 - accuracy: 0.6794 - val_loss: 0.5474 - val_accuracy: 0.7325\n",
      "Epoch 2/5\n",
      "100/100 [==============================] - 21s 208ms/step - loss: 0.4395 - accuracy: 0.7994 - val_loss: 0.4727 - val_accuracy: 0.7837\n",
      "Epoch 3/5\n",
      "100/100 [==============================] - 22s 224ms/step - loss: 0.3869 - accuracy: 0.8434 - val_loss: 0.4043 - val_accuracy: 0.8225\n",
      "Epoch 4/5\n",
      "100/100 [==============================] - 29s 293ms/step - loss: 0.3056 - accuracy: 0.8712 - val_loss: 0.4115 - val_accuracy: 0.8138\n",
      "Epoch 5/5\n",
      "100/100 [==============================] - 20s 203ms/step - loss: 0.2474 - accuracy: 0.9013 - val_loss: 0.4246 - val_accuracy: 0.8050\n",
      "CPU times: user 4min 4s, sys: 1min 3s, total: 5min 7s\n",
      "Wall time: 2min 13s\n"
     ]
    }
   ],
   "source": [
    "%%time\n",
    "# Listing 9.4 Fitting the LSTM model\n",
    "print(\"Fit model\")\n",
    "HR()\n",
    "\n",
    "hist = model.fit(\n",
    "    x_train, \n",
    "    y_train,\n",
    "    batch_size=batch_size,\n",
    "    epochs=epochs,\n",
    "    validation_data=(x_test, y_test)\n",
    ")"
   ]
  },
  {
   "cell_type": "code",
   "execution_count": 34,
   "metadata": {},
   "outputs": [
    {
     "name": "stdout",
     "output_type": "stream",
     "text": [
      "dict_keys(['loss', 'accuracy', 'val_loss', 'val_accuracy'])\n"
     ]
    }
   ],
   "source": [
    "print(hist.history.keys())"
   ]
  },
  {
   "cell_type": "code",
   "execution_count": 35,
   "metadata": {},
   "outputs": [
    {
     "name": "stdout",
     "output_type": "stream",
     "text": [
      "[0.5949463844299316, 0.43945637345314026, 0.3868686556816101, 0.30561932921409607, 0.24740758538246155]\n",
      "----------------------------------------\n",
      "[0.5473979711532593, 0.472727507352829, 0.4043354094028473, 0.41146910190582275, 0.42463043332099915]\n",
      "----------------------------------------\n",
      "[0.6793749928474426, 0.7993749976158142, 0.8434374928474426, 0.8712499737739563, 0.9012500047683716]\n",
      "----------------------------------------\n",
      "[0.7325000166893005, 0.7837499976158142, 0.8224999904632568, 0.8137500286102295, 0.8050000071525574]\n"
     ]
    }
   ],
   "source": [
    "print(hist.history['loss'])\n",
    "HR()\n",
    "print(hist.history['val_loss'])\n",
    "HR()\n",
    "print(hist.history['accuracy'])\n",
    "HR()\n",
    "print(hist.history['val_accuracy'])"
   ]
  },
  {
   "cell_type": "code",
   "execution_count": 36,
   "metadata": {},
   "outputs": [
    {
     "data": {
      "image/png": "[encoded data removed]",
      "text/plain": [
       "<Figure size 640x480 with 1 Axes>"
      ]
     },
     "metadata": {},
     "output_type": "display_data"
    }
   ],
   "source": [
    "import pandas as pd\n",
    "import matplotlib.pyplot as plt\n",
    "\n",
    "df = pd.DataFrame(hist.history)\n",
    "df.plot(legend=True, grid=True)\n",
    "plt.show()"
   ]
  },
  {
   "cell_type": "code",
   "execution_count": 37,
   "metadata": {},
   "outputs": [],
   "source": [
    "data_root = 'models/model_lstm'\n",
    "if not os.path.exists(data_root):\n",
    "    os.mkdir(data_root)"
   ]
  },
  {
   "cell_type": "code",
   "execution_count": 38,
   "metadata": {},
   "outputs": [
    {
     "name": "stdout",
     "output_type": "stream",
     "text": [
      "Model saved.\n"
     ]
    }
   ],
   "source": [
    "# Listing 9.5 Save the model for later\n",
    "model_structure = model.to_json()\n",
    "\n",
    "with open(f\"{data_root}/lstm_model1.json\", \"w\") as json_file:\n",
    "    json_file.write(model_structure)\n",
    "\n",
    "model.save_weights(f\"{data_root}/lstm_weights1.h5\")\n",
    "print('Model saved.')"
   ]
  },
  {
   "cell_type": "markdown",
   "metadata": {},
   "source": [
    "<a name='9.1.2'></a><a id='9.1.2'></a>\n",
    "## 9.1.2 Where does the rubber hit the road?\n",
    "<a href=\"#top\">[back to top]</a>\n",
    "\n",
    "Problem: How does this LSTM model perform?\n",
    "\n",
    "Idea: Test this model with various sample phrases for inference."
   ]
  },
  {
   "cell_type": "code",
   "execution_count": 39,
   "metadata": {},
   "outputs": [
    {
     "name": "stdout",
     "output_type": "stream",
     "text": [
      "Load saved model\n"
     ]
    }
   ],
   "source": [
    "print(\"Load saved model\")\n",
    "\n",
    "with open(f\"{data_root}/lstm_model1.json\", \"r\") as json_file:\n",
    "    json_string = json_file.read()\n",
    "model = model_from_json(json_string)\n",
    "\n",
    "model.load_weights(f'{data_root}/lstm_weights1.h5')"
   ]
  },
  {
   "cell_type": "code",
   "execution_count": 40,
   "metadata": {},
   "outputs": [],
   "source": [
    "sample_1 = \"\"\"I'm hate that the dismal weather that had me down for so long, \n",
    "when will it break! Ugh, when does happiness return?  \n",
    "The sun is blinding and the puffy clouds are too thin.  \n",
    "I can't wait for the weekend.\"\"\""
   ]
  },
  {
   "cell_type": "code",
   "execution_count": 41,
   "metadata": {},
   "outputs": [],
   "source": [
    "# We pass a dummy value in the first element of the tuple just because our helper expects it from the way processed the initial data.  That value won't ever see the network, so it can be whatever.\n",
    "vec_list = tokenize_and_vectorize([(1, sample_1)])\n",
    "\n",
    "# Tokenize returns a list of the data (length 1 here)\n",
    "test_vec_list = pad_trunc(vec_list, maxlen)\n",
    "\n",
    "test_vec = np.reshape(test_vec_list, (len(test_vec_list), maxlen, embedding_dims))"
   ]
  },
  {
   "cell_type": "code",
   "execution_count": 42,
   "metadata": {},
   "outputs": [],
   "source": [
    "# 0 = negative review, 1 = positive review\n",
    "sentiment_imdb = []\n",
    "sentiment_imdb.append('Negative Sentiment')\n",
    "sentiment_imdb.append('Positive Sentiment')"
   ]
  },
  {
   "cell_type": "code",
   "execution_count": 43,
   "metadata": {},
   "outputs": [
    {
     "name": "stdout",
     "output_type": "stream",
     "text": [
      "1/1 [==============================] - 0s 431ms/step\n",
      "[[0.4194814]]\n"
     ]
    }
   ],
   "source": [
    "y_pred = model.predict(test_vec)\n",
    "print(y_pred)"
   ]
  },
  {
   "cell_type": "code",
   "execution_count": 44,
   "metadata": {},
   "outputs": [
    {
     "name": "stdout",
     "output_type": "stream",
     "text": [
      "0\n"
     ]
    },
    {
     "data": {
      "text/plain": [
       "'Negative Sentiment'"
      ]
     },
     "execution_count": 44,
     "metadata": {},
     "output_type": "execute_result"
    }
   ],
   "source": [
    "# If model is binary classification, eg  sigmoid last-layer activation\n",
    "res01 = (np.argmax(y_pred > 0.5))\n",
    "print(res01)\n",
    "sentiment_imdb[res01]"
   ]
  },
  {
   "cell_type": "markdown",
   "metadata": {},
   "source": [
    "<a name='9.1.3'></a><a id='9.1.3'></a>\n",
    "## 9.1.3 Dirty data\n",
    "<a href=\"#top\">[back to top]</a>\n",
    "\n",
    "Problem: What choices were made that compromised the integrity of the data?\n",
    "\n",
    "Idea: We padded or truncated each sample to 400 tokens since it was important for convolutional nets so that filter could \"scan\" a vector with a consistent length. And convolutional nets output a consistent vector asd well. It's important for the output to be a consistent dimensionality, because the output goes into a fully connected feed forward layer at the end of the chain, which needs a fixed length vector as input. \n",
    "\n",
    "Also, our implementations of recurrent neural nets, both simple and LSTM, are striving toward a fixed length thought vector we can pass into a feed forward layer for classification. A fixed length vector representation of an object, such as a thought vector, is also an embedding. In order that the thought vector is a consistent size, we have to unroll the net to a consistent number of time steps (tokens). "
   ]
  },
  {
   "cell_type": "code",
   "execution_count": 45,
   "metadata": {},
   "outputs": [
    {
     "name": "stdout",
     "output_type": "stream",
     "text": [
      "Padded: 3591\n",
      "Equal: 1\n",
      "Truncated: 408\n",
      "Avg length: 204.67975\n"
     ]
    }
   ],
   "source": [
    "# Listing 9.8 Optimize the thought vector size\n",
    "def test_len(data, maxlen):\n",
    "    total_len = truncated = exact = padded = 0\n",
    "    for sample in data:\n",
    "        total_len += len(sample)\n",
    "        if len(sample) > maxlen:\n",
    "            truncated += 1\n",
    "        elif len(sample) < maxlen:\n",
    "            padded += 1\n",
    "        else:\n",
    "            exact +=1 \n",
    "\n",
    "    print('Padded: {}'.format(padded))\n",
    "    print('Equal: {}'.format(exact))\n",
    "    print('Truncated: {}'.format(truncated))\n",
    "    print('Avg length: {}'.format(total_len/len(data)))\n",
    "\n",
    "dataset = pre_process_data(f\"{data_imdb_path}/aclImdb/train\")\n",
    "vectorized_data = tokenize_and_vectorize(dataset)\n",
    "test_len(vectorized_data, 400)"
   ]
  },
  {
   "cell_type": "code",
   "execution_count": 46,
   "metadata": {},
   "outputs": [],
   "source": [
    "# Listing 9.9 Optimize LSTM hyperparameters\n",
    "maxlen = 200 # Here we limit the max length to 200 tokens\n",
    "batch_size = 32 # Amount of samples to show the net before backpropagating the error and updating the weights\n",
    "embedding_dims = 300 # Length of token vectors we create for passing into the Convnet\n",
    "\n",
    "epochs = 2\n",
    "\n",
    "dataset = pre_process_data(f\"{data_imdb_path}/aclImdb/train\")\n",
    "vectorized_data = tokenize_and_vectorize(dataset)\n",
    "expected = collect_expected(dataset)\n",
    "\n",
    "split_point = int(len(vectorized_data)*.8)\n",
    "\n",
    "x_train = vectorized_data[:split_point]\n",
    "y_train = expected[:split_point]\n",
    "x_test = vectorized_data[split_point:]\n",
    "y_test = expected[split_point:]\n",
    "\n",
    "x_train = pad_trunc(x_train, maxlen)\n",
    "x_test = pad_trunc(x_test, maxlen)\n",
    "\n",
    "x_train = np.reshape(x_train, (len(x_train), maxlen, embedding_dims))\n",
    "y_train = np.array(y_train)\n",
    "x_test = np.reshape(x_test, (len(x_test), maxlen, embedding_dims))\n",
    "y_test = np.array(y_test)\n",
    "\n",
    "num_neurons = 50"
   ]
  },
  {
   "cell_type": "code",
   "execution_count": 47,
   "metadata": {},
   "outputs": [
    {
     "name": "stdout",
     "output_type": "stream",
     "text": [
      "Build model...\n",
      "Model: \"sequential_2\"\n",
      "_________________________________________________________________\n",
      " Layer (type)                Output Shape              Param #   \n",
      "=================================================================\n",
      " lstm_2 (LSTM)               (None, 200, 50)           70200     \n",
      "                                                                 \n",
      " dropout_2 (Dropout)         (None, 200, 50)           0         \n",
      "                                                                 \n",
      " flatten_2 (Flatten)         (None, 10000)             0         \n",
      "                                                                 \n",
      " dense_2 (Dense)             (None, 1)                 10001     \n",
      "                                                                 \n",
      "=================================================================\n",
      "Total params: 80,201\n",
      "Trainable params: 80,201\n",
      "Non-trainable params: 0\n",
      "_________________________________________________________________\n",
      "None\n"
     ]
    }
   ],
   "source": [
    "# Listing 9.10 More optimally-sized LSTM\n",
    "print('Build model...')\n",
    "model = Sequential()\n",
    "\n",
    "model.add(LSTM(num_neurons, return_sequences=True, input_shape=(maxlen, embedding_dims)))\n",
    "model.add(Dropout(.2))\n",
    "\n",
    "model.add(Flatten())\n",
    "model.add(Dense(1, activation='sigmoid'))\n",
    "\n",
    "model.compile('rmsprop', 'binary_crossentropy',  metrics=['accuracy'])\n",
    "print(model.summary())"
   ]
  },
  {
   "cell_type": "code",
   "execution_count": 48,
   "metadata": {},
   "outputs": [
    {
     "name": "stdout",
     "output_type": "stream",
     "text": [
      "Epoch 1/2\n",
      "100/100 [==============================] - 14s 120ms/step - loss: 0.5966 - accuracy: 0.6753 - val_loss: 0.7627 - val_accuracy: 0.6388\n",
      "Epoch 2/2\n",
      "100/100 [==============================] - 10s 104ms/step - loss: 0.4675 - accuracy: 0.7925 - val_loss: 0.4333 - val_accuracy: 0.7887\n",
      "Model saved.\n"
     ]
    }
   ],
   "source": [
    "# Listing 9.11 Training a smaller LSTM\n",
    "hist = model.fit(\n",
    "    x_train, \n",
    "    y_train,\n",
    "    batch_size=batch_size,\n",
    "    epochs=epochs,\n",
    "    validation_data=(x_test, y_test)\n",
    ")\n",
    "\n",
    "model_structure = model.to_json()\n",
    "\n",
    "with open(f\"{data_root}/lstm_model7.json\", \"w\") as json_file:\n",
    "    json_file.write(model_structure)\n",
    "\n",
    "model.save_weights(f\"{data_root}/lstm_weights7.h5\")\n",
    "print('Model saved.')"
   ]
  },
  {
   "cell_type": "code",
   "execution_count": 49,
   "metadata": {},
   "outputs": [
    {
     "data": {
      "image/png": "[encoded data removed]",
      "text/plain": [
       "<Figure size 640x480 with 1 Axes>"
      ]
     },
     "metadata": {},
     "output_type": "display_data"
    }
   ],
   "source": [
    "df = pd.DataFrame(hist.history)\n",
    "df.plot(legend=True, grid=True)\n",
    "plt.show()"
   ]
  },
  {
   "cell_type": "markdown",
   "metadata": {},
   "source": [
    "<a name='9.1.4'></a><a id='9.1.4'></a>\n",
    "## 9.1.4 Back to the dirty data\n",
    "<a href=\"#top\">[back to top]</a>\n",
    "\n",
    "Problem: How can we deal with unknown words in a pretrained Word2vec model?\n",
    "\n",
    "Idea: There are two basic approaches. The first involves replacing any unknown tokens with a randomly selected vector from the existing model, and using that instead. The second, more common approach is to replace all tokens not in the word vector library with a specific token, usually referenced as \"UNK\" (for unknown), when reconstructing the original input. As with padding, the network can learn its way around these unknown tokens and come to its conclusions around them. "
   ]
  },
  {
   "cell_type": "markdown",
   "metadata": {},
   "source": [
    "<a name='9.1.5'></a><a id='9.1.5'></a>\n",
    "## 9.1.5 Words are hard. Letters are easier.\n",
    "<a href=\"#top\">[back to top]</a>\n",
    "\n",
    "Problem: Word are not atomic at all, as they are made up of smaller words, stems, phonemes, and ultimately a sequence of characters, where a lot of meaning is hidden at.\n",
    "\n",
    "Idea: Extract this deeper level of mearning by modeling at the character level.\n",
    "\n",
    "Importance: Training a model at the character level can be difficult. The patterns and long-term dependencies found at the character level can vary greatly across voices. These patterns can be found, but they may not generalize well. "
   ]
  },
  {
   "cell_type": "code",
   "execution_count": 50,
   "metadata": {},
   "outputs": [],
   "source": [
    "# Listing 9.12 Prepare the data\n",
    "dataset = pre_process_data(f\"{data_imdb_path}/aclImdb/train\")\n",
    "expected = collect_expected(dataset)"
   ]
  },
  {
   "cell_type": "code",
   "execution_count": 51,
   "metadata": {},
   "outputs": [
    {
     "name": "stdout",
     "output_type": "stream",
     "text": [
      "Average sample length: 1340.40775\n",
      "Average length of dataset: None\n"
     ]
    }
   ],
   "source": [
    "# Listing 9.13 Calculate the average sample length\n",
    "# Decide how far to unroll the network, in order to see how many characters\n",
    "# on average are in the data samples.\n",
    "def avg_len(data):\n",
    "    total_len = 0\n",
    "    for sample in data:\n",
    "        total_len += len(sample[1])\n",
    "    print(f\"Average sample length: {total_len/len(data)}\")\n",
    "    \n",
    "print(f\"Average length of dataset: {avg_len(dataset)}\")"
   ]
  },
  {
   "cell_type": "code",
   "execution_count": 52,
   "metadata": {},
   "outputs": [],
   "source": [
    "# Listing 9.14 Prepare the strings for a character-based model\n",
    "# Clean the data of tokens unrelated to the text's natural language.\n",
    "# This filters out some useless characters in the HTML tags, etc.\n",
    "def clean_data(data):\n",
    "    \"\"\" Shift to lower case, replace unknowns with UNK, and listify \"\"\"\n",
    "    new_data = []\n",
    "    VALID = 'abcdefghijklmnopqrstuvwxyz123456789\"\\'?!.,:; '\n",
    "    for sample in data:\n",
    "        new_sample = []\n",
    "        for char in sample[1].lower():  # Just grab the string, not the label\n",
    "            if char in VALID:\n",
    "                new_sample.append(char)\n",
    "            else:\n",
    "                # Use UNK as a single character for anything not matching the VALID list.\n",
    "                new_sample.append('UNK')\n",
    "       \n",
    "        new_data.append(new_sample)\n",
    "    return new_data\n",
    "\n",
    "listified_data = clean_data(dataset)"
   ]
  },
  {
   "cell_type": "code",
   "execution_count": 53,
   "metadata": {},
   "outputs": [
    {
     "data": {
      "text/plain": [
       "4000"
      ]
     },
     "execution_count": 53,
     "metadata": {},
     "output_type": "execute_result"
    }
   ],
   "source": [
    "len(listified_data)"
   ]
  },
  {
   "cell_type": "code",
   "execution_count": 54,
   "metadata": {},
   "outputs": [],
   "source": [
    "# Listing 9.15 Pad and truncate characters\n",
    "# Pad or truncate samples to a given maxlen\n",
    "# Here we introduce another single character for padding, PAD\n",
    "def char_pad_trunc(data, maxlen):\n",
    "    \"\"\" We truncate to maxlen or add in PAD tokens \"\"\"\n",
    "    new_dataset = []\n",
    "    for sample in data:\n",
    "        if len(sample) > maxlen:\n",
    "            new_data = sample[:maxlen]\n",
    "        elif len(sample) < maxlen:\n",
    "            pads = maxlen - len(sample)\n",
    "            new_data = sample + ['PAD'] * pads\n",
    "        else:\n",
    "            new_data = sample\n",
    "        new_dataset.append(new_data)\n",
    "    return new_dataset\n",
    "\n",
    "# Use 1500 to capture slightly more data than was in the average sample.\n",
    "# However, we want to avoid introducing too much noise with PADs.\n",
    "maxlen = 1500"
   ]
  },
  {
   "cell_type": "code",
   "execution_count": 55,
   "metadata": {},
   "outputs": [],
   "source": [
    "# Listing 9.16 Character-based model vocabulary.\n",
    "# This time, instead of use word-embeddings, we one-hot encode the characters.\n",
    "# We need to create a dictionary of the tokens (the characters) mapped to an integer value.\n",
    "def create_dicts(data):\n",
    "    \"\"\" Modified from Keras LSTM example\"\"\"\n",
    "    chars = set()\n",
    "    for sample in data:\n",
    "        chars.update(set(sample))\n",
    "    char_indices = dict((c, i) for i, c in enumerate(chars))\n",
    "    indices_char = dict((i, c) for i, c in enumerate(chars))\n",
    "    return char_indices, indices_char"
   ]
  },
  {
   "cell_type": "code",
   "execution_count": 56,
   "metadata": {},
   "outputs": [],
   "source": [
    "# Listing 9.17 One-hot encoder for characters\n",
    "# Use the above dictionary to create input vectors of the indices instead of \n",
    "# the tokens themselves. \n",
    "def onehot_encode(dataset, char_indices, maxlen):\n",
    "    \"\"\" \n",
    "    One hot encode the tokens\n",
    "    \n",
    "    Args:\n",
    "        dataset  list of lists of tokens\n",
    "        char_indices  dictionary of {key=character, value=index to use encoding vector}\n",
    "        maxlen  int  Length of each sample\n",
    "    Return:\n",
    "        np array of shape (samples, tokens, encoding length)\n",
    "    \"\"\"\n",
    "    X = np.zeros((len(dataset), maxlen, len(char_indices.keys())))\n",
    "    for i, sentence in enumerate(dataset):\n",
    "        for t, char in enumerate(sentence):\n",
    "            X[i, t, char_indices[char]] = 1\n",
    "    return X"
   ]
  },
  {
   "cell_type": "code",
   "execution_count": 57,
   "metadata": {},
   "outputs": [],
   "source": [
    "# Listing 9.18 Load and preprocess that IMDB data\n",
    "dataset = pre_process_data(f\"{data_imdb_path}/aclImdb/train\")\n",
    "expected = collect_expected(dataset)\n",
    "listified_data = clean_data(dataset)\n",
    "\n",
    "maxlen = 1500\n",
    "common_length_data = char_pad_trunc(listified_data, maxlen)\n",
    "\n",
    "char_indices, indices_char = create_dicts(common_length_data)\n",
    "encoded_data = onehot_encode(common_length_data, char_indices, maxlen)"
   ]
  },
  {
   "cell_type": "code",
   "execution_count": 58,
   "metadata": {},
   "outputs": [],
   "source": [
    "# Listing 9.19 Split the dataset for training and testing \n",
    "split_point = int(len(encoded_data)*.8)\n",
    "\n",
    "x_train = encoded_data[:split_point]\n",
    "y_train = expected[:split_point]\n",
    "x_test = encoded_data[split_point:]\n",
    "y_test = expected[split_point:]"
   ]
  },
  {
   "cell_type": "code",
   "execution_count": 59,
   "metadata": {},
   "outputs": [
    {
     "name": "stdout",
     "output_type": "stream",
     "text": [
      "Build model...\n",
      "Model: \"sequential_3\"\n",
      "_________________________________________________________________\n",
      " Layer (type)                Output Shape              Param #   \n",
      "=================================================================\n",
      " lstm_3 (LSTM)               (None, 1500, 40)          13920     \n",
      "                                                                 \n",
      " dropout_3 (Dropout)         (None, 1500, 40)          0         \n",
      "                                                                 \n",
      " flatten_3 (Flatten)         (None, 60000)             0         \n",
      "                                                                 \n",
      " dense_3 (Dense)             (None, 1)                 60001     \n",
      "                                                                 \n",
      "=================================================================\n",
      "Total params: 73,921\n",
      "Trainable params: 73,921\n",
      "Non-trainable params: 0\n",
      "_________________________________________________________________\n",
      "None\n"
     ]
    }
   ],
   "source": [
    "# Listing 9.20 Build a character-based LSTM\n",
    "num_neurons = 40\n",
    "\n",
    "print('Build model...')\n",
    "model = Sequential()\n",
    "\n",
    "model.add(LSTM(num_neurons, return_sequences=True, input_shape=(maxlen, len(char_indices.keys()))))\n",
    "model.add(Dropout(.2))\n",
    "\n",
    "model.add(Flatten())\n",
    "model.add(Dense(1, activation='sigmoid'))\n",
    "\n",
    "model.compile('rmsprop', 'binary_crossentropy',  metrics=['accuracy'])\n",
    "print(model.summary())"
   ]
  },
  {
   "cell_type": "code",
   "execution_count": 60,
   "metadata": {},
   "outputs": [
    {
     "name": "stdout",
     "output_type": "stream",
     "text": [
      "(3200, 1500, 46)\n",
      "<class 'numpy.ndarray'>\n",
      "----------------------------------------\n",
      "(3200,)\n",
      "<class 'numpy.ndarray'>\n"
     ]
    }
   ],
   "source": [
    "print(x_train.shape)\n",
    "print(type(x_train))\n",
    "HR()\n",
    "\n",
    "# GB: May need to convert y_train to Numpy\n",
    "y_train = np.array(y_train)\n",
    "print(y_train.shape)\n",
    "print(type(y_train))"
   ]
  },
  {
   "cell_type": "code",
   "execution_count": 61,
   "metadata": {},
   "outputs": [
    {
     "name": "stdout",
     "output_type": "stream",
     "text": [
      "<class 'numpy.ndarray'>\n",
      "(800, 1500, 46)\n",
      "<class 'numpy.ndarray'>\n"
     ]
    }
   ],
   "source": [
    "y_test = np.array(y_test)\n",
    "\n",
    "print(type(x_test))\n",
    "print(x_test.shape)\n",
    "print(type(y_test))"
   ]
  },
  {
   "cell_type": "code",
   "execution_count": 62,
   "metadata": {},
   "outputs": [
    {
     "name": "stdout",
     "output_type": "stream",
     "text": [
      "Epoch 1/3\n",
      "32/32 [==============================] - 27s 711ms/step - loss: 0.7986 - accuracy: 0.4930 - val_loss: 0.8258 - val_accuracy: 0.4975\n",
      "Epoch 2/3\n",
      "32/32 [==============================] - 26s 825ms/step - loss: 0.6234 - accuracy: 0.6830 - val_loss: 0.7405 - val_accuracy: 0.5050\n",
      "Epoch 3/3\n",
      "32/32 [==============================] - 25s 784ms/step - loss: 0.5242 - accuracy: 0.8210 - val_loss: 0.7474 - val_accuracy: 0.5188\n"
     ]
    }
   ],
   "source": [
    "# Listing 9.21 Train a character-based LSTM\n",
    "batch_size = 32\n",
    "epochs = 3\n",
    "\n",
    "hist = model.fit(\n",
    "    x_train[:1000], \n",
    "    y_train[:1000],\n",
    "    batch_size=batch_size,\n",
    "    epochs=epochs,\n",
    "    validation_data=(x_test[:1000], y_test[:1000])\n",
    ")"
   ]
  },
  {
   "cell_type": "code",
   "execution_count": 63,
   "metadata": {},
   "outputs": [
    {
     "name": "stdout",
     "output_type": "stream",
     "text": [
      "Model saved.\n"
     ]
    }
   ],
   "source": [
    "# Listing 9.22 Save the model \n",
    "model_structure = model.to_json()\n",
    "with open(f\"{data_root}/char_lstm_model3.json\", \"w\") as json_file:\n",
    "    json_file.write(model_structure)\n",
    "\n",
    "model.save_weights(f\"{data_root}/char_lstm_weights3.h5\")\n",
    "print('Model saved.')"
   ]
  },
  {
   "cell_type": "markdown",
   "metadata": {},
   "source": [
    "<a name='9.1.6'></a><a id='9.1.6'></a>\n",
    "## 9.1.6 My turn to chat\n",
    "<a href=\"#top\">[back to top]</a>\n",
    "\n",
    "Problem: How to generate new text with a given style?\n",
    "\n",
    "Idea: Use a LSTM model to learn the probability of the next word based on what it just saw, but with the added benefit of memory state.\n",
    "\n",
    "Importance: With the LSTM memory state, the model has a greater context in which to judge the most appropriate next term. This can help better predict the next character based on characters that came before. "
   ]
  },
  {
   "cell_type": "markdown",
   "metadata": {},
   "source": [
    "<a name='9.1.7'></a><a id='9.1.7'></a>\n",
    "## 9.1.7 My turn to speak more clearly\n",
    "<a href=\"#top\">[back to top]</a>\n",
    "\n",
    "Problem: What are the potential benefits of character-level modeling?\n",
    "\n",
    "Idea: It may detect patterns around spelling, grammar, punctuation. In addition to learning these grammar details, it may also detect patterns around the rhythm and cadence of text as well. \n",
    "\n",
    "Importance: To effectively train for tone and word choice, it is necessary to have a dataset that is more consistent across samples in style and tone."
   ]
  },
  {
   "cell_type": "code",
   "execution_count": 64,
   "metadata": {},
   "outputs": [
    {
     "name": "stderr",
     "output_type": "stream",
     "text": [
      "[nltk_data] Downloading package gutenberg to /Users/gb/nltk_data...\n",
      "[nltk_data]   Package gutenberg is already up-to-date!\n"
     ]
    },
    {
     "data": {
      "text/plain": [
       "['austen-emma.txt',\n",
       " 'austen-persuasion.txt',\n",
       " 'austen-sense.txt',\n",
       " 'bible-kjv.txt',\n",
       " 'blake-poems.txt',\n",
       " 'bryant-stories.txt',\n",
       " 'burgess-busterbrown.txt',\n",
       " 'carroll-alice.txt',\n",
       " 'chesterton-ball.txt',\n",
       " 'chesterton-brown.txt',\n",
       " 'chesterton-thursday.txt',\n",
       " 'edgeworth-parents.txt',\n",
       " 'melville-moby_dick.txt',\n",
       " 'milton-paradise.txt',\n",
       " 'shakespeare-caesar.txt',\n",
       " 'shakespeare-hamlet.txt',\n",
       " 'shakespeare-macbeth.txt',\n",
       " 'whitman-leaves.txt']"
      ]
     },
     "execution_count": 64,
     "metadata": {},
     "output_type": "execute_result"
    }
   ],
   "source": [
    "# Listing 9.23 Import the Project Gutenberg dataset\n",
    "nltk.download('gutenberg')\n",
    "\n",
    "gutenberg.fileids()"
   ]
  },
  {
   "cell_type": "code",
   "execution_count": 65,
   "metadata": {},
   "outputs": [
    {
     "name": "stdout",
     "output_type": "stream",
     "text": [
      "corpus length: 375542\n",
      "total chars: 50\n"
     ]
    }
   ],
   "source": [
    "# Listing 9.24 Preprocess Shakespeare plays\n",
    "# We select 3 plays and concatenate them into a large string.\n",
    "text = ''\n",
    "\n",
    "for txt in gutenberg.fileids():\n",
    "    if 'shakespeare' in txt:\n",
    "        text += gutenberg.raw(txt).lower()\n",
    "\n",
    "print('corpus length:', len(text))\n",
    "\n",
    "chars = sorted(list(set(text)))\n",
    "print('total chars:', len(chars))\n",
    "char_indices = dict((c, i) for i, c in enumerate(chars))\n",
    "indices_char = dict((i, c) for i, c in enumerate(chars))"
   ]
  },
  {
   "cell_type": "code",
   "execution_count": 66,
   "metadata": {},
   "outputs": [
    {
     "name": "stdout",
     "output_type": "stream",
     "text": [
      "[the tragedie of julius caesar by william shakespeare 1599]\n",
      "\n",
      "\n",
      "actus primus. scoena prima.\n",
      "\n",
      "enter flauius, murellus, and certaine commoners ouer the stage.\n",
      "\n",
      "  flauius. hence: home you idle creatures, get you home:\n",
      "is this a holiday? what, know you not\n",
      "(being mechanicall) you ought not walke\n",
      "vpon a labouring day, without the signe\n",
      "of your profession? speake, what trade art thou?\n",
      "  car. why sir, a carpenter\n",
      "\n",
      "   mur. where is thy leather apron, and thy rule?\n",
      "what dost thou with thy best apparrell on\n"
     ]
    }
   ],
   "source": [
    "print(text[:500])"
   ]
  },
  {
   "cell_type": "code",
   "execution_count": 67,
   "metadata": {},
   "outputs": [
    {
     "name": "stdout",
     "output_type": "stream",
     "text": [
      "nb sequences (training samples): 125,168\n"
     ]
    }
   ],
   "source": [
    "# Listing 9.25 Assemble a training set\n",
    "# Divide the text in semi-redundant sequences of maxlen characters\n",
    "maxlen = 40\n",
    "step = 3\n",
    "sentences = []\n",
    "next_chars = []\n",
    "\n",
    "for i in range(0, len(text) - maxlen, step):\n",
    "    sentences.append(text[i: i + maxlen])\n",
    "    next_chars.append(text[i + maxlen])\n",
    "    \n",
    "print(f\"nb sequences (training samples): {len(sentences):,}\")"
   ]
  },
  {
   "cell_type": "code",
   "execution_count": 68,
   "metadata": {},
   "outputs": [
    {
     "name": "stdout",
     "output_type": "stream",
     "text": [
      "Vectorization...\n",
      "Done\n"
     ]
    }
   ],
   "source": [
    "# Listing 9.26 One-hot encode the training examples\n",
    "print('Vectorization...')\n",
    "\n",
    "X = np.zeros((len(sentences), maxlen, len(chars)), dtype=bool)\n",
    "y = np.zeros((len(sentences), len(chars)), dtype=bool)\n",
    "\n",
    "for i, sentence in enumerate(sentences):\n",
    "    for t, char in enumerate(sentence):\n",
    "        X[i, t, char_indices[char]] = 1\n",
    "    y[i, char_indices[next_chars[i]]] = 1\n",
    "    \n",
    "print(\"Done\")"
   ]
  },
  {
   "cell_type": "code",
   "execution_count": 69,
   "metadata": {},
   "outputs": [
    {
     "data": {
      "text/plain": [
       "50"
      ]
     },
     "execution_count": 69,
     "metadata": {},
     "output_type": "execute_result"
    }
   ],
   "source": [
    "# This is the size of our last Dense layer in the model\n",
    "len(chars)"
   ]
  },
  {
   "cell_type": "code",
   "execution_count": 70,
   "metadata": {},
   "outputs": [
    {
     "name": "stdout",
     "output_type": "stream",
     "text": [
      "Build model...\n",
      "Model: \"sequential_4\"\n",
      "_________________________________________________________________\n",
      " Layer (type)                Output Shape              Param #   \n",
      "=================================================================\n",
      " lstm_4 (LSTM)               (None, 128)               91648     \n",
      "                                                                 \n",
      " dense_4 (Dense)             (None, 50)                6450      \n",
      "                                                                 \n",
      " activation (Activation)     (None, 50)                0         \n",
      "                                                                 \n",
      "=================================================================\n",
      "Total params: 98,098\n",
      "Trainable params: 98,098\n",
      "Non-trainable params: 0\n",
      "_________________________________________________________________\n",
      "None\n"
     ]
    }
   ],
   "source": [
    "# Listing 9.27 Assemble a character-based LSTM model for generating text\n",
    "# Build the model: a single LSTM\n",
    "\n",
    "print('Build model...')\n",
    "model = Sequential()\n",
    "model.add(LSTM(128, input_shape=(maxlen, len(chars))))\n",
    "model.add(Dense(len(chars)))\n",
    "\n",
    "# Because the last layer is a softmax, the output vector will be a probability\n",
    "# distribution over all possible outputs of the network. By looking at the highest\n",
    "# value in the output vector, we can see what the network thinks has the highest\n",
    "# probability of being the next character. The index of the output vector with the\n",
    "# highest value (between 0 and 1) will correlate with the index of the one-hot \n",
    "# encoding of the expected token.\n",
    "model.add(Activation('softmax'))\n",
    "\n",
    "optimizer = RMSprop(learning_rate=0.01)\n",
    "model.compile(loss='categorical_crossentropy', optimizer=optimizer)\n",
    "\n",
    "print(model.summary())"
   ]
  },
  {
   "cell_type": "code",
   "execution_count": 71,
   "metadata": {},
   "outputs": [
    {
     "name": "stdout",
     "output_type": "stream",
     "text": [
      "(125168, 40, 50)\n",
      "(125168, 50)\n"
     ]
    }
   ],
   "source": [
    "print(X.shape)\n",
    "print(y.shape)"
   ]
  },
  {
   "cell_type": "code",
   "execution_count": 73,
   "metadata": {},
   "outputs": [
    {
     "name": "stdout",
     "output_type": "stream",
     "text": [
      "Epoch 1/3\n",
      "79/79 [==============================] - 7s 92ms/step - loss: 1.4009\n",
      "Epoch 2/3\n",
      "79/79 [==============================] - 7s 93ms/step - loss: 1.2553\n",
      "Epoch 3/3\n",
      "79/79 [==============================] - 10s 122ms/step - loss: 1.1105\n",
      "Model saved.\n",
      "Epoch 1/3\n",
      "79/79 [==============================] - 13s 169ms/step - loss: 0.9901\n",
      "Epoch 2/3\n",
      "79/79 [==============================] - 7s 93ms/step - loss: 0.8781\n",
      "Epoch 3/3\n",
      "79/79 [==============================] - 7s 86ms/step - loss: 0.7876\n",
      "Model saved.\n"
     ]
    }
   ],
   "source": [
    "# Listing 9.28 Train your Shakespearean chatbot\n",
    "# Because we want to just model this dataset, we are not interested in generalizing\n",
    "# to other problems, so overfitting is not only ok, it is desired.\n",
    "epochs = 3\n",
    "batch_size = 128\n",
    "\n",
    "model_structure = model.to_json()\n",
    "with open(f\"{data_root}/shakes_lstm_model.json\", \"w\") as json_file:\n",
    "    json_file.write(model_structure)\n",
    "\n",
    "for i in range(2): # 5\n",
    "    model.fit(\n",
    "        X[:10000], \n",
    "        y[:10000],\n",
    "        batch_size=batch_size,\n",
    "        epochs=epochs\n",
    "    )\n",
    "\n",
    "    model.save_weights(f\"{data_root}/shakes_lstm_weights_{i+1}.h5\")\n",
    "    print('Model saved.')"
   ]
  },
  {
   "cell_type": "code",
   "execution_count": 74,
   "metadata": {},
   "outputs": [],
   "source": [
    "### NOT IN CHAPTER, Just to reproduce output\n",
    "with open(f'{data_root}/shakes_lstm_model.json', 'r') as f:\n",
    "    model_json = f.read()\n",
    "\n",
    "model = model_from_json(model_json)\n",
    "model.load_weights(f'{data_root}/shakes_lstm_weights_4.h5')"
   ]
  },
  {
   "cell_type": "code",
   "execution_count": 75,
   "metadata": {},
   "outputs": [],
   "source": [
    "# Listing 9.29 Sampler to generate character sequences\n",
    "# Create our own play. The output vectors are 50-D vectors describing a \n",
    "# probability distribution over the 50 possible output characters, so we can\n",
    "# sample from that distribution. Use a Keras helper function for that.\n",
    "\n",
    "def sample(preds, temperature=1.0):\n",
    "    # helper function to sample an index from a probability array\n",
    "    preds = np.asarray(preds).astype('float64')\n",
    "    preds = np.log(preds) / temperature\n",
    "    exp_preds = np.exp(preds)\n",
    "    preds = exp_preds / np.sum(exp_preds)\n",
    "    probas = np.random.multinomial(1, preds, 1)\n",
    "    return np.argmax(probas)"
   ]
  },
  {
   "cell_type": "code",
   "execution_count": 76,
   "metadata": {},
   "outputs": [
    {
     "name": "stdout",
     "output_type": "stream",
     "text": [
      "\n",
      "----- diversity: 0.2\n",
      "----- Generating with seed:\n",
      "\"e:\n",
      "it seemes it is as proper to our age,\"\n",
      "e:\n",
      "it seemes it is as proper to our age,\n",
      "\n",
      "START\n",
      " and thou say, when that to ande to dad haue to offente to sare the arest waue he would haue houed to me, is no flaut. see in thaue that is am sponde of the condowerestrorath when the read dad his wardes, wrue the read did farre woth was haue to mant winde, the arest my putton, wae ar he roue the papte of the may i mid the peare the are whe indow it is as fearie\n",
      "\n",
      "\n",
      "  caes. that is was a crome: i wi\n",
      "----------------------------------------\n",
      "\n",
      "----- diversity: 0.5\n",
      "----- Generating with seed:\n",
      "\"e:\n",
      "it seemes it is as proper to our age,\"\n",
      "e:\n",
      "it seemes it is as proper to our age,\n",
      "\n",
      "START\n",
      " in oure the maye the reat now may,\n",
      "wores a shaue of a haue\n",
      "\n",
      "   bru. ine, wellow this a know your stue the manth his caliosio that you, winde to your some vs all i mar he for did nage: it is a  frame, and yeur frith wem bus your sould mangerauld cassar fath nabe\n",
      "\n",
      "   fre nat haue to of the seat his to was that haue hood winds, thrue dad he well did ward not brutus, wen haue to saue to the inde wat \n",
      "----------------------------------------\n",
      "\n",
      "----- diversity: 1.0\n",
      "----- Generating with seed:\n",
      "\"e:\n",
      "it seemes it is as proper to our age,\"\n",
      "e:\n",
      "it seemes it is as proper to our age,\n",
      "\n",
      "START\n",
      "\n",
      "ar'd haue brutus we wreaue tith:\n",
      "for in haue the you st of\n",
      "\n",
      "   bru. got the ofse i may is asmorty paske nobty as theses of itpinagooues\n",
      "byunds uede of the is that, where haue is am you my beuch to teble you: will wen, you tyus?\n",
      " cack. who't, in the mapre ofte to maye\n",
      "the cassius, yet it way is the ingrow\n",
      "thr. the aure that cinios that soy: were wos winds: and was heapts wheresse worth with uld by\n",
      "----------------------------------------\n"
     ]
    }
   ],
   "source": [
    "# Listing 9.30 Generate three texts with three diversity levels\n",
    "start_index = random.randint(0, len(text) - maxlen - 1)\n",
    "\n",
    "for diversity in [0.2, 0.5, 1.0]:\n",
    "    print()\n",
    "    print('----- diversity:', diversity)\n",
    "\n",
    "    generated = ''\n",
    "    sentence = text[start_index: start_index + maxlen]\n",
    "    generated += sentence\n",
    "    print('----- Generating with seed:\\n\"' + sentence + '\"')\n",
    "    sys.stdout.write(generated)\n",
    "\n",
    "    print()\n",
    "    print()\n",
    "    print(\"START\")\n",
    "    \n",
    "    for i in range(400):\n",
    "        x = np.zeros((1, maxlen, len(chars)))\n",
    "        for t, char in enumerate(sentence):\n",
    "            x[0, t, char_indices[char]] = 1.\n",
    "\n",
    "        preds = model.predict(x, verbose=0)[0]\n",
    "        next_index = sample(preds, diversity)\n",
    "        next_char = indices_char[next_index]\n",
    "\n",
    "        generated += next_char\n",
    "        sentence = sentence[1:] + next_char\n",
    "\n",
    "        sys.stdout.write(next_char)\n",
    "        sys.stdout.flush()\n",
    "\n",
    "    print()\n",
    "    HR()"
   ]
  },
  {
   "cell_type": "markdown",
   "metadata": {},
   "source": [
    "<a name='9.1.8'></a><a id='9.1.8'></a>\n",
    "## 9.1.8 Learned how to say, but no yet what\n",
    "<a href=\"#top\">[back to top]</a>\n",
    "\n",
    "Problem: What is the limitation of the model we just created?\n",
    "\n",
    "Idea: We can generate new text, but cannot control the content, only the style."
   ]
  },
  {
   "cell_type": "markdown",
   "metadata": {},
   "source": [
    "<a name='9.1.9'></a><a id='9.1.9'></a>\n",
    "## 9.1.9 Other kinds of memory\n",
    "<a href=\"#top\">[back to top]</a>\n",
    "\n",
    "Problem: What other types of RNN/LSTM derivatives exist?\n",
    "\n",
    "Idea: GRU, and LSTM with *peephole* conections. These are slight variations on the number or operations of the gates inside the cell. The GRU combines the forget gate and candidate choice branch into a single gate. The LSTM with peephole connections enables each gate in a standard LSTM cell to have access to the current memory state directly, taken in as part of its input. "
   ]
  },
  {
   "cell_type": "code",
   "execution_count": 77,
   "metadata": {},
   "outputs": [
    {
     "name": "stdout",
     "output_type": "stream",
     "text": [
      "Model: \"sequential_5\"\n",
      "_________________________________________________________________\n",
      " Layer (type)                Output Shape              Param #   \n",
      "=================================================================\n",
      " gru (GRU)                   (None, 40, 40)            11040     \n",
      "                                                                 \n",
      "=================================================================\n",
      "Total params: 11,040\n",
      "Trainable params: 11,040\n",
      "Non-trainable params: 0\n",
      "_________________________________________________________________\n"
     ]
    }
   ],
   "source": [
    "# Listing 9.31 Gated recurrent units in Keras\n",
    "model = Sequential()\n",
    "model.add(GRU(num_neurons, return_sequences=True, input_shape=X[0].shape))\n",
    "\n",
    "model.summary()"
   ]
  },
  {
   "cell_type": "markdown",
   "metadata": {},
   "source": [
    "<a name='9.1.10'></a><a id='9.1.10'></a>\n",
    "## 9.1.10 Going deeper\n",
    "<a href=\"#top\">[back to top]</a>\n",
    "\n",
    "Problem: What is advantage of stacking LSTM layers?\n",
    "\n",
    "Idea: This enables the model to form more complex representations of the patterns in the training data. These stacked layers are much more computationally expensive to train. In Keras, we have to specify `return_sequences=True` since the output at each time step is needed as the input for the time steps of the next layer."
   ]
  },
  {
   "cell_type": "code",
   "execution_count": 78,
   "metadata": {},
   "outputs": [
    {
     "name": "stdout",
     "output_type": "stream",
     "text": [
      "Model: \"sequential_6\"\n",
      "_________________________________________________________________\n",
      " Layer (type)                Output Shape              Param #   \n",
      "=================================================================\n",
      " lstm_5 (LSTM)               (None, 40, 40)            14560     \n",
      "                                                                 \n",
      " lstm_6 (LSTM)               (None, 40, 40)            12960     \n",
      "                                                                 \n",
      "=================================================================\n",
      "Total params: 27,520\n",
      "Trainable params: 27,520\n",
      "Non-trainable params: 0\n",
      "_________________________________________________________________\n"
     ]
    }
   ],
   "source": [
    "# Listing 9.32 Two LSTM layers\n",
    "model = Sequential()\n",
    "model.add(LSTM(num_neurons, return_sequences=True, input_shape=X[0].shape))\n",
    "model.add(LSTM(num_neurons, return_sequences=True))\n",
    "model.summary()"
   ]
  },
  {
   "cell_type": "code",
   "execution_count": null,
   "metadata": {},
   "outputs": [],
   "source": []
  }
 ],
 "metadata": {
  "kernelspec": {
   "display_name": "Python 3 (ipykernel)",
   "language": "python",
   "name": "python3"
  },
  "language_info": {
   "codemirror_mode": {
    "name": "ipython",
    "version": 3
   },
   "file_extension": ".py",
   "mimetype": "text/x-python",
   "name": "python",
   "nbconvert_exporter": "python",
   "pygments_lexer": "ipython3",
   "version": "3.8.12"
  }
 },
 "nbformat": 4,
 "nbformat_minor": 4
}
