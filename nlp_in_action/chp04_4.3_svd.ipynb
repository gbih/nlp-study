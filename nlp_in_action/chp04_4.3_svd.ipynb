{
 "cells": [
  {
   "cell_type": "markdown",
   "id": "3d850a95-29a1-4948-9c7d-02b209f3a02b",
   "metadata": {
    "id": "3d850a95-29a1-4948-9c7d-02b209f3a02b"
   },
   "source": [
    "<a id='top'></a><a name='top'></a>\n",
    "# Chapter 4: Finding meaning in word counts (semantic analysis)\n",
    "\n",
    "## 4.3 Singular value decomposition"
   ]
  },
  {
   "cell_type": "markdown",
   "id": "d4fb858e-93ff-41c5-8e26-37c70bb0007c",
   "metadata": {
    "id": "d4fb858e-93ff-41c5-8e26-37c70bb0007c"
   },
   "source": [
    "* [Introduction](#introduction)\n",
    "* [4.0 Imports and Setup](#4.0)\n",
    "* [4.3 Singular value decomposition](#4.3)\n",
    "    - [4.3.1 U-left singular vectors](#4.3.1)\n",
    "    - [4.3.2 S-singular values](#4.3.2)\n",
    "    - [4.3.3 VT-right singular vectors](#4.3.3)\n",
    "    - [4.3.4 SVD matrix operation](#4.3.4)\n",
    "    - [4.3.5 Truncating the topics](#4.3.5)"
   ]
  },
  {
   "cell_type": "markdown",
   "id": "7ee9bf07-3035-4166-bbb7-d7ba2d2a67cf",
   "metadata": {
    "id": "7ee9bf07-3035-4166-bbb7-d7ba2d2a67cf"
   },
   "source": [
    "---\n",
    "<a name='introduction'></a><a id='introduction'></a>\n",
    "# Introduction\n",
    "<a href=\"#top\">[back to top]</a>\n",
    "\n",
    "### Datasets\n",
    "\n",
    "* cats_and_dogs_sorted.txt: [script](#cats_and_dogs_sorted.txt), [source](https://github.com/totalgood/nlpia/raw/master/src/nlpia/data/cats_and_dogs_sorted.txt)\n",
    "\n",
    "### Explore\n",
    "\n",
    "* Analyzing semantics (meaning) to create topic vectors\n",
    "* Semantic search using the similarity between topic vectors\n",
    "* Scalable semantic analysis and semantic search for large copora\n",
    "* Using semantic components (topics) as features in your NLP pipeline\n",
    "* Navigating high-dimensional vector spaces\n",
    "\n",
    "\n",
    "### Key points\n",
    "\n",
    "* You can use SVD for semantic analysis to decompose and transform TF-IDF\n",
    "* Use LDiA when you need to compute explainable topic vectors\n",
    "* No matter how you create your topic vectors, they can be used for semantic search to find documents based on their meaning\n",
    "* Topic vectors can be used to predict whether a social post is spam or is likely to be \"liked\"\n",
    "* We can sidestep the curse of dimensionality to approximate nearest neighbors in a semantic vector space\n"
   ]
  },
  {
   "cell_type": "markdown",
   "id": "e28d418f-975f-497b-9a83-169fb911a0ad",
   "metadata": {
    "id": "e28d418f-975f-497b-9a83-169fb911a0ad"
   },
   "source": [
    "---\n",
    "<a name='4.0'></a><a id='4.0'></a>\n",
    "# 4.0 Imports and Setup\n",
    "<a href=\"#top\">[back to top]</a>"
   ]
  },
  {
   "cell_type": "code",
   "execution_count": 1,
   "id": "b6227bd6-d034-4ad3-86d6-a07c5e78716b",
   "metadata": {
    "id": "b6227bd6-d034-4ad3-86d6-a07c5e78716b"
   },
   "outputs": [],
   "source": [
    "import os\n",
    "if not os.path.exists('setup'):\n",
    "    os.mkdir('setup')"
   ]
  },
  {
   "cell_type": "code",
   "execution_count": 2,
   "id": "91127bef-d081-46d6-99cb-7203814d9a3b",
   "metadata": {
    "id": "91127bef-d081-46d6-99cb-7203814d9a3b",
    "tags": []
   },
   "outputs": [],
   "source": [
    "req_file = \"setup/requirements_04.txt\""
   ]
  },
  {
   "cell_type": "code",
   "execution_count": 3,
   "id": "1d86fec3-3bb5-4df9-8514-aac0e766bf30",
   "metadata": {
    "colab": {
     "base_uri": "https://localhost:8080/"
    },
    "id": "1d86fec3-3bb5-4df9-8514-aac0e766bf30",
    "outputId": "794dd9db-57df-4e6d-d9a8-92bb0c3ba0bd"
   },
   "outputs": [
    {
     "name": "stdout",
     "output_type": "stream",
     "text": [
      "Overwriting setup/requirements_04.txt\n"
     ]
    }
   ],
   "source": [
    "%%writefile {req_file}\n",
    "isort\n",
    "scikit-learn-intelex\n",
    "scrapy\n",
    "watermark"
   ]
  },
  {
   "cell_type": "code",
   "execution_count": 4,
   "id": "4a0d752e-c897-4120-ae57-375257381a29",
   "metadata": {
    "colab": {
     "base_uri": "https://localhost:8080/"
    },
    "id": "4a0d752e-c897-4120-ae57-375257381a29",
    "outputId": "67a8532a-94d2-4914-a30b-3df38062cd3d"
   },
   "outputs": [
    {
     "name": "stdout",
     "output_type": "stream",
     "text": [
      "Running locally.\n"
     ]
    }
   ],
   "source": [
    "import sys\n",
    "IS_COLAB = 'google.colab' in sys.modules\n",
    "\n",
    "if IS_COLAB:\n",
    "    print(\"Installing packages\")\n",
    "    !pip install --upgrade --quiet -r {req_file}\n",
    "else:\n",
    "    print(\"Running locally.\")"
   ]
  },
  {
   "cell_type": "code",
   "execution_count": 5,
   "id": "4c19b894-18e4-4a41-8aa1-3935c9b01b7f",
   "metadata": {},
   "outputs": [
    {
     "name": "stderr",
     "output_type": "stream",
     "text": [
      "Intel(R) Extension for Scikit-learn* enabled (https://github.com/intel/scikit-learn-intelex)\n"
     ]
    }
   ],
   "source": [
    "#if IS_COLAB:\n",
    "from sklearnex import patch_sklearn\n",
    "patch_sklearn()"
   ]
  },
  {
   "cell_type": "code",
   "execution_count": 6,
   "id": "827eff72-dcd3-4cc6-9d26-20d959dd8f0e",
   "metadata": {
    "colab": {
     "base_uri": "https://localhost:8080/"
    },
    "id": "827eff72-dcd3-4cc6-9d26-20d959dd8f0e",
    "outputId": "c620ae66-1756-4ae3-ab02-5f7f52766df5"
   },
   "outputs": [
    {
     "name": "stdout",
     "output_type": "stream",
     "text": [
      "Overwriting setup/chp04_4.3_imports.py\n"
     ]
    }
   ],
   "source": [
    "%%writefile setup/chp04_4.3_imports.py\n",
    "import locale\n",
    "import os\n",
    "import pprint\n",
    "import random\n",
    "import warnings\n",
    "\n",
    "import numpy as np\n",
    "import pandas as pd\n",
    "import seaborn as sns\n",
    "from mpl_toolkits.mplot3d import Axes3D  # noqa\n",
    "from sklearn.feature_extraction.text import TfidfVectorizer\n",
    "from tqdm.auto import tqdm\n",
    "from watermark import watermark"
   ]
  },
  {
   "cell_type": "code",
   "execution_count": 7,
   "id": "00f41d56-423e-41b9-984f-00c5bb19ae10",
   "metadata": {
    "colab": {
     "base_uri": "https://localhost:8080/"
    },
    "id": "00f41d56-423e-41b9-984f-00c5bb19ae10",
    "outputId": "addf8b62-d717-4339-ec3a-a6d945ad42e5"
   },
   "outputs": [
    {
     "name": "stdout",
     "output_type": "stream",
     "text": [
      "import locale\n",
      "import os\n",
      "import pprint\n",
      "import random\n",
      "import warnings\n",
      "\n",
      "import numpy as np\n",
      "import pandas as pd\n",
      "import seaborn as sns\n",
      "from mpl_toolkits.mplot3d import Axes3D  # noqa\n",
      "from sklearn.feature_extraction.text import TfidfVectorizer\n",
      "from tqdm.auto import tqdm\n",
      "from watermark import watermark\n"
     ]
    }
   ],
   "source": [
    "!isort setup/chp04_4.3_imports.py --sl\n",
    "!cat setup/chp04_4.3_imports.py"
   ]
  },
  {
   "cell_type": "code",
   "execution_count": 8,
   "id": "b8371a67-5f08-49e8-9c43-4d4e7613654c",
   "metadata": {
    "colab": {
     "base_uri": "https://localhost:8080/"
    },
    "id": "b8371a67-5f08-49e8-9c43-4d4e7613654c",
    "outputId": "f30a4048-681a-468d-830d-bbcaa40d65cf"
   },
   "outputs": [],
   "source": [
    "import locale\n",
    "import os\n",
    "import pprint\n",
    "import random\n",
    "import warnings\n",
    "\n",
    "import numpy as np\n",
    "import pandas as pd\n",
    "import seaborn as sns\n",
    "from mpl_toolkits.mplot3d import Axes3D  # noqa\n",
    "from sklearn.feature_extraction.text import TfidfVectorizer\n",
    "from tqdm.auto import tqdm\n",
    "from watermark import watermark"
   ]
  },
  {
   "cell_type": "code",
   "execution_count": 9,
   "id": "8704e77a-43ea-48ea-9ba3-ce84b66c36f4",
   "metadata": {
    "colab": {
     "base_uri": "https://localhost:8080/"
    },
    "id": "8704e77a-43ea-48ea-9ba3-ce84b66c36f4",
    "outputId": "ff17e01c-0f45-4baf-9b77-dedbc17c968c"
   },
   "outputs": [
    {
     "name": "stdout",
     "output_type": "stream",
     "text": [
      "Python implementation: CPython\n",
      "Python version       : 3.8.12\n",
      "IPython version      : 7.34.0\n",
      "\n",
      "Compiler    : Clang 13.0.0 (clang-1300.0.29.3)\n",
      "OS          : Darwin\n",
      "Release     : 21.6.0\n",
      "Machine     : x86_64\n",
      "Processor   : i386\n",
      "CPU cores   : 4\n",
      "Architecture: 64bit\n",
      "\n",
      "pandas : 1.5.3\n",
      "sys    : 3.8.12 (default, Dec 13 2021, 20:17:08) \n",
      "[Clang 13.0.0 (clang-1300.0.29.3)]\n",
      "seaborn: 0.12.1\n",
      "numpy  : 1.23.5\n",
      "\n"
     ]
    }
   ],
   "source": [
    "def HR():\n",
    "    print(\"-\"*40)\n",
    "    \n",
    "def getpreferredencoding(do_setlocale = True):\n",
    "    return \"UTF-8\"\n",
    "\n",
    "locale.getpreferredencoding = getpreferredencoding\n",
    "warnings.filterwarnings('ignore')\n",
    "sns.set_style(\"darkgrid\")\n",
    "tqdm.pandas(desc=\"progress-bar\")\n",
    "pp = pprint.PrettyPrinter(indent=4)\n",
    "random.seed(42)\n",
    "np.random.seed(42)\n",
    "\n",
    "print(watermark(iversions=True,globals_=globals(),python=True,machine=True))"
   ]
  },
  {
   "cell_type": "markdown",
   "id": "3c7f4643-7d6d-422e-8110-20da9e68bae4",
   "metadata": {
    "id": "3c7f4643-7d6d-422e-8110-20da9e68bae4"
   },
   "source": [
    "---\n",
    "<a name='4.3'></a><a id='4.3'></a>\n",
    "# 4.3 Singular value decomposition\n",
    "<a href=\"#top\">[back to top]</a>\n",
    "\n",
    "Problem: What is the mathematical algorithm behind LSA?\n",
    "\n",
    "Idea: Singular value decomposition (SVD).\n",
    "\n",
    "Importance: A matrix containing counts per document (rows representing unique words and columns represent each document) is constructed from the text. This can be a term-document matrix, TF-IDF matrix or any other vector space model. SVD is then applied to reduce the number of rows while preserving the similarity structure among columns. \n",
    "\n",
    "Further notes:\n",
    "* http://www.scholarpedia.org/article/Latent_semantic_analysis"
   ]
  },
  {
   "cell_type": "markdown",
   "id": "80a17135-6ab5-485e-9160-2f9d4589a393",
   "metadata": {},
   "source": [
    "<a id='cats_and_dogs_sorted.txt'></a><a name='cats_and_dogs_sorted.txt'></a>\n",
    "### Dataset: cats_and_dogs_sorted.txt\n",
    "<a href=\"#top\">[back to top]</a>"
   ]
  },
  {
   "cell_type": "code",
   "execution_count": 10,
   "id": "dc0353d0-d5a7-411f-a38f-c07751a67ac7",
   "metadata": {},
   "outputs": [
    {
     "name": "stdout",
     "output_type": "stream",
     "text": [
      "File ‘data/data_cats_dogs/cats_and_dogs_sorted.txt’ already there; not retrieving.\n",
      "\n",
      "-rw-r--r--  1 gb  staff  10095 Mar 26 16:19 data/data_cats_dogs/cats_and_dogs_sorted.txt\n"
     ]
    }
   ],
   "source": [
    "data_dir = 'data/data_cats_dogs'\n",
    "if not os.path.exists(data_dir):\n",
    "    os.makedirs(data_dir)\n",
    "    \n",
    "data_cats_dogs = f\"{data_dir}/cats_and_dogs_sorted.txt\"\n",
    "!wget -P {data_dir} -nc https://github.com/totalgood/nlpia/raw/master/src/nlpia/data/cats_and_dogs_sorted.txt\n",
    "!ls -l {data_cats_dogs}"
   ]
  },
  {
   "cell_type": "code",
   "execution_count": 11,
   "id": "4ba2d49d-fac1-437f-93a8-d8fbc12d1a1d",
   "metadata": {},
   "outputs": [
    {
     "name": "stdout",
     "output_type": "stream",
     "text": [
      "NYC is the Big Apple.\n",
      "NYC is known as the Big Apple.\n",
      "I love NYC!\n",
      "I wore a hat to the Big Apple party in NYC.\n",
      "Come to NYC. See the Big Apple!\n",
      "Manhattan is called the Big Apple.\n",
      "New York is a big city for a small cat.\n",
      "The lion, a big cat, is the king of the jungle.\n",
      "I love my pet cat.\n",
      "I love New York City (NYC).\n"
     ]
    }
   ],
   "source": [
    "!head {data_cats_dogs}"
   ]
  },
  {
   "cell_type": "code",
   "execution_count": 12,
   "id": "0f4dffdf-2c6f-4cc8-bd29-c11bd88dde35",
   "metadata": {},
   "outputs": [
    {
     "name": "stdout",
     "output_type": "stream",
     "text": [
      "['NYC is the Big Apple.', 'NYC is known as the Big Apple.', 'I love NYC!', 'I wore a hat to the Big Apple party in NYC.', 'Come to NYC. See the Big Apple!']\n",
      "----------------------------------------\n",
      "NYC is the Big Apple. NYC is known as the Big Apple. I love NYC! I wore a hat to the Big Apple party\n"
     ]
    }
   ],
   "source": [
    "with open(data_cats_dogs, 'r') as f:\n",
    "    contents_raw = [stripped for line in f if (stripped := line.strip())]\n",
    "    \n",
    "print(contents_raw[:5])\n",
    "HR()\n",
    "corpus = ' '.join(contents_raw)\n",
    "print(corpus[:100])"
   ]
  },
  {
   "cell_type": "code",
   "execution_count": 13,
   "id": "d81e454f-ca72-43ad-9122-4e2b8fc8bcb9",
   "metadata": {
    "colab": {
     "base_uri": "https://localhost:8080/",
     "height": 394
    },
    "id": "d81e454f-ca72-43ad-9122-4e2b8fc8bcb9",
    "outputId": "42ff19da-e86a-42e2-b304-28c185a1bb4d"
   },
   "outputs": [
    {
     "data": {
      "text/html": [
       "<div>\n",
       "<style scoped>\n",
       "    .dataframe tbody tr th:only-of-type {\n",
       "        vertical-align: middle;\n",
       "    }\n",
       "\n",
       "    .dataframe tbody tr th {\n",
       "        vertical-align: top;\n",
       "    }\n",
       "\n",
       "    .dataframe thead th {\n",
       "        text-align: right;\n",
       "    }\n",
       "</style>\n",
       "<table border=\"1\" class=\"dataframe\">\n",
       "  <thead>\n",
       "    <tr style=\"text-align: right;\">\n",
       "      <th></th>\n",
       "      <th>cat</th>\n",
       "      <th>dog</th>\n",
       "      <th>apple</th>\n",
       "      <th>lion</th>\n",
       "      <th>nyc</th>\n",
       "      <th>love</th>\n",
       "      <th>text</th>\n",
       "    </tr>\n",
       "  </thead>\n",
       "  <tbody>\n",
       "    <tr>\n",
       "      <th>0</th>\n",
       "      <td></td>\n",
       "      <td></td>\n",
       "      <td>1</td>\n",
       "      <td></td>\n",
       "      <td>1</td>\n",
       "      <td></td>\n",
       "      <td>NYC is the Big Apple.</td>\n",
       "    </tr>\n",
       "    <tr>\n",
       "      <th>1</th>\n",
       "      <td></td>\n",
       "      <td></td>\n",
       "      <td>1</td>\n",
       "      <td></td>\n",
       "      <td>1</td>\n",
       "      <td></td>\n",
       "      <td>NYC is known as the Big Apple.</td>\n",
       "    </tr>\n",
       "    <tr>\n",
       "      <th>2</th>\n",
       "      <td></td>\n",
       "      <td></td>\n",
       "      <td></td>\n",
       "      <td></td>\n",
       "      <td>1</td>\n",
       "      <td>1</td>\n",
       "      <td>I love NYC!</td>\n",
       "    </tr>\n",
       "    <tr>\n",
       "      <th>3</th>\n",
       "      <td></td>\n",
       "      <td></td>\n",
       "      <td>1</td>\n",
       "      <td></td>\n",
       "      <td>1</td>\n",
       "      <td></td>\n",
       "      <td>I wore a hat to the Big Apple party in NYC.</td>\n",
       "    </tr>\n",
       "    <tr>\n",
       "      <th>4</th>\n",
       "      <td></td>\n",
       "      <td></td>\n",
       "      <td>1</td>\n",
       "      <td></td>\n",
       "      <td>1</td>\n",
       "      <td></td>\n",
       "      <td>Come to NYC. See the Big Apple!</td>\n",
       "    </tr>\n",
       "    <tr>\n",
       "      <th>5</th>\n",
       "      <td></td>\n",
       "      <td></td>\n",
       "      <td>1</td>\n",
       "      <td></td>\n",
       "      <td></td>\n",
       "      <td></td>\n",
       "      <td>Manhattan is called the Big Apple.</td>\n",
       "    </tr>\n",
       "    <tr>\n",
       "      <th>6</th>\n",
       "      <td>1</td>\n",
       "      <td></td>\n",
       "      <td></td>\n",
       "      <td></td>\n",
       "      <td></td>\n",
       "      <td></td>\n",
       "      <td>New York is a big city for a small cat.</td>\n",
       "    </tr>\n",
       "    <tr>\n",
       "      <th>7</th>\n",
       "      <td>1</td>\n",
       "      <td></td>\n",
       "      <td></td>\n",
       "      <td>1</td>\n",
       "      <td></td>\n",
       "      <td></td>\n",
       "      <td>The lion, a big cat, is the king of the jungle.</td>\n",
       "    </tr>\n",
       "    <tr>\n",
       "      <th>8</th>\n",
       "      <td>1</td>\n",
       "      <td></td>\n",
       "      <td></td>\n",
       "      <td></td>\n",
       "      <td></td>\n",
       "      <td>1</td>\n",
       "      <td>I love my pet cat.</td>\n",
       "    </tr>\n",
       "    <tr>\n",
       "      <th>9</th>\n",
       "      <td></td>\n",
       "      <td></td>\n",
       "      <td></td>\n",
       "      <td></td>\n",
       "      <td>1</td>\n",
       "      <td>1</td>\n",
       "      <td>I love New York City (NYC).</td>\n",
       "    </tr>\n",
       "    <tr>\n",
       "      <th>10</th>\n",
       "      <td>1</td>\n",
       "      <td>1</td>\n",
       "      <td></td>\n",
       "      <td></td>\n",
       "      <td></td>\n",
       "      <td></td>\n",
       "      <td>Your dog chased my cat.</td>\n",
       "    </tr>\n",
       "  </tbody>\n",
       "</table>\n",
       "</div>"
      ],
      "text/plain": [
       "   cat dog apple lion nyc love  \\\n",
       "0              1        1        \n",
       "1              1        1        \n",
       "2                       1    1   \n",
       "3              1        1        \n",
       "4              1        1        \n",
       "5              1                 \n",
       "6    1                           \n",
       "7    1              1            \n",
       "8    1                       1   \n",
       "9                       1    1   \n",
       "10   1   1                       \n",
       "\n",
       "                                               text  \n",
       "0                             NYC is the Big Apple.  \n",
       "1                    NYC is known as the Big Apple.  \n",
       "2                                       I love NYC!  \n",
       "3       I wore a hat to the Big Apple party in NYC.  \n",
       "4                   Come to NYC. See the Big Apple!  \n",
       "5                Manhattan is called the Big Apple.  \n",
       "6           New York is a big city for a small cat.  \n",
       "7   The lion, a big cat, is the king of the jungle.  \n",
       "8                                I love my pet cat.  \n",
       "9                       I love New York City (NYC).  \n",
       "10                          Your dog chased my cat.  "
      ]
     },
     "execution_count": 13,
     "metadata": {},
     "output_type": "execute_result"
    }
   ],
   "source": [
    "# Use np.linalg.svd directly to illustrate LSA on a small corpus. \n",
    "\n",
    "VOCABULARY = vocabulary='cat dog apple lion NYC love'.lower()  # 'cat dog apple lion NYC love big small bright'.lower().split()\n",
    "DOCS = contents_raw\n",
    "\n",
    "def docs_to_tdm(docs=DOCS, vocabulary=VOCABULARY, verbosity=0):\n",
    "    tfidfer = TfidfVectorizer(min_df=1, max_df=.99, stop_words=None, token_pattern=r'(?u)\\b\\w+\\b',\n",
    "                              vocabulary=vocabulary)\n",
    "    tfidf_dense = pd.DataFrame(tfidfer.fit_transform(docs).todense())\n",
    "    id_words = [(i, w) for (w, i) in tfidfer.vocabulary_.items()]\n",
    "    tfidf_dense.columns = list(zip(*sorted(id_words)))[1]\n",
    "\n",
    "    tfidfer.use_idf = False\n",
    "    tfidfer.norm = None\n",
    "    bow_dense = pd.DataFrame(tfidfer.fit_transform(docs).todense())\n",
    "    bow_dense.columns = list(zip(*sorted(id_words)))[1]\n",
    "    bow_dense = bow_dense.astype(int)\n",
    "    tfidfer.use_idf = True\n",
    "    tfidfer.norm = 'l2'\n",
    "    if verbosity:\n",
    "        print(tfidf_dense.T)\n",
    "    return bow_dense.T, tfidf_dense.T, tfidfer\n",
    "\n",
    "\n",
    "def prettify_tdm(tdm=None, docs=[], vocabulary=[], **kwargs):\n",
    "    bow_pretty = tdm.T.copy()[vocabulary]\n",
    "    bow_pretty['text'] = docs\n",
    "    for col in vocabulary:\n",
    "        bow_pretty.loc[bow_pretty[col] == 0, col] = ''\n",
    "    return bow_pretty\n",
    "\n",
    "\n",
    "def accuracy_study(tdm=None, u=None, s=None, vt=None, verbosity=0, **kwargs):\n",
    "    \"\"\" Reconstruct the term-document matrix and measure error as SVD terms are truncated\n",
    "    \"\"\"\n",
    "    smat = np.zeros((len(u), len(vt)))\n",
    "    np.fill_diagonal(smat, s)\n",
    "    smat = pd.DataFrame(smat, columns=vt.index, index=u.index)\n",
    "    if verbosity:\n",
    "        print()\n",
    "        print('Sigma:')\n",
    "        print(smat.round(2))\n",
    "        print()\n",
    "        print('Sigma without zeroing any dim:')\n",
    "        print(np.diag(smat.round(2)))\n",
    "    tdm_prime = u.values.dot(smat.values).dot(vt.values)\n",
    "    if verbosity:\n",
    "        print()\n",
    "        print('Reconstructed Term-Document Matrix')\n",
    "        print(tdm_prime.round(2))\n",
    "\n",
    "    err = [np.sqrt(((tdm_prime - tdm).values.flatten() ** 2).sum() / np.product(tdm.shape))]\n",
    "    if verbosity:\n",
    "        print()\n",
    "        print('Error without reducing dimensions:')\n",
    "        print(err[-1])\n",
    "\n",
    "    smat2 = smat.copy()\n",
    "    for numdim in range(len(s) - 1, 0, -1):\n",
    "        smat2.iloc[numdim, numdim] = 0\n",
    "        if verbosity:\n",
    "            print('Sigma after zeroing out dim {}'.format(numdim))\n",
    "            print(np.diag(smat2.round(2)))\n",
    "\n",
    "        tdm_prime2 = u.values.dot(smat2.values).dot(vt.values)\n",
    "        err += [np.sqrt(((tdm_prime2 - tdm).values.flatten() ** 2).sum() / np.product(tdm.shape))]\n",
    "        if verbosity:\n",
    "            print('Error after zeroing out dim {}'.format(numdim))\n",
    "            print(err[-1])\n",
    "    return err\n",
    "\n",
    "\n",
    "def lsa(tdm, verbosity=0):\n",
    "    if verbosity:\n",
    "        print(tdm)\n",
    "\n",
    "    u, s, vt = np.linalg.svd(tdm)\n",
    "\n",
    "    u = pd.DataFrame(u, index=tdm.index)\n",
    "    if verbosity:\n",
    "        print('U')\n",
    "        print(u.round(2))\n",
    "\n",
    "    vt = pd.DataFrame(vt, index=['d{}'.format(i) for i in range(len(vt))])\n",
    "    if verbosity:\n",
    "        print('VT')\n",
    "        print(vt.round(2))\n",
    "\n",
    "    # Reconstruct the original term-document matrix.\n",
    "    # The sum of the squares of the error is 0.\n",
    "    return {'u': u, 's': s, 'vt': vt, 'tdm': tdm}\n",
    "\n",
    "\n",
    "def lsa_models(vocabulary='cat dog apple lion NYC love'.lower().split(), docs=11, verbosity=0):\n",
    "    # vocabulary = 'cat dog apple lion NYC love big small bright'.lower().split()\n",
    "    if isinstance(docs, int):\n",
    "        docs = contents_raw[:docs]\n",
    "        \n",
    "    tdm, tfidfdm, tfidfer = docs_to_tdm(docs=docs, vocabulary=vocabulary)\n",
    "    lsa_bow_model = lsa(tdm)  # (tdm - tdm.mean(axis=1)) # SVD fails to converge if you center, like PCA does\n",
    "    lsa_bow_model['vocabulary'] = tdm.index.values\n",
    "    lsa_bow_model['docs'] = docs\n",
    "    err = accuracy_study(verbosity=verbosity, **lsa_bow_model)\n",
    "    lsa_bow_model['err'] = err\n",
    "    lsa_bow_model['accuracy'] = list(1. - np.array(err))\n",
    "    \n",
    "    lsa_tfidf_model = lsa(tdm=tfidfdm)\n",
    "    lsa_bow_model['vocabulary'] = tfidfdm.index.values\n",
    "    lsa_tfidf_model['docs'] = docs\n",
    "    err = accuracy_study(verbosity=verbosity, **lsa_tfidf_model)\n",
    "    lsa_tfidf_model['err'] = err\n",
    "    lsa_tfidf_model['accuracy'] = list(1. - np.array(err))\n",
    "\n",
    "    return lsa_bow_model, lsa_tfidf_model\n",
    "\n",
    "\n",
    "bow_svd, tfidf_svd = lsa_models()\n",
    "\n",
    "prettify_tdm(**bow_svd)"
   ]
  },
  {
   "cell_type": "markdown",
   "id": "328e3aa0-b9d7-4254-8aab-6eba120a0800",
   "metadata": {
    "id": "328e3aa0-b9d7-4254-8aab-6eba120a0800"
   },
   "source": [
    "This is a document-term matrix where each row is a vector of the bag-of-words for a document.\n",
    "\n",
    "This works on TF-IDF matrices or any other vector space model."
   ]
  },
  {
   "cell_type": "code",
   "execution_count": 14,
   "id": "e3eeac9e-2748-4dca-bc0c-01ed07aef01e",
   "metadata": {
    "colab": {
     "base_uri": "https://localhost:8080/",
     "height": 237
    },
    "id": "e3eeac9e-2748-4dca-bc0c-01ed07aef01e",
    "outputId": "b1dbf793-84b7-4d41-d21a-bbf2ad3f37d2"
   },
   "outputs": [
    {
     "data": {
      "text/html": [
       "<div>\n",
       "<style scoped>\n",
       "    .dataframe tbody tr th:only-of-type {\n",
       "        vertical-align: middle;\n",
       "    }\n",
       "\n",
       "    .dataframe tbody tr th {\n",
       "        vertical-align: top;\n",
       "    }\n",
       "\n",
       "    .dataframe thead th {\n",
       "        text-align: right;\n",
       "    }\n",
       "</style>\n",
       "<table border=\"1\" class=\"dataframe\">\n",
       "  <thead>\n",
       "    <tr style=\"text-align: right;\">\n",
       "      <th></th>\n",
       "      <th>0</th>\n",
       "      <th>1</th>\n",
       "      <th>2</th>\n",
       "      <th>3</th>\n",
       "      <th>4</th>\n",
       "      <th>5</th>\n",
       "      <th>6</th>\n",
       "      <th>7</th>\n",
       "      <th>8</th>\n",
       "      <th>9</th>\n",
       "      <th>10</th>\n",
       "    </tr>\n",
       "  </thead>\n",
       "  <tbody>\n",
       "    <tr>\n",
       "      <th>cat</th>\n",
       "      <td>0</td>\n",
       "      <td>0</td>\n",
       "      <td>0</td>\n",
       "      <td>0</td>\n",
       "      <td>0</td>\n",
       "      <td>0</td>\n",
       "      <td>1</td>\n",
       "      <td>1</td>\n",
       "      <td>1</td>\n",
       "      <td>0</td>\n",
       "      <td>1</td>\n",
       "    </tr>\n",
       "    <tr>\n",
       "      <th>dog</th>\n",
       "      <td>0</td>\n",
       "      <td>0</td>\n",
       "      <td>0</td>\n",
       "      <td>0</td>\n",
       "      <td>0</td>\n",
       "      <td>0</td>\n",
       "      <td>0</td>\n",
       "      <td>0</td>\n",
       "      <td>0</td>\n",
       "      <td>0</td>\n",
       "      <td>1</td>\n",
       "    </tr>\n",
       "    <tr>\n",
       "      <th>apple</th>\n",
       "      <td>1</td>\n",
       "      <td>1</td>\n",
       "      <td>0</td>\n",
       "      <td>1</td>\n",
       "      <td>1</td>\n",
       "      <td>1</td>\n",
       "      <td>0</td>\n",
       "      <td>0</td>\n",
       "      <td>0</td>\n",
       "      <td>0</td>\n",
       "      <td>0</td>\n",
       "    </tr>\n",
       "    <tr>\n",
       "      <th>lion</th>\n",
       "      <td>0</td>\n",
       "      <td>0</td>\n",
       "      <td>0</td>\n",
       "      <td>0</td>\n",
       "      <td>0</td>\n",
       "      <td>0</td>\n",
       "      <td>0</td>\n",
       "      <td>1</td>\n",
       "      <td>0</td>\n",
       "      <td>0</td>\n",
       "      <td>0</td>\n",
       "    </tr>\n",
       "    <tr>\n",
       "      <th>nyc</th>\n",
       "      <td>1</td>\n",
       "      <td>1</td>\n",
       "      <td>1</td>\n",
       "      <td>1</td>\n",
       "      <td>1</td>\n",
       "      <td>0</td>\n",
       "      <td>0</td>\n",
       "      <td>0</td>\n",
       "      <td>0</td>\n",
       "      <td>1</td>\n",
       "      <td>0</td>\n",
       "    </tr>\n",
       "    <tr>\n",
       "      <th>love</th>\n",
       "      <td>0</td>\n",
       "      <td>0</td>\n",
       "      <td>1</td>\n",
       "      <td>0</td>\n",
       "      <td>0</td>\n",
       "      <td>0</td>\n",
       "      <td>0</td>\n",
       "      <td>0</td>\n",
       "      <td>1</td>\n",
       "      <td>1</td>\n",
       "      <td>0</td>\n",
       "    </tr>\n",
       "  </tbody>\n",
       "</table>\n",
       "</div>"
      ],
      "text/plain": [
       "       0   1   2   3   4   5   6   7   8   9   10\n",
       "cat     0   0   0   0   0   0   1   1   1   0   1\n",
       "dog     0   0   0   0   0   0   0   0   0   0   1\n",
       "apple   1   1   0   1   1   1   0   0   0   0   0\n",
       "lion    0   0   0   0   0   0   0   1   0   0   0\n",
       "nyc     1   1   1   1   1   0   0   0   0   1   0\n",
       "love    0   0   1   0   0   0   0   0   1   1   0"
      ]
     },
     "execution_count": 14,
     "metadata": {},
     "output_type": "execute_result"
    }
   ],
   "source": [
    "tdm = bow_svd['tdm']\n",
    "tdm"
   ]
  },
  {
   "cell_type": "markdown",
   "id": "8c56fc4d-7644-460c-8216-89d63b71f0f1",
   "metadata": {
    "id": "8c56fc4d-7644-460c-8216-89d63b71f0f1"
   },
   "source": [
    "<a name='4.3.1'></a><a id='4.3.1'></a>\n",
    "## 4.3.1 U-left singular vectors\n",
    "<a href=\"#top\">[back to top]</a>\n",
    "\n",
    "Problem: What does the U (left singular) matrix represent?\n",
    "\n",
    "Idea: The U matrix contains the term-topic matrix representing \"the company a word keeps.\" This is called the \"left singular vector\" because it contains row vectors that are multiplied by a matrix of columns vectors from the left. U is the cross-correlation between words and topics based on word co-occurrence in the same document. By default it is a square matrix. \n",
    "\n",
    "Importance: This is the most important matrix for semantic analysis in NLP. "
   ]
  },
  {
   "cell_type": "code",
   "execution_count": 15,
   "id": "7a047638-8e5c-4037-bbb1-c77ef25ef597",
   "metadata": {
    "colab": {
     "base_uri": "https://localhost:8080/",
     "height": 237
    },
    "id": "7a047638-8e5c-4037-bbb1-c77ef25ef597",
    "outputId": "922e9385-cb47-4a02-d6f3-511b22ee1534"
   },
   "outputs": [
    {
     "data": {
      "text/html": [
       "<div>\n",
       "<style scoped>\n",
       "    .dataframe tbody tr th:only-of-type {\n",
       "        vertical-align: middle;\n",
       "    }\n",
       "\n",
       "    .dataframe tbody tr th {\n",
       "        vertical-align: top;\n",
       "    }\n",
       "\n",
       "    .dataframe thead th {\n",
       "        text-align: right;\n",
       "    }\n",
       "</style>\n",
       "<table border=\"1\" class=\"dataframe\">\n",
       "  <thead>\n",
       "    <tr style=\"text-align: right;\">\n",
       "      <th></th>\n",
       "      <th>0</th>\n",
       "      <th>1</th>\n",
       "      <th>2</th>\n",
       "      <th>3</th>\n",
       "      <th>4</th>\n",
       "      <th>5</th>\n",
       "    </tr>\n",
       "  </thead>\n",
       "  <tbody>\n",
       "    <tr>\n",
       "      <th>cat</th>\n",
       "      <td>-0.04</td>\n",
       "      <td>0.83</td>\n",
       "      <td>-0.38</td>\n",
       "      <td>-0.00</td>\n",
       "      <td>0.11</td>\n",
       "      <td>-0.38</td>\n",
       "    </tr>\n",
       "    <tr>\n",
       "      <th>dog</th>\n",
       "      <td>-0.00</td>\n",
       "      <td>0.21</td>\n",
       "      <td>-0.18</td>\n",
       "      <td>-0.71</td>\n",
       "      <td>-0.39</td>\n",
       "      <td>0.52</td>\n",
       "    </tr>\n",
       "    <tr>\n",
       "      <th>apple</th>\n",
       "      <td>-0.62</td>\n",
       "      <td>-0.21</td>\n",
       "      <td>-0.51</td>\n",
       "      <td>0.00</td>\n",
       "      <td>0.49</td>\n",
       "      <td>0.27</td>\n",
       "    </tr>\n",
       "    <tr>\n",
       "      <th>lion</th>\n",
       "      <td>-0.00</td>\n",
       "      <td>0.21</td>\n",
       "      <td>-0.18</td>\n",
       "      <td>0.71</td>\n",
       "      <td>-0.39</td>\n",
       "      <td>0.52</td>\n",
       "    </tr>\n",
       "    <tr>\n",
       "      <th>nyc</th>\n",
       "      <td>-0.75</td>\n",
       "      <td>0.00</td>\n",
       "      <td>0.24</td>\n",
       "      <td>-0.00</td>\n",
       "      <td>-0.52</td>\n",
       "      <td>-0.32</td>\n",
       "    </tr>\n",
       "    <tr>\n",
       "      <th>love</th>\n",
       "      <td>-0.22</td>\n",
       "      <td>0.42</td>\n",
       "      <td>0.69</td>\n",
       "      <td>0.00</td>\n",
       "      <td>0.41</td>\n",
       "      <td>0.37</td>\n",
       "    </tr>\n",
       "  </tbody>\n",
       "</table>\n",
       "</div>"
      ],
      "text/plain": [
       "          0     1     2     3     4     5\n",
       "cat   -0.04  0.83 -0.38 -0.00  0.11 -0.38\n",
       "dog   -0.00  0.21 -0.18 -0.71 -0.39  0.52\n",
       "apple -0.62 -0.21 -0.51  0.00  0.49  0.27\n",
       "lion  -0.00  0.21 -0.18  0.71 -0.39  0.52\n",
       "nyc   -0.75  0.00  0.24 -0.00 -0.52 -0.32\n",
       "love  -0.22  0.42  0.69  0.00  0.41  0.37"
      ]
     },
     "execution_count": 15,
     "metadata": {},
     "output_type": "execute_result"
    }
   ],
   "source": [
    "# Return Numpy arrays\n",
    "U, s, Vt = np.linalg.svd(tdm)\n",
    "pd.DataFrame(U, index=tdm.index).round(2)"
   ]
  },
  {
   "cell_type": "markdown",
   "id": "d3dc3ca3-8dc5-4755-8ad7-a91a19c4a0e9",
   "metadata": {
    "id": "d3dc3ca3-8dc5-4755-8ad7-a91a19c4a0e9"
   },
   "source": [
    "The U-matrix contains all the topic vectors for each word in the corpus as columns. This means it can be used as a transformation to convert a word-document vector (a TF-IDF vector or a BOW vector) into a topic-document vector. "
   ]
  },
  {
   "cell_type": "markdown",
   "id": "5d06e3cf-012a-41f6-97c8-3819ba455c97",
   "metadata": {
    "id": "5d06e3cf-012a-41f6-97c8-3819ba455c97"
   },
   "source": [
    "<a name='4.3.2'></a><a id='4.3.2'></a>\n",
    "## 4.3.2 S-singular values\n",
    "<a href=\"#top\">[back to top]</a>\n",
    "\n",
    "Problem: What does the S (singular) matrix represent?\n",
    "\n",
    "Idea: The Sigma or S matrix contains the topic \"singular values\" in a square diagonal matrix. \n",
    "\n",
    "Importance: The S matrix tell you how much information is captured by each dimension in the new semantic (topic) vector space.\n",
    "\n",
    "numpy saves space by returning the singular values as an array."
   ]
  },
  {
   "cell_type": "code",
   "execution_count": 16,
   "id": "5f28bf94-1817-4d8c-9fc0-e5b91d20b295",
   "metadata": {
    "colab": {
     "base_uri": "https://localhost:8080/"
    },
    "id": "5f28bf94-1817-4d8c-9fc0-e5b91d20b295",
    "outputId": "5db500d1-f1a1-490a-cce7-30fa5cc24ac4"
   },
   "outputs": [
    {
     "data": {
      "text/plain": [
       "array([3.1, 2.2, 1.8, 1. , 0.8, 0.5])"
      ]
     },
     "execution_count": 16,
     "metadata": {},
     "output_type": "execute_result"
    }
   ],
   "source": [
    "s.round(1)"
   ]
  },
  {
   "cell_type": "markdown",
   "id": "61d308ab-1791-4aad-a96c-8cec7d1a5f4f",
   "metadata": {},
   "source": [
    "Convert it to a diagonal matrix with the numpy.diag function"
   ]
  },
  {
   "cell_type": "code",
   "execution_count": 17,
   "id": "9905f105-06c8-412f-ac9a-22c1bfa46fa4",
   "metadata": {
    "colab": {
     "base_uri": "https://localhost:8080/"
    },
    "id": "9905f105-06c8-412f-ac9a-22c1bfa46fa4",
    "outputId": "812ea0d6-004c-40e7-8eea-52a8d9966a14"
   },
   "outputs": [
    {
     "data": {
      "text/html": [
       "<div>\n",
       "<style scoped>\n",
       "    .dataframe tbody tr th:only-of-type {\n",
       "        vertical-align: middle;\n",
       "    }\n",
       "\n",
       "    .dataframe tbody tr th {\n",
       "        vertical-align: top;\n",
       "    }\n",
       "\n",
       "    .dataframe thead th {\n",
       "        text-align: right;\n",
       "    }\n",
       "</style>\n",
       "<table border=\"1\" class=\"dataframe\">\n",
       "  <thead>\n",
       "    <tr style=\"text-align: right;\">\n",
       "      <th></th>\n",
       "      <th>0</th>\n",
       "      <th>1</th>\n",
       "      <th>2</th>\n",
       "      <th>3</th>\n",
       "      <th>4</th>\n",
       "      <th>5</th>\n",
       "      <th>6</th>\n",
       "      <th>7</th>\n",
       "      <th>8</th>\n",
       "      <th>9</th>\n",
       "      <th>10</th>\n",
       "    </tr>\n",
       "  </thead>\n",
       "  <tbody>\n",
       "    <tr>\n",
       "      <th>0</th>\n",
       "      <td>3.1</td>\n",
       "      <td>0.0</td>\n",
       "      <td>0.0</td>\n",
       "      <td>0.0</td>\n",
       "      <td>0.0</td>\n",
       "      <td>0.0</td>\n",
       "      <td>0.0</td>\n",
       "      <td>0.0</td>\n",
       "      <td>0.0</td>\n",
       "      <td>0.0</td>\n",
       "      <td>0.0</td>\n",
       "    </tr>\n",
       "    <tr>\n",
       "      <th>1</th>\n",
       "      <td>0.0</td>\n",
       "      <td>2.2</td>\n",
       "      <td>0.0</td>\n",
       "      <td>0.0</td>\n",
       "      <td>0.0</td>\n",
       "      <td>0.0</td>\n",
       "      <td>0.0</td>\n",
       "      <td>0.0</td>\n",
       "      <td>0.0</td>\n",
       "      <td>0.0</td>\n",
       "      <td>0.0</td>\n",
       "    </tr>\n",
       "    <tr>\n",
       "      <th>2</th>\n",
       "      <td>0.0</td>\n",
       "      <td>0.0</td>\n",
       "      <td>1.8</td>\n",
       "      <td>0.0</td>\n",
       "      <td>0.0</td>\n",
       "      <td>0.0</td>\n",
       "      <td>0.0</td>\n",
       "      <td>0.0</td>\n",
       "      <td>0.0</td>\n",
       "      <td>0.0</td>\n",
       "      <td>0.0</td>\n",
       "    </tr>\n",
       "    <tr>\n",
       "      <th>3</th>\n",
       "      <td>0.0</td>\n",
       "      <td>0.0</td>\n",
       "      <td>0.0</td>\n",
       "      <td>1.0</td>\n",
       "      <td>0.0</td>\n",
       "      <td>0.0</td>\n",
       "      <td>0.0</td>\n",
       "      <td>0.0</td>\n",
       "      <td>0.0</td>\n",
       "      <td>0.0</td>\n",
       "      <td>0.0</td>\n",
       "    </tr>\n",
       "    <tr>\n",
       "      <th>4</th>\n",
       "      <td>0.0</td>\n",
       "      <td>0.0</td>\n",
       "      <td>0.0</td>\n",
       "      <td>0.0</td>\n",
       "      <td>0.8</td>\n",
       "      <td>0.0</td>\n",
       "      <td>0.0</td>\n",
       "      <td>0.0</td>\n",
       "      <td>0.0</td>\n",
       "      <td>0.0</td>\n",
       "      <td>0.0</td>\n",
       "    </tr>\n",
       "    <tr>\n",
       "      <th>5</th>\n",
       "      <td>0.0</td>\n",
       "      <td>0.0</td>\n",
       "      <td>0.0</td>\n",
       "      <td>0.0</td>\n",
       "      <td>0.0</td>\n",
       "      <td>0.5</td>\n",
       "      <td>0.0</td>\n",
       "      <td>0.0</td>\n",
       "      <td>0.0</td>\n",
       "      <td>0.0</td>\n",
       "      <td>0.0</td>\n",
       "    </tr>\n",
       "  </tbody>\n",
       "</table>\n",
       "</div>"
      ],
      "text/plain": [
       "    0    1    2    3    4    5    6    7    8    9    10\n",
       "0  3.1  0.0  0.0  0.0  0.0  0.0  0.0  0.0  0.0  0.0  0.0\n",
       "1  0.0  2.2  0.0  0.0  0.0  0.0  0.0  0.0  0.0  0.0  0.0\n",
       "2  0.0  0.0  1.8  0.0  0.0  0.0  0.0  0.0  0.0  0.0  0.0\n",
       "3  0.0  0.0  0.0  1.0  0.0  0.0  0.0  0.0  0.0  0.0  0.0\n",
       "4  0.0  0.0  0.0  0.0  0.8  0.0  0.0  0.0  0.0  0.0  0.0\n",
       "5  0.0  0.0  0.0  0.0  0.0  0.5  0.0  0.0  0.0  0.0  0.0"
      ]
     },
     "execution_count": 17,
     "metadata": {},
     "output_type": "execute_result"
    }
   ],
   "source": [
    "S = np.zeros((len(U), len(Vt)))\n",
    "np.fill_diagonal(S, s)\n",
    "pd.DataFrame(S).round(1)"
   ]
  },
  {
   "cell_type": "markdown",
   "id": "d179ced6-4ec3-4de6-8b20-3c357237f475",
   "metadata": {
    "id": "d179ced6-4ec3-4de6-8b20-3c357237f475"
   },
   "source": [
    "<a name='4.3.3'></a><a id='4.3.3'></a>\n",
    "## 4.3.3 V<sup>T</sup>-right singular vectors\n",
    "<a href=\"#top\">[back to top]</a>\n",
    "\n",
    "Problem: What does the V (right singular) matrix represent?\n",
    "\n",
    "Idea: The V<sup>T</sup> matrix contains the \"right singular vectors\" as the columns of the document-document matrix. \n",
    "\n",
    "Importance: This gives you the shared meaning between documents, because it measures how often documents use the same topics in the new semantic model of the documents. \n"
   ]
  },
  {
   "cell_type": "code",
   "execution_count": 18,
   "id": "23e9cac6-724c-453b-be55-e4b4caf1010b",
   "metadata": {
    "colab": {
     "base_uri": "https://localhost:8080/",
     "height": 394
    },
    "id": "23e9cac6-724c-453b-be55-e4b4caf1010b",
    "outputId": "b47daf70-d258-4258-a03e-dc4d55a4a21e"
   },
   "outputs": [
    {
     "data": {
      "text/html": [
       "<div>\n",
       "<style scoped>\n",
       "    .dataframe tbody tr th:only-of-type {\n",
       "        vertical-align: middle;\n",
       "    }\n",
       "\n",
       "    .dataframe tbody tr th {\n",
       "        vertical-align: top;\n",
       "    }\n",
       "\n",
       "    .dataframe thead th {\n",
       "        text-align: right;\n",
       "    }\n",
       "</style>\n",
       "<table border=\"1\" class=\"dataframe\">\n",
       "  <thead>\n",
       "    <tr style=\"text-align: right;\">\n",
       "      <th></th>\n",
       "      <th>0</th>\n",
       "      <th>1</th>\n",
       "      <th>2</th>\n",
       "      <th>3</th>\n",
       "      <th>4</th>\n",
       "      <th>5</th>\n",
       "      <th>6</th>\n",
       "      <th>7</th>\n",
       "      <th>8</th>\n",
       "      <th>9</th>\n",
       "      <th>10</th>\n",
       "    </tr>\n",
       "  </thead>\n",
       "  <tbody>\n",
       "    <tr>\n",
       "      <th>0</th>\n",
       "      <td>-0.44</td>\n",
       "      <td>-0.44</td>\n",
       "      <td>-0.31</td>\n",
       "      <td>-0.44</td>\n",
       "      <td>-0.44</td>\n",
       "      <td>-0.20</td>\n",
       "      <td>-0.01</td>\n",
       "      <td>-0.01</td>\n",
       "      <td>-0.08</td>\n",
       "      <td>-0.31</td>\n",
       "      <td>-0.01</td>\n",
       "    </tr>\n",
       "    <tr>\n",
       "      <th>1</th>\n",
       "      <td>-0.09</td>\n",
       "      <td>-0.09</td>\n",
       "      <td>0.19</td>\n",
       "      <td>-0.09</td>\n",
       "      <td>-0.09</td>\n",
       "      <td>-0.09</td>\n",
       "      <td>0.37</td>\n",
       "      <td>0.47</td>\n",
       "      <td>0.56</td>\n",
       "      <td>0.19</td>\n",
       "      <td>0.47</td>\n",
       "    </tr>\n",
       "    <tr>\n",
       "      <th>2</th>\n",
       "      <td>-0.16</td>\n",
       "      <td>-0.16</td>\n",
       "      <td>0.52</td>\n",
       "      <td>-0.16</td>\n",
       "      <td>-0.16</td>\n",
       "      <td>-0.29</td>\n",
       "      <td>-0.22</td>\n",
       "      <td>-0.32</td>\n",
       "      <td>0.17</td>\n",
       "      <td>0.52</td>\n",
       "      <td>-0.32</td>\n",
       "    </tr>\n",
       "    <tr>\n",
       "      <th>3</th>\n",
       "      <td>0.00</td>\n",
       "      <td>-0.00</td>\n",
       "      <td>-0.00</td>\n",
       "      <td>0.00</td>\n",
       "      <td>0.00</td>\n",
       "      <td>0.00</td>\n",
       "      <td>-0.00</td>\n",
       "      <td>0.71</td>\n",
       "      <td>-0.00</td>\n",
       "      <td>-0.00</td>\n",
       "      <td>-0.71</td>\n",
       "    </tr>\n",
       "    <tr>\n",
       "      <th>4</th>\n",
       "      <td>-0.04</td>\n",
       "      <td>-0.04</td>\n",
       "      <td>-0.14</td>\n",
       "      <td>-0.04</td>\n",
       "      <td>-0.04</td>\n",
       "      <td>0.58</td>\n",
       "      <td>0.13</td>\n",
       "      <td>-0.33</td>\n",
       "      <td>0.62</td>\n",
       "      <td>-0.14</td>\n",
       "      <td>-0.33</td>\n",
       "    </tr>\n",
       "    <tr>\n",
       "      <th>5</th>\n",
       "      <td>-0.09</td>\n",
       "      <td>-0.09</td>\n",
       "      <td>0.10</td>\n",
       "      <td>-0.09</td>\n",
       "      <td>-0.09</td>\n",
       "      <td>0.51</td>\n",
       "      <td>-0.73</td>\n",
       "      <td>0.27</td>\n",
       "      <td>-0.01</td>\n",
       "      <td>0.10</td>\n",
       "      <td>0.27</td>\n",
       "    </tr>\n",
       "    <tr>\n",
       "      <th>6</th>\n",
       "      <td>-0.57</td>\n",
       "      <td>0.21</td>\n",
       "      <td>0.11</td>\n",
       "      <td>0.33</td>\n",
       "      <td>-0.31</td>\n",
       "      <td>0.34</td>\n",
       "      <td>0.34</td>\n",
       "      <td>0.00</td>\n",
       "      <td>-0.34</td>\n",
       "      <td>0.23</td>\n",
       "      <td>0.00</td>\n",
       "    </tr>\n",
       "    <tr>\n",
       "      <th>7</th>\n",
       "      <td>-0.32</td>\n",
       "      <td>0.47</td>\n",
       "      <td>0.25</td>\n",
       "      <td>-0.63</td>\n",
       "      <td>0.41</td>\n",
       "      <td>0.07</td>\n",
       "      <td>0.07</td>\n",
       "      <td>0.00</td>\n",
       "      <td>-0.07</td>\n",
       "      <td>-0.18</td>\n",
       "      <td>0.00</td>\n",
       "    </tr>\n",
       "    <tr>\n",
       "      <th>8</th>\n",
       "      <td>-0.50</td>\n",
       "      <td>0.29</td>\n",
       "      <td>-0.20</td>\n",
       "      <td>0.41</td>\n",
       "      <td>0.16</td>\n",
       "      <td>-0.37</td>\n",
       "      <td>-0.37</td>\n",
       "      <td>-0.00</td>\n",
       "      <td>0.37</td>\n",
       "      <td>-0.17</td>\n",
       "      <td>0.00</td>\n",
       "    </tr>\n",
       "    <tr>\n",
       "      <th>9</th>\n",
       "      <td>-0.15</td>\n",
       "      <td>-0.15</td>\n",
       "      <td>-0.59</td>\n",
       "      <td>-0.15</td>\n",
       "      <td>0.42</td>\n",
       "      <td>0.04</td>\n",
       "      <td>0.04</td>\n",
       "      <td>-0.00</td>\n",
       "      <td>-0.04</td>\n",
       "      <td>0.63</td>\n",
       "      <td>-0.00</td>\n",
       "    </tr>\n",
       "    <tr>\n",
       "      <th>10</th>\n",
       "      <td>-0.26</td>\n",
       "      <td>-0.62</td>\n",
       "      <td>0.33</td>\n",
       "      <td>0.24</td>\n",
       "      <td>0.54</td>\n",
       "      <td>0.09</td>\n",
       "      <td>0.09</td>\n",
       "      <td>0.00</td>\n",
       "      <td>-0.09</td>\n",
       "      <td>-0.23</td>\n",
       "      <td>-0.00</td>\n",
       "    </tr>\n",
       "  </tbody>\n",
       "</table>\n",
       "</div>"
      ],
      "text/plain": [
       "      0     1     2     3     4     5     6     7     8     9     10\n",
       "0  -0.44 -0.44 -0.31 -0.44 -0.44 -0.20 -0.01 -0.01 -0.08 -0.31 -0.01\n",
       "1  -0.09 -0.09  0.19 -0.09 -0.09 -0.09  0.37  0.47  0.56  0.19  0.47\n",
       "2  -0.16 -0.16  0.52 -0.16 -0.16 -0.29 -0.22 -0.32  0.17  0.52 -0.32\n",
       "3   0.00 -0.00 -0.00  0.00  0.00  0.00 -0.00  0.71 -0.00 -0.00 -0.71\n",
       "4  -0.04 -0.04 -0.14 -0.04 -0.04  0.58  0.13 -0.33  0.62 -0.14 -0.33\n",
       "5  -0.09 -0.09  0.10 -0.09 -0.09  0.51 -0.73  0.27 -0.01  0.10  0.27\n",
       "6  -0.57  0.21  0.11  0.33 -0.31  0.34  0.34  0.00 -0.34  0.23  0.00\n",
       "7  -0.32  0.47  0.25 -0.63  0.41  0.07  0.07  0.00 -0.07 -0.18  0.00\n",
       "8  -0.50  0.29 -0.20  0.41  0.16 -0.37 -0.37 -0.00  0.37 -0.17  0.00\n",
       "9  -0.15 -0.15 -0.59 -0.15  0.42  0.04  0.04 -0.00 -0.04  0.63 -0.00\n",
       "10 -0.26 -0.62  0.33  0.24  0.54  0.09  0.09  0.00 -0.09 -0.23 -0.00"
      ]
     },
     "execution_count": 18,
     "metadata": {},
     "output_type": "execute_result"
    }
   ],
   "source": [
    "pd.DataFrame(Vt).round(2)"
   ]
  },
  {
   "cell_type": "markdown",
   "id": "b5500eb3-c33d-4433-804b-45f0d31cf9db",
   "metadata": {
    "id": "b5500eb3-c33d-4433-804b-45f0d31cf9db"
   },
   "source": [
    "<a name='4.3.4'></a><a id='4.3.4'></a>\n",
    "## 4.3.4 SVD matrix orientation\n",
    "<a href=\"#top\">[back to top]</a>\n",
    "\n",
    "Problem: In traditional linear algebra operations, vectors are usually thought of as column vectors. If we do any SVD linear algebra directly on vectors, that matrix needs to be term-document format. But in NLP training sets, vectors are row vectors. \n",
    "\n",
    "Idea: If we are training a ML model, we have to ensure our term document or topic-document matrices are transformed to scikit-learn compatible orientation."
   ]
  },
  {
   "cell_type": "markdown",
   "id": "bf8b06aa-a5d1-467d-9575-9990b1ec13de",
   "metadata": {
    "id": "bf8b06aa-a5d1-467d-9575-9990b1ec13de"
   },
   "source": [
    "<a name='4.3.5'></a><a id='4.3.5'></a>\n",
    "## 4.3.5 Truncating the topics\n",
    "<a href=\"#top\">[back to top]</a>\n",
    "\n",
    "Problem: We have created a topic model, a way to transform word frequency vectors into topic weight vectors. But we still have not reduced the number of dimensions. Because we have just as many topics as words, the vector space model has just as many dimensions as the original BOW vectors.\n",
    "\n",
    "Idea: Truncate the topics by lopping off columns on the RHS of U. We can ignore the S matrix, because the rows and columns if the U matrix are already arranged so that the most important topics (with the largest singular values) are on the left. Also, we can ignore S because most of the word-document vectors we want to use with this model, like TF-IDF vectors, have already been normalized."
   ]
  },
  {
   "cell_type": "code",
   "execution_count": 19,
   "id": "69073f1b-0e3e-4166-905c-00c22bcf3e8a",
   "metadata": {
    "colab": {
     "base_uri": "https://localhost:8080/"
    },
    "id": "69073f1b-0e3e-4166-905c-00c22bcf3e8a",
    "outputId": "b66f05ce-b9e2-48c7-cf31-160bb671ec80"
   },
   "outputs": [
    {
     "data": {
      "text/plain": [
       "array([0.06, 0.12, 0.17, 0.28, 0.39, 0.55])"
      ]
     },
     "execution_count": 19,
     "metadata": {},
     "output_type": "execute_result"
    }
   ],
   "source": [
    "tdm = bow_svd['tdm']\n",
    "U, s, Vt = np.linalg.svd(tdm)\n",
    "S = np.zeros((len(U), len(Vt)))\n",
    "np.fill_diagonal(S, s)\n",
    "\n",
    "err = []\n",
    "for numdim in range(len(s), 0, -1):\n",
    "    S[numdim - 1, numdim - 1] = 0\n",
    "    reconstructed_tdm = U.dot(S).dot(Vt)\n",
    "    err.append(\n",
    "        np.sqrt(\n",
    "            ((reconstructed_tdm - tdm).values.flatten() ** 2)\n",
    "                .sum() / np.product(tdm.shape)\n",
    "        )\n",
    "    )\n",
    "\n",
    "reconstruction_accuracy = np.array(err).round(2)\n",
    "reconstruction_accuracy"
   ]
  },
  {
   "cell_type": "code",
   "execution_count": null,
   "id": "e29e2788-b9e6-447e-8b84-ecc62e80ebdc",
   "metadata": {
    "id": "e29e2788-b9e6-447e-8b84-ecc62e80ebdc"
   },
   "outputs": [],
   "source": []
  }
 ],
 "metadata": {
  "colab": {
   "provenance": []
  },
  "kernelspec": {
   "display_name": "Python 3 (ipykernel)",
   "language": "python",
   "name": "python3"
  },
  "language_info": {
   "codemirror_mode": {
    "name": "ipython",
    "version": 3
   },
   "file_extension": ".py",
   "mimetype": "text/x-python",
   "name": "python",
   "nbconvert_exporter": "python",
   "pygments_lexer": "ipython3",
   "version": "3.8.12"
  }
 },
 "nbformat": 4,
 "nbformat_minor": 5
}
