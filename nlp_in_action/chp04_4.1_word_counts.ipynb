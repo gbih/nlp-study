{
 "cells": [
  {
   "cell_type": "markdown",
   "id": "3d850a95-29a1-4948-9c7d-02b209f3a02b",
   "metadata": {
    "id": "3d850a95-29a1-4948-9c7d-02b209f3a02b"
   },
   "source": [
    "<a id='top'></a><a name='top'></a>\n",
    "# Chapter 4: Finding meaning in word counts (semantic analysis)\n",
    "\n",
    "## 4.1 From word counts to topic scores"
   ]
  },
  {
   "cell_type": "markdown",
   "id": "d4fb858e-93ff-41c5-8e26-37c70bb0007c",
   "metadata": {
    "id": "d4fb858e-93ff-41c5-8e26-37c70bb0007c"
   },
   "source": [
    "* [Introduction](#introduction)\n",
    "* [4.0 Imports and Setup](#4.0)\n",
    "* [4.1 From word counts to topic scores](#4.1)\n",
    "     - [4.1.1 TF-IDF vectors and lemmatization](#4.1.1)\n",
    "     - [4.1.2 Topic vectors](#4.1.2)\n",
    "     - [4.1.3 Thought experiment](#4.1.3)\n",
    "     - [4.1.4 An algorithm for scoring topics](#4.1.4)\n",
    "     - [4.1.5 An LDA classifier](#4.1.5)"
   ]
  },
  {
   "cell_type": "markdown",
   "id": "7ee9bf07-3035-4166-bbb7-d7ba2d2a67cf",
   "metadata": {
    "id": "7ee9bf07-3035-4166-bbb7-d7ba2d2a67cf"
   },
   "source": [
    "---\n",
    "<a name='introduction'></a><a id='introduction'></a>\n",
    "# Introduction\n",
    "<a href=\"#top\">[back to top]</a>\n",
    "\n",
    "### Datasets\n",
    "\n",
    "* sms-spam.csv: [script](#sms-spam.csv), [src](https://github.com/totalgood/nlpia/raw/master/src/nlpia/data/sms-spam.csv)\n",
    "* pointcloud.csv.gz: [script](#pointcloud.csv.gz), [src](https://github.com/totalgood/nlpia/raw/master/src/nlpia/data/pointcloud.csv.gz)\n",
    "\n",
    "### Explore\n",
    "\n",
    "* Analyzing semantics (meaning) to create topic vectors\n",
    "* Semantic search using the similarity between topic vectors\n",
    "* Scalable semantic analysis and semantic search for large copora\n",
    "* Using semantic components (topics) as features in your NLP pipeline\n",
    "* Navigating high-dimensional vector spaces\n",
    "\n",
    "\n",
    "### Key points\n",
    "\n",
    "* You can use SVD for semantic analysis to decompose and transform TF-IDF\n",
    "* Use LDiA when you need to compute explainable topic vectors\n",
    "* No matter how you create your topic vectors, they can be used for semantic search to find documents based on their meaning\n",
    "* Topic vectors can be used to predict whether a social post is spam or is likely to be \"liked\"\n",
    "* We can sidestep the curse of dimensionality to approximate nearest neighbors in a semantic vector space\n",
    "\n",
    "\n",
    "Latent semantic analysis (LSA) is an algorithm for revealing the meaning of word combinations and computing vectors to represent this meaning.  When you use this tool, not only can you represent the meaning of words as vectors, but you can use them to represent the meaning of entire documents. \n",
    "\n",
    "Here we explore these semantic or topic vectors. We use weighted frequency scores from TF-IDF vectors to compute the topic “scores” that make up the dimensions of your topic vectors. We use the correlation of normalized term frequencies with each other to group words together in topics to define the dimensions of your new topic vectors.\n",
    "\n",
    "These topic vectors will help you do a lot of interesting things. They make it possible to search for documents based on their meaning — semantic search. Most of the time, semantic search returns search results that are much better than keyword search (TF- IDF search). Sometimes semantic search returns documents that are exactly what the user is searching for, even when they can’t think of the right words to put in the query.\n",
    "\n",
    "And you can use these semantic vectors to identify the words and n-grams that best represent the subject (topic) of a statement, document, or corpus (collection of documents). And with this vector of words and their relative importance, you can provide someone with the most meaningful words for a document — a set of keywords that summarizes its meaning."
   ]
  },
  {
   "cell_type": "markdown",
   "id": "e28d418f-975f-497b-9a83-169fb911a0ad",
   "metadata": {
    "id": "e28d418f-975f-497b-9a83-169fb911a0ad"
   },
   "source": [
    "---\n",
    "<a name='4.0'></a><a id='4.0'></a>\n",
    "# 4.0 Imports and Setup\n",
    "<a href=\"#top\">[back to top]</a>"
   ]
  },
  {
   "cell_type": "code",
   "execution_count": 1,
   "id": "b6227bd6-d034-4ad3-86d6-a07c5e78716b",
   "metadata": {
    "id": "b6227bd6-d034-4ad3-86d6-a07c5e78716b"
   },
   "outputs": [],
   "source": [
    "import os\n",
    "if not os.path.exists('setup'):\n",
    "    os.mkdir('setup')"
   ]
  },
  {
   "cell_type": "code",
   "execution_count": 2,
   "id": "91127bef-d081-46d6-99cb-7203814d9a3b",
   "metadata": {
    "id": "91127bef-d081-46d6-99cb-7203814d9a3b",
    "tags": []
   },
   "outputs": [],
   "source": [
    "req_file = \"setup/requirements_04.txt\""
   ]
  },
  {
   "cell_type": "code",
   "execution_count": 3,
   "id": "1d86fec3-3bb5-4df9-8514-aac0e766bf30",
   "metadata": {
    "colab": {
     "base_uri": "https://localhost:8080/"
    },
    "id": "1d86fec3-3bb5-4df9-8514-aac0e766bf30",
    "outputId": "794dd9db-57df-4e6d-d9a8-92bb0c3ba0bd"
   },
   "outputs": [
    {
     "name": "stdout",
     "output_type": "stream",
     "text": [
      "Overwriting setup/requirements_04.txt\n"
     ]
    }
   ],
   "source": [
    "%%writefile {req_file}\n",
    "isort\n",
    "pugnlp\n",
    "plyfile\n",
    "scikit-learn-intelex\n",
    "scrapy\n",
    "watermark"
   ]
  },
  {
   "cell_type": "code",
   "execution_count": 4,
   "id": "4a0d752e-c897-4120-ae57-375257381a29",
   "metadata": {
    "colab": {
     "base_uri": "https://localhost:8080/"
    },
    "id": "4a0d752e-c897-4120-ae57-375257381a29",
    "outputId": "67a8532a-94d2-4914-a30b-3df38062cd3d"
   },
   "outputs": [
    {
     "name": "stdout",
     "output_type": "stream",
     "text": [
      "Running locally.\n"
     ]
    }
   ],
   "source": [
    "import sys\n",
    "IS_COLAB = 'google.colab' in sys.modules\n",
    "\n",
    "if IS_COLAB:\n",
    "    print(\"Installing packages\")\n",
    "    !pip install --upgrade --quiet -r {req_file}\n",
    "else:\n",
    "    print(\"Running locally.\")"
   ]
  },
  {
   "cell_type": "code",
   "execution_count": 5,
   "id": "1df257ee-9a0d-4f10-aec9-c144f239ab60",
   "metadata": {},
   "outputs": [
    {
     "name": "stderr",
     "output_type": "stream",
     "text": [
      "Intel(R) Extension for Scikit-learn* enabled (https://github.com/intel/scikit-learn-intelex)\n"
     ]
    }
   ],
   "source": [
    "#if IS_COLAB:\n",
    "from sklearnex import patch_sklearn\n",
    "patch_sklearn()"
   ]
  },
  {
   "cell_type": "code",
   "execution_count": 6,
   "id": "827eff72-dcd3-4cc6-9d26-20d959dd8f0e",
   "metadata": {
    "colab": {
     "base_uri": "https://localhost:8080/"
    },
    "id": "827eff72-dcd3-4cc6-9d26-20d959dd8f0e",
    "outputId": "c620ae66-1756-4ae3-ab02-5f7f52766df5"
   },
   "outputs": [
    {
     "name": "stdout",
     "output_type": "stream",
     "text": [
      "Overwriting setup/chp04_4.1_imports.py\n"
     ]
    }
   ],
   "source": [
    "%%writefile setup/chp04_4.1_imports.py\n",
    "import locale\n",
    "import os\n",
    "import pprint\n",
    "import random\n",
    "import warnings\n",
    "\n",
    "import matplotlib.pyplot as plt\n",
    "import numpy as np\n",
    "import pandas as pd\n",
    "import seaborn as sns\n",
    "from matplotlib import pyplot as plt\n",
    "from mpl_toolkits.mplot3d import Axes3D  # noqa\n",
    "from nltk.tokenize import casual_tokenize\n",
    "from nltk.tokenize.casual import casual_tokenize\n",
    "from pugnlp.stats import Confusion\n",
    "from sklearn.decomposition import PCA\n",
    "from sklearn.feature_extraction.text import TfidfVectorizer\n",
    "from sklearn.preprocessing import MinMaxScaler\n",
    "from tqdm.auto import tqdm\n",
    "from watermark import watermark"
   ]
  },
  {
   "cell_type": "code",
   "execution_count": 7,
   "id": "00f41d56-423e-41b9-984f-00c5bb19ae10",
   "metadata": {
    "colab": {
     "base_uri": "https://localhost:8080/"
    },
    "id": "00f41d56-423e-41b9-984f-00c5bb19ae10",
    "outputId": "addf8b62-d717-4339-ec3a-a6d945ad42e5"
   },
   "outputs": [
    {
     "name": "stdout",
     "output_type": "stream",
     "text": [
      "import locale\n",
      "import os\n",
      "import pprint\n",
      "import random\n",
      "import warnings\n",
      "\n",
      "import matplotlib.pyplot as plt\n",
      "import numpy as np\n",
      "import pandas as pd\n",
      "import seaborn as sns\n",
      "from matplotlib import pyplot as plt\n",
      "from mpl_toolkits.mplot3d import Axes3D  # noqa\n",
      "from nltk.tokenize import casual_tokenize\n",
      "from nltk.tokenize.casual import casual_tokenize\n",
      "from pugnlp.stats import Confusion\n",
      "from sklearn.decomposition import PCA\n",
      "from sklearn.feature_extraction.text import TfidfVectorizer\n",
      "from sklearn.preprocessing import MinMaxScaler\n",
      "from tqdm.auto import tqdm\n",
      "from watermark import watermark\n"
     ]
    }
   ],
   "source": [
    "!isort setup/chp04_4.1_imports.py --sl\n",
    "!cat setup/chp04_4.1_imports.py"
   ]
  },
  {
   "cell_type": "code",
   "execution_count": 8,
   "id": "b8371a67-5f08-49e8-9c43-4d4e7613654c",
   "metadata": {
    "colab": {
     "base_uri": "https://localhost:8080/"
    },
    "id": "b8371a67-5f08-49e8-9c43-4d4e7613654c",
    "outputId": "f30a4048-681a-468d-830d-bbcaa40d65cf"
   },
   "outputs": [
    {
     "name": "stderr",
     "output_type": "stream",
     "text": [
      "/Users/gb/Desktop/python-3.8.12/env/lib/python3.8/site-packages/pugnlp/constants.py:136: FutureWarning: The pandas.datetime class is deprecated and will be removed from pandas in a future version. Import from datetime module instead.\n",
      "  [datetime.datetime, pd.datetime, pd.Timestamp])\n",
      "/Users/gb/Desktop/python-3.8.12/env/lib/python3.8/site-packages/pugnlp/constants.py:158: FutureWarning: The pandas.datetime class is deprecated and will be removed from pandas in a future version. Import from datetime module instead.\n",
      "  MIN_TIMESTAMP = pd.Timestamp(pd.datetime(1677, 9, 22, 0, 12, 44), tz='utc')\n",
      "/Users/gb/Desktop/python-3.8.12/env/lib/python3.8/site-packages/pugnlp/tutil.py:100: FutureWarning: The pandas.np module is deprecated and will be removed from pandas in a future version. Import numpy directly instead.\n",
      "  np = pd.np\n",
      "/Users/gb/Desktop/python-3.8.12/env/lib/python3.8/site-packages/pugnlp/util.py:80: FutureWarning: The pandas.np module is deprecated and will be removed from pandas in a future version. Import numpy directly instead.\n",
      "  np = pd.np\n",
      "/Users/gb/Desktop/python-3.8.12/env/lib/python3.8/site-packages/pugnlp/stats.py:25: FutureWarning: The pandas.np module is deprecated and will be removed from pandas in a future version. Import numpy directly instead.\n",
      "  np = pd.np\n"
     ]
    }
   ],
   "source": [
    "import locale\n",
    "import os\n",
    "import pprint\n",
    "import random\n",
    "import warnings\n",
    "\n",
    "import matplotlib.pyplot as plt\n",
    "import numpy as np\n",
    "import pandas as pd\n",
    "import seaborn as sns\n",
    "from matplotlib import pyplot as plt\n",
    "from mpl_toolkits.mplot3d import Axes3D  # noqa\n",
    "from nltk.tokenize import casual_tokenize\n",
    "from nltk.tokenize.casual import casual_tokenize\n",
    "from pugnlp.stats import Confusion\n",
    "from sklearn.decomposition import PCA\n",
    "from sklearn.feature_extraction.text import TfidfVectorizer\n",
    "from sklearn.preprocessing import MinMaxScaler\n",
    "from tqdm.auto import tqdm\n",
    "from watermark import watermark"
   ]
  },
  {
   "cell_type": "code",
   "execution_count": 9,
   "id": "8704e77a-43ea-48ea-9ba3-ce84b66c36f4",
   "metadata": {
    "colab": {
     "base_uri": "https://localhost:8080/"
    },
    "id": "8704e77a-43ea-48ea-9ba3-ce84b66c36f4",
    "outputId": "ff17e01c-0f45-4baf-9b77-dedbc17c968c"
   },
   "outputs": [
    {
     "name": "stdout",
     "output_type": "stream",
     "text": [
      "Python implementation: CPython\n",
      "Python version       : 3.8.12\n",
      "IPython version      : 7.34.0\n",
      "\n",
      "Compiler    : Clang 13.0.0 (clang-1300.0.29.3)\n",
      "OS          : Darwin\n",
      "Release     : 21.6.0\n",
      "Machine     : x86_64\n",
      "Processor   : i386\n",
      "CPU cores   : 4\n",
      "Architecture: 64bit\n",
      "\n",
      "sys       : 3.8.12 (default, Dec 13 2021, 20:17:08) \n",
      "[Clang 13.0.0 (clang-1300.0.29.3)]\n",
      "matplotlib: 3.6.2\n",
      "pandas    : 1.5.3\n",
      "seaborn   : 0.12.1\n",
      "numpy     : 1.23.5\n",
      "\n"
     ]
    }
   ],
   "source": [
    "def HR():\n",
    "    print(\"-\"*40)\n",
    "    \n",
    "def getpreferredencoding(do_setlocale = True):\n",
    "    return \"UTF-8\"\n",
    "\n",
    "locale.getpreferredencoding = getpreferredencoding\n",
    "warnings.filterwarnings('ignore')\n",
    "sns.set_style(\"darkgrid\")\n",
    "tqdm.pandas(desc=\"progress-bar\")\n",
    "pp = pprint.PrettyPrinter(indent=4)\n",
    "random.seed(42)\n",
    "np.random.seed(42)\n",
    "\n",
    "print(watermark(iversions=True,globals_=globals(),python=True,machine=True))"
   ]
  },
  {
   "cell_type": "markdown",
   "id": "c8049f18-9b80-4940-91c9-9dc93d26125f",
   "metadata": {
    "id": "c8049f18-9b80-4940-91c9-9dc93d26125f"
   },
   "source": [
    "---\n",
    "<a name='4.1'></a><a id='4.1'></a>\n",
    "# 4.1 From word counts to topic scores\n",
    "<a href=\"#top\">[back to top]</a>\n",
    "\n",
    "Problem: Just counting the frequency of words, and scoring the importance of words in a TF-IDF vector or matrix, is not enough. \n",
    "\n",
    "Idea: Score the meanings, topics, that the words are used for."
   ]
  },
  {
   "cell_type": "markdown",
   "id": "2c8bf1fb-fa42-499b-aacb-1c8e9fc19ee3",
   "metadata": {
    "id": "2c8bf1fb-fa42-499b-aacb-1c8e9fc19ee3"
   },
   "source": [
    "<a name='4.1.1'></a><a id='4.1.1'></a>\n",
    "## 4.1.1 TF-IDF vectors and lemmatization\n",
    "<a href=\"#top\">[back to top]</a>\n",
    "\n",
    "Problem: Lemmatization in TF-IDF can reduce vocabulary size. However, chunks of text that express similar meaning but use different words will not be \"close\" to each other in a lemmatized TF-IDF vector space model. Conversely, sometimes lemmatized TF-IDF vectors that are close to each other are not similar in meaning.\n",
    "\n",
    "Idea: Do semantic searching using the similarity between *topic vectors*."
   ]
  },
  {
   "cell_type": "markdown",
   "id": "015a360a-6eab-4ab6-9452-03c6920a92e6",
   "metadata": {
    "id": "015a360a-6eab-4ab6-9452-03c6920a92e6"
   },
   "source": [
    "<a name='4.1.2'></a><a id='4.1.2'></a>\n",
    "## 4.1.2 Topic vectors\n",
    "<a href=\"#top\">[back to top]</a>\n",
    "\n",
    "Problem: Obtain a better estimate of what words in a document semantically signify, and what certain combination of words semantically means in a particular document.\n",
    "\n",
    "Idea: Enable this vector reasoning via extracting additional information from word statistics. \n",
    "This is called \"word-topic\" vectors when used at the word-level. When used for document meaning vectors, they are called \"document-topic vectors\". The general term for both is \"topic vectors\". \n",
    "\n",
    "Importance: With \"topic vectors\", we can cluster and search using semantics. The distances between topic vectors now represents semantic meaning. "
   ]
  },
  {
   "cell_type": "markdown",
   "id": "5ff37fea-9be8-4dd4-9ff3-8dc2e0801445",
   "metadata": {
    "id": "5ff37fea-9be8-4dd4-9ff3-8dc2e0801445"
   },
   "source": [
    "<a name='4.1.3'></a><a id='4.1.3'></a>\n",
    "## 4.1.3 Thought experiment\n",
    "<a href=\"#top\">[back to top]</a>\n",
    "\n",
    "Problem: For learning purposes, manually determine topic vectors. \n",
    "\n",
    "Idea: Manually create a 3D topic vector. Convert the TF-IDF vectors of a document into topic vectors, weighing words in terms of how much they contribute semantically to topics. \n",
    "\n",
    "Importance: This is a subjective, labor-intensive approach to semantic analysis that relies on human intuition and common sense to break down documents into topics. Ultimately we want an automated, scalable approach that relies on algorithms instead."
   ]
  },
  {
   "cell_type": "code",
   "execution_count": 10,
   "id": "7892b538-b58c-4b15-ac37-f00e01e8fb9d",
   "metadata": {
    "colab": {
     "base_uri": "https://localhost:8080/"
    },
    "id": "7892b538-b58c-4b15-ac37-f00e01e8fb9d",
    "outputId": "7c9b7e2e-6850-46cf-8987-c85183ca6be0"
   },
   "outputs": [
    {
     "name": "stdout",
     "output_type": "stream",
     "text": [
      "0.45997895973291136\n",
      "0.32266347978646426\n",
      "0.3212036905689928\n"
     ]
    }
   ],
   "source": [
    "topic = {}\n",
    "\n",
    "tfidf = dict(list(zip('cat dog apple lion NYC love'.split(), np.random.rand(6))))\n",
    "\n",
    "topic['petness'] = (\n",
    "    .3 * tfidf['cat'] +\\\n",
    "    .3 * tfidf['dog'] +\\\n",
    "    0 * tfidf['apple'] +\\\n",
    "    0 * tfidf['lion'] +\\\n",
    "    .2 * tfidf['NYC'] +\\\n",
    "    .2 * tfidf['love']\n",
    ")\n",
    "\n",
    "topic['animalness']  = (\n",
    "    .1 * tfidf['cat']  +\\\n",
    "    .3 * tfidf['dog'] +\\\n",
    "    0 * tfidf['apple'] +\\\n",
    "    0 * tfidf['lion'] -\\\n",
    "    .2 * tfidf['NYC'] +\\\n",
    "    .2 * tfidf['love']\n",
    ")\n",
    "\n",
    "topic['cityness'] = (\n",
    "   .1 * tfidf['dog'] -\\\n",
    "   .1 * tfidf['apple'] +\\\n",
    "   .5 * tfidf['lion'] +\\\n",
    "   .1 * tfidf['NYC'] -\\\n",
    "   .1 * tfidf['love']\n",
    ")\n",
    "\n",
    "print(topic['petness'])\n",
    "print(topic['animalness'])\n",
    "print(topic['cityness'])"
   ]
  },
  {
   "cell_type": "markdown",
   "id": "06d118ae-d1b8-4496-9c88-cf074e4c6a2d",
   "metadata": {
    "id": "06d118ae-d1b8-4496-9c88-cf074e4c6a2d"
   },
   "source": [
    "Next step, decide mathematically which topics and words are connected, and what weights those connections should have. "
   ]
  },
  {
   "cell_type": "code",
   "execution_count": 11,
   "id": "5d224919-afb3-474d-8bb5-28eb8defca45",
   "metadata": {
    "colab": {
     "base_uri": "https://localhost:8080/"
    },
    "id": "5d224919-afb3-474d-8bb5-28eb8defca45",
    "outputId": "26856a6f-9212-4661-ec25-e14a9cad83c1"
   },
   "outputs": [
    {
     "name": "stdout",
     "output_type": "stream",
     "text": [
      "cat\t0.1703\n",
      "dog\t0.1381\n",
      "apple\t0.0320\n",
      "lion\t0.1292\n",
      "NYC\t0.1009\n",
      "love\t0.0918\n"
     ]
    }
   ],
   "source": [
    "word_vector = {}\n",
    "word_vector['cat'] = .3 * topic['petness'] + .1 * topic['animalness'] + 0 * topic['cityness']\n",
    "\n",
    "word_vector['dog'] = .3 * topic['petness'] + .1 * topic['animalness'] - .1 * topic['cityness']\n",
    "\n",
    "word_vector['apple'] = 0 * topic['petness'] - .1 * topic['animalness'] + .2 * topic['cityness']\n",
    "\n",
    "word_vector['lion'] = 0 * topic['petness'] + .5 * topic['animalness'] - .1 * topic['cityness']\n",
    "\n",
    "word_vector['NYC'] = -.2 * topic['petness'] + .1 * topic['animalness'] + .5 * topic['cityness']\n",
    "\n",
    "word_vector['love'] = .2 * topic['petness'] - .1 * topic['animalness'] + .1 * topic['cityness']\n",
    "\n",
    "for k, v in word_vector.items():\n",
    "    print(f\"{k}\\t{v:.4f}\")"
   ]
  },
  {
   "cell_type": "markdown",
   "id": "bd6c2e65-38e2-4985-b719-ee6abc3b43e9",
   "metadata": {
    "id": "bd6c2e65-38e2-4985-b719-ee6abc3b43e9"
   },
   "source": [
    "<a name='4.1.4'></a><a id='4.1.4'></a>\n",
    "## 4.1.4 An algorithm for scoring topics\n",
    "<a href=\"#top\">[back to top]</a>\n",
    "\n",
    "Problem: We need an algorithmic way to determine topic vectors, a transformation from TF-IDF vectors into topic vectors.\n",
    "\n",
    "Idea: Use the Latent semantic analysis (*LDA*) algorithm to analyze our TF-IDF matrix, gathering words into topics. This technique analyzes relationships between documents and the terms contained within by using SVD to scan unstructured data and find hidden relationships between terms and concepts.\n",
    "\n",
    "Importance: This concept is based on the notion by J.R. Firth, \"You shall know a word by the company it keeps\". LSA is mainly used for concept searching and automated document categorization. LSA is often referred to a dimension reduction technique, analogous to PCA."
   ]
  },
  {
   "cell_type": "markdown",
   "id": "40e70628-b58e-4bd5-b7af-737c92a67ecb",
   "metadata": {
    "id": "40e70628-b58e-4bd5-b7af-737c92a67ecb"
   },
   "source": [
    "<a name='4.1.5'></a><a id='4.1.5'></a>\n",
    "## 4.1.5 An LDA classifier\n",
    "<a href=\"#top\">[back to top]</a>\n",
    "\n",
    "Problem: We have use-cases requiring a fast and straightforward algorithm variant of LSA.\n",
    "\n",
    "Idea: The Linear discriminant analysis (`LDA`) may offer better performance for analyzing document similarity within-corpus\n",
    "\n",
    "Importance: LDA is one-dimensional and does not require SVA. \n",
    "\n",
    "---\n",
    "\n",
    "API Notes:\n",
    "\n",
    "* To train a LDA model, find the vector (line) between the two centroids for your binary class. \n",
    "* LDA is a supervised algorithm, requiring labels for messages. \n",
    "* To do inference with this model, we just need to find out if a new TF-IDF vector is close to the in-class (eg spam) centroid than it is to the out-of-class (non-spam) centroid."
   ]
  },
  {
   "cell_type": "markdown",
   "id": "4ff4a230-f9c6-4f06-9055-5e14535dd220",
   "metadata": {},
   "source": [
    "<a id='sms-spam.csv'></a><a name='sms-spam.csv'></a>\n",
    "### Dataset sms-spam.csv\n",
    "<a href=\"#top\">[back to top]</a>"
   ]
  },
  {
   "cell_type": "markdown",
   "id": "67020635-e6bf-4781-bbde-355a6b2582ba",
   "metadata": {},
   "source": [
    "Train a LDA model to classify SMS messages as spam or nonspam.\n",
    " "
   ]
  },
  {
   "cell_type": "code",
   "execution_count": 12,
   "id": "d179551a-cd1a-465f-bc4b-86402ad425f1",
   "metadata": {
    "colab": {
     "base_uri": "https://localhost:8080/"
    },
    "id": "d179551a-cd1a-465f-bc4b-86402ad425f1",
    "outputId": "c92ed930-4aa0-4b7b-a05d-196c9ecd19b2"
   },
   "outputs": [
    {
     "name": "stdout",
     "output_type": "stream",
     "text": [
      "File ‘data/data_sms_spam/sms-spam.csv’ already there; not retrieving.\n",
      "\n",
      "-rw-r--r--  1 gb  staff  493232 Mar 25 11:17 data/data_sms_spam/sms-spam.csv\n"
     ]
    }
   ],
   "source": [
    "data_dir = 'data/data_sms_spam'\n",
    "if not os.path.exists(data_dir):\n",
    "    os.makedirs(data_dir)\n",
    "    \n",
    "data_sms_spam = f\"{data_dir}/sms-spam.csv\"\n",
    "!wget -P {data_dir} -nc https://github.com/totalgood/nlpia/raw/master/src/nlpia/data/sms-spam.csv\n",
    "!ls -l {data_sms_spam}"
   ]
  },
  {
   "cell_type": "code",
   "execution_count": 13,
   "id": "9da8c55a-3be6-471a-aeb4-ef9b50b85a15",
   "metadata": {
    "colab": {
     "base_uri": "https://localhost:8080/"
    },
    "id": "9da8c55a-3be6-471a-aeb4-ef9b50b85a15",
    "outputId": "eddbae07-741e-4a7b-8802-232d5ba19536"
   },
   "outputs": [
    {
     "name": "stdout",
     "output_type": "stream",
     "text": [
      ",spam,text\n",
      "0,0,\"Go until jurong point, crazy.. Available only in bugis n great world la e buffet... Cine there got amore wat...\"\n",
      "1,0,Ok lar... Joking wif u oni...\n",
      "2,1,Free entry in 2 a wkly comp to win FA Cup final tkts 21st May 2005. Text FA to 87121 to receive entry question(std txt rate)T&C's apply 08452810075over18's\n",
      "3,0,U dun say so early hor... U c already then say...\n",
      "4,0,\"Nah I don't think he goes to usf, he lives around here though\"\n",
      "5,1,\"FreeMsg Hey there darling it's been 3 week's now and no word back! I'd like some fun you up for it still? Tb ok! XxX std chgs to send, £1.50 to rcv\"\n",
      "6,0,Even my brother is not like to speak with me. They treat me like aids patent.\n",
      "7,0,As per your request 'Melle Melle (Oru Minnaminunginte Nurungu Vettam)' has been set as your callertune for all Callers. Press *9 to copy your friends Callertune\n",
      "8,1,WINNER!! As a valued network customer you have been selected to receivea £900 prize reward! To claim call 09061701461. Claim code KL341. Valid 12 hours only.\n"
     ]
    }
   ],
   "source": [
    "!head {data_sms_spam}"
   ]
  },
  {
   "cell_type": "code",
   "execution_count": 14,
   "id": "1ecc3892-4418-479b-ae6b-893045848837",
   "metadata": {
    "colab": {
     "base_uri": "https://localhost:8080/",
     "height": 206
    },
    "id": "1ecc3892-4418-479b-ae6b-893045848837",
    "outputId": "1843d885-80e9-4fcc-b27e-b35a1f759842"
   },
   "outputs": [
    {
     "data": {
      "text/html": [
       "<div>\n",
       "<style scoped>\n",
       "    .dataframe tbody tr th:only-of-type {\n",
       "        vertical-align: middle;\n",
       "    }\n",
       "\n",
       "    .dataframe tbody tr th {\n",
       "        vertical-align: top;\n",
       "    }\n",
       "\n",
       "    .dataframe thead th {\n",
       "        text-align: right;\n",
       "    }\n",
       "</style>\n",
       "<table border=\"1\" class=\"dataframe\">\n",
       "  <thead>\n",
       "    <tr style=\"text-align: right;\">\n",
       "      <th></th>\n",
       "      <th>spam</th>\n",
       "      <th>text</th>\n",
       "    </tr>\n",
       "  </thead>\n",
       "  <tbody>\n",
       "    <tr>\n",
       "      <th>0</th>\n",
       "      <td>0</td>\n",
       "      <td>Go until jurong point, crazy.. Available only ...</td>\n",
       "    </tr>\n",
       "    <tr>\n",
       "      <th>1</th>\n",
       "      <td>0</td>\n",
       "      <td>Ok lar... Joking wif u oni...</td>\n",
       "    </tr>\n",
       "    <tr>\n",
       "      <th>2</th>\n",
       "      <td>1</td>\n",
       "      <td>Free entry in 2 a wkly comp to win FA Cup fina...</td>\n",
       "    </tr>\n",
       "    <tr>\n",
       "      <th>3</th>\n",
       "      <td>0</td>\n",
       "      <td>U dun say so early hor... U c already then say...</td>\n",
       "    </tr>\n",
       "    <tr>\n",
       "      <th>4</th>\n",
       "      <td>0</td>\n",
       "      <td>Nah I don't think he goes to usf, he lives aro...</td>\n",
       "    </tr>\n",
       "  </tbody>\n",
       "</table>\n",
       "</div>"
      ],
      "text/plain": [
       "   spam                                               text\n",
       "0     0  Go until jurong point, crazy.. Available only ...\n",
       "1     0                      Ok lar... Joking wif u oni...\n",
       "2     1  Free entry in 2 a wkly comp to win FA Cup fina...\n",
       "3     0  U dun say so early hor... U c already then say...\n",
       "4     0  Nah I don't think he goes to usf, he lives aro..."
      ]
     },
     "execution_count": 14,
     "metadata": {},
     "output_type": "execute_result"
    }
   ],
   "source": [
    "# Simplified implementation of LDA in Python\n",
    "sms_src = pd.read_csv(data_sms_spam, index_col=0)\n",
    "sms_src.head()"
   ]
  },
  {
   "cell_type": "markdown",
   "id": "2d4cfa0a-37f5-491c-b513-409e77cef226",
   "metadata": {
    "id": "2d4cfa0a-37f5-491c-b513-409e77cef226"
   },
   "source": [
    "We have 4837 SMS messages, and 683 of them are labeled with the binary class label \"spam.\""
   ]
  },
  {
   "cell_type": "code",
   "execution_count": 15,
   "id": "3aa6de29-275d-4a0e-af8c-bdadf4b66991",
   "metadata": {
    "colab": {
     "base_uri": "https://localhost:8080/"
    },
    "id": "3aa6de29-275d-4a0e-af8c-bdadf4b66991",
    "outputId": "82f2d699-2b2b-4bb2-e20b-2b53773e0b2f"
   },
   "outputs": [
    {
     "name": "stdout",
     "output_type": "stream",
     "text": [
      "['sms0', 'sms1', 'sms2!', 'sms3', 'sms4']\n",
      "----------------------------------------\n",
      "Total SMS messages: 4837\n",
      "SMS spam messages: 638\n"
     ]
    }
   ],
   "source": [
    "index = ['sms{}{}'.format(i, '!' * j) for (i, j) in zip(range(len(sms_src)), sms_src.spam)]\n",
    "print(index[:5])\n",
    "HR() \n",
    "\n",
    "sms = pd.DataFrame(\n",
    "    sms_src.values, \n",
    "    columns=sms_src.columns, \n",
    "    index=index\n",
    ")\n",
    "\n",
    "sms['spam'] = sms.spam.astype(int)\n",
    "\n",
    "print(f\"Total SMS messages: {sms.shape[0]}\")\n",
    "print(f\"SMS spam messages: {sms.spam.sum()}\")"
   ]
  },
  {
   "cell_type": "code",
   "execution_count": 16,
   "id": "8a1d5a07-90a4-439e-b033-650ebc2b57fa",
   "metadata": {
    "colab": {
     "base_uri": "https://localhost:8080/",
     "height": 206
    },
    "id": "8a1d5a07-90a4-439e-b033-650ebc2b57fa",
    "outputId": "7b8de7f4-9373-4192-b9c6-9eb2c2b6c3bf"
   },
   "outputs": [
    {
     "data": {
      "text/html": [
       "<div>\n",
       "<style scoped>\n",
       "    .dataframe tbody tr th:only-of-type {\n",
       "        vertical-align: middle;\n",
       "    }\n",
       "\n",
       "    .dataframe tbody tr th {\n",
       "        vertical-align: top;\n",
       "    }\n",
       "\n",
       "    .dataframe thead th {\n",
       "        text-align: right;\n",
       "    }\n",
       "</style>\n",
       "<table border=\"1\" class=\"dataframe\">\n",
       "  <thead>\n",
       "    <tr style=\"text-align: right;\">\n",
       "      <th></th>\n",
       "      <th>spam</th>\n",
       "      <th>text</th>\n",
       "    </tr>\n",
       "  </thead>\n",
       "  <tbody>\n",
       "    <tr>\n",
       "      <th>sms0</th>\n",
       "      <td>0</td>\n",
       "      <td>Go until jurong point, crazy.. Available only ...</td>\n",
       "    </tr>\n",
       "    <tr>\n",
       "      <th>sms1</th>\n",
       "      <td>0</td>\n",
       "      <td>Ok lar... Joking wif u oni...</td>\n",
       "    </tr>\n",
       "    <tr>\n",
       "      <th>sms2!</th>\n",
       "      <td>1</td>\n",
       "      <td>Free entry in 2 a wkly comp to win FA Cup fina...</td>\n",
       "    </tr>\n",
       "    <tr>\n",
       "      <th>sms3</th>\n",
       "      <td>0</td>\n",
       "      <td>U dun say so early hor... U c already then say...</td>\n",
       "    </tr>\n",
       "    <tr>\n",
       "      <th>sms4</th>\n",
       "      <td>0</td>\n",
       "      <td>Nah I don't think he goes to usf, he lives aro...</td>\n",
       "    </tr>\n",
       "  </tbody>\n",
       "</table>\n",
       "</div>"
      ],
      "text/plain": [
       "       spam                                               text\n",
       "sms0      0  Go until jurong point, crazy.. Available only ...\n",
       "sms1      0                      Ok lar... Joking wif u oni...\n",
       "sms2!     1  Free entry in 2 a wkly comp to win FA Cup fina...\n",
       "sms3      0  U dun say so early hor... U c already then say...\n",
       "sms4      0  Nah I don't think he goes to usf, he lives aro..."
      ]
     },
     "execution_count": 16,
     "metadata": {},
     "output_type": "execute_result"
    }
   ],
   "source": [
    "sms.head()"
   ]
  },
  {
   "cell_type": "markdown",
   "id": "1621885f-fbf6-4314-b5be-0696c28ad816",
   "metadata": {
    "id": "1621885f-fbf6-4314-b5be-0696c28ad816"
   },
   "source": [
    "Next, do tokenization and TF-IDF vector transformation on all these SMS messages."
   ]
  },
  {
   "cell_type": "code",
   "execution_count": 17,
   "id": "13f1b2cd-eb00-4181-866f-94864dadb584",
   "metadata": {
    "colab": {
     "base_uri": "https://localhost:8080/"
    },
    "id": "13f1b2cd-eb00-4181-866f-94864dadb584",
    "outputId": "5625b6b1-beeb-40ac-82a8-243764987cf1"
   },
   "outputs": [],
   "source": [
    "tfidf_model = TfidfVectorizer(tokenizer=casual_tokenize)\n",
    "tfidf_docs = tfidf_model.fit_transform(\n",
    "    raw_documents=sms.text\n",
    ").toarray()"
   ]
  },
  {
   "cell_type": "code",
   "execution_count": 18,
   "id": "UCsinRce6jm8",
   "metadata": {
    "colab": {
     "base_uri": "https://localhost:8080/"
    },
    "id": "UCsinRce6jm8",
    "outputId": "459fa6d4-bea6-439c-bac8-0d2ec9c01c15"
   },
   "outputs": [
    {
     "name": "stdout",
     "output_type": "stream",
     "text": [
      "Messages: 4837\n",
      "Words: 9232\n"
     ]
    }
   ],
   "source": [
    "messages, words = tfidf_docs.shape\n",
    "print(f\"Messages: {messages}\")\n",
    "print(f\"Words: {words}\")"
   ]
  },
  {
   "cell_type": "code",
   "execution_count": 19,
   "id": "aYL7cA9X6o1t",
   "metadata": {
    "colab": {
     "base_uri": "https://localhost:8080/"
    },
    "id": "aYL7cA9X6o1t",
    "outputId": "6ac936be-3705-4441-b09e-8272270bce4c"
   },
   "outputs": [
    {
     "name": "stdout",
     "output_type": "stream",
     "text": [
      "<class 'pandas.core.frame.DataFrame'>\n",
      "RangeIndex: 4837 entries, 0 to 4836\n",
      "Columns: 9232 entries, 0 to 9231\n",
      "dtypes: float64(9232)\n",
      "memory usage: 340.7 MB\n"
     ]
    }
   ],
   "source": [
    "check_tfidf_docs = pd.DataFrame(tfidf_docs)\n",
    "\n",
    "check_tfidf_docs.info()"
   ]
  },
  {
   "cell_type": "code",
   "execution_count": 20,
   "id": "9mWGOb_07L-H",
   "metadata": {
    "colab": {
     "base_uri": "https://localhost:8080/"
    },
    "id": "9mWGOb_07L-H",
    "outputId": "31d2769c-adbc-48e1-8ff8-663b2af66fc3"
   },
   "outputs": [
    {
     "data": {
      "text/plain": [
       "False"
      ]
     },
     "execution_count": 20,
     "metadata": {},
     "output_type": "execute_result"
    }
   ],
   "source": [
    "check_tfidf_docs.isnull().values.any()"
   ]
  },
  {
   "cell_type": "code",
   "execution_count": 21,
   "id": "400dfefb-0f51-455e-933a-cfb967b42b6d",
   "metadata": {
    "colab": {
     "base_uri": "https://localhost:8080/"
    },
    "id": "400dfefb-0f51-455e-933a-cfb967b42b6d",
    "outputId": "b4dcf84b-2cf8-4f27-c93f-277e13d6eb29"
   },
   "outputs": [
    {
     "name": "stdout",
     "output_type": "stream",
     "text": [
      "sms_messages: 4837\n",
      "sms_words: 9232\n"
     ]
    }
   ],
   "source": [
    "sms_messages, sms_words = tfidf_docs.shape\n",
    "print(f\"sms_messages: {sms_messages}\")\n",
    "print(f\"sms_words: {sms_words}\")"
   ]
  },
  {
   "cell_type": "code",
   "execution_count": 22,
   "id": "a5a66f2b-85db-4b0f-8f79-672807c8d82f",
   "metadata": {
    "colab": {
     "base_uri": "https://localhost:8080/"
    },
    "id": "a5a66f2b-85db-4b0f-8f79-672807c8d82f",
    "outputId": "3cd2dd1f-5cc8-4074-b228-86532644bb5a"
   },
   "outputs": [
    {
     "data": {
      "text/plain": [
       "638"
      ]
     },
     "execution_count": 22,
     "metadata": {},
     "output_type": "execute_result"
    }
   ],
   "source": [
    "sms.spam.sum()"
   ]
  },
  {
   "cell_type": "markdown",
   "id": "4a971dfe-8cf1-45ab-9888-8892f28b1add",
   "metadata": {
    "id": "4a971dfe-8cf1-45ab-9888-8892f28b1add"
   },
   "source": [
    "Our model will not have lots of information about the words that indicate whether a message is spam or not. \n",
    "\n",
    "Usually a Naive Bayes classifier will not work well when the vocabulary is much larger than the number of labeled examples in the dataset. This is where semantic analysis techniques can help.\n",
    "\n",
    "Semantic analysis gathers up words with similar semantics (such as spamminess) and uses them all together.\n",
    "\n",
    "We start with the simplest semantic analysis technique, LDA."
   ]
  },
  {
   "cell_type": "code",
   "execution_count": 23,
   "id": "d66eb207-7941-4b90-a603-e2130149e683",
   "metadata": {
    "colab": {
     "base_uri": "https://localhost:8080/"
    },
    "id": "d66eb207-7941-4b90-a603-e2130149e683",
    "outputId": "34fba531-c0e8-47e7-da14-814ed45db287"
   },
   "outputs": [
    {
     "data": {
      "text/plain": [
       "array([False, False,  True, ..., False, False, False])"
      ]
     },
     "execution_count": 23,
     "metadata": {},
     "output_type": "execute_result"
    }
   ],
   "source": [
    "# Use mask to select only the spam rows\n",
    "mask = sms.spam.astype(bool).values\n",
    "mask"
   ]
  },
  {
   "cell_type": "code",
   "execution_count": 24,
   "id": "2085c891-ad89-45f6-96ab-f5e58433792c",
   "metadata": {
    "id": "2085c891-ad89-45f6-96ab-f5e58433792c"
   },
   "outputs": [],
   "source": [
    "spam_centroid = tfidf_docs[mask].mean(axis=0)\n",
    "ham_centroid = tfidf_docs[~mask].mean(axis=0)"
   ]
  },
  {
   "cell_type": "code",
   "execution_count": 25,
   "id": "540fb36b-1302-47be-a9c5-b15dc0bcf8b1",
   "metadata": {
    "colab": {
     "base_uri": "https://localhost:8080/"
    },
    "id": "540fb36b-1302-47be-a9c5-b15dc0bcf8b1",
    "outputId": "d943cc65-4afa-40b6-c0eb-a641f1a54a4d"
   },
   "outputs": [
    {
     "data": {
      "text/plain": [
       "array([0.0638, 0.0042, 0.0006, ..., 0.    , 0.    , 0.    ])"
      ]
     },
     "execution_count": 25,
     "metadata": {},
     "output_type": "execute_result"
    }
   ],
   "source": [
    "spam_centroid.round(4)"
   ]
  },
  {
   "cell_type": "code",
   "execution_count": 26,
   "id": "47a0eed1-894d-4e02-b86e-fac556a52613",
   "metadata": {
    "colab": {
     "base_uri": "https://localhost:8080/"
    },
    "id": "47a0eed1-894d-4e02-b86e-fac556a52613",
    "outputId": "db640b5d-df83-49d2-ba14-13b22de81723"
   },
   "outputs": [
    {
     "data": {
      "text/plain": [
       "array([0.0198, 0.0061, 0.0002, ..., 0.0001, 0.0001, 0.0001])"
      ]
     },
     "execution_count": 26,
     "metadata": {},
     "output_type": "execute_result"
    }
   ],
   "source": [
    "ham_centroid.round(4)"
   ]
  },
  {
   "cell_type": "markdown",
   "id": "a778adca-47f8-46af-a33b-365a2a64e6f7",
   "metadata": {
    "id": "a778adca-47f8-46af-a33b-365a2a64e6f7"
   },
   "source": [
    "Subtract one centroid from the other to get the line between them."
   ]
  },
  {
   "cell_type": "code",
   "execution_count": 27,
   "id": "a2f35f87-657e-47c5-8d80-1e2478d69806",
   "metadata": {
    "colab": {
     "base_uri": "https://localhost:8080/"
    },
    "id": "a2f35f87-657e-47c5-8d80-1e2478d69806",
    "outputId": "8872d43a-574c-4e05-d6b5-40ae549df70c"
   },
   "outputs": [
    {
     "data": {
      "text/plain": [
       "array([-0.0147, -0.0201,  0.0386, ..., -0.0101, -0.0034,  0.004 ])"
      ]
     },
     "execution_count": 27,
     "metadata": {},
     "output_type": "execute_result"
    }
   ],
   "source": [
    "spamminess_score = tfidf_docs.dot(spam_centroid - ham_centroid)\n",
    "spamminess_score.round(4)"
   ]
  },
  {
   "cell_type": "code",
   "execution_count": 28,
   "id": "e42d17d5-0a2c-4b77-9776-53b5374fd8c2",
   "metadata": {},
   "outputs": [
    {
     "data": {
      "image/png": "[encoded data removed]",
      "text/plain": [
       "<Figure size 640x480 with 1 Axes>"
      ]
     },
     "metadata": {},
     "output_type": "display_data"
    }
   ],
   "source": [
    "pd.DataFrame(spamminess_score.round(4)).plot();"
   ]
  },
  {
   "cell_type": "markdown",
   "id": "2a9c58de-7c5c-4310-bd0b-340899dfd1df",
   "metadata": {},
   "source": [
    "<a id='pointcloud.csv.gz'></a><a name='pointcloud.csv.gz'></a>\n",
    "### Dataset pointcloud.csv.gz\n",
    "<a href=\"#top\">[back to top]</a>"
   ]
  },
  {
   "cell_type": "code",
   "execution_count": 29,
   "id": "6c3ccab5-0bf5-453f-b145-fc2c115d185b",
   "metadata": {
    "colab": {
     "base_uri": "https://localhost:8080/"
    },
    "id": "6c3ccab5-0bf5-453f-b145-fc2c115d185b",
    "outputId": "1ba02928-c26d-47cf-942d-424caa3c0ae3"
   },
   "outputs": [
    {
     "name": "stdout",
     "output_type": "stream",
     "text": [
      "File ‘data/data_pointcloud/pointcloud.csv.gz’ already there; not retrieving.\n",
      "\n",
      "-rw-r--r--  1 gb  staff  1285927 Mar 25 11:18 data/data_pointcloud/pointcloud.csv.gz\n"
     ]
    }
   ],
   "source": [
    "data_dir = 'data/data_pointcloud'\n",
    "if not os.path.exists(data_dir):\n",
    "    os.makedirs(data_dir)\n",
    "    \n",
    "data_pointcloud = f'{data_dir}/pointcloud.csv.gz'\n",
    "!wget -P {data_dir} -nc https://github.com/totalgood/nlpia/raw/master/src/nlpia/data/pointcloud.csv.gz\n",
    "!ls -l {data_pointcloud}"
   ]
  },
  {
   "cell_type": "code",
   "execution_count": 30,
   "id": "8b90560a-6e40-4c98-abc0-4e94c9fc61b5",
   "metadata": {
    "colab": {
     "base_uri": "https://localhost:8080/",
     "height": 337
    },
    "id": "8b90560a-6e40-4c98-abc0-4e94c9fc61b5",
    "outputId": "612f8a1d-3143-4c48-86e5-6559a5fe2ee2"
   },
   "outputs": [
    {
     "data": {
      "text/html": [
       "<div>\n",
       "<style scoped>\n",
       "    .dataframe tbody tr th:only-of-type {\n",
       "        vertical-align: middle;\n",
       "    }\n",
       "\n",
       "    .dataframe tbody tr th {\n",
       "        vertical-align: top;\n",
       "    }\n",
       "\n",
       "    .dataframe thead th {\n",
       "        text-align: right;\n",
       "    }\n",
       "</style>\n",
       "<table border=\"1\" class=\"dataframe\">\n",
       "  <thead>\n",
       "    <tr style=\"text-align: right;\">\n",
       "      <th></th>\n",
       "      <th>x</th>\n",
       "      <th>y</th>\n",
       "    </tr>\n",
       "  </thead>\n",
       "  <tbody>\n",
       "    <tr>\n",
       "      <th>0</th>\n",
       "      <td>5739.913</td>\n",
       "      <td>-0.010838</td>\n",
       "    </tr>\n",
       "    <tr>\n",
       "      <th>1</th>\n",
       "      <td>662.913</td>\n",
       "      <td>0.055300</td>\n",
       "    </tr>\n",
       "    <tr>\n",
       "      <th>2</th>\n",
       "      <td>-2943.087</td>\n",
       "      <td>0.017895</td>\n",
       "    </tr>\n",
       "    <tr>\n",
       "      <th>3</th>\n",
       "      <td>-1541.087</td>\n",
       "      <td>-0.031069</td>\n",
       "    </tr>\n",
       "    <tr>\n",
       "      <th>4</th>\n",
       "      <td>20183.913</td>\n",
       "      <td>-0.018599</td>\n",
       "    </tr>\n",
       "    <tr>\n",
       "      <th>...</th>\n",
       "      <td>...</td>\n",
       "      <td>...</td>\n",
       "    </tr>\n",
       "    <tr>\n",
       "      <th>995</th>\n",
       "      <td>-10400.087</td>\n",
       "      <td>-0.082136</td>\n",
       "    </tr>\n",
       "    <tr>\n",
       "      <th>996</th>\n",
       "      <td>12508.913</td>\n",
       "      <td>-0.070237</td>\n",
       "    </tr>\n",
       "    <tr>\n",
       "      <th>997</th>\n",
       "      <td>-10348.087</td>\n",
       "      <td>-0.075675</td>\n",
       "    </tr>\n",
       "    <tr>\n",
       "      <th>998</th>\n",
       "      <td>-5425.087</td>\n",
       "      <td>0.104146</td>\n",
       "    </tr>\n",
       "    <tr>\n",
       "      <th>999</th>\n",
       "      <td>-23801.087</td>\n",
       "      <td>0.053387</td>\n",
       "    </tr>\n",
       "  </tbody>\n",
       "</table>\n",
       "<p>1000 rows × 2 columns</p>\n",
       "</div>"
      ],
      "text/plain": [
       "             x         y\n",
       "0     5739.913 -0.010838\n",
       "1      662.913  0.055300\n",
       "2    -2943.087  0.017895\n",
       "3    -1541.087 -0.031069\n",
       "4    20183.913 -0.018599\n",
       "..         ...       ...\n",
       "995 -10400.087 -0.082136\n",
       "996  12508.913 -0.070237\n",
       "997 -10348.087 -0.075675\n",
       "998  -5425.087  0.104146\n",
       "999 -23801.087  0.053387\n",
       "\n",
       "[1000 rows x 2 columns]"
      ]
     },
     "execution_count": 30,
     "metadata": {},
     "output_type": "execute_result"
    }
   ],
   "source": [
    "df = pd.read_csv(data_pointcloud).sample(1000)\n",
    "pca = PCA(n_components=2)\n",
    "df2d = pd.DataFrame(pca.fit_transform(df), columns=list('xy'))\n",
    "df2d"
   ]
  },
  {
   "cell_type": "code",
   "execution_count": 31,
   "id": "3d7155bd-e9ee-470a-8b5b-23e01da8d271",
   "metadata": {},
   "outputs": [
    {
     "data": {
      "image/png": "[encoded data removed]",
      "text/plain": [
       "<Figure size 640x480 with 1 Axes>"
      ]
     },
     "metadata": {},
     "output_type": "display_data"
    }
   ],
   "source": [
    "df2d.plot(kind='scatter', x='x', y='y')\n",
    "plt.show()"
   ]
  },
  {
   "cell_type": "markdown",
   "id": "1794aebc-a815-41fb-9c48-647af15f24e2",
   "metadata": {
    "id": "1794aebc-a815-41fb-9c48-647af15f24e2"
   },
   "source": [
    "We want the score to range between 0 and 1, like a probability.\n",
    "\n",
    "Use `sklearnMinMaxScaler` for this."
   ]
  },
  {
   "cell_type": "code",
   "execution_count": 32,
   "id": "2a5519a7-0682-4d81-93a4-7264172ab6ce",
   "metadata": {
    "colab": {
     "base_uri": "https://localhost:8080/",
     "height": 237
    },
    "id": "2a5519a7-0682-4d81-93a4-7264172ab6ce",
    "outputId": "21616c79-704c-46fb-c716-43ea8bd2e022"
   },
   "outputs": [
    {
     "data": {
      "text/html": [
       "<div>\n",
       "<style scoped>\n",
       "    .dataframe tbody tr th:only-of-type {\n",
       "        vertical-align: middle;\n",
       "    }\n",
       "\n",
       "    .dataframe tbody tr th {\n",
       "        vertical-align: top;\n",
       "    }\n",
       "\n",
       "    .dataframe thead th {\n",
       "        text-align: right;\n",
       "    }\n",
       "</style>\n",
       "<table border=\"1\" class=\"dataframe\">\n",
       "  <thead>\n",
       "    <tr style=\"text-align: right;\">\n",
       "      <th></th>\n",
       "      <th>spam</th>\n",
       "      <th>lda_predict</th>\n",
       "      <th>lda_score</th>\n",
       "    </tr>\n",
       "  </thead>\n",
       "  <tbody>\n",
       "    <tr>\n",
       "      <th>sms0</th>\n",
       "      <td>0</td>\n",
       "      <td>0</td>\n",
       "      <td>0.23</td>\n",
       "    </tr>\n",
       "    <tr>\n",
       "      <th>sms1</th>\n",
       "      <td>0</td>\n",
       "      <td>0</td>\n",
       "      <td>0.18</td>\n",
       "    </tr>\n",
       "    <tr>\n",
       "      <th>sms2!</th>\n",
       "      <td>1</td>\n",
       "      <td>1</td>\n",
       "      <td>0.72</td>\n",
       "    </tr>\n",
       "    <tr>\n",
       "      <th>sms3</th>\n",
       "      <td>0</td>\n",
       "      <td>0</td>\n",
       "      <td>0.18</td>\n",
       "    </tr>\n",
       "    <tr>\n",
       "      <th>sms4</th>\n",
       "      <td>0</td>\n",
       "      <td>0</td>\n",
       "      <td>0.29</td>\n",
       "    </tr>\n",
       "    <tr>\n",
       "      <th>sms5!</th>\n",
       "      <td>1</td>\n",
       "      <td>1</td>\n",
       "      <td>0.55</td>\n",
       "    </tr>\n",
       "  </tbody>\n",
       "</table>\n",
       "</div>"
      ],
      "text/plain": [
       "       spam  lda_predict  lda_score\n",
       "sms0      0            0       0.23\n",
       "sms1      0            0       0.18\n",
       "sms2!     1            1       0.72\n",
       "sms3      0            0       0.18\n",
       "sms4      0            0       0.29\n",
       "sms5!     1            1       0.55"
      ]
     },
     "execution_count": 32,
     "metadata": {},
     "output_type": "execute_result"
    }
   ],
   "source": [
    "sms['lda_score'] = MinMaxScaler().fit_transform(\n",
    "    spamminess_score.reshape(-1, 1)\n",
    ")\n",
    "sms['lda_predict'] = (sms.lda_score > .5).astype(int)\n",
    "sms[['spam', 'lda_predict', 'lda_score']].round(2).head(6)"
   ]
  },
  {
   "cell_type": "code",
   "execution_count": 33,
   "id": "63143b7e-020f-4389-972c-f8fcefea65dd",
   "metadata": {
    "colab": {
     "base_uri": "https://localhost:8080/"
    },
    "id": "63143b7e-020f-4389-972c-f8fcefea65dd",
    "outputId": "d8efaa8a-cc96-4b71-f0ff-ef65397dea0e"
   },
   "outputs": [
    {
     "data": {
      "text/plain": [
       "0.977"
      ]
     },
     "execution_count": 33,
     "metadata": {},
     "output_type": "execute_result"
    }
   ],
   "source": [
    "# Check the rest of the training set\n",
    "(1. - (sms.spam - sms.lda_predict).abs().sum() / len(sms)).round(3)"
   ]
  },
  {
   "cell_type": "markdown",
   "id": "6513ee05-6182-46e9-80eb-a14acebd6feb",
   "metadata": {
    "id": "6513ee05-6182-46e9-80eb-a14acebd6feb"
   },
   "source": [
    "This means 97.7% of the messages were classified correctly with this simple model. \n",
    "\n",
    "LDA is a very simple model that should generalize well, as long as the SMS messages are representative of the messages you intend to classify. \n",
    "\n",
    "This is power of semantic analysis \n",
    "\n",
    "---\n",
    "\n",
    "Examine the training set confusion matrix. This will show the SMS messages that it labeled as spam that weren't spam at all (false positives), and the ones that were labeled as ham that should have been labeled as spam (false negatives)."
   ]
  },
  {
   "cell_type": "code",
   "execution_count": 34,
   "id": "d24049c6-a386-4637-8175-a5d612a0932b",
   "metadata": {
    "colab": {
     "base_uri": "https://localhost:8080/"
    },
    "id": "d24049c6-a386-4637-8175-a5d612a0932b",
    "outputId": "9afcf0d4-761f-473c-b618-96d756245117"
   },
   "outputs": [
    {
     "data": {
      "text/plain": [
       "['spam', 'lda_predict']"
      ]
     },
     "execution_count": 34,
     "metadata": {},
     "output_type": "execute_result"
    }
   ],
   "source": [
    "'spam lda_predict'.split()"
   ]
  },
  {
   "cell_type": "code",
   "execution_count": 35,
   "id": "6f342d4a-e96b-432f-b2ac-b55b99aa730d",
   "metadata": {
    "colab": {
     "base_uri": "https://localhost:8080/",
     "height": 351
    },
    "id": "6f342d4a-e96b-432f-b2ac-b55b99aa730d",
    "outputId": "3078b4a5-3052-4363-ecd3-b93432259e3b"
   },
   "outputs": [
    {
     "data": {
      "text/html": [
       "<div>\n",
       "<style scoped>\n",
       "    .dataframe tbody tr th:only-of-type {\n",
       "        vertical-align: middle;\n",
       "    }\n",
       "\n",
       "    .dataframe tbody tr th {\n",
       "        vertical-align: top;\n",
       "    }\n",
       "\n",
       "    .dataframe thead th {\n",
       "        text-align: right;\n",
       "    }\n",
       "</style>\n",
       "<table border=\"1\" class=\"dataframe\">\n",
       "  <thead>\n",
       "    <tr style=\"text-align: right;\">\n",
       "      <th>lda_predict</th>\n",
       "      <th>0</th>\n",
       "      <th>1</th>\n",
       "    </tr>\n",
       "    <tr>\n",
       "      <th>spam</th>\n",
       "      <th></th>\n",
       "      <th></th>\n",
       "    </tr>\n",
       "  </thead>\n",
       "  <tbody>\n",
       "    <tr>\n",
       "      <th>0</th>\n",
       "      <td>4135</td>\n",
       "      <td>64</td>\n",
       "    </tr>\n",
       "    <tr>\n",
       "      <th>1</th>\n",
       "      <td>45</td>\n",
       "      <td>593</td>\n",
       "    </tr>\n",
       "  </tbody>\n",
       "</table>\n",
       "</div>"
      ],
      "text/plain": [
       "lda_predict     0    1\n",
       "spam                  \n",
       "0            4135   64\n",
       "1              45  593"
      ]
     },
     "execution_count": 35,
     "metadata": {},
     "output_type": "execute_result"
    }
   ],
   "source": [
    "Confusion(sms[['spam', 'lda_predict']], dtype=object)"
   ]
  },
  {
   "cell_type": "code",
   "execution_count": 36,
   "id": "2f58044f-aa76-45bf-8831-afb5352aa37c",
   "metadata": {},
   "outputs": [
    {
     "data": {
      "image/png": "[encoded data removed]",
      "text/plain": [
       "<Figure size 640x480 with 2 Axes>"
      ]
     },
     "metadata": {},
     "output_type": "display_data"
    }
   ],
   "source": [
    "from sklearn.metrics import confusion_matrix, ConfusionMatrixDisplay\n",
    "\n",
    "cm = confusion_matrix(sms['spam'], sms['lda_predict'])\n",
    "disp = ConfusionMatrixDisplay(confusion_matrix=cm)\n",
    "disp.plot();"
   ]
  },
  {
   "cell_type": "code",
   "execution_count": null,
   "id": "f5e4c397-b3ae-40de-aa58-e9e8f30cc1aa",
   "metadata": {},
   "outputs": [],
   "source": []
  }
 ],
 "metadata": {
  "colab": {
   "provenance": []
  },
  "kernelspec": {
   "display_name": "Python 3 (ipykernel)",
   "language": "python",
   "name": "python3"
  },
  "language_info": {
   "codemirror_mode": {
    "name": "ipython",
    "version": 3
   },
   "file_extension": ".py",
   "mimetype": "text/x-python",
   "name": "python",
   "nbconvert_exporter": "python",
   "pygments_lexer": "ipython3",
   "version": "3.8.12"
  }
 },
 "nbformat": 4,
 "nbformat_minor": 5
}
