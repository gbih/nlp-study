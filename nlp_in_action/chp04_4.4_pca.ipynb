{
 "cells": [
  {
   "cell_type": "markdown",
   "id": "3d850a95-29a1-4948-9c7d-02b209f3a02b",
   "metadata": {
    "id": "3d850a95-29a1-4948-9c7d-02b209f3a02b"
   },
   "source": [
    "<a id='top'></a><a name='top'></a>\n",
    "# Chapter 4: Finding meaning in word counts (semantic analysis)\n",
    "\n",
    "## 4.4 Principal component analysis"
   ]
  },
  {
   "cell_type": "markdown",
   "id": "d4fb858e-93ff-41c5-8e26-37c70bb0007c",
   "metadata": {
    "id": "d4fb858e-93ff-41c5-8e26-37c70bb0007c"
   },
   "source": [
    "* [Introduction](#introduction)\n",
    "* [4.0 Imports and Setup](#4.0)\n",
    "* [4.4 Principal component analysis](#4.4)\n",
    "    - [4.4.1 PCA on 3D vectors](#4.4.1)\n",
    "    - [4.4.2 Stop horsing around and get back to NLP](#4.4.2)\n",
    "    - [4.4.3 Using PCA for SMS message semantic analysis](#4.4.3)\n",
    "    - [4.4.4 Using truncated SVD for SMS message semantic analysis](#4.4.4)\n",
    "    - [4.4.5 How well does LSA work for spam classification?](#4.4.5)"
   ]
  },
  {
   "cell_type": "markdown",
   "id": "7ee9bf07-3035-4166-bbb7-d7ba2d2a67cf",
   "metadata": {
    "id": "7ee9bf07-3035-4166-bbb7-d7ba2d2a67cf"
   },
   "source": [
    "---\n",
    "<a name='introduction'></a><a id='introduction'></a>\n",
    "# Introduction\n",
    "<a href=\"#top\">[back to top]</a>\n",
    "\n",
    "### Datasets\n",
    "\n",
    "* pointcloud.csv.gz: [script](#pointcloud.csv.gz), [source](https://github.com/totalgood/nlpia/raw/master/src/nlpia/data/pointcloud.csv.gz)\n",
    "* sms-spam.csv: [script](#sms-spam.csv), [source](https://github.com/totalgood/nlpia/raw/master/src/nlpia/data/sms-spam.csv)\n",
    "* horse.ply: [script](#horse.ply), [source](https://github.com/totalgood/nlpia/raw/master/src/nlpia/data/horse.ply)\n",
    "\n",
    "\n",
    "### Explore\n",
    "\n",
    "* Analyzing semantics (meaning) to create topic vectors\n",
    "* Semantic search using the similarity between topic vectors\n",
    "* Scalable semantic analysis and semantic search for large copora\n",
    "* Using semantic components (topics) as features in your NLP pipeline\n",
    "* Navigating high-dimensional vector spaces\n",
    "\n",
    "\n",
    "### Key points\n",
    "\n",
    "* You can use SVD for semantic analysis to decompose and transform TF-IDF\n",
    "* Use LDiA when you need to compute explainable topic vectors\n",
    "* No matter how you create your topic vectors, they can be used for semantic search to find documents based on their meaning\n",
    "* Topic vectors can be used to predict whether a social post is spam or is likely to be \"liked\"\n",
    "* We can sidestep the curse of dimensionality to approximate nearest neighbors in a semantic vector space\n",
    "\n",
    "---\n",
    "\n",
    "Principal component analysis is another name for SVD when it’s used for dimension reduction, like you did to accomplish your latent semantic analysis earlier. And the PCA model in scikit-learn has some tweaks to the SVD math that will improve the accuracy of your NLP pipeline.\n",
    "\n",
    "For one, sklearn.PCA automatically “centers” your data by subtracting off the mean word frequencies. Another, more subtle trick is that PCA uses a function called flip_sign to deterministically compute the sign of the singular vectors.\n",
    "\n",
    "Finally, the sklearn implementation of PCA implements an optional “whitening” step. This is similar to your trick of ignoring the singular values when transforming word-document vectors into topic-document vectors. Instead of just setting all the sin- gular values in S to one, whitening divides your data by these variances just like the sklearn.StandardScaler transform does. This helps spread out your data and makes any optimization algorithm less likely to get lost in “half pipes” or “rivers” of your data that can arise when features in your dataset are correlated with each other.\n",
    "\n",
    "Before you apply PCA to real-world, high-dimensional NLP data, let’s take a step back and look at a more visual representation of what PCA and SVD do. This will also help you understand the API for the scikit-learn PCA implementation. PCA is useful for a wide range of applications, so this insight will be helpful for more than just NLP. You’re going to do PCA on a 3D point cloud before you try it out on high-dimensional natural language data.\n",
    "\n",
    "For most “real” problems, you’ll want to use the sklearn.PCA model for your latent semantic analysis. The one exception is if you have more documents than you can hold in RAM. In that case, you’ll need to use the IncrementalPCA model in sklearn or some of the scaling techniques we talk about in chapter 13.\n"
   ]
  },
  {
   "cell_type": "markdown",
   "id": "e28d418f-975f-497b-9a83-169fb911a0ad",
   "metadata": {
    "id": "e28d418f-975f-497b-9a83-169fb911a0ad"
   },
   "source": [
    "---\n",
    "<a name='4.0'></a><a id='4.0'></a>\n",
    "# 4.0 Imports and Setup\n",
    "<a href=\"#top\">[back to top]</a>"
   ]
  },
  {
   "cell_type": "code",
   "execution_count": 1,
   "id": "b6227bd6-d034-4ad3-86d6-a07c5e78716b",
   "metadata": {
    "id": "b6227bd6-d034-4ad3-86d6-a07c5e78716b"
   },
   "outputs": [],
   "source": [
    "import os\n",
    "if not os.path.exists('setup'):\n",
    "    os.mkdir('setup')"
   ]
  },
  {
   "cell_type": "code",
   "execution_count": 2,
   "id": "91127bef-d081-46d6-99cb-7203814d9a3b",
   "metadata": {
    "id": "91127bef-d081-46d6-99cb-7203814d9a3b",
    "tags": []
   },
   "outputs": [],
   "source": [
    "req_file = \"setup/requirements_04.txt\""
   ]
  },
  {
   "cell_type": "code",
   "execution_count": 3,
   "id": "1d86fec3-3bb5-4df9-8514-aac0e766bf30",
   "metadata": {
    "colab": {
     "base_uri": "https://localhost:8080/"
    },
    "id": "1d86fec3-3bb5-4df9-8514-aac0e766bf30",
    "outputId": "794dd9db-57df-4e6d-d9a8-92bb0c3ba0bd"
   },
   "outputs": [
    {
     "name": "stdout",
     "output_type": "stream",
     "text": [
      "Overwriting setup/requirements_04.txt\n"
     ]
    }
   ],
   "source": [
    "%%writefile {req_file}\n",
    "isort\n",
    "pugnlp\n",
    "plyfile\n",
    "scikit-learn-intelex\n",
    "scrapy\n",
    "watermark"
   ]
  },
  {
   "cell_type": "code",
   "execution_count": 4,
   "id": "4a0d752e-c897-4120-ae57-375257381a29",
   "metadata": {
    "colab": {
     "base_uri": "https://localhost:8080/"
    },
    "id": "4a0d752e-c897-4120-ae57-375257381a29",
    "outputId": "67a8532a-94d2-4914-a30b-3df38062cd3d"
   },
   "outputs": [
    {
     "name": "stdout",
     "output_type": "stream",
     "text": [
      "Running locally.\n"
     ]
    }
   ],
   "source": [
    "import sys\n",
    "IS_COLAB = 'google.colab' in sys.modules\n",
    "\n",
    "if IS_COLAB:\n",
    "    print(\"Installing packages\")\n",
    "    !pip install --upgrade --quiet -r {req_file}\n",
    "else:\n",
    "    print(\"Running locally.\")"
   ]
  },
  {
   "cell_type": "code",
   "execution_count": 5,
   "id": "93f0b895-cc91-4435-959e-b90ae2989264",
   "metadata": {},
   "outputs": [],
   "source": [
    "# Running sklearnex with PCA consumes too much memory locally,\n",
    "# limit running to COLAB platform\n",
    "if IS_COLAB:\n",
    "    from sklearnex import patch_sklearn\n",
    "    patch_sklearn()"
   ]
  },
  {
   "cell_type": "code",
   "execution_count": 8,
   "id": "827eff72-dcd3-4cc6-9d26-20d959dd8f0e",
   "metadata": {
    "colab": {
     "base_uri": "https://localhost:8080/"
    },
    "id": "827eff72-dcd3-4cc6-9d26-20d959dd8f0e",
    "outputId": "c620ae66-1756-4ae3-ab02-5f7f52766df5"
   },
   "outputs": [
    {
     "name": "stdout",
     "output_type": "stream",
     "text": [
      "Overwriting setup/chp04_4.4_imports.py\n"
     ]
    }
   ],
   "source": [
    "%%writefile setup/chp04_4.4_imports.py\n",
    "import locale\n",
    "import os\n",
    "import pprint\n",
    "import random\n",
    "import warnings\n",
    "\n",
    "import matplotlib.pyplot as plt\n",
    "import numpy as np\n",
    "import pandas as pd\n",
    "import seaborn as sns\n",
    "from matplotlib import pyplot as plt\n",
    "from nltk.tokenize import casual_tokenize\n",
    "from nltk.tokenize.casual import casual_tokenize\n",
    "from plyfile import PlyData\n",
    "from sklearn.decomposition import PCA\n",
    "from sklearn.decomposition import TruncatedSVD\n",
    "from sklearn.feature_extraction.text import TfidfVectorizer\n",
    "from tqdm.auto import tqdm\n",
    "from watermark import watermark"
   ]
  },
  {
   "cell_type": "code",
   "execution_count": 7,
   "id": "00f41d56-423e-41b9-984f-00c5bb19ae10",
   "metadata": {
    "colab": {
     "base_uri": "https://localhost:8080/"
    },
    "id": "00f41d56-423e-41b9-984f-00c5bb19ae10",
    "outputId": "addf8b62-d717-4339-ec3a-a6d945ad42e5"
   },
   "outputs": [
    {
     "name": "stdout",
     "output_type": "stream",
     "text": [
      "import locale\n",
      "import os\n",
      "import pprint\n",
      "import random\n",
      "import warnings\n",
      "\n",
      "import matplotlib.pyplot as plt\n",
      "import numpy as np\n",
      "import pandas as pd\n",
      "import seaborn as sns\n",
      "from matplotlib import pyplot as plt\n",
      "from nltk.tokenize import casual_tokenize\n",
      "from nltk.tokenize.casual import casual_tokenize\n",
      "from plyfile import PlyData\n",
      "from sklearn.decomposition import PCA\n",
      "from sklearn.decomposition import TruncatedSVD\n",
      "from sklearn.feature_extraction.text import TfidfVectorizer\n",
      "from tqdm.auto import tqdm\n",
      "from watermark import watermark\n"
     ]
    }
   ],
   "source": [
    "!isort setup/chp04_4.4_imports.py --sl\n",
    "!cat setup/chp04_4.4_imports.py"
   ]
  },
  {
   "cell_type": "code",
   "execution_count": 9,
   "id": "b8371a67-5f08-49e8-9c43-4d4e7613654c",
   "metadata": {
    "colab": {
     "base_uri": "https://localhost:8080/"
    },
    "id": "b8371a67-5f08-49e8-9c43-4d4e7613654c",
    "outputId": "f30a4048-681a-468d-830d-bbcaa40d65cf"
   },
   "outputs": [],
   "source": [
    "import locale\n",
    "import os\n",
    "import pprint\n",
    "import random\n",
    "import warnings\n",
    "\n",
    "import matplotlib.pyplot as plt\n",
    "import numpy as np\n",
    "import pandas as pd\n",
    "import seaborn as sns\n",
    "from matplotlib import pyplot as plt\n",
    "from nltk.tokenize import casual_tokenize\n",
    "from nltk.tokenize.casual import casual_tokenize\n",
    "from plyfile import PlyData\n",
    "from sklearn.decomposition import PCA\n",
    "from sklearn.decomposition import TruncatedSVD\n",
    "from sklearn.feature_extraction.text import TfidfVectorizer\n",
    "from tqdm.auto import tqdm\n",
    "from watermark import watermark"
   ]
  },
  {
   "cell_type": "code",
   "execution_count": 9,
   "id": "8704e77a-43ea-48ea-9ba3-ce84b66c36f4",
   "metadata": {
    "colab": {
     "base_uri": "https://localhost:8080/"
    },
    "id": "8704e77a-43ea-48ea-9ba3-ce84b66c36f4",
    "outputId": "ff17e01c-0f45-4baf-9b77-dedbc17c968c"
   },
   "outputs": [
    {
     "name": "stdout",
     "output_type": "stream",
     "text": [
      "Python implementation: CPython\n",
      "Python version       : 3.8.12\n",
      "IPython version      : 7.34.0\n",
      "\n",
      "Compiler    : Clang 13.0.0 (clang-1300.0.29.3)\n",
      "OS          : Darwin\n",
      "Release     : 21.6.0\n",
      "Machine     : x86_64\n",
      "Processor   : i386\n",
      "CPU cores   : 4\n",
      "Architecture: 64bit\n",
      "\n",
      "pandas    : 1.5.3\n",
      "seaborn   : 0.12.1\n",
      "sys       : 3.8.12 (default, Dec 13 2021, 20:17:08) \n",
      "[Clang 13.0.0 (clang-1300.0.29.3)]\n",
      "matplotlib: 3.6.2\n",
      "numpy     : 1.23.5\n",
      "\n"
     ]
    }
   ],
   "source": [
    "def HR():\n",
    "    print(\"-\"*40)\n",
    "    \n",
    "def getpreferredencoding(do_setlocale = True):\n",
    "    return \"UTF-8\"\n",
    "\n",
    "locale.getpreferredencoding = getpreferredencoding\n",
    "warnings.filterwarnings('ignore')\n",
    "np.seterr(invalid='warn')\n",
    "sns.set_style(\"darkgrid\")\n",
    "tqdm.pandas(desc=\"progress-bar\")\n",
    "pp = pprint.PrettyPrinter(indent=4)\n",
    "random.seed(42)\n",
    "np.random.seed(42)\n",
    "\n",
    "print(watermark(iversions=True,globals_=globals(),python=True,machine=True))"
   ]
  },
  {
   "cell_type": "markdown",
   "id": "bf5fde39-a4f9-46c9-b03c-5b10bca8a36a",
   "metadata": {
    "id": "bf5fde39-a4f9-46c9-b03c-5b10bca8a36a"
   },
   "source": [
    "---\n",
    "<a name='4.4'></a><a id='4.4'></a>\n",
    "# 4.4 Principal component analysis (PCA)\n",
    "<a href=\"#top\">[back to top]</a>\n",
    "\n",
    "Problem: How can we use PCA for real-world high dimensional NLP data?\n",
    "\n",
    "Idea: Use the PCA model in sklearn-learn for latent semantic analysis, since it has some improvements to the SVD math that can improve the accuracy of the NLP pipeline."
   ]
  },
  {
   "cell_type": "markdown",
   "id": "bafd65a0-94f0-4310-809b-7c9428729973",
   "metadata": {
    "id": "bafd65a0-94f0-4310-809b-7c9428729973"
   },
   "source": [
    "<a name='4.4.1'></a><a id='4.4.1'></a>\n",
    "## 4.4.1 PCA on 3D vectors\n",
    "<a href=\"#top\">[back to top]</a>\n",
    "\n",
    "Problem: How to create a visual representation of data that has its dimensions reduced to 3D?\n",
    "\n",
    "Idea: Use sklearn.PCA\n",
    "\n",
    "Importance: sklearn.PCA (really SVD) preserves the structure and information content of vectors by maximizing the variance along the dimensions of the lower-dimensional \"shadow\" of the high-dimensional space. This captures the \"essence\" of whatever it represents. SVD maximizes the variance along each axis, and this variance represents the maximum \"information\" or \"essence\" in the data."
   ]
  },
  {
   "cell_type": "markdown",
   "id": "405e79cb-4980-426e-8026-b5f311e7c867",
   "metadata": {},
   "source": [
    "<a id='pointcloud.csv.gz'></a><a name='pointcloud.csv.gz'></a>\n",
    "### Dataset: pointcloud.csv.gz\n",
    "<a href=\"#top\">[back to top]</a>"
   ]
  },
  {
   "cell_type": "markdown",
   "id": "444b0863-7a7a-421a-852a-ef126dd75c43",
   "metadata": {},
   "source": [
    "<a name='data_pointcloud'></a><a id='data_pointcloud'></a>"
   ]
  },
  {
   "cell_type": "code",
   "execution_count": 10,
   "id": "9ebf2eda-5468-429f-a161-d949879f6f38",
   "metadata": {},
   "outputs": [
    {
     "name": "stdout",
     "output_type": "stream",
     "text": [
      "File ‘data/data_pointcloud/pointcloud.csv.gz’ already there; not retrieving.\n",
      "\n",
      "-rw-r--r--  1 gb  staff  1285927 Mar 25 11:18 data/data_pointcloud/pointcloud.csv.gz\n"
     ]
    }
   ],
   "source": [
    "data_dir = 'data/data_pointcloud'\n",
    "if not os.path.exists(data_dir):\n",
    "    os.makedirs(data_dir)\n",
    "    \n",
    "data_pointcloud = f'{data_dir}/pointcloud.csv.gz'\n",
    "!wget -P {data_dir} -nc https://github.com/totalgood/nlpia/raw/master/src/nlpia/data/pointcloud.csv.gz\n",
    "!ls -l {data_pointcloud}"
   ]
  },
  {
   "cell_type": "code",
   "execution_count": 11,
   "id": "b786e7a7-054a-4508-9907-5993004f3a21",
   "metadata": {
    "colab": {
     "base_uri": "https://localhost:8080/",
     "height": 337
    },
    "id": "b786e7a7-054a-4508-9907-5993004f3a21",
    "outputId": "7fdbea20-dbca-40ac-8a94-8b26ddc171ea"
   },
   "outputs": [
    {
     "data": {
      "image/png": "[encoded data removed]",
      "text/plain": [
       "<Figure size 640x480 with 1 Axes>"
      ]
     },
     "metadata": {},
     "output_type": "display_data"
    }
   ],
   "source": [
    "df = pd.read_csv(data_pointcloud).sample(1000)\n",
    "\n",
    "pca = PCA(n_components=2)\n",
    "\n",
    "df2d = pd.DataFrame(\n",
    "    pca.fit_transform(df), \n",
    "    columns=list('xy')\n",
    ")\n",
    "\n",
    "df2d.plot(kind='scatter', x='x', y='y')\n",
    "plt.show()"
   ]
  },
  {
   "cell_type": "markdown",
   "id": "038d97a9-7e57-47f1-94c0-3548d3c5a68d",
   "metadata": {},
   "source": [
    "<a id='horse.ply'></a><a name='horse.ply'></a>\n",
    "### Dataset: horse.ply\n",
    "<a href=\"#top\">[back to top]</a>"
   ]
  },
  {
   "cell_type": "code",
   "execution_count": 12,
   "id": "5710f33e-2b0b-48f1-bad9-a5cbc4a5af4e",
   "metadata": {
    "colab": {
     "base_uri": "https://localhost:8080/"
    },
    "id": "5710f33e-2b0b-48f1-bad9-a5cbc4a5af4e",
    "outputId": "82157828-eabd-4a5c-d9ed-0c1ce30424fc"
   },
   "outputs": [
    {
     "name": "stdout",
     "output_type": "stream",
     "text": [
      "File ‘data/data_horse/horse.ply’ already there; not retrieving.\n",
      "\n"
     ]
    },
    {
     "data": {
      "text/plain": [
       "str"
      ]
     },
     "execution_count": 12,
     "metadata": {},
     "output_type": "execute_result"
    }
   ],
   "source": [
    "data_dir = 'data/data_horse'\n",
    "if not os.path.exists(data_dir):\n",
    "    os.makedirs(data_dir)\n",
    "    \n",
    "data_horseply = f\"{data_dir}/horse.ply\"\n",
    "!wget -P {data_dir} -nc https://github.com/totalgood/nlpia/raw/master/src/nlpia/data/horse.ply\n",
    "type(data_horseply)"
   ]
  },
  {
   "cell_type": "code",
   "execution_count": 13,
   "id": "bd8000d3-a23a-4148-98a8-e8e5113c428c",
   "metadata": {
    "colab": {
     "base_uri": "https://localhost:8080/",
     "height": 665
    },
    "id": "bd8000d3-a23a-4148-98a8-e8e5113c428c",
    "outputId": "4cd37b97-90bf-4018-92ff-19cb119a933d"
   },
   "outputs": [
    {
     "data": {
      "text/html": [
       "<div>\n",
       "<style scoped>\n",
       "    .dataframe tbody tr th:only-of-type {\n",
       "        vertical-align: middle;\n",
       "    }\n",
       "\n",
       "    .dataframe tbody tr th {\n",
       "        vertical-align: top;\n",
       "    }\n",
       "\n",
       "    .dataframe thead th {\n",
       "        text-align: right;\n",
       "    }\n",
       "</style>\n",
       "<table border=\"1\" class=\"dataframe\">\n",
       "  <thead>\n",
       "    <tr style=\"text-align: right;\">\n",
       "      <th></th>\n",
       "      <th>x</th>\n",
       "      <th>y</th>\n",
       "      <th>z</th>\n",
       "    </tr>\n",
       "  </thead>\n",
       "  <tbody>\n",
       "    <tr>\n",
       "      <th>0</th>\n",
       "      <td>-0.002022</td>\n",
       "      <td>-0.040179</td>\n",
       "      <td>-0.000863</td>\n",
       "    </tr>\n",
       "    <tr>\n",
       "      <th>1</th>\n",
       "      <td>0.000403</td>\n",
       "      <td>-0.062019</td>\n",
       "      <td>-0.005498</td>\n",
       "    </tr>\n",
       "    <tr>\n",
       "      <th>2</th>\n",
       "      <td>-0.002863</td>\n",
       "      <td>-0.060056</td>\n",
       "      <td>-0.009567</td>\n",
       "    </tr>\n",
       "    <tr>\n",
       "      <th>3</th>\n",
       "      <td>-0.001945</td>\n",
       "      <td>-0.041256</td>\n",
       "      <td>-0.001349</td>\n",
       "    </tr>\n",
       "    <tr>\n",
       "      <th>4</th>\n",
       "      <td>-0.001867</td>\n",
       "      <td>-0.042348</td>\n",
       "      <td>-0.001900</td>\n",
       "    </tr>\n",
       "    <tr>\n",
       "      <th>...</th>\n",
       "      <td>...</td>\n",
       "      <td>...</td>\n",
       "      <td>...</td>\n",
       "    </tr>\n",
       "    <tr>\n",
       "      <th>48480</th>\n",
       "      <td>-0.000492</td>\n",
       "      <td>-0.051988</td>\n",
       "      <td>-0.006036</td>\n",
       "    </tr>\n",
       "    <tr>\n",
       "      <th>48481</th>\n",
       "      <td>-0.000473</td>\n",
       "      <td>-0.060511</td>\n",
       "      <td>-0.015761</td>\n",
       "    </tr>\n",
       "    <tr>\n",
       "      <th>48482</th>\n",
       "      <td>0.000096</td>\n",
       "      <td>-0.059130</td>\n",
       "      <td>-0.013502</td>\n",
       "    </tr>\n",
       "    <tr>\n",
       "      <th>48483</th>\n",
       "      <td>0.000209</td>\n",
       "      <td>-0.060391</td>\n",
       "      <td>-0.015222</td>\n",
       "    </tr>\n",
       "    <tr>\n",
       "      <th>48484</th>\n",
       "      <td>-0.006723</td>\n",
       "      <td>-0.043507</td>\n",
       "      <td>-0.000967</td>\n",
       "    </tr>\n",
       "  </tbody>\n",
       "</table>\n",
       "<p>48485 rows × 3 columns</p>\n",
       "</div>"
      ],
      "text/plain": [
       "              x         y         z\n",
       "0     -0.002022 -0.040179 -0.000863\n",
       "1      0.000403 -0.062019 -0.005498\n",
       "2     -0.002863 -0.060056 -0.009567\n",
       "3     -0.001945 -0.041256 -0.001349\n",
       "4     -0.001867 -0.042348 -0.001900\n",
       "...         ...       ...       ...\n",
       "48480 -0.000492 -0.051988 -0.006036\n",
       "48481 -0.000473 -0.060511 -0.015761\n",
       "48482  0.000096 -0.059130 -0.013502\n",
       "48483  0.000209 -0.060391 -0.015222\n",
       "48484 -0.006723 -0.043507 -0.000967\n",
       "\n",
       "[48485 rows x 3 columns]"
      ]
     },
     "execution_count": 13,
     "metadata": {},
     "output_type": "execute_result"
    },
    {
     "data": {
      "image/png": "[encoded data removed]",
      "text/plain": [
       "<Figure size 640x480 with 1 Axes>"
      ]
     },
     "metadata": {},
     "output_type": "display_data"
    }
   ],
   "source": [
    "# from horse_plot.py\n",
    "# plydata is a library that provides a grammar for data manipulation.\n",
    "def ply_df(plyfile=data_horseply):\n",
    "    horse = PlyData.read(plyfile)\n",
    "    points = np.array(horse.elements[0].data)\n",
    "    points = np.array([row.tolist() for row in points])\n",
    "    df = pd.DataFrame(points[:, :3], columns='x y z'.split())\n",
    "    return df\n",
    "\n",
    "def plot_ply(plyfile=data_horseply):\n",
    "    h = pd.read_csv(data_pointcloud, header=0, index_col=0)\n",
    "    h = pd.DataFrame(h, columns='x y z'.split())\n",
    "    h = h.sample(1000).copy()\n",
    "\n",
    "    fig = plt.figure()\n",
    "    ax = fig.add_subplot(111, projection='3d')\n",
    "    ax.scatter(h.x, h.y, h.z, c='b', zdir='z', depthshade=True)\n",
    "\n",
    "plot_ply()\n",
    "ply_df()"
   ]
  },
  {
   "cell_type": "markdown",
   "id": "9502c49e-7f92-41cd-a085-2f6c68e96f90",
   "metadata": {
    "id": "9502c49e-7f92-41cd-a085-2f6c68e96f90"
   },
   "source": [
    "<a name='4.4.2'></a><a id='4.4.2'></a>\n",
    "## 4.4.2 Stop horsing around and get back to NLP\n",
    "<a href=\"#top\">[back to top]</a>\n",
    "\n",
    "Problem: Test how well SVD works on natural language documents. \n",
    "\n",
    "Idea: Find the principal components using SVD on 5,000 messages labeled as spam (or not). Also compare a PCA model against a truncated SVD model to see if there are any differences. The trunacated SVD model is designed to work with sparse matrices. "
   ]
  },
  {
   "cell_type": "markdown",
   "id": "3409ef4a-70e0-46d7-a81e-24347475f457",
   "metadata": {},
   "source": [
    "<a id='sms-spam.csv'></a><a name='sms-spam.csv'></a>\n",
    "### Dataset: sms-spam.csv\n",
    "<a href=\"#top\">[back to top]</a>"
   ]
  },
  {
   "cell_type": "code",
   "execution_count": 14,
   "id": "8782b476-5723-46e1-9e62-00bb230d0c6b",
   "metadata": {},
   "outputs": [
    {
     "name": "stdout",
     "output_type": "stream",
     "text": [
      "File ‘data/data_sms_spam/sms-spam.csv’ already there; not retrieving.\n",
      "\n",
      "-rw-r--r--  1 gb  staff  493232 Mar 25 11:17 data/data_sms_spam/sms-spam.csv\n"
     ]
    }
   ],
   "source": [
    "data_dir = 'data/data_sms_spam'\n",
    "if not os.path.exists(data_dir):\n",
    "    os.makedirs(data_dir)\n",
    "    \n",
    "data_sms_spam = f\"{data_dir}/sms-spam.csv\"\n",
    "!wget -P {data_dir} -nc https://github.com/totalgood/nlpia/raw/master/src/nlpia/data/sms-spam.csv\n",
    "!ls -l {data_sms_spam}"
   ]
  },
  {
   "cell_type": "code",
   "execution_count": 15,
   "id": "d01925e8-c41e-497b-96bd-849455ae2030",
   "metadata": {
    "colab": {
     "base_uri": "https://localhost:8080/",
     "height": 206
    },
    "id": "d01925e8-c41e-497b-96bd-849455ae2030",
    "outputId": "32068e5c-b920-4ff7-be5e-506649268d33"
   },
   "outputs": [
    {
     "data": {
      "text/html": [
       "<div>\n",
       "<style scoped>\n",
       "    .dataframe tbody tr th:only-of-type {\n",
       "        vertical-align: middle;\n",
       "    }\n",
       "\n",
       "    .dataframe tbody tr th {\n",
       "        vertical-align: top;\n",
       "    }\n",
       "\n",
       "    .dataframe thead th {\n",
       "        text-align: right;\n",
       "    }\n",
       "</style>\n",
       "<table border=\"1\" class=\"dataframe\">\n",
       "  <thead>\n",
       "    <tr style=\"text-align: right;\">\n",
       "      <th></th>\n",
       "      <th>spam</th>\n",
       "      <th>text</th>\n",
       "    </tr>\n",
       "  </thead>\n",
       "  <tbody>\n",
       "    <tr>\n",
       "      <th>0</th>\n",
       "      <td>0</td>\n",
       "      <td>Go until jurong point, crazy.. Available only ...</td>\n",
       "    </tr>\n",
       "    <tr>\n",
       "      <th>1</th>\n",
       "      <td>0</td>\n",
       "      <td>Ok lar... Joking wif u oni...</td>\n",
       "    </tr>\n",
       "    <tr>\n",
       "      <th>2</th>\n",
       "      <td>1</td>\n",
       "      <td>Free entry in 2 a wkly comp to win FA Cup fina...</td>\n",
       "    </tr>\n",
       "    <tr>\n",
       "      <th>3</th>\n",
       "      <td>0</td>\n",
       "      <td>U dun say so early hor... U c already then say...</td>\n",
       "    </tr>\n",
       "    <tr>\n",
       "      <th>4</th>\n",
       "      <td>0</td>\n",
       "      <td>Nah I don't think he goes to usf, he lives aro...</td>\n",
       "    </tr>\n",
       "  </tbody>\n",
       "</table>\n",
       "</div>"
      ],
      "text/plain": [
       "   spam                                               text\n",
       "0     0  Go until jurong point, crazy.. Available only ...\n",
       "1     0                      Ok lar... Joking wif u oni...\n",
       "2     1  Free entry in 2 a wkly comp to win FA Cup fina...\n",
       "3     0  U dun say so early hor... U c already then say...\n",
       "4     0  Nah I don't think he goes to usf, he lives aro..."
      ]
     },
     "execution_count": 15,
     "metadata": {},
     "output_type": "execute_result"
    }
   ],
   "source": [
    "sms_src = pd.read_csv(data_sms_spam, index_col=0)\n",
    "sms_src.head()"
   ]
  },
  {
   "cell_type": "code",
   "execution_count": 16,
   "id": "00b54688-1f19-41f7-9c95-7c2ab3187995",
   "metadata": {
    "colab": {
     "base_uri": "https://localhost:8080/",
     "height": 275
    },
    "id": "00b54688-1f19-41f7-9c95-7c2ab3187995",
    "outputId": "c525714e-0319-4cd9-9179-23cea3b48179"
   },
   "outputs": [
    {
     "name": "stdout",
     "output_type": "stream",
     "text": [
      "4837\n",
      "638\n"
     ]
    },
    {
     "data": {
      "text/html": [
       "<div>\n",
       "<style scoped>\n",
       "    .dataframe tbody tr th:only-of-type {\n",
       "        vertical-align: middle;\n",
       "    }\n",
       "\n",
       "    .dataframe tbody tr th {\n",
       "        vertical-align: top;\n",
       "    }\n",
       "\n",
       "    .dataframe thead th {\n",
       "        text-align: right;\n",
       "    }\n",
       "</style>\n",
       "<table border=\"1\" class=\"dataframe\">\n",
       "  <thead>\n",
       "    <tr style=\"text-align: right;\">\n",
       "      <th></th>\n",
       "      <th>spam</th>\n",
       "      <th>text</th>\n",
       "    </tr>\n",
       "  </thead>\n",
       "  <tbody>\n",
       "    <tr>\n",
       "      <th>sms0</th>\n",
       "      <td>0</td>\n",
       "      <td>Go until jurong point, crazy.. Available only ...</td>\n",
       "    </tr>\n",
       "    <tr>\n",
       "      <th>sms1</th>\n",
       "      <td>0</td>\n",
       "      <td>Ok lar... Joking wif u oni...</td>\n",
       "    </tr>\n",
       "    <tr>\n",
       "      <th>sms2!</th>\n",
       "      <td>1</td>\n",
       "      <td>Free entry in 2 a wkly comp to win FA Cup fina...</td>\n",
       "    </tr>\n",
       "    <tr>\n",
       "      <th>sms3</th>\n",
       "      <td>0</td>\n",
       "      <td>U dun say so early hor... U c already then say...</td>\n",
       "    </tr>\n",
       "    <tr>\n",
       "      <th>sms4</th>\n",
       "      <td>0</td>\n",
       "      <td>Nah I don't think he goes to usf, he lives aro...</td>\n",
       "    </tr>\n",
       "    <tr>\n",
       "      <th>sms5!</th>\n",
       "      <td>1</td>\n",
       "      <td>FreeMsg Hey there darling it's been 3 week's n...</td>\n",
       "    </tr>\n",
       "  </tbody>\n",
       "</table>\n",
       "</div>"
      ],
      "text/plain": [
       "       spam                                               text\n",
       "sms0      0  Go until jurong point, crazy.. Available only ...\n",
       "sms1      0                      Ok lar... Joking wif u oni...\n",
       "sms2!     1  Free entry in 2 a wkly comp to win FA Cup fina...\n",
       "sms3      0  U dun say so early hor... U c already then say...\n",
       "sms4      0  Nah I don't think he goes to usf, he lives aro...\n",
       "sms5!     1  FreeMsg Hey there darling it's been 3 week's n..."
      ]
     },
     "execution_count": 16,
     "metadata": {},
     "output_type": "execute_result"
    }
   ],
   "source": [
    "index = ['sms{}{}'.format(i, '!' * j) for (i, j) in zip(range(len(sms_src)), sms_src.spam)]\n",
    "\n",
    "sms = pd.DataFrame(\n",
    "    sms_src.values, \n",
    "    columns=sms_src.columns, \n",
    "    index=index\n",
    ")\n",
    "\n",
    "sms['spam'] = sms.spam.astype(int)\n",
    "\n",
    "print(len(sms))\n",
    "print(sms.spam.sum())\n",
    "\n",
    "sms.head(6)"
   ]
  },
  {
   "cell_type": "markdown",
   "id": "337b6536-1b1e-4ed1-bfee-10038f66e2ee",
   "metadata": {
    "id": "337b6536-1b1e-4ed1-bfee-10038f66e2ee"
   },
   "source": [
    "Calculate the TF-IDF vectors for each of these messages."
   ]
  },
  {
   "cell_type": "code",
   "execution_count": 17,
   "id": "d6734fef-faf9-4ec4-8cb6-8df726671d8a",
   "metadata": {
    "colab": {
     "base_uri": "https://localhost:8080/"
    },
    "id": "d6734fef-faf9-4ec4-8cb6-8df726671d8a",
    "outputId": "349ca503-3fac-4492-dd2a-fc89b8fff519"
   },
   "outputs": [
    {
     "name": "stdout",
     "output_type": "stream",
     "text": [
      "<class 'sklearn.feature_extraction.text.TfidfVectorizer'>\n",
      "----------------------------------------\n",
      "<class 'numpy.ndarray'>\n",
      "----------------------------------------\n",
      "9232\n"
     ]
    }
   ],
   "source": [
    "tfidf = TfidfVectorizer(tokenizer=casual_tokenize)\n",
    "print(type(tfidf))\n",
    "HR()\n",
    "\n",
    "tfidf_docs = tfidf.fit_transform(\n",
    "    raw_documents=sms.text\n",
    ").toarray()\n",
    "\n",
    "print(type(tfidf_docs))\n",
    "HR()\n",
    "print(len(tfidf.vocabulary_))"
   ]
  },
  {
   "cell_type": "code",
   "execution_count": 18,
   "id": "ab7ce70f-56ac-4d31-b70c-98559a637ffc",
   "metadata": {
    "colab": {
     "base_uri": "https://localhost:8080/"
    },
    "id": "ab7ce70f-56ac-4d31-b70c-98559a637ffc",
    "outputId": "ee8c9d6f-9687-449b-c227-5f2148347b92"
   },
   "outputs": [
    {
     "data": {
      "text/plain": [
       "(4837, 9232)"
      ]
     },
     "execution_count": 18,
     "metadata": {},
     "output_type": "execute_result"
    }
   ],
   "source": [
    "tfidf_docs = pd.DataFrame(tfidf_docs)\n",
    "tfidf_docs = tfidf_docs - tfidf_docs.mean()\n",
    "tfidf_docs.shape"
   ]
  },
  {
   "cell_type": "code",
   "execution_count": 19,
   "id": "6324df7d-9414-41d4-a291-8776780234f7",
   "metadata": {
    "colab": {
     "base_uri": "https://localhost:8080/"
    },
    "id": "6324df7d-9414-41d4-a291-8776780234f7",
    "outputId": "b62cf63f-2855-4ad0-9d93-d64d1dce00b9"
   },
   "outputs": [
    {
     "data": {
      "text/plain": [
       "638"
      ]
     },
     "execution_count": 19,
     "metadata": {},
     "output_type": "execute_result"
    }
   ],
   "source": [
    "sms.spam.sum()"
   ]
  },
  {
   "cell_type": "markdown",
   "id": "c5056452-9e87-4058-aa6f-3ecd2a63232a",
   "metadata": {
    "id": "c5056452-9e87-4058-aa6f-3ecd2a63232a"
   },
   "source": [
    "<a name='4.4.3'></a><a id='4.4.3'></a>\n",
    "## 4.4.3 Using PCA for SMS message semantic analysis\n",
    "<a href=\"#top\">[back to top]</a>\n",
    "\n",
    "Problem: Test a PCA model that is limited to dense input. \n",
    "\n",
    "Idea: Use `sklearn.decomposition.PCA` class from scikit-learn. \n",
    "\n",
    "Importance: `sklearn.decomposition.PCA` centers but does not scale the input data for each feature before applying the SVD."
   ]
  },
  {
   "cell_type": "code",
   "execution_count": 20,
   "id": "2419ceab-f987-492a-8817-31cd98a4ccf2",
   "metadata": {
    "colab": {
     "base_uri": "https://localhost:8080/",
     "height": 339
    },
    "id": "2419ceab-f987-492a-8817-31cd98a4ccf2",
    "outputId": "a853d3b0-6f62-4477-84a8-7579c5f25258"
   },
   "outputs": [
    {
     "name": "stdout",
     "output_type": "stream",
     "text": [
      "CPU times: user 6.71 s, sys: 743 ms, total: 7.45 s\n",
      "Wall time: 3.37 s\n"
     ]
    }
   ],
   "source": [
    "%%time\n",
    "pca = PCA(n_components=16)\n",
    "pca = pca.fit(tfidf_docs)\n",
    "pca_topic_vectors = pca.transform(tfidf_docs)"
   ]
  },
  {
   "cell_type": "code",
   "execution_count": 21,
   "id": "d6c13cd9-33bb-4cb8-8357-cd0d1df71a9e",
   "metadata": {},
   "outputs": [
    {
     "data": {
      "text/html": [
       "<div>\n",
       "<style scoped>\n",
       "    .dataframe tbody tr th:only-of-type {\n",
       "        vertical-align: middle;\n",
       "    }\n",
       "\n",
       "    .dataframe tbody tr th {\n",
       "        vertical-align: top;\n",
       "    }\n",
       "\n",
       "    .dataframe thead th {\n",
       "        text-align: right;\n",
       "    }\n",
       "</style>\n",
       "<table border=\"1\" class=\"dataframe\">\n",
       "  <thead>\n",
       "    <tr style=\"text-align: right;\">\n",
       "      <th></th>\n",
       "      <th>topics0</th>\n",
       "      <th>topics1</th>\n",
       "      <th>topics2</th>\n",
       "      <th>topics3</th>\n",
       "      <th>topics4</th>\n",
       "      <th>topics5</th>\n",
       "      <th>topics6</th>\n",
       "      <th>topics7</th>\n",
       "      <th>topics8</th>\n",
       "      <th>topics9</th>\n",
       "      <th>topics10</th>\n",
       "      <th>topics11</th>\n",
       "      <th>topics12</th>\n",
       "      <th>topics13</th>\n",
       "      <th>topics14</th>\n",
       "      <th>topics15</th>\n",
       "    </tr>\n",
       "  </thead>\n",
       "  <tbody>\n",
       "    <tr>\n",
       "      <th>sms0</th>\n",
       "      <td>0.201</td>\n",
       "      <td>0.003</td>\n",
       "      <td>0.037</td>\n",
       "      <td>0.011</td>\n",
       "      <td>-0.019</td>\n",
       "      <td>-0.053</td>\n",
       "      <td>0.039</td>\n",
       "      <td>-0.066</td>\n",
       "      <td>0.011</td>\n",
       "      <td>-0.085</td>\n",
       "      <td>0.005</td>\n",
       "      <td>-0.011</td>\n",
       "      <td>-0.000</td>\n",
       "      <td>-0.026</td>\n",
       "      <td>-0.020</td>\n",
       "      <td>0.045</td>\n",
       "    </tr>\n",
       "    <tr>\n",
       "      <th>sms1</th>\n",
       "      <td>0.404</td>\n",
       "      <td>-0.094</td>\n",
       "      <td>-0.078</td>\n",
       "      <td>0.051</td>\n",
       "      <td>0.100</td>\n",
       "      <td>0.047</td>\n",
       "      <td>0.023</td>\n",
       "      <td>0.065</td>\n",
       "      <td>0.025</td>\n",
       "      <td>-0.024</td>\n",
       "      <td>-0.003</td>\n",
       "      <td>0.035</td>\n",
       "      <td>0.047</td>\n",
       "      <td>-0.026</td>\n",
       "      <td>0.049</td>\n",
       "      <td>-0.043</td>\n",
       "    </tr>\n",
       "    <tr>\n",
       "      <th>sms2!</th>\n",
       "      <td>-0.030</td>\n",
       "      <td>-0.048</td>\n",
       "      <td>0.090</td>\n",
       "      <td>-0.067</td>\n",
       "      <td>0.091</td>\n",
       "      <td>-0.043</td>\n",
       "      <td>-0.000</td>\n",
       "      <td>-0.000</td>\n",
       "      <td>-0.058</td>\n",
       "      <td>0.050</td>\n",
       "      <td>0.128</td>\n",
       "      <td>0.026</td>\n",
       "      <td>0.035</td>\n",
       "      <td>-0.021</td>\n",
       "      <td>-0.053</td>\n",
       "      <td>0.051</td>\n",
       "    </tr>\n",
       "    <tr>\n",
       "      <th>sms3</th>\n",
       "      <td>0.329</td>\n",
       "      <td>-0.033</td>\n",
       "      <td>-0.035</td>\n",
       "      <td>-0.016</td>\n",
       "      <td>0.052</td>\n",
       "      <td>0.056</td>\n",
       "      <td>-0.165</td>\n",
       "      <td>-0.076</td>\n",
       "      <td>0.060</td>\n",
       "      <td>-0.109</td>\n",
       "      <td>0.019</td>\n",
       "      <td>0.014</td>\n",
       "      <td>0.074</td>\n",
       "      <td>-0.032</td>\n",
       "      <td>0.023</td>\n",
       "      <td>-0.068</td>\n",
       "    </tr>\n",
       "    <tr>\n",
       "      <th>sms4</th>\n",
       "      <td>0.002</td>\n",
       "      <td>0.031</td>\n",
       "      <td>0.038</td>\n",
       "      <td>0.034</td>\n",
       "      <td>-0.075</td>\n",
       "      <td>-0.093</td>\n",
       "      <td>-0.044</td>\n",
       "      <td>0.062</td>\n",
       "      <td>-0.044</td>\n",
       "      <td>0.028</td>\n",
       "      <td>0.028</td>\n",
       "      <td>-0.010</td>\n",
       "      <td>0.018</td>\n",
       "      <td>0.041</td>\n",
       "      <td>-0.075</td>\n",
       "      <td>-0.027</td>\n",
       "    </tr>\n",
       "    <tr>\n",
       "      <th>sms5!</th>\n",
       "      <td>-0.016</td>\n",
       "      <td>0.059</td>\n",
       "      <td>0.014</td>\n",
       "      <td>-0.006</td>\n",
       "      <td>0.122</td>\n",
       "      <td>-0.040</td>\n",
       "      <td>0.005</td>\n",
       "      <td>0.166</td>\n",
       "      <td>-0.023</td>\n",
       "      <td>0.061</td>\n",
       "      <td>0.038</td>\n",
       "      <td>0.056</td>\n",
       "      <td>-0.046</td>\n",
       "      <td>0.076</td>\n",
       "      <td>-0.000</td>\n",
       "      <td>0.034</td>\n",
       "    </tr>\n",
       "  </tbody>\n",
       "</table>\n",
       "</div>"
      ],
      "text/plain": [
       "       topics0  topics1  topics2  topics3  topics4  topics5  topics6  topics7  \\\n",
       "sms0     0.201    0.003    0.037    0.011   -0.019   -0.053    0.039   -0.066   \n",
       "sms1     0.404   -0.094   -0.078    0.051    0.100    0.047    0.023    0.065   \n",
       "sms2!   -0.030   -0.048    0.090   -0.067    0.091   -0.043   -0.000   -0.000   \n",
       "sms3     0.329   -0.033   -0.035   -0.016    0.052    0.056   -0.165   -0.076   \n",
       "sms4     0.002    0.031    0.038    0.034   -0.075   -0.093   -0.044    0.062   \n",
       "sms5!   -0.016    0.059    0.014   -0.006    0.122   -0.040    0.005    0.166   \n",
       "\n",
       "       topics8  topics9  topics10  topics11  topics12  topics13  topics14  \\\n",
       "sms0     0.011   -0.085     0.005    -0.011    -0.000    -0.026    -0.020   \n",
       "sms1     0.025   -0.024    -0.003     0.035     0.047    -0.026     0.049   \n",
       "sms2!   -0.058    0.050     0.128     0.026     0.035    -0.021    -0.053   \n",
       "sms3     0.060   -0.109     0.019     0.014     0.074    -0.032     0.023   \n",
       "sms4    -0.044    0.028     0.028    -0.010     0.018     0.041    -0.075   \n",
       "sms5!   -0.023    0.061     0.038     0.056    -0.046     0.076    -0.000   \n",
       "\n",
       "       topics15  \n",
       "sms0      0.045  \n",
       "sms1     -0.043  \n",
       "sms2!     0.051  \n",
       "sms3     -0.068  \n",
       "sms4     -0.027  \n",
       "sms5!     0.034  "
      ]
     },
     "execution_count": 21,
     "metadata": {},
     "output_type": "execute_result"
    }
   ],
   "source": [
    "columns = [\n",
    "    'topics{}'.format(i) \n",
    "    for i in range(pca.n_components)\n",
    "]\n",
    "\n",
    "pca_topic_vectors = pd.DataFrame(\n",
    "    pca_topic_vectors,\n",
    "    columns=columns,\n",
    "    index=index\n",
    ")\n",
    "pca_topic_vectors.round(3).head(6)"
   ]
  },
  {
   "cell_type": "code",
   "execution_count": 22,
   "id": "c4e71614-e0c7-46f1-b3fe-1ac0803f2668",
   "metadata": {
    "colab": {
     "base_uri": "https://localhost:8080/"
    },
    "id": "c4e71614-e0c7-46f1-b3fe-1ac0803f2668",
    "outputId": "93cc6608-0070-4c40-d91a-efa167a520e7"
   },
   "outputs": [
    {
     "name": "stdout",
     "output_type": "stream",
     "text": [
      "(16, 9232)\n",
      "----------------------------------------\n"
     ]
    },
    {
     "data": {
      "text/plain": [
       "array([[-0.07,  0.01, -0.  , ...,  0.  ,  0.  ,  0.  ],\n",
       "       [ 0.06,  0.01,  0.  , ...,  0.  ,  0.  ,  0.  ],\n",
       "       [ 0.07,  0.03,  0.  , ..., -0.  , -0.  , -0.  ],\n",
       "       [-0.06, -0.03, -0.  , ...,  0.  ,  0.  ,  0.  ],\n",
       "       [ 0.38, -0.01,  0.  , ...,  0.  ,  0.  ,  0.  ]])"
      ]
     },
     "execution_count": 22,
     "metadata": {},
     "output_type": "execute_result"
    }
   ],
   "source": [
    "# Weights of the fitted sklearn transformation\n",
    "print(pca.components_.shape)\n",
    "HR()\n",
    "pca.components_.round(2)[:5]"
   ]
  },
  {
   "cell_type": "markdown",
   "id": "73d0fdf3-6fbb-4fb4-b0c0-7ce5ddbff4a9",
   "metadata": {
    "id": "73d0fdf3-6fbb-4fb4-b0c0-7ce5ddbff4a9"
   },
   "source": [
    "Assign words to all the dimensions in the PCA transformation."
   ]
  },
  {
   "cell_type": "code",
   "execution_count": 23,
   "id": "0d5f4228-e28a-411c-927e-ecc629357792",
   "metadata": {
    "colab": {
     "base_uri": "https://localhost:8080/"
    },
    "id": "0d5f4228-e28a-411c-927e-ecc629357792",
    "outputId": "4538a883-c190-4793-dca7-92a61ec7eb6b"
   },
   "outputs": [
    {
     "name": "stdout",
     "output_type": "stream",
     "text": [
      "('go', 3807)\n",
      "('until', 8487)\n",
      "('jurong', 4675)\n",
      "('point', 6296)\n",
      "(',', 13)\n",
      "('crazy', 2549)\n",
      "('..', 21)\n"
     ]
    }
   ],
   "source": [
    "for i, x in enumerate(tfidf.vocabulary_.items()):\n",
    "    print(x)\n",
    "    if i > 5:\n",
    "        break"
   ]
  },
  {
   "cell_type": "code",
   "execution_count": 24,
   "id": "23a4dfd0-1a8b-44fb-8c89-cfa935e18804",
   "metadata": {
    "colab": {
     "base_uri": "https://localhost:8080/"
    },
    "id": "23a4dfd0-1a8b-44fb-8c89-cfa935e18804",
    "outputId": "83d77eee-ae14-4a06-ed5d-a76a9ddd23be"
   },
   "outputs": [
    {
     "data": {
      "text/plain": [
       "('!', '\"', '#', '#150', '#5000', '$', '%', '&', \"'\", '(')"
      ]
     },
     "execution_count": 24,
     "metadata": {},
     "output_type": "execute_result"
    }
   ],
   "source": [
    "column_names, terms = zip(*sorted(zip(tfidf.vocabulary_.values(), tfidf.vocabulary_.keys())))\n",
    "terms[:10]"
   ]
  },
  {
   "cell_type": "markdown",
   "id": "97773d01-8bc4-4e0a-a1ab-4498b97a64cb",
   "metadata": {
    "id": "97773d01-8bc4-4e0a-a1ab-4498b97a64cb"
   },
   "source": [
    "Create a DataFrame containing the weights, with labels for the columns and rows."
   ]
  },
  {
   "cell_type": "code",
   "execution_count": 25,
   "id": "600e3cf1-c6dc-4a02-a714-11c49c6c64e6",
   "metadata": {
    "colab": {
     "base_uri": "https://localhost:8080/",
     "height": 299
    },
    "id": "600e3cf1-c6dc-4a02-a714-11c49c6c64e6",
    "outputId": "c2bd812d-9dbb-470d-c927-976070cafba9"
   },
   "outputs": [
    {
     "data": {
      "text/html": [
       "<div>\n",
       "<style scoped>\n",
       "    .dataframe tbody tr th:only-of-type {\n",
       "        vertical-align: middle;\n",
       "    }\n",
       "\n",
       "    .dataframe tbody tr th {\n",
       "        vertical-align: top;\n",
       "    }\n",
       "\n",
       "    .dataframe thead th {\n",
       "        text-align: right;\n",
       "    }\n",
       "</style>\n",
       "<table border=\"1\" class=\"dataframe\">\n",
       "  <thead>\n",
       "    <tr style=\"text-align: right;\">\n",
       "      <th></th>\n",
       "      <th>!</th>\n",
       "      <th>\"</th>\n",
       "      <th>#</th>\n",
       "      <th>#150</th>\n",
       "      <th>#5000</th>\n",
       "      <th>$</th>\n",
       "      <th>%</th>\n",
       "      <th>&amp;</th>\n",
       "      <th>'</th>\n",
       "      <th>(</th>\n",
       "      <th>...</th>\n",
       "      <th>ü'll</th>\n",
       "      <th>–</th>\n",
       "      <th>—</th>\n",
       "      <th>‘</th>\n",
       "      <th>’</th>\n",
       "      <th>“</th>\n",
       "      <th>…</th>\n",
       "      <th>┾</th>\n",
       "      <th>〨ud</th>\n",
       "      <th>鈥</th>\n",
       "    </tr>\n",
       "  </thead>\n",
       "  <tbody>\n",
       "    <tr>\n",
       "      <th>topic0</th>\n",
       "      <td>-0.071</td>\n",
       "      <td>0.008</td>\n",
       "      <td>-0.001</td>\n",
       "      <td>-0.000</td>\n",
       "      <td>-0.001</td>\n",
       "      <td>0.003</td>\n",
       "      <td>-0.000</td>\n",
       "      <td>-0.012</td>\n",
       "      <td>-0.007</td>\n",
       "      <td>-0.005</td>\n",
       "      <td>...</td>\n",
       "      <td>0.003</td>\n",
       "      <td>-0.000</td>\n",
       "      <td>-0.0</td>\n",
       "      <td>-0.004</td>\n",
       "      <td>-0.001</td>\n",
       "      <td>-0.001</td>\n",
       "      <td>-0.002</td>\n",
       "      <td>0.001</td>\n",
       "      <td>0.001</td>\n",
       "      <td>0.001</td>\n",
       "    </tr>\n",
       "    <tr>\n",
       "      <th>topic1</th>\n",
       "      <td>0.064</td>\n",
       "      <td>0.008</td>\n",
       "      <td>0.000</td>\n",
       "      <td>-0.000</td>\n",
       "      <td>-0.001</td>\n",
       "      <td>-0.001</td>\n",
       "      <td>-0.002</td>\n",
       "      <td>-0.016</td>\n",
       "      <td>-0.016</td>\n",
       "      <td>0.001</td>\n",
       "      <td>...</td>\n",
       "      <td>0.002</td>\n",
       "      <td>0.001</td>\n",
       "      <td>-0.0</td>\n",
       "      <td>0.004</td>\n",
       "      <td>-0.001</td>\n",
       "      <td>-0.001</td>\n",
       "      <td>0.003</td>\n",
       "      <td>0.001</td>\n",
       "      <td>0.001</td>\n",
       "      <td>0.001</td>\n",
       "    </tr>\n",
       "    <tr>\n",
       "      <th>topic2</th>\n",
       "      <td>0.071</td>\n",
       "      <td>0.027</td>\n",
       "      <td>0.000</td>\n",
       "      <td>0.001</td>\n",
       "      <td>0.002</td>\n",
       "      <td>0.000</td>\n",
       "      <td>0.001</td>\n",
       "      <td>0.059</td>\n",
       "      <td>0.008</td>\n",
       "      <td>0.019</td>\n",
       "      <td>...</td>\n",
       "      <td>0.000</td>\n",
       "      <td>0.001</td>\n",
       "      <td>-0.0</td>\n",
       "      <td>0.002</td>\n",
       "      <td>0.000</td>\n",
       "      <td>0.001</td>\n",
       "      <td>0.002</td>\n",
       "      <td>-0.001</td>\n",
       "      <td>-0.001</td>\n",
       "      <td>-0.001</td>\n",
       "    </tr>\n",
       "    <tr>\n",
       "      <th>topic3</th>\n",
       "      <td>-0.059</td>\n",
       "      <td>-0.032</td>\n",
       "      <td>-0.001</td>\n",
       "      <td>-0.000</td>\n",
       "      <td>-0.001</td>\n",
       "      <td>0.001</td>\n",
       "      <td>-0.003</td>\n",
       "      <td>-0.028</td>\n",
       "      <td>0.001</td>\n",
       "      <td>-0.010</td>\n",
       "      <td>...</td>\n",
       "      <td>-0.001</td>\n",
       "      <td>-0.001</td>\n",
       "      <td>0.0</td>\n",
       "      <td>0.000</td>\n",
       "      <td>-0.000</td>\n",
       "      <td>-0.000</td>\n",
       "      <td>0.001</td>\n",
       "      <td>0.000</td>\n",
       "      <td>0.000</td>\n",
       "      <td>0.000</td>\n",
       "    </tr>\n",
       "    <tr>\n",
       "      <th>topic4</th>\n",
       "      <td>0.381</td>\n",
       "      <td>-0.009</td>\n",
       "      <td>0.001</td>\n",
       "      <td>0.001</td>\n",
       "      <td>0.004</td>\n",
       "      <td>0.003</td>\n",
       "      <td>-0.001</td>\n",
       "      <td>0.068</td>\n",
       "      <td>0.002</td>\n",
       "      <td>0.020</td>\n",
       "      <td>...</td>\n",
       "      <td>0.000</td>\n",
       "      <td>-0.000</td>\n",
       "      <td>0.0</td>\n",
       "      <td>0.000</td>\n",
       "      <td>0.001</td>\n",
       "      <td>0.001</td>\n",
       "      <td>0.002</td>\n",
       "      <td>0.001</td>\n",
       "      <td>0.001</td>\n",
       "      <td>0.001</td>\n",
       "    </tr>\n",
       "  </tbody>\n",
       "</table>\n",
       "<p>5 rows × 9232 columns</p>\n",
       "</div>"
      ],
      "text/plain": [
       "            !      \"      #   #150  #5000      $      %      &      '      (  \\\n",
       "topic0 -0.071  0.008 -0.001 -0.000 -0.001  0.003 -0.000 -0.012 -0.007 -0.005   \n",
       "topic1  0.064  0.008  0.000 -0.000 -0.001 -0.001 -0.002 -0.016 -0.016  0.001   \n",
       "topic2  0.071  0.027  0.000  0.001  0.002  0.000  0.001  0.059  0.008  0.019   \n",
       "topic3 -0.059 -0.032 -0.001 -0.000 -0.001  0.001 -0.003 -0.028  0.001 -0.010   \n",
       "topic4  0.381 -0.009  0.001  0.001  0.004  0.003 -0.001  0.068  0.002  0.020   \n",
       "\n",
       "        ...   ü'll      –    —      ‘      ’      “      …      ┾    〨ud  \\\n",
       "topic0  ...  0.003 -0.000 -0.0 -0.004 -0.001 -0.001 -0.002  0.001  0.001   \n",
       "topic1  ...  0.002  0.001 -0.0  0.004 -0.001 -0.001  0.003  0.001  0.001   \n",
       "topic2  ...  0.000  0.001 -0.0  0.002  0.000  0.001  0.002 -0.001 -0.001   \n",
       "topic3  ... -0.001 -0.001  0.0  0.000 -0.000 -0.000  0.001  0.000  0.000   \n",
       "topic4  ...  0.000 -0.000  0.0  0.000  0.001  0.001  0.002  0.001  0.001   \n",
       "\n",
       "            鈥  \n",
       "topic0  0.001  \n",
       "topic1  0.001  \n",
       "topic2 -0.001  \n",
       "topic3  0.000  \n",
       "topic4  0.001  \n",
       "\n",
       "[5 rows x 9232 columns]"
      ]
     },
     "execution_count": 25,
     "metadata": {},
     "output_type": "execute_result"
    }
   ],
   "source": [
    "weights = pd.DataFrame(\n",
    "    pca.components_, \n",
    "    columns=terms, \n",
    "    index=['topic{}'.format(i) for i in range(16)]\n",
    ")\n",
    "weights.head().round(3)"
   ]
  },
  {
   "cell_type": "code",
   "execution_count": 26,
   "id": "047301e1-82b2-4dcd-8156-686beaef61ca",
   "metadata": {
    "colab": {
     "base_uri": "https://localhost:8080/",
     "height": 551
    },
    "id": "047301e1-82b2-4dcd-8156-686beaef61ca",
    "outputId": "539c2b32-892d-47a7-ee0a-dbb1247a4843"
   },
   "outputs": [
    {
     "data": {
      "text/html": [
       "<div>\n",
       "<style scoped>\n",
       "    .dataframe tbody tr th:only-of-type {\n",
       "        vertical-align: middle;\n",
       "    }\n",
       "\n",
       "    .dataframe tbody tr th {\n",
       "        vertical-align: top;\n",
       "    }\n",
       "\n",
       "    .dataframe thead th {\n",
       "        text-align: right;\n",
       "    }\n",
       "</style>\n",
       "<table border=\"1\" class=\"dataframe\">\n",
       "  <thead>\n",
       "    <tr style=\"text-align: right;\">\n",
       "      <th></th>\n",
       "      <th>!</th>\n",
       "      <th>;)</th>\n",
       "      <th>:)</th>\n",
       "      <th>half</th>\n",
       "      <th>off</th>\n",
       "      <th>free</th>\n",
       "      <th>crazy</th>\n",
       "      <th>deal</th>\n",
       "      <th>only</th>\n",
       "      <th>$</th>\n",
       "      <th>80</th>\n",
       "      <th>%</th>\n",
       "    </tr>\n",
       "  </thead>\n",
       "  <tbody>\n",
       "    <tr>\n",
       "      <th>topic0</th>\n",
       "      <td>-7.1</td>\n",
       "      <td>0.1</td>\n",
       "      <td>-0.5</td>\n",
       "      <td>-0.0</td>\n",
       "      <td>-0.4</td>\n",
       "      <td>-2.0</td>\n",
       "      <td>-0.0</td>\n",
       "      <td>-0.1</td>\n",
       "      <td>-2.2</td>\n",
       "      <td>0.3</td>\n",
       "      <td>-0.0</td>\n",
       "      <td>-0.0</td>\n",
       "    </tr>\n",
       "    <tr>\n",
       "      <th>topic1</th>\n",
       "      <td>6.4</td>\n",
       "      <td>0.0</td>\n",
       "      <td>7.4</td>\n",
       "      <td>0.1</td>\n",
       "      <td>0.4</td>\n",
       "      <td>-2.3</td>\n",
       "      <td>-0.2</td>\n",
       "      <td>-0.1</td>\n",
       "      <td>-3.8</td>\n",
       "      <td>-0.1</td>\n",
       "      <td>-0.0</td>\n",
       "      <td>-0.2</td>\n",
       "    </tr>\n",
       "    <tr>\n",
       "      <th>topic2</th>\n",
       "      <td>7.1</td>\n",
       "      <td>0.2</td>\n",
       "      <td>-0.1</td>\n",
       "      <td>0.1</td>\n",
       "      <td>0.3</td>\n",
       "      <td>4.4</td>\n",
       "      <td>0.1</td>\n",
       "      <td>-0.1</td>\n",
       "      <td>0.7</td>\n",
       "      <td>0.0</td>\n",
       "      <td>0.0</td>\n",
       "      <td>0.1</td>\n",
       "    </tr>\n",
       "    <tr>\n",
       "      <th>topic3</th>\n",
       "      <td>-5.9</td>\n",
       "      <td>-0.3</td>\n",
       "      <td>-7.0</td>\n",
       "      <td>0.2</td>\n",
       "      <td>0.3</td>\n",
       "      <td>-0.2</td>\n",
       "      <td>0.0</td>\n",
       "      <td>0.1</td>\n",
       "      <td>-2.3</td>\n",
       "      <td>0.1</td>\n",
       "      <td>-0.1</td>\n",
       "      <td>-0.3</td>\n",
       "    </tr>\n",
       "    <tr>\n",
       "      <th>topic4</th>\n",
       "      <td>38.1</td>\n",
       "      <td>-0.1</td>\n",
       "      <td>-12.4</td>\n",
       "      <td>-0.1</td>\n",
       "      <td>-0.2</td>\n",
       "      <td>9.9</td>\n",
       "      <td>0.1</td>\n",
       "      <td>-0.2</td>\n",
       "      <td>3.0</td>\n",
       "      <td>0.3</td>\n",
       "      <td>0.1</td>\n",
       "      <td>-0.1</td>\n",
       "    </tr>\n",
       "    <tr>\n",
       "      <th>topic5</th>\n",
       "      <td>-26.4</td>\n",
       "      <td>0.1</td>\n",
       "      <td>-1.5</td>\n",
       "      <td>-0.4</td>\n",
       "      <td>-0.7</td>\n",
       "      <td>-1.4</td>\n",
       "      <td>-0.6</td>\n",
       "      <td>-0.2</td>\n",
       "      <td>-1.8</td>\n",
       "      <td>-0.9</td>\n",
       "      <td>0.0</td>\n",
       "      <td>0.0</td>\n",
       "    </tr>\n",
       "    <tr>\n",
       "      <th>topic6</th>\n",
       "      <td>-10.8</td>\n",
       "      <td>-0.5</td>\n",
       "      <td>19.9</td>\n",
       "      <td>-0.4</td>\n",
       "      <td>-0.9</td>\n",
       "      <td>-0.6</td>\n",
       "      <td>-0.2</td>\n",
       "      <td>-0.1</td>\n",
       "      <td>-1.4</td>\n",
       "      <td>-0.0</td>\n",
       "      <td>-0.0</td>\n",
       "      <td>-0.1</td>\n",
       "    </tr>\n",
       "    <tr>\n",
       "      <th>topic7</th>\n",
       "      <td>15.6</td>\n",
       "      <td>0.1</td>\n",
       "      <td>-18.2</td>\n",
       "      <td>0.8</td>\n",
       "      <td>0.8</td>\n",
       "      <td>-2.9</td>\n",
       "      <td>0.0</td>\n",
       "      <td>0.1</td>\n",
       "      <td>-1.9</td>\n",
       "      <td>-0.3</td>\n",
       "      <td>0.0</td>\n",
       "      <td>-0.1</td>\n",
       "    </tr>\n",
       "    <tr>\n",
       "      <th>topic8</th>\n",
       "      <td>34.5</td>\n",
       "      <td>0.1</td>\n",
       "      <td>4.1</td>\n",
       "      <td>-0.4</td>\n",
       "      <td>-0.5</td>\n",
       "      <td>-0.1</td>\n",
       "      <td>-0.4</td>\n",
       "      <td>-0.4</td>\n",
       "      <td>3.1</td>\n",
       "      <td>-0.6</td>\n",
       "      <td>-0.0</td>\n",
       "      <td>-0.2</td>\n",
       "    </tr>\n",
       "    <tr>\n",
       "      <th>topic9</th>\n",
       "      <td>7.6</td>\n",
       "      <td>-0.3</td>\n",
       "      <td>16.3</td>\n",
       "      <td>1.5</td>\n",
       "      <td>-0.9</td>\n",
       "      <td>6.4</td>\n",
       "      <td>-0.5</td>\n",
       "      <td>-0.4</td>\n",
       "      <td>3.2</td>\n",
       "      <td>-0.5</td>\n",
       "      <td>-0.0</td>\n",
       "      <td>-0.0</td>\n",
       "    </tr>\n",
       "    <tr>\n",
       "      <th>topic10</th>\n",
       "      <td>-32.5</td>\n",
       "      <td>-0.2</td>\n",
       "      <td>-9.7</td>\n",
       "      <td>0.2</td>\n",
       "      <td>0.1</td>\n",
       "      <td>12.9</td>\n",
       "      <td>0.1</td>\n",
       "      <td>0.0</td>\n",
       "      <td>0.2</td>\n",
       "      <td>-0.1</td>\n",
       "      <td>-0.0</td>\n",
       "      <td>-0.2</td>\n",
       "    </tr>\n",
       "    <tr>\n",
       "      <th>topic11</th>\n",
       "      <td>22.5</td>\n",
       "      <td>0.4</td>\n",
       "      <td>29.6</td>\n",
       "      <td>0.4</td>\n",
       "      <td>1.4</td>\n",
       "      <td>-4.0</td>\n",
       "      <td>0.1</td>\n",
       "      <td>0.1</td>\n",
       "      <td>-0.2</td>\n",
       "      <td>-0.4</td>\n",
       "      <td>0.0</td>\n",
       "      <td>-0.3</td>\n",
       "    </tr>\n",
       "    <tr>\n",
       "      <th>topic12</th>\n",
       "      <td>-25.4</td>\n",
       "      <td>-0.2</td>\n",
       "      <td>39.0</td>\n",
       "      <td>-0.0</td>\n",
       "      <td>0.2</td>\n",
       "      <td>-2.6</td>\n",
       "      <td>-0.5</td>\n",
       "      <td>0.1</td>\n",
       "      <td>3.2</td>\n",
       "      <td>0.4</td>\n",
       "      <td>0.0</td>\n",
       "      <td>0.4</td>\n",
       "    </tr>\n",
       "    <tr>\n",
       "      <th>topic13</th>\n",
       "      <td>14.3</td>\n",
       "      <td>-0.3</td>\n",
       "      <td>29.8</td>\n",
       "      <td>-0.6</td>\n",
       "      <td>0.6</td>\n",
       "      <td>4.4</td>\n",
       "      <td>0.3</td>\n",
       "      <td>0.1</td>\n",
       "      <td>-2.2</td>\n",
       "      <td>-0.3</td>\n",
       "      <td>0.0</td>\n",
       "      <td>-0.2</td>\n",
       "    </tr>\n",
       "    <tr>\n",
       "      <th>topic14</th>\n",
       "      <td>0.7</td>\n",
       "      <td>-0.0</td>\n",
       "      <td>16.5</td>\n",
       "      <td>-0.3</td>\n",
       "      <td>-0.8</td>\n",
       "      <td>5.3</td>\n",
       "      <td>0.2</td>\n",
       "      <td>-0.1</td>\n",
       "      <td>3.8</td>\n",
       "      <td>-0.1</td>\n",
       "      <td>0.1</td>\n",
       "      <td>-0.6</td>\n",
       "    </tr>\n",
       "    <tr>\n",
       "      <th>topic15</th>\n",
       "      <td>5.2</td>\n",
       "      <td>-0.6</td>\n",
       "      <td>-1.9</td>\n",
       "      <td>-0.3</td>\n",
       "      <td>-1.6</td>\n",
       "      <td>-3.4</td>\n",
       "      <td>-0.6</td>\n",
       "      <td>0.5</td>\n",
       "      <td>2.0</td>\n",
       "      <td>-0.6</td>\n",
       "      <td>0.1</td>\n",
       "      <td>-0.3</td>\n",
       "    </tr>\n",
       "  </tbody>\n",
       "</table>\n",
       "</div>"
      ],
      "text/plain": [
       "            !   ;)    :)  half  off  free  crazy  deal  only    $   80    %\n",
       "topic0   -7.1  0.1  -0.5  -0.0 -0.4  -2.0   -0.0  -0.1  -2.2  0.3 -0.0 -0.0\n",
       "topic1    6.4  0.0   7.4   0.1  0.4  -2.3   -0.2  -0.1  -3.8 -0.1 -0.0 -0.2\n",
       "topic2    7.1  0.2  -0.1   0.1  0.3   4.4    0.1  -0.1   0.7  0.0  0.0  0.1\n",
       "topic3   -5.9 -0.3  -7.0   0.2  0.3  -0.2    0.0   0.1  -2.3  0.1 -0.1 -0.3\n",
       "topic4   38.1 -0.1 -12.4  -0.1 -0.2   9.9    0.1  -0.2   3.0  0.3  0.1 -0.1\n",
       "topic5  -26.4  0.1  -1.5  -0.4 -0.7  -1.4   -0.6  -0.2  -1.8 -0.9  0.0  0.0\n",
       "topic6  -10.8 -0.5  19.9  -0.4 -0.9  -0.6   -0.2  -0.1  -1.4 -0.0 -0.0 -0.1\n",
       "topic7   15.6  0.1 -18.2   0.8  0.8  -2.9    0.0   0.1  -1.9 -0.3  0.0 -0.1\n",
       "topic8   34.5  0.1   4.1  -0.4 -0.5  -0.1   -0.4  -0.4   3.1 -0.6 -0.0 -0.2\n",
       "topic9    7.6 -0.3  16.3   1.5 -0.9   6.4   -0.5  -0.4   3.2 -0.5 -0.0 -0.0\n",
       "topic10 -32.5 -0.2  -9.7   0.2  0.1  12.9    0.1   0.0   0.2 -0.1 -0.0 -0.2\n",
       "topic11  22.5  0.4  29.6   0.4  1.4  -4.0    0.1   0.1  -0.2 -0.4  0.0 -0.3\n",
       "topic12 -25.4 -0.2  39.0  -0.0  0.2  -2.6   -0.5   0.1   3.2  0.4  0.0  0.4\n",
       "topic13  14.3 -0.3  29.8  -0.6  0.6   4.4    0.3   0.1  -2.2 -0.3  0.0 -0.2\n",
       "topic14   0.7 -0.0  16.5  -0.3 -0.8   5.3    0.2  -0.1   3.8 -0.1  0.1 -0.6\n",
       "topic15   5.2 -0.6  -1.9  -0.3 -1.6  -3.4   -0.6   0.5   2.0 -0.6  0.1 -0.3"
      ]
     },
     "execution_count": 26,
     "metadata": {},
     "output_type": "execute_result"
    }
   ],
   "source": [
    "pd.options.display.max_columns = 12\n",
    "deals = weights['! ;) :) half off free crazy deal only $ 80 %'.split()].round(3) * 100\n",
    "deals"
   ]
  },
  {
   "cell_type": "code",
   "execution_count": 27,
   "id": "eb21c979-05be-4dbd-ade0-74f05f5e2e07",
   "metadata": {
    "colab": {
     "base_uri": "https://localhost:8080/"
    },
    "id": "eb21c979-05be-4dbd-ade0-74f05f5e2e07",
    "outputId": "bb332680-37fa-45e6-fcc5-40ad95edcbf0"
   },
   "outputs": [
    {
     "data": {
      "text/plain": [
       "topic0    -11.9\n",
       "topic1      7.6\n",
       "topic2     12.8\n",
       "topic3    -15.4\n",
       "topic4     38.4\n",
       "topic5    -33.8\n",
       "topic6      4.9\n",
       "topic7     -6.0\n",
       "topic8     39.2\n",
       "topic9     32.4\n",
       "topic10   -29.2\n",
       "topic11    49.6\n",
       "topic12    14.6\n",
       "topic13    45.9\n",
       "topic14    24.7\n",
       "topic15    -1.5\n",
       "dtype: float64"
      ]
     },
     "execution_count": 27,
     "metadata": {},
     "output_type": "execute_result"
    }
   ],
   "source": [
    "deals.T.sum()"
   ]
  },
  {
   "cell_type": "markdown",
   "id": "2c63de97-cd25-4712-ab9e-ba8150f10a98",
   "metadata": {
    "id": "2c63de97-cd25-4712-ab9e-ba8150f10a98"
   },
   "source": [
    "<a name='4.4.4'></a><a id='4.4.4'></a>\n",
    "## 4.4.4 Using truncated SVD for SMS message semantic analysis\n",
    "<a href=\"#top\">[back to top]</a>\n",
    "\n",
    "Problem: Test a transformer that can work with large sparse matrices efficiently.\n",
    "\n",
    "Idea: Use sklearn.decomposition.TruncatedSVD model.\n",
    "\n",
    "Importance: This transformer performs linear dimensionality reduction via truncated SVD. As opposed to PCA, this estimator does not center the data before computing the singular value decomposition. This means it can work with sparse matrices efficiently."
   ]
  },
  {
   "cell_type": "code",
   "execution_count": 28,
   "id": "0a385de7-f1a5-4d87-a7a4-fdc1d46361b6",
   "metadata": {
    "id": "0a385de7-f1a5-4d87-a7a4-fdc1d46361b6"
   },
   "outputs": [
    {
     "data": {
      "text/plain": [
       "{'algorithm': 'randomized',\n",
       " 'n_components': 16,\n",
       " 'n_iter': 100,\n",
       " 'n_oversamples': 10,\n",
       " 'power_iteration_normalizer': 'auto',\n",
       " 'random_state': None,\n",
       " 'tol': 0.0}"
      ]
     },
     "execution_count": 28,
     "metadata": {},
     "output_type": "execute_result"
    }
   ],
   "source": [
    "svd = TruncatedSVD(n_components=16, n_iter=100)\n",
    "svd.__dict__"
   ]
  },
  {
   "cell_type": "code",
   "execution_count": 29,
   "id": "a4b8dd8e-8eca-4af1-b192-21017f7461f9",
   "metadata": {
    "colab": {
     "base_uri": "https://localhost:8080/"
    },
    "id": "a4b8dd8e-8eca-4af1-b192-21017f7461f9",
    "outputId": "44bbea9a-f6ce-4948-897a-a24538f05144"
   },
   "outputs": [
    {
     "name": "stdout",
     "output_type": "stream",
     "text": [
      "CPU times: user 1min 13s, sys: 4.71 s, total: 1min 18s\n",
      "Wall time: 35.4 s\n"
     ]
    }
   ],
   "source": [
    "%%time\n",
    "svd_topic_vectors = svd.fit_transform(tfidf_docs.values)"
   ]
  },
  {
   "cell_type": "code",
   "execution_count": 30,
   "id": "5722ebff-dbca-49f1-97dd-9836f4d7042d",
   "metadata": {},
   "outputs": [
    {
     "data": {
      "text/plain": [
       "{'algorithm': 'randomized',\n",
       " 'n_components': 16,\n",
       " 'n_iter': 100,\n",
       " 'n_oversamples': 10,\n",
       " 'power_iteration_normalizer': 'auto',\n",
       " 'random_state': None,\n",
       " 'tol': 0.0,\n",
       " 'n_features_in_': 9232,\n",
       " 'components_': array([[-7.11100267e-02,  8.18303798e-03, -1.21149493e-03, ...,\n",
       "          5.71862277e-04,  5.71862277e-04,  5.71862277e-04],\n",
       "        [ 6.35131655e-02,  7.60675909e-03,  2.67217795e-04, ...,\n",
       "          1.02166270e-03,  1.02166270e-03,  1.02166270e-03],\n",
       "        [ 7.07958542e-02,  2.68823196e-02,  1.33292611e-04, ...,\n",
       "         -9.53245383e-04, -9.53245383e-04, -9.53245383e-04],\n",
       "        ...,\n",
       "        [ 1.36639653e-01, -3.87606089e-02,  2.68147360e-03, ...,\n",
       "          3.28271236e-04,  3.28271236e-04,  3.28271236e-04],\n",
       "        [-1.99163745e-02, -9.36580667e-04,  6.95620884e-04, ...,\n",
       "          5.65316290e-04,  5.65316290e-04,  5.65316290e-04],\n",
       "        [-1.16434485e-02, -3.32933231e-02,  1.52927081e-04, ...,\n",
       "         -7.91270178e-04, -7.91270178e-04, -7.91270178e-04]]),\n",
       " 'explained_variance_': array([0.01175655, 0.00886966, 0.00875484, 0.00814228, 0.00700616,\n",
       "        0.00674424, 0.00627883, 0.00533796, 0.00523479, 0.00505132,\n",
       "        0.00477392, 0.00428069, 0.00413717, 0.00410876, 0.00401513,\n",
       "        0.0038891 ]),\n",
       " 'explained_variance_ratio_': array([0.01209829, 0.00912749, 0.00900933, 0.00837896, 0.00720983,\n",
       "        0.00694029, 0.00646135, 0.00549313, 0.00538696, 0.00519816,\n",
       "        0.00491269, 0.00440513, 0.00425744, 0.00422819, 0.00413185,\n",
       "        0.00400215]),\n",
       " 'singular_values_': array([7.54098215, 6.55000356, 6.50746831, 6.2756829 , 5.82141036,\n",
       "        5.71155955, 5.510963  , 5.08131045, 5.03196584, 4.94299913,\n",
       "        4.80535528, 4.55035291, 4.47342254, 4.45803287, 4.40694934,\n",
       "        4.33722943])}"
      ]
     },
     "execution_count": 30,
     "metadata": {},
     "output_type": "execute_result"
    }
   ],
   "source": [
    "svd.__dict__"
   ]
  },
  {
   "cell_type": "code",
   "execution_count": 31,
   "id": "2e6e8c11-33f7-4463-8a31-03de299ca045",
   "metadata": {},
   "outputs": [
    {
     "data": {
      "text/plain": [
       "numpy.ndarray"
      ]
     },
     "execution_count": 31,
     "metadata": {},
     "output_type": "execute_result"
    }
   ],
   "source": [
    "type(svd_topic_vectors)"
   ]
  },
  {
   "cell_type": "code",
   "execution_count": 32,
   "id": "f58e4b6b-ea14-4dd4-8627-a9da97f91d94",
   "metadata": {
    "colab": {
     "base_uri": "https://localhost:8080/",
     "height": 311
    },
    "id": "f58e4b6b-ea14-4dd4-8627-a9da97f91d94",
    "outputId": "96d68a76-e330-46ca-f032-8255c8254567"
   },
   "outputs": [
    {
     "data": {
      "text/html": [
       "<div>\n",
       "<style scoped>\n",
       "    .dataframe tbody tr th:only-of-type {\n",
       "        vertical-align: middle;\n",
       "    }\n",
       "\n",
       "    .dataframe tbody tr th {\n",
       "        vertical-align: top;\n",
       "    }\n",
       "\n",
       "    .dataframe thead th {\n",
       "        text-align: right;\n",
       "    }\n",
       "</style>\n",
       "<table border=\"1\" class=\"dataframe\">\n",
       "  <thead>\n",
       "    <tr style=\"text-align: right;\">\n",
       "      <th></th>\n",
       "      <th>topics0</th>\n",
       "      <th>topics1</th>\n",
       "      <th>topics2</th>\n",
       "      <th>topics3</th>\n",
       "      <th>topics4</th>\n",
       "      <th>topics5</th>\n",
       "      <th>...</th>\n",
       "      <th>topics10</th>\n",
       "      <th>topics11</th>\n",
       "      <th>topics12</th>\n",
       "      <th>topics13</th>\n",
       "      <th>topics14</th>\n",
       "      <th>topics15</th>\n",
       "    </tr>\n",
       "  </thead>\n",
       "  <tbody>\n",
       "    <tr>\n",
       "      <th>sms0</th>\n",
       "      <td>0.201</td>\n",
       "      <td>0.003</td>\n",
       "      <td>0.037</td>\n",
       "      <td>0.011</td>\n",
       "      <td>-0.019</td>\n",
       "      <td>-0.053</td>\n",
       "      <td>...</td>\n",
       "      <td>0.007</td>\n",
       "      <td>-0.007</td>\n",
       "      <td>0.002</td>\n",
       "      <td>-0.036</td>\n",
       "      <td>-0.014</td>\n",
       "      <td>0.037</td>\n",
       "    </tr>\n",
       "    <tr>\n",
       "      <th>sms1</th>\n",
       "      <td>0.404</td>\n",
       "      <td>-0.094</td>\n",
       "      <td>-0.078</td>\n",
       "      <td>0.051</td>\n",
       "      <td>0.100</td>\n",
       "      <td>0.047</td>\n",
       "      <td>...</td>\n",
       "      <td>-0.004</td>\n",
       "      <td>0.036</td>\n",
       "      <td>0.043</td>\n",
       "      <td>-0.021</td>\n",
       "      <td>0.051</td>\n",
       "      <td>-0.042</td>\n",
       "    </tr>\n",
       "    <tr>\n",
       "      <th>sms2!</th>\n",
       "      <td>-0.030</td>\n",
       "      <td>-0.048</td>\n",
       "      <td>0.090</td>\n",
       "      <td>-0.067</td>\n",
       "      <td>0.091</td>\n",
       "      <td>-0.043</td>\n",
       "      <td>...</td>\n",
       "      <td>0.125</td>\n",
       "      <td>0.023</td>\n",
       "      <td>0.026</td>\n",
       "      <td>-0.020</td>\n",
       "      <td>-0.042</td>\n",
       "      <td>0.052</td>\n",
       "    </tr>\n",
       "    <tr>\n",
       "      <th>sms3</th>\n",
       "      <td>0.329</td>\n",
       "      <td>-0.033</td>\n",
       "      <td>-0.035</td>\n",
       "      <td>-0.016</td>\n",
       "      <td>0.052</td>\n",
       "      <td>0.056</td>\n",
       "      <td>...</td>\n",
       "      <td>0.022</td>\n",
       "      <td>0.023</td>\n",
       "      <td>0.073</td>\n",
       "      <td>-0.046</td>\n",
       "      <td>0.022</td>\n",
       "      <td>-0.070</td>\n",
       "    </tr>\n",
       "    <tr>\n",
       "      <th>sms4</th>\n",
       "      <td>0.002</td>\n",
       "      <td>0.031</td>\n",
       "      <td>0.038</td>\n",
       "      <td>0.034</td>\n",
       "      <td>-0.075</td>\n",
       "      <td>-0.093</td>\n",
       "      <td>...</td>\n",
       "      <td>0.028</td>\n",
       "      <td>-0.009</td>\n",
       "      <td>0.027</td>\n",
       "      <td>0.034</td>\n",
       "      <td>-0.083</td>\n",
       "      <td>-0.021</td>\n",
       "    </tr>\n",
       "    <tr>\n",
       "      <th>sms5!</th>\n",
       "      <td>-0.016</td>\n",
       "      <td>0.059</td>\n",
       "      <td>0.014</td>\n",
       "      <td>-0.006</td>\n",
       "      <td>0.122</td>\n",
       "      <td>-0.040</td>\n",
       "      <td>...</td>\n",
       "      <td>0.041</td>\n",
       "      <td>0.055</td>\n",
       "      <td>-0.037</td>\n",
       "      <td>0.075</td>\n",
       "      <td>-0.001</td>\n",
       "      <td>0.020</td>\n",
       "    </tr>\n",
       "  </tbody>\n",
       "</table>\n",
       "<p>6 rows × 16 columns</p>\n",
       "</div>"
      ],
      "text/plain": [
       "       topics0  topics1  topics2  topics3  topics4  topics5  ...  topics10  \\\n",
       "sms0     0.201    0.003    0.037    0.011   -0.019   -0.053  ...     0.007   \n",
       "sms1     0.404   -0.094   -0.078    0.051    0.100    0.047  ...    -0.004   \n",
       "sms2!   -0.030   -0.048    0.090   -0.067    0.091   -0.043  ...     0.125   \n",
       "sms3     0.329   -0.033   -0.035   -0.016    0.052    0.056  ...     0.022   \n",
       "sms4     0.002    0.031    0.038    0.034   -0.075   -0.093  ...     0.028   \n",
       "sms5!   -0.016    0.059    0.014   -0.006    0.122   -0.040  ...     0.041   \n",
       "\n",
       "       topics11  topics12  topics13  topics14  topics15  \n",
       "sms0     -0.007     0.002    -0.036    -0.014     0.037  \n",
       "sms1      0.036     0.043    -0.021     0.051    -0.042  \n",
       "sms2!     0.023     0.026    -0.020    -0.042     0.052  \n",
       "sms3      0.023     0.073    -0.046     0.022    -0.070  \n",
       "sms4     -0.009     0.027     0.034    -0.083    -0.021  \n",
       "sms5!     0.055    -0.037     0.075    -0.001     0.020  \n",
       "\n",
       "[6 rows x 16 columns]"
      ]
     },
     "execution_count": 32,
     "metadata": {},
     "output_type": "execute_result"
    }
   ],
   "source": [
    "svd_topic_vectors = pd.DataFrame(\n",
    "    svd_topic_vectors,\n",
    "    columns=columns,\n",
    "    index=index\n",
    ")\n",
    "svd_topic_vectors.round(3).head(6)"
   ]
  },
  {
   "cell_type": "markdown",
   "id": "511e7853-6fd7-49fe-b062-496eddb040ae",
   "metadata": {
    "id": "511e7853-6fd7-49fe-b062-496eddb040ae"
   },
   "source": [
    "<a name='4.4.5'></a><a id='4.4.5'></a>\n",
    "## 4.4.5 How well does LSA work for spam classification?\n",
    "<a href=\"#top\">[back to top]</a>\n",
    "\n",
    "Problem: Find out how well a vector space model works for classification.\n",
    "\n",
    "Idea: Examine how cosine similarities between vectors (eg corresponding pairs of documents) correlate with membership in the same class. We should see a larger positive cosine simmilarity (dot product) between any spam message."
   ]
  },
  {
   "cell_type": "code",
   "execution_count": 33,
   "id": "e0c002da-f09d-49de-981c-dffc9b091ae2",
   "metadata": {
    "colab": {
     "base_uri": "https://localhost:8080/",
     "height": 363
    },
    "id": "e0c002da-f09d-49de-981c-dffc9b091ae2",
    "outputId": "afea8ea1-0d55-455d-93b1-667880f2589a"
   },
   "outputs": [
    {
     "data": {
      "text/html": [
       "<div>\n",
       "<style scoped>\n",
       "    .dataframe tbody tr th:only-of-type {\n",
       "        vertical-align: middle;\n",
       "    }\n",
       "\n",
       "    .dataframe tbody tr th {\n",
       "        vertical-align: top;\n",
       "    }\n",
       "\n",
       "    .dataframe thead th {\n",
       "        text-align: right;\n",
       "    }\n",
       "</style>\n",
       "<table border=\"1\" class=\"dataframe\">\n",
       "  <thead>\n",
       "    <tr style=\"text-align: right;\">\n",
       "      <th></th>\n",
       "      <th>sms0</th>\n",
       "      <th>sms1</th>\n",
       "      <th>sms2!</th>\n",
       "      <th>sms3</th>\n",
       "      <th>sms4</th>\n",
       "      <th>sms5!</th>\n",
       "      <th>sms6</th>\n",
       "      <th>sms7</th>\n",
       "      <th>sms8!</th>\n",
       "      <th>sms9!</th>\n",
       "    </tr>\n",
       "  </thead>\n",
       "  <tbody>\n",
       "    <tr>\n",
       "      <th>sms0</th>\n",
       "      <td>1.0</td>\n",
       "      <td>0.6</td>\n",
       "      <td>-0.1</td>\n",
       "      <td>0.6</td>\n",
       "      <td>-0.0</td>\n",
       "      <td>-0.3</td>\n",
       "      <td>-0.3</td>\n",
       "      <td>-0.1</td>\n",
       "      <td>-0.3</td>\n",
       "      <td>-0.3</td>\n",
       "    </tr>\n",
       "    <tr>\n",
       "      <th>sms1</th>\n",
       "      <td>0.6</td>\n",
       "      <td>1.0</td>\n",
       "      <td>-0.2</td>\n",
       "      <td>0.8</td>\n",
       "      <td>-0.2</td>\n",
       "      <td>0.0</td>\n",
       "      <td>-0.2</td>\n",
       "      <td>-0.2</td>\n",
       "      <td>-0.1</td>\n",
       "      <td>-0.1</td>\n",
       "    </tr>\n",
       "    <tr>\n",
       "      <th>sms2!</th>\n",
       "      <td>-0.1</td>\n",
       "      <td>-0.2</td>\n",
       "      <td>1.0</td>\n",
       "      <td>-0.2</td>\n",
       "      <td>0.1</td>\n",
       "      <td>0.4</td>\n",
       "      <td>0.0</td>\n",
       "      <td>0.3</td>\n",
       "      <td>0.5</td>\n",
       "      <td>0.4</td>\n",
       "    </tr>\n",
       "    <tr>\n",
       "      <th>sms3</th>\n",
       "      <td>0.6</td>\n",
       "      <td>0.8</td>\n",
       "      <td>-0.2</td>\n",
       "      <td>1.0</td>\n",
       "      <td>-0.2</td>\n",
       "      <td>-0.3</td>\n",
       "      <td>-0.1</td>\n",
       "      <td>-0.3</td>\n",
       "      <td>-0.2</td>\n",
       "      <td>-0.1</td>\n",
       "    </tr>\n",
       "    <tr>\n",
       "      <th>sms4</th>\n",
       "      <td>-0.0</td>\n",
       "      <td>-0.2</td>\n",
       "      <td>0.1</td>\n",
       "      <td>-0.2</td>\n",
       "      <td>1.0</td>\n",
       "      <td>0.2</td>\n",
       "      <td>0.0</td>\n",
       "      <td>0.1</td>\n",
       "      <td>-0.4</td>\n",
       "      <td>-0.2</td>\n",
       "    </tr>\n",
       "    <tr>\n",
       "      <th>sms5!</th>\n",
       "      <td>-0.3</td>\n",
       "      <td>0.0</td>\n",
       "      <td>0.4</td>\n",
       "      <td>-0.3</td>\n",
       "      <td>0.2</td>\n",
       "      <td>1.0</td>\n",
       "      <td>-0.1</td>\n",
       "      <td>0.1</td>\n",
       "      <td>0.3</td>\n",
       "      <td>0.4</td>\n",
       "    </tr>\n",
       "    <tr>\n",
       "      <th>sms6</th>\n",
       "      <td>-0.3</td>\n",
       "      <td>-0.2</td>\n",
       "      <td>0.0</td>\n",
       "      <td>-0.1</td>\n",
       "      <td>0.0</td>\n",
       "      <td>-0.1</td>\n",
       "      <td>1.0</td>\n",
       "      <td>0.1</td>\n",
       "      <td>-0.2</td>\n",
       "      <td>-0.2</td>\n",
       "    </tr>\n",
       "    <tr>\n",
       "      <th>sms7</th>\n",
       "      <td>-0.1</td>\n",
       "      <td>-0.2</td>\n",
       "      <td>0.3</td>\n",
       "      <td>-0.3</td>\n",
       "      <td>0.1</td>\n",
       "      <td>0.1</td>\n",
       "      <td>0.1</td>\n",
       "      <td>1.0</td>\n",
       "      <td>0.1</td>\n",
       "      <td>0.4</td>\n",
       "    </tr>\n",
       "    <tr>\n",
       "      <th>sms8!</th>\n",
       "      <td>-0.3</td>\n",
       "      <td>-0.1</td>\n",
       "      <td>0.5</td>\n",
       "      <td>-0.2</td>\n",
       "      <td>-0.4</td>\n",
       "      <td>0.3</td>\n",
       "      <td>-0.2</td>\n",
       "      <td>0.1</td>\n",
       "      <td>1.0</td>\n",
       "      <td>0.3</td>\n",
       "    </tr>\n",
       "    <tr>\n",
       "      <th>sms9!</th>\n",
       "      <td>-0.3</td>\n",
       "      <td>-0.1</td>\n",
       "      <td>0.4</td>\n",
       "      <td>-0.1</td>\n",
       "      <td>-0.2</td>\n",
       "      <td>0.4</td>\n",
       "      <td>-0.2</td>\n",
       "      <td>0.4</td>\n",
       "      <td>0.3</td>\n",
       "      <td>1.0</td>\n",
       "    </tr>\n",
       "  </tbody>\n",
       "</table>\n",
       "</div>"
      ],
      "text/plain": [
       "       sms0  sms1  sms2!  sms3  sms4  sms5!  sms6  sms7  sms8!  sms9!\n",
       "sms0    1.0   0.6   -0.1   0.6  -0.0   -0.3  -0.3  -0.1   -0.3   -0.3\n",
       "sms1    0.6   1.0   -0.2   0.8  -0.2    0.0  -0.2  -0.2   -0.1   -0.1\n",
       "sms2!  -0.1  -0.2    1.0  -0.2   0.1    0.4   0.0   0.3    0.5    0.4\n",
       "sms3    0.6   0.8   -0.2   1.0  -0.2   -0.3  -0.1  -0.3   -0.2   -0.1\n",
       "sms4   -0.0  -0.2    0.1  -0.2   1.0    0.2   0.0   0.1   -0.4   -0.2\n",
       "sms5!  -0.3   0.0    0.4  -0.3   0.2    1.0  -0.1   0.1    0.3    0.4\n",
       "sms6   -0.3  -0.2    0.0  -0.1   0.0   -0.1   1.0   0.1   -0.2   -0.2\n",
       "sms7   -0.1  -0.2    0.3  -0.3   0.1    0.1   0.1   1.0    0.1    0.4\n",
       "sms8!  -0.3  -0.1    0.5  -0.2  -0.4    0.3  -0.2   0.1    1.0    0.3\n",
       "sms9!  -0.3  -0.1    0.4  -0.1  -0.2    0.4  -0.2   0.4    0.3    1.0"
      ]
     },
     "execution_count": 33,
     "metadata": {},
     "output_type": "execute_result"
    }
   ],
   "source": [
    "svd_topic_vectors = (svd_topic_vectors.T / np.linalg.norm(svd_topic_vectors, axis=1)).T\n",
    "svd_topic_vectors.iloc[:10].dot(svd_topic_vectors.iloc[:10].T).round(1)"
   ]
  },
  {
   "cell_type": "code",
   "execution_count": null,
   "id": "e29e2788-b9e6-447e-8b84-ecc62e80ebdc",
   "metadata": {
    "id": "e29e2788-b9e6-447e-8b84-ecc62e80ebdc"
   },
   "outputs": [],
   "source": []
  }
 ],
 "metadata": {
  "colab": {
   "provenance": []
  },
  "kernelspec": {
   "display_name": "Python 3 (ipykernel)",
   "language": "python",
   "name": "python3"
  },
  "language_info": {
   "codemirror_mode": {
    "name": "ipython",
    "version": 3
   },
   "file_extension": ".py",
   "mimetype": "text/x-python",
   "name": "python",
   "nbconvert_exporter": "python",
   "pygments_lexer": "ipython3",
   "version": "3.8.12"
  }
 },
 "nbformat": 4,
 "nbformat_minor": 5
}
