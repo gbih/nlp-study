{
 "cells": [
  {
   "cell_type": "markdown",
   "id": "29902347-2ed6-4ba3-ba7a-048963d32eb8",
   "metadata": {},
   "source": [
    "<a id='top'></a><a name='top'></a>\n",
    "# Chapter 11: Information extraction (named entity extraction and question answering)"
   ]
  },
  {
   "cell_type": "markdown",
   "id": "053a3c42-68e3-4a45-b98a-10fef024fe0f",
   "metadata": {},
   "source": [
    "* [Introduction](#introduction)\n",
    "* [11.0 Imports and Setup](#11.0)\n",
    "* [11.1 Code](#11.1)"
   ]
  },
  {
   "cell_type": "markdown",
   "id": "7f303bb3-4c7c-45d9-bab1-d9e478332c61",
   "metadata": {},
   "source": [
    "---\n",
    "<a name='introduction'></a><a id='introduction'></a>\n",
    "# Introduction\n",
    "<a href=\"#top\">[back to top]</a>\n",
    "\n",
    "### Datasets\n",
    "* No datasets\n",
    "\n",
    "\n",
    "### Explore\n",
    "\n",
    "### Key points\n"
   ]
  },
  {
   "cell_type": "markdown",
   "id": "e6f72327-8e61-4d0d-9b16-fbb85e533409",
   "metadata": {},
   "source": [
    "---\n",
    "<a name='11.0'></a><a id='11.0'></a>\n",
    "# 11.0 Imports and Setup\n",
    "<a href=\"#top\">[back to top]</a>"
   ]
  },
  {
   "cell_type": "code",
   "execution_count": 1,
   "id": "2d799b3c-8240-47cd-9c50-553f128577a4",
   "metadata": {},
   "outputs": [],
   "source": [
    "import os\n",
    "if not os.path.exists('setup'):\n",
    "    os.mkdir('setup')"
   ]
  },
  {
   "cell_type": "code",
   "execution_count": 2,
   "id": "3ae429b2-8701-4f94-a6a4-19f7e68c9aed",
   "metadata": {},
   "outputs": [],
   "source": [
    "req_file = \"setup/requirements_11.txt\""
   ]
  },
  {
   "cell_type": "code",
   "execution_count": 3,
   "id": "7511e031-4438-4624-a8f8-bb57a7941e38",
   "metadata": {},
   "outputs": [
    {
     "name": "stdout",
     "output_type": "stream",
     "text": [
      "Running locally.\n"
     ]
    }
   ],
   "source": [
    "import sys\n",
    "IS_COLAB = 'google.colab' in sys.modules\n",
    "\n",
    "if IS_COLAB:\n",
    "    print(\"Installing packages\")\n",
    "    !pip install --upgrade --quiet -r {req_file}\n",
    "else:\n",
    "    print(\"Running locally.\")"
   ]
  },
  {
   "cell_type": "code",
   "execution_count": 4,
   "id": "bf92d998-dffe-4265-8b56-a88e2146b6f5",
   "metadata": {},
   "outputs": [
    {
     "name": "stdout",
     "output_type": "stream",
     "text": [
      "Overwriting setup/chp11_imports.py\n"
     ]
    }
   ],
   "source": [
    "%%writefile setup/chp11_imports.py\n",
    "import locale\n",
    "import os\n",
    "import pprint\n",
    "import random\n",
    "import re\n",
    "import warnings\n",
    "from collections import OrderedDict\n",
    "from datetime import date\n",
    "\n",
    "import numpy as np\n",
    "import pandas as pd\n",
    "import seaborn as sns\n",
    "import spacy\n",
    "from spacy.displacy import render\n",
    "from spacy.matcher import Matcher\n",
    "from tqdm.auto import tqdm\n",
    "from watermark import watermark"
   ]
  },
  {
   "cell_type": "code",
   "execution_count": 5,
   "id": "92b1cabe-a21b-460e-982d-833654615c88",
   "metadata": {},
   "outputs": [
    {
     "name": "stdout",
     "output_type": "stream",
     "text": [
      "import locale\n",
      "import os\n",
      "import pprint\n",
      "import random\n",
      "import re\n",
      "import warnings\n",
      "from collections import OrderedDict\n",
      "from datetime import date\n",
      "\n",
      "import numpy as np\n",
      "import pandas as pd\n",
      "import seaborn as sns\n",
      "import spacy\n",
      "from spacy.displacy import render\n",
      "from spacy.matcher import Matcher\n",
      "from tqdm.auto import tqdm\n",
      "from watermark import watermark\n"
     ]
    }
   ],
   "source": [
    "!isort setup/chp11_imports.py --sl\n",
    "!cat setup/chp11_imports.py"
   ]
  },
  {
   "cell_type": "code",
   "execution_count": 6,
   "id": "9773200a-93c0-4a24-8e01-454ada0647e7",
   "metadata": {},
   "outputs": [],
   "source": [
    "import locale\n",
    "import os\n",
    "import pprint\n",
    "import random\n",
    "import re\n",
    "import warnings\n",
    "from collections import OrderedDict\n",
    "from datetime import date\n",
    "\n",
    "import numpy as np\n",
    "import pandas as pd\n",
    "import seaborn as sns\n",
    "import spacy\n",
    "from spacy.displacy import render\n",
    "from spacy.matcher import Matcher\n",
    "from tqdm.auto import tqdm\n",
    "from watermark import watermark"
   ]
  },
  {
   "cell_type": "code",
   "execution_count": 7,
   "id": "1fd94de5-6e17-443d-9f75-6367a16b4314",
   "metadata": {},
   "outputs": [
    {
     "name": "stdout",
     "output_type": "stream",
     "text": [
      "Python implementation: CPython\n",
      "Python version       : 3.8.12\n",
      "IPython version      : 7.34.0\n",
      "\n",
      "Compiler    : Clang 13.0.0 (clang-1300.0.29.3)\n",
      "OS          : Darwin\n",
      "Release     : 21.6.0\n",
      "Machine     : x86_64\n",
      "Processor   : i386\n",
      "CPU cores   : 4\n",
      "Architecture: 64bit\n",
      "\n",
      "numpy  : 1.23.5\n",
      "pandas : 1.5.3\n",
      "spacy  : 3.5.1\n",
      "sys    : 3.8.12 (default, Dec 13 2021, 20:17:08) \n",
      "[Clang 13.0.0 (clang-1300.0.29.3)]\n",
      "seaborn: 0.12.1\n",
      "re     : 2.2.1\n",
      "\n"
     ]
    }
   ],
   "source": [
    "def HR():\n",
    "    print(\"-\"*40)\n",
    "    \n",
    "def getpreferredencoding(do_setlocale = True):\n",
    "    return \"UTF-8\"\n",
    "\n",
    "locale.getpreferredencoding = getpreferredencoding\n",
    "warnings.filterwarnings('ignore')\n",
    "sns.set_style(\"darkgrid\")\n",
    "tqdm.pandas(desc=\"progress-bar\")\n",
    "pp = pprint.PrettyPrinter(indent=4)\n",
    "random.seed(42)\n",
    "np.random.seed(42)\n",
    "\n",
    "print(watermark(iversions=True,globals_=globals(),python=True,machine=True))"
   ]
  },
  {
   "cell_type": "markdown",
   "id": "49dffd8a-afc6-4b31-92dc-a0e75b5ac126",
   "metadata": {},
   "source": [
    "---\n",
    "<a name='11.1'></a><a id='11.1'></a>\n",
    "# 11.1 Named entities and relations\n",
    "<a href=\"#top\">[back to top]</a>"
   ]
  },
  {
   "cell_type": "markdown",
   "id": "007cbbee-6097-461b-ac98-d5cb71ab1b29",
   "metadata": {},
   "source": [
    "<a name='11.1.1'></a><a id='11.1.1'></a>\n",
    "## 11.1.1 A knowledge base\n",
    "<a href=\"#top\">[back to top]</a>"
   ]
  },
  {
   "cell_type": "markdown",
   "id": "a980a3c6-54b0-402d-9102-cf58d44003a7",
   "metadata": {},
   "source": [
    "<a name='11.1.2'></a><a id='11.1.2'></a>\n",
    "## 11.1.2 Information extraction\n",
    "<a href=\"#top\">[back to top]</a>"
   ]
  },
  {
   "cell_type": "markdown",
   "id": "4b198578-dcde-4d64-b870-8a1a1b0ad16c",
   "metadata": {},
   "source": [
    "---\n",
    "<a name='11.2'></a><a id='11.2'></a>\n",
    "# 11.2 Regular patterns\n",
    "<a href=\"#top\">[back to top]</a>"
   ]
  },
  {
   "cell_type": "code",
   "execution_count": 8,
   "id": "86be9f13-928c-4dc0-8e3d-78010e9f80a6",
   "metadata": {},
   "outputs": [],
   "source": [
    "# Listing 11.1 Pattern hardcoded in Python\n",
    "\"\"\" A naive way to build a Finit State Machine to extract piece of information \"\"\"\n",
    "\n",
    "def find_greeting(s):\n",
    "    \"\"\" Return the the greeting string Hi, Hello, or Yo if it occurs at the beginning of a string\"\"\"\n",
    "\n",
    "    if s[0] == 'H':\n",
    "        if s[:3] in ['Hi', 'Hi ', 'Hi,', 'Hi!']:\n",
    "            return s[:2]\n",
    "        elif s[:6] in ['Hello', 'Hello ', 'Hello,', 'Hello!']:\n",
    "            return s[:5]\n",
    "    elif s[0] == 'Y':\n",
    "        if s[1] == 'o' and s[:3] in ['Yo', 'Yo,', 'Yo ', 'Yo!']:\n",
    "            return s[:2]\n",
    "    return None"
   ]
  },
  {
   "cell_type": "code",
   "execution_count": 9,
   "id": "f9fd503e-adc6-4930-910f-2dcc33690a7a",
   "metadata": {},
   "outputs": [
    {
     "data": {
      "text/plain": [
       "'Hi'"
      ]
     },
     "execution_count": 9,
     "metadata": {},
     "output_type": "execute_result"
    }
   ],
   "source": [
    "# Listing 11.2 Brittle pattern-matching example\n",
    "find_greeting('Hi Mr. Turing!')"
   ]
  },
  {
   "cell_type": "code",
   "execution_count": 10,
   "id": "dbaddc6e-6b64-453d-b02c-52c4c6580a5c",
   "metadata": {},
   "outputs": [
    {
     "data": {
      "text/plain": [
       "'Hello'"
      ]
     },
     "execution_count": 10,
     "metadata": {},
     "output_type": "execute_result"
    }
   ],
   "source": [
    "find_greeting('Hello, Rosa.')"
   ]
  },
  {
   "cell_type": "code",
   "execution_count": 11,
   "id": "81d3970d-5086-4dd3-a3b8-7eff7a0f5f20",
   "metadata": {},
   "outputs": [
    {
     "data": {
      "text/plain": [
       "'Yo'"
      ]
     },
     "execution_count": 11,
     "metadata": {},
     "output_type": "execute_result"
    }
   ],
   "source": [
    "find_greeting(\"Yo, what's up?\")"
   ]
  },
  {
   "cell_type": "code",
   "execution_count": 12,
   "id": "5021aced-26f7-40a2-8162-48fb3845ba0d",
   "metadata": {},
   "outputs": [
    {
     "data": {
      "text/plain": [
       "'Hello'"
      ]
     },
     "execution_count": 12,
     "metadata": {},
     "output_type": "execute_result"
    }
   ],
   "source": [
    "find_greeting(\"Hello\")"
   ]
  },
  {
   "cell_type": "code",
   "execution_count": 13,
   "id": "bc930271-62aa-4002-ab7e-ee619c58013c",
   "metadata": {},
   "outputs": [
    {
     "name": "stdout",
     "output_type": "stream",
     "text": [
      "None\n"
     ]
    }
   ],
   "source": [
    "print(find_greeting(\"hello\"))"
   ]
  },
  {
   "cell_type": "code",
   "execution_count": 14,
   "id": "9661ddac-2912-4eb0-9886-e6e934c34c42",
   "metadata": {},
   "outputs": [
    {
     "name": "stdout",
     "output_type": "stream",
     "text": [
      "None\n"
     ]
    }
   ],
   "source": [
    "print(find_greeting(\"HelloWorld\"))"
   ]
  },
  {
   "cell_type": "markdown",
   "id": "32e49533-b4a6-46db-829e-aadd27a1a4dc",
   "metadata": {},
   "source": [
    "<a name='11.2.1'></a><a id='11.2.1'></a>\n",
    "## 11.2.1 Regular expressions\n",
    "<a href=\"#top\">[back to top]</a>"
   ]
  },
  {
   "cell_type": "markdown",
   "id": "892d8c4a-c60a-4ca5-bd43-73614f89c564",
   "metadata": {},
   "source": [
    "<a name='11.2.2'></a><a id='11.2.2'></a>\n",
    "## 11.2.2 Information extraction as ML feature extraction\n",
    "<a href=\"#top\">[back to top]</a>"
   ]
  },
  {
   "cell_type": "markdown",
   "id": "16749554-f6b6-4f31-96a2-f964b69ff9cc",
   "metadata": {},
   "source": [
    "---\n",
    "<a name='11.3'></a><a id='11.3'></a>\n",
    "# 11.3 Information worth extracting\n",
    "<a href=\"#top\">[back to top]</a>"
   ]
  },
  {
   "cell_type": "markdown",
   "id": "128efd3e-36e9-4d59-96c6-9154a82e8dd7",
   "metadata": {},
   "source": [
    "<a name='11.3.1'></a><a id='11.3.1'></a>\n",
    "## 11.3.1 Extracting GPS locations\n",
    "<a href=\"#top\">[back to top]</a>"
   ]
  },
  {
   "cell_type": "code",
   "execution_count": 15,
   "id": "aecff6a1-dfaf-4caa-9e7b-42d39801576a",
   "metadata": {},
   "outputs": [],
   "source": [
    "# Listing 11.3 Regular expression for GPS coordinates\n",
    "lat = r'([-]?[0-9]?[0-9][.][0-9]{2,10})'\n",
    "lon = r'([-]?1?[0-9]?[0-9][.][0-9]{2,10})'\n",
    "sep = r'[,/ ]{1,3}'\n",
    "re_gps = re.compile(lat + sep + lon)"
   ]
  },
  {
   "cell_type": "code",
   "execution_count": 16,
   "id": "ad925420-6abc-4c57-aa4a-b4703110c8e9",
   "metadata": {},
   "outputs": [
    {
     "data": {
      "text/plain": [
       "[('34.0551066', '-118.2496763')]"
      ]
     },
     "execution_count": 16,
     "metadata": {},
     "output_type": "execute_result"
    }
   ],
   "source": [
    "re_gps.findall('http://...maps/@34.0551066,-118.2496763...')\n",
    "# [(34.0551066, -118.2496763)]"
   ]
  },
  {
   "cell_type": "code",
   "execution_count": 17,
   "id": "317ad6be-31b2-407e-8324-06dbac4b8029",
   "metadata": {},
   "outputs": [
    {
     "data": {
      "text/plain": [
       "[('5.9666', '116.0566')]"
      ]
     },
     "execution_count": 17,
     "metadata": {},
     "output_type": "execute_result"
    }
   ],
   "source": [
    "re_gps.findall(\"https://www.openstreetmap.org/#map=10/5.9666/116.0566\")\n",
    "# [('5.9666', '116.0566')]"
   ]
  },
  {
   "cell_type": "code",
   "execution_count": 18,
   "id": "82baf424-f5c4-4489-9b53-0ee88559389f",
   "metadata": {},
   "outputs": [],
   "source": [
    "groups = re_gps.findall(\"Zig Zag Cafe is at 45.344, -121.9431 on my GPS.\")\n",
    "# [('45.3440', '-121.9431')]"
   ]
  },
  {
   "cell_type": "markdown",
   "id": "b14a3519-cc58-49ec-94a6-dba711693e32",
   "metadata": {},
   "source": [
    "<a name='11.3.2'></a><a id='11.3.2'></a>\n",
    "## 11.3.2 Extracting dates\n",
    "<a href=\"#top\">[back to top]</a>"
   ]
  },
  {
   "cell_type": "code",
   "execution_count": 19,
   "id": "764231a2-f84b-4abb-b10f-c9a60a7f5ae5",
   "metadata": {},
   "outputs": [
    {
     "data": {
      "text/plain": [
       "[('12/25/2017', '12/25', '12', '25', '/2017', '20'),\n",
       " ('12/12', '12/12', '12', '12', '', '')]"
      ]
     },
     "execution_count": 19,
     "metadata": {},
     "output_type": "execute_result"
    }
   ],
   "source": [
    "# Listing 11.4 Regular expression for US dates\n",
    "us = r'((([01]?\\d)[-/]([0123]?\\d))([-/]([0123]\\d)\\d\\d)?)'\n",
    "mdy = re.findall(us, 'Santa came 12/25/2017. An elf appeared 12/12.')\n",
    "mdy"
   ]
  },
  {
   "cell_type": "code",
   "execution_count": 20,
   "id": "7400496d-4f12-467a-8548-bd9469b0deb3",
   "metadata": {},
   "outputs": [
    {
     "data": {
      "text/plain": [
       "[{'mdy': '12/25/2017', 'my': '12/25', 'm': 12, 'd': 25, 'y': 2017, 'c': 20},\n",
       " {'mdy': '12/12', 'my': '12/12', 'm': 12, 'd': 12, 'y': 0, 'c': 0}]"
      ]
     },
     "execution_count": 20,
     "metadata": {},
     "output_type": "execute_result"
    }
   ],
   "source": [
    "# Listing 11.5 Structuring extracted dates\n",
    "dates = [{'mdy': x[0], 'my': x[1], 'm': int(x[2]), 'd': int(x[3]),\n",
    "    'y': int(x[4].lstrip('/') or 0), 'c': int(x[5] or 0)} for x in mdy]\n",
    "\n",
    "dates"
   ]
  },
  {
   "cell_type": "code",
   "execution_count": 21,
   "id": "9cb6b31c-e093-420f-85aa-3bfaeeddd87d",
   "metadata": {},
   "outputs": [
    {
     "name": "stdout",
     "output_type": "stream",
     "text": [
      "[{'mdy': '12/25/2017', 'my': '12/25', 'm': 12, 'd': 25, 'y': 2017, 'c': 20}, {'mdy': '12/12', 'my': '12/12', 'm': 12, 'd': 12, 'y': 2017, 'c': 20}]\n",
      "----------------------------------------\n"
     ]
    },
    {
     "data": {
      "text/plain": [
       "[datetime.date(2017, 12, 25), datetime.date(2017, 12, 12)]"
      ]
     },
     "execution_count": 21,
     "metadata": {},
     "output_type": "execute_result"
    }
   ],
   "source": [
    "# Listing 11.6 Basic context maintenance\n",
    "for i, d in enumerate(dates):\n",
    "    for k, v in d.items():\n",
    "        if not v:\n",
    "            d[k] = dates[max(i - 1, 0)][k]\n",
    "    \n",
    "print(dates)\n",
    "\n",
    "HR()\n",
    "\n",
    "\n",
    "datetimes = [date(d['y'], d['m'], d['d']) for d in dates]\n",
    "datetimes"
   ]
  },
  {
   "cell_type": "code",
   "execution_count": 22,
   "id": "176a2520-9dd4-48e3-b64c-f37131a2cc0f",
   "metadata": {},
   "outputs": [
    {
     "name": "stdout",
     "output_type": "stream",
     "text": [
      "34°02'47.5\"\n"
     ]
    },
    {
     "data": {
      "text/plain": [
       "[]"
      ]
     },
     "execution_count": 22,
     "metadata": {},
     "output_type": "execute_result"
    }
   ],
   "source": [
    "# FIXME: remove unicode characters in regex or use regexes that can handle them\n",
    "# deg,min,sec: 34°02'47.5\"  # the degree unicode character will CRASH ipython!\n",
    "deg_sym = r'[ ]?(°|d|deg|degree|degrees)[ ]?'\n",
    "min_sym = r\"[ ]?('|m|min|minute|minutes)[ ]?\"\n",
    "sec_sym = r'[ ]?(\"|s|sec|second|seconds)[ ]?'\n",
    "dms = re.compile(r'([-]?[0-9]?[0-9]' + deg_sym +\n",
    "                 r'[0-6]?[0-9]' + min_sym +\n",
    "                 r'[0-6]?[0-9][.]?[0-9]{0,9}' + sec_sym +\n",
    "                 r')[ ]?,[ ]?' +\n",
    "                 r'([-]?1?[0-9]?[0-9]' + deg_sym +\n",
    "                 r'[0-6]?[0-9]' + min_sym +\n",
    "                 r'[0-6]?[0-9][.]?[0-9]{0,9}' + sec_sym +\n",
    "                 r')')\n",
    "dms.findall('34°02\\'47.5\"')\n",
    "# []\n",
    "print('34°02\\'47.5\"')\n",
    "# 34°02'47.5\"\n",
    "dms.findall('34d02m47.5\"')\n",
    "# []\n",
    "dms.findall('34d02m47.5s')\n",
    "# []"
   ]
  },
  {
   "cell_type": "code",
   "execution_count": 23,
   "id": "c03e1f5e-f825-497a-aa76-73dfc22f65fb",
   "metadata": {},
   "outputs": [
    {
     "data": {
      "text/plain": [
       "[('23/6/1912', '23', '6', '/1912', '19'),\n",
       " ('7/6/1954', '7', '6', '/1954', '19')]"
      ]
     },
     "execution_count": 23,
     "metadata": {},
     "output_type": "execute_result"
    }
   ],
   "source": [
    "# Listing 11.7 Regular expression for European dates\n",
    "def extract_latlon(s):\n",
    "    matches = dms.findall(s)\n",
    "    if len(matches):\n",
    "        return float(matches[-1][0]), float(matches[-1][-1])\n",
    "    else:\n",
    "        return None, s\n",
    "\n",
    "\n",
    "us = r'(([01]?\\d)[-/]([0123]?\\d)([-/]([012]\\d)?\\d\\d)?)'\n",
    "re.findall(us, 'Santa came on 12/25/2017 and a star appeared 12/12')\n",
    "# [('12/25/2017', '12', '25', '/2017', '20'), ('12/12', '12', '12', '', '')]\n",
    "\n",
    "eu = r'(([0123]?\\d)[-/]([01]?\\d)([-/]([012]\\d)?\\d\\d)?)'\n",
    "re.findall(eu, 'Alan Mathison Turing OBE FRS (23/6/1912-7/6/1954) was an English computer scientist.')\n",
    "[('23/6/1912', '23', '6', '/1912', '19'),\n",
    " ('7/6/1954', '7', '6', '/1954', '19')]\n"
   ]
  },
  {
   "cell_type": "code",
   "execution_count": 24,
   "id": "9fbe4f16-3b59-472c-bd02-4d5e10b003e6",
   "metadata": {},
   "outputs": [],
   "source": [
    "# Listing 11.8 Recognizing years\n",
    "\n",
    "# Deal with 2-digit an d4-digit and even 1-digit years from Year 0  to 3999 AD\n",
    "# And lets name the parts of our year so we can easily coerce it into a datetime object\n",
    "yr_19xx = (\n",
    "    r'\\b(?P<yr_19xx>' +\n",
    "    '|'.join('{}'.format(i) for i in range(30, 100)) +\n",
    "    r')\\b'\n",
    "    )\n",
    "yr_20xx = (\n",
    "    r'\\b(?P<yr_20xx>' +\n",
    "    '|'.join('{:02d}'.format(i) for i in range(10)) + '|' +\n",
    "    '|'.join('{}'.format(i) for i in range(10, 30)) +\n",
    "    r')\\b'\n",
    "    )\n",
    "yr_cent = r'\\b(?P<yr_cent>' + '|'.join('{}'.format(i) for i in range(1, 40)) + r')\\b'\n",
    "yr_ccxx = r'\\b(?P<yr_ccxx>' + '|'.join('{:02d}'.format(i) for i in range(0, 100)) + r')\\b'\n",
    "\n",
    "yr = (\n",
    "    r'\\b(?P<yr>' +\n",
    "    yr_19xx + '|' + yr_20xx + '|(?P<yr_xxxx>(' + yr_cent + ')(' + yr_ccxx + '))' +\n",
    "    r')\\b'\n",
    "    )\n",
    "re.findall(yr, \"0, 2000, 01, '08, 99, 1984, 2030/1970 85 47 `66\")\n",
    "\n",
    "day = r'|'.join('{:02d}|{}'.format(i, i) for i in range(1, 32))\n",
    "\n",
    "\n"
   ]
  },
  {
   "cell_type": "code",
   "execution_count": 25,
   "id": "cae867d1-35c1-4c51-b90d-f8b49fd8d6d4",
   "metadata": {},
   "outputs": [
    {
     "data": {
      "text/plain": [
       "[]"
      ]
     },
     "execution_count": 25,
     "metadata": {},
     "output_type": "execute_result"
    }
   ],
   "source": [
    "# Listing 11.9 Recognizing month words with regular expressions\n",
    "\n",
    "mon_words = 'January February March April May June July ' \\\n",
    "    'August September October November December'\n",
    "# mon = '|'.join('{}|{}|{}'.format(m, m[:4], m[:3]) for m in months.split())\n",
    "mon = '|'.join('{}|{}|{}|{}|{:02d}'.format(\n",
    "    m, m[:4], m[:3], i + 1, i + 1) for i, m in enumerate(mon_words.split()))\n",
    "\n",
    "eu = r'\\b((' + day + r')\\b[-,/ ]{0,2}\\b(' + mon + r')\\b[-,/ ]{0,2}\\b(' + yr + r'))\\b'\n",
    "\n",
    "re.findall(eu, '31 Oct, 1970 25/12/2017')\n",
    "# [('31 Oct, 1970', '31', 'Oct', '1970', '19', '70'),\n",
    "#  ('25/12/2017', '25', '12', '2017', '20', '17')]\n",
    "\n",
    "# [('0', '', '0'), ('2000', '20', '00'), ('01', '', '01'), ('99', '9', '9'), ('1984', '19', '84'), ('2030', '20', '30'), ('1970', '19', '70')]\n",
    "# re.findall(yr'0, 2000, 01, 99, 1984, 2030/1970 ')\n",
    "\n",
    "eu = r'(([0123]?\\d)[-/ ]([01]?\\d|' + mon + r')((\\,[ ]|[-/ ])([012]\\d)?\\d\\d)?)'\n",
    "re.findall(eu, 'Barack Hussein Obama II (born August 4, 1961) is an American politician...')\n",
    "# <1> this catches year zero (\"0\")for the astronomical calendar\n",
    "# <2> this catches year integers 0 through 3999\n"
   ]
  },
  {
   "cell_type": "markdown",
   "id": "f8585e69-ee6b-4291-b64d-0c6b604e4ccd",
   "metadata": {},
   "source": [
    "---\n",
    "<a name='11.4'></a><a id='11.4'></a>\n",
    "# 11.4 Extracting relationships (relations)\n",
    "<a href=\"#top\">[back to top]</a>"
   ]
  },
  {
   "cell_type": "markdown",
   "id": "5d1e45c0-a1de-4eb0-807e-11f21bae5946",
   "metadata": {},
   "source": [
    "<a name='11.4.1'></a><a id='11.4.1'></a>\n",
    "## 11.4.1 Part-of-speec (POS) tagging\n",
    "<a href=\"#top\">[back to top]</a>"
   ]
  },
  {
   "cell_type": "code",
   "execution_count": 26,
   "id": "357ccddb-c6b3-4fe2-b034-34094d949501",
   "metadata": {},
   "outputs": [
    {
     "name": "stdout",
     "output_type": "stream",
     "text": [
      "\u001b[38;5;2m✔ Download and installation successful\u001b[0m\n",
      "You can now load the package via spacy.load('en_core_web_md')\n",
      "Done\n"
     ]
    }
   ],
   "source": [
    "# Listing 11.12 POS tagging with spaCy\n",
    "\n",
    "!python -m spacy download en_core_web_md  -q\n",
    "\n",
    "print(\"Done\")"
   ]
  },
  {
   "cell_type": "code",
   "execution_count": 27,
   "id": "1e37941f-a3bd-4b64-adb6-172cdafa3101",
   "metadata": {},
   "outputs": [
    {
     "data": {
      "text/plain": [
       "(1541, Desoto, Pascagoula, Chickasawhay, 30.4)"
      ]
     },
     "execution_count": 27,
     "metadata": {},
     "output_type": "execute_result"
    }
   ],
   "source": [
    "# load spaCy model\n",
    "en_model = spacy.load('en_core_web_md')\n",
    "\n",
    "sentence = \"\"\"In 1541 Desoto wrote in his journal that the Pascagoula people ranged as far north as the confluence of the Leaf and Chickasawhay r\n",
    "ivers at 30.4, -88.5.\"\"\"\n",
    "\n",
    "# create a spaCy object \n",
    "parsed_sent = en_model(sentence)\n",
    "parsed_sent.ents"
   ]
  },
  {
   "cell_type": "code",
   "execution_count": 28,
   "id": "e0afc285-28de-4a0e-8626-24f367481357",
   "metadata": {},
   "outputs": [],
   "source": [
    "# Listing 11.13 Visualize a dependency tree\n",
    "\n",
    "sentence = \"In 1541 Desoto wrote in his journal about the Pascagoula.\"\n",
    "parsed_sent = en_model(sentence)"
   ]
  },
  {
   "cell_type": "code",
   "execution_count": 29,
   "id": "82cce2eb-f332-4842-9431-a2aed88b0f49",
   "metadata": {},
   "outputs": [],
   "source": [
    "# Listing 11.14 Helper function for spaCy tagged strings\n",
    "\n",
    "def token_dict(token):\n",
    "    return OrderedDict(\n",
    "        ORTH=token.orth_, \n",
    "        LEMMA=token.lemma_,\n",
    "        POS=token.pos_, \n",
    "        TAG=token.tag_, \n",
    "        DEP=token.dep_\n",
    "    )\n",
    "\n",
    "def doc_dataframe(doc):\n",
    "    return pd.DataFrame([token_dict(tok) for tok in parsed_sent])"
   ]
  },
  {
   "cell_type": "code",
   "execution_count": 30,
   "id": "c5b3bdcb-d7fa-4672-939d-7f495306ca10",
   "metadata": {},
   "outputs": [
    {
     "data": {
      "text/html": [
       "<div>\n",
       "<style scoped>\n",
       "    .dataframe tbody tr th:only-of-type {\n",
       "        vertical-align: middle;\n",
       "    }\n",
       "\n",
       "    .dataframe tbody tr th {\n",
       "        vertical-align: top;\n",
       "    }\n",
       "\n",
       "    .dataframe thead th {\n",
       "        text-align: right;\n",
       "    }\n",
       "</style>\n",
       "<table border=\"1\" class=\"dataframe\">\n",
       "  <thead>\n",
       "    <tr style=\"text-align: right;\">\n",
       "      <th></th>\n",
       "      <th>ORTH</th>\n",
       "      <th>LEMMA</th>\n",
       "      <th>POS</th>\n",
       "      <th>TAG</th>\n",
       "      <th>DEP</th>\n",
       "    </tr>\n",
       "  </thead>\n",
       "  <tbody>\n",
       "    <tr>\n",
       "      <th>0</th>\n",
       "      <td>In</td>\n",
       "      <td>in</td>\n",
       "      <td>ADP</td>\n",
       "      <td>IN</td>\n",
       "      <td>prep</td>\n",
       "    </tr>\n",
       "    <tr>\n",
       "      <th>1</th>\n",
       "      <td>1541</td>\n",
       "      <td>1541</td>\n",
       "      <td>NUM</td>\n",
       "      <td>CD</td>\n",
       "      <td>pobj</td>\n",
       "    </tr>\n",
       "    <tr>\n",
       "      <th>2</th>\n",
       "      <td>Desoto</td>\n",
       "      <td>desoto</td>\n",
       "      <td>NOUN</td>\n",
       "      <td>NN</td>\n",
       "      <td>nsubj</td>\n",
       "    </tr>\n",
       "    <tr>\n",
       "      <th>3</th>\n",
       "      <td>wrote</td>\n",
       "      <td>write</td>\n",
       "      <td>VERB</td>\n",
       "      <td>VBD</td>\n",
       "      <td>ROOT</td>\n",
       "    </tr>\n",
       "    <tr>\n",
       "      <th>4</th>\n",
       "      <td>in</td>\n",
       "      <td>in</td>\n",
       "      <td>ADP</td>\n",
       "      <td>IN</td>\n",
       "      <td>prep</td>\n",
       "    </tr>\n",
       "    <tr>\n",
       "      <th>5</th>\n",
       "      <td>his</td>\n",
       "      <td>his</td>\n",
       "      <td>PRON</td>\n",
       "      <td>PRP$</td>\n",
       "      <td>poss</td>\n",
       "    </tr>\n",
       "    <tr>\n",
       "      <th>6</th>\n",
       "      <td>journal</td>\n",
       "      <td>journal</td>\n",
       "      <td>NOUN</td>\n",
       "      <td>NN</td>\n",
       "      <td>pobj</td>\n",
       "    </tr>\n",
       "    <tr>\n",
       "      <th>7</th>\n",
       "      <td>about</td>\n",
       "      <td>about</td>\n",
       "      <td>ADP</td>\n",
       "      <td>IN</td>\n",
       "      <td>prep</td>\n",
       "    </tr>\n",
       "    <tr>\n",
       "      <th>8</th>\n",
       "      <td>the</td>\n",
       "      <td>the</td>\n",
       "      <td>DET</td>\n",
       "      <td>DT</td>\n",
       "      <td>det</td>\n",
       "    </tr>\n",
       "    <tr>\n",
       "      <th>9</th>\n",
       "      <td>Pascagoula</td>\n",
       "      <td>Pascagoula</td>\n",
       "      <td>PROPN</td>\n",
       "      <td>NNP</td>\n",
       "      <td>pobj</td>\n",
       "    </tr>\n",
       "    <tr>\n",
       "      <th>10</th>\n",
       "      <td>.</td>\n",
       "      <td>.</td>\n",
       "      <td>PUNCT</td>\n",
       "      <td>.</td>\n",
       "      <td>punct</td>\n",
       "    </tr>\n",
       "  </tbody>\n",
       "</table>\n",
       "</div>"
      ],
      "text/plain": [
       "          ORTH       LEMMA    POS   TAG    DEP\n",
       "0           In          in    ADP    IN   prep\n",
       "1         1541        1541    NUM    CD   pobj\n",
       "2       Desoto      desoto   NOUN    NN  nsubj\n",
       "3        wrote       write   VERB   VBD   ROOT\n",
       "4           in          in    ADP    IN   prep\n",
       "5          his         his   PRON  PRP$   poss\n",
       "6      journal     journal   NOUN    NN   pobj\n",
       "7        about       about    ADP    IN   prep\n",
       "8          the         the    DET    DT    det\n",
       "9   Pascagoula  Pascagoula  PROPN   NNP   pobj\n",
       "10           .           .  PUNCT     .  punct"
      ]
     },
     "execution_count": 30,
     "metadata": {},
     "output_type": "execute_result"
    }
   ],
   "source": [
    "test = doc_dataframe(en_model(\"In 1541 Desoto met the Pascagoula.\"))\n",
    "\n",
    "test"
   ]
  },
  {
   "cell_type": "code",
   "execution_count": 31,
   "id": "1e5fc271-12c6-4b5d-b3df-74002088d3a9",
   "metadata": {},
   "outputs": [
    {
     "data": {
      "text/plain": [
       "[{'TAG': 'NNP'},\n",
       " {'LEMMA': 'meet'},\n",
       " {'IS_ALPHA': True, 'OP': '*'},\n",
       " {'TAG': 'NNP'}]"
      ]
     },
     "execution_count": 31,
     "metadata": {},
     "output_type": "execute_result"
    }
   ],
   "source": [
    "# Listing 11.15 Example spaCy POS pattern\n",
    "# define the pattern\n",
    "pattern = [{'TAG': 'NNP'}, {'LEMMA': 'meet'}, {'IS_ALPHA': True, 'OP': '*'}, {'TAG': 'NNP'}]\n",
    "pattern"
   ]
  },
  {
   "cell_type": "code",
   "execution_count": 32,
   "id": "1c0cee79-9f74-4c27-bded-8c9d205a76b3",
   "metadata": {},
   "outputs": [
    {
     "name": "stdout",
     "output_type": "stream",
     "text": [
      "In 1541 Desoto met the Pascagoula.\n",
      "<spacy.matcher.matcher.Matcher object at 0x136575790>\n"
     ]
    },
    {
     "data": {
      "text/plain": [
       "[]"
      ]
     },
     "execution_count": 32,
     "metadata": {},
     "output_type": "execute_result"
    }
   ],
   "source": [
    "# Listing 11.16 Creating a POS pattern matcher with spaCy\n",
    "# Matcher class object \n",
    "\n",
    "doc = en_model(\"In 1541 Desoto met the Pascagoula.\")\n",
    "print(doc)\n",
    "\n",
    "matcher = Matcher(en_model.vocab)\n",
    "print(matcher)\n",
    "\n",
    "# The new version of spacy needs square brackets around pattern. \n",
    "matcher.add('meeting', [pattern])\n",
    "m = matcher(doc)\n",
    "m"
   ]
  },
  {
   "cell_type": "code",
   "execution_count": 33,
   "id": "b261d669-0b1a-4cbd-b15a-083401510484",
   "metadata": {},
   "outputs": [
    {
     "data": {
      "text/plain": [
       "(14798207169164081740, 5, 10)"
      ]
     },
     "execution_count": 33,
     "metadata": {},
     "output_type": "execute_result"
    }
   ],
   "source": [
    "# Listing 11.17 Using a POS pattern matcher\n",
    "doc = en_model(\"October 24: Lewis and Clark met their first Mandan Chief, Big White.\")\n",
    "m = matcher(doc)[0]\n",
    "m"
   ]
  },
  {
   "cell_type": "code",
   "execution_count": 34,
   "id": "d9cfce25-7209-49e5-a51a-7ae88c054fbb",
   "metadata": {},
   "outputs": [
    {
     "data": {
      "text/plain": [
       "[(14332210279624491740, 5, 9)]"
      ]
     },
     "execution_count": 34,
     "metadata": {},
     "output_type": "execute_result"
    }
   ],
   "source": [
    "# Listing 11.18 Combining multiple patterns for a more robust pattern matcher\n",
    "doc = en_model(\"On 11 October 1986, Gorbachev and Reagan met at a house\")\n",
    "\n",
    "pattern = [\n",
    "    {'TAG': 'NNP', 'OP': '+'}, \n",
    "    {'LEMMA': 'and'}, \n",
    "    {'TAG': 'NNP', 'OP': '+'}, \n",
    "    {'IS_ALPHA': True, 'OP': '*'}, \n",
    "    {'LEMMA': 'meet'}\n",
    "]\n",
    "\n",
    "matcher.add('met', [pattern])\n",
    "m = matcher(doc)\n",
    "m"
   ]
  },
  {
   "cell_type": "code",
   "execution_count": 35,
   "id": "9f4fe9fe-f958-4a18-b2bf-73eeffa8dfea",
   "metadata": {},
   "outputs": [
    {
     "data": {
      "text/plain": [
       "Gorbachev and Reagan met"
      ]
     },
     "execution_count": 35,
     "metadata": {},
     "output_type": "execute_result"
    }
   ],
   "source": [
    "doc[m[-1][1]:m[-1][2]]"
   ]
  },
  {
   "cell_type": "markdown",
   "id": "b6191eea-5a2c-40f4-ac03-5300b957f02f",
   "metadata": {},
   "source": [
    "<a name='11.4.2'></a><a id='11.4.2'></a>\n",
    "## 11.4.2 Entity name normalization\n",
    "<a href=\"#top\">[back to top]</a>"
   ]
  },
  {
   "cell_type": "markdown",
   "id": "e8d45ae4-bc5d-4aa5-8a5a-e07de6c0d5a4",
   "metadata": {},
   "source": [
    "<a name='11.4.3'></a><a id='11.4.3'></a>\n",
    "## 11.4.3 Relation normalization and extraction\n",
    "<a href=\"#top\">[back to top]</a>"
   ]
  },
  {
   "cell_type": "markdown",
   "id": "d232645f-92b5-4dff-90d5-40090c57f497",
   "metadata": {},
   "source": [
    "<a name='11.4.4'></a><a id='11.4.4'></a>\n",
    "## 11.4.4 Word patterns\n",
    "<a href=\"#top\">[back to top]</a>"
   ]
  },
  {
   "cell_type": "markdown",
   "id": "569d815f-9c4a-43d2-a3a3-dd35bada674c",
   "metadata": {},
   "source": [
    "<a name='11.4.5'></a><a id='11.4.5'></a>\n",
    "## 11.4.5 Segmentation\n",
    "<a href=\"#top\">[back to top]</a>"
   ]
  },
  {
   "cell_type": "markdown",
   "id": "8e0ec076-e894-4ef3-a038-f8f9ce65a1b1",
   "metadata": {},
   "source": [
    "<a name='11.4.6'></a><a id='11.4.6'></a>\n",
    "## 11.4.6 Why won't split('.!?') work?\n",
    "<a href=\"#top\">[back to top]</a>"
   ]
  },
  {
   "cell_type": "markdown",
   "id": "45ce961a-a8e2-4406-ad13-2afafa992fa3",
   "metadata": {},
   "source": [
    "<a name='11.4.7'></a><a id='11.4.7'></a>\n",
    "## 11.4.7 Sentence segmentation with regular expressions\n",
    "<a href=\"#top\">[back to top]</a>"
   ]
  },
  {
   "cell_type": "markdown",
   "id": "f8e78e40-312e-4015-8741-aab5043cd1e5",
   "metadata": {},
   "source": [
    "---\n",
    "<a name='11.5'></a><a id='11.5'></a>\n",
    "# 11.5 In the real world\n",
    "<a href=\"#top\">[back to top]</a>"
   ]
  },
  {
   "cell_type": "code",
   "execution_count": null,
   "id": "a00e897b-628c-4645-9abe-84e82930f06d",
   "metadata": {},
   "outputs": [],
   "source": []
  }
 ],
 "metadata": {
  "kernelspec": {
   "display_name": "Python 3 (ipykernel)",
   "language": "python",
   "name": "python3"
  },
  "language_info": {
   "codemirror_mode": {
    "name": "ipython",
    "version": 3
   },
   "file_extension": ".py",
   "mimetype": "text/x-python",
   "name": "python",
   "nbconvert_exporter": "python",
   "pygments_lexer": "ipython3",
   "version": "3.8.12"
  }
 },
 "nbformat": 4,
 "nbformat_minor": 5
}
