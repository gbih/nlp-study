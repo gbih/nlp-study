{
 "cells": [
  {
   "cell_type": "markdown",
   "id": "7559a4ed-894d-4857-9746-881c787cc37a",
   "metadata": {},
   "source": [
    "<a id='top'></a><a name='top'></a>\n",
    "# Chapter 8: The Attention Mechanism from Scratch"
   ]
  },
  {
   "cell_type": "markdown",
   "id": "d894edc0-f198-4065-ab12-6ab41d988018",
   "metadata": {},
   "source": [
    "* [Introduction](#introduction)\n",
    "* [8.0 Imports and Setup](#8.0)\n",
    "* [8.1 The Attention Mechanism](#8.1)\n",
    "* [8.2 The General Attention Mechanism](#8.2)\n",
    "* [8.3 The General Attention Mechanism with NumPy and SciPy](#8.3)\n",
    "    - [8.3.1 Encoder representations of four different words](#8.3.1)\n",
    "    - [8.3.2 Stacking the word embeddings into a single array](#8.3.2)\n",
    "    - [8.3.3 Generate the weight matrices](#8.3.3)\n",
    "    - [8.3.4 Generate the queries, keys and values with matrix multiplication](#8.3.4)\n",
    "    - [8.3.5 Score the query vectors against all key vectors](#8.3.5)\n",
    "    - [8.3.6 Compute the weights by a softmax operation](#8.3.6)\n",
    "    - [8.3.7 Compute the attention by a weighted sum of the value vectors](#8.3.7)\n",
    "* [Extra](#extra)"
   ]
  },
  {
   "cell_type": "markdown",
   "id": "8fa30932-b8e5-458c-aa50-66fc2ca888de",
   "metadata": {},
   "source": [
    "---\n",
    "<a name='introduction'></a><a id='introduction'></a>\n",
    "# Introduction\n",
    "<a href=\"#top\">[back to top]</a>\n",
    "\n",
    "### Dataset\n",
    "\n",
    "* Toy dataset\n",
    "\n",
    "\n",
    "### Explore\n",
    "\n",
    "* How the attention mechanism uses a weighted sum of all the encoder hidden states to flexibly focus the attention of the decoder on the most relevant parts of the input sequence.\n",
    "* How the attention mechanism can be generalized for tasks where the information may not necessarily be related in a sequential fashion.\n",
    "* How to implement the general attention mechanism in Python with NumPy and Scipy."
   ]
  },
  {
   "cell_type": "markdown",
   "id": "939b13fe-78c6-4765-bdb2-7d80d3c3fb77",
   "metadata": {},
   "source": [
    "---\n",
    "<a name='8.0'></a><a id='8.0'></a>\n",
    "# 8.0 Imports and Setup\n",
    "<a href=\"#top\">[back to top]</a>"
   ]
  },
  {
   "cell_type": "code",
   "execution_count": 1,
   "id": "49b663de-2f90-4dea-ab34-771345111f84",
   "metadata": {},
   "outputs": [],
   "source": [
    "req_file = \"requirements_08.txt\""
   ]
  },
  {
   "cell_type": "code",
   "execution_count": 2,
   "id": "edc04dff-9d34-4b41-aac4-88d1965629f4",
   "metadata": {},
   "outputs": [
    {
     "name": "stdout",
     "output_type": "stream",
     "text": [
      "Overwriting requirements_08.txt\n"
     ]
    }
   ],
   "source": [
    "%%writefile {req_file}\n",
    "isort\n",
    "scikit-learn-intelex\n",
    "watermark"
   ]
  },
  {
   "cell_type": "code",
   "execution_count": 3,
   "id": "053e66bd-2497-488c-9849-050749d5aff2",
   "metadata": {},
   "outputs": [
    {
     "name": "stdout",
     "output_type": "stream",
     "text": [
      "Running locally.\n"
     ]
    },
    {
     "name": "stderr",
     "output_type": "stream",
     "text": [
      "Intel(R) Extension for Scikit-learn* enabled (https://github.com/intel/scikit-learn-intelex)\n"
     ]
    }
   ],
   "source": [
    "import sys\n",
    "IS_COLAB = 'google.colab' in sys.modules\n",
    "\n",
    "if IS_COLAB:\n",
    "    print(\"Installing packages\")\n",
    "    !pip install --upgrade --quiet -r {req_file}\n",
    "else:\n",
    "    print(\"Running locally.\")\n",
    "\n",
    "# Need to import before sklearn\n",
    "from sklearnex import patch_sklearn\n",
    "patch_sklearn()"
   ]
  },
  {
   "cell_type": "code",
   "execution_count": 3,
   "id": "056f94cd-8fff-4a2f-8ce1-ce14af2b0595",
   "metadata": {},
   "outputs": [
    {
     "name": "stdout",
     "output_type": "stream",
     "text": [
      "Overwriting imports.py\n"
     ]
    }
   ],
   "source": [
    "%%writefile imports.py\n",
    "import locale\n",
    "import math\n",
    "import pprint\n",
    "import warnings\n",
    "\n",
    "import matplotlib.pyplot as plt\n",
    "import numpy as np\n",
    "import seaborn as sns\n",
    "from scipy.special import softmax\n",
    "from tqdm.auto import tqdm\n",
    "from watermark import watermark"
   ]
  },
  {
   "cell_type": "code",
   "execution_count": 4,
   "id": "76def04a-4ff9-4efb-8423-8f7855cbfa2f",
   "metadata": {},
   "outputs": [
    {
     "name": "stdout",
     "output_type": "stream",
     "text": [
      "import locale\n",
      "import math\n",
      "import pprint\n",
      "import warnings\n",
      "\n",
      "import matplotlib.pyplot as plt\n",
      "import numpy as np\n",
      "import seaborn as sns\n",
      "from scipy.special import softmax\n",
      "from tqdm.auto import tqdm\n",
      "from watermark import watermark\n"
     ]
    }
   ],
   "source": [
    "!isort imports.py --sl\n",
    "!cat imports.py"
   ]
  },
  {
   "cell_type": "code",
   "execution_count": 6,
   "id": "e2364fd9-2f4a-4bf4-9de7-e28e5d24a685",
   "metadata": {},
   "outputs": [],
   "source": [
    "import locale\n",
    "import math\n",
    "import pprint\n",
    "import warnings\n",
    "\n",
    "import matplotlib.pyplot as plt\n",
    "import numpy as np\n",
    "import seaborn as sns\n",
    "from scipy.special import softmax\n",
    "from tqdm.auto import tqdm\n",
    "from watermark import watermark"
   ]
  },
  {
   "cell_type": "code",
   "execution_count": 6,
   "id": "a946371f-317f-4945-8e32-ecdfbfc09272",
   "metadata": {},
   "outputs": [
    {
     "name": "stdout",
     "output_type": "stream",
     "text": [
      "Python implementation: CPython\n",
      "Python version       : 3.8.12\n",
      "IPython version      : 7.34.0\n",
      "\n",
      "Compiler    : Clang 13.0.0 (clang-1300.0.29.3)\n",
      "OS          : Darwin\n",
      "Release     : 21.6.0\n",
      "Machine     : x86_64\n",
      "Processor   : i386\n",
      "CPU cores   : 4\n",
      "Architecture: 64bit\n",
      "\n",
      "numpy     : 1.23.5\n",
      "seaborn   : 0.12.1\n",
      "matplotlib: 3.6.2\n",
      "\n"
     ]
    }
   ],
   "source": [
    "def HR():\n",
    "    print(\"-\"*40)\n",
    "    \n",
    "def getpreferredencoding(do_setlocale = True):\n",
    "    return \"UTF-8\"\n",
    "\n",
    "locale.getpreferredencoding = getpreferredencoding\n",
    "warnings.filterwarnings('default')\n",
    "BASE_DIR = '.'\n",
    "sns.set_style(\"darkgrid\")\n",
    "tqdm.pandas(desc=\"progress-bar\")\n",
    "pp = pprint.PrettyPrinter(indent=4)\n",
    "\n",
    "seed = 42\n",
    "\n",
    "print(watermark(iversions=True,globals_=globals(),python=True,machine=True))"
   ]
  },
  {
   "cell_type": "markdown",
   "id": "2577a388-c049-4a96-ae8c-ebe324a8ca27",
   "metadata": {},
   "source": [
    "---\n",
    "<a name='8.1'></a><a id='8.1'></a>\n",
    "# 8.1 The Attention Mechanism\n",
    "<a href=\"#top\">[back to top]</a>\n",
    "\n",
    "* Dzmitry Bahdanau, Kyunghyun Cho, and Yoshua Bengio. “Neural Machine Translation by Jointly Learning to Align and Translate”. In: Proc. 3rd International Conference on Learning Representations (ICLR 2015). May 2015.\n",
    "http://arxiv.org/abs/1409.0473"
   ]
  },
  {
   "cell_type": "markdown",
   "id": "6d32b1fd-9171-4082-bd63-a6f14293a1fd",
   "metadata": {},
   "source": [
    "---\n",
    "<a name='8.2'></a><a id='8.2'></a>\n",
    "# 8.2 The General Attention Mechanism\n",
    "<a href=\"#top\">[back to top]</a>"
   ]
  },
  {
   "cell_type": "markdown",
   "id": "9e06c921-97c6-4443-ad2f-dcfa9c2a381a",
   "metadata": {},
   "source": [
    "---\n",
    "<a name='8.3'></a><a id='8.3'></a>\n",
    "# 8.3 The General Attention Mechanism with NumPy and SciPy\n",
    "<a href=\"#top\">[back to top]</a>"
   ]
  },
  {
   "cell_type": "markdown",
   "id": "14ed05d9-5d77-4b1f-8fc3-1a4687d00edd",
   "metadata": {},
   "source": [
    "---\n",
    "<a name='8.3.1'></a><a id='8.3.1'></a>\n",
    "## 8.3.1 Encoder representations of four different words\n",
    "<a href=\"#top\">[back to top]</a>\n",
    "\n",
    "* Calculate a small matrix representing four words. \n",
    "* Define the word embeddings manually."
   ]
  },
  {
   "cell_type": "code",
   "execution_count": 7,
   "id": "95f47146-3ece-4eba-a3be-e75deb924b74",
   "metadata": {},
   "outputs": [
    {
     "name": "stdout",
     "output_type": "stream",
     "text": [
      "[1 0 0]\n",
      "[0 1 0]\n",
      "[1 1 0]\n",
      "[0 0 1]\n"
     ]
    }
   ],
   "source": [
    "word_1 = np.array([1, 0, 0])\n",
    "word_2 = np.array([0, 1, 0])\n",
    "word_3 = np.array([1, 1, 0])\n",
    "word_4 = np.array([0, 0, 1])\n",
    "\n",
    "print(word_1)\n",
    "print(word_2)\n",
    "print(word_3)\n",
    "print(word_4)"
   ]
  },
  {
   "cell_type": "markdown",
   "id": "1f930bdd-55ec-443e-8897-d1ba0e065340",
   "metadata": {},
   "source": [
    "---\n",
    "<a name='8.3.2'></a><a id='8.3.2'></a>\n",
    "## 8.3.2 Stacking the word embeddings into a single array\n",
    "<a href=\"#top\">[back to top]</a>\n",
    "\n",
    "* Stack the word embeddings for more convenience."
   ]
  },
  {
   "cell_type": "code",
   "execution_count": 8,
   "id": "57c27717-8dec-4114-a92d-fe5ec02b7c49",
   "metadata": {},
   "outputs": [
    {
     "name": "stdout",
     "output_type": "stream",
     "text": [
      "(4, 3)\n",
      "----------------------------------------\n",
      "[[1 0 0]\n",
      " [0 1 0]\n",
      " [1 1 0]\n",
      " [0 0 1]]\n"
     ]
    }
   ],
   "source": [
    "words = np.array([word_1, word_2, word_3, word_4])\n",
    "\n",
    "print(words.shape)\n",
    "HR()\n",
    "\n",
    "print(words)"
   ]
  },
  {
   "cell_type": "markdown",
   "id": "acdd43c1-6d30-4ebc-bff2-26daddd5a3da",
   "metadata": {},
   "source": [
    "---\n",
    "<a name='8.3.3'></a><a id='8.3.3'></a>\n",
    "## 8.3.3 Generate the weight matrices\n",
    "<a href=\"#top\">[back to top]</a>\n",
    "\n",
    "* We multiply the word matrices by the word embeddings to generate the queries, keys and values.\n",
    "* Here we generate the weight matrices randomly. In actual practice, these would be learned during training.\n",
    "* **The number of rows of each of these matrices is equal to the dimensionality of the word embeddings (which in this case is three) to allow us to perform the matrix multiplication.** \n",
    "* Subsequently, the query, key, and value vectors for each word are generated by multiplying each word embedding by each of the weight matrices."
   ]
  },
  {
   "cell_type": "code",
   "execution_count": 9,
   "id": "3fe9f216-dc6d-4d78-86f2-af3068ef42f7",
   "metadata": {},
   "outputs": [
    {
     "name": "stdout",
     "output_type": "stream",
     "text": [
      "W_Q, W_K, W_V\n",
      "----------------------------------------\n",
      "[[2 0 2]\n",
      " [2 0 0]\n",
      " [2 1 2]]\n",
      "----------------------------------------\n",
      "[[2 2 2]\n",
      " [0 2 1]\n",
      " [0 1 1]]\n",
      "----------------------------------------\n",
      "[[1 1 0]\n",
      " [0 1 1]\n",
      " [0 0 0]]\n"
     ]
    }
   ],
   "source": [
    "np.random.seed(seed)\n",
    "\n",
    "W_Q = np.random.randint(low=3, size=(3, 3))\n",
    "W_K = np.random.randint(low=3, size=(3, 3))\n",
    "W_V = np.random.randint(low=3, size=(3, 3))\n",
    "\n",
    "print(\"W_Q, W_K, W_V\")\n",
    "HR()\n",
    "print(W_Q)\n",
    "HR()\n",
    "print(W_K)\n",
    "HR()\n",
    "print(W_V)"
   ]
  },
  {
   "cell_type": "markdown",
   "id": "aaadbb96-a589-461a-8b4e-e767250d1a85",
   "metadata": {},
   "source": [
    "---\n",
    "<a name='8.3.4'></a><a id='8.3.4'></a>\n",
    "## 8.3.4 Generate the query, key and value matrices\n",
    "\n",
    "<a href=\"#top\">[back to top]</a>\n",
    "\n",
    "Here, we multiply each word embedding by each of the weight matrices."
   ]
  },
  {
   "cell_type": "code",
   "execution_count": 10,
   "id": "7d454b26-855e-46a7-afc1-1632e7aa8473",
   "metadata": {},
   "outputs": [
    {
     "name": "stdout",
     "output_type": "stream",
     "text": [
      "(4, 3)\n",
      "(3, 3)\n"
     ]
    }
   ],
   "source": [
    "print(words.shape)\n",
    "print(W_Q.shape)"
   ]
  },
  {
   "cell_type": "code",
   "execution_count": 11,
   "id": "98c97c7a-448f-46b6-a07b-7f0b2f1c400b",
   "metadata": {},
   "outputs": [
    {
     "name": "stdout",
     "output_type": "stream",
     "text": [
      "Q, K, V\n",
      "----------------------------------------\n",
      "[[2 0 2]\n",
      " [2 0 0]\n",
      " [4 0 2]\n",
      " [2 1 2]]\n",
      "----------------------------------------\n",
      "[[2 2 2]\n",
      " [0 2 1]\n",
      " [2 4 3]\n",
      " [0 1 1]]\n",
      "----------------------------------------\n",
      "[[1 1 0]\n",
      " [0 1 1]\n",
      " [1 2 1]\n",
      " [0 0 0]]\n"
     ]
    }
   ],
   "source": [
    "Q = words @ W_Q\n",
    "K = words @ W_K\n",
    "V = words @ W_V\n",
    "\n",
    "print(\"Q, K, V\")\n",
    "HR()\n",
    "\n",
    "print(Q)\n",
    "HR()\n",
    "\n",
    "print(K)\n",
    "HR()\n",
    "\n",
    "print(V)"
   ]
  },
  {
   "cell_type": "markdown",
   "id": "e309b98b-0ee2-4e4c-b0f2-15fad9c4ec4b",
   "metadata": {},
   "source": [
    "---\n",
    "<a name='8.3.5'></a><a id='8.3.5'></a>\n",
    "## 8.3.5 Score the query vectors against all key vectors\n",
    "<a href=\"#top\">[back to top]</a>\n",
    "\n",
    "We use a dot-product operation here for the scaled attention scores."
   ]
  },
  {
   "cell_type": "code",
   "execution_count": 12,
   "id": "a96bae28-d099-484a-9dfe-0d095127bf36",
   "metadata": {},
   "outputs": [
    {
     "name": "stdout",
     "output_type": "stream",
     "text": [
      "Query matrix:\n",
      "[[2 0 2]\n",
      " [2 0 0]\n",
      " [4 0 2]\n",
      " [2 1 2]]\n"
     ]
    }
   ],
   "source": [
    "print(f\"Query matrix:\\n{Q}\")"
   ]
  },
  {
   "cell_type": "code",
   "execution_count": 13,
   "id": "754783f9-6410-4356-bfe4-481789865f92",
   "metadata": {},
   "outputs": [
    {
     "name": "stdout",
     "output_type": "stream",
     "text": [
      "Key matrix in transposed format:\n",
      "[[2 0 2 0]\n",
      " [2 2 4 1]\n",
      " [2 1 3 1]]\n"
     ]
    }
   ],
   "source": [
    "print(f\"Key matrix in transposed format:\\n{K.T}\")"
   ]
  },
  {
   "cell_type": "code",
   "execution_count": 14,
   "id": "f6b26065-ba03-4839-85ac-fa3b26ef7c69",
   "metadata": {},
   "outputs": [
    {
     "name": "stdout",
     "output_type": "stream",
     "text": [
      "[[ 8  2 10  2]\n",
      " [ 4  0  4  0]\n",
      " [12  2 14  2]\n",
      " [10  4 14  3]]\n"
     ]
    }
   ],
   "source": [
    "scores = Q @ K.transpose()\n",
    "\n",
    "print(scores)"
   ]
  },
  {
   "cell_type": "markdown",
   "id": "c17d1591-9b7d-4c68-b6ac-72ddc7fc1b1a",
   "metadata": {},
   "source": [
    "---\n",
    "<a name='8.3.6'></a><a id='8.3.6'></a>\n",
    "## 8.3.6 Compute the attention weights by a softmax operation\n",
    "<a href=\"#top\">[back to top]</a>\n",
    "\n",
    "* Scaled softmax attention_scores for each vector.\n",
    "* The score values are subsequently passed through a softmax operation to generate the weights. \n",
    "* It is common practice to divide the score values by the square root of the dimensionality of the key vectors (in this case, three) to keep the gradients stable.\n"
   ]
  },
  {
   "cell_type": "code",
   "execution_count": 15,
   "id": "3da75075-9768-4e76-bb34-be93aa5c72dc",
   "metadata": {},
   "outputs": [
    {
     "name": "stdout",
     "output_type": "stream",
     "text": [
      "3\n",
      "1.7320508075688772\n"
     ]
    }
   ],
   "source": [
    "# Square root of the dimensionality of the key vectors\n",
    "print(K.shape[1])\n",
    "\n",
    "sqrt_k = math.sqrt(K.shape[1])\n",
    "\n",
    "print(sqrt_k)"
   ]
  },
  {
   "cell_type": "code",
   "execution_count": 16,
   "id": "61aeafac-ab77-4cfa-9759-d96ff1cfe156",
   "metadata": {},
   "outputs": [
    {
     "name": "stdout",
     "output_type": "stream",
     "text": [
      "[[0.236 0.007 0.749 0.007]\n",
      " [0.455 0.045 0.455 0.045]\n",
      " [0.239 0.001 0.759 0.001]\n",
      " [0.09  0.003 0.906 0.002]]\n"
     ]
    }
   ],
   "source": [
    "attention_weights = softmax((scores / sqrt_k), axis=1)\n",
    "\n",
    "print(attention_weights.round(3))"
   ]
  },
  {
   "cell_type": "markdown",
   "id": "7b8f7115-d73e-45db-a622-d2930f9dab5e",
   "metadata": {},
   "source": [
    "---\n",
    "<a name='8.3.7'></a><a id='8.3.7'></a>\n",
    "## 8.3.7 Compute the attention output by a weighted sum of the value vectors\n",
    "<a href=\"#top\">[back to top]</a>"
   ]
  },
  {
   "cell_type": "code",
   "execution_count": 17,
   "id": "e67307fb-aa38-4cb5-817b-f216a66c2eed",
   "metadata": {},
   "outputs": [
    {
     "data": {
      "text/plain": [
       "array([[0.236, 0.007, 0.749, 0.007],\n",
       "       [0.455, 0.045, 0.455, 0.045],\n",
       "       [0.239, 0.001, 0.759, 0.001],\n",
       "       [0.09 , 0.003, 0.906, 0.002]])"
      ]
     },
     "execution_count": 17,
     "metadata": {},
     "output_type": "execute_result"
    }
   ],
   "source": [
    "attention_weights.round(3)"
   ]
  },
  {
   "cell_type": "code",
   "execution_count": 18,
   "id": "4be63455-f69d-4c3e-a038-460e7a9941f4",
   "metadata": {},
   "outputs": [
    {
     "data": {
      "text/plain": [
       "array([[1, 1, 0],\n",
       "       [0, 1, 1],\n",
       "       [1, 2, 1],\n",
       "       [0, 0, 0]])"
      ]
     },
     "execution_count": 18,
     "metadata": {},
     "output_type": "execute_result"
    }
   ],
   "source": [
    "V"
   ]
  },
  {
   "cell_type": "code",
   "execution_count": 19,
   "id": "da71dcb5-5999-4e4f-a6f8-d07775ba2456",
   "metadata": {},
   "outputs": [
    {
     "name": "stdout",
     "output_type": "stream",
     "text": [
      "(4, 3)\n",
      "----------------------------------------\n",
      "[[0.98522025 1.74174051 0.75652026]\n",
      " [0.90965265 1.40965265 0.5       ]\n",
      " [0.99851226 1.75849334 0.75998108]\n",
      " [0.99560386 1.90407309 0.90846923]]\n"
     ]
    }
   ],
   "source": [
    "attention_output = attention_weights @ V\n",
    "\n",
    "print(attention_output.shape)\n",
    "HR()\n",
    "\n",
    "print(attention_output)"
   ]
  },
  {
   "cell_type": "markdown",
   "id": "aef07004-67b7-4e4f-804f-dc15e9e7cb73",
   "metadata": {},
   "source": [
    "---\n",
    "**Visualizations**"
   ]
  },
  {
   "cell_type": "code",
   "execution_count": 44,
   "id": "29316fca-8b20-43ef-9bbb-ce731997e446",
   "metadata": {},
   "outputs": [
    {
     "data": {
      "image/png": "[encoded data removed]",
      "text/plain": [
       "<Figure size 500x300 with 2 Axes>"
      ]
     },
     "metadata": {},
     "output_type": "display_data"
    }
   ],
   "source": [
    "annotation_size = 9\n",
    "plot_size = (5,3)\n",
    "\n",
    "plt.figure(figsize=plot_size)\n",
    "plt.title(\"Word Values\")\n",
    "sns.heatmap(V, annot=True, cmap='Blues', annot_kws={\"size\": annotation_size})\n",
    "\n",
    "plt.show()"
   ]
  },
  {
   "cell_type": "code",
   "execution_count": 39,
   "id": "936ffeab-5276-4c11-b3c7-b9a9817d9098",
   "metadata": {},
   "outputs": [
    {
     "data": {
      "image/png": "[encoded data removed]",
      "text/plain": [
       "<Figure size 500x300 with 2 Axes>"
      ]
     },
     "metadata": {},
     "output_type": "display_data"
    }
   ],
   "source": [
    "plt.figure(figsize=plot_size)\n",
    "plt.title(\"Attention Weights\")\n",
    "sns.heatmap(attention_weights, annot=True, cmap='Blues', fmt='.8f', annot_kws={\"size\": annotation_size})\n",
    "plt.show()"
   ]
  },
  {
   "cell_type": "code",
   "execution_count": 46,
   "id": "586088fa-cab4-4076-8bda-892153ef5b11",
   "metadata": {},
   "outputs": [
    {
     "data": {
      "image/png": "[encoded data removed]",
      "text/plain": [
       "<Figure size 500x300 with 2 Axes>"
      ]
     },
     "metadata": {},
     "output_type": "display_data"
    }
   ],
   "source": [
    "plt.figure(figsize=plot_size)\n",
    "plt.title(\"Attention Output\")\n",
    "sns.heatmap(attention_output, annot=True, cmap='Blues', fmt='.8f', annot_kws={\"size\": annotation_size})\n",
    "plt.show()"
   ]
  },
  {
   "cell_type": "markdown",
   "id": "632f071f-b077-4b77-bbcb-cbd48c2281d0",
   "metadata": {},
   "source": [
    "---\n",
    "---\n",
    "---\n",
    "\n",
    "---\n",
    "<a name='extra'></a><a id='extra'></a>\n",
    "## Extra\n",
    "<a href=\"#top\">[back to top]</a>\n",
    "\n",
    "* Assume we have num_inputs results with learned weights (they were not trained in this example).\n",
    "* Assume we are implementing the original Transformer paper. \n",
    "* We will have num_inputs results of 64 dimensions each.\n",
    "* Assume we have trained the 8 heads of the attention sub-layer.\n",
    "* From https://github.com/PacktPublishing/Transformers-for-Natural-Language-Processing/blob/main/Chapter01/Multi_Head_Attention_Sub_Layer.ipynb"
   ]
  },
  {
   "cell_type": "code",
   "execution_count": 23,
   "id": "66b25804-8fa3-4385-939b-244554ce7dab",
   "metadata": {},
   "outputs": [
    {
     "name": "stdout",
     "output_type": "stream",
     "text": [
      "4\n",
      "512\n",
      "8\n",
      "64\n"
     ]
    }
   ],
   "source": [
    "np.random.seed(seed)\n",
    "\n",
    "num_inputs = 4\n",
    "full_dim = 512\n",
    "num_heads = 8\n",
    "output_dim = (full_dim // num_heads) # ensure result is an integer\n",
    "\n",
    "print(num_inputs)\n",
    "print(full_dim)\n",
    "print(num_heads)\n",
    "print(output_dim)\n",
    "\n",
    "attn_heads = [np.random.random((num_inputs, output_dim)) for x in range(0, num_heads)]"
   ]
  },
  {
   "cell_type": "code",
   "execution_count": 24,
   "id": "256c95dd-75a6-477f-a2a1-a695b7235ed3",
   "metadata": {},
   "outputs": [
    {
     "name": "stdout",
     "output_type": "stream",
     "text": [
      "Concatenation of heads 1 to 8 to obtain the original 8x64=512 output dimension of the model\n",
      "----------------------------------------\n",
      "(4, 512)\n",
      "----------------------------------------\n",
      "[[0.3745 0.9507 0.732  ... 0.8465 0.9189 0.2522]\n",
      " [0.2809 0.5427 0.1409 ... 0.593  0.3915 0.4126]\n",
      " [0.007  0.5107 0.4174 ... 0.8026 0.4582 0.483 ]\n",
      " [0.9004 0.6331 0.339  ... 0.7228 0.0677 0.7078]]\n"
     ]
    }
   ],
   "source": [
    "print(\"Concatenation of heads 1 to 8 to obtain the original 8x64=512 output dimension of the model\")\n",
    "HR()\n",
    "\n",
    "# Equivalent to concatenation along the second axis\n",
    "output_attention = np.hstack(attn_heads)\n",
    "\n",
    "# Equivalent to this:\n",
    "# output_attention = np.concatenate(attn_heads, axis=1)\n",
    "\n",
    "print(output_attention.shape)\n",
    "HR()\n",
    "\n",
    "print(output_attention.round(num_inputs))"
   ]
  },
  {
   "cell_type": "code",
   "execution_count": 25,
   "id": "bb374159-4481-4d56-b8c1-4a3ffbb41f9a",
   "metadata": {},
   "outputs": [
    {
     "data": {
      "image/png": "[encoded data removed]",
      "text/plain": [
       "<Figure size 500x300 with 2 Axes>"
      ]
     },
     "metadata": {},
     "output_type": "display_data"
    }
   ],
   "source": [
    "plt.figure(figsize=plot_size)\n",
    "plt.title(\"Attention\")\n",
    "sns.heatmap(output_attention, annot=False, cmap='Blues')\n",
    "plt.show()"
   ]
  },
  {
   "cell_type": "code",
   "execution_count": 26,
   "id": "05b62d7c-0826-4b5a-a5d4-76dba5f21977",
   "metadata": {},
   "outputs": [
    {
     "data": {
      "text/html": [
       "<div>\n",
       "<style scoped>\n",
       "    .dataframe tbody tr th:only-of-type {\n",
       "        vertical-align: middle;\n",
       "    }\n",
       "\n",
       "    .dataframe tbody tr th {\n",
       "        vertical-align: top;\n",
       "    }\n",
       "\n",
       "    .dataframe thead th {\n",
       "        text-align: right;\n",
       "    }\n",
       "</style>\n",
       "<table border=\"1\" class=\"dataframe\">\n",
       "  <thead>\n",
       "    <tr style=\"text-align: right;\">\n",
       "      <th></th>\n",
       "      <th>0</th>\n",
       "      <th>1</th>\n",
       "      <th>2</th>\n",
       "      <th>3</th>\n",
       "      <th>4</th>\n",
       "      <th>5</th>\n",
       "      <th>6</th>\n",
       "      <th>7</th>\n",
       "      <th>8</th>\n",
       "      <th>9</th>\n",
       "      <th>...</th>\n",
       "      <th>502</th>\n",
       "      <th>503</th>\n",
       "      <th>504</th>\n",
       "      <th>505</th>\n",
       "      <th>506</th>\n",
       "      <th>507</th>\n",
       "      <th>508</th>\n",
       "      <th>509</th>\n",
       "      <th>510</th>\n",
       "      <th>511</th>\n",
       "    </tr>\n",
       "  </thead>\n",
       "  <tbody>\n",
       "    <tr>\n",
       "      <th>0</th>\n",
       "      <td>0.374540</td>\n",
       "      <td>0.950714</td>\n",
       "      <td>0.731994</td>\n",
       "      <td>0.598658</td>\n",
       "      <td>0.156019</td>\n",
       "      <td>0.155995</td>\n",
       "      <td>0.058084</td>\n",
       "      <td>0.866176</td>\n",
       "      <td>0.601115</td>\n",
       "      <td>0.708073</td>\n",
       "      <td>...</td>\n",
       "      <td>0.121501</td>\n",
       "      <td>0.197470</td>\n",
       "      <td>0.886925</td>\n",
       "      <td>0.645811</td>\n",
       "      <td>0.285907</td>\n",
       "      <td>0.815947</td>\n",
       "      <td>0.861370</td>\n",
       "      <td>0.846514</td>\n",
       "      <td>0.918927</td>\n",
       "      <td>0.252241</td>\n",
       "    </tr>\n",
       "    <tr>\n",
       "      <th>1</th>\n",
       "      <td>0.280935</td>\n",
       "      <td>0.542696</td>\n",
       "      <td>0.140924</td>\n",
       "      <td>0.802197</td>\n",
       "      <td>0.074551</td>\n",
       "      <td>0.986887</td>\n",
       "      <td>0.772245</td>\n",
       "      <td>0.198716</td>\n",
       "      <td>0.005522</td>\n",
       "      <td>0.815461</td>\n",
       "      <td>...</td>\n",
       "      <td>0.305604</td>\n",
       "      <td>0.876651</td>\n",
       "      <td>0.996334</td>\n",
       "      <td>0.368310</td>\n",
       "      <td>0.448611</td>\n",
       "      <td>0.722071</td>\n",
       "      <td>0.886196</td>\n",
       "      <td>0.593044</td>\n",
       "      <td>0.391526</td>\n",
       "      <td>0.412622</td>\n",
       "    </tr>\n",
       "    <tr>\n",
       "      <th>2</th>\n",
       "      <td>0.006952</td>\n",
       "      <td>0.510747</td>\n",
       "      <td>0.417411</td>\n",
       "      <td>0.222108</td>\n",
       "      <td>0.119865</td>\n",
       "      <td>0.337615</td>\n",
       "      <td>0.942910</td>\n",
       "      <td>0.323203</td>\n",
       "      <td>0.518791</td>\n",
       "      <td>0.703019</td>\n",
       "      <td>...</td>\n",
       "      <td>0.298726</td>\n",
       "      <td>0.940679</td>\n",
       "      <td>0.259297</td>\n",
       "      <td>0.429657</td>\n",
       "      <td>0.872730</td>\n",
       "      <td>0.841934</td>\n",
       "      <td>0.186101</td>\n",
       "      <td>0.802643</td>\n",
       "      <td>0.458187</td>\n",
       "      <td>0.482969</td>\n",
       "    </tr>\n",
       "    <tr>\n",
       "      <th>3</th>\n",
       "      <td>0.900418</td>\n",
       "      <td>0.633101</td>\n",
       "      <td>0.339030</td>\n",
       "      <td>0.349210</td>\n",
       "      <td>0.725956</td>\n",
       "      <td>0.897110</td>\n",
       "      <td>0.887086</td>\n",
       "      <td>0.779876</td>\n",
       "      <td>0.642032</td>\n",
       "      <td>0.084140</td>\n",
       "      <td>...</td>\n",
       "      <td>0.225317</td>\n",
       "      <td>0.250967</td>\n",
       "      <td>0.850616</td>\n",
       "      <td>0.561223</td>\n",
       "      <td>0.523391</td>\n",
       "      <td>0.114769</td>\n",
       "      <td>0.860140</td>\n",
       "      <td>0.722814</td>\n",
       "      <td>0.067668</td>\n",
       "      <td>0.707835</td>\n",
       "    </tr>\n",
       "  </tbody>\n",
       "</table>\n",
       "<p>4 rows × 512 columns</p>\n",
       "</div>"
      ],
      "text/plain": [
       "        0         1         2         3         4         5         6    \\\n",
       "0  0.374540  0.950714  0.731994  0.598658  0.156019  0.155995  0.058084   \n",
       "1  0.280935  0.542696  0.140924  0.802197  0.074551  0.986887  0.772245   \n",
       "2  0.006952  0.510747  0.417411  0.222108  0.119865  0.337615  0.942910   \n",
       "3  0.900418  0.633101  0.339030  0.349210  0.725956  0.897110  0.887086   \n",
       "\n",
       "        7         8         9    ...       502       503       504       505  \\\n",
       "0  0.866176  0.601115  0.708073  ...  0.121501  0.197470  0.886925  0.645811   \n",
       "1  0.198716  0.005522  0.815461  ...  0.305604  0.876651  0.996334  0.368310   \n",
       "2  0.323203  0.518791  0.703019  ...  0.298726  0.940679  0.259297  0.429657   \n",
       "3  0.779876  0.642032  0.084140  ...  0.225317  0.250967  0.850616  0.561223   \n",
       "\n",
       "        506       507       508       509       510       511  \n",
       "0  0.285907  0.815947  0.861370  0.846514  0.918927  0.252241  \n",
       "1  0.448611  0.722071  0.886196  0.593044  0.391526  0.412622  \n",
       "2  0.872730  0.841934  0.186101  0.802643  0.458187  0.482969  \n",
       "3  0.523391  0.114769  0.860140  0.722814  0.067668  0.707835  \n",
       "\n",
       "[4 rows x 512 columns]"
      ]
     },
     "execution_count": 26,
     "metadata": {},
     "output_type": "execute_result"
    }
   ],
   "source": [
    "import pandas as pd\n",
    "\n",
    "df = pd.DataFrame(output_attention)\n",
    "\n",
    "df"
   ]
  },
  {
   "cell_type": "markdown",
   "id": "94aacb62-44a7-4cce-96fb-953051213448",
   "metadata": {},
   "source": [
    "---\n",
    "---\n",
    "---"
   ]
  },
  {
   "cell_type": "code",
   "execution_count": 27,
   "id": "1c59cc54-2e1a-462b-b2fe-43e955bee8f1",
   "metadata": {},
   "outputs": [],
   "source": [
    "# @title Transformer Installation\n",
    "#!pip -qq install transformers"
   ]
  },
  {
   "cell_type": "code",
   "execution_count": 28,
   "id": "488b837b-30b5-4828-9400-c8c9c1f9adfe",
   "metadata": {},
   "outputs": [],
   "source": [
    "# @title Retrieve pipeline of modules and choose English to French translation\n",
    "# from transformers import pipeline\n",
    "\n",
    "# # Download\n",
    "# translator = pipeline(\"translation_en_to_fr\")"
   ]
  },
  {
   "cell_type": "code",
   "execution_count": 29,
   "id": "5afdfcdb-42f3-4b92-bcc8-cbc9d40d8f66",
   "metadata": {},
   "outputs": [],
   "source": [
    "# One line of code!\n",
    "# result = translator(\n",
    "#     \"It is easy to translate languages with transformers\", \n",
    "#     max_length=40\n",
    "# )"
   ]
  },
  {
   "cell_type": "code",
   "execution_count": 30,
   "id": "e02c6e2d-30a6-4def-b7c9-8e16167a44f0",
   "metadata": {},
   "outputs": [],
   "source": [
    "# print(result)"
   ]
  },
  {
   "cell_type": "code",
   "execution_count": 31,
   "id": "424943ec-5c97-403c-8bce-96b0eb04b618",
   "metadata": {},
   "outputs": [],
   "source": [
    "# result2 = translator(\n",
    "#     \"It is easy to translate languages with transformers\", \n",
    "#     max_length=40,\n",
    "#     return_tensors=True\n",
    "# )"
   ]
  },
  {
   "cell_type": "code",
   "execution_count": 32,
   "id": "b090d460-7eae-471f-a4fc-6a14af4f353d",
   "metadata": {},
   "outputs": [],
   "source": [
    "# result2[0]['translation_token_ids']"
   ]
  },
  {
   "cell_type": "code",
   "execution_count": 33,
   "id": "36bfd3a3-9c7e-4347-99db-7f9a707e3621",
   "metadata": {},
   "outputs": [],
   "source": [
    "# result2[0]['translation_text']"
   ]
  },
  {
   "cell_type": "code",
   "execution_count": null,
   "id": "55160c12-9a92-4f96-a3da-b390e0a33bfc",
   "metadata": {},
   "outputs": [],
   "source": []
  }
 ],
 "metadata": {
  "kernelspec": {
   "display_name": "Python 3 (ipykernel)",
   "language": "python",
   "name": "python3"
  },
  "language_info": {
   "codemirror_mode": {
    "name": "ipython",
    "version": 3
   },
   "file_extension": ".py",
   "mimetype": "text/x-python",
   "name": "python",
   "nbconvert_exporter": "python",
   "pygments_lexer": "ipython3",
   "version": "3.8.12"
  }
 },
 "nbformat": 4,
 "nbformat_minor": 5
}
