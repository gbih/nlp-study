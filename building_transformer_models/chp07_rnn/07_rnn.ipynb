{
 "cells": [
  {
   "cell_type": "markdown",
   "id": "dab141a3-31d7-416b-a63d-1f10eeedee98",
   "metadata": {},
   "source": [
    "# Chapter 7\n",
    "## Understanding Simple Recurrent Neural Networks in Keras"
   ]
  },
  {
   "cell_type": "markdown",
   "id": "a3a81181-5087-44a9-aafc-7ad93c3a0bbe",
   "metadata": {},
   "source": [
    "### 7.1 Keras SimpleRNN Layer"
   ]
  },
  {
   "cell_type": "code",
   "execution_count": 3,
   "id": "c79f8916-3e54-4201-a325-cd3724096212",
   "metadata": {},
   "outputs": [],
   "source": [
    "req_file = \"requirements_07.txt\""
   ]
  },
  {
   "cell_type": "code",
   "execution_count": 4,
   "id": "19fc97b8-b1bb-435f-97c6-d50c7b51ad14",
   "metadata": {},
   "outputs": [
    {
     "name": "stdout",
     "output_type": "stream",
     "text": [
      "Overwriting requirements_07.txt\n"
     ]
    }
   ],
   "source": [
    "%%writefile {req_file}\n",
    "isort\n",
    "scikit-learn-intelex\n",
    "watermark"
   ]
  },
  {
   "cell_type": "code",
   "execution_count": 5,
   "id": "8cf44eca-03f4-43ce-8b26-88d66330e76e",
   "metadata": {},
   "outputs": [
    {
     "name": "stdout",
     "output_type": "stream",
     "text": [
      "Running locally.\n"
     ]
    },
    {
     "name": "stderr",
     "output_type": "stream",
     "text": [
      "Intel(R) Extension for Scikit-learn* enabled (https://github.com/intel/scikit-learn-intelex)\n"
     ]
    }
   ],
   "source": [
    "import sys\n",
    "IS_COLAB = 'google.colab' in sys.modules\n",
    "\n",
    "if IS_COLAB:\n",
    "    print(\"Installing packages\")\n",
    "    !pip install --upgrade --quiet -r {req_file}\n",
    "else:\n",
    "    print(\"Running locally.\")\n",
    "\n",
    "# Need to import before sklearn\n",
    "from sklearnex import patch_sklearn\n",
    "patch_sklearn()"
   ]
  },
  {
   "cell_type": "code",
   "execution_count": 6,
   "id": "41f11db3-c00c-400c-9763-fd79d5b179fc",
   "metadata": {},
   "outputs": [
    {
     "name": "stdout",
     "output_type": "stream",
     "text": [
      "Overwriting imports.py\n"
     ]
    }
   ],
   "source": [
    "%%writefile imports.py\n",
    "import locale\n",
    "import math\n",
    "import pprint\n",
    "import random\n",
    "import warnings\n",
    "from collections import Counter\n",
    "\n",
    "import matplotlib.pyplot as plt\n",
    "import numpy as np\n",
    "import pandas as pd\n",
    "import seaborn as sns\n",
    "import tensorflow as tf\n",
    "from sklearn.metrics import mean_squared_error\n",
    "from sklearn.preprocessing import MinMaxScaler\n",
    "from tensorflow import keras\n",
    "from tqdm.auto import tqdm\n",
    "from watermark import watermark"
   ]
  },
  {
   "cell_type": "code",
   "execution_count": 7,
   "id": "cad9e485-a6a4-47f7-b2e7-7cf0d6209c34",
   "metadata": {},
   "outputs": [
    {
     "name": "stdout",
     "output_type": "stream",
     "text": [
      "import locale\n",
      "import math\n",
      "import pprint\n",
      "import random\n",
      "import warnings\n",
      "from collections import Counter\n",
      "\n",
      "import matplotlib.pyplot as plt\n",
      "import numpy as np\n",
      "import pandas as pd\n",
      "import seaborn as sns\n",
      "import tensorflow as tf\n",
      "from sklearn.metrics import mean_squared_error\n",
      "from sklearn.preprocessing import MinMaxScaler\n",
      "from tensorflow import keras\n",
      "from tqdm.auto import tqdm\n",
      "from watermark import watermark\n"
     ]
    }
   ],
   "source": [
    "!isort imports.py --sl\n",
    "!cat imports.py"
   ]
  },
  {
   "cell_type": "code",
   "execution_count": 8,
   "id": "cbde9b5d-6fe4-4ffe-8334-865a09a72d48",
   "metadata": {},
   "outputs": [],
   "source": [
    "import locale\n",
    "import math\n",
    "import pprint\n",
    "import random\n",
    "import warnings\n",
    "from collections import Counter\n",
    "\n",
    "import matplotlib.pyplot as plt\n",
    "import numpy as np\n",
    "import pandas as pd\n",
    "import seaborn as sns\n",
    "import tensorflow as tf\n",
    "from sklearn.metrics import mean_squared_error\n",
    "from sklearn.preprocessing import MinMaxScaler\n",
    "from tensorflow import keras\n",
    "from tqdm.auto import tqdm\n",
    "from watermark import watermark"
   ]
  },
  {
   "cell_type": "code",
   "execution_count": 9,
   "id": "a8d02769-5513-450f-bef8-e748f764142f",
   "metadata": {},
   "outputs": [
    {
     "name": "stdout",
     "output_type": "stream",
     "text": [
      "Python implementation: CPython\n",
      "Python version       : 3.8.12\n",
      "IPython version      : 7.34.0\n",
      "\n",
      "Compiler    : Clang 13.0.0 (clang-1300.0.29.3)\n",
      "OS          : Darwin\n",
      "Release     : 21.6.0\n",
      "Machine     : x86_64\n",
      "Processor   : i386\n",
      "CPU cores   : 4\n",
      "Architecture: 64bit\n",
      "\n",
      "numpy     : 1.23.5\n",
      "keras     : 2.9.0\n",
      "matplotlib: 3.6.2\n",
      "sys       : 3.8.12 (default, Dec 13 2021, 20:17:08) \n",
      "[Clang 13.0.0 (clang-1300.0.29.3)]\n",
      "pandas    : 1.5.3\n",
      "seaborn   : 0.12.1\n",
      "tensorflow: 2.9.3\n",
      "\n"
     ]
    }
   ],
   "source": [
    "def HR():\n",
    "    print(\"-\"*40)\n",
    "    \n",
    "def getpreferredencoding(do_setlocale = True):\n",
    "    return \"UTF-8\"\n",
    "\n",
    "locale.getpreferredencoding = getpreferredencoding\n",
    "warnings.filterwarnings('ignore')\n",
    "BASE_DIR = '.'\n",
    "sns.set_style(\"darkgrid\")\n",
    "tqdm.pandas(desc=\"progress-bar\")\n",
    "pp = pprint.PrettyPrinter(indent=4)\n",
    "random.seed(23)\n",
    "\n",
    "print(watermark(iversions=True,globals_=globals(),python=True,machine=True))"
   ]
  },
  {
   "cell_type": "markdown",
   "id": "660f76f7-752f-4316-9545-dfb77acb002e",
   "metadata": {},
   "source": [
    "---\n",
    "<a name='1.1'></a><a id='1.1'></a>\n",
    "# 1.1  Part 1\n",
    "<a href=\"#top\">[back to top]</a>"
   ]
  },
  {
   "cell_type": "markdown",
   "id": "a7fd62d3-aba8-407b-98aa-74b6c5e5a949",
   "metadata": {},
   "source": [
    "Create a model with `SimpleRNN` layer and Dense layer for learning sequential data."
   ]
  },
  {
   "cell_type": "code",
   "execution_count": 10,
   "id": "d27bbf2e-8909-4103-976c-cf05a8f283c9",
   "metadata": {},
   "outputs": [
    {
     "name": "stderr",
     "output_type": "stream",
     "text": [
      "2023-06-27 22:15:38.655535: I tensorflow/core/platform/cpu_feature_guard.cc:193] This TensorFlow binary is optimized with oneAPI Deep Neural Network Library (oneDNN) to use the following CPU instructions in performance-critical operations:  AVX2 FMA\n",
      "To enable them in other operations, rebuild TensorFlow with the appropriate compiler flags.\n"
     ]
    }
   ],
   "source": [
    "def create_RNN(hidden_units, dense_units, input_shape, activation):\n",
    "    \n",
    "    model = tf.keras.models.Sequential()\n",
    "    \n",
    "    model.add(\n",
    "        tf.keras.layers.SimpleRNN(\n",
    "            hidden_units, \n",
    "            input_shape=input_shape, \n",
    "            activation=activation[0]\n",
    "        )\n",
    "    )\n",
    "\n",
    "    model.add(\n",
    "            tf.keras.layers.Dense(\n",
    "            units=dense_units,\n",
    "            activation=activation[1]\n",
    "        )\n",
    "    )\n",
    "    \n",
    "    model.compile(\n",
    "        loss='mean_squared_error',\n",
    "        optimizer='adam'\n",
    "    )\n",
    "    return model\n",
    "\n",
    "demo_model = create_RNN(\n",
    "    2, \n",
    "    1,\n",
    "    (3,1),\n",
    "    activation=['linear', 'linear']\n",
    ")"
   ]
  },
  {
   "cell_type": "code",
   "execution_count": 11,
   "id": "d8e9fe9c-dc06-4d13-90f0-df15746292dc",
   "metadata": {},
   "outputs": [],
   "source": [
    "wx = demo_model.get_weights()[0]\n",
    "wh = demo_model.get_weights()[1]\n",
    "bh = demo_model.get_weights()[2]\n",
    "wy = demo_model.get_weights()[3]\n",
    "by = demo_model.get_weights()[4]"
   ]
  },
  {
   "cell_type": "code",
   "execution_count": 12,
   "id": "9f4d49eb-1560-4843-b3f6-f7d2ebfd27ee",
   "metadata": {},
   "outputs": [
    {
     "name": "stdout",
     "output_type": "stream",
     "text": [
      "wx =  [[0.06126022 1.1734229 ]]\n",
      "----------------------------------------\n",
      "wh =  [[-0.40033364  0.9163694 ]\n",
      " [ 0.9163694   0.4003337 ]]\n",
      "----------------------------------------\n",
      "bh =  [0. 0.]\n",
      "----------------------------------------\n",
      "wy =  [[0.09243512]\n",
      " [1.086069  ]]\n",
      "----------------------------------------\n",
      "by =  [0.]\n"
     ]
    }
   ],
   "source": [
    "print('wx = ', wx)\n",
    "HR()\n",
    "print('wh = ', wh)\n",
    "HR()\n",
    "print('bh = ', bh)\n",
    "HR()\n",
    "print('wy = ', wy)\n",
    "HR()\n",
    "print('by = ', by)"
   ]
  },
  {
   "cell_type": "code",
   "execution_count": null,
   "id": "201ae77f-5a34-40be-91b5-0fc6c7238a83",
   "metadata": {},
   "outputs": [],
   "source": []
  }
 ],
 "metadata": {
  "kernelspec": {
   "display_name": "Python 3 (ipykernel)",
   "language": "python",
   "name": "python3"
  },
  "language_info": {
   "codemirror_mode": {
    "name": "ipython",
    "version": 3
   },
   "file_extension": ".py",
   "mimetype": "text/x-python",
   "name": "python",
   "nbconvert_exporter": "python",
   "pygments_lexer": "ipython3",
   "version": "3.8.12"
  }
 },
 "nbformat": 4,
 "nbformat_minor": 5
}
