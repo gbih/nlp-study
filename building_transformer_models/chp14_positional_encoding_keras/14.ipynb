{
 "cells": [
  {
   "cell_type": "markdown",
   "id": "d5f2e252-5709-4fdb-a49f-0a47c4a0a12c",
   "metadata": {},
   "source": [
    "<a id='top'></a><a name='top'></a>\n",
    "# Chapter 14: Transformer Positional Encoding Layer in Keras\n"
   ]
  },
  {
   "cell_type": "markdown",
   "id": "a98caf73-2de4-44ef-9f2c-a42dcb20b23e",
   "metadata": {},
   "source": [
    "* [Introduction](#introduction)\n",
    "* [14.0 Imports and Setup](#14.0)\n",
    "* [14.1 What is Positional Encoding](#14.1)\n",
    "* [14.2 Positional Encoding Layer in Transformers](#14.2)\n",
    "* [14.3 Coding the Positional Encoding Matrix from Scratch](#14.3)\n",
    "* [14.4 Positional Encoding in Transformers](#14.4)\n",
    "* [14.5 Visualizing the Final Embedding](#14.5)\n",
    "* [Extra](#extra)"
   ]
  },
  {
   "cell_type": "markdown",
   "id": "51edc176-cf9e-4841-b11b-3fdcf8b25cff",
   "metadata": {},
   "source": [
    "---\n",
    "<a name='introduction'></a><a id='introduction'></a>\n",
    "# Introduction\n",
    "<a href=\"#top\">[back to top]</a>\n",
    "\n",
    "Implement the positional encoding layer in Keras and TensorFlow.\n",
    "\n",
    "### Dataset\n",
    "\n",
    "* Toy dataset.\n",
    "\n",
    "### Explore\n",
    "* Text vectorization in Keras\n",
    "* Embedding layer in Keras\n",
    "* How to subclass the embedding layer and write your own positional encoding layer"
   ]
  },
  {
   "cell_type": "markdown",
   "id": "3715e149-7bdd-4316-8ec4-44a88420df1e",
   "metadata": {},
   "source": [
    "---\n",
    "<a name='14.0'></a><a id='14.0'></a>\n",
    "# 14.0 Imports and Setup\n",
    "<a href=\"#top\">[back to top]</a>"
   ]
  },
  {
   "cell_type": "code",
   "execution_count": 1,
   "id": "ac38f35c-b0e6-43e6-bf30-10b9a016f026",
   "metadata": {},
   "outputs": [],
   "source": [
    "req_file = \"requirements_14.txt\""
   ]
  },
  {
   "cell_type": "code",
   "execution_count": 3,
   "id": "8e237baa-1efe-45a3-8939-b0b620042fde",
   "metadata": {},
   "outputs": [
    {
     "name": "stdout",
     "output_type": "stream",
     "text": [
      "Overwriting requirements_14.txt\n"
     ]
    }
   ],
   "source": [
    "%%writefile {req_file}\n",
    "isort\n",
    "scikit-learn-intelex\n",
    "watermark"
   ]
  },
  {
   "cell_type": "code",
   "execution_count": 4,
   "id": "0d9b2565-5df8-4c14-89d6-3a07b52a0880",
   "metadata": {},
   "outputs": [
    {
     "name": "stdout",
     "output_type": "stream",
     "text": [
      "Running locally.\n"
     ]
    },
    {
     "name": "stderr",
     "output_type": "stream",
     "text": [
      "Intel(R) Extension for Scikit-learn* enabled (https://github.com/intel/scikit-learn-intelex)\n"
     ]
    }
   ],
   "source": [
    "import sys\n",
    "IS_COLAB = 'google.colab' in sys.modules\n",
    "\n",
    "if IS_COLAB:\n",
    "    print(\"Installing packages\")\n",
    "    !pip install --upgrade --quiet -r {req_file}\n",
    "else:\n",
    "    print(\"Running locally.\")\n",
    "\n",
    "# Need to import before sklearn\n",
    "from sklearnex import patch_sklearn\n",
    "patch_sklearn()"
   ]
  },
  {
   "cell_type": "code",
   "execution_count": 3,
   "id": "a5098997-73b3-4f3c-82aa-71f15c6cd9f3",
   "metadata": {},
   "outputs": [
    {
     "name": "stdout",
     "output_type": "stream",
     "text": [
      "Overwriting imports.py\n"
     ]
    }
   ],
   "source": [
    "%%writefile imports.py\n",
    "import locale\n",
    "import math\n",
    "import pprint\n",
    "import warnings\n",
    "\n",
    "import matplotlib.pyplot as plt\n",
    "import numpy as np\n",
    "import pandas as pd\n",
    "import seaborn as sns\n",
    "import tensorflow as tf\n",
    "from tensorflow import convert_to_tensor\n",
    "from tensorflow.data import Dataset\n",
    "from tensorflow.keras.layers import Embedding\n",
    "from tensorflow.keras.layers import Layer\n",
    "from tensorflow.keras.layers import TextVectorization\n",
    "from tqdm.auto import tqdm\n",
    "from watermark import watermark"
   ]
  },
  {
   "cell_type": "code",
   "execution_count": 4,
   "id": "a3c56533-e62d-47c2-aadc-147fd04ea853",
   "metadata": {},
   "outputs": [
    {
     "name": "stdout",
     "output_type": "stream",
     "text": [
      "import locale\n",
      "import math\n",
      "import pprint\n",
      "import warnings\n",
      "\n",
      "import matplotlib.pyplot as plt\n",
      "import numpy as np\n",
      "import pandas as pd\n",
      "import seaborn as sns\n",
      "import tensorflow as tf\n",
      "from tensorflow import convert_to_tensor\n",
      "from tensorflow.data import Dataset\n",
      "from tensorflow.keras.layers import Embedding\n",
      "from tensorflow.keras.layers import Layer\n",
      "from tensorflow.keras.layers import TextVectorization\n",
      "from tqdm.auto import tqdm\n",
      "from watermark import watermark\n"
     ]
    }
   ],
   "source": [
    "!isort imports.py --sl\n",
    "!cat imports.py"
   ]
  },
  {
   "cell_type": "code",
   "execution_count": 5,
   "id": "5b102a7c-20f3-4037-9b38-0bbdfa04f5a8",
   "metadata": {},
   "outputs": [],
   "source": [
    "import locale\n",
    "import math\n",
    "import pprint\n",
    "import warnings\n",
    "\n",
    "import matplotlib.pyplot as plt\n",
    "import numpy as np\n",
    "import pandas as pd\n",
    "import seaborn as sns\n",
    "import tensorflow as tf\n",
    "from tensorflow import convert_to_tensor\n",
    "from tensorflow.data import Dataset\n",
    "from tensorflow.keras.layers import Embedding\n",
    "from tensorflow.keras.layers import Layer\n",
    "from tensorflow.keras.layers import TextVectorization\n",
    "from tqdm.auto import tqdm\n",
    "from watermark import watermark"
   ]
  },
  {
   "cell_type": "code",
   "execution_count": 6,
   "id": "37579eda-da1d-4a5d-807b-6560a51053f7",
   "metadata": {},
   "outputs": [
    {
     "name": "stdout",
     "output_type": "stream",
     "text": [
      "Python implementation: CPython\n",
      "Python version       : 3.8.12\n",
      "IPython version      : 7.34.0\n",
      "\n",
      "Compiler    : Clang 13.0.0 (clang-1300.0.29.3)\n",
      "OS          : Darwin\n",
      "Release     : 21.6.0\n",
      "Machine     : x86_64\n",
      "Processor   : i386\n",
      "CPU cores   : 4\n",
      "Architecture: 64bit\n",
      "\n",
      "numpy     : 1.23.5\n",
      "pandas    : 1.5.3\n",
      "seaborn   : 0.12.1\n",
      "tensorflow: 2.9.3\n",
      "matplotlib: 3.6.2\n",
      "\n"
     ]
    }
   ],
   "source": [
    "def HR():\n",
    "    print(\"-\"*40)\n",
    "    \n",
    "def getpreferredencoding(do_setlocale = True):\n",
    "    return \"UTF-8\"\n",
    "\n",
    "locale.getpreferredencoding = getpreferredencoding\n",
    "warnings.filterwarnings('default')\n",
    "BASE_DIR = '.'\n",
    "sns.set_style(\"darkgrid\")\n",
    "tqdm.pandas(desc=\"progress-bar\")\n",
    "pp = pprint.PrettyPrinter(indent=4)\n",
    "\n",
    "seed = 42\n",
    "\n",
    "print(watermark(iversions=True,globals_=globals(),python=True,machine=True))"
   ]
  },
  {
   "cell_type": "markdown",
   "id": "d09d6ef0-fc27-4a97-a65f-a234f64b5f30",
   "metadata": {},
   "source": [
    "---\n",
    "<a name='14.1'></a><a id='14.1'></a>\n",
    "# 14.1 The Text Vectorization Layer\n",
    "<a href=\"#top\">[back to top]</a>"
   ]
  },
  {
   "cell_type": "markdown",
   "id": "06893bda-cd54-4a54-ba86-8e5203638085",
   "metadata": {},
   "source": [
    "The following uses the `adapt` method to generate a vocabulary. It then creates a vectorized representation of the text"
   ]
  },
  {
   "cell_type": "code",
   "execution_count": 7,
   "id": "fc107612-bf52-40dc-921c-4843edd20089",
   "metadata": {},
   "outputs": [
    {
     "name": "stdout",
     "output_type": "stream",
     "text": [
      "[['I am a robot'], ['you too robot']]\n",
      "----------------------------------------\n",
      "{   '_graph_attr': <tensorflow.python.framework.ops.Graph object at 0x1342fb4f0>,\n",
      "    '_name': None,\n",
      "    '_options_attr': <tensorflow.python.data.ops.options.Options object at 0x10ca1d1f0>,\n",
      "    '_structure': TensorSpec(shape=(1,), dtype=tf.string, name=None),\n",
      "    '_tensors': [   <tf.Tensor: shape=(2, 1), dtype=string, numpy=\n",
      "array([[b'I am a robot'],\n",
      "       [b'you too robot']], dtype=object)>],\n",
      "    '_variant_tensor_attr': <tf.Tensor: shape=(), dtype=variant, value=<TensorSliceDatasetOp::Dataset>>}\n"
     ]
    },
    {
     "name": "stderr",
     "output_type": "stream",
     "text": [
      "2023-06-18 18:46:51.718682: I tensorflow/core/platform/cpu_feature_guard.cc:193] This TensorFlow binary is optimized with oneAPI Deep Neural Network Library (oneDNN) to use the following CPU instructions in performance-critical operations:  AVX2 FMA\n",
      "To enable them in other operations, rebuild TensorFlow with the appropriate compiler flags.\n"
     ]
    }
   ],
   "source": [
    "# Toy dataset source\n",
    "output_sequence_length = 5\n",
    "vocab_size = 10\n",
    "\n",
    "sentences = [[\"I am a robot\"], [\"you too robot\"]]\n",
    "sentence_data = Dataset.from_tensor_slices(sentences)\n",
    "\n",
    "print(sentences)\n",
    "HR()\n",
    "pp.pprint(sentence_data.__dict__)"
   ]
  },
  {
   "cell_type": "code",
   "execution_count": 8,
   "id": "917e8806-72f6-46ec-a714-9582f90e5d9c",
   "metadata": {},
   "outputs": [
    {
     "data": {
      "text/plain": [
       "<keras.layers.preprocessing.text_vectorization.TextVectorization at 0x1342fbca0>"
      ]
     },
     "execution_count": 8,
     "metadata": {},
     "output_type": "execute_result"
    }
   ],
   "source": [
    "# See for reference:\n",
    "# https://www.tensorflow.org/text/guide/word_embeddings\n",
    "\n",
    "# Create the TextVectorization layer\n",
    "# A preprocessing layer which maps text features to integer sequences.\n",
    "vectorize_layer = TextVectorization(\n",
    "    max_tokens=vocab_size,\n",
    "    output_sequence_length=output_sequence_length\n",
    ")\n",
    "\n",
    "# Train the layer to create a dictionary\n",
    "vectorize_layer.adapt(sentence_data)\n",
    "\n",
    "vectorize_layer"
   ]
  },
  {
   "cell_type": "code",
   "execution_count": 9,
   "id": "3a5a836d-1032-489f-8aa3-346705d2a38a",
   "metadata": {},
   "outputs": [
    {
     "name": "stdout",
     "output_type": "stream",
     "text": [
      "word_tensors:\n",
      "[[b'I am a robot']\n",
      " [b'you too robot']]\n",
      "----------------------------------------\n",
      "Vocabulary:\n",
      "['', '[UNK]', 'robot', 'you', 'too', 'i', 'am', 'a']\n",
      "----------------------------------------\n",
      "Vectorized words:\n",
      "[[5 6 7 2 0]\n",
      " [3 4 2 0 0]]\n"
     ]
    }
   ],
   "source": [
    "# Convert all sentences to tensors\n",
    "word_tensors = convert_to_tensor(sentences, dtype=tf.string)\n",
    "\n",
    "# Use the word tensors to get vectorized phrases\n",
    "vectorized_words = vectorize_layer(word_tensors)\n",
    "\n",
    "\n",
    "print(f\"word_tensors:\\n{word_tensors}\") # Tensor\n",
    "HR() \n",
    "print(f\"Vocabulary:\\n{vectorize_layer.get_vocabulary()}\") # TextVectorization\n",
    "HR()\n",
    "print(f\"Vectorized words:\\n{vectorized_words}\") # Tensor"
   ]
  },
  {
   "cell_type": "markdown",
   "id": "a4a38a73-bd50-4762-ac10-93033b19ca82",
   "metadata": {},
   "source": [
    "---\n",
    "<a name='14.2'></a><a id='14.2'></a>\n",
    "# 14.2 The Embedding Layer\n",
    "<a href=\"#top\">[back to top]</a>\n",
    "\n",
    "The Keras `Embedding` layer converts integers to dense vectors. This layer maps these integers to random numbers, which are later tuned during the training phase. \n",
    "\n",
    "We also have the option to set the mapping to some predefined weight values. To initialize this layer, you need to specify the maximum value of an integer to map, along with the length of the output sequence.\n",
    "\n",
    "See for reference:\n",
    "* https://www.tensorflow.org/text/guide/word_embeddings\n",
    "* https://www.tensorflow.org/tutorials/text/warmstart_embedding_matrix\n"
   ]
  },
  {
   "cell_type": "markdown",
   "id": "6c388a7f-49c4-4c51-bdf5-2bf58912d2f7",
   "metadata": {},
   "source": [
    "#### The Word Embeddings\n",
    "\n",
    "The Keras `Embedding` layer converts `vectorized_text` to tensors."
   ]
  },
  {
   "cell_type": "code",
   "execution_count": 10,
   "id": "7d5332ac-b5f1-4f0b-b5a8-4d4a6bd96cda",
   "metadata": {},
   "outputs": [
    {
     "name": "stdout",
     "output_type": "stream",
     "text": [
      "10\n",
      "6\n",
      "----------------------------------------\n",
      "[[[ 0.0449 -0.0262  0.0312  0.0026 -0.0006 -0.0284]\n",
      "  [ 0.0346  0.0372 -0.0192  0.0187 -0.0262  0.0282]\n",
      "  [ 0.0467 -0.0431  0.0299  0.016   0.0087 -0.0335]\n",
      "  [-0.0367  0.0048  0.0075  0.04   -0.0491  0.0021]\n",
      "  [ 0.0165 -0.0059 -0.0147 -0.0036 -0.0466  0.0185]]\n",
      "\n",
      " [[ 0.0135 -0.0301  0.0229  0.0046 -0.0392  0.0177]\n",
      "  [ 0.016  -0.0163  0.0101 -0.0289  0.0353 -0.0059]\n",
      "  [-0.0367  0.0048  0.0075  0.04   -0.0491  0.0021]\n",
      "  [ 0.0165 -0.0059 -0.0147 -0.0036 -0.0466  0.0185]\n",
      "  [ 0.0165 -0.0059 -0.0147 -0.0036 -0.0466  0.0185]]]\n"
     ]
    }
   ],
   "source": [
    "tf.random.set_seed(seed)\n",
    "\n",
    "output_length = 6\n",
    "\n",
    "print(vocab_size)\n",
    "print(output_length)\n",
    "HR()\n",
    "\n",
    "word_embedding_layer = Embedding(\n",
    "    vocab_size, \n",
    "    output_length, \n",
    "    name=\"embedding\"\n",
    ")\n",
    "\n",
    "embedded_words = word_embedding_layer(vectorized_words)\n",
    "\n",
    "print(embedded_words.numpy().round(4))"
   ]
  },
  {
   "cell_type": "code",
   "execution_count": 11,
   "id": "093a0ab1-7765-4e8e-a874-dc2f99ef6b52",
   "metadata": {},
   "outputs": [
    {
     "name": "stdout",
     "output_type": "stream",
     "text": [
      "I \t[ 0.04485276 -0.02624741  0.0311793   0.00263394 -0.0005692  -0.02838715]\n",
      "----------------------------------------\n",
      "am \t[ 0.03457197  0.03718841 -0.01916138  0.01868038 -0.02623596  0.02817228]\n",
      "----------------------------------------\n",
      "a \t[ 0.04671384 -0.04312984  0.02987394  0.01602871  0.00871513 -0.0335383 ]\n",
      "----------------------------------------\n",
      "robot \t[-0.03668128  0.00480639  0.00746088  0.03996835 -0.04905364  0.00212307]\n"
     ]
    }
   ],
   "source": [
    "print(f\"I \\t{embedded_words[0][0]}\")\n",
    "HR()\n",
    "print(f\"am \\t{embedded_words[0][1]}\")\n",
    "HR()\n",
    "print(f\"a \\t{embedded_words[0][2]}\")\n",
    "HR()\n",
    "print(f\"robot \\t{embedded_words[0][3]}\")"
   ]
  },
  {
   "cell_type": "code",
   "execution_count": 12,
   "id": "74aba718-93d5-44a4-85cd-b8d5987e7e00",
   "metadata": {},
   "outputs": [
    {
     "name": "stdout",
     "output_type": "stream",
     "text": [
      "you \t[ 0.01345445 -0.03006717  0.02294225  0.00458346 -0.03924345  0.01767061]\n",
      "----------------------------------------\n",
      "too \t[ 0.01602763 -0.01630496  0.01014177 -0.02893742  0.03527372 -0.00593783]\n",
      "----------------------------------------\n",
      "robot \t[-0.03668128  0.00480639  0.00746088  0.03996835 -0.04905364  0.00212307]\n"
     ]
    }
   ],
   "source": [
    "print(f\"you \\t{embedded_words[1][0]}\")\n",
    "HR()\n",
    "print(f\"too \\t{embedded_words[1][1]}\")\n",
    "HR()\n",
    "print(f\"robot \\t{embedded_words[1][2]}\")"
   ]
  },
  {
   "cell_type": "markdown",
   "id": "09717e6d-e551-4f42-b795-409b13243ed5",
   "metadata": {},
   "source": [
    "---\n",
    "#### Position Embeddings\n",
    "\n",
    "We also need the embeddings for the corresponding positions. The maximum positions correspond to the output sequence length of the `TextVectorization` layer."
   ]
  },
  {
   "cell_type": "code",
   "execution_count": 13,
   "id": "6fcdd0b8-7f9a-49c4-aadf-10c18bb5cfaa",
   "metadata": {},
   "outputs": [
    {
     "data": {
      "text/plain": [
       "5"
      ]
     },
     "execution_count": 13,
     "metadata": {},
     "output_type": "execute_result"
    }
   ],
   "source": [
    "# Maximum positions correspond to output_sequence length\n",
    "output_sequence_length"
   ]
  },
  {
   "cell_type": "code",
   "execution_count": 14,
   "id": "995e35dd-fd04-4a0f-b182-69041ff6d63d",
   "metadata": {},
   "outputs": [
    {
     "name": "stdout",
     "output_type": "stream",
     "text": [
      "[[ 0.016456 -0.005899 -0.014712 -0.003552 -0.046634  0.018467]\n",
      " [ 0.024012  0.037244 -0.027367 -0.02768  -0.018961  0.022234]\n",
      " [-0.036681  0.004806  0.007461  0.039968 -0.049054  0.002123]\n",
      " [ 0.013454 -0.030067  0.022942  0.004583 -0.039243  0.017671]\n",
      " [ 0.016028 -0.016305  0.010142 -0.028937  0.035274 -0.005938]]\n"
     ]
    }
   ],
   "source": [
    "tf.random.set_seed(seed)\n",
    "\n",
    "position_embedding_layer = Embedding(output_sequence_length, output_length)\n",
    "position_indices = tf.range(output_sequence_length)\n",
    "embedded_indices = position_embedding_layer(position_indices)\n",
    "\n",
    "print(embedded_indices.numpy().round(6))"
   ]
  },
  {
   "cell_type": "code",
   "execution_count": 15,
   "id": "877467db-af2d-4b59-8bce-3b7cdde88c50",
   "metadata": {},
   "outputs": [
    {
     "name": "stdout",
     "output_type": "stream",
     "text": [
      "Index 0: [ 0.016456 -0.005899 -0.014712 -0.003552 -0.046634  0.018467]\n",
      "Index 1: [ 0.024012  0.037244 -0.027367 -0.02768  -0.018961  0.022234]\n",
      "Index 2: [-0.036681  0.004806  0.007461  0.039968 -0.049054  0.002123]\n",
      "Index 3: [ 0.013454 -0.030067  0.022942  0.004583 -0.039243  0.017671]\n",
      "Index 4: [ 0.016028 -0.016305  0.010142 -0.028937  0.035274 -0.005938]\n"
     ]
    }
   ],
   "source": [
    "for i, x in enumerate(embedded_indices):\n",
    "    print(f\"Index {i}: {x.numpy().round(6)}\")"
   ]
  },
  {
   "cell_type": "markdown",
   "id": "1e13ef76-46a1-499e-b969-341f99ba64a1",
   "metadata": {},
   "source": [
    "#### The Output of Positional Encoding Layer in Transformers\n",
    "\n",
    "In a transformer model, the final output is the sum of both the word embeddings and the position embeddings. \n",
    "\n",
    "When you set up both embedding layers, you need to make sure the `output_length` is the same for both.\n"
   ]
  },
  {
   "cell_type": "code",
   "execution_count": 16,
   "id": "5f705333-81a8-4fc8-8389-1ee3de2071aa",
   "metadata": {},
   "outputs": [
    {
     "name": "stdout",
     "output_type": "stream",
     "text": [
      "[[[ 0.061309 -0.032147  0.016468 -0.000918 -0.047203 -0.00992 ]\n",
      "  [ 0.058584  0.074433 -0.046529 -0.009    -0.045197  0.050406]\n",
      "  [ 0.010033 -0.038323  0.037335  0.055997 -0.040339 -0.031415]\n",
      "  [-0.023227 -0.025261  0.030403  0.044552 -0.088297  0.019794]\n",
      "  [ 0.032484 -0.022204 -0.00457  -0.032489 -0.01136   0.012529]]\n",
      "\n",
      " [[ 0.029911 -0.035966  0.00823   0.001032 -0.085877  0.036138]\n",
      "  [ 0.040039  0.020939 -0.017226 -0.056618  0.016313  0.016296]\n",
      "  [-0.073363  0.009613  0.014922  0.079937 -0.098107  0.004246]\n",
      "  [ 0.029911 -0.035966  0.00823   0.001032 -0.085877  0.036138]\n",
      "  [ 0.032484 -0.022204 -0.00457  -0.032489 -0.01136   0.012529]]]\n"
     ]
    }
   ],
   "source": [
    "final_output_embedding = embedded_words + embedded_indices\n",
    "\n",
    "print(final_output_embedding.numpy().round(6))"
   ]
  },
  {
   "cell_type": "markdown",
   "id": "07f2db6d-12d5-466e-adc9-8bd271c325d2",
   "metadata": {},
   "source": [
    "---\n",
    "<a name='14.3'></a><a id='14.3'></a>\n",
    "# 14.3 Subclassing the Keras Embedding Layer\n",
    "<a href=\"#top\">[back to top]</a>\n",
    "\n",
    "When implementing a transformer model, you have to write your own position encoding layer. \n",
    "\n",
    "This is straightforward, as the basic functionality is already provided. \n",
    "\n",
    "**Note**\n",
    "\n",
    "This class creates an embedding layer that is trainable weights. Hence the weights are initialized randomly and tuned in the training phase. "
   ]
  },
  {
   "cell_type": "code",
   "execution_count": 25,
   "id": "0ff28b6d-0d69-4201-92db-919247788be2",
   "metadata": {},
   "outputs": [],
   "source": [
    "class PositionEmbeddingLayer(Layer):\n",
    "    def __init__(self, seq_length, vocab_size, output_dim, **kwargs):\n",
    "        super().__init__(**kwargs)\n",
    "        self.word_embedding_layer = Embedding(\n",
    "            input_dim = vocab_size,\n",
    "            output_dim = output_dim\n",
    "        )\n",
    "        self.position_embedding_layer = Embedding(\n",
    "            input_dim = seq_length,\n",
    "            output_dim = output_dim\n",
    "        )\n",
    "    \n",
    "    def call(self, inputs):\n",
    "        position_indices = tf.range(tf.shape(inputs)[-1])\n",
    "        embedded_words = self.word_embedding_layer(inputs)\n",
    "        embedded_indices = self.position_embedding_layer(position_indices)\n",
    "        return embedded_words + embedded_indices"
   ]
  },
  {
   "cell_type": "code",
   "execution_count": 43,
   "id": "5f850bbc-6680-4e05-a140-8dcbec8a7df3",
   "metadata": {},
   "outputs": [
    {
     "name": "stdout",
     "output_type": "stream",
     "text": [
      "5 10 6\n",
      "----------------------------------------\n",
      "Output from my_embedded_layer:\n",
      "\n",
      "[[[ 0.063642 -0.0278    0.074279 -0.022147  0.022546  0.01087 ]\n",
      "  [ 0.079247  0.062122 -0.034236  0.023399 -0.050076  0.047907]\n",
      "  [ 0.008676 -0.039645  0.051364  0.05353  -0.007317 -0.066161]\n",
      "  [-0.042496  0.044889 -0.028735  0.002186 -0.041509  0.046295]\n",
      "  [ 0.058322  0.003809 -0.003617  0.028535 -0.013364  0.057626]]\n",
      "\n",
      " [[ 0.032244 -0.031619  0.066042 -0.020198 -0.016128  0.056927]\n",
      "  [ 0.060702  0.008628 -0.004933 -0.024219  0.011434  0.013797]\n",
      "  [-0.074719  0.008291  0.028951  0.07747  -0.065086 -0.030499]\n",
      "  [ 0.010641  0.034183 -0.050908 -0.041334 -0.039089  0.062639]\n",
      "  [ 0.058322  0.003809 -0.003617  0.028535 -0.013364  0.057626]]]\n"
     ]
    }
   ],
   "source": [
    "tf.random.set_seed(seed)\n",
    "\n",
    "print(output_sequence_length, vocab_size, output_length)\n",
    "HR()\n",
    "\n",
    "# Run this layer\n",
    "my_embedding_layer = PositionEmbeddingLayer(\n",
    "    output_sequence_length,\n",
    "    vocab_size,\n",
    "    output_length\n",
    ")\n",
    "\n",
    "embedded_layer_output = my_embedding_layer(vectorized_words)\n",
    "\n",
    "print(f\"Output from my_embedded_layer:\\n\\n{embedded_layer_output.numpy().round(6)}\")"
   ]
  },
  {
   "cell_type": "markdown",
   "id": "1d4406b5-5e20-492e-b33f-2d107fd79d1c",
   "metadata": {},
   "source": [
    "---\n",
    "<a name='14.4'></a><a id='14.4'></a>\n",
    "# 14.4 Positional Encoding in Transformers\n",
    "<a href=\"#top\">[back to top]</a>\n",
    "\n",
    "* Unlike the above, this positional encoding does not have trainable weights.\n",
    "* Instead, this uses a sin/cos positional encoding scheme."
   ]
  },
  {
   "cell_type": "code",
   "execution_count": 44,
   "id": "96fcbcb2-99a4-4bd1-abcb-af9b226802b5",
   "metadata": {},
   "outputs": [],
   "source": [
    "class PositionEmbeddingFixedWeights(Layer):\n",
    "    def __init__(self, seq_length, vocab_size, output_dim, **kwargs):\n",
    "        super().__init__(**kwargs)\n",
    "        word_embedding_matrix = self.get_position_encoding(vocab_size, output_dim)\n",
    "        pos_embedding_matrix = self.get_position_encoding(seq_length, output_dim)\n",
    "    self.word_embedding_layer = Embedding(\n",
    "            input_dim=vocab_size, output_dim=output_dim,\n",
    "            weights=[word_embedding_matrix],\n",
    "            trainable=False\n",
    "        )\n",
    "        self.position_embedding_layer = Embedding(\n",
    "            input_dim=seq_length, output_dim=output_dim,\n",
    "            weights=[pos_embedding_matrix],\n",
    "            trainable=False\n",
    "        )\n",
    "\n",
    "    def get_position_encoding(self, seq_len, d, n=10000):\n",
    "        P = np.zeros((seq_len, d))\n",
    "        for k in range(seq_len):\n",
    "            for i in np.arange(int(d/2)):\n",
    "                denominator = np.power(n, 2*i/d)\n",
    "                P[k, 2*i] = np.sin(k/denominator)\n",
    "                P[k, 2*i+1] = np.cos(k/denominator)\n",
    "        return P\n",
    "\n",
    "\n",
    "    def call(self, inputs):\n",
    "        position_indices = tf.range(tf.shape(inputs)[-1])\n",
    "        embedded_words = self.word_embedding_layer(inputs)\n",
    "        embedded_indices = self.position_embedding_layer(position_indices)\n",
    "        return embedded_words + embedded_indices"
   ]
  },
  {
   "cell_type": "code",
   "execution_count": 45,
   "id": "df2f0d1a-6624-41c1-b3e2-cf8c235ca115",
   "metadata": {},
   "outputs": [
    {
     "name": "stdout",
     "output_type": "stream",
     "text": [
      "[[[-0.958924  1.283662  0.230002  1.97319   0.010772  1.999942]\n",
      "  [ 0.562055  1.500472  0.321308  1.960393  0.015081  1.999914]\n",
      "  [ 1.566284  0.337755  0.411923  1.943373  0.019389  1.999877]\n",
      "  [ 1.050417 -1.406139  0.231497  1.986015  0.010772  1.99997 ]\n",
      "  [-0.756802  0.346356  0.184599  1.982814  0.008618  1.999963]]\n",
      "\n",
      " [[ 0.14112   0.010008  0.138798  1.990321  0.006463  1.999979]\n",
      "  [ 0.084668 -0.113341  0.230998  1.981737  0.010772  1.99996 ]\n",
      "  [ 1.818595 -0.832294  0.185397  1.991388  0.008618  1.999981]\n",
      "  [ 0.14112   0.010008  0.138798  1.990321  0.006463  1.999979]\n",
      "  [-0.756802  0.346356  0.184599  1.982814  0.008618  1.999963]]]\n"
     ]
    }
   ],
   "source": [
    "tf.random.set_seed(seed)\n",
    "\n",
    "attnisallyouneed_embedding = PositionEmbeddingFixedWeights(\n",
    "    output_sequence_length,\n",
    "    vocab_size, \n",
    "    output_length\n",
    ")\n",
    "\n",
    "attnisallyouneed_output = attnisallyouneed_embedding(vectorized_words)\n",
    "\n",
    "print(attnisallyouneed_output.numpy().round(6))"
   ]
  },
  {
   "cell_type": "markdown",
   "id": "0d75a25e-f403-4960-ac44-14fc99d0d700",
   "metadata": {},
   "source": [
    "---\n",
    "<a name='14.5'></a><a id='14.5'></a>\n",
    "# 14.5 Visualizing the Final Embedding\n",
    "<a href=\"#top\">[back to top]</a>"
   ]
  },
  {
   "cell_type": "code",
   "execution_count": 62,
   "id": "96a816a9-865a-4948-a83b-712a22e30edd",
   "metadata": {},
   "outputs": [],
   "source": [
    "technical_phrase = \"to understand machine learning algorithms you need\" +\\\n",
    "                   \" to understand concepts such as gradient of a function \"+\\\n",
    "                   \"Hessians of a matrix and optimization etc\"\n",
    "\n",
    "wise_phrase = \"patrick henry said give me liberty or give me death \"+\\\n",
    "              \"when he addressed the second virginia convention in march\"\n",
    "\n",
    "total_vocabulary = 200\n",
    "seq_length = 20\n",
    "final_output_len = 50\n",
    "\n",
    "tf.random.set_seed(seed)\n",
    "\n",
    "phrase_vectorization_layer = TextVectorization(\n",
    "    output_sequence_length = seq_length,\n",
    "    max_tokens = total_vocabulary\n",
    ")\n",
    "\n",
    "# Learn the dictionary\n",
    "phrase_vectorization_layer.adapt([technical_phrase, wise_phrase])\n",
    "\n",
    "# Convert all sentences to tensors\n",
    "phrase_tensors = convert_to_tensor([technical_phrase, wise_phrase], dtype=tf.string)\n",
    "\n",
    "# Use the word tensors to get vectorized phrases\n",
    "vectorized_phrases = phrase_vectorization_layer(phrase_tensors)\n",
    "\n",
    "random_weights_embedding_layer = PositionEmbeddingLayer(\n",
    "    seq_length,\n",
    "    total_vocabulary,\n",
    "    final_output_len\n",
    ")\n",
    "\n",
    "fixed_weights_embedding_layer = PositionEmbeddingFixedWeights(\n",
    "    seq_length,\n",
    "    total_vocabulary,\n",
    "    final_output_len\n",
    ")\n",
    "\n",
    "random_embedding = random_weights_embedding_layer(vectorized_phrases)\n",
    "\n",
    "fixed_embedding = fixed_weights_embedding_layer(vectorized_phrases)"
   ]
  },
  {
   "cell_type": "code",
   "execution_count": 63,
   "id": "f0c934e7-c43b-4d70-a9fe-1e74577c54f1",
   "metadata": {},
   "outputs": [
    {
     "name": "stdout",
     "output_type": "stream",
     "text": [
      "(2, 20, 50)\n",
      "(2, 20, 50)\n"
     ]
    }
   ],
   "source": [
    "print(random_embedding.shape)\n",
    "print(fixed_embedding.shape)"
   ]
  },
  {
   "cell_type": "code",
   "execution_count": 64,
   "id": "3d166d86-96a3-40b1-af15-7c16d8073996",
   "metadata": {},
   "outputs": [
    {
     "data": {
      "image/png": "[encoded data removed]",
      "text/plain": [
       "<Figure size 1500x500 with 4 Axes>"
      ]
     },
     "metadata": {},
     "output_type": "display_data"
    }
   ],
   "source": [
    "fig = plt.figure(figsize=(15, 5))\n",
    "title = [\"Tech Phrase\", \"Wise Phrase\"]\n",
    "for i in range(2):\n",
    "    ax = plt.subplot(1, 2, 1+i)\n",
    "    matrix = tf.reshape(random_embedding[i, :, :], (seq_length, final_output_len))\n",
    "    cax = ax.matshow(matrix)\n",
    "    plt.gcf().colorbar(cax)\n",
    "    plt.title(title[i], y=1.2)\n",
    "fig.suptitle(\"Random Embedding\")\n",
    "plt.show()"
   ]
  },
  {
   "cell_type": "markdown",
   "id": "e03d9e06-8b76-439f-8a4f-4b1e7d9351e3",
   "metadata": {},
   "source": [
    "### Embeddings from fixed weights layer"
   ]
  },
  {
   "cell_type": "code",
   "execution_count": 65,
   "id": "8f779d14-c4fd-461d-be51-ef83d98db7dc",
   "metadata": {},
   "outputs": [
    {
     "data": {
      "image/png": "[encoded data removed]",
      "text/plain": [
       "<Figure size 1500x500 with 4 Axes>"
      ]
     },
     "metadata": {},
     "output_type": "display_data"
    }
   ],
   "source": [
    "fig = plt.figure(figsize=(15, 5))\n",
    "title = [\"Tech Phrase\", \"Wise Phrase\"]\n",
    "for i in range(2):\n",
    "    ax = plt.subplot(1, 2, 1+i)\n",
    "    matrix = tf.reshape(fixed_embedding[i, :, :], (seq_length, final_output_len))\n",
    "    cax = ax.matshow(matrix)\n",
    "    plt.gcf().colorbar(cax)\n",
    "    plt.title(title[i], y=1.2)\n",
    "fig.suptitle(\"Fixed Weight Embedding from Attention is All You Need\")\n",
    "plt.show()"
   ]
  },
  {
   "cell_type": "code",
   "execution_count": null,
   "id": "bf20056c-0488-40f3-adec-abda323d3b6b",
   "metadata": {},
   "outputs": [],
   "source": []
  }
 ],
 "metadata": {
  "kernelspec": {
   "display_name": "Python 3 (ipykernel)",
   "language": "python",
   "name": "python3"
  },
  "language_info": {
   "codemirror_mode": {
    "name": "ipython",
    "version": 3
   },
   "file_extension": ".py",
   "mimetype": "text/x-python",
   "name": "python",
   "nbconvert_exporter": "python",
   "pygments_lexer": "ipython3",
   "version": "3.8.12"
  }
 },
 "nbformat": 4,
 "nbformat_minor": 5
}
