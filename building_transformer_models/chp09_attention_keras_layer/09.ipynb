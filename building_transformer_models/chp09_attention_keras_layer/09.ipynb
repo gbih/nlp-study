{
 "cells": [
  {
   "cell_type": "markdown",
   "id": "1d915038-a774-49d3-a8e2-7ba491e5dee5",
   "metadata": {},
   "source": [
    "<a id='top'></a><a name='top'></a>\n",
    "# Chapter 9: Adding a Custom Attention Layer to a RNN in Keras"
   ]
  },
  {
   "cell_type": "markdown",
   "id": "ea944e1c-ae7b-41ec-9bdb-048132c99ae9",
   "metadata": {},
   "source": [
    "* [Introduction](#introduction)\n",
    "* [8.0 Imports and Setup](#8.0)\n",
    "* [8.1 The Attention Mechanism](#8.1)\n",
    "* [8.2 The General Attention Mechanism](#8.2)\n",
    "* [8.3 The General Attention Mechanism with NumPy and SciPy](#8.3)\n",
    "    - [8.3.1 Encoder representations of four different words](#8.3.1)\n",
    "    - [8.3.2 Stacking the word embeddings into a single array](#8.3.2)\n",
    "    - [8.3.3 Generate the weight matrices](#8.3.3)\n",
    "    - [8.3.4 Generate the queries, keys and values with matrix multiplication](#8.3.4)\n",
    "    - [8.3.5 Score the query vectors against all key vectors](#8.3.5)\n",
    "    - [8.3.6 Compute the weights by a softmax operation](#8.3.6)\n",
    "    - [8.3.7 Compute the attention by a weighted sum of the value vectors](#8.3.7)\n",
    "* [Extra](#extra)"
   ]
  },
  {
   "cell_type": "markdown",
   "id": "c65b3516-12f0-403d-aa45-85ff18216b54",
   "metadata": {},
   "source": [
    "---\n",
    "<a name='introduction'></a><a id='introduction'></a>\n",
    "# Introduction\n",
    "<a href=\"#top\">[back to top]</a>\n",
    "\n",
    "### Dataset\n",
    "\n",
    "* Fibonacci sequence\n",
    "\n",
    "\n",
    "### Explore\n",
    "\n",
    "TODO"
   ]
  },
  {
   "cell_type": "markdown",
   "id": "5fe4a0e5-807e-4a33-8953-0dc015c76a33",
   "metadata": {},
   "source": [
    "---\n",
    "<a name='9.0'></a><a id='9.0'></a>\n",
    "# 9.0 Imports and Setup\n",
    "<a href=\"#top\">[back to top]</a>"
   ]
  },
  {
   "cell_type": "code",
   "execution_count": 5,
   "id": "a93ebf75-0f89-43c2-bece-2ca74b3dd2a1",
   "metadata": {},
   "outputs": [],
   "source": [
    "req_file = \"requirements_09.txt\""
   ]
  },
  {
   "cell_type": "code",
   "execution_count": 6,
   "id": "245dd775-0a90-471c-91d7-81d9be082046",
   "metadata": {},
   "outputs": [
    {
     "name": "stdout",
     "output_type": "stream",
     "text": [
      "Overwriting requirements_09.txt\n"
     ]
    }
   ],
   "source": [
    "%%writefile {req_file}\n",
    "isort\n",
    "scikit-learn-intelex\n",
    "watermark"
   ]
  },
  {
   "cell_type": "code",
   "execution_count": 7,
   "id": "9f9df381-8985-4d12-bcf6-6b6975f9e328",
   "metadata": {},
   "outputs": [
    {
     "name": "stdout",
     "output_type": "stream",
     "text": [
      "Running locally.\n"
     ]
    },
    {
     "name": "stderr",
     "output_type": "stream",
     "text": [
      "Intel(R) Extension for Scikit-learn* enabled (https://github.com/intel/scikit-learn-intelex)\n"
     ]
    }
   ],
   "source": [
    "import sys\n",
    "IS_COLAB = 'google.colab' in sys.modules\n",
    "\n",
    "if IS_COLAB:\n",
    "    print(\"Installing packages\")\n",
    "    !pip install --upgrade --quiet -r {req_file}\n",
    "else:\n",
    "    print(\"Running locally.\")\n",
    "\n",
    "# Need to import before sklearn\n",
    "from sklearnex import patch_sklearn\n",
    "patch_sklearn()"
   ]
  },
  {
   "cell_type": "code",
   "execution_count": 2,
   "id": "de4eaad6-1368-4b87-9b73-76a9fd9d9e28",
   "metadata": {},
   "outputs": [
    {
     "name": "stdout",
     "output_type": "stream",
     "text": [
      "Overwriting imports.py\n"
     ]
    }
   ],
   "source": [
    "%%writefile imports.py\n",
    "import locale\n",
    "import math\n",
    "import pprint\n",
    "import warnings\n",
    "\n",
    "import matplotlib.pyplot as plt\n",
    "import numpy as np\n",
    "import pandas as pd\n",
    "import seaborn as sns\n",
    "import tensorflow as tf\n",
    "import tensorflow.keras.backend as K\n",
    "from scipy.special import softmax\n",
    "from sklearn.preprocessing import MinMaxScaler\n",
    "from tensorflow.keras import Model\n",
    "from tensorflow.keras.layers import Dense\n",
    "from tensorflow.keras.layers import Input\n",
    "from tensorflow.keras.layers import Layer\n",
    "from tensorflow.keras.layers import SimpleRNN\n",
    "from tensorflow.keras.metrics import mean_squared_error\n",
    "from tensorflow.keras.models import Sequential\n",
    "from tqdm.auto import tqdm\n",
    "from watermark import watermark"
   ]
  },
  {
   "cell_type": "code",
   "execution_count": 3,
   "id": "63e4baf7-72ed-4e32-91ea-e5111b2cc776",
   "metadata": {},
   "outputs": [
    {
     "name": "stdout",
     "output_type": "stream",
     "text": [
      "import locale\n",
      "import math\n",
      "import pprint\n",
      "import warnings\n",
      "\n",
      "import matplotlib.pyplot as plt\n",
      "import numpy as np\n",
      "import pandas as pd\n",
      "import seaborn as sns\n",
      "import tensorflow as tf\n",
      "import tensorflow.keras.backend as K\n",
      "from scipy.special import softmax\n",
      "from sklearn.preprocessing import MinMaxScaler\n",
      "from tensorflow.keras import Model\n",
      "from tensorflow.keras.layers import Dense\n",
      "from tensorflow.keras.layers import Input\n",
      "from tensorflow.keras.layers import Layer\n",
      "from tensorflow.keras.layers import SimpleRNN\n",
      "from tensorflow.keras.metrics import mean_squared_error\n",
      "from tensorflow.keras.models import Sequential\n",
      "from tqdm.auto import tqdm\n",
      "from watermark import watermark\n"
     ]
    }
   ],
   "source": [
    "!isort imports.py --sl\n",
    "!cat imports.py"
   ]
  },
  {
   "cell_type": "code",
   "execution_count": null,
   "id": "5b395e06-010e-4c5c-8dcc-155d33d23cd9",
   "metadata": {},
   "outputs": [],
   "source": [
    "import locale\n",
    "import math\n",
    "import pprint\n",
    "import warnings\n",
    "\n",
    "import matplotlib.pyplot as plt\n",
    "import numpy as np\n",
    "import pandas as pd\n",
    "import seaborn as sns\n",
    "import tensorflow as tf\n",
    "import tensorflow.keras.backend as K\n",
    "from scipy.special import softmax\n",
    "from sklearn.preprocessing import MinMaxScaler\n",
    "from tensorflow.keras import Model\n",
    "from tensorflow.keras.layers import Dense\n",
    "from tensorflow.keras.layers import Input\n",
    "from tensorflow.keras.layers import Layer\n",
    "from tensorflow.keras.layers import SimpleRNN\n",
    "from tensorflow.keras.metrics import mean_squared_error\n",
    "from tensorflow.keras.models import Sequential\n",
    "from tqdm.auto import tqdm\n",
    "from watermark import watermark"
   ]
  },
  {
   "cell_type": "code",
   "execution_count": 6,
   "id": "61e2ff38-c840-4bdb-a413-3e1815cc49ef",
   "metadata": {},
   "outputs": [
    {
     "name": "stdout",
     "output_type": "stream",
     "text": [
      "Python implementation: CPython\n",
      "Python version       : 3.8.12\n",
      "IPython version      : 7.34.0\n",
      "\n",
      "Compiler    : Clang 13.0.0 (clang-1300.0.29.3)\n",
      "OS          : Darwin\n",
      "Release     : 21.6.0\n",
      "Machine     : x86_64\n",
      "Processor   : i386\n",
      "CPU cores   : 4\n",
      "Architecture: 64bit\n",
      "\n",
      "pandas    : 1.5.3\n",
      "tensorflow: 2.9.3\n",
      "numpy     : 1.23.5\n",
      "seaborn   : 0.12.1\n",
      "matplotlib: 3.6.2\n",
      "\n"
     ]
    }
   ],
   "source": [
    "def HR():\n",
    "    print(\"-\"*40)\n",
    "    \n",
    "def getpreferredencoding(do_setlocale = True):\n",
    "    return \"UTF-8\"\n",
    "\n",
    "locale.getpreferredencoding = getpreferredencoding\n",
    "warnings.filterwarnings('default')\n",
    "BASE_DIR = '.'\n",
    "sns.set_style(\"darkgrid\")\n",
    "tqdm.pandas(desc=\"progress-bar\")\n",
    "pp = pprint.PrettyPrinter(indent=4)\n",
    "\n",
    "seed = 42\n",
    "\n",
    "print(watermark(iversions=True,globals_=globals(),python=True,machine=True))"
   ]
  },
  {
   "cell_type": "markdown",
   "id": "fa85e09f-1845-4f3c-9113-83bde27b7b82",
   "metadata": {},
   "source": [
    "---\n",
    "<a name='9.1'></a><a id='9.1'></a>\n",
    "# 9.1 Preparing Dataset for Time Series Forecast\n",
    "<a href=\"#top\">[back to top]</a>"
   ]
  },
  {
   "cell_type": "markdown",
   "id": "39339866-42bb-4c1c-bad2-9e882e2fe71a",
   "metadata": {},
   "source": [
    "---\n",
    "<a name='9.2'></a><a id='9.2'></a>\n",
    "# 9.2 The SimpleRNN Network\n",
    "<a href=\"#top\">[back to top]</a>"
   ]
  },
  {
   "cell_type": "markdown",
   "id": "a8353c8a-bd71-421d-91cd-5a3c9a2ab013",
   "metadata": {},
   "source": [
    "#### Preparing the Dataset\n",
    "\n",
    "Generate a sequence of Fibonacci numbers."
   ]
  },
  {
   "cell_type": "code",
   "execution_count": 7,
   "id": "eb491183-0417-4dfe-b2e2-a432ec4d1ed4",
   "metadata": {},
   "outputs": [
    {
     "name": "stdout",
     "output_type": "stream",
     "text": [
      "[ 1.  2.  3.  5.  8. 13. 21. 34. 55. 89.]\n"
     ]
    }
   ],
   "source": [
    "def get_fib_seq(n, scale_data=True):\n",
    "    # Get the Fibonacci sequence\n",
    "    seq = np.zeros(n)\n",
    "    fib_n1 = 0.0\n",
    "    fib_n = 1.0\n",
    "    for i in range(n):\n",
    "        seq[i] = fib_n1 + fib_n\n",
    "        fib_n1 = fib_n\n",
    "        fib_n = seq[i]\n",
    "        \n",
    "    scaler = []\n",
    "    if scale_data:\n",
    "        scaler = MinMaxScaler(feature_range=(0, 1))\n",
    "        seq = np.reshape(seq, (n, 1))\n",
    "        seq = scaler.fit_transform(seq).flatten()\n",
    "    return seq, scaler\n",
    "\n",
    "fib_scaler, _ = get_fib_seq(10, False)\n",
    "print(fib_scaler)"
   ]
  },
  {
   "cell_type": "markdown",
   "id": "1414996d-0731-4b00-93b5-e946ed276d96",
   "metadata": {},
   "source": [
    "#### Reformat the sequence into input features and target values to be used by the Keras input layer.\n"
   ]
  },
  {
   "cell_type": "code",
   "execution_count": 8,
   "id": "3e08c745-6160-4b9c-aed8-dbcf7895bf62",
   "metadata": {},
   "outputs": [],
   "source": [
    "def get_fib_seq(n, scale_data=True):\n",
    "    # Get the Fibonacci sequence\n",
    "    seq = np.zeros(n)\n",
    "    fib_n1 = 0.0\n",
    "    fib_n = 1.0\n",
    "    for i in range(n):\n",
    "        seq[i] = fib_n1 + fib_n\n",
    "        fib_n1 = fib_n\n",
    "        fib_n = seq[i]\n",
    "    scaler = []\n",
    "    if scale_data:\n",
    "        scaler = MinMaxScaler(feature_range=(0, 1))\n",
    "        seq = np.reshape(seq, (n, 1))\n",
    "        seq = scaler.fit_transform(seq).flatten()\n",
    "    return seq, scaler\n",
    "\n",
    "\n",
    "def get_fib_XY(total_fib_numbers, time_steps, train_percent, scale_data=True):\n",
    "    dat, scaler = get_fib_seq(total_fib_numbers, scale_data)\n",
    "    Y_ind = np.arange(time_steps, len(dat), 1)\n",
    "    Y = dat[Y_ind]\n",
    "    rows_x = len(Y)\n",
    "    X = dat[0:rows_x]\n",
    "    for i in range(time_steps-1):\n",
    "        temp = dat[i+1:rows_x+i+1]\n",
    "        X = np.column_stack((X, temp))\n",
    "    # random permutation with fixed seed\n",
    "    rand = np.random.RandomState(seed=13)\n",
    "    idx = rand.permutation(rows_x)\n",
    "    split = int(train_percent*rows_x)\n",
    "    train_ind = idx[0:split]\n",
    "    test_ind = idx[split:]\n",
    "    trainX = X[train_ind]\n",
    "    trainY = Y[train_ind]\n",
    "    testX = X[test_ind]\n",
    "    testY = Y[test_ind]\n",
    "    trainX = np.reshape(trainX, (len(trainX), time_steps, 1))\n",
    "    testX = np.reshape(testX, (len(testX), time_steps, 1))\n",
    "    return trainX, trainY, testX, testY, scaler"
   ]
  },
  {
   "cell_type": "markdown",
   "id": "d82cb171-11f0-4378-9fbe-357bc5406fcf",
   "metadata": {},
   "source": [
    "#### Set up the Neural Network\n",
    "\n",
    "Create a small NN with two layers. "
   ]
  },
  {
   "cell_type": "code",
   "execution_count": 9,
   "id": "0a1c9eac-99c8-44a1-8b56-256e6612bd8d",
   "metadata": {},
   "outputs": [],
   "source": [
    "# Set up parameters\n",
    "time_steps = 20\n",
    "\n",
    "#hidden_units = 2\n",
    "hidden_units = 10\n",
    "\n",
    "epochs = 30"
   ]
  },
  {
   "cell_type": "code",
   "execution_count": 10,
   "id": "9c4d4a89-8d20-4b65-947d-41d60e52f991",
   "metadata": {},
   "outputs": [
    {
     "name": "stdout",
     "output_type": "stream",
     "text": [
      "Model: \"sequential\"\n",
      "_________________________________________________________________\n",
      " Layer (type)                Output Shape              Param #   \n",
      "=================================================================\n",
      " simple_rnn (SimpleRNN)      (None, 10)                120       \n",
      "                                                                 \n",
      " dense (Dense)               (None, 1)                 11        \n",
      "                                                                 \n",
      "=================================================================\n",
      "Total params: 131\n",
      "Trainable params: 131\n",
      "Non-trainable params: 0\n",
      "_________________________________________________________________\n"
     ]
    },
    {
     "name": "stderr",
     "output_type": "stream",
     "text": [
      "2023-06-16 12:07:49.336775: I tensorflow/core/platform/cpu_feature_guard.cc:193] This TensorFlow binary is optimized with oneAPI Deep Neural Network Library (oneDNN) to use the following CPU instructions in performance-critical operations:  AVX2 FMA\n",
      "To enable them in other operations, rebuild TensorFlow with the appropriate compiler flags.\n"
     ]
    }
   ],
   "source": [
    "# Traditional RNN network\n",
    "def create_RNN(hidden_units, dense_units, input_shape, activation):\n",
    "    model = Sequential()\n",
    "    model.add(SimpleRNN(hidden_units, input_shape=input_shape, activation=activation[0]))\n",
    "    model.add(Dense(units=dense_units, activation=activation[1]))\n",
    "    \n",
    "    model.compile(\n",
    "        loss='mse', \n",
    "        optimizer='adam',\n",
    "    )\n",
    "    \n",
    "    return model\n",
    "\n",
    "model_RNN = create_RNN(\n",
    "    hidden_units=hidden_units,\n",
    "    dense_units=1,\n",
    "    input_shape=(time_steps, 1),\n",
    "    activation=['tanh', 'tanh']\n",
    ")\n",
    "\n",
    "model_RNN.summary()"
   ]
  },
  {
   "cell_type": "markdown",
   "id": "1c28238c-d138-4aa6-abdc-30669566ee70",
   "metadata": {},
   "source": [
    "#### Train the Network and Evaluate"
   ]
  },
  {
   "cell_type": "code",
   "execution_count": 11,
   "id": "c4cbcc17-f162-48d4-9e7c-15d7ab964871",
   "metadata": {},
   "outputs": [
    {
     "name": "stdout",
     "output_type": "stream",
     "text": [
      "Epoch 1/30\n",
      "826/826 - 3s - loss: 2.9562e-04 - 3s/epoch - 3ms/step\n",
      "Epoch 2/30\n",
      "826/826 - 2s - loss: 1.3697e-04 - 2s/epoch - 2ms/step\n",
      "Epoch 3/30\n",
      "826/826 - 2s - loss: 7.8733e-05 - 2s/epoch - 3ms/step\n",
      "Epoch 4/30\n",
      "826/826 - 2s - loss: 6.0331e-05 - 2s/epoch - 2ms/step\n",
      "Epoch 5/30\n",
      "826/826 - 2s - loss: 6.8072e-05 - 2s/epoch - 2ms/step\n",
      "Epoch 6/30\n",
      "826/826 - 2s - loss: 6.4058e-05 - 2s/epoch - 3ms/step\n",
      "Epoch 7/30\n",
      "826/826 - 2s - loss: 5.7261e-05 - 2s/epoch - 3ms/step\n",
      "Epoch 8/30\n",
      "826/826 - 2s - loss: 6.3679e-05 - 2s/epoch - 3ms/step\n",
      "Epoch 9/30\n",
      "826/826 - 2s - loss: 5.5886e-05 - 2s/epoch - 2ms/step\n",
      "Epoch 10/30\n",
      "826/826 - 2s - loss: 5.9221e-05 - 2s/epoch - 2ms/step\n",
      "Epoch 11/30\n",
      "826/826 - 2s - loss: 6.3544e-05 - 2s/epoch - 2ms/step\n",
      "Epoch 12/30\n",
      "826/826 - 2s - loss: 6.0875e-05 - 2s/epoch - 2ms/step\n",
      "Epoch 13/30\n",
      "826/826 - 2s - loss: 5.6626e-05 - 2s/epoch - 2ms/step\n",
      "Epoch 14/30\n",
      "826/826 - 2s - loss: 5.9321e-05 - 2s/epoch - 2ms/step\n",
      "Epoch 15/30\n",
      "826/826 - 2s - loss: 6.4157e-05 - 2s/epoch - 2ms/step\n",
      "Epoch 16/30\n",
      "826/826 - 2s - loss: 5.2397e-05 - 2s/epoch - 2ms/step\n",
      "Epoch 17/30\n",
      "826/826 - 2s - loss: 6.1093e-05 - 2s/epoch - 2ms/step\n",
      "Epoch 18/30\n",
      "826/826 - 2s - loss: 5.5476e-05 - 2s/epoch - 2ms/step\n",
      "Epoch 19/30\n",
      "826/826 - 2s - loss: 5.4918e-05 - 2s/epoch - 3ms/step\n",
      "Epoch 20/30\n",
      "826/826 - 2s - loss: 5.5446e-05 - 2s/epoch - 3ms/step\n",
      "Epoch 21/30\n",
      "826/826 - 2s - loss: 5.5490e-05 - 2s/epoch - 3ms/step\n",
      "Epoch 22/30\n",
      "826/826 - 2s - loss: 5.7685e-05 - 2s/epoch - 3ms/step\n",
      "Epoch 23/30\n",
      "826/826 - 2s - loss: 5.3955e-05 - 2s/epoch - 3ms/step\n",
      "Epoch 24/30\n",
      "826/826 - 2s - loss: 5.4498e-05 - 2s/epoch - 3ms/step\n",
      "Epoch 25/30\n",
      "826/826 - 2s - loss: 5.2089e-05 - 2s/epoch - 3ms/step\n",
      "Epoch 26/30\n",
      "826/826 - 2s - loss: 5.6261e-05 - 2s/epoch - 2ms/step\n",
      "Epoch 27/30\n",
      "826/826 - 2s - loss: 5.2417e-05 - 2s/epoch - 2ms/step\n",
      "Epoch 28/30\n",
      "826/826 - 2s - loss: 5.4444e-05 - 2s/epoch - 2ms/step\n",
      "Epoch 29/30\n",
      "826/826 - 2s - loss: 5.4246e-05 - 2s/epoch - 2ms/step\n",
      "Epoch 30/30\n",
      "826/826 - 2s - loss: 5.0916e-05 - 2s/epoch - 3ms/step\n"
     ]
    }
   ],
   "source": [
    "# Generate the dataset\n",
    "trainX, trainY, testX, testY, scaler = get_fib_XY(\n",
    "    1200, \n",
    "    time_steps, \n",
    "    0.7\n",
    ")\n",
    "\n",
    "# Train the network\n",
    "hist = model_RNN.fit(\n",
    "    trainX,\n",
    "    trainY,\n",
    "    epochs=epochs,\n",
    "    batch_size=1,\n",
    "    verbose=2\n",
    ")"
   ]
  },
  {
   "cell_type": "code",
   "execution_count": 12,
   "id": "ef18495f-976d-4371-9e82-aee6f5a39baf",
   "metadata": {},
   "outputs": [
    {
     "data": {
      "text/plain": [
       "dict_keys(['loss'])"
      ]
     },
     "execution_count": 12,
     "metadata": {},
     "output_type": "execute_result"
    }
   ],
   "source": [
    "hist.history.keys()"
   ]
  },
  {
   "cell_type": "code",
   "execution_count": 13,
   "id": "9b252fbd-df5e-4909-a4af-ed08bf53b520",
   "metadata": {},
   "outputs": [
    {
     "data": {
      "image/png": "[encoded data removed]",
      "text/plain": [
       "<Figure size 640x480 with 1 Axes>"
      ]
     },
     "metadata": {},
     "output_type": "display_data"
    }
   ],
   "source": [
    "plt.plot(hist.history['loss'])\n",
    "plt.legend(['train'], loc='upper left')\n",
    "plt.show()"
   ]
  },
  {
   "cell_type": "code",
   "execution_count": 14,
   "id": "1c95a9e7-a41f-4002-ad63-1abb5167c2f0",
   "metadata": {},
   "outputs": [
    {
     "name": "stdout",
     "output_type": "stream",
     "text": [
      "26/26 - 0s - loss: 3.8612e-05 - 316ms/epoch - 12ms/step\n",
      "12/12 - 0s - loss: 8.8961e-06 - 42ms/epoch - 4ms/step\n",
      "----------------------------------------\n",
      "<class 'float'>\n",
      "Train MSE:\t3.861229924950749e-05\n",
      "Test MSE:\t8.896144208847545e-06\n"
     ]
    }
   ],
   "source": [
    "# Evaluate model\n",
    "train_mse = model_RNN.evaluate(trainX, trainY, verbose=2)\n",
    "test_mse = model_RNN.evaluate(testX, testY, verbose=2)\n",
    "HR()\n",
    "\n",
    "print(type(train_mse))\n",
    "# Print error\n",
    "print(f\"Train MSE:\\t{train_mse}\")\n",
    "print(f\"Test MSE:\\t{test_mse}\")"
   ]
  },
  {
   "cell_type": "markdown",
   "id": "be69d83a-4ea7-4e0e-98aa-82d6e4666119",
   "metadata": {},
   "source": [
    "---\n",
    "---\n",
    "---\n",
    "\n",
    "### 9.3 Adding a Custom Attention Layer to the Deep Learning Network\n",
    "\n",
    "* Write the __init__ method\n",
    "* Override the build method\n",
    "* Override the call method\n",
    "\n",
    "```\n",
    "K.tanh(K.dot(x, self.W)+self.b)\n",
    "K.squeeze(e, axis=-1)\n",
    "K.softmax(e)\n",
    "K.expand_dims(alpha, axis=-1)\n",
    "K.sum(context, axis=1)\n",
    "```"
   ]
  },
  {
   "cell_type": "code",
   "execution_count": 15,
   "id": "b7f77ab5-8a66-4770-af7d-6983e5405eb5",
   "metadata": {},
   "outputs": [],
   "source": [
    "class attention(Layer):\n",
    "    def __init__(self, **kwargs):\n",
    "        super().__init__(**kwargs)\n",
    "        \n",
    "    def build(self, input_shape):\n",
    "        self.W = self.add_weight(\n",
    "            name='attention_weight',\n",
    "            shape=(input_shape[-1], 1),\n",
    "            initializer='random_normal',\n",
    "            trainable=True\n",
    "        )\n",
    "        self.b = self.add_weight(\n",
    "            name='attention_bias',\n",
    "            shape=(input_shape[1], 1),\n",
    "            initializer='zeros',\n",
    "            trainable=True\n",
    "        )\n",
    "        super().build(input_shape)\n",
    "        \n",
    "    def call(self, x):\n",
    "        # Alignment scores. Pass through the tanh function\n",
    "        e = K.tanh(K.dot(x, self.W)+self.b)\n",
    "        \n",
    "        # Remove dimension of size 1\n",
    "        e = K.squeeze(e, axis=-1)\n",
    "        \n",
    "        # Compute weights\n",
    "        alpha = K.softmax(e)\n",
    "        \n",
    "        # Reshape to Tensorflow format\n",
    "        alpha = K.expand_dims(alpha, axis=-1)\n",
    "        \n",
    "        # Compute the context vector\n",
    "        context = x * alpha\n",
    "        context = K.sum(context, axis=1)\n",
    "        \n",
    "        return context        "
   ]
  },
  {
   "cell_type": "markdown",
   "id": "bce77ce8-2fec-4148-9eda-1982f53d6cb7",
   "metadata": {},
   "source": [
    "#### RNN with Attention Layer\n",
    "\n",
    "Add an attention layer to the earlier created RNN network.\n",
    "\n",
    "The attention layer expects a sequence as input. To use it after the `SimpleRNN` layer, the latter should return a sequence. The function `create_RNN_with_attention` specifies an RNN layer, attention layer, and Dense layer. \n",
    "\n",
    "Make sure to set `return_sequences=True` with specifying the `SimpleRNN`. This will return the output of the hidden units for all previous time steps (eg as a sequence)."
   ]
  },
  {
   "cell_type": "code",
   "execution_count": 16,
   "id": "fada658e-8cf4-408c-b752-498d9732731d",
   "metadata": {},
   "outputs": [],
   "source": [
    "def create_RNN_with_attention(hidden_units, dense_units, input_shape, activation):\n",
    "    x = Input(shape=input_shape)\n",
    "    \n",
    "    RNN_layer = SimpleRNN(\n",
    "        hidden_units, \n",
    "        return_sequences=True, \n",
    "        activation=activation\n",
    "    )(x)\n",
    "    \n",
    "    attention_layer = attention()(RNN_layer)\n",
    "    \n",
    "    outputs = Dense(dense_units, trainable=True, activation=activation)(attention_layer)\n",
    "    \n",
    "    model=Model(x, outputs)\n",
    "    \n",
    "    model.compile(\n",
    "        loss='mse', \n",
    "        optimizer='adam', \n",
    "        # metrics=['accuracy']\n",
    "    )\n",
    "    \n",
    "    return model"
   ]
  },
  {
   "cell_type": "code",
   "execution_count": 17,
   "id": "7c1a5872-2022-400b-8c49-b7f855a054b7",
   "metadata": {},
   "outputs": [
    {
     "name": "stdout",
     "output_type": "stream",
     "text": [
      "Model: \"model\"\n",
      "_________________________________________________________________\n",
      " Layer (type)                Output Shape              Param #   \n",
      "=================================================================\n",
      " input_1 (InputLayer)        [(None, 20, 1)]           0         \n",
      "                                                                 \n",
      " simple_rnn_1 (SimpleRNN)    (None, 20, 10)            120       \n",
      "                                                                 \n",
      " attention (attention)       (None, 10)                30        \n",
      "                                                                 \n",
      " dense_1 (Dense)             (None, 1)                 11        \n",
      "                                                                 \n",
      "=================================================================\n",
      "Total params: 161\n",
      "Trainable params: 161\n",
      "Non-trainable params: 0\n",
      "_________________________________________________________________\n"
     ]
    }
   ],
   "source": [
    "# Create the model with attention, train and evaluate\n",
    "model_attention = create_RNN_with_attention(\n",
    "    hidden_units=hidden_units,\n",
    "    dense_units=1,\n",
    "    input_shape=(time_steps, 1),\n",
    "    activation='tanh'\n",
    ")\n",
    "\n",
    "model_attention.summary()"
   ]
  },
  {
   "cell_type": "markdown",
   "id": "8f2d4529-564c-4010-af51-186ec297e185",
   "metadata": {},
   "source": [
    "#### Train and Evaluate the Deep Learning Network with Attention"
   ]
  },
  {
   "cell_type": "code",
   "execution_count": 18,
   "id": "c822d393-9140-4ded-8f51-8d3d1eeb4e8b",
   "metadata": {},
   "outputs": [
    {
     "name": "stdout",
     "output_type": "stream",
     "text": [
      "Epoch 1/30\n",
      "826/826 - 3s - loss: 0.0013 - 3s/epoch - 3ms/step\n",
      "Epoch 2/30\n",
      "826/826 - 2s - loss: 0.0013 - 2s/epoch - 3ms/step\n",
      "Epoch 3/30\n",
      "826/826 - 2s - loss: 0.0012 - 2s/epoch - 3ms/step\n",
      "Epoch 4/30\n",
      "826/826 - 2s - loss: 0.0012 - 2s/epoch - 3ms/step\n",
      "Epoch 5/30\n",
      "826/826 - 2s - loss: 0.0010 - 2s/epoch - 3ms/step\n",
      "Epoch 6/30\n",
      "826/826 - 2s - loss: 8.8789e-04 - 2s/epoch - 3ms/step\n",
      "Epoch 7/30\n",
      "826/826 - 2s - loss: 7.3319e-04 - 2s/epoch - 3ms/step\n",
      "Epoch 8/30\n",
      "826/826 - 2s - loss: 5.1910e-04 - 2s/epoch - 3ms/step\n",
      "Epoch 9/30\n",
      "826/826 - 2s - loss: 3.2285e-04 - 2s/epoch - 3ms/step\n",
      "Epoch 10/30\n",
      "826/826 - 2s - loss: 1.8986e-04 - 2s/epoch - 3ms/step\n",
      "Epoch 11/30\n",
      "826/826 - 2s - loss: 1.3148e-04 - 2s/epoch - 3ms/step\n",
      "Epoch 12/30\n",
      "826/826 - 2s - loss: 1.0495e-04 - 2s/epoch - 3ms/step\n",
      "Epoch 13/30\n",
      "826/826 - 2s - loss: 1.2666e-04 - 2s/epoch - 3ms/step\n",
      "Epoch 14/30\n",
      "826/826 - 2s - loss: 1.0669e-04 - 2s/epoch - 3ms/step\n",
      "Epoch 15/30\n",
      "826/826 - 2s - loss: 7.8727e-05 - 2s/epoch - 3ms/step\n",
      "Epoch 16/30\n",
      "826/826 - 2s - loss: 1.1592e-04 - 2s/epoch - 2ms/step\n",
      "Epoch 17/30\n",
      "826/826 - 2s - loss: 7.1370e-05 - 2s/epoch - 3ms/step\n",
      "Epoch 18/30\n",
      "826/826 - 2s - loss: 9.0469e-05 - 2s/epoch - 3ms/step\n",
      "Epoch 19/30\n",
      "826/826 - 2s - loss: 7.2974e-05 - 2s/epoch - 3ms/step\n",
      "Epoch 20/30\n",
      "826/826 - 2s - loss: 8.8922e-05 - 2s/epoch - 3ms/step\n",
      "Epoch 21/30\n",
      "826/826 - 2s - loss: 8.5821e-05 - 2s/epoch - 3ms/step\n",
      "Epoch 22/30\n",
      "826/826 - 2s - loss: 6.5524e-05 - 2s/epoch - 3ms/step\n",
      "Epoch 23/30\n",
      "826/826 - 2s - loss: 7.4746e-05 - 2s/epoch - 3ms/step\n",
      "Epoch 24/30\n",
      "826/826 - 2s - loss: 9.5520e-05 - 2s/epoch - 3ms/step\n",
      "Epoch 25/30\n",
      "826/826 - 2s - loss: 8.9297e-05 - 2s/epoch - 2ms/step\n",
      "Epoch 26/30\n",
      "826/826 - 2s - loss: 5.3432e-05 - 2s/epoch - 2ms/step\n",
      "Epoch 27/30\n",
      "826/826 - 2s - loss: 5.7170e-05 - 2s/epoch - 3ms/step\n",
      "Epoch 28/30\n",
      "826/826 - 2s - loss: 7.5343e-05 - 2s/epoch - 3ms/step\n",
      "Epoch 29/30\n",
      "826/826 - 2s - loss: 7.1429e-05 - 2s/epoch - 3ms/step\n",
      "Epoch 30/30\n",
      "826/826 - 2s - loss: 5.0468e-05 - 2s/epoch - 3ms/step\n"
     ]
    }
   ],
   "source": [
    "hist_ma = model_attention.fit(\n",
    "    trainX,\n",
    "    trainY,\n",
    "    epochs=epochs,\n",
    "    batch_size=1,\n",
    "    verbose=2\n",
    ")"
   ]
  },
  {
   "cell_type": "code",
   "execution_count": 19,
   "id": "ac0b1683-b4aa-4553-832b-11b75cfeadc9",
   "metadata": {},
   "outputs": [
    {
     "name": "stdout",
     "output_type": "stream",
     "text": [
      "26/26 - 0s - loss: 3.5101e-05 - 313ms/epoch - 12ms/step\n",
      "12/12 - 0s - loss: 4.4189e-05 - 48ms/epoch - 4ms/step\n",
      "----------------------------------------\n",
      "Train with MSE with attention:\t0.0000351007\n",
      "Test with MSE with attention:\t0.0000441893\n"
     ]
    }
   ],
   "source": [
    "train_mse_attn = model_attention.evaluate(trainX, trainY, verbose=2)\n",
    "test_mse_attn = model_attention.evaluate(testX, testY, verbose=2)\n",
    "HR()\n",
    "\n",
    "print(f\"Train with MSE with attention:\\t{train_mse_attn:.10f}\")\n",
    "print(f\"Test with MSE with attention:\\t{test_mse_attn:.10f}\")"
   ]
  },
  {
   "cell_type": "code",
   "execution_count": 20,
   "id": "a2289a67-12dd-4c72-a58a-ba42a80f3d34",
   "metadata": {},
   "outputs": [
    {
     "data": {
      "text/plain": [
       "dict_keys(['loss'])"
      ]
     },
     "execution_count": 20,
     "metadata": {},
     "output_type": "execute_result"
    }
   ],
   "source": [
    "hist_ma.history.keys()"
   ]
  },
  {
   "cell_type": "code",
   "execution_count": 21,
   "id": "f50da933-5339-4c79-8627-ef0394e61b78",
   "metadata": {},
   "outputs": [
    {
     "data": {
      "image/png": "[encoded data removed]",
      "text/plain": [
       "<Figure size 640x480 with 1 Axes>"
      ]
     },
     "metadata": {},
     "output_type": "display_data"
    }
   ],
   "source": [
    "plt.plot(hist_ma.history['loss'])\n",
    "plt.plot(hist.history['loss'])\n",
    "plt.legend(['Loss with no attention', 'Loss with attention'], loc='upper left')\n",
    "plt.show()"
   ]
  },
  {
   "cell_type": "markdown",
   "id": "43353865-a60a-4ba8-be2a-be8e6b95a7f7",
   "metadata": {},
   "source": [
    "---\n",
    "---\n",
    "---"
   ]
  },
  {
   "cell_type": "code",
   "execution_count": 22,
   "id": "80ccef0d-83bb-4a94-accb-63d81006e486",
   "metadata": {},
   "outputs": [],
   "source": [
    "from tensorflow.keras.layers import LSTM\n",
    "\n",
    "def create_LSTM_with_attention(hidden_units, dense_units, input_shape, activation):\n",
    "    x = Input(shape=input_shape)\n",
    "    \n",
    "    LSTM_layer = LSTM(\n",
    "        hidden_units, \n",
    "        return_sequences=True, \n",
    "        activation=activation\n",
    "    )(x)\n",
    "    \n",
    "    attention_layer = attention()(LSTM_layer)\n",
    "    \n",
    "    outputs = Dense(dense_units, trainable=True, activation=activation)(attention_layer)\n",
    "    \n",
    "    model=Model(x, outputs)\n",
    "    \n",
    "    model.compile(\n",
    "        loss='mse', \n",
    "        optimizer='adam', \n",
    "    )\n",
    "    \n",
    "    return model"
   ]
  },
  {
   "cell_type": "code",
   "execution_count": 23,
   "id": "16af29e6-9211-4bf7-8baf-671ca85de025",
   "metadata": {},
   "outputs": [
    {
     "name": "stdout",
     "output_type": "stream",
     "text": [
      "Model: \"model_1\"\n",
      "_________________________________________________________________\n",
      " Layer (type)                Output Shape              Param #   \n",
      "=================================================================\n",
      " input_2 (InputLayer)        [(None, 20, 1)]           0         \n",
      "                                                                 \n",
      " lstm (LSTM)                 (None, 20, 10)            480       \n",
      "                                                                 \n",
      " attention_1 (attention)     (None, 10)                30        \n",
      "                                                                 \n",
      " dense_2 (Dense)             (None, 1)                 11        \n",
      "                                                                 \n",
      "=================================================================\n",
      "Total params: 521\n",
      "Trainable params: 521\n",
      "Non-trainable params: 0\n",
      "_________________________________________________________________\n"
     ]
    }
   ],
   "source": [
    "# Create the model with attention, train and evaluate\n",
    "model_LSTM_attention = create_LSTM_with_attention(\n",
    "    hidden_units=hidden_units,\n",
    "    dense_units=1,\n",
    "    input_shape=(time_steps, 1),\n",
    "    activation='tanh'\n",
    ")\n",
    "\n",
    "model_LSTM_attention.summary()"
   ]
  },
  {
   "cell_type": "code",
   "execution_count": 24,
   "id": "5c936c28-0c6c-445a-92dc-ea1fb7fb87bc",
   "metadata": {},
   "outputs": [
    {
     "name": "stdout",
     "output_type": "stream",
     "text": [
      "Epoch 1/30\n",
      "826/826 - 5s - loss: 0.0014 - 5s/epoch - 6ms/step\n",
      "Epoch 2/30\n",
      "826/826 - 4s - loss: 0.0014 - 4s/epoch - 5ms/step\n",
      "Epoch 3/30\n",
      "826/826 - 4s - loss: 0.0014 - 4s/epoch - 5ms/step\n",
      "Epoch 4/30\n",
      "826/826 - 4s - loss: 0.0014 - 4s/epoch - 5ms/step\n",
      "Epoch 5/30\n",
      "826/826 - 3s - loss: 0.0014 - 3s/epoch - 4ms/step\n",
      "Epoch 6/30\n",
      "826/826 - 3s - loss: 0.0014 - 3s/epoch - 4ms/step\n",
      "Epoch 7/30\n",
      "826/826 - 3s - loss: 0.0013 - 3s/epoch - 4ms/step\n",
      "Epoch 8/30\n",
      "826/826 - 3s - loss: 0.0013 - 3s/epoch - 4ms/step\n",
      "Epoch 9/30\n",
      "826/826 - 4s - loss: 0.0012 - 4s/epoch - 4ms/step\n",
      "Epoch 10/30\n",
      "826/826 - 4s - loss: 0.0012 - 4s/epoch - 5ms/step\n",
      "Epoch 11/30\n",
      "826/826 - 4s - loss: 0.0011 - 4s/epoch - 4ms/step\n",
      "Epoch 12/30\n",
      "826/826 - 3s - loss: 9.7184e-04 - 3s/epoch - 4ms/step\n",
      "Epoch 13/30\n",
      "826/826 - 4s - loss: 7.9870e-04 - 4s/epoch - 4ms/step\n",
      "Epoch 14/30\n",
      "826/826 - 3s - loss: 5.6324e-04 - 3s/epoch - 4ms/step\n",
      "Epoch 15/30\n",
      "826/826 - 3s - loss: 3.7266e-04 - 3s/epoch - 4ms/step\n",
      "Epoch 16/30\n",
      "826/826 - 3s - loss: 1.9328e-04 - 3s/epoch - 4ms/step\n",
      "Epoch 17/30\n",
      "826/826 - 3s - loss: 9.0861e-05 - 3s/epoch - 4ms/step\n",
      "Epoch 18/30\n",
      "826/826 - 4s - loss: 5.7642e-05 - 4s/epoch - 4ms/step\n",
      "Epoch 19/30\n",
      "826/826 - 3s - loss: 5.5732e-05 - 3s/epoch - 4ms/step\n",
      "Epoch 20/30\n",
      "826/826 - 4s - loss: 8.5474e-05 - 4s/epoch - 4ms/step\n",
      "Epoch 21/30\n",
      "826/826 - 4s - loss: 3.2471e-05 - 4s/epoch - 4ms/step\n",
      "Epoch 22/30\n",
      "826/826 - 4s - loss: 8.3161e-05 - 4s/epoch - 4ms/step\n",
      "Epoch 23/30\n",
      "826/826 - 3s - loss: 3.1732e-05 - 3s/epoch - 4ms/step\n",
      "Epoch 24/30\n",
      "826/826 - 3s - loss: 4.5944e-05 - 3s/epoch - 4ms/step\n",
      "Epoch 25/30\n",
      "826/826 - 3s - loss: 4.3371e-05 - 3s/epoch - 4ms/step\n",
      "Epoch 26/30\n",
      "826/826 - 3s - loss: 3.7051e-05 - 3s/epoch - 4ms/step\n",
      "Epoch 27/30\n",
      "826/826 - 3s - loss: 3.6415e-05 - 3s/epoch - 4ms/step\n",
      "Epoch 28/30\n",
      "826/826 - 3s - loss: 4.1470e-05 - 3s/epoch - 4ms/step\n",
      "Epoch 29/30\n",
      "826/826 - 3s - loss: 2.9229e-05 - 3s/epoch - 4ms/step\n",
      "Epoch 30/30\n",
      "826/826 - 3s - loss: 2.4732e-05 - 3s/epoch - 4ms/step\n"
     ]
    }
   ],
   "source": [
    "hist_LSTM = model_LSTM_attention.fit(\n",
    "    trainX,\n",
    "    trainY,\n",
    "    epochs=epochs,\n",
    "    batch_size=1,\n",
    "    verbose=2\n",
    ")"
   ]
  },
  {
   "cell_type": "code",
   "execution_count": 25,
   "id": "5c5133ae-67b4-4d0e-9864-402d88be14fd",
   "metadata": {},
   "outputs": [
    {
     "data": {
      "text/plain": [
       "dict_keys(['loss'])"
      ]
     },
     "execution_count": 25,
     "metadata": {},
     "output_type": "execute_result"
    }
   ],
   "source": [
    "hist_LSTM.history.keys()"
   ]
  },
  {
   "cell_type": "code",
   "execution_count": 26,
   "id": "a00424e8-0f92-49a5-af3e-b293c25d3f73",
   "metadata": {},
   "outputs": [
    {
     "name": "stdout",
     "output_type": "stream",
     "text": [
      "26/26 - 0s - loss: 8.6268e-05 - 465ms/epoch - 18ms/step\n",
      "12/12 - 0s - loss: 8.2864e-05 - 40ms/epoch - 3ms/step\n",
      "----------------------------------------\n",
      "Train with MSE with LSTM attention:\t0.0000862683\n",
      "Test with MSE with LSTM attention:\t0.0000828638\n"
     ]
    }
   ],
   "source": [
    "train_mse_attn_LSTM = model_LSTM_attention.evaluate(trainX, trainY, verbose=2)\n",
    "test_mse_attn_LSTM = model_LSTM_attention.evaluate(testX, testY, verbose=2)\n",
    "HR()\n",
    "\n",
    "print(f\"Train with MSE with LSTM attention:\\t{train_mse_attn_LSTM:.10f}\")\n",
    "print(f\"Test with MSE with LSTM attention:\\t{test_mse_attn_LSTM:.10f}\")"
   ]
  },
  {
   "cell_type": "code",
   "execution_count": 27,
   "id": "f3b140b2-8999-466f-81e5-f3da41ee9648",
   "metadata": {},
   "outputs": [
    {
     "data": {
      "image/png": "[encoded data removed]",
      "text/plain": [
       "<Figure size 640x480 with 1 Axes>"
      ]
     },
     "metadata": {},
     "output_type": "display_data"
    }
   ],
   "source": [
    "plt.plot(hist_ma.history['loss'])\n",
    "plt.plot(hist.history['loss'])\n",
    "plt.plot(hist_LSTM.history['loss'])\n",
    "plt.legend(['Loss with no attention, SimpleRNN', 'Loss with attention, SimpleRNN', 'Loss with attention, LSTM'], loc='upper left')\n",
    "plt.show()"
   ]
  },
  {
   "cell_type": "code",
   "execution_count": null,
   "id": "b10f767c-44a6-4d33-91ea-88cc42d30a8c",
   "metadata": {},
   "outputs": [],
   "source": []
  }
 ],
 "metadata": {
  "kernelspec": {
   "display_name": "Python 3 (ipykernel)",
   "language": "python",
   "name": "python3"
  },
  "language_info": {
   "codemirror_mode": {
    "name": "ipython",
    "version": 3
   },
   "file_extension": ".py",
   "mimetype": "text/x-python",
   "name": "python",
   "nbconvert_exporter": "python",
   "pygments_lexer": "ipython3",
   "version": "3.8.12"
  }
 },
 "nbformat": 4,
 "nbformat_minor": 5
}
