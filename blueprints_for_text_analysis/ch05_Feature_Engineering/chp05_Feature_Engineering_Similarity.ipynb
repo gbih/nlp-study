{
 "cells": [
  {
   "cell_type": "markdown",
   "metadata": {
    "id": "e7LlWqMvEnUg"
   },
   "source": [
    "<a id='top'></a><a name='top'></a>\n",
    "# Chapter 5: Feature Engineering and Syntactic Similarity\n",
    "\n",
    "Book: [Blueprints for Text Analysis Using Python](https://www.oreilly.com/library/view/blueprints-for-text/9781492074076/)\n",
    "\n",
    "Repo: https://github.com/blueprints-for-text-analytics-python/blueprints-text"
   ]
  },
  {
   "cell_type": "markdown",
   "metadata": {
    "id": "8AUxaFdaEnUj"
   },
   "source": [
    "* [Introduction](#introduction)\n",
    "* [5.0 Imports and Setup](#5.0)\n",
    "* [5.1 A Toy Dataset for Experimentation](#5.1)\n",
    "* [5.2 Blueprint: Building Your Own Vectorizer](#5.2)\n",
    "    - [5.2.1 Enumerating the Vocabulary](#5.2.1)\n",
    "    - [5.2.2 Vectorizing Documents](#5.2.2)\n",
    "    - [5.2.3 The Document-Term Matrix](#5.2.3)\n",
    "    - [5.2.4 The Similarity Matrix](#5.2.4)\n",
    "* [5.3 Bag-of-Words Models](#5.3)\n",
    "    - [5.3.1 Blueprint: Using scikit-learn's CountVectorizer](#5.3.1)\n",
    "    - [5.3.2 Blueprint: Calculating Similarities](#5.3.2)\n",
    "* [5.4 TF-IDF Models](#5.4)\n",
    "    - [5.4.1 Optimized Document Vectors with TfidfTransformer](#5.4.1)\n",
    "    - [5.4.2 Introducing the ABC Datset](#5.4.2)\n",
    "    - [5.4.3 Blueprint: Reducing Feature Dimensions](#5.4.3)\n",
    "    - [5.4.4 Blueprint: Improving Features by Making Them More Specific](#5.4.4)\n",
    "    - [5.4.5 Blueprint: Using Lemmas Instead of Words for Vectorizing Documents](#5.4.5)\n",
    "    - [5.4.6 Blueprint: Limit Word Types](#5.4.6)\n",
    "    - [5.4.7 Blueprint: Remove Most Common Words](#5.4.7)\n",
    "    - [5.4.8 Blueprint: Adding Context via N-Grams](#5.4.8)\n",
    "* [5.5 Syntactic Similarity in the ABC Dataset](#5.5)\n",
    "    - [5.5.1 Blueprint: Finding Most Similar Headlines to a Made-up Headline](#5.5.1)\n",
    "    - [5.5.2 Blueprint: Finding the Two Most Similar Documents in a Large Corpus (Much More Difficult)](#5.5.2)\n",
    "    - [5.5.3 Blueprint: Finding Related Words)](#5.5.3)\n",
    "    - [5.5.4 Tips for Long-Running Programs like Syntactic Similarity](#5.5.4)"
   ]
  },
  {
   "cell_type": "markdown",
   "metadata": {
    "id": "BnLbLp6o6vWj"
   },
   "source": [
    "---\n",
    "<a name='introduction'></a><a id='introduction'></a>\n",
    "# Introduction\n",
    "<a href=\"#top\">[back to top]</a>\n",
    "\n",
    "### Dataset\n",
    "\n",
    "* google-10000-english.txt: [script](#google-10000-english.txt), [source](https://raw.githubusercontent.com/first20hours/google-10000-english/master/google-10000-english.txt)\n",
    "* ABC Australian news 2003-2017: [script](#abcnews-date-text.csv.gz), [source](https://github.com/blueprints-for-text-analytics-python/blueprints-text/raw/master/data/abcnews/abcnews-date-text.csv.gz)\n",
    "\n",
    "\n",
    "### Explore\n",
    "\n",
    "* How to convert documents to vectors using words or combinations as features. \n",
    "* The importance of similarity of documents and ways to calculate it.\n",
    "* How to design and implement a custom vectorizer.\n",
    "* The Bag-of-Words model and TF-IDF improvements to it."
   ]
  },
  {
   "cell_type": "markdown",
   "metadata": {
    "id": "jBv5w0dj6vWk"
   },
   "source": [
    "---\n",
    "<a name='5.0'></a><a id='5.0'></a>\n",
    "# 5.0 Imports and Setup\n",
    "<a href=\"#top\">[back to top]</a>"
   ]
  },
  {
   "cell_type": "code",
   "execution_count": 1,
   "metadata": {},
   "outputs": [],
   "source": [
    "# # Start with clean project\n",
    "# !rm -f *.gz \n",
    "# !rm -f *.txt \n",
    "# !rm -f *.csv \n",
    "# !rm -f *.pkl \n",
    "# !rm -f *.py\n",
    "# !ls -l"
   ]
  },
  {
   "cell_type": "code",
   "execution_count": 2,
   "metadata": {
    "id": "eGE97J6rEtYw"
   },
   "outputs": [],
   "source": [
    "req_file = \"requirements_05.txt\""
   ]
  },
  {
   "cell_type": "code",
   "execution_count": 1,
   "metadata": {
    "colab": {
     "base_uri": "https://localhost:8080/"
    },
    "id": "bOI-C0J4EtdB",
    "outputId": "f837810a-de42-4f07-da08-c4ac8b077259"
   },
   "outputs": [
    {
     "name": "stdout",
     "output_type": "stream",
     "text": [
      "Writing {req_file}\n"
     ]
    }
   ],
   "source": [
    "%%writefile {req_file}\n",
    "isort\n",
    "tqdm\n",
    "watermark"
   ]
  },
  {
   "cell_type": "code",
   "execution_count": 2,
   "metadata": {
    "colab": {
     "base_uri": "https://localhost:8080/"
    },
    "id": "0RtQOU4AEtg5",
    "outputId": "fc99fe6f-1309-49e0-b204-3e5dc1f38b75"
   },
   "outputs": [
    {
     "name": "stdout",
     "output_type": "stream",
     "text": [
      "Running locally.\n"
     ]
    }
   ],
   "source": [
    "import sys\n",
    "\n",
    "IS_COLAB = 'google.colab' in sys.modules\n",
    "if IS_COLAB:\n",
    "    print(\"Installing packages\")\n",
    "    !pip install --upgrade --quiet -r {req_file}\n",
    "else:\n",
    "    print(\"Running locally.\")"
   ]
  },
  {
   "cell_type": "code",
   "execution_count": 3,
   "metadata": {
    "colab": {
     "base_uri": "https://localhost:8080/"
    },
    "id": "cozoDBSV6vWp",
    "outputId": "e56ba548-38e7-4536-ef60-f14a6cf4a79e"
   },
   "outputs": [
    {
     "name": "stdout",
     "output_type": "stream",
     "text": [
      "Writing imports.py\n"
     ]
    }
   ],
   "source": [
    "%%writefile imports.py\n",
    "import locale\n",
    "import pprint\n",
    "import warnings\n",
    "\n",
    "import matplotlib.pyplot as plt\n",
    "import numpy as np\n",
    "import pandas as pd\n",
    "import seaborn as sns\n",
    "import spacy\n",
    "from sklearn.feature_extraction.text import (CountVectorizer, TfidfTransformer,\n",
    "                                             TfidfVectorizer)\n",
    "from sklearn.metrics.pairwise import cosine_similarity\n",
    "from sklearn.preprocessing import MultiLabelBinarizer\n",
    "from spacy.lang.en.stop_words import STOP_WORDS\n",
    "from tqdm.auto import tqdm\n",
    "from watermark import watermark"
   ]
  },
  {
   "cell_type": "code",
   "execution_count": 4,
   "metadata": {
    "colab": {
     "base_uri": "https://localhost:8080/"
    },
    "id": "1JPBpKVr6vWq",
    "outputId": "9181d02f-61f6-4b01-ca69-af59eeeb50df"
   },
   "outputs": [
    {
     "name": "stdout",
     "output_type": "stream",
     "text": [
      "import locale\n",
      "import pprint\n",
      "import warnings\n",
      "\n",
      "import matplotlib.pyplot as plt\n",
      "import numpy as np\n",
      "import pandas as pd\n",
      "import seaborn as sns\n",
      "import spacy\n",
      "from sklearn.feature_extraction.text import (CountVectorizer, TfidfTransformer,\n",
      "                                             TfidfVectorizer)\n",
      "from sklearn.metrics.pairwise import cosine_similarity\n",
      "from sklearn.preprocessing import MultiLabelBinarizer\n",
      "from spacy.lang.en.stop_words import STOP_WORDS\n",
      "from tqdm.auto import tqdm\n",
      "from watermark import watermark\n"
     ]
    }
   ],
   "source": [
    "!isort imports.py\n",
    "!cat imports.py"
   ]
  },
  {
   "cell_type": "code",
   "execution_count": 5,
   "metadata": {
    "id": "90kYfbbHFDEc"
   },
   "outputs": [],
   "source": [
    "import locale\n",
    "import pprint\n",
    "import warnings\n",
    "\n",
    "import matplotlib.pyplot as plt\n",
    "import numpy as np\n",
    "import pandas as pd\n",
    "import seaborn as sns\n",
    "import spacy\n",
    "from sklearn.feature_extraction.text import (CountVectorizer, TfidfTransformer,\n",
    "                                             TfidfVectorizer)\n",
    "from sklearn.metrics.pairwise import cosine_similarity\n",
    "from sklearn.preprocessing import MultiLabelBinarizer\n",
    "from spacy.lang.en.stop_words import STOP_WORDS\n",
    "from tqdm.auto import tqdm\n",
    "from watermark import watermark"
   ]
  },
  {
   "cell_type": "code",
   "execution_count": 6,
   "metadata": {
    "colab": {
     "base_uri": "https://localhost:8080/"
    },
    "id": "-VgeQc5NEtkz",
    "outputId": "3f2832f2-69f5-4b85-813f-2bad30291ea8"
   },
   "outputs": [
    {
     "name": "stdout",
     "output_type": "stream",
     "text": [
      "Python implementation: CPython\n",
      "Python version       : 3.11.5\n",
      "IPython version      : 8.18.1\n",
      "\n",
      "Compiler    : Clang 14.0.0 (clang-1400.0.29.202)\n",
      "OS          : Darwin\n",
      "Release     : 21.6.0\n",
      "Machine     : x86_64\n",
      "Processor   : i386\n",
      "CPU cores   : 4\n",
      "Architecture: 64bit\n",
      "\n",
      "numpy     : 1.26.0\n",
      "spacy     : 3.7.4\n",
      "matplotlib: 3.9.2\n",
      "sys       : 3.11.5 (main, Jan 16 2024, 17:25:53) [Clang 14.0.0 (clang-1400.0.29.202)]\n",
      "seaborn   : 0.13.2\n",
      "pandas    : 2.2.2\n",
      "\n"
     ]
    }
   ],
   "source": [
    "def HR():\n",
    "    print(\"-\"*40)\n",
    "    \n",
    "def getpreferredencoding(do_setlocale = True):\n",
    "    return \"UTF-8\"\n",
    "\n",
    "locale.getpreferredencoding = getpreferredencoding\n",
    "warnings.filterwarnings('ignore')\n",
    "BASE_DIR = '.'\n",
    "sns.set_style(\"darkgrid\")\n",
    "tqdm.pandas(desc=\"progress-bar\")\n",
    "pp = pprint.PrettyPrinter(indent=4)\n",
    "\n",
    "print(watermark(iversions=True, globals_=globals(),python=True, machine=True))"
   ]
  },
  {
   "cell_type": "code",
   "execution_count": 7,
   "metadata": {
    "id": "2gn4JtDY7qXF"
   },
   "outputs": [],
   "source": [
    "# Need to cast stopwords to a list so we can pass to TfidfVectorizer\n",
    "stopwords = list(STOP_WORDS)\n",
    "\n",
    "matrix_data = []"
   ]
  },
  {
   "cell_type": "code",
   "execution_count": 8,
   "metadata": {
    "id": "oTtwXPfo6vWt"
   },
   "outputs": [],
   "source": [
    "title_w = 10\n",
    "val_w = 10\n",
    "title_columns=\"Columns\"\n",
    "title_rows=\"Rows\"\n",
    "title_elements=\"Elements\"\n",
    "title_bytes=\"Bytes\"\n",
    "title_gb=\"Gigabytes\"\n",
    "    \n",
    "df_names = [title_columns, title_elements, title_rows, \"title\"]\n",
    "    \n",
    "def examine_matrix(dt, title, add_to_df=True):\n",
    "\n",
    "    print(f\"{title_columns:<{title_w}} {dt.shape[0]:{val_w},}\")\n",
    "    print(f\"{title_rows:<{title_w}} {dt.shape[1]:{val_w},}\")\n",
    "    print(f\"{title_elements:<{title_w}} {dt.nnz:{val_w},}\")\n",
    "    print(f\"{title_bytes:<{title_w}} {dt.data.nbytes:{val_w},}\")\n",
    "    print(f\"{title_gb:<{title_w}} {round(dt.data.nbytes / (1024*1024*1024), 5):{val_w},}\")\n",
    "\n",
    "    matrix_row = {\n",
    "        'title': title,\n",
    "        title_columns: dt.shape[0],\n",
    "        title_rows: dt.shape[1],\n",
    "        title_elements: dt.nnz\n",
    "    }\n",
    "    if add_to_df:\n",
    "        matrix_data.append(matrix_row)"
   ]
  },
  {
   "cell_type": "code",
   "execution_count": 9,
   "metadata": {},
   "outputs": [],
   "source": [
    "def show(matrix_data):\n",
    "    results = pd.DataFrame.from_records(matrix_data, index='title')\n",
    "    row = results.iloc[:][['Columns','Rows','Elements']]\n",
    "    row.plot(kind='barh', ylabel=\"\", fontsize=8)\n",
    "    \n",
    "    plt.show()"
   ]
  },
  {
   "cell_type": "markdown",
   "metadata": {
    "id": "sH9qEklx6vWu"
   },
   "source": [
    "---\n",
    "<a name='5.1'></a><a id='5.1'></a>\n",
    "# 5.1 A Toy Dataset for Experimentation\n",
    "<a href=\"#top\">[back to top]</a>\n",
    "\n",
    "We use a few sentences from *A Tale of Two Cities* by Charles Dickens.\n",
    "\n",
    "    It was the best of times.\n",
    "    It was the worst of times.\n",
    "    It was the age of wisdom.\n",
    "    It was the age of foolishness."
   ]
  },
  {
   "cell_type": "markdown",
   "metadata": {
    "id": "DiumpQJl6vWu"
   },
   "source": [
    "---\n",
    "<a name='5.2'></a><a id='5.2'></a>\n",
    "# 5.2 Blueprint: Building Your Own Vectorizer\n",
    "<a href=\"#top\">[back to top]</a>\n",
    "\n",
    "We implement a simple *one-hot vectorizer*. This creates binary vectors by representing the occurrence of a word in a document via 1 or 0."
   ]
  },
  {
   "cell_type": "markdown",
   "metadata": {
    "id": "XD1u23ja6vWv"
   },
   "source": [
    "<a name='5.2.1'></a><a id='5.2.1'></a>\n",
    "## 5.2.1 Enumerating the Vocabulary\n",
    "<a href=\"#top\">[back to top]</a>\n",
    "\n",
    "Convert words to the dimensions of the vectors. Extracting words from the text is done via tokenization.\n",
    "\n",
    "In terms of representation, we are only interested in whether a word appears in a document or not."
   ]
  },
  {
   "cell_type": "code",
   "execution_count": 10,
   "metadata": {
    "colab": {
     "base_uri": "https://localhost:8080/"
    },
    "id": "3VHERDa-EnUo",
    "outputId": "9eb08ad4-9624-44ca-e997-ea818e6274e2"
   },
   "outputs": [
    {
     "name": "stdout",
     "output_type": "stream",
     "text": [
      "[   ['It', 'was', 'the', 'best', 'of', 'times'],\n",
      "    ['it', 'was', 'the', 'worst', 'of', 'times'],\n",
      "    ['it', 'was', 'the', 'age', 'of', 'wisdom'],\n",
      "    ['it', 'was', 'the', 'age', 'of', 'foolishness']]\n"
     ]
    }
   ],
   "source": [
    "sentences = [\"It was the best of times\", \n",
    "             \"it was the worst of times\", \n",
    "             \"it was the age of wisdom\", \n",
    "             \"it was the age of foolishness\"]\n",
    "\n",
    "tokenized_sentences = [[t for t in sentence.split()] for sentence in sentences]\n",
    "pp.pprint(tokenized_sentences)"
   ]
  },
  {
   "cell_type": "code",
   "execution_count": 11,
   "metadata": {
    "colab": {
     "base_uri": "https://localhost:8080/"
    },
    "id": "V-_mIQhQ6vWw",
    "outputId": "36aeb05e-ea5b-46b8-fa20-3bf10335d8ee"
   },
   "outputs": [
    {
     "name": "stdout",
     "output_type": "stream",
     "text": [
      "{   'It',\n",
      "    'age',\n",
      "    'best',\n",
      "    'foolishness',\n",
      "    'it',\n",
      "    'of',\n",
      "    'the',\n",
      "    'times',\n",
      "    'was',\n",
      "    'wisdom',\n",
      "    'worst'}\n"
     ]
    }
   ],
   "source": [
    "vocabulary = set([w for s in tokenized_sentences for w in s])\n",
    "pp.pprint(vocabulary)"
   ]
  },
  {
   "cell_type": "code",
   "execution_count": 12,
   "metadata": {
    "colab": {
     "base_uri": "https://localhost:8080/",
     "height": 394
    },
    "id": "2loZVfal6vWw",
    "outputId": "4a9d8bb2-5084-4d8b-a173-a0b6910e7af1"
   },
   "outputs": [
    {
     "data": {
      "text/html": [
       "<div>\n",
       "<style scoped>\n",
       "    .dataframe tbody tr th:only-of-type {\n",
       "        vertical-align: middle;\n",
       "    }\n",
       "\n",
       "    .dataframe tbody tr th {\n",
       "        vertical-align: top;\n",
       "    }\n",
       "\n",
       "    .dataframe thead th {\n",
       "        text-align: right;\n",
       "    }\n",
       "</style>\n",
       "<table border=\"1\" class=\"dataframe\">\n",
       "  <thead>\n",
       "    <tr style=\"text-align: right;\">\n",
       "      <th></th>\n",
       "      <th>0</th>\n",
       "      <th>1</th>\n",
       "    </tr>\n",
       "  </thead>\n",
       "  <tbody>\n",
       "    <tr>\n",
       "      <th>0</th>\n",
       "      <td>worst</td>\n",
       "      <td>0</td>\n",
       "    </tr>\n",
       "    <tr>\n",
       "      <th>1</th>\n",
       "      <td>wisdom</td>\n",
       "      <td>1</td>\n",
       "    </tr>\n",
       "    <tr>\n",
       "      <th>2</th>\n",
       "      <td>age</td>\n",
       "      <td>2</td>\n",
       "    </tr>\n",
       "    <tr>\n",
       "      <th>3</th>\n",
       "      <td>the</td>\n",
       "      <td>3</td>\n",
       "    </tr>\n",
       "    <tr>\n",
       "      <th>4</th>\n",
       "      <td>It</td>\n",
       "      <td>4</td>\n",
       "    </tr>\n",
       "    <tr>\n",
       "      <th>5</th>\n",
       "      <td>foolishness</td>\n",
       "      <td>5</td>\n",
       "    </tr>\n",
       "    <tr>\n",
       "      <th>6</th>\n",
       "      <td>of</td>\n",
       "      <td>6</td>\n",
       "    </tr>\n",
       "    <tr>\n",
       "      <th>7</th>\n",
       "      <td>times</td>\n",
       "      <td>7</td>\n",
       "    </tr>\n",
       "    <tr>\n",
       "      <th>8</th>\n",
       "      <td>it</td>\n",
       "      <td>8</td>\n",
       "    </tr>\n",
       "    <tr>\n",
       "      <th>9</th>\n",
       "      <td>best</td>\n",
       "      <td>9</td>\n",
       "    </tr>\n",
       "    <tr>\n",
       "      <th>10</th>\n",
       "      <td>was</td>\n",
       "      <td>10</td>\n",
       "    </tr>\n",
       "  </tbody>\n",
       "</table>\n",
       "</div>"
      ],
      "text/plain": [
       "              0   1\n",
       "0         worst   0\n",
       "1        wisdom   1\n",
       "2           age   2\n",
       "3           the   3\n",
       "4            It   4\n",
       "5   foolishness   5\n",
       "6            of   6\n",
       "7         times   7\n",
       "8            it   8\n",
       "9          best   9\n",
       "10          was  10"
      ]
     },
     "execution_count": 12,
     "metadata": {},
     "output_type": "execute_result"
    }
   ],
   "source": [
    "pd.DataFrame([[w, i] for i,w in enumerate(vocabulary)])"
   ]
  },
  {
   "cell_type": "markdown",
   "metadata": {
    "id": "aoCLOv1AEnUp"
   },
   "source": [
    "<a name='5.2.2'></a><a id='5.2.2'></a>\n",
    "## 5.2.2 Vectorizing Documents\n",
    "<a href=\"#top\">[back to top]</a>\n",
    "\n",
    "To enable comparisons among vectors, we have to ensure the vectors for each document have the same number of dimensions.\n",
    "\n",
    "To achieve this, we use the same dictionary for all documents. If the document doesn't contain a word, we represent that with a 0 at the corresponding position, otherwise we use a 1. By convention, row vectors are used for documents. The dimension of vectors is as big as the length of the dictionary. In large projects, the vocabulary can easily exceed 100,000 words. "
   ]
  },
  {
   "cell_type": "code",
   "execution_count": 13,
   "metadata": {
    "colab": {
     "base_uri": "https://localhost:8080/"
    },
    "id": "KpS31pKQEnUq",
    "outputId": "30d5626d-1245-4c36-8019-2114c0b4da02"
   },
   "outputs": [
    {
     "name": "stdout",
     "output_type": "stream",
     "text": [
      "[0, 0, 0, 1, 1, 0, 1, 1, 0, 1, 1]: It was the best of times\n",
      "[1, 0, 0, 1, 0, 0, 1, 1, 1, 0, 1]: it was the worst of times\n",
      "[0, 1, 1, 1, 0, 0, 1, 0, 1, 0, 1]: it was the age of wisdom\n",
      "[0, 0, 1, 1, 0, 1, 1, 0, 1, 0, 1]: it was the age of foolishness\n"
     ]
    }
   ],
   "source": [
    "def onehot_encode(tokenized_sentence):\n",
    "    return [1 if w in tokenized_sentence else 0 for w in vocabulary]\n",
    "\n",
    "onehot = [onehot_encode(tokenized_sentence) for tokenized_sentence in tokenized_sentences]\n",
    "\n",
    "for (sentence, oh) in zip(sentences, onehot):\n",
    "    print(\"%s: %s\" % (oh, sentence))"
   ]
  },
  {
   "cell_type": "code",
   "execution_count": 14,
   "metadata": {
    "colab": {
     "base_uri": "https://localhost:8080/"
    },
    "id": "xageTW6jEnUt",
    "outputId": "fafdcd51-bfd1-4c6f-abbb-73dd50b54afe"
   },
   "outputs": [
    {
     "data": {
      "text/plain": [
       "4"
      ]
     },
     "execution_count": 14,
     "metadata": {},
     "output_type": "execute_result"
    }
   ],
   "source": [
    "sim = [onehot[0][i] & onehot[1][i] for i in range(0, len(vocabulary))]\n",
    "sum(sim)"
   ]
  },
  {
   "cell_type": "code",
   "execution_count": 15,
   "metadata": {
    "colab": {
     "base_uri": "https://localhost:8080/",
     "height": 175
    },
    "id": "BvJwMSIfEnUt",
    "outputId": "eeb35f0b-f64a-4b3b-f55f-0c12853995ff"
   },
   "outputs": [
    {
     "data": {
      "text/html": [
       "<div>\n",
       "<style scoped>\n",
       "    .dataframe tbody tr th:only-of-type {\n",
       "        vertical-align: middle;\n",
       "    }\n",
       "\n",
       "    .dataframe tbody tr th {\n",
       "        vertical-align: top;\n",
       "    }\n",
       "\n",
       "    .dataframe thead th {\n",
       "        text-align: right;\n",
       "    }\n",
       "</style>\n",
       "<table border=\"1\" class=\"dataframe\">\n",
       "  <thead>\n",
       "    <tr style=\"text-align: right;\">\n",
       "      <th></th>\n",
       "      <th>worst</th>\n",
       "      <th>wisdom</th>\n",
       "      <th>age</th>\n",
       "      <th>the</th>\n",
       "      <th>It</th>\n",
       "      <th>foolishness</th>\n",
       "      <th>of</th>\n",
       "      <th>times</th>\n",
       "      <th>it</th>\n",
       "      <th>best</th>\n",
       "      <th>was</th>\n",
       "    </tr>\n",
       "  </thead>\n",
       "  <tbody>\n",
       "    <tr>\n",
       "      <th>0</th>\n",
       "      <td>0</td>\n",
       "      <td>0</td>\n",
       "      <td>0</td>\n",
       "      <td>1</td>\n",
       "      <td>1</td>\n",
       "      <td>0</td>\n",
       "      <td>1</td>\n",
       "      <td>1</td>\n",
       "      <td>0</td>\n",
       "      <td>1</td>\n",
       "      <td>1</td>\n",
       "    </tr>\n",
       "    <tr>\n",
       "      <th>1</th>\n",
       "      <td>1</td>\n",
       "      <td>0</td>\n",
       "      <td>0</td>\n",
       "      <td>1</td>\n",
       "      <td>0</td>\n",
       "      <td>0</td>\n",
       "      <td>1</td>\n",
       "      <td>1</td>\n",
       "      <td>1</td>\n",
       "      <td>0</td>\n",
       "      <td>1</td>\n",
       "    </tr>\n",
       "    <tr>\n",
       "      <th>2</th>\n",
       "      <td>0</td>\n",
       "      <td>1</td>\n",
       "      <td>1</td>\n",
       "      <td>1</td>\n",
       "      <td>0</td>\n",
       "      <td>0</td>\n",
       "      <td>1</td>\n",
       "      <td>0</td>\n",
       "      <td>1</td>\n",
       "      <td>0</td>\n",
       "      <td>1</td>\n",
       "    </tr>\n",
       "    <tr>\n",
       "      <th>3</th>\n",
       "      <td>0</td>\n",
       "      <td>0</td>\n",
       "      <td>1</td>\n",
       "      <td>1</td>\n",
       "      <td>0</td>\n",
       "      <td>1</td>\n",
       "      <td>1</td>\n",
       "      <td>0</td>\n",
       "      <td>1</td>\n",
       "      <td>0</td>\n",
       "      <td>1</td>\n",
       "    </tr>\n",
       "  </tbody>\n",
       "</table>\n",
       "</div>"
      ],
      "text/plain": [
       "   worst  wisdom  age  the  It  foolishness  of  times  it  best  was\n",
       "0      0       0    0    1   1            0   1      1   0     1    1\n",
       "1      1       0    0    1   0            0   1      1   1     0    1\n",
       "2      0       1    1    1   0            0   1      0   1     0    1\n",
       "3      0       0    1    1   0            1   1      0   1     0    1"
      ]
     },
     "execution_count": 15,
     "metadata": {},
     "output_type": "execute_result"
    }
   ],
   "source": [
    "# Cannot use sets as columns anymore in Pandas, so we use a list.\n",
    "vocabulary = list(vocabulary)\n",
    "pd.DataFrame(onehot, columns=vocabulary)"
   ]
  },
  {
   "cell_type": "markdown",
   "metadata": {
    "id": "Ca_Pc3J3EnUv"
   },
   "source": [
    "### Out of vocabulary"
   ]
  },
  {
   "cell_type": "code",
   "execution_count": 16,
   "metadata": {
    "colab": {
     "base_uri": "https://localhost:8080/"
    },
    "id": "tn835-EsEnUw",
    "outputId": "bcdee190-3de7-4a4e-c979-6038463c828c"
   },
   "outputs": [
    {
     "data": {
      "text/plain": [
       "[0, 1, 1, 1, 0, 0, 1, 1, 0, 1, 0]"
      ]
     },
     "execution_count": 16,
     "metadata": {},
     "output_type": "execute_result"
    }
   ],
   "source": [
    "onehot_encode(\"the age of wisdom is the best of times\".split())"
   ]
  },
  {
   "cell_type": "markdown",
   "metadata": {
    "id": "qcUR7yQU6vW0"
   },
   "source": [
    "If we try to vectorize a sentence with only unknown words, we get a null vector"
   ]
  },
  {
   "cell_type": "code",
   "execution_count": 17,
   "metadata": {
    "colab": {
     "base_uri": "https://localhost:8080/"
    },
    "id": "CqoamG1LEnUw",
    "outputId": "1be09570-9bf7-4280-c5c4-29edd5acc377"
   },
   "outputs": [
    {
     "data": {
      "text/plain": [
       "[0, 0, 0, 0, 0, 0, 0, 0, 0, 0, 0]"
      ]
     },
     "execution_count": 17,
     "metadata": {},
     "output_type": "execute_result"
    }
   ],
   "source": [
    "onehot_encode(\"John likes to watch movies. Mary likes movies too.\".split())"
   ]
  },
  {
   "cell_type": "markdown",
   "metadata": {
    "id": "qBEK1RG0EnUx"
   },
   "source": [
    "<a name='5.2.3'></a><a id='5.2.3'></a>\n",
    "## 5.2.3 The Document-Term Matrix\n",
    "<a href=\"#top\">[back to top]</a>\n",
    "\n",
    "If we arrange the row vectors for each document in a matrix with the row enumerating the documents, we create a *document matrix*. This is a vector representation of all documents, and is a basic building block for many machine learning tasks. Here we will use it to calculate document similarities. \n",
    "\n",
    "With larger vocabularies, we can use spare vectors and matrices from SciPy."
   ]
  },
  {
   "cell_type": "code",
   "execution_count": 18,
   "metadata": {
    "colab": {
     "base_uri": "https://localhost:8080/",
     "height": 175
    },
    "id": "3LPfasTM6vW1",
    "outputId": "fff83b21-d95c-4814-ba2a-8d21a0a53d4c"
   },
   "outputs": [
    {
     "data": {
      "text/html": [
       "<div>\n",
       "<style scoped>\n",
       "    .dataframe tbody tr th:only-of-type {\n",
       "        vertical-align: middle;\n",
       "    }\n",
       "\n",
       "    .dataframe tbody tr th {\n",
       "        vertical-align: top;\n",
       "    }\n",
       "\n",
       "    .dataframe thead th {\n",
       "        text-align: right;\n",
       "    }\n",
       "</style>\n",
       "<table border=\"1\" class=\"dataframe\">\n",
       "  <thead>\n",
       "    <tr style=\"text-align: right;\">\n",
       "      <th></th>\n",
       "      <th>worst</th>\n",
       "      <th>wisdom</th>\n",
       "      <th>age</th>\n",
       "      <th>the</th>\n",
       "      <th>It</th>\n",
       "      <th>foolishness</th>\n",
       "      <th>of</th>\n",
       "      <th>times</th>\n",
       "      <th>it</th>\n",
       "      <th>best</th>\n",
       "      <th>was</th>\n",
       "    </tr>\n",
       "  </thead>\n",
       "  <tbody>\n",
       "    <tr>\n",
       "      <th>0</th>\n",
       "      <td>0</td>\n",
       "      <td>0</td>\n",
       "      <td>0</td>\n",
       "      <td>1</td>\n",
       "      <td>1</td>\n",
       "      <td>0</td>\n",
       "      <td>1</td>\n",
       "      <td>1</td>\n",
       "      <td>0</td>\n",
       "      <td>1</td>\n",
       "      <td>1</td>\n",
       "    </tr>\n",
       "    <tr>\n",
       "      <th>1</th>\n",
       "      <td>1</td>\n",
       "      <td>0</td>\n",
       "      <td>0</td>\n",
       "      <td>1</td>\n",
       "      <td>0</td>\n",
       "      <td>0</td>\n",
       "      <td>1</td>\n",
       "      <td>1</td>\n",
       "      <td>1</td>\n",
       "      <td>0</td>\n",
       "      <td>1</td>\n",
       "    </tr>\n",
       "    <tr>\n",
       "      <th>2</th>\n",
       "      <td>0</td>\n",
       "      <td>1</td>\n",
       "      <td>1</td>\n",
       "      <td>1</td>\n",
       "      <td>0</td>\n",
       "      <td>0</td>\n",
       "      <td>1</td>\n",
       "      <td>0</td>\n",
       "      <td>1</td>\n",
       "      <td>0</td>\n",
       "      <td>1</td>\n",
       "    </tr>\n",
       "    <tr>\n",
       "      <th>3</th>\n",
       "      <td>0</td>\n",
       "      <td>0</td>\n",
       "      <td>1</td>\n",
       "      <td>1</td>\n",
       "      <td>0</td>\n",
       "      <td>1</td>\n",
       "      <td>1</td>\n",
       "      <td>0</td>\n",
       "      <td>1</td>\n",
       "      <td>0</td>\n",
       "      <td>1</td>\n",
       "    </tr>\n",
       "  </tbody>\n",
       "</table>\n",
       "</div>"
      ],
      "text/plain": [
       "   worst  wisdom  age  the  It  foolishness  of  times  it  best  was\n",
       "0      0       0    0    1   1            0   1      1   0     1    1\n",
       "1      1       0    0    1   0            0   1      1   1     0    1\n",
       "2      0       1    1    1   0            0   1      0   1     0    1\n",
       "3      0       0    1    1   0            1   1      0   1     0    1"
      ]
     },
     "execution_count": 18,
     "metadata": {},
     "output_type": "execute_result"
    }
   ],
   "source": [
    "pd.DataFrame(onehot, columns=vocabulary)"
   ]
  },
  {
   "cell_type": "markdown",
   "metadata": {
    "id": "0tA8CVUe6vW1"
   },
   "source": [
    "### Calculating similarities\n",
    "\n",
    "Calculate the similarity of the first two sentences."
   ]
  },
  {
   "cell_type": "code",
   "execution_count": 19,
   "metadata": {
    "colab": {
     "base_uri": "https://localhost:8080/"
    },
    "id": "iCCNmJOp6vW1",
    "outputId": "b47f1739-9f98-49be-a70e-74e99395c96d"
   },
   "outputs": [
    {
     "data": {
      "text/plain": [
       "4"
      ]
     },
     "execution_count": 19,
     "metadata": {},
     "output_type": "execute_result"
    }
   ],
   "source": [
    "sim = [onehot[0][i] & onehot[1][i] for i in range(0, len(vocabulary))]\n",
    "sum(sim)"
   ]
  },
  {
   "cell_type": "markdown",
   "metadata": {
    "id": "la-eRFP86vW2"
   },
   "source": [
    "We can also calculate the similarity by using the scalar product of the two document vectors. "
   ]
  },
  {
   "cell_type": "code",
   "execution_count": 20,
   "metadata": {
    "colab": {
     "base_uri": "https://localhost:8080/"
    },
    "id": "YBVX4FrPEnUu",
    "outputId": "495ccf19-46f2-4b30-e351-aa3ff3661312"
   },
   "outputs": [
    {
     "data": {
      "text/plain": [
       "4"
      ]
     },
     "execution_count": 20,
     "metadata": {},
     "output_type": "execute_result"
    }
   ],
   "source": [
    "np.dot(onehot[0], onehot[1])"
   ]
  },
  {
   "cell_type": "markdown",
   "metadata": {
    "id": "zNDw7v0oEnUy"
   },
   "source": [
    "<a name='5.2.4'></a><a id='5.2.4'></a>\n",
    "## 5.2.4 The Similarity Matrix\n",
    "<a href=\"#top\">[back to top]</a>\n",
    "\n",
    "We can use a shortcut to calculate all numbers in a matrix, in order to find the similarity of all documents to each other. "
   ]
  },
  {
   "cell_type": "code",
   "execution_count": 21,
   "metadata": {
    "colab": {
     "base_uri": "https://localhost:8080/"
    },
    "id": "rhR9KtOxEnUy",
    "outputId": "6915737a-bc69-4ed8-ece6-0080eeef1d35"
   },
   "outputs": [
    {
     "data": {
      "text/plain": [
       "array([[6, 4, 3, 3],\n",
       "       [4, 6, 4, 4],\n",
       "       [3, 4, 6, 5],\n",
       "       [3, 4, 5, 6]])"
      ]
     },
     "execution_count": 21,
     "metadata": {},
     "output_type": "execute_result"
    }
   ],
   "source": [
    "np.dot(onehot, np.transpose(onehot))"
   ]
  },
  {
   "cell_type": "markdown",
   "metadata": {
    "id": "Qyz-f5WlEnUy"
   },
   "source": [
    "### One-Hot Encoding with scikit-learn\n",
    "\n",
    "We can also do vectorization with scikit-learn. For this, we do not use `OneHotEncoder`, since it suitable only for categorical features. Instead, we use `MultiLabelBinarizer`.\n"
   ]
  },
  {
   "cell_type": "code",
   "execution_count": 22,
   "metadata": {
    "colab": {
     "base_uri": "https://localhost:8080/"
    },
    "id": "lJ-bLXotEnUz",
    "outputId": "2f205302-2f94-4133-ce7d-bfb77a868385"
   },
   "outputs": [
    {
     "data": {
      "text/plain": [
       "array([[1, 0, 1, 0, 0, 1, 1, 1, 1, 0, 0],\n",
       "       [0, 0, 0, 0, 1, 1, 1, 1, 1, 0, 1],\n",
       "       [0, 1, 0, 0, 1, 1, 1, 0, 1, 1, 0],\n",
       "       [0, 1, 0, 1, 1, 1, 1, 0, 1, 0, 0]])"
      ]
     },
     "execution_count": 22,
     "metadata": {},
     "output_type": "execute_result"
    }
   ],
   "source": [
    "lb = MultiLabelBinarizer()\n",
    "lb.fit([vocabulary])\n",
    "lb.transform(tokenized_sentences)"
   ]
  },
  {
   "cell_type": "markdown",
   "metadata": {
    "id": "AwfRK1jv6vW5"
   },
   "source": [
    "---\n",
    "<a name='5.3'></a><a id='5.3'></a>\n",
    "# 5.3 Bag-of-Words Models\n",
    "<a href=\"#top\">[back to top]</a>\n",
    "\n",
    "One-hot encoding is a basic representation of documents as vectors, however it does not represent the number of times words appear. In order to represent word frequency, we can use a *bag-of-words* representation. \n",
    "\n",
    "Although somewhat simplistic, these models are in wide use. For cases such as classification and sentiment detection, they work reasonably. Moreover, there are topic modeling methods like Latent Dirichlet Allocation (LDA), which explicitly requires a bag-of-words model."
   ]
  },
  {
   "cell_type": "markdown",
   "metadata": {
    "id": "r3EJ743x6vW5"
   },
   "source": [
    "<a name='5.3.1'></a><a id='5.3.1'></a>\n",
    "## 5.3.1 Blueprint: Using scikit-learn's CountVectorizer\n",
    "<a href=\"#top\">[back to top]</a>\n",
    "\n",
    "We use scikit-learn's `CountVectorizer` algorithm to create a bag-of-words model.\n",
    "\n",
    "`CountVectorizer` works in two steps:\n",
    "\n",
    "1. Learn the vocabulary\n",
    "2. Transform the documents to vectors."
   ]
  },
  {
   "cell_type": "code",
   "execution_count": 23,
   "metadata": {
    "colab": {
     "base_uri": "https://localhost:8080/"
    },
    "id": "9WwBWa2gEnU0",
    "outputId": "fde5a1a9-3b70-46c8-9c61-743450bfe705"
   },
   "outputs": [
    {
     "data": {
      "text/plain": [
       "{'analyzer': 'word',\n",
       " 'binary': False,\n",
       " 'decode_error': 'strict',\n",
       " 'dtype': numpy.int64,\n",
       " 'encoding': 'utf-8',\n",
       " 'input': 'content',\n",
       " 'lowercase': True,\n",
       " 'max_df': 1.0,\n",
       " 'max_features': None,\n",
       " 'min_df': 1,\n",
       " 'ngram_range': (1, 1),\n",
       " 'preprocessor': None,\n",
       " 'stop_words': None,\n",
       " 'strip_accents': None,\n",
       " 'token_pattern': '(?u)\\\\b\\\\w\\\\w+\\\\b',\n",
       " 'tokenizer': None,\n",
       " 'vocabulary': None}"
      ]
     },
     "execution_count": 23,
     "metadata": {},
     "output_type": "execute_result"
    }
   ],
   "source": [
    "cv = CountVectorizer()\n",
    "\n",
    "# Default parameters\n",
    "cv.get_params()"
   ]
  },
  {
   "cell_type": "markdown",
   "metadata": {
    "id": "B23rz-aB6vW6"
   },
   "source": [
    "Add additional sentences to our dataset. "
   ]
  },
  {
   "cell_type": "code",
   "execution_count": 24,
   "metadata": {
    "colab": {
     "base_uri": "https://localhost:8080/",
     "height": 237
    },
    "id": "5qe58zgoEnU1",
    "outputId": "9b17e166-b800-4990-8a9b-511d99b7e75f"
   },
   "outputs": [
    {
     "data": {
      "text/html": [
       "<div>\n",
       "<style scoped>\n",
       "    .dataframe tbody tr th:only-of-type {\n",
       "        vertical-align: middle;\n",
       "    }\n",
       "\n",
       "    .dataframe tbody tr th {\n",
       "        vertical-align: top;\n",
       "    }\n",
       "\n",
       "    .dataframe thead th {\n",
       "        text-align: right;\n",
       "    }\n",
       "</style>\n",
       "<table border=\"1\" class=\"dataframe\">\n",
       "  <thead>\n",
       "    <tr style=\"text-align: right;\">\n",
       "      <th></th>\n",
       "      <th>0</th>\n",
       "    </tr>\n",
       "  </thead>\n",
       "  <tbody>\n",
       "    <tr>\n",
       "      <th>0</th>\n",
       "      <td>It was the best of times</td>\n",
       "    </tr>\n",
       "    <tr>\n",
       "      <th>1</th>\n",
       "      <td>it was the worst of times</td>\n",
       "    </tr>\n",
       "    <tr>\n",
       "      <th>2</th>\n",
       "      <td>it was the age of wisdom</td>\n",
       "    </tr>\n",
       "    <tr>\n",
       "      <th>3</th>\n",
       "      <td>it was the age of foolishness</td>\n",
       "    </tr>\n",
       "    <tr>\n",
       "      <th>4</th>\n",
       "      <td>John likes to watch movies. Mary likes movies ...</td>\n",
       "    </tr>\n",
       "    <tr>\n",
       "      <th>5</th>\n",
       "      <td>Mary also likes to watch football games.</td>\n",
       "    </tr>\n",
       "  </tbody>\n",
       "</table>\n",
       "</div>"
      ],
      "text/plain": [
       "                                                   0\n",
       "0                           It was the best of times\n",
       "1                          it was the worst of times\n",
       "2                           it was the age of wisdom\n",
       "3                      it was the age of foolishness\n",
       "4  John likes to watch movies. Mary likes movies ...\n",
       "5           Mary also likes to watch football games."
      ]
     },
     "execution_count": 24,
     "metadata": {},
     "output_type": "execute_result"
    }
   ],
   "source": [
    "more_sentences = sentences + [\"John likes to watch movies. Mary likes movies too.\",\n",
    "                              \"Mary also likes to watch football games.\"]\n",
    "pd.DataFrame(more_sentences)"
   ]
  },
  {
   "cell_type": "markdown",
   "metadata": {
    "id": "1VyX_Szl6vW7"
   },
   "source": [
    "### Learning and fitting the vocabulary"
   ]
  },
  {
   "cell_type": "code",
   "execution_count": 25,
   "metadata": {
    "colab": {
     "base_uri": "https://localhost:8080/",
     "height": 75
    },
    "id": "HvspXXA_EnU1",
    "outputId": "f323cad3-693e-484f-d6a5-de556a6656ea"
   },
   "outputs": [
    {
     "data": {
      "text/html": [
       "<style>#sk-container-id-1 {\n",
       "  /* Definition of color scheme common for light and dark mode */\n",
       "  --sklearn-color-text: black;\n",
       "  --sklearn-color-line: gray;\n",
       "  /* Definition of color scheme for unfitted estimators */\n",
       "  --sklearn-color-unfitted-level-0: #fff5e6;\n",
       "  --sklearn-color-unfitted-level-1: #f6e4d2;\n",
       "  --sklearn-color-unfitted-level-2: #ffe0b3;\n",
       "  --sklearn-color-unfitted-level-3: chocolate;\n",
       "  /* Definition of color scheme for fitted estimators */\n",
       "  --sklearn-color-fitted-level-0: #f0f8ff;\n",
       "  --sklearn-color-fitted-level-1: #d4ebff;\n",
       "  --sklearn-color-fitted-level-2: #b3dbfd;\n",
       "  --sklearn-color-fitted-level-3: cornflowerblue;\n",
       "\n",
       "  /* Specific color for light theme */\n",
       "  --sklearn-color-text-on-default-background: var(--sg-text-color, var(--theme-code-foreground, var(--jp-content-font-color1, black)));\n",
       "  --sklearn-color-background: var(--sg-background-color, var(--theme-background, var(--jp-layout-color0, white)));\n",
       "  --sklearn-color-border-box: var(--sg-text-color, var(--theme-code-foreground, var(--jp-content-font-color1, black)));\n",
       "  --sklearn-color-icon: #696969;\n",
       "\n",
       "  @media (prefers-color-scheme: dark) {\n",
       "    /* Redefinition of color scheme for dark theme */\n",
       "    --sklearn-color-text-on-default-background: var(--sg-text-color, var(--theme-code-foreground, var(--jp-content-font-color1, white)));\n",
       "    --sklearn-color-background: var(--sg-background-color, var(--theme-background, var(--jp-layout-color0, #111)));\n",
       "    --sklearn-color-border-box: var(--sg-text-color, var(--theme-code-foreground, var(--jp-content-font-color1, white)));\n",
       "    --sklearn-color-icon: #878787;\n",
       "  }\n",
       "}\n",
       "\n",
       "#sk-container-id-1 {\n",
       "  color: var(--sklearn-color-text);\n",
       "}\n",
       "\n",
       "#sk-container-id-1 pre {\n",
       "  padding: 0;\n",
       "}\n",
       "\n",
       "#sk-container-id-1 input.sk-hidden--visually {\n",
       "  border: 0;\n",
       "  clip: rect(1px 1px 1px 1px);\n",
       "  clip: rect(1px, 1px, 1px, 1px);\n",
       "  height: 1px;\n",
       "  margin: -1px;\n",
       "  overflow: hidden;\n",
       "  padding: 0;\n",
       "  position: absolute;\n",
       "  width: 1px;\n",
       "}\n",
       "\n",
       "#sk-container-id-1 div.sk-dashed-wrapped {\n",
       "  border: 1px dashed var(--sklearn-color-line);\n",
       "  margin: 0 0.4em 0.5em 0.4em;\n",
       "  box-sizing: border-box;\n",
       "  padding-bottom: 0.4em;\n",
       "  background-color: var(--sklearn-color-background);\n",
       "}\n",
       "\n",
       "#sk-container-id-1 div.sk-container {\n",
       "  /* jupyter's `normalize.less` sets `[hidden] { display: none; }`\n",
       "     but bootstrap.min.css set `[hidden] { display: none !important; }`\n",
       "     so we also need the `!important` here to be able to override the\n",
       "     default hidden behavior on the sphinx rendered scikit-learn.org.\n",
       "     See: https://github.com/scikit-learn/scikit-learn/issues/21755 */\n",
       "  display: inline-block !important;\n",
       "  position: relative;\n",
       "}\n",
       "\n",
       "#sk-container-id-1 div.sk-text-repr-fallback {\n",
       "  display: none;\n",
       "}\n",
       "\n",
       "div.sk-parallel-item,\n",
       "div.sk-serial,\n",
       "div.sk-item {\n",
       "  /* draw centered vertical line to link estimators */\n",
       "  background-image: linear-gradient(var(--sklearn-color-text-on-default-background), var(--sklearn-color-text-on-default-background));\n",
       "  background-size: 2px 100%;\n",
       "  background-repeat: no-repeat;\n",
       "  background-position: center center;\n",
       "}\n",
       "\n",
       "/* Parallel-specific style estimator block */\n",
       "\n",
       "#sk-container-id-1 div.sk-parallel-item::after {\n",
       "  content: \"\";\n",
       "  width: 100%;\n",
       "  border-bottom: 2px solid var(--sklearn-color-text-on-default-background);\n",
       "  flex-grow: 1;\n",
       "}\n",
       "\n",
       "#sk-container-id-1 div.sk-parallel {\n",
       "  display: flex;\n",
       "  align-items: stretch;\n",
       "  justify-content: center;\n",
       "  background-color: var(--sklearn-color-background);\n",
       "  position: relative;\n",
       "}\n",
       "\n",
       "#sk-container-id-1 div.sk-parallel-item {\n",
       "  display: flex;\n",
       "  flex-direction: column;\n",
       "}\n",
       "\n",
       "#sk-container-id-1 div.sk-parallel-item:first-child::after {\n",
       "  align-self: flex-end;\n",
       "  width: 50%;\n",
       "}\n",
       "\n",
       "#sk-container-id-1 div.sk-parallel-item:last-child::after {\n",
       "  align-self: flex-start;\n",
       "  width: 50%;\n",
       "}\n",
       "\n",
       "#sk-container-id-1 div.sk-parallel-item:only-child::after {\n",
       "  width: 0;\n",
       "}\n",
       "\n",
       "/* Serial-specific style estimator block */\n",
       "\n",
       "#sk-container-id-1 div.sk-serial {\n",
       "  display: flex;\n",
       "  flex-direction: column;\n",
       "  align-items: center;\n",
       "  background-color: var(--sklearn-color-background);\n",
       "  padding-right: 1em;\n",
       "  padding-left: 1em;\n",
       "}\n",
       "\n",
       "\n",
       "/* Toggleable style: style used for estimator/Pipeline/ColumnTransformer box that is\n",
       "clickable and can be expanded/collapsed.\n",
       "- Pipeline and ColumnTransformer use this feature and define the default style\n",
       "- Estimators will overwrite some part of the style using the `sk-estimator` class\n",
       "*/\n",
       "\n",
       "/* Pipeline and ColumnTransformer style (default) */\n",
       "\n",
       "#sk-container-id-1 div.sk-toggleable {\n",
       "  /* Default theme specific background. It is overwritten whether we have a\n",
       "  specific estimator or a Pipeline/ColumnTransformer */\n",
       "  background-color: var(--sklearn-color-background);\n",
       "}\n",
       "\n",
       "/* Toggleable label */\n",
       "#sk-container-id-1 label.sk-toggleable__label {\n",
       "  cursor: pointer;\n",
       "  display: block;\n",
       "  width: 100%;\n",
       "  margin-bottom: 0;\n",
       "  padding: 0.5em;\n",
       "  box-sizing: border-box;\n",
       "  text-align: center;\n",
       "}\n",
       "\n",
       "#sk-container-id-1 label.sk-toggleable__label-arrow:before {\n",
       "  /* Arrow on the left of the label */\n",
       "  content: \"▸\";\n",
       "  float: left;\n",
       "  margin-right: 0.25em;\n",
       "  color: var(--sklearn-color-icon);\n",
       "}\n",
       "\n",
       "#sk-container-id-1 label.sk-toggleable__label-arrow:hover:before {\n",
       "  color: var(--sklearn-color-text);\n",
       "}\n",
       "\n",
       "/* Toggleable content - dropdown */\n",
       "\n",
       "#sk-container-id-1 div.sk-toggleable__content {\n",
       "  max-height: 0;\n",
       "  max-width: 0;\n",
       "  overflow: hidden;\n",
       "  text-align: left;\n",
       "  /* unfitted */\n",
       "  background-color: var(--sklearn-color-unfitted-level-0);\n",
       "}\n",
       "\n",
       "#sk-container-id-1 div.sk-toggleable__content.fitted {\n",
       "  /* fitted */\n",
       "  background-color: var(--sklearn-color-fitted-level-0);\n",
       "}\n",
       "\n",
       "#sk-container-id-1 div.sk-toggleable__content pre {\n",
       "  margin: 0.2em;\n",
       "  border-radius: 0.25em;\n",
       "  color: var(--sklearn-color-text);\n",
       "  /* unfitted */\n",
       "  background-color: var(--sklearn-color-unfitted-level-0);\n",
       "}\n",
       "\n",
       "#sk-container-id-1 div.sk-toggleable__content.fitted pre {\n",
       "  /* unfitted */\n",
       "  background-color: var(--sklearn-color-fitted-level-0);\n",
       "}\n",
       "\n",
       "#sk-container-id-1 input.sk-toggleable__control:checked~div.sk-toggleable__content {\n",
       "  /* Expand drop-down */\n",
       "  max-height: 200px;\n",
       "  max-width: 100%;\n",
       "  overflow: auto;\n",
       "}\n",
       "\n",
       "#sk-container-id-1 input.sk-toggleable__control:checked~label.sk-toggleable__label-arrow:before {\n",
       "  content: \"▾\";\n",
       "}\n",
       "\n",
       "/* Pipeline/ColumnTransformer-specific style */\n",
       "\n",
       "#sk-container-id-1 div.sk-label input.sk-toggleable__control:checked~label.sk-toggleable__label {\n",
       "  color: var(--sklearn-color-text);\n",
       "  background-color: var(--sklearn-color-unfitted-level-2);\n",
       "}\n",
       "\n",
       "#sk-container-id-1 div.sk-label.fitted input.sk-toggleable__control:checked~label.sk-toggleable__label {\n",
       "  background-color: var(--sklearn-color-fitted-level-2);\n",
       "}\n",
       "\n",
       "/* Estimator-specific style */\n",
       "\n",
       "/* Colorize estimator box */\n",
       "#sk-container-id-1 div.sk-estimator input.sk-toggleable__control:checked~label.sk-toggleable__label {\n",
       "  /* unfitted */\n",
       "  background-color: var(--sklearn-color-unfitted-level-2);\n",
       "}\n",
       "\n",
       "#sk-container-id-1 div.sk-estimator.fitted input.sk-toggleable__control:checked~label.sk-toggleable__label {\n",
       "  /* fitted */\n",
       "  background-color: var(--sklearn-color-fitted-level-2);\n",
       "}\n",
       "\n",
       "#sk-container-id-1 div.sk-label label.sk-toggleable__label,\n",
       "#sk-container-id-1 div.sk-label label {\n",
       "  /* The background is the default theme color */\n",
       "  color: var(--sklearn-color-text-on-default-background);\n",
       "}\n",
       "\n",
       "/* On hover, darken the color of the background */\n",
       "#sk-container-id-1 div.sk-label:hover label.sk-toggleable__label {\n",
       "  color: var(--sklearn-color-text);\n",
       "  background-color: var(--sklearn-color-unfitted-level-2);\n",
       "}\n",
       "\n",
       "/* Label box, darken color on hover, fitted */\n",
       "#sk-container-id-1 div.sk-label.fitted:hover label.sk-toggleable__label.fitted {\n",
       "  color: var(--sklearn-color-text);\n",
       "  background-color: var(--sklearn-color-fitted-level-2);\n",
       "}\n",
       "\n",
       "/* Estimator label */\n",
       "\n",
       "#sk-container-id-1 div.sk-label label {\n",
       "  font-family: monospace;\n",
       "  font-weight: bold;\n",
       "  display: inline-block;\n",
       "  line-height: 1.2em;\n",
       "}\n",
       "\n",
       "#sk-container-id-1 div.sk-label-container {\n",
       "  text-align: center;\n",
       "}\n",
       "\n",
       "/* Estimator-specific */\n",
       "#sk-container-id-1 div.sk-estimator {\n",
       "  font-family: monospace;\n",
       "  border: 1px dotted var(--sklearn-color-border-box);\n",
       "  border-radius: 0.25em;\n",
       "  box-sizing: border-box;\n",
       "  margin-bottom: 0.5em;\n",
       "  /* unfitted */\n",
       "  background-color: var(--sklearn-color-unfitted-level-0);\n",
       "}\n",
       "\n",
       "#sk-container-id-1 div.sk-estimator.fitted {\n",
       "  /* fitted */\n",
       "  background-color: var(--sklearn-color-fitted-level-0);\n",
       "}\n",
       "\n",
       "/* on hover */\n",
       "#sk-container-id-1 div.sk-estimator:hover {\n",
       "  /* unfitted */\n",
       "  background-color: var(--sklearn-color-unfitted-level-2);\n",
       "}\n",
       "\n",
       "#sk-container-id-1 div.sk-estimator.fitted:hover {\n",
       "  /* fitted */\n",
       "  background-color: var(--sklearn-color-fitted-level-2);\n",
       "}\n",
       "\n",
       "/* Specification for estimator info (e.g. \"i\" and \"?\") */\n",
       "\n",
       "/* Common style for \"i\" and \"?\" */\n",
       "\n",
       ".sk-estimator-doc-link,\n",
       "a:link.sk-estimator-doc-link,\n",
       "a:visited.sk-estimator-doc-link {\n",
       "  float: right;\n",
       "  font-size: smaller;\n",
       "  line-height: 1em;\n",
       "  font-family: monospace;\n",
       "  background-color: var(--sklearn-color-background);\n",
       "  border-radius: 1em;\n",
       "  height: 1em;\n",
       "  width: 1em;\n",
       "  text-decoration: none !important;\n",
       "  margin-left: 1ex;\n",
       "  /* unfitted */\n",
       "  border: var(--sklearn-color-unfitted-level-1) 1pt solid;\n",
       "  color: var(--sklearn-color-unfitted-level-1);\n",
       "}\n",
       "\n",
       ".sk-estimator-doc-link.fitted,\n",
       "a:link.sk-estimator-doc-link.fitted,\n",
       "a:visited.sk-estimator-doc-link.fitted {\n",
       "  /* fitted */\n",
       "  border: var(--sklearn-color-fitted-level-1) 1pt solid;\n",
       "  color: var(--sklearn-color-fitted-level-1);\n",
       "}\n",
       "\n",
       "/* On hover */\n",
       "div.sk-estimator:hover .sk-estimator-doc-link:hover,\n",
       ".sk-estimator-doc-link:hover,\n",
       "div.sk-label-container:hover .sk-estimator-doc-link:hover,\n",
       ".sk-estimator-doc-link:hover {\n",
       "  /* unfitted */\n",
       "  background-color: var(--sklearn-color-unfitted-level-3);\n",
       "  color: var(--sklearn-color-background);\n",
       "  text-decoration: none;\n",
       "}\n",
       "\n",
       "div.sk-estimator.fitted:hover .sk-estimator-doc-link.fitted:hover,\n",
       ".sk-estimator-doc-link.fitted:hover,\n",
       "div.sk-label-container:hover .sk-estimator-doc-link.fitted:hover,\n",
       ".sk-estimator-doc-link.fitted:hover {\n",
       "  /* fitted */\n",
       "  background-color: var(--sklearn-color-fitted-level-3);\n",
       "  color: var(--sklearn-color-background);\n",
       "  text-decoration: none;\n",
       "}\n",
       "\n",
       "/* Span, style for the box shown on hovering the info icon */\n",
       ".sk-estimator-doc-link span {\n",
       "  display: none;\n",
       "  z-index: 9999;\n",
       "  position: relative;\n",
       "  font-weight: normal;\n",
       "  right: .2ex;\n",
       "  padding: .5ex;\n",
       "  margin: .5ex;\n",
       "  width: min-content;\n",
       "  min-width: 20ex;\n",
       "  max-width: 50ex;\n",
       "  color: var(--sklearn-color-text);\n",
       "  box-shadow: 2pt 2pt 4pt #999;\n",
       "  /* unfitted */\n",
       "  background: var(--sklearn-color-unfitted-level-0);\n",
       "  border: .5pt solid var(--sklearn-color-unfitted-level-3);\n",
       "}\n",
       "\n",
       ".sk-estimator-doc-link.fitted span {\n",
       "  /* fitted */\n",
       "  background: var(--sklearn-color-fitted-level-0);\n",
       "  border: var(--sklearn-color-fitted-level-3);\n",
       "}\n",
       "\n",
       ".sk-estimator-doc-link:hover span {\n",
       "  display: block;\n",
       "}\n",
       "\n",
       "/* \"?\"-specific style due to the `<a>` HTML tag */\n",
       "\n",
       "#sk-container-id-1 a.estimator_doc_link {\n",
       "  float: right;\n",
       "  font-size: 1rem;\n",
       "  line-height: 1em;\n",
       "  font-family: monospace;\n",
       "  background-color: var(--sklearn-color-background);\n",
       "  border-radius: 1rem;\n",
       "  height: 1rem;\n",
       "  width: 1rem;\n",
       "  text-decoration: none;\n",
       "  /* unfitted */\n",
       "  color: var(--sklearn-color-unfitted-level-1);\n",
       "  border: var(--sklearn-color-unfitted-level-1) 1pt solid;\n",
       "}\n",
       "\n",
       "#sk-container-id-1 a.estimator_doc_link.fitted {\n",
       "  /* fitted */\n",
       "  border: var(--sklearn-color-fitted-level-1) 1pt solid;\n",
       "  color: var(--sklearn-color-fitted-level-1);\n",
       "}\n",
       "\n",
       "/* On hover */\n",
       "#sk-container-id-1 a.estimator_doc_link:hover {\n",
       "  /* unfitted */\n",
       "  background-color: var(--sklearn-color-unfitted-level-3);\n",
       "  color: var(--sklearn-color-background);\n",
       "  text-decoration: none;\n",
       "}\n",
       "\n",
       "#sk-container-id-1 a.estimator_doc_link.fitted:hover {\n",
       "  /* fitted */\n",
       "  background-color: var(--sklearn-color-fitted-level-3);\n",
       "}\n",
       "</style><div id=\"sk-container-id-1\" class=\"sk-top-container\"><div class=\"sk-text-repr-fallback\"><pre>CountVectorizer()</pre><b>In a Jupyter environment, please rerun this cell to show the HTML representation or trust the notebook. <br />On GitHub, the HTML representation is unable to render, please try loading this page with nbviewer.org.</b></div><div class=\"sk-container\" hidden><div class=\"sk-item\"><div class=\"sk-estimator fitted sk-toggleable\"><input class=\"sk-toggleable__control sk-hidden--visually\" id=\"sk-estimator-id-1\" type=\"checkbox\" checked><label for=\"sk-estimator-id-1\" class=\"sk-toggleable__label fitted sk-toggleable__label-arrow fitted\">&nbsp;&nbsp;CountVectorizer<a class=\"sk-estimator-doc-link fitted\" rel=\"noreferrer\" target=\"_blank\" href=\"https://scikit-learn.org/1.4/modules/generated/sklearn.feature_extraction.text.CountVectorizer.html\">?<span>Documentation for CountVectorizer</span></a><span class=\"sk-estimator-doc-link fitted\">i<span>Fitted</span></span></label><div class=\"sk-toggleable__content fitted\"><pre>CountVectorizer()</pre></div> </div></div></div></div>"
      ],
      "text/plain": [
       "CountVectorizer()"
      ]
     },
     "execution_count": 25,
     "metadata": {},
     "output_type": "execute_result"
    }
   ],
   "source": [
    "cv.fit(more_sentences)"
   ]
  },
  {
   "cell_type": "markdown",
   "metadata": {
    "id": "UD8dvj_S6vW7"
   },
   "source": [
    "Examine what CountVectorizer uses as vocabulary, which is called *feature names*."
   ]
  },
  {
   "cell_type": "code",
   "execution_count": 26,
   "metadata": {
    "colab": {
     "base_uri": "https://localhost:8080/"
    },
    "id": "HM5rn8OxEnU2",
    "outputId": "fbd0e873-80bd-4652-cfa9-d29b10f21094"
   },
   "outputs": [
    {
     "name": "stdout",
     "output_type": "stream",
     "text": [
      "array(['age', 'also', 'best', 'foolishness', 'football', 'games', 'it',\n",
      "       'john', 'likes', 'mary', 'movies', 'of', 'the', 'times', 'to',\n",
      "       'too', 'was', 'watch', 'wisdom', 'worst'], dtype=object)\n"
     ]
    }
   ],
   "source": [
    "pp.pprint(cv.get_feature_names_out())"
   ]
  },
  {
   "cell_type": "markdown",
   "metadata": {
    "id": "jfrSTPj26vW8"
   },
   "source": [
    "### Transforming the vocabulary to vectors\n",
    "\n",
    "In this second step, we use `CountVectorizer` to transform the documents to the vector representation. "
   ]
  },
  {
   "cell_type": "code",
   "execution_count": 27,
   "metadata": {
    "colab": {
     "base_uri": "https://localhost:8080/"
    },
    "id": "ue5CMMX6EnU2",
    "outputId": "7f78411e-783e-47e1-ab19-9a0e41c29e34"
   },
   "outputs": [
    {
     "name": "stdout",
     "output_type": "stream",
     "text": [
      "Columns             6\n",
      "Rows               20\n",
      "Elements           38\n",
      "Bytes             304\n",
      "Gigabytes         0.0\n"
     ]
    }
   ],
   "source": [
    "dt = cv.transform(more_sentences)\n",
    "\n",
    "examine_matrix(dt, 'simple', add_to_df=False)"
   ]
  },
  {
   "cell_type": "markdown",
   "metadata": {
    "id": "ZyiWF-lI6vW8"
   },
   "source": [
    "We created a document-term matrix, however it is a different object, a sparse matrix."
   ]
  },
  {
   "cell_type": "markdown",
   "metadata": {
    "id": "Y3oulu1H6vW9"
   },
   "source": [
    "Recover our original document-matrix. by transforming the sparse matrix to a dense array. "
   ]
  },
  {
   "cell_type": "code",
   "execution_count": 28,
   "metadata": {
    "colab": {
     "base_uri": "https://localhost:8080/",
     "height": 301
    },
    "id": "NzhUw4UQEnU3",
    "outputId": "191618d5-87d4-45b1-cabc-d96ffc634aaa"
   },
   "outputs": [
    {
     "data": {
      "text/html": [
       "<div>\n",
       "<style scoped>\n",
       "    .dataframe tbody tr th:only-of-type {\n",
       "        vertical-align: middle;\n",
       "    }\n",
       "\n",
       "    .dataframe tbody tr th {\n",
       "        vertical-align: top;\n",
       "    }\n",
       "\n",
       "    .dataframe thead th {\n",
       "        text-align: right;\n",
       "    }\n",
       "</style>\n",
       "<table border=\"1\" class=\"dataframe\">\n",
       "  <thead>\n",
       "    <tr style=\"text-align: right;\">\n",
       "      <th></th>\n",
       "      <th>age</th>\n",
       "      <th>also</th>\n",
       "      <th>best</th>\n",
       "      <th>foolishness</th>\n",
       "      <th>football</th>\n",
       "      <th>games</th>\n",
       "      <th>it</th>\n",
       "      <th>john</th>\n",
       "      <th>likes</th>\n",
       "      <th>mary</th>\n",
       "      <th>movies</th>\n",
       "      <th>of</th>\n",
       "      <th>the</th>\n",
       "      <th>times</th>\n",
       "      <th>to</th>\n",
       "      <th>too</th>\n",
       "      <th>was</th>\n",
       "      <th>watch</th>\n",
       "      <th>wisdom</th>\n",
       "      <th>worst</th>\n",
       "    </tr>\n",
       "  </thead>\n",
       "  <tbody>\n",
       "    <tr>\n",
       "      <th>0</th>\n",
       "      <td>0</td>\n",
       "      <td>0</td>\n",
       "      <td>1</td>\n",
       "      <td>0</td>\n",
       "      <td>0</td>\n",
       "      <td>0</td>\n",
       "      <td>1</td>\n",
       "      <td>0</td>\n",
       "      <td>0</td>\n",
       "      <td>0</td>\n",
       "      <td>0</td>\n",
       "      <td>1</td>\n",
       "      <td>1</td>\n",
       "      <td>1</td>\n",
       "      <td>0</td>\n",
       "      <td>0</td>\n",
       "      <td>1</td>\n",
       "      <td>0</td>\n",
       "      <td>0</td>\n",
       "      <td>0</td>\n",
       "    </tr>\n",
       "    <tr>\n",
       "      <th>1</th>\n",
       "      <td>0</td>\n",
       "      <td>0</td>\n",
       "      <td>0</td>\n",
       "      <td>0</td>\n",
       "      <td>0</td>\n",
       "      <td>0</td>\n",
       "      <td>1</td>\n",
       "      <td>0</td>\n",
       "      <td>0</td>\n",
       "      <td>0</td>\n",
       "      <td>0</td>\n",
       "      <td>1</td>\n",
       "      <td>1</td>\n",
       "      <td>1</td>\n",
       "      <td>0</td>\n",
       "      <td>0</td>\n",
       "      <td>1</td>\n",
       "      <td>0</td>\n",
       "      <td>0</td>\n",
       "      <td>1</td>\n",
       "    </tr>\n",
       "    <tr>\n",
       "      <th>2</th>\n",
       "      <td>1</td>\n",
       "      <td>0</td>\n",
       "      <td>0</td>\n",
       "      <td>0</td>\n",
       "      <td>0</td>\n",
       "      <td>0</td>\n",
       "      <td>1</td>\n",
       "      <td>0</td>\n",
       "      <td>0</td>\n",
       "      <td>0</td>\n",
       "      <td>0</td>\n",
       "      <td>1</td>\n",
       "      <td>1</td>\n",
       "      <td>0</td>\n",
       "      <td>0</td>\n",
       "      <td>0</td>\n",
       "      <td>1</td>\n",
       "      <td>0</td>\n",
       "      <td>1</td>\n",
       "      <td>0</td>\n",
       "    </tr>\n",
       "    <tr>\n",
       "      <th>3</th>\n",
       "      <td>1</td>\n",
       "      <td>0</td>\n",
       "      <td>0</td>\n",
       "      <td>1</td>\n",
       "      <td>0</td>\n",
       "      <td>0</td>\n",
       "      <td>1</td>\n",
       "      <td>0</td>\n",
       "      <td>0</td>\n",
       "      <td>0</td>\n",
       "      <td>0</td>\n",
       "      <td>1</td>\n",
       "      <td>1</td>\n",
       "      <td>0</td>\n",
       "      <td>0</td>\n",
       "      <td>0</td>\n",
       "      <td>1</td>\n",
       "      <td>0</td>\n",
       "      <td>0</td>\n",
       "      <td>0</td>\n",
       "    </tr>\n",
       "    <tr>\n",
       "      <th>4</th>\n",
       "      <td>0</td>\n",
       "      <td>0</td>\n",
       "      <td>0</td>\n",
       "      <td>0</td>\n",
       "      <td>0</td>\n",
       "      <td>0</td>\n",
       "      <td>0</td>\n",
       "      <td>1</td>\n",
       "      <td>2</td>\n",
       "      <td>1</td>\n",
       "      <td>2</td>\n",
       "      <td>0</td>\n",
       "      <td>0</td>\n",
       "      <td>0</td>\n",
       "      <td>1</td>\n",
       "      <td>1</td>\n",
       "      <td>0</td>\n",
       "      <td>1</td>\n",
       "      <td>0</td>\n",
       "      <td>0</td>\n",
       "    </tr>\n",
       "    <tr>\n",
       "      <th>5</th>\n",
       "      <td>0</td>\n",
       "      <td>1</td>\n",
       "      <td>0</td>\n",
       "      <td>0</td>\n",
       "      <td>1</td>\n",
       "      <td>1</td>\n",
       "      <td>0</td>\n",
       "      <td>0</td>\n",
       "      <td>1</td>\n",
       "      <td>1</td>\n",
       "      <td>0</td>\n",
       "      <td>0</td>\n",
       "      <td>0</td>\n",
       "      <td>0</td>\n",
       "      <td>1</td>\n",
       "      <td>0</td>\n",
       "      <td>0</td>\n",
       "      <td>1</td>\n",
       "      <td>0</td>\n",
       "      <td>0</td>\n",
       "    </tr>\n",
       "  </tbody>\n",
       "</table>\n",
       "</div>"
      ],
      "text/plain": [
       "   age  also  best  foolishness  football  games  it  john  likes  mary  \\\n",
       "0    0     0     1            0         0      0   1     0      0     0   \n",
       "1    0     0     0            0         0      0   1     0      0     0   \n",
       "2    1     0     0            0         0      0   1     0      0     0   \n",
       "3    1     0     0            1         0      0   1     0      0     0   \n",
       "4    0     0     0            0         0      0   0     1      2     1   \n",
       "5    0     1     0            0         1      1   0     0      1     1   \n",
       "\n",
       "   movies  of  the  times  to  too  was  watch  wisdom  worst  \n",
       "0       0   1    1      1   0    0    1      0       0      0  \n",
       "1       0   1    1      1   0    0    1      0       0      1  \n",
       "2       0   1    1      0   0    0    1      0       1      0  \n",
       "3       0   1    1      0   0    0    1      0       0      0  \n",
       "4       2   0    0      0   1    1    0      1       0      0  \n",
       "5       0   0    0      0   1    0    0      1       0      0  "
      ]
     },
     "execution_count": 28,
     "metadata": {},
     "output_type": "execute_result"
    }
   ],
   "source": [
    "# Easier to read as a Pandas Dataframe\n",
    "pd.DataFrame(dt.toarray(), columns=cv.get_feature_names_out())"
   ]
  },
  {
   "cell_type": "markdown",
   "metadata": {
    "id": "GbMhEquM6vW-"
   },
   "source": [
    "<a name='5.3.2'></a><a id='5.3.2'></a>\n",
    "## 5.3.2 Blueprint: Calculating Similarities\n",
    "<a href=\"#top\">[back to top]</a>\n",
    "\n",
    "Finding similarities between documents is now more difficult since we cannot just count the common 1s in the document. We also cannot use the dot product, since it is sensitive to the length of the vector. \n",
    "\n",
    "Instead, we use the cosine of the angle between two vectors.  scikit-learn provides the `cosine_similarity` utility function for this. This function is properly normalized and only takes values between 0 and 1."
   ]
  },
  {
   "cell_type": "code",
   "execution_count": 29,
   "metadata": {
    "colab": {
     "base_uri": "https://localhost:8080/"
    },
    "id": "kSvupHesEnU3",
    "outputId": "89c4e103-3eb7-48e5-d122-aa00d889410b"
   },
   "outputs": [
    {
     "data": {
      "text/plain": [
       "array([[0.83333333]])"
      ]
     },
     "execution_count": 29,
     "metadata": {},
     "output_type": "execute_result"
    }
   ],
   "source": [
    "cosine_similarity(dt[0], dt[1])"
   ]
  },
  {
   "cell_type": "markdown",
   "metadata": {
    "id": "eRKtVM7s6vW-"
   },
   "source": [
    "We can also calculate the similarity of all documents with `cosine_similarity`, by directly passing the matrices."
   ]
  },
  {
   "cell_type": "code",
   "execution_count": 30,
   "metadata": {
    "colab": {
     "base_uri": "https://localhost:8080/",
     "height": 237
    },
    "id": "wZJARcNmEnU5",
    "outputId": "ff1cb322-4fce-46d4-9a50-044a2be3e70e"
   },
   "outputs": [
    {
     "data": {
      "text/html": [
       "<div>\n",
       "<style scoped>\n",
       "    .dataframe tbody tr th:only-of-type {\n",
       "        vertical-align: middle;\n",
       "    }\n",
       "\n",
       "    .dataframe tbody tr th {\n",
       "        vertical-align: top;\n",
       "    }\n",
       "\n",
       "    .dataframe thead th {\n",
       "        text-align: right;\n",
       "    }\n",
       "</style>\n",
       "<table border=\"1\" class=\"dataframe\">\n",
       "  <thead>\n",
       "    <tr style=\"text-align: right;\">\n",
       "      <th></th>\n",
       "      <th>0</th>\n",
       "      <th>1</th>\n",
       "      <th>2</th>\n",
       "      <th>3</th>\n",
       "      <th>4</th>\n",
       "      <th>5</th>\n",
       "    </tr>\n",
       "  </thead>\n",
       "  <tbody>\n",
       "    <tr>\n",
       "      <th>0</th>\n",
       "      <td>1.000000</td>\n",
       "      <td>0.833333</td>\n",
       "      <td>0.666667</td>\n",
       "      <td>0.666667</td>\n",
       "      <td>0.000000</td>\n",
       "      <td>0.000000</td>\n",
       "    </tr>\n",
       "    <tr>\n",
       "      <th>1</th>\n",
       "      <td>0.833333</td>\n",
       "      <td>1.000000</td>\n",
       "      <td>0.666667</td>\n",
       "      <td>0.666667</td>\n",
       "      <td>0.000000</td>\n",
       "      <td>0.000000</td>\n",
       "    </tr>\n",
       "    <tr>\n",
       "      <th>2</th>\n",
       "      <td>0.666667</td>\n",
       "      <td>0.666667</td>\n",
       "      <td>1.000000</td>\n",
       "      <td>0.833333</td>\n",
       "      <td>0.000000</td>\n",
       "      <td>0.000000</td>\n",
       "    </tr>\n",
       "    <tr>\n",
       "      <th>3</th>\n",
       "      <td>0.666667</td>\n",
       "      <td>0.666667</td>\n",
       "      <td>0.833333</td>\n",
       "      <td>1.000000</td>\n",
       "      <td>0.000000</td>\n",
       "      <td>0.000000</td>\n",
       "    </tr>\n",
       "    <tr>\n",
       "      <th>4</th>\n",
       "      <td>0.000000</td>\n",
       "      <td>0.000000</td>\n",
       "      <td>0.000000</td>\n",
       "      <td>0.000000</td>\n",
       "      <td>1.000000</td>\n",
       "      <td>0.524142</td>\n",
       "    </tr>\n",
       "    <tr>\n",
       "      <th>5</th>\n",
       "      <td>0.000000</td>\n",
       "      <td>0.000000</td>\n",
       "      <td>0.000000</td>\n",
       "      <td>0.000000</td>\n",
       "      <td>0.524142</td>\n",
       "      <td>1.000000</td>\n",
       "    </tr>\n",
       "  </tbody>\n",
       "</table>\n",
       "</div>"
      ],
      "text/plain": [
       "          0         1         2         3         4         5\n",
       "0  1.000000  0.833333  0.666667  0.666667  0.000000  0.000000\n",
       "1  0.833333  1.000000  0.666667  0.666667  0.000000  0.000000\n",
       "2  0.666667  0.666667  1.000000  0.833333  0.000000  0.000000\n",
       "3  0.666667  0.666667  0.833333  1.000000  0.000000  0.000000\n",
       "4  0.000000  0.000000  0.000000  0.000000  1.000000  0.524142\n",
       "5  0.000000  0.000000  0.000000  0.000000  0.524142  1.000000"
      ]
     },
     "execution_count": 30,
     "metadata": {},
     "output_type": "execute_result"
    }
   ],
   "source": [
    "pd.DataFrame(cosine_similarity(dt, dt))"
   ]
  },
  {
   "cell_type": "code",
   "execution_count": 31,
   "metadata": {
    "colab": {
     "base_uri": "https://localhost:8080/"
    },
    "id": "uy6zsgMgEnU4",
    "outputId": "b22e5198-3dc3-47fc-d5dc-2beac643bcf1"
   },
   "outputs": [
    {
     "data": {
      "text/plain": [
       "6"
      ]
     },
     "execution_count": 31,
     "metadata": {},
     "output_type": "execute_result"
    }
   ],
   "source": [
    "len(more_sentences)"
   ]
  },
  {
   "cell_type": "markdown",
   "metadata": {
    "id": "PfWAYQJTEnU5"
   },
   "source": [
    "---\n",
    "<a name='5.4'></a><a id='5.4'></a>\n",
    "# 5.4 TF-IDF Models\n",
    "<a href=\"#top\">[back to top]</a>\n",
    "\n",
    "TF-IDF stands for \"Term Frequency - Inverse Document Frequency\".\n",
    "\n",
    "TF-IDF counts the number of total word occurrences. It will reduce weights of frequent words and at the same time increase the weights of uncommon words.\n",
    "\n",
    "Conceptually this is related to the concept of entropy, which says that a low-probability value carries more information than a more likely value."
   ]
  },
  {
   "cell_type": "markdown",
   "metadata": {
    "id": "X6XqHWVH6vXA"
   },
   "source": [
    "<a name='5.4.1'></a><a id='5.4.1'></a>\n",
    "## 5.4.1 Optimized Document Vectors with TfidfTransformer\n",
    "<a href=\"#top\">[back to top]</a>\n",
    "\n",
    "A better measure for information (compared to simply counting terms) is calculating the inverted document frequency and using a penalty for very common words. The TF-IDF weight can be calculated from the bag-of-words model. We can use this on the previous model and see how the weights of the document-term matrix change. \n",
    "\n",
    "`TfidfTransformer` transforms a count matrix to a normalized tf or tf-idf representation."
   ]
  },
  {
   "cell_type": "code",
   "execution_count": 32,
   "metadata": {
    "colab": {
     "base_uri": "https://localhost:8080/"
    },
    "id": "HYK13VJUEnU5",
    "outputId": "5bb9dec2-ba2f-439b-ddc0-96736ccf2307"
   },
   "outputs": [
    {
     "name": "stdout",
     "output_type": "stream",
     "text": [
      "Columns             6\n",
      "Rows               20\n",
      "Elements           38\n",
      "Bytes             304\n",
      "Gigabytes         0.0\n"
     ]
    }
   ],
   "source": [
    "tfidf = TfidfTransformer()\n",
    "tfidf_dt = tfidf.fit_transform(dt)\n",
    "\n",
    "examine_matrix(dt, 'TfidfTransformer', add_to_df=False)"
   ]
  },
  {
   "cell_type": "code",
   "execution_count": 33,
   "metadata": {
    "colab": {
     "base_uri": "https://localhost:8080/",
     "height": 301
    },
    "id": "JnEWmTQm6vXA",
    "outputId": "4baf8b43-b429-405f-fa32-9083307d89cf"
   },
   "outputs": [
    {
     "data": {
      "text/html": [
       "<div>\n",
       "<style scoped>\n",
       "    .dataframe tbody tr th:only-of-type {\n",
       "        vertical-align: middle;\n",
       "    }\n",
       "\n",
       "    .dataframe tbody tr th {\n",
       "        vertical-align: top;\n",
       "    }\n",
       "\n",
       "    .dataframe thead th {\n",
       "        text-align: right;\n",
       "    }\n",
       "</style>\n",
       "<table border=\"1\" class=\"dataframe\">\n",
       "  <thead>\n",
       "    <tr style=\"text-align: right;\">\n",
       "      <th></th>\n",
       "      <th>age</th>\n",
       "      <th>also</th>\n",
       "      <th>best</th>\n",
       "      <th>foolishness</th>\n",
       "      <th>football</th>\n",
       "      <th>games</th>\n",
       "      <th>it</th>\n",
       "      <th>john</th>\n",
       "      <th>likes</th>\n",
       "      <th>mary</th>\n",
       "      <th>movies</th>\n",
       "      <th>of</th>\n",
       "      <th>the</th>\n",
       "      <th>times</th>\n",
       "      <th>to</th>\n",
       "      <th>too</th>\n",
       "      <th>was</th>\n",
       "      <th>watch</th>\n",
       "      <th>wisdom</th>\n",
       "      <th>worst</th>\n",
       "    </tr>\n",
       "  </thead>\n",
       "  <tbody>\n",
       "    <tr>\n",
       "      <th>0</th>\n",
       "      <td>0.000000</td>\n",
       "      <td>0.000000</td>\n",
       "      <td>0.56978</td>\n",
       "      <td>0.00000</td>\n",
       "      <td>0.000000</td>\n",
       "      <td>0.000000</td>\n",
       "      <td>0.338027</td>\n",
       "      <td>0.000000</td>\n",
       "      <td>0.000000</td>\n",
       "      <td>0.000000</td>\n",
       "      <td>0.000000</td>\n",
       "      <td>0.338027</td>\n",
       "      <td>0.338027</td>\n",
       "      <td>0.467228</td>\n",
       "      <td>0.000000</td>\n",
       "      <td>0.000000</td>\n",
       "      <td>0.338027</td>\n",
       "      <td>0.000000</td>\n",
       "      <td>0.00000</td>\n",
       "      <td>0.00000</td>\n",
       "    </tr>\n",
       "    <tr>\n",
       "      <th>1</th>\n",
       "      <td>0.000000</td>\n",
       "      <td>0.000000</td>\n",
       "      <td>0.00000</td>\n",
       "      <td>0.00000</td>\n",
       "      <td>0.000000</td>\n",
       "      <td>0.000000</td>\n",
       "      <td>0.338027</td>\n",
       "      <td>0.000000</td>\n",
       "      <td>0.000000</td>\n",
       "      <td>0.000000</td>\n",
       "      <td>0.000000</td>\n",
       "      <td>0.338027</td>\n",
       "      <td>0.338027</td>\n",
       "      <td>0.467228</td>\n",
       "      <td>0.000000</td>\n",
       "      <td>0.000000</td>\n",
       "      <td>0.338027</td>\n",
       "      <td>0.000000</td>\n",
       "      <td>0.00000</td>\n",
       "      <td>0.56978</td>\n",
       "    </tr>\n",
       "    <tr>\n",
       "      <th>2</th>\n",
       "      <td>0.467228</td>\n",
       "      <td>0.000000</td>\n",
       "      <td>0.00000</td>\n",
       "      <td>0.00000</td>\n",
       "      <td>0.000000</td>\n",
       "      <td>0.000000</td>\n",
       "      <td>0.338027</td>\n",
       "      <td>0.000000</td>\n",
       "      <td>0.000000</td>\n",
       "      <td>0.000000</td>\n",
       "      <td>0.000000</td>\n",
       "      <td>0.338027</td>\n",
       "      <td>0.338027</td>\n",
       "      <td>0.000000</td>\n",
       "      <td>0.000000</td>\n",
       "      <td>0.000000</td>\n",
       "      <td>0.338027</td>\n",
       "      <td>0.000000</td>\n",
       "      <td>0.56978</td>\n",
       "      <td>0.00000</td>\n",
       "    </tr>\n",
       "    <tr>\n",
       "      <th>3</th>\n",
       "      <td>0.467228</td>\n",
       "      <td>0.000000</td>\n",
       "      <td>0.00000</td>\n",
       "      <td>0.56978</td>\n",
       "      <td>0.000000</td>\n",
       "      <td>0.000000</td>\n",
       "      <td>0.338027</td>\n",
       "      <td>0.000000</td>\n",
       "      <td>0.000000</td>\n",
       "      <td>0.000000</td>\n",
       "      <td>0.000000</td>\n",
       "      <td>0.338027</td>\n",
       "      <td>0.338027</td>\n",
       "      <td>0.000000</td>\n",
       "      <td>0.000000</td>\n",
       "      <td>0.000000</td>\n",
       "      <td>0.338027</td>\n",
       "      <td>0.000000</td>\n",
       "      <td>0.00000</td>\n",
       "      <td>0.00000</td>\n",
       "    </tr>\n",
       "    <tr>\n",
       "      <th>4</th>\n",
       "      <td>0.000000</td>\n",
       "      <td>0.000000</td>\n",
       "      <td>0.00000</td>\n",
       "      <td>0.00000</td>\n",
       "      <td>0.000000</td>\n",
       "      <td>0.000000</td>\n",
       "      <td>0.000000</td>\n",
       "      <td>0.305609</td>\n",
       "      <td>0.501208</td>\n",
       "      <td>0.250604</td>\n",
       "      <td>0.611219</td>\n",
       "      <td>0.000000</td>\n",
       "      <td>0.000000</td>\n",
       "      <td>0.000000</td>\n",
       "      <td>0.250604</td>\n",
       "      <td>0.305609</td>\n",
       "      <td>0.000000</td>\n",
       "      <td>0.250604</td>\n",
       "      <td>0.00000</td>\n",
       "      <td>0.00000</td>\n",
       "    </tr>\n",
       "    <tr>\n",
       "      <th>5</th>\n",
       "      <td>0.000000</td>\n",
       "      <td>0.419233</td>\n",
       "      <td>0.00000</td>\n",
       "      <td>0.00000</td>\n",
       "      <td>0.419233</td>\n",
       "      <td>0.419233</td>\n",
       "      <td>0.000000</td>\n",
       "      <td>0.000000</td>\n",
       "      <td>0.343777</td>\n",
       "      <td>0.343777</td>\n",
       "      <td>0.000000</td>\n",
       "      <td>0.000000</td>\n",
       "      <td>0.000000</td>\n",
       "      <td>0.000000</td>\n",
       "      <td>0.343777</td>\n",
       "      <td>0.000000</td>\n",
       "      <td>0.000000</td>\n",
       "      <td>0.343777</td>\n",
       "      <td>0.00000</td>\n",
       "      <td>0.00000</td>\n",
       "    </tr>\n",
       "  </tbody>\n",
       "</table>\n",
       "</div>"
      ],
      "text/plain": [
       "        age      also     best  foolishness  football     games        it  \\\n",
       "0  0.000000  0.000000  0.56978      0.00000  0.000000  0.000000  0.338027   \n",
       "1  0.000000  0.000000  0.00000      0.00000  0.000000  0.000000  0.338027   \n",
       "2  0.467228  0.000000  0.00000      0.00000  0.000000  0.000000  0.338027   \n",
       "3  0.467228  0.000000  0.00000      0.56978  0.000000  0.000000  0.338027   \n",
       "4  0.000000  0.000000  0.00000      0.00000  0.000000  0.000000  0.000000   \n",
       "5  0.000000  0.419233  0.00000      0.00000  0.419233  0.419233  0.000000   \n",
       "\n",
       "       john     likes      mary    movies        of       the     times  \\\n",
       "0  0.000000  0.000000  0.000000  0.000000  0.338027  0.338027  0.467228   \n",
       "1  0.000000  0.000000  0.000000  0.000000  0.338027  0.338027  0.467228   \n",
       "2  0.000000  0.000000  0.000000  0.000000  0.338027  0.338027  0.000000   \n",
       "3  0.000000  0.000000  0.000000  0.000000  0.338027  0.338027  0.000000   \n",
       "4  0.305609  0.501208  0.250604  0.611219  0.000000  0.000000  0.000000   \n",
       "5  0.000000  0.343777  0.343777  0.000000  0.000000  0.000000  0.000000   \n",
       "\n",
       "         to       too       was     watch   wisdom    worst  \n",
       "0  0.000000  0.000000  0.338027  0.000000  0.00000  0.00000  \n",
       "1  0.000000  0.000000  0.338027  0.000000  0.00000  0.56978  \n",
       "2  0.000000  0.000000  0.338027  0.000000  0.56978  0.00000  \n",
       "3  0.000000  0.000000  0.338027  0.000000  0.00000  0.00000  \n",
       "4  0.250604  0.305609  0.000000  0.250604  0.00000  0.00000  \n",
       "5  0.343777  0.000000  0.000000  0.343777  0.00000  0.00000  "
      ]
     },
     "execution_count": 33,
     "metadata": {},
     "output_type": "execute_result"
    }
   ],
   "source": [
    "pd.DataFrame(tfidf_dt.toarray(), columns=cv.get_feature_names_out())"
   ]
  },
  {
   "cell_type": "code",
   "execution_count": 34,
   "metadata": {
    "colab": {
     "base_uri": "https://localhost:8080/",
     "height": 237
    },
    "id": "PEFqPCfyEnU6",
    "outputId": "973a5530-db8e-436d-ec44-3347dbb4c963"
   },
   "outputs": [
    {
     "data": {
      "text/html": [
       "<div>\n",
       "<style scoped>\n",
       "    .dataframe tbody tr th:only-of-type {\n",
       "        vertical-align: middle;\n",
       "    }\n",
       "\n",
       "    .dataframe tbody tr th {\n",
       "        vertical-align: top;\n",
       "    }\n",
       "\n",
       "    .dataframe thead th {\n",
       "        text-align: right;\n",
       "    }\n",
       "</style>\n",
       "<table border=\"1\" class=\"dataframe\">\n",
       "  <thead>\n",
       "    <tr style=\"text-align: right;\">\n",
       "      <th></th>\n",
       "      <th>0</th>\n",
       "      <th>1</th>\n",
       "      <th>2</th>\n",
       "      <th>3</th>\n",
       "      <th>4</th>\n",
       "      <th>5</th>\n",
       "    </tr>\n",
       "  </thead>\n",
       "  <tbody>\n",
       "    <tr>\n",
       "      <th>0</th>\n",
       "      <td>1.000000</td>\n",
       "      <td>0.675351</td>\n",
       "      <td>0.457049</td>\n",
       "      <td>0.457049</td>\n",
       "      <td>0.00000</td>\n",
       "      <td>0.00000</td>\n",
       "    </tr>\n",
       "    <tr>\n",
       "      <th>1</th>\n",
       "      <td>0.675351</td>\n",
       "      <td>1.000000</td>\n",
       "      <td>0.457049</td>\n",
       "      <td>0.457049</td>\n",
       "      <td>0.00000</td>\n",
       "      <td>0.00000</td>\n",
       "    </tr>\n",
       "    <tr>\n",
       "      <th>2</th>\n",
       "      <td>0.457049</td>\n",
       "      <td>0.457049</td>\n",
       "      <td>1.000000</td>\n",
       "      <td>0.675351</td>\n",
       "      <td>0.00000</td>\n",
       "      <td>0.00000</td>\n",
       "    </tr>\n",
       "    <tr>\n",
       "      <th>3</th>\n",
       "      <td>0.457049</td>\n",
       "      <td>0.457049</td>\n",
       "      <td>0.675351</td>\n",
       "      <td>1.000000</td>\n",
       "      <td>0.00000</td>\n",
       "      <td>0.00000</td>\n",
       "    </tr>\n",
       "    <tr>\n",
       "      <th>4</th>\n",
       "      <td>0.000000</td>\n",
       "      <td>0.000000</td>\n",
       "      <td>0.000000</td>\n",
       "      <td>0.000000</td>\n",
       "      <td>1.00000</td>\n",
       "      <td>0.43076</td>\n",
       "    </tr>\n",
       "    <tr>\n",
       "      <th>5</th>\n",
       "      <td>0.000000</td>\n",
       "      <td>0.000000</td>\n",
       "      <td>0.000000</td>\n",
       "      <td>0.000000</td>\n",
       "      <td>0.43076</td>\n",
       "      <td>1.00000</td>\n",
       "    </tr>\n",
       "  </tbody>\n",
       "</table>\n",
       "</div>"
      ],
      "text/plain": [
       "          0         1         2         3        4        5\n",
       "0  1.000000  0.675351  0.457049  0.457049  0.00000  0.00000\n",
       "1  0.675351  1.000000  0.457049  0.457049  0.00000  0.00000\n",
       "2  0.457049  0.457049  1.000000  0.675351  0.00000  0.00000\n",
       "3  0.457049  0.457049  0.675351  1.000000  0.00000  0.00000\n",
       "4  0.000000  0.000000  0.000000  0.000000  1.00000  0.43076\n",
       "5  0.000000  0.000000  0.000000  0.000000  0.43076  1.00000"
      ]
     },
     "execution_count": 34,
     "metadata": {},
     "output_type": "execute_result"
    }
   ],
   "source": [
    "pd.DataFrame(cosine_similarity(tfidf_dt, tfidf_dt))"
   ]
  },
  {
   "cell_type": "markdown",
   "metadata": {
    "id": "J5vxSVtSEnU6"
   },
   "source": [
    "<a name='5.4.2'></a><a id='5.4.2'></a>\n",
    "## 5.4.2 Introducing the ABC Dataset\n",
    "<a href=\"#top\">[back to top]</a>\n",
    "\n",
    "We use a dataset from Kaggle containing news headlines, originating from [ABC Australian news 2003-2017](`CountVectorizer`)."
   ]
  },
  {
   "cell_type": "markdown",
   "metadata": {},
   "source": [
    "<a id='abcnews-date-text.csv.gz'></a><a name='abcnews-date-text.csv.gz'></a>\n",
    "### Dataset: abcnews-date-text.csv.gz\n",
    "<a href=\"#top\">[back to top]</a>"
   ]
  },
  {
   "cell_type": "code",
   "execution_count": 35,
   "metadata": {
    "colab": {
     "base_uri": "https://localhost:8080/"
    },
    "id": "8Sz6x807F040",
    "outputId": "ea47335b-ac87-4aac-821b-dc78086aff78"
   },
   "outputs": [
    {
     "name": "stdout",
     "output_type": "stream",
     "text": [
      "-rw-r--r--  1 gpb  staff  19282568 11  2 16:25 abcnews-date-text.csv.gz\n"
     ]
    }
   ],
   "source": [
    "ABCNEWS_FILE = 'abcnews-date-text.csv.gz'\n",
    "!wget -nc -q https://github.com/blueprints-for-text-analytics-python/blueprints-text/raw/master/data/abcnews/abcnews-date-text.csv.gz\n",
    "!ls -l {ABCNEWS_FILE}"
   ]
  },
  {
   "cell_type": "code",
   "execution_count": 36,
   "metadata": {
    "colab": {
     "base_uri": "https://localhost:8080/"
    },
    "id": "lk5OOT0VEnU6",
    "outputId": "6027af7a-2d42-4592-8e91-d2ca3d93f018"
   },
   "outputs": [
    {
     "name": "stdout",
     "output_type": "stream",
     "text": [
      "<class 'pandas.core.frame.DataFrame'>\n",
      "RangeIndex: 1103663 entries, 0 to 1103662\n",
      "Data columns (total 2 columns):\n",
      " #   Column         Non-Null Count    Dtype         \n",
      "---  ------         --------------    -----         \n",
      " 0   publish_date   1103663 non-null  datetime64[ns]\n",
      " 1   headline_text  1103663 non-null  object        \n",
      "dtypes: datetime64[ns](1), object(1)\n",
      "memory usage: 16.8+ MB\n"
     ]
    }
   ],
   "source": [
    "headlines_orig = pd.read_csv(ABCNEWS_FILE, parse_dates=[\"publish_date\"])\n",
    "headlines_orig.info()"
   ]
  },
  {
   "cell_type": "markdown",
   "metadata": {
    "id": "rPCrIukjGJj0"
   },
   "source": [
    "### Shorten size of headline, as it takes too long to process the original length"
   ]
  },
  {
   "cell_type": "code",
   "execution_count": 37,
   "metadata": {
    "colab": {
     "base_uri": "https://localhost:8080/"
    },
    "id": "3wV58hZMGB-F",
    "outputId": "dec0b7b7-02fc-45e5-f50c-bc3f48181536"
   },
   "outputs": [
    {
     "name": "stdout",
     "output_type": "stream",
     "text": [
      "20,000\n"
     ]
    }
   ],
   "source": [
    "# Shorten dataset\n",
    "# headlines = headlines_orig.sample(frac=.1)\n",
    "headlines = headlines_orig.sample(n=20_000)\n",
    "print(f\"{len(headlines):,}\")"
   ]
  },
  {
   "cell_type": "code",
   "execution_count": 38,
   "metadata": {
    "colab": {
     "base_uri": "https://localhost:8080/",
     "height": 206
    },
    "id": "FjFP-vQa6vXC",
    "outputId": "0631d3d9-b8ef-49e0-fb60-ae94fb01346d"
   },
   "outputs": [
    {
     "data": {
      "text/html": [
       "<div>\n",
       "<style scoped>\n",
       "    .dataframe tbody tr th:only-of-type {\n",
       "        vertical-align: middle;\n",
       "    }\n",
       "\n",
       "    .dataframe tbody tr th {\n",
       "        vertical-align: top;\n",
       "    }\n",
       "\n",
       "    .dataframe thead th {\n",
       "        text-align: right;\n",
       "    }\n",
       "</style>\n",
       "<table border=\"1\" class=\"dataframe\">\n",
       "  <thead>\n",
       "    <tr style=\"text-align: right;\">\n",
       "      <th></th>\n",
       "      <th>publish_date</th>\n",
       "      <th>headline_text</th>\n",
       "    </tr>\n",
       "  </thead>\n",
       "  <tbody>\n",
       "    <tr>\n",
       "      <th>105742</th>\n",
       "      <td>2004-07-28</td>\n",
       "      <td>portrait planned for thunderbolts rock</td>\n",
       "    </tr>\n",
       "    <tr>\n",
       "      <th>771498</th>\n",
       "      <td>2013-03-18</td>\n",
       "      <td>call for boundary changes before council de me...</td>\n",
       "    </tr>\n",
       "    <tr>\n",
       "      <th>1097330</th>\n",
       "      <td>2017-11-03</td>\n",
       "      <td>cb radios facebook of the 70s back in fashion</td>\n",
       "    </tr>\n",
       "    <tr>\n",
       "      <th>434538</th>\n",
       "      <td>2009-01-04</td>\n",
       "      <td>police probe acacia ridge armed robbery</td>\n",
       "    </tr>\n",
       "    <tr>\n",
       "      <th>773204</th>\n",
       "      <td>2013-03-22</td>\n",
       "      <td>un to probe possible syrian chemical weapons a...</td>\n",
       "    </tr>\n",
       "  </tbody>\n",
       "</table>\n",
       "</div>"
      ],
      "text/plain": [
       "        publish_date                                      headline_text\n",
       "105742    2004-07-28             portrait planned for thunderbolts rock\n",
       "771498    2013-03-18  call for boundary changes before council de me...\n",
       "1097330   2017-11-03      cb radios facebook of the 70s back in fashion\n",
       "434538    2009-01-04            police probe acacia ridge armed robbery\n",
       "773204    2013-03-22  un to probe possible syrian chemical weapons a..."
      ]
     },
     "execution_count": 38,
     "metadata": {},
     "output_type": "execute_result"
    }
   ],
   "source": [
    "headlines.sample(5)"
   ]
  },
  {
   "cell_type": "code",
   "execution_count": 39,
   "metadata": {
    "colab": {
     "base_uri": "https://localhost:8080/"
    },
    "id": "HCnCdT1qEnU7",
    "outputId": "43f66342-80e7-457c-c5b5-2c7ee42e79f0"
   },
   "outputs": [
    {
     "name": "stdout",
     "output_type": "stream",
     "text": [
      "Columns        20,000\n",
      "Rows           17,882\n",
      "Elements      126,698\n",
      "Bytes       1,013,584\n",
      "Gigabytes     0.00094\n"
     ]
    }
   ],
   "source": [
    "tfidf = TfidfVectorizer()\n",
    "dt = tfidf.fit_transform(headlines[\"headline_text\"])\n",
    "\n",
    "examine_matrix(dt, '5.4.2 TfidfVectorizer')"
   ]
  },
  {
   "cell_type": "code",
   "execution_count": 40,
   "metadata": {},
   "outputs": [
    {
     "data": {
      "image/png": "[encoded data removed]",
      "text/plain": [
       "<Figure size 640x480 with 1 Axes>"
      ]
     },
     "metadata": {},
     "output_type": "display_data"
    }
   ],
   "source": [
    "show(matrix_data)"
   ]
  },
  {
   "cell_type": "markdown",
   "metadata": {
    "id": "kwEaruDK6vXD"
   },
   "source": [
    "Calculate the similarity between two vectors is very efficient via `cosine_similarity`."
   ]
  },
  {
   "cell_type": "code",
   "execution_count": 41,
   "metadata": {
    "colab": {
     "base_uri": "https://localhost:8080/",
     "height": 525
    },
    "id": "HLE0-BPhEnU9",
    "outputId": "b9b198e8-a5cf-4368-bfbc-043e66dc3d5d"
   },
   "outputs": [
    {
     "name": "stdout",
     "output_type": "stream",
     "text": [
      "CPU times: user 354 ms, sys: 289 ms, total: 643 ms\n",
      "Wall time: 652 ms\n"
     ]
    },
    {
     "data": {
      "text/html": [
       "<div>\n",
       "<style scoped>\n",
       "    .dataframe tbody tr th:only-of-type {\n",
       "        vertical-align: middle;\n",
       "    }\n",
       "\n",
       "    .dataframe tbody tr th {\n",
       "        vertical-align: top;\n",
       "    }\n",
       "\n",
       "    .dataframe thead th {\n",
       "        text-align: right;\n",
       "    }\n",
       "</style>\n",
       "<table border=\"1\" class=\"dataframe\">\n",
       "  <thead>\n",
       "    <tr style=\"text-align: right;\">\n",
       "      <th></th>\n",
       "      <th>0</th>\n",
       "      <th>1</th>\n",
       "      <th>2</th>\n",
       "      <th>3</th>\n",
       "      <th>4</th>\n",
       "      <th>5</th>\n",
       "      <th>6</th>\n",
       "      <th>7</th>\n",
       "      <th>8</th>\n",
       "      <th>9</th>\n",
       "      <th>...</th>\n",
       "      <th>9990</th>\n",
       "      <th>9991</th>\n",
       "      <th>9992</th>\n",
       "      <th>9993</th>\n",
       "      <th>9994</th>\n",
       "      <th>9995</th>\n",
       "      <th>9996</th>\n",
       "      <th>9997</th>\n",
       "      <th>9998</th>\n",
       "      <th>9999</th>\n",
       "    </tr>\n",
       "  </thead>\n",
       "  <tbody>\n",
       "    <tr>\n",
       "      <th>0</th>\n",
       "      <td>1.0</td>\n",
       "      <td>0.0</td>\n",
       "      <td>0.0</td>\n",
       "      <td>0.000000</td>\n",
       "      <td>0.000000</td>\n",
       "      <td>0.0</td>\n",
       "      <td>0.0</td>\n",
       "      <td>0.000000</td>\n",
       "      <td>0.0</td>\n",
       "      <td>0.0</td>\n",
       "      <td>...</td>\n",
       "      <td>0.000000</td>\n",
       "      <td>0.000000</td>\n",
       "      <td>0.000000</td>\n",
       "      <td>0.000000</td>\n",
       "      <td>0.000000</td>\n",
       "      <td>0.000000</td>\n",
       "      <td>0.000000</td>\n",
       "      <td>0.0</td>\n",
       "      <td>0.000000</td>\n",
       "      <td>0.0</td>\n",
       "    </tr>\n",
       "    <tr>\n",
       "      <th>1</th>\n",
       "      <td>0.0</td>\n",
       "      <td>1.0</td>\n",
       "      <td>0.0</td>\n",
       "      <td>0.000000</td>\n",
       "      <td>0.000000</td>\n",
       "      <td>0.0</td>\n",
       "      <td>0.0</td>\n",
       "      <td>0.000000</td>\n",
       "      <td>0.0</td>\n",
       "      <td>0.0</td>\n",
       "      <td>...</td>\n",
       "      <td>0.000000</td>\n",
       "      <td>0.000000</td>\n",
       "      <td>0.000000</td>\n",
       "      <td>0.000000</td>\n",
       "      <td>0.000000</td>\n",
       "      <td>0.000000</td>\n",
       "      <td>0.000000</td>\n",
       "      <td>0.0</td>\n",
       "      <td>0.000000</td>\n",
       "      <td>0.0</td>\n",
       "    </tr>\n",
       "    <tr>\n",
       "      <th>2</th>\n",
       "      <td>0.0</td>\n",
       "      <td>0.0</td>\n",
       "      <td>1.0</td>\n",
       "      <td>0.000000</td>\n",
       "      <td>0.000000</td>\n",
       "      <td>0.0</td>\n",
       "      <td>0.0</td>\n",
       "      <td>0.000000</td>\n",
       "      <td>0.0</td>\n",
       "      <td>0.0</td>\n",
       "      <td>...</td>\n",
       "      <td>0.000000</td>\n",
       "      <td>0.000000</td>\n",
       "      <td>0.000000</td>\n",
       "      <td>0.000000</td>\n",
       "      <td>0.000000</td>\n",
       "      <td>0.000000</td>\n",
       "      <td>0.000000</td>\n",
       "      <td>0.0</td>\n",
       "      <td>0.000000</td>\n",
       "      <td>0.0</td>\n",
       "    </tr>\n",
       "    <tr>\n",
       "      <th>3</th>\n",
       "      <td>0.0</td>\n",
       "      <td>0.0</td>\n",
       "      <td>0.0</td>\n",
       "      <td>1.000000</td>\n",
       "      <td>0.000000</td>\n",
       "      <td>0.0</td>\n",
       "      <td>0.0</td>\n",
       "      <td>0.103828</td>\n",
       "      <td>0.0</td>\n",
       "      <td>0.0</td>\n",
       "      <td>...</td>\n",
       "      <td>0.000000</td>\n",
       "      <td>0.054342</td>\n",
       "      <td>0.000000</td>\n",
       "      <td>0.000000</td>\n",
       "      <td>0.000000</td>\n",
       "      <td>0.047807</td>\n",
       "      <td>0.000000</td>\n",
       "      <td>0.0</td>\n",
       "      <td>0.283263</td>\n",
       "      <td>0.0</td>\n",
       "    </tr>\n",
       "    <tr>\n",
       "      <th>4</th>\n",
       "      <td>0.0</td>\n",
       "      <td>0.0</td>\n",
       "      <td>0.0</td>\n",
       "      <td>0.000000</td>\n",
       "      <td>1.000000</td>\n",
       "      <td>0.0</td>\n",
       "      <td>0.0</td>\n",
       "      <td>0.000000</td>\n",
       "      <td>0.0</td>\n",
       "      <td>0.0</td>\n",
       "      <td>...</td>\n",
       "      <td>0.000000</td>\n",
       "      <td>0.000000</td>\n",
       "      <td>0.030047</td>\n",
       "      <td>0.220906</td>\n",
       "      <td>0.029186</td>\n",
       "      <td>0.000000</td>\n",
       "      <td>0.000000</td>\n",
       "      <td>0.0</td>\n",
       "      <td>0.026567</td>\n",
       "      <td>0.0</td>\n",
       "    </tr>\n",
       "    <tr>\n",
       "      <th>...</th>\n",
       "      <td>...</td>\n",
       "      <td>...</td>\n",
       "      <td>...</td>\n",
       "      <td>...</td>\n",
       "      <td>...</td>\n",
       "      <td>...</td>\n",
       "      <td>...</td>\n",
       "      <td>...</td>\n",
       "      <td>...</td>\n",
       "      <td>...</td>\n",
       "      <td>...</td>\n",
       "      <td>...</td>\n",
       "      <td>...</td>\n",
       "      <td>...</td>\n",
       "      <td>...</td>\n",
       "      <td>...</td>\n",
       "      <td>...</td>\n",
       "      <td>...</td>\n",
       "      <td>...</td>\n",
       "      <td>...</td>\n",
       "      <td>...</td>\n",
       "    </tr>\n",
       "    <tr>\n",
       "      <th>9995</th>\n",
       "      <td>0.0</td>\n",
       "      <td>0.0</td>\n",
       "      <td>0.0</td>\n",
       "      <td>0.047807</td>\n",
       "      <td>0.000000</td>\n",
       "      <td>0.0</td>\n",
       "      <td>0.0</td>\n",
       "      <td>0.000000</td>\n",
       "      <td>0.0</td>\n",
       "      <td>0.0</td>\n",
       "      <td>...</td>\n",
       "      <td>0.000000</td>\n",
       "      <td>0.045452</td>\n",
       "      <td>0.000000</td>\n",
       "      <td>0.000000</td>\n",
       "      <td>0.000000</td>\n",
       "      <td>1.000000</td>\n",
       "      <td>0.000000</td>\n",
       "      <td>0.0</td>\n",
       "      <td>0.034937</td>\n",
       "      <td>0.0</td>\n",
       "    </tr>\n",
       "    <tr>\n",
       "      <th>9996</th>\n",
       "      <td>0.0</td>\n",
       "      <td>0.0</td>\n",
       "      <td>0.0</td>\n",
       "      <td>0.000000</td>\n",
       "      <td>0.000000</td>\n",
       "      <td>0.0</td>\n",
       "      <td>0.0</td>\n",
       "      <td>0.049715</td>\n",
       "      <td>0.0</td>\n",
       "      <td>0.0</td>\n",
       "      <td>...</td>\n",
       "      <td>0.000000</td>\n",
       "      <td>0.000000</td>\n",
       "      <td>0.113251</td>\n",
       "      <td>0.000000</td>\n",
       "      <td>0.061827</td>\n",
       "      <td>0.000000</td>\n",
       "      <td>1.000000</td>\n",
       "      <td>0.0</td>\n",
       "      <td>0.056279</td>\n",
       "      <td>0.0</td>\n",
       "    </tr>\n",
       "    <tr>\n",
       "      <th>9997</th>\n",
       "      <td>0.0</td>\n",
       "      <td>0.0</td>\n",
       "      <td>0.0</td>\n",
       "      <td>0.000000</td>\n",
       "      <td>0.000000</td>\n",
       "      <td>0.0</td>\n",
       "      <td>0.0</td>\n",
       "      <td>0.000000</td>\n",
       "      <td>0.0</td>\n",
       "      <td>0.0</td>\n",
       "      <td>...</td>\n",
       "      <td>0.000000</td>\n",
       "      <td>0.083174</td>\n",
       "      <td>0.000000</td>\n",
       "      <td>0.000000</td>\n",
       "      <td>0.000000</td>\n",
       "      <td>0.000000</td>\n",
       "      <td>0.000000</td>\n",
       "      <td>1.0</td>\n",
       "      <td>0.000000</td>\n",
       "      <td>0.0</td>\n",
       "    </tr>\n",
       "    <tr>\n",
       "      <th>9998</th>\n",
       "      <td>0.0</td>\n",
       "      <td>0.0</td>\n",
       "      <td>0.0</td>\n",
       "      <td>0.283263</td>\n",
       "      <td>0.026567</td>\n",
       "      <td>0.0</td>\n",
       "      <td>0.0</td>\n",
       "      <td>0.000000</td>\n",
       "      <td>0.0</td>\n",
       "      <td>0.0</td>\n",
       "      <td>...</td>\n",
       "      <td>0.000000</td>\n",
       "      <td>0.039713</td>\n",
       "      <td>0.080288</td>\n",
       "      <td>0.000000</td>\n",
       "      <td>0.077987</td>\n",
       "      <td>0.034937</td>\n",
       "      <td>0.056279</td>\n",
       "      <td>0.0</td>\n",
       "      <td>1.000000</td>\n",
       "      <td>0.0</td>\n",
       "    </tr>\n",
       "    <tr>\n",
       "      <th>9999</th>\n",
       "      <td>0.0</td>\n",
       "      <td>0.0</td>\n",
       "      <td>0.0</td>\n",
       "      <td>0.000000</td>\n",
       "      <td>0.000000</td>\n",
       "      <td>0.0</td>\n",
       "      <td>0.0</td>\n",
       "      <td>0.000000</td>\n",
       "      <td>0.0</td>\n",
       "      <td>0.0</td>\n",
       "      <td>...</td>\n",
       "      <td>0.080523</td>\n",
       "      <td>0.000000</td>\n",
       "      <td>0.000000</td>\n",
       "      <td>0.000000</td>\n",
       "      <td>0.000000</td>\n",
       "      <td>0.000000</td>\n",
       "      <td>0.000000</td>\n",
       "      <td>0.0</td>\n",
       "      <td>0.000000</td>\n",
       "      <td>1.0</td>\n",
       "    </tr>\n",
       "  </tbody>\n",
       "</table>\n",
       "<p>10000 rows × 10000 columns</p>\n",
       "</div>"
      ],
      "text/plain": [
       "      0     1     2         3         4     5     6         7     8     9     \\\n",
       "0      1.0   0.0   0.0  0.000000  0.000000   0.0   0.0  0.000000   0.0   0.0   \n",
       "1      0.0   1.0   0.0  0.000000  0.000000   0.0   0.0  0.000000   0.0   0.0   \n",
       "2      0.0   0.0   1.0  0.000000  0.000000   0.0   0.0  0.000000   0.0   0.0   \n",
       "3      0.0   0.0   0.0  1.000000  0.000000   0.0   0.0  0.103828   0.0   0.0   \n",
       "4      0.0   0.0   0.0  0.000000  1.000000   0.0   0.0  0.000000   0.0   0.0   \n",
       "...    ...   ...   ...       ...       ...   ...   ...       ...   ...   ...   \n",
       "9995   0.0   0.0   0.0  0.047807  0.000000   0.0   0.0  0.000000   0.0   0.0   \n",
       "9996   0.0   0.0   0.0  0.000000  0.000000   0.0   0.0  0.049715   0.0   0.0   \n",
       "9997   0.0   0.0   0.0  0.000000  0.000000   0.0   0.0  0.000000   0.0   0.0   \n",
       "9998   0.0   0.0   0.0  0.283263  0.026567   0.0   0.0  0.000000   0.0   0.0   \n",
       "9999   0.0   0.0   0.0  0.000000  0.000000   0.0   0.0  0.000000   0.0   0.0   \n",
       "\n",
       "      ...      9990      9991      9992      9993      9994      9995  \\\n",
       "0     ...  0.000000  0.000000  0.000000  0.000000  0.000000  0.000000   \n",
       "1     ...  0.000000  0.000000  0.000000  0.000000  0.000000  0.000000   \n",
       "2     ...  0.000000  0.000000  0.000000  0.000000  0.000000  0.000000   \n",
       "3     ...  0.000000  0.054342  0.000000  0.000000  0.000000  0.047807   \n",
       "4     ...  0.000000  0.000000  0.030047  0.220906  0.029186  0.000000   \n",
       "...   ...       ...       ...       ...       ...       ...       ...   \n",
       "9995  ...  0.000000  0.045452  0.000000  0.000000  0.000000  1.000000   \n",
       "9996  ...  0.000000  0.000000  0.113251  0.000000  0.061827  0.000000   \n",
       "9997  ...  0.000000  0.083174  0.000000  0.000000  0.000000  0.000000   \n",
       "9998  ...  0.000000  0.039713  0.080288  0.000000  0.077987  0.034937   \n",
       "9999  ...  0.080523  0.000000  0.000000  0.000000  0.000000  0.000000   \n",
       "\n",
       "          9996  9997      9998  9999  \n",
       "0     0.000000   0.0  0.000000   0.0  \n",
       "1     0.000000   0.0  0.000000   0.0  \n",
       "2     0.000000   0.0  0.000000   0.0  \n",
       "3     0.000000   0.0  0.283263   0.0  \n",
       "4     0.000000   0.0  0.026567   0.0  \n",
       "...        ...   ...       ...   ...  \n",
       "9995  0.000000   0.0  0.034937   0.0  \n",
       "9996  1.000000   0.0  0.056279   0.0  \n",
       "9997  0.000000   1.0  0.000000   0.0  \n",
       "9998  0.056279   0.0  1.000000   0.0  \n",
       "9999  0.000000   0.0  0.000000   1.0  \n",
       "\n",
       "[10000 rows x 10000 columns]"
      ]
     },
     "execution_count": 41,
     "metadata": {},
     "output_type": "execute_result"
    }
   ],
   "source": [
    "%%time\n",
    "# Use Pandas for better UI.\n",
    "pd.DataFrame(cosine_similarity(dt[0:10000], dt[0:10000]))"
   ]
  },
  {
   "cell_type": "markdown",
   "metadata": {
    "id": "T0ah9wCiEnU9"
   },
   "source": [
    "<a name='5.4.3'></a><a id='5.4.3'></a>\n",
    "## 5.4.3 Blueprint: Reducing Feature Dimensions\n",
    "<a href=\"#top\">[back to top]</a>\n",
    "\n",
    "We can optimize vectorization by removing unnecesary features when calculating similarities. "
   ]
  },
  {
   "cell_type": "markdown",
   "metadata": {
    "id": "EWcnzPrpEnU9"
   },
   "source": [
    "### Removing Stopwords\n",
    "\n",
    "This does not reduce the number of dimensions much, but it should drastically decrease the number of stored elements. "
   ]
  },
  {
   "cell_type": "code",
   "execution_count": 42,
   "metadata": {
    "colab": {
     "base_uri": "https://localhost:8080/"
    },
    "id": "XRKN0Ba86vXE",
    "outputId": "d1474138-c495-48dd-cdfe-85a17a390398"
   },
   "outputs": [
    {
     "name": "stdout",
     "output_type": "stream",
     "text": [
      "326\n"
     ]
    }
   ],
   "source": [
    "print(len(stopwords))"
   ]
  },
  {
   "cell_type": "code",
   "execution_count": 43,
   "metadata": {
    "colab": {
     "base_uri": "https://localhost:8080/"
    },
    "id": "QS7LyJZGEnU-",
    "outputId": "41e969e2-fc3a-4f77-cda0-44552724c9a3"
   },
   "outputs": [
    {
     "name": "stdout",
     "output_type": "stream",
     "text": [
      "Columns        20,000\n",
      "Rows           17,656\n",
      "Elements      102,004\n",
      "Bytes         816,032\n",
      "Gigabytes     0.00076\n"
     ]
    }
   ],
   "source": [
    "tfidf = TfidfVectorizer(stop_words=stopwords)\n",
    "dt = tfidf.fit_transform(headlines[\"headline_text\"])\n",
    "\n",
    "examine_matrix(dt, '5.4.3 stop_words=stopwords')"
   ]
  },
  {
   "cell_type": "code",
   "execution_count": 44,
   "metadata": {},
   "outputs": [
    {
     "data": {
      "image/png": "[encoded data removed]",
      "text/plain": [
       "<Figure size 640x480 with 1 Axes>"
      ]
     },
     "metadata": {},
     "output_type": "display_data"
    }
   ],
   "source": [
    "show(matrix_data)"
   ]
  },
  {
   "cell_type": "markdown",
   "metadata": {
    "id": "ASNLLAFcEnU-"
   },
   "source": [
    "### Minimum frequency\n",
    "\n",
    "Components can contribute only if both vectors have a nonzero value at the corresponding index. Hence, we can neglect all words occurring less than twice. \n",
    "\n",
    "`TfidfVectorizer` has a parameter called `min_df` for this."
   ]
  },
  {
   "cell_type": "code",
   "execution_count": 45,
   "metadata": {
    "colab": {
     "base_uri": "https://localhost:8080/"
    },
    "id": "cVWqhDDXEnU_",
    "outputId": "d81b224b-cb90-4e2c-ee8c-825f5892961f"
   },
   "outputs": [
    {
     "name": "stdout",
     "output_type": "stream",
     "text": [
      "Columns        20,000\n",
      "Rows            8,953\n",
      "Elements       93,301\n",
      "Bytes         746,408\n",
      "Gigabytes      0.0007\n"
     ]
    }
   ],
   "source": [
    "tfidf = TfidfVectorizer(stop_words=stopwords, min_df=2)\n",
    "dt = tfidf.fit_transform(headlines[\"headline_text\"])\n",
    "\n",
    "examine_matrix(dt, '5.4.3 stop_words=stopwords, min_df=2')"
   ]
  },
  {
   "cell_type": "code",
   "execution_count": 46,
   "metadata": {},
   "outputs": [
    {
     "data": {
      "image/png": "[encoded data removed]",
      "text/plain": [
       "<Figure size 640x480 with 1 Axes>"
      ]
     },
     "metadata": {},
     "output_type": "display_data"
    }
   ],
   "source": [
    "show(matrix_data)"
   ]
  },
  {
   "cell_type": "markdown",
   "metadata": {
    "id": "iFLN4bSREnU_"
   },
   "source": [
    "### Using min_df as a fraction"
   ]
  },
  {
   "cell_type": "code",
   "execution_count": 47,
   "metadata": {
    "colab": {
     "base_uri": "https://localhost:8080/"
    },
    "id": "TvK4HIUdEnU_",
    "outputId": "939a7bbb-e736-4c8c-82f5-113d9fafda9d"
   },
   "outputs": [
    {
     "name": "stdout",
     "output_type": "stream",
     "text": [
      "Columns        20,000\n",
      "Rows            8,953\n",
      "Elements       93,301\n",
      "Bytes         746,408\n",
      "Gigabytes      0.0007\n"
     ]
    }
   ],
   "source": [
    "tfidf = TfidfVectorizer(stop_words=stopwords, min_df=.0001)\n",
    "dt = tfidf.fit_transform(headlines[\"headline_text\"])\n",
    "\n",
    "examine_matrix(dt, '5.4.3 stop_words=stopwords, min_df=.0001')"
   ]
  },
  {
   "cell_type": "code",
   "execution_count": 48,
   "metadata": {},
   "outputs": [
    {
     "data": {
      "image/png": "[encoded data removed]",
      "text/plain": [
       "<Figure size 640x480 with 1 Axes>"
      ]
     },
     "metadata": {},
     "output_type": "display_data"
    }
   ],
   "source": [
    "show(matrix_data)"
   ]
  },
  {
   "cell_type": "markdown",
   "metadata": {
    "id": "3jJpACi2EnVA"
   },
   "source": [
    "### Maximum frequency\n",
    "\n",
    "We can use the `max_df` parameter to eliminate terms occurring too often in the corpus. Here we eliminate all words that appear in at least 10% of the headlines. \n",
    "\n",
    "We can see that a setting of 10% does not eliminate any words, implying our news headlines are very diverse."
   ]
  },
  {
   "cell_type": "code",
   "execution_count": 49,
   "metadata": {
    "colab": {
     "base_uri": "https://localhost:8080/"
    },
    "id": "6qMG3DrJEnVA",
    "outputId": "e3884e14-4f55-4406-cc64-63a49165588e"
   },
   "outputs": [
    {
     "name": "stdout",
     "output_type": "stream",
     "text": [
      "Columns        20,000\n",
      "Rows           17,656\n",
      "Elements      102,004\n",
      "Bytes         816,032\n",
      "Gigabytes     0.00076\n"
     ]
    }
   ],
   "source": [
    "tfidf = TfidfVectorizer(stop_words=stopwords, max_df=0.1)\n",
    "dt = tfidf.fit_transform(headlines[\"headline_text\"])\n",
    "\n",
    "examine_matrix(dt, '5.4.3 stop_words=stopwords, max_df=0.1')"
   ]
  },
  {
   "cell_type": "code",
   "execution_count": 50,
   "metadata": {},
   "outputs": [
    {
     "data": {
      "image/png": "[encoded data removed]",
      "text/plain": [
       "<Figure size 640x480 with 1 Axes>"
      ]
     },
     "metadata": {},
     "output_type": "display_data"
    }
   ],
   "source": [
    "show(matrix_data)"
   ]
  },
  {
   "cell_type": "markdown",
   "metadata": {
    "id": "lynVdCDbEnVB"
   },
   "source": [
    "### n-grams"
   ]
  },
  {
   "cell_type": "code",
   "execution_count": 51,
   "metadata": {
    "colab": {
     "base_uri": "https://localhost:8080/"
    },
    "id": "JEqbU97YEnVB",
    "outputId": "e083c520-6e3f-4f99-8439-a04c96b1cde1"
   },
   "outputs": [
    {
     "name": "stdout",
     "output_type": "stream",
     "text": [
      "Columns        20,000\n",
      "Rows           14,186\n",
      "Elements      109,548\n",
      "Bytes         876,384\n",
      "Gigabytes     0.00082\n"
     ]
    }
   ],
   "source": [
    "tfidf = TfidfVectorizer(stop_words=stopwords, ngram_range=(1,2), min_df=2)\n",
    "dt = tfidf.fit_transform(headlines[\"headline_text\"])\n",
    "\n",
    "examine_matrix(dt, '5.4.3 stop_words=stopwords, ngram_range=(1,2), min_df=2')"
   ]
  },
  {
   "cell_type": "code",
   "execution_count": 52,
   "metadata": {},
   "outputs": [
    {
     "data": {
      "image/png": "[encoded data removed]",
      "text/plain": [
       "<Figure size 640x480 with 1 Axes>"
      ]
     },
     "metadata": {},
     "output_type": "display_data"
    }
   ],
   "source": [
    "show(matrix_data)"
   ]
  },
  {
   "cell_type": "code",
   "execution_count": 53,
   "metadata": {
    "colab": {
     "base_uri": "https://localhost:8080/"
    },
    "id": "xFjomsON6vXH",
    "outputId": "e0605c9e-1930-4b83-9182-d5767b0cae87"
   },
   "outputs": [
    {
     "name": "stdout",
     "output_type": "stream",
     "text": [
      "Columns        20,000\n",
      "Rows           14,773\n",
      "Elements      111,072\n",
      "Bytes         888,576\n",
      "Gigabytes     0.00083\n"
     ]
    }
   ],
   "source": [
    "tfidf = TfidfVectorizer(stop_words=stopwords, ngram_range=(1,3), min_df=2)\n",
    "dt = tfidf.fit_transform(headlines[\"headline_text\"])\n",
    "\n",
    "examine_matrix(dt, '5.4.3 stop_words=stopwords, ngram_range=(1,3), min_df=2')"
   ]
  },
  {
   "cell_type": "code",
   "execution_count": 54,
   "metadata": {},
   "outputs": [
    {
     "data": {
      "image/png": "[encoded data removed]",
      "text/plain": [
       "<Figure size 640x480 with 1 Axes>"
      ]
     },
     "metadata": {},
     "output_type": "display_data"
    }
   ],
   "source": [
    "show(matrix_data)"
   ]
  },
  {
   "cell_type": "markdown",
   "metadata": {
    "id": "c7LRy59EEnVC"
   },
   "source": [
    "<a name='5.4.4'></a><a id='5.4.4'></a>\n",
    "## 5.4.4 Blueprint: Improving Features by Making Them More Specific\n",
    "<a href=\"#top\">[back to top]</a>\n",
    "\n",
    "Up to now, we have used the original headline words, and reduced the number of dimensions by stop words and counting frequencies. \n",
    "\n",
    "However, we have not changed the features themselves. Next, we can use linguistic analysis for more possibilities. "
   ]
  },
  {
   "cell_type": "markdown",
   "metadata": {
    "id": "wem_EC6oEnVD"
   },
   "source": [
    "### Lemmas\n",
    "\n",
    "Using spaCy, we can lemmatize all headlines and keep only the lemmas. This results in a smaller vocabulary. \n",
    "\n",
    "First, we have to perform a linguistic analysis. "
   ]
  },
  {
   "cell_type": "markdown",
   "metadata": {
    "id": "Pz7NPHzw6vXJ"
   },
   "source": [
    "---\n",
    "Pandas Note: `headlines.at`\n",
    "\n",
    "Access a single value for a row/column label pair.\n",
    "\n",
    "Similar to `loc`, in that both provide label-based lookups. \n",
    "\n",
    "Use `at` if you only need to get or set a single value in a DataFrame\n",
    "or Series.\n",
    "\n",
    "\n",
    "    .loc can take multiple rows and columns as input arguments\n",
    "    .at can only take one row and one column as input arguments\n",
    "\n",
    "    DataFrame.at: Access a single value for a row/column pair by label.\n",
    "    DataFrame.iat: Access a single value for a row/column pair by integer position.\n",
    "    DataFrame.loc: Access a group of rows and columns by label(s).\n",
    "    DataFrame.iloc: Access a group of rows and columns by integer position(s)."
   ]
  },
  {
   "cell_type": "code",
   "execution_count": 55,
   "metadata": {
    "colab": {
     "base_uri": "https://localhost:8080/",
     "height": 87,
     "referenced_widgets": [
      "eba48a5bee944f84a9b16082d5030461",
      "87785a8da7f646258112305ee2e7b72c",
      "5025cdb245e0423bae591e87876c71c8",
      "ba3211a0f9c142c8b6964d6e1d8cadd4",
      "d0be4f7944704370a5e0ed583ba9d284",
      "5480f9aa36324c2eb2fabb066ee5b447",
      "7a74ebaed3dc4c5f94a0d76010520439",
      "c94d9628e433429e9b28542cf1e85b34",
      "0f44d96bef66428db1255b1b0b3de73c",
      "d2dca0decedb4adb9b67ad5a8a99659c",
      "55a97e564c334527b59165e5799cf597"
     ]
    },
    "id": "WDKzd_pPEnVD",
    "outputId": "9de747ee-5173-422c-f5c5-7b85da237169"
   },
   "outputs": [
    {
     "data": {
      "application/vnd.jupyter.widget-view+json": {
       "model_id": "199663332de04a63ac0f1084d7468d52",
       "version_major": 2,
       "version_minor": 0
      },
      "text/plain": [
       "  0%|          | 0/20000 [00:00<?, ?it/s]"
      ]
     },
     "metadata": {},
     "output_type": "display_data"
    },
    {
     "name": "stdout",
     "output_type": "stream",
     "text": [
      "CPU times: user 3min, sys: 4.68 s, total: 3min 4s\n",
      "Wall time: 3min 29s\n"
     ]
    }
   ],
   "source": [
    "%%time\n",
    "# This takes a long time to run!\n",
    "\n",
    "nlp = spacy.load(\"en_core_web_sm\")\n",
    "\n",
    "nouns_adjectives_verbs = [\"NOUN\", \"PROPN\", \"ADJ\", \"ADV\", \"VERB\"]\n",
    "\n",
    "for i, row in tqdm(headlines.iterrows(), total=len(headlines)):\n",
    "    doc = nlp(str(row[\"headline_text\"]))\n",
    "    headlines.at[i, \"lemmas\"] = \" \".join([token.lemma_ for token in doc])\n",
    "    headlines.at[i, \"nav\"] = \" \".join([token.lemma_ for token in doc if token.pos_ in nouns_adjectives_verbs])"
   ]
  },
  {
   "cell_type": "code",
   "execution_count": 56,
   "metadata": {
    "colab": {
     "base_uri": "https://localhost:8080/",
     "height": 206
    },
    "id": "Y_vC0WJI6vXK",
    "outputId": "9bd5ea85-dbfd-4e3e-952b-658ee90ca976"
   },
   "outputs": [
    {
     "data": {
      "text/html": [
       "<div>\n",
       "<style scoped>\n",
       "    .dataframe tbody tr th:only-of-type {\n",
       "        vertical-align: middle;\n",
       "    }\n",
       "\n",
       "    .dataframe tbody tr th {\n",
       "        vertical-align: top;\n",
       "    }\n",
       "\n",
       "    .dataframe thead th {\n",
       "        text-align: right;\n",
       "    }\n",
       "</style>\n",
       "<table border=\"1\" class=\"dataframe\">\n",
       "  <thead>\n",
       "    <tr style=\"text-align: right;\">\n",
       "      <th></th>\n",
       "      <th>lemmas</th>\n",
       "      <th>headline_text</th>\n",
       "      <th>nav</th>\n",
       "    </tr>\n",
       "  </thead>\n",
       "  <tbody>\n",
       "    <tr>\n",
       "      <th>417419</th>\n",
       "      <td>rabbit invade mandela museum island</td>\n",
       "      <td>rabbits invade mandela museum island</td>\n",
       "      <td>rabbit invade mandela museum island</td>\n",
       "    </tr>\n",
       "    <tr>\n",
       "      <th>595984</th>\n",
       "      <td>ambrose daytona dream bring to halt</td>\n",
       "      <td>ambroses daytona dream brought to halt</td>\n",
       "      <td>ambrose daytona dream bring halt</td>\n",
       "    </tr>\n",
       "    <tr>\n",
       "      <th>280113</th>\n",
       "      <td>port augusta violence</td>\n",
       "      <td>port augusta violence</td>\n",
       "      <td>port augusta violence</td>\n",
       "    </tr>\n",
       "    <tr>\n",
       "      <th>4743</th>\n",
       "      <td>policeman find not guilty of rape</td>\n",
       "      <td>policeman found not guilty of rape</td>\n",
       "      <td>policeman find guilty rape</td>\n",
       "    </tr>\n",
       "    <tr>\n",
       "      <th>563506</th>\n",
       "      <td>no collusion in militant prison murder</td>\n",
       "      <td>no collusion in militants prison murder</td>\n",
       "      <td>collusion militant prison murder</td>\n",
       "    </tr>\n",
       "  </tbody>\n",
       "</table>\n",
       "</div>"
      ],
      "text/plain": [
       "                                        lemmas  \\\n",
       "417419     rabbit invade mandela museum island   \n",
       "595984     ambrose daytona dream bring to halt   \n",
       "280113                   port augusta violence   \n",
       "4743         policeman find not guilty of rape   \n",
       "563506  no collusion in militant prison murder   \n",
       "\n",
       "                                  headline_text  \\\n",
       "417419     rabbits invade mandela museum island   \n",
       "595984   ambroses daytona dream brought to halt   \n",
       "280113                    port augusta violence   \n",
       "4743         policeman found not guilty of rape   \n",
       "563506  no collusion in militants prison murder   \n",
       "\n",
       "                                        nav  \n",
       "417419  rabbit invade mandela museum island  \n",
       "595984     ambrose daytona dream bring halt  \n",
       "280113                port augusta violence  \n",
       "4743             policeman find guilty rape  \n",
       "563506     collusion militant prison murder  "
      ]
     },
     "execution_count": 56,
     "metadata": {},
     "output_type": "execute_result"
    }
   ],
   "source": [
    "# Compare\n",
    "headlines[[\"lemmas\", \"headline_text\", \"nav\"]].head()"
   ]
  },
  {
   "cell_type": "code",
   "execution_count": 57,
   "metadata": {
    "colab": {
     "base_uri": "https://localhost:8080/"
    },
    "id": "4z7yFq0TCPWP",
    "outputId": "8469518f-5e1d-4420-b243-13f58d77c254"
   },
   "outputs": [
    {
     "name": "stdout",
     "output_type": "stream",
     "text": [
      "-rw-r--r--  1 gpb  staff  2664322 11  2 16:28 headlines_lemma.csv\n",
      "-rw-r--r--  1 gpb  staff  2743798 11  2 16:28 headlines_lemma.pkl\n"
     ]
    }
   ],
   "source": [
    "headlines.to_csv('headlines_lemma.csv')\n",
    "headlines.to_pickle(\"headlines_lemma.pkl\")\n",
    "!ls -l *.csv\n",
    "!ls -l *.pkl"
   ]
  },
  {
   "cell_type": "markdown",
   "metadata": {
    "id": "mlshJ9HhEnVE"
   },
   "source": [
    "<a name='5.4.5'></a><a id='5.4.5'></a>\n",
    "## 5.4.5 Blueprint: Using Lemmas Instead of Words for Vectorizing Documents\n",
    "<a href=\"#top\">[back to top]</a>\n",
    "\n",
    "After the previous linguistic analysis, we can vectorize the data using the lemmas, and see how the vocabulary decreased. "
   ]
  },
  {
   "cell_type": "code",
   "execution_count": 58,
   "metadata": {
    "colab": {
     "base_uri": "https://localhost:8080/"
    },
    "id": "jB2VRcIeEnVE",
    "outputId": "9109cda9-5280-453e-ea6b-8dca0cad17d8"
   },
   "outputs": [
    {
     "name": "stdout",
     "output_type": "stream",
     "text": [
      "Columns        20,000\n",
      "Rows           14,427\n",
      "Elements      100,294\n",
      "Bytes         802,352\n",
      "Gigabytes     0.00075\n"
     ]
    }
   ],
   "source": [
    "tfidf = TfidfVectorizer(stop_words=stopwords)\n",
    "dt = tfidf.fit_transform(headlines[\"lemmas\"].map(str))\n",
    "\n",
    "examine_matrix(dt, '5.4.5 stop_words=stopwords, headlines[\"lemmas\"]')"
   ]
  },
  {
   "cell_type": "code",
   "execution_count": 59,
   "metadata": {},
   "outputs": [
    {
     "data": {
      "image/png": "[encoded data removed]",
      "text/plain": [
       "<Figure size 640x480 with 1 Axes>"
      ]
     },
     "metadata": {},
     "output_type": "display_data"
    }
   ],
   "source": [
    "show(matrix_data)"
   ]
  },
  {
   "cell_type": "markdown",
   "metadata": {
    "id": "gf7rZAz7EnVF"
   },
   "source": [
    "<a name='5.4.6'></a><a id='5.4.6'></a>\n",
    "## 5.4.6 Blueprint: Limit Word Types\n",
    "<a href=\"#top\">[back to top]</a>\n",
    "\n",
    "With our data now, we can restrict operations to just nouns, adjectives and verbs for vectorization. This assumes prepositions, conjugations, etc carry little meaning. "
   ]
  },
  {
   "cell_type": "code",
   "execution_count": 60,
   "metadata": {
    "colab": {
     "base_uri": "https://localhost:8080/"
    },
    "id": "-05vutk4EnVF",
    "outputId": "1bc18193-5da5-4081-e57d-c7ca153275d8"
   },
   "outputs": [
    {
     "name": "stdout",
     "output_type": "stream",
     "text": [
      "Columns        20,000\n",
      "Rows           14,030\n",
      "Elements       98,402\n",
      "Bytes         787,216\n",
      "Gigabytes     0.00073\n"
     ]
    }
   ],
   "source": [
    "tfidf = TfidfVectorizer(stop_words=stopwords)\n",
    "dt = tfidf.fit_transform(headlines[\"nav\"].map(str))\n",
    "\n",
    "examine_matrix(dt, '5.4.6 stop_words=stopwords, headlines[\"nav\"]')"
   ]
  },
  {
   "cell_type": "code",
   "execution_count": 61,
   "metadata": {},
   "outputs": [
    {
     "data": {
      "image/png": "[encoded data removed]",
      "text/plain": [
       "<Figure size 640x480 with 1 Axes>"
      ]
     },
     "metadata": {},
     "output_type": "display_data"
    }
   ],
   "source": [
    "show(matrix_data)"
   ]
  },
  {
   "cell_type": "markdown",
   "metadata": {
    "id": "8iTGKbTsEnVF"
   },
   "source": [
    "<a name='5.4.7'></a><a id='5.4.7'></a>\n",
    "## 5.4.7 Blueprint: Remove Most Common Words\n",
    "<a href=\"#top\">[back to top]</a>\n",
    "\n",
    "We can try removing the most common English words via a list from Google. "
   ]
  },
  {
   "cell_type": "markdown",
   "metadata": {
    "id": "LoBJ2sESEnVG"
   },
   "source": [
    "### remove top 10,000"
   ]
  },
  {
   "cell_type": "markdown",
   "metadata": {},
   "source": [
    "<a id='google-10000-english.txt'></a><a name='google-10000-english.txt'></a>\n",
    "### Dataset: google-10000-english.txt\n",
    "<a href=\"#top\">[back to top]</a>"
   ]
  },
  {
   "cell_type": "code",
   "execution_count": 62,
   "metadata": {
    "colab": {
     "base_uri": "https://localhost:8080/"
    },
    "id": "uNRaMzt96vXM",
    "outputId": "0423b191-f158-4c02-cfcf-83768f593ab5"
   },
   "outputs": [
    {
     "name": "stdout",
     "output_type": "stream",
     "text": [
      "-rw-r--r--  1 gpb  staff  75888 11  2 16:28 google-10000-english.txt\n"
     ]
    }
   ],
   "source": [
    "google_10k_file = 'google-10000-english.txt'\n",
    "!wget -nc -q https://raw.githubusercontent.com/first20hours/google-10000-english/master/google-10000-english.txt\n",
    "!ls -l {google_10k_file}"
   ]
  },
  {
   "cell_type": "code",
   "execution_count": 63,
   "metadata": {
    "colab": {
     "base_uri": "https://localhost:8080/",
     "height": 175
    },
    "id": "IR7Wk0y3EnVG",
    "outputId": "ef6de70d-65f9-4b7e-9ae0-b8b69a30e919"
   },
   "outputs": [
    {
     "data": {
      "text/html": [
       "<div>\n",
       "<style scoped>\n",
       "    .dataframe tbody tr th:only-of-type {\n",
       "        vertical-align: middle;\n",
       "    }\n",
       "\n",
       "    .dataframe tbody tr th {\n",
       "        vertical-align: top;\n",
       "    }\n",
       "\n",
       "    .dataframe thead th {\n",
       "        text-align: right;\n",
       "    }\n",
       "</style>\n",
       "<table border=\"1\" class=\"dataframe\">\n",
       "  <thead>\n",
       "    <tr style=\"text-align: right;\">\n",
       "      <th></th>\n",
       "      <th>0</th>\n",
       "    </tr>\n",
       "  </thead>\n",
       "  <tbody>\n",
       "    <tr>\n",
       "      <th>count</th>\n",
       "      <td>9999</td>\n",
       "    </tr>\n",
       "    <tr>\n",
       "      <th>unique</th>\n",
       "      <td>9999</td>\n",
       "    </tr>\n",
       "    <tr>\n",
       "      <th>top</th>\n",
       "      <td>the</td>\n",
       "    </tr>\n",
       "    <tr>\n",
       "      <th>freq</th>\n",
       "      <td>1</td>\n",
       "    </tr>\n",
       "  </tbody>\n",
       "</table>\n",
       "</div>"
      ],
      "text/plain": [
       "           0\n",
       "count   9999\n",
       "unique  9999\n",
       "top      the\n",
       "freq       1"
      ]
     },
     "execution_count": 63,
     "metadata": {},
     "output_type": "execute_result"
    }
   ],
   "source": [
    "top_10000 = pd.read_csv(google_10k_file, header=None)\n",
    "\n",
    "top_10000.describe()"
   ]
  },
  {
   "cell_type": "code",
   "execution_count": 64,
   "metadata": {
    "colab": {
     "base_uri": "https://localhost:8080/",
     "height": 143
    },
    "id": "UVYtIOF5EnVG",
    "outputId": "1e27a4ca-5d38-4b38-ebb1-74e95ea16bc1"
   },
   "outputs": [
    {
     "data": {
      "text/html": [
       "<div>\n",
       "<style scoped>\n",
       "    .dataframe tbody tr th:only-of-type {\n",
       "        vertical-align: middle;\n",
       "    }\n",
       "\n",
       "    .dataframe tbody tr th {\n",
       "        vertical-align: top;\n",
       "    }\n",
       "\n",
       "    .dataframe thead th {\n",
       "        text-align: right;\n",
       "    }\n",
       "</style>\n",
       "<table border=\"1\" class=\"dataframe\">\n",
       "  <thead>\n",
       "    <tr style=\"text-align: right;\">\n",
       "      <th></th>\n",
       "      <th>0</th>\n",
       "    </tr>\n",
       "  </thead>\n",
       "  <tbody>\n",
       "    <tr>\n",
       "      <th>5565</th>\n",
       "      <td>arrangement</td>\n",
       "    </tr>\n",
       "    <tr>\n",
       "      <th>4245</th>\n",
       "      <td>blind</td>\n",
       "    </tr>\n",
       "    <tr>\n",
       "      <th>8822</th>\n",
       "      <td>yeast</td>\n",
       "    </tr>\n",
       "  </tbody>\n",
       "</table>\n",
       "</div>"
      ],
      "text/plain": [
       "                0\n",
       "5565  arrangement\n",
       "4245        blind\n",
       "8822        yeast"
      ]
     },
     "execution_count": 64,
     "metadata": {},
     "output_type": "execute_result"
    }
   ],
   "source": [
    "top_10000.sample(3)"
   ]
  },
  {
   "cell_type": "code",
   "execution_count": 65,
   "metadata": {
    "colab": {
     "base_uri": "https://localhost:8080/"
    },
    "id": "YEjE37jCEnVH",
    "outputId": "08b0688f-5327-4b48-8f4e-a890faa65e24"
   },
   "outputs": [
    {
     "name": "stdout",
     "output_type": "stream",
     "text": [
      "Columns        20,000\n",
      "Rows            9,359\n",
      "Elements       24,447\n",
      "Bytes         195,576\n",
      "Gigabytes     0.00018\n"
     ]
    }
   ],
   "source": [
    "tfidf = TfidfVectorizer(\n",
    "    stop_words=list(set(top_10000.iloc[:,0].values))\n",
    ")\n",
    "dt = tfidf.fit_transform(headlines[\"nav\"].map(str))\n",
    "\n",
    "examine_matrix(dt, '5.4.7 remove top 10K, headlines[\"nav\"]')"
   ]
  },
  {
   "cell_type": "code",
   "execution_count": 66,
   "metadata": {},
   "outputs": [
    {
     "data": {
      "image/png": "[encoded data removed]",
      "text/plain": [
       "<Figure size 640x480 with 1 Axes>"
      ]
     },
     "metadata": {},
     "output_type": "display_data"
    }
   ],
   "source": [
    "show(matrix_data)"
   ]
  },
  {
   "cell_type": "markdown",
   "metadata": {
    "id": "jiIhmrurEnVH"
   },
   "source": [
    "<a name='5.4.8'></a><a id='5.4.8'></a>\n",
    "## 5.4.8 Blueprint: Adding Context via N-Grams\n",
    "<a href=\"#top\">[back to top]</a>\n",
    "\n",
    "Up to now, we have only used single words as features as the basis for our vectorization. In this strategy, we have lost a lot of context information.\n",
    "\n",
    "Here, we use a simple method to represent word combinations, called *n-grams*. "
   ]
  },
  {
   "cell_type": "markdown",
   "metadata": {},
   "source": [
    "### bigrams"
   ]
  },
  {
   "cell_type": "code",
   "execution_count": 67,
   "metadata": {
    "colab": {
     "base_uri": "https://localhost:8080/"
    },
    "id": "_NY2wHrCEnVH",
    "outputId": "4cac31e4-0780-4291-d867-e2838f766d86"
   },
   "outputs": [
    {
     "name": "stdout",
     "output_type": "stream",
     "text": [
      "Bigrams\n",
      "Columns        20,000\n",
      "Rows           14,186\n",
      "Elements      109,548\n",
      "Bytes         876,384\n",
      "Gigabytes     0.00082\n"
     ]
    }
   ],
   "source": [
    "tfidf = TfidfVectorizer(stop_words=stopwords, ngram_range=(1,2), min_df=2) \n",
    "dt = tfidf.fit_transform(headlines[\"headline_text\"])\n",
    "print(\"Bigrams\")\n",
    "\n",
    "examine_matrix(dt, '5.4.8 stop_words=stopwords, ngram_range=(1,2), min_df=2')"
   ]
  },
  {
   "cell_type": "code",
   "execution_count": 68,
   "metadata": {},
   "outputs": [
    {
     "data": {
      "image/png": "[encoded data removed]",
      "text/plain": [
       "<Figure size 640x480 with 1 Axes>"
      ]
     },
     "metadata": {},
     "output_type": "display_data"
    }
   ],
   "source": [
    "show(matrix_data)"
   ]
  },
  {
   "cell_type": "markdown",
   "metadata": {},
   "source": [
    "### trigrams"
   ]
  },
  {
   "cell_type": "code",
   "execution_count": 69,
   "metadata": {
    "colab": {
     "base_uri": "https://localhost:8080/"
    },
    "id": "zysJeA-56vXQ",
    "outputId": "916f0c60-65c1-44e7-8da6-003cc86e5a96"
   },
   "outputs": [
    {
     "name": "stdout",
     "output_type": "stream",
     "text": [
      "Trigrams\n",
      "Columns        20,000\n",
      "Rows           14,773\n",
      "Elements      111,072\n",
      "Bytes         888,576\n",
      "Gigabytes     0.00083\n"
     ]
    }
   ],
   "source": [
    "tfidf = TfidfVectorizer(stop_words=stopwords, ngram_range=(1,3), min_df=2) \n",
    "dt = tfidf.fit_transform(headlines[\"headline_text\"])\n",
    "print(\"Trigrams\")\n",
    "\n",
    "examine_matrix(dt, '5.4.8 stop_words=stopwords, ngram_range=(1,3), min_df=2')"
   ]
  },
  {
   "cell_type": "code",
   "execution_count": 70,
   "metadata": {},
   "outputs": [
    {
     "data": {
      "image/png": "[encoded data removed]",
      "text/plain": [
       "<Figure size 640x480 with 1 Axes>"
      ]
     },
     "metadata": {},
     "output_type": "display_data"
    }
   ],
   "source": [
    "show(matrix_data)"
   ]
  },
  {
   "cell_type": "markdown",
   "metadata": {},
   "source": [
    "### bigrams with linguistic features (nav)"
   ]
  },
  {
   "cell_type": "markdown",
   "metadata": {
    "id": "qgGhaYN56vXR"
   },
   "source": [
    "Combining n-grams with linguistic features and common words is also possible and reduces the vocabulary size considerably."
   ]
  },
  {
   "cell_type": "code",
   "execution_count": 71,
   "metadata": {
    "colab": {
     "base_uri": "https://localhost:8080/"
    },
    "id": "bwur6k_T6vXS",
    "outputId": "8d9b339f-4691-4feb-cdc7-a63a425285b9"
   },
   "outputs": [
    {
     "name": "stdout",
     "output_type": "stream",
     "text": [
      "Bigrams and Stopwords\n",
      "Columns        20,000\n",
      "Rows           18,488\n",
      "Elements       33,889\n",
      "Bytes         271,112\n",
      "Gigabytes     0.00025\n"
     ]
    }
   ],
   "source": [
    "tfidf = TfidfVectorizer(\n",
    "    ngram_range=(1,2),\n",
    "    stop_words=list(set(top_10000.iloc[:,0].values))\n",
    ")\n",
    "dt = tfidf.fit_transform(headlines[\"nav\"].map(str))\n",
    "\n",
    "print(\"Bigrams and Stopwords\")\n",
    "\n",
    "examine_matrix(dt, '5.4.8 ngram_range=(1,2), headlines[\"nav\"]')"
   ]
  },
  {
   "cell_type": "code",
   "execution_count": 72,
   "metadata": {},
   "outputs": [
    {
     "data": {
      "image/png": "[encoded data removed]",
      "text/plain": [
       "<Figure size 640x480 with 1 Axes>"
      ]
     },
     "metadata": {},
     "output_type": "display_data"
    }
   ],
   "source": [
    "show(matrix_data)"
   ]
  },
  {
   "cell_type": "markdown",
   "metadata": {
    "id": "4ky07-SpEnVI"
   },
   "source": [
    "<a name='5.5'></a><a id='5.5'></a>\n",
    "# 5.5 Syntactic Similarity in the ABC Dataset\n",
    "<a href=\"#top\">[back to top]</a>\n",
    "\n",
    "*Similarity* is one of the most basic concepts in machine learning and text analytics. Here we explore the more difficult problems finding similar documents in the ABC dataset. \n",
    "\n",
    "First, vectorize the dataset using stop words and bigrams. "
   ]
  },
  {
   "cell_type": "code",
   "execution_count": 73,
   "metadata": {
    "colab": {
     "base_uri": "https://localhost:8080/"
    },
    "id": "ZcbqzJLaEnVI",
    "outputId": "b776c352-7c6e-441e-c9e1-0e491fa0d575"
   },
   "outputs": [
    {
     "name": "stdout",
     "output_type": "stream",
     "text": [
      "Columns        20,000\n",
      "Rows           14,170\n",
      "Elements      109,428\n",
      "Bytes         875,424\n",
      "Gigabytes     0.00082\n"
     ]
    }
   ],
   "source": [
    "stopwords.append(\"test\")\n",
    "\n",
    "tfidf = TfidfVectorizer(\n",
    "    stop_words=stopwords, \n",
    "    min_df=2,\n",
    "    ngram_range=(1,2),\n",
    "    norm='l2'\n",
    ")\n",
    "\n",
    "dt = tfidf.fit_transform(headlines[\"headline_text\"].map(str))\n",
    "\n",
    "examine_matrix(dt, '5.5 headline_text, norm=l2')"
   ]
  },
  {
   "cell_type": "code",
   "execution_count": 74,
   "metadata": {},
   "outputs": [
    {
     "data": {
      "image/png": "[encoded data removed]",
      "text/plain": [
       "<Figure size 640x480 with 1 Axes>"
      ]
     },
     "metadata": {},
     "output_type": "display_data"
    }
   ],
   "source": [
    "show(matrix_data)"
   ]
  },
  {
   "cell_type": "markdown",
   "metadata": {
    "id": "tt915xjL6vXT"
   },
   "source": [
    "<a name='5.5.1'></a><a id='5.5.1'></a>\n",
    "## 5.5.1 Blueprint: Finding Most Similar Headlines to a Made-up Headline\n",
    "<a href=\"#top\">[back to top]</a>\n",
    "\n",
    "To search for a headline, we just have to vectorize our new document-query. "
   ]
  },
  {
   "cell_type": "code",
   "execution_count": 75,
   "metadata": {
    "colab": {
     "base_uri": "https://localhost:8080/"
    },
    "id": "3M6k0Yu_EnVP",
    "outputId": "242882ba-c331-4e8c-fbfd-15364ecf5ee1"
   },
   "outputs": [
    {
     "name": "stdout",
     "output_type": "stream",
     "text": [
      "australia and new zealand discuss optimal apple size\n",
      "----------------------------------------\n"
     ]
    },
    {
     "data": {
      "text/plain": [
       "<Compressed Sparse Row sparse matrix of dtype 'float64'\n",
       "\twith 7 stored elements and shape (1, 14170)>"
      ]
     },
     "execution_count": 75,
     "metadata": {},
     "output_type": "execute_result"
    }
   ],
   "source": [
    "query = \"australia and new zealand discuss optimal apple size\"\n",
    "print(query)\n",
    "HR()\n",
    "\n",
    "made_up = tfidf.transform([query])\n",
    "made_up"
   ]
  },
  {
   "cell_type": "code",
   "execution_count": 76,
   "metadata": {
    "colab": {
     "base_uri": "https://localhost:8080/"
    },
    "id": "5ifqekDREnVQ",
    "outputId": "1a3342df-fe77-4051-be67-f958728ea9d3"
   },
   "outputs": [
    {
     "data": {
      "text/plain": [
       "{'_shape': (1, 14170),\n",
       " 'maxprint': 50,\n",
       " 'indices': array([14159, 11659,  8647,  8568,  3735,  1002,   746], dtype=int32),\n",
       " 'indptr': array([0, 7], dtype=int32),\n",
       " 'data': array([0.39721463, 0.46974746, 0.39721463, 0.23423646, 0.38642005,\n",
       "        0.27345924, 0.42989681])}"
      ]
     },
     "execution_count": 76,
     "metadata": {},
     "output_type": "execute_result"
    }
   ],
   "source": [
    "made_up.__dict__"
   ]
  },
  {
   "cell_type": "code",
   "execution_count": 77,
   "metadata": {
    "colab": {
     "base_uri": "https://localhost:8080/"
    },
    "id": "zppUA430EnVQ",
    "outputId": "ae7a1e44-f05d-49fa-9830-4624b8fb94ba"
   },
   "outputs": [
    {
     "name": "stdout",
     "output_type": "stream",
     "text": [
      "<Compressed Sparse Row sparse matrix of dtype 'float64'\n",
      "\twith 7 stored elements and shape (1, 14170)>\n",
      "  Coords\tValues\n",
      "  (0, 14159)\t0.3972146311181544\n",
      "  (0, 11659)\t0.4697474564275784\n",
      "  (0, 8647)\t0.3972146311181544\n",
      "  (0, 8568)\t0.23423645990495875\n",
      "  (0, 3735)\t0.386420052377635\n",
      "  (0, 1002)\t0.2734592363465938\n",
      "  (0, 746)\t0.42989681420028414\n"
     ]
    }
   ],
   "source": [
    "for x in made_up:\n",
    "    print(x)"
   ]
  },
  {
   "cell_type": "markdown",
   "metadata": {
    "id": "6pGiqbCu6vXU"
   },
   "source": [
    "We need to calculate the cosine similarity to each headline in the corpus. We can use `cosine_similarity` for this."
   ]
  },
  {
   "cell_type": "code",
   "execution_count": 78,
   "metadata": {
    "id": "9XpFIwzsEnVR"
   },
   "outputs": [],
   "source": [
    "sim = cosine_similarity(made_up, dt)"
   ]
  },
  {
   "cell_type": "markdown",
   "metadata": {
    "id": "DbeKLvET6vXU"
   },
   "source": [
    "The result is a number of headlines in the corpus x 1 matrix, where each number represents the similarity to a document in the corpus. Using `np.argmax` gives us the index of the most similar document."
   ]
  },
  {
   "cell_type": "code",
   "execution_count": 79,
   "metadata": {
    "colab": {
     "base_uri": "https://localhost:8080/"
    },
    "id": "_2B_fJrjEnVR",
    "outputId": "a1cd9767-bfa1-4275-ecde-a1d343b6c956"
   },
   "outputs": [
    {
     "data": {
      "text/plain": [
       "array([0.        , 0.        , 0.        , ..., 0.        , 0.04569349,\n",
       "       0.        ])"
      ]
     },
     "execution_count": 79,
     "metadata": {},
     "output_type": "execute_result"
    }
   ],
   "source": [
    "sim[0]"
   ]
  },
  {
   "cell_type": "code",
   "execution_count": 80,
   "metadata": {
    "colab": {
     "base_uri": "https://localhost:8080/",
     "height": 206
    },
    "id": "YM5_42a-EnVR",
    "outputId": "1f812dc8-8b69-474b-8cbf-c089ff092008"
   },
   "outputs": [
    {
     "data": {
      "text/html": [
       "<div>\n",
       "<style scoped>\n",
       "    .dataframe tbody tr th:only-of-type {\n",
       "        vertical-align: middle;\n",
       "    }\n",
       "\n",
       "    .dataframe tbody tr th {\n",
       "        vertical-align: top;\n",
       "    }\n",
       "\n",
       "    .dataframe thead th {\n",
       "        text-align: right;\n",
       "    }\n",
       "</style>\n",
       "<table border=\"1\" class=\"dataframe\">\n",
       "  <thead>\n",
       "    <tr style=\"text-align: right;\">\n",
       "      <th></th>\n",
       "      <th>publish_date</th>\n",
       "      <th>lemmas</th>\n",
       "    </tr>\n",
       "  </thead>\n",
       "  <tbody>\n",
       "    <tr>\n",
       "      <th>331688</th>\n",
       "      <td>2007-09-18</td>\n",
       "      <td>new zealand police spokeswoman noreen higgerty</td>\n",
       "    </tr>\n",
       "    <tr>\n",
       "      <th>959078</th>\n",
       "      <td>2015-06-10</td>\n",
       "      <td>new zealand young farmer</td>\n",
       "    </tr>\n",
       "    <tr>\n",
       "      <th>780034</th>\n",
       "      <td>2013-04-18</td>\n",
       "      <td>kangaroo take on new zealand in anzac test</td>\n",
       "    </tr>\n",
       "    <tr>\n",
       "      <th>546062</th>\n",
       "      <td>2010-06-23</td>\n",
       "      <td>new zealand maori topple england</td>\n",
       "    </tr>\n",
       "    <tr>\n",
       "      <th>958952</th>\n",
       "      <td>2015-06-10</td>\n",
       "      <td>competitive new zealand wine industry</td>\n",
       "    </tr>\n",
       "  </tbody>\n",
       "</table>\n",
       "</div>"
      ],
      "text/plain": [
       "       publish_date                                          lemmas\n",
       "331688   2007-09-18  new zealand police spokeswoman noreen higgerty\n",
       "959078   2015-06-10                        new zealand young farmer\n",
       "780034   2013-04-18      kangaroo take on new zealand in anzac test\n",
       "546062   2010-06-23                new zealand maori topple england\n",
       "958952   2015-06-10           competitive new zealand wine industry"
      ]
     },
     "execution_count": 80,
     "metadata": {},
     "output_type": "execute_result"
    }
   ],
   "source": [
    "# Get the top-5\n",
    "headlines.iloc[np.argsort(sim[0])[::-1][0:5]][[\"publish_date\", \"lemmas\"]]"
   ]
  },
  {
   "cell_type": "markdown",
   "metadata": {
    "id": "oV0KXU4r6vXV"
   },
   "source": [
    "<a name='5.5.2'></a><a id='5.5.2'></a>\n",
    "## 5.5.2 Blueprint: Finding the Two Most Similar Documents in a Large Corpus (Much More Difficult)\n",
    "<a href=\"#top\">[back to top]</a>\n",
    "\n",
    "We want to search for duplicates in this corpus. We cannot simply calculate the `cosine_similarity` between all documents anymore, because of the larger size of the dataset. \n",
    "\n",
    "Instead, we use other optimizations. One method is to calculate only the subdiagonal elements of the similarity matrix. \n",
    "\n",
    "We can then divide the problem into different blocks and calculate similarity submatrices. \n",
    "\n",
    "NOTE ON TfidfVectorizer API:\n",
    "\n",
    "* norm: {‘l1’, ‘l2’} or None, default=’l2’\n",
    "\n",
    "    Each output row will have unit norm, either:\n",
    "\n",
    "    - ‘l2’: Sum of squares of vector elements is 1. The cosine similarity between two vectors is their dot product when l2 norm has been applied.\n",
    "    - ‘l1’: Sum of absolute values of vector elements is 1. See preprocessing.normalize.\n",
    "    - None: No normalization.\n",
    "\n",
    "\n",
    "    "
   ]
  },
  {
   "cell_type": "code",
   "execution_count": 81,
   "metadata": {
    "colab": {
     "base_uri": "https://localhost:8080/"
    },
    "id": "EiZZNxciEnVS",
    "outputId": "68c6f83a-46cf-498d-e41e-ffb33fa5c7a0"
   },
   "outputs": [
    {
     "name": "stdout",
     "output_type": "stream",
     "text": [
      "Columns        20,000\n",
      "Rows           14,170\n",
      "Elements      109,428\n",
      "Bytes         875,424\n",
      "Gigabytes     0.00082\n"
     ]
    }
   ],
   "source": [
    "# There are \"test\" headlines in the corpus\n",
    "stopwords.append(\"test\")\n",
    "\n",
    "# Achieve speed up via normalizing the TF-IDF vectors with norm='l2'\n",
    "tfidf = TfidfVectorizer(\n",
    "    stop_words=stopwords, \n",
    "    ngram_range=(1,2), \n",
    "    min_df=2, \n",
    "    norm='l2'\n",
    ")\n",
    "\n",
    "dt = tfidf.fit_transform(headlines[\"headline_text\"])\n",
    "\n",
    "examine_matrix(dt, '5.5.2 headline_text, norm=l2')"
   ]
  },
  {
   "cell_type": "code",
   "execution_count": 82,
   "metadata": {},
   "outputs": [
    {
     "data": {
      "image/png": "[encoded data removed]",
      "text/plain": [
       "<Figure size 640x480 with 1 Axes>"
      ]
     },
     "metadata": {},
     "output_type": "display_data"
    }
   ],
   "source": [
    "show(matrix_data)"
   ]
  },
  {
   "cell_type": "markdown",
   "metadata": {
    "id": "aK5pbYv9EnVS"
   },
   "source": [
    "### Timing Cosine Similarity"
   ]
  },
  {
   "cell_type": "code",
   "execution_count": 83,
   "metadata": {
    "colab": {
     "base_uri": "https://localhost:8080/"
    },
    "id": "LcaS_JIHEnVT",
    "outputId": "63ba0dc6-25c5-4786-f6b4-2c0a91a6a94c"
   },
   "outputs": [
    {
     "name": "stdout",
     "output_type": "stream",
     "text": [
      "CPU times: user 27.9 ms, sys: 10.5 ms, total: 38.4 ms\n",
      "Wall time: 36.8 ms\n"
     ]
    },
    {
     "data": {
      "text/plain": [
       "<Compressed Sparse Row sparse matrix of dtype 'float64'\n",
       "\twith 1277455 stored elements and shape (10000, 10000)>"
      ]
     },
     "execution_count": 83,
     "metadata": {},
     "output_type": "execute_result"
    }
   ],
   "source": [
    "%%time\n",
    "cosine_similarity(dt[0:10000], dt[0:10000], dense_output=False)"
   ]
  },
  {
   "cell_type": "code",
   "execution_count": 84,
   "metadata": {
    "colab": {
     "base_uri": "https://localhost:8080/"
    },
    "id": "ZUaoFP5NEnVV",
    "outputId": "5b6b3610-41e8-45e8-9fc3-6db3df2f72ff"
   },
   "outputs": [
    {
     "name": "stdout",
     "output_type": "stream",
     "text": [
      "57679793\n",
      "CPU times: user 483 ms, sys: 337 ms, total: 820 ms\n",
      "Wall time: 908 ms\n"
     ]
    }
   ],
   "source": [
    "%%time\n",
    "r = cosine_similarity(dt[0:10000], dt[0:10000])\n",
    "r[r > 0.9999] = 0\n",
    "print(np.argmax(r))"
   ]
  },
  {
   "cell_type": "code",
   "execution_count": 85,
   "metadata": {
    "colab": {
     "base_uri": "https://localhost:8080/"
    },
    "id": "y5pJYgDmEnVW",
    "outputId": "8580ca7c-6001-48b0-8399-751f38172321"
   },
   "outputs": [
    {
     "name": "stdout",
     "output_type": "stream",
     "text": [
      "57679793\n",
      "CPU times: user 517 ms, sys: 140 ms, total: 657 ms\n",
      "Wall time: 676 ms\n"
     ]
    }
   ],
   "source": [
    "%%time\n",
    "r = cosine_similarity(dt[0:10000], dt[0:10000], dense_output=False)\n",
    "r[r > 0.9999] = 0\n",
    "print(np.argmax(r))"
   ]
  },
  {
   "cell_type": "markdown",
   "metadata": {
    "id": "0nKvvOctEnVW"
   },
   "source": [
    "### Timing Dot-Product"
   ]
  },
  {
   "cell_type": "code",
   "execution_count": 86,
   "metadata": {
    "colab": {
     "base_uri": "https://localhost:8080/"
    },
    "id": "u_YO9D7kEnVW",
    "outputId": "bff1b3bf-fac9-49b2-c431-99fc98824bc9"
   },
   "outputs": [
    {
     "name": "stdout",
     "output_type": "stream",
     "text": [
      "57679793\n",
      "CPU times: user 490 ms, sys: 41.2 ms, total: 531 ms\n",
      "Wall time: 535 ms\n"
     ]
    }
   ],
   "source": [
    "%%time\n",
    "r = np.dot(dt[0:10000], np.transpose(dt[0:10000]))\n",
    "r[r > 0.9999] = 0\n",
    "print(np.argmax(r))"
   ]
  },
  {
   "cell_type": "markdown",
   "metadata": {
    "id": "PCV1XPJ4EnVX"
   },
   "source": [
    "### Batch"
   ]
  },
  {
   "cell_type": "code",
   "execution_count": 87,
   "metadata": {
    "colab": {
     "base_uri": "https://localhost:8080/"
    },
    "id": "z8yKVuFzEnVX",
    "outputId": "e8cdf27e-b289-4d44-e961-ce55937b3da6",
    "scrolled": true
   },
   "outputs": [
    {
     "name": "stdout",
     "output_type": "stream",
     "text": [
      "0 0\n",
      "10000 0\n",
      "10000 10000\n",
      "CPU times: user 1.1 s, sys: 99 ms, total: 1.2 s\n",
      "Wall time: 1.23 s\n"
     ]
    }
   ],
   "source": [
    "%%time\n",
    "batch = 10_000\n",
    "max_sim = 0.0\n",
    "max_a = None\n",
    "max_b = None\n",
    "\n",
    "for a in range(0, dt.shape[0], batch):\n",
    "    for b in range(0, a+batch, batch):\n",
    "        print(a, b)\n",
    "        #r = np.dot(dt[a:a+batch], np.transpose(dt[b:b+batch]))\n",
    "        r = cosine_similarity(dt[a:a+batch], dt[b:b+batch], dense_output=False)\n",
    "        \n",
    "        # Eliminate identical vectors by setting similarity to np.nan which gets sorted out\n",
    "        r[r > 0.9999] = 0\n",
    "        sim = r.max()\n",
    "        if sim > max_sim:\n",
    "            # argmax returns a single value which we have to map to the two dimensions            \n",
    "            (max_a, max_b) = np.unravel_index(np.argmax(r), r.shape)\n",
    "            # Adjust offsets in corpus (this is a submatrix)\n",
    "            max_a += a\n",
    "            max_b += b\n",
    "            max_sim = sim"
   ]
  },
  {
   "cell_type": "code",
   "execution_count": 88,
   "metadata": {
    "colab": {
     "base_uri": "https://localhost:8080/"
    },
    "id": "PWxaOdEhEnVX",
    "outputId": "2648264e-5bc1-4e97-d86b-ce694b04cc7f"
   },
   "outputs": [
    {
     "name": "stdout",
     "output_type": "stream",
     "text": [
      "10595 7846\n"
     ]
    }
   ],
   "source": [
    "print(max_a, max_b)"
   ]
  },
  {
   "cell_type": "code",
   "execution_count": 89,
   "metadata": {},
   "outputs": [
    {
     "name": "stdout",
     "output_type": "stream",
     "text": [
      "publish_date                       2009-11-28 00:00:00\n",
      "headline_text    skydiver killed after parachute fails\n",
      "lemmas              skydiver kill after parachute fail\n",
      "nav                       skydiver kill parachute fail\n",
      "Name: 503815, dtype: object\n",
      "----------------------------------------\n",
      "publish_date                               2013-02-08 00:00:00\n",
      "headline_text    skydiver killed after parachute fails to open\n",
      "lemmas              skydiver kill after parachute fail to open\n",
      "nav                          skydiver kill parachute fail open\n",
      "Name: 761719, dtype: object\n"
     ]
    }
   ],
   "source": [
    "print(headlines.iloc[max_a])\n",
    "HR()\n",
    "print(headlines.iloc[max_b])"
   ]
  },
  {
   "cell_type": "code",
   "execution_count": 90,
   "metadata": {
    "colab": {
     "base_uri": "https://localhost:8080/"
    },
    "id": "MPRi5I2CEnVY",
    "outputId": "6c877c70-18f6-4080-b921-9c97520864f0"
   },
   "outputs": [
    {
     "name": "stdout",
     "output_type": "stream",
     "text": [
      "0.9681980958066154\n"
     ]
    }
   ],
   "source": [
    "print(max_sim)"
   ]
  },
  {
   "cell_type": "code",
   "execution_count": 93,
   "metadata": {
    "colab": {
     "base_uri": "https://localhost:8080/",
     "height": 112
    },
    "id": "dy-KT20tEnVY",
    "outputId": "8c2ecf92-c1a3-43d4-dfe6-7ee73ca3fd48"
   },
   "outputs": [
    {
     "name": "stdout",
     "output_type": "stream",
     "text": [
      "Value must be a nonnegative integer or None\n"
     ]
    }
   ],
   "source": [
    "try:\n",
    "    pd.set_option('max_colwidth', -1)\n",
    "    headlines.iloc[[max_a, max_b]][[\"publish_date\", \"headline_text\"]]\n",
    "except Exception as e:\n",
    "    print(e)"
   ]
  },
  {
   "cell_type": "markdown",
   "metadata": {
    "id": "SgBpHx8yEnVY"
   },
   "source": [
    "<a name='5.5.3'></a><a id='5.5.3'></a>\n",
    "## 5.5.3 Blueprint: Finding Related Words\n",
    "<a href=\"#top\">[back to top]</a>\n",
    "\n",
    "Instead of just word-similarity, we want to obtain information about related words. We define words as \"related\" if they frequently appear together in documents. \n",
    "\n",
    "Here, instead of working with a document-term matrix, we switch to a *term-document matrix*, which is just its transposed form. Instead of taking row vectors, we now take column vectors. However, we need to re-vectorize the data. "
   ]
  },
  {
   "cell_type": "code",
   "execution_count": 94,
   "metadata": {
    "colab": {
     "base_uri": "https://localhost:8080/"
    },
    "id": "w1P2xjsAEnVY",
    "outputId": "43c59bfa-e51f-4f92-9dcd-6c01ab68afbe"
   },
   "outputs": [
    {
     "name": "stdout",
     "output_type": "stream",
     "text": [
      "Columns        20,000\n",
      "Rows              322\n",
      "Elements       30,645\n",
      "Bytes         245,160\n",
      "Gigabytes     0.00023\n"
     ]
    }
   ],
   "source": [
    "tfidf_word = TfidfVectorizer(\n",
    "    stop_words=stopwords, \n",
    "    min_df=50 # 1000\n",
    ")\n",
    "\n",
    "dt_word = tfidf_word.fit_transform(\n",
    "    headlines[\"headline_text\"]\n",
    ")\n",
    "\n",
    "examine_matrix(dt_word, '5.5.3 min_df=50')"
   ]
  },
  {
   "cell_type": "code",
   "execution_count": 95,
   "metadata": {},
   "outputs": [
    {
     "data": {
      "image/png": "[encoded data removed]",
      "text/plain": [
       "<Figure size 640x480 with 1 Axes>"
      ]
     },
     "metadata": {},
     "output_type": "display_data"
    }
   ],
   "source": [
    "show(matrix_data)"
   ]
  },
  {
   "cell_type": "markdown",
   "metadata": {
    "id": "5pQolG_x6vXc"
   },
   "source": [
    "Because the vocabulary is small, we can directly calculate the cosine similarity. We change the row for column vectors, and transpose the matrix."
   ]
  },
  {
   "cell_type": "code",
   "execution_count": 96,
   "metadata": {
    "id": "yYTxAgDmEnVY"
   },
   "outputs": [],
   "source": [
    "r = cosine_similarity(dt_word.T, dt_word.T)\n",
    "np.fill_diagonal(r, 0)"
   ]
  },
  {
   "cell_type": "markdown",
   "metadata": {
    "id": "-3dav-F36vXe"
   },
   "source": [
    "Finding the largest entries is easiest if we convert it to a one-dimensional array, get the index of the sorted elements via np.argsort, and restore the original indices for the vocabulary lookup."
   ]
  },
  {
   "cell_type": "code",
   "execution_count": 97,
   "metadata": {
    "colab": {
     "base_uri": "https://localhost:8080/"
    },
    "id": "NwTW2rjwEnVZ",
    "outputId": "2fa5312c-7090-4a65-8378-95d8928cf463"
   },
   "outputs": [
    {
     "name": "stdout",
     "output_type": "stream",
     "text": [
      "hour      related to    country\n",
      "climate   related to    change\n",
      "gold      related to    coast\n",
      "search    related to    missing\n",
      "share     related to    market\n",
      "north     related to    korea\n",
      "world     related to    cup\n",
      "rise      related to    rate\n",
      "fatal     related to    crash\n",
      "news      related to    national\n",
      "guilty    related to    found\n",
      "south     related to    east\n",
      "job       related to    cuts\n",
      "news      related to    abc\n",
      "vic       related to    hour\n",
      "found     related to    body\n",
      "search    related to    continues\n",
      "child     related to    abuse\n",
      "rural     related to    national\n",
      "rural     related to    news\n"
     ]
    }
   ],
   "source": [
    "voc = tfidf_word.get_feature_names_out()\n",
    "\n",
    "size = r.shape[0] # quadratic\n",
    "for index in np.argsort(r.flatten())[::-1][0:40]:\n",
    "    a = int(index/size)\n",
    "    b = index%size\n",
    "    spacer = \"\"\n",
    "    if a > b:  # avoid repetitions\n",
    "        print(f'{voc[a]:<9} related to {spacer:<2} {voc[b]}')"
   ]
  },
  {
   "cell_type": "markdown",
   "metadata": {
    "id": "jDv5AK6G6vXf"
   },
   "source": [
    "<a name='5.5.4'></a><a id='5.5.4'></a>\n",
    "## 5.5.4 Tips for Long-Running Programs like Syntactic Similarity\n",
    "<a href=\"#top\">[back to top]</a>\n",
    "\n",
    "No source code."
   ]
  }
 ],
 "metadata": {
  "accelerator": "GPU",
  "colab": {
   "provenance": []
  },
  "gpuClass": "standard",
  "kernelspec": {
   "display_name": "Python 3 (ipykernel)",
   "language": "python",
   "name": "python3"
  },
  "language_info": {
   "codemirror_mode": {
    "name": "ipython",
    "version": 3
   },
   "file_extension": ".py",
   "mimetype": "text/x-python",
   "name": "python",
   "nbconvert_exporter": "python",
   "pygments_lexer": "ipython3",
   "version": "3.11.5"
  },
  "toc": {
   "base_numbering": 1,
   "nav_menu": {},
   "number_sections": true,
   "sideBar": true,
   "skip_h1_title": false,
   "title_cell": "Table of Contents",
   "title_sidebar": "Contents",
   "toc_cell": false,
   "toc_position": {},
   "toc_section_display": true,
   "toc_window_display": false
  },
  "varInspector": {
   "cols": {
    "lenName": 16,
    "lenType": 16,
    "lenVar": 40
   },
   "kernels_config": {
    "python": {
     "delete_cmd_postfix": "",
     "delete_cmd_prefix": "del ",
     "library": "var_list.py",
     "varRefreshCmd": "print(var_dic_list())"
    },
    "r": {
     "delete_cmd_postfix": ") ",
     "delete_cmd_prefix": "rm(",
     "library": "var_list.r",
     "varRefreshCmd": "cat(var_dic_list()) "
    }
   },
   "types_to_exclude": [
    "module",
    "function",
    "builtin_function_or_method",
    "instance",
    "_Feature"
   ],
   "window_display": false
  },
  "widgets": {
   "application/vnd.jupyter.widget-state+json": {
    "0f44d96bef66428db1255b1b0b3de73c": {
     "model_module": "@jupyter-widgets/controls",
     "model_module_version": "1.5.0",
     "model_name": "ProgressStyleModel",
     "state": {
      "_model_module": "@jupyter-widgets/controls",
      "_model_module_version": "1.5.0",
      "_model_name": "ProgressStyleModel",
      "_view_count": null,
      "_view_module": "@jupyter-widgets/base",
      "_view_module_version": "1.2.0",
      "_view_name": "StyleView",
      "bar_color": null,
      "description_width": ""
     }
    },
    "5025cdb245e0423bae591e87876c71c8": {
     "model_module": "@jupyter-widgets/controls",
     "model_module_version": "1.5.0",
     "model_name": "FloatProgressModel",
     "state": {
      "_dom_classes": [],
      "_model_module": "@jupyter-widgets/controls",
      "_model_module_version": "1.5.0",
      "_model_name": "FloatProgressModel",
      "_view_count": null,
      "_view_module": "@jupyter-widgets/controls",
      "_view_module_version": "1.5.0",
      "_view_name": "ProgressView",
      "bar_style": "success",
      "description": "",
      "description_tooltip": null,
      "layout": "IPY_MODEL_c94d9628e433429e9b28542cf1e85b34",
      "max": 50000,
      "min": 0,
      "orientation": "horizontal",
      "style": "IPY_MODEL_0f44d96bef66428db1255b1b0b3de73c",
      "value": 50000
     }
    },
    "5480f9aa36324c2eb2fabb066ee5b447": {
     "model_module": "@jupyter-widgets/base",
     "model_module_version": "1.2.0",
     "model_name": "LayoutModel",
     "state": {
      "_model_module": "@jupyter-widgets/base",
      "_model_module_version": "1.2.0",
      "_model_name": "LayoutModel",
      "_view_count": null,
      "_view_module": "@jupyter-widgets/base",
      "_view_module_version": "1.2.0",
      "_view_name": "LayoutView",
      "align_content": null,
      "align_items": null,
      "align_self": null,
      "border": null,
      "bottom": null,
      "display": null,
      "flex": null,
      "flex_flow": null,
      "grid_area": null,
      "grid_auto_columns": null,
      "grid_auto_flow": null,
      "grid_auto_rows": null,
      "grid_column": null,
      "grid_gap": null,
      "grid_row": null,
      "grid_template_areas": null,
      "grid_template_columns": null,
      "grid_template_rows": null,
      "height": null,
      "justify_content": null,
      "justify_items": null,
      "left": null,
      "margin": null,
      "max_height": null,
      "max_width": null,
      "min_height": null,
      "min_width": null,
      "object_fit": null,
      "object_position": null,
      "order": null,
      "overflow": null,
      "overflow_x": null,
      "overflow_y": null,
      "padding": null,
      "right": null,
      "top": null,
      "visibility": null,
      "width": null
     }
    },
    "55a97e564c334527b59165e5799cf597": {
     "model_module": "@jupyter-widgets/controls",
     "model_module_version": "1.5.0",
     "model_name": "DescriptionStyleModel",
     "state": {
      "_model_module": "@jupyter-widgets/controls",
      "_model_module_version": "1.5.0",
      "_model_name": "DescriptionStyleModel",
      "_view_count": null,
      "_view_module": "@jupyter-widgets/base",
      "_view_module_version": "1.2.0",
      "_view_name": "StyleView",
      "description_width": ""
     }
    },
    "7a74ebaed3dc4c5f94a0d76010520439": {
     "model_module": "@jupyter-widgets/controls",
     "model_module_version": "1.5.0",
     "model_name": "DescriptionStyleModel",
     "state": {
      "_model_module": "@jupyter-widgets/controls",
      "_model_module_version": "1.5.0",
      "_model_name": "DescriptionStyleModel",
      "_view_count": null,
      "_view_module": "@jupyter-widgets/base",
      "_view_module_version": "1.2.0",
      "_view_name": "StyleView",
      "description_width": ""
     }
    },
    "87785a8da7f646258112305ee2e7b72c": {
     "model_module": "@jupyter-widgets/controls",
     "model_module_version": "1.5.0",
     "model_name": "HTMLModel",
     "state": {
      "_dom_classes": [],
      "_model_module": "@jupyter-widgets/controls",
      "_model_module_version": "1.5.0",
      "_model_name": "HTMLModel",
      "_view_count": null,
      "_view_module": "@jupyter-widgets/controls",
      "_view_module_version": "1.5.0",
      "_view_name": "HTMLView",
      "description": "",
      "description_tooltip": null,
      "layout": "IPY_MODEL_5480f9aa36324c2eb2fabb066ee5b447",
      "placeholder": "​",
      "style": "IPY_MODEL_7a74ebaed3dc4c5f94a0d76010520439",
      "value": "100%"
     }
    },
    "ba3211a0f9c142c8b6964d6e1d8cadd4": {
     "model_module": "@jupyter-widgets/controls",
     "model_module_version": "1.5.0",
     "model_name": "HTMLModel",
     "state": {
      "_dom_classes": [],
      "_model_module": "@jupyter-widgets/controls",
      "_model_module_version": "1.5.0",
      "_model_name": "HTMLModel",
      "_view_count": null,
      "_view_module": "@jupyter-widgets/controls",
      "_view_module_version": "1.5.0",
      "_view_name": "HTMLView",
      "description": "",
      "description_tooltip": null,
      "layout": "IPY_MODEL_d2dca0decedb4adb9b67ad5a8a99659c",
      "placeholder": "​",
      "style": "IPY_MODEL_55a97e564c334527b59165e5799cf597",
      "value": " 50000/50000 [05:31&lt;00:00, 169.69it/s]"
     }
    },
    "c94d9628e433429e9b28542cf1e85b34": {
     "model_module": "@jupyter-widgets/base",
     "model_module_version": "1.2.0",
     "model_name": "LayoutModel",
     "state": {
      "_model_module": "@jupyter-widgets/base",
      "_model_module_version": "1.2.0",
      "_model_name": "LayoutModel",
      "_view_count": null,
      "_view_module": "@jupyter-widgets/base",
      "_view_module_version": "1.2.0",
      "_view_name": "LayoutView",
      "align_content": null,
      "align_items": null,
      "align_self": null,
      "border": null,
      "bottom": null,
      "display": null,
      "flex": null,
      "flex_flow": null,
      "grid_area": null,
      "grid_auto_columns": null,
      "grid_auto_flow": null,
      "grid_auto_rows": null,
      "grid_column": null,
      "grid_gap": null,
      "grid_row": null,
      "grid_template_areas": null,
      "grid_template_columns": null,
      "grid_template_rows": null,
      "height": null,
      "justify_content": null,
      "justify_items": null,
      "left": null,
      "margin": null,
      "max_height": null,
      "max_width": null,
      "min_height": null,
      "min_width": null,
      "object_fit": null,
      "object_position": null,
      "order": null,
      "overflow": null,
      "overflow_x": null,
      "overflow_y": null,
      "padding": null,
      "right": null,
      "top": null,
      "visibility": null,
      "width": null
     }
    },
    "d0be4f7944704370a5e0ed583ba9d284": {
     "model_module": "@jupyter-widgets/base",
     "model_module_version": "1.2.0",
     "model_name": "LayoutModel",
     "state": {
      "_model_module": "@jupyter-widgets/base",
      "_model_module_version": "1.2.0",
      "_model_name": "LayoutModel",
      "_view_count": null,
      "_view_module": "@jupyter-widgets/base",
      "_view_module_version": "1.2.0",
      "_view_name": "LayoutView",
      "align_content": null,
      "align_items": null,
      "align_self": null,
      "border": null,
      "bottom": null,
      "display": null,
      "flex": null,
      "flex_flow": null,
      "grid_area": null,
      "grid_auto_columns": null,
      "grid_auto_flow": null,
      "grid_auto_rows": null,
      "grid_column": null,
      "grid_gap": null,
      "grid_row": null,
      "grid_template_areas": null,
      "grid_template_columns": null,
      "grid_template_rows": null,
      "height": null,
      "justify_content": null,
      "justify_items": null,
      "left": null,
      "margin": null,
      "max_height": null,
      "max_width": null,
      "min_height": null,
      "min_width": null,
      "object_fit": null,
      "object_position": null,
      "order": null,
      "overflow": null,
      "overflow_x": null,
      "overflow_y": null,
      "padding": null,
      "right": null,
      "top": null,
      "visibility": null,
      "width": null
     }
    },
    "d2dca0decedb4adb9b67ad5a8a99659c": {
     "model_module": "@jupyter-widgets/base",
     "model_module_version": "1.2.0",
     "model_name": "LayoutModel",
     "state": {
      "_model_module": "@jupyter-widgets/base",
      "_model_module_version": "1.2.0",
      "_model_name": "LayoutModel",
      "_view_count": null,
      "_view_module": "@jupyter-widgets/base",
      "_view_module_version": "1.2.0",
      "_view_name": "LayoutView",
      "align_content": null,
      "align_items": null,
      "align_self": null,
      "border": null,
      "bottom": null,
      "display": null,
      "flex": null,
      "flex_flow": null,
      "grid_area": null,
      "grid_auto_columns": null,
      "grid_auto_flow": null,
      "grid_auto_rows": null,
      "grid_column": null,
      "grid_gap": null,
      "grid_row": null,
      "grid_template_areas": null,
      "grid_template_columns": null,
      "grid_template_rows": null,
      "height": null,
      "justify_content": null,
      "justify_items": null,
      "left": null,
      "margin": null,
      "max_height": null,
      "max_width": null,
      "min_height": null,
      "min_width": null,
      "object_fit": null,
      "object_position": null,
      "order": null,
      "overflow": null,
      "overflow_x": null,
      "overflow_y": null,
      "padding": null,
      "right": null,
      "top": null,
      "visibility": null,
      "width": null
     }
    },
    "eba48a5bee944f84a9b16082d5030461": {
     "model_module": "@jupyter-widgets/controls",
     "model_module_version": "1.5.0",
     "model_name": "HBoxModel",
     "state": {
      "_dom_classes": [],
      "_model_module": "@jupyter-widgets/controls",
      "_model_module_version": "1.5.0",
      "_model_name": "HBoxModel",
      "_view_count": null,
      "_view_module": "@jupyter-widgets/controls",
      "_view_module_version": "1.5.0",
      "_view_name": "HBoxView",
      "box_style": "",
      "children": [
       "IPY_MODEL_87785a8da7f646258112305ee2e7b72c",
       "IPY_MODEL_5025cdb245e0423bae591e87876c71c8",
       "IPY_MODEL_ba3211a0f9c142c8b6964d6e1d8cadd4"
      ],
      "layout": "IPY_MODEL_d0be4f7944704370a5e0ed583ba9d284"
     }
    }
   }
  }
 },
 "nbformat": 4,
 "nbformat_minor": 4
}
