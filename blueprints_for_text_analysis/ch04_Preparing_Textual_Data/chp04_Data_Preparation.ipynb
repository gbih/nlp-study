{
 "cells": [
  {
   "cell_type": "markdown",
   "metadata": {
    "id": "yPeIwgcz9nQs"
   },
   "source": [
    "<a id='top'></a><a name='top'></a>\n",
    "# Chapter 4: Preparing Textual Data for Statistics and Machine Learning\n",
    "\n",
    "**Blueprints for Text Analysis Using Python**"
   ]
  },
  {
   "cell_type": "markdown",
   "metadata": {},
   "source": [
    "* [Introduction](#introduction)\n",
    "* [4.0 Imports and Setup](#4.0)\n",
    "* [4.1 A Data Preprocessing Pipeline](#4.1)\n",
    "* [4.2 Introducing the Dataset: Reddit Self-Posts](#4.2)\n",
    "    - [4.2.1 Loading Data into Pandas](#4.2.1)\n",
    "    - [4.2.2 Blueprint: Standardizing Attribute Names](#4.2.2)\n",
    "    - [4.2.3 Saving and Loading a DataFrame](#4.2.3)\n",
    "* [4.3 Cleaning Text Data](#4.3)\n",
    "    - [4.3.1 Blueprint: Identify Noise with Regular Expressions](#4.3.1)\n",
    "    - [4.3.2 Blueprint: Removing Noise with Regular Expressions](#4.3.2)\n",
    "    - [4.3.3 Blueprint: Character Normalization with textacy](#4.3.3)\n",
    "    - [4.3.4 Blueprint: Pattern-Based Data Masking with textacy](#4.3.4)\n",
    "* [4.4 Tokenization](#4.4)\n",
    "    - [4.4.1 Blueprint: Tokenization with Regular Expressions](#4.4.1)\n",
    "    - [4.4.2 Tokenization with NLTK](#4.4.2)\n",
    "    - [4.4.3 Recommendations for Tokenization](#4.4.3)\n",
    "* [4.5 Linguistics Processing with spaCy](#4.5)\n",
    "    - [4.5.1 Instantiating a Pipeline](#4.5.1)\n",
    "    - [4.5.2 Processing Text](#4.5.2)\n",
    "    - [4.5.3 Blueprint: Customizing Tokenization](#4.5.3)\n",
    "    - [4.5.4 Blueprint: Working with Stop Words](#4.5.4)\n",
    "    - [4.5.5 Blueprint: Extracting Lemmas Based on Part of Speech](#4.5.5)\n",
    "    - [4.5.6 Blueprint: Extracting Noun Phrases](#4.5.6)\n",
    "    - [4.5.7 Blueprint: Extracting Named Entities](#4.5.7)\n",
    "* [4.6 Feature Extraction on a Large Dataset](#4.6)\n",
    "    - [4.6.1 Blueprint: Creating One Function to Get It All](#4.6.1)\n",
    "    - [4.6.2 Blueprint: Using spaCy on a Large Dataset](#4.6.2)\n",
    "    - [4.6.3 Persisting the Result](#4.6.3)\n",
    "    - [4.6.4 A Note on Execution Time](#4.6.4)\n",
    "* [4.7 There is More](#4.7)\n",
    "    - [4.7.1 Language Detection](#4.7.1)\n",
    "    - [4.7.2 Spell-Checking](#4.7.2)\n",
    "    - [4.7.3 Token Normalization](#4.7.3)"
   ]
  },
  {
   "cell_type": "markdown",
   "metadata": {},
   "source": [
    "---\n",
    "<a name='introduction'></a><a id='introduction'></a>\n",
    "# Introduction\n",
    "<a href=\"#top\">[back to top]</a>\n",
    "\n",
    "This chapter is mainly about data cleaning and tokenization.\n",
    "\n",
    "Data cleaning in general involves not only the transformation of data into a form that can serve as the basis for analysis, but also the removal of disturbing noise. What's noise and what isn't always depends on the analysis you are going to perform. \n",
    "\n",
    "### Dataset\n",
    "\n",
    "* Reddit rspct_autos.tsv.gz: [script](#rspct_autos.tsv.gz), [source](https://github.com/blueprints-for-text-analytics-python/blueprints-text/raw/master/data/reddit-selfposts/rspct_autos.tsv.gz)\n",
    "* Reddit subreddit_info.csv.gz: [script](#subreddit_info.csv.gz), [source](https://github.com/blueprints-for-text-analytics-python/blueprints-text/raw/master/data/reddit-selfposts/subreddit_info.csv.gz)\n",
    "\n",
    "\n",
    "\n",
    "### Explore\n",
    "\n",
    "* How to set up a data preprocessing pipeline.\n",
    "* How to take raw input as input, clean it, transform it, and extract basic features of textual content.\n",
    "* How to use the spaCy and NLTK packages for feature extraction.\n",
    "* How to use regex for data cleaning."
   ]
  },
  {
   "cell_type": "markdown",
   "metadata": {},
   "source": [
    "---\n",
    "<a name='4.0'></a><a id='4.0'></a>\n",
    "# 4.0 Imports and Setup\n",
    "<a href=\"#top\">[back to top]</a>"
   ]
  },
  {
   "cell_type": "code",
   "execution_count": 1,
   "metadata": {},
   "outputs": [],
   "source": [
    "# Start with clean project\n",
    "# !rm -f *.ftz \n",
    "# !rm -f *.pkl \n",
    "# !rm -f *.db \n",
    "# !rm -f *.gz \n",
    "# !rm -f *.txt \n",
    "# !rm -f *.csv \n",
    "# !rm -f *.py"
   ]
  },
  {
   "cell_type": "code",
   "execution_count": 2,
   "metadata": {
    "id": "0cpcxA-k9rDv"
   },
   "outputs": [],
   "source": [
    "req_file = \"requirements_04.txt\""
   ]
  },
  {
   "cell_type": "code",
   "execution_count": 3,
   "metadata": {
    "colab": {
     "base_uri": "https://localhost:8080/"
    },
    "id": "e7G3p7R-9rGq",
    "outputId": "bef28aa5-8603-48d7-e03d-c1d3c1ffce74"
   },
   "outputs": [
    {
     "name": "stdout",
     "output_type": "stream",
     "text": [
      "Writing requirements_04.txt\n"
     ]
    }
   ],
   "source": [
    "%%writefile {req_file}\n",
    "fasttext\n",
    "isort\n",
    "scikit-learn-intelex\n",
    "symspellpy\n",
    "textacy\n",
    "tqdm\n",
    "watermark"
   ]
  },
  {
   "cell_type": "code",
   "execution_count": 4,
   "metadata": {
    "colab": {
     "base_uri": "https://localhost:8080/"
    },
    "id": "lSM3O48m9rJA",
    "outputId": "6126fa1d-5db3-43cb-ca6e-7419558c1f51"
   },
   "outputs": [
    {
     "name": "stdout",
     "output_type": "stream",
     "text": [
      "Running locally.\n"
     ]
    }
   ],
   "source": [
    "import sys\n",
    "\n",
    "IS_COLAB = 'google.colab' in sys.modules\n",
    "if IS_COLAB:\n",
    "    print(\"Installing packages\")\n",
    "    !pip install --upgrade --quiet -r {req_file}\n",
    "else:\n",
    "    print(\"Running locally.\")"
   ]
  },
  {
   "cell_type": "code",
   "execution_count": 5,
   "metadata": {
    "colab": {
     "base_uri": "https://localhost:8080/"
    },
    "id": "giZ9q--8TWqx",
    "outputId": "523c0968-9318-4dbf-830a-fa9b3a24741b"
   },
   "outputs": [
    {
     "name": "stdout",
     "output_type": "stream",
     "text": [
      "Writing imports.py\n"
     ]
    }
   ],
   "source": [
    "%%writefile imports.py\n",
    "# Place at top to patch scikit-learn algorithms\n",
    "from sklearnex import patch_sklearn # isort:skip\n",
    "patch_sklearn() # isort:skip\n",
    "\n",
    "import html\n",
    "import locale\n",
    "import math\n",
    "import pprint\n",
    "import pprint as pp\n",
    "import random\n",
    "import re\n",
    "import sqlite3\n",
    "import warnings\n",
    "from collections import Counter\n",
    "\n",
    "import fasttext\n",
    "import nltk\n",
    "import numpy as np\n",
    "import pandas as pd\n",
    "import seaborn as sns\n",
    "import spacy\n",
    "import textacy\n",
    "import textacy.preprocessing as tprep\n",
    "from matplotlib import pyplot as plt\n",
    "from spacy import displacy\n",
    "from spacy.lang.en import English\n",
    "from spacy.tokenizer import Tokenizer\n",
    "from spacy.util import (compile_infix_regex, compile_prefix_regex,\n",
    "                        compile_suffix_regex)\n",
    "from textacy.extract.kwic import keyword_in_context\n",
    "from textacy.preprocessing.resources import RE_URL\n",
    "from tqdm.auto import tqdm\n",
    "from watermark import watermark\n",
    "from wordcloud import WordCloud"
   ]
  },
  {
   "cell_type": "code",
   "execution_count": 6,
   "metadata": {
    "colab": {
     "base_uri": "https://localhost:8080/"
    },
    "id": "BWSEYi8JTf1U",
    "outputId": "3bb7c7ab-0303-493b-f301-bd1411809d3a"
   },
   "outputs": [
    {
     "name": "stdout",
     "output_type": "stream",
     "text": [
      "# Place at top to patch scikit-learn algorithms\n",
      "from sklearnex import patch_sklearn # isort:skip\n",
      "patch_sklearn() # isort:skip\n",
      "\n",
      "import html\n",
      "import locale\n",
      "import math\n",
      "import pprint\n",
      "import pprint as pp\n",
      "import random\n",
      "import re\n",
      "import sqlite3\n",
      "import warnings\n",
      "from collections import Counter\n",
      "\n",
      "import fasttext\n",
      "import nltk\n",
      "import numpy as np\n",
      "import pandas as pd\n",
      "import seaborn as sns\n",
      "import spacy\n",
      "import textacy\n",
      "import textacy.preprocessing as tprep\n",
      "from matplotlib import pyplot as plt\n",
      "from spacy import displacy\n",
      "from spacy.lang.en import English\n",
      "from spacy.tokenizer import Tokenizer\n",
      "from spacy.util import (compile_infix_regex, compile_prefix_regex,\n",
      "                        compile_suffix_regex)\n",
      "from textacy.extract.kwic import keyword_in_context\n",
      "from textacy.preprocessing.resources import RE_URL\n",
      "from tqdm.auto import tqdm\n",
      "from watermark import watermark\n",
      "from wordcloud import WordCloud\n"
     ]
    }
   ],
   "source": [
    "!isort imports.py\n",
    "!cat imports.py"
   ]
  },
  {
   "cell_type": "code",
   "execution_count": 7,
   "metadata": {
    "colab": {
     "base_uri": "https://localhost:8080/"
    },
    "id": "sXlBICrH9nQy",
    "outputId": "6e05b128-dda8-46cb-b4ee-865093f25cca"
   },
   "outputs": [
    {
     "name": "stderr",
     "output_type": "stream",
     "text": [
      "Intel(R) Extension for Scikit-learn* enabled (https://github.com/intel/scikit-learn-intelex)\n"
     ]
    }
   ],
   "source": [
    "# Place at top to patch scikit-learn algorithms\n",
    "from sklearnex import patch_sklearn # isort:skip\n",
    "patch_sklearn() # isort:skip\n",
    "\n",
    "import html\n",
    "import locale\n",
    "import math\n",
    "import pprint\n",
    "import pprint as pp\n",
    "import random\n",
    "import re\n",
    "import sqlite3\n",
    "import warnings\n",
    "from collections import Counter\n",
    "\n",
    "import fasttext\n",
    "import nltk\n",
    "import numpy as np\n",
    "import pandas as pd\n",
    "import seaborn as sns\n",
    "import spacy\n",
    "import textacy\n",
    "import textacy.preprocessing as tprep\n",
    "from matplotlib import pyplot as plt\n",
    "from spacy import displacy\n",
    "from spacy.lang.en import English\n",
    "from spacy.tokenizer import Tokenizer\n",
    "from spacy.util import (compile_infix_regex, compile_prefix_regex,\n",
    "                        compile_suffix_regex)\n",
    "from textacy.extract.kwic import keyword_in_context\n",
    "from textacy.preprocessing.resources import RE_URL\n",
    "from tqdm.auto import tqdm\n",
    "from watermark import watermark\n",
    "from wordcloud import WordCloud"
   ]
  },
  {
   "cell_type": "code",
   "execution_count": 8,
   "metadata": {
    "colab": {
     "base_uri": "https://localhost:8080/"
    },
    "id": "lS6SvCI9-MpL",
    "outputId": "7dc8cffd-bf4a-4b4e-b793-015d3944be13"
   },
   "outputs": [
    {
     "name": "stdout",
     "output_type": "stream",
     "text": [
      "Python implementation: CPython\n",
      "Python version       : 3.8.12\n",
      "IPython version      : 7.34.0\n",
      "\n",
      "Compiler    : Clang 13.0.0 (clang-1300.0.29.3)\n",
      "OS          : Darwin\n",
      "Release     : 21.6.0\n",
      "Machine     : x86_64\n",
      "Processor   : i386\n",
      "CPU cores   : 4\n",
      "Architecture: 64bit\n",
      "\n",
      "re        : 2.2.1\n",
      "pandas    : 1.5.3\n",
      "spacy     : 3.5.1\n",
      "fasttext  : 0.9.2\n",
      "sqlite3   : 2.6.0\n",
      "nltk      : 3.8\n",
      "seaborn   : 0.12.1\n",
      "numpy     : 1.23.5\n",
      "textacy   : 0.12.0\n",
      "matplotlib: 3.6.2\n",
      "sys       : 3.8.12 (default, Dec 13 2021, 20:17:08) \n",
      "[Clang 13.0.0 (clang-1300.0.29.3)]\n",
      "\n"
     ]
    }
   ],
   "source": [
    "def HR():\n",
    "    print(\"-\"*40)\n",
    "    \n",
    "def getpreferredencoding(do_setlocale = True):\n",
    "    return \"UTF-8\"\n",
    "\n",
    "locale.getpreferredencoding = getpreferredencoding\n",
    "warnings.filterwarnings('ignore')\n",
    "BASE_DIR = '.'\n",
    "sns.set_style(\"darkgrid\")\n",
    "tqdm.pandas(desc=\"progress-bar\")\n",
    "pp = pprint.PrettyPrinter(indent=4)\n",
    "\n",
    "print(watermark(iversions=True, globals_=globals(),python=True, machine=True))"
   ]
  },
  {
   "cell_type": "code",
   "execution_count": 9,
   "metadata": {},
   "outputs": [
    {
     "name": "stdout",
     "output_type": "stream",
     "text": [
      "0.12.0\n"
     ]
    }
   ],
   "source": [
    "# Assume textacy > 0.11\n",
    "print(textacy.__version__)\n",
    "assert textacy.__version__ >= '0.12.0'"
   ]
  },
  {
   "cell_type": "code",
   "execution_count": 10,
   "metadata": {},
   "outputs": [
    {
     "name": "stderr",
     "output_type": "stream",
     "text": [
      "[nltk_data] Downloading package punkt to /Users/gb/nltk_data...\n",
      "[nltk_data]   Package punkt is already up-to-date!\n"
     ]
    },
    {
     "data": {
      "text/plain": [
       "True"
      ]
     },
     "execution_count": 10,
     "metadata": {},
     "output_type": "execute_result"
    }
   ],
   "source": [
    "# Misc downloads\n",
    "nltk.download('punkt')"
   ]
  },
  {
   "cell_type": "markdown",
   "metadata": {
    "id": "QoY0vopz9nQ4"
   },
   "source": [
    "<a name='4.1'></a><a id='4.1'></a>\n",
    "# 4.1 A Data Preprocessing Pipeline\n",
    "<a href=\"#top\">[back to top]</a>\n",
    "\n",
    "A pipeline here refers to a sequence of processing steps. The first block of operations will be **data cleaning**. The next step is **linguistic processing**. "
   ]
  },
  {
   "cell_type": "markdown",
   "metadata": {},
   "source": [
    "<a name='4.2'></a><a id='4.2'></a>\n",
    "# 4.2 Introducing the Dataset: Reddit Self Posts\n",
    "<a href=\"#top\">[back to top]</a>\n",
    "\n",
    "We will use the [Reddit Self-Posts dataset](https://www.kaggle.com/datasets/mswarbrickjones/reddit-selfposts). Also see [reference write-up](https://www.evolution.ai/post/an-imagenet-like-text-classification-task-based-on-reddit-posts). \n",
    "\n",
    "The complete dataset contains roughly 1 million user posts with title and content, arranged in 1,013 different subreddits, each of which has 1,000 records. \n",
    "\n",
    "We will use a subset of only 20,000 posts contained in the autos category. "
   ]
  },
  {
   "cell_type": "markdown",
   "metadata": {
    "id": "Gykw5P719nQ5"
   },
   "source": [
    "<a name='4.2.1'></a><a id='4.2.1'></a>\n",
    "## 4.2.1 Loading Data into Pandas\n",
    "<a href=\"#top\">[back to top]</a>"
   ]
  },
  {
   "cell_type": "markdown",
   "metadata": {},
   "source": [
    "<a id='rspct_autos.tsv.gz'></a><a name='rspct_autos.tsv.gz'></a>\n",
    "### Dataset: rspct_autos.tsv.gz\n",
    "<a href=\"#top\">[back to top]</a>"
   ]
  },
  {
   "cell_type": "code",
   "execution_count": 116,
   "metadata": {
    "colab": {
     "base_uri": "https://localhost:8080/"
    },
    "id": "kmQTvEEN-f9e",
    "outputId": "71df9081-775e-4776-bb58-6804aee97530"
   },
   "outputs": [
    {
     "name": "stdout",
     "output_type": "stream",
     "text": [
      "-rw-r--r--  1 gb  staff  5933969 Mar 30 23:25 rspct_autos.tsv.gz\n"
     ]
    }
   ],
   "source": [
    "!wget -nc -q https://github.com/blueprints-for-text-analytics-python/blueprints-text/raw/master/data/reddit-selfposts/rspct_autos.tsv.gz\n",
    "!ls -l rspct_autos.tsv.gz"
   ]
  },
  {
   "cell_type": "markdown",
   "metadata": {},
   "source": [
    "<a id='subreddit_info.csv.gz'></a><a name='subreddit_info.csv.gz'></a>\n",
    "### Dataset: subreddit_info.csv.gz\n",
    "<a href=\"#top\">[back to top]</a>"
   ]
  },
  {
   "cell_type": "code",
   "execution_count": null,
   "metadata": {},
   "outputs": [],
   "source": [
    "!wget -nc -q https://github.com/blueprints-for-text-analytics-python/blueprints-text/raw/master/data/reddit-selfposts/subreddit_info.csv.gz\n",
    "!ls -l subreddit_info.csv.gz"
   ]
  },
  {
   "cell_type": "code",
   "execution_count": 12,
   "metadata": {
    "ExecuteTime": {
     "end_time": "2022-02-11T07:08:52.082807Z",
     "start_time": "2022-02-11T07:08:51.253479Z"
    },
    "colab": {
     "base_uri": "https://localhost:8080/"
    },
    "id": "tOIwOUBB9nQ6",
    "outputId": "47cc809a-41d0-49bd-95e0-e76de01acffa"
   },
   "outputs": [
    {
     "data": {
      "text/plain": [
       "20000"
      ]
     },
     "execution_count": 12,
     "metadata": {},
     "output_type": "execute_result"
    }
   ],
   "source": [
    "posts_file = \"rspct_autos.tsv.gz\"\n",
    "posts_df = pd.read_csv(posts_file, sep='\\t')\n",
    "\n",
    "subred_file = \"subreddit_info.csv.gz\"\n",
    "subred_df = pd.read_csv(subred_file).set_index(['subreddit'])\n",
    "\n",
    "# Join columns with other DataFrame either on index or on a key column.\n",
    "df_raw = posts_df.join(subred_df, on='subreddit')\n",
    "len(df_raw)"
   ]
  },
  {
   "cell_type": "code",
   "execution_count": 13,
   "metadata": {},
   "outputs": [
    {
     "name": "stdout",
     "output_type": "stream",
     "text": [
      "<class 'pandas.core.frame.DataFrame'>\n",
      "RangeIndex: 20000 entries, 0 to 19999\n",
      "Data columns (total 9 columns):\n",
      " #   Column                Non-Null Count  Dtype \n",
      "---  ------                --------------  ----- \n",
      " 0   id                    20000 non-null  object\n",
      " 1   subreddit             20000 non-null  object\n",
      " 2   title                 20000 non-null  object\n",
      " 3   selftext              20000 non-null  object\n",
      " 4   category_1            20000 non-null  object\n",
      " 5   category_2            20000 non-null  object\n",
      " 6   category_3            0 non-null      object\n",
      " 7   in_data               20000 non-null  bool  \n",
      " 8   reason_for_exclusion  0 non-null      object\n",
      "dtypes: bool(1), object(8)\n",
      "memory usage: 1.2+ MB\n"
     ]
    }
   ],
   "source": [
    "df_raw.info()"
   ]
  },
  {
   "cell_type": "code",
   "execution_count": 14,
   "metadata": {},
   "outputs": [
    {
     "data": {
      "text/html": [
       "<div>\n",
       "<style scoped>\n",
       "    .dataframe tbody tr th:only-of-type {\n",
       "        vertical-align: middle;\n",
       "    }\n",
       "\n",
       "    .dataframe tbody tr th {\n",
       "        vertical-align: top;\n",
       "    }\n",
       "\n",
       "    .dataframe thead th {\n",
       "        text-align: right;\n",
       "    }\n",
       "</style>\n",
       "<table border=\"1\" class=\"dataframe\">\n",
       "  <thead>\n",
       "    <tr style=\"text-align: right;\">\n",
       "      <th></th>\n",
       "      <th>id</th>\n",
       "      <th>subreddit</th>\n",
       "      <th>title</th>\n",
       "      <th>selftext</th>\n",
       "      <th>category_1</th>\n",
       "      <th>category_2</th>\n",
       "      <th>category_3</th>\n",
       "      <th>in_data</th>\n",
       "      <th>reason_for_exclusion</th>\n",
       "    </tr>\n",
       "  </thead>\n",
       "  <tbody>\n",
       "    <tr>\n",
       "      <th>0</th>\n",
       "      <td>8f73s7</td>\n",
       "      <td>Harley</td>\n",
       "      <td>No Club Colors</td>\n",
       "      <td>Funny story. I went to college in Las Vegas. T...</td>\n",
       "      <td>autos</td>\n",
       "      <td>harley davidson</td>\n",
       "      <td>NaN</td>\n",
       "      <td>True</td>\n",
       "      <td>NaN</td>\n",
       "    </tr>\n",
       "    <tr>\n",
       "      <th>1</th>\n",
       "      <td>5s0q8r</td>\n",
       "      <td>Mustang</td>\n",
       "      <td>Roush vs Shleby GT500</td>\n",
       "      <td>I am trying to determine which is faster, and ...</td>\n",
       "      <td>autos</td>\n",
       "      <td>ford</td>\n",
       "      <td>NaN</td>\n",
       "      <td>True</td>\n",
       "      <td>NaN</td>\n",
       "    </tr>\n",
       "    <tr>\n",
       "      <th>2</th>\n",
       "      <td>5z3405</td>\n",
       "      <td>Volkswagen</td>\n",
       "      <td>2001 Golf Wagon looking for some insight</td>\n",
       "      <td>Hello! &lt;lb&gt;&lt;lb&gt;Trying to find some information...</td>\n",
       "      <td>autos</td>\n",
       "      <td>VW</td>\n",
       "      <td>NaN</td>\n",
       "      <td>True</td>\n",
       "      <td>NaN</td>\n",
       "    </tr>\n",
       "    <tr>\n",
       "      <th>3</th>\n",
       "      <td>7df18v</td>\n",
       "      <td>Lexus</td>\n",
       "      <td>IS 250 Coolant Flush/Change</td>\n",
       "      <td>https://www.cars.com/articles/how-often-should...</td>\n",
       "      <td>autos</td>\n",
       "      <td>lexus</td>\n",
       "      <td>NaN</td>\n",
       "      <td>True</td>\n",
       "      <td>NaN</td>\n",
       "    </tr>\n",
       "    <tr>\n",
       "      <th>4</th>\n",
       "      <td>5tpve8</td>\n",
       "      <td>volt</td>\n",
       "      <td>Gen1 mpg w/ dead battery?</td>\n",
       "      <td>Hi, new to this subreddit.  I'm considering bu...</td>\n",
       "      <td>autos</td>\n",
       "      <td>chevrolet</td>\n",
       "      <td>NaN</td>\n",
       "      <td>True</td>\n",
       "      <td>NaN</td>\n",
       "    </tr>\n",
       "  </tbody>\n",
       "</table>\n",
       "</div>"
      ],
      "text/plain": [
       "       id   subreddit                                     title  \\\n",
       "0  8f73s7      Harley                            No Club Colors   \n",
       "1  5s0q8r     Mustang                     Roush vs Shleby GT500   \n",
       "2  5z3405  Volkswagen  2001 Golf Wagon looking for some insight   \n",
       "3  7df18v       Lexus               IS 250 Coolant Flush/Change   \n",
       "4  5tpve8        volt                 Gen1 mpg w/ dead battery?   \n",
       "\n",
       "                                            selftext category_1  \\\n",
       "0  Funny story. I went to college in Las Vegas. T...      autos   \n",
       "1  I am trying to determine which is faster, and ...      autos   \n",
       "2  Hello! <lb><lb>Trying to find some information...      autos   \n",
       "3  https://www.cars.com/articles/how-often-should...      autos   \n",
       "4  Hi, new to this subreddit.  I'm considering bu...      autos   \n",
       "\n",
       "        category_2 category_3  in_data reason_for_exclusion  \n",
       "0  harley davidson        NaN     True                  NaN  \n",
       "1             ford        NaN     True                  NaN  \n",
       "2               VW        NaN     True                  NaN  \n",
       "3            lexus        NaN     True                  NaN  \n",
       "4        chevrolet        NaN     True                  NaN  "
      ]
     },
     "execution_count": 14,
     "metadata": {},
     "output_type": "execute_result"
    }
   ],
   "source": [
    "df_raw.head()"
   ]
  },
  {
   "cell_type": "code",
   "execution_count": 15,
   "metadata": {},
   "outputs": [
    {
     "data": {
      "text/plain": [
       "array(['autos'], dtype=object)"
      ]
     },
     "execution_count": 15,
     "metadata": {},
     "output_type": "execute_result"
    }
   ],
   "source": [
    "df_raw[\"category_1\"].unique()"
   ]
  },
  {
   "cell_type": "code",
   "execution_count": 16,
   "metadata": {},
   "outputs": [
    {
     "data": {
      "text/plain": [
       "array(['harley davidson', 'ford', 'VW', 'lexus', 'chevrolet', 'volvo',\n",
       "       'honda', 'tesla', 'audi', 'mercedes', 'jeep', 'subaru', 'porsche',\n",
       "       'trucks', 'bmw', 'hyundai', 'mazda', 'mini', 'saab', 'toyota'],\n",
       "      dtype=object)"
      ]
     },
     "execution_count": 16,
     "metadata": {},
     "output_type": "execute_result"
    }
   ],
   "source": [
    "df_raw[\"category_2\"].unique()"
   ]
  },
  {
   "cell_type": "markdown",
   "metadata": {
    "id": "BYYDdlCr9nQ7"
   },
   "source": [
    "<a name='4.2.2'></a><a id='4.2.2'></a>\n",
    "## 4.2.2 Blueprint: Standardizing Attribute Names\n",
    "<a href=\"#top\">[back to top]</a>\n",
    "\n",
    "It is very useful to change the dataset-specific column names to more generic names. The main DataFrame should be `df`. The column containing the text we want to analyze should be `text`. This naming convention for common variables and attribute names makes it easier to reuse boilerplate code in different projects. "
   ]
  },
  {
   "cell_type": "code",
   "execution_count": 17,
   "metadata": {
    "ExecuteTime": {
     "end_time": "2022-02-11T07:08:53.317176Z",
     "start_time": "2022-02-11T07:08:53.278328Z"
    },
    "colab": {
     "base_uri": "https://localhost:8080/"
    },
    "id": "KVymMov19nQ7",
    "outputId": "2fb22f43-50c5-4856-e945-1224252aa4c3"
   },
   "outputs": [
    {
     "name": "stdout",
     "output_type": "stream",
     "text": [
      "Index(['id', 'subreddit', 'title', 'selftext', 'category_1', 'category_2',\n",
      "       'category_3', 'in_data', 'reason_for_exclusion'],\n",
      "      dtype='object')\n"
     ]
    }
   ],
   "source": [
    "print(df_raw.columns)"
   ]
  },
  {
   "cell_type": "markdown",
   "metadata": {},
   "source": [
    "For column renaming and selection, define a dictionary where each entry defines a mapping from the current column name to a new name. Columns mapped to `None` and unmentioned columns are dropped. "
   ]
  },
  {
   "cell_type": "code",
   "execution_count": 18,
   "metadata": {
    "ExecuteTime": {
     "end_time": "2022-02-11T07:08:53.819211Z",
     "start_time": "2022-02-11T07:08:53.764551Z"
    },
    "id": "T_C5wrhu9nQ8"
   },
   "outputs": [
    {
     "data": {
      "text/plain": [
       "['id', 'subreddit', 'title', 'selftext', 'category_1', 'category_2']"
      ]
     },
     "execution_count": 18,
     "metadata": {},
     "output_type": "execute_result"
    }
   ],
   "source": [
    "column_mapping = {\n",
    "    'id': 'id',\n",
    "    'subreddit': 'subreddit',\n",
    "    'title': 'title',\n",
    "    'selftext': 'text',\n",
    "    'category_1': 'category',\n",
    "    'category_2': 'subcategory',  \n",
    "    'category_3': None, # no data\n",
    "    'in_data': None, # not needed\n",
    "    'reason_for_exclusion': None # not needed\n",
    "}\n",
    "\n",
    "# Define remaining columns\n",
    "columns = [c for c in column_mapping.keys() if column_mapping[c] != None]\n",
    "columns"
   ]
  },
  {
   "cell_type": "code",
   "execution_count": 19,
   "metadata": {},
   "outputs": [
    {
     "data": {
      "text/html": [
       "<div>\n",
       "<style scoped>\n",
       "    .dataframe tbody tr th:only-of-type {\n",
       "        vertical-align: middle;\n",
       "    }\n",
       "\n",
       "    .dataframe tbody tr th {\n",
       "        vertical-align: top;\n",
       "    }\n",
       "\n",
       "    .dataframe thead th {\n",
       "        text-align: right;\n",
       "    }\n",
       "</style>\n",
       "<table border=\"1\" class=\"dataframe\">\n",
       "  <thead>\n",
       "    <tr style=\"text-align: right;\">\n",
       "      <th></th>\n",
       "      <th>id</th>\n",
       "      <th>subreddit</th>\n",
       "      <th>title</th>\n",
       "      <th>text</th>\n",
       "      <th>category</th>\n",
       "      <th>subcategory</th>\n",
       "    </tr>\n",
       "  </thead>\n",
       "  <tbody>\n",
       "    <tr>\n",
       "      <th>0</th>\n",
       "      <td>8f73s7</td>\n",
       "      <td>Harley</td>\n",
       "      <td>No Club Colors</td>\n",
       "      <td>Funny story. I went to college in Las Vegas. T...</td>\n",
       "      <td>autos</td>\n",
       "      <td>harley davidson</td>\n",
       "    </tr>\n",
       "    <tr>\n",
       "      <th>1</th>\n",
       "      <td>5s0q8r</td>\n",
       "      <td>Mustang</td>\n",
       "      <td>Roush vs Shleby GT500</td>\n",
       "      <td>I am trying to determine which is faster, and ...</td>\n",
       "      <td>autos</td>\n",
       "      <td>ford</td>\n",
       "    </tr>\n",
       "    <tr>\n",
       "      <th>2</th>\n",
       "      <td>5z3405</td>\n",
       "      <td>Volkswagen</td>\n",
       "      <td>2001 Golf Wagon looking for some insight</td>\n",
       "      <td>Hello! &lt;lb&gt;&lt;lb&gt;Trying to find some information...</td>\n",
       "      <td>autos</td>\n",
       "      <td>VW</td>\n",
       "    </tr>\n",
       "    <tr>\n",
       "      <th>3</th>\n",
       "      <td>7df18v</td>\n",
       "      <td>Lexus</td>\n",
       "      <td>IS 250 Coolant Flush/Change</td>\n",
       "      <td>https://www.cars.com/articles/how-often-should...</td>\n",
       "      <td>autos</td>\n",
       "      <td>lexus</td>\n",
       "    </tr>\n",
       "    <tr>\n",
       "      <th>4</th>\n",
       "      <td>5tpve8</td>\n",
       "      <td>volt</td>\n",
       "      <td>Gen1 mpg w/ dead battery?</td>\n",
       "      <td>Hi, new to this subreddit.  I'm considering bu...</td>\n",
       "      <td>autos</td>\n",
       "      <td>chevrolet</td>\n",
       "    </tr>\n",
       "  </tbody>\n",
       "</table>\n",
       "</div>"
      ],
      "text/plain": [
       "       id   subreddit                                     title  \\\n",
       "0  8f73s7      Harley                            No Club Colors   \n",
       "1  5s0q8r     Mustang                     Roush vs Shleby GT500   \n",
       "2  5z3405  Volkswagen  2001 Golf Wagon looking for some insight   \n",
       "3  7df18v       Lexus               IS 250 Coolant Flush/Change   \n",
       "4  5tpve8        volt                 Gen1 mpg w/ dead battery?   \n",
       "\n",
       "                                                text category      subcategory  \n",
       "0  Funny story. I went to college in Las Vegas. T...    autos  harley davidson  \n",
       "1  I am trying to determine which is faster, and ...    autos             ford  \n",
       "2  Hello! <lb><lb>Trying to find some information...    autos               VW  \n",
       "3  https://www.cars.com/articles/how-often-should...    autos            lexus  \n",
       "4  Hi, new to this subreddit.  I'm considering bu...    autos        chevrolet  "
      ]
     },
     "execution_count": 19,
     "metadata": {},
     "output_type": "execute_result"
    }
   ],
   "source": [
    "# Select and rename those columns\n",
    "df = df_raw[columns].rename(columns=column_mapping)\n",
    "df.head()"
   ]
  },
  {
   "cell_type": "code",
   "execution_count": 20,
   "metadata": {},
   "outputs": [
    {
     "data": {
      "text/plain": [
       "array(['autos'], dtype=object)"
      ]
     },
     "execution_count": 20,
     "metadata": {},
     "output_type": "execute_result"
    }
   ],
   "source": [
    "df['category'].unique()"
   ]
  },
  {
   "cell_type": "markdown",
   "metadata": {},
   "source": [
    "We also limit the data to the autos category."
   ]
  },
  {
   "cell_type": "code",
   "execution_count": 21,
   "metadata": {
    "ExecuteTime": {
     "end_time": "2022-02-11T07:08:54.357742Z",
     "start_time": "2022-02-11T07:08:54.296583Z"
    },
    "id": "jJKTbJwz9nQ8"
   },
   "outputs": [],
   "source": [
    "df = df[df['category'] == 'autos']"
   ]
  },
  {
   "cell_type": "code",
   "execution_count": 22,
   "metadata": {
    "ExecuteTime": {
     "end_time": "2022-02-11T07:08:55.007653Z",
     "start_time": "2022-02-11T07:08:54.969064Z"
    },
    "id": "9O0tqprb9nQ9"
   },
   "outputs": [],
   "source": [
    "pd.options.display.max_colwidth = None\n",
    "df.sample(1, random_state=7).T\n",
    "pd.options.display.max_colwidth = 200"
   ]
  },
  {
   "cell_type": "markdown",
   "metadata": {
    "id": "llbKty8V9nQ9"
   },
   "source": [
    "<a name='4.2.3'></a><a id='4.2.3'></a>\n",
    "## 4.2.3 Saving and Loading a DataFrame\n",
    "<a href=\"#top\">[back to top]</a>\n",
    "\n",
    "Afer each step of data preparation, it is helpful to write the respective DataFrame to disk as a checkpoint. This is similar to the TFX workflow. \n",
    "\n",
    "We can easily save via Python's serialization format, `pickle`."
   ]
  },
  {
   "cell_type": "code",
   "execution_count": 23,
   "metadata": {
    "ExecuteTime": {
     "end_time": "2022-02-11T07:08:55.673800Z",
     "start_time": "2022-02-11T07:08:55.507564Z"
    },
    "id": "JgcY0J279nQ-"
   },
   "outputs": [],
   "source": [
    "df.to_pickle(\"reddit_dataframe.pkl\")"
   ]
  },
  {
   "cell_type": "markdown",
   "metadata": {},
   "source": [
    "One recomendation is to store dataframes in SQL databases, since it offers many advantages, such as filters, joins, and easy access from many tools. However, only SQL types are supported. Columns containing objects or lists need to be serialized manually. We use SQLite here since it just a library and does not require a server."
   ]
  },
  {
   "cell_type": "code",
   "execution_count": 24,
   "metadata": {
    "ExecuteTime": {
     "end_time": "2022-02-11T07:09:05.570184Z",
     "start_time": "2022-02-11T07:08:55.817870Z"
    },
    "id": "zZBroItp9nQ-"
   },
   "outputs": [],
   "source": [
    "db_name = \"reddit-selfposts.db\"\n",
    "con = sqlite3.connect(db_name)\n",
    "df.to_sql(\"posts\", con, index=False, if_exists=\"replace\")\n",
    "con.close()"
   ]
  },
  {
   "cell_type": "markdown",
   "metadata": {},
   "source": [
    "Restore the DataFrame with `pd.read_sql()`"
   ]
  },
  {
   "cell_type": "code",
   "execution_count": 25,
   "metadata": {
    "ExecuteTime": {
     "end_time": "2022-02-11T07:09:07.042658Z",
     "start_time": "2022-02-11T07:09:05.737789Z"
    },
    "id": "xxMl2LIn9nQ_"
   },
   "outputs": [],
   "source": [
    "con = sqlite3.connect(db_name)\n",
    "df = pd.read_sql(\"select * from posts\", con)\n",
    "con.close()"
   ]
  },
  {
   "cell_type": "markdown",
   "metadata": {
    "id": "WQFXl22a9nRA"
   },
   "source": [
    "---\n",
    "<a name='4.3'></a><a id='4.3'></a>\n",
    "# 4.3 Cleaning Text\n",
    "<a href=\"#top\">[back to top]</a>"
   ]
  },
  {
   "cell_type": "code",
   "execution_count": 26,
   "metadata": {
    "ExecuteTime": {
     "end_time": "2022-02-11T07:09:07.473781Z",
     "start_time": "2022-02-11T07:09:07.420741Z"
    },
    "id": "-ZLAKm9m9nRA"
   },
   "outputs": [],
   "source": [
    "text = \"\"\"\n",
    "After viewing the [PINKIEPOOL Trailer](https://www.youtu.be/watch?v=ieHRoHUg)\n",
    "it got me thinking about the best match ups.\n",
    "<lb>Here's my take:<lb><lb>[](/sp)[](/ppseesyou) Deadpool<lb>[](/sp)[](/ajsly)\n",
    "Captain America<lb>\"\"\""
   ]
  },
  {
   "cell_type": "code",
   "execution_count": 27,
   "metadata": {
    "ExecuteTime": {
     "end_time": "2022-02-11T07:09:07.708836Z",
     "start_time": "2022-02-11T07:09:07.652054Z"
    },
    "colab": {
     "base_uri": "https://localhost:8080/"
    },
    "id": "Cr-hjMjc9nRA",
    "outputId": "d26e3faf-560f-49cb-c4fc-8dcfb52fc623"
   },
   "outputs": [
    {
     "name": "stdout",
     "output_type": "stream",
     "text": [
      "\n",
      "After viewing the [PINKIEPOOL Trailer](https://www.youtu.be/watch?v=ieHRoHUg)\n",
      "it got me thinking about the best match ups.\n",
      "<lb>Here's my take:<lb><lb>[](/sp)[](/ppseesyou) Deadpool<lb>[](/sp)[](/ajsly)\n",
      "Captain America<lb>\n"
     ]
    }
   ],
   "source": [
    "print(text)"
   ]
  },
  {
   "cell_type": "markdown",
   "metadata": {
    "id": "XzMYT1Gb9nRB"
   },
   "source": [
    "<a name='4.3.1'></a><a id='4.3.1'></a>\n",
    "## 4.3.1 Blueprint: Identify Noise with Regular Expressions\n",
    "<a href=\"#top\">[back to top]</a>\n",
    "\n",
    "Beyond a very small sample, it is not feasible to check the dataset for quality problems. Instead, it is better to define rough patterns indicating likely problems, and check the complete dataset programmatically.\n",
    "\n",
    "Here, we use a regex pattern to detect noise in the textual data."
   ]
  },
  {
   "cell_type": "code",
   "execution_count": 28,
   "metadata": {
    "ExecuteTime": {
     "end_time": "2022-02-11T07:09:07.936942Z",
     "start_time": "2022-02-11T07:09:07.873892Z"
    },
    "colab": {
     "base_uri": "https://localhost:8080/"
    },
    "id": "zOvLwkNd9nRB",
    "outputId": "8778a3f2-9e21-4211-e455-73c4ca284d84"
   },
   "outputs": [
    {
     "name": "stdout",
     "output_type": "stream",
     "text": [
      "Percentage of dataset likely to be noise: 9.01%\n"
     ]
    }
   ],
   "source": [
    "RE_SUSPICIOUS = re.compile(r'[&#<>{}\\[\\]\\\\]')\n",
    "\n",
    "def impurity(text, min_len=10):\n",
    "    \"\"\"returns the share of suspicious characters in a text\"\"\"\n",
    "    if text == None or len(text) < min_len:\n",
    "        return 0\n",
    "    else:\n",
    "        return len(RE_SUSPICIOUS.findall(text))/len(text)\n",
    "\n",
    "print(f\"Percentage of dataset likely to be noise: {impurity(text):.2%}\")"
   ]
  },
  {
   "cell_type": "markdown",
   "metadata": {},
   "source": [
    "For this particular dataset, we can capture most of the noise with the following two statements. We use Pandas `apply()` instead of `map()` since it allows us to forward additional parameters like `min_len` to the applied function."
   ]
  },
  {
   "cell_type": "code",
   "execution_count": 29,
   "metadata": {
    "ExecuteTime": {
     "end_time": "2022-02-11T07:09:08.571522Z",
     "start_time": "2022-02-11T07:09:08.114955Z"
    },
    "colab": {
     "base_uri": "https://localhost:8080/",
     "height": 49,
     "referenced_widgets": [
      "c369279cef4b432fbc926e58732cce60",
      "9718e4a6c4764bccb92f9397763b2f0d",
      "6e39ffdf51e94959a40e0a8e15fb6ff1",
      "108db477207b4864a11b90b7bfe80437",
      "119937db762749908315df8cc4ab5769",
      "776681f030b74b30b5f90eb9e06c729d",
      "54c9ca98856840f298dac778bf291722",
      "c200973a477d4e529c75cf03ed413530",
      "f7ad4cbce5914c79af62db10e3dd9186",
      "b7e6614eb7014b8dbf1820487bbbf1fc",
      "b7a9fb2192744b66a8c41155c80be968"
     ]
    },
    "id": "G3eRzF9l9nRB",
    "outputId": "02b36c11-f6e8-4f1d-e15d-7861307c2755"
   },
   "outputs": [
    {
     "data": {
      "application/vnd.jupyter.widget-view+json": {
       "model_id": "861552ae7cbc4fe7a1f77a8ca84b7613",
       "version_major": 2,
       "version_minor": 0
      },
      "text/plain": [
       "progress-bar:   0%|          | 0/20000 [00:00<?, ?it/s]"
      ]
     },
     "metadata": {},
     "output_type": "display_data"
    },
    {
     "data": {
      "text/html": [
       "<div>\n",
       "<style scoped>\n",
       "    .dataframe tbody tr th:only-of-type {\n",
       "        vertical-align: middle;\n",
       "    }\n",
       "\n",
       "    .dataframe tbody tr th {\n",
       "        vertical-align: top;\n",
       "    }\n",
       "\n",
       "    .dataframe thead th {\n",
       "        text-align: right;\n",
       "    }\n",
       "</style>\n",
       "<table border=\"1\" class=\"dataframe\">\n",
       "  <thead>\n",
       "    <tr style=\"text-align: right;\">\n",
       "      <th></th>\n",
       "      <th>text</th>\n",
       "      <th>impurity</th>\n",
       "    </tr>\n",
       "  </thead>\n",
       "  <tbody>\n",
       "    <tr>\n",
       "      <th>19682</th>\n",
       "      <td>Looking at buying a 335i with 39k miles and 11 months left on the CPO warranty. I asked the deal...</td>\n",
       "      <td>0.214716</td>\n",
       "    </tr>\n",
       "    <tr>\n",
       "      <th>12357</th>\n",
       "      <td>I'm looking to lease an a4 premium plus automatic with the nav package.&lt;lb&gt;&lt;lb&gt;Vehicle Price:&lt;ta...</td>\n",
       "      <td>0.165099</td>\n",
       "    </tr>\n",
       "    <tr>\n",
       "      <th>2730</th>\n",
       "      <td>Breakdown below:&lt;lb&gt;&lt;lb&gt;Elantra GT&lt;lb&gt;&lt;lb&gt;2.0L 4-cylinder&lt;lb&gt;&lt;lb&gt;6-speed Manual Transmission&lt;lb&gt;...</td>\n",
       "      <td>0.139130</td>\n",
       "    </tr>\n",
       "  </tbody>\n",
       "</table>\n",
       "</div>"
      ],
      "text/plain": [
       "                                                                                                      text  \\\n",
       "19682  Looking at buying a 335i with 39k miles and 11 months left on the CPO warranty. I asked the deal...   \n",
       "12357  I'm looking to lease an a4 premium plus automatic with the nav package.<lb><lb>Vehicle Price:<ta...   \n",
       "2730   Breakdown below:<lb><lb>Elantra GT<lb><lb>2.0L 4-cylinder<lb><lb>6-speed Manual Transmission<lb>...   \n",
       "\n",
       "       impurity  \n",
       "19682  0.214716  \n",
       "12357  0.165099  \n",
       "2730   0.139130  "
      ]
     },
     "execution_count": 29,
     "metadata": {},
     "output_type": "execute_result"
    }
   ],
   "source": [
    "pd.options.display.max_colwidth = 100 ###\n",
    "\n",
    "# Add new column to data frame.\n",
    "df['impurity'] = df['text'].progress_apply(impurity, min_len=10)\n",
    "\n",
    "# Get the top 3 records.\n",
    "df[['text', 'impurity']].sort_values(by='impurity', ascending=False).head(3)"
   ]
  },
  {
   "cell_type": "code",
   "execution_count": 30,
   "metadata": {},
   "outputs": [
    {
     "data": {
      "text/plain": [
       "count    20000.000000\n",
       "mean         0.014019\n",
       "std          0.013599\n",
       "min          0.000000\n",
       "25%          0.000000\n",
       "50%          0.011984\n",
       "75%          0.020908\n",
       "max          0.214716\n",
       "Name: impurity, dtype: float64"
      ]
     },
     "execution_count": 30,
     "metadata": {},
     "output_type": "execute_result"
    }
   ],
   "source": [
    "df['impurity'].describe()"
   ]
  },
  {
   "cell_type": "code",
   "execution_count": 31,
   "metadata": {},
   "outputs": [
    {
     "data": {
      "image/png": "[encoded data removed]",
      "text/plain": [
       "<Figure size 640x480 with 1 Axes>"
      ]
     },
     "metadata": {},
     "output_type": "display_data"
    }
   ],
   "source": [
    "df['impurity'].plot()\n",
    "plt.show()"
   ]
  },
  {
   "cell_type": "code",
   "execution_count": 32,
   "metadata": {
    "id": "Tq1Esjhu9nRB"
   },
   "outputs": [],
   "source": [
    "def count_words(df, column='tokens', preprocess=None, min_freq=2):\n",
    "\n",
    "    # Process tokens and update counter.\n",
    "    def update(doc):\n",
    "        tokens = doc if preprocess is None else preprocess(doc)\n",
    "        counter.update(tokens)\n",
    "\n",
    "    # Create counter and run through all data.\n",
    "    counter = Counter()\n",
    "    df[column].progress_map(update)\n",
    "\n",
    "    # Transform counter into data frame.\n",
    "    freq_df = pd.DataFrame.from_dict(counter, orient='index', columns=['freq'])\n",
    "    freq_df = freq_df.query('freq >= @min_freq')\n",
    "    freq_df.index.name = 'token'\n",
    "    return freq_df.sort_values('freq', ascending=False)\n",
    "    \n",
    "def idf(df, column='tokens', preprocess=None, min_df=2):\n",
    "\n",
    "    def update(doc):\n",
    "        tokens = doc if preprocess is None else preprocess(doc)\n",
    "        counter.update(set(tokens))\n",
    "\n",
    "    # Count tokens\n",
    "    counter = Counter()\n",
    "    df[column].progress_map(update)\n",
    "\n",
    "    # Create data frame and compute idf\n",
    "    idf_df = pd.DataFrame.from_dict(counter, orient='index', columns=['df'])\n",
    "    idf_df = idf_df[idf_df['df'] >= min_df]\n",
    "    idf_df['idf'] = np.log(len(df)/idf_df['df'])+0.1\n",
    "    idf_df.index.name = 'token'\n",
    "    return idf_df\n",
    "    \n",
    "    \n",
    "def KWIC(*args, **kwargs):\n",
    "    # call keyword_in_context with all params except 'print_only'\n",
    "    return keyword_in_context(*args, \n",
    "                       **{kw: arg for kw, arg in kwargs.items() \n",
    "                        if kw != 'print_only'})\n",
    "\n",
    "def kwic(doc_series, keyword, window=35, print_samples=5):\n",
    "\n",
    "    def add_kwic(text):\n",
    "        kwic_list.extend(KWIC(text, keyword, ignore_case=True, \n",
    "                              window_width=window, print_only=False))\n",
    "\n",
    "    kwic_list = []\n",
    "    doc_series.progress_map(add_kwic)\n",
    "\n",
    "    if print_samples is None or print_samples==0:\n",
    "        return kwic_list\n",
    "    else:\n",
    "        k = min(print_samples, len(kwic_list))\n",
    "        print(f\"{k} random samples out of {len(kwic_list)} contexts for '{keyword}':\")\n",
    "        for sample in random.sample(list(kwic_list), k):\n",
    "            print(re.sub(r'[\\n\\t]', ' ', sample[0])+'  '+ \\\n",
    "                  sample[1]+'  '+\\\n",
    "                  re.sub(r'[\\n\\t]', ' ', sample[2]))"
   ]
  },
  {
   "cell_type": "markdown",
   "metadata": {},
   "source": [
    "Check what tags might be included in the dataset."
   ]
  },
  {
   "cell_type": "code",
   "execution_count": 33,
   "metadata": {
    "ExecuteTime": {
     "end_time": "2022-02-11T07:09:09.565541Z",
     "start_time": "2022-02-11T07:09:08.740547Z"
    },
    "colab": {
     "base_uri": "https://localhost:8080/",
     "height": 175,
     "referenced_widgets": [
      "a0fc9677c70045eeb004d621f1dbc8bd",
      "686b4b7130014f27a63241e96b17b366",
      "075d103893e945e7b697603e5ce96aef",
      "eac8f134902c4f6a8b93cab864f21724",
      "dd4ba88320644dd09061046bdf288325",
      "4ec3dfbbfb83469da03b66c3e9b0005f",
      "7f5fdbdfcd8f49a09988aad94368650c",
      "4f98ca94462c4015af047576d751d8b4",
      "57fd2cfddd7d4598b0b466dce9cc6fff",
      "9590d117416d4b74abd3135a5180c5a5",
      "37604c57c8654d0abc035e8a82ad5e02"
     ]
    },
    "id": "m5ZR-lhU9nRC",
    "outputId": "4c56f22c-47f5-4961-c3dc-aa66d3756ef3"
   },
   "outputs": [
    {
     "data": {
      "application/vnd.jupyter.widget-view+json": {
       "model_id": "daacf41acf0b43108ae4236bf79ca214",
       "version_major": 2,
       "version_minor": 0
      },
      "text/plain": [
       "progress-bar:   0%|          | 0/20000 [00:00<?, ?it/s]"
      ]
     },
     "metadata": {},
     "output_type": "display_data"
    },
    {
     "data": {
      "text/html": [
       "<div>\n",
       "<style scoped>\n",
       "    .dataframe tbody tr th:only-of-type {\n",
       "        vertical-align: middle;\n",
       "    }\n",
       "\n",
       "    .dataframe tbody tr th {\n",
       "        vertical-align: top;\n",
       "    }\n",
       "\n",
       "    .dataframe thead th {\n",
       "        text-align: right;\n",
       "    }\n",
       "</style>\n",
       "<table border=\"1\" class=\"dataframe\">\n",
       "  <thead>\n",
       "    <tr style=\"text-align: right;\">\n",
       "      <th></th>\n",
       "      <th>freq</th>\n",
       "    </tr>\n",
       "    <tr>\n",
       "      <th>token</th>\n",
       "      <th></th>\n",
       "    </tr>\n",
       "  </thead>\n",
       "  <tbody>\n",
       "    <tr>\n",
       "      <th>&lt;lb&gt;</th>\n",
       "      <td>100729</td>\n",
       "    </tr>\n",
       "    <tr>\n",
       "      <th>&lt;tab&gt;</th>\n",
       "      <td>642</td>\n",
       "    </tr>\n",
       "  </tbody>\n",
       "</table>\n",
       "</div>"
      ],
      "text/plain": [
       "         freq\n",
       "token        \n",
       "<lb>   100729\n",
       "<tab>     642"
      ]
     },
     "execution_count": 33,
     "metadata": {},
     "output_type": "execute_result"
    }
   ],
   "source": [
    "count_words(df, column='text', preprocess=lambda t: re.findall(r'<[\\w/]*>', t))"
   ]
  },
  {
   "cell_type": "markdown",
   "metadata": {
    "id": "peSWavpN9nRD"
   },
   "source": [
    "<a name='4.3.2'></a><a id='4.3.2'></a>\n",
    "## 4.3.2 Blueprint: Removing Noise with Regular Expressions\n",
    "<a href=\"#top\">[back to top]</a>\n",
    "\n",
    "This approach to data cleaning consists of defining a set of regex and identifying problematic patterns and corresponding substitution rules. "
   ]
  },
  {
   "cell_type": "code",
   "execution_count": 34,
   "metadata": {
    "ExecuteTime": {
     "end_time": "2022-02-11T07:09:09.829932Z",
     "start_time": "2022-02-11T07:09:09.755277Z"
    },
    "id": "3OdEfsvE9nRD"
   },
   "outputs": [],
   "source": [
    "def clean(text):\n",
    "    # Convert html escapes like &amp; to characters.\n",
    "    text = html.unescape(text) \n",
    "    # Tags like <tab>\n",
    "    text = re.sub(r'<[^<>]*>', ' ', text)\n",
    "    # Markdown URLs like [Some text](https://....)\n",
    "    text = re.sub(r'\\[([^\\[\\]]*)\\]\\([^\\(\\)]*\\)', r'\\1', text)\n",
    "    # Text or code in brackets like [0]\n",
    "    text = re.sub(r'\\[[^\\[\\]]*\\]', ' ', text)\n",
    "    # Standalone sequences of specials, matches &# but not #cool\n",
    "    text = re.sub(r'(?:^|\\s)[&#<>{}\\[\\]+|\\\\:-]{1,}(?:\\s|$)', ' ', text)\n",
    "    # Standalone sequences of hyphens like --- or ==\n",
    "    text = re.sub(r'(?:^|\\s)[\\-=\\+]{2,}(?:\\s|$)', ' ', text)\n",
    "    # Sequences of white spaces\n",
    "    text = re.sub(r'\\s+', ' ', text)\n",
    "    \n",
    "    return text.strip()"
   ]
  },
  {
   "cell_type": "markdown",
   "metadata": {},
   "source": [
    "---\n",
    "Apply the `clean` function to the earlier sample text."
   ]
  },
  {
   "cell_type": "code",
   "execution_count": 35,
   "metadata": {
    "ExecuteTime": {
     "end_time": "2022-02-11T07:09:12.306785Z",
     "start_time": "2022-02-11T07:09:12.254626Z"
    },
    "colab": {
     "base_uri": "https://localhost:8080/"
    },
    "id": "rDeTHvA-9nRD",
    "outputId": "0de39cad-885f-44b9-aa2d-4eb6c222f0af"
   },
   "outputs": [
    {
     "name": "stdout",
     "output_type": "stream",
     "text": [
      "\n",
      "After viewing the [PINKIEPOOL Trailer](https://www.youtu.be/watch?v=ieHRoHUg)\n",
      "it got me thinking about the best match ups.\n",
      "<lb>Here's my take:<lb><lb>[](/sp)[](/ppseesyou) Deadpool<lb>[](/sp)[](/ajsly)\n",
      "Captain America<lb>\n",
      "----------------------------------------\n",
      "After viewing the PINKIEPOOL Trailer it got me thinking about the best match ups. Here's my take: Deadpool Captain America\n",
      "Impurity: 0.0\n"
     ]
    }
   ],
   "source": [
    "print(text)\n",
    "HR()\n",
    "\n",
    "clean_text = clean(text)\n",
    "print(clean_text)\n",
    "print(\"Impurity:\", impurity(clean_text))"
   ]
  },
  {
   "cell_type": "code",
   "execution_count": 36,
   "metadata": {
    "ExecuteTime": {
     "end_time": "2022-02-11T07:09:15.899306Z",
     "start_time": "2022-02-11T07:09:12.731714Z"
    },
    "colab": {
     "base_uri": "https://localhost:8080/",
     "height": 49,
     "referenced_widgets": [
      "43a2abb9db89439090d94744378c44af",
      "83030a745e514283bbaca31e9eab2384",
      "38ec195025ff43f386b9d67b584f9546",
      "929f90dc41064ed3b6ab18f134b3f9fc",
      "6718019291fa4dfe80abccd05d7ce245",
      "8dd67b8c14ac4a9eb81125c77f9def2a",
      "ebe421bdfa514c0eac2cf867dcd478f8",
      "6d8a4432f0554adbb51f30b549bc50f6",
      "c38a4160413b46a9a4873af055246c51",
      "bbe0b9f3e5c441cbb3bccabb218439ec",
      "6a3c74cfb3584880a7a9329829573136"
     ]
    },
    "id": "x6aRpj869nRD",
    "outputId": "331c06eb-c9c0-45da-edf9-f1449fcc2cf4"
   },
   "outputs": [
    {
     "data": {
      "application/vnd.jupyter.widget-view+json": {
       "model_id": "e10c39d14a574e84a3a6cee905642cbe",
       "version_major": 2,
       "version_minor": 0
      },
      "text/plain": [
       "progress-bar:   0%|          | 0/20000 [00:00<?, ?it/s]"
      ]
     },
     "metadata": {},
     "output_type": "display_data"
    }
   ],
   "source": [
    "df['clean_text'] = df['text'].progress_map(clean)\n",
    "df['impurity']   = df['clean_text'].apply(impurity, min_len=20)"
   ]
  },
  {
   "cell_type": "markdown",
   "metadata": {},
   "source": [
    "---\n",
    "Check the impurity of the cleaned text, and add further cleaning steps if necessary."
   ]
  },
  {
   "cell_type": "code",
   "execution_count": 37,
   "metadata": {
    "ExecuteTime": {
     "end_time": "2022-02-11T07:09:16.283338Z",
     "start_time": "2022-02-11T07:09:16.174025Z"
    },
    "colab": {
     "base_uri": "https://localhost:8080/",
     "height": 239
    },
    "id": "fcquIZe09nRE",
    "outputId": "943809b7-f7f8-47a4-a943-77df59ff0f9d"
   },
   "outputs": [
    {
     "data": {
      "text/html": [
       "<div>\n",
       "<style scoped>\n",
       "    .dataframe tbody tr th:only-of-type {\n",
       "        vertical-align: middle;\n",
       "    }\n",
       "\n",
       "    .dataframe tbody tr th {\n",
       "        vertical-align: top;\n",
       "    }\n",
       "\n",
       "    .dataframe thead th {\n",
       "        text-align: right;\n",
       "    }\n",
       "</style>\n",
       "<table border=\"1\" class=\"dataframe\">\n",
       "  <thead>\n",
       "    <tr style=\"text-align: right;\">\n",
       "      <th></th>\n",
       "      <th>clean_text</th>\n",
       "      <th>impurity</th>\n",
       "    </tr>\n",
       "  </thead>\n",
       "  <tbody>\n",
       "    <tr>\n",
       "      <th>14058</th>\n",
       "      <td>Mustang 2018, 2019, or 2020? Must Haves!! 1. Have a Credit score of 780\\+ for the best low inter...</td>\n",
       "      <td>0.030864</td>\n",
       "    </tr>\n",
       "    <tr>\n",
       "      <th>18934</th>\n",
       "      <td>At the dealership, they offered an option for foot-well illumination, but I cannot find any refe...</td>\n",
       "      <td>0.026455</td>\n",
       "    </tr>\n",
       "    <tr>\n",
       "      <th>16505</th>\n",
       "      <td>I am looking at four Caymans, all are in a similar price range. The major differences are the mi...</td>\n",
       "      <td>0.024631</td>\n",
       "    </tr>\n",
       "  </tbody>\n",
       "</table>\n",
       "</div>"
      ],
      "text/plain": [
       "                                                                                                clean_text  \\\n",
       "14058  Mustang 2018, 2019, or 2020? Must Haves!! 1. Have a Credit score of 780\\+ for the best low inter...   \n",
       "18934  At the dealership, they offered an option for foot-well illumination, but I cannot find any refe...   \n",
       "16505  I am looking at four Caymans, all are in a similar price range. The major differences are the mi...   \n",
       "\n",
       "       impurity  \n",
       "14058  0.030864  \n",
       "18934  0.026455  \n",
       "16505  0.024631  "
      ]
     },
     "execution_count": 37,
     "metadata": {},
     "output_type": "execute_result"
    }
   ],
   "source": [
    "(\n",
    "    df[['clean_text', 'impurity']]\n",
    "    .sort_values(by='impurity', ascending=False) \\\n",
    "    .head(3)\n",
    ")"
   ]
  },
  {
   "cell_type": "code",
   "execution_count": 38,
   "metadata": {},
   "outputs": [
    {
     "data": {
      "text/plain": [
       "count    20000.000000\n",
       "mean         0.000144\n",
       "std          0.000982\n",
       "min          0.000000\n",
       "25%          0.000000\n",
       "50%          0.000000\n",
       "75%          0.000000\n",
       "max          0.030864\n",
       "Name: impurity, dtype: float64"
      ]
     },
     "execution_count": 38,
     "metadata": {},
     "output_type": "execute_result"
    }
   ],
   "source": [
    "df['impurity'].describe()"
   ]
  },
  {
   "cell_type": "code",
   "execution_count": 39,
   "metadata": {},
   "outputs": [
    {
     "data": {
      "image/png": "[encoded data removed]",
      "text/plain": [
       "<Figure size 640x480 with 1 Axes>"
      ]
     },
     "metadata": {},
     "output_type": "display_data"
    }
   ],
   "source": [
    "df['impurity'].plot()\n",
    "plt.show()"
   ]
  },
  {
   "cell_type": "markdown",
   "metadata": {
    "id": "KFaw9hHb9nRE"
   },
   "source": [
    "<a name='4.3.3'></a><a id='4.3.3'></a>\n",
    "## 4.3.3 Blueprint: Character Normalization with textacy\n",
    "<a href=\"#top\">[back to top]</a>\n",
    "\n",
    "*textacy* is an NLP library built to work with spaCy. It leaves the linguistic part to spaCy and focuses on pre- and postprocessing. Thus, its preprocessing module comprises a nice collection of functions to normalize characters and to treat common patterns such as URLs, email addresses, telephone numbers, and so on.\n",
    "\n",
    "Useful textacy preprocessing functions:\n",
    "\n",
    "* `normalize_hyphenated_words`: Reassembles words that were separated by a line break\n",
    "* `normalize_quotation_marks`: Replaces all kind of fancy quotation marks with an ASCII equivalent \n",
    "* `normalize_unicode:` Unifies different codes of accented characters in Unicode\n",
    "* `remove_accents`: Replaces accented characters with ASCII, if possible, or drops them\n",
    "* `replace_urls`: Similar for URLs like https://xyz.com\n",
    "* `replace_emails`: Replaces emails with _EMAIL_\n",
    "* `replace_hashtags`: Similar for tags like #sunshine\n",
    "* `replace_numbers`: Similar for numbers like 1235\n",
    "* `replace_phone_numbers`: Similar for telephone numbers +1 800 456-6553\n",
    "* `replace_user_handles`: Similar for user handles like @pete\n",
    "* `replace_emojis`: Replaces smileys etc. with _EMOJI_"
   ]
  },
  {
   "cell_type": "code",
   "execution_count": 40,
   "metadata": {
    "ExecuteTime": {
     "end_time": "2022-02-11T07:09:16.608328Z",
     "start_time": "2022-02-11T07:09:16.523502Z"
    },
    "id": "uOU4Shtd9nRE"
   },
   "outputs": [],
   "source": [
    "text = \"The café “Saint-Raphaël” is loca-\\nted on Côte dʼAzur.\""
   ]
  },
  {
   "cell_type": "code",
   "execution_count": 41,
   "metadata": {
    "ExecuteTime": {
     "end_time": "2022-02-11T07:09:18.036817Z",
     "start_time": "2022-02-11T07:09:17.910871Z"
    },
    "id": "X-TjJ0AP9nRF"
   },
   "outputs": [],
   "source": [
    "# Adjusted to textacy 0.11\n",
    "def normalize(text):\n",
    "    text = tprep.normalize.hyphenated_words(text)\n",
    "    text = tprep.normalize.quotation_marks(text)\n",
    "    text = tprep.normalize.unicode(text)\n",
    "    text = tprep.remove.accents(text)\n",
    "    return text"
   ]
  },
  {
   "cell_type": "code",
   "execution_count": 42,
   "metadata": {
    "ExecuteTime": {
     "end_time": "2022-02-11T07:09:21.009078Z",
     "start_time": "2022-02-11T07:09:20.963523Z"
    },
    "colab": {
     "base_uri": "https://localhost:8080/"
    },
    "id": "BLvgjVB69nRF",
    "outputId": "27d25492-dd50-4709-dc8b-b7d7db4de449"
   },
   "outputs": [
    {
     "name": "stdout",
     "output_type": "stream",
     "text": [
      "The cafe \"Saint-Raphael\" is located on Cote d'Azur.\n"
     ]
    }
   ],
   "source": [
    "print(normalize(text))"
   ]
  },
  {
   "cell_type": "markdown",
   "metadata": {
    "id": "BEikAUGo9nRF"
   },
   "source": [
    "<a name='4.3.4'></a><a id='4.3.4'></a>\n",
    "## 4.3.4 Blueprint: Pattern-Based Data Masking with textacy\n",
    "<a href=\"#top\">[back to top]</a>\n",
    "\n",
    "In this example, find the most frequently used URLs in the corpus."
   ]
  },
  {
   "cell_type": "code",
   "execution_count": 43,
   "metadata": {
    "ExecuteTime": {
     "end_time": "2022-02-11T07:09:23.469380Z",
     "start_time": "2022-02-11T07:09:22.340940Z"
    },
    "colab": {
     "base_uri": "https://localhost:8080/",
     "height": 207,
     "referenced_widgets": [
      "43d34943636b4edfb2ae98751d458c5a",
      "5ecb84d9e7cf41e89b619eace84530c0",
      "f40643a6613348ccbf3fef445271e909",
      "49ac051df92d402da0e9168f3b8f14b2",
      "62d557df64904f93af8947abe5fcf542",
      "85efe1c1d4254d5c856166e9008cf092",
      "c23ea0f1ee844dfa96bd719d7e0091e6",
      "5aef10d5826a48f897b051586acb286b",
      "7322e3d69aeb444cb792161466d9ee84",
      "708fadda40ae416d8d26ab4cb215f5c8",
      "c4f62b744c784d919c9eefceed95ea25"
     ]
    },
    "id": "RrqQDry49nRG",
    "outputId": "dcbcbdbf-03c1-412e-a015-bff22749bc10"
   },
   "outputs": [
    {
     "data": {
      "application/vnd.jupyter.widget-view+json": {
       "model_id": "f329fc5b0ed6461798dea93f8c961868",
       "version_major": 2,
       "version_minor": 0
      },
      "text/plain": [
       "progress-bar:   0%|          | 0/20000 [00:00<?, ?it/s]"
      ]
     },
     "metadata": {},
     "output_type": "display_data"
    },
    {
     "data": {
      "text/html": [
       "<div>\n",
       "<style scoped>\n",
       "    .dataframe tbody tr th:only-of-type {\n",
       "        vertical-align: middle;\n",
       "    }\n",
       "\n",
       "    .dataframe tbody tr th {\n",
       "        vertical-align: top;\n",
       "    }\n",
       "\n",
       "    .dataframe thead th {\n",
       "        text-align: right;\n",
       "    }\n",
       "</style>\n",
       "<table border=\"1\" class=\"dataframe\">\n",
       "  <thead>\n",
       "    <tr style=\"text-align: right;\">\n",
       "      <th></th>\n",
       "      <th>freq</th>\n",
       "    </tr>\n",
       "    <tr>\n",
       "      <th>token</th>\n",
       "      <th></th>\n",
       "    </tr>\n",
       "  </thead>\n",
       "  <tbody>\n",
       "    <tr>\n",
       "      <th>www.getlowered.com</th>\n",
       "      <td>3</td>\n",
       "    </tr>\n",
       "    <tr>\n",
       "      <th>http://www.ecolamautomotive.com/#!2/kv7fq</th>\n",
       "      <td>2</td>\n",
       "    </tr>\n",
       "    <tr>\n",
       "      <th>https://www.reddit.com/r/Jeep/comments/4ux232/just_ordered_an_android_head_unit_joying_jeep/</th>\n",
       "      <td>2</td>\n",
       "    </tr>\n",
       "  </tbody>\n",
       "</table>\n",
       "</div>"
      ],
      "text/plain": [
       "                                                                                              freq\n",
       "token                                                                                             \n",
       "www.getlowered.com                                                                               3\n",
       "http://www.ecolamautomotive.com/#!2/kv7fq                                                        2\n",
       "https://www.reddit.com/r/Jeep/comments/4ux232/just_ordered_an_android_head_unit_joying_jeep/     2"
      ]
     },
     "execution_count": 43,
     "metadata": {},
     "output_type": "execute_result"
    }
   ],
   "source": [
    "count_words(\n",
    "    df, \n",
    "    column='clean_text', \n",
    "    preprocess=RE_URL.findall\n",
    ").head(3)"
   ]
  },
  {
   "cell_type": "markdown",
   "metadata": {},
   "source": [
    "We want substitute all URLs in our text with replace_urls, which is a call to RE_URL.sub. "
   ]
  },
  {
   "cell_type": "code",
   "execution_count": 44,
   "metadata": {
    "ExecuteTime": {
     "end_time": "2022-02-11T07:09:23.724446Z",
     "start_time": "2022-02-11T07:09:23.660526Z"
    },
    "colab": {
     "base_uri": "https://localhost:8080/"
    },
    "id": "WwHsToMd9nRG",
    "outputId": "e4fb1227-c191-4a74-d16c-0c77a40d5f1b"
   },
   "outputs": [
    {
     "name": "stdout",
     "output_type": "stream",
     "text": [
      "Check out _URL_\n"
     ]
    }
   ],
   "source": [
    "replace_urls = textacy.preprocessing.replace.urls\n",
    "\n",
    "text = \"Check out https://spacy.io/usage/spacy-101\"\n",
    "\n",
    "# Using default substitution _URL_\n",
    "print(replace_urls(text))"
   ]
  },
  {
   "cell_type": "markdown",
   "metadata": {},
   "source": [
    "To finalize data cleaning, we apply the normalization and data masking functions to our data:"
   ]
  },
  {
   "cell_type": "code",
   "execution_count": 45,
   "metadata": {
    "ExecuteTime": {
     "end_time": "2022-02-11T07:09:34.130462Z",
     "start_time": "2022-02-11T07:09:23.938549Z"
    },
    "colab": {
     "base_uri": "https://localhost:8080/",
     "height": 81,
     "referenced_widgets": [
      "3818b8f2fd7c40deb763502f5b9906bb",
      "b2f17b1801084d26ba944ab84bca6477",
      "e2a3a966e20d4a9e88a711b593a60df9",
      "a3aabd6a8f1744809965f865eaa334e4",
      "13487b949be94f6c8d88e5adb2f473e7",
      "f52bf67151854769a719f70e2c73bbfb",
      "2090e7cb98734c50bb8a67550ee1934c",
      "2777578878b4418cbe671e97aa14b9cd",
      "e375c6f8085348308c5a26ee8e6c3e0b",
      "da32b1f04f5c4d68b446060033e585cd",
      "5b287098ef504e7987cb8b7b487c8690",
      "10ed82984838477b8bd55f7219c9c3e4",
      "993c744ffee14c2f9a6939b763f7695b",
      "1b3c35ae05bd47c3bc04de0819aedf59",
      "936d803d139d48ecaed89a96467b96f4",
      "51820d1889cb46088bc30f65dbb3e710",
      "db9d631d7c6b4db4b531695036616bb7",
      "565807545b604f6fa6f74da3b47523d9",
      "42f196b9f437438ba0b5ee1fc31a0960",
      "4331f1ede420415e94263c82954d13eb",
      "dbfaf1c87fe44597ad6ef8b8f957efde",
      "ebcbdb44d15b49ce987a0396f5e7f54c"
     ]
    },
    "id": "KIkKoDSR9nRG",
    "outputId": "97ef33b8-979e-440d-cd3a-6cc9c0a233d6"
   },
   "outputs": [
    {
     "data": {
      "application/vnd.jupyter.widget-view+json": {
       "model_id": "7f24b86cb42543979dc8d140c6197c9b",
       "version_major": 2,
       "version_minor": 0
      },
      "text/plain": [
       "progress-bar:   0%|          | 0/20000 [00:00<?, ?it/s]"
      ]
     },
     "metadata": {},
     "output_type": "display_data"
    },
    {
     "data": {
      "application/vnd.jupyter.widget-view+json": {
       "model_id": "2eecc0905a204a5fa88d7a6f4d909f02",
       "version_major": 2,
       "version_minor": 0
      },
      "text/plain": [
       "progress-bar:   0%|          | 0/20000 [00:00<?, ?it/s]"
      ]
     },
     "metadata": {},
     "output_type": "display_data"
    }
   ],
   "source": [
    "df['clean_text'] = df['clean_text'].progress_map(replace_urls)\n",
    "df['clean_text'] = df['clean_text'].progress_map(normalize)"
   ]
  },
  {
   "cell_type": "code",
   "execution_count": 46,
   "metadata": {},
   "outputs": [
    {
     "data": {
      "text/plain": [
       "19328    I purchased a 2017 Sonata with great incentives last year. How do I go about finding what incent...\n",
       "110      Absolutely loving my 2015 Mazda 3. I don't drive too hard, but I do like doing a bit of spirited...\n",
       "1377     So I got my first car in May of last year, 200k+ miles and still runs well besides the fact that...\n",
       "Name: clean_text, dtype: object"
      ]
     },
     "execution_count": 46,
     "metadata": {},
     "output_type": "execute_result"
    }
   ],
   "source": [
    "df['clean_text'].sample(3)"
   ]
  },
  {
   "cell_type": "markdown",
   "metadata": {},
   "source": [
    "Rename the text columns so that `clean_text` becomes `text`, drop the impurity column, and store the new version of the DataFrame in the database."
   ]
  },
  {
   "cell_type": "code",
   "execution_count": 47,
   "metadata": {
    "ExecuteTime": {
     "end_time": "2022-02-11T07:09:37.397992Z",
     "start_time": "2022-02-11T07:09:34.293431Z"
    },
    "id": "y-lpvr9O9nRH"
   },
   "outputs": [],
   "source": [
    "df.rename(columns={'text': 'raw_text', 'clean_text': 'text'}, inplace=True)\n",
    "df.drop(columns=['impurity'], inplace=True)\n",
    "\n",
    "con = sqlite3.connect(db_name)\n",
    "df.to_sql(\"posts_cleaned\", con, index=False, if_exists=\"replace\")\n",
    "con.close()"
   ]
  },
  {
   "cell_type": "code",
   "execution_count": 48,
   "metadata": {},
   "outputs": [
    {
     "data": {
      "text/html": [
       "<div>\n",
       "<style scoped>\n",
       "    .dataframe tbody tr th:only-of-type {\n",
       "        vertical-align: middle;\n",
       "    }\n",
       "\n",
       "    .dataframe tbody tr th {\n",
       "        vertical-align: top;\n",
       "    }\n",
       "\n",
       "    .dataframe thead th {\n",
       "        text-align: right;\n",
       "    }\n",
       "</style>\n",
       "<table border=\"1\" class=\"dataframe\">\n",
       "  <thead>\n",
       "    <tr style=\"text-align: right;\">\n",
       "      <th></th>\n",
       "      <th>id</th>\n",
       "      <th>subreddit</th>\n",
       "      <th>title</th>\n",
       "      <th>raw_text</th>\n",
       "      <th>category</th>\n",
       "      <th>subcategory</th>\n",
       "      <th>text</th>\n",
       "    </tr>\n",
       "  </thead>\n",
       "  <tbody>\n",
       "    <tr>\n",
       "      <th>0</th>\n",
       "      <td>8f73s7</td>\n",
       "      <td>Harley</td>\n",
       "      <td>No Club Colors</td>\n",
       "      <td>Funny story. I went to college in Las Vegas. This was before I knew anything about motorcycling ...</td>\n",
       "      <td>autos</td>\n",
       "      <td>harley davidson</td>\n",
       "      <td>Funny story. I went to college in Las Vegas. This was before I knew anything about motorcycling ...</td>\n",
       "    </tr>\n",
       "    <tr>\n",
       "      <th>1</th>\n",
       "      <td>5s0q8r</td>\n",
       "      <td>Mustang</td>\n",
       "      <td>Roush vs Shleby GT500</td>\n",
       "      <td>I am trying to determine which is faster, and I've seen the dealership video with the two racing...</td>\n",
       "      <td>autos</td>\n",
       "      <td>ford</td>\n",
       "      <td>I am trying to determine which is faster, and I've seen the dealership video with the two racing...</td>\n",
       "    </tr>\n",
       "    <tr>\n",
       "      <th>2</th>\n",
       "      <td>5z3405</td>\n",
       "      <td>Volkswagen</td>\n",
       "      <td>2001 Golf Wagon looking for some insight</td>\n",
       "      <td>Hello! &lt;lb&gt;&lt;lb&gt;Trying to find some information on replacing a 2001 Golf Wagon starter (gas).... ...</td>\n",
       "      <td>autos</td>\n",
       "      <td>VW</td>\n",
       "      <td>Hello! Trying to find some information on replacing a 2001 Golf Wagon starter (gas).... mine's g...</td>\n",
       "    </tr>\n",
       "  </tbody>\n",
       "</table>\n",
       "</div>"
      ],
      "text/plain": [
       "       id   subreddit                                     title  \\\n",
       "0  8f73s7      Harley                            No Club Colors   \n",
       "1  5s0q8r     Mustang                     Roush vs Shleby GT500   \n",
       "2  5z3405  Volkswagen  2001 Golf Wagon looking for some insight   \n",
       "\n",
       "                                                                                              raw_text  \\\n",
       "0  Funny story. I went to college in Las Vegas. This was before I knew anything about motorcycling ...   \n",
       "1  I am trying to determine which is faster, and I've seen the dealership video with the two racing...   \n",
       "2  Hello! <lb><lb>Trying to find some information on replacing a 2001 Golf Wagon starter (gas).... ...   \n",
       "\n",
       "  category      subcategory  \\\n",
       "0    autos  harley davidson   \n",
       "1    autos             ford   \n",
       "2    autos               VW   \n",
       "\n",
       "                                                                                                  text  \n",
       "0  Funny story. I went to college in Las Vegas. This was before I knew anything about motorcycling ...  \n",
       "1  I am trying to determine which is faster, and I've seen the dealership video with the two racing...  \n",
       "2  Hello! Trying to find some information on replacing a 2001 Golf Wagon starter (gas).... mine's g...  "
      ]
     },
     "execution_count": 48,
     "metadata": {},
     "output_type": "execute_result"
    }
   ],
   "source": [
    "df.head(3)"
   ]
  },
  {
   "cell_type": "markdown",
   "metadata": {
    "id": "xYFN6np_9nRH"
   },
   "source": [
    "<a name='4.4'></a><a id='4.4'></a>\n",
    "# 4.4 Tokenization\n",
    "<a href=\"#top\">[back to top]</a>\n",
    "\n",
    "Tokenization can be complex if we want to treat everything correctly. "
   ]
  },
  {
   "cell_type": "code",
   "execution_count": 49,
   "metadata": {
    "ExecuteTime": {
     "end_time": "2022-02-11T07:09:37.681704Z",
     "start_time": "2022-02-11T07:09:37.615851Z"
    },
    "id": "kyvrbVs59nRH"
   },
   "outputs": [
    {
     "data": {
      "text/plain": [
       "\"\\n2019-08-10 23:32: @pete/@louis - I don't have a well-designed \\nsolution for today's problem. The code of module AC68 should be -1. \\nHave to think a bit... #goodnight ;-) 😩😬\""
      ]
     },
     "execution_count": 49,
     "metadata": {},
     "output_type": "execute_result"
    }
   ],
   "source": [
    "text = \"\"\"\n",
    "2019-08-10 23:32: @pete/@louis - I don't have a well-designed \n",
    "solution for today's problem. The code of module AC68 should be -1. \n",
    "Have to think a bit... #goodnight ;-) 😩😬\"\"\"\n",
    "\n",
    "text"
   ]
  },
  {
   "cell_type": "markdown",
   "metadata": {
    "id": "uev3wSMR9nRI"
   },
   "source": [
    "<a name='4.4.1'></a><a id='4.4.1'></a>\n",
    "## 4.4.1 Blueprint: Tokenization with Regular Expressions\n",
    "<a href=\"#top\">[back to top]</a>\n",
    "\n",
    "Useful functions for tokenization are re.split() and re.findall(). \n",
    "\n",
    "However, in this very simple tokenizer, all the special characters and emojis are lost."
   ]
  },
  {
   "cell_type": "code",
   "execution_count": 50,
   "metadata": {
    "ExecuteTime": {
     "end_time": "2022-02-11T07:09:37.980095Z",
     "start_time": "2022-02-11T07:09:37.867611Z"
    },
    "colab": {
     "base_uri": "https://localhost:8080/"
    },
    "id": "p4rpvkPq9nRI",
    "outputId": "d035e05f-4d83-4f20-d428-98ceb4af121c"
   },
   "outputs": [
    {
     "name": "stdout",
     "output_type": "stream",
     "text": [
      "2019|08|10|23|32|pete|louis|don|have|well|designed|solution|for|today|problem|The|code|of|module|AC68|should|be|Have|to|think|bit|goodnight\n"
     ]
    }
   ],
   "source": [
    "tokens = re.findall(r'\\w\\w+', text)\n",
    "\n",
    "print(*tokens, sep='|')"
   ]
  },
  {
   "cell_type": "markdown",
   "metadata": {},
   "source": [
    "---\n",
    "To improve our tokenizer, we add some additional expressions for the emojis, and create a reusable regex RE_TOKEN. The VERBOSE option allows readable formatting of complex expressions. "
   ]
  },
  {
   "cell_type": "code",
   "execution_count": 51,
   "metadata": {
    "ExecuteTime": {
     "end_time": "2022-02-11T07:09:38.419682Z",
     "start_time": "2022-02-11T07:09:38.300825Z"
    },
    "colab": {
     "base_uri": "https://localhost:8080/"
    },
    "id": "ApuLvlAT9nRJ",
    "outputId": "eea083d0-7646-44b8-f691-7a8da3f43986"
   },
   "outputs": [
    {
     "name": "stdout",
     "output_type": "stream",
     "text": [
      "2019-08-10|23:32|@pete|@louis|I|don't|have|a|well-designed|solution|for|today's|problem|The|code|of|module|AC68|should|be|-1|Have|to|think|a|bit|#goodnight|;-)|😩|😬\n"
     ]
    }
   ],
   "source": [
    "RE_TOKEN = re.compile(\n",
    "    r\"\"\"\n",
    "    ( [#]?[@\\w'’\\.\\-\\:]*\\w     # words, hash tags and email adresses\n",
    "    | [:;<]\\-?[\\)\\(3]          # coarse pattern for basic text emojis\n",
    "    | [\\U0001F100-\\U0001FFFF]  # coarse code range for unicode emojis\n",
    "    )\n",
    "    \"\"\", re.VERBOSE\n",
    ")\n",
    "\n",
    "def tokenize(text):\n",
    "    return RE_TOKEN.findall(text)\n",
    "\n",
    "tokens = tokenize(text)\n",
    "print(*tokens, sep='|')"
   ]
  },
  {
   "cell_type": "markdown",
   "metadata": {
    "id": "4YLtjcvd9nRJ"
   },
   "source": [
    "<a name='4.4.2'></a><a id='4.4.2'></a>\n",
    "## 4.4.2 Tokenization with NLTK\n",
    "<a href=\"#top\">[back to top]</a>\n",
    "\n",
    "The NLTK tokenizer is frequently used for tokenization."
   ]
  },
  {
   "cell_type": "code",
   "execution_count": 52,
   "metadata": {
    "ExecuteTime": {
     "end_time": "2022-02-11T07:09:39.088420Z",
     "start_time": "2022-02-11T07:09:38.644778Z"
    },
    "colab": {
     "base_uri": "https://localhost:8080/"
    },
    "id": "kfWQuHXy9nRK",
    "outputId": "c5cbb50a-3e62-4095-e2c2-29cbf2b4e6e5"
   },
   "outputs": [
    {
     "name": "stdout",
     "output_type": "stream",
     "text": [
      "2019-08-10|23:32|:|@|pete/|@|louis|-|I|do|n't|have|a|well-designed|solution|for|today|'s|problem|.|The|code|of|module|AC68|should|be|-1|.|Have|to|think|a|bit|...|#|goodnight|;|-|)|😩😬\n"
     ]
    }
   ],
   "source": [
    "tokens = nltk.tokenize.word_tokenize(text)\n",
    "print(*tokens, sep='|')"
   ]
  },
  {
   "cell_type": "code",
   "execution_count": 53,
   "metadata": {
    "ExecuteTime": {
     "end_time": "2022-02-11T07:09:39.373425Z",
     "start_time": "2022-02-11T07:09:39.290458Z"
    },
    "colab": {
     "base_uri": "https://localhost:8080/"
    },
    "id": "0-HFvRgN9nRK",
    "outputId": "2a20994f-6862-4d3c-92f0-58655d80076a"
   },
   "outputs": [
    {
     "name": "stdout",
     "output_type": "stream",
     "text": [
      "2019-08-10|23:32|@pete|@louis|I|don't|have|a|well-designed|solution|for|today's|problem|The|code|of|module|AC68|should|be|-1|Have|to|think|a|bit|#goodnight|;-)|😩|😬\n"
     ]
    }
   ],
   "source": [
    "# Not in book: Regex Tokenizer\n",
    "# This is a wrapper for re.findall() with some added convenience functionality. \n",
    "tokenizer = nltk.tokenize.RegexpTokenizer(\n",
    "    RE_TOKEN.pattern, \n",
    "    flags=re.VERBOSE\n",
    ")\n",
    "tokens = tokenizer.tokenize(text)\n",
    "print(*tokens, sep='|')"
   ]
  },
  {
   "cell_type": "code",
   "execution_count": 54,
   "metadata": {
    "ExecuteTime": {
     "end_time": "2022-02-11T07:09:39.706541Z",
     "start_time": "2022-02-11T07:09:39.594338Z"
    },
    "colab": {
     "base_uri": "https://localhost:8080/"
    },
    "id": "lURHob0F9nRK",
    "outputId": "e8fb7012-69bf-4e44-aaf6-c4594dd895b6"
   },
   "outputs": [
    {
     "name": "stdout",
     "output_type": "stream",
     "text": [
      "2019-08-|10|23:32|:|@pete|/|@louis|-|I|don't|have|a|well-designed|solution|for|today's|problem|.|The|code|of|module|AC68|should|be|-|1|.|Have|to|think|a|bit|...|#goodnight|;-)|😩|😬\n"
     ]
    }
   ],
   "source": [
    "# Not in book: Tweet Tokenizer\n",
    "# This is a regular-expression-based tokenizer.\n",
    "tokenizer = nltk.tokenize.TweetTokenizer()\n",
    "tokens = tokenizer.tokenize(text)\n",
    "print(*tokens, sep='|')"
   ]
  },
  {
   "cell_type": "code",
   "execution_count": 55,
   "metadata": {
    "ExecuteTime": {
     "end_time": "2022-02-11T07:09:39.997226Z",
     "start_time": "2022-02-11T07:09:39.908964Z"
    },
    "colab": {
     "base_uri": "https://localhost:8080/"
    },
    "id": "A8XUiPk89nRL",
    "outputId": "cba337ed-154e-448e-da9d-1eeccd9fcb3f"
   },
   "outputs": [
    {
     "name": "stdout",
     "output_type": "stream",
     "text": [
      "2019-08-10|23|:|32|:|@pete/@louis|-|I|don|'|t|have|a|well-designed|solution|for|today|'|s|problem.|The|code|of|module|AC68|should|be|-1.|Have|to|think|a|bit|...|#goodnight|;|-|)|😩😬\n"
     ]
    }
   ],
   "source": [
    "# Not in book: Toktok Tokenizer\n",
    "# This is a regular-expression-based tokenizer.\n",
    "tokenizer = nltk.tokenize.ToktokTokenizer()\n",
    "tokens = tokenizer.tokenize(text)\n",
    "print(*tokens, sep='|')"
   ]
  },
  {
   "cell_type": "markdown",
   "metadata": {
    "id": "kM4mea9k9nRM"
   },
   "source": [
    "<a name='4.4.3'></a><a id='4.4.3'></a>\n",
    "## 4.4.3 Recommendations for Tokenization\n",
    "<a href=\"#top\">[back to top]</a>\n",
    "\n",
    "You will probably need to use custom regular expressions if you want high precision on domain-specific token patterns."
   ]
  },
  {
   "cell_type": "markdown",
   "metadata": {
    "id": "r9GaU2Ms9nRM"
   },
   "source": [
    "---\n",
    "<a name='4.5'></a><a id='4.5'></a>\n",
    "# 4.5 Linguistic Processing with spaCy\n",
    "<a href=\"#top\">[back to top]</a>\n",
    "\n",
    "spaCy is a powerful library for linguistic data processing. It provides an integrated pipeline of processing components, by default a tokenizer, a part-of-speech tagger, a dependency parser, and a named-entity recognizer.\n",
    "\n",
    "The philosophy of spaCy is that the original text is retained throughout the process. Instead of transforming it, spaCy adds layers of information. "
   ]
  },
  {
   "cell_type": "markdown",
   "metadata": {
    "id": "joOuBr4R9nRN"
   },
   "source": [
    "<a name='4.5.1'></a><a id='4.5.1'></a>\n",
    "## 4.5.1 Instantiating a Pipeline\n",
    "<a href=\"#top\">[back to top]</a>\n",
    "\n",
    "We instantiate an object of the spaCy language class by calling `spacy.load()` along with the name of the model file to use. \n",
    "\n",
    "Here we use the small English language model `en_core_web_sm`. The variable for the Language object is usually called `nlp`.\n",
    "\n",
    "This Language object now contains the shared vocabulary, the model, and the processing pipeline."
   ]
  },
  {
   "cell_type": "code",
   "execution_count": 56,
   "metadata": {
    "ExecuteTime": {
     "end_time": "2022-02-11T07:09:41.220007Z",
     "start_time": "2022-02-11T07:09:40.211141Z"
    },
    "id": "gzHCV2v69nRN"
   },
   "outputs": [
    {
     "data": {
      "text/plain": [
       "[('tok2vec', <spacy.pipeline.tok2vec.Tok2Vec at 0x1481bf760>),\n",
       " ('tagger', <spacy.pipeline.tagger.Tagger at 0x148112be0>),\n",
       " ('parser', <spacy.pipeline.dep_parser.DependencyParser at 0x149070580>),\n",
       " ('attribute_ruler',\n",
       "  <spacy.pipeline.attributeruler.AttributeRuler at 0x1498d6b80>),\n",
       " ('lemmatizer', <spacy.lang.en.lemmatizer.EnglishLemmatizer at 0x1498e2980>),\n",
       " ('ner', <spacy.pipeline.ner.EntityRecognizer at 0x1490709e0>)]"
      ]
     },
     "execution_count": 56,
     "metadata": {},
     "output_type": "execute_result"
    }
   ],
   "source": [
    "nlp = spacy.load('en_core_web_sm')\n",
    "\n",
    "nlp.pipeline"
   ]
  },
  {
   "cell_type": "markdown",
   "metadata": {},
   "source": [
    "---\n",
    "Often you will only need the tokenizer and the part-of-speech tagger. In this case, you should disable the parser and named-entity recognition like this:"
   ]
  },
  {
   "cell_type": "code",
   "execution_count": 57,
   "metadata": {
    "ExecuteTime": {
     "end_time": "2022-02-11T07:09:42.826011Z",
     "start_time": "2022-02-11T07:09:41.735123Z"
    },
    "id": "Yoi4HaDF9nRN"
   },
   "outputs": [
    {
     "data": {
      "text/plain": [
       "[('tok2vec', <spacy.pipeline.tok2vec.Tok2Vec at 0x14809a160>),\n",
       " ('tagger', <spacy.pipeline.tagger.Tagger at 0x14806e400>),\n",
       " ('attribute_ruler',\n",
       "  <spacy.pipeline.attributeruler.AttributeRuler at 0x14aa62c80>),\n",
       " ('lemmatizer', <spacy.lang.en.lemmatizer.EnglishLemmatizer at 0x14aa6cb00>)]"
      ]
     },
     "execution_count": 57,
     "metadata": {},
     "output_type": "execute_result"
    }
   ],
   "source": [
    "nlp = spacy.load(\"en_core_web_sm\", disable=[\"parser\", \"ner\"])\n",
    "\n",
    "nlp.pipeline"
   ]
  },
  {
   "cell_type": "markdown",
   "metadata": {
    "id": "i1BBy8bP9nRO"
   },
   "source": [
    "<a name='4.5.2'></a><a id='4.5.2'></a>\n",
    "## 4.5.2 Processing Text\n",
    "<a href=\"#top\">[back to top]</a>\n",
    "\n",
    "The pipeline is executed by calling the `nlp` object. The call returns an object of type `spacy.tokens.doc.Doc`, a container to access the tokens, spans (ranges of tokens), and their linguistic annotations."
   ]
  },
  {
   "cell_type": "code",
   "execution_count": 58,
   "metadata": {
    "ExecuteTime": {
     "end_time": "2022-02-11T07:09:43.835516Z",
     "start_time": "2022-02-11T07:09:43.011101Z"
    },
    "id": "pECK-K3C9nRO"
   },
   "outputs": [
    {
     "name": "stdout",
     "output_type": "stream",
     "text": [
      "<class 'spacy.tokens.doc.Doc'>\n",
      "----------------------------------------\n",
      "My best friend Ryan Peters likes fancy adventure games. gb@omame.com www.omame.com\n"
     ]
    }
   ],
   "source": [
    "nlp = spacy.load(\"en_core_web_sm\")\n",
    "\n",
    "text = \"My best friend Ryan Peters likes fancy adventure games. gb@omame.com www.omame.com\"\n",
    "doc = nlp(text)\n",
    "\n",
    "print(type(doc))\n",
    "HR()\n",
    "print(doc)"
   ]
  },
  {
   "cell_type": "code",
   "execution_count": 59,
   "metadata": {},
   "outputs": [
    {
     "data": {
      "text/plain": [
       "(12, 96)"
      ]
     },
     "execution_count": 59,
     "metadata": {},
     "output_type": "execute_result"
    }
   ],
   "source": [
    "doc.tensor.shape"
   ]
  },
  {
   "cell_type": "markdown",
   "metadata": {},
   "source": [
    "`doc` is also a container object for the tokens, and you can use it as an iterator for tokens."
   ]
  },
  {
   "cell_type": "code",
   "execution_count": 60,
   "metadata": {
    "ExecuteTime": {
     "end_time": "2022-02-11T07:09:44.097635Z",
     "start_time": "2022-02-11T07:09:44.034263Z"
    },
    "colab": {
     "base_uri": "https://localhost:8080/"
    },
    "id": "V59prDVe9nRO",
    "outputId": "1747d24b-e63f-4463-db38-a2fecb565c67"
   },
   "outputs": [
    {
     "name": "stdout",
     "output_type": "stream",
     "text": [
      "0 My|1 best|2 friend|3 Ryan|4 Peters|5 likes|6 fancy|7 adventure|8 games|9 .|10 gb@omame.com|11 www.omame.com|"
     ]
    }
   ],
   "source": [
    "for i, token in enumerate(doc):\n",
    "    print(i, token, end=\"|\")"
   ]
  },
  {
   "cell_type": "markdown",
   "metadata": {},
   "source": [
    "This function generates a table containing the tokens and their attributes. "
   ]
  },
  {
   "cell_type": "code",
   "execution_count": 61,
   "metadata": {
    "ExecuteTime": {
     "end_time": "2022-02-11T07:09:44.379697Z",
     "start_time": "2022-02-11T07:09:44.304372Z"
    },
    "id": "4o4RkHp-9nRP"
   },
   "outputs": [
    {
     "data": {
      "text/html": [
       "<div>\n",
       "<style scoped>\n",
       "    .dataframe tbody tr th:only-of-type {\n",
       "        vertical-align: middle;\n",
       "    }\n",
       "\n",
       "    .dataframe tbody tr th {\n",
       "        vertical-align: top;\n",
       "    }\n",
       "\n",
       "    .dataframe thead th {\n",
       "        text-align: right;\n",
       "    }\n",
       "</style>\n",
       "<table border=\"1\" class=\"dataframe\">\n",
       "  <thead>\n",
       "    <tr style=\"text-align: right;\">\n",
       "      <th></th>\n",
       "      <th>text</th>\n",
       "      <th>lemma_</th>\n",
       "      <th>is_stop</th>\n",
       "      <th>is_alpha</th>\n",
       "      <th>pos_</th>\n",
       "      <th>dep_</th>\n",
       "      <th>ent_type_</th>\n",
       "      <th>ent_iob_</th>\n",
       "      <th>head</th>\n",
       "      <th>like_email</th>\n",
       "      <th>like_url</th>\n",
       "    </tr>\n",
       "  </thead>\n",
       "  <tbody>\n",
       "    <tr>\n",
       "      <th>0</th>\n",
       "      <td>My</td>\n",
       "      <td>my</td>\n",
       "      <td>True</td>\n",
       "      <td>True</td>\n",
       "      <td>PRON</td>\n",
       "      <td>poss</td>\n",
       "      <td></td>\n",
       "      <td>O</td>\n",
       "      <td>friend</td>\n",
       "      <td>False</td>\n",
       "      <td>False</td>\n",
       "    </tr>\n",
       "    <tr>\n",
       "      <th>1</th>\n",
       "      <td>best</td>\n",
       "      <td>good</td>\n",
       "      <td>False</td>\n",
       "      <td>True</td>\n",
       "      <td>ADJ</td>\n",
       "      <td>amod</td>\n",
       "      <td></td>\n",
       "      <td>O</td>\n",
       "      <td>friend</td>\n",
       "      <td>False</td>\n",
       "      <td>False</td>\n",
       "    </tr>\n",
       "    <tr>\n",
       "      <th>2</th>\n",
       "      <td>friend</td>\n",
       "      <td>friend</td>\n",
       "      <td>False</td>\n",
       "      <td>True</td>\n",
       "      <td>NOUN</td>\n",
       "      <td>nsubj</td>\n",
       "      <td></td>\n",
       "      <td>O</td>\n",
       "      <td>likes</td>\n",
       "      <td>False</td>\n",
       "      <td>False</td>\n",
       "    </tr>\n",
       "    <tr>\n",
       "      <th>3</th>\n",
       "      <td>Ryan</td>\n",
       "      <td>Ryan</td>\n",
       "      <td>False</td>\n",
       "      <td>True</td>\n",
       "      <td>PROPN</td>\n",
       "      <td>compound</td>\n",
       "      <td>PERSON</td>\n",
       "      <td>B</td>\n",
       "      <td>Peters</td>\n",
       "      <td>False</td>\n",
       "      <td>False</td>\n",
       "    </tr>\n",
       "    <tr>\n",
       "      <th>4</th>\n",
       "      <td>Peters</td>\n",
       "      <td>Peters</td>\n",
       "      <td>False</td>\n",
       "      <td>True</td>\n",
       "      <td>PROPN</td>\n",
       "      <td>appos</td>\n",
       "      <td>PERSON</td>\n",
       "      <td>I</td>\n",
       "      <td>friend</td>\n",
       "      <td>False</td>\n",
       "      <td>False</td>\n",
       "    </tr>\n",
       "    <tr>\n",
       "      <th>5</th>\n",
       "      <td>likes</td>\n",
       "      <td>like</td>\n",
       "      <td>False</td>\n",
       "      <td>True</td>\n",
       "      <td>VERB</td>\n",
       "      <td>ROOT</td>\n",
       "      <td></td>\n",
       "      <td>O</td>\n",
       "      <td>likes</td>\n",
       "      <td>False</td>\n",
       "      <td>False</td>\n",
       "    </tr>\n",
       "    <tr>\n",
       "      <th>6</th>\n",
       "      <td>fancy</td>\n",
       "      <td>fancy</td>\n",
       "      <td>False</td>\n",
       "      <td>True</td>\n",
       "      <td>ADJ</td>\n",
       "      <td>amod</td>\n",
       "      <td></td>\n",
       "      <td>O</td>\n",
       "      <td>games</td>\n",
       "      <td>False</td>\n",
       "      <td>False</td>\n",
       "    </tr>\n",
       "    <tr>\n",
       "      <th>7</th>\n",
       "      <td>adventure</td>\n",
       "      <td>adventure</td>\n",
       "      <td>False</td>\n",
       "      <td>True</td>\n",
       "      <td>NOUN</td>\n",
       "      <td>compound</td>\n",
       "      <td></td>\n",
       "      <td>O</td>\n",
       "      <td>games</td>\n",
       "      <td>False</td>\n",
       "      <td>False</td>\n",
       "    </tr>\n",
       "    <tr>\n",
       "      <th>8</th>\n",
       "      <td>games</td>\n",
       "      <td>game</td>\n",
       "      <td>False</td>\n",
       "      <td>True</td>\n",
       "      <td>NOUN</td>\n",
       "      <td>dobj</td>\n",
       "      <td></td>\n",
       "      <td>O</td>\n",
       "      <td>likes</td>\n",
       "      <td>False</td>\n",
       "      <td>False</td>\n",
       "    </tr>\n",
       "    <tr>\n",
       "      <th>10</th>\n",
       "      <td>gb@omame.com</td>\n",
       "      <td>gb@omame.com</td>\n",
       "      <td>False</td>\n",
       "      <td>False</td>\n",
       "      <td>X</td>\n",
       "      <td>ROOT</td>\n",
       "      <td></td>\n",
       "      <td>O</td>\n",
       "      <td>gb@omame.com</td>\n",
       "      <td>True</td>\n",
       "      <td>False</td>\n",
       "    </tr>\n",
       "    <tr>\n",
       "      <th>11</th>\n",
       "      <td>www.omame.com</td>\n",
       "      <td>www.omame.com</td>\n",
       "      <td>False</td>\n",
       "      <td>False</td>\n",
       "      <td>X</td>\n",
       "      <td>punct</td>\n",
       "      <td></td>\n",
       "      <td>O</td>\n",
       "      <td>gb@omame.com</td>\n",
       "      <td>False</td>\n",
       "      <td>True</td>\n",
       "    </tr>\n",
       "  </tbody>\n",
       "</table>\n",
       "</div>"
      ],
      "text/plain": [
       "             text         lemma_  is_stop  is_alpha   pos_      dep_  \\\n",
       "0              My             my     True      True   PRON      poss   \n",
       "1            best           good    False      True    ADJ      amod   \n",
       "2          friend         friend    False      True   NOUN     nsubj   \n",
       "3            Ryan           Ryan    False      True  PROPN  compound   \n",
       "4          Peters         Peters    False      True  PROPN     appos   \n",
       "5           likes           like    False      True   VERB      ROOT   \n",
       "6           fancy          fancy    False      True    ADJ      amod   \n",
       "7       adventure      adventure    False      True   NOUN  compound   \n",
       "8           games           game    False      True   NOUN      dobj   \n",
       "10   gb@omame.com   gb@omame.com    False     False      X      ROOT   \n",
       "11  www.omame.com  www.omame.com    False     False      X     punct   \n",
       "\n",
       "   ent_type_ ent_iob_          head  like_email  like_url  \n",
       "0                   O        friend       False     False  \n",
       "1                   O        friend       False     False  \n",
       "2                   O         likes       False     False  \n",
       "3     PERSON        B        Peters       False     False  \n",
       "4     PERSON        I        friend       False     False  \n",
       "5                   O         likes       False     False  \n",
       "6                   O         games       False     False  \n",
       "7                   O         games       False     False  \n",
       "8                   O         likes       False     False  \n",
       "10                  O  gb@omame.com        True     False  \n",
       "11                  O  gb@omame.com       False      True  "
      ]
     },
     "execution_count": 61,
     "metadata": {},
     "output_type": "execute_result"
    }
   ],
   "source": [
    "def display_nlp(doc, include_punct=False):\n",
    "    \"\"\"Generate data frame for visualization of spaCy tokens.\"\"\"\n",
    "    rows = []\n",
    "    for i, t in enumerate(doc):\n",
    "        if not t.is_punct or include_punct:\n",
    "            row = {'token': i,  \n",
    "                   'text': t.text, \n",
    "                   'lemma_': t.lemma_, \n",
    "                   'is_stop': t.is_stop, \n",
    "                   'is_alpha': t.is_alpha,\n",
    "                   'pos_': t.pos_, \n",
    "                   'dep_': t.dep_, \n",
    "                   'ent_type_': t.ent_type_, \n",
    "                   'ent_iob_': t.ent_iob_,\n",
    "                   'head': t.head,\n",
    "                   'is_alpha': t.is_alpha,\n",
    "                   'like_email': t.like_email,\n",
    "                   'like_url': t.like_url\n",
    "                  }\n",
    "            rows.append(row)\n",
    "    \n",
    "    df = pd.DataFrame(rows).set_index('token')\n",
    "    df.index.name = None\n",
    "    return df\n",
    "\n",
    "display_nlp(doc)"
   ]
  },
  {
   "cell_type": "markdown",
   "metadata": {
    "id": "3A0xmcu-9nRP"
   },
   "source": [
    "<a name='4.5.3'></a><a id='4.5.3'></a>\n",
    "## 4.5.3 Blueprint: Customizing Tokenization\n",
    "<a href=\"#top\">[back to top]</a>\n",
    "\n",
    "Tokenization is the first step in the pipeline, and everything depends on the correct tokens. spaCy’s tokenizer does a good job in most cases, but it splits on hash signs, hyphens, and underscores, which is sometimes not\n",
    "what you want."
   ]
  },
  {
   "cell_type": "code",
   "execution_count": 62,
   "metadata": {
    "ExecuteTime": {
     "end_time": "2022-02-11T07:09:45.774014Z",
     "start_time": "2022-02-11T07:09:44.909998Z"
    },
    "colab": {
     "base_uri": "https://localhost:8080/"
    },
    "id": "mCoQ1V0o9nRP",
    "outputId": "f99855d7-3870-404b-9d17-58fb3df2ee9f"
   },
   "outputs": [
    {
     "name": "stdout",
     "output_type": "stream",
     "text": [
      "@Pete|:|choose|low|-|carb|#|food|#|eat|-|smart|.|_|url|_|;-)|😋|👍|"
     ]
    }
   ],
   "source": [
    "text = \"@Pete: choose low-carb #food #eat-smart. _url_ ;-) 😋👍\"\n",
    "nlp = spacy.load('en_core_web_sm') ###\n",
    "doc = nlp(text)\n",
    "\n",
    "for token in doc:\n",
    "    print(token, end=\"|\")"
   ]
  },
  {
   "cell_type": "markdown",
   "metadata": {},
   "source": [
    "To change the spaCy English tokenization rules and create correct tokens in the first place, create your own variant of the tokenizer with individual rules for infix, prefix, and suffix splitting."
   ]
  },
  {
   "cell_type": "code",
   "execution_count": 63,
   "metadata": {
    "ExecuteTime": {
     "end_time": "2022-02-11T07:09:47.080936Z",
     "start_time": "2022-02-11T07:09:45.969691Z"
    },
    "colab": {
     "base_uri": "https://localhost:8080/"
    },
    "id": "UC3tQfkg9nRP",
    "outputId": "85035258-3444-40a5-b953-8687793307cd"
   },
   "outputs": [
    {
     "name": "stdout",
     "output_type": "stream",
     "text": [
      "@Pete|:|choose|low-carb|#food|#eat-smart|.|_url_|;-)|😋|👍|"
     ]
    }
   ],
   "source": [
    "def custom_tokenizer(nlp):\n",
    "    \n",
    "    # Use default patterns except the ones matched by re.search\n",
    "    prefixes = [pattern for pattern in nlp.Defaults.prefixes \n",
    "                if pattern not in ['-', '_', '#']]\n",
    "    suffixes = [pattern for pattern in nlp.Defaults.suffixes\n",
    "                if pattern not in ['_']]\n",
    "    infixes  = [pattern for pattern in nlp.Defaults.infixes\n",
    "                if not re.search(pattern, 'xx-xx')]\n",
    "\n",
    "    return Tokenizer(\n",
    "        vocab          = nlp.vocab, \n",
    "        rules          = nlp.Defaults.tokenizer_exceptions,\n",
    "        prefix_search  = compile_prefix_regex(prefixes).search,\n",
    "        suffix_search  = compile_suffix_regex(suffixes).search,\n",
    "        infix_finditer = compile_infix_regex(infixes).finditer,\n",
    "        token_match    = nlp.Defaults.token_match\n",
    "    )\n",
    "\n",
    "nlp = spacy.load('en_core_web_sm')\n",
    "nlp.tokenizer = custom_tokenizer(nlp)\n",
    "\n",
    "doc = nlp(text)\n",
    "for token in doc:\n",
    "    print(token, end=\"|\")"
   ]
  },
  {
   "cell_type": "markdown",
   "metadata": {
    "id": "KS7VJPWL9nRP"
   },
   "source": [
    "<a name='4.5.4'></a><a id='4.5.4'></a>\n",
    "## 4.5.4 Blueprint: Working with Stop Words\n",
    "<a href=\"#top\">[back to top]</a>\n",
    "\n",
    "spaCy uses language-specific stop word lists to set the `is_stop` property for each token directly after tokenization. So, filtering stop words (and similarly punctuation tokens) is easy."
   ]
  },
  {
   "cell_type": "code",
   "execution_count": 64,
   "metadata": {
    "ExecuteTime": {
     "end_time": "2022-02-11T07:09:48.091818Z",
     "start_time": "2022-02-11T07:09:47.246118Z"
    },
    "colab": {
     "base_uri": "https://localhost:8080/"
    },
    "id": "r5ucMVWj9nRP",
    "outputId": "e86ddd60-a7e7-447a-e66c-fd1e7cdc90e4"
   },
   "outputs": [
    {
     "name": "stdout",
     "output_type": "stream",
     "text": [
      "[Dear, Ryan, need, sit, talk, Regards, Pete]\n"
     ]
    }
   ],
   "source": [
    "nlp = spacy.load('en_core_web_sm')\n",
    "text = \"Dear Ryan, we need to sit down and talk. Regards, Pete\"\n",
    "doc = nlp(text)\n",
    "\n",
    "non_stop = [t for t in doc if not t.is_stop and not t.is_punct]\n",
    "print(non_stop)"
   ]
  },
  {
   "cell_type": "markdown",
   "metadata": {},
   "source": [
    "The list of English stop words with more than 300 entries can be accessed by importing `spacy.lang.en.STOP_WORDS`. When an nlp object is created, this list is loaded and stored under `nlp.Defaults.stop_words`. \n",
    "\n",
    "We can modify spaCy's default behavior by setting the `is_stop` property of the respective words in spaCy's vocabulary."
   ]
  },
  {
   "cell_type": "code",
   "execution_count": 65,
   "metadata": {},
   "outputs": [
    {
     "name": "stdout",
     "output_type": "stream",
     "text": [
      "fifteen it eight except third has within still be top himself wherein hereupon both towards besides ca our due therefore few 'm should and take upon others does further cannot two would latter already amount hereby yourselves become again neither anywhere n’t back forty so everyone beside really yet whatever rather these ‘m my its too unless just off into i he whereby was yours six without from most per doing only n't when own together name ’re on each 'll will make afterwards elsewhere twenty every by whither while perhaps might yourself otherwise part if ourselves became ’ve re well they ’s amongst above ‘d however his whoever three latterly which beyond becomes there of been wherever those thence being empty whereupon had thru nor onto between eleven over none serious twelve themselves any what can ‘s namely nobody everything in with toward but ’m beforehand about until show hundred move ten throughout seem during not fifty must although once ours itself her then put such us nothing them anyone keep for mine 's meanwhile through why last call have around hereafter some below made may thus their seeming all whose now else your somewhere sometime another give do across were whom she could former sometimes ‘ve am ’ll thereupon herein first behind whether thereafter please bottom moreover quite whenever front somehow seems against either him sixty is almost regarding 've side get myself via than 're alone this even since nevertheless ‘ll several full formerly ever 'd say using who anything where next noone least a always under less herself same that many see an five hence because or out becoming everywhere nowhere among enough ‘re other you the me whereas very nine before down something therein after to four one used did though whereafter never mostly we anyhow also various whence seemed at done ’d whole as n‘t no up here anyway often someone much thereby go how are more hers along indeed\n"
     ]
    }
   ],
   "source": [
    "print(*nlp.Defaults.stop_words)"
   ]
  },
  {
   "cell_type": "code",
   "execution_count": 66,
   "metadata": {
    "ExecuteTime": {
     "end_time": "2022-02-11T07:09:49.106385Z",
     "start_time": "2022-02-11T07:09:48.251445Z"
    },
    "id": "4uBAAxy39nRQ"
   },
   "outputs": [
    {
     "name": "stdout",
     "output_type": "stream",
     "text": [
      "[Ryan, need, sit, down, talk, Pete]\n"
     ]
    }
   ],
   "source": [
    "nlp = spacy.load('en_core_web_sm')\n",
    "nlp.vocab['down'].is_stop = False\n",
    "nlp.vocab['Dear'].is_stop = True\n",
    "nlp.vocab['Regards'].is_stop = True\n",
    "\n",
    "# Rerun the previous example. Need to rerun nlp(text).\n",
    "doc = nlp(text)\n",
    "non_stop = [t for t in doc if not t.is_stop and not t.is_punct]\n",
    "\n",
    "print(non_stop)"
   ]
  },
  {
   "cell_type": "markdown",
   "metadata": {
    "id": "i6G4UEQX9nRQ"
   },
   "source": [
    "### Not in book: Modifying stop words with a language subclass\n",
    "\n",
    "Modifying the stop word by changing the vocabulary will probably become deprecated with spaCy 3.0. Instead it is recommended to create a subclass of the respective language like this:"
   ]
  },
  {
   "cell_type": "code",
   "execution_count": 67,
   "metadata": {
    "ExecuteTime": {
     "end_time": "2022-02-11T07:09:49.546013Z",
     "start_time": "2022-02-11T07:09:49.275921Z"
    },
    "colab": {
     "base_uri": "https://localhost:8080/"
    },
    "id": "-E_rcYJD9nRS",
    "outputId": "114eb639-7927-4fcc-b523-6b9e19fee625"
   },
   "outputs": [
    {
     "name": "stdout",
     "output_type": "stream",
     "text": [
      "Dear Ryan, we need to sit down and talk. Regards, Pete\n",
      "----------------------------------------\n",
      "Ryan|need|sit|down|talk|Pete|"
     ]
    }
   ],
   "source": [
    "# Not in book: subclass approach to modify stop word lists.\n",
    "# Recommended from spaCy version 3.0 onwards.\n",
    "excluded_stop_words = {'down'}\n",
    "included_stop_words = {'dear', 'regards'}\n",
    "\n",
    "class CustomEnglishDefaults(English.Defaults):\n",
    "    stop_words = English.Defaults.stop_words.copy()\n",
    "    stop_words -= excluded_stop_words\n",
    "    stop_words |= included_stop_words\n",
    "    \n",
    "class CustomEnglish(English):\n",
    "    Defaults = CustomEnglishDefaults\n",
    "\n",
    "nlp = CustomEnglish()\n",
    "text = \"Dear Ryan, we need to sit down and talk. Regards, Pete\"\n",
    "doc = nlp.make_doc(text) # Only tokenize\n",
    "\n",
    "print(doc)\n",
    "HR()\n",
    "\n",
    "tokens_wo_stop = [token for token in doc ] \n",
    "for token in doc:\n",
    "    if not token.is_stop and not token.is_punct:\n",
    "        print(token, end='|')"
   ]
  },
  {
   "cell_type": "code",
   "execution_count": 68,
   "metadata": {
    "ExecuteTime": {
     "end_time": "2022-02-11T07:09:50.979312Z",
     "start_time": "2022-02-11T07:09:49.739327Z"
    },
    "id": "E2ttpcoz9nRS"
   },
   "outputs": [],
   "source": [
    "# Reset nlp to original\n",
    "nlp = spacy.load('en_core_web_sm')"
   ]
  },
  {
   "cell_type": "markdown",
   "metadata": {
    "id": "UEyZL1Qh9nRS"
   },
   "source": [
    "<a name='4.5.5'></a><a id='4.5.5'></a>\n",
    "## 4.5.5 Blueprint: Extracting Lemmas based on Part-of-Speech\n",
    "<a href=\"#top\">[back to top]</a>\n",
    "\n",
    "Lemmatization is the mapping of a word to its uninflected root. The correct assignment of the lemma requires a lookup dictionary and knowledge about the part of speech of a word.\n",
    "\n",
    "Here, the lemma of a token or span can be accessed by the `lemma_` property in spaCy."
   ]
  },
  {
   "cell_type": "code",
   "execution_count": 69,
   "metadata": {
    "ExecuteTime": {
     "end_time": "2022-02-11T07:09:51.355029Z",
     "start_time": "2022-02-11T07:09:51.243518Z"
    },
    "colab": {
     "base_uri": "https://localhost:8080/"
    },
    "id": "JGP1zjLf9nRT",
    "outputId": "67b73a37-2770-47d4-c669-90f84170afd5"
   },
   "outputs": [
    {
     "name": "stdout",
     "output_type": "stream",
     "text": [
      "my|good|friend|Ryan|Peters|like|fancy|adventure|game|.\n"
     ]
    }
   ],
   "source": [
    "text = \"My best friend Ryan Peters likes fancy adventure games.\"\n",
    "doc = nlp(text)\n",
    "\n",
    "print(*[t.lemma_ for t in doc], sep='|')"
   ]
  },
  {
   "cell_type": "markdown",
   "metadata": {},
   "source": [
    "Often, we are interested only in content words. Thus, instead of using a stop word list, we can use part-of-speech tags to select the word types we are interested in and discard the rest. For example, a list containing only the nouns and proper nouns in a doc can be generated like this."
   ]
  },
  {
   "cell_type": "code",
   "execution_count": 70,
   "metadata": {
    "ExecuteTime": {
     "end_time": "2022-02-11T07:09:51.799490Z",
     "start_time": "2022-02-11T07:09:51.687258Z"
    },
    "colab": {
     "base_uri": "https://localhost:8080/"
    },
    "id": "eAgbCWIr9nRT",
    "outputId": "635ad5da-171d-4572-a417-d3d71dd2003b"
   },
   "outputs": [
    {
     "name": "stdout",
     "output_type": "stream",
     "text": [
      "[friend, Ryan, Peters, adventure, games]\n"
     ]
    }
   ],
   "source": [
    "text = \"My best friend Ryan Peters likes fancy adventure games.\"\n",
    "doc = nlp(text)\n",
    "\n",
    "nouns = [t for t in doc if t.pos_ in ['NOUN', 'PROPN']]\n",
    "print(nouns)"
   ]
  },
  {
   "cell_type": "markdown",
   "metadata": {},
   "source": [
    "---\n",
    "Universal part-of-speech tags:\n",
    "\n",
    "```\n",
    "ADJ Adjectives (describe nouns)\n",
    "ADP Adpositions (prepositions and postpositions)\n",
    "ADV Adverbs (modify verbs or adjectives)\n",
    "AUX Auxiliary (accompanies verb)\n",
    "CCONJ Connecting conjunction\n",
    "DET Determiner (with regard to nouns)\n",
    "INTJ Interjection (independent word, exclamation, expression of emotion) NOUN Nouns (common and proper)\n",
    "NUM Cardinal numbers\n",
    "PROPN Proper noun, name, or part of a name\n",
    "PRON Pronoun, substitute for noun\n",
    "PART Particle (makes sense only with other word)\n",
    "PUNCT Punctuation characters\n",
    "SCONJ Subordinating conjunction\n",
    "SYM Symbols (word-like)\n",
    "VERB Verbs (all tenses and modes)\n",
    "X Anything that cannot be assigned\n",
    "```"
   ]
  },
  {
   "cell_type": "markdown",
   "metadata": {},
   "source": [
    "---\n",
    "Here, we extract tokens for adjectives and nouns from the sample sentence."
   ]
  },
  {
   "cell_type": "code",
   "execution_count": 71,
   "metadata": {
    "ExecuteTime": {
     "end_time": "2022-02-11T07:09:52.419625Z",
     "start_time": "2022-02-11T07:09:52.340267Z"
    },
    "colab": {
     "base_uri": "https://localhost:8080/"
    },
    "id": "8g_G9wXp9nRT",
    "outputId": "103ae303-6421-4708-83e8-8016cef1cd2e"
   },
   "outputs": [
    {
     "name": "stdout",
     "output_type": "stream",
     "text": [
      "best|friend|fancy|adventure|games\n"
     ]
    }
   ],
   "source": [
    "tokens = textacy.extract.words(\n",
    "    doc, \n",
    "    filter_stops = True,           # default True, no stopwords\n",
    "    filter_punct = True,           # default True, no punctuation\n",
    "    filter_nums = True,            # default False, no numbers\n",
    "    include_pos = ['ADJ', 'NOUN'], # default None = include all\n",
    "    exclude_pos = None,            # default None = exclude none\n",
    "    min_freq = 1                   # minimum frequency of words\n",
    ")\n",
    "\n",
    "print(*[t for t in tokens], sep='|')"
   ]
  },
  {
   "cell_type": "markdown",
   "metadata": {},
   "source": [
    "---\n",
    "Our blueprint function to extract a filtered list of word lemmas is finally just a tiny wrapper around that function. By forwarding the keyword arguments `(**kwargs)`, this function accepts the same parameters as textacy's `extract.words`."
   ]
  },
  {
   "cell_type": "code",
   "execution_count": 72,
   "metadata": {
    "ExecuteTime": {
     "end_time": "2022-02-11T07:09:54.058241Z",
     "start_time": "2022-02-11T07:09:53.999631Z"
    },
    "colab": {
     "base_uri": "https://localhost:8080/"
    },
    "id": "KFjN9f399nRU",
    "outputId": "3f08ed1f-df53-4e0f-bace-b50a9dcdc993"
   },
   "outputs": [
    {
     "name": "stdout",
     "output_type": "stream",
     "text": [
      "good|friend|fancy|adventure|game\n"
     ]
    }
   ],
   "source": [
    "def extract_lemmas(doc, **kwargs):\n",
    "    return [t.lemma_ for t in textacy.extract.words(doc, **kwargs)]\n",
    "\n",
    "lemmas = extract_lemmas(doc, include_pos=['ADJ', 'NOUN'])\n",
    "print(*lemmas, sep='|')"
   ]
  },
  {
   "cell_type": "markdown",
   "metadata": {
    "id": "CGB4QUiZ9nRU"
   },
   "source": [
    "<a name='4.5.6'></a><a id='4.5.6'></a>\n",
    "## 4.5.6 Blueprint: Extracting Noun Phrases\n",
    "<a href=\"#top\">[back to top]</a>\n",
    "\n",
    "When we create n-grams, many of them are not very useful for analysis (eg `likes_fancy`, `my_best`). How can we detect word sequences that have real meaning?\n",
    "\n",
    "One way is to apply pattern-matching on the part-of-speech tags. spaCy has a powerful rule-based matcher, and textacy has a convenient wrapper for pattern-based phrase extraction. \n",
    "\n",
    "The following pattern extracts sequences of nouns with a preceding adjective."
   ]
  },
  {
   "cell_type": "code",
   "execution_count": 73,
   "metadata": {
    "ExecuteTime": {
     "end_time": "2022-02-11T07:11:12.949599Z",
     "start_time": "2022-02-11T07:11:12.889468Z"
    },
    "colab": {
     "base_uri": "https://localhost:8080/"
    },
    "id": "z9dnjfG_9nRU",
    "outputId": "cda8d4a3-faae-4314-a235-f3d3ab365e81"
   },
   "outputs": [
    {
     "name": "stdout",
     "output_type": "stream",
     "text": [
      "My best friend Ryan Peters likes fancy adventure games.\n",
      "----------------------------------------\n",
      "good friend|fancy adventure|fancy adventure game\n"
     ]
    }
   ],
   "source": [
    "text = \"My best friend Ryan Peters likes fancy adventure games.\"\n",
    "doc = nlp(text)\n",
    "print(doc)\n",
    "HR()\n",
    "\n",
    "patterns = [\"POS:ADJ POS:NOUN:+\"]\n",
    "\n",
    "# New textacy version\n",
    "spans = textacy.extract.matches.token_matches(doc, patterns=patterns)\n",
    "\n",
    "print(*[s.lemma_ for s in spans], sep='|')"
   ]
  },
  {
   "cell_type": "markdown",
   "metadata": {},
   "source": [
    "---\n",
    "We can also use spaCy's `doc.noun_chunks` for noun phrase extraction. However, the returned chunks can also include pronouns and determiners, which make it less suited for feature extraction."
   ]
  },
  {
   "cell_type": "code",
   "execution_count": 74,
   "metadata": {
    "ExecuteTime": {
     "end_time": "2022-02-11T07:11:15.167646Z",
     "start_time": "2022-02-11T07:11:15.109309Z"
    },
    "colab": {
     "base_uri": "https://localhost:8080/"
    },
    "id": "VS_Rz12P9nRV",
    "outputId": "5cdec0ce-0e17-4c03-cc36-8377f0acee8b"
   },
   "outputs": [
    {
     "name": "stdout",
     "output_type": "stream",
     "text": [
      "My best friend|Ryan Peters|fancy adventure games\n"
     ]
    }
   ],
   "source": [
    "print(*doc.noun_chunks, sep='|')"
   ]
  },
  {
   "cell_type": "markdown",
   "metadata": {},
   "source": [
    "---\n",
    "Here we define a blueprint for noun phrase extraction based on part-of-speech patterns. \n",
    "\n",
    "The function takes a doc, a list of part-of-speech tags, and a separator character to join the words of the noun phrase. \n",
    "\n",
    "The constructed pattern searches for sequences of nouns that are preceded by a token with one of the specified part-of-speech tags. \n",
    "\n",
    "Returned are the lemmas. Our example extracts all phrases consisting of an adjective or a noun followed by a sequence of nouns."
   ]
  },
  {
   "cell_type": "code",
   "execution_count": 75,
   "metadata": {
    "ExecuteTime": {
     "end_time": "2022-02-11T07:11:35.569337Z",
     "start_time": "2022-02-11T07:11:35.418520Z"
    },
    "colab": {
     "base_uri": "https://localhost:8080/"
    },
    "id": "Fkp1XOib9nRV",
    "outputId": "429ea80d-61c4-44ae-ee31-1fa38e5e9673"
   },
   "outputs": [
    {
     "name": "stdout",
     "output_type": "stream",
     "text": [
      "good_friend|fancy_adventure|fancy_adventure_game|adventure_game\n"
     ]
    }
   ],
   "source": [
    "def extract_noun_phrases(doc, preceding_pos=['NOUN'], sep='_'):\n",
    "    patterns = []\n",
    "    for pos in preceding_pos:\n",
    "        patterns.append(f\"POS:{pos} POS:NOUN:+\")\n",
    "\n",
    "    # Assume textacy.__version__ > '0.11':\n",
    "    spans = textacy.extract.matches.token_matches(doc, patterns=patterns)\n",
    "\n",
    "    return [sep.join([t.lemma_ for t in s]) for s in spans]\n",
    "\n",
    "\n",
    "print(*extract_noun_phrases(doc, ['ADJ', 'NOUN']), sep='|')"
   ]
  },
  {
   "cell_type": "markdown",
   "metadata": {
    "id": "BwTCnPo69nRW"
   },
   "source": [
    "<a name='4.5.7'></a><a id='4.5.7'></a>\n",
    "## 4.5.7 Blueprint: Extracting Named Entities\n",
    "<a href=\"#top\">[back to top]</a>\n",
    "\n",
    "Named-entity recognition refers to the process of detecting entities such as people, locations, or organizations in text. Each entity can consist of one or more tokens, like San Francisco. Therefore, named entities are represented by `Span` objects. As with noun phrases, it can be helpful to retrieve a list of named entities for further analysis."
   ]
  },
  {
   "cell_type": "code",
   "execution_count": 76,
   "metadata": {
    "ExecuteTime": {
     "end_time": "2022-02-11T07:11:44.855759Z",
     "start_time": "2022-02-11T07:11:44.789334Z"
    },
    "colab": {
     "base_uri": "https://localhost:8080/"
    },
    "id": "4OgcQnsc9nRW",
    "outputId": "62e68661-c746-42d9-ae14-17eaeec8e102"
   },
   "outputs": [
    {
     "name": "stdout",
     "output_type": "stream",
     "text": [
      "(James O'Neill, PERSON) (World Cargo Inc, ORG) (San Francisco, GPE) "
     ]
    }
   ],
   "source": [
    "text = \"James O'Neill, chairman of World Cargo Inc, lives in San Francisco.\"\n",
    "doc = nlp(text)\n",
    "\n",
    "for ent in doc.ents:\n",
    "    print(f\"({ent.text}, {ent.label_})\", end=\" \")"
   ]
  },
  {
   "cell_type": "code",
   "execution_count": 77,
   "metadata": {
    "ExecuteTime": {
     "end_time": "2022-02-11T07:11:45.705815Z",
     "start_time": "2022-02-11T07:11:45.635390Z"
    },
    "colab": {
     "base_uri": "https://localhost:8080/",
     "height": 52
    },
    "id": "WnLrS18O9nRW",
    "outputId": "df2a75a2-be41-4c6c-d915-702abd50603d"
   },
   "outputs": [
    {
     "data": {
      "text/html": [
       "<span class=\"tex2jax_ignore\"><div class=\"entities\" style=\"line-height: 2.5; direction: ltr\">\n",
       "<mark class=\"entity\" style=\"background: #aa9cfc; padding: 0.45em 0.6em; margin: 0 0.25em; line-height: 1; border-radius: 0.35em;\">\n",
       "    James O'Neill\n",
       "    <span style=\"font-size: 0.8em; font-weight: bold; line-height: 1; border-radius: 0.35em; vertical-align: middle; margin-left: 0.5rem\">PERSON</span>\n",
       "</mark>\n",
       ", chairman of \n",
       "<mark class=\"entity\" style=\"background: #7aecec; padding: 0.45em 0.6em; margin: 0 0.25em; line-height: 1; border-radius: 0.35em;\">\n",
       "    World Cargo Inc\n",
       "    <span style=\"font-size: 0.8em; font-weight: bold; line-height: 1; border-radius: 0.35em; vertical-align: middle; margin-left: 0.5rem\">ORG</span>\n",
       "</mark>\n",
       ", lives in \n",
       "<mark class=\"entity\" style=\"background: #feca74; padding: 0.45em 0.6em; margin: 0 0.25em; line-height: 1; border-radius: 0.35em;\">\n",
       "    San Francisco\n",
       "    <span style=\"font-size: 0.8em; font-weight: bold; line-height: 1; border-radius: 0.35em; vertical-align: middle; margin-left: 0.5rem\">GPE</span>\n",
       "</mark>\n",
       ".</div></span>"
      ],
      "text/plain": [
       "<IPython.core.display.HTML object>"
      ]
     },
     "metadata": {},
     "output_type": "display_data"
    }
   ],
   "source": [
    "displacy.render(doc, style='ent', jupyter=True)"
   ]
  },
  {
   "cell_type": "markdown",
   "metadata": {},
   "source": [
    "For the extraction of named entities of certain types, we can make use of one of textacy's convenient functions.\n"
   ]
  },
  {
   "cell_type": "code",
   "execution_count": 78,
   "metadata": {
    "ExecuteTime": {
     "end_time": "2022-02-11T07:11:46.924574Z",
     "start_time": "2022-02-11T07:11:46.870284Z"
    },
    "id": "8dFbDK609nRW"
   },
   "outputs": [],
   "source": [
    "def extract_entities(doc, include_types=None, sep='_'):\n",
    "\n",
    "    ents = textacy.extract.entities(doc, \n",
    "             include_types=include_types, \n",
    "             exclude_types=None, \n",
    "             drop_determiners=True, \n",
    "             min_freq=1)\n",
    "    \n",
    "    return [sep.join([t.lemma_ for t in e])+'/'+e.label_ for e in ents]"
   ]
  },
  {
   "cell_type": "code",
   "execution_count": 79,
   "metadata": {
    "ExecuteTime": {
     "end_time": "2022-02-11T07:11:47.640710Z",
     "start_time": "2022-02-11T07:11:47.589554Z"
    },
    "colab": {
     "base_uri": "https://localhost:8080/"
    },
    "id": "SD9qTwiZ9nRW",
    "outputId": "79c830b5-a6cf-402e-be98-8e139f5db2a7"
   },
   "outputs": [
    {
     "name": "stdout",
     "output_type": "stream",
     "text": [
      "[\"James_O'Neill/PERSON\", 'San_Francisco/GPE']\n"
     ]
    }
   ],
   "source": [
    "print(extract_entities(doc, ['PERSON', 'GPE']))"
   ]
  },
  {
   "cell_type": "markdown",
   "metadata": {
    "id": "cWirsiG_9nRX"
   },
   "source": [
    "---\n",
    "<a name='4.6'></a><a id='4.6'></a>\n",
    "# 4.6 Feature Extraction on a Large Dataset\n",
    "<a href=\"#top\">[back to top]</a>"
   ]
  },
  {
   "cell_type": "markdown",
   "metadata": {
    "id": "-AujRlos9nRX"
   },
   "source": [
    "<a name='4.6.1'></a><a id='4.6.1'></a>\n",
    "## 4.6.1 Blueprint: Creating One Function to Get It All\n",
    "<a href=\"#top\">[back to top]</a>\n",
    "\n",
    "This blueprint function combines all the extraction functions from the previous section. It neatly puts everything we want to extract in one place in the code so that the subsequent steps do not need to be adjusted if you add or change something here."
   ]
  },
  {
   "cell_type": "code",
   "execution_count": 80,
   "metadata": {
    "ExecuteTime": {
     "end_time": "2022-02-11T07:11:50.064456Z",
     "start_time": "2022-02-11T07:11:50.005224Z"
    },
    "id": "np8Mwp1z9nRX"
   },
   "outputs": [],
   "source": [
    "def extract_nlp(doc):\n",
    "    PARTS = ['PART', 'PUNCT', 'DET', 'PRON', 'SYM', 'SPACE']\n",
    "    \n",
    "    # Return a dict\n",
    "    return {\n",
    "        'lemmas'          : extract_lemmas(doc, exclude_pos = PARTS, filter_stops = False),\n",
    "        'adjs_verbs'      : extract_lemmas(doc, include_pos = ['ADJ', 'VERB']),\n",
    "        'nouns'           : extract_lemmas(doc, include_pos = ['NOUN', 'PROPN']),\n",
    "        'noun_phrases'    : extract_noun_phrases(doc, ['NOUN']),\n",
    "        'adj_noun_phrases': extract_noun_phrases(doc, ['ADJ']),\n",
    "        'entities'        : extract_entities(doc, ['PERSON', 'ORG', 'GPE', 'LOC'])\n",
    "    }"
   ]
  },
  {
   "cell_type": "code",
   "execution_count": 81,
   "metadata": {
    "ExecuteTime": {
     "end_time": "2022-02-11T07:11:51.394808Z",
     "start_time": "2022-02-11T07:11:50.635698Z"
    },
    "id": "7Yqk-hFz9nRY"
   },
   "outputs": [],
   "source": [
    "nlp = spacy.load('en_core_web_sm')"
   ]
  },
  {
   "cell_type": "markdown",
   "metadata": {},
   "source": [
    "The function returns a dictionary with everything we want to extract, as shown in this example."
   ]
  },
  {
   "cell_type": "code",
   "execution_count": 82,
   "metadata": {
    "ExecuteTime": {
     "end_time": "2022-02-11T07:11:51.646691Z",
     "start_time": "2022-02-11T07:11:51.565103Z"
    },
    "colab": {
     "base_uri": "https://localhost:8080/"
    },
    "id": "ZjgPCw5E9nRY",
    "outputId": "2a32554d-ccf1-49e8-b4f6-485920e659f7"
   },
   "outputs": [
    {
     "data": {
      "text/plain": [
       "spacy.tokens.doc.Doc"
      ]
     },
     "execution_count": 82,
     "metadata": {},
     "output_type": "execute_result"
    }
   ],
   "source": [
    "# Input\n",
    "text = \"My best friend Ryan Peters likes fancy adventure games.\"\n",
    "doc = nlp(text)\n",
    "type(doc)"
   ]
  },
  {
   "cell_type": "code",
   "execution_count": 83,
   "metadata": {},
   "outputs": [
    {
     "data": {
      "text/plain": [
       "{'lemmas': ['good',\n",
       "  'friend',\n",
       "  'Ryan',\n",
       "  'Peters',\n",
       "  'like',\n",
       "  'fancy',\n",
       "  'adventure',\n",
       "  'game'],\n",
       " 'adjs_verbs': ['good', 'like', 'fancy'],\n",
       " 'nouns': ['friend', 'Ryan', 'Peters', 'adventure', 'game'],\n",
       " 'noun_phrases': ['adventure_game'],\n",
       " 'adj_noun_phrases': ['good_friend',\n",
       "  'fancy_adventure',\n",
       "  'fancy_adventure_game'],\n",
       " 'entities': ['Ryan_Peters/PERSON']}"
      ]
     },
     "execution_count": 83,
     "metadata": {},
     "output_type": "execute_result"
    }
   ],
   "source": [
    "# Simple output from extract_nlp\n",
    "extract_nlp(doc)"
   ]
  },
  {
   "cell_type": "code",
   "execution_count": 84,
   "metadata": {},
   "outputs": [
    {
     "name": "stdout",
     "output_type": "stream",
     "text": [
      "lemmas              : ['good', 'friend', 'Ryan', 'Peters', 'like', 'fancy', 'adventure', 'game']\n",
      "adjs_verbs          : ['good', 'like', 'fancy']\n",
      "nouns               : ['friend', 'Ryan', 'Peters', 'adventure', 'game']\n",
      "noun_phrases        : ['adventure_game']\n",
      "adj_noun_phrases    : ['good_friend', 'fancy_adventure', 'fancy_adventure_game']\n",
      "entities            : ['Ryan_Peters/PERSON']\n"
     ]
    }
   ],
   "source": [
    "# Much cleaner output from extract_nlp\n",
    "for col, values in extract_nlp(doc).items():\n",
    "    print(f\"{col: <20}: {values}\")"
   ]
  },
  {
   "cell_type": "markdown",
   "metadata": {},
   "source": [
    "---\n",
    "The list of returned column names is needed for the next steps. Instead of hardcoding it, we just call `extract_nlp` with an empty document to retrieve the list.\n",
    "\n",
    "```\n",
    "nlp.make_doc\n",
    "\n",
    "Turn a text into a Doc object.\n",
    "\n",
    "text (str): The text to process.\n",
    "RETURNS (Doc): The processed doc.\n",
    "\n",
    "```"
   ]
  },
  {
   "cell_type": "code",
   "execution_count": 85,
   "metadata": {},
   "outputs": [
    {
     "data": {
      "text/plain": [
       "{'lemmas': [],\n",
       " 'adjs_verbs': [],\n",
       " 'nouns': [],\n",
       " 'noun_phrases': [],\n",
       " 'adj_noun_phrases': [],\n",
       " 'entities': []}"
      ]
     },
     "execution_count": 85,
     "metadata": {},
     "output_type": "execute_result"
    }
   ],
   "source": [
    "# Test to get column names\n",
    "extract_nlp(nlp.make_doc(''))"
   ]
  },
  {
   "cell_type": "code",
   "execution_count": 86,
   "metadata": {
    "ExecuteTime": {
     "end_time": "2022-02-11T07:11:52.892380Z",
     "start_time": "2022-02-11T07:11:52.814408Z"
    },
    "colab": {
     "base_uri": "https://localhost:8080/"
    },
    "id": "sE_oK27a9nRY",
    "outputId": "3e1754b3-a384-4fe6-ec72-47ad553ba939"
   },
   "outputs": [
    {
     "name": "stdout",
     "output_type": "stream",
     "text": [
      "['lemmas', 'adjs_verbs', 'nouns', 'noun_phrases', 'adj_noun_phrases', 'entities']\n"
     ]
    }
   ],
   "source": [
    "# Cleaner way to retrieve column names\n",
    "nlp_columns = list(extract_nlp(nlp.make_doc('')).keys())\n",
    "\n",
    "print(nlp_columns)"
   ]
  },
  {
   "cell_type": "code",
   "execution_count": 87,
   "metadata": {},
   "outputs": [
    {
     "name": "stdout",
     "output_type": "stream",
     "text": [
      "['lemmas', 'adjs_verbs', 'nouns', 'noun_phrases', 'adj_noun_phrases', 'entities']\n"
     ]
    }
   ],
   "source": [
    "# Another way, using only the constructor nlp('')\n",
    "print(list(extract_nlp(nlp(''))))"
   ]
  },
  {
   "cell_type": "markdown",
   "metadata": {
    "id": "AqxLRthS9nRZ"
   },
   "source": [
    "<a name='4.6.2'></a><a id='4.6.2'></a>\n",
    "## 4.6.2 Blueprint: Using spaCy on a Large Dataset\n",
    "<a href=\"#top\">[back to top]</a>\n",
    "\n",
    "We can use this function to extract features from all the records of a dataset. We take the cleaned texts that we created and saved at the beginning of this chapter and add the titles."
   ]
  },
  {
   "cell_type": "code",
   "execution_count": 88,
   "metadata": {
    "ExecuteTime": {
     "end_time": "2022-02-11T07:11:57.045277Z",
     "start_time": "2022-02-11T07:11:54.559387Z"
    },
    "colab": {
     "base_uri": "https://localhost:8080/",
     "height": 417
    },
    "id": "z4OHn4zW9nRa",
    "outputId": "1936ac37-60bf-445f-9d5e-d29fe0cc4814"
   },
   "outputs": [
    {
     "data": {
      "text/html": [
       "<div>\n",
       "<style scoped>\n",
       "    .dataframe tbody tr th:only-of-type {\n",
       "        vertical-align: middle;\n",
       "    }\n",
       "\n",
       "    .dataframe tbody tr th {\n",
       "        vertical-align: top;\n",
       "    }\n",
       "\n",
       "    .dataframe thead th {\n",
       "        text-align: right;\n",
       "    }\n",
       "</style>\n",
       "<table border=\"1\" class=\"dataframe\">\n",
       "  <thead>\n",
       "    <tr style=\"text-align: right;\">\n",
       "      <th></th>\n",
       "      <th>id</th>\n",
       "      <th>subreddit</th>\n",
       "      <th>title</th>\n",
       "      <th>raw_text</th>\n",
       "      <th>category</th>\n",
       "      <th>subcategory</th>\n",
       "      <th>text</th>\n",
       "    </tr>\n",
       "  </thead>\n",
       "  <tbody>\n",
       "    <tr>\n",
       "      <th>18880</th>\n",
       "      <td>7gjidl</td>\n",
       "      <td>BMW</td>\n",
       "      <td>325i E90 MPG Problem!</td>\n",
       "      <td>Recently my 2006 325i has been acting very strange. My gas mileage calculator was showing an ave...</td>\n",
       "      <td>autos</td>\n",
       "      <td>bmw</td>\n",
       "      <td>325i E90 MPG Problem!: Recently my 2006 325i has been acting very strange. My gas mileage calcul...</td>\n",
       "    </tr>\n",
       "    <tr>\n",
       "      <th>15340</th>\n",
       "      <td>7bp63c</td>\n",
       "      <td>mercedes_benz</td>\n",
       "      <td>Front left strut replacement</td>\n",
       "      <td>I need a new left strut. Mechanics say the part is 600$ i got the part number and found one onli...</td>\n",
       "      <td>autos</td>\n",
       "      <td>mercedes</td>\n",
       "      <td>Front left strut replacement: I need a new left strut. Mechanics say the part is 600$ i got the ...</td>\n",
       "    </tr>\n",
       "  </tbody>\n",
       "</table>\n",
       "</div>"
      ],
      "text/plain": [
       "           id      subreddit                         title  \\\n",
       "18880  7gjidl            BMW         325i E90 MPG Problem!   \n",
       "15340  7bp63c  mercedes_benz  Front left strut replacement   \n",
       "\n",
       "                                                                                                  raw_text  \\\n",
       "18880  Recently my 2006 325i has been acting very strange. My gas mileage calculator was showing an ave...   \n",
       "15340  I need a new left strut. Mechanics say the part is 600$ i got the part number and found one onli...   \n",
       "\n",
       "      category subcategory  \\\n",
       "18880    autos         bmw   \n",
       "15340    autos    mercedes   \n",
       "\n",
       "                                                                                                      text  \n",
       "18880  325i E90 MPG Problem!: Recently my 2006 325i has been acting very strange. My gas mileage calcul...  \n",
       "15340  Front left strut replacement: I need a new left strut. Mechanics say the part is 600$ i got the ...  "
      ]
     },
     "execution_count": 88,
     "metadata": {},
     "output_type": "execute_result"
    }
   ],
   "source": [
    "db_name = \"reddit-selfposts.db\"\n",
    "con = sqlite3.connect(db_name)\n",
    "df = pd.read_sql(\"select * from posts_cleaned\", con)\n",
    "con.close()\n",
    "\n",
    "df['text'] = df['title'] + ': ' + df['text']\n",
    "\n",
    "df.sample(2)"
   ]
  },
  {
   "cell_type": "markdown",
   "metadata": {},
   "source": [
    "Before we start NLP processing, we initialize the new DataFrame columns we want to fill with values."
   ]
  },
  {
   "cell_type": "code",
   "execution_count": 89,
   "metadata": {
    "ExecuteTime": {
     "end_time": "2022-02-11T07:11:58.157426Z",
     "start_time": "2022-02-11T07:11:58.100555Z"
    },
    "id": "gzUp_mMD9nRb"
   },
   "outputs": [
    {
     "data": {
      "text/plain": [
       "0        None\n",
       "1        None\n",
       "2        None\n",
       "3        None\n",
       "4        None\n",
       "         ... \n",
       "19995    None\n",
       "19996    None\n",
       "19997    None\n",
       "19998    None\n",
       "19999    None\n",
       "Name: entities, Length: 20000, dtype: object"
      ]
     },
     "execution_count": 89,
     "metadata": {},
     "output_type": "execute_result"
    }
   ],
   "source": [
    "for col in nlp_columns:\n",
    "    df[col] = None\n",
    "    \n",
    "df[col]"
   ]
  },
  {
   "cell_type": "markdown",
   "metadata": {},
   "source": [
    "Now we have to decide which model and which of the pipeline components to use. Remember to disable unneccesary components to improve runtime.\n",
    "\n",
    "We stick to the small English model with the default pipeline and use our custom tokenizer that splits on hyphens."
   ]
  },
  {
   "cell_type": "code",
   "execution_count": 90,
   "metadata": {
    "ExecuteTime": {
     "end_time": "2022-02-11T07:12:01.665331Z",
     "start_time": "2022-02-11T07:11:59.944873Z"
    },
    "id": "4okJAWzB9nRd"
   },
   "outputs": [],
   "source": [
    "nlp = spacy.load('en_core_web_sm', disable=[])\n",
    "\n",
    "# Optional Use default patterns except the ones matched by re.search\n",
    "nlp.tokenizer = custom_tokenizer(nlp)"
   ]
  },
  {
   "cell_type": "code",
   "execution_count": 91,
   "metadata": {
    "ExecuteTime": {
     "end_time": "2022-02-11T07:12:09.662804Z",
     "start_time": "2022-02-11T07:12:09.596112Z"
    },
    "id": "g5tDZ1Nd9nRe"
   },
   "outputs": [
    {
     "name": "stdout",
     "output_type": "stream",
     "text": [
      "<class 'pandas.core.frame.DataFrame'>\n",
      "Int64Index: 500 entries, 5283 to 19243\n",
      "Data columns (total 13 columns):\n",
      " #   Column            Non-Null Count  Dtype \n",
      "---  ------            --------------  ----- \n",
      " 0   id                500 non-null    object\n",
      " 1   subreddit         500 non-null    object\n",
      " 2   title             500 non-null    object\n",
      " 3   raw_text          500 non-null    object\n",
      " 4   category          500 non-null    object\n",
      " 5   subcategory       500 non-null    object\n",
      " 6   text              500 non-null    object\n",
      " 7   lemmas            0 non-null      object\n",
      " 8   adjs_verbs        0 non-null      object\n",
      " 9   nouns             0 non-null      object\n",
      " 10  noun_phrases      0 non-null      object\n",
      " 11  adj_noun_phrases  0 non-null      object\n",
      " 12  entities          0 non-null      object\n",
      "dtypes: object(13)\n",
      "memory usage: 54.7+ KB\n"
     ]
    }
   ],
   "source": [
    "# Full data set takes about 6-8 minutes\n",
    "# For faster processing use a sample like this:\n",
    "df_sm = df.sample(500)\n",
    "\n",
    "df_sm.info()"
   ]
  },
  {
   "cell_type": "markdown",
   "metadata": {},
   "source": [
    "* When processing larger datasets, it is recommended to use spaCy’s batch processing for a significant performance gain (roughly factor 2 on our dataset). \n",
    "\n",
    "* The function nlp.pipe takes an iterable of texts, processes them internally as a batch, and yields a list of processed Doc objects in the same order as the input data.\n",
    "\n",
    "* To use it, we first have to define a batch size. \n",
    "\n",
    "* Then we can loop over the batches and call nlp.pipe."
   ]
  },
  {
   "cell_type": "code",
   "execution_count": 92,
   "metadata": {},
   "outputs": [
    {
     "name": "stdout",
     "output_type": "stream",
     "text": [
      "10\n"
     ]
    }
   ],
   "source": [
    "batch_size = 50\n",
    "batches = math.ceil(len(df_sm) / batch_size)\n",
    "print(batches)"
   ]
  },
  {
   "cell_type": "code",
   "execution_count": 93,
   "metadata": {
    "ExecuteTime": {
     "end_time": "2022-02-11T07:12:24.571683Z",
     "start_time": "2022-02-11T07:12:13.772508Z"
    },
    "colab": {
     "base_uri": "https://localhost:8080/",
     "height": 124,
     "referenced_widgets": [
      "4a71e2833db544159c451bc893ccaeca",
      "205cc716882a42b6b16a0b506de98011",
      "a682bf92bbaf4f13a774a6c5d1d96a6b",
      "1b20b7ca218d47628083d9c1cf4bae3f",
      "518d3a8532d946058ed80a2d7b226bad",
      "a27a8ce41ce543ecb6eb9e3e3142d0a3",
      "2cb7fb0101e34f9f9ea1927fed57e6e8",
      "45744c535e5844d0a5072fecd85a99a3",
      "5d9f07ef9ee844118f90398381752ef3",
      "90bebd16d3ff40849ad8680732040e6b",
      "7fa1dd2a5dc74ca28d551c39499babab"
     ]
    },
    "id": "wlFRGVCa9nRe",
    "outputId": "335e2ebb-5d63-4b05-8845-44ab9194c558"
   },
   "outputs": [
    {
     "data": {
      "application/vnd.jupyter.widget-view+json": {
       "model_id": "8fff455737564757960e286876a7ff53",
       "version_major": 2,
       "version_minor": 0
      },
      "text/plain": [
       "  0%|          | 0/10 [00:00<?, ?it/s]"
      ]
     },
     "metadata": {},
     "output_type": "display_data"
    },
    {
     "name": "stdout",
     "output_type": "stream",
     "text": [
      "CPU times: user 9.09 s, sys: 1.39 s, total: 10.5 s\n",
      "Wall time: 10.7 s\n"
     ]
    }
   ],
   "source": [
    "%%time\n",
    "for i in tqdm(range(0, len(df_sm), batch_size), total=batches):\n",
    "    docs = nlp.pipe(df['text'][i:i+batch_size])\n",
    "    \n",
    "    for j, doc in enumerate(docs):\n",
    "        \n",
    "        # Call our custom function extract_nlp here\n",
    "        for col, values in extract_nlp(doc).items():\n",
    "            df_sm[col].iloc[i+j] = values"
   ]
  },
  {
   "cell_type": "code",
   "execution_count": 94,
   "metadata": {
    "ExecuteTime": {
     "end_time": "2021-02-25T16:50:18.141805Z",
     "start_time": "2021-02-25T16:49:39.155Z"
    },
    "colab": {
     "base_uri": "https://localhost:8080/",
     "height": 264
    },
    "id": "Zse6RaLq9nRe",
    "outputId": "ebe0db96-d8bd-426b-ab57-1e7410472700"
   },
   "outputs": [
    {
     "data": {
      "text/html": [
       "<div>\n",
       "<style scoped>\n",
       "    .dataframe tbody tr th:only-of-type {\n",
       "        vertical-align: middle;\n",
       "    }\n",
       "\n",
       "    .dataframe tbody tr th {\n",
       "        vertical-align: top;\n",
       "    }\n",
       "\n",
       "    .dataframe thead th {\n",
       "        text-align: right;\n",
       "    }\n",
       "</style>\n",
       "<table border=\"1\" class=\"dataframe\">\n",
       "  <thead>\n",
       "    <tr style=\"text-align: right;\">\n",
       "      <th></th>\n",
       "      <th>text</th>\n",
       "      <th>lemmas</th>\n",
       "      <th>nouns</th>\n",
       "      <th>noun_phrases</th>\n",
       "      <th>entities</th>\n",
       "    </tr>\n",
       "  </thead>\n",
       "  <tbody>\n",
       "    <tr>\n",
       "      <th>11296</th>\n",
       "      <td>'95 850, steering column replacement: Hi fellow Volvo drivers, I have posted here previously wit...</td>\n",
       "      <td>[thought, on, Model, X, after, 1, week, and, P90D, Model, S, and, P90D, Model, X, loaner, 've, h...</td>\n",
       "      <td>[thought, Model, X, week, P90D, Model, S, P90D, Model, X, loaner, week, thought, people, Model, ...</td>\n",
       "      <td>[thought_people, loaner_vehicle, delivery_day, software_bug, row_seat, value_proposition]</td>\n",
       "      <td>[P90D_Model_S/ORG, Model_S_p90d._considerably/ORG, FWD/ORG, Tesla/PERSON, P90D_S/ORG, Tesla/ORG]</td>\n",
       "    </tr>\n",
       "  </tbody>\n",
       "</table>\n",
       "</div>"
      ],
      "text/plain": [
       "                                                                                                      text  \\\n",
       "11296  '95 850, steering column replacement: Hi fellow Volvo drivers, I have posted here previously wit...   \n",
       "\n",
       "                                                                                                    lemmas  \\\n",
       "11296  [thought, on, Model, X, after, 1, week, and, P90D, Model, S, and, P90D, Model, X, loaner, 've, h...   \n",
       "\n",
       "                                                                                                     nouns  \\\n",
       "11296  [thought, Model, X, week, P90D, Model, S, P90D, Model, X, loaner, week, thought, people, Model, ...   \n",
       "\n",
       "                                                                                    noun_phrases  \\\n",
       "11296  [thought_people, loaner_vehicle, delivery_day, software_bug, row_seat, value_proposition]   \n",
       "\n",
       "                                                                                               entities  \n",
       "11296  [P90D_Model_S/ORG, Model_S_p90d._considerably/ORG, FWD/ORG, Tesla/PERSON, P90D_S/ORG, Tesla/ORG]  "
      ]
     },
     "execution_count": 94,
     "metadata": {},
     "output_type": "execute_result"
    }
   ],
   "source": [
    "df_sm[['text', 'lemmas', 'nouns', 'noun_phrases', 'entities']].sample(1)"
   ]
  },
  {
   "cell_type": "markdown",
   "metadata": {},
   "source": [
    "The newly created columns are perfectly suited for frequency analysis.\n",
    "\n",
    "We can check for the most frequently mentioned noun phrases in the autos category."
   ]
  },
  {
   "cell_type": "code",
   "execution_count": 95,
   "metadata": {
    "ExecuteTime": {
     "end_time": "2021-02-25T16:50:18.142811Z",
     "start_time": "2021-02-25T16:49:39.158Z"
    },
    "colab": {
     "base_uri": "https://localhost:8080/",
     "height": 243,
     "referenced_widgets": [
      "fa64baa65a1d4290b5ff55248480bf97",
      "db128f80c7534aa397f0ad2ac5df1b99",
      "7656b1afe7804c2c8b0b4fa42d72222b",
      "ab1e7f7b80fe48179689171fcd749273",
      "65ab4e854da34bb4a097a29c90b0d46e",
      "7737287753014a2dbac23146aebb2de3",
      "678a21e570834582b6a0b2b28bd155cc",
      "0570a48a8f7045daa06460883ac09111",
      "d5eb6307444e49aab63c672e2737bed4",
      "fee4bf1689174ab4978385b1f6fad68a",
      "4411e3f9f4d740ae809f094ffe4b8d00"
     ]
    },
    "id": "dbEYMJEt9nRf",
    "outputId": "d5efe396-7bd1-4c66-827e-117a84a9bdf8"
   },
   "outputs": [
    {
     "data": {
      "application/vnd.jupyter.widget-view+json": {
       "model_id": "b62b1c55d62e4aea8e5c7ad132a22775",
       "version_major": 2,
       "version_minor": 0
      },
      "text/plain": [
       "progress-bar:   0%|          | 0/500 [00:00<?, ?it/s]"
      ]
     },
     "metadata": {},
     "output_type": "display_data"
    },
    {
     "data": {
      "image/png": "[encoded data removed]",
      "text/plain": [
       "<Figure size 800x300 with 1 Axes>"
      ]
     },
     "metadata": {},
     "output_type": "display_data"
    }
   ],
   "source": [
    "(\n",
    "    count_words(df_sm, 'noun_phrases')\n",
    "        .head(10)\n",
    "        .plot(kind='barh', figsize=(8,3))\n",
    "        .invert_yaxis()\n",
    ")"
   ]
  },
  {
   "cell_type": "markdown",
   "metadata": {
    "id": "nke2x8D69nRf"
   },
   "source": [
    "<a name='4.6.3'></a><a id='4.6.3'></a>\n",
    "## 4.6.3 Persisting the Result\n",
    "<a href=\"#top\">[back to top]</a>\n",
    "\n",
    "Save the complete DataFrame to SQLite. \n",
    "\n",
    "For this, we need to serialize the extracted lists to space-separated strings, as lists are not supported by most databases."
   ]
  },
  {
   "cell_type": "code",
   "execution_count": 96,
   "metadata": {},
   "outputs": [],
   "source": [
    "df_sm[nlp_columns] = df_sm[nlp_columns].applymap(lambda items: ' '.join(items))"
   ]
  },
  {
   "cell_type": "code",
   "execution_count": 97,
   "metadata": {},
   "outputs": [
    {
     "data": {
      "text/html": [
       "<div>\n",
       "<style scoped>\n",
       "    .dataframe tbody tr th:only-of-type {\n",
       "        vertical-align: middle;\n",
       "    }\n",
       "\n",
       "    .dataframe tbody tr th {\n",
       "        vertical-align: top;\n",
       "    }\n",
       "\n",
       "    .dataframe thead th {\n",
       "        text-align: right;\n",
       "    }\n",
       "</style>\n",
       "<table border=\"1\" class=\"dataframe\">\n",
       "  <thead>\n",
       "    <tr style=\"text-align: right;\">\n",
       "      <th></th>\n",
       "      <th>lemmas</th>\n",
       "      <th>adjs_verbs</th>\n",
       "      <th>nouns</th>\n",
       "      <th>noun_phrases</th>\n",
       "      <th>adj_noun_phrases</th>\n",
       "      <th>entities</th>\n",
       "    </tr>\n",
       "  </thead>\n",
       "  <tbody>\n",
       "    <tr>\n",
       "      <th>5283</th>\n",
       "      <td>no Club color funny story go to college in Las Vegas be before know about motorcycle whatsoever ...</td>\n",
       "      <td>funny go know motorcycle end call worth note work outdrink read lose head assume bright red yell...</td>\n",
       "      <td>Club color story college Las Vegas college buddy strip dance club bar Hogs Heifers female sign d...</td>\n",
       "      <td>college_buddy dance_club</td>\n",
       "      <td>funny_story front_door bright_color xtra_t-shirt much_booze</td>\n",
       "      <td>Las_Vegas/GPE Hogs_Heifers/PERSON ANYONE/PERSON</td>\n",
       "    </tr>\n",
       "    <tr>\n",
       "      <th>4092</th>\n",
       "      <td>roush vs Shleby GT500 be try determine be fast and 've see dealership video with two racing(rous...</td>\n",
       "      <td>try determine see win wonder bigass find trustworthy</td>\n",
       "      <td>roush Shleby GT500 dealership video racing(roush supercharger Roush spec website source kind thing</td>\n",
       "      <td>dealership_video</td>\n",
       "      <td>bigass_supercharger same_spec trustworthy_source</td>\n",
       "      <td>Shleby_GT500/ORG</td>\n",
       "    </tr>\n",
       "    <tr>\n",
       "      <th>5385</th>\n",
       "      <td>2001 Golf Wagon look for insight hello try find information on replace 2001 Golf Wagon starter g...</td>\n",
       "      <td>look try find replace go go big live wonder international recommend replace oh-so-specific mention</td>\n",
       "      <td>Golf Wagon insight information Golf Wagon starter gas dealership range rush Japan shipping websi...</td>\n",
       "      <td>shipping_website</td>\n",
       "      <td>international_shipping international_shipping_website</td>\n",
       "      <td>Wagon/PERSON Wagon/PERSON Japan/GPE</td>\n",
       "    </tr>\n",
       "    <tr>\n",
       "      <th>12561</th>\n",
       "      <td>be 250 Coolant Flush change _URL_ have IS 250 AWD from 2006 about 73 k mile on 've never touch e...</td>\n",
       "      <td>touch find change say long flushed change wait</td>\n",
       "      <td>Coolant Flush change _URL_ AWD k mile engine radiator coolant book life Toyota coolant year</td>\n",
       "      <td>k_mile engine_radiator engine_radiator_coolant radiator_coolant</td>\n",
       "      <td>long_life</td>\n",
       "      <td>AWD/ORG</td>\n",
       "    </tr>\n",
       "    <tr>\n",
       "      <th>3331</th>\n",
       "      <td>Gen1 mpg w/ dead battery hi new to subreddit be consider buy Gen1 Volt but can find straight ans...</td>\n",
       "      <td>dead new consider buy find straight get dead gen1 deplete</td>\n",
       "      <td>Gen1 mpg w/ battery subreddit Gen1 Volt answer kind mpg battery mile trip kind highway mpg volt ...</td>\n",
       "      <td>mpg_w/ mile_trip highway_mpg</td>\n",
       "      <td>dead_battery straight_answer gen1_volt</td>\n",
       "      <td>Gen1_Volt/GPE</td>\n",
       "    </tr>\n",
       "  </tbody>\n",
       "</table>\n",
       "</div>"
      ],
      "text/plain": [
       "                                                                                                    lemmas  \\\n",
       "5283   no Club color funny story go to college in Las Vegas be before know about motorcycle whatsoever ...   \n",
       "4092   roush vs Shleby GT500 be try determine be fast and 've see dealership video with two racing(rous...   \n",
       "5385   2001 Golf Wagon look for insight hello try find information on replace 2001 Golf Wagon starter g...   \n",
       "12561  be 250 Coolant Flush change _URL_ have IS 250 AWD from 2006 about 73 k mile on 've never touch e...   \n",
       "3331   Gen1 mpg w/ dead battery hi new to subreddit be consider buy Gen1 Volt but can find straight ans...   \n",
       "\n",
       "                                                                                                adjs_verbs  \\\n",
       "5283   funny go know motorcycle end call worth note work outdrink read lose head assume bright red yell...   \n",
       "4092                                                  try determine see win wonder bigass find trustworthy   \n",
       "5385    look try find replace go go big live wonder international recommend replace oh-so-specific mention   \n",
       "12561                                                       touch find change say long flushed change wait   \n",
       "3331                                             dead new consider buy find straight get dead gen1 deplete   \n",
       "\n",
       "                                                                                                     nouns  \\\n",
       "5283   Club color story college Las Vegas college buddy strip dance club bar Hogs Heifers female sign d...   \n",
       "4092    roush Shleby GT500 dealership video racing(roush supercharger Roush spec website source kind thing   \n",
       "5385   Golf Wagon insight information Golf Wagon starter gas dealership range rush Japan shipping websi...   \n",
       "12561          Coolant Flush change _URL_ AWD k mile engine radiator coolant book life Toyota coolant year   \n",
       "3331   Gen1 mpg w/ battery subreddit Gen1 Volt answer kind mpg battery mile trip kind highway mpg volt ...   \n",
       "\n",
       "                                                          noun_phrases  \\\n",
       "5283                                          college_buddy dance_club   \n",
       "4092                                                  dealership_video   \n",
       "5385                                                  shipping_website   \n",
       "12561  k_mile engine_radiator engine_radiator_coolant radiator_coolant   \n",
       "3331                                      mpg_w/ mile_trip highway_mpg   \n",
       "\n",
       "                                                  adj_noun_phrases  \\\n",
       "5283   funny_story front_door bright_color xtra_t-shirt much_booze   \n",
       "4092              bigass_supercharger same_spec trustworthy_source   \n",
       "5385         international_shipping international_shipping_website   \n",
       "12561                                                    long_life   \n",
       "3331                        dead_battery straight_answer gen1_volt   \n",
       "\n",
       "                                              entities  \n",
       "5283   Las_Vegas/GPE Hogs_Heifers/PERSON ANYONE/PERSON  \n",
       "4092                                  Shleby_GT500/ORG  \n",
       "5385               Wagon/PERSON Wagon/PERSON Japan/GPE  \n",
       "12561                                          AWD/ORG  \n",
       "3331                                     Gen1_Volt/GPE  "
      ]
     },
     "execution_count": 97,
     "metadata": {},
     "output_type": "execute_result"
    }
   ],
   "source": [
    "df_sm[nlp_columns].head()"
   ]
  },
  {
   "cell_type": "code",
   "execution_count": 98,
   "metadata": {
    "ExecuteTime": {
     "end_time": "2021-02-25T16:50:18.143525Z",
     "start_time": "2021-02-25T16:49:39.163Z"
    },
    "id": "o9HDyq1d9nRf"
   },
   "outputs": [],
   "source": [
    "con = sqlite3.connect(db_name) \n",
    "df_sm.to_sql(\"posts_nlp\", con, index=False, if_exists=\"replace\")\n",
    "con.close()"
   ]
  },
  {
   "cell_type": "code",
   "execution_count": 99,
   "metadata": {},
   "outputs": [
    {
     "name": "stdout",
     "output_type": "stream",
     "text": [
      "<class 'pandas.core.frame.DataFrame'>\n",
      "Int64Index: 500 entries, 5283 to 19243\n",
      "Data columns (total 6 columns):\n",
      " #   Column            Non-Null Count  Dtype \n",
      "---  ------            --------------  ----- \n",
      " 0   lemmas            500 non-null    object\n",
      " 1   adjs_verbs        500 non-null    object\n",
      " 2   nouns             500 non-null    object\n",
      " 3   noun_phrases      500 non-null    object\n",
      " 4   adj_noun_phrases  500 non-null    object\n",
      " 5   entities          500 non-null    object\n",
      "dtypes: object(6)\n",
      "memory usage: 27.3+ KB\n"
     ]
    }
   ],
   "source": [
    "df_sm[nlp_columns].info()"
   ]
  },
  {
   "cell_type": "code",
   "execution_count": 100,
   "metadata": {
    "colab": {
     "base_uri": "https://localhost:8080/",
     "height": 281
    },
    "id": "LwOwLmfn9nRg",
    "outputId": "b1b1a420-3543-4beb-fa60-e6f4c33553d5"
   },
   "outputs": [
    {
     "data": {
      "text/html": [
       "<div>\n",
       "<style scoped>\n",
       "    .dataframe tbody tr th:only-of-type {\n",
       "        vertical-align: middle;\n",
       "    }\n",
       "\n",
       "    .dataframe tbody tr th {\n",
       "        vertical-align: top;\n",
       "    }\n",
       "\n",
       "    .dataframe thead th {\n",
       "        text-align: right;\n",
       "    }\n",
       "</style>\n",
       "<table border=\"1\" class=\"dataframe\">\n",
       "  <thead>\n",
       "    <tr style=\"text-align: right;\">\n",
       "      <th></th>\n",
       "      <th>lemmas</th>\n",
       "      <th>adjs_verbs</th>\n",
       "      <th>nouns</th>\n",
       "      <th>noun_phrases</th>\n",
       "      <th>adj_noun_phrases</th>\n",
       "      <th>entities</th>\n",
       "    </tr>\n",
       "  </thead>\n",
       "  <tbody>\n",
       "    <tr>\n",
       "      <th>19729</th>\n",
       "      <td>model 3 card + walk away lock so scenario just cross mind do seem too unlikely phone go flat as ...</td>\n",
       "      <td>walk cross unlikely go flat size jump grab habit android know walk lock need specific detect mis...</td>\n",
       "      <td>model card lock scenario mind phone case day usage wallet glove compartment keycard point credit...</td>\n",
       "      <td>glove_compartment credit_card apple_pay car_lock</td>\n",
       "      <td>full_day specific_spot mobile_reception</td>\n",
       "      <td>android/ORG rfid/ORG Tesla/ORG Australia/GPE</td>\n",
       "    </tr>\n",
       "  </tbody>\n",
       "</table>\n",
       "</div>"
      ],
      "text/plain": [
       "                                                                                                    lemmas  \\\n",
       "19729  model 3 card + walk away lock so scenario just cross mind do seem too unlikely phone go flat as ...   \n",
       "\n",
       "                                                                                                adjs_verbs  \\\n",
       "19729  walk cross unlikely go flat size jump grab habit android know walk lock need specific detect mis...   \n",
       "\n",
       "                                                                                                     nouns  \\\n",
       "19729  model card lock scenario mind phone case day usage wallet glove compartment keycard point credit...   \n",
       "\n",
       "                                           noun_phrases  \\\n",
       "19729  glove_compartment credit_card apple_pay car_lock   \n",
       "\n",
       "                              adj_noun_phrases  \\\n",
       "19729  full_day specific_spot mobile_reception   \n",
       "\n",
       "                                           entities  \n",
       "19729  android/ORG rfid/ORG Tesla/ORG Australia/GPE  "
      ]
     },
     "execution_count": 100,
     "metadata": {},
     "output_type": "execute_result"
    }
   ],
   "source": [
    "df_sm[nlp_columns].sample(1)"
   ]
  },
  {
   "cell_type": "code",
   "execution_count": 101,
   "metadata": {
    "colab": {
     "base_uri": "https://localhost:8080/",
     "height": 579
    },
    "id": "CEIEGYu29nRg",
    "outputId": "ff26c0af-ea53-40b7-fb7b-43dd462b7bf4"
   },
   "outputs": [
    {
     "data": {
      "text/html": [
       "<div>\n",
       "<style scoped>\n",
       "    .dataframe tbody tr th:only-of-type {\n",
       "        vertical-align: middle;\n",
       "    }\n",
       "\n",
       "    .dataframe tbody tr th {\n",
       "        vertical-align: top;\n",
       "    }\n",
       "\n",
       "    .dataframe thead th {\n",
       "        text-align: right;\n",
       "    }\n",
       "</style>\n",
       "<table border=\"1\" class=\"dataframe\">\n",
       "  <thead>\n",
       "    <tr style=\"text-align: right;\">\n",
       "      <th></th>\n",
       "      <th>9614</th>\n",
       "    </tr>\n",
       "  </thead>\n",
       "  <tbody>\n",
       "    <tr>\n",
       "      <th>id</th>\n",
       "      <td>6xwomv</td>\n",
       "    </tr>\n",
       "    <tr>\n",
       "      <th>subreddit</th>\n",
       "      <td>Lexus</td>\n",
       "    </tr>\n",
       "    <tr>\n",
       "      <th>title</th>\n",
       "      <td>Tuning a 2jz-he in a 01-04 gs300</td>\n",
       "    </tr>\n",
       "    <tr>\n",
       "      <th>raw_text</th>\n",
       "      <td>Hello everyone! I'm trying to buy a gs300 with a 2jz and I'd like to turbo it. This leads me to ...</td>\n",
       "    </tr>\n",
       "    <tr>\n",
       "      <th>category</th>\n",
       "      <td>autos</td>\n",
       "    </tr>\n",
       "    <tr>\n",
       "      <th>subcategory</th>\n",
       "      <td>lexus</td>\n",
       "    </tr>\n",
       "    <tr>\n",
       "      <th>text</th>\n",
       "      <td>Tuning a 2jz-he in a 01-04 gs300: Hello everyone! I'm trying to buy a gs300 with a 2jz and I'd l...</td>\n",
       "    </tr>\n",
       "    <tr>\n",
       "      <th>lemmas</th>\n",
       "      <td>C30 start issue hello just enter Volvo world few week ago and have run into first issue so since...</td>\n",
       "    </tr>\n",
       "    <tr>\n",
       "      <th>adjs_verbs</th>\n",
       "      <td>start enter run purchase notice start start quick start think big turn turn start start happen l...</td>\n",
       "    </tr>\n",
       "    <tr>\n",
       "      <th>nouns</th>\n",
       "      <td>C30 issue Volvo world week issue c30 car deal yesterday morning key dash light attempt thing wor...</td>\n",
       "    </tr>\n",
       "    <tr>\n",
       "      <th>noun_phrases</th>\n",
       "      <td>yesterday_morning dash_light work_today multi_meter girlfriend_car dash_light auto_part auto_par...</td>\n",
       "    </tr>\n",
       "    <tr>\n",
       "      <th>adj_noun_phrases</th>\n",
       "      <td>few_week first_issue big_deal same_thing little_drive little_while first_try half_hour full_brig...</td>\n",
       "    </tr>\n",
       "    <tr>\n",
       "      <th>entities</th>\n",
       "      <td>C30/ORG Volvo/ORG Jeep/ORG Volvo/ORG</td>\n",
       "    </tr>\n",
       "  </tbody>\n",
       "</table>\n",
       "</div>"
      ],
      "text/plain": [
       "                                                                                                                 9614\n",
       "id                                                                                                             6xwomv\n",
       "subreddit                                                                                                       Lexus\n",
       "title                                                                                Tuning a 2jz-he in a 01-04 gs300\n",
       "raw_text          Hello everyone! I'm trying to buy a gs300 with a 2jz and I'd like to turbo it. This leads me to ...\n",
       "category                                                                                                        autos\n",
       "subcategory                                                                                                     lexus\n",
       "text              Tuning a 2jz-he in a 01-04 gs300: Hello everyone! I'm trying to buy a gs300 with a 2jz and I'd l...\n",
       "lemmas            C30 start issue hello just enter Volvo world few week ago and have run into first issue so since...\n",
       "adjs_verbs        start enter run purchase notice start start quick start think big turn turn start start happen l...\n",
       "nouns             C30 issue Volvo world week issue c30 car deal yesterday morning key dash light attempt thing wor...\n",
       "noun_phrases      yesterday_morning dash_light work_today multi_meter girlfriend_car dash_light auto_part auto_par...\n",
       "adj_noun_phrases  few_week first_issue big_deal same_thing little_drive little_while first_try half_hour full_brig...\n",
       "entities                                                                         C30/ORG Volvo/ORG Jeep/ORG Volvo/ORG"
      ]
     },
     "execution_count": 101,
     "metadata": {},
     "output_type": "execute_result"
    }
   ],
   "source": [
    "df_sm.sample(1).T"
   ]
  },
  {
   "cell_type": "markdown",
   "metadata": {
    "id": "fvT53HhF9nRg"
   },
   "source": [
    "<a name='4.6.4'></a><a id='4.6.4'></a>\n",
    "## 4.6.4 A Note on Execution Time\n",
    "<a href=\"#top\">[back to top]</a>\n",
    "\n",
    "Complete linguistic processing is really time-consuming. In fact, processing just the 20,000 Reddit posts with spaCy takes several minutes. A simple regexp tokenizer, in contrast, takes only a few seconds to tokenize all records on the same machine. It’s the tagging, parsing, and named-entity recognition that’s expensive, even though spaCy is really fast compared to other libraries. So if you don’t need named entities, you should definitely disable the parser and name-entity recognition to save more than 60% of the runtime.\n",
    "\n",
    "Processing the data in batches with nlp.pipe and using GPUs is one way to speed up data processing for spaCy. But data preparation in general is also a perfect candidate for parallelization. One option to parallelize tasks in Python is using the library multi processing. Especially for the parallelization of operations on dataframes, there are some scalable alternatives to Pandas worth checking, namely Dask, Modin, and Vaex. pandarallel is a library that adds parallel apply operators directly to Pandas.\n",
    "\n",
    "In any case, it is helpful to watch the progress and get a runtime estimate. As already mentioned in Chapter 1, the tqdm library is a great tool for that purpose because it provides progress bars for iterators and dataframe operations. Our notebooks on Git‐ Hub use tqdm whenever possible."
   ]
  },
  {
   "cell_type": "markdown",
   "metadata": {
    "id": "G2yWWsN09nRh"
   },
   "source": [
    "<a name='4.7'></a><a id='4.7'></a>\n",
    "# 4.7 There is More\n",
    "<a href=\"#top\">[back to top]</a>\n",
    "\n",
    "There are additional aspects besides data cleaning and linguistic processing. "
   ]
  },
  {
   "cell_type": "markdown",
   "metadata": {
    "id": "w8mYYLJ79nRh"
   },
   "source": [
    "<a name='4.7.1'></a><a id='4.7.1'></a>\n",
    "## 4.7.1 Additional Blueprint (not in book): Language Detection with fastText\n",
    "<a href=\"#top\">[back to top]</a>\n",
    "\n",
    "* There are different trained models available on the fastText website. \n",
    "* We will be using the smaller model `lid.176.ftz` which has a size of less than 1 MB and is almost as accurate as the large model with 126MB. \n",
    "* See <https://fasttext.cc/docs/en/language-identification.html> for instructions."
   ]
  },
  {
   "cell_type": "code",
   "execution_count": 102,
   "metadata": {
    "ExecuteTime": {
     "end_time": "2021-02-25T16:50:18.144359Z",
     "start_time": "2021-02-25T16:49:39.168Z"
    },
    "colab": {
     "base_uri": "https://localhost:8080/"
    },
    "id": "Sfq1jJ1O9nRh",
    "outputId": "7c803ff7-e956-4ab9-f2f1-59f173596741"
   },
   "outputs": [
    {
     "name": "stdout",
     "output_type": "stream",
     "text": [
      "-rw-r--r--  1 gb  staff  938013 Jan 19  2019 lid.176.ftz\n"
     ]
    }
   ],
   "source": [
    "# Download model\n",
    "model_file = 'lid.176.ftz'\n",
    "!wget -nc -q https://dl.fbaipublicfiles.com/fasttext/supervised-models/lid.176.ftz\n",
    "!ls -l {model_file}"
   ]
  },
  {
   "cell_type": "markdown",
   "metadata": {
    "id": "_2HZA-ha9nRh"
   },
   "source": [
    "After downloading, we load the model and make a first prediction with the following lines of code:"
   ]
  },
  {
   "cell_type": "code",
   "execution_count": 103,
   "metadata": {
    "ExecuteTime": {
     "end_time": "2021-02-25T16:50:18.145762Z",
     "start_time": "2021-02-25T16:49:39.172Z"
    },
    "colab": {
     "base_uri": "https://localhost:8080/"
    },
    "id": "Zf3jXBuI9nRh",
    "outputId": "55ed2664-85f2-420d-a1de-68ee6ab7fe2e"
   },
   "outputs": [
    {
     "name": "stderr",
     "output_type": "stream",
     "text": [
      "Warning : `load_model` does not return WordVectorModel or SupervisedModel any more, but a `FastText` object which is very similar.\n"
     ]
    }
   ],
   "source": [
    "lang_model = fasttext.load_model(model_file)"
   ]
  },
  {
   "cell_type": "code",
   "execution_count": 104,
   "metadata": {
    "ExecuteTime": {
     "end_time": "2021-02-25T16:50:18.146739Z",
     "start_time": "2021-02-25T16:49:39.176Z"
    },
    "colab": {
     "base_uri": "https://localhost:8080/"
    },
    "id": "NbvrUosv9nRi",
    "outputId": "254cedb5-d1cf-4d50-c83c-d9ab4998c3ab"
   },
   "outputs": [
    {
     "data": {
      "text/plain": [
       "(('__label__en', '__label__de', '__label__te'),\n",
       " array([0.97039694, 0.00256404, 0.00231963]))"
      ]
     },
     "execution_count": 104,
     "metadata": {},
     "output_type": "execute_result"
    }
   ],
   "source": [
    "# Make a prediction\n",
    "lang_model.predict(\n",
    "    '\"Good morning\" in German is \"Guten Morgen\"', 3\n",
    ")"
   ]
  },
  {
   "cell_type": "markdown",
   "metadata": {
    "id": "dYxlHaKa9nRj"
   },
   "source": [
    "The `predict` function takes a Unicode string as its first argument. The second, optional parameter `k` specifies that we want the `k` language labels with the highest probabilities.\n",
    "\n",
    "The model returns labels in the form `__label__<code>`, where code is the ISO 639 language code`<footnote>`See <https://en.wikipedia.org/wiki/List_of_ISO_639-1_codes> for a complete list.`</footnote>` and probabilites for each label. \n",
    "\n",
    "Let's wrap the language identification into a preprocessing function. The function returns the detected language only if the calculated probability is higher than the specified threshold, otherwise, it returns the default language. This is useful for corpora like the hacker news, which is basically an English corpus with some utterances from other languages."
   ]
  },
  {
   "cell_type": "code",
   "execution_count": 105,
   "metadata": {
    "ExecuteTime": {
     "end_time": "2021-02-25T16:50:18.148015Z",
     "start_time": "2021-02-25T16:49:39.181Z"
    },
    "id": "gygi6A9w9nRj"
   },
   "outputs": [],
   "source": [
    "def predict_language(text, threshold=0.8, default='en'):\n",
    "    \n",
    "    # Skip language detection for very short texts.\n",
    "    if len(text) < 20:\n",
    "        return default\n",
    "\n",
    "    # Fasttext requires single line input.\n",
    "    text = text.replace('\\n', ' ')\n",
    "    \n",
    "    labels, probas = lang_model.predict(text)\n",
    "    lang = labels[0].replace(\"__label__\", \"\")\n",
    "    proba = probas[0]\n",
    "    \n",
    "    if proba < threshold:\n",
    "        return default\n",
    "    else:\n",
    "        return lang"
   ]
  },
  {
   "cell_type": "markdown",
   "metadata": {
    "id": "L0UMemtq9nRj"
   },
   "source": [
    "The prediction function can now easily be applied to a data frame to identify the language of each document."
   ]
  },
  {
   "cell_type": "code",
   "execution_count": 106,
   "metadata": {
    "ExecuteTime": {
     "end_time": "2021-02-25T16:50:18.148894Z",
     "start_time": "2021-02-25T16:49:39.186Z"
    },
    "colab": {
     "base_uri": "https://localhost:8080/",
     "height": 206
    },
    "id": "DU-IkBOX9nRl",
    "outputId": "31eda976-2c19-4ad9-8aec-616fec06db70"
   },
   "outputs": [
    {
     "data": {
      "text/html": [
       "<div>\n",
       "<style scoped>\n",
       "    .dataframe tbody tr th:only-of-type {\n",
       "        vertical-align: middle;\n",
       "    }\n",
       "\n",
       "    .dataframe tbody tr th {\n",
       "        vertical-align: top;\n",
       "    }\n",
       "\n",
       "    .dataframe thead th {\n",
       "        text-align: right;\n",
       "    }\n",
       "</style>\n",
       "<table border=\"1\" class=\"dataframe\">\n",
       "  <thead>\n",
       "    <tr style=\"text-align: right;\">\n",
       "      <th></th>\n",
       "      <th>text</th>\n",
       "      <th>lang</th>\n",
       "    </tr>\n",
       "  </thead>\n",
       "  <tbody>\n",
       "    <tr>\n",
       "      <th>0</th>\n",
       "      <td>I don't like version 2.0 of Chat4you 😡👎</td>\n",
       "      <td>en</td>\n",
       "    </tr>\n",
       "    <tr>\n",
       "      <th>1</th>\n",
       "      <td>Ich mag Version 2.0 von Chat4you nicht 😡👎</td>\n",
       "      <td>de</td>\n",
       "    </tr>\n",
       "    <tr>\n",
       "      <th>2</th>\n",
       "      <td>Мне не нравится версия 2.0 Chat4you 😡👎</td>\n",
       "      <td>ru</td>\n",
       "    </tr>\n",
       "    <tr>\n",
       "      <th>3</th>\n",
       "      <td>Não gosto da versão 2.0 do Chat4you 😡👎</td>\n",
       "      <td>pt</td>\n",
       "    </tr>\n",
       "    <tr>\n",
       "      <th>4</th>\n",
       "      <td>मुझे Chat4you का संस्करण 2.0 पसंद नहीं है 😡👎</td>\n",
       "      <td>hi</td>\n",
       "    </tr>\n",
       "  </tbody>\n",
       "</table>\n",
       "</div>"
      ],
      "text/plain": [
       "                                           text lang\n",
       "0       I don't like version 2.0 of Chat4you 😡👎   en\n",
       "1     Ich mag Version 2.0 von Chat4you nicht 😡👎   de\n",
       "2        Мне не нравится версия 2.0 Chat4you 😡👎   ru\n",
       "3        Não gosto da versão 2.0 do Chat4you 😡👎   pt\n",
       "4  मुझे Chat4you का संस्करण 2.0 पसंद नहीं है 😡👎   hi"
      ]
     },
     "execution_count": 106,
     "metadata": {},
     "output_type": "execute_result"
    }
   ],
   "source": [
    "data = [\"I don't like version 2.0 of Chat4you 😡👎\",   # English\n",
    "        \"Ich mag Version 2.0 von Chat4you nicht 😡👎\", # German\n",
    "        \"Мне не нравится версия 2.0 Chat4you 😡👎\",    # Russian\n",
    "        \"Não gosto da versão 2.0 do Chat4you 😡👎\",    # Portugese\n",
    "        \"मुझे Chat4you का संस्करण 2.0 पसंद नहीं है 😡👎\"]   # Hindi\n",
    "\n",
    "demo_df = pd.Series(data, name='text').to_frame()\n",
    "\n",
    "# Create new column\n",
    "demo_df['lang'] = demo_df['text'].apply(predict_language)\n",
    "\n",
    "demo_df"
   ]
  },
  {
   "cell_type": "markdown",
   "metadata": {
    "id": "OXm14wdc9nRl"
   },
   "source": [
    "In order to get the real names for the language codes, we can provide a mapping dictionary. "
   ]
  },
  {
   "cell_type": "code",
   "execution_count": 107,
   "metadata": {},
   "outputs": [
    {
     "name": "stdout",
     "output_type": "stream",
     "text": [
      "-rw-r--r--  1 gb  staff  10811 Mar 30 23:26 iso_639-1.csv\n"
     ]
    }
   ],
   "source": [
    "iso_file = 'iso_639-1.csv'\n",
    "!wget -nc -q https://raw.githubusercontent.com/haliaeetus/iso-639/master/data/iso_639-1.csv\n",
    "!ls -l {iso_file}"
   ]
  },
  {
   "cell_type": "code",
   "execution_count": 108,
   "metadata": {
    "ExecuteTime": {
     "end_time": "2021-02-25T16:50:18.149859Z",
     "start_time": "2021-02-25T16:49:39.190Z"
    },
    "id": "0KVAo-pB9nRl"
   },
   "outputs": [
    {
     "name": "stdout",
     "output_type": "stream",
     "text": [
      "<class 'pandas.core.frame.DataFrame'>\n",
      "RangeIndex: 368 entries, 0 to 367\n",
      "Data columns (total 3 columns):\n",
      " #   Column  Non-Null Count  Dtype \n",
      "---  ------  --------------  ----- \n",
      " 0   name    368 non-null    object\n",
      " 1   iso     368 non-null    object\n",
      " 2   code    368 non-null    object\n",
      "dtypes: object(3)\n",
      "memory usage: 8.8+ KB\n"
     ]
    }
   ],
   "source": [
    "lang_df = pd.read_csv(iso_file)\n",
    "lang_df = lang_df[['name', '639-1', '639-2']].melt(id_vars=['name'], var_name='iso', value_name='code')\n",
    "\n",
    "lang_df.info()"
   ]
  },
  {
   "cell_type": "code",
   "execution_count": 109,
   "metadata": {},
   "outputs": [
    {
     "data": {
      "text/html": [
       "<div>\n",
       "<style scoped>\n",
       "    .dataframe tbody tr th:only-of-type {\n",
       "        vertical-align: middle;\n",
       "    }\n",
       "\n",
       "    .dataframe tbody tr th {\n",
       "        vertical-align: top;\n",
       "    }\n",
       "\n",
       "    .dataframe thead th {\n",
       "        text-align: right;\n",
       "    }\n",
       "</style>\n",
       "<table border=\"1\" class=\"dataframe\">\n",
       "  <thead>\n",
       "    <tr style=\"text-align: right;\">\n",
       "      <th></th>\n",
       "      <th>0</th>\n",
       "    </tr>\n",
       "  </thead>\n",
       "  <tbody>\n",
       "    <tr>\n",
       "      <th>ab</th>\n",
       "      <td>Abkhaz</td>\n",
       "    </tr>\n",
       "    <tr>\n",
       "      <th>aa</th>\n",
       "      <td>Afar</td>\n",
       "    </tr>\n",
       "    <tr>\n",
       "      <th>af</th>\n",
       "      <td>Afrikaans</td>\n",
       "    </tr>\n",
       "    <tr>\n",
       "      <th>ak</th>\n",
       "      <td>Akan</td>\n",
       "    </tr>\n",
       "    <tr>\n",
       "      <th>sq</th>\n",
       "      <td>Albanian</td>\n",
       "    </tr>\n",
       "  </tbody>\n",
       "</table>\n",
       "</div>"
      ],
      "text/plain": [
       "            0\n",
       "ab     Abkhaz\n",
       "aa       Afar\n",
       "af  Afrikaans\n",
       "ak       Akan\n",
       "sq   Albanian"
      ]
     },
     "execution_count": 109,
     "metadata": {},
     "output_type": "execute_result"
    }
   ],
   "source": [
    "# Create dictionary with entries {'code': 'name'}\n",
    "iso639_languages = lang_df.set_index('code')['name'].to_dict()\n",
    "\n",
    "# Check\n",
    "pd.DataFrame(iso639_languages, index=[0]).T.head()"
   ]
  },
  {
   "cell_type": "markdown",
   "metadata": {
    "id": "wBWj9TEw9nRl"
   },
   "source": [
    "And we add this to our original data frame:"
   ]
  },
  {
   "cell_type": "code",
   "execution_count": 110,
   "metadata": {
    "ExecuteTime": {
     "end_time": "2021-02-25T16:50:18.150403Z",
     "start_time": "2021-02-25T16:49:39.194Z"
    },
    "colab": {
     "base_uri": "https://localhost:8080/",
     "height": 206
    },
    "id": "o8iUWBEg9nRl",
    "outputId": "63267947-db8d-4367-a405-7bfea68dd454"
   },
   "outputs": [
    {
     "data": {
      "text/html": [
       "<div>\n",
       "<style scoped>\n",
       "    .dataframe tbody tr th:only-of-type {\n",
       "        vertical-align: middle;\n",
       "    }\n",
       "\n",
       "    .dataframe tbody tr th {\n",
       "        vertical-align: top;\n",
       "    }\n",
       "\n",
       "    .dataframe thead th {\n",
       "        text-align: right;\n",
       "    }\n",
       "</style>\n",
       "<table border=\"1\" class=\"dataframe\">\n",
       "  <thead>\n",
       "    <tr style=\"text-align: right;\">\n",
       "      <th></th>\n",
       "      <th>text</th>\n",
       "      <th>lang</th>\n",
       "      <th>lang_name</th>\n",
       "    </tr>\n",
       "  </thead>\n",
       "  <tbody>\n",
       "    <tr>\n",
       "      <th>0</th>\n",
       "      <td>I don't like version 2.0 of Chat4you 😡👎</td>\n",
       "      <td>en</td>\n",
       "      <td>English</td>\n",
       "    </tr>\n",
       "    <tr>\n",
       "      <th>1</th>\n",
       "      <td>Ich mag Version 2.0 von Chat4you nicht 😡👎</td>\n",
       "      <td>de</td>\n",
       "      <td>German</td>\n",
       "    </tr>\n",
       "    <tr>\n",
       "      <th>2</th>\n",
       "      <td>Мне не нравится версия 2.0 Chat4you 😡👎</td>\n",
       "      <td>ru</td>\n",
       "      <td>Russian</td>\n",
       "    </tr>\n",
       "    <tr>\n",
       "      <th>3</th>\n",
       "      <td>Não gosto da versão 2.0 do Chat4you 😡👎</td>\n",
       "      <td>pt</td>\n",
       "      <td>Portuguese</td>\n",
       "    </tr>\n",
       "    <tr>\n",
       "      <th>4</th>\n",
       "      <td>मुझे Chat4you का संस्करण 2.0 पसंद नहीं है 😡👎</td>\n",
       "      <td>hi</td>\n",
       "      <td>Hindi</td>\n",
       "    </tr>\n",
       "  </tbody>\n",
       "</table>\n",
       "</div>"
      ],
      "text/plain": [
       "                                           text lang   lang_name\n",
       "0       I don't like version 2.0 of Chat4you 😡👎   en     English\n",
       "1     Ich mag Version 2.0 von Chat4you nicht 😡👎   de      German\n",
       "2        Мне не нравится версия 2.0 Chat4you 😡👎   ru     Russian\n",
       "3        Não gosto da versão 2.0 do Chat4you 😡👎   pt  Portuguese\n",
       "4  मुझे Chat4you का संस्करण 2.0 पसंद नहीं है 😡👎   hi       Hindi"
      ]
     },
     "execution_count": 110,
     "metadata": {},
     "output_type": "execute_result"
    }
   ],
   "source": [
    "demo_df['lang_name'] = demo_df['lang'].map(iso639_languages)\n",
    "\n",
    "demo_df"
   ]
  },
  {
   "cell_type": "markdown",
   "metadata": {
    "id": "x0D1EObO9nRn"
   },
   "source": [
    "<a name='4.7.2'></a><a id='4.7.2'></a>\n",
    "## 4.7.2 Spell Checking (not in book)\n",
    "<a href=\"#top\">[back to top]</a>\n",
    "\n",
    "[SymSpell](https://github.com/wolfgarbe/SymSpell) is a popular spell-checker with a [Python port](https://github.com/mammothb/symspellpy).\n"
   ]
  },
  {
   "cell_type": "markdown",
   "metadata": {},
   "source": [
    "### Load frequency dictionary\n",
    "\n",
    "https://symspellpy.readthedocs.io/en/latest/examples/dictionary.html"
   ]
  },
  {
   "cell_type": "code",
   "execution_count": 111,
   "metadata": {},
   "outputs": [
    {
     "name": "stdout",
     "output_type": "stream",
     "text": [
      "[('the', 23135851162), ('of', 13151942776), ('and', 12997637966), ('to', 12136980858), ('a', 9081174698)]\n"
     ]
    }
   ],
   "source": [
    "from itertools import islice\n",
    "import pkg_resources\n",
    "from symspellpy import SymSpell\n",
    "\n",
    "sym_spell = SymSpell()\n",
    "dictionary_path = pkg_resources.resource_filename(\n",
    "    \"symspellpy\", \"frequency_dictionary_en_82_765.txt\"\n",
    ")\n",
    "sym_spell.load_dictionary(dictionary_path, 0, 1)\n",
    "\n",
    "# Print out first 5 elements to show that dictionary is successfully loaded\n",
    "print(list(islice(sym_spell.words.items(), 5)))"
   ]
  },
  {
   "cell_type": "markdown",
   "metadata": {},
   "source": [
    "### Basic usage"
   ]
  },
  {
   "cell_type": "code",
   "execution_count": 112,
   "metadata": {},
   "outputs": [
    {
     "name": "stdout",
     "output_type": "stream",
     "text": [
      "members, 1, 226656153\n"
     ]
    }
   ],
   "source": [
    "import pkg_resources\n",
    "from symspellpy import SymSpell, Verbosity\n",
    "\n",
    "sym_spell = SymSpell(max_dictionary_edit_distance=2, prefix_length=7)\n",
    "\n",
    "dictionary_path = pkg_resources.resource_filename(\n",
    "    \"symspellpy\", \"frequency_dictionary_en_82_765.txt\"\n",
    ")\n",
    "\n",
    "# term_index is the column of the term and count_index is the\n",
    "# column of the term frequency\n",
    "sym_spell.load_dictionary(dictionary_path, term_index=0, count_index=1)\n",
    "\n",
    "# lookup suggestions for single-word input strings\n",
    "input_term = \"memebers\"  # misspelling of \"members\"\n",
    "\n",
    "# max edit distance per lookup\n",
    "# (max_edit_distance_lookup <= max_dictionary_edit_distance)\n",
    "suggestions = sym_spell.lookup(input_term, Verbosity.CLOSEST, max_edit_distance=2)\n",
    "\n",
    "# display suggestion term, edit distance, and term frequency\n",
    "for suggestion in suggestions:\n",
    "    print(suggestion)"
   ]
  },
  {
   "cell_type": "markdown",
   "metadata": {},
   "source": [
    "### Lookup compound"
   ]
  },
  {
   "cell_type": "code",
   "execution_count": 113,
   "metadata": {},
   "outputs": [
    {
     "name": "stdout",
     "output_type": "stream",
     "text": [
      "where is the love he had dated for much of the past who couldn't read in six grade and inspired him, 9, 0\n"
     ]
    }
   ],
   "source": [
    "import pkg_resources\n",
    "from symspellpy import SymSpell\n",
    "\n",
    "sym_spell = SymSpell(max_dictionary_edit_distance=2, prefix_length=7)\n",
    "dictionary_path = pkg_resources.resource_filename(\n",
    "    \"symspellpy\", \"frequency_dictionary_en_82_765.txt\"\n",
    ")\n",
    "bigram_path = pkg_resources.resource_filename(\n",
    "    \"symspellpy\", \"frequency_bigramdictionary_en_243_342.txt\"\n",
    ")\n",
    "# term_index is the column of the term and count_index is the\n",
    "# column of the term frequency\n",
    "sym_spell.load_dictionary(dictionary_path, term_index=0, count_index=1)\n",
    "sym_spell.load_bigram_dictionary(bigram_path, term_index=0, count_index=2)\n",
    "\n",
    "# lookup suggestions for multi-word input strings (supports compound\n",
    "# splitting & merging)\n",
    "input_term = (\n",
    "    \"whereis th elove hehad dated forImuch of thepast who \"\n",
    "    \"couqdn'tread in sixtgrade and ins pired him\"\n",
    ")\n",
    "# max edit distance per lookup (per single word, not per whole input string)\n",
    "suggestions = sym_spell.lookup_compound(input_term, max_edit_distance=2)\n",
    "# display suggestion term, edit distance, and term frequency\n",
    "for suggestion in suggestions:\n",
    "    print(suggestion)"
   ]
  },
  {
   "cell_type": "markdown",
   "metadata": {},
   "source": [
    "### Word segmentation"
   ]
  },
  {
   "cell_type": "code",
   "execution_count": 114,
   "metadata": {},
   "outputs": [
    {
     "name": "stdout",
     "output_type": "stream",
     "text": [
      "the quick brown fox jumps over the lazy dog, 8, -34.491167981910635\n"
     ]
    }
   ],
   "source": [
    "import pkg_resources\n",
    "from symspellpy.symspellpy import SymSpell\n",
    "\n",
    "# Set max_dictionary_edit_distance to avoid spelling correction\n",
    "sym_spell = SymSpell(max_dictionary_edit_distance=0, prefix_length=7)\n",
    "dictionary_path = pkg_resources.resource_filename(\n",
    "    \"symspellpy\", \"frequency_dictionary_en_82_765.txt\"\n",
    ")\n",
    "# term_index is the column of the term and count_index is the\n",
    "# column of the term frequency\n",
    "sym_spell.load_dictionary(dictionary_path, term_index=0, count_index=1)\n",
    "\n",
    "# a sentence without any spaces\n",
    "input_term = \"thequickbrownfoxjumpsoverthelazydog\"\n",
    "result = sym_spell.word_segmentation(input_term)\n",
    "print(f\"{result.corrected_string}, {result.distance_sum}, {result.log_prob_sum}\")"
   ]
  },
  {
   "cell_type": "markdown",
   "metadata": {},
   "source": [
    "<a name='4.7.3'></a><a id='4.7.3'></a>\n",
    "## 4.7.3 Token Normalization\n",
    "<a href=\"#top\">[back to top]</a>\n",
    "\n",
    "Often, there are different spellings for identical terms or variations of terms that you want to treat and especially count identically. In this case, it is useful to normalize these terms and map them to a common standard. Here are some examples:\n",
    "\n",
    "* U.S.A. or U.S. → USA\n",
    "* dot-com bubble → dotcom bubble\n",
    "* München → Munich\n",
    "\n",
    "You could use spaCy's phrase matcher to integrate this kind of normalization as a post-processing step into its pipeline. If you don't use spaCy, you can use a simple Python dictionary to map different spellings to their normalized forms."
   ]
  },
  {
   "cell_type": "code",
   "execution_count": 115,
   "metadata": {
    "ExecuteTime": {
     "end_time": "2021-02-25T16:50:18.150954Z",
     "start_time": "2021-02-25T16:49:39.198Z"
    },
    "colab": {
     "base_uri": "https://localhost:8080/"
    },
    "id": "RzU0pWga9nRn",
    "outputId": "e7c1b2f7-713e-4587-e7c5-11ef794aca2f"
   },
   "outputs": [
    {
     "name": "stdout",
     "output_type": "stream",
     "text": [
      "Los_Angeles|is|a|city|in|the|United_States\n"
     ]
    }
   ],
   "source": [
    "# Not in book: Normalize tokens with a dict\n",
    "token_map = { \n",
    "    'U.S.': 'United_States',\n",
    "    'L.A.': 'Los_Angeles' \n",
    "}\n",
    "\n",
    "def token_normalizer(tokens):\n",
    "    return [token_map.get(t, t) for t in tokens]\n",
    "\n",
    "tokens = \"L.A. is a city in the U.S.\".split()\n",
    "tokens = token_normalizer(tokens)\n",
    "\n",
    "print(*tokens, sep='|')"
   ]
  },
  {
   "cell_type": "code",
   "execution_count": null,
   "metadata": {},
   "outputs": [],
   "source": []
  }
 ],
 "metadata": {
  "colab": {
   "provenance": []
  },
  "kernelspec": {
   "display_name": "Python 3 (ipykernel)",
   "language": "python",
   "name": "python3"
  },
  "language_info": {
   "codemirror_mode": {
    "name": "ipython",
    "version": 3
   },
   "file_extension": ".py",
   "mimetype": "text/x-python",
   "name": "python",
   "nbconvert_exporter": "python",
   "pygments_lexer": "ipython3",
   "version": "3.8.12"
  },
  "toc": {
   "base_numbering": 1,
   "nav_menu": {},
   "number_sections": true,
   "sideBar": true,
   "skip_h1_title": false,
   "title_cell": "Table of Contents",
   "title_sidebar": "Contents",
   "toc_cell": false,
   "toc_position": {
    "height": "calc(100% - 180px)",
    "left": "10px",
    "top": "150px",
    "width": "265.638px"
   },
   "toc_section_display": true,
   "toc_window_display": true
  },
  "varInspector": {
   "cols": {
    "lenName": 16,
    "lenType": 16,
    "lenVar": 40
   },
   "kernels_config": {
    "python": {
     "delete_cmd_postfix": "",
     "delete_cmd_prefix": "del ",
     "library": "var_list.py",
     "varRefreshCmd": "print(var_dic_list())"
    },
    "r": {
     "delete_cmd_postfix": ") ",
     "delete_cmd_prefix": "rm(",
     "library": "var_list.r",
     "varRefreshCmd": "cat(var_dic_list()) "
    }
   },
   "types_to_exclude": [
    "module",
    "function",
    "builtin_function_or_method",
    "instance",
    "_Feature"
   ],
   "window_display": false
  },
  "widgets": {
   "application/vnd.jupyter.widget-state+json": {
    "0570a48a8f7045daa06460883ac09111": {
     "model_module": "@jupyter-widgets/base",
     "model_module_version": "1.2.0",
     "model_name": "LayoutModel",
     "state": {
      "_model_module": "@jupyter-widgets/base",
      "_model_module_version": "1.2.0",
      "_model_name": "LayoutModel",
      "_view_count": null,
      "_view_module": "@jupyter-widgets/base",
      "_view_module_version": "1.2.0",
      "_view_name": "LayoutView",
      "align_content": null,
      "align_items": null,
      "align_self": null,
      "border": null,
      "bottom": null,
      "display": null,
      "flex": null,
      "flex_flow": null,
      "grid_area": null,
      "grid_auto_columns": null,
      "grid_auto_flow": null,
      "grid_auto_rows": null,
      "grid_column": null,
      "grid_gap": null,
      "grid_row": null,
      "grid_template_areas": null,
      "grid_template_columns": null,
      "grid_template_rows": null,
      "height": null,
      "justify_content": null,
      "justify_items": null,
      "left": null,
      "margin": null,
      "max_height": null,
      "max_width": null,
      "min_height": null,
      "min_width": null,
      "object_fit": null,
      "object_position": null,
      "order": null,
      "overflow": null,
      "overflow_x": null,
      "overflow_y": null,
      "padding": null,
      "right": null,
      "top": null,
      "visibility": null,
      "width": null
     }
    },
    "075d103893e945e7b697603e5ce96aef": {
     "model_module": "@jupyter-widgets/controls",
     "model_module_version": "1.5.0",
     "model_name": "FloatProgressModel",
     "state": {
      "_dom_classes": [],
      "_model_module": "@jupyter-widgets/controls",
      "_model_module_version": "1.5.0",
      "_model_name": "FloatProgressModel",
      "_view_count": null,
      "_view_module": "@jupyter-widgets/controls",
      "_view_module_version": "1.5.0",
      "_view_name": "ProgressView",
      "bar_style": "success",
      "description": "",
      "description_tooltip": null,
      "layout": "IPY_MODEL_4f98ca94462c4015af047576d751d8b4",
      "max": 20000,
      "min": 0,
      "orientation": "horizontal",
      "style": "IPY_MODEL_57fd2cfddd7d4598b0b466dce9cc6fff",
      "value": 20000
     }
    },
    "108db477207b4864a11b90b7bfe80437": {
     "model_module": "@jupyter-widgets/controls",
     "model_module_version": "1.5.0",
     "model_name": "HTMLModel",
     "state": {
      "_dom_classes": [],
      "_model_module": "@jupyter-widgets/controls",
      "_model_module_version": "1.5.0",
      "_model_name": "HTMLModel",
      "_view_count": null,
      "_view_module": "@jupyter-widgets/controls",
      "_view_module_version": "1.5.0",
      "_view_name": "HTMLView",
      "description": "",
      "description_tooltip": null,
      "layout": "IPY_MODEL_b7e6614eb7014b8dbf1820487bbbf1fc",
      "placeholder": "​",
      "style": "IPY_MODEL_b7a9fb2192744b66a8c41155c80be968",
      "value": " 20000/20000 [00:00&lt;00:00, 78737.66it/s]"
     }
    },
    "10ed82984838477b8bd55f7219c9c3e4": {
     "model_module": "@jupyter-widgets/controls",
     "model_module_version": "1.5.0",
     "model_name": "HBoxModel",
     "state": {
      "_dom_classes": [],
      "_model_module": "@jupyter-widgets/controls",
      "_model_module_version": "1.5.0",
      "_model_name": "HBoxModel",
      "_view_count": null,
      "_view_module": "@jupyter-widgets/controls",
      "_view_module_version": "1.5.0",
      "_view_name": "HBoxView",
      "box_style": "",
      "children": [
       "IPY_MODEL_993c744ffee14c2f9a6939b763f7695b",
       "IPY_MODEL_1b3c35ae05bd47c3bc04de0819aedf59",
       "IPY_MODEL_936d803d139d48ecaed89a96467b96f4"
      ],
      "layout": "IPY_MODEL_51820d1889cb46088bc30f65dbb3e710"
     }
    },
    "119937db762749908315df8cc4ab5769": {
     "model_module": "@jupyter-widgets/base",
     "model_module_version": "1.2.0",
     "model_name": "LayoutModel",
     "state": {
      "_model_module": "@jupyter-widgets/base",
      "_model_module_version": "1.2.0",
      "_model_name": "LayoutModel",
      "_view_count": null,
      "_view_module": "@jupyter-widgets/base",
      "_view_module_version": "1.2.0",
      "_view_name": "LayoutView",
      "align_content": null,
      "align_items": null,
      "align_self": null,
      "border": null,
      "bottom": null,
      "display": null,
      "flex": null,
      "flex_flow": null,
      "grid_area": null,
      "grid_auto_columns": null,
      "grid_auto_flow": null,
      "grid_auto_rows": null,
      "grid_column": null,
      "grid_gap": null,
      "grid_row": null,
      "grid_template_areas": null,
      "grid_template_columns": null,
      "grid_template_rows": null,
      "height": null,
      "justify_content": null,
      "justify_items": null,
      "left": null,
      "margin": null,
      "max_height": null,
      "max_width": null,
      "min_height": null,
      "min_width": null,
      "object_fit": null,
      "object_position": null,
      "order": null,
      "overflow": null,
      "overflow_x": null,
      "overflow_y": null,
      "padding": null,
      "right": null,
      "top": null,
      "visibility": null,
      "width": null
     }
    },
    "13487b949be94f6c8d88e5adb2f473e7": {
     "model_module": "@jupyter-widgets/base",
     "model_module_version": "1.2.0",
     "model_name": "LayoutModel",
     "state": {
      "_model_module": "@jupyter-widgets/base",
      "_model_module_version": "1.2.0",
      "_model_name": "LayoutModel",
      "_view_count": null,
      "_view_module": "@jupyter-widgets/base",
      "_view_module_version": "1.2.0",
      "_view_name": "LayoutView",
      "align_content": null,
      "align_items": null,
      "align_self": null,
      "border": null,
      "bottom": null,
      "display": null,
      "flex": null,
      "flex_flow": null,
      "grid_area": null,
      "grid_auto_columns": null,
      "grid_auto_flow": null,
      "grid_auto_rows": null,
      "grid_column": null,
      "grid_gap": null,
      "grid_row": null,
      "grid_template_areas": null,
      "grid_template_columns": null,
      "grid_template_rows": null,
      "height": null,
      "justify_content": null,
      "justify_items": null,
      "left": null,
      "margin": null,
      "max_height": null,
      "max_width": null,
      "min_height": null,
      "min_width": null,
      "object_fit": null,
      "object_position": null,
      "order": null,
      "overflow": null,
      "overflow_x": null,
      "overflow_y": null,
      "padding": null,
      "right": null,
      "top": null,
      "visibility": null,
      "width": null
     }
    },
    "1b20b7ca218d47628083d9c1cf4bae3f": {
     "model_module": "@jupyter-widgets/controls",
     "model_module_version": "1.5.0",
     "model_name": "HTMLModel",
     "state": {
      "_dom_classes": [],
      "_model_module": "@jupyter-widgets/controls",
      "_model_module_version": "1.5.0",
      "_model_name": "HTMLModel",
      "_view_count": null,
      "_view_module": "@jupyter-widgets/controls",
      "_view_module_version": "1.5.0",
      "_view_name": "HTMLView",
      "description": "",
      "description_tooltip": null,
      "layout": "IPY_MODEL_90bebd16d3ff40849ad8680732040e6b",
      "placeholder": "​",
      "style": "IPY_MODEL_7fa1dd2a5dc74ca28d551c39499babab",
      "value": " 400/400 [08:34&lt;00:00,  1.35s/it]"
     }
    },
    "1b3c35ae05bd47c3bc04de0819aedf59": {
     "model_module": "@jupyter-widgets/controls",
     "model_module_version": "1.5.0",
     "model_name": "FloatProgressModel",
     "state": {
      "_dom_classes": [],
      "_model_module": "@jupyter-widgets/controls",
      "_model_module_version": "1.5.0",
      "_model_name": "FloatProgressModel",
      "_view_count": null,
      "_view_module": "@jupyter-widgets/controls",
      "_view_module_version": "1.5.0",
      "_view_name": "ProgressView",
      "bar_style": "success",
      "description": "",
      "description_tooltip": null,
      "layout": "IPY_MODEL_42f196b9f437438ba0b5ee1fc31a0960",
      "max": 20000,
      "min": 0,
      "orientation": "horizontal",
      "style": "IPY_MODEL_4331f1ede420415e94263c82954d13eb",
      "value": 20000
     }
    },
    "205cc716882a42b6b16a0b506de98011": {
     "model_module": "@jupyter-widgets/controls",
     "model_module_version": "1.5.0",
     "model_name": "HTMLModel",
     "state": {
      "_dom_classes": [],
      "_model_module": "@jupyter-widgets/controls",
      "_model_module_version": "1.5.0",
      "_model_name": "HTMLModel",
      "_view_count": null,
      "_view_module": "@jupyter-widgets/controls",
      "_view_module_version": "1.5.0",
      "_view_name": "HTMLView",
      "description": "",
      "description_tooltip": null,
      "layout": "IPY_MODEL_a27a8ce41ce543ecb6eb9e3e3142d0a3",
      "placeholder": "​",
      "style": "IPY_MODEL_2cb7fb0101e34f9f9ea1927fed57e6e8",
      "value": "100%"
     }
    },
    "2090e7cb98734c50bb8a67550ee1934c": {
     "model_module": "@jupyter-widgets/controls",
     "model_module_version": "1.5.0",
     "model_name": "DescriptionStyleModel",
     "state": {
      "_model_module": "@jupyter-widgets/controls",
      "_model_module_version": "1.5.0",
      "_model_name": "DescriptionStyleModel",
      "_view_count": null,
      "_view_module": "@jupyter-widgets/base",
      "_view_module_version": "1.2.0",
      "_view_name": "StyleView",
      "description_width": ""
     }
    },
    "2777578878b4418cbe671e97aa14b9cd": {
     "model_module": "@jupyter-widgets/base",
     "model_module_version": "1.2.0",
     "model_name": "LayoutModel",
     "state": {
      "_model_module": "@jupyter-widgets/base",
      "_model_module_version": "1.2.0",
      "_model_name": "LayoutModel",
      "_view_count": null,
      "_view_module": "@jupyter-widgets/base",
      "_view_module_version": "1.2.0",
      "_view_name": "LayoutView",
      "align_content": null,
      "align_items": null,
      "align_self": null,
      "border": null,
      "bottom": null,
      "display": null,
      "flex": null,
      "flex_flow": null,
      "grid_area": null,
      "grid_auto_columns": null,
      "grid_auto_flow": null,
      "grid_auto_rows": null,
      "grid_column": null,
      "grid_gap": null,
      "grid_row": null,
      "grid_template_areas": null,
      "grid_template_columns": null,
      "grid_template_rows": null,
      "height": null,
      "justify_content": null,
      "justify_items": null,
      "left": null,
      "margin": null,
      "max_height": null,
      "max_width": null,
      "min_height": null,
      "min_width": null,
      "object_fit": null,
      "object_position": null,
      "order": null,
      "overflow": null,
      "overflow_x": null,
      "overflow_y": null,
      "padding": null,
      "right": null,
      "top": null,
      "visibility": null,
      "width": null
     }
    },
    "2cb7fb0101e34f9f9ea1927fed57e6e8": {
     "model_module": "@jupyter-widgets/controls",
     "model_module_version": "1.5.0",
     "model_name": "DescriptionStyleModel",
     "state": {
      "_model_module": "@jupyter-widgets/controls",
      "_model_module_version": "1.5.0",
      "_model_name": "DescriptionStyleModel",
      "_view_count": null,
      "_view_module": "@jupyter-widgets/base",
      "_view_module_version": "1.2.0",
      "_view_name": "StyleView",
      "description_width": ""
     }
    },
    "37604c57c8654d0abc035e8a82ad5e02": {
     "model_module": "@jupyter-widgets/controls",
     "model_module_version": "1.5.0",
     "model_name": "DescriptionStyleModel",
     "state": {
      "_model_module": "@jupyter-widgets/controls",
      "_model_module_version": "1.5.0",
      "_model_name": "DescriptionStyleModel",
      "_view_count": null,
      "_view_module": "@jupyter-widgets/base",
      "_view_module_version": "1.2.0",
      "_view_name": "StyleView",
      "description_width": ""
     }
    },
    "3818b8f2fd7c40deb763502f5b9906bb": {
     "model_module": "@jupyter-widgets/controls",
     "model_module_version": "1.5.0",
     "model_name": "HBoxModel",
     "state": {
      "_dom_classes": [],
      "_model_module": "@jupyter-widgets/controls",
      "_model_module_version": "1.5.0",
      "_model_name": "HBoxModel",
      "_view_count": null,
      "_view_module": "@jupyter-widgets/controls",
      "_view_module_version": "1.5.0",
      "_view_name": "HBoxView",
      "box_style": "",
      "children": [
       "IPY_MODEL_b2f17b1801084d26ba944ab84bca6477",
       "IPY_MODEL_e2a3a966e20d4a9e88a711b593a60df9",
       "IPY_MODEL_a3aabd6a8f1744809965f865eaa334e4"
      ],
      "layout": "IPY_MODEL_13487b949be94f6c8d88e5adb2f473e7"
     }
    },
    "38ec195025ff43f386b9d67b584f9546": {
     "model_module": "@jupyter-widgets/controls",
     "model_module_version": "1.5.0",
     "model_name": "FloatProgressModel",
     "state": {
      "_dom_classes": [],
      "_model_module": "@jupyter-widgets/controls",
      "_model_module_version": "1.5.0",
      "_model_name": "FloatProgressModel",
      "_view_count": null,
      "_view_module": "@jupyter-widgets/controls",
      "_view_module_version": "1.5.0",
      "_view_name": "ProgressView",
      "bar_style": "success",
      "description": "",
      "description_tooltip": null,
      "layout": "IPY_MODEL_6d8a4432f0554adbb51f30b549bc50f6",
      "max": 20000,
      "min": 0,
      "orientation": "horizontal",
      "style": "IPY_MODEL_c38a4160413b46a9a4873af055246c51",
      "value": 20000
     }
    },
    "42f196b9f437438ba0b5ee1fc31a0960": {
     "model_module": "@jupyter-widgets/base",
     "model_module_version": "1.2.0",
     "model_name": "LayoutModel",
     "state": {
      "_model_module": "@jupyter-widgets/base",
      "_model_module_version": "1.2.0",
      "_model_name": "LayoutModel",
      "_view_count": null,
      "_view_module": "@jupyter-widgets/base",
      "_view_module_version": "1.2.0",
      "_view_name": "LayoutView",
      "align_content": null,
      "align_items": null,
      "align_self": null,
      "border": null,
      "bottom": null,
      "display": null,
      "flex": null,
      "flex_flow": null,
      "grid_area": null,
      "grid_auto_columns": null,
      "grid_auto_flow": null,
      "grid_auto_rows": null,
      "grid_column": null,
      "grid_gap": null,
      "grid_row": null,
      "grid_template_areas": null,
      "grid_template_columns": null,
      "grid_template_rows": null,
      "height": null,
      "justify_content": null,
      "justify_items": null,
      "left": null,
      "margin": null,
      "max_height": null,
      "max_width": null,
      "min_height": null,
      "min_width": null,
      "object_fit": null,
      "object_position": null,
      "order": null,
      "overflow": null,
      "overflow_x": null,
      "overflow_y": null,
      "padding": null,
      "right": null,
      "top": null,
      "visibility": null,
      "width": null
     }
    },
    "4331f1ede420415e94263c82954d13eb": {
     "model_module": "@jupyter-widgets/controls",
     "model_module_version": "1.5.0",
     "model_name": "ProgressStyleModel",
     "state": {
      "_model_module": "@jupyter-widgets/controls",
      "_model_module_version": "1.5.0",
      "_model_name": "ProgressStyleModel",
      "_view_count": null,
      "_view_module": "@jupyter-widgets/base",
      "_view_module_version": "1.2.0",
      "_view_name": "StyleView",
      "bar_color": null,
      "description_width": ""
     }
    },
    "43a2abb9db89439090d94744378c44af": {
     "model_module": "@jupyter-widgets/controls",
     "model_module_version": "1.5.0",
     "model_name": "HBoxModel",
     "state": {
      "_dom_classes": [],
      "_model_module": "@jupyter-widgets/controls",
      "_model_module_version": "1.5.0",
      "_model_name": "HBoxModel",
      "_view_count": null,
      "_view_module": "@jupyter-widgets/controls",
      "_view_module_version": "1.5.0",
      "_view_name": "HBoxView",
      "box_style": "",
      "children": [
       "IPY_MODEL_83030a745e514283bbaca31e9eab2384",
       "IPY_MODEL_38ec195025ff43f386b9d67b584f9546",
       "IPY_MODEL_929f90dc41064ed3b6ab18f134b3f9fc"
      ],
      "layout": "IPY_MODEL_6718019291fa4dfe80abccd05d7ce245"
     }
    },
    "43d34943636b4edfb2ae98751d458c5a": {
     "model_module": "@jupyter-widgets/controls",
     "model_module_version": "1.5.0",
     "model_name": "HBoxModel",
     "state": {
      "_dom_classes": [],
      "_model_module": "@jupyter-widgets/controls",
      "_model_module_version": "1.5.0",
      "_model_name": "HBoxModel",
      "_view_count": null,
      "_view_module": "@jupyter-widgets/controls",
      "_view_module_version": "1.5.0",
      "_view_name": "HBoxView",
      "box_style": "",
      "children": [
       "IPY_MODEL_5ecb84d9e7cf41e89b619eace84530c0",
       "IPY_MODEL_f40643a6613348ccbf3fef445271e909",
       "IPY_MODEL_49ac051df92d402da0e9168f3b8f14b2"
      ],
      "layout": "IPY_MODEL_62d557df64904f93af8947abe5fcf542"
     }
    },
    "4411e3f9f4d740ae809f094ffe4b8d00": {
     "model_module": "@jupyter-widgets/controls",
     "model_module_version": "1.5.0",
     "model_name": "DescriptionStyleModel",
     "state": {
      "_model_module": "@jupyter-widgets/controls",
      "_model_module_version": "1.5.0",
      "_model_name": "DescriptionStyleModel",
      "_view_count": null,
      "_view_module": "@jupyter-widgets/base",
      "_view_module_version": "1.2.0",
      "_view_name": "StyleView",
      "description_width": ""
     }
    },
    "45744c535e5844d0a5072fecd85a99a3": {
     "model_module": "@jupyter-widgets/base",
     "model_module_version": "1.2.0",
     "model_name": "LayoutModel",
     "state": {
      "_model_module": "@jupyter-widgets/base",
      "_model_module_version": "1.2.0",
      "_model_name": "LayoutModel",
      "_view_count": null,
      "_view_module": "@jupyter-widgets/base",
      "_view_module_version": "1.2.0",
      "_view_name": "LayoutView",
      "align_content": null,
      "align_items": null,
      "align_self": null,
      "border": null,
      "bottom": null,
      "display": null,
      "flex": null,
      "flex_flow": null,
      "grid_area": null,
      "grid_auto_columns": null,
      "grid_auto_flow": null,
      "grid_auto_rows": null,
      "grid_column": null,
      "grid_gap": null,
      "grid_row": null,
      "grid_template_areas": null,
      "grid_template_columns": null,
      "grid_template_rows": null,
      "height": null,
      "justify_content": null,
      "justify_items": null,
      "left": null,
      "margin": null,
      "max_height": null,
      "max_width": null,
      "min_height": null,
      "min_width": null,
      "object_fit": null,
      "object_position": null,
      "order": null,
      "overflow": null,
      "overflow_x": null,
      "overflow_y": null,
      "padding": null,
      "right": null,
      "top": null,
      "visibility": null,
      "width": null
     }
    },
    "49ac051df92d402da0e9168f3b8f14b2": {
     "model_module": "@jupyter-widgets/controls",
     "model_module_version": "1.5.0",
     "model_name": "HTMLModel",
     "state": {
      "_dom_classes": [],
      "_model_module": "@jupyter-widgets/controls",
      "_model_module_version": "1.5.0",
      "_model_name": "HTMLModel",
      "_view_count": null,
      "_view_module": "@jupyter-widgets/controls",
      "_view_module_version": "1.5.0",
      "_view_name": "HTMLView",
      "description": "",
      "description_tooltip": null,
      "layout": "IPY_MODEL_708fadda40ae416d8d26ab4cb215f5c8",
      "placeholder": "​",
      "style": "IPY_MODEL_c4f62b744c784d919c9eefceed95ea25",
      "value": " 20000/20000 [00:03&lt;00:00, 5133.25it/s]"
     }
    },
    "4a71e2833db544159c451bc893ccaeca": {
     "model_module": "@jupyter-widgets/controls",
     "model_module_version": "1.5.0",
     "model_name": "HBoxModel",
     "state": {
      "_dom_classes": [],
      "_model_module": "@jupyter-widgets/controls",
      "_model_module_version": "1.5.0",
      "_model_name": "HBoxModel",
      "_view_count": null,
      "_view_module": "@jupyter-widgets/controls",
      "_view_module_version": "1.5.0",
      "_view_name": "HBoxView",
      "box_style": "",
      "children": [
       "IPY_MODEL_205cc716882a42b6b16a0b506de98011",
       "IPY_MODEL_a682bf92bbaf4f13a774a6c5d1d96a6b",
       "IPY_MODEL_1b20b7ca218d47628083d9c1cf4bae3f"
      ],
      "layout": "IPY_MODEL_518d3a8532d946058ed80a2d7b226bad"
     }
    },
    "4ec3dfbbfb83469da03b66c3e9b0005f": {
     "model_module": "@jupyter-widgets/base",
     "model_module_version": "1.2.0",
     "model_name": "LayoutModel",
     "state": {
      "_model_module": "@jupyter-widgets/base",
      "_model_module_version": "1.2.0",
      "_model_name": "LayoutModel",
      "_view_count": null,
      "_view_module": "@jupyter-widgets/base",
      "_view_module_version": "1.2.0",
      "_view_name": "LayoutView",
      "align_content": null,
      "align_items": null,
      "align_self": null,
      "border": null,
      "bottom": null,
      "display": null,
      "flex": null,
      "flex_flow": null,
      "grid_area": null,
      "grid_auto_columns": null,
      "grid_auto_flow": null,
      "grid_auto_rows": null,
      "grid_column": null,
      "grid_gap": null,
      "grid_row": null,
      "grid_template_areas": null,
      "grid_template_columns": null,
      "grid_template_rows": null,
      "height": null,
      "justify_content": null,
      "justify_items": null,
      "left": null,
      "margin": null,
      "max_height": null,
      "max_width": null,
      "min_height": null,
      "min_width": null,
      "object_fit": null,
      "object_position": null,
      "order": null,
      "overflow": null,
      "overflow_x": null,
      "overflow_y": null,
      "padding": null,
      "right": null,
      "top": null,
      "visibility": null,
      "width": null
     }
    },
    "4f98ca94462c4015af047576d751d8b4": {
     "model_module": "@jupyter-widgets/base",
     "model_module_version": "1.2.0",
     "model_name": "LayoutModel",
     "state": {
      "_model_module": "@jupyter-widgets/base",
      "_model_module_version": "1.2.0",
      "_model_name": "LayoutModel",
      "_view_count": null,
      "_view_module": "@jupyter-widgets/base",
      "_view_module_version": "1.2.0",
      "_view_name": "LayoutView",
      "align_content": null,
      "align_items": null,
      "align_self": null,
      "border": null,
      "bottom": null,
      "display": null,
      "flex": null,
      "flex_flow": null,
      "grid_area": null,
      "grid_auto_columns": null,
      "grid_auto_flow": null,
      "grid_auto_rows": null,
      "grid_column": null,
      "grid_gap": null,
      "grid_row": null,
      "grid_template_areas": null,
      "grid_template_columns": null,
      "grid_template_rows": null,
      "height": null,
      "justify_content": null,
      "justify_items": null,
      "left": null,
      "margin": null,
      "max_height": null,
      "max_width": null,
      "min_height": null,
      "min_width": null,
      "object_fit": null,
      "object_position": null,
      "order": null,
      "overflow": null,
      "overflow_x": null,
      "overflow_y": null,
      "padding": null,
      "right": null,
      "top": null,
      "visibility": null,
      "width": null
     }
    },
    "51820d1889cb46088bc30f65dbb3e710": {
     "model_module": "@jupyter-widgets/base",
     "model_module_version": "1.2.0",
     "model_name": "LayoutModel",
     "state": {
      "_model_module": "@jupyter-widgets/base",
      "_model_module_version": "1.2.0",
      "_model_name": "LayoutModel",
      "_view_count": null,
      "_view_module": "@jupyter-widgets/base",
      "_view_module_version": "1.2.0",
      "_view_name": "LayoutView",
      "align_content": null,
      "align_items": null,
      "align_self": null,
      "border": null,
      "bottom": null,
      "display": null,
      "flex": null,
      "flex_flow": null,
      "grid_area": null,
      "grid_auto_columns": null,
      "grid_auto_flow": null,
      "grid_auto_rows": null,
      "grid_column": null,
      "grid_gap": null,
      "grid_row": null,
      "grid_template_areas": null,
      "grid_template_columns": null,
      "grid_template_rows": null,
      "height": null,
      "justify_content": null,
      "justify_items": null,
      "left": null,
      "margin": null,
      "max_height": null,
      "max_width": null,
      "min_height": null,
      "min_width": null,
      "object_fit": null,
      "object_position": null,
      "order": null,
      "overflow": null,
      "overflow_x": null,
      "overflow_y": null,
      "padding": null,
      "right": null,
      "top": null,
      "visibility": null,
      "width": null
     }
    },
    "518d3a8532d946058ed80a2d7b226bad": {
     "model_module": "@jupyter-widgets/base",
     "model_module_version": "1.2.0",
     "model_name": "LayoutModel",
     "state": {
      "_model_module": "@jupyter-widgets/base",
      "_model_module_version": "1.2.0",
      "_model_name": "LayoutModel",
      "_view_count": null,
      "_view_module": "@jupyter-widgets/base",
      "_view_module_version": "1.2.0",
      "_view_name": "LayoutView",
      "align_content": null,
      "align_items": null,
      "align_self": null,
      "border": null,
      "bottom": null,
      "display": null,
      "flex": null,
      "flex_flow": null,
      "grid_area": null,
      "grid_auto_columns": null,
      "grid_auto_flow": null,
      "grid_auto_rows": null,
      "grid_column": null,
      "grid_gap": null,
      "grid_row": null,
      "grid_template_areas": null,
      "grid_template_columns": null,
      "grid_template_rows": null,
      "height": null,
      "justify_content": null,
      "justify_items": null,
      "left": null,
      "margin": null,
      "max_height": null,
      "max_width": null,
      "min_height": null,
      "min_width": null,
      "object_fit": null,
      "object_position": null,
      "order": null,
      "overflow": null,
      "overflow_x": null,
      "overflow_y": null,
      "padding": null,
      "right": null,
      "top": null,
      "visibility": null,
      "width": null
     }
    },
    "54c9ca98856840f298dac778bf291722": {
     "model_module": "@jupyter-widgets/controls",
     "model_module_version": "1.5.0",
     "model_name": "DescriptionStyleModel",
     "state": {
      "_model_module": "@jupyter-widgets/controls",
      "_model_module_version": "1.5.0",
      "_model_name": "DescriptionStyleModel",
      "_view_count": null,
      "_view_module": "@jupyter-widgets/base",
      "_view_module_version": "1.2.0",
      "_view_name": "StyleView",
      "description_width": ""
     }
    },
    "565807545b604f6fa6f74da3b47523d9": {
     "model_module": "@jupyter-widgets/controls",
     "model_module_version": "1.5.0",
     "model_name": "DescriptionStyleModel",
     "state": {
      "_model_module": "@jupyter-widgets/controls",
      "_model_module_version": "1.5.0",
      "_model_name": "DescriptionStyleModel",
      "_view_count": null,
      "_view_module": "@jupyter-widgets/base",
      "_view_module_version": "1.2.0",
      "_view_name": "StyleView",
      "description_width": ""
     }
    },
    "57fd2cfddd7d4598b0b466dce9cc6fff": {
     "model_module": "@jupyter-widgets/controls",
     "model_module_version": "1.5.0",
     "model_name": "ProgressStyleModel",
     "state": {
      "_model_module": "@jupyter-widgets/controls",
      "_model_module_version": "1.5.0",
      "_model_name": "ProgressStyleModel",
      "_view_count": null,
      "_view_module": "@jupyter-widgets/base",
      "_view_module_version": "1.2.0",
      "_view_name": "StyleView",
      "bar_color": null,
      "description_width": ""
     }
    },
    "5aef10d5826a48f897b051586acb286b": {
     "model_module": "@jupyter-widgets/base",
     "model_module_version": "1.2.0",
     "model_name": "LayoutModel",
     "state": {
      "_model_module": "@jupyter-widgets/base",
      "_model_module_version": "1.2.0",
      "_model_name": "LayoutModel",
      "_view_count": null,
      "_view_module": "@jupyter-widgets/base",
      "_view_module_version": "1.2.0",
      "_view_name": "LayoutView",
      "align_content": null,
      "align_items": null,
      "align_self": null,
      "border": null,
      "bottom": null,
      "display": null,
      "flex": null,
      "flex_flow": null,
      "grid_area": null,
      "grid_auto_columns": null,
      "grid_auto_flow": null,
      "grid_auto_rows": null,
      "grid_column": null,
      "grid_gap": null,
      "grid_row": null,
      "grid_template_areas": null,
      "grid_template_columns": null,
      "grid_template_rows": null,
      "height": null,
      "justify_content": null,
      "justify_items": null,
      "left": null,
      "margin": null,
      "max_height": null,
      "max_width": null,
      "min_height": null,
      "min_width": null,
      "object_fit": null,
      "object_position": null,
      "order": null,
      "overflow": null,
      "overflow_x": null,
      "overflow_y": null,
      "padding": null,
      "right": null,
      "top": null,
      "visibility": null,
      "width": null
     }
    },
    "5b287098ef504e7987cb8b7b487c8690": {
     "model_module": "@jupyter-widgets/controls",
     "model_module_version": "1.5.0",
     "model_name": "DescriptionStyleModel",
     "state": {
      "_model_module": "@jupyter-widgets/controls",
      "_model_module_version": "1.5.0",
      "_model_name": "DescriptionStyleModel",
      "_view_count": null,
      "_view_module": "@jupyter-widgets/base",
      "_view_module_version": "1.2.0",
      "_view_name": "StyleView",
      "description_width": ""
     }
    },
    "5d9f07ef9ee844118f90398381752ef3": {
     "model_module": "@jupyter-widgets/controls",
     "model_module_version": "1.5.0",
     "model_name": "ProgressStyleModel",
     "state": {
      "_model_module": "@jupyter-widgets/controls",
      "_model_module_version": "1.5.0",
      "_model_name": "ProgressStyleModel",
      "_view_count": null,
      "_view_module": "@jupyter-widgets/base",
      "_view_module_version": "1.2.0",
      "_view_name": "StyleView",
      "bar_color": null,
      "description_width": ""
     }
    },
    "5ecb84d9e7cf41e89b619eace84530c0": {
     "model_module": "@jupyter-widgets/controls",
     "model_module_version": "1.5.0",
     "model_name": "HTMLModel",
     "state": {
      "_dom_classes": [],
      "_model_module": "@jupyter-widgets/controls",
      "_model_module_version": "1.5.0",
      "_model_name": "HTMLModel",
      "_view_count": null,
      "_view_module": "@jupyter-widgets/controls",
      "_view_module_version": "1.5.0",
      "_view_name": "HTMLView",
      "description": "",
      "description_tooltip": null,
      "layout": "IPY_MODEL_85efe1c1d4254d5c856166e9008cf092",
      "placeholder": "​",
      "style": "IPY_MODEL_c23ea0f1ee844dfa96bd719d7e0091e6",
      "value": "100%"
     }
    },
    "62d557df64904f93af8947abe5fcf542": {
     "model_module": "@jupyter-widgets/base",
     "model_module_version": "1.2.0",
     "model_name": "LayoutModel",
     "state": {
      "_model_module": "@jupyter-widgets/base",
      "_model_module_version": "1.2.0",
      "_model_name": "LayoutModel",
      "_view_count": null,
      "_view_module": "@jupyter-widgets/base",
      "_view_module_version": "1.2.0",
      "_view_name": "LayoutView",
      "align_content": null,
      "align_items": null,
      "align_self": null,
      "border": null,
      "bottom": null,
      "display": null,
      "flex": null,
      "flex_flow": null,
      "grid_area": null,
      "grid_auto_columns": null,
      "grid_auto_flow": null,
      "grid_auto_rows": null,
      "grid_column": null,
      "grid_gap": null,
      "grid_row": null,
      "grid_template_areas": null,
      "grid_template_columns": null,
      "grid_template_rows": null,
      "height": null,
      "justify_content": null,
      "justify_items": null,
      "left": null,
      "margin": null,
      "max_height": null,
      "max_width": null,
      "min_height": null,
      "min_width": null,
      "object_fit": null,
      "object_position": null,
      "order": null,
      "overflow": null,
      "overflow_x": null,
      "overflow_y": null,
      "padding": null,
      "right": null,
      "top": null,
      "visibility": null,
      "width": null
     }
    },
    "65ab4e854da34bb4a097a29c90b0d46e": {
     "model_module": "@jupyter-widgets/base",
     "model_module_version": "1.2.0",
     "model_name": "LayoutModel",
     "state": {
      "_model_module": "@jupyter-widgets/base",
      "_model_module_version": "1.2.0",
      "_model_name": "LayoutModel",
      "_view_count": null,
      "_view_module": "@jupyter-widgets/base",
      "_view_module_version": "1.2.0",
      "_view_name": "LayoutView",
      "align_content": null,
      "align_items": null,
      "align_self": null,
      "border": null,
      "bottom": null,
      "display": null,
      "flex": null,
      "flex_flow": null,
      "grid_area": null,
      "grid_auto_columns": null,
      "grid_auto_flow": null,
      "grid_auto_rows": null,
      "grid_column": null,
      "grid_gap": null,
      "grid_row": null,
      "grid_template_areas": null,
      "grid_template_columns": null,
      "grid_template_rows": null,
      "height": null,
      "justify_content": null,
      "justify_items": null,
      "left": null,
      "margin": null,
      "max_height": null,
      "max_width": null,
      "min_height": null,
      "min_width": null,
      "object_fit": null,
      "object_position": null,
      "order": null,
      "overflow": null,
      "overflow_x": null,
      "overflow_y": null,
      "padding": null,
      "right": null,
      "top": null,
      "visibility": null,
      "width": null
     }
    },
    "6718019291fa4dfe80abccd05d7ce245": {
     "model_module": "@jupyter-widgets/base",
     "model_module_version": "1.2.0",
     "model_name": "LayoutModel",
     "state": {
      "_model_module": "@jupyter-widgets/base",
      "_model_module_version": "1.2.0",
      "_model_name": "LayoutModel",
      "_view_count": null,
      "_view_module": "@jupyter-widgets/base",
      "_view_module_version": "1.2.0",
      "_view_name": "LayoutView",
      "align_content": null,
      "align_items": null,
      "align_self": null,
      "border": null,
      "bottom": null,
      "display": null,
      "flex": null,
      "flex_flow": null,
      "grid_area": null,
      "grid_auto_columns": null,
      "grid_auto_flow": null,
      "grid_auto_rows": null,
      "grid_column": null,
      "grid_gap": null,
      "grid_row": null,
      "grid_template_areas": null,
      "grid_template_columns": null,
      "grid_template_rows": null,
      "height": null,
      "justify_content": null,
      "justify_items": null,
      "left": null,
      "margin": null,
      "max_height": null,
      "max_width": null,
      "min_height": null,
      "min_width": null,
      "object_fit": null,
      "object_position": null,
      "order": null,
      "overflow": null,
      "overflow_x": null,
      "overflow_y": null,
      "padding": null,
      "right": null,
      "top": null,
      "visibility": null,
      "width": null
     }
    },
    "678a21e570834582b6a0b2b28bd155cc": {
     "model_module": "@jupyter-widgets/controls",
     "model_module_version": "1.5.0",
     "model_name": "DescriptionStyleModel",
     "state": {
      "_model_module": "@jupyter-widgets/controls",
      "_model_module_version": "1.5.0",
      "_model_name": "DescriptionStyleModel",
      "_view_count": null,
      "_view_module": "@jupyter-widgets/base",
      "_view_module_version": "1.2.0",
      "_view_name": "StyleView",
      "description_width": ""
     }
    },
    "686b4b7130014f27a63241e96b17b366": {
     "model_module": "@jupyter-widgets/controls",
     "model_module_version": "1.5.0",
     "model_name": "HTMLModel",
     "state": {
      "_dom_classes": [],
      "_model_module": "@jupyter-widgets/controls",
      "_model_module_version": "1.5.0",
      "_model_name": "HTMLModel",
      "_view_count": null,
      "_view_module": "@jupyter-widgets/controls",
      "_view_module_version": "1.5.0",
      "_view_name": "HTMLView",
      "description": "",
      "description_tooltip": null,
      "layout": "IPY_MODEL_4ec3dfbbfb83469da03b66c3e9b0005f",
      "placeholder": "​",
      "style": "IPY_MODEL_7f5fdbdfcd8f49a09988aad94368650c",
      "value": "100%"
     }
    },
    "6a3c74cfb3584880a7a9329829573136": {
     "model_module": "@jupyter-widgets/controls",
     "model_module_version": "1.5.0",
     "model_name": "DescriptionStyleModel",
     "state": {
      "_model_module": "@jupyter-widgets/controls",
      "_model_module_version": "1.5.0",
      "_model_name": "DescriptionStyleModel",
      "_view_count": null,
      "_view_module": "@jupyter-widgets/base",
      "_view_module_version": "1.2.0",
      "_view_name": "StyleView",
      "description_width": ""
     }
    },
    "6d8a4432f0554adbb51f30b549bc50f6": {
     "model_module": "@jupyter-widgets/base",
     "model_module_version": "1.2.0",
     "model_name": "LayoutModel",
     "state": {
      "_model_module": "@jupyter-widgets/base",
      "_model_module_version": "1.2.0",
      "_model_name": "LayoutModel",
      "_view_count": null,
      "_view_module": "@jupyter-widgets/base",
      "_view_module_version": "1.2.0",
      "_view_name": "LayoutView",
      "align_content": null,
      "align_items": null,
      "align_self": null,
      "border": null,
      "bottom": null,
      "display": null,
      "flex": null,
      "flex_flow": null,
      "grid_area": null,
      "grid_auto_columns": null,
      "grid_auto_flow": null,
      "grid_auto_rows": null,
      "grid_column": null,
      "grid_gap": null,
      "grid_row": null,
      "grid_template_areas": null,
      "grid_template_columns": null,
      "grid_template_rows": null,
      "height": null,
      "justify_content": null,
      "justify_items": null,
      "left": null,
      "margin": null,
      "max_height": null,
      "max_width": null,
      "min_height": null,
      "min_width": null,
      "object_fit": null,
      "object_position": null,
      "order": null,
      "overflow": null,
      "overflow_x": null,
      "overflow_y": null,
      "padding": null,
      "right": null,
      "top": null,
      "visibility": null,
      "width": null
     }
    },
    "6e39ffdf51e94959a40e0a8e15fb6ff1": {
     "model_module": "@jupyter-widgets/controls",
     "model_module_version": "1.5.0",
     "model_name": "FloatProgressModel",
     "state": {
      "_dom_classes": [],
      "_model_module": "@jupyter-widgets/controls",
      "_model_module_version": "1.5.0",
      "_model_name": "FloatProgressModel",
      "_view_count": null,
      "_view_module": "@jupyter-widgets/controls",
      "_view_module_version": "1.5.0",
      "_view_name": "ProgressView",
      "bar_style": "success",
      "description": "",
      "description_tooltip": null,
      "layout": "IPY_MODEL_c200973a477d4e529c75cf03ed413530",
      "max": 20000,
      "min": 0,
      "orientation": "horizontal",
      "style": "IPY_MODEL_f7ad4cbce5914c79af62db10e3dd9186",
      "value": 20000
     }
    },
    "708fadda40ae416d8d26ab4cb215f5c8": {
     "model_module": "@jupyter-widgets/base",
     "model_module_version": "1.2.0",
     "model_name": "LayoutModel",
     "state": {
      "_model_module": "@jupyter-widgets/base",
      "_model_module_version": "1.2.0",
      "_model_name": "LayoutModel",
      "_view_count": null,
      "_view_module": "@jupyter-widgets/base",
      "_view_module_version": "1.2.0",
      "_view_name": "LayoutView",
      "align_content": null,
      "align_items": null,
      "align_self": null,
      "border": null,
      "bottom": null,
      "display": null,
      "flex": null,
      "flex_flow": null,
      "grid_area": null,
      "grid_auto_columns": null,
      "grid_auto_flow": null,
      "grid_auto_rows": null,
      "grid_column": null,
      "grid_gap": null,
      "grid_row": null,
      "grid_template_areas": null,
      "grid_template_columns": null,
      "grid_template_rows": null,
      "height": null,
      "justify_content": null,
      "justify_items": null,
      "left": null,
      "margin": null,
      "max_height": null,
      "max_width": null,
      "min_height": null,
      "min_width": null,
      "object_fit": null,
      "object_position": null,
      "order": null,
      "overflow": null,
      "overflow_x": null,
      "overflow_y": null,
      "padding": null,
      "right": null,
      "top": null,
      "visibility": null,
      "width": null
     }
    },
    "7322e3d69aeb444cb792161466d9ee84": {
     "model_module": "@jupyter-widgets/controls",
     "model_module_version": "1.5.0",
     "model_name": "ProgressStyleModel",
     "state": {
      "_model_module": "@jupyter-widgets/controls",
      "_model_module_version": "1.5.0",
      "_model_name": "ProgressStyleModel",
      "_view_count": null,
      "_view_module": "@jupyter-widgets/base",
      "_view_module_version": "1.2.0",
      "_view_name": "StyleView",
      "bar_color": null,
      "description_width": ""
     }
    },
    "7656b1afe7804c2c8b0b4fa42d72222b": {
     "model_module": "@jupyter-widgets/controls",
     "model_module_version": "1.5.0",
     "model_name": "FloatProgressModel",
     "state": {
      "_dom_classes": [],
      "_model_module": "@jupyter-widgets/controls",
      "_model_module_version": "1.5.0",
      "_model_name": "FloatProgressModel",
      "_view_count": null,
      "_view_module": "@jupyter-widgets/controls",
      "_view_module_version": "1.5.0",
      "_view_name": "ProgressView",
      "bar_style": "success",
      "description": "",
      "description_tooltip": null,
      "layout": "IPY_MODEL_0570a48a8f7045daa06460883ac09111",
      "max": 20000,
      "min": 0,
      "orientation": "horizontal",
      "style": "IPY_MODEL_d5eb6307444e49aab63c672e2737bed4",
      "value": 20000
     }
    },
    "7737287753014a2dbac23146aebb2de3": {
     "model_module": "@jupyter-widgets/base",
     "model_module_version": "1.2.0",
     "model_name": "LayoutModel",
     "state": {
      "_model_module": "@jupyter-widgets/base",
      "_model_module_version": "1.2.0",
      "_model_name": "LayoutModel",
      "_view_count": null,
      "_view_module": "@jupyter-widgets/base",
      "_view_module_version": "1.2.0",
      "_view_name": "LayoutView",
      "align_content": null,
      "align_items": null,
      "align_self": null,
      "border": null,
      "bottom": null,
      "display": null,
      "flex": null,
      "flex_flow": null,
      "grid_area": null,
      "grid_auto_columns": null,
      "grid_auto_flow": null,
      "grid_auto_rows": null,
      "grid_column": null,
      "grid_gap": null,
      "grid_row": null,
      "grid_template_areas": null,
      "grid_template_columns": null,
      "grid_template_rows": null,
      "height": null,
      "justify_content": null,
      "justify_items": null,
      "left": null,
      "margin": null,
      "max_height": null,
      "max_width": null,
      "min_height": null,
      "min_width": null,
      "object_fit": null,
      "object_position": null,
      "order": null,
      "overflow": null,
      "overflow_x": null,
      "overflow_y": null,
      "padding": null,
      "right": null,
      "top": null,
      "visibility": null,
      "width": null
     }
    },
    "776681f030b74b30b5f90eb9e06c729d": {
     "model_module": "@jupyter-widgets/base",
     "model_module_version": "1.2.0",
     "model_name": "LayoutModel",
     "state": {
      "_model_module": "@jupyter-widgets/base",
      "_model_module_version": "1.2.0",
      "_model_name": "LayoutModel",
      "_view_count": null,
      "_view_module": "@jupyter-widgets/base",
      "_view_module_version": "1.2.0",
      "_view_name": "LayoutView",
      "align_content": null,
      "align_items": null,
      "align_self": null,
      "border": null,
      "bottom": null,
      "display": null,
      "flex": null,
      "flex_flow": null,
      "grid_area": null,
      "grid_auto_columns": null,
      "grid_auto_flow": null,
      "grid_auto_rows": null,
      "grid_column": null,
      "grid_gap": null,
      "grid_row": null,
      "grid_template_areas": null,
      "grid_template_columns": null,
      "grid_template_rows": null,
      "height": null,
      "justify_content": null,
      "justify_items": null,
      "left": null,
      "margin": null,
      "max_height": null,
      "max_width": null,
      "min_height": null,
      "min_width": null,
      "object_fit": null,
      "object_position": null,
      "order": null,
      "overflow": null,
      "overflow_x": null,
      "overflow_y": null,
      "padding": null,
      "right": null,
      "top": null,
      "visibility": null,
      "width": null
     }
    },
    "7f5fdbdfcd8f49a09988aad94368650c": {
     "model_module": "@jupyter-widgets/controls",
     "model_module_version": "1.5.0",
     "model_name": "DescriptionStyleModel",
     "state": {
      "_model_module": "@jupyter-widgets/controls",
      "_model_module_version": "1.5.0",
      "_model_name": "DescriptionStyleModel",
      "_view_count": null,
      "_view_module": "@jupyter-widgets/base",
      "_view_module_version": "1.2.0",
      "_view_name": "StyleView",
      "description_width": ""
     }
    },
    "7fa1dd2a5dc74ca28d551c39499babab": {
     "model_module": "@jupyter-widgets/controls",
     "model_module_version": "1.5.0",
     "model_name": "DescriptionStyleModel",
     "state": {
      "_model_module": "@jupyter-widgets/controls",
      "_model_module_version": "1.5.0",
      "_model_name": "DescriptionStyleModel",
      "_view_count": null,
      "_view_module": "@jupyter-widgets/base",
      "_view_module_version": "1.2.0",
      "_view_name": "StyleView",
      "description_width": ""
     }
    },
    "83030a745e514283bbaca31e9eab2384": {
     "model_module": "@jupyter-widgets/controls",
     "model_module_version": "1.5.0",
     "model_name": "HTMLModel",
     "state": {
      "_dom_classes": [],
      "_model_module": "@jupyter-widgets/controls",
      "_model_module_version": "1.5.0",
      "_model_name": "HTMLModel",
      "_view_count": null,
      "_view_module": "@jupyter-widgets/controls",
      "_view_module_version": "1.5.0",
      "_view_name": "HTMLView",
      "description": "",
      "description_tooltip": null,
      "layout": "IPY_MODEL_8dd67b8c14ac4a9eb81125c77f9def2a",
      "placeholder": "​",
      "style": "IPY_MODEL_ebe421bdfa514c0eac2cf867dcd478f8",
      "value": "100%"
     }
    },
    "85efe1c1d4254d5c856166e9008cf092": {
     "model_module": "@jupyter-widgets/base",
     "model_module_version": "1.2.0",
     "model_name": "LayoutModel",
     "state": {
      "_model_module": "@jupyter-widgets/base",
      "_model_module_version": "1.2.0",
      "_model_name": "LayoutModel",
      "_view_count": null,
      "_view_module": "@jupyter-widgets/base",
      "_view_module_version": "1.2.0",
      "_view_name": "LayoutView",
      "align_content": null,
      "align_items": null,
      "align_self": null,
      "border": null,
      "bottom": null,
      "display": null,
      "flex": null,
      "flex_flow": null,
      "grid_area": null,
      "grid_auto_columns": null,
      "grid_auto_flow": null,
      "grid_auto_rows": null,
      "grid_column": null,
      "grid_gap": null,
      "grid_row": null,
      "grid_template_areas": null,
      "grid_template_columns": null,
      "grid_template_rows": null,
      "height": null,
      "justify_content": null,
      "justify_items": null,
      "left": null,
      "margin": null,
      "max_height": null,
      "max_width": null,
      "min_height": null,
      "min_width": null,
      "object_fit": null,
      "object_position": null,
      "order": null,
      "overflow": null,
      "overflow_x": null,
      "overflow_y": null,
      "padding": null,
      "right": null,
      "top": null,
      "visibility": null,
      "width": null
     }
    },
    "8dd67b8c14ac4a9eb81125c77f9def2a": {
     "model_module": "@jupyter-widgets/base",
     "model_module_version": "1.2.0",
     "model_name": "LayoutModel",
     "state": {
      "_model_module": "@jupyter-widgets/base",
      "_model_module_version": "1.2.0",
      "_model_name": "LayoutModel",
      "_view_count": null,
      "_view_module": "@jupyter-widgets/base",
      "_view_module_version": "1.2.0",
      "_view_name": "LayoutView",
      "align_content": null,
      "align_items": null,
      "align_self": null,
      "border": null,
      "bottom": null,
      "display": null,
      "flex": null,
      "flex_flow": null,
      "grid_area": null,
      "grid_auto_columns": null,
      "grid_auto_flow": null,
      "grid_auto_rows": null,
      "grid_column": null,
      "grid_gap": null,
      "grid_row": null,
      "grid_template_areas": null,
      "grid_template_columns": null,
      "grid_template_rows": null,
      "height": null,
      "justify_content": null,
      "justify_items": null,
      "left": null,
      "margin": null,
      "max_height": null,
      "max_width": null,
      "min_height": null,
      "min_width": null,
      "object_fit": null,
      "object_position": null,
      "order": null,
      "overflow": null,
      "overflow_x": null,
      "overflow_y": null,
      "padding": null,
      "right": null,
      "top": null,
      "visibility": null,
      "width": null
     }
    },
    "90bebd16d3ff40849ad8680732040e6b": {
     "model_module": "@jupyter-widgets/base",
     "model_module_version": "1.2.0",
     "model_name": "LayoutModel",
     "state": {
      "_model_module": "@jupyter-widgets/base",
      "_model_module_version": "1.2.0",
      "_model_name": "LayoutModel",
      "_view_count": null,
      "_view_module": "@jupyter-widgets/base",
      "_view_module_version": "1.2.0",
      "_view_name": "LayoutView",
      "align_content": null,
      "align_items": null,
      "align_self": null,
      "border": null,
      "bottom": null,
      "display": null,
      "flex": null,
      "flex_flow": null,
      "grid_area": null,
      "grid_auto_columns": null,
      "grid_auto_flow": null,
      "grid_auto_rows": null,
      "grid_column": null,
      "grid_gap": null,
      "grid_row": null,
      "grid_template_areas": null,
      "grid_template_columns": null,
      "grid_template_rows": null,
      "height": null,
      "justify_content": null,
      "justify_items": null,
      "left": null,
      "margin": null,
      "max_height": null,
      "max_width": null,
      "min_height": null,
      "min_width": null,
      "object_fit": null,
      "object_position": null,
      "order": null,
      "overflow": null,
      "overflow_x": null,
      "overflow_y": null,
      "padding": null,
      "right": null,
      "top": null,
      "visibility": null,
      "width": null
     }
    },
    "929f90dc41064ed3b6ab18f134b3f9fc": {
     "model_module": "@jupyter-widgets/controls",
     "model_module_version": "1.5.0",
     "model_name": "HTMLModel",
     "state": {
      "_dom_classes": [],
      "_model_module": "@jupyter-widgets/controls",
      "_model_module_version": "1.5.0",
      "_model_name": "HTMLModel",
      "_view_count": null,
      "_view_module": "@jupyter-widgets/controls",
      "_view_module_version": "1.5.0",
      "_view_name": "HTMLView",
      "description": "",
      "description_tooltip": null,
      "layout": "IPY_MODEL_bbe0b9f3e5c441cbb3bccabb218439ec",
      "placeholder": "​",
      "style": "IPY_MODEL_6a3c74cfb3584880a7a9329829573136",
      "value": " 20000/20000 [00:04&lt;00:00, 3432.90it/s]"
     }
    },
    "936d803d139d48ecaed89a96467b96f4": {
     "model_module": "@jupyter-widgets/controls",
     "model_module_version": "1.5.0",
     "model_name": "HTMLModel",
     "state": {
      "_dom_classes": [],
      "_model_module": "@jupyter-widgets/controls",
      "_model_module_version": "1.5.0",
      "_model_name": "HTMLModel",
      "_view_count": null,
      "_view_module": "@jupyter-widgets/controls",
      "_view_module_version": "1.5.0",
      "_view_name": "HTMLView",
      "description": "",
      "description_tooltip": null,
      "layout": "IPY_MODEL_dbfaf1c87fe44597ad6ef8b8f957efde",
      "placeholder": "​",
      "style": "IPY_MODEL_ebcbdb44d15b49ce987a0396f5e7f54c",
      "value": " 20000/20000 [00:05&lt;00:00, 5334.49it/s]"
     }
    },
    "9590d117416d4b74abd3135a5180c5a5": {
     "model_module": "@jupyter-widgets/base",
     "model_module_version": "1.2.0",
     "model_name": "LayoutModel",
     "state": {
      "_model_module": "@jupyter-widgets/base",
      "_model_module_version": "1.2.0",
      "_model_name": "LayoutModel",
      "_view_count": null,
      "_view_module": "@jupyter-widgets/base",
      "_view_module_version": "1.2.0",
      "_view_name": "LayoutView",
      "align_content": null,
      "align_items": null,
      "align_self": null,
      "border": null,
      "bottom": null,
      "display": null,
      "flex": null,
      "flex_flow": null,
      "grid_area": null,
      "grid_auto_columns": null,
      "grid_auto_flow": null,
      "grid_auto_rows": null,
      "grid_column": null,
      "grid_gap": null,
      "grid_row": null,
      "grid_template_areas": null,
      "grid_template_columns": null,
      "grid_template_rows": null,
      "height": null,
      "justify_content": null,
      "justify_items": null,
      "left": null,
      "margin": null,
      "max_height": null,
      "max_width": null,
      "min_height": null,
      "min_width": null,
      "object_fit": null,
      "object_position": null,
      "order": null,
      "overflow": null,
      "overflow_x": null,
      "overflow_y": null,
      "padding": null,
      "right": null,
      "top": null,
      "visibility": null,
      "width": null
     }
    },
    "9718e4a6c4764bccb92f9397763b2f0d": {
     "model_module": "@jupyter-widgets/controls",
     "model_module_version": "1.5.0",
     "model_name": "HTMLModel",
     "state": {
      "_dom_classes": [],
      "_model_module": "@jupyter-widgets/controls",
      "_model_module_version": "1.5.0",
      "_model_name": "HTMLModel",
      "_view_count": null,
      "_view_module": "@jupyter-widgets/controls",
      "_view_module_version": "1.5.0",
      "_view_name": "HTMLView",
      "description": "",
      "description_tooltip": null,
      "layout": "IPY_MODEL_776681f030b74b30b5f90eb9e06c729d",
      "placeholder": "​",
      "style": "IPY_MODEL_54c9ca98856840f298dac778bf291722",
      "value": "100%"
     }
    },
    "993c744ffee14c2f9a6939b763f7695b": {
     "model_module": "@jupyter-widgets/controls",
     "model_module_version": "1.5.0",
     "model_name": "HTMLModel",
     "state": {
      "_dom_classes": [],
      "_model_module": "@jupyter-widgets/controls",
      "_model_module_version": "1.5.0",
      "_model_name": "HTMLModel",
      "_view_count": null,
      "_view_module": "@jupyter-widgets/controls",
      "_view_module_version": "1.5.0",
      "_view_name": "HTMLView",
      "description": "",
      "description_tooltip": null,
      "layout": "IPY_MODEL_db9d631d7c6b4db4b531695036616bb7",
      "placeholder": "​",
      "style": "IPY_MODEL_565807545b604f6fa6f74da3b47523d9",
      "value": "100%"
     }
    },
    "a0fc9677c70045eeb004d621f1dbc8bd": {
     "model_module": "@jupyter-widgets/controls",
     "model_module_version": "1.5.0",
     "model_name": "HBoxModel",
     "state": {
      "_dom_classes": [],
      "_model_module": "@jupyter-widgets/controls",
      "_model_module_version": "1.5.0",
      "_model_name": "HBoxModel",
      "_view_count": null,
      "_view_module": "@jupyter-widgets/controls",
      "_view_module_version": "1.5.0",
      "_view_name": "HBoxView",
      "box_style": "",
      "children": [
       "IPY_MODEL_686b4b7130014f27a63241e96b17b366",
       "IPY_MODEL_075d103893e945e7b697603e5ce96aef",
       "IPY_MODEL_eac8f134902c4f6a8b93cab864f21724"
      ],
      "layout": "IPY_MODEL_dd4ba88320644dd09061046bdf288325"
     }
    },
    "a27a8ce41ce543ecb6eb9e3e3142d0a3": {
     "model_module": "@jupyter-widgets/base",
     "model_module_version": "1.2.0",
     "model_name": "LayoutModel",
     "state": {
      "_model_module": "@jupyter-widgets/base",
      "_model_module_version": "1.2.0",
      "_model_name": "LayoutModel",
      "_view_count": null,
      "_view_module": "@jupyter-widgets/base",
      "_view_module_version": "1.2.0",
      "_view_name": "LayoutView",
      "align_content": null,
      "align_items": null,
      "align_self": null,
      "border": null,
      "bottom": null,
      "display": null,
      "flex": null,
      "flex_flow": null,
      "grid_area": null,
      "grid_auto_columns": null,
      "grid_auto_flow": null,
      "grid_auto_rows": null,
      "grid_column": null,
      "grid_gap": null,
      "grid_row": null,
      "grid_template_areas": null,
      "grid_template_columns": null,
      "grid_template_rows": null,
      "height": null,
      "justify_content": null,
      "justify_items": null,
      "left": null,
      "margin": null,
      "max_height": null,
      "max_width": null,
      "min_height": null,
      "min_width": null,
      "object_fit": null,
      "object_position": null,
      "order": null,
      "overflow": null,
      "overflow_x": null,
      "overflow_y": null,
      "padding": null,
      "right": null,
      "top": null,
      "visibility": null,
      "width": null
     }
    },
    "a3aabd6a8f1744809965f865eaa334e4": {
     "model_module": "@jupyter-widgets/controls",
     "model_module_version": "1.5.0",
     "model_name": "HTMLModel",
     "state": {
      "_dom_classes": [],
      "_model_module": "@jupyter-widgets/controls",
      "_model_module_version": "1.5.0",
      "_model_name": "HTMLModel",
      "_view_count": null,
      "_view_module": "@jupyter-widgets/controls",
      "_view_module_version": "1.5.0",
      "_view_name": "HTMLView",
      "description": "",
      "description_tooltip": null,
      "layout": "IPY_MODEL_da32b1f04f5c4d68b446060033e585cd",
      "placeholder": "​",
      "style": "IPY_MODEL_5b287098ef504e7987cb8b7b487c8690",
      "value": " 20000/20000 [00:12&lt;00:00, 968.17it/s]"
     }
    },
    "a682bf92bbaf4f13a774a6c5d1d96a6b": {
     "model_module": "@jupyter-widgets/controls",
     "model_module_version": "1.5.0",
     "model_name": "FloatProgressModel",
     "state": {
      "_dom_classes": [],
      "_model_module": "@jupyter-widgets/controls",
      "_model_module_version": "1.5.0",
      "_model_name": "FloatProgressModel",
      "_view_count": null,
      "_view_module": "@jupyter-widgets/controls",
      "_view_module_version": "1.5.0",
      "_view_name": "ProgressView",
      "bar_style": "success",
      "description": "",
      "description_tooltip": null,
      "layout": "IPY_MODEL_45744c535e5844d0a5072fecd85a99a3",
      "max": 400,
      "min": 0,
      "orientation": "horizontal",
      "style": "IPY_MODEL_5d9f07ef9ee844118f90398381752ef3",
      "value": 400
     }
    },
    "ab1e7f7b80fe48179689171fcd749273": {
     "model_module": "@jupyter-widgets/controls",
     "model_module_version": "1.5.0",
     "model_name": "HTMLModel",
     "state": {
      "_dom_classes": [],
      "_model_module": "@jupyter-widgets/controls",
      "_model_module_version": "1.5.0",
      "_model_name": "HTMLModel",
      "_view_count": null,
      "_view_module": "@jupyter-widgets/controls",
      "_view_module_version": "1.5.0",
      "_view_name": "HTMLView",
      "description": "",
      "description_tooltip": null,
      "layout": "IPY_MODEL_fee4bf1689174ab4978385b1f6fad68a",
      "placeholder": "​",
      "style": "IPY_MODEL_4411e3f9f4d740ae809f094ffe4b8d00",
      "value": " 20000/20000 [00:00&lt;00:00, 158466.37it/s]"
     }
    },
    "b2f17b1801084d26ba944ab84bca6477": {
     "model_module": "@jupyter-widgets/controls",
     "model_module_version": "1.5.0",
     "model_name": "HTMLModel",
     "state": {
      "_dom_classes": [],
      "_model_module": "@jupyter-widgets/controls",
      "_model_module_version": "1.5.0",
      "_model_name": "HTMLModel",
      "_view_count": null,
      "_view_module": "@jupyter-widgets/controls",
      "_view_module_version": "1.5.0",
      "_view_name": "HTMLView",
      "description": "",
      "description_tooltip": null,
      "layout": "IPY_MODEL_f52bf67151854769a719f70e2c73bbfb",
      "placeholder": "​",
      "style": "IPY_MODEL_2090e7cb98734c50bb8a67550ee1934c",
      "value": "100%"
     }
    },
    "b7a9fb2192744b66a8c41155c80be968": {
     "model_module": "@jupyter-widgets/controls",
     "model_module_version": "1.5.0",
     "model_name": "DescriptionStyleModel",
     "state": {
      "_model_module": "@jupyter-widgets/controls",
      "_model_module_version": "1.5.0",
      "_model_name": "DescriptionStyleModel",
      "_view_count": null,
      "_view_module": "@jupyter-widgets/base",
      "_view_module_version": "1.2.0",
      "_view_name": "StyleView",
      "description_width": ""
     }
    },
    "b7e6614eb7014b8dbf1820487bbbf1fc": {
     "model_module": "@jupyter-widgets/base",
     "model_module_version": "1.2.0",
     "model_name": "LayoutModel",
     "state": {
      "_model_module": "@jupyter-widgets/base",
      "_model_module_version": "1.2.0",
      "_model_name": "LayoutModel",
      "_view_count": null,
      "_view_module": "@jupyter-widgets/base",
      "_view_module_version": "1.2.0",
      "_view_name": "LayoutView",
      "align_content": null,
      "align_items": null,
      "align_self": null,
      "border": null,
      "bottom": null,
      "display": null,
      "flex": null,
      "flex_flow": null,
      "grid_area": null,
      "grid_auto_columns": null,
      "grid_auto_flow": null,
      "grid_auto_rows": null,
      "grid_column": null,
      "grid_gap": null,
      "grid_row": null,
      "grid_template_areas": null,
      "grid_template_columns": null,
      "grid_template_rows": null,
      "height": null,
      "justify_content": null,
      "justify_items": null,
      "left": null,
      "margin": null,
      "max_height": null,
      "max_width": null,
      "min_height": null,
      "min_width": null,
      "object_fit": null,
      "object_position": null,
      "order": null,
      "overflow": null,
      "overflow_x": null,
      "overflow_y": null,
      "padding": null,
      "right": null,
      "top": null,
      "visibility": null,
      "width": null
     }
    },
    "bbe0b9f3e5c441cbb3bccabb218439ec": {
     "model_module": "@jupyter-widgets/base",
     "model_module_version": "1.2.0",
     "model_name": "LayoutModel",
     "state": {
      "_model_module": "@jupyter-widgets/base",
      "_model_module_version": "1.2.0",
      "_model_name": "LayoutModel",
      "_view_count": null,
      "_view_module": "@jupyter-widgets/base",
      "_view_module_version": "1.2.0",
      "_view_name": "LayoutView",
      "align_content": null,
      "align_items": null,
      "align_self": null,
      "border": null,
      "bottom": null,
      "display": null,
      "flex": null,
      "flex_flow": null,
      "grid_area": null,
      "grid_auto_columns": null,
      "grid_auto_flow": null,
      "grid_auto_rows": null,
      "grid_column": null,
      "grid_gap": null,
      "grid_row": null,
      "grid_template_areas": null,
      "grid_template_columns": null,
      "grid_template_rows": null,
      "height": null,
      "justify_content": null,
      "justify_items": null,
      "left": null,
      "margin": null,
      "max_height": null,
      "max_width": null,
      "min_height": null,
      "min_width": null,
      "object_fit": null,
      "object_position": null,
      "order": null,
      "overflow": null,
      "overflow_x": null,
      "overflow_y": null,
      "padding": null,
      "right": null,
      "top": null,
      "visibility": null,
      "width": null
     }
    },
    "c200973a477d4e529c75cf03ed413530": {
     "model_module": "@jupyter-widgets/base",
     "model_module_version": "1.2.0",
     "model_name": "LayoutModel",
     "state": {
      "_model_module": "@jupyter-widgets/base",
      "_model_module_version": "1.2.0",
      "_model_name": "LayoutModel",
      "_view_count": null,
      "_view_module": "@jupyter-widgets/base",
      "_view_module_version": "1.2.0",
      "_view_name": "LayoutView",
      "align_content": null,
      "align_items": null,
      "align_self": null,
      "border": null,
      "bottom": null,
      "display": null,
      "flex": null,
      "flex_flow": null,
      "grid_area": null,
      "grid_auto_columns": null,
      "grid_auto_flow": null,
      "grid_auto_rows": null,
      "grid_column": null,
      "grid_gap": null,
      "grid_row": null,
      "grid_template_areas": null,
      "grid_template_columns": null,
      "grid_template_rows": null,
      "height": null,
      "justify_content": null,
      "justify_items": null,
      "left": null,
      "margin": null,
      "max_height": null,
      "max_width": null,
      "min_height": null,
      "min_width": null,
      "object_fit": null,
      "object_position": null,
      "order": null,
      "overflow": null,
      "overflow_x": null,
      "overflow_y": null,
      "padding": null,
      "right": null,
      "top": null,
      "visibility": null,
      "width": null
     }
    },
    "c23ea0f1ee844dfa96bd719d7e0091e6": {
     "model_module": "@jupyter-widgets/controls",
     "model_module_version": "1.5.0",
     "model_name": "DescriptionStyleModel",
     "state": {
      "_model_module": "@jupyter-widgets/controls",
      "_model_module_version": "1.5.0",
      "_model_name": "DescriptionStyleModel",
      "_view_count": null,
      "_view_module": "@jupyter-widgets/base",
      "_view_module_version": "1.2.0",
      "_view_name": "StyleView",
      "description_width": ""
     }
    },
    "c369279cef4b432fbc926e58732cce60": {
     "model_module": "@jupyter-widgets/controls",
     "model_module_version": "1.5.0",
     "model_name": "HBoxModel",
     "state": {
      "_dom_classes": [],
      "_model_module": "@jupyter-widgets/controls",
      "_model_module_version": "1.5.0",
      "_model_name": "HBoxModel",
      "_view_count": null,
      "_view_module": "@jupyter-widgets/controls",
      "_view_module_version": "1.5.0",
      "_view_name": "HBoxView",
      "box_style": "",
      "children": [
       "IPY_MODEL_9718e4a6c4764bccb92f9397763b2f0d",
       "IPY_MODEL_6e39ffdf51e94959a40e0a8e15fb6ff1",
       "IPY_MODEL_108db477207b4864a11b90b7bfe80437"
      ],
      "layout": "IPY_MODEL_119937db762749908315df8cc4ab5769"
     }
    },
    "c38a4160413b46a9a4873af055246c51": {
     "model_module": "@jupyter-widgets/controls",
     "model_module_version": "1.5.0",
     "model_name": "ProgressStyleModel",
     "state": {
      "_model_module": "@jupyter-widgets/controls",
      "_model_module_version": "1.5.0",
      "_model_name": "ProgressStyleModel",
      "_view_count": null,
      "_view_module": "@jupyter-widgets/base",
      "_view_module_version": "1.2.0",
      "_view_name": "StyleView",
      "bar_color": null,
      "description_width": ""
     }
    },
    "c4f62b744c784d919c9eefceed95ea25": {
     "model_module": "@jupyter-widgets/controls",
     "model_module_version": "1.5.0",
     "model_name": "DescriptionStyleModel",
     "state": {
      "_model_module": "@jupyter-widgets/controls",
      "_model_module_version": "1.5.0",
      "_model_name": "DescriptionStyleModel",
      "_view_count": null,
      "_view_module": "@jupyter-widgets/base",
      "_view_module_version": "1.2.0",
      "_view_name": "StyleView",
      "description_width": ""
     }
    },
    "d5eb6307444e49aab63c672e2737bed4": {
     "model_module": "@jupyter-widgets/controls",
     "model_module_version": "1.5.0",
     "model_name": "ProgressStyleModel",
     "state": {
      "_model_module": "@jupyter-widgets/controls",
      "_model_module_version": "1.5.0",
      "_model_name": "ProgressStyleModel",
      "_view_count": null,
      "_view_module": "@jupyter-widgets/base",
      "_view_module_version": "1.2.0",
      "_view_name": "StyleView",
      "bar_color": null,
      "description_width": ""
     }
    },
    "da32b1f04f5c4d68b446060033e585cd": {
     "model_module": "@jupyter-widgets/base",
     "model_module_version": "1.2.0",
     "model_name": "LayoutModel",
     "state": {
      "_model_module": "@jupyter-widgets/base",
      "_model_module_version": "1.2.0",
      "_model_name": "LayoutModel",
      "_view_count": null,
      "_view_module": "@jupyter-widgets/base",
      "_view_module_version": "1.2.0",
      "_view_name": "LayoutView",
      "align_content": null,
      "align_items": null,
      "align_self": null,
      "border": null,
      "bottom": null,
      "display": null,
      "flex": null,
      "flex_flow": null,
      "grid_area": null,
      "grid_auto_columns": null,
      "grid_auto_flow": null,
      "grid_auto_rows": null,
      "grid_column": null,
      "grid_gap": null,
      "grid_row": null,
      "grid_template_areas": null,
      "grid_template_columns": null,
      "grid_template_rows": null,
      "height": null,
      "justify_content": null,
      "justify_items": null,
      "left": null,
      "margin": null,
      "max_height": null,
      "max_width": null,
      "min_height": null,
      "min_width": null,
      "object_fit": null,
      "object_position": null,
      "order": null,
      "overflow": null,
      "overflow_x": null,
      "overflow_y": null,
      "padding": null,
      "right": null,
      "top": null,
      "visibility": null,
      "width": null
     }
    },
    "db128f80c7534aa397f0ad2ac5df1b99": {
     "model_module": "@jupyter-widgets/controls",
     "model_module_version": "1.5.0",
     "model_name": "HTMLModel",
     "state": {
      "_dom_classes": [],
      "_model_module": "@jupyter-widgets/controls",
      "_model_module_version": "1.5.0",
      "_model_name": "HTMLModel",
      "_view_count": null,
      "_view_module": "@jupyter-widgets/controls",
      "_view_module_version": "1.5.0",
      "_view_name": "HTMLView",
      "description": "",
      "description_tooltip": null,
      "layout": "IPY_MODEL_7737287753014a2dbac23146aebb2de3",
      "placeholder": "​",
      "style": "IPY_MODEL_678a21e570834582b6a0b2b28bd155cc",
      "value": "100%"
     }
    },
    "db9d631d7c6b4db4b531695036616bb7": {
     "model_module": "@jupyter-widgets/base",
     "model_module_version": "1.2.0",
     "model_name": "LayoutModel",
     "state": {
      "_model_module": "@jupyter-widgets/base",
      "_model_module_version": "1.2.0",
      "_model_name": "LayoutModel",
      "_view_count": null,
      "_view_module": "@jupyter-widgets/base",
      "_view_module_version": "1.2.0",
      "_view_name": "LayoutView",
      "align_content": null,
      "align_items": null,
      "align_self": null,
      "border": null,
      "bottom": null,
      "display": null,
      "flex": null,
      "flex_flow": null,
      "grid_area": null,
      "grid_auto_columns": null,
      "grid_auto_flow": null,
      "grid_auto_rows": null,
      "grid_column": null,
      "grid_gap": null,
      "grid_row": null,
      "grid_template_areas": null,
      "grid_template_columns": null,
      "grid_template_rows": null,
      "height": null,
      "justify_content": null,
      "justify_items": null,
      "left": null,
      "margin": null,
      "max_height": null,
      "max_width": null,
      "min_height": null,
      "min_width": null,
      "object_fit": null,
      "object_position": null,
      "order": null,
      "overflow": null,
      "overflow_x": null,
      "overflow_y": null,
      "padding": null,
      "right": null,
      "top": null,
      "visibility": null,
      "width": null
     }
    },
    "dbfaf1c87fe44597ad6ef8b8f957efde": {
     "model_module": "@jupyter-widgets/base",
     "model_module_version": "1.2.0",
     "model_name": "LayoutModel",
     "state": {
      "_model_module": "@jupyter-widgets/base",
      "_model_module_version": "1.2.0",
      "_model_name": "LayoutModel",
      "_view_count": null,
      "_view_module": "@jupyter-widgets/base",
      "_view_module_version": "1.2.0",
      "_view_name": "LayoutView",
      "align_content": null,
      "align_items": null,
      "align_self": null,
      "border": null,
      "bottom": null,
      "display": null,
      "flex": null,
      "flex_flow": null,
      "grid_area": null,
      "grid_auto_columns": null,
      "grid_auto_flow": null,
      "grid_auto_rows": null,
      "grid_column": null,
      "grid_gap": null,
      "grid_row": null,
      "grid_template_areas": null,
      "grid_template_columns": null,
      "grid_template_rows": null,
      "height": null,
      "justify_content": null,
      "justify_items": null,
      "left": null,
      "margin": null,
      "max_height": null,
      "max_width": null,
      "min_height": null,
      "min_width": null,
      "object_fit": null,
      "object_position": null,
      "order": null,
      "overflow": null,
      "overflow_x": null,
      "overflow_y": null,
      "padding": null,
      "right": null,
      "top": null,
      "visibility": null,
      "width": null
     }
    },
    "dd4ba88320644dd09061046bdf288325": {
     "model_module": "@jupyter-widgets/base",
     "model_module_version": "1.2.0",
     "model_name": "LayoutModel",
     "state": {
      "_model_module": "@jupyter-widgets/base",
      "_model_module_version": "1.2.0",
      "_model_name": "LayoutModel",
      "_view_count": null,
      "_view_module": "@jupyter-widgets/base",
      "_view_module_version": "1.2.0",
      "_view_name": "LayoutView",
      "align_content": null,
      "align_items": null,
      "align_self": null,
      "border": null,
      "bottom": null,
      "display": null,
      "flex": null,
      "flex_flow": null,
      "grid_area": null,
      "grid_auto_columns": null,
      "grid_auto_flow": null,
      "grid_auto_rows": null,
      "grid_column": null,
      "grid_gap": null,
      "grid_row": null,
      "grid_template_areas": null,
      "grid_template_columns": null,
      "grid_template_rows": null,
      "height": null,
      "justify_content": null,
      "justify_items": null,
      "left": null,
      "margin": null,
      "max_height": null,
      "max_width": null,
      "min_height": null,
      "min_width": null,
      "object_fit": null,
      "object_position": null,
      "order": null,
      "overflow": null,
      "overflow_x": null,
      "overflow_y": null,
      "padding": null,
      "right": null,
      "top": null,
      "visibility": null,
      "width": null
     }
    },
    "e2a3a966e20d4a9e88a711b593a60df9": {
     "model_module": "@jupyter-widgets/controls",
     "model_module_version": "1.5.0",
     "model_name": "FloatProgressModel",
     "state": {
      "_dom_classes": [],
      "_model_module": "@jupyter-widgets/controls",
      "_model_module_version": "1.5.0",
      "_model_name": "FloatProgressModel",
      "_view_count": null,
      "_view_module": "@jupyter-widgets/controls",
      "_view_module_version": "1.5.0",
      "_view_name": "ProgressView",
      "bar_style": "success",
      "description": "",
      "description_tooltip": null,
      "layout": "IPY_MODEL_2777578878b4418cbe671e97aa14b9cd",
      "max": 20000,
      "min": 0,
      "orientation": "horizontal",
      "style": "IPY_MODEL_e375c6f8085348308c5a26ee8e6c3e0b",
      "value": 20000
     }
    },
    "e375c6f8085348308c5a26ee8e6c3e0b": {
     "model_module": "@jupyter-widgets/controls",
     "model_module_version": "1.5.0",
     "model_name": "ProgressStyleModel",
     "state": {
      "_model_module": "@jupyter-widgets/controls",
      "_model_module_version": "1.5.0",
      "_model_name": "ProgressStyleModel",
      "_view_count": null,
      "_view_module": "@jupyter-widgets/base",
      "_view_module_version": "1.2.0",
      "_view_name": "StyleView",
      "bar_color": null,
      "description_width": ""
     }
    },
    "eac8f134902c4f6a8b93cab864f21724": {
     "model_module": "@jupyter-widgets/controls",
     "model_module_version": "1.5.0",
     "model_name": "HTMLModel",
     "state": {
      "_dom_classes": [],
      "_model_module": "@jupyter-widgets/controls",
      "_model_module_version": "1.5.0",
      "_model_name": "HTMLModel",
      "_view_count": null,
      "_view_module": "@jupyter-widgets/controls",
      "_view_module_version": "1.5.0",
      "_view_name": "HTMLView",
      "description": "",
      "description_tooltip": null,
      "layout": "IPY_MODEL_9590d117416d4b74abd3135a5180c5a5",
      "placeholder": "​",
      "style": "IPY_MODEL_37604c57c8654d0abc035e8a82ad5e02",
      "value": " 20000/20000 [00:00&lt;00:00, 112618.76it/s]"
     }
    },
    "ebcbdb44d15b49ce987a0396f5e7f54c": {
     "model_module": "@jupyter-widgets/controls",
     "model_module_version": "1.5.0",
     "model_name": "DescriptionStyleModel",
     "state": {
      "_model_module": "@jupyter-widgets/controls",
      "_model_module_version": "1.5.0",
      "_model_name": "DescriptionStyleModel",
      "_view_count": null,
      "_view_module": "@jupyter-widgets/base",
      "_view_module_version": "1.2.0",
      "_view_name": "StyleView",
      "description_width": ""
     }
    },
    "ebe421bdfa514c0eac2cf867dcd478f8": {
     "model_module": "@jupyter-widgets/controls",
     "model_module_version": "1.5.0",
     "model_name": "DescriptionStyleModel",
     "state": {
      "_model_module": "@jupyter-widgets/controls",
      "_model_module_version": "1.5.0",
      "_model_name": "DescriptionStyleModel",
      "_view_count": null,
      "_view_module": "@jupyter-widgets/base",
      "_view_module_version": "1.2.0",
      "_view_name": "StyleView",
      "description_width": ""
     }
    },
    "f40643a6613348ccbf3fef445271e909": {
     "model_module": "@jupyter-widgets/controls",
     "model_module_version": "1.5.0",
     "model_name": "FloatProgressModel",
     "state": {
      "_dom_classes": [],
      "_model_module": "@jupyter-widgets/controls",
      "_model_module_version": "1.5.0",
      "_model_name": "FloatProgressModel",
      "_view_count": null,
      "_view_module": "@jupyter-widgets/controls",
      "_view_module_version": "1.5.0",
      "_view_name": "ProgressView",
      "bar_style": "success",
      "description": "",
      "description_tooltip": null,
      "layout": "IPY_MODEL_5aef10d5826a48f897b051586acb286b",
      "max": 20000,
      "min": 0,
      "orientation": "horizontal",
      "style": "IPY_MODEL_7322e3d69aeb444cb792161466d9ee84",
      "value": 20000
     }
    },
    "f52bf67151854769a719f70e2c73bbfb": {
     "model_module": "@jupyter-widgets/base",
     "model_module_version": "1.2.0",
     "model_name": "LayoutModel",
     "state": {
      "_model_module": "@jupyter-widgets/base",
      "_model_module_version": "1.2.0",
      "_model_name": "LayoutModel",
      "_view_count": null,
      "_view_module": "@jupyter-widgets/base",
      "_view_module_version": "1.2.0",
      "_view_name": "LayoutView",
      "align_content": null,
      "align_items": null,
      "align_self": null,
      "border": null,
      "bottom": null,
      "display": null,
      "flex": null,
      "flex_flow": null,
      "grid_area": null,
      "grid_auto_columns": null,
      "grid_auto_flow": null,
      "grid_auto_rows": null,
      "grid_column": null,
      "grid_gap": null,
      "grid_row": null,
      "grid_template_areas": null,
      "grid_template_columns": null,
      "grid_template_rows": null,
      "height": null,
      "justify_content": null,
      "justify_items": null,
      "left": null,
      "margin": null,
      "max_height": null,
      "max_width": null,
      "min_height": null,
      "min_width": null,
      "object_fit": null,
      "object_position": null,
      "order": null,
      "overflow": null,
      "overflow_x": null,
      "overflow_y": null,
      "padding": null,
      "right": null,
      "top": null,
      "visibility": null,
      "width": null
     }
    },
    "f7ad4cbce5914c79af62db10e3dd9186": {
     "model_module": "@jupyter-widgets/controls",
     "model_module_version": "1.5.0",
     "model_name": "ProgressStyleModel",
     "state": {
      "_model_module": "@jupyter-widgets/controls",
      "_model_module_version": "1.5.0",
      "_model_name": "ProgressStyleModel",
      "_view_count": null,
      "_view_module": "@jupyter-widgets/base",
      "_view_module_version": "1.2.0",
      "_view_name": "StyleView",
      "bar_color": null,
      "description_width": ""
     }
    },
    "fa64baa65a1d4290b5ff55248480bf97": {
     "model_module": "@jupyter-widgets/controls",
     "model_module_version": "1.5.0",
     "model_name": "HBoxModel",
     "state": {
      "_dom_classes": [],
      "_model_module": "@jupyter-widgets/controls",
      "_model_module_version": "1.5.0",
      "_model_name": "HBoxModel",
      "_view_count": null,
      "_view_module": "@jupyter-widgets/controls",
      "_view_module_version": "1.5.0",
      "_view_name": "HBoxView",
      "box_style": "",
      "children": [
       "IPY_MODEL_db128f80c7534aa397f0ad2ac5df1b99",
       "IPY_MODEL_7656b1afe7804c2c8b0b4fa42d72222b",
       "IPY_MODEL_ab1e7f7b80fe48179689171fcd749273"
      ],
      "layout": "IPY_MODEL_65ab4e854da34bb4a097a29c90b0d46e"
     }
    },
    "fee4bf1689174ab4978385b1f6fad68a": {
     "model_module": "@jupyter-widgets/base",
     "model_module_version": "1.2.0",
     "model_name": "LayoutModel",
     "state": {
      "_model_module": "@jupyter-widgets/base",
      "_model_module_version": "1.2.0",
      "_model_name": "LayoutModel",
      "_view_count": null,
      "_view_module": "@jupyter-widgets/base",
      "_view_module_version": "1.2.0",
      "_view_name": "LayoutView",
      "align_content": null,
      "align_items": null,
      "align_self": null,
      "border": null,
      "bottom": null,
      "display": null,
      "flex": null,
      "flex_flow": null,
      "grid_area": null,
      "grid_auto_columns": null,
      "grid_auto_flow": null,
      "grid_auto_rows": null,
      "grid_column": null,
      "grid_gap": null,
      "grid_row": null,
      "grid_template_areas": null,
      "grid_template_columns": null,
      "grid_template_rows": null,
      "height": null,
      "justify_content": null,
      "justify_items": null,
      "left": null,
      "margin": null,
      "max_height": null,
      "max_width": null,
      "min_height": null,
      "min_width": null,
      "object_fit": null,
      "object_position": null,
      "order": null,
      "overflow": null,
      "overflow_x": null,
      "overflow_y": null,
      "padding": null,
      "right": null,
      "top": null,
      "visibility": null,
      "width": null
     }
    }
   }
  }
 },
 "nbformat": 4,
 "nbformat_minor": 4
}
