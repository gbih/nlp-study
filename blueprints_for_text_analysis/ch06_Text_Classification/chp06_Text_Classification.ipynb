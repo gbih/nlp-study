{
 "cells": [
  {
   "cell_type": "markdown",
   "metadata": {
    "id": "4Fw6e5RVI8tl"
   },
   "source": [
    "<a id='top'></a><a name='top'></a>\n",
    "# Chapter 6: Text Classification Algorithms\n",
    "\n",
    "Book: [Blueprints for Text Analysis Using Python](https://www.oreilly.com/library/view/blueprints-for-text/9781492074076/)\n",
    "\n",
    "Repo: https://github.com/blueprints-for-text-analytics-python/blueprints-text"
   ]
  },
  {
   "cell_type": "markdown",
   "metadata": {
    "id": "0U-FiuOGuUk0"
   },
   "source": [
    "* [Introduction](#introduction)\n",
    "* [6.0 Imports and Setup](#6.0)\n",
    "* [6.1 Introducing the Java Development Tools Bug Dataset](#6.1)\n",
    "* [6.2 Blueprint: Building a Text Classification System](#6.2)\n",
    "    - [6.2.1 Step 1: Data Preparation](#6.2.1)\n",
    "    - [6.2.2 Step 2: Train-Test Split](#6.2.2)\n",
    "    - [6.2.3 Step 3: Training the Machine Learning Model](#6.2.3)\n",
    "    - [6.2.4 Step 4: Model Evaluation](#6.2.4)\n",
    "* [6.3 Final Blueprint for Text Classification](#6.3)\n",
    "* [6.4 Blueprint: Using Cross-Validation to Estimate Realistic Accuracy Metrics](#6.4)\n",
    "* [6.5 Blueprint: Performing Hyperparameter Tuning with Grid Search](#6.5)\n",
    "* [6.6 Blueprint Recap and Conclusion](#6.6)\n",
    "\n",
    "This chapter is about using supervised learning for a classification problem."
   ]
  },
  {
   "cell_type": "markdown",
   "metadata": {
    "id": "mn9pcSO_uUk2"
   },
   "source": [
    "---\n",
    "<a name='introduction'></a><a id='introduction'></a>\n",
    "# Introduction\n",
    "<a href=\"#top\">[back to top]</a>\n",
    "\n",
    "### Dataset\n",
    "\n",
    "* Java Development Tools Bug dataset: [script](#eclipse_jdt.csv.gz), [source](https://github.com/blueprints-for-text-analytics-python/blueprints-text/raw/master/data/jdt-bugs-dataset/eclipse_jdt.csv.gz)\n",
    "\n",
    "### Explore\n",
    "\n",
    "* Applying supervised learning.\n",
    "* Splitting data into train and test sets.\n",
    "* Validating model performance using accuracy measures.\n",
    "* Applying cross-validation techniques. \n",
    "* Different types of text classification."
   ]
  },
  {
   "cell_type": "markdown",
   "metadata": {
    "id": "otC1d0YOuUk3"
   },
   "source": [
    "---\n",
    "<a name='6.0'></a><a id='6.0'></a>\n",
    "# 6.0 Imports and Setup\n",
    "<a href=\"#top\">[back to top]</a>"
   ]
  },
  {
   "cell_type": "code",
   "execution_count": 16,
   "metadata": {
    "id": "Qxu_MwyKZPtg"
   },
   "outputs": [],
   "source": [
    "# Start with clean project\n",
    "# !rm -f *.gz \n",
    "# !rm -f *.py \n",
    "# !rm -f *.txt"
   ]
  },
  {
   "cell_type": "code",
   "execution_count": 17,
   "metadata": {
    "id": "eU1fd-_lI8ts"
   },
   "outputs": [],
   "source": [
    "req_file = \"requirements_06.txt\""
   ]
  },
  {
   "cell_type": "code",
   "execution_count": 18,
   "metadata": {
    "colab": {
     "base_uri": "https://localhost:8080/"
    },
    "id": "ATO_GMrDJSBp",
    "outputId": "38cd16f4-7876-4f6c-fdf2-dbc716fbd1fa"
   },
   "outputs": [
    {
     "name": "stdout",
     "output_type": "stream",
     "text": [
      "Overwriting requirements_06.txt\n"
     ]
    }
   ],
   "source": [
    "%%writefile {req_file}\n",
    "isort\n",
    "tqdm\n",
    "watermark"
   ]
  },
  {
   "cell_type": "code",
   "execution_count": 19,
   "metadata": {
    "colab": {
     "base_uri": "https://localhost:8080/"
    },
    "id": "s3SvDwxpJSFT",
    "outputId": "690065bd-aa8b-4b6f-b1f5-73937c2d6db8"
   },
   "outputs": [
    {
     "name": "stdout",
     "output_type": "stream",
     "text": [
      "Running locally.\n"
     ]
    }
   ],
   "source": [
    "import sys\n",
    "\n",
    "IS_COLAB = 'google.colab' in sys.modules\n",
    "if IS_COLAB:\n",
    "    print(\"Installing packages\")\n",
    "    !pip install --upgrade --quiet -r {req_file}\n",
    "else:\n",
    "    print(\"Running locally.\")"
   ]
  },
  {
   "cell_type": "code",
   "execution_count": 20,
   "metadata": {
    "colab": {
     "base_uri": "https://localhost:8080/"
    },
    "id": "29gQ_CjkuUk8",
    "outputId": "30e3c8c5-6b91-400f-c32b-2d8caa9430bb"
   },
   "outputs": [
    {
     "name": "stdout",
     "output_type": "stream",
     "text": [
      "Overwriting imports.py\n"
     ]
    }
   ],
   "source": [
    "%%writefile imports.py\n",
    "import html\n",
    "import locale\n",
    "import pprint\n",
    "import re\n",
    "import warnings\n",
    "\n",
    "import matplotlib.pyplot as plt\n",
    "import pandas as pd\n",
    "import seaborn as sns\n",
    "import spacy\n",
    "from sklearn.dummy import DummyClassifier\n",
    "from sklearn.feature_extraction.text import TfidfVectorizer\n",
    "from sklearn.metrics import (ConfusionMatrixDisplay, accuracy_score,\n",
    "                             classification_report, confusion_matrix)\n",
    "from sklearn.model_selection import (GridSearchCV, cross_val_score,\n",
    "                                     train_test_split)\n",
    "from sklearn.pipeline import Pipeline\n",
    "from sklearn.svm import SVC, LinearSVC\n",
    "from spacy.tokens import Span, Token\n",
    "from tqdm.auto import tqdm\n",
    "from watermark import watermark"
   ]
  },
  {
   "cell_type": "code",
   "execution_count": 21,
   "metadata": {
    "colab": {
     "base_uri": "https://localhost:8080/"
    },
    "id": "v9ZhWGQ1uUk9",
    "outputId": "32530952-a01b-4cce-c42b-c048198d24b3"
   },
   "outputs": [
    {
     "name": "stdout",
     "output_type": "stream",
     "text": [
      "import html\n",
      "import locale\n",
      "import pprint\n",
      "import re\n",
      "import warnings\n",
      "\n",
      "import matplotlib.pyplot as plt\n",
      "import pandas as pd\n",
      "import seaborn as sns\n",
      "import spacy\n",
      "from sklearn.dummy import DummyClassifier\n",
      "from sklearn.feature_extraction.text import TfidfVectorizer\n",
      "from sklearn.metrics import (ConfusionMatrixDisplay, accuracy_score,\n",
      "                             classification_report, confusion_matrix)\n",
      "from sklearn.model_selection import (GridSearchCV, cross_val_score,\n",
      "                                     train_test_split)\n",
      "from sklearn.pipeline import Pipeline\n",
      "from sklearn.svm import SVC, LinearSVC\n",
      "from spacy.tokens import Span, Token\n",
      "from tqdm.auto import tqdm\n",
      "from watermark import watermark\n"
     ]
    }
   ],
   "source": [
    "!isort imports.py\n",
    "!cat imports.py"
   ]
  },
  {
   "cell_type": "code",
   "execution_count": 22,
   "metadata": {
    "colab": {
     "base_uri": "https://localhost:8080/"
    },
    "id": "tDROH5uouUk-",
    "outputId": "a8493229-1f85-457d-d4b5-a23689664827"
   },
   "outputs": [],
   "source": [
    "# Place at top to patch scikit-learn algorithms\n",
    "import html\n",
    "import locale\n",
    "import pprint\n",
    "import re\n",
    "import warnings\n",
    "\n",
    "import matplotlib.pyplot as plt\n",
    "import pandas as pd\n",
    "import seaborn as sns\n",
    "import spacy\n",
    "from sklearn.dummy import DummyClassifier\n",
    "from sklearn.feature_extraction.text import TfidfVectorizer\n",
    "from sklearn.metrics import (ConfusionMatrixDisplay, accuracy_score,\n",
    "                             classification_report, confusion_matrix)\n",
    "from sklearn.model_selection import (GridSearchCV, cross_val_score,\n",
    "                                     train_test_split)\n",
    "from sklearn.pipeline import Pipeline\n",
    "from sklearn.svm import SVC, LinearSVC\n",
    "from spacy.tokens import Span, Token\n",
    "from tqdm.auto import tqdm\n",
    "from watermark import watermark"
   ]
  },
  {
   "cell_type": "code",
   "execution_count": 23,
   "metadata": {
    "colab": {
     "base_uri": "https://localhost:8080/"
    },
    "id": "KS_q5__6I8tu",
    "outputId": "47918a14-0294-416a-f8b4-a0a56a29e586"
   },
   "outputs": [
    {
     "name": "stdout",
     "output_type": "stream",
     "text": [
      "Python implementation: CPython\n",
      "Python version       : 3.11.5\n",
      "IPython version      : 8.18.1\n",
      "\n",
      "Compiler    : Clang 14.0.0 (clang-1400.0.29.202)\n",
      "OS          : Darwin\n",
      "Release     : 21.6.0\n",
      "Machine     : x86_64\n",
      "Processor   : i386\n",
      "CPU cores   : 4\n",
      "Architecture: 64bit\n",
      "\n",
      "spacy     : 3.7.4\n",
      "pandas    : 2.2.2\n",
      "matplotlib: 3.9.2\n",
      "re        : 2.2.1\n",
      "seaborn   : 0.13.2\n",
      "sys       : 3.11.5 (main, Jan 16 2024, 17:25:53) [Clang 14.0.0 (clang-1400.0.29.202)]\n",
      "\n"
     ]
    }
   ],
   "source": [
    "def HR():\n",
    "    print(\"-\"*40)\n",
    "    \n",
    "def getpreferredencoding(do_setlocale = True):\n",
    "    return \"UTF-8\"\n",
    "\n",
    "locale.getpreferredencoding = getpreferredencoding\n",
    "warnings.filterwarnings('ignore')\n",
    "BASE_DIR = '.'\n",
    "sns.set_style(\"darkgrid\")\n",
    "tqdm.pandas(desc=\"progress-bar\")\n",
    "pp = pprint.PrettyPrinter(indent=4)\n",
    "\n",
    "print(watermark(iversions=True, globals_=globals(),python=True, machine=True))"
   ]
  },
  {
   "cell_type": "code",
   "execution_count": 24,
   "metadata": {
    "id": "KCYMHGTyLGCA"
   },
   "outputs": [],
   "source": [
    "def clean(text):\n",
    "    # convert html escapes like &amp; to characters.\n",
    "    text = html.unescape(text) \n",
    "    # tags like <tab>\n",
    "    text = re.sub(r'<[^<>]*>', ' ', text)\n",
    "    # markdown URLs like [Some text](https://....)\n",
    "    text = re.sub(r'\\[([^\\[\\]]*)\\]\\([^\\(\\)]*\\)', r'\\1', text)\n",
    "    # text or code in brackets like [0]\n",
    "    text = re.sub(r'\\[[^\\[\\]]*\\]', ' ', text)\n",
    "    # standalone sequences of specials, matches &# but not #cool\n",
    "    text = re.sub(r'(?:^|\\s)[&#<>{}\\[\\]+|\\\\:-]{1,}(?:\\s|$)', ' ', text)\n",
    "    # standalone sequences of hyphens like --- or ==\n",
    "    text = re.sub(r'(?:^|\\s)[\\-=\\+]{2,}(?:\\s|$)', ' ', text)\n",
    "    # sequences of white spaces\n",
    "    text = re.sub(r'\\s+', ' ', text)\n",
    "    return text.strip()"
   ]
  },
  {
   "cell_type": "markdown",
   "metadata": {},
   "source": [
    "<a id='eclipse_jdt.csv.gz'></a><a name='eclipse_jdt.csv.gz'></a>\n",
    "### Dataset: eclipse_jdt.csv.gz\n",
    "<a href=\"#top\">[back to top]</a>"
   ]
  },
  {
   "cell_type": "code",
   "execution_count": 25,
   "metadata": {
    "colab": {
     "base_uri": "https://localhost:8080/"
    },
    "id": "Q98RZLIqJkg6",
    "outputId": "cb4e5310-d930-4430-acce-3d741622efdf"
   },
   "outputs": [
    {
     "name": "stdout",
     "output_type": "stream",
     "text": [
      "The file eclipse_jdt.csv exists\n",
      "-rw-r--r--  1 gpb  staff  56958441 11  2 17:01 eclipse_jdt.csv\n"
     ]
    }
   ],
   "source": [
    "import os\n",
    "file_path = \"eclipse_jdt.csv\"\n",
    "\n",
    "if not os.path.exists(file_path):\n",
    "    print(f\"The file {file_path} does not exist\")\n",
    "    !wget -nc -q https://github.com/blueprints-for-text-analytics-python/blueprints-text/raw/master/data/jdt-bugs-dataset/eclipse_jdt.csv.gz\n",
    "    !gunzip eclipse_jdt.csv.gz\n",
    "else:\n",
    "    print(f\"The file {file_path} exists\")\n",
    "\n",
    "# # !wget https://github.com/blueprints-for-text-analytics-python/blueprints-text/raw/master/data/jdt-bugs-dataset/eclipse_jdt.csv.gz\n",
    "# !wget -nc -q https://github.com/blueprints-for-text-analytics-python/blueprints-text/raw/master/data/jdt-bugs-dataset/eclipse_jdt.csv.gz\n",
    "\n",
    "!ls -l {file_path}\n"
   ]
  },
  {
   "cell_type": "code",
   "execution_count": 26,
   "metadata": {},
   "outputs": [
    {
     "name": "stdout",
     "output_type": "stream",
     "text": [
      "total 111392\n",
      "-rw-r--r--  1 gpb  staff       516 11  2 13:20 README.md\n",
      "-rw-r--r--  1 gpb  staff     57354 11  2 19:33 chp06_Text_Classification.ipynb\n",
      "-rw-r--r--  1 gpb  staff  56958441 11  2 17:01 eclipse_jdt.csv\n",
      "-rw-r--r--  1 gpb  staff       691 11  2 19:33 imports.py\n",
      "-rw-r--r--  1 gpb  staff        21 11  2 19:33 requirements_06.txt\n"
     ]
    }
   ],
   "source": [
    "!ls -l"
   ]
  },
  {
   "cell_type": "markdown",
   "metadata": {
    "id": "qm5P2ozHuUlD"
   },
   "source": [
    "---\n",
    "<a name='6.1'></a><a id='6.1'></a>\n",
    "# 6.1 Introducing the Java Development Tools Bug Dataset\n",
    "<a href=\"#top\">[back to top]</a>\n",
    "\n",
    "Here we classify bugs and issues raised during the development of the Java Development Tools (JDT) open source project.\n",
    "\n",
    "We load a CSV file that contains the JDT bugs dataset. This dataset contains 45,296 bugs and some of the available characteristics for each bug"
   ]
  },
  {
   "cell_type": "code",
   "execution_count": 27,
   "metadata": {
    "colab": {
     "base_uri": "https://localhost:8080/"
    },
    "id": "yQbR0rrjI8tx",
    "outputId": "90bcce4e-5805-4899-ee25-e13900c5877f"
   },
   "outputs": [
    {
     "name": "stdout",
     "output_type": "stream",
     "text": [
      "<class 'pandas.core.frame.DataFrame'>\n",
      "RangeIndex: 45296 entries, 0 to 45295\n",
      "Data columns (total 11 columns):\n",
      " #   Column            Non-Null Count  Dtype  \n",
      "---  ------            --------------  -----  \n",
      " 0   Issue_id          45296 non-null  int64  \n",
      " 1   Priority          45296 non-null  object \n",
      " 2   Component         45296 non-null  object \n",
      " 3   Duplicated_issue  7688 non-null   float64\n",
      " 4   Title             45296 non-null  object \n",
      " 5   Description       45253 non-null  object \n",
      " 6   Status            45296 non-null  object \n",
      " 7   Resolution        45296 non-null  object \n",
      " 8   Version           45296 non-null  object \n",
      " 9   Created_time      45296 non-null  object \n",
      " 10  Resolved_time     45296 non-null  object \n",
      "dtypes: float64(1), int64(1), object(9)\n",
      "memory usage: 3.8+ MB\n"
     ]
    }
   ],
   "source": [
    "# 45K\n",
    "file=\"eclipse_jdt.csv\"\n",
    "df_orig = pd.read_csv(file)\n",
    "df_orig.info()"
   ]
  },
  {
   "cell_type": "code",
   "execution_count": 28,
   "metadata": {
    "colab": {
     "base_uri": "https://localhost:8080/"
    },
    "id": "Rbw1YH92a3nW",
    "outputId": "6f4fc733-993f-4cdf-91aa-80a6ddd8ccf1"
   },
   "outputs": [
    {
     "name": "stdout",
     "output_type": "stream",
     "text": [
      "<class 'pandas.core.frame.DataFrame'>\n",
      "Index: 20000 entries, 15795 to 3754\n",
      "Data columns (total 11 columns):\n",
      " #   Column            Non-Null Count  Dtype  \n",
      "---  ------            --------------  -----  \n",
      " 0   Issue_id          20000 non-null  int64  \n",
      " 1   Priority          20000 non-null  object \n",
      " 2   Component         20000 non-null  object \n",
      " 3   Duplicated_issue  3403 non-null   float64\n",
      " 4   Title             20000 non-null  object \n",
      " 5   Description       19982 non-null  object \n",
      " 6   Status            20000 non-null  object \n",
      " 7   Resolution        20000 non-null  object \n",
      " 8   Version           20000 non-null  object \n",
      " 9   Created_time      20000 non-null  object \n",
      " 10  Resolved_time     20000 non-null  object \n",
      "dtypes: float64(1), int64(1), object(9)\n",
      "memory usage: 1.8+ MB\n"
     ]
    }
   ],
   "source": [
    "df = df_orig.sample(n=20_000, replace=True, random_state=42)\n",
    "df.info()"
   ]
  },
  {
   "cell_type": "code",
   "execution_count": 29,
   "metadata": {
    "colab": {
     "base_uri": "https://localhost:8080/",
     "height": 111
    },
    "id": "_gaJfXy6uUlF",
    "outputId": "ddb3e73a-88b1-443f-d63e-216da90c6116"
   },
   "outputs": [
    {
     "data": {
      "text/html": [
       "<div>\n",
       "<style scoped>\n",
       "    .dataframe tbody tr th:only-of-type {\n",
       "        vertical-align: middle;\n",
       "    }\n",
       "\n",
       "    .dataframe tbody tr th {\n",
       "        vertical-align: top;\n",
       "    }\n",
       "\n",
       "    .dataframe thead th {\n",
       "        text-align: right;\n",
       "    }\n",
       "</style>\n",
       "<table border=\"1\" class=\"dataframe\">\n",
       "  <thead>\n",
       "    <tr style=\"text-align: right;\">\n",
       "      <th></th>\n",
       "      <th>Issue_id</th>\n",
       "      <th>Priority</th>\n",
       "      <th>Component</th>\n",
       "      <th>Title</th>\n",
       "      <th>Description</th>\n",
       "    </tr>\n",
       "  </thead>\n",
       "  <tbody>\n",
       "    <tr>\n",
       "      <th>9777</th>\n",
       "      <td>27301</td>\n",
       "      <td>P3</td>\n",
       "      <td>Core</td>\n",
       "      <td>Cannot use CVS keywords in code templates</td>\n",
       "      <td>I wanted to generate my own file template whic...</td>\n",
       "    </tr>\n",
       "    <tr>\n",
       "      <th>37574</th>\n",
       "      <td>223495</td>\n",
       "      <td>P3</td>\n",
       "      <td>Core</td>\n",
       "      <td>[assist] Member types of missing parametrized ...</td>\n",
       "      <td>build I20080318-0800; ; 1) create p/A.java; pa...</td>\n",
       "    </tr>\n",
       "  </tbody>\n",
       "</table>\n",
       "</div>"
      ],
      "text/plain": [
       "       Issue_id Priority Component  \\\n",
       "9777      27301       P3      Core   \n",
       "37574    223495       P3      Core   \n",
       "\n",
       "                                                   Title  \\\n",
       "9777           Cannot use CVS keywords in code templates   \n",
       "37574  [assist] Member types of missing parametrized ...   \n",
       "\n",
       "                                             Description  \n",
       "9777   I wanted to generate my own file template whic...  \n",
       "37574  build I20080318-0800; ; 1) create p/A.java; pa...  "
      ]
     },
     "execution_count": 29,
     "metadata": {},
     "output_type": "execute_result"
    }
   ],
   "source": [
    "df[['Issue_id','Priority','Component','Title','Description']].sample(2, random_state=42)"
   ]
  },
  {
   "cell_type": "code",
   "execution_count": 30,
   "metadata": {
    "colab": {
     "base_uri": "https://localhost:8080/",
     "height": 359
    },
    "id": "fPTjGIuFI8ty",
    "outputId": "f5023977-3cd6-4c30-cdf4-df47ecad5df0"
   },
   "outputs": [
    {
     "data": {
      "text/html": [
       "<div>\n",
       "<style scoped>\n",
       "    .dataframe tbody tr th:only-of-type {\n",
       "        vertical-align: middle;\n",
       "    }\n",
       "\n",
       "    .dataframe tbody tr th {\n",
       "        vertical-align: top;\n",
       "    }\n",
       "\n",
       "    .dataframe thead th {\n",
       "        text-align: right;\n",
       "    }\n",
       "</style>\n",
       "<table border=\"1\" class=\"dataframe\">\n",
       "  <thead>\n",
       "    <tr style=\"text-align: right;\">\n",
       "      <th></th>\n",
       "      <th>44513</th>\n",
       "    </tr>\n",
       "  </thead>\n",
       "  <tbody>\n",
       "    <tr>\n",
       "      <th>Issue_id</th>\n",
       "      <td>404003</td>\n",
       "    </tr>\n",
       "    <tr>\n",
       "      <th>Priority</th>\n",
       "      <td>P3</td>\n",
       "    </tr>\n",
       "    <tr>\n",
       "      <th>Component</th>\n",
       "      <td>Core</td>\n",
       "    </tr>\n",
       "    <tr>\n",
       "      <th>Title</th>\n",
       "      <td>[1.8][dom ast] CCE in ASTConverter on cast to ...</td>\n",
       "    </tr>\n",
       "    <tr>\n",
       "      <th>Description</th>\n",
       "      <td>BETA_JAVA8; ; public class BugA {; \\tvoid foo(...</td>\n",
       "    </tr>\n",
       "    <tr>\n",
       "      <th>Status</th>\n",
       "      <td>CLOSED</td>\n",
       "    </tr>\n",
       "    <tr>\n",
       "      <th>Resolution</th>\n",
       "      <td>DUPLICATE</td>\n",
       "    </tr>\n",
       "    <tr>\n",
       "      <th>Version</th>\n",
       "      <td>4.3</td>\n",
       "    </tr>\n",
       "    <tr>\n",
       "      <th>Created_time</th>\n",
       "      <td>2013-03-21 06:35:00 -0400</td>\n",
       "    </tr>\n",
       "    <tr>\n",
       "      <th>Resolved_time</th>\n",
       "      <td>2013-10-14 21:04:46 -0400</td>\n",
       "    </tr>\n",
       "  </tbody>\n",
       "</table>\n",
       "</div>"
      ],
      "text/plain": [
       "                                                           44513\n",
       "Issue_id                                                  404003\n",
       "Priority                                                      P3\n",
       "Component                                                   Core\n",
       "Title          [1.8][dom ast] CCE in ASTConverter on cast to ...\n",
       "Description    BETA_JAVA8; ; public class BugA {; \\tvoid foo(...\n",
       "Status                                                    CLOSED\n",
       "Resolution                                             DUPLICATE\n",
       "Version                                                      4.3\n",
       "Created_time                           2013-03-21 06:35:00 -0400\n",
       "Resolved_time                          2013-10-14 21:04:46 -0400"
      ]
     },
     "execution_count": 30,
     "metadata": {},
     "output_type": "execute_result"
    }
   ],
   "source": [
    "# Explore a single bug report\n",
    "df = df.drop(columns=['Duplicated_issue'])\n",
    "df.sample(1, random_state=123).T"
   ]
  },
  {
   "cell_type": "code",
   "execution_count": 31,
   "metadata": {
    "colab": {
     "base_uri": "https://localhost:8080/",
     "height": 268
    },
    "id": "EH7khbopI8tz",
    "outputId": "4e09d920-735a-4b9f-fded-aa7c5026fe4a"
   },
   "outputs": [
    {
     "data": {
      "image/png": "[encoded data removed]",
      "text/plain": [
       "<Figure size 640x480 with 1 Axes>"
      ]
     },
     "metadata": {},
     "output_type": "display_data"
    }
   ],
   "source": [
    "# Distribution of bug reports across different priorities\n",
    "df['Priority'].value_counts().sort_index().plot(kind='bar')\n",
    "plt.show()"
   ]
  },
  {
   "cell_type": "markdown",
   "metadata": {
    "id": "2kmqYhLLuUlI"
   },
   "source": [
    "Check how many bugs are reported against each component of the JDT."
   ]
  },
  {
   "cell_type": "code",
   "execution_count": 32,
   "metadata": {
    "colab": {
     "base_uri": "https://localhost:8080/"
    },
    "id": "Y0SEE3x8I8tz",
    "outputId": "edade1ef-d4a7-4087-dcfd-44cd28af7a38"
   },
   "outputs": [
    {
     "data": {
      "text/plain": [
       "Component\n",
       "UI       7808\n",
       "Core     5976\n",
       "Debug    3273\n",
       "Text     2644\n",
       "APT       164\n",
       "Doc       135\n",
       "Name: count, dtype: int64"
      ]
     },
     "execution_count": 32,
     "metadata": {},
     "output_type": "execute_result"
    }
   ],
   "source": [
    "df['Component'].value_counts()"
   ]
  },
  {
   "cell_type": "markdown",
   "metadata": {
    "id": "YYb2AOF6I8t0"
   },
   "source": [
    "---\n",
    "<a name='6.2'></a><a id='6.2'></a>\n",
    "# 6.2 Blueprint: Building a Text Classification system\n",
    "<a href=\"#top\">[back to top]</a>\n",
    "\n",
    "This text classification system will use supervised learning."
   ]
  },
  {
   "cell_type": "markdown",
   "metadata": {
    "id": "Y0MDpgR7I8t0"
   },
   "source": [
    "<a name='6.2.1'></a><a id='6.2.1'></a>\n",
    "## 6.2.1 Step 1: Data Preparation\n",
    "<a href=\"#top\">[back to top]</a>\n",
    "\n",
    "Before building the text classfication model, we must clean the data, and restructure the data-structure of the dataset suitable for the selected machine learning algorithm."
   ]
  },
  {
   "cell_type": "code",
   "execution_count": 33,
   "metadata": {
    "colab": {
     "base_uri": "https://localhost:8080/"
    },
    "id": "_QC-4SfNI8t1",
    "outputId": "df153bfd-6ba0-42af-9166-edf22fb222b4"
   },
   "outputs": [
    {
     "name": "stdout",
     "output_type": "stream",
     "text": [
      "Index(['Issue_id', 'Priority', 'Component', 'Title', 'Description', 'Status',\n",
      "       'Resolution', 'Version', 'Created_time', 'Resolved_time'],\n",
      "      dtype='object')\n"
     ]
    }
   ],
   "source": [
    "print(df.columns)"
   ]
  },
  {
   "cell_type": "code",
   "execution_count": 34,
   "metadata": {
    "colab": {
     "base_uri": "https://localhost:8080/"
    },
    "id": "17Trxme2I8t1",
    "outputId": "e5853b78-8d9f-4368-a289-f3c9e828f668"
   },
   "outputs": [
    {
     "data": {
      "text/plain": [
       "Index(['Priority', 'text'], dtype='object')"
      ]
     },
     "execution_count": 34,
     "metadata": {},
     "output_type": "execute_result"
    }
   ],
   "source": [
    "df = df[['Title','Description','Priority']]\n",
    "df = df.dropna()\n",
    "df['text'] = df['Title'] + ' ' + df['Description']\n",
    "df = df.drop(columns=['Title','Description'])\n",
    "df.columns"
   ]
  },
  {
   "cell_type": "code",
   "execution_count": 35,
   "metadata": {
    "colab": {
     "base_uri": "https://localhost:8080/",
     "height": 143,
     "referenced_widgets": [
      "cf5cadf9cbb04cefb58706fbae26ffda",
      "0e7e539de35448b7a29249c1ea33561a",
      "30f223ef43ef4a009c8fcf85c32351f5",
      "b5697344523048d09e04c9793718f4f6",
      "f6493e29966242259a3b4c4edae09109",
      "0a0d4d02efdf4a0985b134a253c9ec53",
      "5487a8f191314330a5ac24545ef2b4d9",
      "3c5367ac15bc4b4290d0a80961046872",
      "fcab55a8aaaa430f841f24d341eced63",
      "d053e874cddd4cd5977b449c2c44e3a5",
      "b4c0d67d661f42338e07784e46aa7ae2"
     ]
    },
    "id": "PU8X1ThoI8t2",
    "outputId": "8d8eeace-eece-4ef7-90f8-ca1997caf6b7"
   },
   "outputs": [
    {
     "data": {
      "application/vnd.jupyter.widget-view+json": {
       "model_id": "9e486b0ad08249ef874e0ab0780c1efa",
       "version_major": 2,
       "version_minor": 0
      },
      "text/plain": [
       "progress-bar:   0%|          | 0/19982 [00:00<?, ?it/s]"
      ]
     },
     "metadata": {},
     "output_type": "display_data"
    },
    {
     "data": {
      "text/html": [
       "<div>\n",
       "<style scoped>\n",
       "    .dataframe tbody tr th:only-of-type {\n",
       "        vertical-align: middle;\n",
       "    }\n",
       "\n",
       "    .dataframe tbody tr th {\n",
       "        vertical-align: top;\n",
       "    }\n",
       "\n",
       "    .dataframe thead th {\n",
       "        text-align: right;\n",
       "    }\n",
       "</style>\n",
       "<table border=\"1\" class=\"dataframe\">\n",
       "  <thead>\n",
       "    <tr style=\"text-align: right;\">\n",
       "      <th></th>\n",
       "      <th>Priority</th>\n",
       "      <th>text</th>\n",
       "    </tr>\n",
       "  </thead>\n",
       "  <tbody>\n",
       "    <tr>\n",
       "      <th>6895</th>\n",
       "      <td>P3</td>\n",
       "      <td>Extension point for Java decompiler Currently ...</td>\n",
       "    </tr>\n",
       "    <tr>\n",
       "      <th>33043</th>\n",
       "      <td>P3</td>\n",
       "      <td>Refactoring History Property page showing in w...</td>\n",
       "    </tr>\n",
       "  </tbody>\n",
       "</table>\n",
       "</div>"
      ],
      "text/plain": [
       "      Priority                                               text\n",
       "6895        P3  Extension point for Java decompiler Currently ...\n",
       "33043       P3  Refactoring History Property page showing in w..."
      ]
     },
     "execution_count": 35,
     "metadata": {},
     "output_type": "execute_result"
    }
   ],
   "source": [
    "df['text'] = df['text'].progress_apply(clean)\n",
    "df = df[df['text'].str.len() > 50]\n",
    "df.sample(2, random_state=0)"
   ]
  },
  {
   "cell_type": "markdown",
   "metadata": {
    "id": "tdU0p4ONI8t2"
   },
   "source": [
    "<a name='6.2.2'></a><a id='6.2.2'></a>\n",
    "## 6.2.2 Step 2: Train-Test Split\n",
    "<a href=\"#top\">[back to top]</a>\n",
    "\n",
    "The default ratio is 80-20. 80 observations will become part of the train split and 20 observations will become part of the test split. "
   ]
  },
  {
   "cell_type": "code",
   "execution_count": 36,
   "metadata": {
    "colab": {
     "base_uri": "https://localhost:8080/"
    },
    "id": "seyqcj8WI8t2",
    "outputId": "686bf325-4c9f-4eb7-f49e-eb2ecf0ac04b"
   },
   "outputs": [
    {
     "name": "stdout",
     "output_type": "stream",
     "text": [
      "Size of Training Data:  15902\n",
      "Size of Test Data:  3976\n"
     ]
    }
   ],
   "source": [
    "X_train, X_test, Y_train, Y_test = train_test_split(\n",
    "    df['text'],\n",
    "    df['Priority'],\n",
    "    test_size=0.2,\n",
    "    random_state=42,\n",
    "    stratify=df['Priority']\n",
    ")\n",
    "\n",
    "print('Size of Training Data: ', X_train.shape[0])\n",
    "print('Size of Test Data: ', X_test.shape[0])"
   ]
  },
  {
   "cell_type": "markdown",
   "metadata": {
    "id": "eRthsP-ZI8t3"
   },
   "source": [
    "<a name='6.2.3'></a><a id='6.2.3'></a>\n",
    "## 6.2.3 Step 3: Training the Machine Learning Model\n",
    "<a href=\"#top\">[back to top]</a>\n",
    "\n",
    "The SVM algorithm is preferred when working with text data because it is more suited to work with sparse data compared to other algorithms like Random Forest. They are also better suited to work with input features that are purely numeric (as in our case), while other algorithms are capable of handling a mixture of numeric and categorical input features.\n",
    "\n",
    "In order to use SVM, we must prepare the dataset where we represent text data in numeric format. Here, we use the preferred option of representing the text using a Term-Frequency Inverse Document Frequency (TF- IDF) vectorization. This results in a sparse matrix"
   ]
  },
  {
   "cell_type": "code",
   "execution_count": 37,
   "metadata": {
    "colab": {
     "base_uri": "https://localhost:8080/"
    },
    "id": "uZJ6Bso0I8t4",
    "outputId": "e92b2b89-f9f7-4ecb-813a-964eda34cc56"
   },
   "outputs": [
    {
     "data": {
      "text/plain": [
       "<Compressed Sparse Row sparse matrix of dtype 'float64'\n",
       "\twith 1158235 stored elements and shape (15902, 18440)>"
      ]
     },
     "execution_count": 37,
     "metadata": {},
     "output_type": "execute_result"
    }
   ],
   "source": [
    "tfidf = TfidfVectorizer(min_df = 10, ngram_range=(1,2), stop_words=\"english\")\n",
    "\n",
    "X_train_tf = tfidf.fit_transform(X_train)\n",
    "X_train_tf"
   ]
  },
  {
   "cell_type": "markdown",
   "metadata": {
    "id": "sGOKJk7UuUlQ"
   },
   "source": [
    "This linear kernel is recommended for text data since there are a large number of features that can be considered linearly separable. It is also faster to fit since it has fewer parameters to optimize."
   ]
  },
  {
   "cell_type": "code",
   "execution_count": 38,
   "metadata": {
    "colab": {
     "base_uri": "https://localhost:8080/",
     "height": 74
    },
    "id": "QoTK-XrpI8t4",
    "outputId": "b9377b7a-3fea-4675-bd5d-f1067f141878"
   },
   "outputs": [
    {
     "data": {
      "text/html": [
       "<style>#sk-container-id-1 {\n",
       "  /* Definition of color scheme common for light and dark mode */\n",
       "  --sklearn-color-text: black;\n",
       "  --sklearn-color-line: gray;\n",
       "  /* Definition of color scheme for unfitted estimators */\n",
       "  --sklearn-color-unfitted-level-0: #fff5e6;\n",
       "  --sklearn-color-unfitted-level-1: #f6e4d2;\n",
       "  --sklearn-color-unfitted-level-2: #ffe0b3;\n",
       "  --sklearn-color-unfitted-level-3: chocolate;\n",
       "  /* Definition of color scheme for fitted estimators */\n",
       "  --sklearn-color-fitted-level-0: #f0f8ff;\n",
       "  --sklearn-color-fitted-level-1: #d4ebff;\n",
       "  --sklearn-color-fitted-level-2: #b3dbfd;\n",
       "  --sklearn-color-fitted-level-3: cornflowerblue;\n",
       "\n",
       "  /* Specific color for light theme */\n",
       "  --sklearn-color-text-on-default-background: var(--sg-text-color, var(--theme-code-foreground, var(--jp-content-font-color1, black)));\n",
       "  --sklearn-color-background: var(--sg-background-color, var(--theme-background, var(--jp-layout-color0, white)));\n",
       "  --sklearn-color-border-box: var(--sg-text-color, var(--theme-code-foreground, var(--jp-content-font-color1, black)));\n",
       "  --sklearn-color-icon: #696969;\n",
       "\n",
       "  @media (prefers-color-scheme: dark) {\n",
       "    /* Redefinition of color scheme for dark theme */\n",
       "    --sklearn-color-text-on-default-background: var(--sg-text-color, var(--theme-code-foreground, var(--jp-content-font-color1, white)));\n",
       "    --sklearn-color-background: var(--sg-background-color, var(--theme-background, var(--jp-layout-color0, #111)));\n",
       "    --sklearn-color-border-box: var(--sg-text-color, var(--theme-code-foreground, var(--jp-content-font-color1, white)));\n",
       "    --sklearn-color-icon: #878787;\n",
       "  }\n",
       "}\n",
       "\n",
       "#sk-container-id-1 {\n",
       "  color: var(--sklearn-color-text);\n",
       "}\n",
       "\n",
       "#sk-container-id-1 pre {\n",
       "  padding: 0;\n",
       "}\n",
       "\n",
       "#sk-container-id-1 input.sk-hidden--visually {\n",
       "  border: 0;\n",
       "  clip: rect(1px 1px 1px 1px);\n",
       "  clip: rect(1px, 1px, 1px, 1px);\n",
       "  height: 1px;\n",
       "  margin: -1px;\n",
       "  overflow: hidden;\n",
       "  padding: 0;\n",
       "  position: absolute;\n",
       "  width: 1px;\n",
       "}\n",
       "\n",
       "#sk-container-id-1 div.sk-dashed-wrapped {\n",
       "  border: 1px dashed var(--sklearn-color-line);\n",
       "  margin: 0 0.4em 0.5em 0.4em;\n",
       "  box-sizing: border-box;\n",
       "  padding-bottom: 0.4em;\n",
       "  background-color: var(--sklearn-color-background);\n",
       "}\n",
       "\n",
       "#sk-container-id-1 div.sk-container {\n",
       "  /* jupyter's `normalize.less` sets `[hidden] { display: none; }`\n",
       "     but bootstrap.min.css set `[hidden] { display: none !important; }`\n",
       "     so we also need the `!important` here to be able to override the\n",
       "     default hidden behavior on the sphinx rendered scikit-learn.org.\n",
       "     See: https://github.com/scikit-learn/scikit-learn/issues/21755 */\n",
       "  display: inline-block !important;\n",
       "  position: relative;\n",
       "}\n",
       "\n",
       "#sk-container-id-1 div.sk-text-repr-fallback {\n",
       "  display: none;\n",
       "}\n",
       "\n",
       "div.sk-parallel-item,\n",
       "div.sk-serial,\n",
       "div.sk-item {\n",
       "  /* draw centered vertical line to link estimators */\n",
       "  background-image: linear-gradient(var(--sklearn-color-text-on-default-background), var(--sklearn-color-text-on-default-background));\n",
       "  background-size: 2px 100%;\n",
       "  background-repeat: no-repeat;\n",
       "  background-position: center center;\n",
       "}\n",
       "\n",
       "/* Parallel-specific style estimator block */\n",
       "\n",
       "#sk-container-id-1 div.sk-parallel-item::after {\n",
       "  content: \"\";\n",
       "  width: 100%;\n",
       "  border-bottom: 2px solid var(--sklearn-color-text-on-default-background);\n",
       "  flex-grow: 1;\n",
       "}\n",
       "\n",
       "#sk-container-id-1 div.sk-parallel {\n",
       "  display: flex;\n",
       "  align-items: stretch;\n",
       "  justify-content: center;\n",
       "  background-color: var(--sklearn-color-background);\n",
       "  position: relative;\n",
       "}\n",
       "\n",
       "#sk-container-id-1 div.sk-parallel-item {\n",
       "  display: flex;\n",
       "  flex-direction: column;\n",
       "}\n",
       "\n",
       "#sk-container-id-1 div.sk-parallel-item:first-child::after {\n",
       "  align-self: flex-end;\n",
       "  width: 50%;\n",
       "}\n",
       "\n",
       "#sk-container-id-1 div.sk-parallel-item:last-child::after {\n",
       "  align-self: flex-start;\n",
       "  width: 50%;\n",
       "}\n",
       "\n",
       "#sk-container-id-1 div.sk-parallel-item:only-child::after {\n",
       "  width: 0;\n",
       "}\n",
       "\n",
       "/* Serial-specific style estimator block */\n",
       "\n",
       "#sk-container-id-1 div.sk-serial {\n",
       "  display: flex;\n",
       "  flex-direction: column;\n",
       "  align-items: center;\n",
       "  background-color: var(--sklearn-color-background);\n",
       "  padding-right: 1em;\n",
       "  padding-left: 1em;\n",
       "}\n",
       "\n",
       "\n",
       "/* Toggleable style: style used for estimator/Pipeline/ColumnTransformer box that is\n",
       "clickable and can be expanded/collapsed.\n",
       "- Pipeline and ColumnTransformer use this feature and define the default style\n",
       "- Estimators will overwrite some part of the style using the `sk-estimator` class\n",
       "*/\n",
       "\n",
       "/* Pipeline and ColumnTransformer style (default) */\n",
       "\n",
       "#sk-container-id-1 div.sk-toggleable {\n",
       "  /* Default theme specific background. It is overwritten whether we have a\n",
       "  specific estimator or a Pipeline/ColumnTransformer */\n",
       "  background-color: var(--sklearn-color-background);\n",
       "}\n",
       "\n",
       "/* Toggleable label */\n",
       "#sk-container-id-1 label.sk-toggleable__label {\n",
       "  cursor: pointer;\n",
       "  display: block;\n",
       "  width: 100%;\n",
       "  margin-bottom: 0;\n",
       "  padding: 0.5em;\n",
       "  box-sizing: border-box;\n",
       "  text-align: center;\n",
       "}\n",
       "\n",
       "#sk-container-id-1 label.sk-toggleable__label-arrow:before {\n",
       "  /* Arrow on the left of the label */\n",
       "  content: \"▸\";\n",
       "  float: left;\n",
       "  margin-right: 0.25em;\n",
       "  color: var(--sklearn-color-icon);\n",
       "}\n",
       "\n",
       "#sk-container-id-1 label.sk-toggleable__label-arrow:hover:before {\n",
       "  color: var(--sklearn-color-text);\n",
       "}\n",
       "\n",
       "/* Toggleable content - dropdown */\n",
       "\n",
       "#sk-container-id-1 div.sk-toggleable__content {\n",
       "  max-height: 0;\n",
       "  max-width: 0;\n",
       "  overflow: hidden;\n",
       "  text-align: left;\n",
       "  /* unfitted */\n",
       "  background-color: var(--sklearn-color-unfitted-level-0);\n",
       "}\n",
       "\n",
       "#sk-container-id-1 div.sk-toggleable__content.fitted {\n",
       "  /* fitted */\n",
       "  background-color: var(--sklearn-color-fitted-level-0);\n",
       "}\n",
       "\n",
       "#sk-container-id-1 div.sk-toggleable__content pre {\n",
       "  margin: 0.2em;\n",
       "  border-radius: 0.25em;\n",
       "  color: var(--sklearn-color-text);\n",
       "  /* unfitted */\n",
       "  background-color: var(--sklearn-color-unfitted-level-0);\n",
       "}\n",
       "\n",
       "#sk-container-id-1 div.sk-toggleable__content.fitted pre {\n",
       "  /* unfitted */\n",
       "  background-color: var(--sklearn-color-fitted-level-0);\n",
       "}\n",
       "\n",
       "#sk-container-id-1 input.sk-toggleable__control:checked~div.sk-toggleable__content {\n",
       "  /* Expand drop-down */\n",
       "  max-height: 200px;\n",
       "  max-width: 100%;\n",
       "  overflow: auto;\n",
       "}\n",
       "\n",
       "#sk-container-id-1 input.sk-toggleable__control:checked~label.sk-toggleable__label-arrow:before {\n",
       "  content: \"▾\";\n",
       "}\n",
       "\n",
       "/* Pipeline/ColumnTransformer-specific style */\n",
       "\n",
       "#sk-container-id-1 div.sk-label input.sk-toggleable__control:checked~label.sk-toggleable__label {\n",
       "  color: var(--sklearn-color-text);\n",
       "  background-color: var(--sklearn-color-unfitted-level-2);\n",
       "}\n",
       "\n",
       "#sk-container-id-1 div.sk-label.fitted input.sk-toggleable__control:checked~label.sk-toggleable__label {\n",
       "  background-color: var(--sklearn-color-fitted-level-2);\n",
       "}\n",
       "\n",
       "/* Estimator-specific style */\n",
       "\n",
       "/* Colorize estimator box */\n",
       "#sk-container-id-1 div.sk-estimator input.sk-toggleable__control:checked~label.sk-toggleable__label {\n",
       "  /* unfitted */\n",
       "  background-color: var(--sklearn-color-unfitted-level-2);\n",
       "}\n",
       "\n",
       "#sk-container-id-1 div.sk-estimator.fitted input.sk-toggleable__control:checked~label.sk-toggleable__label {\n",
       "  /* fitted */\n",
       "  background-color: var(--sklearn-color-fitted-level-2);\n",
       "}\n",
       "\n",
       "#sk-container-id-1 div.sk-label label.sk-toggleable__label,\n",
       "#sk-container-id-1 div.sk-label label {\n",
       "  /* The background is the default theme color */\n",
       "  color: var(--sklearn-color-text-on-default-background);\n",
       "}\n",
       "\n",
       "/* On hover, darken the color of the background */\n",
       "#sk-container-id-1 div.sk-label:hover label.sk-toggleable__label {\n",
       "  color: var(--sklearn-color-text);\n",
       "  background-color: var(--sklearn-color-unfitted-level-2);\n",
       "}\n",
       "\n",
       "/* Label box, darken color on hover, fitted */\n",
       "#sk-container-id-1 div.sk-label.fitted:hover label.sk-toggleable__label.fitted {\n",
       "  color: var(--sklearn-color-text);\n",
       "  background-color: var(--sklearn-color-fitted-level-2);\n",
       "}\n",
       "\n",
       "/* Estimator label */\n",
       "\n",
       "#sk-container-id-1 div.sk-label label {\n",
       "  font-family: monospace;\n",
       "  font-weight: bold;\n",
       "  display: inline-block;\n",
       "  line-height: 1.2em;\n",
       "}\n",
       "\n",
       "#sk-container-id-1 div.sk-label-container {\n",
       "  text-align: center;\n",
       "}\n",
       "\n",
       "/* Estimator-specific */\n",
       "#sk-container-id-1 div.sk-estimator {\n",
       "  font-family: monospace;\n",
       "  border: 1px dotted var(--sklearn-color-border-box);\n",
       "  border-radius: 0.25em;\n",
       "  box-sizing: border-box;\n",
       "  margin-bottom: 0.5em;\n",
       "  /* unfitted */\n",
       "  background-color: var(--sklearn-color-unfitted-level-0);\n",
       "}\n",
       "\n",
       "#sk-container-id-1 div.sk-estimator.fitted {\n",
       "  /* fitted */\n",
       "  background-color: var(--sklearn-color-fitted-level-0);\n",
       "}\n",
       "\n",
       "/* on hover */\n",
       "#sk-container-id-1 div.sk-estimator:hover {\n",
       "  /* unfitted */\n",
       "  background-color: var(--sklearn-color-unfitted-level-2);\n",
       "}\n",
       "\n",
       "#sk-container-id-1 div.sk-estimator.fitted:hover {\n",
       "  /* fitted */\n",
       "  background-color: var(--sklearn-color-fitted-level-2);\n",
       "}\n",
       "\n",
       "/* Specification for estimator info (e.g. \"i\" and \"?\") */\n",
       "\n",
       "/* Common style for \"i\" and \"?\" */\n",
       "\n",
       ".sk-estimator-doc-link,\n",
       "a:link.sk-estimator-doc-link,\n",
       "a:visited.sk-estimator-doc-link {\n",
       "  float: right;\n",
       "  font-size: smaller;\n",
       "  line-height: 1em;\n",
       "  font-family: monospace;\n",
       "  background-color: var(--sklearn-color-background);\n",
       "  border-radius: 1em;\n",
       "  height: 1em;\n",
       "  width: 1em;\n",
       "  text-decoration: none !important;\n",
       "  margin-left: 1ex;\n",
       "  /* unfitted */\n",
       "  border: var(--sklearn-color-unfitted-level-1) 1pt solid;\n",
       "  color: var(--sklearn-color-unfitted-level-1);\n",
       "}\n",
       "\n",
       ".sk-estimator-doc-link.fitted,\n",
       "a:link.sk-estimator-doc-link.fitted,\n",
       "a:visited.sk-estimator-doc-link.fitted {\n",
       "  /* fitted */\n",
       "  border: var(--sklearn-color-fitted-level-1) 1pt solid;\n",
       "  color: var(--sklearn-color-fitted-level-1);\n",
       "}\n",
       "\n",
       "/* On hover */\n",
       "div.sk-estimator:hover .sk-estimator-doc-link:hover,\n",
       ".sk-estimator-doc-link:hover,\n",
       "div.sk-label-container:hover .sk-estimator-doc-link:hover,\n",
       ".sk-estimator-doc-link:hover {\n",
       "  /* unfitted */\n",
       "  background-color: var(--sklearn-color-unfitted-level-3);\n",
       "  color: var(--sklearn-color-background);\n",
       "  text-decoration: none;\n",
       "}\n",
       "\n",
       "div.sk-estimator.fitted:hover .sk-estimator-doc-link.fitted:hover,\n",
       ".sk-estimator-doc-link.fitted:hover,\n",
       "div.sk-label-container:hover .sk-estimator-doc-link.fitted:hover,\n",
       ".sk-estimator-doc-link.fitted:hover {\n",
       "  /* fitted */\n",
       "  background-color: var(--sklearn-color-fitted-level-3);\n",
       "  color: var(--sklearn-color-background);\n",
       "  text-decoration: none;\n",
       "}\n",
       "\n",
       "/* Span, style for the box shown on hovering the info icon */\n",
       ".sk-estimator-doc-link span {\n",
       "  display: none;\n",
       "  z-index: 9999;\n",
       "  position: relative;\n",
       "  font-weight: normal;\n",
       "  right: .2ex;\n",
       "  padding: .5ex;\n",
       "  margin: .5ex;\n",
       "  width: min-content;\n",
       "  min-width: 20ex;\n",
       "  max-width: 50ex;\n",
       "  color: var(--sklearn-color-text);\n",
       "  box-shadow: 2pt 2pt 4pt #999;\n",
       "  /* unfitted */\n",
       "  background: var(--sklearn-color-unfitted-level-0);\n",
       "  border: .5pt solid var(--sklearn-color-unfitted-level-3);\n",
       "}\n",
       "\n",
       ".sk-estimator-doc-link.fitted span {\n",
       "  /* fitted */\n",
       "  background: var(--sklearn-color-fitted-level-0);\n",
       "  border: var(--sklearn-color-fitted-level-3);\n",
       "}\n",
       "\n",
       ".sk-estimator-doc-link:hover span {\n",
       "  display: block;\n",
       "}\n",
       "\n",
       "/* \"?\"-specific style due to the `<a>` HTML tag */\n",
       "\n",
       "#sk-container-id-1 a.estimator_doc_link {\n",
       "  float: right;\n",
       "  font-size: 1rem;\n",
       "  line-height: 1em;\n",
       "  font-family: monospace;\n",
       "  background-color: var(--sklearn-color-background);\n",
       "  border-radius: 1rem;\n",
       "  height: 1rem;\n",
       "  width: 1rem;\n",
       "  text-decoration: none;\n",
       "  /* unfitted */\n",
       "  color: var(--sklearn-color-unfitted-level-1);\n",
       "  border: var(--sklearn-color-unfitted-level-1) 1pt solid;\n",
       "}\n",
       "\n",
       "#sk-container-id-1 a.estimator_doc_link.fitted {\n",
       "  /* fitted */\n",
       "  border: var(--sklearn-color-fitted-level-1) 1pt solid;\n",
       "  color: var(--sklearn-color-fitted-level-1);\n",
       "}\n",
       "\n",
       "/* On hover */\n",
       "#sk-container-id-1 a.estimator_doc_link:hover {\n",
       "  /* unfitted */\n",
       "  background-color: var(--sklearn-color-unfitted-level-3);\n",
       "  color: var(--sklearn-color-background);\n",
       "  text-decoration: none;\n",
       "}\n",
       "\n",
       "#sk-container-id-1 a.estimator_doc_link.fitted:hover {\n",
       "  /* fitted */\n",
       "  background-color: var(--sklearn-color-fitted-level-3);\n",
       "}\n",
       "</style><div id=\"sk-container-id-1\" class=\"sk-top-container\"><div class=\"sk-text-repr-fallback\"><pre>LinearSVC(random_state=0, tol=1e-05)</pre><b>In a Jupyter environment, please rerun this cell to show the HTML representation or trust the notebook. <br />On GitHub, the HTML representation is unable to render, please try loading this page with nbviewer.org.</b></div><div class=\"sk-container\" hidden><div class=\"sk-item\"><div class=\"sk-estimator fitted sk-toggleable\"><input class=\"sk-toggleable__control sk-hidden--visually\" id=\"sk-estimator-id-1\" type=\"checkbox\" checked><label for=\"sk-estimator-id-1\" class=\"sk-toggleable__label fitted sk-toggleable__label-arrow fitted\">&nbsp;&nbsp;LinearSVC<a class=\"sk-estimator-doc-link fitted\" rel=\"noreferrer\" target=\"_blank\" href=\"https://scikit-learn.org/1.4/modules/generated/sklearn.svm.LinearSVC.html\">?<span>Documentation for LinearSVC</span></a><span class=\"sk-estimator-doc-link fitted\">i<span>Fitted</span></span></label><div class=\"sk-toggleable__content fitted\"><pre>LinearSVC(random_state=0, tol=1e-05)</pre></div> </div></div></div></div>"
      ],
      "text/plain": [
       "LinearSVC(random_state=0, tol=1e-05)"
      ]
     },
     "execution_count": 38,
     "metadata": {},
     "output_type": "execute_result"
    }
   ],
   "source": [
    "model1 = LinearSVC(random_state=0, tol=1e-5)\n",
    "model1.fit(X_train_tf, Y_train)"
   ]
  },
  {
   "cell_type": "code",
   "execution_count": 39,
   "metadata": {
    "colab": {
     "base_uri": "https://localhost:8080/"
    },
    "id": "el7QSiEUI8t5",
    "outputId": "5095148e-cb20-4dba-86d5-5b8a273715be"
   },
   "outputs": [
    {
     "data": {
      "text/plain": [
       "{'dual': 'warn',\n",
       " 'tol': 1e-05,\n",
       " 'C': 1.0,\n",
       " 'multi_class': 'ovr',\n",
       " 'fit_intercept': True,\n",
       " 'intercept_scaling': 1,\n",
       " 'class_weight': None,\n",
       " 'verbose': 0,\n",
       " 'random_state': 0,\n",
       " 'max_iter': 1000,\n",
       " 'penalty': 'l2',\n",
       " 'loss': 'squared_hinge',\n",
       " 'n_features_in_': 18440,\n",
       " 'classes_': array(['P1', 'P2', 'P3', 'P4', 'P5'], dtype=object),\n",
       " 'coef_': array([[-6.47697271e-01, -1.95229474e-01,  2.19576664e-01, ...,\n",
       "         -8.47163407e-02,  3.30390523e-02, -4.53929238e-02],\n",
       "        [-2.72428790e-01, -3.56157540e-01,  1.32572992e-01, ...,\n",
       "         -5.35482632e-01, -2.08705985e-02,  5.95170393e-01],\n",
       "        [-8.15293145e-01, -3.72537077e-01, -6.53037012e-01, ...,\n",
       "          8.31850349e-01, -7.59521565e-02, -3.88483493e-01],\n",
       "        [ 1.45706145e+00,  8.19842894e-01, -4.39706776e-02, ...,\n",
       "         -1.53436397e-01,  0.00000000e+00, -8.60541714e-02],\n",
       "        [-8.24840784e-02,  0.00000000e+00,  2.51394808e-01, ...,\n",
       "         -1.13551808e-01, -7.22284697e-02,  3.68628739e-18]]),\n",
       " 'intercept_': array([-1.11131148, -1.01395153,  0.84044564, -1.21669055, -1.16935588]),\n",
       " 'n_iter_': 58}"
      ]
     },
     "execution_count": 39,
     "metadata": {},
     "output_type": "execute_result"
    }
   ],
   "source": [
    "model1.__dict__"
   ]
  },
  {
   "cell_type": "markdown",
   "metadata": {
    "id": "jNK68ixMI8t5"
   },
   "source": [
    "<a name='6.2.4'></a><a id='6.2.4'></a>\n",
    "## 6.2.4 Step 4: Model Evaluation\n",
    "<a href=\"#top\">[back to top]</a>\n",
    "\n",
    "We can use the `sklearn.svm.DummyClassifier` module, which provides simple strategies like `most_frequent`, where the baseline model always predicts the class with highest fre‐ quency, or which is stratified, which generates predictions that respect the training data distribution."
   ]
  },
  {
   "cell_type": "code",
   "execution_count": 40,
   "metadata": {
    "id": "y48WCfNmI8t6"
   },
   "outputs": [],
   "source": [
    "X_test_tf = tfidf.transform(X_test)"
   ]
  },
  {
   "cell_type": "code",
   "execution_count": 41,
   "metadata": {
    "colab": {
     "base_uri": "https://localhost:8080/"
    },
    "id": "4Yr9nC3NI8t6",
    "outputId": "0b95db8b-b5d8-490d-a3e0-1751002fc697"
   },
   "outputs": [
    {
     "name": "stdout",
     "output_type": "stream",
     "text": [
      "Accuracy Score -  0.8868209255533199\n"
     ]
    }
   ],
   "source": [
    "Y_pred = model1.predict(X_test_tf)\n",
    "print ('Accuracy Score - ', accuracy_score(Y_test, Y_pred))"
   ]
  },
  {
   "cell_type": "markdown",
   "metadata": {
    "id": "td-KA6FfuUlV"
   },
   "source": [
    "### sklearn.dummy.DummyClassifier()\n",
    "\n",
    "“most_frequent”: the predict method always returns the most frequent class label in the observed y argument passed to fit. The predict_proba method returns the matching one-hot encoded vector.\n",
    "\n",
    "“prior”: the predict method always returns the most frequent class label in the observed y argument passed to fit (like “most_frequent”). predict_proba always returns the empirical class distribution of y also known as the empirical class prior distribution.\n",
    "\n",
    "“stratified”: the predict_proba method randomly samples one-hot vectors from a multinomial distribution parametrized by the empirical class prior probabilities. The predict method returns the class label which got probability one in the one-hot vector of predict_proba. Each sampled row of both methods is therefore independent and identically distributed.\n",
    "\n",
    "“uniform”: generates predictions uniformly at random from the list of unique classes observed in y, i.e. each class has equal probability.\n",
    "\n",
    "“constant”: always predicts a constant label that is provided by the user. This is useful for metrics that evaluate a non-majority class."
   ]
  },
  {
   "cell_type": "code",
   "execution_count": 42,
   "metadata": {
    "colab": {
     "base_uri": "https://localhost:8080/"
    },
    "id": "Yn_BWdR4I8t6",
    "outputId": "ac3b6ae6-67c7-41f9-e734-e3dbebafed36"
   },
   "outputs": [
    {
     "name": "stdout",
     "output_type": "stream",
     "text": [
      "Accuracy Score -  0.8767605633802817\n"
     ]
    }
   ],
   "source": [
    "# Test via dummy baseline model\n",
    "clf = DummyClassifier(strategy='most_frequent', random_state=42)\n",
    "clf.fit(X_train, Y_train)\n",
    "\n",
    "Y_pred_baseline = clf.predict(X_test)\n",
    "print ('Accuracy Score - ', accuracy_score(Y_test, Y_pred_baseline))"
   ]
  },
  {
   "cell_type": "code",
   "execution_count": 43,
   "metadata": {
    "colab": {
     "base_uri": "https://localhost:8080/"
    },
    "id": "zuQGRBZZuUlW",
    "outputId": "7549469a-20a0-41d1-dba5-6d4e273ba789"
   },
   "outputs": [
    {
     "name": "stdout",
     "output_type": "stream",
     "text": [
      "Accuracy Score -  0.7821931589537223\n"
     ]
    }
   ],
   "source": [
    "# Test via dummy baseline model\n",
    "clf2 = DummyClassifier(strategy='stratified', random_state=42)\n",
    "clf2.fit(X_train, Y_train)\n",
    "\n",
    "Y_pred_baseline2 = clf2.predict(X_test)\n",
    "print ('Accuracy Score - ', accuracy_score(Y_test, Y_pred_baseline2))"
   ]
  },
  {
   "cell_type": "code",
   "execution_count": 44,
   "metadata": {
    "colab": {
     "base_uri": "https://localhost:8080/"
    },
    "id": "sfV3wibjuUlX",
    "outputId": "d8d8108e-ef0b-4201-9f99-860fe959ec5b"
   },
   "outputs": [
    {
     "name": "stdout",
     "output_type": "stream",
     "text": [
      "Accuracy Score -  0.19869215291750503\n"
     ]
    }
   ],
   "source": [
    "# Test via dummy baseline model\n",
    "clf3 = DummyClassifier(strategy='uniform', random_state=42)\n",
    "clf3.fit(X_train, Y_train)\n",
    "\n",
    "Y_pred_baseline3 = clf3.predict(X_test)\n",
    "print ('Accuracy Score - ', accuracy_score(Y_test, Y_pred_baseline3))"
   ]
  },
  {
   "cell_type": "markdown",
   "metadata": {
    "id": "0DjCEvFXI8t7"
   },
   "source": [
    "### Precision and Recall via Confusion Matrix\n",
    "\n",
    "The confusion matrix for our model can be generated with the function `confusion_matrix`"
   ]
  },
  {
   "cell_type": "code",
   "execution_count": 45,
   "metadata": {
    "colab": {
     "base_uri": "https://localhost:8080/"
    },
    "id": "u-EOCBHzI8t7",
    "outputId": "1d7c897c-f167-4e82-f64f-89799f8cbd5d"
   },
   "outputs": [
    {
     "data": {
      "text/plain": [
       "array([[  14,    2,   82,    0,    0],\n",
       "       [   0,   28,  231,    1,    0],\n",
       "       [   2,   17, 3454,   13,    0],\n",
       "       [   0,    2,   76,   29,    0],\n",
       "       [   0,    0,   24,    0,    1]])"
      ]
     },
     "execution_count": 45,
     "metadata": {},
     "output_type": "execute_result"
    }
   ],
   "source": [
    "Y_pred = model1.predict(X_test_tf)\n",
    "confusion_matrix(Y_test, Y_pred)"
   ]
  },
  {
   "cell_type": "markdown",
   "metadata": {
    "id": "_mTDRh-WI8t7"
   },
   "source": [
    "### View via Heatmap\n",
    "\n",
    "The confusion marix can also be visualized in the form of a heatmap by using the `plot_confusion_matrix` function."
   ]
  },
  {
   "cell_type": "code",
   "execution_count": 46,
   "metadata": {
    "colab": {
     "base_uri": "https://localhost:8080/",
     "height": 279
    },
    "id": "WvrU2lDXI8t8",
    "outputId": "70564627-ce4b-4295-8d2d-648a4e9b81b1"
   },
   "outputs": [
    {
     "data": {
      "image/png": "[encoded data removed]",
      "text/plain": [
       "<Figure size 640x480 with 2 Axes>"
      ]
     },
     "metadata": {},
     "output_type": "display_data"
    }
   ],
   "source": [
    "ConfusionMatrixDisplay.from_estimator(\n",
    "    model1,\n",
    "    X=X_test_tf,\n",
    "    y=Y_test, \n",
    "    values_format='d',\n",
    "    cmap=plt.cm.Blues\n",
    ")\n",
    "\n",
    "plt.show()"
   ]
  },
  {
   "cell_type": "markdown",
   "metadata": {
    "id": "1Rf7jb8_uUlZ"
   },
   "source": [
    "An easy way to determine precision and recall for each category is to use the `classification_report` function from scikit-learn."
   ]
  },
  {
   "cell_type": "code",
   "execution_count": 47,
   "metadata": {
    "colab": {
     "base_uri": "https://localhost:8080/"
    },
    "id": "WiHSx6Z7I8t8",
    "outputId": "68270073-1c7d-466f-c12d-4d15c8c68c11"
   },
   "outputs": [
    {
     "name": "stdout",
     "output_type": "stream",
     "text": [
      "              precision    recall  f1-score   support\n",
      "\n",
      "          P1       0.88      0.14      0.25        98\n",
      "          P2       0.57      0.11      0.18       260\n",
      "          P3       0.89      0.99      0.94      3486\n",
      "          P4       0.67      0.27      0.39       107\n",
      "          P5       1.00      0.04      0.08        25\n",
      "\n",
      "    accuracy                           0.89      3976\n",
      "   macro avg       0.80      0.31      0.37      3976\n",
      "weighted avg       0.87      0.89      0.85      3976\n",
      "\n"
     ]
    }
   ],
   "source": [
    "# Check precision and recall\n",
    "print(classification_report(Y_test, Y_pred))"
   ]
  },
  {
   "cell_type": "markdown",
   "metadata": {
    "id": "mNvFnLapuUla"
   },
   "source": [
    "While the recall and precision values for the class P3 are quite high, these values for the other classes are low and even 0 in some cases (P5). The overall accuracy of the model is 88%, but if we hard-coded our prediction to always be P3, this would also be correct 88% of the time. This makes it clear that our model has not learned much of significance and is merely predicting the majority class. This highlights the fact that during model evaluation we must analyze several metrics and not rely on the accuracy alone."
   ]
  },
  {
   "cell_type": "code",
   "execution_count": 48,
   "metadata": {
    "colab": {
     "base_uri": "https://localhost:8080/",
     "height": 268
    },
    "id": "l-K_PBkZI8t9",
    "outputId": "c5b05362-b211-4cee-ba42-a96dcdbc62b5"
   },
   "outputs": [
    {
     "data": {
      "image/png": "[encoded data removed]",
      "text/plain": [
       "<Figure size 640x480 with 1 Axes>"
      ]
     },
     "metadata": {},
     "output_type": "display_data"
    }
   ],
   "source": [
    "df['Priority'].value_counts().plot(kind='bar');"
   ]
  },
  {
   "cell_type": "markdown",
   "metadata": {
    "id": "yFdfu0FjI8t9"
   },
   "source": [
    "### Class Imbalance\n",
    "\n",
    "The reason for the model to behave in this manner is due to the class imbalance in the priority classes that we observed earlier. While there were close to 36,000 bugs with a priority of P3, the number of bugs with other priority classes was only about 4,000 and even fewer in other cases. This means that when we trained our model, it was able to learn the characteristics of the P3 class alone.\n",
    " \n",
    "Here, we randomly downsample the P3 class."
   ]
  },
  {
   "cell_type": "code",
   "execution_count": 49,
   "metadata": {
    "colab": {
     "base_uri": "https://localhost:8080/"
    },
    "id": "eIFgMZY8I8t9",
    "outputId": "7113b9b3-b13a-4982-ac11-3e3ff2eef67b"
   },
   "outputs": [
    {
     "data": {
      "text/plain": [
       "Priority\n",
       "P3    4000\n",
       "P2    1301\n",
       "P4     534\n",
       "P1     488\n",
       "P5     127\n",
       "Name: count, dtype: int64"
      ]
     },
     "execution_count": 49,
     "metadata": {},
     "output_type": "execute_result"
    }
   ],
   "source": [
    "# Filter bug reports with priority P3 and sample 4000 rows from it\n",
    "df_sampleP3 = df[df['Priority'] == 'P3'].sample(n=4000, random_state=123)\n",
    "\n",
    "# Create a separate dataframe containing all other bug reports\n",
    "df_sampleRest = df[df['Priority'] != 'P3']\n",
    "\n",
    "# Concatenate the two dataframes to create the new balanced bug reports dataset\n",
    "df_balanced = pd.concat([df_sampleRest, df_sampleP3])\n",
    "\n",
    "# Check the status of the class imbalance\n",
    "df_balanced['Priority'].value_counts()"
   ]
  },
  {
   "cell_type": "code",
   "execution_count": 50,
   "metadata": {
    "colab": {
     "base_uri": "https://localhost:8080/",
     "height": 268
    },
    "id": "Lem-NV5mI8t9",
    "outputId": "04fb3e91-7ba9-4216-c86b-bf61d5b5f61b"
   },
   "outputs": [
    {
     "data": {
      "image/png": "[encoded data removed]",
      "text/plain": [
       "<Figure size 640x480 with 1 Axes>"
      ]
     },
     "metadata": {},
     "output_type": "display_data"
    }
   ],
   "source": [
    "df_balanced['Priority'].value_counts().plot(kind='bar');"
   ]
  },
  {
   "cell_type": "markdown",
   "metadata": {
    "id": "aEhOYEokI8t9"
   },
   "source": [
    "---\n",
    "<a name='6.3'></a><a id='6.3'></a>\n",
    "# 6.3 Final Blueprint for Text Classification\n",
    "<a href=\"#top\">[back to top]</a>\n",
    "\n",
    "Here we combine all the steps we have listed so far to create our blueprint for text classification."
   ]
  },
  {
   "cell_type": "code",
   "execution_count": 51,
   "metadata": {
    "colab": {
     "base_uri": "https://localhost:8080/"
    },
    "id": "YmQmrib-I8t-",
    "outputId": "62aca278-98fc-400e-8501-09472cbdd916"
   },
   "outputs": [
    {
     "name": "stdout",
     "output_type": "stream",
     "text": [
      "Size of Training Data  5160\n",
      "Size of Test Data  1290\n",
      "Accuracy Score -  0.6666666666666666\n",
      "              precision    recall  f1-score   support\n",
      "\n",
      "          P1       0.65      0.33      0.44        98\n",
      "          P2       0.45      0.34      0.39       260\n",
      "          P3       0.71      0.86      0.78       800\n",
      "          P4       0.64      0.38      0.48       107\n",
      "          P5       0.88      0.28      0.42        25\n",
      "\n",
      "    accuracy                           0.67      1290\n",
      "   macro avg       0.67      0.44      0.50      1290\n",
      "weighted avg       0.65      0.67      0.64      1290\n",
      "\n"
     ]
    }
   ],
   "source": [
    "# Loading the balanced dataframe\n",
    "df = df_balanced[['text', 'Priority']]\n",
    "df = df.dropna()\n",
    "\n",
    "# Step 1 - Data Preparation\n",
    "df['text'] = df['text'].apply(clean)\n",
    "\n",
    "# Step 2 - Train-Test Split\n",
    "X_train, X_test, Y_train, Y_test = train_test_split(\n",
    "    df['text'],\n",
    "    df['Priority'],\n",
    "    test_size=0.2,\n",
    "    random_state=42,\n",
    "    stratify=df['Priority']\n",
    ")\n",
    "print('Size of Training Data ', X_train.shape[0])\n",
    "print('Size of Test Data ', X_test.shape[0])\n",
    "\n",
    "# Step 3 - Training the Machine Learning model\n",
    "tfidf = TfidfVectorizer(min_df=10, ngram_range=(1, 2), stop_words=\"english\")\n",
    "X_train_tf = tfidf.fit_transform(X_train)\n",
    "model1 = LinearSVC(random_state=0, tol=1e-5)\n",
    "model1.fit(X_train_tf, Y_train)\n",
    "\n",
    "# Step 4 - Model Evaluation\n",
    "X_test_tf = tfidf.transform(X_test)\n",
    "Y_pred = model1.predict(X_test_tf)\n",
    "print('Accuracy Score - ', accuracy_score(Y_test, Y_pred))\n",
    "print(classification_report(Y_test, Y_pred))"
   ]
  },
  {
   "cell_type": "code",
   "execution_count": 52,
   "metadata": {
    "colab": {
     "base_uri": "https://localhost:8080/"
    },
    "id": "BiKWw0MCI8t-",
    "outputId": "612ec852-6c92-4c67-876b-952f5fde527a"
   },
   "outputs": [
    {
     "name": "stdout",
     "output_type": "stream",
     "text": [
      "Accuracy Score -  0.43488372093023253\n"
     ]
    }
   ],
   "source": [
    "clf = DummyClassifier(strategy='stratified', random_state=21)\n",
    "clf.fit(X_train, Y_train)\n",
    "Y_pred_baseline = clf.predict(X_test)\n",
    "print ('Accuracy Score - ', accuracy_score(Y_test, Y_pred_baseline))"
   ]
  },
  {
   "cell_type": "markdown",
   "metadata": {
    "id": "W8rFYHs0I8t-"
   },
   "source": [
    "### Examples where the model predictions for these priorities are accurate."
   ]
  },
  {
   "cell_type": "code",
   "execution_count": 53,
   "metadata": {
    "colab": {
     "base_uri": "https://localhost:8080/",
     "height": 111
    },
    "id": "bDTBuXZfI8t_",
    "outputId": "8106262f-c22b-4e66-e130-fcf2128ceaaa"
   },
   "outputs": [
    {
     "data": {
      "text/html": [
       "<div>\n",
       "<style scoped>\n",
       "    .dataframe tbody tr th:only-of-type {\n",
       "        vertical-align: middle;\n",
       "    }\n",
       "\n",
       "    .dataframe tbody tr th {\n",
       "        vertical-align: top;\n",
       "    }\n",
       "\n",
       "    .dataframe thead th {\n",
       "        text-align: right;\n",
       "    }\n",
       "</style>\n",
       "<table border=\"1\" class=\"dataframe\">\n",
       "  <thead>\n",
       "    <tr style=\"text-align: right;\">\n",
       "      <th></th>\n",
       "      <th>text</th>\n",
       "      <th>actual</th>\n",
       "      <th>predicted</th>\n",
       "    </tr>\n",
       "  </thead>\n",
       "  <tbody>\n",
       "    <tr>\n",
       "      <th>34888</th>\n",
       "      <td>breakpoint performance tests The peformance te...</td>\n",
       "      <td>P1</td>\n",
       "      <td>P1</td>\n",
       "    </tr>\n",
       "    <tr>\n",
       "      <th>1436</th>\n",
       "      <td>Breakpoints remain installed after target term...</td>\n",
       "      <td>P1</td>\n",
       "      <td>P1</td>\n",
       "    </tr>\n",
       "  </tbody>\n",
       "</table>\n",
       "</div>"
      ],
      "text/plain": [
       "                                                    text actual predicted\n",
       "34888  breakpoint performance tests The peformance te...     P1        P1\n",
       "1436   Breakpoints remain installed after target term...     P1        P1"
      ]
     },
     "execution_count": 53,
     "metadata": {},
     "output_type": "execute_result"
    }
   ],
   "source": [
    "## Create a dataframe combining the Title and Description, \n",
    "## Actual and Predicted values that we can explore\n",
    "frame = { 'text': X_test, 'actual': Y_test, 'predicted': Y_pred }\n",
    "result = pd.DataFrame(frame)\n",
    "\n",
    "result[((result['actual'] == 'P1') | (result['actual'] == 'P2')) &\n",
    "       (result['actual'] == result['predicted'])].sample(2, random_state=22)"
   ]
  },
  {
   "cell_type": "markdown",
   "metadata": {
    "id": "zeUAXFtaI8t_"
   },
   "source": [
    "### Examples where the model predictions for these priorities are NOT accurate:"
   ]
  },
  {
   "cell_type": "code",
   "execution_count": 54,
   "metadata": {
    "colab": {
     "base_uri": "https://localhost:8080/",
     "height": 111
    },
    "id": "iT33__phI8t_",
    "outputId": "657903c6-78d7-4c91-f3cc-eab97b0bdea6"
   },
   "outputs": [
    {
     "data": {
      "text/html": [
       "<div>\n",
       "<style scoped>\n",
       "    .dataframe tbody tr th:only-of-type {\n",
       "        vertical-align: middle;\n",
       "    }\n",
       "\n",
       "    .dataframe tbody tr th {\n",
       "        vertical-align: top;\n",
       "    }\n",
       "\n",
       "    .dataframe thead th {\n",
       "        text-align: right;\n",
       "    }\n",
       "</style>\n",
       "<table border=\"1\" class=\"dataframe\">\n",
       "  <thead>\n",
       "    <tr style=\"text-align: right;\">\n",
       "      <th></th>\n",
       "      <th>text</th>\n",
       "      <th>actual</th>\n",
       "      <th>predicted</th>\n",
       "    </tr>\n",
       "  </thead>\n",
       "  <tbody>\n",
       "    <tr>\n",
       "      <th>3380</th>\n",
       "      <td>Severe shutdown performance problem Build 2002...</td>\n",
       "      <td>P1</td>\n",
       "      <td>P3</td>\n",
       "    </tr>\n",
       "    <tr>\n",
       "      <th>8656</th>\n",
       "      <td>use super type: problems with arrays see tests...</td>\n",
       "      <td>P2</td>\n",
       "      <td>P3</td>\n",
       "    </tr>\n",
       "  </tbody>\n",
       "</table>\n",
       "</div>"
      ],
      "text/plain": [
       "                                                   text actual predicted\n",
       "3380  Severe shutdown performance problem Build 2002...     P1        P3\n",
       "8656  use super type: problems with arrays see tests...     P2        P3"
      ]
     },
     "execution_count": 54,
     "metadata": {},
     "output_type": "execute_result"
    }
   ],
   "source": [
    "result[((result['actual'] == 'P1') | (result['actual'] == 'P2')) &\n",
    "       (result['actual'] != result['predicted'])].sample(2, random_state=33)"
   ]
  },
  {
   "cell_type": "markdown",
   "metadata": {
    "id": "41U0FtDGI8uA"
   },
   "source": [
    "---\n",
    "<a name='6.4'></a><a id='6.4'></a>\n",
    "# 6.4 Blueprint: Using Cross-Validation to Estimate Realistic Accuracy Metrics\n",
    "<a href=\"#top\">[back to top]</a>"
   ]
  },
  {
   "cell_type": "code",
   "execution_count": 55,
   "metadata": {
    "colab": {
     "base_uri": "https://localhost:8080/"
    },
    "id": "iThtQB4HI8uA",
    "outputId": "9665eb57-644c-4580-d1ce-752676d23030"
   },
   "outputs": [
    {
     "name": "stdout",
     "output_type": "stream",
     "text": [
      "Validation scores from each iteration of the cross validation  [0.67131783 0.67906977 0.67054264 0.68217054 0.69224806]\n",
      "Mean value across of validation scores  0.6790697674418604\n",
      "Standard deviation of validation scores  0.007950934204625202\n"
     ]
    }
   ],
   "source": [
    "# Vectorization\n",
    "tfidf = TfidfVectorizer(min_df = 10, ngram_range=(1,2), stop_words=\"english\")\n",
    "# Use the entire dataset, not just the train split\n",
    "df_tf = tfidf.fit_transform(df['text']).toarray()\n",
    "\n",
    "# Cross Validation with 5 folds\n",
    "scores = cross_val_score(\n",
    "    estimator=model1,\n",
    "    X=df_tf,\n",
    "    y=df['Priority'],\n",
    "    cv=5\n",
    ")\n",
    "\n",
    "print (\"Validation scores from each iteration of the cross validation \", scores)\n",
    "print (\"Mean value across of validation scores \", scores.mean())\n",
    "print (\"Standard deviation of validation scores \", scores.std())"
   ]
  },
  {
   "cell_type": "markdown",
   "metadata": {
    "id": "tD_WKQokI8uB"
   },
   "source": [
    "---\n",
    "<a name='6.5'></a><a id='6.5'></a>\n",
    "# 6.5 Blueprint: Performing Hyperparameter Tuning with Grid Search\n",
    "<a href=\"#top\">[back to top]</a>\n",
    "\n",
    "### Requires a long time to run."
   ]
  },
  {
   "cell_type": "code",
   "execution_count": 56,
   "metadata": {
    "id": "JxvIdrXRXgKQ"
   },
   "outputs": [],
   "source": [
    "# Stop execution here\n",
    "\n",
    "# assert(False)"
   ]
  },
  {
   "cell_type": "code",
   "execution_count": 57,
   "metadata": {
    "colab": {
     "base_uri": "https://localhost:8080/"
    },
    "id": "HkGw68PFI8uC",
    "outputId": "fa9f6351-6d2e-4a09-800f-cf489129af4f"
   },
   "outputs": [
    {
     "name": "stdout",
     "output_type": "stream",
     "text": [
      "Fitting 5 folds for each of 20 candidates, totalling 100 fits\n",
      "[CV 1/5] END model__loss=hinge, model__max_iter=10000, model__penalty=l2, tfidf__min_df=5, tfidf__ngram_range=(1, 3);, score=0.677 total time=   4.8s\n",
      "[CV 2/5] END model__loss=hinge, model__max_iter=10000, model__penalty=l2, tfidf__min_df=5, tfidf__ngram_range=(1, 3);, score=0.688 total time=   3.8s\n",
      "[CV 3/5] END model__loss=hinge, model__max_iter=10000, model__penalty=l2, tfidf__min_df=5, tfidf__ngram_range=(1, 3);, score=0.676 total time=   3.7s\n",
      "[CV 4/5] END model__loss=hinge, model__max_iter=10000, model__penalty=l2, tfidf__min_df=5, tfidf__ngram_range=(1, 3);, score=0.680 total time=   3.9s\n",
      "[CV 5/5] END model__loss=hinge, model__max_iter=10000, model__penalty=l2, tfidf__min_df=5, tfidf__ngram_range=(1, 3);, score=0.689 total time=   4.2s\n",
      "[CV 1/5] END model__loss=hinge, model__max_iter=10000, model__penalty=l2, tfidf__min_df=5, tfidf__ngram_range=(1, 6);, score=0.681 total time=  15.7s\n",
      "[CV 2/5] END model__loss=hinge, model__max_iter=10000, model__penalty=l2, tfidf__min_df=5, tfidf__ngram_range=(1, 6);, score=0.688 total time=  13.6s\n",
      "[CV 3/5] END model__loss=hinge, model__max_iter=10000, model__penalty=l2, tfidf__min_df=5, tfidf__ngram_range=(1, 6);, score=0.678 total time=  10.9s\n",
      "[CV 4/5] END model__loss=hinge, model__max_iter=10000, model__penalty=l2, tfidf__min_df=5, tfidf__ngram_range=(1, 6);, score=0.685 total time=  11.5s\n",
      "[CV 5/5] END model__loss=hinge, model__max_iter=10000, model__penalty=l2, tfidf__min_df=5, tfidf__ngram_range=(1, 6);, score=0.692 total time=  10.1s\n",
      "[CV 1/5] END model__loss=hinge, model__max_iter=10000, model__penalty=l2, tfidf__min_df=10, tfidf__ngram_range=(1, 3);, score=0.669 total time=   7.4s\n",
      "[CV 2/5] END model__loss=hinge, model__max_iter=10000, model__penalty=l2, tfidf__min_df=10, tfidf__ngram_range=(1, 3);, score=0.669 total time=   6.2s\n",
      "[CV 3/5] END model__loss=hinge, model__max_iter=10000, model__penalty=l2, tfidf__min_df=10, tfidf__ngram_range=(1, 3);, score=0.668 total time=   5.4s\n",
      "[CV 4/5] END model__loss=hinge, model__max_iter=10000, model__penalty=l2, tfidf__min_df=10, tfidf__ngram_range=(1, 3);, score=0.678 total time=   4.7s\n",
      "[CV 5/5] END model__loss=hinge, model__max_iter=10000, model__penalty=l2, tfidf__min_df=10, tfidf__ngram_range=(1, 3);, score=0.666 total time=   4.5s\n",
      "[CV 1/5] END model__loss=hinge, model__max_iter=10000, model__penalty=l2, tfidf__min_df=10, tfidf__ngram_range=(1, 6);, score=0.671 total time=  12.3s\n",
      "[CV 2/5] END model__loss=hinge, model__max_iter=10000, model__penalty=l2, tfidf__min_df=10, tfidf__ngram_range=(1, 6);, score=0.665 total time=   9.7s\n",
      "[CV 3/5] END model__loss=hinge, model__max_iter=10000, model__penalty=l2, tfidf__min_df=10, tfidf__ngram_range=(1, 6);, score=0.668 total time=  11.8s\n",
      "[CV 4/5] END model__loss=hinge, model__max_iter=10000, model__penalty=l2, tfidf__min_df=10, tfidf__ngram_range=(1, 6);, score=0.676 total time=  13.1s\n",
      "[CV 5/5] END model__loss=hinge, model__max_iter=10000, model__penalty=l2, tfidf__min_df=10, tfidf__ngram_range=(1, 6);, score=0.667 total time=  16.2s\n",
      "[CV 1/5] END model__C=1, model__tol=0.01, tfidf__min_df=5, tfidf__ngram_range=(1, 3);, score=0.683 total time=   4.0s\n",
      "[CV 2/5] END model__C=1, model__tol=0.01, tfidf__min_df=5, tfidf__ngram_range=(1, 3);, score=0.708 total time=   4.9s\n",
      "[CV 3/5] END model__C=1, model__tol=0.01, tfidf__min_df=5, tfidf__ngram_range=(1, 3);, score=0.704 total time=   6.0s\n",
      "[CV 4/5] END model__C=1, model__tol=0.01, tfidf__min_df=5, tfidf__ngram_range=(1, 3);, score=0.708 total time=   5.8s\n",
      "[CV 5/5] END model__C=1, model__tol=0.01, tfidf__min_df=5, tfidf__ngram_range=(1, 3);, score=0.713 total time=   5.6s\n",
      "[CV 1/5] END model__C=1, model__tol=0.01, tfidf__min_df=5, tfidf__ngram_range=(1, 6);, score=0.685 total time=   8.9s\n",
      "[CV 2/5] END model__C=1, model__tol=0.01, tfidf__min_df=5, tfidf__ngram_range=(1, 6);, score=0.713 total time=   8.2s\n",
      "[CV 3/5] END model__C=1, model__tol=0.01, tfidf__min_df=5, tfidf__ngram_range=(1, 6);, score=0.705 total time=   9.3s\n",
      "[CV 4/5] END model__C=1, model__tol=0.01, tfidf__min_df=5, tfidf__ngram_range=(1, 6);, score=0.709 total time=   8.6s\n",
      "[CV 5/5] END model__C=1, model__tol=0.01, tfidf__min_df=5, tfidf__ngram_range=(1, 6);, score=0.713 total time=   9.2s\n",
      "[CV 1/5] END model__C=1, model__tol=0.01, tfidf__min_df=10, tfidf__ngram_range=(1, 3);, score=0.662 total time=   4.5s\n",
      "[CV 2/5] END model__C=1, model__tol=0.01, tfidf__min_df=10, tfidf__ngram_range=(1, 3);, score=0.671 total time=   3.9s\n",
      "[CV 3/5] END model__C=1, model__tol=0.01, tfidf__min_df=10, tfidf__ngram_range=(1, 3);, score=0.672 total time=   3.7s\n",
      "[CV 4/5] END model__C=1, model__tol=0.01, tfidf__min_df=10, tfidf__ngram_range=(1, 3);, score=0.683 total time=   3.4s\n",
      "[CV 5/5] END model__C=1, model__tol=0.01, tfidf__min_df=10, tfidf__ngram_range=(1, 3);, score=0.685 total time=   3.5s\n",
      "[CV 1/5] END model__C=1, model__tol=0.01, tfidf__min_df=10, tfidf__ngram_range=(1, 6);, score=0.669 total time=   7.4s\n",
      "[CV 2/5] END model__C=1, model__tol=0.01, tfidf__min_df=10, tfidf__ngram_range=(1, 6);, score=0.671 total time=   7.3s\n",
      "[CV 3/5] END model__C=1, model__tol=0.01, tfidf__min_df=10, tfidf__ngram_range=(1, 6);, score=0.679 total time=  10.6s\n",
      "[CV 4/5] END model__C=1, model__tol=0.01, tfidf__min_df=10, tfidf__ngram_range=(1, 6);, score=0.684 total time=  10.7s\n",
      "[CV 5/5] END model__C=1, model__tol=0.01, tfidf__min_df=10, tfidf__ngram_range=(1, 6);, score=0.681 total time=   8.7s\n",
      "[CV 1/5] END model__C=1, model__tol=0.001, tfidf__min_df=5, tfidf__ngram_range=(1, 3);, score=0.684 total time=   3.7s\n",
      "[CV 2/5] END model__C=1, model__tol=0.001, tfidf__min_df=5, tfidf__ngram_range=(1, 3);, score=0.708 total time=   5.1s\n",
      "[CV 3/5] END model__C=1, model__tol=0.001, tfidf__min_df=5, tfidf__ngram_range=(1, 3);, score=0.704 total time=   3.9s\n",
      "[CV 4/5] END model__C=1, model__tol=0.001, tfidf__min_df=5, tfidf__ngram_range=(1, 3);, score=0.708 total time=   4.4s\n",
      "[CV 5/5] END model__C=1, model__tol=0.001, tfidf__min_df=5, tfidf__ngram_range=(1, 3);, score=0.713 total time=   4.5s\n",
      "[CV 1/5] END model__C=1, model__tol=0.001, tfidf__min_df=5, tfidf__ngram_range=(1, 6);, score=0.685 total time=  10.0s\n",
      "[CV 2/5] END model__C=1, model__tol=0.001, tfidf__min_df=5, tfidf__ngram_range=(1, 6);, score=0.714 total time=   9.6s\n",
      "[CV 3/5] END model__C=1, model__tol=0.001, tfidf__min_df=5, tfidf__ngram_range=(1, 6);, score=0.705 total time=  14.3s\n",
      "[CV 4/5] END model__C=1, model__tol=0.001, tfidf__min_df=5, tfidf__ngram_range=(1, 6);, score=0.709 total time=   9.1s\n",
      "[CV 5/5] END model__C=1, model__tol=0.001, tfidf__min_df=5, tfidf__ngram_range=(1, 6);, score=0.713 total time=   7.5s\n",
      "[CV 1/5] END model__C=1, model__tol=0.001, tfidf__min_df=10, tfidf__ngram_range=(1, 3);, score=0.662 total time=   3.4s\n",
      "[CV 2/5] END model__C=1, model__tol=0.001, tfidf__min_df=10, tfidf__ngram_range=(1, 3);, score=0.671 total time=   5.9s\n",
      "[CV 3/5] END model__C=1, model__tol=0.001, tfidf__min_df=10, tfidf__ngram_range=(1, 3);, score=0.672 total time=   5.0s\n",
      "[CV 4/5] END model__C=1, model__tol=0.001, tfidf__min_df=10, tfidf__ngram_range=(1, 3);, score=0.683 total time=   4.5s\n",
      "[CV 5/5] END model__C=1, model__tol=0.001, tfidf__min_df=10, tfidf__ngram_range=(1, 3);, score=0.685 total time=   4.5s\n",
      "[CV 1/5] END model__C=1, model__tol=0.001, tfidf__min_df=10, tfidf__ngram_range=(1, 6);, score=0.669 total time=   8.9s\n",
      "[CV 2/5] END model__C=1, model__tol=0.001, tfidf__min_df=10, tfidf__ngram_range=(1, 6);, score=0.671 total time=  10.1s\n",
      "[CV 3/5] END model__C=1, model__tol=0.001, tfidf__min_df=10, tfidf__ngram_range=(1, 6);, score=0.679 total time=  13.3s\n",
      "[CV 4/5] END model__C=1, model__tol=0.001, tfidf__min_df=10, tfidf__ngram_range=(1, 6);, score=0.684 total time=  13.4s\n",
      "[CV 5/5] END model__C=1, model__tol=0.001, tfidf__min_df=10, tfidf__ngram_range=(1, 6);, score=0.681 total time=  14.3s\n",
      "[CV 1/5] END model__C=10, model__tol=0.01, tfidf__min_df=5, tfidf__ngram_range=(1, 3);, score=0.647 total time=   7.9s\n",
      "[CV 2/5] END model__C=10, model__tol=0.01, tfidf__min_df=5, tfidf__ngram_range=(1, 3);, score=0.676 total time=   7.2s\n",
      "[CV 3/5] END model__C=10, model__tol=0.01, tfidf__min_df=5, tfidf__ngram_range=(1, 3);, score=0.669 total time=   4.8s\n",
      "[CV 4/5] END model__C=10, model__tol=0.01, tfidf__min_df=5, tfidf__ngram_range=(1, 3);, score=0.674 total time=   7.8s\n",
      "[CV 5/5] END model__C=10, model__tol=0.01, tfidf__min_df=5, tfidf__ngram_range=(1, 3);, score=0.688 total time=   5.2s\n",
      "[CV 1/5] END model__C=10, model__tol=0.01, tfidf__min_df=5, tfidf__ngram_range=(1, 6);, score=0.647 total time=  15.7s\n",
      "[CV 2/5] END model__C=10, model__tol=0.01, tfidf__min_df=5, tfidf__ngram_range=(1, 6);, score=0.674 total time=  11.8s\n",
      "[CV 3/5] END model__C=10, model__tol=0.01, tfidf__min_df=5, tfidf__ngram_range=(1, 6);, score=0.674 total time=  26.0s\n",
      "[CV 4/5] END model__C=10, model__tol=0.01, tfidf__min_df=5, tfidf__ngram_range=(1, 6);, score=0.676 total time=  10.5s\n",
      "[CV 5/5] END model__C=10, model__tol=0.01, tfidf__min_df=5, tfidf__ngram_range=(1, 6);, score=0.694 total time=  11.8s\n",
      "[CV 1/5] END model__C=10, model__tol=0.01, tfidf__min_df=10, tfidf__ngram_range=(1, 3);, score=0.633 total time=   6.0s\n",
      "[CV 2/5] END model__C=10, model__tol=0.01, tfidf__min_df=10, tfidf__ngram_range=(1, 3);, score=0.660 total time=   5.5s\n",
      "[CV 3/5] END model__C=10, model__tol=0.01, tfidf__min_df=10, tfidf__ngram_range=(1, 3);, score=0.640 total time=   7.0s\n",
      "[CV 4/5] END model__C=10, model__tol=0.01, tfidf__min_df=10, tfidf__ngram_range=(1, 3);, score=0.649 total time=   5.0s\n",
      "[CV 5/5] END model__C=10, model__tol=0.01, tfidf__min_df=10, tfidf__ngram_range=(1, 3);, score=0.665 total time=   4.9s\n",
      "[CV 1/5] END model__C=10, model__tol=0.01, tfidf__min_df=10, tfidf__ngram_range=(1, 6);, score=0.638 total time=   9.6s\n",
      "[CV 2/5] END model__C=10, model__tol=0.01, tfidf__min_df=10, tfidf__ngram_range=(1, 6);, score=0.654 total time=  10.6s\n",
      "[CV 3/5] END model__C=10, model__tol=0.01, tfidf__min_df=10, tfidf__ngram_range=(1, 6);, score=0.643 total time=  10.9s\n",
      "[CV 4/5] END model__C=10, model__tol=0.01, tfidf__min_df=10, tfidf__ngram_range=(1, 6);, score=0.651 total time=  10.9s\n",
      "[CV 5/5] END model__C=10, model__tol=0.01, tfidf__min_df=10, tfidf__ngram_range=(1, 6);, score=0.665 total time=  14.1s\n",
      "[CV 1/5] END model__C=10, model__tol=0.001, tfidf__min_df=5, tfidf__ngram_range=(1, 3);, score=0.647 total time=   9.5s\n",
      "[CV 2/5] END model__C=10, model__tol=0.001, tfidf__min_df=5, tfidf__ngram_range=(1, 3);, score=0.676 total time=   5.0s\n",
      "[CV 3/5] END model__C=10, model__tol=0.001, tfidf__min_df=5, tfidf__ngram_range=(1, 3);, score=0.669 total time=   5.5s\n",
      "[CV 4/5] END model__C=10, model__tol=0.001, tfidf__min_df=5, tfidf__ngram_range=(1, 3);, score=0.675 total time=   6.1s\n",
      "[CV 5/5] END model__C=10, model__tol=0.001, tfidf__min_df=5, tfidf__ngram_range=(1, 3);, score=0.688 total time=   5.6s\n",
      "[CV 1/5] END model__C=10, model__tol=0.001, tfidf__min_df=5, tfidf__ngram_range=(1, 6);, score=0.647 total time=  13.8s\n",
      "[CV 2/5] END model__C=10, model__tol=0.001, tfidf__min_df=5, tfidf__ngram_range=(1, 6);, score=0.674 total time=  10.3s\n",
      "[CV 3/5] END model__C=10, model__tol=0.001, tfidf__min_df=5, tfidf__ngram_range=(1, 6);, score=0.674 total time=  13.1s\n",
      "[CV 4/5] END model__C=10, model__tol=0.001, tfidf__min_df=5, tfidf__ngram_range=(1, 6);, score=0.676 total time=  14.4s\n",
      "[CV 5/5] END model__C=10, model__tol=0.001, tfidf__min_df=5, tfidf__ngram_range=(1, 6);, score=0.694 total time=  11.6s\n",
      "[CV 1/5] END model__C=10, model__tol=0.001, tfidf__min_df=10, tfidf__ngram_range=(1, 3);, score=0.633 total time=   7.5s\n",
      "[CV 2/5] END model__C=10, model__tol=0.001, tfidf__min_df=10, tfidf__ngram_range=(1, 3);, score=0.660 total time=   5.7s\n",
      "[CV 3/5] END model__C=10, model__tol=0.001, tfidf__min_df=10, tfidf__ngram_range=(1, 3);, score=0.640 total time=   5.2s\n",
      "[CV 4/5] END model__C=10, model__tol=0.001, tfidf__min_df=10, tfidf__ngram_range=(1, 3);, score=0.649 total time=   5.1s\n",
      "[CV 5/5] END model__C=10, model__tol=0.001, tfidf__min_df=10, tfidf__ngram_range=(1, 3);, score=0.665 total time=   5.0s\n",
      "[CV 1/5] END model__C=10, model__tol=0.001, tfidf__min_df=10, tfidf__ngram_range=(1, 6);, score=0.638 total time=   9.9s\n",
      "[CV 2/5] END model__C=10, model__tol=0.001, tfidf__min_df=10, tfidf__ngram_range=(1, 6);, score=0.654 total time=  10.0s\n",
      "[CV 3/5] END model__C=10, model__tol=0.001, tfidf__min_df=10, tfidf__ngram_range=(1, 6);, score=0.643 total time=  11.4s\n",
      "[CV 4/5] END model__C=10, model__tol=0.001, tfidf__min_df=10, tfidf__ngram_range=(1, 6);, score=0.651 total time=  10.1s\n",
      "[CV 5/5] END model__C=10, model__tol=0.001, tfidf__min_df=10, tfidf__ngram_range=(1, 6);, score=0.665 total time=  10.5s\n",
      "Best alpha parameter identified by grid search  {'model__C': 1, 'model__tol': 0.001, 'tfidf__min_df': 5, 'tfidf__ngram_range': (1, 6)}\n",
      "Best result identified by grid search  0.7054263565891473\n"
     ]
    }
   ],
   "source": [
    "# This takes a long time to run.\n",
    "\n",
    "training_pipeline = Pipeline(\n",
    "    steps=[\n",
    "        ('tfidf', TfidfVectorizer(stop_words=\"english\")), \n",
    "        ('model', LinearSVC(random_state=21, tol=1e-5))\n",
    "    ]\n",
    ")\n",
    "\n",
    "grid_param = [{\n",
    "    'tfidf__min_df': [5, 10],\n",
    "    'tfidf__ngram_range': [(1, 3), (1, 6)],\n",
    "    'model__penalty': ['l2'],\n",
    "    'model__loss': ['hinge'],\n",
    "    'model__max_iter': [10000]\n",
    "}, {\n",
    "    'tfidf__min_df': [5, 10],\n",
    "    'tfidf__ngram_range': [(1, 3), (1, 6)],\n",
    "    'model__C': [1, 10],\n",
    "    'model__tol': [1e-2, 1e-3]\n",
    "}]\n",
    "\n",
    "# https://scikit-learn.org/stable/modules/generated/sklearn.model_selection.GridSearchCV.html\n",
    "gridSearchProcessor = GridSearchCV(\n",
    "    estimator=training_pipeline,\n",
    "    param_grid=grid_param,\n",
    "    cv=5,\n",
    "    verbose=3\n",
    ")\n",
    "\n",
    "gridSearchProcessor.fit(df['text'], df['Priority'])\n",
    "\n",
    "best_params = gridSearchProcessor.best_params_\n",
    "print(\"Best alpha parameter identified by grid search \", best_params)\n",
    "\n",
    "best_result = gridSearchProcessor.best_score_\n",
    "print(\"Best result identified by grid search \", best_result)"
   ]
  },
  {
   "cell_type": "code",
   "execution_count": 58,
   "metadata": {
    "colab": {
     "base_uri": "https://localhost:8080/",
     "height": 204
    },
    "id": "RkVPQ_LuI8uC",
    "outputId": "fcffcaae-b0b8-4ffe-a75f-bb7d282e060c"
   },
   "outputs": [
    {
     "data": {
      "text/html": [
       "<div>\n",
       "<style scoped>\n",
       "    .dataframe tbody tr th:only-of-type {\n",
       "        vertical-align: middle;\n",
       "    }\n",
       "\n",
       "    .dataframe tbody tr th {\n",
       "        vertical-align: top;\n",
       "    }\n",
       "\n",
       "    .dataframe thead th {\n",
       "        text-align: right;\n",
       "    }\n",
       "</style>\n",
       "<table border=\"1\" class=\"dataframe\">\n",
       "  <thead>\n",
       "    <tr style=\"text-align: right;\">\n",
       "      <th></th>\n",
       "      <th>rank_test_score</th>\n",
       "      <th>mean_test_score</th>\n",
       "      <th>params</th>\n",
       "    </tr>\n",
       "  </thead>\n",
       "  <tbody>\n",
       "    <tr>\n",
       "      <th>9</th>\n",
       "      <td>1</td>\n",
       "      <td>0.705426</td>\n",
       "      <td>{'model__C': 1, 'model__tol': 0.001, 'tfidf__m...</td>\n",
       "    </tr>\n",
       "    <tr>\n",
       "      <th>5</th>\n",
       "      <td>2</td>\n",
       "      <td>0.705116</td>\n",
       "      <td>{'model__C': 1, 'model__tol': 0.01, 'tfidf__mi...</td>\n",
       "    </tr>\n",
       "    <tr>\n",
       "      <th>8</th>\n",
       "      <td>3</td>\n",
       "      <td>0.703256</td>\n",
       "      <td>{'model__C': 1, 'model__tol': 0.001, 'tfidf__m...</td>\n",
       "    </tr>\n",
       "    <tr>\n",
       "      <th>4</th>\n",
       "      <td>4</td>\n",
       "      <td>0.703101</td>\n",
       "      <td>{'model__C': 1, 'model__tol': 0.01, 'tfidf__mi...</td>\n",
       "    </tr>\n",
       "    <tr>\n",
       "      <th>1</th>\n",
       "      <td>5</td>\n",
       "      <td>0.684806</td>\n",
       "      <td>{'model__loss': 'hinge', 'model__max_iter': 10...</td>\n",
       "    </tr>\n",
       "  </tbody>\n",
       "</table>\n",
       "</div>"
      ],
      "text/plain": [
       "   rank_test_score  mean_test_score  \\\n",
       "9                1         0.705426   \n",
       "5                2         0.705116   \n",
       "8                3         0.703256   \n",
       "4                4         0.703101   \n",
       "1                5         0.684806   \n",
       "\n",
       "                                              params  \n",
       "9  {'model__C': 1, 'model__tol': 0.001, 'tfidf__m...  \n",
       "5  {'model__C': 1, 'model__tol': 0.01, 'tfidf__mi...  \n",
       "8  {'model__C': 1, 'model__tol': 0.001, 'tfidf__m...  \n",
       "4  {'model__C': 1, 'model__tol': 0.01, 'tfidf__mi...  \n",
       "1  {'model__loss': 'hinge', 'model__max_iter': 10...  "
      ]
     },
     "execution_count": 58,
     "metadata": {},
     "output_type": "execute_result"
    }
   ],
   "source": [
    "gridsearch_results = pd.DataFrame(gridSearchProcessor.cv_results_)\n",
    "gridsearch_results[['rank_test_score', 'mean_test_score',\n",
    "                    'params']].sort_values(by=['rank_test_score'])[:5]"
   ]
  },
  {
   "cell_type": "markdown",
   "metadata": {
    "id": "17gu6w06I8uD"
   },
   "source": [
    "---\n",
    "<a name='6.6'></a><a id='6.6'></a>\n",
    "# 6.6 Blueprint Recap and Conclusion\n",
    "<a href=\"#top\">[back to top]</a>\n",
    "\n",
    "Here we apply the pattern for text classification to a different classification task.\n",
    "\n",
    "We want to automatically identify which part of the software the bug belongs to: Core, UI, and Doc.\n",
    "\n",
    "We update the blueprint with the following changes:\n",
    "\n",
    "* Additional step to include grid search to identify the best hyperparameters and limit the number of options tested to increase runtime.\n",
    "* Additional option to use the sklearn.svm.SVC function to compare performance and try nonlinear kernels."
   ]
  },
  {
   "cell_type": "code",
   "execution_count": 60,
   "metadata": {
    "colab": {
     "base_uri": "https://localhost:8080/"
    },
    "id": "dP2w5d-nI8uD",
    "outputId": "7a6cb1ac-a481-48cb-fe07-e710b4cc8710"
   },
   "outputs": [
    {
     "name": "stdout",
     "output_type": "stream",
     "text": [
      "Using SVC algorithm\n",
      "----------------------------------------\n"
     ]
    },
    {
     "data": {
      "application/vnd.jupyter.widget-view+json": {
       "model_id": "d1bd7bf913dc4f3cbb403e9b0e149c7c",
       "version_major": 2,
       "version_minor": 0
      },
      "text/plain": [
       "progress-bar:   0%|          | 0/6 [00:00<?, ?it/s]"
      ]
     },
     "metadata": {},
     "output_type": "display_data"
    },
    {
     "name": "stdout",
     "output_type": "stream",
     "text": [
      "Size of Training Data  1588\n",
      "Size of Test Data  398\n",
      "Fitting 5 folds for each of 8 candidates, totalling 40 fits\n",
      "[CV 1/5] END model__C=1, model__kernel=linear, tfidf__min_df=5, tfidf__ngram_range=(1, 3);, score=0.679 total time=   6.1s\n",
      "[CV 2/5] END model__C=1, model__kernel=linear, tfidf__min_df=5, tfidf__ngram_range=(1, 3);, score=0.654 total time=   5.0s\n",
      "[CV 3/5] END model__C=1, model__kernel=linear, tfidf__min_df=5, tfidf__ngram_range=(1, 3);, score=0.704 total time=   5.1s\n",
      "[CV 4/5] END model__C=1, model__kernel=linear, tfidf__min_df=5, tfidf__ngram_range=(1, 3);, score=0.650 total time=   4.9s\n",
      "[CV 5/5] END model__C=1, model__kernel=linear, tfidf__min_df=5, tfidf__ngram_range=(1, 3);, score=0.735 total time=   5.1s\n",
      "[CV 1/5] END model__C=1, model__kernel=linear, tfidf__min_df=5, tfidf__ngram_range=(1, 6);, score=0.689 total time=   6.6s\n",
      "[CV 2/5] END model__C=1, model__kernel=linear, tfidf__min_df=5, tfidf__ngram_range=(1, 6);, score=0.648 total time=   6.6s\n",
      "[CV 3/5] END model__C=1, model__kernel=linear, tfidf__min_df=5, tfidf__ngram_range=(1, 6);, score=0.698 total time=   6.8s\n",
      "[CV 4/5] END model__C=1, model__kernel=linear, tfidf__min_df=5, tfidf__ngram_range=(1, 6);, score=0.650 total time=   6.5s\n",
      "[CV 5/5] END model__C=1, model__kernel=linear, tfidf__min_df=5, tfidf__ngram_range=(1, 6);, score=0.732 total time=   8.4s\n",
      "[CV 1/5] END model__C=1, model__kernel=linear, tfidf__min_df=10, tfidf__ngram_range=(1, 3);, score=0.619 total time=   4.0s\n",
      "[CV 2/5] END model__C=1, model__kernel=linear, tfidf__min_df=10, tfidf__ngram_range=(1, 3);, score=0.616 total time=   4.0s\n",
      "[CV 3/5] END model__C=1, model__kernel=linear, tfidf__min_df=10, tfidf__ngram_range=(1, 3);, score=0.667 total time=   4.1s\n",
      "[CV 4/5] END model__C=1, model__kernel=linear, tfidf__min_df=10, tfidf__ngram_range=(1, 3);, score=0.640 total time=   4.0s\n",
      "[CV 5/5] END model__C=1, model__kernel=linear, tfidf__min_df=10, tfidf__ngram_range=(1, 3);, score=0.710 total time=   4.1s\n",
      "[CV 1/5] END model__C=1, model__kernel=linear, tfidf__min_df=10, tfidf__ngram_range=(1, 6);, score=0.623 total time=   5.2s\n",
      "[CV 2/5] END model__C=1, model__kernel=linear, tfidf__min_df=10, tfidf__ngram_range=(1, 6);, score=0.616 total time=   5.2s\n",
      "[CV 3/5] END model__C=1, model__kernel=linear, tfidf__min_df=10, tfidf__ngram_range=(1, 6);, score=0.654 total time=   5.4s\n",
      "[CV 4/5] END model__C=1, model__kernel=linear, tfidf__min_df=10, tfidf__ngram_range=(1, 6);, score=0.640 total time=   5.2s\n",
      "[CV 5/5] END model__C=1, model__kernel=linear, tfidf__min_df=10, tfidf__ngram_range=(1, 6);, score=0.707 total time=   5.5s\n",
      "[CV 1/5] END model__C=100, model__kernel=linear, tfidf__min_df=5, tfidf__ngram_range=(1, 3);, score=0.676 total time=   5.6s\n",
      "[CV 2/5] END model__C=100, model__kernel=linear, tfidf__min_df=5, tfidf__ngram_range=(1, 3);, score=0.657 total time=   5.6s\n",
      "[CV 3/5] END model__C=100, model__kernel=linear, tfidf__min_df=5, tfidf__ngram_range=(1, 3);, score=0.664 total time=   5.6s\n",
      "[CV 4/5] END model__C=100, model__kernel=linear, tfidf__min_df=5, tfidf__ngram_range=(1, 3);, score=0.625 total time=   5.5s\n",
      "[CV 5/5] END model__C=100, model__kernel=linear, tfidf__min_df=5, tfidf__ngram_range=(1, 3);, score=0.707 total time=   5.7s\n",
      "[CV 1/5] END model__C=100, model__kernel=linear, tfidf__min_df=5, tfidf__ngram_range=(1, 6);, score=0.679 total time=   7.2s\n",
      "[CV 2/5] END model__C=100, model__kernel=linear, tfidf__min_df=5, tfidf__ngram_range=(1, 6);, score=0.670 total time=   7.9s\n",
      "[CV 3/5] END model__C=100, model__kernel=linear, tfidf__min_df=5, tfidf__ngram_range=(1, 6);, score=0.648 total time=  12.5s\n",
      "[CV 4/5] END model__C=100, model__kernel=linear, tfidf__min_df=5, tfidf__ngram_range=(1, 6);, score=0.631 total time=   9.5s\n",
      "[CV 5/5] END model__C=100, model__kernel=linear, tfidf__min_df=5, tfidf__ngram_range=(1, 6);, score=0.707 total time=   8.0s\n",
      "[CV 1/5] END model__C=100, model__kernel=linear, tfidf__min_df=10, tfidf__ngram_range=(1, 3);, score=0.619 total time=   4.6s\n",
      "[CV 2/5] END model__C=100, model__kernel=linear, tfidf__min_df=10, tfidf__ngram_range=(1, 3);, score=0.579 total time=   4.6s\n",
      "[CV 3/5] END model__C=100, model__kernel=linear, tfidf__min_df=10, tfidf__ngram_range=(1, 3);, score=0.588 total time=   4.9s\n",
      "[CV 4/5] END model__C=100, model__kernel=linear, tfidf__min_df=10, tfidf__ngram_range=(1, 3);, score=0.634 total time=   5.0s\n",
      "[CV 5/5] END model__C=100, model__kernel=linear, tfidf__min_df=10, tfidf__ngram_range=(1, 3);, score=0.675 total time=   5.0s\n",
      "[CV 1/5] END model__C=100, model__kernel=linear, tfidf__min_df=10, tfidf__ngram_range=(1, 6);, score=0.626 total time=   5.8s\n",
      "[CV 2/5] END model__C=100, model__kernel=linear, tfidf__min_df=10, tfidf__ngram_range=(1, 6);, score=0.575 total time=   6.2s\n",
      "[CV 3/5] END model__C=100, model__kernel=linear, tfidf__min_df=10, tfidf__ngram_range=(1, 6);, score=0.597 total time=   6.2s\n",
      "[CV 4/5] END model__C=100, model__kernel=linear, tfidf__min_df=10, tfidf__ngram_range=(1, 6);, score=0.625 total time=   5.9s\n",
      "[CV 5/5] END model__C=100, model__kernel=linear, tfidf__min_df=10, tfidf__ngram_range=(1, 6);, score=0.672 total time=   5.9s\n"
     ]
    },
    {
     "data": {
      "text/html": [
       "<style>#sk-container-id-2 {\n",
       "  /* Definition of color scheme common for light and dark mode */\n",
       "  --sklearn-color-text: black;\n",
       "  --sklearn-color-line: gray;\n",
       "  /* Definition of color scheme for unfitted estimators */\n",
       "  --sklearn-color-unfitted-level-0: #fff5e6;\n",
       "  --sklearn-color-unfitted-level-1: #f6e4d2;\n",
       "  --sklearn-color-unfitted-level-2: #ffe0b3;\n",
       "  --sklearn-color-unfitted-level-3: chocolate;\n",
       "  /* Definition of color scheme for fitted estimators */\n",
       "  --sklearn-color-fitted-level-0: #f0f8ff;\n",
       "  --sklearn-color-fitted-level-1: #d4ebff;\n",
       "  --sklearn-color-fitted-level-2: #b3dbfd;\n",
       "  --sklearn-color-fitted-level-3: cornflowerblue;\n",
       "\n",
       "  /* Specific color for light theme */\n",
       "  --sklearn-color-text-on-default-background: var(--sg-text-color, var(--theme-code-foreground, var(--jp-content-font-color1, black)));\n",
       "  --sklearn-color-background: var(--sg-background-color, var(--theme-background, var(--jp-layout-color0, white)));\n",
       "  --sklearn-color-border-box: var(--sg-text-color, var(--theme-code-foreground, var(--jp-content-font-color1, black)));\n",
       "  --sklearn-color-icon: #696969;\n",
       "\n",
       "  @media (prefers-color-scheme: dark) {\n",
       "    /* Redefinition of color scheme for dark theme */\n",
       "    --sklearn-color-text-on-default-background: var(--sg-text-color, var(--theme-code-foreground, var(--jp-content-font-color1, white)));\n",
       "    --sklearn-color-background: var(--sg-background-color, var(--theme-background, var(--jp-layout-color0, #111)));\n",
       "    --sklearn-color-border-box: var(--sg-text-color, var(--theme-code-foreground, var(--jp-content-font-color1, white)));\n",
       "    --sklearn-color-icon: #878787;\n",
       "  }\n",
       "}\n",
       "\n",
       "#sk-container-id-2 {\n",
       "  color: var(--sklearn-color-text);\n",
       "}\n",
       "\n",
       "#sk-container-id-2 pre {\n",
       "  padding: 0;\n",
       "}\n",
       "\n",
       "#sk-container-id-2 input.sk-hidden--visually {\n",
       "  border: 0;\n",
       "  clip: rect(1px 1px 1px 1px);\n",
       "  clip: rect(1px, 1px, 1px, 1px);\n",
       "  height: 1px;\n",
       "  margin: -1px;\n",
       "  overflow: hidden;\n",
       "  padding: 0;\n",
       "  position: absolute;\n",
       "  width: 1px;\n",
       "}\n",
       "\n",
       "#sk-container-id-2 div.sk-dashed-wrapped {\n",
       "  border: 1px dashed var(--sklearn-color-line);\n",
       "  margin: 0 0.4em 0.5em 0.4em;\n",
       "  box-sizing: border-box;\n",
       "  padding-bottom: 0.4em;\n",
       "  background-color: var(--sklearn-color-background);\n",
       "}\n",
       "\n",
       "#sk-container-id-2 div.sk-container {\n",
       "  /* jupyter's `normalize.less` sets `[hidden] { display: none; }`\n",
       "     but bootstrap.min.css set `[hidden] { display: none !important; }`\n",
       "     so we also need the `!important` here to be able to override the\n",
       "     default hidden behavior on the sphinx rendered scikit-learn.org.\n",
       "     See: https://github.com/scikit-learn/scikit-learn/issues/21755 */\n",
       "  display: inline-block !important;\n",
       "  position: relative;\n",
       "}\n",
       "\n",
       "#sk-container-id-2 div.sk-text-repr-fallback {\n",
       "  display: none;\n",
       "}\n",
       "\n",
       "div.sk-parallel-item,\n",
       "div.sk-serial,\n",
       "div.sk-item {\n",
       "  /* draw centered vertical line to link estimators */\n",
       "  background-image: linear-gradient(var(--sklearn-color-text-on-default-background), var(--sklearn-color-text-on-default-background));\n",
       "  background-size: 2px 100%;\n",
       "  background-repeat: no-repeat;\n",
       "  background-position: center center;\n",
       "}\n",
       "\n",
       "/* Parallel-specific style estimator block */\n",
       "\n",
       "#sk-container-id-2 div.sk-parallel-item::after {\n",
       "  content: \"\";\n",
       "  width: 100%;\n",
       "  border-bottom: 2px solid var(--sklearn-color-text-on-default-background);\n",
       "  flex-grow: 1;\n",
       "}\n",
       "\n",
       "#sk-container-id-2 div.sk-parallel {\n",
       "  display: flex;\n",
       "  align-items: stretch;\n",
       "  justify-content: center;\n",
       "  background-color: var(--sklearn-color-background);\n",
       "  position: relative;\n",
       "}\n",
       "\n",
       "#sk-container-id-2 div.sk-parallel-item {\n",
       "  display: flex;\n",
       "  flex-direction: column;\n",
       "}\n",
       "\n",
       "#sk-container-id-2 div.sk-parallel-item:first-child::after {\n",
       "  align-self: flex-end;\n",
       "  width: 50%;\n",
       "}\n",
       "\n",
       "#sk-container-id-2 div.sk-parallel-item:last-child::after {\n",
       "  align-self: flex-start;\n",
       "  width: 50%;\n",
       "}\n",
       "\n",
       "#sk-container-id-2 div.sk-parallel-item:only-child::after {\n",
       "  width: 0;\n",
       "}\n",
       "\n",
       "/* Serial-specific style estimator block */\n",
       "\n",
       "#sk-container-id-2 div.sk-serial {\n",
       "  display: flex;\n",
       "  flex-direction: column;\n",
       "  align-items: center;\n",
       "  background-color: var(--sklearn-color-background);\n",
       "  padding-right: 1em;\n",
       "  padding-left: 1em;\n",
       "}\n",
       "\n",
       "\n",
       "/* Toggleable style: style used for estimator/Pipeline/ColumnTransformer box that is\n",
       "clickable and can be expanded/collapsed.\n",
       "- Pipeline and ColumnTransformer use this feature and define the default style\n",
       "- Estimators will overwrite some part of the style using the `sk-estimator` class\n",
       "*/\n",
       "\n",
       "/* Pipeline and ColumnTransformer style (default) */\n",
       "\n",
       "#sk-container-id-2 div.sk-toggleable {\n",
       "  /* Default theme specific background. It is overwritten whether we have a\n",
       "  specific estimator or a Pipeline/ColumnTransformer */\n",
       "  background-color: var(--sklearn-color-background);\n",
       "}\n",
       "\n",
       "/* Toggleable label */\n",
       "#sk-container-id-2 label.sk-toggleable__label {\n",
       "  cursor: pointer;\n",
       "  display: block;\n",
       "  width: 100%;\n",
       "  margin-bottom: 0;\n",
       "  padding: 0.5em;\n",
       "  box-sizing: border-box;\n",
       "  text-align: center;\n",
       "}\n",
       "\n",
       "#sk-container-id-2 label.sk-toggleable__label-arrow:before {\n",
       "  /* Arrow on the left of the label */\n",
       "  content: \"▸\";\n",
       "  float: left;\n",
       "  margin-right: 0.25em;\n",
       "  color: var(--sklearn-color-icon);\n",
       "}\n",
       "\n",
       "#sk-container-id-2 label.sk-toggleable__label-arrow:hover:before {\n",
       "  color: var(--sklearn-color-text);\n",
       "}\n",
       "\n",
       "/* Toggleable content - dropdown */\n",
       "\n",
       "#sk-container-id-2 div.sk-toggleable__content {\n",
       "  max-height: 0;\n",
       "  max-width: 0;\n",
       "  overflow: hidden;\n",
       "  text-align: left;\n",
       "  /* unfitted */\n",
       "  background-color: var(--sklearn-color-unfitted-level-0);\n",
       "}\n",
       "\n",
       "#sk-container-id-2 div.sk-toggleable__content.fitted {\n",
       "  /* fitted */\n",
       "  background-color: var(--sklearn-color-fitted-level-0);\n",
       "}\n",
       "\n",
       "#sk-container-id-2 div.sk-toggleable__content pre {\n",
       "  margin: 0.2em;\n",
       "  border-radius: 0.25em;\n",
       "  color: var(--sklearn-color-text);\n",
       "  /* unfitted */\n",
       "  background-color: var(--sklearn-color-unfitted-level-0);\n",
       "}\n",
       "\n",
       "#sk-container-id-2 div.sk-toggleable__content.fitted pre {\n",
       "  /* unfitted */\n",
       "  background-color: var(--sklearn-color-fitted-level-0);\n",
       "}\n",
       "\n",
       "#sk-container-id-2 input.sk-toggleable__control:checked~div.sk-toggleable__content {\n",
       "  /* Expand drop-down */\n",
       "  max-height: 200px;\n",
       "  max-width: 100%;\n",
       "  overflow: auto;\n",
       "}\n",
       "\n",
       "#sk-container-id-2 input.sk-toggleable__control:checked~label.sk-toggleable__label-arrow:before {\n",
       "  content: \"▾\";\n",
       "}\n",
       "\n",
       "/* Pipeline/ColumnTransformer-specific style */\n",
       "\n",
       "#sk-container-id-2 div.sk-label input.sk-toggleable__control:checked~label.sk-toggleable__label {\n",
       "  color: var(--sklearn-color-text);\n",
       "  background-color: var(--sklearn-color-unfitted-level-2);\n",
       "}\n",
       "\n",
       "#sk-container-id-2 div.sk-label.fitted input.sk-toggleable__control:checked~label.sk-toggleable__label {\n",
       "  background-color: var(--sklearn-color-fitted-level-2);\n",
       "}\n",
       "\n",
       "/* Estimator-specific style */\n",
       "\n",
       "/* Colorize estimator box */\n",
       "#sk-container-id-2 div.sk-estimator input.sk-toggleable__control:checked~label.sk-toggleable__label {\n",
       "  /* unfitted */\n",
       "  background-color: var(--sklearn-color-unfitted-level-2);\n",
       "}\n",
       "\n",
       "#sk-container-id-2 div.sk-estimator.fitted input.sk-toggleable__control:checked~label.sk-toggleable__label {\n",
       "  /* fitted */\n",
       "  background-color: var(--sklearn-color-fitted-level-2);\n",
       "}\n",
       "\n",
       "#sk-container-id-2 div.sk-label label.sk-toggleable__label,\n",
       "#sk-container-id-2 div.sk-label label {\n",
       "  /* The background is the default theme color */\n",
       "  color: var(--sklearn-color-text-on-default-background);\n",
       "}\n",
       "\n",
       "/* On hover, darken the color of the background */\n",
       "#sk-container-id-2 div.sk-label:hover label.sk-toggleable__label {\n",
       "  color: var(--sklearn-color-text);\n",
       "  background-color: var(--sklearn-color-unfitted-level-2);\n",
       "}\n",
       "\n",
       "/* Label box, darken color on hover, fitted */\n",
       "#sk-container-id-2 div.sk-label.fitted:hover label.sk-toggleable__label.fitted {\n",
       "  color: var(--sklearn-color-text);\n",
       "  background-color: var(--sklearn-color-fitted-level-2);\n",
       "}\n",
       "\n",
       "/* Estimator label */\n",
       "\n",
       "#sk-container-id-2 div.sk-label label {\n",
       "  font-family: monospace;\n",
       "  font-weight: bold;\n",
       "  display: inline-block;\n",
       "  line-height: 1.2em;\n",
       "}\n",
       "\n",
       "#sk-container-id-2 div.sk-label-container {\n",
       "  text-align: center;\n",
       "}\n",
       "\n",
       "/* Estimator-specific */\n",
       "#sk-container-id-2 div.sk-estimator {\n",
       "  font-family: monospace;\n",
       "  border: 1px dotted var(--sklearn-color-border-box);\n",
       "  border-radius: 0.25em;\n",
       "  box-sizing: border-box;\n",
       "  margin-bottom: 0.5em;\n",
       "  /* unfitted */\n",
       "  background-color: var(--sklearn-color-unfitted-level-0);\n",
       "}\n",
       "\n",
       "#sk-container-id-2 div.sk-estimator.fitted {\n",
       "  /* fitted */\n",
       "  background-color: var(--sklearn-color-fitted-level-0);\n",
       "}\n",
       "\n",
       "/* on hover */\n",
       "#sk-container-id-2 div.sk-estimator:hover {\n",
       "  /* unfitted */\n",
       "  background-color: var(--sklearn-color-unfitted-level-2);\n",
       "}\n",
       "\n",
       "#sk-container-id-2 div.sk-estimator.fitted:hover {\n",
       "  /* fitted */\n",
       "  background-color: var(--sklearn-color-fitted-level-2);\n",
       "}\n",
       "\n",
       "/* Specification for estimator info (e.g. \"i\" and \"?\") */\n",
       "\n",
       "/* Common style for \"i\" and \"?\" */\n",
       "\n",
       ".sk-estimator-doc-link,\n",
       "a:link.sk-estimator-doc-link,\n",
       "a:visited.sk-estimator-doc-link {\n",
       "  float: right;\n",
       "  font-size: smaller;\n",
       "  line-height: 1em;\n",
       "  font-family: monospace;\n",
       "  background-color: var(--sklearn-color-background);\n",
       "  border-radius: 1em;\n",
       "  height: 1em;\n",
       "  width: 1em;\n",
       "  text-decoration: none !important;\n",
       "  margin-left: 1ex;\n",
       "  /* unfitted */\n",
       "  border: var(--sklearn-color-unfitted-level-1) 1pt solid;\n",
       "  color: var(--sklearn-color-unfitted-level-1);\n",
       "}\n",
       "\n",
       ".sk-estimator-doc-link.fitted,\n",
       "a:link.sk-estimator-doc-link.fitted,\n",
       "a:visited.sk-estimator-doc-link.fitted {\n",
       "  /* fitted */\n",
       "  border: var(--sklearn-color-fitted-level-1) 1pt solid;\n",
       "  color: var(--sklearn-color-fitted-level-1);\n",
       "}\n",
       "\n",
       "/* On hover */\n",
       "div.sk-estimator:hover .sk-estimator-doc-link:hover,\n",
       ".sk-estimator-doc-link:hover,\n",
       "div.sk-label-container:hover .sk-estimator-doc-link:hover,\n",
       ".sk-estimator-doc-link:hover {\n",
       "  /* unfitted */\n",
       "  background-color: var(--sklearn-color-unfitted-level-3);\n",
       "  color: var(--sklearn-color-background);\n",
       "  text-decoration: none;\n",
       "}\n",
       "\n",
       "div.sk-estimator.fitted:hover .sk-estimator-doc-link.fitted:hover,\n",
       ".sk-estimator-doc-link.fitted:hover,\n",
       "div.sk-label-container:hover .sk-estimator-doc-link.fitted:hover,\n",
       ".sk-estimator-doc-link.fitted:hover {\n",
       "  /* fitted */\n",
       "  background-color: var(--sklearn-color-fitted-level-3);\n",
       "  color: var(--sklearn-color-background);\n",
       "  text-decoration: none;\n",
       "}\n",
       "\n",
       "/* Span, style for the box shown on hovering the info icon */\n",
       ".sk-estimator-doc-link span {\n",
       "  display: none;\n",
       "  z-index: 9999;\n",
       "  position: relative;\n",
       "  font-weight: normal;\n",
       "  right: .2ex;\n",
       "  padding: .5ex;\n",
       "  margin: .5ex;\n",
       "  width: min-content;\n",
       "  min-width: 20ex;\n",
       "  max-width: 50ex;\n",
       "  color: var(--sklearn-color-text);\n",
       "  box-shadow: 2pt 2pt 4pt #999;\n",
       "  /* unfitted */\n",
       "  background: var(--sklearn-color-unfitted-level-0);\n",
       "  border: .5pt solid var(--sklearn-color-unfitted-level-3);\n",
       "}\n",
       "\n",
       ".sk-estimator-doc-link.fitted span {\n",
       "  /* fitted */\n",
       "  background: var(--sklearn-color-fitted-level-0);\n",
       "  border: var(--sklearn-color-fitted-level-3);\n",
       "}\n",
       "\n",
       ".sk-estimator-doc-link:hover span {\n",
       "  display: block;\n",
       "}\n",
       "\n",
       "/* \"?\"-specific style due to the `<a>` HTML tag */\n",
       "\n",
       "#sk-container-id-2 a.estimator_doc_link {\n",
       "  float: right;\n",
       "  font-size: 1rem;\n",
       "  line-height: 1em;\n",
       "  font-family: monospace;\n",
       "  background-color: var(--sklearn-color-background);\n",
       "  border-radius: 1rem;\n",
       "  height: 1rem;\n",
       "  width: 1rem;\n",
       "  text-decoration: none;\n",
       "  /* unfitted */\n",
       "  color: var(--sklearn-color-unfitted-level-1);\n",
       "  border: var(--sklearn-color-unfitted-level-1) 1pt solid;\n",
       "}\n",
       "\n",
       "#sk-container-id-2 a.estimator_doc_link.fitted {\n",
       "  /* fitted */\n",
       "  border: var(--sklearn-color-fitted-level-1) 1pt solid;\n",
       "  color: var(--sklearn-color-fitted-level-1);\n",
       "}\n",
       "\n",
       "/* On hover */\n",
       "#sk-container-id-2 a.estimator_doc_link:hover {\n",
       "  /* unfitted */\n",
       "  background-color: var(--sklearn-color-unfitted-level-3);\n",
       "  color: var(--sklearn-color-background);\n",
       "  text-decoration: none;\n",
       "}\n",
       "\n",
       "#sk-container-id-2 a.estimator_doc_link.fitted:hover {\n",
       "  /* fitted */\n",
       "  background-color: var(--sklearn-color-fitted-level-3);\n",
       "}\n",
       "</style><div id=\"sk-container-id-2\" class=\"sk-top-container\"><div class=\"sk-text-repr-fallback\"><pre>GridSearchCV(cv=5,\n",
       "             estimator=Pipeline(steps=[(&#x27;tfidf&#x27;,\n",
       "                                        TfidfVectorizer(stop_words=&#x27;english&#x27;)),\n",
       "                                       (&#x27;model&#x27;,\n",
       "                                        SVC(probability=True,\n",
       "                                            random_state=42))]),\n",
       "             param_grid=[{&#x27;model__C&#x27;: [1, 100], &#x27;model__kernel&#x27;: [&#x27;linear&#x27;],\n",
       "                          &#x27;tfidf__min_df&#x27;: [5, 10],\n",
       "                          &#x27;tfidf__ngram_range&#x27;: [(1, 3), (1, 6)]}],\n",
       "             verbose=3)</pre><b>In a Jupyter environment, please rerun this cell to show the HTML representation or trust the notebook. <br />On GitHub, the HTML representation is unable to render, please try loading this page with nbviewer.org.</b></div><div class=\"sk-container\" hidden><div class=\"sk-item sk-dashed-wrapped\"><div class=\"sk-label-container\"><div class=\"sk-label fitted sk-toggleable\"><input class=\"sk-toggleable__control sk-hidden--visually\" id=\"sk-estimator-id-2\" type=\"checkbox\" ><label for=\"sk-estimator-id-2\" class=\"sk-toggleable__label fitted sk-toggleable__label-arrow fitted\">&nbsp;&nbsp;GridSearchCV<a class=\"sk-estimator-doc-link fitted\" rel=\"noreferrer\" target=\"_blank\" href=\"https://scikit-learn.org/1.4/modules/generated/sklearn.model_selection.GridSearchCV.html\">?<span>Documentation for GridSearchCV</span></a><span class=\"sk-estimator-doc-link fitted\">i<span>Fitted</span></span></label><div class=\"sk-toggleable__content fitted\"><pre>GridSearchCV(cv=5,\n",
       "             estimator=Pipeline(steps=[(&#x27;tfidf&#x27;,\n",
       "                                        TfidfVectorizer(stop_words=&#x27;english&#x27;)),\n",
       "                                       (&#x27;model&#x27;,\n",
       "                                        SVC(probability=True,\n",
       "                                            random_state=42))]),\n",
       "             param_grid=[{&#x27;model__C&#x27;: [1, 100], &#x27;model__kernel&#x27;: [&#x27;linear&#x27;],\n",
       "                          &#x27;tfidf__min_df&#x27;: [5, 10],\n",
       "                          &#x27;tfidf__ngram_range&#x27;: [(1, 3), (1, 6)]}],\n",
       "             verbose=3)</pre></div> </div></div><div class=\"sk-parallel\"><div class=\"sk-parallel-item\"><div class=\"sk-item\"><div class=\"sk-label-container\"><div class=\"sk-label fitted sk-toggleable\"><input class=\"sk-toggleable__control sk-hidden--visually\" id=\"sk-estimator-id-3\" type=\"checkbox\" ><label for=\"sk-estimator-id-3\" class=\"sk-toggleable__label fitted sk-toggleable__label-arrow fitted\">estimator: Pipeline</label><div class=\"sk-toggleable__content fitted\"><pre>Pipeline(steps=[(&#x27;tfidf&#x27;, TfidfVectorizer(stop_words=&#x27;english&#x27;)),\n",
       "                (&#x27;model&#x27;, SVC(probability=True, random_state=42))])</pre></div> </div></div><div class=\"sk-serial\"><div class=\"sk-item\"><div class=\"sk-serial\"><div class=\"sk-item\"><div class=\"sk-estimator fitted sk-toggleable\"><input class=\"sk-toggleable__control sk-hidden--visually\" id=\"sk-estimator-id-4\" type=\"checkbox\" ><label for=\"sk-estimator-id-4\" class=\"sk-toggleable__label fitted sk-toggleable__label-arrow fitted\">&nbsp;TfidfVectorizer<a class=\"sk-estimator-doc-link fitted\" rel=\"noreferrer\" target=\"_blank\" href=\"https://scikit-learn.org/1.4/modules/generated/sklearn.feature_extraction.text.TfidfVectorizer.html\">?<span>Documentation for TfidfVectorizer</span></a></label><div class=\"sk-toggleable__content fitted\"><pre>TfidfVectorizer(stop_words=&#x27;english&#x27;)</pre></div> </div></div><div class=\"sk-item\"><div class=\"sk-estimator fitted sk-toggleable\"><input class=\"sk-toggleable__control sk-hidden--visually\" id=\"sk-estimator-id-5\" type=\"checkbox\" ><label for=\"sk-estimator-id-5\" class=\"sk-toggleable__label fitted sk-toggleable__label-arrow fitted\">&nbsp;SVC<a class=\"sk-estimator-doc-link fitted\" rel=\"noreferrer\" target=\"_blank\" href=\"https://scikit-learn.org/1.4/modules/generated/sklearn.svm.SVC.html\">?<span>Documentation for SVC</span></a></label><div class=\"sk-toggleable__content fitted\"><pre>SVC(probability=True, random_state=42)</pre></div> </div></div></div></div></div></div></div></div></div></div></div>"
      ],
      "text/plain": [
       "GridSearchCV(cv=5,\n",
       "             estimator=Pipeline(steps=[('tfidf',\n",
       "                                        TfidfVectorizer(stop_words='english')),\n",
       "                                       ('model',\n",
       "                                        SVC(probability=True,\n",
       "                                            random_state=42))]),\n",
       "             param_grid=[{'model__C': [1, 100], 'model__kernel': ['linear'],\n",
       "                          'tfidf__min_df': [5, 10],\n",
       "                          'tfidf__ngram_range': [(1, 3), (1, 6)]}],\n",
       "             verbose=3)"
      ]
     },
     "execution_count": 60,
     "metadata": {},
     "output_type": "execute_result"
    }
   ],
   "source": [
    "# Flag that determines the choice of SVC (True) and LinearSVC (False)\n",
    "runSVC = True\n",
    "\n",
    "if runSVC:\n",
    "    print(\"Using SVC algorithm\")\n",
    "else:\n",
    "    print(\"Using LinearSVC algorithm\")\n",
    "\n",
    "HR()\n",
    "\n",
    "\n",
    "# Loading the dataframe\n",
    "# file = \"eclipse_jdt.csv.gz\"\n",
    "file = \"eclipse_jdt.csv\"\n",
    "\n",
    "# GB: Create smaller dataset to ensure reasonable run-times on COLAB-CPU\n",
    "df_orig = pd.read_csv(file)\n",
    "\n",
    "\n",
    "### Using SVC algorithm\n",
    "\n",
    "# This takes around 4min (SVC COLAB-CPU) if we use a reduced dataset.\n",
    "# df = df_orig.sample(n=20_000, replace=True, random_state=42)\n",
    "\n",
    "# This takes 7min 13s (SVC COLAB-CPU) \n",
    "# df = df_orig.sample(n=30_000, replace=True, random_state=42)\n",
    "\n",
    "# This takes 12min 55s (SVC  COLAB-CPU) \n",
    "# df = df_orig.sample(n=40_000, replace=True, random_state=42)\n",
    "\n",
    "# Original dataset: This takes 16min 47s(SVC COLAB-CPU) \n",
    "# df = df_orig\n",
    "\n",
    "\n",
    "### Using LinearSVC algorithm\n",
    "\n",
    "# Original dataset: 45min 39s　(LinearSVC COLAB-CPU, full dataset, 45K) \n",
    "# df = df_orig\n",
    "df = df_orig.sample(n=10_000, replace=True, random_state=42)\n",
    "\n",
    "\n",
    "\n",
    "\n",
    "df = df[['Title', 'Description', 'Component']]\n",
    "df = df.dropna()\n",
    "df['text'] = df['Title'] + df['Description']\n",
    "df = df.drop(columns=['Title', 'Description'])\n",
    "\n",
    "\n",
    "# Step 1 - Data Preparation\n",
    "df['text'] = df['text'].apply(clean)\n",
    "df = df[df['text'].str.len() > 50]\n",
    "\n",
    "if (runSVC):    \n",
    "    # Sample the data when running SVC to ensure reasonable run-times\n",
    "    df = (\n",
    "        df\n",
    "        .groupby('Component', as_index=False)\n",
    "        .progress_apply(pd.DataFrame.sample, random_state=42, frac=.2)\n",
    "    )\n",
    "\n",
    "\n",
    "# Step 2 - Train-Test Split\n",
    "X_train, X_test, Y_train, Y_test = train_test_split(\n",
    "    df['text'], # X\n",
    "    df['Component'], # y\n",
    "    test_size=0.2,\n",
    "    random_state=42,\n",
    "    stratify=df['Component']\n",
    ")\n",
    "print('Size of Training Data ', X_train.shape[0])\n",
    "print('Size of Test Data ', X_test.shape[0])\n",
    "\n",
    "\n",
    "# Step 3 - Training the Machine Learning model\n",
    "tfidf = TfidfVectorizer(stop_words=\"english\")\n",
    "\n",
    "if (runSVC):\n",
    "    model = SVC(random_state=42, probability=True)\n",
    "    grid_param = [{\n",
    "        'tfidf__min_df': [5, 10],\n",
    "        'tfidf__ngram_range': [(1, 3), (1, 6)],\n",
    "        'model__C': [1, 100],\n",
    "        'model__kernel': ['linear']\n",
    "    }]\n",
    "else:\n",
    "    model = LinearSVC(random_state=42, tol=1e-5)\n",
    "    grid_param = {\n",
    "        'tfidf__min_df': [5, 10],\n",
    "        'tfidf__ngram_range': [(1, 3), (1, 6)],\n",
    "        'model__C': [1, 100],\n",
    "        'model__loss': ['hinge']\n",
    "    }\n",
    "\n",
    "training_pipeline = Pipeline(\n",
    "    steps=[('tfidf', TfidfVectorizer(stop_words=\"english\")), ('model', model)]\n",
    ")\n",
    "\n",
    "gridSearchProcessor = GridSearchCV(\n",
    "    estimator=training_pipeline,\n",
    "    param_grid=grid_param,\n",
    "    cv=5,\n",
    "    verbose=3\n",
    ")\n",
    "\n",
    "gridSearchProcessor.fit(X_train, Y_train)"
   ]
  },
  {
   "cell_type": "code",
   "execution_count": 61,
   "metadata": {},
   "outputs": [
    {
     "name": "stdout",
     "output_type": "stream",
     "text": [
      "Best alpha parameter identified by grid search  {'model__C': 1, 'model__kernel': 'linear', 'tfidf__min_df': 5, 'tfidf__ngram_range': (1, 3)}\n",
      "Best result identified by grid search  0.6845187786441282\n",
      "Accuracy Score -  0.6557788944723618\n",
      "              precision    recall  f1-score   support\n",
      "\n",
      "         APT       0.00      0.00      0.00         4\n",
      "        Core       0.66      0.72      0.69       120\n",
      "       Debug       0.90      0.68      0.78        66\n",
      "         Doc       0.00      0.00      0.00         3\n",
      "        Text       0.52      0.25      0.34        52\n",
      "          UI       0.61      0.76      0.68       153\n",
      "\n",
      "    accuracy                           0.66       398\n",
      "   macro avg       0.45      0.40      0.41       398\n",
      "weighted avg       0.65      0.66      0.64       398\n",
      "\n"
     ]
    }
   ],
   "source": [
    "best_params = gridSearchProcessor.best_params_\n",
    "print(\"Best alpha parameter identified by grid search \", best_params)\n",
    "\n",
    "best_result = gridSearchProcessor.best_score_\n",
    "print(\"Best result identified by grid search \", best_result)\n",
    "\n",
    "best_model = gridSearchProcessor.best_estimator_\n",
    "\n",
    "\n",
    "# Step 4 - Model Evaluation\n",
    "Y_pred = best_model.predict(X_test)\n",
    "print('Accuracy Score - ', accuracy_score(Y_test, Y_pred))\n",
    "print(classification_report(Y_test, Y_pred))"
   ]
  },
  {
   "cell_type": "markdown",
   "metadata": {
    "id": "VKwWuBnSUj9B"
   },
   "source": [
    "Best alpha parameter identified by grid search:\n",
    "    \n",
    "    {\n",
    "        'model__C': 1, \n",
    "        'model__kernel': 'linear', \n",
    "        'tfidf__min_df': 5, \n",
    "        'tfidf__ngram_range': (1, 6)\n",
    "    }"
   ]
  },
  {
   "cell_type": "code",
   "execution_count": 62,
   "metadata": {
    "colab": {
     "base_uri": "https://localhost:8080/"
    },
    "id": "Lpqp8ijPI8uE",
    "outputId": "5c66f7c2-ca28-4df1-e313-9589072f1f62"
   },
   "outputs": [
    {
     "name": "stdout",
     "output_type": "stream",
     "text": [
      "Accuracy Score -  0.3844221105527638\n"
     ]
    }
   ],
   "source": [
    "clf = DummyClassifier(strategy='most_frequent', random_state=21)\n",
    "clf.fit(X_train, Y_train)\n",
    "Y_pred_baseline = clf.predict(X_test)\n",
    "print ('Accuracy Score - ', accuracy_score(Y_test, Y_pred_baseline))"
   ]
  },
  {
   "cell_type": "code",
   "execution_count": 63,
   "metadata": {
    "colab": {
     "base_uri": "https://localhost:8080/",
     "height": 111
    },
    "id": "QKFqzNQdI8uE",
    "outputId": "7faac1cc-8f8d-4ea8-a7e9-74c0b7b7cb6b"
   },
   "outputs": [
    {
     "data": {
      "text/html": [
       "<div>\n",
       "<style scoped>\n",
       "    .dataframe tbody tr th:only-of-type {\n",
       "        vertical-align: middle;\n",
       "    }\n",
       "\n",
       "    .dataframe tbody tr th {\n",
       "        vertical-align: top;\n",
       "    }\n",
       "\n",
       "    .dataframe thead th {\n",
       "        text-align: right;\n",
       "    }\n",
       "</style>\n",
       "<table border=\"1\" class=\"dataframe\">\n",
       "  <thead>\n",
       "    <tr style=\"text-align: right;\">\n",
       "      <th></th>\n",
       "      <th></th>\n",
       "      <th>text</th>\n",
       "      <th>actual</th>\n",
       "      <th>predicted</th>\n",
       "    </tr>\n",
       "  </thead>\n",
       "  <tbody>\n",
       "    <tr>\n",
       "      <th>4</th>\n",
       "      <th>9518</th>\n",
       "      <td>Hovers preferences hard to useThe Hovers tab i...</td>\n",
       "      <td>Text</td>\n",
       "      <td>Text</td>\n",
       "    </tr>\n",
       "    <tr>\n",
       "      <th>5</th>\n",
       "      <th>17214</th>\n",
       "      <td>Change Method Signature: Problems with extra d...</td>\n",
       "      <td>UI</td>\n",
       "      <td>UI</td>\n",
       "    </tr>\n",
       "  </tbody>\n",
       "</table>\n",
       "</div>"
      ],
      "text/plain": [
       "                                                      text actual predicted\n",
       "4 9518   Hovers preferences hard to useThe Hovers tab i...   Text      Text\n",
       "5 17214  Change Method Signature: Problems with extra d...     UI        UI"
      ]
     },
     "execution_count": 63,
     "metadata": {},
     "output_type": "execute_result"
    }
   ],
   "source": [
    "## Create a dataframe combining the Title and Description, \n",
    "## Actual and Predicted values that we can explore\n",
    "frame = { 'text': X_test, 'actual': Y_test, 'predicted': Y_pred } \n",
    "result = pd.DataFrame(frame)\n",
    "\n",
    "result[result['actual'] == result['predicted']].sample(2, random_state=21)"
   ]
  },
  {
   "cell_type": "code",
   "execution_count": 64,
   "metadata": {
    "colab": {
     "base_uri": "https://localhost:8080/",
     "height": 111
    },
    "id": "i_rDXB1wI8uE",
    "outputId": "0ec053ec-15fa-460c-bc71-a9dcd26ef87c"
   },
   "outputs": [
    {
     "data": {
      "text/html": [
       "<div>\n",
       "<style scoped>\n",
       "    .dataframe tbody tr th:only-of-type {\n",
       "        vertical-align: middle;\n",
       "    }\n",
       "\n",
       "    .dataframe tbody tr th {\n",
       "        vertical-align: top;\n",
       "    }\n",
       "\n",
       "    .dataframe thead th {\n",
       "        text-align: right;\n",
       "    }\n",
       "</style>\n",
       "<table border=\"1\" class=\"dataframe\">\n",
       "  <thead>\n",
       "    <tr style=\"text-align: right;\">\n",
       "      <th></th>\n",
       "      <th></th>\n",
       "      <th>text</th>\n",
       "      <th>actual</th>\n",
       "      <th>predicted</th>\n",
       "    </tr>\n",
       "  </thead>\n",
       "  <tbody>\n",
       "    <tr>\n",
       "      <th rowspan=\"2\" valign=\"top\">4</th>\n",
       "      <th>18935</th>\n",
       "      <td>ProjectionMapping results in assert exceptionU...</td>\n",
       "      <td>Text</td>\n",
       "      <td>UI</td>\n",
       "    </tr>\n",
       "    <tr>\n",
       "      <th>42918</th>\n",
       "      <td>Error searching references to the selected pro...</td>\n",
       "      <td>Text</td>\n",
       "      <td>Core</td>\n",
       "    </tr>\n",
       "  </tbody>\n",
       "</table>\n",
       "</div>"
      ],
      "text/plain": [
       "                                                      text actual predicted\n",
       "4 18935  ProjectionMapping results in assert exceptionU...   Text        UI\n",
       "  42918  Error searching references to the selected pro...   Text      Core"
      ]
     },
     "execution_count": 64,
     "metadata": {},
     "output_type": "execute_result"
    }
   ],
   "source": [
    "result[result['actual'] != result['predicted']].sample(2, random_state=42)"
   ]
  },
  {
   "cell_type": "code",
   "execution_count": 65,
   "metadata": {
    "colab": {
     "base_uri": "https://localhost:8080/"
    },
    "id": "CGSaDx6JZPuO",
    "outputId": "8e68905a-5c9d-4c0a-9539-6650ccd662b1"
   },
   "outputs": [
    {
     "name": "stdout",
     "output_type": "stream",
     "text": [
      "<class 'pandas.core.frame.DataFrame'>\n",
      "MultiIndex: 1986 entries, (0, 37840) to (5, 8792)\n",
      "Data columns (total 2 columns):\n",
      " #   Column     Non-Null Count  Dtype \n",
      "---  ------     --------------  ----- \n",
      " 0   Component  1986 non-null   object\n",
      " 1   text       1986 non-null   object\n",
      "dtypes: object(2)\n",
      "memory usage: 116.7+ KB\n"
     ]
    }
   ],
   "source": [
    "# Check size of final dataset\n",
    "df.info()"
   ]
  },
  {
   "cell_type": "code",
   "execution_count": null,
   "metadata": {},
   "outputs": [],
   "source": []
  }
 ],
 "metadata": {
  "colab": {
   "provenance": []
  },
  "gpuClass": "standard",
  "kernelspec": {
   "display_name": "Python 3 (ipykernel)",
   "language": "python",
   "name": "python3"
  },
  "language_info": {
   "codemirror_mode": {
    "name": "ipython",
    "version": 3
   },
   "file_extension": ".py",
   "mimetype": "text/x-python",
   "name": "python",
   "nbconvert_exporter": "python",
   "pygments_lexer": "ipython3",
   "version": "3.11.5"
  },
  "toc": {
   "base_numbering": 1,
   "nav_menu": {},
   "number_sections": true,
   "sideBar": true,
   "skip_h1_title": false,
   "title_cell": "Table of Contents",
   "title_sidebar": "Contents",
   "toc_cell": false,
   "toc_position": {},
   "toc_section_display": true,
   "toc_window_display": false
  },
  "varInspector": {
   "cols": {
    "lenName": 16,
    "lenType": 16,
    "lenVar": 40
   },
   "kernels_config": {
    "python": {
     "delete_cmd_postfix": "",
     "delete_cmd_prefix": "del ",
     "library": "var_list.py",
     "varRefreshCmd": "print(var_dic_list())"
    },
    "r": {
     "delete_cmd_postfix": ") ",
     "delete_cmd_prefix": "rm(",
     "library": "var_list.r",
     "varRefreshCmd": "cat(var_dic_list()) "
    }
   },
   "types_to_exclude": [
    "module",
    "function",
    "builtin_function_or_method",
    "instance",
    "_Feature"
   ],
   "window_display": false
  },
  "widgets": {
   "application/vnd.jupyter.widget-state+json": {
    "0a0d4d02efdf4a0985b134a253c9ec53": {
     "model_module": "@jupyter-widgets/base",
     "model_module_version": "1.2.0",
     "model_name": "LayoutModel",
     "state": {
      "_model_module": "@jupyter-widgets/base",
      "_model_module_version": "1.2.0",
      "_model_name": "LayoutModel",
      "_view_count": null,
      "_view_module": "@jupyter-widgets/base",
      "_view_module_version": "1.2.0",
      "_view_name": "LayoutView",
      "align_content": null,
      "align_items": null,
      "align_self": null,
      "border": null,
      "bottom": null,
      "display": null,
      "flex": null,
      "flex_flow": null,
      "grid_area": null,
      "grid_auto_columns": null,
      "grid_auto_flow": null,
      "grid_auto_rows": null,
      "grid_column": null,
      "grid_gap": null,
      "grid_row": null,
      "grid_template_areas": null,
      "grid_template_columns": null,
      "grid_template_rows": null,
      "height": null,
      "justify_content": null,
      "justify_items": null,
      "left": null,
      "margin": null,
      "max_height": null,
      "max_width": null,
      "min_height": null,
      "min_width": null,
      "object_fit": null,
      "object_position": null,
      "order": null,
      "overflow": null,
      "overflow_x": null,
      "overflow_y": null,
      "padding": null,
      "right": null,
      "top": null,
      "visibility": null,
      "width": null
     }
    },
    "0e7e539de35448b7a29249c1ea33561a": {
     "model_module": "@jupyter-widgets/controls",
     "model_module_version": "1.5.0",
     "model_name": "HTMLModel",
     "state": {
      "_dom_classes": [],
      "_model_module": "@jupyter-widgets/controls",
      "_model_module_version": "1.5.0",
      "_model_name": "HTMLModel",
      "_view_count": null,
      "_view_module": "@jupyter-widgets/controls",
      "_view_module_version": "1.5.0",
      "_view_name": "HTMLView",
      "description": "",
      "description_tooltip": null,
      "layout": "IPY_MODEL_0a0d4d02efdf4a0985b134a253c9ec53",
      "placeholder": "​",
      "style": "IPY_MODEL_5487a8f191314330a5ac24545ef2b4d9",
      "value": "progress-bar: 100%"
     }
    },
    "30f223ef43ef4a009c8fcf85c32351f5": {
     "model_module": "@jupyter-widgets/controls",
     "model_module_version": "1.5.0",
     "model_name": "FloatProgressModel",
     "state": {
      "_dom_classes": [],
      "_model_module": "@jupyter-widgets/controls",
      "_model_module_version": "1.5.0",
      "_model_name": "FloatProgressModel",
      "_view_count": null,
      "_view_module": "@jupyter-widgets/controls",
      "_view_module_version": "1.5.0",
      "_view_name": "ProgressView",
      "bar_style": "success",
      "description": "",
      "description_tooltip": null,
      "layout": "IPY_MODEL_3c5367ac15bc4b4290d0a80961046872",
      "max": 19982,
      "min": 0,
      "orientation": "horizontal",
      "style": "IPY_MODEL_fcab55a8aaaa430f841f24d341eced63",
      "value": 19982
     }
    },
    "3c5367ac15bc4b4290d0a80961046872": {
     "model_module": "@jupyter-widgets/base",
     "model_module_version": "1.2.0",
     "model_name": "LayoutModel",
     "state": {
      "_model_module": "@jupyter-widgets/base",
      "_model_module_version": "1.2.0",
      "_model_name": "LayoutModel",
      "_view_count": null,
      "_view_module": "@jupyter-widgets/base",
      "_view_module_version": "1.2.0",
      "_view_name": "LayoutView",
      "align_content": null,
      "align_items": null,
      "align_self": null,
      "border": null,
      "bottom": null,
      "display": null,
      "flex": null,
      "flex_flow": null,
      "grid_area": null,
      "grid_auto_columns": null,
      "grid_auto_flow": null,
      "grid_auto_rows": null,
      "grid_column": null,
      "grid_gap": null,
      "grid_row": null,
      "grid_template_areas": null,
      "grid_template_columns": null,
      "grid_template_rows": null,
      "height": null,
      "justify_content": null,
      "justify_items": null,
      "left": null,
      "margin": null,
      "max_height": null,
      "max_width": null,
      "min_height": null,
      "min_width": null,
      "object_fit": null,
      "object_position": null,
      "order": null,
      "overflow": null,
      "overflow_x": null,
      "overflow_y": null,
      "padding": null,
      "right": null,
      "top": null,
      "visibility": null,
      "width": null
     }
    },
    "5487a8f191314330a5ac24545ef2b4d9": {
     "model_module": "@jupyter-widgets/controls",
     "model_module_version": "1.5.0",
     "model_name": "DescriptionStyleModel",
     "state": {
      "_model_module": "@jupyter-widgets/controls",
      "_model_module_version": "1.5.0",
      "_model_name": "DescriptionStyleModel",
      "_view_count": null,
      "_view_module": "@jupyter-widgets/base",
      "_view_module_version": "1.2.0",
      "_view_name": "StyleView",
      "description_width": ""
     }
    },
    "b4c0d67d661f42338e07784e46aa7ae2": {
     "model_module": "@jupyter-widgets/controls",
     "model_module_version": "1.5.0",
     "model_name": "DescriptionStyleModel",
     "state": {
      "_model_module": "@jupyter-widgets/controls",
      "_model_module_version": "1.5.0",
      "_model_name": "DescriptionStyleModel",
      "_view_count": null,
      "_view_module": "@jupyter-widgets/base",
      "_view_module_version": "1.2.0",
      "_view_name": "StyleView",
      "description_width": ""
     }
    },
    "b5697344523048d09e04c9793718f4f6": {
     "model_module": "@jupyter-widgets/controls",
     "model_module_version": "1.5.0",
     "model_name": "HTMLModel",
     "state": {
      "_dom_classes": [],
      "_model_module": "@jupyter-widgets/controls",
      "_model_module_version": "1.5.0",
      "_model_name": "HTMLModel",
      "_view_count": null,
      "_view_module": "@jupyter-widgets/controls",
      "_view_module_version": "1.5.0",
      "_view_name": "HTMLView",
      "description": "",
      "description_tooltip": null,
      "layout": "IPY_MODEL_d053e874cddd4cd5977b449c2c44e3a5",
      "placeholder": "​",
      "style": "IPY_MODEL_b4c0d67d661f42338e07784e46aa7ae2",
      "value": " 19982/19982 [00:02&lt;00:00, 9485.25it/s]"
     }
    },
    "cf5cadf9cbb04cefb58706fbae26ffda": {
     "model_module": "@jupyter-widgets/controls",
     "model_module_version": "1.5.0",
     "model_name": "HBoxModel",
     "state": {
      "_dom_classes": [],
      "_model_module": "@jupyter-widgets/controls",
      "_model_module_version": "1.5.0",
      "_model_name": "HBoxModel",
      "_view_count": null,
      "_view_module": "@jupyter-widgets/controls",
      "_view_module_version": "1.5.0",
      "_view_name": "HBoxView",
      "box_style": "",
      "children": [
       "IPY_MODEL_0e7e539de35448b7a29249c1ea33561a",
       "IPY_MODEL_30f223ef43ef4a009c8fcf85c32351f5",
       "IPY_MODEL_b5697344523048d09e04c9793718f4f6"
      ],
      "layout": "IPY_MODEL_f6493e29966242259a3b4c4edae09109"
     }
    },
    "d053e874cddd4cd5977b449c2c44e3a5": {
     "model_module": "@jupyter-widgets/base",
     "model_module_version": "1.2.0",
     "model_name": "LayoutModel",
     "state": {
      "_model_module": "@jupyter-widgets/base",
      "_model_module_version": "1.2.0",
      "_model_name": "LayoutModel",
      "_view_count": null,
      "_view_module": "@jupyter-widgets/base",
      "_view_module_version": "1.2.0",
      "_view_name": "LayoutView",
      "align_content": null,
      "align_items": null,
      "align_self": null,
      "border": null,
      "bottom": null,
      "display": null,
      "flex": null,
      "flex_flow": null,
      "grid_area": null,
      "grid_auto_columns": null,
      "grid_auto_flow": null,
      "grid_auto_rows": null,
      "grid_column": null,
      "grid_gap": null,
      "grid_row": null,
      "grid_template_areas": null,
      "grid_template_columns": null,
      "grid_template_rows": null,
      "height": null,
      "justify_content": null,
      "justify_items": null,
      "left": null,
      "margin": null,
      "max_height": null,
      "max_width": null,
      "min_height": null,
      "min_width": null,
      "object_fit": null,
      "object_position": null,
      "order": null,
      "overflow": null,
      "overflow_x": null,
      "overflow_y": null,
      "padding": null,
      "right": null,
      "top": null,
      "visibility": null,
      "width": null
     }
    },
    "f6493e29966242259a3b4c4edae09109": {
     "model_module": "@jupyter-widgets/base",
     "model_module_version": "1.2.0",
     "model_name": "LayoutModel",
     "state": {
      "_model_module": "@jupyter-widgets/base",
      "_model_module_version": "1.2.0",
      "_model_name": "LayoutModel",
      "_view_count": null,
      "_view_module": "@jupyter-widgets/base",
      "_view_module_version": "1.2.0",
      "_view_name": "LayoutView",
      "align_content": null,
      "align_items": null,
      "align_self": null,
      "border": null,
      "bottom": null,
      "display": null,
      "flex": null,
      "flex_flow": null,
      "grid_area": null,
      "grid_auto_columns": null,
      "grid_auto_flow": null,
      "grid_auto_rows": null,
      "grid_column": null,
      "grid_gap": null,
      "grid_row": null,
      "grid_template_areas": null,
      "grid_template_columns": null,
      "grid_template_rows": null,
      "height": null,
      "justify_content": null,
      "justify_items": null,
      "left": null,
      "margin": null,
      "max_height": null,
      "max_width": null,
      "min_height": null,
      "min_width": null,
      "object_fit": null,
      "object_position": null,
      "order": null,
      "overflow": null,
      "overflow_x": null,
      "overflow_y": null,
      "padding": null,
      "right": null,
      "top": null,
      "visibility": null,
      "width": null
     }
    },
    "fcab55a8aaaa430f841f24d341eced63": {
     "model_module": "@jupyter-widgets/controls",
     "model_module_version": "1.5.0",
     "model_name": "ProgressStyleModel",
     "state": {
      "_model_module": "@jupyter-widgets/controls",
      "_model_module_version": "1.5.0",
      "_model_name": "ProgressStyleModel",
      "_view_count": null,
      "_view_module": "@jupyter-widgets/base",
      "_view_module_version": "1.2.0",
      "_view_name": "StyleView",
      "bar_color": null,
      "description_width": ""
     }
    }
   }
  }
 },
 "nbformat": 4,
 "nbformat_minor": 4
}
