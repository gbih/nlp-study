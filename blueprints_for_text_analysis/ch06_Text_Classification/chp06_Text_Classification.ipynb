{
 "cells": [
  {
   "cell_type": "markdown",
   "metadata": {
    "id": "4Fw6e5RVI8tl"
   },
   "source": [
    "<a id='top'></a><a name='top'></a>\n",
    "# Chapter 6: Text Classification Algorithms\n",
    "\n",
    "**Blueprints for Text Analysis Using Python**"
   ]
  },
  {
   "cell_type": "markdown",
   "metadata": {
    "id": "0U-FiuOGuUk0"
   },
   "source": [
    "* [Introduction](#introduction)\n",
    "* [6.0 Imports and Setup](#6.0)\n",
    "* [6.1 Introducing the Java Development Tools Bug Dataset](#6.1)\n",
    "* [6.2 Blueprint: Building a Text Classification System](#6.2)\n",
    "    - [6.2.1 Step 1: Data Preparation](#6.2.1)\n",
    "    - [6.2.2 Step 2: Train-Test Split](#6.2.2)\n",
    "    - [6.2.3 Step 3: Training the Machine Learning Model](#6.2.3)\n",
    "    - [6.2.4 Step 4: Model Evaluation](#6.2.4)\n",
    "* [6.3 Final Blueprint for Text Classification](#6.3)\n",
    "* [6.4 Blueprint: Using Cross-Validation to Estimate Realistic Accuracy Metrics](#6.4)\n",
    "* [6.5 Blueprint: Performing Hyperparameter Tuning with Grid Search](#6.5)\n",
    "* [6.6 Blueprint Recap and Conclusion](#6.6)\n",
    "\n",
    "This chapter is about using supervised learning for a classification problem."
   ]
  },
  {
   "cell_type": "markdown",
   "metadata": {
    "id": "mn9pcSO_uUk2"
   },
   "source": [
    "---\n",
    "<a name='introduction'></a><a id='introduction'></a>\n",
    "# Introduction\n",
    "<a href=\"#top\">[back to top]</a>\n",
    "\n",
    "### Dataset\n",
    "\n",
    "* Java Development Tools Bug dataset: [script](#eclipse_jdt.csv.gz), [source](https://github.com/blueprints-for-text-analytics-python/blueprints-text/raw/master/data/jdt-bugs-dataset/eclipse_jdt.csv.gz)\n",
    "\n",
    "### Explore\n",
    "\n",
    "* Applying supervised learning.\n",
    "* Splitting data into train and test sets.\n",
    "* Validating model performance using accuracy measures.\n",
    "* Applying cross-validation techniques. \n",
    "* Different types of text classification."
   ]
  },
  {
   "cell_type": "markdown",
   "metadata": {
    "id": "otC1d0YOuUk3"
   },
   "source": [
    "---\n",
    "<a name='6.0'></a><a id='6.0'></a>\n",
    "# 6.0 Imports and Setup\n",
    "<a href=\"#top\">[back to top]</a>"
   ]
  },
  {
   "cell_type": "code",
   "execution_count": 1,
   "metadata": {
    "id": "Qxu_MwyKZPtg"
   },
   "outputs": [],
   "source": [
    "# Start with clean project\n",
    "!rm -f *.gz \n",
    "!rm -f *.py \n",
    "!rm -f *.txt"
   ]
  },
  {
   "cell_type": "code",
   "execution_count": 2,
   "metadata": {
    "id": "eU1fd-_lI8ts"
   },
   "outputs": [],
   "source": [
    "req_file = \"requirements_06.txt\""
   ]
  },
  {
   "cell_type": "code",
   "execution_count": 3,
   "metadata": {
    "colab": {
     "base_uri": "https://localhost:8080/"
    },
    "id": "ATO_GMrDJSBp",
    "outputId": "38cd16f4-7876-4f6c-fdf2-dbc716fbd1fa"
   },
   "outputs": [
    {
     "name": "stdout",
     "output_type": "stream",
     "text": [
      "Writing requirements_06.txt\n"
     ]
    }
   ],
   "source": [
    "%%writefile {req_file}\n",
    "isort\n",
    "scikit-learn-intelex\n",
    "tqdm\n",
    "watermark"
   ]
  },
  {
   "cell_type": "code",
   "execution_count": 4,
   "metadata": {
    "colab": {
     "base_uri": "https://localhost:8080/"
    },
    "id": "s3SvDwxpJSFT",
    "outputId": "690065bd-aa8b-4b6f-b1f5-73937c2d6db8"
   },
   "outputs": [
    {
     "name": "stdout",
     "output_type": "stream",
     "text": [
      "Installing packages\n",
      "\u001b[2K     \u001b[90m━━━━━━━━━━━━━━━━━━━━━━━━━━━━━━━━━━━━━━━━\u001b[0m \u001b[32m91.2/91.2 KB\u001b[0m \u001b[31m2.2 MB/s\u001b[0m eta \u001b[36m0:00:00\u001b[0m\n",
      "\u001b[2K     \u001b[90m━━━━━━━━━━━━━━━━━━━━━━━━━━━━━━━━━━━━━━━━\u001b[0m \u001b[32m83.0/83.0 KB\u001b[0m \u001b[31m5.1 MB/s\u001b[0m eta \u001b[36m0:00:00\u001b[0m\n",
      "\u001b[2K     \u001b[90m━━━━━━━━━━━━━━━━━━━━━━━━━━━━━━━━━━━━━━━━\u001b[0m \u001b[32m12.7/12.7 MB\u001b[0m \u001b[31m36.8 MB/s\u001b[0m eta \u001b[36m0:00:00\u001b[0m\n",
      "\u001b[2K     \u001b[90m━━━━━━━━━━━━━━━━━━━━━━━━━━━━━━━━━━━━━━━━\u001b[0m \u001b[32m85.5/85.5 MB\u001b[0m \u001b[31m6.0 MB/s\u001b[0m eta \u001b[36m0:00:00\u001b[0m\n",
      "\u001b[2K     \u001b[90m━━━━━━━━━━━━━━━━━━━━━━━━━━━━━━━━━━━━━━━━\u001b[0m \u001b[32m4.0/4.0 MB\u001b[0m \u001b[31m18.3 MB/s\u001b[0m eta \u001b[36m0:00:00\u001b[0m\n",
      "\u001b[2K     \u001b[90m━━━━━━━━━━━━━━━━━━━━━━━━━━━━━━━━━━━━━━━━\u001b[0m \u001b[32m1.6/1.6 MB\u001b[0m \u001b[31m39.7 MB/s\u001b[0m eta \u001b[36m0:00:00\u001b[0m\n",
      "\u001b[?25h"
     ]
    }
   ],
   "source": [
    "import sys\n",
    "\n",
    "IS_COLAB = 'google.colab' in sys.modules\n",
    "if IS_COLAB:\n",
    "    print(\"Installing packages\")\n",
    "    !pip install --upgrade --quiet -r {req_file}\n",
    "else:\n",
    "    print(\"Running locally.\")"
   ]
  },
  {
   "cell_type": "code",
   "execution_count": 5,
   "metadata": {
    "colab": {
     "base_uri": "https://localhost:8080/"
    },
    "id": "29gQ_CjkuUk8",
    "outputId": "30e3c8c5-6b91-400f-c32b-2d8caa9430bb"
   },
   "outputs": [
    {
     "name": "stdout",
     "output_type": "stream",
     "text": [
      "Writing imports.py\n"
     ]
    }
   ],
   "source": [
    "%%writefile imports.py\n",
    "# Place at top to patch scikit-learn algorithms\n",
    "from sklearnex import patch_sklearn # isort:skip\n",
    "patch_sklearn() # isort:skip\n",
    "\n",
    "import html\n",
    "import locale\n",
    "import pprint\n",
    "import re\n",
    "import warnings\n",
    "\n",
    "import matplotlib.pyplot as plt\n",
    "import pandas as pd\n",
    "import seaborn as sns\n",
    "import spacy\n",
    "from sklearn.dummy import DummyClassifier\n",
    "from sklearn.feature_extraction.text import TfidfVectorizer\n",
    "from sklearn.metrics import (ConfusionMatrixDisplay, accuracy_score,\n",
    "                             classification_report, confusion_matrix)\n",
    "from sklearn.model_selection import (GridSearchCV, cross_val_score,\n",
    "                                     train_test_split)\n",
    "from sklearn.pipeline import Pipeline\n",
    "from sklearn.svm import SVC, LinearSVC\n",
    "from spacy.tokens import Span, Token\n",
    "from tqdm.auto import tqdm\n",
    "from watermark import watermark"
   ]
  },
  {
   "cell_type": "code",
   "execution_count": 6,
   "metadata": {
    "colab": {
     "base_uri": "https://localhost:8080/"
    },
    "id": "v9ZhWGQ1uUk9",
    "outputId": "32530952-a01b-4cce-c42b-c048198d24b3"
   },
   "outputs": [
    {
     "name": "stdout",
     "output_type": "stream",
     "text": [
      "# Place at top to patch scikit-learn algorithms\n",
      "from sklearnex import patch_sklearn # isort:skip\n",
      "patch_sklearn() # isort:skip\n",
      "\n",
      "import html\n",
      "import locale\n",
      "import pprint\n",
      "import re\n",
      "import warnings\n",
      "\n",
      "import matplotlib.pyplot as plt\n",
      "import pandas as pd\n",
      "import seaborn as sns\n",
      "import spacy\n",
      "from sklearn.dummy import DummyClassifier\n",
      "from sklearn.feature_extraction.text import TfidfVectorizer\n",
      "from sklearn.metrics import (ConfusionMatrixDisplay, accuracy_score,\n",
      "                             classification_report, confusion_matrix)\n",
      "from sklearn.model_selection import (GridSearchCV, cross_val_score,\n",
      "                                     train_test_split)\n",
      "from sklearn.pipeline import Pipeline\n",
      "from sklearn.svm import SVC, LinearSVC\n",
      "from spacy.tokens import Span, Token\n",
      "from tqdm.auto import tqdm\n",
      "from watermark import watermark\n"
     ]
    }
   ],
   "source": [
    "!isort imports.py\n",
    "!cat imports.py"
   ]
  },
  {
   "cell_type": "code",
   "execution_count": 7,
   "metadata": {
    "colab": {
     "base_uri": "https://localhost:8080/"
    },
    "id": "tDROH5uouUk-",
    "outputId": "a8493229-1f85-457d-d4b5-a23689664827"
   },
   "outputs": [
    {
     "name": "stderr",
     "output_type": "stream",
     "text": [
      "Intel(R) Extension for Scikit-learn* enabled (https://github.com/intel/scikit-learn-intelex)\n",
      "/usr/local/lib/python3.9/dist-packages/torch/cuda/__init__.py:497: UserWarning: Can't initialize NVML\n",
      "  warnings.warn(\"Can't initialize NVML\")\n"
     ]
    }
   ],
   "source": [
    "# Place at top to patch scikit-learn algorithms\n",
    "from sklearnex import patch_sklearn # isort:skip\n",
    "patch_sklearn() # isort:skip\n",
    "\n",
    "import html\n",
    "import locale\n",
    "import pprint\n",
    "import re\n",
    "import warnings\n",
    "\n",
    "import matplotlib.pyplot as plt\n",
    "import pandas as pd\n",
    "import seaborn as sns\n",
    "import spacy\n",
    "from sklearn.dummy import DummyClassifier\n",
    "from sklearn.feature_extraction.text import TfidfVectorizer\n",
    "from sklearn.metrics import (ConfusionMatrixDisplay, accuracy_score,\n",
    "                             classification_report, confusion_matrix)\n",
    "from sklearn.model_selection import (GridSearchCV, cross_val_score,\n",
    "                                     train_test_split)\n",
    "from sklearn.pipeline import Pipeline\n",
    "from sklearn.svm import SVC, LinearSVC\n",
    "from spacy.tokens import Span, Token\n",
    "from tqdm.auto import tqdm\n",
    "from watermark import watermark"
   ]
  },
  {
   "cell_type": "code",
   "execution_count": 8,
   "metadata": {
    "colab": {
     "base_uri": "https://localhost:8080/"
    },
    "id": "KS_q5__6I8tu",
    "outputId": "47918a14-0294-416a-f8b4-a0a56a29e586"
   },
   "outputs": [
    {
     "name": "stdout",
     "output_type": "stream",
     "text": [
      "Python implementation: CPython\n",
      "Python version       : 3.9.16\n",
      "IPython version      : 7.9.0\n",
      "\n",
      "Compiler    : GCC 9.4.0\n",
      "OS          : Linux\n",
      "Release     : 5.10.147+\n",
      "Machine     : x86_64\n",
      "Processor   : x86_64\n",
      "CPU cores   : 2\n",
      "Architecture: 64bit\n",
      "\n",
      "sys       : 3.9.16 (main, Dec  7 2022, 01:11:51) \n",
      "[GCC 9.4.0]\n",
      "seaborn   : 0.12.2\n",
      "re        : 2.2.1\n",
      "pandas    : 1.4.4\n",
      "spacy     : 3.5.1\n",
      "matplotlib: 3.7.1\n",
      "\n"
     ]
    }
   ],
   "source": [
    "def HR():\n",
    "    print(\"-\"*40)\n",
    "    \n",
    "def getpreferredencoding(do_setlocale = True):\n",
    "    return \"UTF-8\"\n",
    "\n",
    "locale.getpreferredencoding = getpreferredencoding\n",
    "warnings.filterwarnings('ignore')\n",
    "BASE_DIR = '.'\n",
    "sns.set_style(\"darkgrid\")\n",
    "tqdm.pandas(desc=\"progress-bar\")\n",
    "pp = pprint.PrettyPrinter(indent=4)\n",
    "\n",
    "print(watermark(iversions=True, globals_=globals(),python=True, machine=True))"
   ]
  },
  {
   "cell_type": "code",
   "execution_count": 9,
   "metadata": {
    "id": "KCYMHGTyLGCA"
   },
   "outputs": [],
   "source": [
    "def clean(text):\n",
    "    # convert html escapes like &amp; to characters.\n",
    "    text = html.unescape(text) \n",
    "    # tags like <tab>\n",
    "    text = re.sub(r'<[^<>]*>', ' ', text)\n",
    "    # markdown URLs like [Some text](https://....)\n",
    "    text = re.sub(r'\\[([^\\[\\]]*)\\]\\([^\\(\\)]*\\)', r'\\1', text)\n",
    "    # text or code in brackets like [0]\n",
    "    text = re.sub(r'\\[[^\\[\\]]*\\]', ' ', text)\n",
    "    # standalone sequences of specials, matches &# but not #cool\n",
    "    text = re.sub(r'(?:^|\\s)[&#<>{}\\[\\]+|\\\\:-]{1,}(?:\\s|$)', ' ', text)\n",
    "    # standalone sequences of hyphens like --- or ==\n",
    "    text = re.sub(r'(?:^|\\s)[\\-=\\+]{2,}(?:\\s|$)', ' ', text)\n",
    "    # sequences of white spaces\n",
    "    text = re.sub(r'\\s+', ' ', text)\n",
    "    return text.strip()"
   ]
  },
  {
   "cell_type": "markdown",
   "metadata": {},
   "source": [
    "<a id='eclipse_jdt.csv.gz'></a><a name='eclipse_jdt.csv.gz'></a>\n",
    "### Dataset: eclipse_jdt.csv.gz\n",
    "<a href=\"#top\">[back to top]</a>"
   ]
  },
  {
   "cell_type": "code",
   "execution_count": 1,
   "metadata": {
    "colab": {
     "base_uri": "https://localhost:8080/"
    },
    "id": "Q98RZLIqJkg6",
    "outputId": "cb4e5310-d930-4430-acce-3d741622efdf"
   },
   "outputs": [
    {
     "name": "stdout",
     "output_type": "stream",
     "text": [
      "-rw-r--r--  1 gb  staff  13689872 Mar 31 19:56 eclipse_jdt.csv.gz\n"
     ]
    }
   ],
   "source": [
    "file = \"eclipse_jdt.csv.gz\"\n",
    "!wget -nc -q https://github.com/blueprints-for-text-analytics-python/blueprints-text/raw/master/data/jdt-bugs-dataset/eclipse_jdt.csv.gz\n",
    "!ls -l {file}"
   ]
  },
  {
   "cell_type": "markdown",
   "metadata": {
    "id": "qm5P2ozHuUlD"
   },
   "source": [
    "---\n",
    "<a name='6.1'></a><a id='6.1'></a>\n",
    "# 6.1 Introducing the Java Development Tools Bug Dataset\n",
    "<a href=\"#top\">[back to top]</a>\n",
    "\n",
    "Here we classify bugs and issues raised during the development of the Java Development Tools (JDT) open source project.\n",
    "\n",
    "We load a CSV file that contains the JDT bugs dataset. This dataset contains 45,296 bugs and some of the available characteristics for each bug"
   ]
  },
  {
   "cell_type": "code",
   "execution_count": 11,
   "metadata": {
    "colab": {
     "base_uri": "https://localhost:8080/"
    },
    "id": "yQbR0rrjI8tx",
    "outputId": "90bcce4e-5805-4899-ee25-e13900c5877f"
   },
   "outputs": [
    {
     "name": "stdout",
     "output_type": "stream",
     "text": [
      "<class 'pandas.core.frame.DataFrame'>\n",
      "RangeIndex: 45296 entries, 0 to 45295\n",
      "Data columns (total 11 columns):\n",
      " #   Column            Non-Null Count  Dtype  \n",
      "---  ------            --------------  -----  \n",
      " 0   Issue_id          45296 non-null  int64  \n",
      " 1   Priority          45296 non-null  object \n",
      " 2   Component         45296 non-null  object \n",
      " 3   Duplicated_issue  7688 non-null   float64\n",
      " 4   Title             45296 non-null  object \n",
      " 5   Description       45253 non-null  object \n",
      " 6   Status            45296 non-null  object \n",
      " 7   Resolution        45296 non-null  object \n",
      " 8   Version           45296 non-null  object \n",
      " 9   Created_time      45296 non-null  object \n",
      " 10  Resolved_time     45296 non-null  object \n",
      "dtypes: float64(1), int64(1), object(9)\n",
      "memory usage: 3.8+ MB\n"
     ]
    }
   ],
   "source": [
    "# 45K\n",
    "df_orig = pd.read_csv(file)\n",
    "df_orig.info()"
   ]
  },
  {
   "cell_type": "code",
   "execution_count": 12,
   "metadata": {
    "colab": {
     "base_uri": "https://localhost:8080/"
    },
    "id": "Rbw1YH92a3nW",
    "outputId": "6f4fc733-993f-4cdf-91aa-80a6ddd8ccf1"
   },
   "outputs": [
    {
     "name": "stdout",
     "output_type": "stream",
     "text": [
      "<class 'pandas.core.frame.DataFrame'>\n",
      "Int64Index: 20000 entries, 15795 to 3754\n",
      "Data columns (total 11 columns):\n",
      " #   Column            Non-Null Count  Dtype  \n",
      "---  ------            --------------  -----  \n",
      " 0   Issue_id          20000 non-null  int64  \n",
      " 1   Priority          20000 non-null  object \n",
      " 2   Component         20000 non-null  object \n",
      " 3   Duplicated_issue  3403 non-null   float64\n",
      " 4   Title             20000 non-null  object \n",
      " 5   Description       19982 non-null  object \n",
      " 6   Status            20000 non-null  object \n",
      " 7   Resolution        20000 non-null  object \n",
      " 8   Version           20000 non-null  object \n",
      " 9   Created_time      20000 non-null  object \n",
      " 10  Resolved_time     20000 non-null  object \n",
      "dtypes: float64(1), int64(1), object(9)\n",
      "memory usage: 1.8+ MB\n"
     ]
    }
   ],
   "source": [
    "df = df_orig.sample(n=20_000, replace=True, random_state=42)\n",
    "df.info()"
   ]
  },
  {
   "cell_type": "code",
   "execution_count": 13,
   "metadata": {
    "colab": {
     "base_uri": "https://localhost:8080/",
     "height": 111
    },
    "id": "_gaJfXy6uUlF",
    "outputId": "ddb3e73a-88b1-443f-d63e-216da90c6116"
   },
   "outputs": [
    {
     "data": {
      "text/html": [
       "\n",
       "  <div id=\"df-99ef8923-0bc0-4b18-8459-9b70d95b079a\">\n",
       "    <div class=\"colab-df-container\">\n",
       "      <div>\n",
       "<style scoped>\n",
       "    .dataframe tbody tr th:only-of-type {\n",
       "        vertical-align: middle;\n",
       "    }\n",
       "\n",
       "    .dataframe tbody tr th {\n",
       "        vertical-align: top;\n",
       "    }\n",
       "\n",
       "    .dataframe thead th {\n",
       "        text-align: right;\n",
       "    }\n",
       "</style>\n",
       "<table border=\"1\" class=\"dataframe\">\n",
       "  <thead>\n",
       "    <tr style=\"text-align: right;\">\n",
       "      <th></th>\n",
       "      <th>Issue_id</th>\n",
       "      <th>Priority</th>\n",
       "      <th>Component</th>\n",
       "      <th>Title</th>\n",
       "      <th>Description</th>\n",
       "    </tr>\n",
       "  </thead>\n",
       "  <tbody>\n",
       "    <tr>\n",
       "      <th>9777</th>\n",
       "      <td>27301</td>\n",
       "      <td>P3</td>\n",
       "      <td>Core</td>\n",
       "      <td>Cannot use CVS keywords in code templates</td>\n",
       "      <td>I wanted to generate my own file template whic...</td>\n",
       "    </tr>\n",
       "    <tr>\n",
       "      <th>37574</th>\n",
       "      <td>223495</td>\n",
       "      <td>P3</td>\n",
       "      <td>Core</td>\n",
       "      <td>[assist] Member types of missing parametrized ...</td>\n",
       "      <td>build I20080318-0800; ; 1) create p/A.java; pa...</td>\n",
       "    </tr>\n",
       "  </tbody>\n",
       "</table>\n",
       "</div>\n",
       "      <button class=\"colab-df-convert\" onclick=\"convertToInteractive('df-99ef8923-0bc0-4b18-8459-9b70d95b079a')\"\n",
       "              title=\"Convert this dataframe to an interactive table.\"\n",
       "              style=\"display:none;\">\n",
       "        \n",
       "  <svg xmlns=\"http://www.w3.org/2000/svg\" height=\"24px\"viewBox=\"0 0 24 24\"\n",
       "       width=\"24px\">\n",
       "    <path d=\"M0 0h24v24H0V0z\" fill=\"none\"/>\n",
       "    <path d=\"M18.56 5.44l.94 2.06.94-2.06 2.06-.94-2.06-.94-.94-2.06-.94 2.06-2.06.94zm-11 1L8.5 8.5l.94-2.06 2.06-.94-2.06-.94L8.5 2.5l-.94 2.06-2.06.94zm10 10l.94 2.06.94-2.06 2.06-.94-2.06-.94-.94-2.06-.94 2.06-2.06.94z\"/><path d=\"M17.41 7.96l-1.37-1.37c-.4-.4-.92-.59-1.43-.59-.52 0-1.04.2-1.43.59L10.3 9.45l-7.72 7.72c-.78.78-.78 2.05 0 2.83L4 21.41c.39.39.9.59 1.41.59.51 0 1.02-.2 1.41-.59l7.78-7.78 2.81-2.81c.8-.78.8-2.07 0-2.86zM5.41 20L4 18.59l7.72-7.72 1.47 1.35L5.41 20z\"/>\n",
       "  </svg>\n",
       "      </button>\n",
       "      \n",
       "  <style>\n",
       "    .colab-df-container {\n",
       "      display:flex;\n",
       "      flex-wrap:wrap;\n",
       "      gap: 12px;\n",
       "    }\n",
       "\n",
       "    .colab-df-convert {\n",
       "      background-color: #E8F0FE;\n",
       "      border: none;\n",
       "      border-radius: 50%;\n",
       "      cursor: pointer;\n",
       "      display: none;\n",
       "      fill: #1967D2;\n",
       "      height: 32px;\n",
       "      padding: 0 0 0 0;\n",
       "      width: 32px;\n",
       "    }\n",
       "\n",
       "    .colab-df-convert:hover {\n",
       "      background-color: #E2EBFA;\n",
       "      box-shadow: 0px 1px 2px rgba(60, 64, 67, 0.3), 0px 1px 3px 1px rgba(60, 64, 67, 0.15);\n",
       "      fill: #174EA6;\n",
       "    }\n",
       "\n",
       "    [theme=dark] .colab-df-convert {\n",
       "      background-color: #3B4455;\n",
       "      fill: #D2E3FC;\n",
       "    }\n",
       "\n",
       "    [theme=dark] .colab-df-convert:hover {\n",
       "      background-color: #434B5C;\n",
       "      box-shadow: 0px 1px 3px 1px rgba(0, 0, 0, 0.15);\n",
       "      filter: drop-shadow(0px 1px 2px rgba(0, 0, 0, 0.3));\n",
       "      fill: #FFFFFF;\n",
       "    }\n",
       "  </style>\n",
       "\n",
       "      <script>\n",
       "        const buttonEl =\n",
       "          document.querySelector('#df-99ef8923-0bc0-4b18-8459-9b70d95b079a button.colab-df-convert');\n",
       "        buttonEl.style.display =\n",
       "          google.colab.kernel.accessAllowed ? 'block' : 'none';\n",
       "\n",
       "        async function convertToInteractive(key) {\n",
       "          const element = document.querySelector('#df-99ef8923-0bc0-4b18-8459-9b70d95b079a');\n",
       "          const dataTable =\n",
       "            await google.colab.kernel.invokeFunction('convertToInteractive',\n",
       "                                                     [key], {});\n",
       "          if (!dataTable) return;\n",
       "\n",
       "          const docLinkHtml = 'Like what you see? Visit the ' +\n",
       "            '<a target=\"_blank\" href=https://colab.research.google.com/notebooks/data_table.ipynb>data table notebook</a>'\n",
       "            + ' to learn more about interactive tables.';\n",
       "          element.innerHTML = '';\n",
       "          dataTable['output_type'] = 'display_data';\n",
       "          await google.colab.output.renderOutput(dataTable, element);\n",
       "          const docLink = document.createElement('div');\n",
       "          docLink.innerHTML = docLinkHtml;\n",
       "          element.appendChild(docLink);\n",
       "        }\n",
       "      </script>\n",
       "    </div>\n",
       "  </div>\n",
       "  "
      ],
      "text/plain": [
       "       Issue_id Priority Component  \\\n",
       "9777      27301       P3      Core   \n",
       "37574    223495       P3      Core   \n",
       "\n",
       "                                                   Title  \\\n",
       "9777           Cannot use CVS keywords in code templates   \n",
       "37574  [assist] Member types of missing parametrized ...   \n",
       "\n",
       "                                             Description  \n",
       "9777   I wanted to generate my own file template whic...  \n",
       "37574  build I20080318-0800; ; 1) create p/A.java; pa...  "
      ]
     },
     "execution_count": 13,
     "metadata": {},
     "output_type": "execute_result"
    }
   ],
   "source": [
    "df[['Issue_id','Priority','Component','Title','Description']].sample(2, random_state=42)"
   ]
  },
  {
   "cell_type": "code",
   "execution_count": 14,
   "metadata": {
    "colab": {
     "base_uri": "https://localhost:8080/",
     "height": 359
    },
    "id": "fPTjGIuFI8ty",
    "outputId": "f5023977-3cd6-4c30-cdf4-df47ecad5df0"
   },
   "outputs": [
    {
     "data": {
      "text/html": [
       "\n",
       "  <div id=\"df-2f817af6-33a6-404c-a2ef-92eb640a2329\">\n",
       "    <div class=\"colab-df-container\">\n",
       "      <div>\n",
       "<style scoped>\n",
       "    .dataframe tbody tr th:only-of-type {\n",
       "        vertical-align: middle;\n",
       "    }\n",
       "\n",
       "    .dataframe tbody tr th {\n",
       "        vertical-align: top;\n",
       "    }\n",
       "\n",
       "    .dataframe thead th {\n",
       "        text-align: right;\n",
       "    }\n",
       "</style>\n",
       "<table border=\"1\" class=\"dataframe\">\n",
       "  <thead>\n",
       "    <tr style=\"text-align: right;\">\n",
       "      <th></th>\n",
       "      <th>44513</th>\n",
       "    </tr>\n",
       "  </thead>\n",
       "  <tbody>\n",
       "    <tr>\n",
       "      <th>Issue_id</th>\n",
       "      <td>404003</td>\n",
       "    </tr>\n",
       "    <tr>\n",
       "      <th>Priority</th>\n",
       "      <td>P3</td>\n",
       "    </tr>\n",
       "    <tr>\n",
       "      <th>Component</th>\n",
       "      <td>Core</td>\n",
       "    </tr>\n",
       "    <tr>\n",
       "      <th>Title</th>\n",
       "      <td>[1.8][dom ast] CCE in ASTConverter on cast to ...</td>\n",
       "    </tr>\n",
       "    <tr>\n",
       "      <th>Description</th>\n",
       "      <td>BETA_JAVA8; ; public class BugA {; \\tvoid foo(...</td>\n",
       "    </tr>\n",
       "    <tr>\n",
       "      <th>Status</th>\n",
       "      <td>CLOSED</td>\n",
       "    </tr>\n",
       "    <tr>\n",
       "      <th>Resolution</th>\n",
       "      <td>DUPLICATE</td>\n",
       "    </tr>\n",
       "    <tr>\n",
       "      <th>Version</th>\n",
       "      <td>4.3</td>\n",
       "    </tr>\n",
       "    <tr>\n",
       "      <th>Created_time</th>\n",
       "      <td>2013-03-21 06:35:00 -0400</td>\n",
       "    </tr>\n",
       "    <tr>\n",
       "      <th>Resolved_time</th>\n",
       "      <td>2013-10-14 21:04:46 -0400</td>\n",
       "    </tr>\n",
       "  </tbody>\n",
       "</table>\n",
       "</div>\n",
       "      <button class=\"colab-df-convert\" onclick=\"convertToInteractive('df-2f817af6-33a6-404c-a2ef-92eb640a2329')\"\n",
       "              title=\"Convert this dataframe to an interactive table.\"\n",
       "              style=\"display:none;\">\n",
       "        \n",
       "  <svg xmlns=\"http://www.w3.org/2000/svg\" height=\"24px\"viewBox=\"0 0 24 24\"\n",
       "       width=\"24px\">\n",
       "    <path d=\"M0 0h24v24H0V0z\" fill=\"none\"/>\n",
       "    <path d=\"M18.56 5.44l.94 2.06.94-2.06 2.06-.94-2.06-.94-.94-2.06-.94 2.06-2.06.94zm-11 1L8.5 8.5l.94-2.06 2.06-.94-2.06-.94L8.5 2.5l-.94 2.06-2.06.94zm10 10l.94 2.06.94-2.06 2.06-.94-2.06-.94-.94-2.06-.94 2.06-2.06.94z\"/><path d=\"M17.41 7.96l-1.37-1.37c-.4-.4-.92-.59-1.43-.59-.52 0-1.04.2-1.43.59L10.3 9.45l-7.72 7.72c-.78.78-.78 2.05 0 2.83L4 21.41c.39.39.9.59 1.41.59.51 0 1.02-.2 1.41-.59l7.78-7.78 2.81-2.81c.8-.78.8-2.07 0-2.86zM5.41 20L4 18.59l7.72-7.72 1.47 1.35L5.41 20z\"/>\n",
       "  </svg>\n",
       "      </button>\n",
       "      \n",
       "  <style>\n",
       "    .colab-df-container {\n",
       "      display:flex;\n",
       "      flex-wrap:wrap;\n",
       "      gap: 12px;\n",
       "    }\n",
       "\n",
       "    .colab-df-convert {\n",
       "      background-color: #E8F0FE;\n",
       "      border: none;\n",
       "      border-radius: 50%;\n",
       "      cursor: pointer;\n",
       "      display: none;\n",
       "      fill: #1967D2;\n",
       "      height: 32px;\n",
       "      padding: 0 0 0 0;\n",
       "      width: 32px;\n",
       "    }\n",
       "\n",
       "    .colab-df-convert:hover {\n",
       "      background-color: #E2EBFA;\n",
       "      box-shadow: 0px 1px 2px rgba(60, 64, 67, 0.3), 0px 1px 3px 1px rgba(60, 64, 67, 0.15);\n",
       "      fill: #174EA6;\n",
       "    }\n",
       "\n",
       "    [theme=dark] .colab-df-convert {\n",
       "      background-color: #3B4455;\n",
       "      fill: #D2E3FC;\n",
       "    }\n",
       "\n",
       "    [theme=dark] .colab-df-convert:hover {\n",
       "      background-color: #434B5C;\n",
       "      box-shadow: 0px 1px 3px 1px rgba(0, 0, 0, 0.15);\n",
       "      filter: drop-shadow(0px 1px 2px rgba(0, 0, 0, 0.3));\n",
       "      fill: #FFFFFF;\n",
       "    }\n",
       "  </style>\n",
       "\n",
       "      <script>\n",
       "        const buttonEl =\n",
       "          document.querySelector('#df-2f817af6-33a6-404c-a2ef-92eb640a2329 button.colab-df-convert');\n",
       "        buttonEl.style.display =\n",
       "          google.colab.kernel.accessAllowed ? 'block' : 'none';\n",
       "\n",
       "        async function convertToInteractive(key) {\n",
       "          const element = document.querySelector('#df-2f817af6-33a6-404c-a2ef-92eb640a2329');\n",
       "          const dataTable =\n",
       "            await google.colab.kernel.invokeFunction('convertToInteractive',\n",
       "                                                     [key], {});\n",
       "          if (!dataTable) return;\n",
       "\n",
       "          const docLinkHtml = 'Like what you see? Visit the ' +\n",
       "            '<a target=\"_blank\" href=https://colab.research.google.com/notebooks/data_table.ipynb>data table notebook</a>'\n",
       "            + ' to learn more about interactive tables.';\n",
       "          element.innerHTML = '';\n",
       "          dataTable['output_type'] = 'display_data';\n",
       "          await google.colab.output.renderOutput(dataTable, element);\n",
       "          const docLink = document.createElement('div');\n",
       "          docLink.innerHTML = docLinkHtml;\n",
       "          element.appendChild(docLink);\n",
       "        }\n",
       "      </script>\n",
       "    </div>\n",
       "  </div>\n",
       "  "
      ],
      "text/plain": [
       "                                                           44513\n",
       "Issue_id                                                  404003\n",
       "Priority                                                      P3\n",
       "Component                                                   Core\n",
       "Title          [1.8][dom ast] CCE in ASTConverter on cast to ...\n",
       "Description    BETA_JAVA8; ; public class BugA {; \\tvoid foo(...\n",
       "Status                                                    CLOSED\n",
       "Resolution                                             DUPLICATE\n",
       "Version                                                      4.3\n",
       "Created_time                           2013-03-21 06:35:00 -0400\n",
       "Resolved_time                          2013-10-14 21:04:46 -0400"
      ]
     },
     "execution_count": 14,
     "metadata": {},
     "output_type": "execute_result"
    }
   ],
   "source": [
    "# Explore a single bug report\n",
    "df = df.drop(columns=['Duplicated_issue'])\n",
    "df.sample(1, random_state=123).T"
   ]
  },
  {
   "cell_type": "code",
   "execution_count": 15,
   "metadata": {
    "colab": {
     "base_uri": "https://localhost:8080/",
     "height": 268
    },
    "id": "EH7khbopI8tz",
    "outputId": "4e09d920-735a-4b9f-fded-aa7c5026fe4a"
   },
   "outputs": [
    {
     "data": {
      "image/png": "[encoded data removed]",
      "text/plain": [
       "<Figure size 432x288 with 1 Axes>"
      ]
     },
     "metadata": {},
     "output_type": "display_data"
    }
   ],
   "source": [
    "# Distribution of bug reports across different priorities\n",
    "df['Priority'].value_counts().sort_index().plot(kind='bar')\n",
    "plt.show()"
   ]
  },
  {
   "cell_type": "markdown",
   "metadata": {
    "id": "2kmqYhLLuUlI"
   },
   "source": [
    "Check how many bugs are reported against each component of the JDT."
   ]
  },
  {
   "cell_type": "code",
   "execution_count": 16,
   "metadata": {
    "colab": {
     "base_uri": "https://localhost:8080/"
    },
    "id": "Y0SEE3x8I8tz",
    "outputId": "edade1ef-d4a7-4087-dcfd-44cd28af7a38"
   },
   "outputs": [
    {
     "data": {
      "text/plain": [
       "UI       7808\n",
       "Core     5976\n",
       "Debug    3273\n",
       "Text     2644\n",
       "APT       164\n",
       "Doc       135\n",
       "Name: Component, dtype: int64"
      ]
     },
     "execution_count": 16,
     "metadata": {},
     "output_type": "execute_result"
    }
   ],
   "source": [
    "df['Component'].value_counts()"
   ]
  },
  {
   "cell_type": "markdown",
   "metadata": {
    "id": "YYb2AOF6I8t0"
   },
   "source": [
    "---\n",
    "<a name='6.2'></a><a id='6.2'></a>\n",
    "# 6.2 Blueprint: Building a Text Classification system\n",
    "<a href=\"#top\">[back to top]</a>\n",
    "\n",
    "This text classification system will use supervised learning."
   ]
  },
  {
   "cell_type": "markdown",
   "metadata": {
    "id": "Y0MDpgR7I8t0"
   },
   "source": [
    "<a name='6.2.1'></a><a id='6.2.1'></a>\n",
    "## 6.2.1 Step 1: Data Preparation\n",
    "<a href=\"#top\">[back to top]</a>\n",
    "\n",
    "Before building the text classfication model, we must clean the data, and restructure the data-structure of the dataset suitable for the selected machine learning algorithm."
   ]
  },
  {
   "cell_type": "code",
   "execution_count": 17,
   "metadata": {
    "colab": {
     "base_uri": "https://localhost:8080/"
    },
    "id": "_QC-4SfNI8t1",
    "outputId": "df153bfd-6ba0-42af-9166-edf22fb222b4"
   },
   "outputs": [
    {
     "name": "stdout",
     "output_type": "stream",
     "text": [
      "Index(['Issue_id', 'Priority', 'Component', 'Title', 'Description', 'Status',\n",
      "       'Resolution', 'Version', 'Created_time', 'Resolved_time'],\n",
      "      dtype='object')\n"
     ]
    }
   ],
   "source": [
    "print(df.columns)"
   ]
  },
  {
   "cell_type": "code",
   "execution_count": 18,
   "metadata": {
    "colab": {
     "base_uri": "https://localhost:8080/"
    },
    "id": "17Trxme2I8t1",
    "outputId": "e5853b78-8d9f-4368-a289-f3c9e828f668"
   },
   "outputs": [
    {
     "data": {
      "text/plain": [
       "Index(['Priority', 'text'], dtype='object')"
      ]
     },
     "execution_count": 18,
     "metadata": {},
     "output_type": "execute_result"
    }
   ],
   "source": [
    "df = df[['Title','Description','Priority']]\n",
    "df = df.dropna()\n",
    "df['text'] = df['Title'] + ' ' + df['Description']\n",
    "df = df.drop(columns=['Title','Description'])\n",
    "df.columns"
   ]
  },
  {
   "cell_type": "code",
   "execution_count": 19,
   "metadata": {
    "colab": {
     "base_uri": "https://localhost:8080/",
     "height": 143,
     "referenced_widgets": [
      "cf5cadf9cbb04cefb58706fbae26ffda",
      "0e7e539de35448b7a29249c1ea33561a",
      "30f223ef43ef4a009c8fcf85c32351f5",
      "b5697344523048d09e04c9793718f4f6",
      "f6493e29966242259a3b4c4edae09109",
      "0a0d4d02efdf4a0985b134a253c9ec53",
      "5487a8f191314330a5ac24545ef2b4d9",
      "3c5367ac15bc4b4290d0a80961046872",
      "fcab55a8aaaa430f841f24d341eced63",
      "d053e874cddd4cd5977b449c2c44e3a5",
      "b4c0d67d661f42338e07784e46aa7ae2"
     ]
    },
    "id": "PU8X1ThoI8t2",
    "outputId": "8d8eeace-eece-4ef7-90f8-ca1997caf6b7"
   },
   "outputs": [
    {
     "data": {
      "application/vnd.jupyter.widget-view+json": {
       "model_id": "cf5cadf9cbb04cefb58706fbae26ffda",
       "version_major": 2,
       "version_minor": 0
      },
      "text/plain": [
       "progress-bar:   0%|          | 0/19982 [00:00<?, ?it/s]"
      ]
     },
     "metadata": {},
     "output_type": "display_data"
    },
    {
     "data": {
      "text/html": [
       "\n",
       "  <div id=\"df-f52e8cc1-4e70-4d7e-9444-7b05b84a133f\">\n",
       "    <div class=\"colab-df-container\">\n",
       "      <div>\n",
       "<style scoped>\n",
       "    .dataframe tbody tr th:only-of-type {\n",
       "        vertical-align: middle;\n",
       "    }\n",
       "\n",
       "    .dataframe tbody tr th {\n",
       "        vertical-align: top;\n",
       "    }\n",
       "\n",
       "    .dataframe thead th {\n",
       "        text-align: right;\n",
       "    }\n",
       "</style>\n",
       "<table border=\"1\" class=\"dataframe\">\n",
       "  <thead>\n",
       "    <tr style=\"text-align: right;\">\n",
       "      <th></th>\n",
       "      <th>Priority</th>\n",
       "      <th>text</th>\n",
       "    </tr>\n",
       "  </thead>\n",
       "  <tbody>\n",
       "    <tr>\n",
       "      <th>6895</th>\n",
       "      <td>P3</td>\n",
       "      <td>Extension point for Java decompiler Currently ...</td>\n",
       "    </tr>\n",
       "    <tr>\n",
       "      <th>33043</th>\n",
       "      <td>P3</td>\n",
       "      <td>Refactoring History Property page showing in w...</td>\n",
       "    </tr>\n",
       "  </tbody>\n",
       "</table>\n",
       "</div>\n",
       "      <button class=\"colab-df-convert\" onclick=\"convertToInteractive('df-f52e8cc1-4e70-4d7e-9444-7b05b84a133f')\"\n",
       "              title=\"Convert this dataframe to an interactive table.\"\n",
       "              style=\"display:none;\">\n",
       "        \n",
       "  <svg xmlns=\"http://www.w3.org/2000/svg\" height=\"24px\"viewBox=\"0 0 24 24\"\n",
       "       width=\"24px\">\n",
       "    <path d=\"M0 0h24v24H0V0z\" fill=\"none\"/>\n",
       "    <path d=\"M18.56 5.44l.94 2.06.94-2.06 2.06-.94-2.06-.94-.94-2.06-.94 2.06-2.06.94zm-11 1L8.5 8.5l.94-2.06 2.06-.94-2.06-.94L8.5 2.5l-.94 2.06-2.06.94zm10 10l.94 2.06.94-2.06 2.06-.94-2.06-.94-.94-2.06-.94 2.06-2.06.94z\"/><path d=\"M17.41 7.96l-1.37-1.37c-.4-.4-.92-.59-1.43-.59-.52 0-1.04.2-1.43.59L10.3 9.45l-7.72 7.72c-.78.78-.78 2.05 0 2.83L4 21.41c.39.39.9.59 1.41.59.51 0 1.02-.2 1.41-.59l7.78-7.78 2.81-2.81c.8-.78.8-2.07 0-2.86zM5.41 20L4 18.59l7.72-7.72 1.47 1.35L5.41 20z\"/>\n",
       "  </svg>\n",
       "      </button>\n",
       "      \n",
       "  <style>\n",
       "    .colab-df-container {\n",
       "      display:flex;\n",
       "      flex-wrap:wrap;\n",
       "      gap: 12px;\n",
       "    }\n",
       "\n",
       "    .colab-df-convert {\n",
       "      background-color: #E8F0FE;\n",
       "      border: none;\n",
       "      border-radius: 50%;\n",
       "      cursor: pointer;\n",
       "      display: none;\n",
       "      fill: #1967D2;\n",
       "      height: 32px;\n",
       "      padding: 0 0 0 0;\n",
       "      width: 32px;\n",
       "    }\n",
       "\n",
       "    .colab-df-convert:hover {\n",
       "      background-color: #E2EBFA;\n",
       "      box-shadow: 0px 1px 2px rgba(60, 64, 67, 0.3), 0px 1px 3px 1px rgba(60, 64, 67, 0.15);\n",
       "      fill: #174EA6;\n",
       "    }\n",
       "\n",
       "    [theme=dark] .colab-df-convert {\n",
       "      background-color: #3B4455;\n",
       "      fill: #D2E3FC;\n",
       "    }\n",
       "\n",
       "    [theme=dark] .colab-df-convert:hover {\n",
       "      background-color: #434B5C;\n",
       "      box-shadow: 0px 1px 3px 1px rgba(0, 0, 0, 0.15);\n",
       "      filter: drop-shadow(0px 1px 2px rgba(0, 0, 0, 0.3));\n",
       "      fill: #FFFFFF;\n",
       "    }\n",
       "  </style>\n",
       "\n",
       "      <script>\n",
       "        const buttonEl =\n",
       "          document.querySelector('#df-f52e8cc1-4e70-4d7e-9444-7b05b84a133f button.colab-df-convert');\n",
       "        buttonEl.style.display =\n",
       "          google.colab.kernel.accessAllowed ? 'block' : 'none';\n",
       "\n",
       "        async function convertToInteractive(key) {\n",
       "          const element = document.querySelector('#df-f52e8cc1-4e70-4d7e-9444-7b05b84a133f');\n",
       "          const dataTable =\n",
       "            await google.colab.kernel.invokeFunction('convertToInteractive',\n",
       "                                                     [key], {});\n",
       "          if (!dataTable) return;\n",
       "\n",
       "          const docLinkHtml = 'Like what you see? Visit the ' +\n",
       "            '<a target=\"_blank\" href=https://colab.research.google.com/notebooks/data_table.ipynb>data table notebook</a>'\n",
       "            + ' to learn more about interactive tables.';\n",
       "          element.innerHTML = '';\n",
       "          dataTable['output_type'] = 'display_data';\n",
       "          await google.colab.output.renderOutput(dataTable, element);\n",
       "          const docLink = document.createElement('div');\n",
       "          docLink.innerHTML = docLinkHtml;\n",
       "          element.appendChild(docLink);\n",
       "        }\n",
       "      </script>\n",
       "    </div>\n",
       "  </div>\n",
       "  "
      ],
      "text/plain": [
       "      Priority                                               text\n",
       "6895        P3  Extension point for Java decompiler Currently ...\n",
       "33043       P3  Refactoring History Property page showing in w..."
      ]
     },
     "execution_count": 19,
     "metadata": {},
     "output_type": "execute_result"
    }
   ],
   "source": [
    "df['text'] = df['text'].progress_apply(clean)\n",
    "df = df[df['text'].str.len() > 50]\n",
    "df.sample(2, random_state=0)"
   ]
  },
  {
   "cell_type": "markdown",
   "metadata": {
    "id": "tdU0p4ONI8t2"
   },
   "source": [
    "<a name='6.2.2'></a><a id='6.2.2'></a>\n",
    "## 6.2.2 Step 2: Train-Test Split\n",
    "<a href=\"#top\">[back to top]</a>\n",
    "\n",
    "The default ratio is 80-20. 80 observations will become part of the train split and 20 observations will become part of the test split. "
   ]
  },
  {
   "cell_type": "code",
   "execution_count": 20,
   "metadata": {
    "colab": {
     "base_uri": "https://localhost:8080/"
    },
    "id": "seyqcj8WI8t2",
    "outputId": "686bf325-4c9f-4eb7-f49e-eb2ecf0ac04b"
   },
   "outputs": [
    {
     "name": "stdout",
     "output_type": "stream",
     "text": [
      "Size of Training Data:  15902\n",
      "Size of Test Data:  3976\n"
     ]
    }
   ],
   "source": [
    "X_train, X_test, Y_train, Y_test = train_test_split(\n",
    "    df['text'],\n",
    "    df['Priority'],\n",
    "    test_size=0.2,\n",
    "    random_state=42,\n",
    "    stratify=df['Priority']\n",
    ")\n",
    "\n",
    "print('Size of Training Data: ', X_train.shape[0])\n",
    "print('Size of Test Data: ', X_test.shape[0])"
   ]
  },
  {
   "cell_type": "markdown",
   "metadata": {
    "id": "eRthsP-ZI8t3"
   },
   "source": [
    "<a name='6.2.3'></a><a id='6.2.3'></a>\n",
    "## 6.2.3 Step 3: Training the Machine Learning Model\n",
    "<a href=\"#top\">[back to top]</a>\n",
    "\n",
    "The SVM algorithm is preferred when working with text data because it is more suited to work with sparse data compared to other algorithms like Random Forest. They are also better suited to work with input features that are purely numeric (as in our case), while other algorithms are capable of handling a mixture of numeric and categorical input features.\n",
    "\n",
    "In order to use SVM, we must prepare the dataset where we represent text data in numeric format. Here, we use the preferred option of representing the text using a Term-Frequency Inverse Document Frequency (TF- IDF) vectorization. This results in a sparse matrix"
   ]
  },
  {
   "cell_type": "code",
   "execution_count": 21,
   "metadata": {
    "colab": {
     "base_uri": "https://localhost:8080/"
    },
    "id": "uZJ6Bso0I8t4",
    "outputId": "e92b2b89-f9f7-4ecb-813a-964eda34cc56"
   },
   "outputs": [
    {
     "data": {
      "text/plain": [
       "<15902x18440 sparse matrix of type '<class 'numpy.float64'>'\n",
       "\twith 1158235 stored elements in Compressed Sparse Row format>"
      ]
     },
     "execution_count": 21,
     "metadata": {},
     "output_type": "execute_result"
    }
   ],
   "source": [
    "tfidf = TfidfVectorizer(min_df = 10, ngram_range=(1,2), stop_words=\"english\")\n",
    "\n",
    "X_train_tf = tfidf.fit_transform(X_train)\n",
    "X_train_tf"
   ]
  },
  {
   "cell_type": "markdown",
   "metadata": {
    "id": "sGOKJk7UuUlQ"
   },
   "source": [
    "This linear kernel is recommended for text data since there are a large number of features that can be considered linearly separable. It is also faster to fit since it has fewer parameters to optimize."
   ]
  },
  {
   "cell_type": "code",
   "execution_count": 22,
   "metadata": {
    "colab": {
     "base_uri": "https://localhost:8080/",
     "height": 74
    },
    "id": "QoTK-XrpI8t4",
    "outputId": "b9377b7a-3fea-4675-bd5d-f1067f141878"
   },
   "outputs": [
    {
     "data": {
      "text/html": [
       "<style>#sk-container-id-1 {color: black;background-color: white;}#sk-container-id-1 pre{padding: 0;}#sk-container-id-1 div.sk-toggleable {background-color: white;}#sk-container-id-1 label.sk-toggleable__label {cursor: pointer;display: block;width: 100%;margin-bottom: 0;padding: 0.3em;box-sizing: border-box;text-align: center;}#sk-container-id-1 label.sk-toggleable__label-arrow:before {content: \"▸\";float: left;margin-right: 0.25em;color: #696969;}#sk-container-id-1 label.sk-toggleable__label-arrow:hover:before {color: black;}#sk-container-id-1 div.sk-estimator:hover label.sk-toggleable__label-arrow:before {color: black;}#sk-container-id-1 div.sk-toggleable__content {max-height: 0;max-width: 0;overflow: hidden;text-align: left;background-color: #f0f8ff;}#sk-container-id-1 div.sk-toggleable__content pre {margin: 0.2em;color: black;border-radius: 0.25em;background-color: #f0f8ff;}#sk-container-id-1 input.sk-toggleable__control:checked~div.sk-toggleable__content {max-height: 200px;max-width: 100%;overflow: auto;}#sk-container-id-1 input.sk-toggleable__control:checked~label.sk-toggleable__label-arrow:before {content: \"▾\";}#sk-container-id-1 div.sk-estimator input.sk-toggleable__control:checked~label.sk-toggleable__label {background-color: #d4ebff;}#sk-container-id-1 div.sk-label input.sk-toggleable__control:checked~label.sk-toggleable__label {background-color: #d4ebff;}#sk-container-id-1 input.sk-hidden--visually {border: 0;clip: rect(1px 1px 1px 1px);clip: rect(1px, 1px, 1px, 1px);height: 1px;margin: -1px;overflow: hidden;padding: 0;position: absolute;width: 1px;}#sk-container-id-1 div.sk-estimator {font-family: monospace;background-color: #f0f8ff;border: 1px dotted black;border-radius: 0.25em;box-sizing: border-box;margin-bottom: 0.5em;}#sk-container-id-1 div.sk-estimator:hover {background-color: #d4ebff;}#sk-container-id-1 div.sk-parallel-item::after {content: \"\";width: 100%;border-bottom: 1px solid gray;flex-grow: 1;}#sk-container-id-1 div.sk-label:hover label.sk-toggleable__label {background-color: #d4ebff;}#sk-container-id-1 div.sk-serial::before {content: \"\";position: absolute;border-left: 1px solid gray;box-sizing: border-box;top: 0;bottom: 0;left: 50%;z-index: 0;}#sk-container-id-1 div.sk-serial {display: flex;flex-direction: column;align-items: center;background-color: white;padding-right: 0.2em;padding-left: 0.2em;position: relative;}#sk-container-id-1 div.sk-item {position: relative;z-index: 1;}#sk-container-id-1 div.sk-parallel {display: flex;align-items: stretch;justify-content: center;background-color: white;position: relative;}#sk-container-id-1 div.sk-item::before, #sk-container-id-1 div.sk-parallel-item::before {content: \"\";position: absolute;border-left: 1px solid gray;box-sizing: border-box;top: 0;bottom: 0;left: 50%;z-index: -1;}#sk-container-id-1 div.sk-parallel-item {display: flex;flex-direction: column;z-index: 1;position: relative;background-color: white;}#sk-container-id-1 div.sk-parallel-item:first-child::after {align-self: flex-end;width: 50%;}#sk-container-id-1 div.sk-parallel-item:last-child::after {align-self: flex-start;width: 50%;}#sk-container-id-1 div.sk-parallel-item:only-child::after {width: 0;}#sk-container-id-1 div.sk-dashed-wrapped {border: 1px dashed gray;margin: 0 0.4em 0.5em 0.4em;box-sizing: border-box;padding-bottom: 0.4em;background-color: white;}#sk-container-id-1 div.sk-label label {font-family: monospace;font-weight: bold;display: inline-block;line-height: 1.2em;}#sk-container-id-1 div.sk-label-container {text-align: center;}#sk-container-id-1 div.sk-container {/* jupyter's `normalize.less` sets `[hidden] { display: none; }` but bootstrap.min.css set `[hidden] { display: none !important; }` so we also need the `!important` here to be able to override the default hidden behavior on the sphinx rendered scikit-learn.org. See: https://github.com/scikit-learn/scikit-learn/issues/21755 */display: inline-block !important;position: relative;}#sk-container-id-1 div.sk-text-repr-fallback {display: none;}</style><div id=\"sk-container-id-1\" class=\"sk-top-container\"><div class=\"sk-text-repr-fallback\"><pre>LinearSVC(random_state=0, tol=1e-05)</pre><b>In a Jupyter environment, please rerun this cell to show the HTML representation or trust the notebook. <br />On GitHub, the HTML representation is unable to render, please try loading this page with nbviewer.org.</b></div><div class=\"sk-container\" hidden><div class=\"sk-item\"><div class=\"sk-estimator sk-toggleable\"><input class=\"sk-toggleable__control sk-hidden--visually\" id=\"sk-estimator-id-1\" type=\"checkbox\" checked><label for=\"sk-estimator-id-1\" class=\"sk-toggleable__label sk-toggleable__label-arrow\">LinearSVC</label><div class=\"sk-toggleable__content\"><pre>LinearSVC(random_state=0, tol=1e-05)</pre></div></div></div></div></div>"
      ],
      "text/plain": [
       "LinearSVC(random_state=0, tol=1e-05)"
      ]
     },
     "execution_count": 22,
     "metadata": {},
     "output_type": "execute_result"
    }
   ],
   "source": [
    "model1 = LinearSVC(random_state=0, tol=1e-5)\n",
    "model1.fit(X_train_tf, Y_train)"
   ]
  },
  {
   "cell_type": "code",
   "execution_count": 23,
   "metadata": {
    "colab": {
     "base_uri": "https://localhost:8080/"
    },
    "id": "el7QSiEUI8t5",
    "outputId": "5095148e-cb20-4dba-86d5-5b8a273715be"
   },
   "outputs": [
    {
     "data": {
      "text/plain": [
       "{'dual': True,\n",
       " 'tol': 1e-05,\n",
       " 'C': 1.0,\n",
       " 'multi_class': 'ovr',\n",
       " 'fit_intercept': True,\n",
       " 'intercept_scaling': 1,\n",
       " 'class_weight': None,\n",
       " 'verbose': 0,\n",
       " 'random_state': 0,\n",
       " 'max_iter': 1000,\n",
       " 'penalty': 'l2',\n",
       " 'loss': 'squared_hinge',\n",
       " 'n_features_in_': 18440,\n",
       " 'classes_': array(['P1', 'P2', 'P3', 'P4', 'P5'], dtype=object),\n",
       " 'coef_': array([[-6.47697271e-01, -1.95229474e-01,  2.19576664e-01, ...,\n",
       "         -8.47163407e-02,  3.30390523e-02, -4.53929238e-02],\n",
       "        [-2.72428790e-01, -3.56157540e-01,  1.32572992e-01, ...,\n",
       "         -5.35482632e-01, -2.08705985e-02,  5.95170393e-01],\n",
       "        [-8.15293145e-01, -3.72537077e-01, -6.53037012e-01, ...,\n",
       "          8.31850349e-01, -7.59521565e-02, -3.88483493e-01],\n",
       "        [ 1.45706145e+00,  8.19842894e-01, -4.39706776e-02, ...,\n",
       "         -1.53436397e-01,  0.00000000e+00, -8.60541714e-02],\n",
       "        [-8.24840784e-02,  0.00000000e+00,  2.51394808e-01, ...,\n",
       "         -1.13551808e-01, -7.22284697e-02,  3.68628739e-18]]),\n",
       " 'intercept_': array([-1.11131148, -1.01395153,  0.84044564, -1.21669055, -1.16935588]),\n",
       " 'n_iter_': 58}"
      ]
     },
     "execution_count": 23,
     "metadata": {},
     "output_type": "execute_result"
    }
   ],
   "source": [
    "model1.__dict__"
   ]
  },
  {
   "cell_type": "markdown",
   "metadata": {
    "id": "jNK68ixMI8t5"
   },
   "source": [
    "<a name='6.2.4'></a><a id='6.2.4'></a>\n",
    "## 6.2.4 Step 4: Model Evaluation\n",
    "<a href=\"#top\">[back to top]</a>\n",
    "\n",
    "We can use the `sklearn.svm.DummyClassifier` module, which provides simple strategies like `most_frequent`, where the baseline model always predicts the class with highest fre‐ quency, or which is stratified, which generates predictions that respect the training data distribution."
   ]
  },
  {
   "cell_type": "code",
   "execution_count": 24,
   "metadata": {
    "id": "y48WCfNmI8t6"
   },
   "outputs": [],
   "source": [
    "X_test_tf = tfidf.transform(X_test)"
   ]
  },
  {
   "cell_type": "code",
   "execution_count": 25,
   "metadata": {
    "colab": {
     "base_uri": "https://localhost:8080/"
    },
    "id": "4Yr9nC3NI8t6",
    "outputId": "0b95db8b-b5d8-490d-a3e0-1751002fc697"
   },
   "outputs": [
    {
     "name": "stdout",
     "output_type": "stream",
     "text": [
      "Accuracy Score -  0.8868209255533199\n"
     ]
    }
   ],
   "source": [
    "Y_pred = model1.predict(X_test_tf)\n",
    "print ('Accuracy Score - ', accuracy_score(Y_test, Y_pred))"
   ]
  },
  {
   "cell_type": "markdown",
   "metadata": {
    "id": "td-KA6FfuUlV"
   },
   "source": [
    "### sklearn.dummy.DummyClassifier()\n",
    "\n",
    "“most_frequent”: the predict method always returns the most frequent class label in the observed y argument passed to fit. The predict_proba method returns the matching one-hot encoded vector.\n",
    "\n",
    "“prior”: the predict method always returns the most frequent class label in the observed y argument passed to fit (like “most_frequent”). predict_proba always returns the empirical class distribution of y also known as the empirical class prior distribution.\n",
    "\n",
    "“stratified”: the predict_proba method randomly samples one-hot vectors from a multinomial distribution parametrized by the empirical class prior probabilities. The predict method returns the class label which got probability one in the one-hot vector of predict_proba. Each sampled row of both methods is therefore independent and identically distributed.\n",
    "\n",
    "“uniform”: generates predictions uniformly at random from the list of unique classes observed in y, i.e. each class has equal probability.\n",
    "\n",
    "“constant”: always predicts a constant label that is provided by the user. This is useful for metrics that evaluate a non-majority class."
   ]
  },
  {
   "cell_type": "code",
   "execution_count": 26,
   "metadata": {
    "colab": {
     "base_uri": "https://localhost:8080/"
    },
    "id": "Yn_BWdR4I8t6",
    "outputId": "ac3b6ae6-67c7-41f9-e734-e3dbebafed36"
   },
   "outputs": [
    {
     "name": "stdout",
     "output_type": "stream",
     "text": [
      "Accuracy Score -  0.8767605633802817\n"
     ]
    }
   ],
   "source": [
    "# Test via dummy baseline model\n",
    "clf = DummyClassifier(strategy='most_frequent', random_state=42)\n",
    "clf.fit(X_train, Y_train)\n",
    "\n",
    "Y_pred_baseline = clf.predict(X_test)\n",
    "print ('Accuracy Score - ', accuracy_score(Y_test, Y_pred_baseline))"
   ]
  },
  {
   "cell_type": "code",
   "execution_count": 27,
   "metadata": {
    "colab": {
     "base_uri": "https://localhost:8080/"
    },
    "id": "zuQGRBZZuUlW",
    "outputId": "7549469a-20a0-41d1-dba5-6d4e273ba789"
   },
   "outputs": [
    {
     "name": "stdout",
     "output_type": "stream",
     "text": [
      "Accuracy Score -  0.7821931589537223\n"
     ]
    }
   ],
   "source": [
    "# Test via dummy baseline model\n",
    "clf2 = DummyClassifier(strategy='stratified', random_state=42)\n",
    "clf2.fit(X_train, Y_train)\n",
    "\n",
    "Y_pred_baseline2 = clf2.predict(X_test)\n",
    "print ('Accuracy Score - ', accuracy_score(Y_test, Y_pred_baseline2))"
   ]
  },
  {
   "cell_type": "code",
   "execution_count": 28,
   "metadata": {
    "colab": {
     "base_uri": "https://localhost:8080/"
    },
    "id": "sfV3wibjuUlX",
    "outputId": "d8d8108e-ef0b-4201-9f99-860fe959ec5b"
   },
   "outputs": [
    {
     "name": "stdout",
     "output_type": "stream",
     "text": [
      "Accuracy Score -  0.19869215291750503\n"
     ]
    }
   ],
   "source": [
    "# Test via dummy baseline model\n",
    "clf3 = DummyClassifier(strategy='uniform', random_state=42)\n",
    "clf3.fit(X_train, Y_train)\n",
    "\n",
    "Y_pred_baseline3 = clf3.predict(X_test)\n",
    "print ('Accuracy Score - ', accuracy_score(Y_test, Y_pred_baseline3))"
   ]
  },
  {
   "cell_type": "markdown",
   "metadata": {
    "id": "0DjCEvFXI8t7"
   },
   "source": [
    "### Precision and Recall via Confusion Matrix\n",
    "\n",
    "The confusion matrix for our model can be generated with the function `confusion_matrix`"
   ]
  },
  {
   "cell_type": "code",
   "execution_count": 29,
   "metadata": {
    "colab": {
     "base_uri": "https://localhost:8080/"
    },
    "id": "u-EOCBHzI8t7",
    "outputId": "1d7c897c-f167-4e82-f64f-89799f8cbd5d"
   },
   "outputs": [
    {
     "data": {
      "text/plain": [
       "array([[  14,    2,   82,    0,    0],\n",
       "       [   0,   28,  231,    1,    0],\n",
       "       [   2,   17, 3454,   13,    0],\n",
       "       [   0,    2,   76,   29,    0],\n",
       "       [   0,    0,   24,    0,    1]])"
      ]
     },
     "execution_count": 29,
     "metadata": {},
     "output_type": "execute_result"
    }
   ],
   "source": [
    "Y_pred = model1.predict(X_test_tf)\n",
    "confusion_matrix(Y_test, Y_pred)"
   ]
  },
  {
   "cell_type": "markdown",
   "metadata": {
    "id": "_mTDRh-WI8t7"
   },
   "source": [
    "### View via Heatmap\n",
    "\n",
    "The confusion marix can also be visualized in the form of a heatmap by using the `plot_confusion_matrix` function."
   ]
  },
  {
   "cell_type": "code",
   "execution_count": 30,
   "metadata": {
    "colab": {
     "base_uri": "https://localhost:8080/",
     "height": 279
    },
    "id": "WvrU2lDXI8t8",
    "outputId": "70564627-ce4b-4295-8d2d-648a4e9b81b1"
   },
   "outputs": [
    {
     "data": {
      "image/png": "[encoded data removed]",
      "text/plain": [
       "<Figure size 432x288 with 2 Axes>"
      ]
     },
     "metadata": {},
     "output_type": "display_data"
    }
   ],
   "source": [
    "ConfusionMatrixDisplay.from_estimator(\n",
    "    model1,\n",
    "    X=X_test_tf,\n",
    "    y=Y_test, \n",
    "    values_format='d',\n",
    "    cmap=plt.cm.Blues\n",
    ")\n",
    "\n",
    "plt.show()"
   ]
  },
  {
   "cell_type": "markdown",
   "metadata": {
    "id": "1Rf7jb8_uUlZ"
   },
   "source": [
    "An easy way to determine precision and recall for each category is to use the `classification_report` function from scikit-learn."
   ]
  },
  {
   "cell_type": "code",
   "execution_count": 31,
   "metadata": {
    "colab": {
     "base_uri": "https://localhost:8080/"
    },
    "id": "WiHSx6Z7I8t8",
    "outputId": "68270073-1c7d-466f-c12d-4d15c8c68c11"
   },
   "outputs": [
    {
     "name": "stdout",
     "output_type": "stream",
     "text": [
      "              precision    recall  f1-score   support\n",
      "\n",
      "          P1       0.88      0.14      0.25        98\n",
      "          P2       0.57      0.11      0.18       260\n",
      "          P3       0.89      0.99      0.94      3486\n",
      "          P4       0.67      0.27      0.39       107\n",
      "          P5       1.00      0.04      0.08        25\n",
      "\n",
      "    accuracy                           0.89      3976\n",
      "   macro avg       0.80      0.31      0.37      3976\n",
      "weighted avg       0.87      0.89      0.85      3976\n",
      "\n"
     ]
    }
   ],
   "source": [
    "# Check precision and recall\n",
    "print(classification_report(Y_test, Y_pred))"
   ]
  },
  {
   "cell_type": "markdown",
   "metadata": {
    "id": "mNvFnLapuUla"
   },
   "source": [
    "While the recall and precision values for the class P3 are quite high, these values for the other classes are low and even 0 in some cases (P5). The overall accuracy of the model is 88%, but if we hard-coded our prediction to always be P3, this would also be correct 88% of the time. This makes it clear that our model has not learned much of significance and is merely predicting the majority class. This highlights the fact that during model evaluation we must analyze several metrics and not rely on the accuracy alone."
   ]
  },
  {
   "cell_type": "code",
   "execution_count": 32,
   "metadata": {
    "colab": {
     "base_uri": "https://localhost:8080/",
     "height": 268
    },
    "id": "l-K_PBkZI8t9",
    "outputId": "c5b05362-b211-4cee-ba42-a96dcdbc62b5"
   },
   "outputs": [
    {
     "data": {
      "image/png": "[encoded data removed]",
      "text/plain": [
       "<Figure size 432x288 with 1 Axes>"
      ]
     },
     "metadata": {},
     "output_type": "display_data"
    }
   ],
   "source": [
    "df['Priority'].value_counts().plot(kind='bar');"
   ]
  },
  {
   "cell_type": "markdown",
   "metadata": {
    "id": "yFdfu0FjI8t9"
   },
   "source": [
    "### Class Imbalance\n",
    "\n",
    "The reason for the model to behave in this manner is due to the class imbalance in the priority classes that we observed earlier. While there were close to 36,000 bugs with a priority of P3, the number of bugs with other priority classes was only about 4,000 and even fewer in other cases. This means that when we trained our model, it was able to learn the characteristics of the P3 class alone.\n",
    " \n",
    "Here, we randomly downsample the P3 class."
   ]
  },
  {
   "cell_type": "code",
   "execution_count": 33,
   "metadata": {
    "colab": {
     "base_uri": "https://localhost:8080/"
    },
    "id": "eIFgMZY8I8t9",
    "outputId": "7113b9b3-b13a-4982-ac11-3e3ff2eef67b"
   },
   "outputs": [
    {
     "data": {
      "text/plain": [
       "P3    4000\n",
       "P2    1301\n",
       "P4     534\n",
       "P1     488\n",
       "P5     127\n",
       "Name: Priority, dtype: int64"
      ]
     },
     "execution_count": 33,
     "metadata": {},
     "output_type": "execute_result"
    }
   ],
   "source": [
    "# Filter bug reports with priority P3 and sample 4000 rows from it\n",
    "df_sampleP3 = df[df['Priority'] == 'P3'].sample(n=4000, random_state=123)\n",
    "\n",
    "# Create a separate dataframe containing all other bug reports\n",
    "df_sampleRest = df[df['Priority'] != 'P3']\n",
    "\n",
    "# Concatenate the two dataframes to create the new balanced bug reports dataset\n",
    "df_balanced = pd.concat([df_sampleRest, df_sampleP3])\n",
    "\n",
    "# Check the status of the class imbalance\n",
    "df_balanced['Priority'].value_counts()"
   ]
  },
  {
   "cell_type": "code",
   "execution_count": 34,
   "metadata": {
    "colab": {
     "base_uri": "https://localhost:8080/",
     "height": 268
    },
    "id": "Lem-NV5mI8t9",
    "outputId": "04fb3e91-7ba9-4216-c86b-bf61d5b5f61b"
   },
   "outputs": [
    {
     "data": {
      "image/png": "[encoded data removed]",
      "text/plain": [
       "<Figure size 432x288 with 1 Axes>"
      ]
     },
     "metadata": {},
     "output_type": "display_data"
    }
   ],
   "source": [
    "df_balanced['Priority'].value_counts().plot(kind='bar');"
   ]
  },
  {
   "cell_type": "markdown",
   "metadata": {
    "id": "aEhOYEokI8t9"
   },
   "source": [
    "---\n",
    "<a name='6.3'></a><a id='6.3'></a>\n",
    "# 6.3 Final Blueprint for Text Classification\n",
    "<a href=\"#top\">[back to top]</a>\n",
    "\n",
    "Here we combine all the steps we have listed so far to create our blueprint for text classification."
   ]
  },
  {
   "cell_type": "code",
   "execution_count": 35,
   "metadata": {
    "colab": {
     "base_uri": "https://localhost:8080/"
    },
    "id": "YmQmrib-I8t-",
    "outputId": "62aca278-98fc-400e-8501-09472cbdd916"
   },
   "outputs": [
    {
     "name": "stdout",
     "output_type": "stream",
     "text": [
      "Size of Training Data  5160\n",
      "Size of Test Data  1290\n",
      "Accuracy Score -  0.6666666666666666\n",
      "              precision    recall  f1-score   support\n",
      "\n",
      "          P1       0.65      0.33      0.44        98\n",
      "          P2       0.45      0.34      0.39       260\n",
      "          P3       0.71      0.86      0.78       800\n",
      "          P4       0.64      0.38      0.48       107\n",
      "          P5       0.88      0.28      0.42        25\n",
      "\n",
      "    accuracy                           0.67      1290\n",
      "   macro avg       0.67      0.44      0.50      1290\n",
      "weighted avg       0.65      0.67      0.64      1290\n",
      "\n"
     ]
    }
   ],
   "source": [
    "# Loading the balanced dataframe\n",
    "df = df_balanced[['text', 'Priority']]\n",
    "df = df.dropna()\n",
    "\n",
    "# Step 1 - Data Preparation\n",
    "df['text'] = df['text'].apply(clean)\n",
    "\n",
    "# Step 2 - Train-Test Split\n",
    "X_train, X_test, Y_train, Y_test = train_test_split(\n",
    "    df['text'],\n",
    "    df['Priority'],\n",
    "    test_size=0.2,\n",
    "    random_state=42,\n",
    "    stratify=df['Priority']\n",
    ")\n",
    "print('Size of Training Data ', X_train.shape[0])\n",
    "print('Size of Test Data ', X_test.shape[0])\n",
    "\n",
    "# Step 3 - Training the Machine Learning model\n",
    "tfidf = TfidfVectorizer(min_df=10, ngram_range=(1, 2), stop_words=\"english\")\n",
    "X_train_tf = tfidf.fit_transform(X_train)\n",
    "model1 = LinearSVC(random_state=0, tol=1e-5)\n",
    "model1.fit(X_train_tf, Y_train)\n",
    "\n",
    "# Step 4 - Model Evaluation\n",
    "X_test_tf = tfidf.transform(X_test)\n",
    "Y_pred = model1.predict(X_test_tf)\n",
    "print('Accuracy Score - ', accuracy_score(Y_test, Y_pred))\n",
    "print(classification_report(Y_test, Y_pred))"
   ]
  },
  {
   "cell_type": "code",
   "execution_count": 36,
   "metadata": {
    "colab": {
     "base_uri": "https://localhost:8080/"
    },
    "id": "BiKWw0MCI8t-",
    "outputId": "612ec852-6c92-4c67-876b-952f5fde527a"
   },
   "outputs": [
    {
     "name": "stdout",
     "output_type": "stream",
     "text": [
      "Accuracy Score -  0.43488372093023253\n"
     ]
    }
   ],
   "source": [
    "clf = DummyClassifier(strategy='stratified', random_state=21)\n",
    "clf.fit(X_train, Y_train)\n",
    "Y_pred_baseline = clf.predict(X_test)\n",
    "print ('Accuracy Score - ', accuracy_score(Y_test, Y_pred_baseline))"
   ]
  },
  {
   "cell_type": "markdown",
   "metadata": {
    "id": "W8rFYHs0I8t-"
   },
   "source": [
    "### Examples where the model predictions for these priorities are accurate."
   ]
  },
  {
   "cell_type": "code",
   "execution_count": 37,
   "metadata": {
    "colab": {
     "base_uri": "https://localhost:8080/",
     "height": 111
    },
    "id": "bDTBuXZfI8t_",
    "outputId": "8106262f-c22b-4e66-e130-fcf2128ceaaa"
   },
   "outputs": [
    {
     "data": {
      "text/html": [
       "\n",
       "  <div id=\"df-b7ccd397-1b49-4d6d-b2dc-4d84281ee343\">\n",
       "    <div class=\"colab-df-container\">\n",
       "      <div>\n",
       "<style scoped>\n",
       "    .dataframe tbody tr th:only-of-type {\n",
       "        vertical-align: middle;\n",
       "    }\n",
       "\n",
       "    .dataframe tbody tr th {\n",
       "        vertical-align: top;\n",
       "    }\n",
       "\n",
       "    .dataframe thead th {\n",
       "        text-align: right;\n",
       "    }\n",
       "</style>\n",
       "<table border=\"1\" class=\"dataframe\">\n",
       "  <thead>\n",
       "    <tr style=\"text-align: right;\">\n",
       "      <th></th>\n",
       "      <th>text</th>\n",
       "      <th>actual</th>\n",
       "      <th>predicted</th>\n",
       "    </tr>\n",
       "  </thead>\n",
       "  <tbody>\n",
       "    <tr>\n",
       "      <th>34888</th>\n",
       "      <td>breakpoint performance tests The peformance te...</td>\n",
       "      <td>P1</td>\n",
       "      <td>P1</td>\n",
       "    </tr>\n",
       "    <tr>\n",
       "      <th>1436</th>\n",
       "      <td>Breakpoints remain installed after target term...</td>\n",
       "      <td>P1</td>\n",
       "      <td>P1</td>\n",
       "    </tr>\n",
       "  </tbody>\n",
       "</table>\n",
       "</div>\n",
       "      <button class=\"colab-df-convert\" onclick=\"convertToInteractive('df-b7ccd397-1b49-4d6d-b2dc-4d84281ee343')\"\n",
       "              title=\"Convert this dataframe to an interactive table.\"\n",
       "              style=\"display:none;\">\n",
       "        \n",
       "  <svg xmlns=\"http://www.w3.org/2000/svg\" height=\"24px\"viewBox=\"0 0 24 24\"\n",
       "       width=\"24px\">\n",
       "    <path d=\"M0 0h24v24H0V0z\" fill=\"none\"/>\n",
       "    <path d=\"M18.56 5.44l.94 2.06.94-2.06 2.06-.94-2.06-.94-.94-2.06-.94 2.06-2.06.94zm-11 1L8.5 8.5l.94-2.06 2.06-.94-2.06-.94L8.5 2.5l-.94 2.06-2.06.94zm10 10l.94 2.06.94-2.06 2.06-.94-2.06-.94-.94-2.06-.94 2.06-2.06.94z\"/><path d=\"M17.41 7.96l-1.37-1.37c-.4-.4-.92-.59-1.43-.59-.52 0-1.04.2-1.43.59L10.3 9.45l-7.72 7.72c-.78.78-.78 2.05 0 2.83L4 21.41c.39.39.9.59 1.41.59.51 0 1.02-.2 1.41-.59l7.78-7.78 2.81-2.81c.8-.78.8-2.07 0-2.86zM5.41 20L4 18.59l7.72-7.72 1.47 1.35L5.41 20z\"/>\n",
       "  </svg>\n",
       "      </button>\n",
       "      \n",
       "  <style>\n",
       "    .colab-df-container {\n",
       "      display:flex;\n",
       "      flex-wrap:wrap;\n",
       "      gap: 12px;\n",
       "    }\n",
       "\n",
       "    .colab-df-convert {\n",
       "      background-color: #E8F0FE;\n",
       "      border: none;\n",
       "      border-radius: 50%;\n",
       "      cursor: pointer;\n",
       "      display: none;\n",
       "      fill: #1967D2;\n",
       "      height: 32px;\n",
       "      padding: 0 0 0 0;\n",
       "      width: 32px;\n",
       "    }\n",
       "\n",
       "    .colab-df-convert:hover {\n",
       "      background-color: #E2EBFA;\n",
       "      box-shadow: 0px 1px 2px rgba(60, 64, 67, 0.3), 0px 1px 3px 1px rgba(60, 64, 67, 0.15);\n",
       "      fill: #174EA6;\n",
       "    }\n",
       "\n",
       "    [theme=dark] .colab-df-convert {\n",
       "      background-color: #3B4455;\n",
       "      fill: #D2E3FC;\n",
       "    }\n",
       "\n",
       "    [theme=dark] .colab-df-convert:hover {\n",
       "      background-color: #434B5C;\n",
       "      box-shadow: 0px 1px 3px 1px rgba(0, 0, 0, 0.15);\n",
       "      filter: drop-shadow(0px 1px 2px rgba(0, 0, 0, 0.3));\n",
       "      fill: #FFFFFF;\n",
       "    }\n",
       "  </style>\n",
       "\n",
       "      <script>\n",
       "        const buttonEl =\n",
       "          document.querySelector('#df-b7ccd397-1b49-4d6d-b2dc-4d84281ee343 button.colab-df-convert');\n",
       "        buttonEl.style.display =\n",
       "          google.colab.kernel.accessAllowed ? 'block' : 'none';\n",
       "\n",
       "        async function convertToInteractive(key) {\n",
       "          const element = document.querySelector('#df-b7ccd397-1b49-4d6d-b2dc-4d84281ee343');\n",
       "          const dataTable =\n",
       "            await google.colab.kernel.invokeFunction('convertToInteractive',\n",
       "                                                     [key], {});\n",
       "          if (!dataTable) return;\n",
       "\n",
       "          const docLinkHtml = 'Like what you see? Visit the ' +\n",
       "            '<a target=\"_blank\" href=https://colab.research.google.com/notebooks/data_table.ipynb>data table notebook</a>'\n",
       "            + ' to learn more about interactive tables.';\n",
       "          element.innerHTML = '';\n",
       "          dataTable['output_type'] = 'display_data';\n",
       "          await google.colab.output.renderOutput(dataTable, element);\n",
       "          const docLink = document.createElement('div');\n",
       "          docLink.innerHTML = docLinkHtml;\n",
       "          element.appendChild(docLink);\n",
       "        }\n",
       "      </script>\n",
       "    </div>\n",
       "  </div>\n",
       "  "
      ],
      "text/plain": [
       "                                                    text actual predicted\n",
       "34888  breakpoint performance tests The peformance te...     P1        P1\n",
       "1436   Breakpoints remain installed after target term...     P1        P1"
      ]
     },
     "execution_count": 37,
     "metadata": {},
     "output_type": "execute_result"
    }
   ],
   "source": [
    "## Create a dataframe combining the Title and Description, \n",
    "## Actual and Predicted values that we can explore\n",
    "frame = { 'text': X_test, 'actual': Y_test, 'predicted': Y_pred }\n",
    "result = pd.DataFrame(frame)\n",
    "\n",
    "result[((result['actual'] == 'P1') | (result['actual'] == 'P2')) &\n",
    "       (result['actual'] == result['predicted'])].sample(2, random_state=22)"
   ]
  },
  {
   "cell_type": "markdown",
   "metadata": {
    "id": "zeUAXFtaI8t_"
   },
   "source": [
    "### Examples where the model predictions for these priorities are NOT accurate:"
   ]
  },
  {
   "cell_type": "code",
   "execution_count": 38,
   "metadata": {
    "colab": {
     "base_uri": "https://localhost:8080/",
     "height": 111
    },
    "id": "iT33__phI8t_",
    "outputId": "657903c6-78d7-4c91-f3cc-eab97b0bdea6"
   },
   "outputs": [
    {
     "data": {
      "text/html": [
       "\n",
       "  <div id=\"df-a8247642-d394-4cbb-b941-16e4ced8e48d\">\n",
       "    <div class=\"colab-df-container\">\n",
       "      <div>\n",
       "<style scoped>\n",
       "    .dataframe tbody tr th:only-of-type {\n",
       "        vertical-align: middle;\n",
       "    }\n",
       "\n",
       "    .dataframe tbody tr th {\n",
       "        vertical-align: top;\n",
       "    }\n",
       "\n",
       "    .dataframe thead th {\n",
       "        text-align: right;\n",
       "    }\n",
       "</style>\n",
       "<table border=\"1\" class=\"dataframe\">\n",
       "  <thead>\n",
       "    <tr style=\"text-align: right;\">\n",
       "      <th></th>\n",
       "      <th>text</th>\n",
       "      <th>actual</th>\n",
       "      <th>predicted</th>\n",
       "    </tr>\n",
       "  </thead>\n",
       "  <tbody>\n",
       "    <tr>\n",
       "      <th>3380</th>\n",
       "      <td>Severe shutdown performance problem Build 2002...</td>\n",
       "      <td>P1</td>\n",
       "      <td>P3</td>\n",
       "    </tr>\n",
       "    <tr>\n",
       "      <th>8656</th>\n",
       "      <td>use super type: problems with arrays see tests...</td>\n",
       "      <td>P2</td>\n",
       "      <td>P3</td>\n",
       "    </tr>\n",
       "  </tbody>\n",
       "</table>\n",
       "</div>\n",
       "      <button class=\"colab-df-convert\" onclick=\"convertToInteractive('df-a8247642-d394-4cbb-b941-16e4ced8e48d')\"\n",
       "              title=\"Convert this dataframe to an interactive table.\"\n",
       "              style=\"display:none;\">\n",
       "        \n",
       "  <svg xmlns=\"http://www.w3.org/2000/svg\" height=\"24px\"viewBox=\"0 0 24 24\"\n",
       "       width=\"24px\">\n",
       "    <path d=\"M0 0h24v24H0V0z\" fill=\"none\"/>\n",
       "    <path d=\"M18.56 5.44l.94 2.06.94-2.06 2.06-.94-2.06-.94-.94-2.06-.94 2.06-2.06.94zm-11 1L8.5 8.5l.94-2.06 2.06-.94-2.06-.94L8.5 2.5l-.94 2.06-2.06.94zm10 10l.94 2.06.94-2.06 2.06-.94-2.06-.94-.94-2.06-.94 2.06-2.06.94z\"/><path d=\"M17.41 7.96l-1.37-1.37c-.4-.4-.92-.59-1.43-.59-.52 0-1.04.2-1.43.59L10.3 9.45l-7.72 7.72c-.78.78-.78 2.05 0 2.83L4 21.41c.39.39.9.59 1.41.59.51 0 1.02-.2 1.41-.59l7.78-7.78 2.81-2.81c.8-.78.8-2.07 0-2.86zM5.41 20L4 18.59l7.72-7.72 1.47 1.35L5.41 20z\"/>\n",
       "  </svg>\n",
       "      </button>\n",
       "      \n",
       "  <style>\n",
       "    .colab-df-container {\n",
       "      display:flex;\n",
       "      flex-wrap:wrap;\n",
       "      gap: 12px;\n",
       "    }\n",
       "\n",
       "    .colab-df-convert {\n",
       "      background-color: #E8F0FE;\n",
       "      border: none;\n",
       "      border-radius: 50%;\n",
       "      cursor: pointer;\n",
       "      display: none;\n",
       "      fill: #1967D2;\n",
       "      height: 32px;\n",
       "      padding: 0 0 0 0;\n",
       "      width: 32px;\n",
       "    }\n",
       "\n",
       "    .colab-df-convert:hover {\n",
       "      background-color: #E2EBFA;\n",
       "      box-shadow: 0px 1px 2px rgba(60, 64, 67, 0.3), 0px 1px 3px 1px rgba(60, 64, 67, 0.15);\n",
       "      fill: #174EA6;\n",
       "    }\n",
       "\n",
       "    [theme=dark] .colab-df-convert {\n",
       "      background-color: #3B4455;\n",
       "      fill: #D2E3FC;\n",
       "    }\n",
       "\n",
       "    [theme=dark] .colab-df-convert:hover {\n",
       "      background-color: #434B5C;\n",
       "      box-shadow: 0px 1px 3px 1px rgba(0, 0, 0, 0.15);\n",
       "      filter: drop-shadow(0px 1px 2px rgba(0, 0, 0, 0.3));\n",
       "      fill: #FFFFFF;\n",
       "    }\n",
       "  </style>\n",
       "\n",
       "      <script>\n",
       "        const buttonEl =\n",
       "          document.querySelector('#df-a8247642-d394-4cbb-b941-16e4ced8e48d button.colab-df-convert');\n",
       "        buttonEl.style.display =\n",
       "          google.colab.kernel.accessAllowed ? 'block' : 'none';\n",
       "\n",
       "        async function convertToInteractive(key) {\n",
       "          const element = document.querySelector('#df-a8247642-d394-4cbb-b941-16e4ced8e48d');\n",
       "          const dataTable =\n",
       "            await google.colab.kernel.invokeFunction('convertToInteractive',\n",
       "                                                     [key], {});\n",
       "          if (!dataTable) return;\n",
       "\n",
       "          const docLinkHtml = 'Like what you see? Visit the ' +\n",
       "            '<a target=\"_blank\" href=https://colab.research.google.com/notebooks/data_table.ipynb>data table notebook</a>'\n",
       "            + ' to learn more about interactive tables.';\n",
       "          element.innerHTML = '';\n",
       "          dataTable['output_type'] = 'display_data';\n",
       "          await google.colab.output.renderOutput(dataTable, element);\n",
       "          const docLink = document.createElement('div');\n",
       "          docLink.innerHTML = docLinkHtml;\n",
       "          element.appendChild(docLink);\n",
       "        }\n",
       "      </script>\n",
       "    </div>\n",
       "  </div>\n",
       "  "
      ],
      "text/plain": [
       "                                                   text actual predicted\n",
       "3380  Severe shutdown performance problem Build 2002...     P1        P3\n",
       "8656  use super type: problems with arrays see tests...     P2        P3"
      ]
     },
     "execution_count": 38,
     "metadata": {},
     "output_type": "execute_result"
    }
   ],
   "source": [
    "result[((result['actual'] == 'P1') | (result['actual'] == 'P2')) &\n",
    "       (result['actual'] != result['predicted'])].sample(2, random_state=33)"
   ]
  },
  {
   "cell_type": "markdown",
   "metadata": {
    "id": "41U0FtDGI8uA"
   },
   "source": [
    "---\n",
    "<a name='6.4'></a><a id='6.4'></a>\n",
    "# 6.4 Blueprint: Using Cross-Validation to Estimate Realistic Accuracy Metrics\n",
    "<a href=\"#top\">[back to top]</a>"
   ]
  },
  {
   "cell_type": "code",
   "execution_count": 39,
   "metadata": {
    "colab": {
     "base_uri": "https://localhost:8080/"
    },
    "id": "iThtQB4HI8uA",
    "outputId": "9665eb57-644c-4580-d1ce-752676d23030"
   },
   "outputs": [
    {
     "name": "stdout",
     "output_type": "stream",
     "text": [
      "Validation scores from each iteration of the cross validation  [0.67131783 0.67906977 0.67054264 0.68217054 0.69224806]\n",
      "Mean value across of validation scores  0.6790697674418604\n",
      "Standard deviation of validation scores  0.007950934204625202\n"
     ]
    }
   ],
   "source": [
    "# Vectorization\n",
    "tfidf = TfidfVectorizer(min_df = 10, ngram_range=(1,2), stop_words=\"english\")\n",
    "# Use the entire dataset, not just the train split\n",
    "df_tf = tfidf.fit_transform(df['text']).toarray()\n",
    "\n",
    "# Cross Validation with 5 folds\n",
    "scores = cross_val_score(\n",
    "    estimator=model1,\n",
    "    X=df_tf,\n",
    "    y=df['Priority'],\n",
    "    cv=5\n",
    ")\n",
    "\n",
    "print (\"Validation scores from each iteration of the cross validation \", scores)\n",
    "print (\"Mean value across of validation scores \", scores.mean())\n",
    "print (\"Standard deviation of validation scores \", scores.std())"
   ]
  },
  {
   "cell_type": "markdown",
   "metadata": {
    "id": "tD_WKQokI8uB"
   },
   "source": [
    "---\n",
    "<a name='6.5'></a><a id='6.5'></a>\n",
    "# 6.5 Blueprint: Performing Hyperparameter Tuning with Grid Search\n",
    "<a href=\"#top\">[back to top]</a>\n",
    "\n",
    "### Requires a long time to run."
   ]
  },
  {
   "cell_type": "code",
   "execution_count": 40,
   "metadata": {
    "id": "JxvIdrXRXgKQ"
   },
   "outputs": [],
   "source": [
    "# Stop execution here\n",
    "\n",
    "# assert(False)"
   ]
  },
  {
   "cell_type": "code",
   "execution_count": 41,
   "metadata": {
    "colab": {
     "base_uri": "https://localhost:8080/"
    },
    "id": "HkGw68PFI8uC",
    "outputId": "fa9f6351-6d2e-4a09-800f-cf489129af4f"
   },
   "outputs": [
    {
     "name": "stdout",
     "output_type": "stream",
     "text": [
      "Fitting 5 folds for each of 20 candidates, totalling 100 fits\n",
      "[CV 1/5] END model__loss=hinge, model__max_iter=10000, model__penalty=l2, tfidf__min_df=5, tfidf__ngram_range=(1, 3);, score=0.677 total time=   3.4s\n",
      "[CV 2/5] END model__loss=hinge, model__max_iter=10000, model__penalty=l2, tfidf__min_df=5, tfidf__ngram_range=(1, 3);, score=0.688 total time=   3.2s\n",
      "[CV 3/5] END model__loss=hinge, model__max_iter=10000, model__penalty=l2, tfidf__min_df=5, tfidf__ngram_range=(1, 3);, score=0.676 total time=   2.7s\n",
      "[CV 4/5] END model__loss=hinge, model__max_iter=10000, model__penalty=l2, tfidf__min_df=5, tfidf__ngram_range=(1, 3);, score=0.680 total time=   2.9s\n",
      "[CV 5/5] END model__loss=hinge, model__max_iter=10000, model__penalty=l2, tfidf__min_df=5, tfidf__ngram_range=(1, 3);, score=0.689 total time=   2.7s\n",
      "[CV 1/5] END model__loss=hinge, model__max_iter=10000, model__penalty=l2, tfidf__min_df=5, tfidf__ngram_range=(1, 6);, score=0.681 total time=   7.2s\n",
      "[CV 2/5] END model__loss=hinge, model__max_iter=10000, model__penalty=l2, tfidf__min_df=5, tfidf__ngram_range=(1, 6);, score=0.688 total time=   8.6s\n",
      "[CV 3/5] END model__loss=hinge, model__max_iter=10000, model__penalty=l2, tfidf__min_df=5, tfidf__ngram_range=(1, 6);, score=0.678 total time=   6.1s\n",
      "[CV 4/5] END model__loss=hinge, model__max_iter=10000, model__penalty=l2, tfidf__min_df=5, tfidf__ngram_range=(1, 6);, score=0.685 total time=   7.0s\n",
      "[CV 5/5] END model__loss=hinge, model__max_iter=10000, model__penalty=l2, tfidf__min_df=5, tfidf__ngram_range=(1, 6);, score=0.692 total time=   6.5s\n",
      "[CV 1/5] END model__loss=hinge, model__max_iter=10000, model__penalty=l2, tfidf__min_df=10, tfidf__ngram_range=(1, 3);, score=0.669 total time=   3.2s\n",
      "[CV 2/5] END model__loss=hinge, model__max_iter=10000, model__penalty=l2, tfidf__min_df=10, tfidf__ngram_range=(1, 3);, score=0.669 total time=   3.1s\n",
      "[CV 3/5] END model__loss=hinge, model__max_iter=10000, model__penalty=l2, tfidf__min_df=10, tfidf__ngram_range=(1, 3);, score=0.668 total time=   2.5s\n",
      "[CV 4/5] END model__loss=hinge, model__max_iter=10000, model__penalty=l2, tfidf__min_df=10, tfidf__ngram_range=(1, 3);, score=0.678 total time=   3.4s\n",
      "[CV 5/5] END model__loss=hinge, model__max_iter=10000, model__penalty=l2, tfidf__min_df=10, tfidf__ngram_range=(1, 3);, score=0.666 total time=   2.9s\n",
      "[CV 1/5] END model__loss=hinge, model__max_iter=10000, model__penalty=l2, tfidf__min_df=10, tfidf__ngram_range=(1, 6);, score=0.671 total time=   6.6s\n",
      "[CV 2/5] END model__loss=hinge, model__max_iter=10000, model__penalty=l2, tfidf__min_df=10, tfidf__ngram_range=(1, 6);, score=0.665 total time=   7.1s\n",
      "[CV 3/5] END model__loss=hinge, model__max_iter=10000, model__penalty=l2, tfidf__min_df=10, tfidf__ngram_range=(1, 6);, score=0.668 total time=   6.2s\n",
      "[CV 4/5] END model__loss=hinge, model__max_iter=10000, model__penalty=l2, tfidf__min_df=10, tfidf__ngram_range=(1, 6);, score=0.676 total time=   5.9s\n",
      "[CV 5/5] END model__loss=hinge, model__max_iter=10000, model__penalty=l2, tfidf__min_df=10, tfidf__ngram_range=(1, 6);, score=0.667 total time=   6.6s\n",
      "[CV 1/5] END model__C=1, model__tol=0.01, tfidf__min_df=5, tfidf__ngram_range=(1, 3);, score=0.683 total time=   2.4s\n",
      "[CV 2/5] END model__C=1, model__tol=0.01, tfidf__min_df=5, tfidf__ngram_range=(1, 3);, score=0.708 total time=   2.5s\n",
      "[CV 3/5] END model__C=1, model__tol=0.01, tfidf__min_df=5, tfidf__ngram_range=(1, 3);, score=0.704 total time=   2.2s\n",
      "[CV 4/5] END model__C=1, model__tol=0.01, tfidf__min_df=5, tfidf__ngram_range=(1, 3);, score=0.708 total time=   2.6s\n",
      "[CV 5/5] END model__C=1, model__tol=0.01, tfidf__min_df=5, tfidf__ngram_range=(1, 3);, score=0.713 total time=   2.9s\n",
      "[CV 1/5] END model__C=1, model__tol=0.01, tfidf__min_df=5, tfidf__ngram_range=(1, 6);, score=0.685 total time=   5.9s\n",
      "[CV 2/5] END model__C=1, model__tol=0.01, tfidf__min_df=5, tfidf__ngram_range=(1, 6);, score=0.713 total time=   6.4s\n",
      "[CV 3/5] END model__C=1, model__tol=0.01, tfidf__min_df=5, tfidf__ngram_range=(1, 6);, score=0.705 total time=   6.0s\n",
      "[CV 4/5] END model__C=1, model__tol=0.01, tfidf__min_df=5, tfidf__ngram_range=(1, 6);, score=0.709 total time=   6.5s\n",
      "[CV 5/5] END model__C=1, model__tol=0.01, tfidf__min_df=5, tfidf__ngram_range=(1, 6);, score=0.713 total time=   6.0s\n",
      "[CV 1/5] END model__C=1, model__tol=0.01, tfidf__min_df=10, tfidf__ngram_range=(1, 3);, score=0.662 total time=   2.9s\n",
      "[CV 2/5] END model__C=1, model__tol=0.01, tfidf__min_df=10, tfidf__ngram_range=(1, 3);, score=0.671 total time=   2.6s\n",
      "[CV 3/5] END model__C=1, model__tol=0.01, tfidf__min_df=10, tfidf__ngram_range=(1, 3);, score=0.672 total time=   2.6s\n",
      "[CV 4/5] END model__C=1, model__tol=0.01, tfidf__min_df=10, tfidf__ngram_range=(1, 3);, score=0.683 total time=   2.3s\n",
      "[CV 5/5] END model__C=1, model__tol=0.01, tfidf__min_df=10, tfidf__ngram_range=(1, 3);, score=0.685 total time=   2.8s\n",
      "[CV 1/5] END model__C=1, model__tol=0.01, tfidf__min_df=10, tfidf__ngram_range=(1, 6);, score=0.669 total time=   5.9s\n",
      "[CV 2/5] END model__C=1, model__tol=0.01, tfidf__min_df=10, tfidf__ngram_range=(1, 6);, score=0.671 total time=   6.6s\n",
      "[CV 3/5] END model__C=1, model__tol=0.01, tfidf__min_df=10, tfidf__ngram_range=(1, 6);, score=0.679 total time=   5.9s\n",
      "[CV 4/5] END model__C=1, model__tol=0.01, tfidf__min_df=10, tfidf__ngram_range=(1, 6);, score=0.684 total time=   6.6s\n",
      "[CV 5/5] END model__C=1, model__tol=0.01, tfidf__min_df=10, tfidf__ngram_range=(1, 6);, score=0.681 total time=   5.2s\n",
      "[CV 1/5] END model__C=1, model__tol=0.001, tfidf__min_df=5, tfidf__ngram_range=(1, 3);, score=0.684 total time=   2.6s\n",
      "[CV 2/5] END model__C=1, model__tol=0.001, tfidf__min_df=5, tfidf__ngram_range=(1, 3);, score=0.708 total time=   3.0s\n",
      "[CV 3/5] END model__C=1, model__tol=0.001, tfidf__min_df=5, tfidf__ngram_range=(1, 3);, score=0.704 total time=   2.3s\n",
      "[CV 4/5] END model__C=1, model__tol=0.001, tfidf__min_df=5, tfidf__ngram_range=(1, 3);, score=0.708 total time=   2.5s\n",
      "[CV 5/5] END model__C=1, model__tol=0.001, tfidf__min_df=5, tfidf__ngram_range=(1, 3);, score=0.713 total time=   2.3s\n",
      "[CV 1/5] END model__C=1, model__tol=0.001, tfidf__min_df=5, tfidf__ngram_range=(1, 6);, score=0.685 total time=   6.4s\n",
      "[CV 2/5] END model__C=1, model__tol=0.001, tfidf__min_df=5, tfidf__ngram_range=(1, 6);, score=0.714 total time=   6.0s\n",
      "[CV 3/5] END model__C=1, model__tol=0.001, tfidf__min_df=5, tfidf__ngram_range=(1, 6);, score=0.705 total time=   7.2s\n",
      "[CV 4/5] END model__C=1, model__tol=0.001, tfidf__min_df=5, tfidf__ngram_range=(1, 6);, score=0.709 total time=   5.9s\n",
      "[CV 5/5] END model__C=1, model__tol=0.001, tfidf__min_df=5, tfidf__ngram_range=(1, 6);, score=0.713 total time=   7.1s\n",
      "[CV 1/5] END model__C=1, model__tol=0.001, tfidf__min_df=10, tfidf__ngram_range=(1, 3);, score=0.662 total time=   2.7s\n",
      "[CV 2/5] END model__C=1, model__tol=0.001, tfidf__min_df=10, tfidf__ngram_range=(1, 3);, score=0.671 total time=   3.3s\n",
      "[CV 3/5] END model__C=1, model__tol=0.001, tfidf__min_df=10, tfidf__ngram_range=(1, 3);, score=0.672 total time=   2.5s\n",
      "[CV 4/5] END model__C=1, model__tol=0.001, tfidf__min_df=10, tfidf__ngram_range=(1, 3);, score=0.683 total time=   2.6s\n",
      "[CV 5/5] END model__C=1, model__tol=0.001, tfidf__min_df=10, tfidf__ngram_range=(1, 3);, score=0.685 total time=   2.4s\n",
      "[CV 1/5] END model__C=1, model__tol=0.001, tfidf__min_df=10, tfidf__ngram_range=(1, 6);, score=0.669 total time=   5.9s\n",
      "[CV 2/5] END model__C=1, model__tol=0.001, tfidf__min_df=10, tfidf__ngram_range=(1, 6);, score=0.671 total time=   5.5s\n",
      "[CV 3/5] END model__C=1, model__tol=0.001, tfidf__min_df=10, tfidf__ngram_range=(1, 6);, score=0.679 total time=   6.9s\n",
      "[CV 4/5] END model__C=1, model__tol=0.001, tfidf__min_df=10, tfidf__ngram_range=(1, 6);, score=0.684 total time=   5.9s\n",
      "[CV 5/5] END model__C=1, model__tol=0.001, tfidf__min_df=10, tfidf__ngram_range=(1, 6);, score=0.681 total time=   6.3s\n",
      "[CV 1/5] END model__C=10, model__tol=0.01, tfidf__min_df=5, tfidf__ngram_range=(1, 3);, score=0.647 total time=   2.7s\n",
      "[CV 2/5] END model__C=10, model__tol=0.01, tfidf__min_df=5, tfidf__ngram_range=(1, 3);, score=0.676 total time=   2.7s\n",
      "[CV 3/5] END model__C=10, model__tol=0.01, tfidf__min_df=5, tfidf__ngram_range=(1, 3);, score=0.669 total time=   3.7s\n",
      "[CV 4/5] END model__C=10, model__tol=0.01, tfidf__min_df=5, tfidf__ngram_range=(1, 3);, score=0.674 total time=   3.0s\n",
      "[CV 5/5] END model__C=10, model__tol=0.01, tfidf__min_df=5, tfidf__ngram_range=(1, 3);, score=0.688 total time=   2.9s\n",
      "[CV 1/5] END model__C=10, model__tol=0.01, tfidf__min_df=5, tfidf__ngram_range=(1, 6);, score=0.647 total time=   7.5s\n",
      "[CV 2/5] END model__C=10, model__tol=0.01, tfidf__min_df=5, tfidf__ngram_range=(1, 6);, score=0.674 total time=   6.3s\n",
      "[CV 3/5] END model__C=10, model__tol=0.01, tfidf__min_df=5, tfidf__ngram_range=(1, 6);, score=0.674 total time=   7.1s\n",
      "[CV 4/5] END model__C=10, model__tol=0.01, tfidf__min_df=5, tfidf__ngram_range=(1, 6);, score=0.676 total time=   7.5s\n",
      "[CV 5/5] END model__C=10, model__tol=0.01, tfidf__min_df=5, tfidf__ngram_range=(1, 6);, score=0.694 total time=   6.4s\n",
      "[CV 1/5] END model__C=10, model__tol=0.01, tfidf__min_df=10, tfidf__ngram_range=(1, 3);, score=0.633 total time=   2.8s\n",
      "[CV 2/5] END model__C=10, model__tol=0.01, tfidf__min_df=10, tfidf__ngram_range=(1, 3);, score=0.660 total time=   3.5s\n",
      "[CV 3/5] END model__C=10, model__tol=0.01, tfidf__min_df=10, tfidf__ngram_range=(1, 3);, score=0.640 total time=   3.0s\n",
      "[CV 4/5] END model__C=10, model__tol=0.01, tfidf__min_df=10, tfidf__ngram_range=(1, 3);, score=0.649 total time=   2.9s\n",
      "[CV 5/5] END model__C=10, model__tol=0.01, tfidf__min_df=10, tfidf__ngram_range=(1, 3);, score=0.665 total time=   3.1s\n",
      "[CV 1/5] END model__C=10, model__tol=0.01, tfidf__min_df=10, tfidf__ngram_range=(1, 6);, score=0.638 total time=   6.1s\n",
      "[CV 2/5] END model__C=10, model__tol=0.01, tfidf__min_df=10, tfidf__ngram_range=(1, 6);, score=0.654 total time=   6.8s\n",
      "[CV 3/5] END model__C=10, model__tol=0.01, tfidf__min_df=10, tfidf__ngram_range=(1, 6);, score=0.643 total time=   6.7s\n",
      "[CV 4/5] END model__C=10, model__tol=0.01, tfidf__min_df=10, tfidf__ngram_range=(1, 6);, score=0.651 total time=   7.6s\n",
      "[CV 5/5] END model__C=10, model__tol=0.01, tfidf__min_df=10, tfidf__ngram_range=(1, 6);, score=0.665 total time=   7.0s\n",
      "[CV 1/5] END model__C=10, model__tol=0.001, tfidf__min_df=5, tfidf__ngram_range=(1, 3);, score=0.647 total time=   3.9s\n",
      "[CV 2/5] END model__C=10, model__tol=0.001, tfidf__min_df=5, tfidf__ngram_range=(1, 3);, score=0.676 total time=   3.2s\n",
      "[CV 3/5] END model__C=10, model__tol=0.001, tfidf__min_df=5, tfidf__ngram_range=(1, 3);, score=0.669 total time=   3.0s\n",
      "[CV 4/5] END model__C=10, model__tol=0.001, tfidf__min_df=5, tfidf__ngram_range=(1, 3);, score=0.675 total time=   3.7s\n",
      "[CV 5/5] END model__C=10, model__tol=0.001, tfidf__min_df=5, tfidf__ngram_range=(1, 3);, score=0.688 total time=   2.9s\n",
      "[CV 1/5] END model__C=10, model__tol=0.001, tfidf__min_df=5, tfidf__ngram_range=(1, 6);, score=0.647 total time=   7.8s\n",
      "[CV 2/5] END model__C=10, model__tol=0.001, tfidf__min_df=5, tfidf__ngram_range=(1, 6);, score=0.674 total time=   9.5s\n",
      "[CV 3/5] END model__C=10, model__tol=0.001, tfidf__min_df=5, tfidf__ngram_range=(1, 6);, score=0.674 total time=   8.8s\n",
      "[CV 4/5] END model__C=10, model__tol=0.001, tfidf__min_df=5, tfidf__ngram_range=(1, 6);, score=0.676 total time=   8.4s\n",
      "[CV 5/5] END model__C=10, model__tol=0.001, tfidf__min_df=5, tfidf__ngram_range=(1, 6);, score=0.694 total time=   8.4s\n",
      "[CV 1/5] END model__C=10, model__tol=0.001, tfidf__min_df=10, tfidf__ngram_range=(1, 3);, score=0.633 total time=   2.9s\n",
      "[CV 2/5] END model__C=10, model__tol=0.001, tfidf__min_df=10, tfidf__ngram_range=(1, 3);, score=0.660 total time=   3.4s\n",
      "[CV 3/5] END model__C=10, model__tol=0.001, tfidf__min_df=10, tfidf__ngram_range=(1, 3);, score=0.640 total time=   3.2s\n",
      "[CV 4/5] END model__C=10, model__tol=0.001, tfidf__min_df=10, tfidf__ngram_range=(1, 3);, score=0.649 total time=   4.0s\n",
      "[CV 5/5] END model__C=10, model__tol=0.001, tfidf__min_df=10, tfidf__ngram_range=(1, 3);, score=0.665 total time=   3.1s\n",
      "[CV 1/5] END model__C=10, model__tol=0.001, tfidf__min_df=10, tfidf__ngram_range=(1, 6);, score=0.638 total time=   8.1s\n",
      "[CV 2/5] END model__C=10, model__tol=0.001, tfidf__min_df=10, tfidf__ngram_range=(1, 6);, score=0.654 total time=   7.5s\n",
      "[CV 3/5] END model__C=10, model__tol=0.001, tfidf__min_df=10, tfidf__ngram_range=(1, 6);, score=0.643 total time=   8.0s\n",
      "[CV 4/5] END model__C=10, model__tol=0.001, tfidf__min_df=10, tfidf__ngram_range=(1, 6);, score=0.651 total time=   8.1s\n",
      "[CV 5/5] END model__C=10, model__tol=0.001, tfidf__min_df=10, tfidf__ngram_range=(1, 6);, score=0.665 total time=   7.7s\n",
      "Best alpha parameter identified by grid search  {'model__C': 1, 'model__tol': 0.001, 'tfidf__min_df': 5, 'tfidf__ngram_range': (1, 6)}\n",
      "Best result identified by grid search  0.7054263565891473\n",
      "CPU times: user 8min 12s, sys: 10.2 s, total: 8min 22s\n",
      "Wall time: 8min 25s\n"
     ]
    }
   ],
   "source": [
    "%%time\n",
    "\n",
    "# This takes a long time to run.\n",
    "\n",
    "training_pipeline = Pipeline(\n",
    "    steps=[\n",
    "        ('tfidf', TfidfVectorizer(stop_words=\"english\")), \n",
    "        ('model', LinearSVC(random_state=21, tol=1e-5))\n",
    "    ]\n",
    ")\n",
    "\n",
    "grid_param = [{\n",
    "    'tfidf__min_df': [5, 10],\n",
    "    'tfidf__ngram_range': [(1, 3), (1, 6)],\n",
    "    'model__penalty': ['l2'],\n",
    "    'model__loss': ['hinge'],\n",
    "    'model__max_iter': [10000]\n",
    "}, {\n",
    "    'tfidf__min_df': [5, 10],\n",
    "    'tfidf__ngram_range': [(1, 3), (1, 6)],\n",
    "    'model__C': [1, 10],\n",
    "    'model__tol': [1e-2, 1e-3]\n",
    "}]\n",
    "\n",
    "# https://scikit-learn.org/stable/modules/generated/sklearn.model_selection.GridSearchCV.html\n",
    "gridSearchProcessor = GridSearchCV(\n",
    "    estimator=training_pipeline,\n",
    "    param_grid=grid_param,\n",
    "    cv=5,\n",
    "    verbose=3\n",
    ")\n",
    "\n",
    "gridSearchProcessor.fit(df['text'], df['Priority'])\n",
    "\n",
    "best_params = gridSearchProcessor.best_params_\n",
    "print(\"Best alpha parameter identified by grid search \", best_params)\n",
    "\n",
    "best_result = gridSearchProcessor.best_score_\n",
    "print(\"Best result identified by grid search \", best_result)"
   ]
  },
  {
   "cell_type": "code",
   "execution_count": 42,
   "metadata": {
    "colab": {
     "base_uri": "https://localhost:8080/",
     "height": 204
    },
    "id": "RkVPQ_LuI8uC",
    "outputId": "fcffcaae-b0b8-4ffe-a75f-bb7d282e060c"
   },
   "outputs": [
    {
     "data": {
      "text/html": [
       "\n",
       "  <div id=\"df-4d6cdb26-704e-4b85-9dfb-8e35bfe40a5b\">\n",
       "    <div class=\"colab-df-container\">\n",
       "      <div>\n",
       "<style scoped>\n",
       "    .dataframe tbody tr th:only-of-type {\n",
       "        vertical-align: middle;\n",
       "    }\n",
       "\n",
       "    .dataframe tbody tr th {\n",
       "        vertical-align: top;\n",
       "    }\n",
       "\n",
       "    .dataframe thead th {\n",
       "        text-align: right;\n",
       "    }\n",
       "</style>\n",
       "<table border=\"1\" class=\"dataframe\">\n",
       "  <thead>\n",
       "    <tr style=\"text-align: right;\">\n",
       "      <th></th>\n",
       "      <th>rank_test_score</th>\n",
       "      <th>mean_test_score</th>\n",
       "      <th>params</th>\n",
       "    </tr>\n",
       "  </thead>\n",
       "  <tbody>\n",
       "    <tr>\n",
       "      <th>9</th>\n",
       "      <td>1</td>\n",
       "      <td>0.705426</td>\n",
       "      <td>{'model__C': 1, 'model__tol': 0.001, 'tfidf__m...</td>\n",
       "    </tr>\n",
       "    <tr>\n",
       "      <th>5</th>\n",
       "      <td>2</td>\n",
       "      <td>0.705116</td>\n",
       "      <td>{'model__C': 1, 'model__tol': 0.01, 'tfidf__mi...</td>\n",
       "    </tr>\n",
       "    <tr>\n",
       "      <th>8</th>\n",
       "      <td>3</td>\n",
       "      <td>0.703256</td>\n",
       "      <td>{'model__C': 1, 'model__tol': 0.001, 'tfidf__m...</td>\n",
       "    </tr>\n",
       "    <tr>\n",
       "      <th>4</th>\n",
       "      <td>4</td>\n",
       "      <td>0.703101</td>\n",
       "      <td>{'model__C': 1, 'model__tol': 0.01, 'tfidf__mi...</td>\n",
       "    </tr>\n",
       "    <tr>\n",
       "      <th>1</th>\n",
       "      <td>5</td>\n",
       "      <td>0.684806</td>\n",
       "      <td>{'model__loss': 'hinge', 'model__max_iter': 10...</td>\n",
       "    </tr>\n",
       "  </tbody>\n",
       "</table>\n",
       "</div>\n",
       "      <button class=\"colab-df-convert\" onclick=\"convertToInteractive('df-4d6cdb26-704e-4b85-9dfb-8e35bfe40a5b')\"\n",
       "              title=\"Convert this dataframe to an interactive table.\"\n",
       "              style=\"display:none;\">\n",
       "        \n",
       "  <svg xmlns=\"http://www.w3.org/2000/svg\" height=\"24px\"viewBox=\"0 0 24 24\"\n",
       "       width=\"24px\">\n",
       "    <path d=\"M0 0h24v24H0V0z\" fill=\"none\"/>\n",
       "    <path d=\"M18.56 5.44l.94 2.06.94-2.06 2.06-.94-2.06-.94-.94-2.06-.94 2.06-2.06.94zm-11 1L8.5 8.5l.94-2.06 2.06-.94-2.06-.94L8.5 2.5l-.94 2.06-2.06.94zm10 10l.94 2.06.94-2.06 2.06-.94-2.06-.94-.94-2.06-.94 2.06-2.06.94z\"/><path d=\"M17.41 7.96l-1.37-1.37c-.4-.4-.92-.59-1.43-.59-.52 0-1.04.2-1.43.59L10.3 9.45l-7.72 7.72c-.78.78-.78 2.05 0 2.83L4 21.41c.39.39.9.59 1.41.59.51 0 1.02-.2 1.41-.59l7.78-7.78 2.81-2.81c.8-.78.8-2.07 0-2.86zM5.41 20L4 18.59l7.72-7.72 1.47 1.35L5.41 20z\"/>\n",
       "  </svg>\n",
       "      </button>\n",
       "      \n",
       "  <style>\n",
       "    .colab-df-container {\n",
       "      display:flex;\n",
       "      flex-wrap:wrap;\n",
       "      gap: 12px;\n",
       "    }\n",
       "\n",
       "    .colab-df-convert {\n",
       "      background-color: #E8F0FE;\n",
       "      border: none;\n",
       "      border-radius: 50%;\n",
       "      cursor: pointer;\n",
       "      display: none;\n",
       "      fill: #1967D2;\n",
       "      height: 32px;\n",
       "      padding: 0 0 0 0;\n",
       "      width: 32px;\n",
       "    }\n",
       "\n",
       "    .colab-df-convert:hover {\n",
       "      background-color: #E2EBFA;\n",
       "      box-shadow: 0px 1px 2px rgba(60, 64, 67, 0.3), 0px 1px 3px 1px rgba(60, 64, 67, 0.15);\n",
       "      fill: #174EA6;\n",
       "    }\n",
       "\n",
       "    [theme=dark] .colab-df-convert {\n",
       "      background-color: #3B4455;\n",
       "      fill: #D2E3FC;\n",
       "    }\n",
       "\n",
       "    [theme=dark] .colab-df-convert:hover {\n",
       "      background-color: #434B5C;\n",
       "      box-shadow: 0px 1px 3px 1px rgba(0, 0, 0, 0.15);\n",
       "      filter: drop-shadow(0px 1px 2px rgba(0, 0, 0, 0.3));\n",
       "      fill: #FFFFFF;\n",
       "    }\n",
       "  </style>\n",
       "\n",
       "      <script>\n",
       "        const buttonEl =\n",
       "          document.querySelector('#df-4d6cdb26-704e-4b85-9dfb-8e35bfe40a5b button.colab-df-convert');\n",
       "        buttonEl.style.display =\n",
       "          google.colab.kernel.accessAllowed ? 'block' : 'none';\n",
       "\n",
       "        async function convertToInteractive(key) {\n",
       "          const element = document.querySelector('#df-4d6cdb26-704e-4b85-9dfb-8e35bfe40a5b');\n",
       "          const dataTable =\n",
       "            await google.colab.kernel.invokeFunction('convertToInteractive',\n",
       "                                                     [key], {});\n",
       "          if (!dataTable) return;\n",
       "\n",
       "          const docLinkHtml = 'Like what you see? Visit the ' +\n",
       "            '<a target=\"_blank\" href=https://colab.research.google.com/notebooks/data_table.ipynb>data table notebook</a>'\n",
       "            + ' to learn more about interactive tables.';\n",
       "          element.innerHTML = '';\n",
       "          dataTable['output_type'] = 'display_data';\n",
       "          await google.colab.output.renderOutput(dataTable, element);\n",
       "          const docLink = document.createElement('div');\n",
       "          docLink.innerHTML = docLinkHtml;\n",
       "          element.appendChild(docLink);\n",
       "        }\n",
       "      </script>\n",
       "    </div>\n",
       "  </div>\n",
       "  "
      ],
      "text/plain": [
       "   rank_test_score  mean_test_score  \\\n",
       "9                1         0.705426   \n",
       "5                2         0.705116   \n",
       "8                3         0.703256   \n",
       "4                4         0.703101   \n",
       "1                5         0.684806   \n",
       "\n",
       "                                              params  \n",
       "9  {'model__C': 1, 'model__tol': 0.001, 'tfidf__m...  \n",
       "5  {'model__C': 1, 'model__tol': 0.01, 'tfidf__mi...  \n",
       "8  {'model__C': 1, 'model__tol': 0.001, 'tfidf__m...  \n",
       "4  {'model__C': 1, 'model__tol': 0.01, 'tfidf__mi...  \n",
       "1  {'model__loss': 'hinge', 'model__max_iter': 10...  "
      ]
     },
     "execution_count": 42,
     "metadata": {},
     "output_type": "execute_result"
    }
   ],
   "source": [
    "gridsearch_results = pd.DataFrame(gridSearchProcessor.cv_results_)\n",
    "gridsearch_results[['rank_test_score', 'mean_test_score',\n",
    "                    'params']].sort_values(by=['rank_test_score'])[:5]"
   ]
  },
  {
   "cell_type": "markdown",
   "metadata": {
    "id": "17gu6w06I8uD"
   },
   "source": [
    "---\n",
    "<a name='6.6'></a><a id='6.6'></a>\n",
    "# 6.6 Blueprint Recap and Conclusion\n",
    "<a href=\"#top\">[back to top]</a>\n",
    "\n",
    "Here we apply the pattern for text classification to a different classification task.\n",
    "\n",
    "We want to automatically identify which part of the software the bug belongs to: Core, UI, and Doc.\n",
    "\n",
    "We update the blueprint with the following changes:\n",
    "\n",
    "* Additional step to include grid search to identify the best hyperparameters and limit the number of options tested to increase runtime.\n",
    "* Additional option to use the sklearn.svm.SVC function to compare performance and try nonlinear kernels."
   ]
  },
  {
   "cell_type": "code",
   "execution_count": 63,
   "metadata": {
    "colab": {
     "base_uri": "https://localhost:8080/"
    },
    "id": "dP2w5d-nI8uD",
    "outputId": "7a6cb1ac-a481-48cb-fe07-e710b4cc8710"
   },
   "outputs": [
    {
     "name": "stdout",
     "output_type": "stream",
     "text": [
      "Using LinearSVC algorithm\n",
      "----------------------------------------\n",
      "Size of Training Data  36036\n",
      "Size of Test Data  9009\n",
      "Fitting 5 folds for each of 8 candidates, totalling 40 fits\n",
      "[CV 1/5] END model__C=1, model__loss=hinge, tfidf__min_df=5, tfidf__ngram_range=(1, 3);, score=0.790 total time=  27.8s\n",
      "[CV 2/5] END model__C=1, model__loss=hinge, tfidf__min_df=5, tfidf__ngram_range=(1, 3);, score=0.793 total time=  27.1s\n",
      "[CV 3/5] END model__C=1, model__loss=hinge, tfidf__min_df=5, tfidf__ngram_range=(1, 3);, score=0.790 total time=  29.6s\n",
      "[CV 4/5] END model__C=1, model__loss=hinge, tfidf__min_df=5, tfidf__ngram_range=(1, 3);, score=0.796 total time=  27.2s\n",
      "[CV 5/5] END model__C=1, model__loss=hinge, tfidf__min_df=5, tfidf__ngram_range=(1, 3);, score=0.795 total time=  31.8s\n",
      "[CV 1/5] END model__C=1, model__loss=hinge, tfidf__min_df=5, tfidf__ngram_range=(1, 6);, score=0.791 total time= 1.2min\n",
      "[CV 2/5] END model__C=1, model__loss=hinge, tfidf__min_df=5, tfidf__ngram_range=(1, 6);, score=0.794 total time= 1.2min\n",
      "[CV 3/5] END model__C=1, model__loss=hinge, tfidf__min_df=5, tfidf__ngram_range=(1, 6);, score=0.790 total time= 1.3min\n",
      "[CV 4/5] END model__C=1, model__loss=hinge, tfidf__min_df=5, tfidf__ngram_range=(1, 6);, score=0.794 total time= 1.0min\n",
      "[CV 5/5] END model__C=1, model__loss=hinge, tfidf__min_df=5, tfidf__ngram_range=(1, 6);, score=0.793 total time= 1.2min\n",
      "[CV 1/5] END model__C=1, model__loss=hinge, tfidf__min_df=10, tfidf__ngram_range=(1, 3);, score=0.785 total time=  25.1s\n",
      "[CV 2/5] END model__C=1, model__loss=hinge, tfidf__min_df=10, tfidf__ngram_range=(1, 3);, score=0.788 total time=  24.6s\n",
      "[CV 3/5] END model__C=1, model__loss=hinge, tfidf__min_df=10, tfidf__ngram_range=(1, 3);, score=0.785 total time=  24.0s\n",
      "[CV 4/5] END model__C=1, model__loss=hinge, tfidf__min_df=10, tfidf__ngram_range=(1, 3);, score=0.790 total time=  23.2s\n",
      "[CV 5/5] END model__C=1, model__loss=hinge, tfidf__min_df=10, tfidf__ngram_range=(1, 3);, score=0.792 total time=  23.1s\n",
      "[CV 1/5] END model__C=1, model__loss=hinge, tfidf__min_df=10, tfidf__ngram_range=(1, 6);, score=0.788 total time=  54.1s\n",
      "[CV 2/5] END model__C=1, model__loss=hinge, tfidf__min_df=10, tfidf__ngram_range=(1, 6);, score=0.788 total time=  54.5s\n",
      "[CV 3/5] END model__C=1, model__loss=hinge, tfidf__min_df=10, tfidf__ngram_range=(1, 6);, score=0.785 total time=  54.8s\n",
      "[CV 4/5] END model__C=1, model__loss=hinge, tfidf__min_df=10, tfidf__ngram_range=(1, 6);, score=0.791 total time=  51.1s\n",
      "[CV 5/5] END model__C=1, model__loss=hinge, tfidf__min_df=10, tfidf__ngram_range=(1, 6);, score=0.793 total time=  53.1s\n",
      "[CV 1/5] END model__C=100, model__loss=hinge, tfidf__min_df=5, tfidf__ngram_range=(1, 3);, score=0.753 total time= 1.2min\n",
      "[CV 2/5] END model__C=100, model__loss=hinge, tfidf__min_df=5, tfidf__ngram_range=(1, 3);, score=0.753 total time= 1.0min\n",
      "[CV 3/5] END model__C=100, model__loss=hinge, tfidf__min_df=5, tfidf__ngram_range=(1, 3);, score=0.748 total time= 1.1min\n",
      "[CV 4/5] END model__C=100, model__loss=hinge, tfidf__min_df=5, tfidf__ngram_range=(1, 3);, score=0.761 total time= 1.1min\n",
      "[CV 5/5] END model__C=100, model__loss=hinge, tfidf__min_df=5, tfidf__ngram_range=(1, 3);, score=0.753 total time= 1.1min\n",
      "[CV 1/5] END model__C=100, model__loss=hinge, tfidf__min_df=5, tfidf__ngram_range=(1, 6);, score=0.752 total time= 2.4min\n",
      "[CV 2/5] END model__C=100, model__loss=hinge, tfidf__min_df=5, tfidf__ngram_range=(1, 6);, score=0.752 total time= 2.2min\n",
      "[CV 3/5] END model__C=100, model__loss=hinge, tfidf__min_df=5, tfidf__ngram_range=(1, 6);, score=0.750 total time= 2.1min\n",
      "[CV 4/5] END model__C=100, model__loss=hinge, tfidf__min_df=5, tfidf__ngram_range=(1, 6);, score=0.759 total time= 2.1min\n",
      "[CV 5/5] END model__C=100, model__loss=hinge, tfidf__min_df=5, tfidf__ngram_range=(1, 6);, score=0.756 total time= 2.0min\n",
      "[CV 1/5] END model__C=100, model__loss=hinge, tfidf__min_df=10, tfidf__ngram_range=(1, 3);, score=0.734 total time=  56.5s\n",
      "[CV 2/5] END model__C=100, model__loss=hinge, tfidf__min_df=10, tfidf__ngram_range=(1, 3);, score=0.730 total time=  54.7s\n",
      "[CV 3/5] END model__C=100, model__loss=hinge, tfidf__min_df=10, tfidf__ngram_range=(1, 3);, score=0.724 total time=  56.2s\n",
      "[CV 4/5] END model__C=100, model__loss=hinge, tfidf__min_df=10, tfidf__ngram_range=(1, 3);, score=0.741 total time=  55.2s\n",
      "[CV 5/5] END model__C=100, model__loss=hinge, tfidf__min_df=10, tfidf__ngram_range=(1, 3);, score=0.732 total time=  58.7s\n",
      "[CV 1/5] END model__C=100, model__loss=hinge, tfidf__min_df=10, tfidf__ngram_range=(1, 6);, score=0.734 total time= 1.7min\n",
      "[CV 2/5] END model__C=100, model__loss=hinge, tfidf__min_df=10, tfidf__ngram_range=(1, 6);, score=0.729 total time= 1.7min\n",
      "[CV 3/5] END model__C=100, model__loss=hinge, tfidf__min_df=10, tfidf__ngram_range=(1, 6);, score=0.725 total time= 1.7min\n",
      "[CV 4/5] END model__C=100, model__loss=hinge, tfidf__min_df=10, tfidf__ngram_range=(1, 6);, score=0.743 total time= 1.7min\n",
      "[CV 5/5] END model__C=100, model__loss=hinge, tfidf__min_df=10, tfidf__ngram_range=(1, 6);, score=0.734 total time= 1.8min\n",
      "----------------------------------------\n",
      "Best alpha parameter identified by grid search  {'model__C': 1, 'model__loss': 'hinge', 'tfidf__min_df': 5, 'tfidf__ngram_range': (1, 3)}\n",
      "Best result identified by grid search  0.7927628783644955\n",
      "Accuracy Score -  0.8056388056388056\n",
      "              precision    recall  f1-score   support\n",
      "\n",
      "         APT       0.79      0.53      0.63        80\n",
      "        Core       0.80      0.84      0.82      2723\n",
      "       Debug       0.89      0.87      0.88      1502\n",
      "         Doc       0.68      0.44      0.54        59\n",
      "        Text       0.73      0.62      0.67      1174\n",
      "          UI       0.80      0.83      0.81      3471\n",
      "\n",
      "    accuracy                           0.81      9009\n",
      "   macro avg       0.78      0.69      0.72      9009\n",
      "weighted avg       0.80      0.81      0.80      9009\n",
      "\n",
      "CPU times: user 44min 52s, sys: 39.3 s, total: 45min 31s\n",
      "Wall time: 45min 39s\n"
     ]
    }
   ],
   "source": [
    "%%time\n",
    "\n",
    "# Flag that determines the choice of SVC (True) and LinearSVC (False)\n",
    "runSVC = True\n",
    "\n",
    "if runSVC:\n",
    "    print(\"Using SVC algorithm\")\n",
    "else:\n",
    "    print(\"Using LinearSVC algorithm\")\n",
    "\n",
    "HR()\n",
    "\n",
    "\n",
    "# Loading the dataframe\n",
    "file = \"eclipse_jdt.csv.gz\"\n",
    "\n",
    "# GB: Create smaller dataset to ensure reasonable run-times on COLAB-CPU\n",
    "df_orig = pd.read_csv(file)\n",
    "\n",
    "\n",
    "### Using SVC algorithm\n",
    "\n",
    "# This takes around 4min (SVC COLAB-CPU) if we use a reduced dataset.\n",
    "# df = df_orig.sample(n=20_000, replace=True, random_state=42)\n",
    "\n",
    "# This takes 7min 13s (SVC COLAB-CPU) \n",
    "# df = df_orig.sample(n=30_000, replace=True, random_state=42)\n",
    "\n",
    "# This takes 12min 55s (SVC  COLAB-CPU) \n",
    "# df = df_orig.sample(n=40_000, replace=True, random_state=42)\n",
    "\n",
    "# Original dataset: This takes 16min 47s(SVC COLAB-CPU) \n",
    "# df = df_orig\n",
    "\n",
    "\n",
    "### Using LinearSVC algorithm\n",
    "\n",
    "# Original dataset: 45min 39s　(LinearSVC COLAB-CPU, full dataset, 45K) \n",
    "df = df_orig\n",
    "\n",
    "\n",
    "\n",
    "\n",
    "df = df[['Title', 'Description', 'Component']]\n",
    "df = df.dropna()\n",
    "df['text'] = df['Title'] + df['Description']\n",
    "df = df.drop(columns=['Title', 'Description'])\n",
    "\n",
    "\n",
    "# Step 1 - Data Preparation\n",
    "df['text'] = df['text'].apply(clean)\n",
    "df = df[df['text'].str.len() > 50]\n",
    "\n",
    "if (runSVC):    \n",
    "    # Sample the data when running SVC to ensure reasonable run-times\n",
    "    df = (\n",
    "        df\n",
    "        .groupby('Component', as_index=False)\n",
    "        .progress_apply(pd.DataFrame.sample, random_state=42, frac=.2)\n",
    "    )\n",
    "\n",
    "\n",
    "# Step 2 - Train-Test Split\n",
    "X_train, X_test, Y_train, Y_test = train_test_split(\n",
    "    df['text'], # X\n",
    "    df['Component'], # y\n",
    "    test_size=0.2,\n",
    "    random_state=42,\n",
    "    stratify=df['Component']\n",
    ")\n",
    "print('Size of Training Data ', X_train.shape[0])\n",
    "print('Size of Test Data ', X_test.shape[0])\n",
    "\n",
    "\n",
    "# Step 3 - Training the Machine Learning model\n",
    "tfidf = TfidfVectorizer(stop_words=\"english\")\n",
    "\n",
    "if (runSVC):\n",
    "    model = SVC(random_state=42, probability=True)\n",
    "    grid_param = [{\n",
    "        'tfidf__min_df': [5, 10],\n",
    "        'tfidf__ngram_range': [(1, 3), (1, 6)],\n",
    "        'model__C': [1, 100],\n",
    "        'model__kernel': ['linear']\n",
    "    }]\n",
    "else:\n",
    "    model = LinearSVC(random_state=42, tol=1e-5)\n",
    "    grid_param = {\n",
    "        'tfidf__min_df': [5, 10],\n",
    "        'tfidf__ngram_range': [(1, 3), (1, 6)],\n",
    "        'model__C': [1, 100],\n",
    "        'model__loss': ['hinge']\n",
    "    }\n",
    "\n",
    "training_pipeline = Pipeline(\n",
    "    steps=[('tfidf', TfidfVectorizer(stop_words=\"english\")), ('model', model)]\n",
    ")\n",
    "\n",
    "gridSearchProcessor = GridSearchCV(\n",
    "    estimator=training_pipeline,\n",
    "    param_grid=grid_param,\n",
    "    cv=5,\n",
    "    verbose=3\n",
    ")\n",
    "\n",
    "gridSearchProcessor.fit(X_train, Y_train)\n",
    "\n",
    "HR()\n",
    "\n",
    "best_params = gridSearchProcessor.best_params_\n",
    "print(\"Best alpha parameter identified by grid search \", best_params)\n",
    "\n",
    "best_result = gridSearchProcessor.best_score_\n",
    "print(\"Best result identified by grid search \", best_result)\n",
    "\n",
    "best_model = gridSearchProcessor.best_estimator_\n",
    "\n",
    "\n",
    "# Step 4 - Model Evaluation\n",
    "Y_pred = best_model.predict(X_test)\n",
    "print('Accuracy Score - ', accuracy_score(Y_test, Y_pred))\n",
    "print(classification_report(Y_test, Y_pred))"
   ]
  },
  {
   "cell_type": "markdown",
   "metadata": {
    "id": "VKwWuBnSUj9B"
   },
   "source": [
    "Best alpha parameter identified by grid search:\n",
    "    \n",
    "    {\n",
    "        'model__C': 1, \n",
    "        'model__kernel': 'linear', \n",
    "        'tfidf__min_df': 5, \n",
    "        'tfidf__ngram_range': (1, 6)\n",
    "    }"
   ]
  },
  {
   "cell_type": "code",
   "execution_count": 64,
   "metadata": {
    "colab": {
     "base_uri": "https://localhost:8080/"
    },
    "id": "Lpqp8ijPI8uE",
    "outputId": "5c66f7c2-ca28-4df1-e313-9589072f1f62"
   },
   "outputs": [
    {
     "name": "stdout",
     "output_type": "stream",
     "text": [
      "Accuracy Score -  0.3852813852813853\n"
     ]
    }
   ],
   "source": [
    "clf = DummyClassifier(strategy='most_frequent', random_state=21)\n",
    "clf.fit(X_train, Y_train)\n",
    "Y_pred_baseline = clf.predict(X_test)\n",
    "print ('Accuracy Score - ', accuracy_score(Y_test, Y_pred_baseline))"
   ]
  },
  {
   "cell_type": "code",
   "execution_count": 65,
   "metadata": {
    "colab": {
     "base_uri": "https://localhost:8080/",
     "height": 111
    },
    "id": "QKFqzNQdI8uE",
    "outputId": "7faac1cc-8f8d-4ea8-a7e9-74c0b7b7cb6b"
   },
   "outputs": [
    {
     "data": {
      "text/html": [
       "\n",
       "  <div id=\"df-e51154da-5876-4f6f-bc95-ceb9051b234a\">\n",
       "    <div class=\"colab-df-container\">\n",
       "      <div>\n",
       "<style scoped>\n",
       "    .dataframe tbody tr th:only-of-type {\n",
       "        vertical-align: middle;\n",
       "    }\n",
       "\n",
       "    .dataframe tbody tr th {\n",
       "        vertical-align: top;\n",
       "    }\n",
       "\n",
       "    .dataframe thead th {\n",
       "        text-align: right;\n",
       "    }\n",
       "</style>\n",
       "<table border=\"1\" class=\"dataframe\">\n",
       "  <thead>\n",
       "    <tr style=\"text-align: right;\">\n",
       "      <th></th>\n",
       "      <th>text</th>\n",
       "      <th>actual</th>\n",
       "      <th>predicted</th>\n",
       "    </tr>\n",
       "  </thead>\n",
       "  <tbody>\n",
       "    <tr>\n",
       "      <th>1468</th>\n",
       "      <td>Breakpoints are inconsistent before saveWhen e...</td>\n",
       "      <td>Debug</td>\n",
       "      <td>Debug</td>\n",
       "    </tr>\n",
       "    <tr>\n",
       "      <th>41133</th>\n",
       "      <td>PatternSearchJob ignores participant index ent...</td>\n",
       "      <td>Core</td>\n",
       "      <td>Core</td>\n",
       "    </tr>\n",
       "  </tbody>\n",
       "</table>\n",
       "</div>\n",
       "      <button class=\"colab-df-convert\" onclick=\"convertToInteractive('df-e51154da-5876-4f6f-bc95-ceb9051b234a')\"\n",
       "              title=\"Convert this dataframe to an interactive table.\"\n",
       "              style=\"display:none;\">\n",
       "        \n",
       "  <svg xmlns=\"http://www.w3.org/2000/svg\" height=\"24px\"viewBox=\"0 0 24 24\"\n",
       "       width=\"24px\">\n",
       "    <path d=\"M0 0h24v24H0V0z\" fill=\"none\"/>\n",
       "    <path d=\"M18.56 5.44l.94 2.06.94-2.06 2.06-.94-2.06-.94-.94-2.06-.94 2.06-2.06.94zm-11 1L8.5 8.5l.94-2.06 2.06-.94-2.06-.94L8.5 2.5l-.94 2.06-2.06.94zm10 10l.94 2.06.94-2.06 2.06-.94-2.06-.94-.94-2.06-.94 2.06-2.06.94z\"/><path d=\"M17.41 7.96l-1.37-1.37c-.4-.4-.92-.59-1.43-.59-.52 0-1.04.2-1.43.59L10.3 9.45l-7.72 7.72c-.78.78-.78 2.05 0 2.83L4 21.41c.39.39.9.59 1.41.59.51 0 1.02-.2 1.41-.59l7.78-7.78 2.81-2.81c.8-.78.8-2.07 0-2.86zM5.41 20L4 18.59l7.72-7.72 1.47 1.35L5.41 20z\"/>\n",
       "  </svg>\n",
       "      </button>\n",
       "      \n",
       "  <style>\n",
       "    .colab-df-container {\n",
       "      display:flex;\n",
       "      flex-wrap:wrap;\n",
       "      gap: 12px;\n",
       "    }\n",
       "\n",
       "    .colab-df-convert {\n",
       "      background-color: #E8F0FE;\n",
       "      border: none;\n",
       "      border-radius: 50%;\n",
       "      cursor: pointer;\n",
       "      display: none;\n",
       "      fill: #1967D2;\n",
       "      height: 32px;\n",
       "      padding: 0 0 0 0;\n",
       "      width: 32px;\n",
       "    }\n",
       "\n",
       "    .colab-df-convert:hover {\n",
       "      background-color: #E2EBFA;\n",
       "      box-shadow: 0px 1px 2px rgba(60, 64, 67, 0.3), 0px 1px 3px 1px rgba(60, 64, 67, 0.15);\n",
       "      fill: #174EA6;\n",
       "    }\n",
       "\n",
       "    [theme=dark] .colab-df-convert {\n",
       "      background-color: #3B4455;\n",
       "      fill: #D2E3FC;\n",
       "    }\n",
       "\n",
       "    [theme=dark] .colab-df-convert:hover {\n",
       "      background-color: #434B5C;\n",
       "      box-shadow: 0px 1px 3px 1px rgba(0, 0, 0, 0.15);\n",
       "      filter: drop-shadow(0px 1px 2px rgba(0, 0, 0, 0.3));\n",
       "      fill: #FFFFFF;\n",
       "    }\n",
       "  </style>\n",
       "\n",
       "      <script>\n",
       "        const buttonEl =\n",
       "          document.querySelector('#df-e51154da-5876-4f6f-bc95-ceb9051b234a button.colab-df-convert');\n",
       "        buttonEl.style.display =\n",
       "          google.colab.kernel.accessAllowed ? 'block' : 'none';\n",
       "\n",
       "        async function convertToInteractive(key) {\n",
       "          const element = document.querySelector('#df-e51154da-5876-4f6f-bc95-ceb9051b234a');\n",
       "          const dataTable =\n",
       "            await google.colab.kernel.invokeFunction('convertToInteractive',\n",
       "                                                     [key], {});\n",
       "          if (!dataTable) return;\n",
       "\n",
       "          const docLinkHtml = 'Like what you see? Visit the ' +\n",
       "            '<a target=\"_blank\" href=https://colab.research.google.com/notebooks/data_table.ipynb>data table notebook</a>'\n",
       "            + ' to learn more about interactive tables.';\n",
       "          element.innerHTML = '';\n",
       "          dataTable['output_type'] = 'display_data';\n",
       "          await google.colab.output.renderOutput(dataTable, element);\n",
       "          const docLink = document.createElement('div');\n",
       "          docLink.innerHTML = docLinkHtml;\n",
       "          element.appendChild(docLink);\n",
       "        }\n",
       "      </script>\n",
       "    </div>\n",
       "  </div>\n",
       "  "
      ],
      "text/plain": [
       "                                                    text actual predicted\n",
       "1468   Breakpoints are inconsistent before saveWhen e...  Debug     Debug\n",
       "41133  PatternSearchJob ignores participant index ent...   Core      Core"
      ]
     },
     "execution_count": 65,
     "metadata": {},
     "output_type": "execute_result"
    }
   ],
   "source": [
    "## Create a dataframe combining the Title and Description, \n",
    "## Actual and Predicted values that we can explore\n",
    "frame = { 'text': X_test, 'actual': Y_test, 'predicted': Y_pred } \n",
    "result = pd.DataFrame(frame)\n",
    "\n",
    "result[result['actual'] == result['predicted']].sample(2, random_state=21)"
   ]
  },
  {
   "cell_type": "code",
   "execution_count": 66,
   "metadata": {
    "colab": {
     "base_uri": "https://localhost:8080/",
     "height": 111
    },
    "id": "i_rDXB1wI8uE",
    "outputId": "0ec053ec-15fa-460c-bc71-a9dcd26ef87c"
   },
   "outputs": [
    {
     "data": {
      "text/html": [
       "\n",
       "  <div id=\"df-b0f35e55-c6e0-432f-b408-19de9b37e177\">\n",
       "    <div class=\"colab-df-container\">\n",
       "      <div>\n",
       "<style scoped>\n",
       "    .dataframe tbody tr th:only-of-type {\n",
       "        vertical-align: middle;\n",
       "    }\n",
       "\n",
       "    .dataframe tbody tr th {\n",
       "        vertical-align: top;\n",
       "    }\n",
       "\n",
       "    .dataframe thead th {\n",
       "        text-align: right;\n",
       "    }\n",
       "</style>\n",
       "<table border=\"1\" class=\"dataframe\">\n",
       "  <thead>\n",
       "    <tr style=\"text-align: right;\">\n",
       "      <th></th>\n",
       "      <th>text</th>\n",
       "      <th>actual</th>\n",
       "      <th>predicted</th>\n",
       "    </tr>\n",
       "  </thead>\n",
       "  <tbody>\n",
       "    <tr>\n",
       "      <th>11180</th>\n",
       "      <td>Code template preference pageI20030206; ; open...</td>\n",
       "      <td>UI</td>\n",
       "      <td>Text</td>\n",
       "    </tr>\n",
       "    <tr>\n",
       "      <th>12904</th>\n",
       "      <td>Change in SourceElementRequestorAdapterHCR has...</td>\n",
       "      <td>Debug</td>\n",
       "      <td>Core</td>\n",
       "    </tr>\n",
       "  </tbody>\n",
       "</table>\n",
       "</div>\n",
       "      <button class=\"colab-df-convert\" onclick=\"convertToInteractive('df-b0f35e55-c6e0-432f-b408-19de9b37e177')\"\n",
       "              title=\"Convert this dataframe to an interactive table.\"\n",
       "              style=\"display:none;\">\n",
       "        \n",
       "  <svg xmlns=\"http://www.w3.org/2000/svg\" height=\"24px\"viewBox=\"0 0 24 24\"\n",
       "       width=\"24px\">\n",
       "    <path d=\"M0 0h24v24H0V0z\" fill=\"none\"/>\n",
       "    <path d=\"M18.56 5.44l.94 2.06.94-2.06 2.06-.94-2.06-.94-.94-2.06-.94 2.06-2.06.94zm-11 1L8.5 8.5l.94-2.06 2.06-.94-2.06-.94L8.5 2.5l-.94 2.06-2.06.94zm10 10l.94 2.06.94-2.06 2.06-.94-2.06-.94-.94-2.06-.94 2.06-2.06.94z\"/><path d=\"M17.41 7.96l-1.37-1.37c-.4-.4-.92-.59-1.43-.59-.52 0-1.04.2-1.43.59L10.3 9.45l-7.72 7.72c-.78.78-.78 2.05 0 2.83L4 21.41c.39.39.9.59 1.41.59.51 0 1.02-.2 1.41-.59l7.78-7.78 2.81-2.81c.8-.78.8-2.07 0-2.86zM5.41 20L4 18.59l7.72-7.72 1.47 1.35L5.41 20z\"/>\n",
       "  </svg>\n",
       "      </button>\n",
       "      \n",
       "  <style>\n",
       "    .colab-df-container {\n",
       "      display:flex;\n",
       "      flex-wrap:wrap;\n",
       "      gap: 12px;\n",
       "    }\n",
       "\n",
       "    .colab-df-convert {\n",
       "      background-color: #E8F0FE;\n",
       "      border: none;\n",
       "      border-radius: 50%;\n",
       "      cursor: pointer;\n",
       "      display: none;\n",
       "      fill: #1967D2;\n",
       "      height: 32px;\n",
       "      padding: 0 0 0 0;\n",
       "      width: 32px;\n",
       "    }\n",
       "\n",
       "    .colab-df-convert:hover {\n",
       "      background-color: #E2EBFA;\n",
       "      box-shadow: 0px 1px 2px rgba(60, 64, 67, 0.3), 0px 1px 3px 1px rgba(60, 64, 67, 0.15);\n",
       "      fill: #174EA6;\n",
       "    }\n",
       "\n",
       "    [theme=dark] .colab-df-convert {\n",
       "      background-color: #3B4455;\n",
       "      fill: #D2E3FC;\n",
       "    }\n",
       "\n",
       "    [theme=dark] .colab-df-convert:hover {\n",
       "      background-color: #434B5C;\n",
       "      box-shadow: 0px 1px 3px 1px rgba(0, 0, 0, 0.15);\n",
       "      filter: drop-shadow(0px 1px 2px rgba(0, 0, 0, 0.3));\n",
       "      fill: #FFFFFF;\n",
       "    }\n",
       "  </style>\n",
       "\n",
       "      <script>\n",
       "        const buttonEl =\n",
       "          document.querySelector('#df-b0f35e55-c6e0-432f-b408-19de9b37e177 button.colab-df-convert');\n",
       "        buttonEl.style.display =\n",
       "          google.colab.kernel.accessAllowed ? 'block' : 'none';\n",
       "\n",
       "        async function convertToInteractive(key) {\n",
       "          const element = document.querySelector('#df-b0f35e55-c6e0-432f-b408-19de9b37e177');\n",
       "          const dataTable =\n",
       "            await google.colab.kernel.invokeFunction('convertToInteractive',\n",
       "                                                     [key], {});\n",
       "          if (!dataTable) return;\n",
       "\n",
       "          const docLinkHtml = 'Like what you see? Visit the ' +\n",
       "            '<a target=\"_blank\" href=https://colab.research.google.com/notebooks/data_table.ipynb>data table notebook</a>'\n",
       "            + ' to learn more about interactive tables.';\n",
       "          element.innerHTML = '';\n",
       "          dataTable['output_type'] = 'display_data';\n",
       "          await google.colab.output.renderOutput(dataTable, element);\n",
       "          const docLink = document.createElement('div');\n",
       "          docLink.innerHTML = docLinkHtml;\n",
       "          element.appendChild(docLink);\n",
       "        }\n",
       "      </script>\n",
       "    </div>\n",
       "  </div>\n",
       "  "
      ],
      "text/plain": [
       "                                                    text actual predicted\n",
       "11180  Code template preference pageI20030206; ; open...     UI      Text\n",
       "12904  Change in SourceElementRequestorAdapterHCR has...  Debug      Core"
      ]
     },
     "execution_count": 66,
     "metadata": {},
     "output_type": "execute_result"
    }
   ],
   "source": [
    "result[result['actual'] != result['predicted']].sample(2, random_state=42)"
   ]
  },
  {
   "cell_type": "code",
   "execution_count": 67,
   "metadata": {
    "colab": {
     "base_uri": "https://localhost:8080/"
    },
    "id": "CGSaDx6JZPuO",
    "outputId": "8e68905a-5c9d-4c0a-9539-6650ccd662b1"
   },
   "outputs": [
    {
     "name": "stdout",
     "output_type": "stream",
     "text": [
      "<class 'pandas.core.frame.DataFrame'>\n",
      "Int64Index: 45045 entries, 0 to 45295\n",
      "Data columns (total 2 columns):\n",
      " #   Column     Non-Null Count  Dtype \n",
      "---  ------     --------------  ----- \n",
      " 0   Component  45045 non-null  object\n",
      " 1   text       45045 non-null  object\n",
      "dtypes: object(2)\n",
      "memory usage: 1.0+ MB\n"
     ]
    }
   ],
   "source": [
    "# Check size of final dataset\n",
    "df.info()"
   ]
  }
 ],
 "metadata": {
  "colab": {
   "provenance": []
  },
  "gpuClass": "standard",
  "kernelspec": {
   "display_name": "Python 3 (ipykernel)",
   "language": "python",
   "name": "python3"
  },
  "language_info": {
   "codemirror_mode": {
    "name": "ipython",
    "version": 3
   },
   "file_extension": ".py",
   "mimetype": "text/x-python",
   "name": "python",
   "nbconvert_exporter": "python",
   "pygments_lexer": "ipython3",
   "version": "3.8.12"
  },
  "toc": {
   "base_numbering": 1,
   "nav_menu": {},
   "number_sections": true,
   "sideBar": true,
   "skip_h1_title": false,
   "title_cell": "Table of Contents",
   "title_sidebar": "Contents",
   "toc_cell": false,
   "toc_position": {},
   "toc_section_display": true,
   "toc_window_display": false
  },
  "varInspector": {
   "cols": {
    "lenName": 16,
    "lenType": 16,
    "lenVar": 40
   },
   "kernels_config": {
    "python": {
     "delete_cmd_postfix": "",
     "delete_cmd_prefix": "del ",
     "library": "var_list.py",
     "varRefreshCmd": "print(var_dic_list())"
    },
    "r": {
     "delete_cmd_postfix": ") ",
     "delete_cmd_prefix": "rm(",
     "library": "var_list.r",
     "varRefreshCmd": "cat(var_dic_list()) "
    }
   },
   "types_to_exclude": [
    "module",
    "function",
    "builtin_function_or_method",
    "instance",
    "_Feature"
   ],
   "window_display": false
  },
  "widgets": {
   "application/vnd.jupyter.widget-state+json": {
    "0a0d4d02efdf4a0985b134a253c9ec53": {
     "model_module": "@jupyter-widgets/base",
     "model_module_version": "1.2.0",
     "model_name": "LayoutModel",
     "state": {
      "_model_module": "@jupyter-widgets/base",
      "_model_module_version": "1.2.0",
      "_model_name": "LayoutModel",
      "_view_count": null,
      "_view_module": "@jupyter-widgets/base",
      "_view_module_version": "1.2.0",
      "_view_name": "LayoutView",
      "align_content": null,
      "align_items": null,
      "align_self": null,
      "border": null,
      "bottom": null,
      "display": null,
      "flex": null,
      "flex_flow": null,
      "grid_area": null,
      "grid_auto_columns": null,
      "grid_auto_flow": null,
      "grid_auto_rows": null,
      "grid_column": null,
      "grid_gap": null,
      "grid_row": null,
      "grid_template_areas": null,
      "grid_template_columns": null,
      "grid_template_rows": null,
      "height": null,
      "justify_content": null,
      "justify_items": null,
      "left": null,
      "margin": null,
      "max_height": null,
      "max_width": null,
      "min_height": null,
      "min_width": null,
      "object_fit": null,
      "object_position": null,
      "order": null,
      "overflow": null,
      "overflow_x": null,
      "overflow_y": null,
      "padding": null,
      "right": null,
      "top": null,
      "visibility": null,
      "width": null
     }
    },
    "0e7e539de35448b7a29249c1ea33561a": {
     "model_module": "@jupyter-widgets/controls",
     "model_module_version": "1.5.0",
     "model_name": "HTMLModel",
     "state": {
      "_dom_classes": [],
      "_model_module": "@jupyter-widgets/controls",
      "_model_module_version": "1.5.0",
      "_model_name": "HTMLModel",
      "_view_count": null,
      "_view_module": "@jupyter-widgets/controls",
      "_view_module_version": "1.5.0",
      "_view_name": "HTMLView",
      "description": "",
      "description_tooltip": null,
      "layout": "IPY_MODEL_0a0d4d02efdf4a0985b134a253c9ec53",
      "placeholder": "​",
      "style": "IPY_MODEL_5487a8f191314330a5ac24545ef2b4d9",
      "value": "progress-bar: 100%"
     }
    },
    "30f223ef43ef4a009c8fcf85c32351f5": {
     "model_module": "@jupyter-widgets/controls",
     "model_module_version": "1.5.0",
     "model_name": "FloatProgressModel",
     "state": {
      "_dom_classes": [],
      "_model_module": "@jupyter-widgets/controls",
      "_model_module_version": "1.5.0",
      "_model_name": "FloatProgressModel",
      "_view_count": null,
      "_view_module": "@jupyter-widgets/controls",
      "_view_module_version": "1.5.0",
      "_view_name": "ProgressView",
      "bar_style": "success",
      "description": "",
      "description_tooltip": null,
      "layout": "IPY_MODEL_3c5367ac15bc4b4290d0a80961046872",
      "max": 19982,
      "min": 0,
      "orientation": "horizontal",
      "style": "IPY_MODEL_fcab55a8aaaa430f841f24d341eced63",
      "value": 19982
     }
    },
    "3c5367ac15bc4b4290d0a80961046872": {
     "model_module": "@jupyter-widgets/base",
     "model_module_version": "1.2.0",
     "model_name": "LayoutModel",
     "state": {
      "_model_module": "@jupyter-widgets/base",
      "_model_module_version": "1.2.0",
      "_model_name": "LayoutModel",
      "_view_count": null,
      "_view_module": "@jupyter-widgets/base",
      "_view_module_version": "1.2.0",
      "_view_name": "LayoutView",
      "align_content": null,
      "align_items": null,
      "align_self": null,
      "border": null,
      "bottom": null,
      "display": null,
      "flex": null,
      "flex_flow": null,
      "grid_area": null,
      "grid_auto_columns": null,
      "grid_auto_flow": null,
      "grid_auto_rows": null,
      "grid_column": null,
      "grid_gap": null,
      "grid_row": null,
      "grid_template_areas": null,
      "grid_template_columns": null,
      "grid_template_rows": null,
      "height": null,
      "justify_content": null,
      "justify_items": null,
      "left": null,
      "margin": null,
      "max_height": null,
      "max_width": null,
      "min_height": null,
      "min_width": null,
      "object_fit": null,
      "object_position": null,
      "order": null,
      "overflow": null,
      "overflow_x": null,
      "overflow_y": null,
      "padding": null,
      "right": null,
      "top": null,
      "visibility": null,
      "width": null
     }
    },
    "5487a8f191314330a5ac24545ef2b4d9": {
     "model_module": "@jupyter-widgets/controls",
     "model_module_version": "1.5.0",
     "model_name": "DescriptionStyleModel",
     "state": {
      "_model_module": "@jupyter-widgets/controls",
      "_model_module_version": "1.5.0",
      "_model_name": "DescriptionStyleModel",
      "_view_count": null,
      "_view_module": "@jupyter-widgets/base",
      "_view_module_version": "1.2.0",
      "_view_name": "StyleView",
      "description_width": ""
     }
    },
    "b4c0d67d661f42338e07784e46aa7ae2": {
     "model_module": "@jupyter-widgets/controls",
     "model_module_version": "1.5.0",
     "model_name": "DescriptionStyleModel",
     "state": {
      "_model_module": "@jupyter-widgets/controls",
      "_model_module_version": "1.5.0",
      "_model_name": "DescriptionStyleModel",
      "_view_count": null,
      "_view_module": "@jupyter-widgets/base",
      "_view_module_version": "1.2.0",
      "_view_name": "StyleView",
      "description_width": ""
     }
    },
    "b5697344523048d09e04c9793718f4f6": {
     "model_module": "@jupyter-widgets/controls",
     "model_module_version": "1.5.0",
     "model_name": "HTMLModel",
     "state": {
      "_dom_classes": [],
      "_model_module": "@jupyter-widgets/controls",
      "_model_module_version": "1.5.0",
      "_model_name": "HTMLModel",
      "_view_count": null,
      "_view_module": "@jupyter-widgets/controls",
      "_view_module_version": "1.5.0",
      "_view_name": "HTMLView",
      "description": "",
      "description_tooltip": null,
      "layout": "IPY_MODEL_d053e874cddd4cd5977b449c2c44e3a5",
      "placeholder": "​",
      "style": "IPY_MODEL_b4c0d67d661f42338e07784e46aa7ae2",
      "value": " 19982/19982 [00:02&lt;00:00, 9485.25it/s]"
     }
    },
    "cf5cadf9cbb04cefb58706fbae26ffda": {
     "model_module": "@jupyter-widgets/controls",
     "model_module_version": "1.5.0",
     "model_name": "HBoxModel",
     "state": {
      "_dom_classes": [],
      "_model_module": "@jupyter-widgets/controls",
      "_model_module_version": "1.5.0",
      "_model_name": "HBoxModel",
      "_view_count": null,
      "_view_module": "@jupyter-widgets/controls",
      "_view_module_version": "1.5.0",
      "_view_name": "HBoxView",
      "box_style": "",
      "children": [
       "IPY_MODEL_0e7e539de35448b7a29249c1ea33561a",
       "IPY_MODEL_30f223ef43ef4a009c8fcf85c32351f5",
       "IPY_MODEL_b5697344523048d09e04c9793718f4f6"
      ],
      "layout": "IPY_MODEL_f6493e29966242259a3b4c4edae09109"
     }
    },
    "d053e874cddd4cd5977b449c2c44e3a5": {
     "model_module": "@jupyter-widgets/base",
     "model_module_version": "1.2.0",
     "model_name": "LayoutModel",
     "state": {
      "_model_module": "@jupyter-widgets/base",
      "_model_module_version": "1.2.0",
      "_model_name": "LayoutModel",
      "_view_count": null,
      "_view_module": "@jupyter-widgets/base",
      "_view_module_version": "1.2.0",
      "_view_name": "LayoutView",
      "align_content": null,
      "align_items": null,
      "align_self": null,
      "border": null,
      "bottom": null,
      "display": null,
      "flex": null,
      "flex_flow": null,
      "grid_area": null,
      "grid_auto_columns": null,
      "grid_auto_flow": null,
      "grid_auto_rows": null,
      "grid_column": null,
      "grid_gap": null,
      "grid_row": null,
      "grid_template_areas": null,
      "grid_template_columns": null,
      "grid_template_rows": null,
      "height": null,
      "justify_content": null,
      "justify_items": null,
      "left": null,
      "margin": null,
      "max_height": null,
      "max_width": null,
      "min_height": null,
      "min_width": null,
      "object_fit": null,
      "object_position": null,
      "order": null,
      "overflow": null,
      "overflow_x": null,
      "overflow_y": null,
      "padding": null,
      "right": null,
      "top": null,
      "visibility": null,
      "width": null
     }
    },
    "f6493e29966242259a3b4c4edae09109": {
     "model_module": "@jupyter-widgets/base",
     "model_module_version": "1.2.0",
     "model_name": "LayoutModel",
     "state": {
      "_model_module": "@jupyter-widgets/base",
      "_model_module_version": "1.2.0",
      "_model_name": "LayoutModel",
      "_view_count": null,
      "_view_module": "@jupyter-widgets/base",
      "_view_module_version": "1.2.0",
      "_view_name": "LayoutView",
      "align_content": null,
      "align_items": null,
      "align_self": null,
      "border": null,
      "bottom": null,
      "display": null,
      "flex": null,
      "flex_flow": null,
      "grid_area": null,
      "grid_auto_columns": null,
      "grid_auto_flow": null,
      "grid_auto_rows": null,
      "grid_column": null,
      "grid_gap": null,
      "grid_row": null,
      "grid_template_areas": null,
      "grid_template_columns": null,
      "grid_template_rows": null,
      "height": null,
      "justify_content": null,
      "justify_items": null,
      "left": null,
      "margin": null,
      "max_height": null,
      "max_width": null,
      "min_height": null,
      "min_width": null,
      "object_fit": null,
      "object_position": null,
      "order": null,
      "overflow": null,
      "overflow_x": null,
      "overflow_y": null,
      "padding": null,
      "right": null,
      "top": null,
      "visibility": null,
      "width": null
     }
    },
    "fcab55a8aaaa430f841f24d341eced63": {
     "model_module": "@jupyter-widgets/controls",
     "model_module_version": "1.5.0",
     "model_name": "ProgressStyleModel",
     "state": {
      "_model_module": "@jupyter-widgets/controls",
      "_model_module_version": "1.5.0",
      "_model_name": "ProgressStyleModel",
      "_view_count": null,
      "_view_module": "@jupyter-widgets/base",
      "_view_module_version": "1.2.0",
      "_view_name": "StyleView",
      "bar_color": null,
      "description_width": ""
     }
    }
   }
  }
 },
 "nbformat": 4,
 "nbformat_minor": 4
}
