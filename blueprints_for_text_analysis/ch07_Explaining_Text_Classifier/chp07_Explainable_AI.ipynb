{
 "cells": [
  {
   "cell_type": "markdown",
   "metadata": {
    "id": "PaA6CZQyaRt3"
   },
   "source": [
    "<a id='top'></a><a name='top'></a>\n",
    "# Chapter 7: How to Explain a Text Classifier\n",
    "\n",
    "Book: [Blueprints for Text Analysis Using Python](https://www.oreilly.com/library/view/blueprints-for-text/9781492074076/)\n",
    "\n",
    "Repo: https://github.com/blueprints-for-text-analytics-python/blueprints-text"
   ]
  },
  {
   "cell_type": "markdown",
   "metadata": {
    "id": "mOlm18eHC5wM"
   },
   "source": [
    "* [Introduction](#introduction)\n",
    "* [7.0 Imports and Setup](#7.0)\n",
    "* [7.1 Blueprint: Determining Classification Confidence Using Prediction Probability](#7.1)\n",
    "* [7.2 Blueprint: Measuring Feature Importance of Predictive Models](#7.2)\n",
    "* [7.3 Blueprint: Using LIME to Explain the Classification Results](#7.3)\n",
    "* [7.4 Blueprint: Using ELI5 to Explain the Classification Results](#7.4)\n",
    "* [7.5 Blueprint: Using Anchor to Explain the Classification Results](#7.5)\n",
    "    - [7.5.1 Using the Distribution with Masked Words](#7.5.1)\n",
    "    - [7.5.2 Working with Real Words (broken) ](#7.5.2)"
   ]
  },
  {
   "cell_type": "markdown",
   "metadata": {
    "id": "TfUbO2FjC5wO"
   },
   "source": [
    "---\n",
    "<a name='introduction'></a><a id='introduction'></a>\n",
    "# Introduction\n",
    "<a href=\"#top\">[back to top]</a>\n",
    "\n",
    "### Dataset \n",
    "\n",
    "* Java Development Tools Bug dataset: [script](#eclipse_jdt.csv.gz), [source](https://github.com/blueprints-for-text-analytics-python/blueprints-text/raw/master/data/jdt-bugs-dataset/eclipse_jdt.csv.gz)\n",
    "\n",
    "### Explore\n",
    "\n",
    "* Explaining the results of supervised ML models.\n",
    "* Analyzing which features are responsible for model outputs.\n",
    "* Calculating feature-results using SVM.\n",
    "* LIME (local interpretable model-agnostic explanations) model.\n",
    "* Anchor model."
   ]
  },
  {
   "cell_type": "markdown",
   "metadata": {
    "id": "WhwMO0tMC5wP"
   },
   "source": [
    "---\n",
    "<a name='7.0'></a><a id='7.0'></a>\n",
    "# 7.0 Imports and Setup\n",
    "<a href=\"#top\">[back to top]</a>"
   ]
  },
  {
   "cell_type": "code",
   "execution_count": 1,
   "metadata": {},
   "outputs": [],
   "source": [
    "# Start with clean project\n",
    "# !rm -f *.gz\n",
    "# !rm -f *.py\n",
    "# !rm -f *.txt"
   ]
  },
  {
   "cell_type": "code",
   "execution_count": 2,
   "metadata": {
    "id": "NaG1guU2HUuy"
   },
   "outputs": [],
   "source": [
    "req_file = \"requirements_07.txt\""
   ]
  },
  {
   "cell_type": "code",
   "execution_count": 3,
   "metadata": {
    "colab": {
     "base_uri": "https://localhost:8080/"
    },
    "id": "9nX82hUDaRt5",
    "outputId": "ca063eab-e659-4a83-8cc5-1be6b4565272"
   },
   "outputs": [
    {
     "name": "stdout",
     "output_type": "stream",
     "text": [
      "Overwriting requirements_07.txt\n"
     ]
    }
   ],
   "source": [
    "%%writefile {req_file}\n",
    "anchor-exp\n",
    "# eli5\n",
    "isort\n",
    "lime\n",
    "tqdm\n",
    "transformers\n",
    "watermark"
   ]
  },
  {
   "cell_type": "code",
   "execution_count": 4,
   "metadata": {
    "colab": {
     "base_uri": "https://localhost:8080/"
    },
    "id": "ZmQlfUyFaRt9",
    "outputId": "624bc0c9-f29a-4dab-db2c-9ef29eaee908"
   },
   "outputs": [
    {
     "name": "stdout",
     "output_type": "stream",
     "text": [
      "Running locally.\n"
     ]
    }
   ],
   "source": [
    "import sys\n",
    "\n",
    "IS_COLAB = 'google.colab' in sys.modules\n",
    "if IS_COLAB:\n",
    "    print(\"Installing packages\")\n",
    "    !pip install --upgrade --quiet -r {req_file}\n",
    "else:\n",
    "    print(\"Running locally.\")"
   ]
  },
  {
   "cell_type": "code",
   "execution_count": 5,
   "metadata": {
    "colab": {
     "base_uri": "https://localhost:8080/"
    },
    "id": "BcYxurydC5wU",
    "outputId": "6506e42a-f1b5-48c3-8561-9ae32079c6f2"
   },
   "outputs": [
    {
     "name": "stdout",
     "output_type": "stream",
     "text": [
      "Overwriting imports.py\n"
     ]
    }
   ],
   "source": [
    "%%writefile imports.py\n",
    "import html\n",
    "import locale\n",
    "import pprint\n",
    "import re\n",
    "import time\n",
    "import warnings\n",
    "# import eli5\n",
    "import matplotlib.pyplot as plt\n",
    "import numpy as np\n",
    "import pandas as pd\n",
    "import seaborn as sns\n",
    "import spacy\n",
    "import transformers\n",
    "from anchor import anchor_text\n",
    "from lime import submodular_pick\n",
    "from lime.lime_text import LimeTextExplainer\n",
    "from sklearn.feature_extraction.text import TfidfVectorizer\n",
    "from sklearn.linear_model import SGDClassifier\n",
    "from sklearn.metrics import (accuracy_score, classification_report,\n",
    "                             confusion_matrix)\n",
    "from sklearn.model_selection import train_test_split\n",
    "from sklearn.pipeline import make_pipeline\n",
    "from sklearn.svm import SVC\n",
    "from tqdm.auto import tqdm\n",
    "from watermark import watermark"
   ]
  },
  {
   "cell_type": "code",
   "execution_count": 6,
   "metadata": {
    "colab": {
     "base_uri": "https://localhost:8080/"
    },
    "id": "whVnQNJoC5wW",
    "outputId": "bfe1b9db-3c26-48ca-87bb-ffc0d3b9da27"
   },
   "outputs": [
    {
     "name": "stdout",
     "output_type": "stream",
     "text": [
      "Fixing /Users/gpb/Desktop/NLP-LEARNING/nlp-study/blueprints_for_text_analysis/ch07_Explaining_Text_Classifier/imports.py\n",
      "import html\n",
      "import locale\n",
      "import pprint\n",
      "import re\n",
      "import time\n",
      "import warnings\n",
      "\n",
      "# import eli5\n",
      "import matplotlib.pyplot as plt\n",
      "import numpy as np\n",
      "import pandas as pd\n",
      "import seaborn as sns\n",
      "import spacy\n",
      "import transformers\n",
      "from anchor import anchor_text\n",
      "from lime import submodular_pick\n",
      "from lime.lime_text import LimeTextExplainer\n",
      "from sklearn.feature_extraction.text import TfidfVectorizer\n",
      "from sklearn.linear_model import SGDClassifier\n",
      "from sklearn.metrics import (accuracy_score, classification_report,\n",
      "                             confusion_matrix)\n",
      "from sklearn.model_selection import train_test_split\n",
      "from sklearn.pipeline import make_pipeline\n",
      "from sklearn.svm import SVC\n",
      "from tqdm.auto import tqdm\n",
      "from watermark import watermark\n"
     ]
    }
   ],
   "source": [
    "!isort imports.py\n",
    "!cat imports.py"
   ]
  },
  {
   "cell_type": "code",
   "execution_count": 7,
   "metadata": {
    "colab": {
     "base_uri": "https://localhost:8080/"
    },
    "id": "G0zRxU90HheP",
    "outputId": "1763cf43-aa05-48cd-ea5a-6fc7d71417f9"
   },
   "outputs": [
    {
     "name": "stderr",
     "output_type": "stream",
     "text": [
      "None of PyTorch, TensorFlow >= 2.0, or Flax have been found. Models won't be available and only tokenizers, configuration and file/data utilities can be used.\n"
     ]
    }
   ],
   "source": [
    "import html\n",
    "import locale\n",
    "import pprint\n",
    "import re\n",
    "import time\n",
    "import warnings\n",
    "\n",
    "# import eli5\n",
    "import matplotlib.pyplot as plt\n",
    "import numpy as np\n",
    "import pandas as pd\n",
    "import seaborn as sns\n",
    "import spacy\n",
    "import transformers\n",
    "from anchor import anchor_text\n",
    "from lime import submodular_pick\n",
    "from lime.lime_text import LimeTextExplainer\n",
    "from sklearn.feature_extraction.text import TfidfVectorizer\n",
    "from sklearn.linear_model import SGDClassifier\n",
    "from sklearn.metrics import (accuracy_score, classification_report,\n",
    "                             confusion_matrix)\n",
    "from sklearn.model_selection import train_test_split\n",
    "from sklearn.pipeline import make_pipeline\n",
    "from sklearn.svm import SVC\n",
    "from tqdm.auto import tqdm\n",
    "from watermark import watermark"
   ]
  },
  {
   "cell_type": "code",
   "execution_count": 8,
   "metadata": {
    "colab": {
     "base_uri": "https://localhost:8080/"
    },
    "id": "cCCGugrQC5wZ",
    "outputId": "b9e72bd3-64a8-4312-cb74-069b6d0a4cd3"
   },
   "outputs": [
    {
     "name": "stdout",
     "output_type": "stream",
     "text": [
      "Python implementation: CPython\n",
      "Python version       : 3.11.5\n",
      "IPython version      : 8.18.1\n",
      "\n",
      "Compiler    : Clang 14.0.0 (clang-1400.0.29.202)\n",
      "OS          : Darwin\n",
      "Release     : 21.6.0\n",
      "Machine     : x86_64\n",
      "Processor   : i386\n",
      "CPU cores   : 4\n",
      "Architecture: 64bit\n",
      "\n",
      "lime        : 0.2.0.1\n",
      "spacy       : 3.7.4\n",
      "numpy       : 1.26.0\n",
      "re          : 2.2.1\n",
      "transformers: 4.46.1\n",
      "matplotlib  : 3.9.2\n",
      "seaborn     : 0.13.2\n",
      "sys         : 3.11.5 (main, Jan 16 2024, 17:25:53) [Clang 14.0.0 (clang-1400.0.29.202)]\n",
      "pandas      : 2.2.2\n",
      "\n"
     ]
    }
   ],
   "source": [
    "def HR():\n",
    "    print(\"-\"*40)\n",
    "    \n",
    "def getpreferredencoding(do_setlocale = True):\n",
    "    return \"UTF-8\"\n",
    "\n",
    "locale.getpreferredencoding = getpreferredencoding\n",
    "warnings.filterwarnings('ignore')\n",
    "BASE_DIR = '.'\n",
    "sns.set_style(\"darkgrid\")\n",
    "tqdm.pandas(desc=\"progress-bar\")\n",
    "pp = pprint.PrettyPrinter(indent=4)\n",
    "\n",
    "print(watermark(iversions=True, globals_=globals(),python=True, machine=True))"
   ]
  },
  {
   "cell_type": "code",
   "execution_count": 9,
   "metadata": {
    "colab": {
     "base_uri": "https://localhost:8080/"
    },
    "id": "Hfil02aNC5wa",
    "outputId": "43d2df81-3f0d-468e-827d-121b99e2ddbd"
   },
   "outputs": [
    {
     "name": "stdout",
     "output_type": "stream",
     "text": [
      "['tok2vec', 'tagger', 'parser', 'attribute_ruler', 'lemmatizer', 'ner']\n"
     ]
    }
   ],
   "source": [
    "# Misc downloads\n",
    "# !python -m spacy download en_core_web_lg >> /dev/null 2>&1\n",
    "# !python -m spacy download en_core_web_lg\n",
    "# nlp = spacy.load('en_core_web_lg')\n",
    "# !python -m spacy download en_core_web_sm\n",
    "\n",
    "try:\n",
    "    nlp = spacy.load('en_core_web_lg')\n",
    "except Exception as e:\n",
    "    print(e)\n",
    "    print(\"Loading download en_core_web_lg\")\n",
    "    !python -m spacy download en_core_web_lg\n",
    "    nlp = spacy.load('en_core_web_lg')\n",
    "\n",
    "print(nlp.pipe_names)"
   ]
  },
  {
   "cell_type": "code",
   "execution_count": 10,
   "metadata": {
    "id": "_-8Eg4kNaRt_"
   },
   "outputs": [],
   "source": [
    "# Cleaning up the data to remove special characters - will re-use the blueprint from Chapter 5\n",
    "\n",
    "# tags like \n",
    "RE_TAG = re.compile(r'<[^<>]*>')\n",
    "\n",
    "# text or code in brackets like [0]\n",
    "RE_BRACKET = re.compile('\\[[^\\[\\]]*\\]')\n",
    "\n",
    "# text or code in brackets like (0)\n",
    "RE_BRACKET_1 = re.compile('\\([^)]*\\)')\n",
    "\n",
    "# specials that are not part of words; matches # but not #cool\n",
    "RE_SPECIAL = re.compile(r'(?:^|\\s)[&#<>{}\\[\\]+]+(?:\\s|$)')\n",
    "\n",
    "# standalone sequences of hyphens like --- or ==\n",
    "RE_HYPHEN_SEQ = re.compile(r'(?:^|\\s)[\\-=\\+]{2,}(?:\\s|$)')\n",
    "\n",
    "# sequences of white spaces\n",
    "RE_MULTI_SPACE = re.compile('\\s+')\n",
    "\n",
    "def clean(text):\n",
    "    text = html.unescape(text)\n",
    "    text = RE_TAG.sub(' ', text)\n",
    "    text = RE_BRACKET.sub(' ', text)\n",
    "    text = RE_BRACKET_1.sub(' ', text)\n",
    "    text = RE_SPECIAL.sub(' ', text)\n",
    "    text = RE_HYPHEN_SEQ.sub(' ', text)\n",
    "    text = RE_MULTI_SPACE.sub(' ', text)\n",
    "    return text.strip()"
   ]
  },
  {
   "cell_type": "markdown",
   "metadata": {
    "id": "1lrrqMGMC5wb"
   },
   "source": [
    "<a name='7.1'></a><a id='7.1'></a>\n",
    "# 7.1 Determining Classification Confidence Using Prediction Probability\n",
    "<a href=\"#top\">[back to top]</a>\n",
    "\n",
    "Here we train a SVM with optimized parameters (found in Chp 6). That model had a good average precision and recall of 75%, so the classification worked well.\n",
    "\n",
    "We will use the function `predict_proba` of the support vector machine model, which tells us about the internals of the SVM, namely, the probabilities it calulated for the respective classes"
   ]
  },
  {
   "cell_type": "markdown",
   "metadata": {},
   "source": [
    "<a id='eclipse_jdt.csv.gz'></a><a name='eclipse_jdt.csv.gz'></a>\n",
    "### Dataset: eclipse_jdt.csv.gz\n",
    "<a href=\"#top\">[back to top]</a>"
   ]
  },
  {
   "cell_type": "code",
   "execution_count": 11,
   "metadata": {
    "colab": {
     "base_uri": "https://localhost:8080/"
    },
    "id": "o-ODyEDUKsd_",
    "outputId": "c62ddca1-f7c4-43ca-ce7b-50a5bd2dbabc"
   },
   "outputs": [
    {
     "name": "stdout",
     "output_type": "stream",
     "text": [
      "-rw-r--r--  1 gpb  staff  13689872 11  2 22:15 eclipse_jdt.csv.gz\n"
     ]
    }
   ],
   "source": [
    "BUGS_FILE = 'eclipse_jdt.csv.gz'\n",
    "!wget -nc -q https://github.com/blueprints-for-text-analytics-python/blueprints-text/raw/master/data/jdt-bugs-dataset/eclipse_jdt.csv.gz\n",
    "!ls -l {BUGS_FILE}"
   ]
  },
  {
   "cell_type": "markdown",
   "metadata": {
    "id": "2zODjSJTC5wc"
   },
   "source": [
    "Part 1: Construct a DataFrame from the prediction results."
   ]
  },
  {
   "cell_type": "code",
   "execution_count": 12,
   "metadata": {
    "colab": {
     "base_uri": "https://localhost:8080/"
    },
    "id": "Ubu-3qA-13yO",
    "outputId": "beac3117-95b0-45d4-d96c-cdda65b5b094"
   },
   "outputs": [
    {
     "name": "stdout",
     "output_type": "stream",
     "text": [
      "<class 'pandas.core.frame.DataFrame'>\n",
      "Index: 22648 entries, 15795 to 29910\n",
      "Data columns (total 11 columns):\n",
      " #   Column            Non-Null Count  Dtype  \n",
      "---  ------            --------------  -----  \n",
      " 0   Issue_id          22648 non-null  int64  \n",
      " 1   Priority          22648 non-null  object \n",
      " 2   Component         22648 non-null  object \n",
      " 3   Duplicated_issue  3894 non-null   float64\n",
      " 4   Title             22648 non-null  object \n",
      " 5   Description       22627 non-null  object \n",
      " 6   Status            22648 non-null  object \n",
      " 7   Resolution        22648 non-null  object \n",
      " 8   Version           22648 non-null  object \n",
      " 9   Created_time      22648 non-null  object \n",
      " 10  Resolved_time     22648 non-null  object \n",
      "dtypes: float64(1), int64(1), object(9)\n",
      "memory usage: 2.1+ MB\n"
     ]
    }
   ],
   "source": [
    "# Loads the dataframe\n",
    "df = pd.read_csv(BUGS_FILE)\n",
    "\n",
    "# Ensure we can run to completion on COLAB by reducing dataset size\n",
    "df = df.sample(frac=0.5, replace=True, random_state=42)\n",
    "df.info()"
   ]
  },
  {
   "cell_type": "code",
   "execution_count": 13,
   "metadata": {
    "colab": {
     "base_uri": "https://localhost:8080/"
    },
    "id": "bT9OrMCA18r9",
    "outputId": "2f0b5ac1-86bf-4c26-91c1-004335e0e3a0"
   },
   "outputs": [
    {
     "name": "stdout",
     "output_type": "stream",
     "text": [
      "<class 'pandas.core.frame.DataFrame'>\n",
      "MultiIndex: 4526 entries, (0, 37285) to (5, 10114)\n",
      "Data columns (total 2 columns):\n",
      " #   Column     Non-Null Count  Dtype \n",
      "---  ------     --------------  ----- \n",
      " 0   Component  4526 non-null   object\n",
      " 1   text       4526 non-null   object\n",
      "dtypes: object(2)\n",
      "memory usage: 246.9+ KB\n"
     ]
    }
   ],
   "source": [
    "df = df.groupby('Component', as_index=False).apply(pd.DataFrame.sample, random_state=42, frac=.2)\n",
    "df = df[['Title','Description','Component']]\n",
    "df = df.dropna()\n",
    "df['text'] = df['Title'] + \" \" + df['Description']\n",
    "df = df.drop(columns=['Title','Description'])\n",
    "df.info()"
   ]
  },
  {
   "cell_type": "code",
   "execution_count": 14,
   "metadata": {
    "colab": {
     "base_uri": "https://localhost:8080/"
    },
    "id": "zs5KEq7aaRuC",
    "outputId": "782a9811-febc-4c16-917b-f8624bc69239"
   },
   "outputs": [
    {
     "name": "stdout",
     "output_type": "stream",
     "text": [
      "Size of Training Data  3620\n",
      "Size of Test Data  906\n"
     ]
    }
   ],
   "source": [
    "# Step 1 - Data Preparation\n",
    "df['text'] = df['text'].apply(clean)\n",
    "\n",
    "# Step 2 - Train-Test Split\n",
    "X_train, X_test, Y_train, Y_test = train_test_split(\n",
    "    df['text'], \n",
    "    df['Component'], \n",
    "    test_size=0.2, \n",
    "    random_state=42,\n",
    "    stratify=df['Component']\n",
    ")\n",
    "\n",
    "print ('Size of Training Data ', X_train.shape[0])\n",
    "print ('Size of Test Data ', X_test.shape[0])"
   ]
  },
  {
   "cell_type": "code",
   "execution_count": 15,
   "metadata": {
    "id": "snUBwMW5C5wd"
   },
   "outputs": [
    {
     "name": "stdout",
     "output_type": "stream",
     "text": [
      "Done initiating TfidfVectorizer model\n",
      "----------------------------------------\n",
      "Done fitting TfidfVectorizer model\n"
     ]
    }
   ],
   "source": [
    "# Step 3 - Training the Machine Learning model\n",
    "tfidf = TfidfVectorizer(min_df = 10, ngram_range=(1,2), stop_words=\"english\")\n",
    "print(\"Done initiating TfidfVectorizer model\")\n",
    "HR()\n",
    "\n",
    "\n",
    "X_train_tf = tfidf.fit_transform(X_train)\n",
    "print(\"Done fitting TfidfVectorizer model\")"
   ]
  },
  {
   "cell_type": "code",
   "execution_count": 16,
   "metadata": {
    "id": "NxHx31HNC5we"
   },
   "outputs": [
    {
     "name": "stdout",
     "output_type": "stream",
     "text": [
      "Done initiating SVC model\n"
     ]
    }
   ],
   "source": [
    "svc = SVC(\n",
    "    kernel=\"linear\", \n",
    "    C=1, \n",
    "    probability=True, \n",
    "    random_state=42,\n",
    "    verbose=False\n",
    ")\n",
    "print(\"Done initiating SVC model\")"
   ]
  },
  {
   "cell_type": "code",
   "execution_count": 17,
   "metadata": {
    "colab": {
     "base_uri": "https://localhost:8080/",
     "height": 108
    },
    "id": "QM7IZNz96iAq",
    "outputId": "5a8352cf-e7bf-43e7-f1e2-c2e4831e67ef"
   },
   "outputs": [
    {
     "name": "stdout",
     "output_type": "stream",
     "text": [
      "Done fitting SVC model\n"
     ]
    }
   ],
   "source": [
    "svc.fit(X_train_tf, Y_train)\n",
    "print(\"Done fitting SVC model\")"
   ]
  },
  {
   "cell_type": "markdown",
   "metadata": {
    "id": "gBWOGBRZC5we"
   },
   "source": [
    "---\n",
    "Create a DataFrame from the prediction results."
   ]
  },
  {
   "cell_type": "code",
   "execution_count": 18,
   "metadata": {
    "colab": {
     "base_uri": "https://localhost:8080/",
     "height": 419
    },
    "id": "ppLK0GEGaRuD",
    "outputId": "1a5abd0a-0f47-436d-9f76-89429c2d64d8"
   },
   "outputs": [
    {
     "data": {
      "text/html": [
       "<div>\n",
       "<style scoped>\n",
       "    .dataframe tbody tr th:only-of-type {\n",
       "        vertical-align: middle;\n",
       "    }\n",
       "\n",
       "    .dataframe tbody tr th {\n",
       "        vertical-align: top;\n",
       "    }\n",
       "\n",
       "    .dataframe thead th {\n",
       "        text-align: right;\n",
       "    }\n",
       "</style>\n",
       "<table border=\"1\" class=\"dataframe\">\n",
       "  <thead>\n",
       "    <tr style=\"text-align: right;\">\n",
       "      <th></th>\n",
       "      <th>text</th>\n",
       "      <th>actual</th>\n",
       "      <th>predicted</th>\n",
       "    </tr>\n",
       "  </thead>\n",
       "  <tbody>\n",
       "    <tr>\n",
       "      <th>0</th>\n",
       "      <td>Control Backspace deletes text AFTER the curso...</td>\n",
       "      <td>Text</td>\n",
       "      <td>Text</td>\n",
       "    </tr>\n",
       "    <tr>\n",
       "      <th>1</th>\n",
       "      <td>Displaying a variable appends to same line Whi...</td>\n",
       "      <td>Debug</td>\n",
       "      <td>Debug</td>\n",
       "    </tr>\n",
       "    <tr>\n",
       "      <th>2</th>\n",
       "      <td>MalformedTreeException when formatting an inva...</td>\n",
       "      <td>Core</td>\n",
       "      <td>Core</td>\n",
       "    </tr>\n",
       "    <tr>\n",
       "      <th>3</th>\n",
       "      <td>Comment adjustment should handle single line t...</td>\n",
       "      <td>Text</td>\n",
       "      <td>Text</td>\n",
       "    </tr>\n",
       "    <tr>\n",
       "      <th>4</th>\n",
       "      <td>ClassCastException in CompletionEngine Build 2...</td>\n",
       "      <td>Core</td>\n",
       "      <td>UI</td>\n",
       "    </tr>\n",
       "    <tr>\n",
       "      <th>...</th>\n",
       "      <td>...</td>\n",
       "      <td>...</td>\n",
       "      <td>...</td>\n",
       "    </tr>\n",
       "    <tr>\n",
       "      <th>901</th>\n",
       "      <td>refactoringContribution.createDescriptor retur...</td>\n",
       "      <td>UI</td>\n",
       "      <td>Core</td>\n",
       "    </tr>\n",
       "    <tr>\n",
       "      <th>902</th>\n",
       "      <td>IllegalArgumentException during selection Buil...</td>\n",
       "      <td>Core</td>\n",
       "      <td>UI</td>\n",
       "    </tr>\n",
       "    <tr>\n",
       "      <th>903</th>\n",
       "      <td>Templates - JavaDoc should not be default type...</td>\n",
       "      <td>UI</td>\n",
       "      <td>UI</td>\n",
       "    </tr>\n",
       "    <tr>\n",
       "      <th>904</th>\n",
       "      <td>Reliable way to crash eclispe My workspace con...</td>\n",
       "      <td>UI</td>\n",
       "      <td>UI</td>\n",
       "    </tr>\n",
       "    <tr>\n",
       "      <th>905</th>\n",
       "      <td>Include JRockit-internal classes in the defaul...</td>\n",
       "      <td>Debug</td>\n",
       "      <td>UI</td>\n",
       "    </tr>\n",
       "  </tbody>\n",
       "</table>\n",
       "<p>906 rows × 3 columns</p>\n",
       "</div>"
      ],
      "text/plain": [
       "                                                  text actual predicted\n",
       "0    Control Backspace deletes text AFTER the curso...   Text      Text\n",
       "1    Displaying a variable appends to same line Whi...  Debug     Debug\n",
       "2    MalformedTreeException when formatting an inva...   Core      Core\n",
       "3    Comment adjustment should handle single line t...   Text      Text\n",
       "4    ClassCastException in CompletionEngine Build 2...   Core        UI\n",
       "..                                                 ...    ...       ...\n",
       "901  refactoringContribution.createDescriptor retur...     UI      Core\n",
       "902  IllegalArgumentException during selection Buil...   Core        UI\n",
       "903  Templates - JavaDoc should not be default type...     UI        UI\n",
       "904  Reliable way to crash eclispe My workspace con...     UI        UI\n",
       "905  Include JRockit-internal classes in the defaul...  Debug        UI\n",
       "\n",
       "[906 rows x 3 columns]"
      ]
     },
     "execution_count": 18,
     "metadata": {},
     "output_type": "execute_result"
    }
   ],
   "source": [
    "X_test_tf = tfidf.transform(X_test)\n",
    "\n",
    "Y_pred = svc.predict(X_test_tf)\n",
    "\n",
    "result = pd.DataFrame({ \n",
    "    'text': X_test.values, \n",
    "    'actual': Y_test.values, \n",
    "    'predicted': Y_pred \n",
    "})\n",
    "\n",
    "result"
   ]
  },
  {
   "cell_type": "code",
   "execution_count": 19,
   "metadata": {
    "colab": {
     "base_uri": "https://localhost:8080/",
     "height": 204
    },
    "id": "fUArygY8aRuE",
    "outputId": "6f15258e-dbf8-45e4-e790-f8742e8c0442"
   },
   "outputs": [
    {
     "data": {
      "text/html": [
       "<div>\n",
       "<style scoped>\n",
       "    .dataframe tbody tr th:only-of-type {\n",
       "        vertical-align: middle;\n",
       "    }\n",
       "\n",
       "    .dataframe tbody tr th {\n",
       "        vertical-align: top;\n",
       "    }\n",
       "\n",
       "    .dataframe thead th {\n",
       "        text-align: right;\n",
       "    }\n",
       "</style>\n",
       "<table border=\"1\" class=\"dataframe\">\n",
       "  <thead>\n",
       "    <tr style=\"text-align: right;\">\n",
       "      <th></th>\n",
       "      <th>text</th>\n",
       "      <th>actual</th>\n",
       "      <th>predicted</th>\n",
       "    </tr>\n",
       "  </thead>\n",
       "  <tbody>\n",
       "    <tr>\n",
       "      <th>0</th>\n",
       "      <td>Control Backspace deletes text AFTER the curso...</td>\n",
       "      <td>Text</td>\n",
       "      <td>Text</td>\n",
       "    </tr>\n",
       "    <tr>\n",
       "      <th>1</th>\n",
       "      <td>Displaying a variable appends to same line Whi...</td>\n",
       "      <td>Debug</td>\n",
       "      <td>Debug</td>\n",
       "    </tr>\n",
       "    <tr>\n",
       "      <th>2</th>\n",
       "      <td>MalformedTreeException when formatting an inva...</td>\n",
       "      <td>Core</td>\n",
       "      <td>Core</td>\n",
       "    </tr>\n",
       "    <tr>\n",
       "      <th>3</th>\n",
       "      <td>Comment adjustment should handle single line t...</td>\n",
       "      <td>Text</td>\n",
       "      <td>Text</td>\n",
       "    </tr>\n",
       "    <tr>\n",
       "      <th>4</th>\n",
       "      <td>ClassCastException in CompletionEngine Build 2...</td>\n",
       "      <td>Core</td>\n",
       "      <td>UI</td>\n",
       "    </tr>\n",
       "  </tbody>\n",
       "</table>\n",
       "</div>"
      ],
      "text/plain": [
       "                                                text actual predicted\n",
       "0  Control Backspace deletes text AFTER the curso...   Text      Text\n",
       "1  Displaying a variable appends to same line Whi...  Debug     Debug\n",
       "2  MalformedTreeException when formatting an inva...   Core      Core\n",
       "3  Comment adjustment should handle single line t...   Text      Text\n",
       "4  ClassCastException in CompletionEngine Build 2...   Core        UI"
      ]
     },
     "execution_count": 19,
     "metadata": {},
     "output_type": "execute_result"
    }
   ],
   "source": [
    "result.head()"
   ]
  },
  {
   "cell_type": "markdown",
   "metadata": {
    "id": "uGs7NxUMaRuF"
   },
   "source": [
    "Examine cases where the predictions are wrong."
   ]
  },
  {
   "cell_type": "code",
   "execution_count": 20,
   "metadata": {
    "colab": {
     "base_uri": "https://localhost:8080/",
     "height": 204
    },
    "id": "SP068LF3aRuF",
    "outputId": "a00a814e-9a76-47d5-fc81-9b7a520320c5"
   },
   "outputs": [
    {
     "data": {
      "text/html": [
       "<div>\n",
       "<style scoped>\n",
       "    .dataframe tbody tr th:only-of-type {\n",
       "        vertical-align: middle;\n",
       "    }\n",
       "\n",
       "    .dataframe tbody tr th {\n",
       "        vertical-align: top;\n",
       "    }\n",
       "\n",
       "    .dataframe thead th {\n",
       "        text-align: right;\n",
       "    }\n",
       "</style>\n",
       "<table border=\"1\" class=\"dataframe\">\n",
       "  <thead>\n",
       "    <tr style=\"text-align: right;\">\n",
       "      <th></th>\n",
       "      <th>text</th>\n",
       "      <th>actual</th>\n",
       "      <th>predicted</th>\n",
       "    </tr>\n",
       "  </thead>\n",
       "  <tbody>\n",
       "    <tr>\n",
       "      <th>4</th>\n",
       "      <td>ClassCastException in CompletionEngine Build 2...</td>\n",
       "      <td>Core</td>\n",
       "      <td>UI</td>\n",
       "    </tr>\n",
       "    <tr>\n",
       "      <th>9</th>\n",
       "      <td>generated source folder should be marked as de...</td>\n",
       "      <td>APT</td>\n",
       "      <td>UI</td>\n",
       "    </tr>\n",
       "    <tr>\n",
       "      <th>24</th>\n",
       "      <td>Delete fails and Blocks the application I copi...</td>\n",
       "      <td>Text</td>\n",
       "      <td>Debug</td>\n",
       "    </tr>\n",
       "    <tr>\n",
       "      <th>25</th>\n",
       "      <td>Syntax highlighting glitch Create a class call...</td>\n",
       "      <td>UI</td>\n",
       "      <td>Core</td>\n",
       "    </tr>\n",
       "    <tr>\n",
       "      <th>28</th>\n",
       "      <td>HTML format hovering help Hi;; We are developi...</td>\n",
       "      <td>Text</td>\n",
       "      <td>UI</td>\n",
       "    </tr>\n",
       "  </tbody>\n",
       "</table>\n",
       "</div>"
      ],
      "text/plain": [
       "                                                 text actual predicted\n",
       "4   ClassCastException in CompletionEngine Build 2...   Core        UI\n",
       "9   generated source folder should be marked as de...    APT        UI\n",
       "24  Delete fails and Blocks the application I copi...   Text     Debug\n",
       "25  Syntax highlighting glitch Create a class call...     UI      Core\n",
       "28  HTML format hovering help Hi;; We are developi...   Text        UI"
      ]
     },
     "execution_count": 20,
     "metadata": {},
     "output_type": "execute_result"
    }
   ],
   "source": [
    "result[result[\"actual\"] != result[\"predicted\"]].head()"
   ]
  },
  {
   "cell_type": "markdown",
   "metadata": {
    "id": "In7gwVtJC5wh"
   },
   "source": [
    "Examine Document 21."
   ]
  },
  {
   "cell_type": "code",
   "execution_count": 21,
   "metadata": {
    "colab": {
     "base_uri": "https://localhost:8080/"
    },
    "id": "01uOuPXQaRuF",
    "outputId": "b31640b7-4314-4bf7-ccd5-6fb153b70964"
   },
   "outputs": [
    {
     "name": "stdout",
     "output_type": "stream",
     "text": [
      "shortkey for code formater Hi; Eclipse provides the format function like in Visual Age with more ; options. But the shortkey W doesnt work. I would ; really like if that was included into Eclipse.; ; Thanks; Thierry.; ; As well; it would be very great if there was a shortkey editor.\n"
     ]
    }
   ],
   "source": [
    "text = result.iloc[21][\"text\"]\n",
    "print(text)"
   ]
  },
  {
   "cell_type": "markdown",
   "metadata": {
    "id": "7uQUV2ERC5wi"
   },
   "source": [
    "This example contains words that infer both Core and UI. Examine the probabilities via `predict_proba` for more details."
   ]
  },
  {
   "cell_type": "code",
   "execution_count": 22,
   "metadata": {
    "colab": {
     "base_uri": "https://localhost:8080/"
    },
    "id": "WxUQjdVLaRuG",
    "outputId": "b9afd9c3-dcb3-48d3-8d58-6afc9ba0047a"
   },
   "outputs": [
    {
     "data": {
      "text/plain": [
       "array([[0.0010555 , 0.08415967, 0.02702105, 0.00065631, 0.34420308,\n",
       "        0.54290439]])"
      ]
     },
     "execution_count": 22,
     "metadata": {},
     "output_type": "execute_result"
    }
   ],
   "source": [
    "svc.predict_proba(X_test_tf[21])"
   ]
  },
  {
   "cell_type": "markdown",
   "metadata": {
    "id": "UqVitZAoC5wj"
   },
   "source": [
    "Calculate the decision probability for all documents in the test dataset and add it to a DataFrame:"
   ]
  },
  {
   "cell_type": "code",
   "execution_count": 23,
   "metadata": {
    "id": "xENCw6X8aRuH"
   },
   "outputs": [],
   "source": [
    "class_names = [\"APT\", \"Core\", \"Debug\", \"Doc\", \"Text\", \"UI\"]\n",
    "prob = svc.predict_proba(X_test_tf)\n",
    "\n",
    "# New dataframe for explainable results\n",
    "er = result.copy().reset_index()\n",
    "for i, c in enumerate(class_names):\n",
    "    er[c] = prob[:, i]"
   ]
  },
  {
   "cell_type": "markdown",
   "metadata": {
    "id": "KR-whNNvC5wk"
   },
   "source": [
    "Take a look at some samples of the dataframe and explore whether the predictions are better if the algo was certain about its decision.\n"
   ]
  },
  {
   "cell_type": "code",
   "execution_count": 24,
   "metadata": {
    "colab": {
     "base_uri": "https://localhost:8080/",
     "height": 204
    },
    "id": "dSoE1MEQaRuH",
    "outputId": "970a15d5-a97b-46f9-f97b-a95e86b66640"
   },
   "outputs": [
    {
     "data": {
      "text/html": [
       "<div>\n",
       "<style scoped>\n",
       "    .dataframe tbody tr th:only-of-type {\n",
       "        vertical-align: middle;\n",
       "    }\n",
       "\n",
       "    .dataframe tbody tr th {\n",
       "        vertical-align: top;\n",
       "    }\n",
       "\n",
       "    .dataframe thead th {\n",
       "        text-align: right;\n",
       "    }\n",
       "</style>\n",
       "<table border=\"1\" class=\"dataframe\">\n",
       "  <thead>\n",
       "    <tr style=\"text-align: right;\">\n",
       "      <th></th>\n",
       "      <th>actual</th>\n",
       "      <th>predicted</th>\n",
       "      <th>APT</th>\n",
       "      <th>Core</th>\n",
       "      <th>Debug</th>\n",
       "      <th>Doc</th>\n",
       "      <th>Text</th>\n",
       "      <th>UI</th>\n",
       "    </tr>\n",
       "  </thead>\n",
       "  <tbody>\n",
       "    <tr>\n",
       "      <th>63</th>\n",
       "      <td>Text</td>\n",
       "      <td>Text</td>\n",
       "      <td>0.005743</td>\n",
       "      <td>0.111334</td>\n",
       "      <td>0.009894</td>\n",
       "      <td>0.004633</td>\n",
       "      <td>0.694708</td>\n",
       "      <td>0.173688</td>\n",
       "    </tr>\n",
       "    <tr>\n",
       "      <th>126</th>\n",
       "      <td>UI</td>\n",
       "      <td>UI</td>\n",
       "      <td>0.003290</td>\n",
       "      <td>0.263204</td>\n",
       "      <td>0.010302</td>\n",
       "      <td>0.000925</td>\n",
       "      <td>0.033111</td>\n",
       "      <td>0.689167</td>\n",
       "    </tr>\n",
       "    <tr>\n",
       "      <th>219</th>\n",
       "      <td>Debug</td>\n",
       "      <td>Debug</td>\n",
       "      <td>0.000992</td>\n",
       "      <td>0.001132</td>\n",
       "      <td>0.991699</td>\n",
       "      <td>0.003557</td>\n",
       "      <td>0.001699</td>\n",
       "      <td>0.000922</td>\n",
       "    </tr>\n",
       "    <tr>\n",
       "      <th>266</th>\n",
       "      <td>UI</td>\n",
       "      <td>UI</td>\n",
       "      <td>0.003899</td>\n",
       "      <td>0.410871</td>\n",
       "      <td>0.074245</td>\n",
       "      <td>0.000936</td>\n",
       "      <td>0.028525</td>\n",
       "      <td>0.481525</td>\n",
       "    </tr>\n",
       "    <tr>\n",
       "      <th>743</th>\n",
       "      <td>Debug</td>\n",
       "      <td>Debug</td>\n",
       "      <td>0.001454</td>\n",
       "      <td>0.004087</td>\n",
       "      <td>0.985459</td>\n",
       "      <td>0.000171</td>\n",
       "      <td>0.002402</td>\n",
       "      <td>0.006428</td>\n",
       "    </tr>\n",
       "  </tbody>\n",
       "</table>\n",
       "</div>"
      ],
      "text/plain": [
       "    actual predicted       APT      Core     Debug       Doc      Text  \\\n",
       "63    Text      Text  0.005743  0.111334  0.009894  0.004633  0.694708   \n",
       "126     UI        UI  0.003290  0.263204  0.010302  0.000925  0.033111   \n",
       "219  Debug     Debug  0.000992  0.001132  0.991699  0.003557  0.001699   \n",
       "266     UI        UI  0.003899  0.410871  0.074245  0.000936  0.028525   \n",
       "743  Debug     Debug  0.001454  0.004087  0.985459  0.000171  0.002402   \n",
       "\n",
       "           UI  \n",
       "63   0.173688  \n",
       "126  0.689167  \n",
       "219  0.000922  \n",
       "266  0.481525  \n",
       "743  0.006428  "
      ]
     },
     "execution_count": 24,
     "metadata": {},
     "output_type": "execute_result"
    }
   ],
   "source": [
    "er[[\"actual\", \"predicted\"] + class_names].sample(5, random_state=99)"
   ]
  },
  {
   "cell_type": "markdown",
   "metadata": {
    "id": "0bIl6rDaC5wl"
   },
   "source": [
    "Build two DataFrames, one with correct and another with wrong predictions. Next, analyze the distribution of the highest probability and see whether there are any differences. "
   ]
  },
  {
   "cell_type": "code",
   "execution_count": 25,
   "metadata": {
    "id": "RyMF2nZpaRuH"
   },
   "outputs": [],
   "source": [
    "er['max_probability'] = er[class_names].max(axis=1)\n",
    "correct = (er[er['actual'] == er['predicted']])\n",
    "wrong   = (er[er['actual'] != er['predicted']])"
   ]
  },
  {
   "cell_type": "markdown",
   "metadata": {
    "id": "BlNU7caPC5wl"
   },
   "source": [
    "Plot as a histogram.\n",
    "\n",
    "In the case of correct predictions, the model often decided with high probabilities. "
   ]
  },
  {
   "cell_type": "code",
   "execution_count": 26,
   "metadata": {
    "colab": {
     "base_uri": "https://localhost:8080/",
     "height": 281
    },
    "id": "dUMsyo0KaRuI",
    "outputId": "8f54ec07-e985-4034-f699-b52d26ccbed9"
   },
   "outputs": [
    {
     "data": {
      "image/png": "[encoded data removed]",
      "text/plain": [
       "<Figure size 640x480 with 1 Axes>"
      ]
     },
     "metadata": {},
     "output_type": "display_data"
    }
   ],
   "source": [
    "import matplotlib.pyplot as plt\n",
    "correct[\"max_probability\"].plot.hist(title=\"Correct\")\n",
    "plt.show()"
   ]
  },
  {
   "cell_type": "markdown",
   "metadata": {
    "id": "exxTLJZPC5wm"
   },
   "source": [
    "---\n",
    "In the case of wrong predictions, the model decided with much lower probabilities. "
   ]
  },
  {
   "cell_type": "code",
   "execution_count": 27,
   "metadata": {
    "colab": {
     "base_uri": "https://localhost:8080/",
     "height": 281
    },
    "id": "xN3QiqHMaRuI",
    "outputId": "8a2a8aa8-5764-4687-8d78-909de3c904a7",
    "scrolled": true
   },
   "outputs": [
    {
     "data": {
      "image/png": "[encoded data removed]",
      "text/plain": [
       "<Figure size 640x480 with 1 Axes>"
      ]
     },
     "metadata": {},
     "output_type": "display_data"
    }
   ],
   "source": [
    "wrong[\"max_probability\"].plot.hist(title=\"Wrong\")\n",
    "plt.show()"
   ]
  },
  {
   "cell_type": "code",
   "execution_count": 28,
   "metadata": {
    "colab": {
     "base_uri": "https://localhost:8080/"
    },
    "id": "htd0FT_JaRuJ",
    "outputId": "dd706401-0d1e-4358-d803-8b71f9242d8a"
   },
   "outputs": [
    {
     "data": {
      "text/plain": [
       "677"
      ]
     },
     "execution_count": 28,
     "metadata": {},
     "output_type": "execute_result"
    }
   ],
   "source": [
    "len(correct)"
   ]
  },
  {
   "cell_type": "code",
   "execution_count": 29,
   "metadata": {
    "colab": {
     "base_uri": "https://localhost:8080/"
    },
    "id": "J3zwl9_9aRuJ",
    "outputId": "5946ea98-337e-4a98-b987-98b1731929f7"
   },
   "outputs": [
    {
     "data": {
      "text/plain": [
       "229"
      ]
     },
     "execution_count": 29,
     "metadata": {},
     "output_type": "execute_result"
    }
   ],
   "source": [
    "len(wrong)"
   ]
  },
  {
   "cell_type": "markdown",
   "metadata": {
    "id": "SMwf6NRVC5wo"
   },
   "source": [
    "---\n",
    "Check whether we can improve the results if we only consider decisions that have been made with a probability of more than 80%. "
   ]
  },
  {
   "cell_type": "code",
   "execution_count": 30,
   "metadata": {
    "id": "4YajtqavaRuK"
   },
   "outputs": [],
   "source": [
    "high = er[er[\"max_probability\"] > 0.8]"
   ]
  },
  {
   "cell_type": "code",
   "execution_count": 31,
   "metadata": {
    "colab": {
     "base_uri": "https://localhost:8080/"
    },
    "id": "DRpQ0UzzaRuK",
    "outputId": "90fbf370-585b-4424-802d-f1017b0db3a0"
   },
   "outputs": [
    {
     "data": {
      "text/plain": [
       "394"
      ]
     },
     "execution_count": 31,
     "metadata": {},
     "output_type": "execute_result"
    }
   ],
   "source": [
    "len(high)"
   ]
  },
  {
   "cell_type": "markdown",
   "metadata": {
    "id": "6t7H0PRlC5wo"
   },
   "source": [
    "Updated results."
   ]
  },
  {
   "cell_type": "code",
   "execution_count": 32,
   "metadata": {
    "colab": {
     "base_uri": "https://localhost:8080/"
    },
    "id": "S_Qe1TidaRuL",
    "outputId": "bfb9d638-eae9-45d5-be9e-18de218a3294"
   },
   "outputs": [
    {
     "name": "stdout",
     "output_type": "stream",
     "text": [
      "              precision    recall  f1-score   support\n",
      "\n",
      "         APT       0.50      0.50      0.50         2\n",
      "        Core       0.95      0.91      0.93       117\n",
      "       Debug       0.94      1.00      0.97        97\n",
      "         Doc       0.50      0.33      0.40         3\n",
      "        Text       0.92      0.76      0.83        29\n",
      "          UI       0.91      0.94      0.92       146\n",
      "\n",
      "    accuracy                           0.92       394\n",
      "   macro avg       0.79      0.74      0.76       394\n",
      "weighted avg       0.92      0.92      0.92       394\n",
      "\n"
     ]
    }
   ],
   "source": [
    "print(classification_report(high[\"actual\"], high[\"predicted\"]))"
   ]
  },
  {
   "cell_type": "markdown",
   "metadata": {
    "id": "qcTfLXnvC5wp"
   },
   "source": [
    "Original results."
   ]
  },
  {
   "cell_type": "code",
   "execution_count": 33,
   "metadata": {
    "colab": {
     "base_uri": "https://localhost:8080/"
    },
    "id": "umrCG_C4aRuM",
    "outputId": "5fc9c29f-b693-44d8-ce08-81cc05c8920e"
   },
   "outputs": [
    {
     "name": "stdout",
     "output_type": "stream",
     "text": [
      "              precision    recall  f1-score   support\n",
      "\n",
      "         APT       0.75      0.43      0.55         7\n",
      "        Core       0.76      0.77      0.76       272\n",
      "       Debug       0.91      0.80      0.85       149\n",
      "         Doc       0.50      0.17      0.25         6\n",
      "        Text       0.66      0.49      0.56       119\n",
      "          UI       0.71      0.81      0.76       353\n",
      "\n",
      "    accuracy                           0.75       906\n",
      "   macro avg       0.71      0.58      0.62       906\n",
      "weighted avg       0.75      0.75      0.74       906\n",
      "\n"
     ]
    }
   ],
   "source": [
    "print(classification_report(er[\"actual\"], er[\"predicted\"]))"
   ]
  },
  {
   "cell_type": "markdown",
   "metadata": {
    "id": "kBpmqDIMC5wq"
   },
   "source": [
    "We have improved the precision for predicting the components Core, Debug, Text and UI, while also increasing the recall. \n",
    "\n",
    "However, in the components with few samples (Apt, Doc), the result has actually only improved the recall. It seems that there are just too few samples in these categories, and the algorithm has too little information to decide based on the text. In the case of Doc, we just removed most of the documents belonging to this class and so increased the recall."
   ]
  },
  {
   "cell_type": "markdown",
   "metadata": {
    "id": "As6pw15FaRuM"
   },
   "source": [
    "---\n",
    "<a name='7.2'></a><a id='7.2'></a>\n",
    "# 7.2 Blueprint: Measuring Feature Importance of Predictive Models\n",
    "<a href=\"#top\">[back to top]</a>\n",
    "\n",
    "Here we want to find out which features were relevant for the model to find the correct class.  \n",
    "\n",
    "Our SVM class can tell us the necessary parameters (called coefficients) via `svc.coef_`."
   ]
  },
  {
   "cell_type": "code",
   "execution_count": 34,
   "metadata": {
    "colab": {
     "base_uri": "https://localhost:8080/"
    },
    "id": "jAm0qmxwaRuM",
    "outputId": "eb15f6e2-40dd-4410-fa7b-fecab58c3830"
   },
   "outputs": [
    {
     "data": {
      "text/plain": [
       "<Compressed Sparse Row sparse matrix of dtype 'float64'\n",
       "\twith 34512 stored elements and shape (15, 3370)>"
      ]
     },
     "execution_count": 34,
     "metadata": {},
     "output_type": "execute_result"
    }
   ],
   "source": [
    "svc.coef_"
   ]
  },
  {
   "cell_type": "code",
   "execution_count": 35,
   "metadata": {},
   "outputs": [
    {
     "data": {
      "text/plain": [
       "<Compressed Sparse Row sparse matrix of dtype 'float64'\n",
       "\twith 3327 stored elements and shape (1, 3370)>"
      ]
     },
     "execution_count": 35,
     "metadata": {},
     "output_type": "execute_result"
    }
   ],
   "source": [
    "svc.coef_[8]"
   ]
  },
  {
   "cell_type": "markdown",
   "metadata": {
    "id": "YhWgn-0oC5ws"
   },
   "source": [
    "The rows should be read first, so if we want to find out how the model distinguishes APT from Core, we should take index 0 of the coefficients. However, we are more interested in the difference of Core and UI, so we take index 8. In the first step, we sort the coefficients by their values and keep the indices, which are the vocabulary positions."
   ]
  },
  {
   "cell_type": "code",
   "execution_count": 36,
   "metadata": {
    "id": "X74n-mO1aRuN"
   },
   "outputs": [
    {
     "data": {
      "text/plain": [
       "array(['00', '0010', '01', ..., 'youre', 'zero', 'zip'], dtype=object)"
      ]
     },
     "execution_count": 36,
     "metadata": {},
     "output_type": "execute_result"
    }
   ],
   "source": [
    "# .A attribute doesn't exist for csr_matrix objects\n",
    "# coef_[1] yields a matrix, A[0] converts to array and takes first row\n",
    "# coef = svc.coef_[8].A[0]\n",
    "coef = svc.coef_[8].toarray()[0]\n",
    "\n",
    "vocabulary_positions = coef.argsort()\n",
    "vocabulary = tfidf.get_feature_names_out()\n",
    "vocabulary"
   ]
  },
  {
   "cell_type": "markdown",
   "metadata": {
    "id": "ieaUPe1oC5ws"
   },
   "source": [
    "Take the top positive and negative contributions. "
   ]
  },
  {
   "cell_type": "code",
   "execution_count": 37,
   "metadata": {
    "id": "-b1cl2oFaRuN"
   },
   "outputs": [
    {
     "data": {
      "text/plain": [
       "[2448, 3095, 2707, 1727, 1145, 2404, 2515, 3282, 1565, 853]"
      ]
     },
     "execution_count": 37,
     "metadata": {},
     "output_type": "execute_result"
    }
   ],
   "source": [
    "top_words = 10\n",
    "top_positive_coef = vocabulary_positions[-top_words:].tolist()\n",
    "top_negative_coef = vocabulary_positions[:top_words].tolist()\n",
    "\n",
    "top_negative_coef"
   ]
  },
  {
   "cell_type": "markdown",
   "metadata": {
    "id": "p4Rry4tOC5wt"
   },
   "source": [
    "Aggregate this to a DataFrame to make it easier to display the results."
   ]
  },
  {
   "cell_type": "code",
   "execution_count": 38,
   "metadata": {
    "id": "-Vwg4I8GaRuN"
   },
   "outputs": [
    {
     "data": {
      "text/html": [
       "<div>\n",
       "<style scoped>\n",
       "    .dataframe tbody tr th:only-of-type {\n",
       "        vertical-align: middle;\n",
       "    }\n",
       "\n",
       "    .dataframe tbody tr th {\n",
       "        vertical-align: top;\n",
       "    }\n",
       "\n",
       "    .dataframe thead th {\n",
       "        text-align: right;\n",
       "    }\n",
       "</style>\n",
       "<table border=\"1\" class=\"dataframe\">\n",
       "  <thead>\n",
       "    <tr style=\"text-align: right;\">\n",
       "      <th></th>\n",
       "      <th>feature</th>\n",
       "      <th>coefficient</th>\n",
       "    </tr>\n",
       "  </thead>\n",
       "  <tbody>\n",
       "    <tr>\n",
       "      <th>10</th>\n",
       "      <td>refactoring</td>\n",
       "      <td>-2.951631</td>\n",
       "    </tr>\n",
       "    <tr>\n",
       "      <th>11</th>\n",
       "      <td>ui</td>\n",
       "      <td>-2.902739</td>\n",
       "    </tr>\n",
       "    <tr>\n",
       "      <th>12</th>\n",
       "      <td>select</td>\n",
       "      <td>-2.897824</td>\n",
       "    </tr>\n",
       "    <tr>\n",
       "      <th>13</th>\n",
       "      <td>junit</td>\n",
       "      <td>-2.495543</td>\n",
       "    </tr>\n",
       "    <tr>\n",
       "      <th>14</th>\n",
       "      <td>extract</td>\n",
       "      <td>-2.212702</td>\n",
       "    </tr>\n",
       "    <tr>\n",
       "      <th>15</th>\n",
       "      <td>quick</td>\n",
       "      <td>-2.101968</td>\n",
       "    </tr>\n",
       "    <tr>\n",
       "      <th>16</th>\n",
       "      <td>rename</td>\n",
       "      <td>-2.022279</td>\n",
       "    </tr>\n",
       "    <tr>\n",
       "      <th>17</th>\n",
       "      <td>wizard</td>\n",
       "      <td>-1.822809</td>\n",
       "    </tr>\n",
       "    <tr>\n",
       "      <th>18</th>\n",
       "      <td>internal ui</td>\n",
       "      <td>-1.711194</td>\n",
       "    </tr>\n",
       "    <tr>\n",
       "      <th>19</th>\n",
       "      <td>dialog</td>\n",
       "      <td>-1.663208</td>\n",
       "    </tr>\n",
       "    <tr>\n",
       "      <th>0</th>\n",
       "      <td>behavior</td>\n",
       "      <td>1.680196</td>\n",
       "    </tr>\n",
       "    <tr>\n",
       "      <th>1</th>\n",
       "      <td>bin</td>\n",
       "      <td>1.720529</td>\n",
       "    </tr>\n",
       "    <tr>\n",
       "      <th>2</th>\n",
       "      <td>javac</td>\n",
       "      <td>1.752767</td>\n",
       "    </tr>\n",
       "    <tr>\n",
       "      <th>3</th>\n",
       "      <td>internal core</td>\n",
       "      <td>1.780938</td>\n",
       "    </tr>\n",
       "    <tr>\n",
       "      <th>4</th>\n",
       "      <td>jdt core</td>\n",
       "      <td>1.897936</td>\n",
       "    </tr>\n",
       "    <tr>\n",
       "      <th>5</th>\n",
       "      <td>ast</td>\n",
       "      <td>1.970856</td>\n",
       "    </tr>\n",
       "    <tr>\n",
       "      <th>6</th>\n",
       "      <td>warnings</td>\n",
       "      <td>2.026740</td>\n",
       "    </tr>\n",
       "    <tr>\n",
       "      <th>7</th>\n",
       "      <td>core</td>\n",
       "      <td>2.211928</td>\n",
       "    </tr>\n",
       "    <tr>\n",
       "      <th>8</th>\n",
       "      <td>formatter</td>\n",
       "      <td>2.473289</td>\n",
       "    </tr>\n",
       "    <tr>\n",
       "      <th>9</th>\n",
       "      <td>compiler</td>\n",
       "      <td>2.612560</td>\n",
       "    </tr>\n",
       "  </tbody>\n",
       "</table>\n",
       "</div>"
      ],
      "text/plain": [
       "          feature  coefficient\n",
       "10    refactoring    -2.951631\n",
       "11             ui    -2.902739\n",
       "12         select    -2.897824\n",
       "13          junit    -2.495543\n",
       "14        extract    -2.212702\n",
       "15          quick    -2.101968\n",
       "16         rename    -2.022279\n",
       "17         wizard    -1.822809\n",
       "18    internal ui    -1.711194\n",
       "19         dialog    -1.663208\n",
       "0        behavior     1.680196\n",
       "1             bin     1.720529\n",
       "2           javac     1.752767\n",
       "3   internal core     1.780938\n",
       "4        jdt core     1.897936\n",
       "5             ast     1.970856\n",
       "6        warnings     2.026740\n",
       "7            core     2.211928\n",
       "8       formatter     2.473289\n",
       "9        compiler     2.612560"
      ]
     },
     "execution_count": 38,
     "metadata": {},
     "output_type": "execute_result"
    }
   ],
   "source": [
    "core_ui = pd.DataFrame([[vocabulary[c], coef[c]] for c in top_positive_coef + top_negative_coef], \n",
    "                          columns=[\"feature\", \"coefficient\"]).sort_values(\"coefficient\")\n",
    "\n",
    "core_ui"
   ]
  },
  {
   "cell_type": "markdown",
   "metadata": {
    "id": "Jlq6goDGC5wt"
   },
   "source": [
    "Visualize the contributions of the coefficients to make it easy to understand. "
   ]
  },
  {
   "cell_type": "code",
   "execution_count": 39,
   "metadata": {
    "colab": {
     "base_uri": "https://localhost:8080/",
     "height": 700
    },
    "id": "NHjHGd68aRuO",
    "outputId": "99096377-df1f-4066-f182-6b10c03cc3aa"
   },
   "outputs": [
    {
     "data": {
      "text/html": [
       "<div>\n",
       "<style scoped>\n",
       "    .dataframe tbody tr th:only-of-type {\n",
       "        vertical-align: middle;\n",
       "    }\n",
       "\n",
       "    .dataframe tbody tr th {\n",
       "        vertical-align: top;\n",
       "    }\n",
       "\n",
       "    .dataframe thead th {\n",
       "        text-align: right;\n",
       "    }\n",
       "</style>\n",
       "<table border=\"1\" class=\"dataframe\">\n",
       "  <thead>\n",
       "    <tr style=\"text-align: right;\">\n",
       "      <th></th>\n",
       "      <th>coefficient</th>\n",
       "    </tr>\n",
       "    <tr>\n",
       "      <th>feature</th>\n",
       "      <th></th>\n",
       "    </tr>\n",
       "  </thead>\n",
       "  <tbody>\n",
       "    <tr>\n",
       "      <th>refactoring</th>\n",
       "      <td>-2.951631</td>\n",
       "    </tr>\n",
       "    <tr>\n",
       "      <th>ui</th>\n",
       "      <td>-2.902739</td>\n",
       "    </tr>\n",
       "    <tr>\n",
       "      <th>select</th>\n",
       "      <td>-2.897824</td>\n",
       "    </tr>\n",
       "    <tr>\n",
       "      <th>junit</th>\n",
       "      <td>-2.495543</td>\n",
       "    </tr>\n",
       "    <tr>\n",
       "      <th>extract</th>\n",
       "      <td>-2.212702</td>\n",
       "    </tr>\n",
       "    <tr>\n",
       "      <th>quick</th>\n",
       "      <td>-2.101968</td>\n",
       "    </tr>\n",
       "    <tr>\n",
       "      <th>rename</th>\n",
       "      <td>-2.022279</td>\n",
       "    </tr>\n",
       "    <tr>\n",
       "      <th>wizard</th>\n",
       "      <td>-1.822809</td>\n",
       "    </tr>\n",
       "    <tr>\n",
       "      <th>internal ui</th>\n",
       "      <td>-1.711194</td>\n",
       "    </tr>\n",
       "    <tr>\n",
       "      <th>dialog</th>\n",
       "      <td>-1.663208</td>\n",
       "    </tr>\n",
       "    <tr>\n",
       "      <th>behavior</th>\n",
       "      <td>1.680196</td>\n",
       "    </tr>\n",
       "    <tr>\n",
       "      <th>bin</th>\n",
       "      <td>1.720529</td>\n",
       "    </tr>\n",
       "    <tr>\n",
       "      <th>javac</th>\n",
       "      <td>1.752767</td>\n",
       "    </tr>\n",
       "    <tr>\n",
       "      <th>internal core</th>\n",
       "      <td>1.780938</td>\n",
       "    </tr>\n",
       "    <tr>\n",
       "      <th>jdt core</th>\n",
       "      <td>1.897936</td>\n",
       "    </tr>\n",
       "    <tr>\n",
       "      <th>ast</th>\n",
       "      <td>1.970856</td>\n",
       "    </tr>\n",
       "    <tr>\n",
       "      <th>warnings</th>\n",
       "      <td>2.026740</td>\n",
       "    </tr>\n",
       "    <tr>\n",
       "      <th>core</th>\n",
       "      <td>2.211928</td>\n",
       "    </tr>\n",
       "    <tr>\n",
       "      <th>formatter</th>\n",
       "      <td>2.473289</td>\n",
       "    </tr>\n",
       "    <tr>\n",
       "      <th>compiler</th>\n",
       "      <td>2.612560</td>\n",
       "    </tr>\n",
       "  </tbody>\n",
       "</table>\n",
       "</div>"
      ],
      "text/plain": [
       "               coefficient\n",
       "feature                   \n",
       "refactoring      -2.951631\n",
       "ui               -2.902739\n",
       "select           -2.897824\n",
       "junit            -2.495543\n",
       "extract          -2.212702\n",
       "quick            -2.101968\n",
       "rename           -2.022279\n",
       "wizard           -1.822809\n",
       "internal ui      -1.711194\n",
       "dialog           -1.663208\n",
       "behavior          1.680196\n",
       "bin               1.720529\n",
       "javac             1.752767\n",
       "internal core     1.780938\n",
       "jdt core          1.897936\n",
       "ast               1.970856\n",
       "warnings          2.026740\n",
       "core              2.211928\n",
       "formatter         2.473289\n",
       "compiler          2.612560"
      ]
     },
     "execution_count": 39,
     "metadata": {},
     "output_type": "execute_result"
    }
   ],
   "source": [
    "core_ui.set_index(\"feature\")"
   ]
  },
  {
   "cell_type": "code",
   "execution_count": 40,
   "metadata": {
    "colab": {
     "base_uri": "https://localhost:8080/"
    },
    "id": "DHSWj7OeaRuO",
    "outputId": "e991391f-a7ff-4db8-9465-98c4d41d0eea"
   },
   "outputs": [
    {
     "data": {
      "text/plain": [
       "['r', 'r', 'r', 'r', 'r', 'r', 'r', 'r', 'r', 'r']"
      ]
     },
     "execution_count": 40,
     "metadata": {},
     "output_type": "execute_result"
    }
   ],
   "source": [
    "10*['r']"
   ]
  },
  {
   "cell_type": "code",
   "execution_count": 41,
   "metadata": {
    "colab": {
     "base_uri": "https://localhost:8080/"
    },
    "id": "kTvQd42RaRuO",
    "outputId": "97666337-031f-48f5-b08a-443f8cc938fc"
   },
   "outputs": [
    {
     "data": {
      "text/plain": [
       "Index(['coefficient'], dtype='object')"
      ]
     },
     "execution_count": 41,
     "metadata": {},
     "output_type": "execute_result"
    }
   ],
   "source": [
    "core_ui.set_index(\"feature\").columns"
   ]
  },
  {
   "cell_type": "markdown",
   "metadata": {
    "id": "jPcTVBJLC5wv"
   },
   "source": [
    "Positive values favor the Core component, and negative values prefer UI. To represent this, use this graph."
   ]
  },
  {
   "cell_type": "code",
   "execution_count": 42,
   "metadata": {
    "colab": {
     "base_uri": "https://localhost:8080/",
     "height": 265
    },
    "id": "8G_WhR-maRuP",
    "outputId": "9c680a8b-5760-427c-dc0a-ff10e49fa25e"
   },
   "outputs": [
    {
     "data": {
      "image/png": "[encoded data removed]",
      "text/plain": [
       "<Figure size 640x480 with 1 Axes>"
      ]
     },
     "metadata": {},
     "output_type": "display_data"
    }
   ],
   "source": [
    "#core_ui.set_index(\"feature\").plot.barh(color=[['red']*10 + ['green']*10])\n",
    "core_ui.set_index(\"feature\").plot.barh(color=['red'])\n",
    "plt.show()"
   ]
  },
  {
   "cell_type": "markdown",
   "metadata": {
    "id": "XqtSnZMaC5ww"
   },
   "source": [
    "We have just found the features that are important for the whole SVM model to choose between Core and UI. But this does not indicate which features are important to identify a bug that can be categorized as Core given any bug report. If we want to get these features for the Core component and consider the previous matrix, we need indices 5, 6, 7, and 8. With this strategy, we have ignored the difference between APT and Core. To take this into account, we need to subtract index 0."
   ]
  },
  {
   "cell_type": "code",
   "execution_count": 43,
   "metadata": {
    "id": "2tIe-iqBaRuP"
   },
   "outputs": [
    {
     "data": {
      "text/plain": [
       "array([ 792,  994, 3095, ..., 1696,  699,  593])"
      ]
     },
     "execution_count": 43,
     "metadata": {},
     "output_type": "execute_result"
    }
   ],
   "source": [
    "c = svc.coef_\n",
    "\n",
    "# coef = (c[5] + c[6] + c[7] + c[8] - c[0]).A[0]\n",
    "coef = (c[5] + c[6] + c[7] + c[8] - c[0]).toarray()[0]\n",
    "\n",
    "vocabulary_positions = coef.argsort()\n",
    "vocabulary_positions"
   ]
  },
  {
   "cell_type": "code",
   "execution_count": 44,
   "metadata": {
    "colab": {
     "base_uri": "https://localhost:8080/",
     "height": 592
    },
    "id": "K55Y6fJlaRuP",
    "outputId": "a54a8343-8d58-4714-b57d-d4922ce64eb0"
   },
   "outputs": [
    {
     "data": {
      "image/png": "[encoded data removed]",
      "text/plain": [
       "<Figure size 600x1000 with 1 Axes>"
      ]
     },
     "metadata": {},
     "output_type": "display_data"
    }
   ],
   "source": [
    "top_words = 20\n",
    "top_positive_coef = vocabulary_positions[-top_words:].tolist()\n",
    "top_negative_coef = vocabulary_positions[:top_words].tolist()\n",
    "core = pd.DataFrame([[vocabulary[c], coef[c]] for c in top_positive_coef + top_negative_coef], \n",
    "                       columns=[\"feature\", \"coefficient\"]).sort_values(\"coefficient\")\n",
    "\n",
    "#core.set_index(\"feature\").plot.barh(figsize=(6, 10), color=[['red']*top_words + ['green']*top_words])\n",
    "core.set_index(\"feature\").plot.barh(figsize=(6, 10))\n",
    "plt.show()"
   ]
  },
  {
   "cell_type": "markdown",
   "metadata": {
    "id": "yHJqb3LMC5wx"
   },
   "source": [
    "We  can use the methods described in this blueprint to make the results of the SVM model transparent and explainable. In many projects, this has proved to be valuable as it takes away the \"magic\" and the subjectivity of machine learning.\n",
    "\n",
    "This works quite well, but we do not yet know how sensitive the model is to changes in certain words. This is a more complicated question that we will try to answer in the next section."
   ]
  },
  {
   "cell_type": "markdown",
   "metadata": {
    "id": "JAGcLmg9C5wx"
   },
   "source": [
    "---\n",
    "<a name='7.3'></a><a id='7.3'></a>\n",
    "# 7.3 Blueprint: Using LIME to Explain the Classification Results\n",
    "<a href=\"#top\">[back to top]</a>\n",
    "\n",
    "\n",
    "[LIME](https://homes.cs.washington.edu/~marcotcr/blog/lime/) is an acronym for “Local Interpretable Model-Agnostic Explanations” and is a popular framework for explainable machine learning. It was conceived at the University of Washington and is publicly available on [GitHub](https://github.com/marcotcr/lime).\n",
    "\n",
    "It works locally by taking a look at each prediction separately. This is achieved by modifying the input vector to find the local components that the predictions are sensitive to.\n",
    "\n",
    "LIME does not depend on a specific machine learning model and can be applied to a multitude of problems. Not every model qualifies; the model needs to predict the probabilities of the categories.\n",
    "\n",
    "LIME wants text as input and classification probabilities as output, so we arrange the vectorizer and classifier in a pipeline."
   ]
  },
  {
   "cell_type": "code",
   "execution_count": 45,
   "metadata": {
    "id": "o5ccEfp_aRuQ"
   },
   "outputs": [
    {
     "data": {
      "text/html": [
       "<style>#sk-container-id-1 {\n",
       "  /* Definition of color scheme common for light and dark mode */\n",
       "  --sklearn-color-text: black;\n",
       "  --sklearn-color-line: gray;\n",
       "  /* Definition of color scheme for unfitted estimators */\n",
       "  --sklearn-color-unfitted-level-0: #fff5e6;\n",
       "  --sklearn-color-unfitted-level-1: #f6e4d2;\n",
       "  --sklearn-color-unfitted-level-2: #ffe0b3;\n",
       "  --sklearn-color-unfitted-level-3: chocolate;\n",
       "  /* Definition of color scheme for fitted estimators */\n",
       "  --sklearn-color-fitted-level-0: #f0f8ff;\n",
       "  --sklearn-color-fitted-level-1: #d4ebff;\n",
       "  --sklearn-color-fitted-level-2: #b3dbfd;\n",
       "  --sklearn-color-fitted-level-3: cornflowerblue;\n",
       "\n",
       "  /* Specific color for light theme */\n",
       "  --sklearn-color-text-on-default-background: var(--sg-text-color, var(--theme-code-foreground, var(--jp-content-font-color1, black)));\n",
       "  --sklearn-color-background: var(--sg-background-color, var(--theme-background, var(--jp-layout-color0, white)));\n",
       "  --sklearn-color-border-box: var(--sg-text-color, var(--theme-code-foreground, var(--jp-content-font-color1, black)));\n",
       "  --sklearn-color-icon: #696969;\n",
       "\n",
       "  @media (prefers-color-scheme: dark) {\n",
       "    /* Redefinition of color scheme for dark theme */\n",
       "    --sklearn-color-text-on-default-background: var(--sg-text-color, var(--theme-code-foreground, var(--jp-content-font-color1, white)));\n",
       "    --sklearn-color-background: var(--sg-background-color, var(--theme-background, var(--jp-layout-color0, #111)));\n",
       "    --sklearn-color-border-box: var(--sg-text-color, var(--theme-code-foreground, var(--jp-content-font-color1, white)));\n",
       "    --sklearn-color-icon: #878787;\n",
       "  }\n",
       "}\n",
       "\n",
       "#sk-container-id-1 {\n",
       "  color: var(--sklearn-color-text);\n",
       "}\n",
       "\n",
       "#sk-container-id-1 pre {\n",
       "  padding: 0;\n",
       "}\n",
       "\n",
       "#sk-container-id-1 input.sk-hidden--visually {\n",
       "  border: 0;\n",
       "  clip: rect(1px 1px 1px 1px);\n",
       "  clip: rect(1px, 1px, 1px, 1px);\n",
       "  height: 1px;\n",
       "  margin: -1px;\n",
       "  overflow: hidden;\n",
       "  padding: 0;\n",
       "  position: absolute;\n",
       "  width: 1px;\n",
       "}\n",
       "\n",
       "#sk-container-id-1 div.sk-dashed-wrapped {\n",
       "  border: 1px dashed var(--sklearn-color-line);\n",
       "  margin: 0 0.4em 0.5em 0.4em;\n",
       "  box-sizing: border-box;\n",
       "  padding-bottom: 0.4em;\n",
       "  background-color: var(--sklearn-color-background);\n",
       "}\n",
       "\n",
       "#sk-container-id-1 div.sk-container {\n",
       "  /* jupyter's `normalize.less` sets `[hidden] { display: none; }`\n",
       "     but bootstrap.min.css set `[hidden] { display: none !important; }`\n",
       "     so we also need the `!important` here to be able to override the\n",
       "     default hidden behavior on the sphinx rendered scikit-learn.org.\n",
       "     See: https://github.com/scikit-learn/scikit-learn/issues/21755 */\n",
       "  display: inline-block !important;\n",
       "  position: relative;\n",
       "}\n",
       "\n",
       "#sk-container-id-1 div.sk-text-repr-fallback {\n",
       "  display: none;\n",
       "}\n",
       "\n",
       "div.sk-parallel-item,\n",
       "div.sk-serial,\n",
       "div.sk-item {\n",
       "  /* draw centered vertical line to link estimators */\n",
       "  background-image: linear-gradient(var(--sklearn-color-text-on-default-background), var(--sklearn-color-text-on-default-background));\n",
       "  background-size: 2px 100%;\n",
       "  background-repeat: no-repeat;\n",
       "  background-position: center center;\n",
       "}\n",
       "\n",
       "/* Parallel-specific style estimator block */\n",
       "\n",
       "#sk-container-id-1 div.sk-parallel-item::after {\n",
       "  content: \"\";\n",
       "  width: 100%;\n",
       "  border-bottom: 2px solid var(--sklearn-color-text-on-default-background);\n",
       "  flex-grow: 1;\n",
       "}\n",
       "\n",
       "#sk-container-id-1 div.sk-parallel {\n",
       "  display: flex;\n",
       "  align-items: stretch;\n",
       "  justify-content: center;\n",
       "  background-color: var(--sklearn-color-background);\n",
       "  position: relative;\n",
       "}\n",
       "\n",
       "#sk-container-id-1 div.sk-parallel-item {\n",
       "  display: flex;\n",
       "  flex-direction: column;\n",
       "}\n",
       "\n",
       "#sk-container-id-1 div.sk-parallel-item:first-child::after {\n",
       "  align-self: flex-end;\n",
       "  width: 50%;\n",
       "}\n",
       "\n",
       "#sk-container-id-1 div.sk-parallel-item:last-child::after {\n",
       "  align-self: flex-start;\n",
       "  width: 50%;\n",
       "}\n",
       "\n",
       "#sk-container-id-1 div.sk-parallel-item:only-child::after {\n",
       "  width: 0;\n",
       "}\n",
       "\n",
       "/* Serial-specific style estimator block */\n",
       "\n",
       "#sk-container-id-1 div.sk-serial {\n",
       "  display: flex;\n",
       "  flex-direction: column;\n",
       "  align-items: center;\n",
       "  background-color: var(--sklearn-color-background);\n",
       "  padding-right: 1em;\n",
       "  padding-left: 1em;\n",
       "}\n",
       "\n",
       "\n",
       "/* Toggleable style: style used for estimator/Pipeline/ColumnTransformer box that is\n",
       "clickable and can be expanded/collapsed.\n",
       "- Pipeline and ColumnTransformer use this feature and define the default style\n",
       "- Estimators will overwrite some part of the style using the `sk-estimator` class\n",
       "*/\n",
       "\n",
       "/* Pipeline and ColumnTransformer style (default) */\n",
       "\n",
       "#sk-container-id-1 div.sk-toggleable {\n",
       "  /* Default theme specific background. It is overwritten whether we have a\n",
       "  specific estimator or a Pipeline/ColumnTransformer */\n",
       "  background-color: var(--sklearn-color-background);\n",
       "}\n",
       "\n",
       "/* Toggleable label */\n",
       "#sk-container-id-1 label.sk-toggleable__label {\n",
       "  cursor: pointer;\n",
       "  display: block;\n",
       "  width: 100%;\n",
       "  margin-bottom: 0;\n",
       "  padding: 0.5em;\n",
       "  box-sizing: border-box;\n",
       "  text-align: center;\n",
       "}\n",
       "\n",
       "#sk-container-id-1 label.sk-toggleable__label-arrow:before {\n",
       "  /* Arrow on the left of the label */\n",
       "  content: \"▸\";\n",
       "  float: left;\n",
       "  margin-right: 0.25em;\n",
       "  color: var(--sklearn-color-icon);\n",
       "}\n",
       "\n",
       "#sk-container-id-1 label.sk-toggleable__label-arrow:hover:before {\n",
       "  color: var(--sklearn-color-text);\n",
       "}\n",
       "\n",
       "/* Toggleable content - dropdown */\n",
       "\n",
       "#sk-container-id-1 div.sk-toggleable__content {\n",
       "  max-height: 0;\n",
       "  max-width: 0;\n",
       "  overflow: hidden;\n",
       "  text-align: left;\n",
       "  /* unfitted */\n",
       "  background-color: var(--sklearn-color-unfitted-level-0);\n",
       "}\n",
       "\n",
       "#sk-container-id-1 div.sk-toggleable__content.fitted {\n",
       "  /* fitted */\n",
       "  background-color: var(--sklearn-color-fitted-level-0);\n",
       "}\n",
       "\n",
       "#sk-container-id-1 div.sk-toggleable__content pre {\n",
       "  margin: 0.2em;\n",
       "  border-radius: 0.25em;\n",
       "  color: var(--sklearn-color-text);\n",
       "  /* unfitted */\n",
       "  background-color: var(--sklearn-color-unfitted-level-0);\n",
       "}\n",
       "\n",
       "#sk-container-id-1 div.sk-toggleable__content.fitted pre {\n",
       "  /* unfitted */\n",
       "  background-color: var(--sklearn-color-fitted-level-0);\n",
       "}\n",
       "\n",
       "#sk-container-id-1 input.sk-toggleable__control:checked~div.sk-toggleable__content {\n",
       "  /* Expand drop-down */\n",
       "  max-height: 200px;\n",
       "  max-width: 100%;\n",
       "  overflow: auto;\n",
       "}\n",
       "\n",
       "#sk-container-id-1 input.sk-toggleable__control:checked~label.sk-toggleable__label-arrow:before {\n",
       "  content: \"▾\";\n",
       "}\n",
       "\n",
       "/* Pipeline/ColumnTransformer-specific style */\n",
       "\n",
       "#sk-container-id-1 div.sk-label input.sk-toggleable__control:checked~label.sk-toggleable__label {\n",
       "  color: var(--sklearn-color-text);\n",
       "  background-color: var(--sklearn-color-unfitted-level-2);\n",
       "}\n",
       "\n",
       "#sk-container-id-1 div.sk-label.fitted input.sk-toggleable__control:checked~label.sk-toggleable__label {\n",
       "  background-color: var(--sklearn-color-fitted-level-2);\n",
       "}\n",
       "\n",
       "/* Estimator-specific style */\n",
       "\n",
       "/* Colorize estimator box */\n",
       "#sk-container-id-1 div.sk-estimator input.sk-toggleable__control:checked~label.sk-toggleable__label {\n",
       "  /* unfitted */\n",
       "  background-color: var(--sklearn-color-unfitted-level-2);\n",
       "}\n",
       "\n",
       "#sk-container-id-1 div.sk-estimator.fitted input.sk-toggleable__control:checked~label.sk-toggleable__label {\n",
       "  /* fitted */\n",
       "  background-color: var(--sklearn-color-fitted-level-2);\n",
       "}\n",
       "\n",
       "#sk-container-id-1 div.sk-label label.sk-toggleable__label,\n",
       "#sk-container-id-1 div.sk-label label {\n",
       "  /* The background is the default theme color */\n",
       "  color: var(--sklearn-color-text-on-default-background);\n",
       "}\n",
       "\n",
       "/* On hover, darken the color of the background */\n",
       "#sk-container-id-1 div.sk-label:hover label.sk-toggleable__label {\n",
       "  color: var(--sklearn-color-text);\n",
       "  background-color: var(--sklearn-color-unfitted-level-2);\n",
       "}\n",
       "\n",
       "/* Label box, darken color on hover, fitted */\n",
       "#sk-container-id-1 div.sk-label.fitted:hover label.sk-toggleable__label.fitted {\n",
       "  color: var(--sklearn-color-text);\n",
       "  background-color: var(--sklearn-color-fitted-level-2);\n",
       "}\n",
       "\n",
       "/* Estimator label */\n",
       "\n",
       "#sk-container-id-1 div.sk-label label {\n",
       "  font-family: monospace;\n",
       "  font-weight: bold;\n",
       "  display: inline-block;\n",
       "  line-height: 1.2em;\n",
       "}\n",
       "\n",
       "#sk-container-id-1 div.sk-label-container {\n",
       "  text-align: center;\n",
       "}\n",
       "\n",
       "/* Estimator-specific */\n",
       "#sk-container-id-1 div.sk-estimator {\n",
       "  font-family: monospace;\n",
       "  border: 1px dotted var(--sklearn-color-border-box);\n",
       "  border-radius: 0.25em;\n",
       "  box-sizing: border-box;\n",
       "  margin-bottom: 0.5em;\n",
       "  /* unfitted */\n",
       "  background-color: var(--sklearn-color-unfitted-level-0);\n",
       "}\n",
       "\n",
       "#sk-container-id-1 div.sk-estimator.fitted {\n",
       "  /* fitted */\n",
       "  background-color: var(--sklearn-color-fitted-level-0);\n",
       "}\n",
       "\n",
       "/* on hover */\n",
       "#sk-container-id-1 div.sk-estimator:hover {\n",
       "  /* unfitted */\n",
       "  background-color: var(--sklearn-color-unfitted-level-2);\n",
       "}\n",
       "\n",
       "#sk-container-id-1 div.sk-estimator.fitted:hover {\n",
       "  /* fitted */\n",
       "  background-color: var(--sklearn-color-fitted-level-2);\n",
       "}\n",
       "\n",
       "/* Specification for estimator info (e.g. \"i\" and \"?\") */\n",
       "\n",
       "/* Common style for \"i\" and \"?\" */\n",
       "\n",
       ".sk-estimator-doc-link,\n",
       "a:link.sk-estimator-doc-link,\n",
       "a:visited.sk-estimator-doc-link {\n",
       "  float: right;\n",
       "  font-size: smaller;\n",
       "  line-height: 1em;\n",
       "  font-family: monospace;\n",
       "  background-color: var(--sklearn-color-background);\n",
       "  border-radius: 1em;\n",
       "  height: 1em;\n",
       "  width: 1em;\n",
       "  text-decoration: none !important;\n",
       "  margin-left: 1ex;\n",
       "  /* unfitted */\n",
       "  border: var(--sklearn-color-unfitted-level-1) 1pt solid;\n",
       "  color: var(--sklearn-color-unfitted-level-1);\n",
       "}\n",
       "\n",
       ".sk-estimator-doc-link.fitted,\n",
       "a:link.sk-estimator-doc-link.fitted,\n",
       "a:visited.sk-estimator-doc-link.fitted {\n",
       "  /* fitted */\n",
       "  border: var(--sklearn-color-fitted-level-1) 1pt solid;\n",
       "  color: var(--sklearn-color-fitted-level-1);\n",
       "}\n",
       "\n",
       "/* On hover */\n",
       "div.sk-estimator:hover .sk-estimator-doc-link:hover,\n",
       ".sk-estimator-doc-link:hover,\n",
       "div.sk-label-container:hover .sk-estimator-doc-link:hover,\n",
       ".sk-estimator-doc-link:hover {\n",
       "  /* unfitted */\n",
       "  background-color: var(--sklearn-color-unfitted-level-3);\n",
       "  color: var(--sklearn-color-background);\n",
       "  text-decoration: none;\n",
       "}\n",
       "\n",
       "div.sk-estimator.fitted:hover .sk-estimator-doc-link.fitted:hover,\n",
       ".sk-estimator-doc-link.fitted:hover,\n",
       "div.sk-label-container:hover .sk-estimator-doc-link.fitted:hover,\n",
       ".sk-estimator-doc-link.fitted:hover {\n",
       "  /* fitted */\n",
       "  background-color: var(--sklearn-color-fitted-level-3);\n",
       "  color: var(--sklearn-color-background);\n",
       "  text-decoration: none;\n",
       "}\n",
       "\n",
       "/* Span, style for the box shown on hovering the info icon */\n",
       ".sk-estimator-doc-link span {\n",
       "  display: none;\n",
       "  z-index: 9999;\n",
       "  position: relative;\n",
       "  font-weight: normal;\n",
       "  right: .2ex;\n",
       "  padding: .5ex;\n",
       "  margin: .5ex;\n",
       "  width: min-content;\n",
       "  min-width: 20ex;\n",
       "  max-width: 50ex;\n",
       "  color: var(--sklearn-color-text);\n",
       "  box-shadow: 2pt 2pt 4pt #999;\n",
       "  /* unfitted */\n",
       "  background: var(--sklearn-color-unfitted-level-0);\n",
       "  border: .5pt solid var(--sklearn-color-unfitted-level-3);\n",
       "}\n",
       "\n",
       ".sk-estimator-doc-link.fitted span {\n",
       "  /* fitted */\n",
       "  background: var(--sklearn-color-fitted-level-0);\n",
       "  border: var(--sklearn-color-fitted-level-3);\n",
       "}\n",
       "\n",
       ".sk-estimator-doc-link:hover span {\n",
       "  display: block;\n",
       "}\n",
       "\n",
       "/* \"?\"-specific style due to the `<a>` HTML tag */\n",
       "\n",
       "#sk-container-id-1 a.estimator_doc_link {\n",
       "  float: right;\n",
       "  font-size: 1rem;\n",
       "  line-height: 1em;\n",
       "  font-family: monospace;\n",
       "  background-color: var(--sklearn-color-background);\n",
       "  border-radius: 1rem;\n",
       "  height: 1rem;\n",
       "  width: 1rem;\n",
       "  text-decoration: none;\n",
       "  /* unfitted */\n",
       "  color: var(--sklearn-color-unfitted-level-1);\n",
       "  border: var(--sklearn-color-unfitted-level-1) 1pt solid;\n",
       "}\n",
       "\n",
       "#sk-container-id-1 a.estimator_doc_link.fitted {\n",
       "  /* fitted */\n",
       "  border: var(--sklearn-color-fitted-level-1) 1pt solid;\n",
       "  color: var(--sklearn-color-fitted-level-1);\n",
       "}\n",
       "\n",
       "/* On hover */\n",
       "#sk-container-id-1 a.estimator_doc_link:hover {\n",
       "  /* unfitted */\n",
       "  background-color: var(--sklearn-color-unfitted-level-3);\n",
       "  color: var(--sklearn-color-background);\n",
       "  text-decoration: none;\n",
       "}\n",
       "\n",
       "#sk-container-id-1 a.estimator_doc_link.fitted:hover {\n",
       "  /* fitted */\n",
       "  background-color: var(--sklearn-color-fitted-level-3);\n",
       "}\n",
       "</style><div id=\"sk-container-id-1\" class=\"sk-top-container\"><div class=\"sk-text-repr-fallback\"><pre>Pipeline(steps=[(&#x27;tfidfvectorizer&#x27;,\n",
       "                 TfidfVectorizer(min_df=10, ngram_range=(1, 2),\n",
       "                                 stop_words=&#x27;english&#x27;)),\n",
       "                (&#x27;svc&#x27;,\n",
       "                 SVC(C=1, kernel=&#x27;linear&#x27;, probability=True, random_state=42))])</pre><b>In a Jupyter environment, please rerun this cell to show the HTML representation or trust the notebook. <br />On GitHub, the HTML representation is unable to render, please try loading this page with nbviewer.org.</b></div><div class=\"sk-container\" hidden><div class=\"sk-item sk-dashed-wrapped\"><div class=\"sk-label-container\"><div class=\"sk-label fitted sk-toggleable\"><input class=\"sk-toggleable__control sk-hidden--visually\" id=\"sk-estimator-id-1\" type=\"checkbox\" ><label for=\"sk-estimator-id-1\" class=\"sk-toggleable__label fitted sk-toggleable__label-arrow fitted\">&nbsp;&nbsp;Pipeline<a class=\"sk-estimator-doc-link fitted\" rel=\"noreferrer\" target=\"_blank\" href=\"https://scikit-learn.org/1.5/modules/generated/sklearn.pipeline.Pipeline.html\">?<span>Documentation for Pipeline</span></a><span class=\"sk-estimator-doc-link fitted\">i<span>Fitted</span></span></label><div class=\"sk-toggleable__content fitted\"><pre>Pipeline(steps=[(&#x27;tfidfvectorizer&#x27;,\n",
       "                 TfidfVectorizer(min_df=10, ngram_range=(1, 2),\n",
       "                                 stop_words=&#x27;english&#x27;)),\n",
       "                (&#x27;svc&#x27;,\n",
       "                 SVC(C=1, kernel=&#x27;linear&#x27;, probability=True, random_state=42))])</pre></div> </div></div><div class=\"sk-serial\"><div class=\"sk-item\"><div class=\"sk-estimator fitted sk-toggleable\"><input class=\"sk-toggleable__control sk-hidden--visually\" id=\"sk-estimator-id-2\" type=\"checkbox\" ><label for=\"sk-estimator-id-2\" class=\"sk-toggleable__label fitted sk-toggleable__label-arrow fitted\">&nbsp;TfidfVectorizer<a class=\"sk-estimator-doc-link fitted\" rel=\"noreferrer\" target=\"_blank\" href=\"https://scikit-learn.org/1.5/modules/generated/sklearn.feature_extraction.text.TfidfVectorizer.html\">?<span>Documentation for TfidfVectorizer</span></a></label><div class=\"sk-toggleable__content fitted\"><pre>TfidfVectorizer(min_df=10, ngram_range=(1, 2), stop_words=&#x27;english&#x27;)</pre></div> </div></div><div class=\"sk-item\"><div class=\"sk-estimator fitted sk-toggleable\"><input class=\"sk-toggleable__control sk-hidden--visually\" id=\"sk-estimator-id-3\" type=\"checkbox\" ><label for=\"sk-estimator-id-3\" class=\"sk-toggleable__label fitted sk-toggleable__label-arrow fitted\">&nbsp;SVC<a class=\"sk-estimator-doc-link fitted\" rel=\"noreferrer\" target=\"_blank\" href=\"https://scikit-learn.org/1.5/modules/generated/sklearn.svm.SVC.html\">?<span>Documentation for SVC</span></a></label><div class=\"sk-toggleable__content fitted\"><pre>SVC(C=1, kernel=&#x27;linear&#x27;, probability=True, random_state=42)</pre></div> </div></div></div></div></div></div>"
      ],
      "text/plain": [
       "Pipeline(steps=[('tfidfvectorizer',\n",
       "                 TfidfVectorizer(min_df=10, ngram_range=(1, 2),\n",
       "                                 stop_words='english')),\n",
       "                ('svc',\n",
       "                 SVC(C=1, kernel='linear', probability=True, random_state=42))])"
      ]
     },
     "execution_count": 45,
     "metadata": {},
     "output_type": "execute_result"
    }
   ],
   "source": [
    "pipeline = make_pipeline(tfidf, svc)\n",
    "pipeline"
   ]
  },
  {
   "cell_type": "markdown",
   "metadata": {
    "id": "FLMP4JGcC5wx"
   },
   "source": [
    "The pipeline should be able to make predictions if we give it some text."
   ]
  },
  {
   "cell_type": "code",
   "execution_count": 46,
   "metadata": {
    "id": "nPY-yB7-aRuQ"
   },
   "outputs": [
    {
     "data": {
      "text/plain": [
       "array([[6.01091225e-03, 9.18666301e-01, 1.01700374e-02, 4.12318693e-04,\n",
       "        1.31560366e-02, 5.15843937e-02]])"
      ]
     },
     "execution_count": 46,
     "metadata": {},
     "output_type": "execute_result"
    }
   ],
   "source": [
    "proba = pipeline.predict_proba([\"compiler not working\"])\n",
    "proba"
   ]
  },
  {
   "cell_type": "code",
   "execution_count": 47,
   "metadata": {
    "colab": {
     "base_uri": "https://localhost:8080/"
    },
    "id": "Fqx7YNBmC5wy",
    "outputId": "ee26c596-2378-46c9-c5ca-14d5f985b731"
   },
   "outputs": [
    {
     "name": "stdout",
     "output_type": "stream",
     "text": [
      "0.006 APT\n",
      "0.919 Core\n",
      "0.010 Debug\n",
      "0.000 Doc\n",
      "0.013 Text\n",
      "0.052 UI\n"
     ]
    }
   ],
   "source": [
    "for i, x in enumerate(proba[0]):\n",
    "    print(f\"{x:.3f} {class_names[i]}\")"
   ]
  },
  {
   "cell_type": "markdown",
   "metadata": {
    "id": "1HCFRwYgC5wy"
   },
   "source": [
    "The classifier suggests with very high probability to put this in class 2, which is Core."
   ]
  },
  {
   "cell_type": "code",
   "execution_count": 48,
   "metadata": {
    "colab": {
     "base_uri": "https://localhost:8080/"
    },
    "id": "mPEBg8XfC5wy",
    "outputId": "22a541cf-993b-4282-bdd1-c93be6f0f6bd"
   },
   "outputs": [
    {
     "name": "stdout",
     "output_type": "stream",
     "text": [
      "Core: 0.9186663014007419\n"
     ]
    }
   ],
   "source": [
    "print(f\"{class_names[np.argmax(proba)]}: {np.max(proba)}\")"
   ]
  },
  {
   "cell_type": "markdown",
   "metadata": {
    "id": "MR4Ta6V1C5wy"
   },
   "source": [
    "### Using LIME\n",
    "\n",
    "Create an explainer, which is one of the central elements of LIME and is responsible for explaining individual predictions.\n",
    "\n",
    "This explains text classifiers. Currently, we are using an exponential kernel on cosine distance, and restricting explanations to words that are present in documents."
   ]
  },
  {
   "cell_type": "code",
   "execution_count": 49,
   "metadata": {
    "id": "26kY4ed8aRuR"
   },
   "outputs": [
    {
     "data": {
      "text/plain": [
       "<lime.lime_text.LimeTextExplainer at 0x13364f7d0>"
      ]
     },
     "execution_count": 49,
     "metadata": {},
     "output_type": "execute_result"
    }
   ],
   "source": [
    "explainer = LimeTextExplainer(class_names=class_names)\n",
    "explainer"
   ]
  },
  {
   "cell_type": "markdown",
   "metadata": {
    "id": "vgyH9NS3C5wz"
   },
   "source": [
    "Check the DataFrame for classes that have been wrongly predicted."
   ]
  },
  {
   "cell_type": "code",
   "execution_count": 50,
   "metadata": {
    "colab": {
     "base_uri": "https://localhost:8080/",
     "height": 418
    },
    "id": "sQq8g3BxaRuR",
    "outputId": "9e96e5df-866b-4ea6-a3ca-2d79e41772c1"
   },
   "outputs": [
    {
     "data": {
      "text/html": [
       "<div>\n",
       "<style scoped>\n",
       "    .dataframe tbody tr th:only-of-type {\n",
       "        vertical-align: middle;\n",
       "    }\n",
       "\n",
       "    .dataframe tbody tr th {\n",
       "        vertical-align: top;\n",
       "    }\n",
       "\n",
       "    .dataframe thead th {\n",
       "        text-align: right;\n",
       "    }\n",
       "</style>\n",
       "<table border=\"1\" class=\"dataframe\">\n",
       "  <thead>\n",
       "    <tr style=\"text-align: right;\">\n",
       "      <th></th>\n",
       "      <th>index</th>\n",
       "      <th>text</th>\n",
       "      <th>actual</th>\n",
       "      <th>predicted</th>\n",
       "      <th>APT</th>\n",
       "      <th>Core</th>\n",
       "      <th>Debug</th>\n",
       "      <th>Doc</th>\n",
       "      <th>Text</th>\n",
       "      <th>UI</th>\n",
       "      <th>max_probability</th>\n",
       "    </tr>\n",
       "  </thead>\n",
       "  <tbody>\n",
       "    <tr>\n",
       "      <th>4</th>\n",
       "      <td>4</td>\n",
       "      <td>ClassCastException in CompletionEngine Build 2...</td>\n",
       "      <td>Core</td>\n",
       "      <td>UI</td>\n",
       "      <td>0.004841</td>\n",
       "      <td>0.163564</td>\n",
       "      <td>0.100797</td>\n",
       "      <td>0.003383</td>\n",
       "      <td>0.171710</td>\n",
       "      <td>0.555705</td>\n",
       "      <td>0.555705</td>\n",
       "    </tr>\n",
       "    <tr>\n",
       "      <th>9</th>\n",
       "      <td>9</td>\n",
       "      <td>generated source folder should be marked as de...</td>\n",
       "      <td>APT</td>\n",
       "      <td>UI</td>\n",
       "      <td>0.015638</td>\n",
       "      <td>0.434162</td>\n",
       "      <td>0.025722</td>\n",
       "      <td>0.001126</td>\n",
       "      <td>0.075706</td>\n",
       "      <td>0.447646</td>\n",
       "      <td>0.447646</td>\n",
       "    </tr>\n",
       "    <tr>\n",
       "      <th>24</th>\n",
       "      <td>24</td>\n",
       "      <td>Delete fails and Blocks the application I copi...</td>\n",
       "      <td>Text</td>\n",
       "      <td>Debug</td>\n",
       "      <td>0.014969</td>\n",
       "      <td>0.140004</td>\n",
       "      <td>0.559113</td>\n",
       "      <td>0.002081</td>\n",
       "      <td>0.152345</td>\n",
       "      <td>0.131488</td>\n",
       "      <td>0.559113</td>\n",
       "    </tr>\n",
       "    <tr>\n",
       "      <th>25</th>\n",
       "      <td>25</td>\n",
       "      <td>Syntax highlighting glitch Create a class call...</td>\n",
       "      <td>UI</td>\n",
       "      <td>Core</td>\n",
       "      <td>0.006960</td>\n",
       "      <td>0.508297</td>\n",
       "      <td>0.059812</td>\n",
       "      <td>0.004770</td>\n",
       "      <td>0.283489</td>\n",
       "      <td>0.136672</td>\n",
       "      <td>0.508297</td>\n",
       "    </tr>\n",
       "    <tr>\n",
       "      <th>28</th>\n",
       "      <td>28</td>\n",
       "      <td>HTML format hovering help Hi;; We are developi...</td>\n",
       "      <td>Text</td>\n",
       "      <td>UI</td>\n",
       "      <td>0.008915</td>\n",
       "      <td>0.085285</td>\n",
       "      <td>0.012169</td>\n",
       "      <td>0.052156</td>\n",
       "      <td>0.260439</td>\n",
       "      <td>0.581036</td>\n",
       "      <td>0.581036</td>\n",
       "    </tr>\n",
       "  </tbody>\n",
       "</table>\n",
       "</div>"
      ],
      "text/plain": [
       "    index                                               text actual predicted  \\\n",
       "4       4  ClassCastException in CompletionEngine Build 2...   Core        UI   \n",
       "9       9  generated source folder should be marked as de...    APT        UI   \n",
       "24     24  Delete fails and Blocks the application I copi...   Text     Debug   \n",
       "25     25  Syntax highlighting glitch Create a class call...     UI      Core   \n",
       "28     28  HTML format hovering help Hi;; We are developi...   Text        UI   \n",
       "\n",
       "         APT      Core     Debug       Doc      Text        UI  \\\n",
       "4   0.004841  0.163564  0.100797  0.003383  0.171710  0.555705   \n",
       "9   0.015638  0.434162  0.025722  0.001126  0.075706  0.447646   \n",
       "24  0.014969  0.140004  0.559113  0.002081  0.152345  0.131488   \n",
       "25  0.006960  0.508297  0.059812  0.004770  0.283489  0.136672   \n",
       "28  0.008915  0.085285  0.012169  0.052156  0.260439  0.581036   \n",
       "\n",
       "    max_probability  \n",
       "4          0.555705  \n",
       "9          0.447646  \n",
       "24         0.559113  \n",
       "25         0.508297  \n",
       "28         0.581036  "
      ]
     },
     "execution_count": 50,
     "metadata": {},
     "output_type": "execute_result"
    }
   ],
   "source": [
    "er[er[\"predicted\"] != er[\"actual\"]].head(5)"
   ]
  },
  {
   "cell_type": "markdown",
   "metadata": {
    "id": "n85pPhYEC5w0"
   },
   "source": [
    "Examine record 21."
   ]
  },
  {
   "cell_type": "code",
   "execution_count": 51,
   "metadata": {
    "colab": {
     "base_uri": "https://localhost:8080/"
    },
    "id": "DC6q-hx3aRuS",
    "outputId": "3e11f444-3ea2-4374-b1de-0b8230ecdd0f"
   },
   "outputs": [
    {
     "name": "stdout",
     "output_type": "stream",
     "text": [
      "Document id: 21\n",
      "Predicted class = UI\n",
      "True class: UI\n"
     ]
    }
   ],
   "source": [
    "id = 21\n",
    "print('Document id: %d' % id)\n",
    "print('Predicted class =', er.iloc[id][\"predicted\"])\n",
    "print('True class: %s' % er.iloc[id][\"actual\"])"
   ]
  },
  {
   "cell_type": "markdown",
   "metadata": {
    "id": "IqBVst-ZC5w0"
   },
   "source": [
    "### explainer.explain_instance API\n",
    "\n",
    "```\n",
    "explainer.explain_instance(\n",
    "    text_instance,\n",
    "    classifier_fn,\n",
    "    labels=(1,),\n",
    "    top_labels=None,\n",
    "    num_features=10,\n",
    "    num_samples=5000,\n",
    "    distance_metric='cosine',\n",
    "    model_regressor=None,\n",
    ")\n",
    "```\n",
    "\n",
    "Generates explanations for a prediction.\n",
    "\n",
    "First, we generate neighborhood data by randomly hiding features from\n",
    "the instance. We then learn\n",
    "locally weighted linear models on this neighborhood data to explain\n",
    "each of the classes in an interpretable way.\n",
    "\n",
    "Args:\n",
    "* text_instance: raw text string to be explained.\n",
    "* classifier_fn: classifier prediction probability function, which\n",
    "    takes a list of d strings and outputs a (d, k) numpy array with\n",
    "    prediction probabilities, where k is the number of classes.\n",
    "    For ScikitClassifiers , this is classifier.predict_proba.\n",
    "* labels: iterable with labels to be explained.\n",
    "* top_labels: if not None, ignore labels and produce explanations for\n",
    "    the K labels with highest prediction probabilities, where K is\n",
    "    this parameter.\n",
    "* num_features: maximum number of features present in explanation\n",
    "* num_samples: size of the neighborhood to learn the linear model\n",
    "distance_metric: the distance metric to use for sample weighting,\n",
    "    defaults to cosine similarity\n",
    "* model_regressor: sklearn regressor to use in explanation. Defaults\n",
    "to Ridge regression in LimeBase. Must have model_regressor.coef_\n",
    "and 'sample_weight' as a parameter to model_regressor.fit()\n",
    "\n",
    "Returns:\n",
    "* An Explanation object (see explanation.py) with the corresponding\n",
    "explanations."
   ]
  },
  {
   "cell_type": "markdown",
   "metadata": {
    "id": "2szhUU5dC5w1"
   },
   "source": [
    "---\n",
    "Use LIME to explain this model."
   ]
  },
  {
   "cell_type": "code",
   "execution_count": 52,
   "metadata": {
    "colab": {
     "base_uri": "https://localhost:8080/"
    },
    "id": "20ehy1bLaRuS",
    "outputId": "f546d9ed-b072-45a0-a929-6e91f0f7f852"
   },
   "outputs": [
    {
     "name": "stdout",
     "output_type": "stream",
     "text": [
      "Explanation for class Core\n",
      "('editor', -0.1056752892020739)\n",
      "('like', -0.09746976680961088)\n",
      "('Eclipse', 0.0726978734224568)\n",
      "('format', 0.0693053981467134)\n",
      "('function', -0.051175423671351174)\n",
      "('Thanks', -0.047965832914136274)\n",
      "('options', -0.027120038860922163)\n",
      "('doesnt', 0.017818107863383954)\n",
      "('provides', 0.01630337605753167)\n",
      "('really', 0.014405273638762086)\n",
      "\n",
      "Explanation for class UI\n",
      "('format', -0.22404128977665672)\n",
      "('Visual', 0.09377924398771598)\n",
      "('Eclipse', -0.080792181036473)\n",
      "('Hi', 0.08016463218349945)\n",
      "('Thanks', 0.07829372997775476)\n",
      "('work', 0.07391401217377778)\n",
      "('options', 0.0532530834659368)\n",
      "('code', -0.040918866957785315)\n",
      "('really', 0.04059577977495484)\n",
      "('provides', 0.030590253981222233)\n"
     ]
    }
   ],
   "source": [
    "exp = explainer.explain_instance(\n",
    "    text_instance=result.iloc[id][\"text\"], \n",
    "    classifier_fn=pipeline.predict_proba, \n",
    "    num_features=10, \n",
    "    labels=[1, 5]\n",
    ")\n",
    "\n",
    "print('Explanation for class %s' % class_names[1])\n",
    "print('\\n'.join(map(str, exp.as_list(label=1))))\n",
    "print()\n",
    "print('Explanation for class %s' % class_names[5])\n",
    "print('\\n'.join(map(str, exp.as_list(label=5))))"
   ]
  },
  {
   "cell_type": "markdown",
   "metadata": {
    "id": "Wp70yoEVC5w2"
   },
   "source": [
    "With LIME, you can extend the analysis to more classes and create a graphics representation of their specific words."
   ]
  },
  {
   "cell_type": "code",
   "execution_count": null,
   "metadata": {
    "colab": {
     "base_uri": "https://localhost:8080/"
    },
    "id": "tv-Ib1K8aRuT",
    "outputId": "384d0718-1126-4136-a437-1896e0550e34"
   },
   "outputs": [],
   "source": [
    "exp = explainer.explain_instance(\n",
    "    result.iloc[id][\"text\"], \n",
    "    pipeline.predict_proba, \n",
    "    num_features=6, \n",
    "    top_labels=3\n",
    ")\n",
    "\n",
    "print(exp.available_labels())"
   ]
  },
  {
   "cell_type": "code",
   "execution_count": null,
   "metadata": {
    "colab": {
     "base_uri": "https://localhost:8080/",
     "height": 413
    },
    "id": "Y-VwaGs5aRuT",
    "outputId": "f8633a3b-88a9-49bd-e5aa-0d90392ccc3c"
   },
   "outputs": [],
   "source": [
    "exp.show_in_notebook(text=False)"
   ]
  },
  {
   "cell_type": "markdown",
   "metadata": {
    "id": "GW_EXSwbjhkW"
   },
   "source": [
    "---\n",
    "LIME can also help in finding representative samples that help you interpret the model performance as a whole. The feature is called `submodular_pick`.\n",
    "\n",
    "`submodular_pick` saves a representative sample of explanation objects using SP-LIME, as well as saving all generated explanations.\n",
    "\n",
    "    class lime.submodular_pick.SubmodularPick(\n",
    "        explainer, \n",
    "        data, \n",
    "        predict_fn, \n",
    "        method='sample', \n",
    "        sample_size=1000, \n",
    "        num_exps_desired=5, \n",
    "        num_features=10, \n",
    "        **kwargs\n",
    "    )\n",
    "\n",
    "* https://github.com/marcotcr/lime/blob/master/lime/submodular_pick.py\n",
    "* https://lime-ml.readthedocs.io/en/latest/lime.html#lime-submodular-pick-module\n",
    "* https://github.com/marcotcr/lime/blob/master/doc/notebooks/Submodular%20Pick%20examples.ipynb"
   ]
  },
  {
   "cell_type": "code",
   "execution_count": null,
   "metadata": {
    "id": "6Lxy9791aRuU"
   },
   "outputs": [],
   "source": [
    "# %%time\n",
    "# print(\"Start\")\n",
    "\n",
    "# ## This take a really long time to run!\n",
    "\n",
    "# lsm = submodular_pick.SubmodularPick(\n",
    "#     explainer, \n",
    "#     er[\"text\"].values, \n",
    "#     pipeline.predict_proba, \n",
    "#     sample_size=100,\n",
    "#     num_features=20,\n",
    "#     num_exps_desired=5\n",
    "# )\n",
    "\n",
    "# print(\"Done\")"
   ]
  },
  {
   "cell_type": "markdown",
   "metadata": {
    "id": "2Z0AYlJZaRuV"
   },
   "source": [
    "---\n",
    "<a name='7.4'></a><a id='7.4'></a>\n",
    "# 7.4 Blueprint: Using ELI5 to Explain the Classification Results\n",
    "<a href=\"#top\">[back to top]</a>\n",
    "\n",
    "[ELI5](https://github.com/TeamHG-Memex/eli5) needs a model that has been trained with libsvm."
   ]
  },
  {
   "cell_type": "code",
   "execution_count": null,
   "metadata": {},
   "outputs": [],
   "source": [
    "# ELI5 needs a libsvm-based model.\n",
    "svm = SGDClassifier(\n",
    "    loss='hinge', \n",
    "    max_iter=1000, \n",
    "    tol=0.001, # 1e-3, \n",
    "    random_state=42\n",
    ")\n",
    "svm"
   ]
  },
  {
   "cell_type": "code",
   "execution_count": null,
   "metadata": {},
   "outputs": [],
   "source": [
    "svm.fit(X_train_tf, Y_train)\n",
    "print(\"Done fitting svm model\")"
   ]
  },
  {
   "cell_type": "code",
   "execution_count": null,
   "metadata": {
    "colab": {
     "base_uri": "https://localhost:8080/"
    },
    "id": "no1wzirBaRuV",
    "outputId": "a6cbba31-8fa4-4f33-bed5-dad494dece42"
   },
   "outputs": [],
   "source": [
    "Y_pred_svm = svm.predict(X_test_tf)\n",
    "\n",
    "print(classification_report(Y_test, Y_pred_svm))"
   ]
  },
  {
   "cell_type": "markdown",
   "metadata": {
    "id": "I_lCSTFPaRuW",
    "outputId": "bc4df741-7040-451d-c460-bef93953d4aa"
   },
   "source": [
    "### eli5.show_weights\n",
    "\n",
    "    eli5.show_weights(\n",
    "        svm, \n",
    "        top=10, \n",
    "        vec=tfidf, \n",
    "        target_names=class_names\n",
    "    )\n",
    "\n",
    "Return an explanation of estimator parameters (weights). Use this function\n",
    "to show classifier weights in IPython."
   ]
  },
  {
   "cell_type": "code",
   "execution_count": null,
   "metadata": {
    "colab": {
     "base_uri": "https://localhost:8080/",
     "height": 317
    },
    "id": "-pUXyMw0C5w5",
    "outputId": "6b5aa534-b382-4969-e6d7-cfdf1364a1cb"
   },
   "outputs": [],
   "source": [
    "# eli5.show_weights(\n",
    "#     svm, \n",
    "#     top=10, \n",
    "#     vec=tfidf, \n",
    "#     target_names=class_names\n",
    "# )"
   ]
  },
  {
   "cell_type": "markdown",
   "metadata": {
    "id": "xHhq_xi4C5w7"
   },
   "source": [
    "ELI5 can also explain individual observations:"
   ]
  },
  {
   "cell_type": "code",
   "execution_count": null,
   "metadata": {
    "colab": {
     "base_uri": "https://localhost:8080/",
     "height": 1000
    },
    "id": "N88iKs5TaRuW",
    "outputId": "f3067b91-fc65-4254-8c21-2cd7e2560d69"
   },
   "outputs": [],
   "source": [
    "# eli5.show_prediction(\n",
    "#     svm, \n",
    "#     X_test.iloc[21],  \n",
    "#     vec=tfidf, \n",
    "#     target_names=class_names\n",
    "# )"
   ]
  },
  {
   "cell_type": "markdown",
   "metadata": {
    "id": "cX1WtG6FC5w7"
   },
   "source": [
    "ELI5 is an easy-to-use software library for understanding and visualizing the decision logic of classifiers, but it also suffers from the shortcomings of the underlying LIME algorithm, such as explainability by example only. "
   ]
  },
  {
   "cell_type": "markdown",
   "metadata": {
    "id": "ArBwXo_aaRuW"
   },
   "source": [
    "---\n",
    "<a name='7.5'></a><a id='7.5'></a>\n",
    "# 7.5 Blueprint: Using Anchor to Explain the Classification Results\n",
    "<a href=\"#top\">[back to top]</a>\n",
    "\n",
    "Like LIME, Anchor is model agnostic and works for any black-box model. As a tool for explanations, it creates rules, the so-called anchors, which explain the behavior of the model. Reading these rules, you will not only be able to explain a pre‐ diction of the model but also predict in the same way as the model has learned to.\n",
    "\n",
    "Compared to LIME, Anchor has considerable advantages for better explaining the models with the rules. However, the software itself is quite new and still a work in progress. Not all examples were working for us, so we chose a selection of methods that help in interpreting the classification model."
   ]
  },
  {
   "cell_type": "markdown",
   "metadata": {
    "id": "DfXD0kpDaRuW"
   },
   "source": [
    "<a name='7.5.1'></a><a id='7.5.1'></a>\n",
    "## 7.5.1 Using the Distribution with Masked Words\n",
    "<a href=\"#top\">[back to top]</a>\n",
    "\n",
    "There are different ways Anchor can be used. We start with the so-called unknown distribution. Anchor will explain how a model makes a decision by replacing existing tokens that are supposed to be unimportant for the prediction with the word unknown.\n",
    "\n",
    "To create (semantic) variance in the text, Anchor uses spaCy’s word vectors and needs a spaCy model that includes these vectors, like `en_core_web_lg`."
   ]
  },
  {
   "cell_type": "markdown",
   "metadata": {
    "id": "N0v-GbvYw7Ol"
   },
   "source": [
    "An anchor explanation is a rule that sufficiently “anchors” the prediction locally – such that changes to the rest of the feature values of the instance do not matter. In other words, for instances on which the anchor holds, the prediction is (almost) always the same.\n",
    "\n",
    "https://github.com/marcotcr/anchor\n",
    "\n",
    "https://github.com/marcotcr/anchor/blob/master/notebooks/Anchor%20for%20text.ipynb\n",
    "\n"
   ]
  },
  {
   "cell_type": "code",
   "execution_count": null,
   "metadata": {
    "colab": {
     "base_uri": "https://localhost:8080/"
    },
    "id": "HW4SjKnxaRuY",
    "outputId": "00944cf1-2903-4d9e-f422-ba9d453591ed"
   },
   "outputs": [],
   "source": [
    "# Restart the random-number generator.\n",
    "np.random.seed(42)\n",
    "\n",
    "explainer_unk = anchor_text.AnchorText(\n",
    "    nlp, \n",
    "    class_names, \n",
    "    use_unk_distribution=True\n",
    ")\n",
    "\n",
    "explainer_unk"
   ]
  },
  {
   "cell_type": "markdown",
   "metadata": {
    "id": "UgjnkXvsC5w_"
   },
   "source": [
    "Check the predicted results and alternatives and compare them to the ground truth. \n",
    "\n",
    "`predicted_class_ids` contains the indices of the predicted classes with decreasing probability, so the element 0 is the prediction, and element 1 is its closest competitor."
   ]
  },
  {
   "cell_type": "code",
   "execution_count": null,
   "metadata": {
    "colab": {
     "base_uri": "https://localhost:8080/"
    },
    "id": "IGVMpDVhaRuZ",
    "outputId": "0c450f88-87cf-46ff-a913-01031cbcf120"
   },
   "outputs": [],
   "source": [
    "text = er.iloc[21][\"text\"]\n",
    "actual = er.iloc[21][\"actual\"]\n",
    "\n",
    "# We want the class with the highest probability and must invert the order\n",
    "predicted_class_ids = np.argsort(pipeline.predict_proba([text])[0])[::-1]\n",
    "pred = explainer_unk.class_names[predicted_class_ids[0]]\n",
    "\n",
    "alternative = explainer_unk.class_names[predicted_class_ids[1]]\n",
    "\n",
    "print(f'predicted {pred}, alternative {alternative}, actual {actual}')"
   ]
  },
  {
   "cell_type": "markdown",
   "metadata": {
    "id": "3d8GeJPMC5xB"
   },
   "source": [
    "---\n",
    "Next, we let the algorithm find the rules for the predictions. The parameters are the same as for LIME earlier.\n",
    "\n",
    "* https://github.com/marcotcr/anchor/blob/master/notebooks/Anchor%20for%20text.ipynb\n"
   ]
  },
  {
   "cell_type": "code",
   "execution_count": null,
   "metadata": {
    "colab": {
     "base_uri": "https://localhost:8080/",
     "height": 69
    },
    "id": "QWGlvy71p_zG",
    "outputId": "916ff130-6bbf-4950-d353-369282dc4264"
   },
   "outputs": [],
   "source": [
    "# Examine text\n",
    "text"
   ]
  },
  {
   "cell_type": "code",
   "execution_count": null,
   "metadata": {
    "colab": {
     "base_uri": "https://localhost:8080/"
    },
    "id": "x_6Up_DkaRuZ",
    "outputId": "7d106b88-e89b-4e53-e06c-5e80c23024c6"
   },
   "outputs": [],
   "source": [
    "# Explaining a prediction\n",
    "exp_unk = explainer_unk.explain_instance(\n",
    "    text=text, \n",
    "    classifier_fn=pipeline.predict, \n",
    "    threshold=0.95\n",
    ")\n",
    "\n",
    "exp_unk"
   ]
  },
  {
   "cell_type": "markdown",
   "metadata": {
    "id": "DUfKYsK1C5xC"
   },
   "source": [
    "Everything is now contained in the explainer, so we can query the explainer to find out about the inner workings of the model."
   ]
  },
  {
   "cell_type": "code",
   "execution_count": null,
   "metadata": {
    "colab": {
     "base_uri": "https://localhost:8080/"
    },
    "id": "MrKksGy0aRuZ",
    "outputId": "78c1d2a9-5313-4e0f-86ca-cf3319ed79cb"
   },
   "outputs": [],
   "source": [
    "print(f'Rule: {\" AND \".join(exp_unk.names())}')\n",
    "print(f'Precision: {exp_unk.precision()}')"
   ]
  },
  {
   "cell_type": "markdown",
   "metadata": {
    "id": "W_gXTeZCC5xC"
   },
   "source": [
    "---\n",
    "Find typical examples that the model would classify as Core:"
   ]
  },
  {
   "cell_type": "code",
   "execution_count": null,
   "metadata": {
    "colab": {
     "base_uri": "https://localhost:8080/"
    },
    "id": "qTC3-EjyaRuZ",
    "outputId": "28567613-a97f-48c0-d8b3-1d03c83c56d4"
   },
   "outputs": [],
   "source": [
    "print(f'Made-up examples where anchor rule matches and model predicts {pred}\\n')\n",
    "print('\\n'.join([x[0] for x in exp_unk.examples(only_same_prediction=True)]))"
   ]
  },
  {
   "cell_type": "markdown",
   "metadata": {
    "id": "bgdohzUDC5xC"
   },
   "source": [
    "---\n",
    "Ask for examples where the rule matches but the model predicts the wrong class.\n"
   ]
  },
  {
   "cell_type": "code",
   "execution_count": null,
   "metadata": {
    "colab": {
     "base_uri": "https://localhost:8080/"
    },
    "id": "alXB9FisaRua",
    "outputId": "fa84c0a9-356c-4834-d8c7-0e93fa50f287"
   },
   "outputs": [],
   "source": [
    "print(f'Made-up examples where anchor rule matches and model predicts {alternative}\\n')\n",
    "print('\\n'.join([x[0] for x in exp_unk.examples(partial_index=0, only_different_prediction=True)]))"
   ]
  },
  {
   "cell_type": "markdown",
   "metadata": {
    "id": "5nS83W_2aRua"
   },
   "source": [
    "<a name='7.5.2'></a><a id='7.5.2'></a>\n",
    "## 7.5.2 Working with Real Words\n",
    "<a href=\"#top\">[back to top]</a>\n",
    "\n",
    "**Note: This section is broken**\n",
    "\n",
    "By substituting `use_unk_distribution=False` in the original constructor of the explainer, we can tell Anchor to use real words (similar to the one it is substituting by using the word vectors in spaCy), and observe the behavior of the model."
   ]
  },
  {
   "cell_type": "markdown",
   "metadata": {
    "id": "OvzHtl6Qz42Z"
   },
   "source": [
    "    anchor_text.AnchorText(\n",
    "        nlp: spacy object\n",
    "        class_names: list of strings\n",
    "        use_unk_distribution: \n",
    "            If True, the perturbation distribution will just replace words randomly with mask_string.\n",
    "            If False, words will be replaced by similar words using word embeddings\n",
    "        mask_string: String used to mask tokens if use_unk_distribution is True.\n",
    "    )"
   ]
  },
  {
   "cell_type": "markdown",
   "metadata": {
    "id": "EbEepoFyC5xD"
   },
   "source": [
    "### Explaining a prediction without unknown"
   ]
  },
  {
   "cell_type": "code",
   "execution_count": null,
   "metadata": {
    "id": "IHagAdnsbH8F"
   },
   "outputs": [],
   "source": [
    "# %%time\n",
    "\n",
    "# np.random.seed(42)\n",
    "\n",
    "# # https://github.com/marcotcr/anchor/blob/master/anchor/anchor_text.py#L101\n",
    "# explainer_no_unk = anchor_text.AnchorText(\n",
    "#     nlp, \n",
    "#     class_names, \n",
    "#     use_unk_distribution=False\n",
    "# )"
   ]
  },
  {
   "cell_type": "code",
   "execution_count": null,
   "metadata": {
    "id": "JFFWGvt_-hH2"
   },
   "outputs": [],
   "source": [
    "# %%time\n",
    "# # This results in a std::bad_alloc error on COLAB\n",
    "\n",
    "# # https://github.com/marcotcr/anchor/blob/master/anchor/anchor_text.py#L168\n",
    "# exp_no_unk = explainer_no_unk.explain_instance(\n",
    "#     text, \n",
    "#     pipeline.predict, \n",
    "#     threshold=0.95,\n",
    "#     batch_size=5 # the higher, the more memory needed\n",
    "# )"
   ]
  },
  {
   "cell_type": "code",
   "execution_count": null,
   "metadata": {
    "id": "iB9HfD4y-jLm"
   },
   "outputs": [],
   "source": [
    "# %%time\n",
    "\n",
    "# print(f'Rule: {\" AND \".join(exp_no_unk.names())}')\n",
    "# print(f'Precision: {exp_no_unk.precision()}')\n",
    "\n",
    "# print('Anchor: %s' % (' AND '.join(exp_no_unk.names())))\n",
    "# print('Precision: %.2f' % exp_no_unk.precision())\n",
    "# print()\n",
    "# print('Examples where anchor applies and model predicts %s:' % pred)\n",
    "# print()\n",
    "# print('\\n'.join([x[0] for x in exp_no_unk.examples(only_same_prediction=True)]))\n",
    "# print()\n",
    "# print('Examples where anchor applies and model predicts %s:' % alternative)\n",
    "# print()\n",
    "# print('\\n'.join([x[0] for x in exp_no_unk.examples(partial_index=0, only_different_prediction=True)]))"
   ]
  },
  {
   "cell_type": "markdown",
   "metadata": {
    "id": "WcwzzrniaRuc"
   },
   "source": [
    "### Numerical for show in notebook\n"
   ]
  },
  {
   "cell_type": "code",
   "execution_count": null,
   "metadata": {
    "id": "evjkq6dtaRuc"
   },
   "outputs": [],
   "source": [
    "# def predict_numerical(text):\n",
    "#     res = pipeline.predict(text)\n",
    "#     n = np.array([str(class_names.index(r)) for r in res])\n",
    "#     return n"
   ]
  },
  {
   "cell_type": "markdown",
   "metadata": {
    "id": "KpPJto8tP_cG"
   },
   "source": [
    "By substituting `use_unk_distribution=False` in the original constructor of the explainer, we can tell Anchor to use real words (similar to the one it is substituting by using the word vectors from spaCy) and observe the behavior of the model:"
   ]
  },
  {
   "cell_type": "code",
   "execution_count": null,
   "metadata": {
    "id": "_aHyMQgoaRuc"
   },
   "outputs": [],
   "source": [
    "# %%time\n",
    "# print(\"Start\")\n",
    "\n",
    "# # This takes a long time to run!\n",
    "# explainer_num = anchor_text.AnchorText(\n",
    "#     nlp, \n",
    "#     list(range(6)), \n",
    "#     use_unk_distribution=False,\n",
    "# )"
   ]
  },
  {
   "cell_type": "code",
   "execution_count": null,
   "metadata": {
    "id": "IkEu91EgPo3l"
   },
   "outputs": [],
   "source": [
    "# %%time\n",
    "# #if not IS_COLAB:\n",
    "# exp_num = explainer_num.explain_instance(text, predict_numerical, threshold=0.95)\n",
    "\n",
    "# exp_num"
   ]
  },
  {
   "cell_type": "code",
   "execution_count": null,
   "metadata": {
    "id": "_hq-j-6ZaRud"
   },
   "outputs": [],
   "source": [
    "# %%time\n",
    "# # if not IS_COLAB:\n",
    "# predicted_class_ids = np.argsort(pipeline.predict_proba([text])[0])[::-1]\n",
    "# pred = explainer_num.class_names[predicted_class_ids[0]]\n",
    "# alternative = explainer_num.class_names[predicted_class_ids[1]]\n",
    "# print(f'predicted {pred}, alternative {alternative}')"
   ]
  },
  {
   "cell_type": "code",
   "execution_count": null,
   "metadata": {
    "id": "4NBLagE8aRud"
   },
   "outputs": [],
   "source": [
    "# %%time\n",
    "# exp_num.show_in_notebook()"
   ]
  },
  {
   "cell_type": "code",
   "execution_count": null,
   "metadata": {
    "id": "SFs2UhB9s2mN"
   },
   "outputs": [],
   "source": []
  }
 ],
 "metadata": {
  "celltoolbar": "Slideshow",
  "colab": {
   "provenance": []
  },
  "gpuClass": "standard",
  "kernelspec": {
   "display_name": "Python 3 (ipykernel)",
   "language": "python",
   "name": "python3"
  },
  "language_info": {
   "codemirror_mode": {
    "name": "ipython",
    "version": 3
   },
   "file_extension": ".py",
   "mimetype": "text/x-python",
   "name": "python",
   "nbconvert_exporter": "python",
   "pygments_lexer": "ipython3",
   "version": "3.11.5"
  },
  "toc": {
   "base_numbering": 1,
   "nav_menu": {},
   "number_sections": true,
   "sideBar": true,
   "skip_h1_title": false,
   "title_cell": "Table of Contents",
   "title_sidebar": "Contents",
   "toc_cell": false,
   "toc_position": {},
   "toc_section_display": true,
   "toc_window_display": false
  },
  "varInspector": {
   "cols": {
    "lenName": 16,
    "lenType": 16,
    "lenVar": 40
   },
   "kernels_config": {
    "python": {
     "delete_cmd_postfix": "",
     "delete_cmd_prefix": "del ",
     "library": "var_list.py",
     "varRefreshCmd": "print(var_dic_list())"
    },
    "r": {
     "delete_cmd_postfix": ") ",
     "delete_cmd_prefix": "rm(",
     "library": "var_list.r",
     "varRefreshCmd": "cat(var_dic_list()) "
    }
   },
   "types_to_exclude": [
    "module",
    "function",
    "builtin_function_or_method",
    "instance",
    "_Feature"
   ],
   "window_display": false
  }
 },
 "nbformat": 4,
 "nbformat_minor": 4
}
